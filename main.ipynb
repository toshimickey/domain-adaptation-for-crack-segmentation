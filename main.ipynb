{
 "cells": [
  {
   "cell_type": "code",
   "execution_count": null,
   "metadata": {},
   "outputs": [],
   "source": [
    "from train import train\n",
    "from inference import inference\n",
    "from save_mask import save_mask\n",
    "import csv, os\n",
    "from utils.module import write_to_csv"
   ]
  },
  {
   "cell_type": "code",
   "execution_count": null,
   "metadata": {},
   "outputs": [],
   "source": [
    "!nvidia-smi"
   ]
  },
  {
   "cell_type": "code",
   "execution_count": 4,
   "metadata": {},
   "outputs": [
    {
     "name": "stderr",
     "output_type": "stream",
     "text": [
      "100%|██████████| 33/33 [00:09<00:00,  3.43it/s]\n"
     ]
    },
    {
     "name": "stdout",
     "output_type": "stream",
     "text": [
      "1m 26s\n",
      "Early Stopping Counter = 3\n",
      "Epoch 176/300\n"
     ]
    },
    {
     "name": "stderr",
     "output_type": "stream",
     "text": [
      "100%|██████████| 207/207 [01:03<00:00,  3.23it/s]\n",
      "100%|██████████| 13/13 [00:12<00:00,  1.06it/s]\n",
      "100%|██████████| 33/33 [00:09<00:00,  3.35it/s]\n"
     ]
    },
    {
     "name": "stdout",
     "output_type": "stream",
     "text": [
      "1m 26s\n",
      "Early Stopping Counter = 4\n",
      "Epoch 177/300\n"
     ]
    },
    {
     "name": "stderr",
     "output_type": "stream",
     "text": [
      "100%|██████████| 207/207 [01:03<00:00,  3.24it/s]\n",
      "100%|██████████| 13/13 [00:12<00:00,  1.06it/s]\n",
      "100%|██████████| 33/33 [00:09<00:00,  3.39it/s]\n"
     ]
    },
    {
     "name": "stdout",
     "output_type": "stream",
     "text": [
      "1m 26s\n",
      "Early Stopping Counter = 5\n",
      "Epoch 178/300\n"
     ]
    },
    {
     "name": "stderr",
     "output_type": "stream",
     "text": [
      "100%|██████████| 207/207 [01:04<00:00,  3.23it/s]\n",
      "100%|██████████| 13/13 [00:12<00:00,  1.06it/s]\n",
      "100%|██████████| 33/33 [00:09<00:00,  3.38it/s]\n"
     ]
    },
    {
     "name": "stdout",
     "output_type": "stream",
     "text": [
      "1m 26s\n",
      "Early Stopping Counter = 6\n",
      "Epoch 179/300\n"
     ]
    },
    {
     "name": "stderr",
     "output_type": "stream",
     "text": [
      "100%|██████████| 207/207 [01:04<00:00,  3.23it/s]\n",
      "100%|██████████| 13/13 [00:12<00:00,  1.07it/s]\n",
      "100%|██████████| 33/33 [00:09<00:00,  3.39it/s]\n"
     ]
    },
    {
     "name": "stdout",
     "output_type": "stream",
     "text": [
      "1m 26s\n",
      "Consistency Loss declined to 0.051205165970783964\n",
      "Early Stopping Counter = 0\n",
      "Epoch 180/300\n"
     ]
    },
    {
     "name": "stderr",
     "output_type": "stream",
     "text": [
      "100%|██████████| 207/207 [01:03<00:00,  3.24it/s]\n",
      "100%|██████████| 13/13 [00:12<00:00,  1.07it/s]\n",
      "100%|██████████| 33/33 [00:09<00:00,  3.43it/s]\n"
     ]
    },
    {
     "name": "stdout",
     "output_type": "stream",
     "text": [
      "1m 26s\n",
      "Early Stopping Counter = 1\n",
      "Epoch 181/300\n"
     ]
    },
    {
     "name": "stderr",
     "output_type": "stream",
     "text": [
      "100%|██████████| 207/207 [01:03<00:00,  3.25it/s]\n",
      "100%|██████████| 13/13 [00:12<00:00,  1.06it/s]\n",
      "100%|██████████| 33/33 [00:09<00:00,  3.38it/s]\n"
     ]
    },
    {
     "name": "stdout",
     "output_type": "stream",
     "text": [
      "1m 26s\n",
      "Early Stopping Counter = 2\n",
      "Epoch 182/300\n"
     ]
    },
    {
     "name": "stderr",
     "output_type": "stream",
     "text": [
      "100%|██████████| 207/207 [01:03<00:00,  3.24it/s]\n",
      "100%|██████████| 13/13 [00:12<00:00,  1.05it/s]\n",
      "100%|██████████| 33/33 [00:09<00:00,  3.33it/s]\n"
     ]
    },
    {
     "name": "stdout",
     "output_type": "stream",
     "text": [
      "1m 26s\n",
      "Early Stopping Counter = 3\n",
      "Epoch 183/300\n"
     ]
    },
    {
     "name": "stderr",
     "output_type": "stream",
     "text": [
      "100%|██████████| 207/207 [01:04<00:00,  3.23it/s]\n",
      "100%|██████████| 13/13 [00:12<00:00,  1.07it/s]\n",
      "100%|██████████| 33/33 [00:09<00:00,  3.41it/s]\n"
     ]
    },
    {
     "name": "stdout",
     "output_type": "stream",
     "text": [
      "1m 26s\n",
      "Early Stopping Counter = 4\n",
      "Epoch 184/300\n"
     ]
    },
    {
     "name": "stderr",
     "output_type": "stream",
     "text": [
      "100%|██████████| 207/207 [01:04<00:00,  3.23it/s]\n",
      "100%|██████████| 13/13 [00:12<00:00,  1.07it/s]\n",
      "100%|██████████| 33/33 [00:09<00:00,  3.50it/s]\n"
     ]
    },
    {
     "name": "stdout",
     "output_type": "stream",
     "text": [
      "1m 26s\n",
      "Early Stopping Counter = 5\n",
      "Epoch 185/300\n"
     ]
    },
    {
     "name": "stderr",
     "output_type": "stream",
     "text": [
      "100%|██████████| 207/207 [01:04<00:00,  3.23it/s]\n",
      "100%|██████████| 13/13 [00:12<00:00,  1.07it/s]\n",
      "100%|██████████| 33/33 [00:09<00:00,  3.38it/s]\n"
     ]
    },
    {
     "name": "stdout",
     "output_type": "stream",
     "text": [
      "1m 26s\n",
      "Early Stopping Counter = 6\n",
      "Epoch 186/300\n"
     ]
    },
    {
     "name": "stderr",
     "output_type": "stream",
     "text": [
      "100%|██████████| 207/207 [01:04<00:00,  3.23it/s]\n",
      "100%|██████████| 13/13 [00:12<00:00,  1.06it/s]\n",
      "100%|██████████| 33/33 [00:09<00:00,  3.41it/s]\n"
     ]
    },
    {
     "name": "stdout",
     "output_type": "stream",
     "text": [
      "1m 26s\n",
      "Early Stopping Counter = 7\n",
      "Epoch 187/300\n"
     ]
    },
    {
     "name": "stderr",
     "output_type": "stream",
     "text": [
      "100%|██████████| 207/207 [01:04<00:00,  3.23it/s]\n",
      "100%|██████████| 13/13 [00:12<00:00,  1.07it/s]\n",
      "100%|██████████| 33/33 [00:09<00:00,  3.39it/s]\n"
     ]
    },
    {
     "name": "stdout",
     "output_type": "stream",
     "text": [
      "1m 26s\n",
      "Early Stopping Counter = 8\n",
      "Epoch 188/300\n"
     ]
    },
    {
     "name": "stderr",
     "output_type": "stream",
     "text": [
      "100%|██████████| 207/207 [01:04<00:00,  3.23it/s]\n",
      "100%|██████████| 13/13 [00:12<00:00,  1.07it/s]\n",
      "100%|██████████| 33/33 [00:09<00:00,  3.34it/s]\n"
     ]
    },
    {
     "name": "stdout",
     "output_type": "stream",
     "text": [
      "1m 26s\n",
      "Early Stopping Counter = 9\n",
      "Epoch 189/300\n"
     ]
    },
    {
     "name": "stderr",
     "output_type": "stream",
     "text": [
      "100%|██████████| 207/207 [01:04<00:00,  3.23it/s]\n",
      "100%|██████████| 13/13 [00:12<00:00,  1.07it/s]\n",
      "100%|██████████| 33/33 [00:09<00:00,  3.39it/s]\n"
     ]
    },
    {
     "name": "stdout",
     "output_type": "stream",
     "text": [
      "1m 26s\n",
      "Consistency Loss declined to 0.04989213582414847\n",
      "Early Stopping Counter = 0\n",
      "Epoch 190/300\n"
     ]
    },
    {
     "name": "stderr",
     "output_type": "stream",
     "text": [
      "100%|██████████| 207/207 [01:03<00:00,  3.24it/s]\n",
      "100%|██████████| 13/13 [00:12<00:00,  1.07it/s]\n",
      "100%|██████████| 33/33 [00:09<00:00,  3.37it/s]\n"
     ]
    },
    {
     "name": "stdout",
     "output_type": "stream",
     "text": [
      "1m 26s\n",
      "Early Stopping Counter = 1\n",
      "Epoch 191/300\n"
     ]
    },
    {
     "name": "stderr",
     "output_type": "stream",
     "text": [
      "100%|██████████| 207/207 [01:03<00:00,  3.25it/s]\n",
      "100%|██████████| 13/13 [00:12<00:00,  1.07it/s]\n",
      "100%|██████████| 33/33 [00:09<00:00,  3.33it/s]\n"
     ]
    },
    {
     "name": "stdout",
     "output_type": "stream",
     "text": [
      "1m 26s\n",
      "Early Stopping Counter = 2\n",
      "Epoch 192/300\n"
     ]
    },
    {
     "name": "stderr",
     "output_type": "stream",
     "text": [
      "100%|██████████| 207/207 [01:03<00:00,  3.24it/s]\n",
      "100%|██████████| 13/13 [00:12<00:00,  1.05it/s]\n",
      "100%|██████████| 33/33 [00:09<00:00,  3.40it/s]\n"
     ]
    },
    {
     "name": "stdout",
     "output_type": "stream",
     "text": [
      "1m 26s\n",
      "Early Stopping Counter = 3\n",
      "Epoch 193/300\n"
     ]
    },
    {
     "name": "stderr",
     "output_type": "stream",
     "text": [
      "100%|██████████| 207/207 [01:04<00:00,  3.23it/s]\n",
      "100%|██████████| 13/13 [00:12<00:00,  1.06it/s]\n",
      "100%|██████████| 33/33 [00:09<00:00,  3.38it/s]\n"
     ]
    },
    {
     "name": "stdout",
     "output_type": "stream",
     "text": [
      "1m 26s\n",
      "Early Stopping Counter = 4\n",
      "Epoch 194/300\n"
     ]
    },
    {
     "name": "stderr",
     "output_type": "stream",
     "text": [
      "100%|██████████| 207/207 [01:04<00:00,  3.23it/s]\n",
      "100%|██████████| 13/13 [00:12<00:00,  1.06it/s]\n",
      "100%|██████████| 33/33 [00:09<00:00,  3.41it/s]\n"
     ]
    },
    {
     "name": "stdout",
     "output_type": "stream",
     "text": [
      "1m 26s\n",
      "Early Stopping Counter = 5\n",
      "Epoch 195/300\n"
     ]
    },
    {
     "name": "stderr",
     "output_type": "stream",
     "text": [
      "100%|██████████| 207/207 [01:04<00:00,  3.23it/s]\n",
      "100%|██████████| 13/13 [00:12<00:00,  1.06it/s]\n",
      "100%|██████████| 33/33 [00:09<00:00,  3.40it/s]\n"
     ]
    },
    {
     "name": "stdout",
     "output_type": "stream",
     "text": [
      "1m 26s\n",
      "Early Stopping Counter = 6\n",
      "Epoch 196/300\n"
     ]
    },
    {
     "name": "stderr",
     "output_type": "stream",
     "text": [
      "100%|██████████| 207/207 [01:04<00:00,  3.23it/s]\n",
      "100%|██████████| 13/13 [00:12<00:00,  1.07it/s]\n",
      "100%|██████████| 33/33 [00:09<00:00,  3.41it/s]\n"
     ]
    },
    {
     "name": "stdout",
     "output_type": "stream",
     "text": [
      "1m 26s\n",
      "Consistency Loss declined to 0.04822733683081774\n",
      "Early Stopping Counter = 0\n",
      "Epoch 197/300\n"
     ]
    },
    {
     "name": "stderr",
     "output_type": "stream",
     "text": [
      "100%|██████████| 207/207 [01:03<00:00,  3.24it/s]\n",
      "100%|██████████| 13/13 [00:12<00:00,  1.07it/s]\n",
      "100%|██████████| 33/33 [00:09<00:00,  3.41it/s]\n"
     ]
    },
    {
     "name": "stdout",
     "output_type": "stream",
     "text": [
      "1m 26s\n",
      "Early Stopping Counter = 1\n",
      "Epoch 198/300\n"
     ]
    },
    {
     "name": "stderr",
     "output_type": "stream",
     "text": [
      "100%|██████████| 207/207 [01:03<00:00,  3.24it/s]\n",
      "100%|██████████| 13/13 [00:12<00:00,  1.07it/s]\n",
      "100%|██████████| 33/33 [00:09<00:00,  3.41it/s]\n"
     ]
    },
    {
     "name": "stdout",
     "output_type": "stream",
     "text": [
      "1m 26s\n",
      "Early Stopping Counter = 2\n",
      "Epoch 199/300\n"
     ]
    },
    {
     "name": "stderr",
     "output_type": "stream",
     "text": [
      "100%|██████████| 207/207 [01:03<00:00,  3.24it/s]\n",
      "100%|██████████| 13/13 [00:12<00:00,  1.05it/s]\n",
      "100%|██████████| 33/33 [00:09<00:00,  3.38it/s]\n"
     ]
    },
    {
     "name": "stdout",
     "output_type": "stream",
     "text": [
      "1m 26s\n",
      "Early Stopping Counter = 3\n",
      "Epoch 200/300\n"
     ]
    },
    {
     "name": "stderr",
     "output_type": "stream",
     "text": [
      "100%|██████████| 207/207 [01:04<00:00,  3.23it/s]\n",
      "100%|██████████| 13/13 [00:12<00:00,  1.06it/s]\n",
      "100%|██████████| 33/33 [00:09<00:00,  3.41it/s]\n"
     ]
    },
    {
     "name": "stdout",
     "output_type": "stream",
     "text": [
      "1m 26s\n",
      "Early Stopping Counter = 4\n",
      "Epoch 201/300\n"
     ]
    },
    {
     "name": "stderr",
     "output_type": "stream",
     "text": [
      "100%|██████████| 207/207 [01:04<00:00,  3.23it/s]\n",
      "100%|██████████| 13/13 [00:12<00:00,  1.06it/s]\n",
      "100%|██████████| 33/33 [00:09<00:00,  3.41it/s]\n"
     ]
    },
    {
     "name": "stdout",
     "output_type": "stream",
     "text": [
      "1m 26s\n",
      "Early Stopping Counter = 5\n",
      "Epoch 202/300\n"
     ]
    },
    {
     "name": "stderr",
     "output_type": "stream",
     "text": [
      "100%|██████████| 207/207 [01:04<00:00,  3.23it/s]\n",
      "100%|██████████| 13/13 [00:12<00:00,  1.07it/s]\n",
      "100%|██████████| 33/33 [00:09<00:00,  3.39it/s]\n"
     ]
    },
    {
     "name": "stdout",
     "output_type": "stream",
     "text": [
      "1m 26s\n",
      "Early Stopping Counter = 6\n",
      "Epoch 203/300\n"
     ]
    },
    {
     "name": "stderr",
     "output_type": "stream",
     "text": [
      "100%|██████████| 207/207 [01:04<00:00,  3.23it/s]\n",
      "100%|██████████| 13/13 [00:12<00:00,  1.06it/s]\n",
      "100%|██████████| 33/33 [00:09<00:00,  3.39it/s]\n"
     ]
    },
    {
     "name": "stdout",
     "output_type": "stream",
     "text": [
      "1m 26s\n",
      "Early Stopping Counter = 7\n",
      "Epoch 204/300\n"
     ]
    },
    {
     "name": "stderr",
     "output_type": "stream",
     "text": [
      "100%|██████████| 207/207 [01:04<00:00,  3.23it/s]\n",
      "100%|██████████| 13/13 [00:12<00:00,  1.07it/s]\n",
      "100%|██████████| 33/33 [00:09<00:00,  3.42it/s]\n"
     ]
    },
    {
     "name": "stdout",
     "output_type": "stream",
     "text": [
      "1m 26s\n",
      "Early Stopping Counter = 8\n",
      "Epoch 205/300\n"
     ]
    },
    {
     "name": "stderr",
     "output_type": "stream",
     "text": [
      "100%|██████████| 207/207 [01:04<00:00,  3.23it/s]\n",
      "100%|██████████| 13/13 [00:12<00:00,  1.06it/s]\n",
      "100%|██████████| 33/33 [00:09<00:00,  3.37it/s]\n"
     ]
    },
    {
     "name": "stdout",
     "output_type": "stream",
     "text": [
      "1m 26s\n",
      "Early Stopping Counter = 9\n",
      "Epoch 206/300\n"
     ]
    },
    {
     "name": "stderr",
     "output_type": "stream",
     "text": [
      "100%|██████████| 207/207 [01:04<00:00,  3.22it/s]\n",
      "100%|██████████| 13/13 [00:12<00:00,  1.06it/s]\n",
      "100%|██████████| 33/33 [00:09<00:00,  3.39it/s]\n"
     ]
    },
    {
     "name": "stdout",
     "output_type": "stream",
     "text": [
      "1m 26s\n",
      "Consistency Loss declined to 0.048022305163053364\n",
      "Early Stopping Counter = 0\n",
      "Epoch 207/300\n"
     ]
    },
    {
     "name": "stderr",
     "output_type": "stream",
     "text": [
      "100%|██████████| 207/207 [01:04<00:00,  3.23it/s]\n",
      "100%|██████████| 13/13 [00:12<00:00,  1.06it/s]\n",
      "100%|██████████| 33/33 [00:09<00:00,  3.37it/s]\n"
     ]
    },
    {
     "name": "stdout",
     "output_type": "stream",
     "text": [
      "1m 26s\n",
      "Early Stopping Counter = 1\n",
      "Epoch 208/300\n"
     ]
    },
    {
     "name": "stderr",
     "output_type": "stream",
     "text": [
      "100%|██████████| 207/207 [01:03<00:00,  3.24it/s]\n",
      "100%|██████████| 13/13 [00:12<00:00,  1.06it/s]\n",
      "100%|██████████| 33/33 [00:09<00:00,  3.38it/s]\n"
     ]
    },
    {
     "name": "stdout",
     "output_type": "stream",
     "text": [
      "1m 26s\n",
      "Early Stopping Counter = 2\n",
      "Epoch 209/300\n"
     ]
    },
    {
     "name": "stderr",
     "output_type": "stream",
     "text": [
      "100%|██████████| 207/207 [01:04<00:00,  3.23it/s]\n",
      "100%|██████████| 13/13 [00:12<00:00,  1.05it/s]\n",
      "100%|██████████| 33/33 [00:09<00:00,  3.40it/s]\n"
     ]
    },
    {
     "name": "stdout",
     "output_type": "stream",
     "text": [
      "1m 26s\n",
      "Early Stopping Counter = 3\n",
      "Epoch 210/300\n"
     ]
    },
    {
     "name": "stderr",
     "output_type": "stream",
     "text": [
      "100%|██████████| 207/207 [01:04<00:00,  3.21it/s]\n",
      "100%|██████████| 13/13 [00:12<00:00,  1.06it/s]\n",
      "100%|██████████| 33/33 [00:09<00:00,  3.42it/s]\n"
     ]
    },
    {
     "name": "stdout",
     "output_type": "stream",
     "text": [
      "1m 26s\n",
      "Early Stopping Counter = 4\n",
      "Epoch 211/300\n"
     ]
    },
    {
     "name": "stderr",
     "output_type": "stream",
     "text": [
      "100%|██████████| 207/207 [01:04<00:00,  3.23it/s]\n",
      "100%|██████████| 13/13 [00:12<00:00,  1.06it/s]\n",
      "100%|██████████| 33/33 [00:09<00:00,  3.38it/s]\n"
     ]
    },
    {
     "name": "stdout",
     "output_type": "stream",
     "text": [
      "1m 26s\n",
      "Consistency Loss declined to 0.047280764063963525\n",
      "Early Stopping Counter = 0\n",
      "Epoch 212/300\n"
     ]
    },
    {
     "name": "stderr",
     "output_type": "stream",
     "text": [
      "100%|██████████| 207/207 [01:03<00:00,  3.24it/s]\n",
      "100%|██████████| 13/13 [00:12<00:00,  1.06it/s]\n",
      "100%|██████████| 33/33 [00:10<00:00,  3.08it/s]\n"
     ]
    },
    {
     "name": "stdout",
     "output_type": "stream",
     "text": [
      "1m 27s\n",
      "Early Stopping Counter = 1\n",
      "Epoch 213/300\n"
     ]
    },
    {
     "name": "stderr",
     "output_type": "stream",
     "text": [
      "100%|██████████| 207/207 [01:03<00:00,  3.24it/s]\n",
      "100%|██████████| 13/13 [00:12<00:00,  1.06it/s]\n",
      "100%|██████████| 33/33 [00:09<00:00,  3.39it/s]\n"
     ]
    },
    {
     "name": "stdout",
     "output_type": "stream",
     "text": [
      "1m 26s\n",
      "Early Stopping Counter = 2\n",
      "Epoch 214/300\n"
     ]
    },
    {
     "name": "stderr",
     "output_type": "stream",
     "text": [
      "100%|██████████| 207/207 [01:04<00:00,  3.23it/s]\n",
      "100%|██████████| 13/13 [00:12<00:00,  1.05it/s]\n",
      "100%|██████████| 33/33 [00:09<00:00,  3.34it/s]\n"
     ]
    },
    {
     "name": "stdout",
     "output_type": "stream",
     "text": [
      "1m 26s\n",
      "Early Stopping Counter = 3\n",
      "Epoch 215/300\n"
     ]
    },
    {
     "name": "stderr",
     "output_type": "stream",
     "text": [
      "100%|██████████| 207/207 [01:04<00:00,  3.23it/s]\n",
      "100%|██████████| 13/13 [00:12<00:00,  1.07it/s]\n",
      "100%|██████████| 33/33 [00:09<00:00,  3.40it/s]\n"
     ]
    },
    {
     "name": "stdout",
     "output_type": "stream",
     "text": [
      "1m 26s\n",
      "Early Stopping Counter = 4\n",
      "Epoch 216/300\n"
     ]
    },
    {
     "name": "stderr",
     "output_type": "stream",
     "text": [
      "100%|██████████| 207/207 [01:04<00:00,  3.22it/s]\n",
      "100%|██████████| 13/13 [00:12<00:00,  1.06it/s]\n",
      "100%|██████████| 33/33 [00:09<00:00,  3.44it/s]\n"
     ]
    },
    {
     "name": "stdout",
     "output_type": "stream",
     "text": [
      "1m 26s\n",
      "Early Stopping Counter = 5\n",
      "Epoch 217/300\n"
     ]
    },
    {
     "name": "stderr",
     "output_type": "stream",
     "text": [
      "100%|██████████| 207/207 [01:04<00:00,  3.23it/s]\n",
      "100%|██████████| 13/13 [00:12<00:00,  1.07it/s]\n",
      "100%|██████████| 33/33 [00:09<00:00,  3.40it/s]\n"
     ]
    },
    {
     "name": "stdout",
     "output_type": "stream",
     "text": [
      "1m 26s\n",
      "Early Stopping Counter = 6\n",
      "Epoch 218/300\n"
     ]
    },
    {
     "name": "stderr",
     "output_type": "stream",
     "text": [
      "100%|██████████| 207/207 [01:04<00:00,  3.23it/s]\n",
      "100%|██████████| 13/13 [00:12<00:00,  1.07it/s]\n",
      "100%|██████████| 33/33 [00:09<00:00,  3.38it/s]\n"
     ]
    },
    {
     "name": "stdout",
     "output_type": "stream",
     "text": [
      "1m 26s\n",
      "Consistency Loss declined to 0.047117964579508856\n",
      "Early Stopping Counter = 0\n",
      "Epoch 219/300\n"
     ]
    },
    {
     "name": "stderr",
     "output_type": "stream",
     "text": [
      "100%|██████████| 207/207 [01:03<00:00,  3.24it/s]\n",
      "100%|██████████| 13/13 [00:12<00:00,  1.06it/s]\n",
      "100%|██████████| 33/33 [00:09<00:00,  3.37it/s]\n"
     ]
    },
    {
     "name": "stdout",
     "output_type": "stream",
     "text": [
      "1m 26s\n",
      "Early Stopping Counter = 1\n",
      "Epoch 220/300\n"
     ]
    },
    {
     "name": "stderr",
     "output_type": "stream",
     "text": [
      "100%|██████████| 207/207 [01:03<00:00,  3.24it/s]\n",
      "100%|██████████| 13/13 [00:12<00:00,  1.06it/s]\n",
      "100%|██████████| 33/33 [00:09<00:00,  3.42it/s]\n"
     ]
    },
    {
     "name": "stdout",
     "output_type": "stream",
     "text": [
      "1m 26s\n",
      "Early Stopping Counter = 2\n",
      "Epoch 221/300\n"
     ]
    },
    {
     "name": "stderr",
     "output_type": "stream",
     "text": [
      "100%|██████████| 207/207 [01:03<00:00,  3.24it/s]\n",
      "100%|██████████| 13/13 [00:12<00:00,  1.05it/s]\n",
      "100%|██████████| 33/33 [00:09<00:00,  3.41it/s]\n"
     ]
    },
    {
     "name": "stdout",
     "output_type": "stream",
     "text": [
      "1m 26s\n",
      "Early Stopping Counter = 3\n",
      "Epoch 222/300\n"
     ]
    },
    {
     "name": "stderr",
     "output_type": "stream",
     "text": [
      "100%|██████████| 207/207 [01:04<00:00,  3.23it/s]\n",
      "100%|██████████| 13/13 [00:12<00:00,  1.06it/s]\n",
      "100%|██████████| 33/33 [00:09<00:00,  3.45it/s]\n"
     ]
    },
    {
     "name": "stdout",
     "output_type": "stream",
     "text": [
      "1m 26s\n",
      "Early Stopping Counter = 4\n",
      "Epoch 223/300\n"
     ]
    },
    {
     "name": "stderr",
     "output_type": "stream",
     "text": [
      "100%|██████████| 207/207 [01:04<00:00,  3.23it/s]\n",
      "100%|██████████| 13/13 [00:12<00:00,  1.06it/s]\n",
      "100%|██████████| 33/33 [00:09<00:00,  3.43it/s]\n"
     ]
    },
    {
     "name": "stdout",
     "output_type": "stream",
     "text": [
      "1m 26s\n",
      "Early Stopping Counter = 5\n",
      "Epoch 224/300\n"
     ]
    },
    {
     "name": "stderr",
     "output_type": "stream",
     "text": [
      "100%|██████████| 207/207 [01:04<00:00,  3.23it/s]\n",
      "100%|██████████| 13/13 [00:12<00:00,  1.07it/s]\n",
      "100%|██████████| 33/33 [00:09<00:00,  3.39it/s]\n"
     ]
    },
    {
     "name": "stdout",
     "output_type": "stream",
     "text": [
      "1m 26s\n",
      "Early Stopping Counter = 6\n",
      "Epoch 225/300\n"
     ]
    },
    {
     "name": "stderr",
     "output_type": "stream",
     "text": [
      "100%|██████████| 207/207 [01:04<00:00,  3.23it/s]\n",
      "100%|██████████| 13/13 [00:12<00:00,  1.07it/s]\n",
      "100%|██████████| 33/33 [00:09<00:00,  3.37it/s]\n"
     ]
    },
    {
     "name": "stdout",
     "output_type": "stream",
     "text": [
      "1m 26s\n",
      "Early Stopping Counter = 7\n",
      "Epoch 226/300\n"
     ]
    },
    {
     "name": "stderr",
     "output_type": "stream",
     "text": [
      "100%|██████████| 207/207 [01:04<00:00,  3.20it/s]\n",
      "100%|██████████| 13/13 [00:12<00:00,  1.06it/s]\n",
      "100%|██████████| 33/33 [00:09<00:00,  3.40it/s]\n"
     ]
    },
    {
     "name": "stdout",
     "output_type": "stream",
     "text": [
      "1m 27s\n",
      "Early Stopping Counter = 8\n",
      "Epoch 227/300\n"
     ]
    },
    {
     "name": "stderr",
     "output_type": "stream",
     "text": [
      "100%|██████████| 207/207 [01:04<00:00,  3.22it/s]\n",
      "100%|██████████| 13/13 [00:12<00:00,  1.06it/s]\n",
      "100%|██████████| 33/33 [00:09<00:00,  3.36it/s]\n"
     ]
    },
    {
     "name": "stdout",
     "output_type": "stream",
     "text": [
      "1m 26s\n",
      "Early Stopping Counter = 9\n",
      "Epoch 228/300\n"
     ]
    },
    {
     "name": "stderr",
     "output_type": "stream",
     "text": [
      "100%|██████████| 207/207 [01:04<00:00,  3.22it/s]\n",
      "100%|██████████| 13/13 [00:12<00:00,  1.07it/s]\n",
      "100%|██████████| 33/33 [00:09<00:00,  3.46it/s]\n"
     ]
    },
    {
     "name": "stdout",
     "output_type": "stream",
     "text": [
      "1m 26s\n",
      "Early Stopping Counter = 10\n",
      "Epoch 229/300\n"
     ]
    },
    {
     "name": "stderr",
     "output_type": "stream",
     "text": [
      "100%|██████████| 207/207 [01:04<00:00,  3.23it/s]\n",
      "100%|██████████| 13/13 [00:12<00:00,  1.06it/s]\n",
      "100%|██████████| 33/33 [00:09<00:00,  3.40it/s]\n"
     ]
    },
    {
     "name": "stdout",
     "output_type": "stream",
     "text": [
      "1m 26s\n",
      "Consistency Loss declined to 0.04697996206008471\n",
      "Early Stopping Counter = 0\n",
      "Epoch 230/300\n"
     ]
    },
    {
     "name": "stderr",
     "output_type": "stream",
     "text": [
      "100%|██████████| 207/207 [01:03<00:00,  3.25it/s]\n",
      "100%|██████████| 13/13 [00:12<00:00,  1.07it/s]\n",
      "100%|██████████| 33/33 [00:10<00:00,  3.24it/s]\n"
     ]
    },
    {
     "name": "stdout",
     "output_type": "stream",
     "text": [
      "1m 26s\n",
      "Early Stopping Counter = 1\n",
      "Epoch 231/300\n"
     ]
    },
    {
     "name": "stderr",
     "output_type": "stream",
     "text": [
      "100%|██████████| 207/207 [01:03<00:00,  3.25it/s]\n",
      "100%|██████████| 13/13 [00:12<00:00,  1.07it/s]\n",
      "100%|██████████| 33/33 [00:09<00:00,  3.46it/s]\n"
     ]
    },
    {
     "name": "stdout",
     "output_type": "stream",
     "text": [
      "1m 25s\n",
      "Consistency Loss declined to 0.046785580137601264\n",
      "Early Stopping Counter = 0\n",
      "Epoch 232/300\n"
     ]
    },
    {
     "name": "stderr",
     "output_type": "stream",
     "text": [
      "100%|██████████| 207/207 [01:03<00:00,  3.24it/s]\n",
      "100%|██████████| 13/13 [00:12<00:00,  1.05it/s]\n",
      "100%|██████████| 33/33 [00:09<00:00,  3.37it/s]\n"
     ]
    },
    {
     "name": "stdout",
     "output_type": "stream",
     "text": [
      "1m 26s\n",
      "Early Stopping Counter = 1\n",
      "Epoch 233/300\n"
     ]
    },
    {
     "name": "stderr",
     "output_type": "stream",
     "text": [
      "100%|██████████| 207/207 [01:03<00:00,  3.25it/s]\n",
      "100%|██████████| 13/13 [00:12<00:00,  1.05it/s]\n",
      "100%|██████████| 33/33 [00:09<00:00,  3.42it/s]\n"
     ]
    },
    {
     "name": "stdout",
     "output_type": "stream",
     "text": [
      "1m 26s\n",
      "Early Stopping Counter = 2\n",
      "Epoch 234/300\n"
     ]
    },
    {
     "name": "stderr",
     "output_type": "stream",
     "text": [
      "100%|██████████| 207/207 [01:03<00:00,  3.24it/s]\n",
      "100%|██████████| 13/13 [00:12<00:00,  1.07it/s]\n",
      "100%|██████████| 33/33 [00:09<00:00,  3.36it/s]\n"
     ]
    },
    {
     "name": "stdout",
     "output_type": "stream",
     "text": [
      "1m 26s\n",
      "Early Stopping Counter = 3\n",
      "Epoch 235/300\n"
     ]
    },
    {
     "name": "stderr",
     "output_type": "stream",
     "text": [
      "100%|██████████| 207/207 [01:04<00:00,  3.23it/s]\n",
      "100%|██████████| 13/13 [00:12<00:00,  1.05it/s]\n",
      "100%|██████████| 33/33 [00:09<00:00,  3.38it/s]\n"
     ]
    },
    {
     "name": "stdout",
     "output_type": "stream",
     "text": [
      "1m 26s\n",
      "Consistency Loss declined to 0.046182230688058414\n",
      "Early Stopping Counter = 0\n",
      "Epoch 236/300\n"
     ]
    },
    {
     "name": "stderr",
     "output_type": "stream",
     "text": [
      "100%|██████████| 207/207 [01:03<00:00,  3.25it/s]\n",
      "100%|██████████| 13/13 [00:12<00:00,  1.05it/s]\n",
      "100%|██████████| 33/33 [00:09<00:00,  3.42it/s]\n"
     ]
    },
    {
     "name": "stdout",
     "output_type": "stream",
     "text": [
      "1m 26s\n",
      "Consistency Loss declined to 0.045481025599516355\n",
      "Early Stopping Counter = 0\n",
      "Epoch 237/300\n"
     ]
    },
    {
     "name": "stderr",
     "output_type": "stream",
     "text": [
      "100%|██████████| 207/207 [01:04<00:00,  3.23it/s]\n",
      "100%|██████████| 13/13 [00:12<00:00,  1.07it/s]\n",
      "100%|██████████| 33/33 [00:09<00:00,  3.39it/s]\n"
     ]
    },
    {
     "name": "stdout",
     "output_type": "stream",
     "text": [
      "1m 26s\n",
      "Early Stopping Counter = 1\n",
      "Epoch 238/300\n"
     ]
    },
    {
     "name": "stderr",
     "output_type": "stream",
     "text": [
      "100%|██████████| 207/207 [01:04<00:00,  3.23it/s]\n",
      "100%|██████████| 13/13 [00:12<00:00,  1.06it/s]\n",
      "100%|██████████| 33/33 [00:09<00:00,  3.36it/s]\n"
     ]
    },
    {
     "name": "stdout",
     "output_type": "stream",
     "text": [
      "1m 26s\n",
      "Early Stopping Counter = 2\n",
      "Epoch 239/300\n"
     ]
    },
    {
     "name": "stderr",
     "output_type": "stream",
     "text": [
      "100%|██████████| 207/207 [01:04<00:00,  3.23it/s]\n",
      "100%|██████████| 13/13 [00:12<00:00,  1.06it/s]\n",
      "100%|██████████| 33/33 [00:10<00:00,  3.28it/s]\n"
     ]
    },
    {
     "name": "stdout",
     "output_type": "stream",
     "text": [
      "1m 26s\n",
      "Early Stopping Counter = 3\n",
      "Epoch 240/300\n"
     ]
    },
    {
     "name": "stderr",
     "output_type": "stream",
     "text": [
      "100%|██████████| 207/207 [01:04<00:00,  3.23it/s]\n",
      "100%|██████████| 13/13 [00:12<00:00,  1.06it/s]\n",
      "100%|██████████| 33/33 [00:09<00:00,  3.39it/s]\n"
     ]
    },
    {
     "name": "stdout",
     "output_type": "stream",
     "text": [
      "1m 26s\n",
      "Early Stopping Counter = 4\n",
      "Epoch 241/300\n"
     ]
    },
    {
     "name": "stderr",
     "output_type": "stream",
     "text": [
      "100%|██████████| 207/207 [01:04<00:00,  3.23it/s]\n",
      "100%|██████████| 13/13 [00:12<00:00,  1.06it/s]\n",
      "100%|██████████| 33/33 [00:09<00:00,  3.41it/s]\n"
     ]
    },
    {
     "name": "stdout",
     "output_type": "stream",
     "text": [
      "1m 26s\n",
      "Early Stopping Counter = 5\n",
      "Epoch 242/300\n"
     ]
    },
    {
     "name": "stderr",
     "output_type": "stream",
     "text": [
      "100%|██████████| 207/207 [01:04<00:00,  3.23it/s]\n",
      "100%|██████████| 13/13 [00:12<00:00,  1.07it/s]\n",
      "100%|██████████| 33/33 [00:09<00:00,  3.41it/s]\n"
     ]
    },
    {
     "name": "stdout",
     "output_type": "stream",
     "text": [
      "1m 26s\n",
      "Early Stopping Counter = 6\n",
      "Epoch 243/300\n"
     ]
    },
    {
     "name": "stderr",
     "output_type": "stream",
     "text": [
      "100%|██████████| 207/207 [01:04<00:00,  3.23it/s]\n",
      "100%|██████████| 13/13 [00:12<00:00,  1.06it/s]\n",
      "100%|██████████| 33/33 [00:09<00:00,  3.39it/s]\n"
     ]
    },
    {
     "name": "stdout",
     "output_type": "stream",
     "text": [
      "1m 26s\n",
      "Consistency Loss declined to 0.044589545004642926\n",
      "Early Stopping Counter = 0\n",
      "Epoch 244/300\n"
     ]
    },
    {
     "name": "stderr",
     "output_type": "stream",
     "text": [
      "100%|██████████| 207/207 [01:03<00:00,  3.24it/s]\n",
      "100%|██████████| 13/13 [00:12<00:00,  1.06it/s]\n",
      "100%|██████████| 33/33 [00:09<00:00,  3.39it/s]\n"
     ]
    },
    {
     "name": "stdout",
     "output_type": "stream",
     "text": [
      "1m 26s\n",
      "Early Stopping Counter = 1\n",
      "Epoch 245/300\n"
     ]
    },
    {
     "name": "stderr",
     "output_type": "stream",
     "text": [
      "100%|██████████| 207/207 [01:03<00:00,  3.24it/s]\n",
      "100%|██████████| 13/13 [00:12<00:00,  1.06it/s]\n",
      "100%|██████████| 33/33 [00:09<00:00,  3.33it/s]\n"
     ]
    },
    {
     "name": "stdout",
     "output_type": "stream",
     "text": [
      "1m 26s\n",
      "Early Stopping Counter = 2\n",
      "Epoch 246/300\n"
     ]
    },
    {
     "name": "stderr",
     "output_type": "stream",
     "text": [
      "100%|██████████| 207/207 [01:03<00:00,  3.24it/s]\n",
      "100%|██████████| 13/13 [00:12<00:00,  1.04it/s]\n",
      "100%|██████████| 33/33 [00:09<00:00,  3.40it/s]\n"
     ]
    },
    {
     "name": "stdout",
     "output_type": "stream",
     "text": [
      "1m 26s\n",
      "Early Stopping Counter = 3\n",
      "Epoch 247/300\n"
     ]
    },
    {
     "name": "stderr",
     "output_type": "stream",
     "text": [
      "100%|██████████| 207/207 [01:04<00:00,  3.23it/s]\n",
      "100%|██████████| 13/13 [00:12<00:00,  1.07it/s]\n",
      "100%|██████████| 33/33 [00:09<00:00,  3.47it/s]\n"
     ]
    },
    {
     "name": "stdout",
     "output_type": "stream",
     "text": [
      "1m 26s\n",
      "Early Stopping Counter = 4\n",
      "Epoch 248/300\n"
     ]
    },
    {
     "name": "stderr",
     "output_type": "stream",
     "text": [
      "100%|██████████| 207/207 [01:03<00:00,  3.23it/s]\n",
      "100%|██████████| 13/13 [00:12<00:00,  1.07it/s]\n",
      "100%|██████████| 33/33 [00:10<00:00,  3.21it/s]\n"
     ]
    },
    {
     "name": "stdout",
     "output_type": "stream",
     "text": [
      "1m 26s\n",
      "Early Stopping Counter = 5\n",
      "Epoch 249/300\n"
     ]
    },
    {
     "name": "stderr",
     "output_type": "stream",
     "text": [
      "100%|██████████| 207/207 [01:04<00:00,  3.23it/s]\n",
      "100%|██████████| 13/13 [00:12<00:00,  1.06it/s]\n",
      "100%|██████████| 33/33 [00:09<00:00,  3.38it/s]\n"
     ]
    },
    {
     "name": "stdout",
     "output_type": "stream",
     "text": [
      "1m 26s\n",
      "Early Stopping Counter = 6\n",
      "Epoch 250/300\n"
     ]
    },
    {
     "name": "stderr",
     "output_type": "stream",
     "text": [
      "100%|██████████| 207/207 [01:04<00:00,  3.23it/s]\n",
      "100%|██████████| 13/13 [00:12<00:00,  1.06it/s]\n",
      "100%|██████████| 33/33 [00:09<00:00,  3.46it/s]\n"
     ]
    },
    {
     "name": "stdout",
     "output_type": "stream",
     "text": [
      "1m 26s\n",
      "Early Stopping Counter = 7\n",
      "Epoch 251/300\n"
     ]
    },
    {
     "name": "stderr",
     "output_type": "stream",
     "text": [
      "100%|██████████| 207/207 [01:04<00:00,  3.23it/s]\n",
      "100%|██████████| 13/13 [00:12<00:00,  1.06it/s]\n",
      "100%|██████████| 33/33 [00:09<00:00,  3.39it/s]\n"
     ]
    },
    {
     "name": "stdout",
     "output_type": "stream",
     "text": [
      "1m 26s\n",
      "Early Stopping Counter = 8\n",
      "Epoch 252/300\n"
     ]
    },
    {
     "name": "stderr",
     "output_type": "stream",
     "text": [
      "100%|██████████| 207/207 [01:04<00:00,  3.23it/s]\n",
      "100%|██████████| 13/13 [00:12<00:00,  1.06it/s]\n",
      "100%|██████████| 33/33 [00:09<00:00,  3.41it/s]\n"
     ]
    },
    {
     "name": "stdout",
     "output_type": "stream",
     "text": [
      "1m 26s\n",
      "Early Stopping Counter = 9\n",
      "Epoch 253/300\n"
     ]
    },
    {
     "name": "stderr",
     "output_type": "stream",
     "text": [
      "100%|██████████| 207/207 [01:04<00:00,  3.23it/s]\n",
      "100%|██████████| 13/13 [00:12<00:00,  1.06it/s]\n",
      "100%|██████████| 33/33 [00:09<00:00,  3.39it/s]\n"
     ]
    },
    {
     "name": "stdout",
     "output_type": "stream",
     "text": [
      "1m 26s\n",
      "Early Stopping Counter = 10\n",
      "Epoch 254/300\n"
     ]
    },
    {
     "name": "stderr",
     "output_type": "stream",
     "text": [
      "100%|██████████| 207/207 [01:04<00:00,  3.23it/s]\n",
      "100%|██████████| 13/13 [00:12<00:00,  1.06it/s]\n",
      "100%|██████████| 33/33 [00:09<00:00,  3.45it/s]\n"
     ]
    },
    {
     "name": "stdout",
     "output_type": "stream",
     "text": [
      "1m 26s\n",
      "Early Stopping Counter = 11\n",
      "Epoch 255/300\n"
     ]
    },
    {
     "name": "stderr",
     "output_type": "stream",
     "text": [
      "100%|██████████| 207/207 [01:04<00:00,  3.22it/s]\n",
      "100%|██████████| 13/13 [00:12<00:00,  1.06it/s]\n",
      "100%|██████████| 33/33 [00:09<00:00,  3.39it/s]\n"
     ]
    },
    {
     "name": "stdout",
     "output_type": "stream",
     "text": [
      "1m 26s\n",
      "Early Stopping Counter = 12\n",
      "Epoch 256/300\n"
     ]
    },
    {
     "name": "stderr",
     "output_type": "stream",
     "text": [
      "100%|██████████| 207/207 [01:04<00:00,  3.23it/s]\n",
      "100%|██████████| 13/13 [00:12<00:00,  1.06it/s]\n",
      "100%|██████████| 33/33 [00:09<00:00,  3.37it/s]\n"
     ]
    },
    {
     "name": "stdout",
     "output_type": "stream",
     "text": [
      "1m 26s\n",
      "Early Stopping Counter = 13\n",
      "Epoch 257/300\n"
     ]
    },
    {
     "name": "stderr",
     "output_type": "stream",
     "text": [
      "100%|██████████| 207/207 [01:04<00:00,  3.23it/s]\n",
      "100%|██████████| 13/13 [00:12<00:00,  1.07it/s]\n",
      "100%|██████████| 33/33 [00:09<00:00,  3.34it/s]\n"
     ]
    },
    {
     "name": "stdout",
     "output_type": "stream",
     "text": [
      "1m 26s\n",
      "Early Stopping Counter = 14\n",
      "Epoch 258/300\n"
     ]
    },
    {
     "name": "stderr",
     "output_type": "stream",
     "text": [
      "100%|██████████| 207/207 [01:04<00:00,  3.23it/s]\n",
      "100%|██████████| 13/13 [00:12<00:00,  1.06it/s]\n",
      "100%|██████████| 33/33 [00:09<00:00,  3.33it/s]\n"
     ]
    },
    {
     "name": "stdout",
     "output_type": "stream",
     "text": [
      "1m 26s\n",
      "Early Stopping Counter = 15\n",
      "Epoch 259/300\n"
     ]
    },
    {
     "name": "stderr",
     "output_type": "stream",
     "text": [
      "100%|██████████| 207/207 [01:04<00:00,  3.23it/s]\n",
      "100%|██████████| 13/13 [00:12<00:00,  1.06it/s]\n",
      "100%|██████████| 33/33 [00:09<00:00,  3.34it/s]\n"
     ]
    },
    {
     "name": "stdout",
     "output_type": "stream",
     "text": [
      "1m 26s\n",
      "Consistency Loss declined to 0.04296699481514784\n",
      "Early Stopping Counter = 0\n",
      "Epoch 260/300\n"
     ]
    },
    {
     "name": "stderr",
     "output_type": "stream",
     "text": [
      "100%|██████████| 207/207 [01:03<00:00,  3.24it/s]\n",
      "100%|██████████| 13/13 [00:12<00:00,  1.06it/s]\n",
      "100%|██████████| 33/33 [00:09<00:00,  3.37it/s]\n"
     ]
    },
    {
     "name": "stdout",
     "output_type": "stream",
     "text": [
      "1m 26s\n",
      "Early Stopping Counter = 1\n",
      "Epoch 261/300\n"
     ]
    },
    {
     "name": "stderr",
     "output_type": "stream",
     "text": [
      "100%|██████████| 207/207 [01:03<00:00,  3.24it/s]\n",
      "100%|██████████| 13/13 [00:12<00:00,  1.06it/s]\n",
      "100%|██████████| 33/33 [00:09<00:00,  3.39it/s]\n"
     ]
    },
    {
     "name": "stdout",
     "output_type": "stream",
     "text": [
      "1m 26s\n",
      "Early Stopping Counter = 2\n",
      "Epoch 262/300\n"
     ]
    },
    {
     "name": "stderr",
     "output_type": "stream",
     "text": [
      "100%|██████████| 207/207 [01:04<00:00,  3.23it/s]\n",
      "100%|██████████| 13/13 [00:12<00:00,  1.05it/s]\n",
      "100%|██████████| 33/33 [00:09<00:00,  3.43it/s]\n"
     ]
    },
    {
     "name": "stdout",
     "output_type": "stream",
     "text": [
      "1m 26s\n",
      "Early Stopping Counter = 3\n",
      "Epoch 263/300\n"
     ]
    },
    {
     "name": "stderr",
     "output_type": "stream",
     "text": [
      "100%|██████████| 207/207 [01:04<00:00,  3.23it/s]\n",
      "100%|██████████| 13/13 [00:12<00:00,  1.06it/s]\n",
      "100%|██████████| 33/33 [00:09<00:00,  3.42it/s]\n"
     ]
    },
    {
     "name": "stdout",
     "output_type": "stream",
     "text": [
      "1m 26s\n",
      "Early Stopping Counter = 4\n",
      "Epoch 264/300\n"
     ]
    },
    {
     "name": "stderr",
     "output_type": "stream",
     "text": [
      "100%|██████████| 207/207 [01:04<00:00,  3.22it/s]\n",
      "100%|██████████| 13/13 [00:12<00:00,  1.06it/s]\n",
      "100%|██████████| 33/33 [00:09<00:00,  3.42it/s]\n"
     ]
    },
    {
     "name": "stdout",
     "output_type": "stream",
     "text": [
      "1m 26s\n",
      "Early Stopping Counter = 5\n",
      "Epoch 265/300\n"
     ]
    },
    {
     "name": "stderr",
     "output_type": "stream",
     "text": [
      "100%|██████████| 207/207 [01:04<00:00,  3.22it/s]\n",
      "100%|██████████| 13/13 [00:12<00:00,  1.06it/s]\n",
      "100%|██████████| 33/33 [00:09<00:00,  3.40it/s]\n"
     ]
    },
    {
     "name": "stdout",
     "output_type": "stream",
     "text": [
      "1m 26s\n",
      "Early Stopping Counter = 6\n",
      "Epoch 266/300\n"
     ]
    },
    {
     "name": "stderr",
     "output_type": "stream",
     "text": [
      "100%|██████████| 207/207 [01:04<00:00,  3.22it/s]\n",
      "100%|██████████| 13/13 [00:12<00:00,  1.06it/s]\n",
      "100%|██████████| 33/33 [00:09<00:00,  3.41it/s]\n"
     ]
    },
    {
     "name": "stdout",
     "output_type": "stream",
     "text": [
      "1m 26s\n",
      "Early Stopping Counter = 7\n",
      "Epoch 267/300\n"
     ]
    },
    {
     "name": "stderr",
     "output_type": "stream",
     "text": [
      "100%|██████████| 207/207 [01:04<00:00,  3.23it/s]\n",
      "100%|██████████| 13/13 [00:12<00:00,  1.06it/s]\n",
      "100%|██████████| 33/33 [00:09<00:00,  3.43it/s]\n"
     ]
    },
    {
     "name": "stdout",
     "output_type": "stream",
     "text": [
      "1m 26s\n",
      "Early Stopping Counter = 8\n",
      "Epoch 268/300\n"
     ]
    },
    {
     "name": "stderr",
     "output_type": "stream",
     "text": [
      "100%|██████████| 207/207 [01:04<00:00,  3.23it/s]\n",
      "100%|██████████| 13/13 [00:12<00:00,  1.06it/s]\n",
      "100%|██████████| 33/33 [00:09<00:00,  3.37it/s]\n"
     ]
    },
    {
     "name": "stdout",
     "output_type": "stream",
     "text": [
      "1m 26s\n",
      "Early Stopping Counter = 9\n",
      "Epoch 269/300\n"
     ]
    },
    {
     "name": "stderr",
     "output_type": "stream",
     "text": [
      "100%|██████████| 207/207 [01:04<00:00,  3.23it/s]\n",
      "100%|██████████| 13/13 [00:12<00:00,  1.06it/s]\n",
      "100%|██████████| 33/33 [00:09<00:00,  3.40it/s]\n"
     ]
    },
    {
     "name": "stdout",
     "output_type": "stream",
     "text": [
      "1m 26s\n",
      "Early Stopping Counter = 10\n",
      "Epoch 270/300\n"
     ]
    },
    {
     "name": "stderr",
     "output_type": "stream",
     "text": [
      "100%|██████████| 207/207 [01:04<00:00,  3.23it/s]\n",
      "100%|██████████| 13/13 [00:12<00:00,  1.07it/s]\n",
      "100%|██████████| 33/33 [00:09<00:00,  3.38it/s]\n"
     ]
    },
    {
     "name": "stdout",
     "output_type": "stream",
     "text": [
      "1m 26s\n",
      "Early Stopping Counter = 11\n",
      "Epoch 271/300\n"
     ]
    },
    {
     "name": "stderr",
     "output_type": "stream",
     "text": [
      "100%|██████████| 207/207 [01:04<00:00,  3.23it/s]\n",
      "100%|██████████| 13/13 [00:12<00:00,  1.07it/s]\n",
      "100%|██████████| 33/33 [00:09<00:00,  3.36it/s]\n"
     ]
    },
    {
     "name": "stdout",
     "output_type": "stream",
     "text": [
      "1m 26s\n",
      "Early Stopping Counter = 12\n",
      "Epoch 272/300\n"
     ]
    },
    {
     "name": "stderr",
     "output_type": "stream",
     "text": [
      "100%|██████████| 207/207 [01:04<00:00,  3.23it/s]\n",
      "100%|██████████| 13/13 [00:12<00:00,  1.05it/s]\n",
      "100%|██████████| 33/33 [00:09<00:00,  3.36it/s]\n"
     ]
    },
    {
     "name": "stdout",
     "output_type": "stream",
     "text": [
      "1m 26s\n",
      "Early Stopping Counter = 13\n",
      "Epoch 273/300\n"
     ]
    },
    {
     "name": "stderr",
     "output_type": "stream",
     "text": [
      "100%|██████████| 207/207 [01:04<00:00,  3.23it/s]\n",
      "100%|██████████| 13/13 [00:12<00:00,  1.06it/s]\n",
      "100%|██████████| 33/33 [00:09<00:00,  3.42it/s]\n"
     ]
    },
    {
     "name": "stdout",
     "output_type": "stream",
     "text": [
      "1m 26s\n",
      "Early Stopping Counter = 14\n",
      "Epoch 274/300\n"
     ]
    },
    {
     "name": "stderr",
     "output_type": "stream",
     "text": [
      "100%|██████████| 207/207 [01:04<00:00,  3.23it/s]\n",
      "100%|██████████| 13/13 [00:12<00:00,  1.06it/s]\n",
      "100%|██████████| 33/33 [00:09<00:00,  3.42it/s]\n"
     ]
    },
    {
     "name": "stdout",
     "output_type": "stream",
     "text": [
      "1m 26s\n",
      "Early Stopping Counter = 15\n",
      "Epoch 275/300\n"
     ]
    },
    {
     "name": "stderr",
     "output_type": "stream",
     "text": [
      "100%|██████████| 207/207 [01:04<00:00,  3.23it/s]\n",
      "100%|██████████| 13/13 [00:12<00:00,  1.06it/s]\n",
      "100%|██████████| 33/33 [00:09<00:00,  3.47it/s]\n"
     ]
    },
    {
     "name": "stdout",
     "output_type": "stream",
     "text": [
      "1m 26s\n",
      "Early Stopping Counter = 16\n",
      "Epoch 276/300\n"
     ]
    },
    {
     "name": "stderr",
     "output_type": "stream",
     "text": [
      "100%|██████████| 207/207 [01:04<00:00,  3.23it/s]\n",
      "100%|██████████| 13/13 [00:12<00:00,  1.06it/s]\n",
      "100%|██████████| 33/33 [00:09<00:00,  3.44it/s]\n"
     ]
    },
    {
     "name": "stdout",
     "output_type": "stream",
     "text": [
      "1m 26s\n",
      "Early Stopping Counter = 17\n",
      "Epoch 277/300\n"
     ]
    },
    {
     "name": "stderr",
     "output_type": "stream",
     "text": [
      "100%|██████████| 207/207 [01:04<00:00,  3.23it/s]\n",
      "100%|██████████| 13/13 [00:12<00:00,  1.06it/s]\n",
      "100%|██████████| 33/33 [00:09<00:00,  3.45it/s]\n"
     ]
    },
    {
     "name": "stdout",
     "output_type": "stream",
     "text": [
      "1m 26s\n",
      "Early Stopping Counter = 18\n",
      "Epoch 278/300\n"
     ]
    },
    {
     "name": "stderr",
     "output_type": "stream",
     "text": [
      "100%|██████████| 207/207 [01:04<00:00,  3.23it/s]\n",
      "100%|██████████| 13/13 [00:12<00:00,  1.06it/s]\n",
      "100%|██████████| 33/33 [00:09<00:00,  3.46it/s]\n"
     ]
    },
    {
     "name": "stdout",
     "output_type": "stream",
     "text": [
      "1m 26s\n",
      "Early Stopping Counter = 19\n",
      "Epoch 279/300\n"
     ]
    },
    {
     "name": "stderr",
     "output_type": "stream",
     "text": [
      "100%|██████████| 207/207 [01:04<00:00,  3.23it/s]\n",
      "100%|██████████| 13/13 [00:12<00:00,  1.06it/s]\n",
      "100%|██████████| 33/33 [00:09<00:00,  3.43it/s]\n"
     ]
    },
    {
     "name": "stdout",
     "output_type": "stream",
     "text": [
      "1m 26s\n",
      "Consistency Loss declined to 0.04247039556503296\n",
      "Early Stopping Counter = 0\n",
      "Epoch 280/300\n"
     ]
    },
    {
     "name": "stderr",
     "output_type": "stream",
     "text": [
      "100%|██████████| 207/207 [01:03<00:00,  3.24it/s]\n",
      "100%|██████████| 13/13 [00:12<00:00,  1.07it/s]\n",
      "100%|██████████| 33/33 [00:09<00:00,  3.40it/s]\n"
     ]
    },
    {
     "name": "stdout",
     "output_type": "stream",
     "text": [
      "1m 26s\n",
      "Consistency Loss declined to 0.042454640166117594\n",
      "Early Stopping Counter = 0\n",
      "Epoch 281/300\n"
     ]
    },
    {
     "name": "stderr",
     "output_type": "stream",
     "text": [
      "100%|██████████| 207/207 [01:03<00:00,  3.24it/s]\n",
      "100%|██████████| 13/13 [00:12<00:00,  1.06it/s]\n",
      "100%|██████████| 33/33 [00:09<00:00,  3.34it/s]\n"
     ]
    },
    {
     "name": "stdout",
     "output_type": "stream",
     "text": [
      "1m 26s\n",
      "Early Stopping Counter = 1\n",
      "Epoch 282/300\n"
     ]
    },
    {
     "name": "stderr",
     "output_type": "stream",
     "text": [
      "100%|██████████| 207/207 [01:04<00:00,  3.23it/s]\n",
      "100%|██████████| 13/13 [00:12<00:00,  1.07it/s]\n",
      "100%|██████████| 33/33 [00:09<00:00,  3.37it/s]\n"
     ]
    },
    {
     "name": "stdout",
     "output_type": "stream",
     "text": [
      "1m 26s\n",
      "Consistency Loss declined to 0.042429714248730585\n",
      "Early Stopping Counter = 0\n",
      "Epoch 283/300\n"
     ]
    },
    {
     "name": "stderr",
     "output_type": "stream",
     "text": [
      "100%|██████████| 207/207 [01:03<00:00,  3.24it/s]\n",
      "100%|██████████| 13/13 [00:12<00:00,  1.06it/s]\n",
      "100%|██████████| 33/33 [00:09<00:00,  3.39it/s]\n"
     ]
    },
    {
     "name": "stdout",
     "output_type": "stream",
     "text": [
      "1m 26s\n",
      "Consistency Loss declined to 0.041982150135131985\n",
      "Early Stopping Counter = 0\n",
      "Epoch 284/300\n"
     ]
    },
    {
     "name": "stderr",
     "output_type": "stream",
     "text": [
      "100%|██████████| 207/207 [01:03<00:00,  3.23it/s]\n",
      "100%|██████████| 13/13 [00:12<00:00,  1.07it/s]\n",
      "100%|██████████| 33/33 [00:09<00:00,  3.43it/s]\n"
     ]
    },
    {
     "name": "stdout",
     "output_type": "stream",
     "text": [
      "1m 26s\n",
      "Early Stopping Counter = 1\n",
      "Epoch 285/300\n"
     ]
    },
    {
     "name": "stderr",
     "output_type": "stream",
     "text": [
      "100%|██████████| 207/207 [01:04<00:00,  3.23it/s]\n",
      "100%|██████████| 13/13 [00:12<00:00,  1.07it/s]\n",
      "100%|██████████| 33/33 [00:09<00:00,  3.32it/s]\n"
     ]
    },
    {
     "name": "stdout",
     "output_type": "stream",
     "text": [
      "1m 26s\n",
      "Consistency Loss declined to 0.04128054672708878\n",
      "Early Stopping Counter = 0\n",
      "Epoch 286/300\n"
     ]
    },
    {
     "name": "stderr",
     "output_type": "stream",
     "text": [
      "100%|██████████| 207/207 [01:03<00:00,  3.25it/s]\n",
      "100%|██████████| 13/13 [00:12<00:00,  1.06it/s]\n",
      "100%|██████████| 33/33 [00:09<00:00,  3.35it/s]\n"
     ]
    },
    {
     "name": "stdout",
     "output_type": "stream",
     "text": [
      "1m 26s\n",
      "Early Stopping Counter = 1\n",
      "Epoch 287/300\n"
     ]
    },
    {
     "name": "stderr",
     "output_type": "stream",
     "text": [
      "100%|██████████| 207/207 [01:03<00:00,  3.24it/s]\n",
      "100%|██████████| 13/13 [00:12<00:00,  1.07it/s]\n",
      "100%|██████████| 33/33 [00:09<00:00,  3.32it/s]\n"
     ]
    },
    {
     "name": "stdout",
     "output_type": "stream",
     "text": [
      "1m 26s\n",
      "Early Stopping Counter = 2\n",
      "Epoch 288/300\n"
     ]
    },
    {
     "name": "stderr",
     "output_type": "stream",
     "text": [
      "100%|██████████| 207/207 [01:03<00:00,  3.23it/s]\n",
      "100%|██████████| 13/13 [00:12<00:00,  1.05it/s]\n",
      "100%|██████████| 33/33 [00:09<00:00,  3.48it/s]\n"
     ]
    },
    {
     "name": "stdout",
     "output_type": "stream",
     "text": [
      "1m 26s\n",
      "Early Stopping Counter = 3\n",
      "Epoch 289/300\n"
     ]
    },
    {
     "name": "stderr",
     "output_type": "stream",
     "text": [
      "100%|██████████| 207/207 [01:04<00:00,  3.23it/s]\n",
      "100%|██████████| 13/13 [00:12<00:00,  1.06it/s]\n",
      "100%|██████████| 33/33 [00:09<00:00,  3.40it/s]\n"
     ]
    },
    {
     "name": "stdout",
     "output_type": "stream",
     "text": [
      "1m 26s\n",
      "Early Stopping Counter = 4\n",
      "Epoch 290/300\n"
     ]
    },
    {
     "name": "stderr",
     "output_type": "stream",
     "text": [
      "100%|██████████| 207/207 [01:04<00:00,  3.23it/s]\n",
      "100%|██████████| 13/13 [00:12<00:00,  1.06it/s]\n",
      "100%|██████████| 33/33 [00:09<00:00,  3.42it/s]\n"
     ]
    },
    {
     "name": "stdout",
     "output_type": "stream",
     "text": [
      "1m 26s\n",
      "Early Stopping Counter = 5\n",
      "Epoch 291/300\n"
     ]
    },
    {
     "name": "stderr",
     "output_type": "stream",
     "text": [
      "100%|██████████| 207/207 [01:04<00:00,  3.22it/s]\n",
      "100%|██████████| 13/13 [00:12<00:00,  1.07it/s]\n",
      "100%|██████████| 33/33 [00:09<00:00,  3.39it/s]\n"
     ]
    },
    {
     "name": "stdout",
     "output_type": "stream",
     "text": [
      "1m 26s\n",
      "Early Stopping Counter = 6\n",
      "Epoch 292/300\n"
     ]
    },
    {
     "name": "stderr",
     "output_type": "stream",
     "text": [
      "100%|██████████| 207/207 [01:04<00:00,  3.23it/s]\n",
      "100%|██████████| 13/13 [00:12<00:00,  1.06it/s]\n",
      "100%|██████████| 33/33 [00:09<00:00,  3.33it/s]\n"
     ]
    },
    {
     "name": "stdout",
     "output_type": "stream",
     "text": [
      "1m 26s\n",
      "Early Stopping Counter = 7\n",
      "Epoch 293/300\n"
     ]
    },
    {
     "name": "stderr",
     "output_type": "stream",
     "text": [
      "100%|██████████| 207/207 [01:04<00:00,  3.22it/s]\n",
      "100%|██████████| 13/13 [00:12<00:00,  1.06it/s]\n",
      "100%|██████████| 33/33 [00:09<00:00,  3.46it/s]\n"
     ]
    },
    {
     "name": "stdout",
     "output_type": "stream",
     "text": [
      "1m 26s\n",
      "Early Stopping Counter = 8\n",
      "Epoch 294/300\n"
     ]
    },
    {
     "name": "stderr",
     "output_type": "stream",
     "text": [
      "100%|██████████| 207/207 [01:03<00:00,  3.24it/s]\n",
      "100%|██████████| 13/13 [00:12<00:00,  1.06it/s]\n",
      "100%|██████████| 33/33 [00:09<00:00,  3.41it/s]\n"
     ]
    },
    {
     "name": "stdout",
     "output_type": "stream",
     "text": [
      "1m 26s\n",
      "Early Stopping Counter = 9\n",
      "Epoch 295/300\n"
     ]
    },
    {
     "name": "stderr",
     "output_type": "stream",
     "text": [
      "100%|██████████| 207/207 [01:04<00:00,  3.22it/s]\n",
      "100%|██████████| 13/13 [00:12<00:00,  1.06it/s]\n",
      "100%|██████████| 33/33 [00:09<00:00,  3.39it/s]\n"
     ]
    },
    {
     "name": "stdout",
     "output_type": "stream",
     "text": [
      "1m 26s\n",
      "Consistency Loss declined to 0.04078323508684452\n",
      "Early Stopping Counter = 0\n",
      "Epoch 296/300\n"
     ]
    },
    {
     "name": "stderr",
     "output_type": "stream",
     "text": [
      "100%|██████████| 207/207 [01:03<00:00,  3.24it/s]\n",
      "100%|██████████| 13/13 [00:12<00:00,  1.06it/s]\n",
      "100%|██████████| 33/33 [00:09<00:00,  3.44it/s]\n"
     ]
    },
    {
     "name": "stdout",
     "output_type": "stream",
     "text": [
      "1m 26s\n",
      "Early Stopping Counter = 1\n",
      "Epoch 297/300\n"
     ]
    },
    {
     "name": "stderr",
     "output_type": "stream",
     "text": [
      "100%|██████████| 207/207 [01:03<00:00,  3.24it/s]\n",
      "100%|██████████| 13/13 [00:12<00:00,  1.06it/s]\n",
      "100%|██████████| 33/33 [00:09<00:00,  3.37it/s]\n"
     ]
    },
    {
     "name": "stdout",
     "output_type": "stream",
     "text": [
      "1m 26s\n",
      "Early Stopping Counter = 2\n",
      "Epoch 298/300\n"
     ]
    },
    {
     "name": "stderr",
     "output_type": "stream",
     "text": [
      "100%|██████████| 207/207 [01:04<00:00,  3.23it/s]\n",
      "100%|██████████| 13/13 [00:12<00:00,  1.05it/s]\n",
      "100%|██████████| 33/33 [00:09<00:00,  3.31it/s]\n"
     ]
    },
    {
     "name": "stdout",
     "output_type": "stream",
     "text": [
      "1m 26s\n",
      "Early Stopping Counter = 3\n",
      "Epoch 299/300\n"
     ]
    },
    {
     "name": "stderr",
     "output_type": "stream",
     "text": [
      "100%|██████████| 207/207 [01:04<00:00,  3.21it/s]\n",
      "100%|██████████| 13/13 [00:12<00:00,  1.06it/s]\n",
      "100%|██████████| 33/33 [00:09<00:00,  3.36it/s]\n"
     ]
    },
    {
     "name": "stdout",
     "output_type": "stream",
     "text": [
      "1m 27s\n",
      "Early Stopping Counter = 4\n",
      "Epoch 300/300\n"
     ]
    },
    {
     "name": "stderr",
     "output_type": "stream",
     "text": [
      "100%|██████████| 207/207 [01:04<00:00,  3.22it/s]\n",
      "100%|██████████| 13/13 [00:12<00:00,  1.06it/s]\n",
      "100%|██████████| 33/33 [00:09<00:00,  3.42it/s]\n"
     ]
    },
    {
     "name": "stdout",
     "output_type": "stream",
     "text": [
      "1m 26s\n",
      "Consistency Loss declined to 0.04039003040928107\n",
      "Early Stopping Counter = 0\n"
     ]
    },
    {
     "name": "stderr",
     "output_type": "stream",
     "text": [
      "100%|██████████| 2/2 [00:15<00:00,  7.92s/it]\n",
      " 93%|█████████▎| 13/14 [02:08<00:09,  9.89s/it]\n",
      "100%|██████████| 891/891 [01:27<00:00, 10.23it/s]\n"
     ]
    },
    {
     "name": "stdout",
     "output_type": "stream",
     "text": [
      "Epoch 1/300\n"
     ]
    },
    {
     "name": "stderr",
     "output_type": "stream",
     "text": [
      "100%|██████████| 207/207 [01:04<00:00,  3.23it/s]\n",
      "100%|██████████| 13/13 [00:12<00:00,  1.07it/s]\n",
      "100%|██████████| 33/33 [00:09<00:00,  3.34it/s]\n"
     ]
    },
    {
     "name": "stdout",
     "output_type": "stream",
     "text": [
      "1m 26s\n",
      "Consistency Loss declined to 0.31659975074804747\n",
      "Early Stopping Counter = 0\n",
      "Epoch 2/300\n"
     ]
    },
    {
     "name": "stderr",
     "output_type": "stream",
     "text": [
      "100%|██████████| 207/207 [01:03<00:00,  3.25it/s]\n",
      "100%|██████████| 13/13 [00:12<00:00,  1.07it/s]\n",
      "100%|██████████| 33/33 [00:09<00:00,  3.37it/s]\n"
     ]
    },
    {
     "name": "stdout",
     "output_type": "stream",
     "text": [
      "1m 26s\n",
      "Consistency Loss declined to 0.2818521364377095\n",
      "Early Stopping Counter = 0\n",
      "Epoch 3/300\n"
     ]
    },
    {
     "name": "stderr",
     "output_type": "stream",
     "text": [
      "100%|██████████| 207/207 [01:03<00:00,  3.24it/s]\n",
      "100%|██████████| 13/13 [00:12<00:00,  1.05it/s]\n",
      "100%|██████████| 33/33 [00:09<00:00,  3.44it/s]\n"
     ]
    },
    {
     "name": "stdout",
     "output_type": "stream",
     "text": [
      "1m 26s\n",
      "Consistency Loss declined to 0.2508528404510938\n",
      "Early Stopping Counter = 0\n",
      "Epoch 4/300\n"
     ]
    },
    {
     "name": "stderr",
     "output_type": "stream",
     "text": [
      "100%|██████████| 207/207 [01:04<00:00,  3.23it/s]\n",
      "100%|██████████| 13/13 [00:12<00:00,  1.06it/s]\n",
      "100%|██████████| 33/33 [00:09<00:00,  3.41it/s]\n"
     ]
    },
    {
     "name": "stdout",
     "output_type": "stream",
     "text": [
      "1m 26s\n",
      "Consistency Loss declined to 0.24465588079049036\n",
      "Early Stopping Counter = 0\n",
      "Epoch 5/300\n"
     ]
    },
    {
     "name": "stderr",
     "output_type": "stream",
     "text": [
      "100%|██████████| 207/207 [01:03<00:00,  3.25it/s]\n",
      "100%|██████████| 13/13 [00:12<00:00,  1.06it/s]\n",
      "100%|██████████| 33/33 [00:09<00:00,  3.40it/s]\n"
     ]
    },
    {
     "name": "stdout",
     "output_type": "stream",
     "text": [
      "1m 26s\n",
      "Consistency Loss declined to 0.2187018898817209\n",
      "Early Stopping Counter = 0\n",
      "Epoch 6/300\n"
     ]
    },
    {
     "name": "stderr",
     "output_type": "stream",
     "text": [
      "100%|██████████| 207/207 [01:03<00:00,  3.24it/s]\n",
      "100%|██████████| 13/13 [00:12<00:00,  1.06it/s]\n",
      "100%|██████████| 33/33 [00:09<00:00,  3.44it/s]\n"
     ]
    },
    {
     "name": "stdout",
     "output_type": "stream",
     "text": [
      "1m 26s\n",
      "Consistency Loss declined to 0.21586600519143617\n",
      "Early Stopping Counter = 0\n",
      "Epoch 7/300\n"
     ]
    },
    {
     "name": "stderr",
     "output_type": "stream",
     "text": [
      "100%|██████████| 207/207 [01:03<00:00,  3.24it/s]\n",
      "100%|██████████| 13/13 [00:12<00:00,  1.07it/s]\n",
      "100%|██████████| 33/33 [00:09<00:00,  3.39it/s]\n"
     ]
    },
    {
     "name": "stdout",
     "output_type": "stream",
     "text": [
      "1m 26s\n",
      "Consistency Loss declined to 0.20465288827052483\n",
      "Early Stopping Counter = 0\n",
      "Epoch 8/300\n"
     ]
    },
    {
     "name": "stderr",
     "output_type": "stream",
     "text": [
      "100%|██████████| 207/207 [01:03<00:00,  3.24it/s]\n",
      "100%|██████████| 13/13 [00:12<00:00,  1.05it/s]\n",
      "100%|██████████| 33/33 [00:10<00:00,  3.29it/s]\n"
     ]
    },
    {
     "name": "stdout",
     "output_type": "stream",
     "text": [
      "1m 26s\n",
      "Consistency Loss declined to 0.18536705237168533\n",
      "Early Stopping Counter = 0\n",
      "Epoch 9/300\n"
     ]
    },
    {
     "name": "stderr",
     "output_type": "stream",
     "text": [
      "100%|██████████| 207/207 [01:04<00:00,  3.23it/s]\n",
      "100%|██████████| 13/13 [00:12<00:00,  1.06it/s]\n",
      "100%|██████████| 33/33 [00:09<00:00,  3.39it/s]\n"
     ]
    },
    {
     "name": "stdout",
     "output_type": "stream",
     "text": [
      "1m 26s\n",
      "Consistency Loss declined to 0.18381981895520136\n",
      "Early Stopping Counter = 0\n",
      "Epoch 10/300\n"
     ]
    },
    {
     "name": "stderr",
     "output_type": "stream",
     "text": [
      "100%|██████████| 207/207 [01:03<00:00,  3.26it/s]\n",
      "100%|██████████| 13/13 [00:12<00:00,  1.05it/s]\n",
      "100%|██████████| 33/33 [00:09<00:00,  3.39it/s]\n"
     ]
    },
    {
     "name": "stdout",
     "output_type": "stream",
     "text": [
      "1m 26s\n",
      "Consistency Loss declined to 0.17966541418662438\n",
      "Early Stopping Counter = 0\n",
      "Epoch 11/300\n"
     ]
    },
    {
     "name": "stderr",
     "output_type": "stream",
     "text": [
      "100%|██████████| 207/207 [01:04<00:00,  3.23it/s]\n",
      "100%|██████████| 13/13 [00:12<00:00,  1.06it/s]\n",
      "100%|██████████| 33/33 [00:09<00:00,  3.40it/s]\n"
     ]
    },
    {
     "name": "stdout",
     "output_type": "stream",
     "text": [
      "1m 26s\n",
      "Consistency Loss declined to 0.16462914187174577\n",
      "Early Stopping Counter = 0\n",
      "Epoch 12/300\n"
     ]
    },
    {
     "name": "stderr",
     "output_type": "stream",
     "text": [
      "100%|██████████| 207/207 [01:03<00:00,  3.24it/s]\n",
      "100%|██████████| 13/13 [00:12<00:00,  1.05it/s]\n",
      "100%|██████████| 33/33 [00:09<00:00,  3.33it/s]\n"
     ]
    },
    {
     "name": "stdout",
     "output_type": "stream",
     "text": [
      "1m 26s\n",
      "Consistency Loss declined to 0.16032211253276238\n",
      "Early Stopping Counter = 0\n",
      "Epoch 13/300\n"
     ]
    },
    {
     "name": "stderr",
     "output_type": "stream",
     "text": [
      "100%|██████████| 207/207 [01:04<00:00,  3.23it/s]\n",
      "100%|██████████| 13/13 [00:12<00:00,  1.04it/s]\n",
      "100%|██████████| 33/33 [00:09<00:00,  3.43it/s]\n"
     ]
    },
    {
     "name": "stdout",
     "output_type": "stream",
     "text": [
      "1m 26s\n",
      "Early Stopping Counter = 1\n",
      "Epoch 14/300\n"
     ]
    },
    {
     "name": "stderr",
     "output_type": "stream",
     "text": [
      "100%|██████████| 207/207 [01:04<00:00,  3.23it/s]\n",
      "100%|██████████| 13/13 [00:12<00:00,  1.07it/s]\n",
      "100%|██████████| 33/33 [00:09<00:00,  3.42it/s]\n"
     ]
    },
    {
     "name": "stdout",
     "output_type": "stream",
     "text": [
      "1m 26s\n",
      "Consistency Loss declined to 0.1558580776819816\n",
      "Early Stopping Counter = 0\n",
      "Epoch 15/300\n"
     ]
    },
    {
     "name": "stderr",
     "output_type": "stream",
     "text": [
      "100%|██████████| 207/207 [01:03<00:00,  3.24it/s]\n",
      "100%|██████████| 13/13 [00:12<00:00,  1.06it/s]\n",
      "100%|██████████| 33/33 [00:09<00:00,  3.43it/s]\n"
     ]
    },
    {
     "name": "stdout",
     "output_type": "stream",
     "text": [
      "1m 26s\n",
      "Consistency Loss declined to 0.15369639946864203\n",
      "Early Stopping Counter = 0\n",
      "Epoch 16/300\n"
     ]
    },
    {
     "name": "stderr",
     "output_type": "stream",
     "text": [
      "100%|██████████| 207/207 [01:04<00:00,  3.23it/s]\n",
      "100%|██████████| 13/13 [00:12<00:00,  1.07it/s]\n",
      "100%|██████████| 33/33 [00:09<00:00,  3.41it/s]\n"
     ]
    },
    {
     "name": "stdout",
     "output_type": "stream",
     "text": [
      "1m 26s\n",
      "Consistency Loss declined to 0.14665958285331726\n",
      "Early Stopping Counter = 0\n",
      "Epoch 17/300\n"
     ]
    },
    {
     "name": "stderr",
     "output_type": "stream",
     "text": [
      "100%|██████████| 207/207 [01:03<00:00,  3.24it/s]\n",
      "100%|██████████| 13/13 [00:12<00:00,  1.05it/s]\n",
      "100%|██████████| 33/33 [00:09<00:00,  3.38it/s]\n"
     ]
    },
    {
     "name": "stdout",
     "output_type": "stream",
     "text": [
      "1m 26s\n",
      "Consistency Loss declined to 0.14004753816586274\n",
      "Early Stopping Counter = 0\n",
      "Epoch 18/300\n"
     ]
    },
    {
     "name": "stderr",
     "output_type": "stream",
     "text": [
      "100%|██████████| 207/207 [01:03<00:00,  3.24it/s]\n",
      "100%|██████████| 13/13 [00:12<00:00,  1.06it/s]\n",
      "100%|██████████| 33/33 [00:09<00:00,  3.40it/s]\n"
     ]
    },
    {
     "name": "stdout",
     "output_type": "stream",
     "text": [
      "1m 26s\n",
      "Early Stopping Counter = 1\n",
      "Epoch 19/300\n"
     ]
    },
    {
     "name": "stderr",
     "output_type": "stream",
     "text": [
      "100%|██████████| 207/207 [01:04<00:00,  3.23it/s]\n",
      "100%|██████████| 13/13 [00:12<00:00,  1.06it/s]\n",
      "100%|██████████| 33/33 [00:09<00:00,  3.44it/s]\n"
     ]
    },
    {
     "name": "stdout",
     "output_type": "stream",
     "text": [
      "1m 26s\n",
      "Consistency Loss declined to 0.13417315139220312\n",
      "Early Stopping Counter = 0\n",
      "Epoch 20/300\n"
     ]
    },
    {
     "name": "stderr",
     "output_type": "stream",
     "text": [
      "100%|██████████| 207/207 [01:03<00:00,  3.24it/s]\n",
      "100%|██████████| 13/13 [00:12<00:00,  1.04it/s]\n",
      "100%|██████████| 33/33 [00:09<00:00,  3.37it/s]\n"
     ]
    },
    {
     "name": "stdout",
     "output_type": "stream",
     "text": [
      "1m 26s\n",
      "Consistency Loss declined to 0.12675219143812472\n",
      "Early Stopping Counter = 0\n",
      "Epoch 21/300\n"
     ]
    },
    {
     "name": "stderr",
     "output_type": "stream",
     "text": [
      "100%|██████████| 207/207 [01:03<00:00,  3.24it/s]\n",
      "100%|██████████| 13/13 [00:12<00:00,  1.06it/s]\n",
      "100%|██████████| 33/33 [00:09<00:00,  3.42it/s]\n"
     ]
    },
    {
     "name": "stdout",
     "output_type": "stream",
     "text": [
      "1m 26s\n",
      "Early Stopping Counter = 1\n",
      "Epoch 22/300\n"
     ]
    },
    {
     "name": "stderr",
     "output_type": "stream",
     "text": [
      "100%|██████████| 207/207 [01:04<00:00,  3.23it/s]\n",
      "100%|██████████| 13/13 [00:12<00:00,  1.07it/s]\n",
      "100%|██████████| 33/33 [00:09<00:00,  3.43it/s]\n"
     ]
    },
    {
     "name": "stdout",
     "output_type": "stream",
     "text": [
      "1m 26s\n",
      "Early Stopping Counter = 2\n",
      "Epoch 23/300\n"
     ]
    },
    {
     "name": "stderr",
     "output_type": "stream",
     "text": [
      "100%|██████████| 207/207 [01:04<00:00,  3.23it/s]\n",
      "100%|██████████| 13/13 [00:12<00:00,  1.06it/s]\n",
      "100%|██████████| 33/33 [00:09<00:00,  3.40it/s]\n"
     ]
    },
    {
     "name": "stdout",
     "output_type": "stream",
     "text": [
      "1m 26s\n",
      "Early Stopping Counter = 3\n",
      "Epoch 24/300\n"
     ]
    },
    {
     "name": "stderr",
     "output_type": "stream",
     "text": [
      "100%|██████████| 207/207 [01:04<00:00,  3.23it/s]\n",
      "100%|██████████| 13/13 [00:12<00:00,  1.06it/s]\n",
      "100%|██████████| 33/33 [00:09<00:00,  3.37it/s]\n"
     ]
    },
    {
     "name": "stdout",
     "output_type": "stream",
     "text": [
      "1m 26s\n",
      "Consistency Loss declined to 0.12629073571700317\n",
      "Early Stopping Counter = 0\n",
      "Epoch 25/300\n"
     ]
    },
    {
     "name": "stderr",
     "output_type": "stream",
     "text": [
      "100%|██████████| 207/207 [01:03<00:00,  3.24it/s]\n",
      "100%|██████████| 13/13 [00:12<00:00,  1.06it/s]\n",
      "100%|██████████| 33/33 [00:09<00:00,  3.46it/s]\n"
     ]
    },
    {
     "name": "stdout",
     "output_type": "stream",
     "text": [
      "1m 26s\n",
      "Early Stopping Counter = 1\n",
      "Epoch 26/300\n"
     ]
    },
    {
     "name": "stderr",
     "output_type": "stream",
     "text": [
      "100%|██████████| 207/207 [01:03<00:00,  3.24it/s]\n",
      "100%|██████████| 13/13 [00:12<00:00,  1.06it/s]\n",
      "100%|██████████| 33/33 [00:09<00:00,  3.42it/s]\n"
     ]
    },
    {
     "name": "stdout",
     "output_type": "stream",
     "text": [
      "1m 26s\n",
      "Consistency Loss declined to 0.1261671191224685\n",
      "Early Stopping Counter = 0\n",
      "Epoch 27/300\n"
     ]
    },
    {
     "name": "stderr",
     "output_type": "stream",
     "text": [
      "100%|██████████| 207/207 [01:03<00:00,  3.24it/s]\n",
      "100%|██████████| 13/13 [00:12<00:00,  1.06it/s]\n",
      "100%|██████████| 33/33 [00:09<00:00,  3.42it/s]\n"
     ]
    },
    {
     "name": "stdout",
     "output_type": "stream",
     "text": [
      "1m 26s\n",
      "Consistency Loss declined to 0.12147483229637146\n",
      "Early Stopping Counter = 0\n",
      "Epoch 28/300\n"
     ]
    },
    {
     "name": "stderr",
     "output_type": "stream",
     "text": [
      "100%|██████████| 207/207 [01:03<00:00,  3.23it/s]\n",
      "100%|██████████| 13/13 [00:12<00:00,  1.05it/s]\n",
      "100%|██████████| 33/33 [00:09<00:00,  3.41it/s]\n"
     ]
    },
    {
     "name": "stdout",
     "output_type": "stream",
     "text": [
      "1m 26s\n",
      "Early Stopping Counter = 1\n",
      "Epoch 29/300\n"
     ]
    },
    {
     "name": "stderr",
     "output_type": "stream",
     "text": [
      "100%|██████████| 207/207 [01:03<00:00,  3.24it/s]\n",
      "100%|██████████| 13/13 [00:12<00:00,  1.05it/s]\n",
      "100%|██████████| 33/33 [00:09<00:00,  3.40it/s]\n"
     ]
    },
    {
     "name": "stdout",
     "output_type": "stream",
     "text": [
      "1m 26s\n",
      "Early Stopping Counter = 2\n",
      "Epoch 30/300\n"
     ]
    },
    {
     "name": "stderr",
     "output_type": "stream",
     "text": [
      "100%|██████████| 207/207 [01:04<00:00,  3.23it/s]\n",
      "100%|██████████| 13/13 [00:12<00:00,  1.05it/s]\n",
      "100%|██████████| 33/33 [00:09<00:00,  3.44it/s]\n"
     ]
    },
    {
     "name": "stdout",
     "output_type": "stream",
     "text": [
      "1m 26s\n",
      "Consistency Loss declined to 0.11956787395935792\n",
      "Early Stopping Counter = 0\n",
      "Epoch 31/300\n"
     ]
    },
    {
     "name": "stderr",
     "output_type": "stream",
     "text": [
      "100%|██████████| 207/207 [01:04<00:00,  3.22it/s]\n",
      "100%|██████████| 13/13 [00:12<00:00,  1.06it/s]\n",
      "100%|██████████| 33/33 [00:09<00:00,  3.43it/s]\n"
     ]
    },
    {
     "name": "stdout",
     "output_type": "stream",
     "text": [
      "1m 26s\n",
      "Consistency Loss declined to 0.11742693243118432\n",
      "Early Stopping Counter = 0\n",
      "Epoch 32/300\n"
     ]
    },
    {
     "name": "stderr",
     "output_type": "stream",
     "text": [
      "100%|██████████| 207/207 [01:03<00:00,  3.24it/s]\n",
      "100%|██████████| 13/13 [00:12<00:00,  1.06it/s]\n",
      "100%|██████████| 33/33 [00:09<00:00,  3.39it/s]\n"
     ]
    },
    {
     "name": "stdout",
     "output_type": "stream",
     "text": [
      "1m 26s\n",
      "Early Stopping Counter = 1\n",
      "Epoch 33/300\n"
     ]
    },
    {
     "name": "stderr",
     "output_type": "stream",
     "text": [
      "100%|██████████| 207/207 [01:04<00:00,  3.23it/s]\n",
      "100%|██████████| 13/13 [00:12<00:00,  1.06it/s]\n",
      "100%|██████████| 33/33 [00:09<00:00,  3.44it/s]\n"
     ]
    },
    {
     "name": "stdout",
     "output_type": "stream",
     "text": [
      "1m 26s\n",
      "Consistency Loss declined to 0.11135797661084396\n",
      "Early Stopping Counter = 0\n",
      "Epoch 34/300\n"
     ]
    },
    {
     "name": "stderr",
     "output_type": "stream",
     "text": [
      "100%|██████████| 207/207 [01:03<00:00,  3.25it/s]\n",
      "100%|██████████| 13/13 [00:12<00:00,  1.07it/s]\n",
      "100%|██████████| 33/33 [00:09<00:00,  3.40it/s]\n"
     ]
    },
    {
     "name": "stdout",
     "output_type": "stream",
     "text": [
      "1m 26s\n",
      "Early Stopping Counter = 1\n",
      "Epoch 35/300\n"
     ]
    },
    {
     "name": "stderr",
     "output_type": "stream",
     "text": [
      "100%|██████████| 207/207 [01:04<00:00,  3.23it/s]\n",
      "100%|██████████| 13/13 [00:12<00:00,  1.07it/s]\n",
      "100%|██████████| 33/33 [00:09<00:00,  3.37it/s]\n"
     ]
    },
    {
     "name": "stdout",
     "output_type": "stream",
     "text": [
      "1m 26s\n",
      "Consistency Loss declined to 0.11080928777272885\n",
      "Early Stopping Counter = 0\n",
      "Epoch 36/300\n"
     ]
    },
    {
     "name": "stderr",
     "output_type": "stream",
     "text": [
      "100%|██████████| 207/207 [01:03<00:00,  3.25it/s]\n",
      "100%|██████████| 13/13 [00:12<00:00,  1.05it/s]\n",
      "100%|██████████| 33/33 [00:09<00:00,  3.44it/s]\n"
     ]
    },
    {
     "name": "stdout",
     "output_type": "stream",
     "text": [
      "1m 26s\n",
      "Early Stopping Counter = 1\n",
      "Epoch 37/300\n"
     ]
    },
    {
     "name": "stderr",
     "output_type": "stream",
     "text": [
      "100%|██████████| 207/207 [01:04<00:00,  3.23it/s]\n",
      "100%|██████████| 13/13 [00:12<00:00,  1.07it/s]\n",
      "100%|██████████| 33/33 [00:09<00:00,  3.40it/s]\n"
     ]
    },
    {
     "name": "stdout",
     "output_type": "stream",
     "text": [
      "1m 26s\n",
      "Early Stopping Counter = 2\n",
      "Epoch 38/300\n"
     ]
    },
    {
     "name": "stderr",
     "output_type": "stream",
     "text": [
      "100%|██████████| 207/207 [01:04<00:00,  3.23it/s]\n",
      "100%|██████████| 13/13 [00:12<00:00,  1.07it/s]\n",
      "100%|██████████| 33/33 [00:09<00:00,  3.39it/s]\n"
     ]
    },
    {
     "name": "stdout",
     "output_type": "stream",
     "text": [
      "1m 26s\n",
      "Early Stopping Counter = 3\n",
      "Epoch 39/300\n"
     ]
    },
    {
     "name": "stderr",
     "output_type": "stream",
     "text": [
      "100%|██████████| 207/207 [01:04<00:00,  3.23it/s]\n",
      "100%|██████████| 13/13 [00:12<00:00,  1.05it/s]\n",
      "100%|██████████| 33/33 [00:09<00:00,  3.43it/s]\n"
     ]
    },
    {
     "name": "stdout",
     "output_type": "stream",
     "text": [
      "1m 26s\n",
      "Early Stopping Counter = 4\n",
      "Epoch 40/300\n"
     ]
    },
    {
     "name": "stderr",
     "output_type": "stream",
     "text": [
      "100%|██████████| 207/207 [01:04<00:00,  3.23it/s]\n",
      "100%|██████████| 13/13 [00:12<00:00,  1.06it/s]\n",
      "100%|██████████| 33/33 [00:09<00:00,  3.37it/s]\n"
     ]
    },
    {
     "name": "stdout",
     "output_type": "stream",
     "text": [
      "1m 26s\n",
      "Consistency Loss declined to 0.10821522886936481\n",
      "Early Stopping Counter = 0\n",
      "Epoch 41/300\n"
     ]
    },
    {
     "name": "stderr",
     "output_type": "stream",
     "text": [
      "100%|██████████| 207/207 [01:03<00:00,  3.24it/s]\n",
      "100%|██████████| 13/13 [00:12<00:00,  1.06it/s]\n",
      "100%|██████████| 33/33 [00:09<00:00,  3.35it/s]\n"
     ]
    },
    {
     "name": "stdout",
     "output_type": "stream",
     "text": [
      "1m 26s\n",
      "Consistency Loss declined to 0.10816916651450671\n",
      "Early Stopping Counter = 0\n",
      "Epoch 42/300\n"
     ]
    },
    {
     "name": "stderr",
     "output_type": "stream",
     "text": [
      "100%|██████████| 207/207 [01:04<00:00,  3.23it/s]\n",
      "100%|██████████| 13/13 [00:12<00:00,  1.05it/s]\n",
      "100%|██████████| 33/33 [00:09<00:00,  3.42it/s]\n"
     ]
    },
    {
     "name": "stdout",
     "output_type": "stream",
     "text": [
      "1m 26s\n",
      "Early Stopping Counter = 1\n",
      "Epoch 43/300\n"
     ]
    },
    {
     "name": "stderr",
     "output_type": "stream",
     "text": [
      "100%|██████████| 207/207 [01:04<00:00,  3.23it/s]\n",
      "100%|██████████| 13/13 [00:12<00:00,  1.06it/s]\n",
      "100%|██████████| 33/33 [00:09<00:00,  3.42it/s]\n"
     ]
    },
    {
     "name": "stdout",
     "output_type": "stream",
     "text": [
      "1m 26s\n",
      "Consistency Loss declined to 0.1037094438305268\n",
      "Early Stopping Counter = 0\n",
      "Epoch 44/300\n"
     ]
    },
    {
     "name": "stderr",
     "output_type": "stream",
     "text": [
      "100%|██████████| 207/207 [01:03<00:00,  3.24it/s]\n",
      "100%|██████████| 13/13 [00:12<00:00,  1.07it/s]\n",
      "100%|██████████| 33/33 [00:09<00:00,  3.40it/s]\n"
     ]
    },
    {
     "name": "stdout",
     "output_type": "stream",
     "text": [
      "1m 26s\n",
      "Early Stopping Counter = 1\n",
      "Epoch 45/300\n"
     ]
    },
    {
     "name": "stderr",
     "output_type": "stream",
     "text": [
      "100%|██████████| 207/207 [01:03<00:00,  3.25it/s]\n",
      "100%|██████████| 13/13 [00:12<00:00,  1.06it/s]\n",
      "100%|██████████| 33/33 [00:09<00:00,  3.40it/s]\n"
     ]
    },
    {
     "name": "stdout",
     "output_type": "stream",
     "text": [
      "1m 26s\n",
      "Consistency Loss declined to 0.10369468308412112\n",
      "Early Stopping Counter = 0\n",
      "Epoch 46/300\n"
     ]
    },
    {
     "name": "stderr",
     "output_type": "stream",
     "text": [
      "100%|██████████| 207/207 [01:03<00:00,  3.26it/s]\n",
      "100%|██████████| 13/13 [00:12<00:00,  1.05it/s]\n",
      "100%|██████████| 33/33 [00:10<00:00,  3.24it/s]\n"
     ]
    },
    {
     "name": "stdout",
     "output_type": "stream",
     "text": [
      "1m 26s\n",
      "Early Stopping Counter = 1\n",
      "Epoch 47/300\n"
     ]
    },
    {
     "name": "stderr",
     "output_type": "stream",
     "text": [
      "100%|██████████| 207/207 [01:03<00:00,  3.24it/s]\n",
      "100%|██████████| 13/13 [00:12<00:00,  1.06it/s]\n",
      "100%|██████████| 33/33 [00:10<00:00,  3.28it/s]\n"
     ]
    },
    {
     "name": "stdout",
     "output_type": "stream",
     "text": [
      "1m 26s\n",
      "Consistency Loss declined to 0.10182738762635452\n",
      "Early Stopping Counter = 0\n",
      "Epoch 48/300\n"
     ]
    },
    {
     "name": "stderr",
     "output_type": "stream",
     "text": [
      "100%|██████████| 207/207 [01:03<00:00,  3.26it/s]\n",
      "100%|██████████| 13/13 [00:12<00:00,  1.05it/s]\n",
      "100%|██████████| 33/33 [00:09<00:00,  3.41it/s]\n"
     ]
    },
    {
     "name": "stdout",
     "output_type": "stream",
     "text": [
      "1m 26s\n",
      "Early Stopping Counter = 1\n",
      "Epoch 49/300\n"
     ]
    },
    {
     "name": "stderr",
     "output_type": "stream",
     "text": [
      "100%|██████████| 207/207 [01:03<00:00,  3.24it/s]\n",
      "100%|██████████| 13/13 [00:12<00:00,  1.07it/s]\n",
      "100%|██████████| 33/33 [00:09<00:00,  3.42it/s]\n"
     ]
    },
    {
     "name": "stdout",
     "output_type": "stream",
     "text": [
      "1m 26s\n",
      "Consistency Loss declined to 0.10115847048851159\n",
      "Early Stopping Counter = 0\n",
      "Epoch 50/300\n"
     ]
    },
    {
     "name": "stderr",
     "output_type": "stream",
     "text": [
      "100%|██████████| 207/207 [01:03<00:00,  3.24it/s]\n",
      "100%|██████████| 13/13 [00:12<00:00,  1.05it/s]\n",
      "100%|██████████| 33/33 [00:09<00:00,  3.33it/s]\n"
     ]
    },
    {
     "name": "stdout",
     "output_type": "stream",
     "text": [
      "1m 26s\n",
      "Consistency Loss declined to 0.10093513532326771\n",
      "Early Stopping Counter = 0\n",
      "Epoch 51/300\n"
     ]
    },
    {
     "name": "stderr",
     "output_type": "stream",
     "text": [
      "100%|██████████| 207/207 [01:03<00:00,  3.24it/s]\n",
      "100%|██████████| 13/13 [00:12<00:00,  1.07it/s]\n",
      "100%|██████████| 33/33 [00:09<00:00,  3.40it/s]\n"
     ]
    },
    {
     "name": "stdout",
     "output_type": "stream",
     "text": [
      "1m 26s\n",
      "Consistency Loss declined to 0.09818657831503795\n",
      "Early Stopping Counter = 0\n",
      "Epoch 52/300\n"
     ]
    },
    {
     "name": "stderr",
     "output_type": "stream",
     "text": [
      "100%|██████████| 207/207 [01:03<00:00,  3.25it/s]\n",
      "100%|██████████| 13/13 [00:12<00:00,  1.05it/s]\n",
      "100%|██████████| 33/33 [00:09<00:00,  3.39it/s]\n"
     ]
    },
    {
     "name": "stdout",
     "output_type": "stream",
     "text": [
      "1m 26s\n",
      "Early Stopping Counter = 1\n",
      "Epoch 53/300\n"
     ]
    },
    {
     "name": "stderr",
     "output_type": "stream",
     "text": [
      "100%|██████████| 207/207 [01:03<00:00,  3.25it/s]\n",
      "100%|██████████| 13/13 [00:12<00:00,  1.04it/s]\n",
      "100%|██████████| 33/33 [00:09<00:00,  3.36it/s]\n"
     ]
    },
    {
     "name": "stdout",
     "output_type": "stream",
     "text": [
      "1m 26s\n",
      "Consistency Loss declined to 0.09647583044492282\n",
      "Early Stopping Counter = 0\n",
      "Epoch 54/300\n"
     ]
    },
    {
     "name": "stderr",
     "output_type": "stream",
     "text": [
      "100%|██████████| 207/207 [01:03<00:00,  3.24it/s]\n",
      "100%|██████████| 13/13 [00:12<00:00,  1.07it/s]\n",
      "100%|██████████| 33/33 [00:09<00:00,  3.41it/s]\n"
     ]
    },
    {
     "name": "stdout",
     "output_type": "stream",
     "text": [
      "1m 26s\n",
      "Consistency Loss declined to 0.0962161857348222\n",
      "Early Stopping Counter = 0\n",
      "Epoch 55/300\n"
     ]
    },
    {
     "name": "stderr",
     "output_type": "stream",
     "text": [
      "100%|██████████| 207/207 [01:04<00:00,  3.23it/s]\n",
      "100%|██████████| 13/13 [00:12<00:00,  1.06it/s]\n",
      "100%|██████████| 33/33 [00:09<00:00,  3.36it/s]\n"
     ]
    },
    {
     "name": "stdout",
     "output_type": "stream",
     "text": [
      "1m 26s\n",
      "Early Stopping Counter = 1\n",
      "Epoch 56/300\n"
     ]
    },
    {
     "name": "stderr",
     "output_type": "stream",
     "text": [
      "100%|██████████| 207/207 [01:03<00:00,  3.24it/s]\n",
      "100%|██████████| 13/13 [00:12<00:00,  1.05it/s]\n",
      "100%|██████████| 33/33 [00:09<00:00,  3.45it/s]\n"
     ]
    },
    {
     "name": "stdout",
     "output_type": "stream",
     "text": [
      "1m 26s\n",
      "Consistency Loss declined to 0.09267837496904227\n",
      "Early Stopping Counter = 0\n",
      "Epoch 57/300\n"
     ]
    },
    {
     "name": "stderr",
     "output_type": "stream",
     "text": [
      "100%|██████████| 207/207 [01:03<00:00,  3.25it/s]\n",
      "100%|██████████| 13/13 [00:12<00:00,  1.05it/s]\n",
      "100%|██████████| 33/33 [00:09<00:00,  3.38it/s]\n"
     ]
    },
    {
     "name": "stdout",
     "output_type": "stream",
     "text": [
      "1m 26s\n",
      "Early Stopping Counter = 1\n",
      "Epoch 58/300\n"
     ]
    },
    {
     "name": "stderr",
     "output_type": "stream",
     "text": [
      "100%|██████████| 207/207 [01:03<00:00,  3.25it/s]\n",
      "100%|██████████| 13/13 [00:12<00:00,  1.07it/s]\n",
      "100%|██████████| 33/33 [00:09<00:00,  3.36it/s]\n"
     ]
    },
    {
     "name": "stdout",
     "output_type": "stream",
     "text": [
      "1m 26s\n",
      "Early Stopping Counter = 2\n",
      "Epoch 59/300\n"
     ]
    },
    {
     "name": "stderr",
     "output_type": "stream",
     "text": [
      "100%|██████████| 207/207 [01:03<00:00,  3.24it/s]\n",
      "100%|██████████| 13/13 [00:12<00:00,  1.05it/s]\n",
      "100%|██████████| 33/33 [00:10<00:00,  3.29it/s]\n"
     ]
    },
    {
     "name": "stdout",
     "output_type": "stream",
     "text": [
      "1m 26s\n",
      "Consistency Loss declined to 0.09213770639437896\n",
      "Early Stopping Counter = 0\n",
      "Epoch 60/300\n"
     ]
    },
    {
     "name": "stderr",
     "output_type": "stream",
     "text": [
      "100%|██████████| 207/207 [01:03<00:00,  3.25it/s]\n",
      "100%|██████████| 13/13 [00:12<00:00,  1.05it/s]\n",
      "100%|██████████| 33/33 [00:09<00:00,  3.44it/s]\n"
     ]
    },
    {
     "name": "stdout",
     "output_type": "stream",
     "text": [
      "1m 26s\n",
      "Consistency Loss declined to 0.08834802359342575\n",
      "Early Stopping Counter = 0\n",
      "Epoch 61/300\n"
     ]
    },
    {
     "name": "stderr",
     "output_type": "stream",
     "text": [
      "100%|██████████| 207/207 [01:04<00:00,  3.23it/s]\n",
      "100%|██████████| 13/13 [00:12<00:00,  1.07it/s]\n",
      "100%|██████████| 33/33 [00:09<00:00,  3.49it/s]\n"
     ]
    },
    {
     "name": "stdout",
     "output_type": "stream",
     "text": [
      "1m 26s\n",
      "Early Stopping Counter = 1\n",
      "Epoch 62/300\n"
     ]
    },
    {
     "name": "stderr",
     "output_type": "stream",
     "text": [
      "100%|██████████| 207/207 [01:04<00:00,  3.23it/s]\n",
      "100%|██████████| 13/13 [00:12<00:00,  1.07it/s]\n",
      "100%|██████████| 33/33 [00:09<00:00,  3.42it/s]\n"
     ]
    },
    {
     "name": "stdout",
     "output_type": "stream",
     "text": [
      "1m 26s\n",
      "Early Stopping Counter = 2\n",
      "Epoch 63/300\n"
     ]
    },
    {
     "name": "stderr",
     "output_type": "stream",
     "text": [
      "100%|██████████| 207/207 [01:04<00:00,  3.23it/s]\n",
      "100%|██████████| 13/13 [00:12<00:00,  1.07it/s]\n",
      "100%|██████████| 33/33 [00:09<00:00,  3.44it/s]\n"
     ]
    },
    {
     "name": "stdout",
     "output_type": "stream",
     "text": [
      "1m 26s\n",
      "Consistency Loss declined to 0.08583496167109562\n",
      "Early Stopping Counter = 0\n",
      "Epoch 64/300\n"
     ]
    },
    {
     "name": "stderr",
     "output_type": "stream",
     "text": [
      "100%|██████████| 207/207 [01:03<00:00,  3.24it/s]\n",
      "100%|██████████| 13/13 [00:12<00:00,  1.07it/s]\n",
      "100%|██████████| 33/33 [00:09<00:00,  3.40it/s]\n"
     ]
    },
    {
     "name": "stdout",
     "output_type": "stream",
     "text": [
      "1m 26s\n",
      "Early Stopping Counter = 1\n",
      "Epoch 65/300\n"
     ]
    },
    {
     "name": "stderr",
     "output_type": "stream",
     "text": [
      "100%|██████████| 207/207 [01:03<00:00,  3.24it/s]\n",
      "100%|██████████| 13/13 [00:12<00:00,  1.07it/s]\n",
      "100%|██████████| 33/33 [00:09<00:00,  3.39it/s]\n"
     ]
    },
    {
     "name": "stdout",
     "output_type": "stream",
     "text": [
      "1m 26s\n",
      "Early Stopping Counter = 2\n",
      "Epoch 66/300\n"
     ]
    },
    {
     "name": "stderr",
     "output_type": "stream",
     "text": [
      "100%|██████████| 207/207 [01:03<00:00,  3.24it/s]\n",
      "100%|██████████| 13/13 [00:12<00:00,  1.05it/s]\n",
      "100%|██████████| 33/33 [00:09<00:00,  3.43it/s]\n"
     ]
    },
    {
     "name": "stdout",
     "output_type": "stream",
     "text": [
      "1m 26s\n",
      "Consistency Loss declined to 0.08511417072552901\n",
      "Early Stopping Counter = 0\n",
      "Epoch 67/300\n"
     ]
    },
    {
     "name": "stderr",
     "output_type": "stream",
     "text": [
      "100%|██████████| 207/207 [01:03<00:00,  3.25it/s]\n",
      "100%|██████████| 13/13 [00:12<00:00,  1.05it/s]\n",
      "100%|██████████| 33/33 [00:09<00:00,  3.37it/s]\n"
     ]
    },
    {
     "name": "stdout",
     "output_type": "stream",
     "text": [
      "1m 26s\n",
      "Early Stopping Counter = 1\n",
      "Epoch 68/300\n"
     ]
    },
    {
     "name": "stderr",
     "output_type": "stream",
     "text": [
      "100%|██████████| 207/207 [01:03<00:00,  3.25it/s]\n",
      "100%|██████████| 13/13 [00:12<00:00,  1.07it/s]\n",
      "100%|██████████| 33/33 [00:09<00:00,  3.40it/s]\n"
     ]
    },
    {
     "name": "stdout",
     "output_type": "stream",
     "text": [
      "1m 26s\n",
      "Early Stopping Counter = 2\n",
      "Epoch 69/300\n"
     ]
    },
    {
     "name": "stderr",
     "output_type": "stream",
     "text": [
      "100%|██████████| 207/207 [01:03<00:00,  3.24it/s]\n",
      "100%|██████████| 13/13 [00:12<00:00,  1.07it/s]\n",
      "100%|██████████| 33/33 [00:09<00:00,  3.39it/s]\n"
     ]
    },
    {
     "name": "stdout",
     "output_type": "stream",
     "text": [
      "1m 26s\n",
      "Consistency Loss declined to 0.08438238100363658\n",
      "Early Stopping Counter = 0\n",
      "Epoch 70/300\n"
     ]
    },
    {
     "name": "stderr",
     "output_type": "stream",
     "text": [
      "100%|██████████| 207/207 [01:03<00:00,  3.25it/s]\n",
      "100%|██████████| 13/13 [00:12<00:00,  1.05it/s]\n",
      "100%|██████████| 33/33 [00:09<00:00,  3.40it/s]\n"
     ]
    },
    {
     "name": "stdout",
     "output_type": "stream",
     "text": [
      "1m 26s\n",
      "Consistency Loss declined to 0.0840796879850901\n",
      "Early Stopping Counter = 0\n",
      "Epoch 71/300\n"
     ]
    },
    {
     "name": "stderr",
     "output_type": "stream",
     "text": [
      "100%|██████████| 207/207 [01:03<00:00,  3.24it/s]\n",
      "100%|██████████| 13/13 [00:12<00:00,  1.07it/s]\n",
      "100%|██████████| 33/33 [00:09<00:00,  3.36it/s]\n"
     ]
    },
    {
     "name": "stdout",
     "output_type": "stream",
     "text": [
      "1m 26s\n",
      "Consistency Loss declined to 0.0814419027704459\n",
      "Early Stopping Counter = 0\n",
      "Epoch 72/300\n"
     ]
    },
    {
     "name": "stderr",
     "output_type": "stream",
     "text": [
      "100%|██████████| 207/207 [01:03<00:00,  3.24it/s]\n",
      "100%|██████████| 13/13 [00:12<00:00,  1.06it/s]\n",
      "100%|██████████| 33/33 [00:09<00:00,  3.38it/s]\n"
     ]
    },
    {
     "name": "stdout",
     "output_type": "stream",
     "text": [
      "1m 26s\n",
      "Early Stopping Counter = 1\n",
      "Epoch 73/300\n"
     ]
    },
    {
     "name": "stderr",
     "output_type": "stream",
     "text": [
      "100%|██████████| 207/207 [01:03<00:00,  3.24it/s]\n",
      "100%|██████████| 13/13 [00:12<00:00,  1.05it/s]\n",
      "100%|██████████| 33/33 [00:09<00:00,  3.40it/s]\n"
     ]
    },
    {
     "name": "stdout",
     "output_type": "stream",
     "text": [
      "1m 26s\n",
      "Consistency Loss declined to 0.07982999487565114\n",
      "Early Stopping Counter = 0\n",
      "Epoch 74/300\n"
     ]
    },
    {
     "name": "stderr",
     "output_type": "stream",
     "text": [
      "100%|██████████| 207/207 [01:03<00:00,  3.25it/s]\n",
      "100%|██████████| 13/13 [00:12<00:00,  1.07it/s]\n",
      "100%|██████████| 33/33 [00:09<00:00,  3.42it/s]\n"
     ]
    },
    {
     "name": "stdout",
     "output_type": "stream",
     "text": [
      "1m 26s\n",
      "Early Stopping Counter = 1\n",
      "Epoch 75/300\n"
     ]
    },
    {
     "name": "stderr",
     "output_type": "stream",
     "text": [
      "100%|██████████| 207/207 [01:03<00:00,  3.24it/s]\n",
      "100%|██████████| 13/13 [00:12<00:00,  1.05it/s]\n",
      "100%|██████████| 33/33 [00:09<00:00,  3.40it/s]\n"
     ]
    },
    {
     "name": "stdout",
     "output_type": "stream",
     "text": [
      "1m 26s\n",
      "Consistency Loss declined to 0.0761157635312814\n",
      "Early Stopping Counter = 0\n",
      "Epoch 76/300\n"
     ]
    },
    {
     "name": "stderr",
     "output_type": "stream",
     "text": [
      "100%|██████████| 207/207 [01:03<00:00,  3.25it/s]\n",
      "100%|██████████| 13/13 [00:12<00:00,  1.05it/s]\n",
      "100%|██████████| 33/33 [00:09<00:00,  3.45it/s]\n"
     ]
    },
    {
     "name": "stdout",
     "output_type": "stream",
     "text": [
      "1m 26s\n",
      "Early Stopping Counter = 1\n",
      "Epoch 77/300\n"
     ]
    },
    {
     "name": "stderr",
     "output_type": "stream",
     "text": [
      "100%|██████████| 207/207 [01:03<00:00,  3.25it/s]\n",
      "100%|██████████| 13/13 [00:12<00:00,  1.07it/s]\n",
      "100%|██████████| 33/33 [00:09<00:00,  3.45it/s]\n"
     ]
    },
    {
     "name": "stdout",
     "output_type": "stream",
     "text": [
      "1m 25s\n",
      "Early Stopping Counter = 2\n",
      "Epoch 78/300\n"
     ]
    },
    {
     "name": "stderr",
     "output_type": "stream",
     "text": [
      "100%|██████████| 207/207 [01:03<00:00,  3.24it/s]\n",
      "100%|██████████| 13/13 [00:12<00:00,  1.05it/s]\n",
      "100%|██████████| 33/33 [00:09<00:00,  3.42it/s]\n"
     ]
    },
    {
     "name": "stdout",
     "output_type": "stream",
     "text": [
      "1m 26s\n",
      "Early Stopping Counter = 3\n",
      "Epoch 79/300\n"
     ]
    },
    {
     "name": "stderr",
     "output_type": "stream",
     "text": [
      "100%|██████████| 207/207 [01:04<00:00,  3.23it/s]\n",
      "100%|██████████| 13/13 [00:12<00:00,  1.07it/s]\n",
      "100%|██████████| 33/33 [00:09<00:00,  3.43it/s]\n"
     ]
    },
    {
     "name": "stdout",
     "output_type": "stream",
     "text": [
      "1m 26s\n",
      "Early Stopping Counter = 4\n",
      "Epoch 80/300\n"
     ]
    },
    {
     "name": "stderr",
     "output_type": "stream",
     "text": [
      "100%|██████████| 207/207 [01:03<00:00,  3.24it/s]\n",
      "100%|██████████| 13/13 [00:12<00:00,  1.07it/s]\n",
      "100%|██████████| 33/33 [00:09<00:00,  3.43it/s]\n"
     ]
    },
    {
     "name": "stdout",
     "output_type": "stream",
     "text": [
      "1m 26s\n",
      "Early Stopping Counter = 5\n",
      "Epoch 81/300\n"
     ]
    },
    {
     "name": "stderr",
     "output_type": "stream",
     "text": [
      "100%|██████████| 207/207 [01:03<00:00,  3.23it/s]\n",
      "100%|██████████| 13/13 [00:12<00:00,  1.07it/s]\n",
      "100%|██████████| 33/33 [00:09<00:00,  3.40it/s]\n"
     ]
    },
    {
     "name": "stdout",
     "output_type": "stream",
     "text": [
      "1m 26s\n",
      "Early Stopping Counter = 6\n",
      "Epoch 82/300\n"
     ]
    },
    {
     "name": "stderr",
     "output_type": "stream",
     "text": [
      "100%|██████████| 207/207 [01:04<00:00,  3.23it/s]\n",
      "100%|██████████| 13/13 [00:12<00:00,  1.06it/s]\n",
      "100%|██████████| 33/33 [00:09<00:00,  3.41it/s]\n"
     ]
    },
    {
     "name": "stdout",
     "output_type": "stream",
     "text": [
      "1m 26s\n",
      "Early Stopping Counter = 7\n",
      "Epoch 83/300\n"
     ]
    },
    {
     "name": "stderr",
     "output_type": "stream",
     "text": [
      "100%|██████████| 207/207 [01:04<00:00,  3.22it/s]\n",
      "100%|██████████| 13/13 [00:12<00:00,  1.07it/s]\n",
      "100%|██████████| 33/33 [00:09<00:00,  3.41it/s]\n"
     ]
    },
    {
     "name": "stdout",
     "output_type": "stream",
     "text": [
      "1m 26s\n",
      "Early Stopping Counter = 8\n",
      "Epoch 84/300\n"
     ]
    },
    {
     "name": "stderr",
     "output_type": "stream",
     "text": [
      "100%|██████████| 207/207 [01:04<00:00,  3.23it/s]\n",
      "100%|██████████| 13/13 [00:12<00:00,  1.06it/s]\n",
      "100%|██████████| 33/33 [00:09<00:00,  3.44it/s]\n"
     ]
    },
    {
     "name": "stdout",
     "output_type": "stream",
     "text": [
      "1m 26s\n",
      "Early Stopping Counter = 9\n",
      "Epoch 85/300\n"
     ]
    },
    {
     "name": "stderr",
     "output_type": "stream",
     "text": [
      "100%|██████████| 207/207 [01:04<00:00,  3.22it/s]\n",
      "100%|██████████| 13/13 [00:12<00:00,  1.05it/s]\n",
      "100%|██████████| 33/33 [00:09<00:00,  3.39it/s]\n"
     ]
    },
    {
     "name": "stdout",
     "output_type": "stream",
     "text": [
      "1m 26s\n",
      "Consistency Loss declined to 0.07478080059473331\n",
      "Early Stopping Counter = 0\n",
      "Epoch 86/300\n"
     ]
    },
    {
     "name": "stderr",
     "output_type": "stream",
     "text": [
      "100%|██████████| 207/207 [01:03<00:00,  3.24it/s]\n",
      "100%|██████████| 13/13 [00:12<00:00,  1.05it/s]\n",
      "100%|██████████| 33/33 [00:09<00:00,  3.44it/s]\n"
     ]
    },
    {
     "name": "stdout",
     "output_type": "stream",
     "text": [
      "1m 26s\n",
      "Consistency Loss declined to 0.07464845994344124\n",
      "Early Stopping Counter = 0\n",
      "Epoch 87/300\n"
     ]
    },
    {
     "name": "stderr",
     "output_type": "stream",
     "text": [
      "100%|██████████| 207/207 [01:04<00:00,  3.23it/s]\n",
      "100%|██████████| 13/13 [00:12<00:00,  1.04it/s]\n",
      "100%|██████████| 33/33 [00:09<00:00,  3.35it/s]\n"
     ]
    },
    {
     "name": "stdout",
     "output_type": "stream",
     "text": [
      "1m 26s\n",
      "Consistency Loss declined to 0.0742576873073211\n",
      "Early Stopping Counter = 0\n",
      "Epoch 88/300\n"
     ]
    },
    {
     "name": "stderr",
     "output_type": "stream",
     "text": [
      "100%|██████████| 207/207 [01:03<00:00,  3.24it/s]\n",
      "100%|██████████| 13/13 [00:12<00:00,  1.04it/s]\n",
      "100%|██████████| 33/33 [00:09<00:00,  3.46it/s]\n"
     ]
    },
    {
     "name": "stdout",
     "output_type": "stream",
     "text": [
      "1m 26s\n",
      "Early Stopping Counter = 1\n",
      "Epoch 89/300\n"
     ]
    },
    {
     "name": "stderr",
     "output_type": "stream",
     "text": [
      "100%|██████████| 207/207 [01:03<00:00,  3.25it/s]\n",
      "100%|██████████| 13/13 [00:12<00:00,  1.06it/s]\n",
      "100%|██████████| 33/33 [00:09<00:00,  3.45it/s]\n"
     ]
    },
    {
     "name": "stdout",
     "output_type": "stream",
     "text": [
      "1m 26s\n",
      "Early Stopping Counter = 2\n",
      "Epoch 90/300\n"
     ]
    },
    {
     "name": "stderr",
     "output_type": "stream",
     "text": [
      "100%|██████████| 207/207 [01:03<00:00,  3.24it/s]\n",
      "100%|██████████| 13/13 [00:12<00:00,  1.05it/s]\n",
      "100%|██████████| 33/33 [00:09<00:00,  3.39it/s]\n"
     ]
    },
    {
     "name": "stdout",
     "output_type": "stream",
     "text": [
      "1m 26s\n",
      "Early Stopping Counter = 3\n",
      "Epoch 91/300\n"
     ]
    },
    {
     "name": "stderr",
     "output_type": "stream",
     "text": [
      "100%|██████████| 207/207 [01:04<00:00,  3.23it/s]\n",
      "100%|██████████| 13/13 [00:12<00:00,  1.07it/s]\n",
      "100%|██████████| 33/33 [00:09<00:00,  3.40it/s]\n"
     ]
    },
    {
     "name": "stdout",
     "output_type": "stream",
     "text": [
      "1m 26s\n",
      "Consistency Loss declined to 0.07198037751592122\n",
      "Early Stopping Counter = 0\n",
      "Epoch 92/300\n"
     ]
    },
    {
     "name": "stderr",
     "output_type": "stream",
     "text": [
      "100%|██████████| 207/207 [01:03<00:00,  3.25it/s]\n",
      "100%|██████████| 13/13 [00:12<00:00,  1.07it/s]\n",
      "100%|██████████| 33/33 [00:09<00:00,  3.45it/s]\n"
     ]
    },
    {
     "name": "stdout",
     "output_type": "stream",
     "text": [
      "1m 25s\n",
      "Consistency Loss declined to 0.07050845284874623\n",
      "Early Stopping Counter = 0\n",
      "Epoch 93/300\n"
     ]
    },
    {
     "name": "stderr",
     "output_type": "stream",
     "text": [
      "100%|██████████| 207/207 [01:04<00:00,  3.23it/s]\n",
      "100%|██████████| 13/13 [00:12<00:00,  1.07it/s]\n",
      "100%|██████████| 33/33 [00:09<00:00,  3.39it/s]\n"
     ]
    },
    {
     "name": "stdout",
     "output_type": "stream",
     "text": [
      "1m 26s\n",
      "Early Stopping Counter = 1\n",
      "Epoch 94/300\n"
     ]
    },
    {
     "name": "stderr",
     "output_type": "stream",
     "text": [
      "100%|██████████| 207/207 [01:04<00:00,  3.23it/s]\n",
      "100%|██████████| 13/13 [00:12<00:00,  1.07it/s]\n",
      "100%|██████████| 33/33 [00:09<00:00,  3.37it/s]\n"
     ]
    },
    {
     "name": "stdout",
     "output_type": "stream",
     "text": [
      "1m 26s\n",
      "Early Stopping Counter = 2\n",
      "Epoch 95/300\n"
     ]
    },
    {
     "name": "stderr",
     "output_type": "stream",
     "text": [
      "100%|██████████| 207/207 [01:04<00:00,  3.23it/s]\n",
      "100%|██████████| 13/13 [00:12<00:00,  1.07it/s]\n",
      "100%|██████████| 33/33 [00:09<00:00,  3.41it/s]\n"
     ]
    },
    {
     "name": "stdout",
     "output_type": "stream",
     "text": [
      "1m 26s\n",
      "Early Stopping Counter = 3\n",
      "Epoch 96/300\n"
     ]
    },
    {
     "name": "stderr",
     "output_type": "stream",
     "text": [
      "100%|██████████| 207/207 [01:04<00:00,  3.23it/s]\n",
      "100%|██████████| 13/13 [00:12<00:00,  1.07it/s]\n",
      "100%|██████████| 33/33 [00:09<00:00,  3.44it/s]\n"
     ]
    },
    {
     "name": "stdout",
     "output_type": "stream",
     "text": [
      "1m 26s\n",
      "Early Stopping Counter = 4\n",
      "Epoch 97/300\n"
     ]
    },
    {
     "name": "stderr",
     "output_type": "stream",
     "text": [
      "100%|██████████| 207/207 [01:04<00:00,  3.23it/s]\n",
      "100%|██████████| 13/13 [00:12<00:00,  1.07it/s]\n",
      "100%|██████████| 33/33 [00:09<00:00,  3.45it/s]\n"
     ]
    },
    {
     "name": "stdout",
     "output_type": "stream",
     "text": [
      "1m 26s\n",
      "Consistency Loss declined to 0.06836753510511838\n",
      "Early Stopping Counter = 0\n",
      "Epoch 98/300\n"
     ]
    },
    {
     "name": "stderr",
     "output_type": "stream",
     "text": [
      "100%|██████████| 207/207 [01:03<00:00,  3.24it/s]\n",
      "100%|██████████| 13/13 [00:12<00:00,  1.06it/s]\n",
      "100%|██████████| 33/33 [00:09<00:00,  3.39it/s]\n"
     ]
    },
    {
     "name": "stdout",
     "output_type": "stream",
     "text": [
      "1m 26s\n",
      "Consistency Loss declined to 0.06778462001910576\n",
      "Early Stopping Counter = 0\n",
      "Epoch 99/300\n"
     ]
    },
    {
     "name": "stderr",
     "output_type": "stream",
     "text": [
      "100%|██████████| 207/207 [01:03<00:00,  3.24it/s]\n",
      "100%|██████████| 13/13 [00:12<00:00,  1.03it/s]\n",
      "100%|██████████| 33/33 [00:09<00:00,  3.42it/s]\n"
     ]
    },
    {
     "name": "stdout",
     "output_type": "stream",
     "text": [
      "1m 26s\n",
      "Consistency Loss declined to 0.06703582921853432\n",
      "Early Stopping Counter = 0\n",
      "Epoch 100/300\n"
     ]
    },
    {
     "name": "stderr",
     "output_type": "stream",
     "text": [
      "100%|██████████| 207/207 [01:03<00:00,  3.25it/s]\n",
      "100%|██████████| 13/13 [00:12<00:00,  1.05it/s]\n",
      "100%|██████████| 33/33 [00:09<00:00,  3.37it/s]\n"
     ]
    },
    {
     "name": "stdout",
     "output_type": "stream",
     "text": [
      "1m 26s\n",
      "Consistency Loss declined to 0.06638048016107999\n",
      "Early Stopping Counter = 0\n",
      "Epoch 101/300\n"
     ]
    },
    {
     "name": "stderr",
     "output_type": "stream",
     "text": [
      "100%|██████████| 207/207 [01:03<00:00,  3.24it/s]\n",
      "100%|██████████| 13/13 [00:12<00:00,  1.06it/s]\n",
      "100%|██████████| 33/33 [00:09<00:00,  3.42it/s]\n"
     ]
    },
    {
     "name": "stdout",
     "output_type": "stream",
     "text": [
      "1m 26s\n",
      "Early Stopping Counter = 1\n",
      "Epoch 102/300\n"
     ]
    },
    {
     "name": "stderr",
     "output_type": "stream",
     "text": [
      "100%|██████████| 207/207 [01:03<00:00,  3.24it/s]\n",
      "100%|██████████| 13/13 [00:12<00:00,  1.06it/s]\n",
      "100%|██████████| 33/33 [00:09<00:00,  3.40it/s]\n"
     ]
    },
    {
     "name": "stdout",
     "output_type": "stream",
     "text": [
      "1m 26s\n",
      "Early Stopping Counter = 2\n",
      "Epoch 103/300\n"
     ]
    },
    {
     "name": "stderr",
     "output_type": "stream",
     "text": [
      "100%|██████████| 207/207 [01:04<00:00,  3.23it/s]\n",
      "100%|██████████| 13/13 [00:12<00:00,  1.06it/s]\n",
      "100%|██████████| 33/33 [00:09<00:00,  3.37it/s]\n"
     ]
    },
    {
     "name": "stdout",
     "output_type": "stream",
     "text": [
      "1m 26s\n",
      "Early Stopping Counter = 3\n",
      "Epoch 104/300\n"
     ]
    },
    {
     "name": "stderr",
     "output_type": "stream",
     "text": [
      "100%|██████████| 207/207 [01:04<00:00,  3.22it/s]\n",
      "100%|██████████| 13/13 [00:12<00:00,  1.06it/s]\n",
      "100%|██████████| 33/33 [00:09<00:00,  3.37it/s]\n"
     ]
    },
    {
     "name": "stdout",
     "output_type": "stream",
     "text": [
      "1m 26s\n",
      "Early Stopping Counter = 4\n",
      "Epoch 105/300\n"
     ]
    },
    {
     "name": "stderr",
     "output_type": "stream",
     "text": [
      "100%|██████████| 207/207 [01:04<00:00,  3.23it/s]\n",
      "100%|██████████| 13/13 [00:12<00:00,  1.06it/s]\n",
      "100%|██████████| 33/33 [00:09<00:00,  3.41it/s]\n"
     ]
    },
    {
     "name": "stdout",
     "output_type": "stream",
     "text": [
      "1m 26s\n",
      "Consistency Loss declined to 0.06597253852165662\n",
      "Early Stopping Counter = 0\n",
      "Epoch 106/300\n"
     ]
    },
    {
     "name": "stderr",
     "output_type": "stream",
     "text": [
      "100%|██████████| 207/207 [01:03<00:00,  3.24it/s]\n",
      "100%|██████████| 13/13 [00:12<00:00,  1.06it/s]\n",
      "100%|██████████| 33/33 [00:09<00:00,  3.36it/s]\n"
     ]
    },
    {
     "name": "stdout",
     "output_type": "stream",
     "text": [
      "1m 26s\n",
      "Consistency Loss declined to 0.06380428201877154\n",
      "Early Stopping Counter = 0\n",
      "Epoch 107/300\n"
     ]
    },
    {
     "name": "stderr",
     "output_type": "stream",
     "text": [
      "100%|██████████| 207/207 [01:03<00:00,  3.24it/s]\n",
      "100%|██████████| 13/13 [00:12<00:00,  1.05it/s]\n",
      "100%|██████████| 33/33 [00:09<00:00,  3.35it/s]\n"
     ]
    },
    {
     "name": "stdout",
     "output_type": "stream",
     "text": [
      "1m 26s\n",
      "Consistency Loss declined to 0.0632907306918731\n",
      "Early Stopping Counter = 0\n",
      "Epoch 108/300\n"
     ]
    },
    {
     "name": "stderr",
     "output_type": "stream",
     "text": [
      "100%|██████████| 207/207 [01:03<00:00,  3.26it/s]\n",
      "100%|██████████| 13/13 [00:12<00:00,  1.05it/s]\n",
      "100%|██████████| 33/33 [00:09<00:00,  3.37it/s]\n"
     ]
    },
    {
     "name": "stdout",
     "output_type": "stream",
     "text": [
      "1m 26s\n",
      "Early Stopping Counter = 1\n",
      "Epoch 109/300\n"
     ]
    },
    {
     "name": "stderr",
     "output_type": "stream",
     "text": [
      "100%|██████████| 207/207 [01:03<00:00,  3.24it/s]\n",
      "100%|██████████| 13/13 [00:12<00:00,  1.06it/s]\n",
      "100%|██████████| 33/33 [00:09<00:00,  3.38it/s]\n"
     ]
    },
    {
     "name": "stdout",
     "output_type": "stream",
     "text": [
      "1m 26s\n",
      "Early Stopping Counter = 2\n",
      "Epoch 110/300\n"
     ]
    },
    {
     "name": "stderr",
     "output_type": "stream",
     "text": [
      "100%|██████████| 207/207 [01:04<00:00,  3.23it/s]\n",
      "100%|██████████| 13/13 [00:12<00:00,  1.04it/s]\n",
      "100%|██████████| 33/33 [00:09<00:00,  3.45it/s]\n"
     ]
    },
    {
     "name": "stdout",
     "output_type": "stream",
     "text": [
      "1m 26s\n",
      "Early Stopping Counter = 3\n",
      "Epoch 111/300\n"
     ]
    },
    {
     "name": "stderr",
     "output_type": "stream",
     "text": [
      "100%|██████████| 207/207 [01:04<00:00,  3.23it/s]\n",
      "100%|██████████| 13/13 [00:12<00:00,  1.06it/s]\n",
      "100%|██████████| 33/33 [00:09<00:00,  3.41it/s]\n"
     ]
    },
    {
     "name": "stdout",
     "output_type": "stream",
     "text": [
      "1m 26s\n",
      "Early Stopping Counter = 4\n",
      "Epoch 112/300\n"
     ]
    },
    {
     "name": "stderr",
     "output_type": "stream",
     "text": [
      "100%|██████████| 207/207 [01:04<00:00,  3.23it/s]\n",
      "100%|██████████| 13/13 [00:12<00:00,  1.06it/s]\n",
      "100%|██████████| 33/33 [00:10<00:00,  3.29it/s]\n"
     ]
    },
    {
     "name": "stdout",
     "output_type": "stream",
     "text": [
      "1m 26s\n",
      "Consistency Loss declined to 0.06317845101539905\n",
      "Early Stopping Counter = 0\n",
      "Epoch 113/300\n"
     ]
    },
    {
     "name": "stderr",
     "output_type": "stream",
     "text": [
      "100%|██████████| 207/207 [01:03<00:00,  3.24it/s]\n",
      "100%|██████████| 13/13 [00:12<00:00,  1.06it/s]\n",
      "100%|██████████| 33/33 [00:09<00:00,  3.43it/s]\n"
     ]
    },
    {
     "name": "stdout",
     "output_type": "stream",
     "text": [
      "1m 26s\n",
      "Consistency Loss declined to 0.06109383358405186\n",
      "Early Stopping Counter = 0\n",
      "Epoch 114/300\n"
     ]
    },
    {
     "name": "stderr",
     "output_type": "stream",
     "text": [
      "100%|██████████| 207/207 [01:04<00:00,  3.23it/s]\n",
      "100%|██████████| 13/13 [00:12<00:00,  1.04it/s]\n",
      "100%|██████████| 33/33 [00:09<00:00,  3.34it/s]\n"
     ]
    },
    {
     "name": "stdout",
     "output_type": "stream",
     "text": [
      "1m 26s\n",
      "Early Stopping Counter = 1\n",
      "Epoch 115/300\n"
     ]
    },
    {
     "name": "stderr",
     "output_type": "stream",
     "text": [
      "100%|██████████| 207/207 [01:04<00:00,  3.22it/s]\n",
      "100%|██████████| 13/13 [00:12<00:00,  1.05it/s]\n",
      "100%|██████████| 33/33 [00:09<00:00,  3.42it/s]\n"
     ]
    },
    {
     "name": "stdout",
     "output_type": "stream",
     "text": [
      "1m 26s\n",
      "Early Stopping Counter = 2\n",
      "Epoch 116/300\n"
     ]
    },
    {
     "name": "stderr",
     "output_type": "stream",
     "text": [
      "100%|██████████| 207/207 [01:04<00:00,  3.22it/s]\n",
      "100%|██████████| 13/13 [00:12<00:00,  1.06it/s]\n",
      "100%|██████████| 33/33 [00:09<00:00,  3.41it/s]\n"
     ]
    },
    {
     "name": "stdout",
     "output_type": "stream",
     "text": [
      "1m 26s\n",
      "Early Stopping Counter = 3\n",
      "Epoch 117/300\n"
     ]
    },
    {
     "name": "stderr",
     "output_type": "stream",
     "text": [
      "100%|██████████| 207/207 [01:04<00:00,  3.22it/s]\n",
      "100%|██████████| 13/13 [00:12<00:00,  1.06it/s]\n",
      "100%|██████████| 33/33 [00:09<00:00,  3.45it/s]\n"
     ]
    },
    {
     "name": "stdout",
     "output_type": "stream",
     "text": [
      "1m 26s\n",
      "Early Stopping Counter = 4\n",
      "Epoch 118/300\n"
     ]
    },
    {
     "name": "stderr",
     "output_type": "stream",
     "text": [
      "100%|██████████| 207/207 [01:04<00:00,  3.23it/s]\n",
      "100%|██████████| 13/13 [00:12<00:00,  1.06it/s]\n",
      "100%|██████████| 33/33 [00:09<00:00,  3.38it/s]\n"
     ]
    },
    {
     "name": "stdout",
     "output_type": "stream",
     "text": [
      "1m 26s\n",
      "Consistency Loss declined to 0.05939337295981554\n",
      "Early Stopping Counter = 0\n",
      "Epoch 119/300\n"
     ]
    },
    {
     "name": "stderr",
     "output_type": "stream",
     "text": [
      "100%|██████████| 207/207 [01:03<00:00,  3.24it/s]\n",
      "100%|██████████| 13/13 [00:12<00:00,  1.06it/s]\n",
      "100%|██████████| 33/33 [00:09<00:00,  3.39it/s]\n"
     ]
    },
    {
     "name": "stdout",
     "output_type": "stream",
     "text": [
      "1m 26s\n",
      "Early Stopping Counter = 1\n",
      "Epoch 120/300\n"
     ]
    },
    {
     "name": "stderr",
     "output_type": "stream",
     "text": [
      "100%|██████████| 207/207 [01:03<00:00,  3.24it/s]\n",
      "100%|██████████| 13/13 [00:12<00:00,  1.06it/s]\n",
      "100%|██████████| 33/33 [00:09<00:00,  3.35it/s]\n"
     ]
    },
    {
     "name": "stdout",
     "output_type": "stream",
     "text": [
      "1m 26s\n",
      "Early Stopping Counter = 2\n",
      "Epoch 121/300\n"
     ]
    },
    {
     "name": "stderr",
     "output_type": "stream",
     "text": [
      "100%|██████████| 207/207 [01:04<00:00,  3.23it/s]\n",
      "100%|██████████| 13/13 [00:12<00:00,  1.04it/s]\n",
      "100%|██████████| 33/33 [00:09<00:00,  3.39it/s]\n"
     ]
    },
    {
     "name": "stdout",
     "output_type": "stream",
     "text": [
      "1m 26s\n",
      "Consistency Loss declined to 0.058803674693291\n",
      "Early Stopping Counter = 0\n",
      "Epoch 122/300\n"
     ]
    },
    {
     "name": "stderr",
     "output_type": "stream",
     "text": [
      "100%|██████████| 207/207 [01:03<00:00,  3.25it/s]\n",
      "100%|██████████| 13/13 [00:12<00:00,  1.04it/s]\n",
      "100%|██████████| 33/33 [00:09<00:00,  3.39it/s]\n"
     ]
    },
    {
     "name": "stdout",
     "output_type": "stream",
     "text": [
      "1m 26s\n",
      "Early Stopping Counter = 1\n",
      "Epoch 123/300\n"
     ]
    },
    {
     "name": "stderr",
     "output_type": "stream",
     "text": [
      "100%|██████████| 207/207 [01:03<00:00,  3.24it/s]\n",
      "100%|██████████| 13/13 [00:12<00:00,  1.05it/s]\n",
      "100%|██████████| 33/33 [00:09<00:00,  3.37it/s]\n"
     ]
    },
    {
     "name": "stdout",
     "output_type": "stream",
     "text": [
      "1m 26s\n",
      "Early Stopping Counter = 2\n",
      "Epoch 124/300\n"
     ]
    },
    {
     "name": "stderr",
     "output_type": "stream",
     "text": [
      "100%|██████████| 207/207 [01:03<00:00,  3.24it/s]\n",
      "100%|██████████| 13/13 [00:12<00:00,  1.04it/s]\n",
      "100%|██████████| 33/33 [00:09<00:00,  3.40it/s]\n"
     ]
    },
    {
     "name": "stdout",
     "output_type": "stream",
     "text": [
      "1m 26s\n",
      "Early Stopping Counter = 3\n",
      "Epoch 125/300\n"
     ]
    },
    {
     "name": "stderr",
     "output_type": "stream",
     "text": [
      "100%|██████████| 207/207 [01:04<00:00,  3.22it/s]\n",
      "100%|██████████| 13/13 [00:12<00:00,  1.06it/s]\n",
      "100%|██████████| 33/33 [00:09<00:00,  3.40it/s]\n"
     ]
    },
    {
     "name": "stdout",
     "output_type": "stream",
     "text": [
      "1m 26s\n",
      "Early Stopping Counter = 4\n",
      "Epoch 126/300\n"
     ]
    },
    {
     "name": "stderr",
     "output_type": "stream",
     "text": [
      "100%|██████████| 207/207 [01:04<00:00,  3.23it/s]\n",
      "100%|██████████| 13/13 [00:12<00:00,  1.06it/s]\n",
      "100%|██████████| 33/33 [00:09<00:00,  3.44it/s]\n"
     ]
    },
    {
     "name": "stdout",
     "output_type": "stream",
     "text": [
      "1m 26s\n",
      "Consistency Loss declined to 0.058069927188066334\n",
      "Early Stopping Counter = 0\n",
      "Epoch 127/300\n"
     ]
    },
    {
     "name": "stderr",
     "output_type": "stream",
     "text": [
      "100%|██████████| 207/207 [01:03<00:00,  3.24it/s]\n",
      "100%|██████████| 13/13 [00:12<00:00,  1.07it/s]\n",
      "100%|██████████| 33/33 [00:09<00:00,  3.41it/s]\n"
     ]
    },
    {
     "name": "stdout",
     "output_type": "stream",
     "text": [
      "1m 26s\n",
      "Early Stopping Counter = 1\n",
      "Epoch 128/300\n"
     ]
    },
    {
     "name": "stderr",
     "output_type": "stream",
     "text": [
      "100%|██████████| 207/207 [01:03<00:00,  3.24it/s]\n",
      "100%|██████████| 13/13 [00:12<00:00,  1.07it/s]\n",
      "100%|██████████| 33/33 [00:09<00:00,  3.40it/s]\n"
     ]
    },
    {
     "name": "stdout",
     "output_type": "stream",
     "text": [
      "1m 26s\n",
      "Early Stopping Counter = 2\n",
      "Epoch 129/300\n"
     ]
    },
    {
     "name": "stderr",
     "output_type": "stream",
     "text": [
      "100%|██████████| 207/207 [01:03<00:00,  3.24it/s]\n",
      "100%|██████████| 13/13 [00:12<00:00,  1.04it/s]\n",
      "100%|██████████| 33/33 [00:09<00:00,  3.35it/s]\n"
     ]
    },
    {
     "name": "stdout",
     "output_type": "stream",
     "text": [
      "1m 26s\n",
      "Early Stopping Counter = 3\n",
      "Epoch 130/300\n"
     ]
    },
    {
     "name": "stderr",
     "output_type": "stream",
     "text": [
      "100%|██████████| 207/207 [01:04<00:00,  3.23it/s]\n",
      "100%|██████████| 13/13 [00:12<00:00,  1.06it/s]\n",
      "100%|██████████| 33/33 [00:09<00:00,  3.43it/s]\n"
     ]
    },
    {
     "name": "stdout",
     "output_type": "stream",
     "text": [
      "1m 26s\n",
      "Early Stopping Counter = 4\n",
      "Epoch 131/300\n"
     ]
    },
    {
     "name": "stderr",
     "output_type": "stream",
     "text": [
      "100%|██████████| 207/207 [01:04<00:00,  3.23it/s]\n",
      "100%|██████████| 13/13 [00:12<00:00,  1.07it/s]\n",
      "100%|██████████| 33/33 [00:09<00:00,  3.39it/s]\n"
     ]
    },
    {
     "name": "stdout",
     "output_type": "stream",
     "text": [
      "1m 26s\n",
      "Consistency Loss declined to 0.05774639575527264\n",
      "Early Stopping Counter = 0\n",
      "Epoch 132/300\n"
     ]
    },
    {
     "name": "stderr",
     "output_type": "stream",
     "text": [
      "100%|██████████| 207/207 [01:03<00:00,  3.24it/s]\n",
      "100%|██████████| 13/13 [00:12<00:00,  1.07it/s]\n",
      "100%|██████████| 33/33 [00:09<00:00,  3.42it/s]\n"
     ]
    },
    {
     "name": "stdout",
     "output_type": "stream",
     "text": [
      "1m 26s\n",
      "Consistency Loss declined to 0.055714736764247604\n",
      "Early Stopping Counter = 0\n",
      "Epoch 133/300\n"
     ]
    },
    {
     "name": "stderr",
     "output_type": "stream",
     "text": [
      "100%|██████████| 207/207 [01:03<00:00,  3.24it/s]\n",
      "100%|██████████| 13/13 [00:12<00:00,  1.06it/s]\n",
      "100%|██████████| 33/33 [00:09<00:00,  3.40it/s]\n"
     ]
    },
    {
     "name": "stdout",
     "output_type": "stream",
     "text": [
      "1m 26s\n",
      "Early Stopping Counter = 1\n",
      "Epoch 134/300\n"
     ]
    },
    {
     "name": "stderr",
     "output_type": "stream",
     "text": [
      "100%|██████████| 207/207 [01:04<00:00,  3.23it/s]\n",
      "100%|██████████| 13/13 [00:12<00:00,  1.07it/s]\n",
      "100%|██████████| 33/33 [00:09<00:00,  3.44it/s]\n"
     ]
    },
    {
     "name": "stdout",
     "output_type": "stream",
     "text": [
      "1m 26s\n",
      "Early Stopping Counter = 2\n",
      "Epoch 135/300\n"
     ]
    },
    {
     "name": "stderr",
     "output_type": "stream",
     "text": [
      "100%|██████████| 207/207 [01:04<00:00,  3.23it/s]\n",
      "100%|██████████| 13/13 [00:12<00:00,  1.07it/s]\n",
      "100%|██████████| 33/33 [00:09<00:00,  3.48it/s]\n"
     ]
    },
    {
     "name": "stdout",
     "output_type": "stream",
     "text": [
      "1m 26s\n",
      "Early Stopping Counter = 3\n",
      "Epoch 136/300\n"
     ]
    },
    {
     "name": "stderr",
     "output_type": "stream",
     "text": [
      "100%|██████████| 207/207 [01:04<00:00,  3.23it/s]\n",
      "100%|██████████| 13/13 [00:12<00:00,  1.07it/s]\n",
      "100%|██████████| 33/33 [00:09<00:00,  3.41it/s]\n"
     ]
    },
    {
     "name": "stdout",
     "output_type": "stream",
     "text": [
      "1m 26s\n",
      "Early Stopping Counter = 4\n",
      "Epoch 137/300\n"
     ]
    },
    {
     "name": "stderr",
     "output_type": "stream",
     "text": [
      "100%|██████████| 207/207 [01:04<00:00,  3.22it/s]\n",
      "100%|██████████| 13/13 [00:12<00:00,  1.06it/s]\n",
      "100%|██████████| 33/33 [00:09<00:00,  3.37it/s]\n"
     ]
    },
    {
     "name": "stdout",
     "output_type": "stream",
     "text": [
      "1m 26s\n",
      "Early Stopping Counter = 5\n",
      "Epoch 138/300\n"
     ]
    },
    {
     "name": "stderr",
     "output_type": "stream",
     "text": [
      "100%|██████████| 207/207 [01:04<00:00,  3.23it/s]\n",
      "100%|██████████| 13/13 [00:12<00:00,  1.06it/s]\n",
      "100%|██████████| 33/33 [00:09<00:00,  3.40it/s]\n"
     ]
    },
    {
     "name": "stdout",
     "output_type": "stream",
     "text": [
      "1m 26s\n",
      "Early Stopping Counter = 6\n",
      "Epoch 139/300\n"
     ]
    },
    {
     "name": "stderr",
     "output_type": "stream",
     "text": [
      "100%|██████████| 207/207 [01:04<00:00,  3.23it/s]\n",
      "100%|██████████| 13/13 [00:12<00:00,  1.06it/s]\n",
      "100%|██████████| 33/33 [00:09<00:00,  3.39it/s]\n"
     ]
    },
    {
     "name": "stdout",
     "output_type": "stream",
     "text": [
      "1m 26s\n",
      "Consistency Loss declined to 0.054141150071070746\n",
      "Early Stopping Counter = 0\n",
      "Epoch 140/300\n"
     ]
    },
    {
     "name": "stderr",
     "output_type": "stream",
     "text": [
      "100%|██████████| 207/207 [01:03<00:00,  3.24it/s]\n",
      "100%|██████████| 13/13 [00:12<00:00,  1.07it/s]\n",
      "100%|██████████| 33/33 [00:09<00:00,  3.40it/s]\n"
     ]
    },
    {
     "name": "stdout",
     "output_type": "stream",
     "text": [
      "1m 26s\n",
      "Early Stopping Counter = 1\n",
      "Epoch 141/300\n"
     ]
    },
    {
     "name": "stderr",
     "output_type": "stream",
     "text": [
      "100%|██████████| 207/207 [01:03<00:00,  3.24it/s]\n",
      "100%|██████████| 13/13 [00:12<00:00,  1.07it/s]\n",
      "100%|██████████| 33/33 [00:10<00:00,  3.04it/s]\n"
     ]
    },
    {
     "name": "stdout",
     "output_type": "stream",
     "text": [
      "1m 27s\n",
      "Early Stopping Counter = 2\n",
      "Epoch 142/300\n"
     ]
    },
    {
     "name": "stderr",
     "output_type": "stream",
     "text": [
      "100%|██████████| 207/207 [01:03<00:00,  3.24it/s]\n",
      "100%|██████████| 13/13 [00:12<00:00,  1.05it/s]\n",
      "100%|██████████| 33/33 [00:09<00:00,  3.38it/s]\n"
     ]
    },
    {
     "name": "stdout",
     "output_type": "stream",
     "text": [
      "1m 26s\n",
      "Consistency Loss declined to 0.052688808395312384\n",
      "Early Stopping Counter = 0\n",
      "Epoch 143/300\n"
     ]
    },
    {
     "name": "stderr",
     "output_type": "stream",
     "text": [
      "100%|██████████| 207/207 [01:03<00:00,  3.25it/s]\n",
      "100%|██████████| 13/13 [00:12<00:00,  1.05it/s]\n",
      "100%|██████████| 33/33 [00:09<00:00,  3.39it/s]\n"
     ]
    },
    {
     "name": "stdout",
     "output_type": "stream",
     "text": [
      "1m 26s\n",
      "Early Stopping Counter = 1\n",
      "Epoch 144/300\n"
     ]
    },
    {
     "name": "stderr",
     "output_type": "stream",
     "text": [
      "100%|██████████| 207/207 [01:03<00:00,  3.25it/s]\n",
      "100%|██████████| 13/13 [00:12<00:00,  1.07it/s]\n",
      "100%|██████████| 33/33 [00:09<00:00,  3.40it/s]\n"
     ]
    },
    {
     "name": "stdout",
     "output_type": "stream",
     "text": [
      "1m 26s\n",
      "Early Stopping Counter = 2\n",
      "Epoch 145/300\n"
     ]
    },
    {
     "name": "stderr",
     "output_type": "stream",
     "text": [
      "100%|██████████| 207/207 [01:03<00:00,  3.24it/s]\n",
      "100%|██████████| 13/13 [00:12<00:00,  1.05it/s]\n",
      "100%|██████████| 33/33 [00:09<00:00,  3.42it/s]\n"
     ]
    },
    {
     "name": "stdout",
     "output_type": "stream",
     "text": [
      "1m 26s\n",
      "Early Stopping Counter = 3\n",
      "Epoch 146/300\n"
     ]
    },
    {
     "name": "stderr",
     "output_type": "stream",
     "text": [
      "100%|██████████| 207/207 [01:04<00:00,  3.23it/s]\n",
      "100%|██████████| 13/13 [00:12<00:00,  1.07it/s]\n",
      "100%|██████████| 33/33 [00:09<00:00,  3.45it/s]\n"
     ]
    },
    {
     "name": "stdout",
     "output_type": "stream",
     "text": [
      "1m 26s\n",
      "Early Stopping Counter = 4\n",
      "Epoch 147/300\n"
     ]
    },
    {
     "name": "stderr",
     "output_type": "stream",
     "text": [
      "100%|██████████| 207/207 [01:04<00:00,  3.23it/s]\n",
      "100%|██████████| 13/13 [00:12<00:00,  1.07it/s]\n",
      "100%|██████████| 33/33 [00:09<00:00,  3.38it/s]\n"
     ]
    },
    {
     "name": "stdout",
     "output_type": "stream",
     "text": [
      "1m 26s\n",
      "Early Stopping Counter = 5\n",
      "Epoch 148/300\n"
     ]
    },
    {
     "name": "stderr",
     "output_type": "stream",
     "text": [
      "100%|██████████| 207/207 [01:04<00:00,  3.23it/s]\n",
      "100%|██████████| 13/13 [00:12<00:00,  1.07it/s]\n",
      "100%|██████████| 33/33 [00:09<00:00,  3.42it/s]\n"
     ]
    },
    {
     "name": "stdout",
     "output_type": "stream",
     "text": [
      "1m 26s\n",
      "Early Stopping Counter = 6\n",
      "Epoch 149/300\n"
     ]
    },
    {
     "name": "stderr",
     "output_type": "stream",
     "text": [
      "100%|██████████| 207/207 [01:04<00:00,  3.23it/s]\n",
      "100%|██████████| 13/13 [00:12<00:00,  1.07it/s]\n",
      "100%|██████████| 33/33 [00:09<00:00,  3.40it/s]\n"
     ]
    },
    {
     "name": "stdout",
     "output_type": "stream",
     "text": [
      "1m 26s\n",
      "Early Stopping Counter = 7\n",
      "Epoch 150/300\n"
     ]
    },
    {
     "name": "stderr",
     "output_type": "stream",
     "text": [
      "100%|██████████| 207/207 [01:04<00:00,  3.23it/s]\n",
      "100%|██████████| 13/13 [00:12<00:00,  1.07it/s]\n",
      "100%|██████████| 33/33 [00:09<00:00,  3.43it/s]\n"
     ]
    },
    {
     "name": "stdout",
     "output_type": "stream",
     "text": [
      "1m 26s\n",
      "Early Stopping Counter = 8\n",
      "Epoch 151/300\n"
     ]
    },
    {
     "name": "stderr",
     "output_type": "stream",
     "text": [
      "100%|██████████| 207/207 [01:04<00:00,  3.23it/s]\n",
      "100%|██████████| 13/13 [00:12<00:00,  1.06it/s]\n",
      "100%|██████████| 33/33 [00:09<00:00,  3.42it/s]\n"
     ]
    },
    {
     "name": "stdout",
     "output_type": "stream",
     "text": [
      "1m 26s\n",
      "Early Stopping Counter = 9\n",
      "Epoch 152/300\n"
     ]
    },
    {
     "name": "stderr",
     "output_type": "stream",
     "text": [
      "100%|██████████| 207/207 [01:04<00:00,  3.23it/s]\n",
      "100%|██████████| 13/13 [00:12<00:00,  1.06it/s]\n",
      "100%|██████████| 33/33 [00:09<00:00,  3.41it/s]\n"
     ]
    },
    {
     "name": "stdout",
     "output_type": "stream",
     "text": [
      "1m 26s\n",
      "Early Stopping Counter = 10\n",
      "Epoch 153/300\n"
     ]
    },
    {
     "name": "stderr",
     "output_type": "stream",
     "text": [
      "100%|██████████| 207/207 [01:04<00:00,  3.23it/s]\n",
      "100%|██████████| 13/13 [00:12<00:00,  1.07it/s]\n",
      "100%|██████████| 33/33 [00:09<00:00,  3.45it/s]\n"
     ]
    },
    {
     "name": "stdout",
     "output_type": "stream",
     "text": [
      "1m 26s\n",
      "Consistency Loss declined to 0.0525728828058793\n",
      "Early Stopping Counter = 0\n",
      "Epoch 154/300\n"
     ]
    },
    {
     "name": "stderr",
     "output_type": "stream",
     "text": [
      "100%|██████████| 207/207 [01:03<00:00,  3.24it/s]\n",
      "100%|██████████| 13/13 [00:12<00:00,  1.06it/s]\n",
      "100%|██████████| 33/33 [00:09<00:00,  3.40it/s]\n"
     ]
    },
    {
     "name": "stdout",
     "output_type": "stream",
     "text": [
      "1m 26s\n",
      "Early Stopping Counter = 1\n",
      "Epoch 155/300\n"
     ]
    },
    {
     "name": "stderr",
     "output_type": "stream",
     "text": [
      "100%|██████████| 207/207 [01:03<00:00,  3.25it/s]\n",
      "100%|██████████| 13/13 [00:12<00:00,  1.07it/s]\n",
      "100%|██████████| 33/33 [00:09<00:00,  3.45it/s]\n"
     ]
    },
    {
     "name": "stdout",
     "output_type": "stream",
     "text": [
      "1m 25s\n",
      "Early Stopping Counter = 2\n",
      "Epoch 156/300\n"
     ]
    },
    {
     "name": "stderr",
     "output_type": "stream",
     "text": [
      "100%|██████████| 207/207 [01:04<00:00,  3.23it/s]\n",
      "100%|██████████| 13/13 [00:12<00:00,  1.04it/s]\n",
      "100%|██████████| 33/33 [00:09<00:00,  3.33it/s]\n"
     ]
    },
    {
     "name": "stdout",
     "output_type": "stream",
     "text": [
      "1m 26s\n",
      "Consistency Loss declined to 0.05234056424636107\n",
      "Early Stopping Counter = 0\n",
      "Epoch 157/300\n"
     ]
    },
    {
     "name": "stderr",
     "output_type": "stream",
     "text": [
      "100%|██████████| 207/207 [01:03<00:00,  3.25it/s]\n",
      "100%|██████████| 13/13 [00:12<00:00,  1.04it/s]\n",
      "100%|██████████| 33/33 [00:09<00:00,  3.41it/s]\n"
     ]
    },
    {
     "name": "stdout",
     "output_type": "stream",
     "text": [
      "1m 26s\n",
      "Early Stopping Counter = 1\n",
      "Epoch 158/300\n"
     ]
    },
    {
     "name": "stderr",
     "output_type": "stream",
     "text": [
      "100%|██████████| 207/207 [01:03<00:00,  3.25it/s]\n",
      "100%|██████████| 13/13 [00:12<00:00,  1.07it/s]\n",
      "100%|██████████| 33/33 [00:09<00:00,  3.45it/s]\n"
     ]
    },
    {
     "name": "stdout",
     "output_type": "stream",
     "text": [
      "1m 25s\n",
      "Early Stopping Counter = 2\n",
      "Epoch 159/300\n"
     ]
    },
    {
     "name": "stderr",
     "output_type": "stream",
     "text": [
      "100%|██████████| 207/207 [01:04<00:00,  3.23it/s]\n",
      "100%|██████████| 13/13 [00:12<00:00,  1.04it/s]\n",
      "100%|██████████| 33/33 [00:09<00:00,  3.44it/s]\n"
     ]
    },
    {
     "name": "stdout",
     "output_type": "stream",
     "text": [
      "1m 26s\n",
      "Early Stopping Counter = 3\n",
      "Epoch 160/300\n"
     ]
    },
    {
     "name": "stderr",
     "output_type": "stream",
     "text": [
      "100%|██████████| 207/207 [01:04<00:00,  3.23it/s]\n",
      "100%|██████████| 13/13 [00:12<00:00,  1.07it/s]\n",
      "100%|██████████| 33/33 [00:09<00:00,  3.36it/s]\n"
     ]
    },
    {
     "name": "stdout",
     "output_type": "stream",
     "text": [
      "1m 26s\n",
      "Consistency Loss declined to 0.050915461320143476\n",
      "Early Stopping Counter = 0\n",
      "Epoch 161/300\n"
     ]
    },
    {
     "name": "stderr",
     "output_type": "stream",
     "text": [
      "100%|██████████| 207/207 [01:03<00:00,  3.25it/s]\n",
      "100%|██████████| 13/13 [00:12<00:00,  1.07it/s]\n",
      "100%|██████████| 33/33 [00:09<00:00,  3.38it/s]\n"
     ]
    },
    {
     "name": "stdout",
     "output_type": "stream",
     "text": [
      "1m 26s\n",
      "Early Stopping Counter = 1\n",
      "Epoch 162/300\n"
     ]
    },
    {
     "name": "stderr",
     "output_type": "stream",
     "text": [
      "100%|██████████| 207/207 [01:03<00:00,  3.24it/s]\n",
      "100%|██████████| 13/13 [00:12<00:00,  1.07it/s]\n",
      "100%|██████████| 33/33 [00:09<00:00,  3.44it/s]\n"
     ]
    },
    {
     "name": "stdout",
     "output_type": "stream",
     "text": [
      "1m 26s\n",
      "Early Stopping Counter = 2\n",
      "Epoch 163/300\n"
     ]
    },
    {
     "name": "stderr",
     "output_type": "stream",
     "text": [
      "100%|██████████| 207/207 [01:03<00:00,  3.24it/s]\n",
      "100%|██████████| 13/13 [00:12<00:00,  1.05it/s]\n",
      "100%|██████████| 33/33 [00:09<00:00,  3.40it/s]\n"
     ]
    },
    {
     "name": "stdout",
     "output_type": "stream",
     "text": [
      "1m 26s\n",
      "Early Stopping Counter = 3\n",
      "Epoch 164/300\n"
     ]
    },
    {
     "name": "stderr",
     "output_type": "stream",
     "text": [
      "100%|██████████| 207/207 [01:03<00:00,  3.24it/s]\n",
      "100%|██████████| 13/13 [00:12<00:00,  1.07it/s]\n",
      "100%|██████████| 33/33 [00:09<00:00,  3.40it/s]\n"
     ]
    },
    {
     "name": "stdout",
     "output_type": "stream",
     "text": [
      "1m 26s\n",
      "Consistency Loss declined to 0.04866702023607034\n",
      "Early Stopping Counter = 0\n",
      "Epoch 165/300\n"
     ]
    },
    {
     "name": "stderr",
     "output_type": "stream",
     "text": [
      "100%|██████████| 207/207 [01:03<00:00,  3.25it/s]\n",
      "100%|██████████| 13/13 [00:12<00:00,  1.07it/s]\n",
      "100%|██████████| 33/33 [00:09<00:00,  3.43it/s]\n"
     ]
    },
    {
     "name": "stdout",
     "output_type": "stream",
     "text": [
      "1m 26s\n",
      "Early Stopping Counter = 1\n",
      "Epoch 166/300\n"
     ]
    },
    {
     "name": "stderr",
     "output_type": "stream",
     "text": [
      "100%|██████████| 207/207 [01:03<00:00,  3.25it/s]\n",
      "100%|██████████| 13/13 [00:12<00:00,  1.07it/s]\n",
      "100%|██████████| 33/33 [00:09<00:00,  3.43it/s]\n"
     ]
    },
    {
     "name": "stdout",
     "output_type": "stream",
     "text": [
      "1m 26s\n",
      "Early Stopping Counter = 2\n",
      "Epoch 167/300\n"
     ]
    },
    {
     "name": "stderr",
     "output_type": "stream",
     "text": [
      "100%|██████████| 207/207 [01:03<00:00,  3.24it/s]\n",
      "100%|██████████| 13/13 [00:12<00:00,  1.05it/s]\n",
      "100%|██████████| 33/33 [00:09<00:00,  3.40it/s]\n"
     ]
    },
    {
     "name": "stdout",
     "output_type": "stream",
     "text": [
      "1m 26s\n",
      "Early Stopping Counter = 3\n",
      "Epoch 168/300\n"
     ]
    },
    {
     "name": "stderr",
     "output_type": "stream",
     "text": [
      "100%|██████████| 207/207 [01:03<00:00,  3.24it/s]\n",
      "100%|██████████| 13/13 [00:12<00:00,  1.07it/s]\n",
      "100%|██████████| 33/33 [00:09<00:00,  3.41it/s]\n"
     ]
    },
    {
     "name": "stdout",
     "output_type": "stream",
     "text": [
      "1m 26s\n",
      "Early Stopping Counter = 4\n",
      "Epoch 169/300\n"
     ]
    },
    {
     "name": "stderr",
     "output_type": "stream",
     "text": [
      "100%|██████████| 207/207 [01:03<00:00,  3.24it/s]\n",
      "100%|██████████| 13/13 [00:12<00:00,  1.07it/s]\n",
      "100%|██████████| 33/33 [00:09<00:00,  3.40it/s]\n"
     ]
    },
    {
     "name": "stdout",
     "output_type": "stream",
     "text": [
      "1m 26s\n",
      "Early Stopping Counter = 5\n",
      "Epoch 170/300\n"
     ]
    },
    {
     "name": "stderr",
     "output_type": "stream",
     "text": [
      "100%|██████████| 207/207 [01:03<00:00,  3.24it/s]\n",
      "100%|██████████| 13/13 [00:12<00:00,  1.07it/s]\n",
      "100%|██████████| 33/33 [00:09<00:00,  3.39it/s]\n"
     ]
    },
    {
     "name": "stdout",
     "output_type": "stream",
     "text": [
      "1m 26s\n",
      "Early Stopping Counter = 6\n",
      "Epoch 171/300\n"
     ]
    },
    {
     "name": "stderr",
     "output_type": "stream",
     "text": [
      "100%|██████████| 207/207 [01:04<00:00,  3.23it/s]\n",
      "100%|██████████| 13/13 [00:12<00:00,  1.07it/s]\n",
      "100%|██████████| 33/33 [00:09<00:00,  3.41it/s]\n"
     ]
    },
    {
     "name": "stdout",
     "output_type": "stream",
     "text": [
      "1m 26s\n",
      "Early Stopping Counter = 7\n",
      "Epoch 172/300\n"
     ]
    },
    {
     "name": "stderr",
     "output_type": "stream",
     "text": [
      "100%|██████████| 207/207 [01:03<00:00,  3.24it/s]\n",
      "100%|██████████| 13/13 [00:12<00:00,  1.07it/s]\n",
      "100%|██████████| 33/33 [00:09<00:00,  3.37it/s]\n"
     ]
    },
    {
     "name": "stdout",
     "output_type": "stream",
     "text": [
      "1m 26s\n",
      "Early Stopping Counter = 8\n",
      "Epoch 173/300\n"
     ]
    },
    {
     "name": "stderr",
     "output_type": "stream",
     "text": [
      "100%|██████████| 207/207 [01:04<00:00,  3.23it/s]\n",
      "100%|██████████| 13/13 [00:12<00:00,  1.07it/s]\n",
      "100%|██████████| 33/33 [00:09<00:00,  3.42it/s]\n"
     ]
    },
    {
     "name": "stdout",
     "output_type": "stream",
     "text": [
      "1m 26s\n",
      "Early Stopping Counter = 9\n",
      "Epoch 174/300\n"
     ]
    },
    {
     "name": "stderr",
     "output_type": "stream",
     "text": [
      "100%|██████████| 207/207 [01:03<00:00,  3.23it/s]\n",
      "100%|██████████| 13/13 [00:12<00:00,  1.07it/s]\n",
      "100%|██████████| 33/33 [00:09<00:00,  3.38it/s]\n"
     ]
    },
    {
     "name": "stdout",
     "output_type": "stream",
     "text": [
      "1m 26s\n",
      "Early Stopping Counter = 10\n",
      "Epoch 175/300\n"
     ]
    },
    {
     "name": "stderr",
     "output_type": "stream",
     "text": [
      "100%|██████████| 207/207 [01:04<00:00,  3.23it/s]\n",
      "100%|██████████| 13/13 [00:12<00:00,  1.06it/s]\n",
      "100%|██████████| 33/33 [00:09<00:00,  3.45it/s]\n"
     ]
    },
    {
     "name": "stdout",
     "output_type": "stream",
     "text": [
      "1m 26s\n",
      "Early Stopping Counter = 11\n",
      "Epoch 176/300\n"
     ]
    },
    {
     "name": "stderr",
     "output_type": "stream",
     "text": [
      "100%|██████████| 207/207 [01:04<00:00,  3.23it/s]\n",
      "100%|██████████| 13/13 [00:12<00:00,  1.07it/s]\n",
      "100%|██████████| 33/33 [00:09<00:00,  3.42it/s]\n"
     ]
    },
    {
     "name": "stdout",
     "output_type": "stream",
     "text": [
      "1m 26s\n",
      "Consistency Loss declined to 0.04809437520228899\n",
      "Early Stopping Counter = 0\n",
      "Epoch 177/300\n"
     ]
    },
    {
     "name": "stderr",
     "output_type": "stream",
     "text": [
      "100%|██████████| 207/207 [01:03<00:00,  3.24it/s]\n",
      "100%|██████████| 13/13 [00:12<00:00,  1.06it/s]\n",
      "100%|██████████| 33/33 [00:09<00:00,  3.34it/s]\n"
     ]
    },
    {
     "name": "stdout",
     "output_type": "stream",
     "text": [
      "1m 26s\n",
      "Early Stopping Counter = 1\n",
      "Epoch 178/300\n"
     ]
    },
    {
     "name": "stderr",
     "output_type": "stream",
     "text": [
      "100%|██████████| 207/207 [01:03<00:00,  3.24it/s]\n",
      "100%|██████████| 13/13 [00:12<00:00,  1.06it/s]\n",
      "100%|██████████| 33/33 [00:09<00:00,  3.38it/s]\n"
     ]
    },
    {
     "name": "stdout",
     "output_type": "stream",
     "text": [
      "1m 26s\n",
      "Consistency Loss declined to 0.047465143008874014\n",
      "Early Stopping Counter = 0\n",
      "Epoch 179/300\n"
     ]
    },
    {
     "name": "stderr",
     "output_type": "stream",
     "text": [
      "100%|██████████| 207/207 [01:03<00:00,  3.25it/s]\n",
      "100%|██████████| 13/13 [00:12<00:00,  1.07it/s]\n",
      "100%|██████████| 33/33 [00:09<00:00,  3.42it/s]\n"
     ]
    },
    {
     "name": "stdout",
     "output_type": "stream",
     "text": [
      "1m 26s\n",
      "Early Stopping Counter = 1\n",
      "Epoch 180/300\n"
     ]
    },
    {
     "name": "stderr",
     "output_type": "stream",
     "text": [
      "100%|██████████| 207/207 [01:03<00:00,  3.24it/s]\n",
      "100%|██████████| 13/13 [00:12<00:00,  1.07it/s]\n",
      "100%|██████████| 33/33 [00:09<00:00,  3.37it/s]\n"
     ]
    },
    {
     "name": "stdout",
     "output_type": "stream",
     "text": [
      "1m 26s\n",
      "Early Stopping Counter = 2\n",
      "Epoch 181/300\n"
     ]
    },
    {
     "name": "stderr",
     "output_type": "stream",
     "text": [
      "100%|██████████| 207/207 [01:03<00:00,  3.24it/s]\n",
      "100%|██████████| 13/13 [00:12<00:00,  1.05it/s]\n",
      "100%|██████████| 33/33 [00:09<00:00,  3.43it/s]\n"
     ]
    },
    {
     "name": "stdout",
     "output_type": "stream",
     "text": [
      "1m 26s\n",
      "Early Stopping Counter = 3\n",
      "Epoch 182/300\n"
     ]
    },
    {
     "name": "stderr",
     "output_type": "stream",
     "text": [
      "100%|██████████| 207/207 [01:04<00:00,  3.23it/s]\n",
      "100%|██████████| 13/13 [00:12<00:00,  1.07it/s]\n",
      "100%|██████████| 33/33 [00:09<00:00,  3.40it/s]\n"
     ]
    },
    {
     "name": "stdout",
     "output_type": "stream",
     "text": [
      "1m 26s\n",
      "Early Stopping Counter = 4\n",
      "Epoch 183/300\n"
     ]
    },
    {
     "name": "stderr",
     "output_type": "stream",
     "text": [
      "100%|██████████| 207/207 [01:03<00:00,  3.23it/s]\n",
      "100%|██████████| 13/13 [00:12<00:00,  1.07it/s]\n",
      "100%|██████████| 33/33 [00:09<00:00,  3.37it/s]\n"
     ]
    },
    {
     "name": "stdout",
     "output_type": "stream",
     "text": [
      "1m 26s\n",
      "Early Stopping Counter = 5\n",
      "Epoch 184/300\n"
     ]
    },
    {
     "name": "stderr",
     "output_type": "stream",
     "text": [
      "100%|██████████| 207/207 [01:04<00:00,  3.23it/s]\n",
      "100%|██████████| 13/13 [00:12<00:00,  1.07it/s]\n",
      "100%|██████████| 33/33 [00:09<00:00,  3.41it/s]\n"
     ]
    },
    {
     "name": "stdout",
     "output_type": "stream",
     "text": [
      "1m 26s\n",
      "Early Stopping Counter = 6\n",
      "Epoch 185/300\n"
     ]
    },
    {
     "name": "stderr",
     "output_type": "stream",
     "text": [
      "100%|██████████| 207/207 [01:04<00:00,  3.23it/s]\n",
      "100%|██████████| 13/13 [00:12<00:00,  1.07it/s]\n",
      "100%|██████████| 33/33 [00:09<00:00,  3.42it/s]\n"
     ]
    },
    {
     "name": "stdout",
     "output_type": "stream",
     "text": [
      "1m 26s\n",
      "Early Stopping Counter = 7\n",
      "Epoch 186/300\n"
     ]
    },
    {
     "name": "stderr",
     "output_type": "stream",
     "text": [
      "100%|██████████| 207/207 [01:04<00:00,  3.23it/s]\n",
      "100%|██████████| 13/13 [00:12<00:00,  1.07it/s]\n",
      "100%|██████████| 33/33 [00:09<00:00,  3.44it/s]\n"
     ]
    },
    {
     "name": "stdout",
     "output_type": "stream",
     "text": [
      "1m 26s\n",
      "Early Stopping Counter = 8\n",
      "Epoch 187/300\n"
     ]
    },
    {
     "name": "stderr",
     "output_type": "stream",
     "text": [
      "100%|██████████| 207/207 [01:04<00:00,  3.23it/s]\n",
      "100%|██████████| 13/13 [00:12<00:00,  1.06it/s]\n",
      "100%|██████████| 33/33 [00:09<00:00,  3.34it/s]\n"
     ]
    },
    {
     "name": "stdout",
     "output_type": "stream",
     "text": [
      "1m 26s\n",
      "Early Stopping Counter = 9\n",
      "Epoch 188/300\n"
     ]
    },
    {
     "name": "stderr",
     "output_type": "stream",
     "text": [
      "100%|██████████| 207/207 [01:04<00:00,  3.23it/s]\n",
      "100%|██████████| 13/13 [00:12<00:00,  1.06it/s]\n",
      "100%|██████████| 33/33 [00:09<00:00,  3.36it/s]\n"
     ]
    },
    {
     "name": "stdout",
     "output_type": "stream",
     "text": [
      "1m 26s\n",
      "Early Stopping Counter = 10\n",
      "Epoch 189/300\n"
     ]
    },
    {
     "name": "stderr",
     "output_type": "stream",
     "text": [
      "100%|██████████| 207/207 [01:04<00:00,  3.23it/s]\n",
      "100%|██████████| 13/13 [00:12<00:00,  1.06it/s]\n",
      "100%|██████████| 33/33 [00:09<00:00,  3.39it/s]\n"
     ]
    },
    {
     "name": "stdout",
     "output_type": "stream",
     "text": [
      "1m 26s\n",
      "Early Stopping Counter = 11\n",
      "Epoch 190/300\n"
     ]
    },
    {
     "name": "stderr",
     "output_type": "stream",
     "text": [
      "100%|██████████| 207/207 [01:04<00:00,  3.23it/s]\n",
      "100%|██████████| 13/13 [00:12<00:00,  1.06it/s]\n",
      "100%|██████████| 33/33 [00:09<00:00,  3.44it/s]\n"
     ]
    },
    {
     "name": "stdout",
     "output_type": "stream",
     "text": [
      "1m 26s\n",
      "Early Stopping Counter = 12\n",
      "Epoch 191/300\n"
     ]
    },
    {
     "name": "stderr",
     "output_type": "stream",
     "text": [
      "100%|██████████| 207/207 [01:04<00:00,  3.23it/s]\n",
      "100%|██████████| 13/13 [00:12<00:00,  1.06it/s]\n",
      "100%|██████████| 33/33 [00:09<00:00,  3.37it/s]\n"
     ]
    },
    {
     "name": "stdout",
     "output_type": "stream",
     "text": [
      "1m 26s\n",
      "Consistency Loss declined to 0.04615980673294801\n",
      "Early Stopping Counter = 0\n",
      "Epoch 192/300\n"
     ]
    },
    {
     "name": "stderr",
     "output_type": "stream",
     "text": [
      "100%|██████████| 207/207 [01:04<00:00,  3.23it/s]\n",
      "100%|██████████| 13/13 [00:12<00:00,  1.05it/s]\n",
      "100%|██████████| 33/33 [00:09<00:00,  3.45it/s]\n"
     ]
    },
    {
     "name": "stdout",
     "output_type": "stream",
     "text": [
      "1m 26s\n",
      "Early Stopping Counter = 1\n",
      "Epoch 193/300\n"
     ]
    },
    {
     "name": "stderr",
     "output_type": "stream",
     "text": [
      "100%|██████████| 207/207 [01:03<00:00,  3.24it/s]\n",
      "100%|██████████| 13/13 [00:12<00:00,  1.07it/s]\n",
      "100%|██████████| 33/33 [00:09<00:00,  3.41it/s]\n"
     ]
    },
    {
     "name": "stdout",
     "output_type": "stream",
     "text": [
      "1m 26s\n",
      "Early Stopping Counter = 2\n",
      "Epoch 194/300\n"
     ]
    },
    {
     "name": "stderr",
     "output_type": "stream",
     "text": [
      "100%|██████████| 207/207 [01:03<00:00,  3.25it/s]\n",
      "100%|██████████| 13/13 [00:12<00:00,  1.07it/s]\n",
      "100%|██████████| 33/33 [00:09<00:00,  3.37it/s]\n"
     ]
    },
    {
     "name": "stdout",
     "output_type": "stream",
     "text": [
      "1m 26s\n",
      "Early Stopping Counter = 3\n",
      "Epoch 195/300\n"
     ]
    },
    {
     "name": "stderr",
     "output_type": "stream",
     "text": [
      "100%|██████████| 207/207 [01:03<00:00,  3.24it/s]\n",
      "100%|██████████| 13/13 [00:12<00:00,  1.07it/s]\n",
      "100%|██████████| 33/33 [00:09<00:00,  3.42it/s]\n"
     ]
    },
    {
     "name": "stdout",
     "output_type": "stream",
     "text": [
      "1m 26s\n",
      "Early Stopping Counter = 4\n",
      "Epoch 196/300\n"
     ]
    },
    {
     "name": "stderr",
     "output_type": "stream",
     "text": [
      "100%|██████████| 207/207 [01:03<00:00,  3.24it/s]\n",
      "100%|██████████| 13/13 [00:12<00:00,  1.06it/s]\n",
      "100%|██████████| 33/33 [00:09<00:00,  3.49it/s]\n"
     ]
    },
    {
     "name": "stdout",
     "output_type": "stream",
     "text": [
      "1m 26s\n",
      "Early Stopping Counter = 5\n",
      "Epoch 197/300\n"
     ]
    },
    {
     "name": "stderr",
     "output_type": "stream",
     "text": [
      "100%|██████████| 207/207 [01:04<00:00,  3.23it/s]\n",
      "100%|██████████| 13/13 [00:12<00:00,  1.06it/s]\n",
      "100%|██████████| 33/33 [00:09<00:00,  3.42it/s]\n"
     ]
    },
    {
     "name": "stdout",
     "output_type": "stream",
     "text": [
      "1m 26s\n",
      "Early Stopping Counter = 6\n",
      "Epoch 198/300\n"
     ]
    },
    {
     "name": "stderr",
     "output_type": "stream",
     "text": [
      "100%|██████████| 207/207 [01:04<00:00,  3.23it/s]\n",
      "100%|██████████| 13/13 [00:12<00:00,  1.07it/s]\n",
      "100%|██████████| 33/33 [00:09<00:00,  3.40it/s]\n"
     ]
    },
    {
     "name": "stdout",
     "output_type": "stream",
     "text": [
      "1m 26s\n",
      "Early Stopping Counter = 7\n",
      "Epoch 199/300\n"
     ]
    },
    {
     "name": "stderr",
     "output_type": "stream",
     "text": [
      "100%|██████████| 207/207 [01:03<00:00,  3.24it/s]\n",
      "100%|██████████| 13/13 [00:12<00:00,  1.07it/s]\n",
      "100%|██████████| 33/33 [00:09<00:00,  3.44it/s]\n"
     ]
    },
    {
     "name": "stdout",
     "output_type": "stream",
     "text": [
      "1m 26s\n",
      "Consistency Loss declined to 0.04549150426800434\n",
      "Early Stopping Counter = 0\n",
      "Epoch 200/300\n"
     ]
    },
    {
     "name": "stderr",
     "output_type": "stream",
     "text": [
      "100%|██████████| 207/207 [01:03<00:00,  3.25it/s]\n",
      "100%|██████████| 13/13 [00:12<00:00,  1.07it/s]\n",
      "100%|██████████| 33/33 [00:09<00:00,  3.43it/s]\n"
     ]
    },
    {
     "name": "stdout",
     "output_type": "stream",
     "text": [
      "1m 26s\n",
      "Early Stopping Counter = 1\n",
      "Epoch 201/300\n"
     ]
    },
    {
     "name": "stderr",
     "output_type": "stream",
     "text": [
      "100%|██████████| 207/207 [01:03<00:00,  3.25it/s]\n",
      "100%|██████████| 13/13 [00:12<00:00,  1.07it/s]\n",
      "100%|██████████| 33/33 [00:09<00:00,  3.43it/s]\n"
     ]
    },
    {
     "name": "stdout",
     "output_type": "stream",
     "text": [
      "1m 26s\n",
      "Early Stopping Counter = 2\n",
      "Epoch 202/300\n"
     ]
    },
    {
     "name": "stderr",
     "output_type": "stream",
     "text": [
      "100%|██████████| 207/207 [01:03<00:00,  3.24it/s]\n",
      "100%|██████████| 13/13 [00:12<00:00,  1.05it/s]\n",
      "100%|██████████| 33/33 [00:09<00:00,  3.36it/s]\n"
     ]
    },
    {
     "name": "stdout",
     "output_type": "stream",
     "text": [
      "1m 26s\n",
      "Early Stopping Counter = 3\n",
      "Epoch 203/300\n"
     ]
    },
    {
     "name": "stderr",
     "output_type": "stream",
     "text": [
      "100%|██████████| 207/207 [01:03<00:00,  3.24it/s]\n",
      "100%|██████████| 13/13 [00:12<00:00,  1.07it/s]\n",
      "100%|██████████| 33/33 [00:09<00:00,  3.43it/s]\n"
     ]
    },
    {
     "name": "stdout",
     "output_type": "stream",
     "text": [
      "1m 26s\n",
      "Consistency Loss declined to 0.045465690871843926\n",
      "Early Stopping Counter = 0\n",
      "Epoch 204/300\n"
     ]
    },
    {
     "name": "stderr",
     "output_type": "stream",
     "text": [
      "100%|██████████| 207/207 [01:03<00:00,  3.25it/s]\n",
      "100%|██████████| 13/13 [00:12<00:00,  1.07it/s]\n",
      "100%|██████████| 33/33 [00:09<00:00,  3.34it/s]\n"
     ]
    },
    {
     "name": "stdout",
     "output_type": "stream",
     "text": [
      "1m 26s\n",
      "Early Stopping Counter = 1\n",
      "Epoch 205/300\n"
     ]
    },
    {
     "name": "stderr",
     "output_type": "stream",
     "text": [
      "100%|██████████| 207/207 [01:03<00:00,  3.25it/s]\n",
      "100%|██████████| 13/13 [00:12<00:00,  1.07it/s]\n",
      "100%|██████████| 33/33 [00:09<00:00,  3.39it/s]\n"
     ]
    },
    {
     "name": "stdout",
     "output_type": "stream",
     "text": [
      "1m 26s\n",
      "Consistency Loss declined to 0.04528845130251004\n",
      "Early Stopping Counter = 0\n",
      "Epoch 206/300\n"
     ]
    },
    {
     "name": "stderr",
     "output_type": "stream",
     "text": [
      "100%|██████████| 207/207 [01:03<00:00,  3.25it/s]\n",
      "100%|██████████| 13/13 [00:12<00:00,  1.07it/s]\n",
      "100%|██████████| 33/33 [00:09<00:00,  3.34it/s]\n"
     ]
    },
    {
     "name": "stdout",
     "output_type": "stream",
     "text": [
      "1m 26s\n",
      "Early Stopping Counter = 1\n",
      "Epoch 207/300\n"
     ]
    },
    {
     "name": "stderr",
     "output_type": "stream",
     "text": [
      "100%|██████████| 207/207 [01:03<00:00,  3.24it/s]\n",
      "100%|██████████| 13/13 [00:12<00:00,  1.07it/s]\n",
      "100%|██████████| 33/33 [00:09<00:00,  3.38it/s]\n"
     ]
    },
    {
     "name": "stdout",
     "output_type": "stream",
     "text": [
      "1m 26s\n",
      "Consistency Loss declined to 0.04500304964872507\n",
      "Early Stopping Counter = 0\n",
      "Epoch 208/300\n"
     ]
    },
    {
     "name": "stderr",
     "output_type": "stream",
     "text": [
      "100%|██████████| 207/207 [01:03<00:00,  3.24it/s]\n",
      "100%|██████████| 13/13 [00:12<00:00,  1.05it/s]\n",
      "100%|██████████| 33/33 [00:09<00:00,  3.37it/s]\n"
     ]
    },
    {
     "name": "stdout",
     "output_type": "stream",
     "text": [
      "1m 26s\n",
      "Early Stopping Counter = 1\n",
      "Epoch 209/300\n"
     ]
    },
    {
     "name": "stderr",
     "output_type": "stream",
     "text": [
      "100%|██████████| 207/207 [01:03<00:00,  3.25it/s]\n",
      "100%|██████████| 13/13 [00:12<00:00,  1.05it/s]\n",
      "100%|██████████| 33/33 [00:09<00:00,  3.32it/s]\n"
     ]
    },
    {
     "name": "stdout",
     "output_type": "stream",
     "text": [
      "1m 26s\n",
      "Early Stopping Counter = 2\n",
      "Epoch 210/300\n"
     ]
    },
    {
     "name": "stderr",
     "output_type": "stream",
     "text": [
      "100%|██████████| 207/207 [01:03<00:00,  3.24it/s]\n",
      "100%|██████████| 13/13 [00:12<00:00,  1.06it/s]\n",
      "100%|██████████| 33/33 [00:09<00:00,  3.41it/s]\n"
     ]
    },
    {
     "name": "stdout",
     "output_type": "stream",
     "text": [
      "1m 26s\n",
      "Early Stopping Counter = 3\n",
      "Epoch 211/300\n"
     ]
    },
    {
     "name": "stderr",
     "output_type": "stream",
     "text": [
      "100%|██████████| 207/207 [01:04<00:00,  3.23it/s]\n",
      "100%|██████████| 13/13 [00:12<00:00,  1.07it/s]\n",
      "100%|██████████| 33/33 [00:09<00:00,  3.41it/s]\n"
     ]
    },
    {
     "name": "stdout",
     "output_type": "stream",
     "text": [
      "1m 26s\n",
      "Early Stopping Counter = 4\n",
      "Epoch 212/300\n"
     ]
    },
    {
     "name": "stderr",
     "output_type": "stream",
     "text": [
      "100%|██████████| 207/207 [01:04<00:00,  3.23it/s]\n",
      "100%|██████████| 13/13 [00:12<00:00,  1.06it/s]\n",
      "100%|██████████| 33/33 [00:09<00:00,  3.40it/s]\n"
     ]
    },
    {
     "name": "stdout",
     "output_type": "stream",
     "text": [
      "1m 26s\n",
      "Early Stopping Counter = 5\n",
      "Epoch 213/300\n"
     ]
    },
    {
     "name": "stderr",
     "output_type": "stream",
     "text": [
      "100%|██████████| 207/207 [01:04<00:00,  3.23it/s]\n",
      "100%|██████████| 13/13 [00:12<00:00,  1.07it/s]\n",
      "100%|██████████| 33/33 [00:09<00:00,  3.40it/s]\n"
     ]
    },
    {
     "name": "stdout",
     "output_type": "stream",
     "text": [
      "1m 26s\n",
      "Early Stopping Counter = 6\n",
      "Epoch 214/300\n"
     ]
    },
    {
     "name": "stderr",
     "output_type": "stream",
     "text": [
      "100%|██████████| 207/207 [01:03<00:00,  3.23it/s]\n",
      "100%|██████████| 13/13 [00:12<00:00,  1.07it/s]\n",
      "100%|██████████| 33/33 [00:09<00:00,  3.41it/s]\n"
     ]
    },
    {
     "name": "stdout",
     "output_type": "stream",
     "text": [
      "1m 26s\n",
      "Consistency Loss declined to 0.044026060173144706\n",
      "Early Stopping Counter = 0\n",
      "Epoch 215/300\n"
     ]
    },
    {
     "name": "stderr",
     "output_type": "stream",
     "text": [
      "100%|██████████| 207/207 [01:03<00:00,  3.24it/s]\n",
      "100%|██████████| 13/13 [00:12<00:00,  1.07it/s]\n",
      "100%|██████████| 33/33 [00:09<00:00,  3.44it/s]\n"
     ]
    },
    {
     "name": "stdout",
     "output_type": "stream",
     "text": [
      "1m 26s\n",
      "Consistency Loss declined to 0.043532368082266584\n",
      "Early Stopping Counter = 0\n",
      "Epoch 216/300\n"
     ]
    },
    {
     "name": "stderr",
     "output_type": "stream",
     "text": [
      "100%|██████████| 207/207 [01:03<00:00,  3.24it/s]\n",
      "100%|██████████| 13/13 [00:12<00:00,  1.05it/s]\n",
      "100%|██████████| 33/33 [00:09<00:00,  3.38it/s]\n"
     ]
    },
    {
     "name": "stdout",
     "output_type": "stream",
     "text": [
      "1m 26s\n",
      "Early Stopping Counter = 1\n",
      "Epoch 217/300\n"
     ]
    },
    {
     "name": "stderr",
     "output_type": "stream",
     "text": [
      "100%|██████████| 207/207 [01:04<00:00,  3.23it/s]\n",
      "100%|██████████| 13/13 [00:12<00:00,  1.06it/s]\n",
      "100%|██████████| 33/33 [00:09<00:00,  3.37it/s]\n"
     ]
    },
    {
     "name": "stdout",
     "output_type": "stream",
     "text": [
      "1m 26s\n",
      "Early Stopping Counter = 2\n",
      "Epoch 218/300\n"
     ]
    },
    {
     "name": "stderr",
     "output_type": "stream",
     "text": [
      "100%|██████████| 207/207 [01:04<00:00,  3.23it/s]\n",
      "100%|██████████| 13/13 [00:12<00:00,  1.07it/s]\n",
      "100%|██████████| 33/33 [00:09<00:00,  3.41it/s]\n"
     ]
    },
    {
     "name": "stdout",
     "output_type": "stream",
     "text": [
      "1m 26s\n",
      "Early Stopping Counter = 3\n",
      "Epoch 219/300\n"
     ]
    },
    {
     "name": "stderr",
     "output_type": "stream",
     "text": [
      "100%|██████████| 207/207 [01:04<00:00,  3.23it/s]\n",
      "100%|██████████| 13/13 [00:12<00:00,  1.06it/s]\n",
      "100%|██████████| 33/33 [00:09<00:00,  3.40it/s]\n"
     ]
    },
    {
     "name": "stdout",
     "output_type": "stream",
     "text": [
      "1m 26s\n",
      "Consistency Loss declined to 0.043287792457984045\n",
      "Early Stopping Counter = 0\n",
      "Epoch 220/300\n"
     ]
    },
    {
     "name": "stderr",
     "output_type": "stream",
     "text": [
      "100%|██████████| 207/207 [01:03<00:00,  3.24it/s]\n",
      "100%|██████████| 13/13 [00:12<00:00,  1.06it/s]\n",
      "100%|██████████| 33/33 [00:09<00:00,  3.38it/s]\n"
     ]
    },
    {
     "name": "stdout",
     "output_type": "stream",
     "text": [
      "1m 26s\n",
      "Early Stopping Counter = 1\n",
      "Epoch 221/300\n"
     ]
    },
    {
     "name": "stderr",
     "output_type": "stream",
     "text": [
      "100%|██████████| 207/207 [01:03<00:00,  3.24it/s]\n",
      "100%|██████████| 13/13 [00:12<00:00,  1.07it/s]\n",
      "100%|██████████| 33/33 [00:09<00:00,  3.38it/s]\n"
     ]
    },
    {
     "name": "stdout",
     "output_type": "stream",
     "text": [
      "1m 26s\n",
      "Early Stopping Counter = 2\n",
      "Epoch 222/300\n"
     ]
    },
    {
     "name": "stderr",
     "output_type": "stream",
     "text": [
      "100%|██████████| 207/207 [01:03<00:00,  3.24it/s]\n",
      "100%|██████████| 13/13 [00:12<00:00,  1.05it/s]\n",
      "100%|██████████| 33/33 [00:09<00:00,  3.35it/s]\n"
     ]
    },
    {
     "name": "stdout",
     "output_type": "stream",
     "text": [
      "1m 26s\n",
      "Early Stopping Counter = 3\n",
      "Epoch 223/300\n"
     ]
    },
    {
     "name": "stderr",
     "output_type": "stream",
     "text": [
      "100%|██████████| 207/207 [01:04<00:00,  3.23it/s]\n",
      "100%|██████████| 13/13 [00:12<00:00,  1.06it/s]\n",
      "100%|██████████| 33/33 [00:09<00:00,  3.34it/s]\n"
     ]
    },
    {
     "name": "stdout",
     "output_type": "stream",
     "text": [
      "1m 26s\n",
      "Early Stopping Counter = 4\n",
      "Epoch 224/300\n"
     ]
    },
    {
     "name": "stderr",
     "output_type": "stream",
     "text": [
      "100%|██████████| 207/207 [01:04<00:00,  3.23it/s]\n",
      "100%|██████████| 13/13 [00:12<00:00,  1.06it/s]\n",
      "100%|██████████| 33/33 [00:09<00:00,  3.34it/s]\n"
     ]
    },
    {
     "name": "stdout",
     "output_type": "stream",
     "text": [
      "1m 26s\n",
      "Consistency Loss declined to 0.04229383485821577\n",
      "Early Stopping Counter = 0\n",
      "Epoch 225/300\n"
     ]
    },
    {
     "name": "stderr",
     "output_type": "stream",
     "text": [
      "100%|██████████| 207/207 [01:03<00:00,  3.24it/s]\n",
      "100%|██████████| 13/13 [00:12<00:00,  1.06it/s]\n",
      "100%|██████████| 33/33 [00:09<00:00,  3.50it/s]\n"
     ]
    },
    {
     "name": "stdout",
     "output_type": "stream",
     "text": [
      "1m 26s\n",
      "Early Stopping Counter = 1\n",
      "Epoch 226/300\n"
     ]
    },
    {
     "name": "stderr",
     "output_type": "stream",
     "text": [
      "100%|██████████| 207/207 [01:04<00:00,  3.20it/s]\n",
      "100%|██████████| 13/13 [00:12<00:00,  1.07it/s]\n",
      "100%|██████████| 33/33 [00:09<00:00,  3.40it/s]\n"
     ]
    },
    {
     "name": "stdout",
     "output_type": "stream",
     "text": [
      "1m 27s\n",
      "Early Stopping Counter = 2\n",
      "Epoch 227/300\n"
     ]
    },
    {
     "name": "stderr",
     "output_type": "stream",
     "text": [
      "100%|██████████| 207/207 [01:04<00:00,  3.23it/s]\n",
      "100%|██████████| 13/13 [00:12<00:00,  1.05it/s]\n",
      "100%|██████████| 33/33 [00:09<00:00,  3.36it/s]\n"
     ]
    },
    {
     "name": "stdout",
     "output_type": "stream",
     "text": [
      "1m 26s\n",
      "Early Stopping Counter = 3\n",
      "Epoch 228/300\n"
     ]
    },
    {
     "name": "stderr",
     "output_type": "stream",
     "text": [
      "100%|██████████| 207/207 [01:04<00:00,  3.23it/s]\n",
      "100%|██████████| 13/13 [00:12<00:00,  1.07it/s]\n",
      "100%|██████████| 33/33 [00:09<00:00,  3.37it/s]\n"
     ]
    },
    {
     "name": "stdout",
     "output_type": "stream",
     "text": [
      "1m 26s\n",
      "Early Stopping Counter = 4\n",
      "Epoch 229/300\n"
     ]
    },
    {
     "name": "stderr",
     "output_type": "stream",
     "text": [
      "100%|██████████| 207/207 [01:04<00:00,  3.23it/s]\n",
      "100%|██████████| 13/13 [00:12<00:00,  1.06it/s]\n",
      "100%|██████████| 33/33 [00:09<00:00,  3.38it/s]\n"
     ]
    },
    {
     "name": "stdout",
     "output_type": "stream",
     "text": [
      "1m 26s\n",
      "Early Stopping Counter = 5\n",
      "Epoch 230/300\n"
     ]
    },
    {
     "name": "stderr",
     "output_type": "stream",
     "text": [
      "100%|██████████| 207/207 [01:04<00:00,  3.23it/s]\n",
      "100%|██████████| 13/13 [00:12<00:00,  1.06it/s]\n",
      "100%|██████████| 33/33 [00:09<00:00,  3.41it/s]\n"
     ]
    },
    {
     "name": "stdout",
     "output_type": "stream",
     "text": [
      "1m 26s\n",
      "Early Stopping Counter = 6\n",
      "Epoch 231/300\n"
     ]
    },
    {
     "name": "stderr",
     "output_type": "stream",
     "text": [
      "100%|██████████| 207/207 [01:04<00:00,  3.23it/s]\n",
      "100%|██████████| 13/13 [00:12<00:00,  1.06it/s]\n",
      "100%|██████████| 33/33 [00:09<00:00,  3.37it/s]\n"
     ]
    },
    {
     "name": "stdout",
     "output_type": "stream",
     "text": [
      "1m 26s\n",
      "Early Stopping Counter = 7\n",
      "Epoch 232/300\n"
     ]
    },
    {
     "name": "stderr",
     "output_type": "stream",
     "text": [
      "100%|██████████| 207/207 [01:04<00:00,  3.23it/s]\n",
      "100%|██████████| 13/13 [00:12<00:00,  1.07it/s]\n",
      "100%|██████████| 33/33 [00:10<00:00,  3.20it/s]\n"
     ]
    },
    {
     "name": "stdout",
     "output_type": "stream",
     "text": [
      "1m 27s\n",
      "Early Stopping Counter = 8\n",
      "Epoch 233/300\n"
     ]
    },
    {
     "name": "stderr",
     "output_type": "stream",
     "text": [
      "100%|██████████| 207/207 [01:04<00:00,  3.23it/s]\n",
      "100%|██████████| 13/13 [00:12<00:00,  1.07it/s]\n",
      "100%|██████████| 33/33 [00:09<00:00,  3.47it/s]\n"
     ]
    },
    {
     "name": "stdout",
     "output_type": "stream",
     "text": [
      "1m 26s\n",
      "Early Stopping Counter = 9\n",
      "Epoch 234/300\n"
     ]
    },
    {
     "name": "stderr",
     "output_type": "stream",
     "text": [
      "100%|██████████| 207/207 [01:04<00:00,  3.23it/s]\n",
      "100%|██████████| 13/13 [00:12<00:00,  1.07it/s]\n",
      "100%|██████████| 33/33 [00:09<00:00,  3.39it/s]\n"
     ]
    },
    {
     "name": "stdout",
     "output_type": "stream",
     "text": [
      "1m 26s\n",
      "Early Stopping Counter = 10\n",
      "Epoch 235/300\n"
     ]
    },
    {
     "name": "stderr",
     "output_type": "stream",
     "text": [
      "100%|██████████| 207/207 [01:04<00:00,  3.22it/s]\n",
      "100%|██████████| 13/13 [00:12<00:00,  1.07it/s]\n",
      "100%|██████████| 33/33 [00:09<00:00,  3.43it/s]\n"
     ]
    },
    {
     "name": "stdout",
     "output_type": "stream",
     "text": [
      "1m 26s\n",
      "Consistency Loss declined to 0.0421885521366046\n",
      "Early Stopping Counter = 0\n",
      "Epoch 236/300\n"
     ]
    },
    {
     "name": "stderr",
     "output_type": "stream",
     "text": [
      "100%|██████████| 207/207 [01:03<00:00,  3.24it/s]\n",
      "100%|██████████| 13/13 [00:12<00:00,  1.06it/s]\n",
      "100%|██████████| 33/33 [00:09<00:00,  3.40it/s]\n"
     ]
    },
    {
     "name": "stdout",
     "output_type": "stream",
     "text": [
      "1m 26s\n",
      "Early Stopping Counter = 1\n",
      "Epoch 237/300\n"
     ]
    },
    {
     "name": "stderr",
     "output_type": "stream",
     "text": [
      "100%|██████████| 207/207 [01:03<00:00,  3.24it/s]\n",
      "100%|██████████| 13/13 [00:12<00:00,  1.06it/s]\n",
      "100%|██████████| 33/33 [00:09<00:00,  3.39it/s]\n"
     ]
    },
    {
     "name": "stdout",
     "output_type": "stream",
     "text": [
      "1m 26s\n",
      "Early Stopping Counter = 2\n",
      "Epoch 238/300\n"
     ]
    },
    {
     "name": "stderr",
     "output_type": "stream",
     "text": [
      "100%|██████████| 207/207 [01:04<00:00,  3.23it/s]\n",
      "100%|██████████| 13/13 [00:12<00:00,  1.05it/s]\n",
      "100%|██████████| 33/33 [00:09<00:00,  3.33it/s]\n"
     ]
    },
    {
     "name": "stdout",
     "output_type": "stream",
     "text": [
      "1m 26s\n",
      "Early Stopping Counter = 3\n",
      "Epoch 239/300\n"
     ]
    },
    {
     "name": "stderr",
     "output_type": "stream",
     "text": [
      "100%|██████████| 207/207 [01:04<00:00,  3.23it/s]\n",
      "100%|██████████| 13/13 [00:12<00:00,  1.06it/s]\n",
      "100%|██████████| 33/33 [00:09<00:00,  3.40it/s]\n"
     ]
    },
    {
     "name": "stdout",
     "output_type": "stream",
     "text": [
      "1m 26s\n",
      "Early Stopping Counter = 4\n",
      "Epoch 240/300\n"
     ]
    },
    {
     "name": "stderr",
     "output_type": "stream",
     "text": [
      "100%|██████████| 207/207 [01:04<00:00,  3.23it/s]\n",
      "100%|██████████| 13/13 [00:12<00:00,  1.06it/s]\n",
      "100%|██████████| 33/33 [00:09<00:00,  3.39it/s]\n"
     ]
    },
    {
     "name": "stdout",
     "output_type": "stream",
     "text": [
      "1m 26s\n",
      "Early Stopping Counter = 5\n",
      "Epoch 241/300\n"
     ]
    },
    {
     "name": "stderr",
     "output_type": "stream",
     "text": [
      "100%|██████████| 207/207 [01:04<00:00,  3.23it/s]\n",
      "100%|██████████| 13/13 [00:12<00:00,  1.06it/s]\n",
      "100%|██████████| 33/33 [00:09<00:00,  3.38it/s]\n"
     ]
    },
    {
     "name": "stdout",
     "output_type": "stream",
     "text": [
      "1m 26s\n",
      "Early Stopping Counter = 6\n",
      "Epoch 242/300\n"
     ]
    },
    {
     "name": "stderr",
     "output_type": "stream",
     "text": [
      "100%|██████████| 207/207 [01:04<00:00,  3.23it/s]\n",
      "100%|██████████| 13/13 [00:12<00:00,  1.06it/s]\n",
      "100%|██████████| 33/33 [00:09<00:00,  3.37it/s]\n"
     ]
    },
    {
     "name": "stdout",
     "output_type": "stream",
     "text": [
      "1m 26s\n",
      "Early Stopping Counter = 7\n",
      "Epoch 243/300\n"
     ]
    },
    {
     "name": "stderr",
     "output_type": "stream",
     "text": [
      "100%|██████████| 207/207 [01:04<00:00,  3.23it/s]\n",
      "100%|██████████| 13/13 [00:12<00:00,  1.06it/s]\n",
      "100%|██████████| 33/33 [00:09<00:00,  3.41it/s]\n"
     ]
    },
    {
     "name": "stdout",
     "output_type": "stream",
     "text": [
      "1m 26s\n",
      "Early Stopping Counter = 8\n",
      "Epoch 244/300\n"
     ]
    },
    {
     "name": "stderr",
     "output_type": "stream",
     "text": [
      "100%|██████████| 207/207 [01:04<00:00,  3.23it/s]\n",
      "100%|██████████| 13/13 [00:12<00:00,  1.07it/s]\n",
      "100%|██████████| 33/33 [00:09<00:00,  3.39it/s]\n"
     ]
    },
    {
     "name": "stdout",
     "output_type": "stream",
     "text": [
      "1m 26s\n",
      "Consistency Loss declined to 0.0414719690497105\n",
      "Early Stopping Counter = 0\n",
      "Epoch 245/300\n"
     ]
    },
    {
     "name": "stderr",
     "output_type": "stream",
     "text": [
      "100%|██████████| 207/207 [01:03<00:00,  3.24it/s]\n",
      "100%|██████████| 13/13 [00:12<00:00,  1.06it/s]\n",
      "100%|██████████| 33/33 [00:09<00:00,  3.37it/s]\n"
     ]
    },
    {
     "name": "stdout",
     "output_type": "stream",
     "text": [
      "1m 26s\n",
      "Early Stopping Counter = 1\n",
      "Epoch 246/300\n"
     ]
    },
    {
     "name": "stderr",
     "output_type": "stream",
     "text": [
      "100%|██████████| 207/207 [01:03<00:00,  3.24it/s]\n",
      "100%|██████████| 13/13 [00:12<00:00,  1.07it/s]\n",
      "100%|██████████| 33/33 [00:09<00:00,  3.41it/s]\n"
     ]
    },
    {
     "name": "stdout",
     "output_type": "stream",
     "text": [
      "1m 26s\n",
      "Early Stopping Counter = 2\n",
      "Epoch 247/300\n"
     ]
    },
    {
     "name": "stderr",
     "output_type": "stream",
     "text": [
      "100%|██████████| 207/207 [01:04<00:00,  3.23it/s]\n",
      "100%|██████████| 13/13 [00:12<00:00,  1.04it/s]\n",
      "100%|██████████| 33/33 [00:09<00:00,  3.42it/s]\n"
     ]
    },
    {
     "name": "stdout",
     "output_type": "stream",
     "text": [
      "1m 26s\n",
      "Early Stopping Counter = 3\n",
      "Epoch 248/300\n"
     ]
    },
    {
     "name": "stderr",
     "output_type": "stream",
     "text": [
      "100%|██████████| 207/207 [01:04<00:00,  3.23it/s]\n",
      "100%|██████████| 13/13 [00:12<00:00,  1.06it/s]\n",
      "100%|██████████| 33/33 [00:09<00:00,  3.44it/s]\n"
     ]
    },
    {
     "name": "stdout",
     "output_type": "stream",
     "text": [
      "1m 26s\n",
      "Early Stopping Counter = 4\n",
      "Epoch 249/300\n"
     ]
    },
    {
     "name": "stderr",
     "output_type": "stream",
     "text": [
      "100%|██████████| 207/207 [01:04<00:00,  3.23it/s]\n",
      "100%|██████████| 13/13 [00:12<00:00,  1.06it/s]\n",
      "100%|██████████| 33/33 [00:09<00:00,  3.42it/s]\n"
     ]
    },
    {
     "name": "stdout",
     "output_type": "stream",
     "text": [
      "1m 26s\n",
      "Early Stopping Counter = 5\n",
      "Epoch 250/300\n"
     ]
    },
    {
     "name": "stderr",
     "output_type": "stream",
     "text": [
      "100%|██████████| 207/207 [01:04<00:00,  3.23it/s]\n",
      "100%|██████████| 13/13 [00:12<00:00,  1.07it/s]\n",
      "100%|██████████| 33/33 [00:09<00:00,  3.42it/s]\n"
     ]
    },
    {
     "name": "stdout",
     "output_type": "stream",
     "text": [
      "1m 26s\n",
      "Early Stopping Counter = 6\n",
      "Epoch 251/300\n"
     ]
    },
    {
     "name": "stderr",
     "output_type": "stream",
     "text": [
      "100%|██████████| 207/207 [01:04<00:00,  3.23it/s]\n",
      "100%|██████████| 13/13 [00:12<00:00,  1.06it/s]\n",
      "100%|██████████| 33/33 [00:09<00:00,  3.38it/s]\n"
     ]
    },
    {
     "name": "stdout",
     "output_type": "stream",
     "text": [
      "1m 26s\n",
      "Early Stopping Counter = 7\n",
      "Epoch 252/300\n"
     ]
    },
    {
     "name": "stderr",
     "output_type": "stream",
     "text": [
      "100%|██████████| 207/207 [01:04<00:00,  3.23it/s]\n",
      "100%|██████████| 13/13 [00:12<00:00,  1.07it/s]\n",
      "100%|██████████| 33/33 [00:09<00:00,  3.36it/s]\n"
     ]
    },
    {
     "name": "stdout",
     "output_type": "stream",
     "text": [
      "1m 26s\n",
      "Early Stopping Counter = 8\n",
      "Epoch 253/300\n"
     ]
    },
    {
     "name": "stderr",
     "output_type": "stream",
     "text": [
      "100%|██████████| 207/207 [01:04<00:00,  3.23it/s]\n",
      "100%|██████████| 13/13 [00:12<00:00,  1.07it/s]\n",
      "100%|██████████| 33/33 [00:09<00:00,  3.38it/s]\n"
     ]
    },
    {
     "name": "stdout",
     "output_type": "stream",
     "text": [
      "1m 26s\n",
      "Early Stopping Counter = 9\n",
      "Epoch 254/300\n"
     ]
    },
    {
     "name": "stderr",
     "output_type": "stream",
     "text": [
      "100%|██████████| 207/207 [01:04<00:00,  3.23it/s]\n",
      "100%|██████████| 13/13 [00:12<00:00,  1.07it/s]\n",
      "100%|██████████| 33/33 [00:09<00:00,  3.38it/s]\n"
     ]
    },
    {
     "name": "stdout",
     "output_type": "stream",
     "text": [
      "1m 26s\n",
      "Consistency Loss declined to 0.04046037936439881\n",
      "Early Stopping Counter = 0\n",
      "Epoch 255/300\n"
     ]
    },
    {
     "name": "stderr",
     "output_type": "stream",
     "text": [
      "100%|██████████| 207/207 [01:03<00:00,  3.24it/s]\n",
      "100%|██████████| 13/13 [00:12<00:00,  1.06it/s]\n",
      "100%|██████████| 33/33 [00:09<00:00,  3.42it/s]\n"
     ]
    },
    {
     "name": "stdout",
     "output_type": "stream",
     "text": [
      "1m 26s\n",
      "Early Stopping Counter = 1\n",
      "Epoch 256/300\n"
     ]
    },
    {
     "name": "stderr",
     "output_type": "stream",
     "text": [
      "100%|██████████| 207/207 [01:03<00:00,  3.25it/s]\n",
      "100%|██████████| 13/13 [00:12<00:00,  1.07it/s]\n",
      "100%|██████████| 33/33 [00:09<00:00,  3.36it/s]\n"
     ]
    },
    {
     "name": "stdout",
     "output_type": "stream",
     "text": [
      "1m 26s\n",
      "Early Stopping Counter = 2\n",
      "Epoch 257/300\n"
     ]
    },
    {
     "name": "stderr",
     "output_type": "stream",
     "text": [
      "100%|██████████| 207/207 [01:03<00:00,  3.23it/s]\n",
      "100%|██████████| 13/13 [00:12<00:00,  1.05it/s]\n",
      "100%|██████████| 33/33 [00:09<00:00,  3.40it/s]\n"
     ]
    },
    {
     "name": "stdout",
     "output_type": "stream",
     "text": [
      "1m 26s\n",
      "Early Stopping Counter = 3\n",
      "Epoch 258/300\n"
     ]
    },
    {
     "name": "stderr",
     "output_type": "stream",
     "text": [
      "100%|██████████| 207/207 [01:04<00:00,  3.23it/s]\n",
      "100%|██████████| 13/13 [00:12<00:00,  1.06it/s]\n",
      "100%|██████████| 33/33 [00:09<00:00,  3.40it/s]\n"
     ]
    },
    {
     "name": "stdout",
     "output_type": "stream",
     "text": [
      "1m 26s\n",
      "Early Stopping Counter = 4\n",
      "Epoch 259/300\n"
     ]
    },
    {
     "name": "stderr",
     "output_type": "stream",
     "text": [
      "100%|██████████| 207/207 [01:04<00:00,  3.23it/s]\n",
      "100%|██████████| 13/13 [00:12<00:00,  1.06it/s]\n",
      "100%|██████████| 33/33 [00:09<00:00,  3.41it/s]\n"
     ]
    },
    {
     "name": "stdout",
     "output_type": "stream",
     "text": [
      "1m 26s\n",
      "Consistency Loss declined to 0.04007680570850006\n",
      "Early Stopping Counter = 0\n",
      "Epoch 260/300\n"
     ]
    },
    {
     "name": "stderr",
     "output_type": "stream",
     "text": [
      "100%|██████████| 207/207 [01:03<00:00,  3.24it/s]\n",
      "100%|██████████| 13/13 [00:12<00:00,  1.07it/s]\n",
      "100%|██████████| 33/33 [00:09<00:00,  3.48it/s]\n"
     ]
    },
    {
     "name": "stdout",
     "output_type": "stream",
     "text": [
      "1m 26s\n",
      "Early Stopping Counter = 1\n",
      "Epoch 261/300\n"
     ]
    },
    {
     "name": "stderr",
     "output_type": "stream",
     "text": [
      "100%|██████████| 207/207 [01:03<00:00,  3.24it/s]\n",
      "100%|██████████| 13/13 [00:12<00:00,  1.07it/s]\n",
      "100%|██████████| 33/33 [00:09<00:00,  3.42it/s]\n"
     ]
    },
    {
     "name": "stdout",
     "output_type": "stream",
     "text": [
      "1m 26s\n",
      "Early Stopping Counter = 2\n",
      "Epoch 262/300\n"
     ]
    },
    {
     "name": "stderr",
     "output_type": "stream",
     "text": [
      "100%|██████████| 207/207 [01:03<00:00,  3.24it/s]\n",
      "100%|██████████| 13/13 [00:12<00:00,  1.05it/s]\n",
      "100%|██████████| 33/33 [00:09<00:00,  3.40it/s]\n"
     ]
    },
    {
     "name": "stdout",
     "output_type": "stream",
     "text": [
      "1m 26s\n",
      "Early Stopping Counter = 3\n",
      "Epoch 263/300\n"
     ]
    },
    {
     "name": "stderr",
     "output_type": "stream",
     "text": [
      "100%|██████████| 207/207 [01:03<00:00,  3.24it/s]\n",
      "100%|██████████| 13/13 [00:12<00:00,  1.07it/s]\n",
      "100%|██████████| 33/33 [00:09<00:00,  3.36it/s]\n"
     ]
    },
    {
     "name": "stdout",
     "output_type": "stream",
     "text": [
      "1m 26s\n",
      "Early Stopping Counter = 4\n",
      "Epoch 264/300\n"
     ]
    },
    {
     "name": "stderr",
     "output_type": "stream",
     "text": [
      "100%|██████████| 207/207 [01:03<00:00,  3.24it/s]\n",
      "100%|██████████| 13/13 [00:12<00:00,  1.06it/s]\n",
      "100%|██████████| 33/33 [00:09<00:00,  3.41it/s]\n"
     ]
    },
    {
     "name": "stdout",
     "output_type": "stream",
     "text": [
      "1m 26s\n",
      "Early Stopping Counter = 5\n",
      "Epoch 265/300\n"
     ]
    },
    {
     "name": "stderr",
     "output_type": "stream",
     "text": [
      "100%|██████████| 207/207 [01:04<00:00,  3.23it/s]\n",
      "100%|██████████| 13/13 [00:12<00:00,  1.06it/s]\n",
      "100%|██████████| 33/33 [00:09<00:00,  3.42it/s]\n"
     ]
    },
    {
     "name": "stdout",
     "output_type": "stream",
     "text": [
      "1m 26s\n",
      "Early Stopping Counter = 6\n",
      "Epoch 266/300\n"
     ]
    },
    {
     "name": "stderr",
     "output_type": "stream",
     "text": [
      "100%|██████████| 207/207 [01:04<00:00,  3.23it/s]\n",
      "100%|██████████| 13/13 [00:12<00:00,  1.06it/s]\n",
      "100%|██████████| 33/33 [00:09<00:00,  3.33it/s]\n"
     ]
    },
    {
     "name": "stdout",
     "output_type": "stream",
     "text": [
      "1m 26s\n",
      "Early Stopping Counter = 7\n",
      "Epoch 267/300\n"
     ]
    },
    {
     "name": "stderr",
     "output_type": "stream",
     "text": [
      "100%|██████████| 207/207 [01:04<00:00,  3.23it/s]\n",
      "100%|██████████| 13/13 [00:12<00:00,  1.07it/s]\n",
      "100%|██████████| 33/33 [00:09<00:00,  3.41it/s]\n"
     ]
    },
    {
     "name": "stdout",
     "output_type": "stream",
     "text": [
      "1m 26s\n",
      "Early Stopping Counter = 8\n",
      "Epoch 268/300\n"
     ]
    },
    {
     "name": "stderr",
     "output_type": "stream",
     "text": [
      "100%|██████████| 207/207 [01:04<00:00,  3.23it/s]\n",
      "100%|██████████| 13/13 [00:12<00:00,  1.07it/s]\n",
      "100%|██████████| 33/33 [00:09<00:00,  3.39it/s]\n"
     ]
    },
    {
     "name": "stdout",
     "output_type": "stream",
     "text": [
      "1m 26s\n",
      "Consistency Loss declined to 0.039926528644103274\n",
      "Early Stopping Counter = 0\n",
      "Epoch 269/300\n"
     ]
    },
    {
     "name": "stderr",
     "output_type": "stream",
     "text": [
      "100%|██████████| 207/207 [01:03<00:00,  3.24it/s]\n",
      "100%|██████████| 13/13 [00:12<00:00,  1.07it/s]\n",
      "100%|██████████| 33/33 [00:09<00:00,  3.44it/s]\n"
     ]
    },
    {
     "name": "stdout",
     "output_type": "stream",
     "text": [
      "1m 26s\n",
      "Early Stopping Counter = 1\n",
      "Epoch 270/300\n"
     ]
    },
    {
     "name": "stderr",
     "output_type": "stream",
     "text": [
      "100%|██████████| 207/207 [01:04<00:00,  3.23it/s]\n",
      "100%|██████████| 13/13 [00:12<00:00,  1.06it/s]\n",
      "100%|██████████| 33/33 [00:09<00:00,  3.43it/s]\n"
     ]
    },
    {
     "name": "stdout",
     "output_type": "stream",
     "text": [
      "1m 26s\n",
      "Early Stopping Counter = 2\n",
      "Epoch 271/300\n"
     ]
    },
    {
     "name": "stderr",
     "output_type": "stream",
     "text": [
      "100%|██████████| 207/207 [01:04<00:00,  3.22it/s]\n",
      "100%|██████████| 13/13 [00:12<00:00,  1.05it/s]\n",
      "100%|██████████| 33/33 [00:09<00:00,  3.44it/s]\n"
     ]
    },
    {
     "name": "stdout",
     "output_type": "stream",
     "text": [
      "1m 26s\n",
      "Early Stopping Counter = 3\n",
      "Epoch 272/300\n"
     ]
    },
    {
     "name": "stderr",
     "output_type": "stream",
     "text": [
      "100%|██████████| 207/207 [01:03<00:00,  3.24it/s]\n",
      "100%|██████████| 13/13 [00:12<00:00,  1.07it/s]\n",
      "100%|██████████| 33/33 [00:09<00:00,  3.41it/s]\n"
     ]
    },
    {
     "name": "stdout",
     "output_type": "stream",
     "text": [
      "1m 26s\n",
      "Early Stopping Counter = 4\n",
      "Epoch 273/300\n"
     ]
    },
    {
     "name": "stderr",
     "output_type": "stream",
     "text": [
      "100%|██████████| 207/207 [01:04<00:00,  3.23it/s]\n",
      "100%|██████████| 13/13 [00:12<00:00,  1.05it/s]\n",
      "100%|██████████| 33/33 [00:09<00:00,  3.37it/s]\n"
     ]
    },
    {
     "name": "stdout",
     "output_type": "stream",
     "text": [
      "1m 26s\n",
      "Early Stopping Counter = 5\n",
      "Epoch 274/300\n"
     ]
    },
    {
     "name": "stderr",
     "output_type": "stream",
     "text": [
      "100%|██████████| 207/207 [01:04<00:00,  3.23it/s]\n",
      "100%|██████████| 13/13 [00:12<00:00,  1.06it/s]\n",
      "100%|██████████| 33/33 [00:09<00:00,  3.38it/s]\n"
     ]
    },
    {
     "name": "stdout",
     "output_type": "stream",
     "text": [
      "1m 26s\n",
      "Consistency Loss declined to 0.0392011426962339\n",
      "Early Stopping Counter = 0\n",
      "Epoch 275/300\n"
     ]
    },
    {
     "name": "stderr",
     "output_type": "stream",
     "text": [
      "100%|██████████| 207/207 [01:03<00:00,  3.25it/s]\n",
      "100%|██████████| 13/13 [00:12<00:00,  1.05it/s]\n",
      "100%|██████████| 33/33 [00:09<00:00,  3.35it/s]\n"
     ]
    },
    {
     "name": "stdout",
     "output_type": "stream",
     "text": [
      "1m 26s\n",
      "Early Stopping Counter = 1\n",
      "Epoch 276/300\n"
     ]
    },
    {
     "name": "stderr",
     "output_type": "stream",
     "text": [
      "100%|██████████| 207/207 [01:03<00:00,  3.25it/s]\n",
      "100%|██████████| 13/13 [00:12<00:00,  1.07it/s]\n",
      "100%|██████████| 33/33 [00:09<00:00,  3.41it/s]\n"
     ]
    },
    {
     "name": "stdout",
     "output_type": "stream",
     "text": [
      "1m 26s\n",
      "Early Stopping Counter = 2\n",
      "Epoch 277/300\n"
     ]
    },
    {
     "name": "stderr",
     "output_type": "stream",
     "text": [
      "100%|██████████| 207/207 [01:03<00:00,  3.24it/s]\n",
      "100%|██████████| 13/13 [00:12<00:00,  1.05it/s]\n",
      "100%|██████████| 33/33 [00:09<00:00,  3.43it/s]\n"
     ]
    },
    {
     "name": "stdout",
     "output_type": "stream",
     "text": [
      "1m 26s\n",
      "Early Stopping Counter = 3\n",
      "Epoch 278/300\n"
     ]
    },
    {
     "name": "stderr",
     "output_type": "stream",
     "text": [
      "100%|██████████| 207/207 [01:04<00:00,  3.23it/s]\n",
      "100%|██████████| 13/13 [00:12<00:00,  1.07it/s]\n",
      "100%|██████████| 33/33 [00:09<00:00,  3.37it/s]\n"
     ]
    },
    {
     "name": "stdout",
     "output_type": "stream",
     "text": [
      "1m 26s\n",
      "Early Stopping Counter = 4\n",
      "Epoch 279/300\n"
     ]
    },
    {
     "name": "stderr",
     "output_type": "stream",
     "text": [
      "100%|██████████| 207/207 [01:04<00:00,  3.23it/s]\n",
      "100%|██████████| 13/13 [00:12<00:00,  1.07it/s]\n",
      "100%|██████████| 33/33 [00:09<00:00,  3.38it/s]\n"
     ]
    },
    {
     "name": "stdout",
     "output_type": "stream",
     "text": [
      "1m 26s\n",
      "Consistency Loss declined to 0.039158307015895844\n",
      "Early Stopping Counter = 0\n",
      "Epoch 280/300\n"
     ]
    },
    {
     "name": "stderr",
     "output_type": "stream",
     "text": [
      "100%|██████████| 207/207 [01:03<00:00,  3.24it/s]\n",
      "100%|██████████| 13/13 [00:12<00:00,  1.06it/s]\n",
      "100%|██████████| 33/33 [00:09<00:00,  3.35it/s]\n"
     ]
    },
    {
     "name": "stdout",
     "output_type": "stream",
     "text": [
      "1m 26s\n",
      "Consistency Loss declined to 0.038229435395735964\n",
      "Early Stopping Counter = 0\n",
      "Epoch 281/300\n"
     ]
    },
    {
     "name": "stderr",
     "output_type": "stream",
     "text": [
      "100%|██████████| 207/207 [01:03<00:00,  3.24it/s]\n",
      "100%|██████████| 13/13 [00:12<00:00,  1.05it/s]\n",
      "100%|██████████| 33/33 [00:09<00:00,  3.34it/s]\n"
     ]
    },
    {
     "name": "stdout",
     "output_type": "stream",
     "text": [
      "1m 26s\n",
      "Early Stopping Counter = 1\n",
      "Epoch 282/300\n"
     ]
    },
    {
     "name": "stderr",
     "output_type": "stream",
     "text": [
      "100%|██████████| 207/207 [01:04<00:00,  3.23it/s]\n",
      "100%|██████████| 13/13 [00:12<00:00,  1.06it/s]\n",
      "100%|██████████| 33/33 [00:09<00:00,  3.38it/s]\n"
     ]
    },
    {
     "name": "stdout",
     "output_type": "stream",
     "text": [
      "1m 26s\n",
      "Early Stopping Counter = 2\n",
      "Epoch 283/300\n"
     ]
    },
    {
     "name": "stderr",
     "output_type": "stream",
     "text": [
      "100%|██████████| 207/207 [01:04<00:00,  3.23it/s]\n",
      "100%|██████████| 13/13 [00:12<00:00,  1.07it/s]\n",
      "100%|██████████| 33/33 [00:09<00:00,  3.40it/s]\n"
     ]
    },
    {
     "name": "stdout",
     "output_type": "stream",
     "text": [
      "1m 26s\n",
      "Early Stopping Counter = 3\n",
      "Epoch 284/300\n"
     ]
    },
    {
     "name": "stderr",
     "output_type": "stream",
     "text": [
      "100%|██████████| 207/207 [01:04<00:00,  3.23it/s]\n",
      "100%|██████████| 13/13 [00:12<00:00,  1.06it/s]\n",
      "100%|██████████| 33/33 [00:09<00:00,  3.38it/s]\n"
     ]
    },
    {
     "name": "stdout",
     "output_type": "stream",
     "text": [
      "1m 26s\n",
      "Early Stopping Counter = 4\n",
      "Epoch 285/300\n"
     ]
    },
    {
     "name": "stderr",
     "output_type": "stream",
     "text": [
      "100%|██████████| 207/207 [01:04<00:00,  3.23it/s]\n",
      "100%|██████████| 13/13 [00:12<00:00,  1.07it/s]\n",
      "100%|██████████| 33/33 [00:09<00:00,  3.38it/s]\n"
     ]
    },
    {
     "name": "stdout",
     "output_type": "stream",
     "text": [
      "1m 26s\n",
      "Early Stopping Counter = 5\n",
      "Epoch 286/300\n"
     ]
    },
    {
     "name": "stderr",
     "output_type": "stream",
     "text": [
      "100%|██████████| 207/207 [01:04<00:00,  3.23it/s]\n",
      "100%|██████████| 13/13 [00:12<00:00,  1.06it/s]\n",
      "100%|██████████| 33/33 [00:09<00:00,  3.35it/s]\n"
     ]
    },
    {
     "name": "stdout",
     "output_type": "stream",
     "text": [
      "1m 26s\n",
      "Early Stopping Counter = 6\n",
      "Epoch 287/300\n"
     ]
    },
    {
     "name": "stderr",
     "output_type": "stream",
     "text": [
      "100%|██████████| 207/207 [01:04<00:00,  3.23it/s]\n",
      "100%|██████████| 13/13 [00:12<00:00,  1.07it/s]\n",
      "100%|██████████| 33/33 [00:09<00:00,  3.40it/s]\n"
     ]
    },
    {
     "name": "stdout",
     "output_type": "stream",
     "text": [
      "1m 26s\n",
      "Early Stopping Counter = 7\n",
      "Epoch 288/300\n"
     ]
    },
    {
     "name": "stderr",
     "output_type": "stream",
     "text": [
      "100%|██████████| 207/207 [01:04<00:00,  3.23it/s]\n",
      "100%|██████████| 13/13 [00:12<00:00,  1.07it/s]\n",
      "100%|██████████| 33/33 [00:09<00:00,  3.42it/s]\n"
     ]
    },
    {
     "name": "stdout",
     "output_type": "stream",
     "text": [
      "1m 26s\n",
      "Early Stopping Counter = 8\n",
      "Epoch 289/300\n"
     ]
    },
    {
     "name": "stderr",
     "output_type": "stream",
     "text": [
      "100%|██████████| 207/207 [01:04<00:00,  3.23it/s]\n",
      "100%|██████████| 13/13 [00:12<00:00,  1.07it/s]\n",
      "100%|██████████| 33/33 [00:09<00:00,  3.40it/s]\n"
     ]
    },
    {
     "name": "stdout",
     "output_type": "stream",
     "text": [
      "1m 26s\n",
      "Early Stopping Counter = 9\n",
      "Epoch 290/300\n"
     ]
    },
    {
     "name": "stderr",
     "output_type": "stream",
     "text": [
      "100%|██████████| 207/207 [01:04<00:00,  3.23it/s]\n",
      "100%|██████████| 13/13 [00:12<00:00,  1.07it/s]\n",
      "100%|██████████| 33/33 [00:09<00:00,  3.43it/s]\n"
     ]
    },
    {
     "name": "stdout",
     "output_type": "stream",
     "text": [
      "1m 26s\n",
      "Early Stopping Counter = 10\n",
      "Epoch 291/300\n"
     ]
    },
    {
     "name": "stderr",
     "output_type": "stream",
     "text": [
      "100%|██████████| 207/207 [01:04<00:00,  3.23it/s]\n",
      "100%|██████████| 13/13 [00:12<00:00,  1.07it/s]\n",
      "100%|██████████| 33/33 [00:09<00:00,  3.40it/s]\n"
     ]
    },
    {
     "name": "stdout",
     "output_type": "stream",
     "text": [
      "1m 26s\n",
      "Early Stopping Counter = 11\n",
      "Epoch 292/300\n"
     ]
    },
    {
     "name": "stderr",
     "output_type": "stream",
     "text": [
      "100%|██████████| 207/207 [01:03<00:00,  3.24it/s]\n",
      "100%|██████████| 13/13 [00:12<00:00,  1.07it/s]\n",
      "100%|██████████| 33/33 [00:09<00:00,  3.38it/s]\n"
     ]
    },
    {
     "name": "stdout",
     "output_type": "stream",
     "text": [
      "1m 26s\n",
      "Consistency Loss declined to 0.03799407900525974\n",
      "Early Stopping Counter = 0\n",
      "Epoch 293/300\n"
     ]
    },
    {
     "name": "stderr",
     "output_type": "stream",
     "text": [
      "100%|██████████| 207/207 [01:03<00:00,  3.24it/s]\n",
      "100%|██████████| 13/13 [00:12<00:00,  1.07it/s]\n",
      "100%|██████████| 33/33 [00:09<00:00,  3.45it/s]\n"
     ]
    },
    {
     "name": "stdout",
     "output_type": "stream",
     "text": [
      "1m 26s\n",
      "Consistency Loss declined to 0.037511734721752316\n",
      "Early Stopping Counter = 0\n",
      "Epoch 294/300\n"
     ]
    },
    {
     "name": "stderr",
     "output_type": "stream",
     "text": [
      "100%|██████████| 207/207 [01:03<00:00,  3.24it/s]\n",
      "100%|██████████| 13/13 [00:12<00:00,  1.06it/s]\n",
      "100%|██████████| 33/33 [00:09<00:00,  3.47it/s]\n"
     ]
    },
    {
     "name": "stdout",
     "output_type": "stream",
     "text": [
      "1m 26s\n",
      "Early Stopping Counter = 1\n",
      "Epoch 295/300\n"
     ]
    },
    {
     "name": "stderr",
     "output_type": "stream",
     "text": [
      "100%|██████████| 207/207 [01:04<00:00,  3.23it/s]\n",
      "100%|██████████| 13/13 [00:12<00:00,  1.06it/s]\n",
      "100%|██████████| 33/33 [00:09<00:00,  3.44it/s]\n"
     ]
    },
    {
     "name": "stdout",
     "output_type": "stream",
     "text": [
      "1m 26s\n",
      "Early Stopping Counter = 2\n",
      "Epoch 296/300\n"
     ]
    },
    {
     "name": "stderr",
     "output_type": "stream",
     "text": [
      "100%|██████████| 207/207 [01:04<00:00,  3.23it/s]\n",
      "100%|██████████| 13/13 [00:12<00:00,  1.07it/s]\n",
      "100%|██████████| 33/33 [00:09<00:00,  3.44it/s]\n"
     ]
    },
    {
     "name": "stdout",
     "output_type": "stream",
     "text": [
      "1m 26s\n",
      "Early Stopping Counter = 3\n",
      "Epoch 297/300\n"
     ]
    },
    {
     "name": "stderr",
     "output_type": "stream",
     "text": [
      "100%|██████████| 207/207 [01:04<00:00,  3.23it/s]\n",
      "100%|██████████| 13/13 [00:12<00:00,  1.06it/s]\n",
      "100%|██████████| 33/33 [00:09<00:00,  3.40it/s]\n"
     ]
    },
    {
     "name": "stdout",
     "output_type": "stream",
     "text": [
      "1m 26s\n",
      "Early Stopping Counter = 4\n",
      "Epoch 298/300\n"
     ]
    },
    {
     "name": "stderr",
     "output_type": "stream",
     "text": [
      "100%|██████████| 207/207 [01:04<00:00,  3.23it/s]\n",
      "100%|██████████| 13/13 [00:12<00:00,  1.07it/s]\n",
      "100%|██████████| 33/33 [00:09<00:00,  3.36it/s]\n"
     ]
    },
    {
     "name": "stdout",
     "output_type": "stream",
     "text": [
      "1m 26s\n",
      "Early Stopping Counter = 5\n",
      "Epoch 299/300\n"
     ]
    },
    {
     "name": "stderr",
     "output_type": "stream",
     "text": [
      "100%|██████████| 207/207 [01:04<00:00,  3.23it/s]\n",
      "100%|██████████| 13/13 [00:12<00:00,  1.07it/s]\n",
      "100%|██████████| 33/33 [00:09<00:00,  3.41it/s]\n"
     ]
    },
    {
     "name": "stdout",
     "output_type": "stream",
     "text": [
      "1m 26s\n",
      "Early Stopping Counter = 6\n",
      "Epoch 300/300\n"
     ]
    },
    {
     "name": "stderr",
     "output_type": "stream",
     "text": [
      "100%|██████████| 207/207 [01:04<00:00,  3.23it/s]\n",
      "100%|██████████| 13/13 [00:12<00:00,  1.07it/s]\n",
      "100%|██████████| 33/33 [00:10<00:00,  3.22it/s]\n"
     ]
    },
    {
     "name": "stdout",
     "output_type": "stream",
     "text": [
      "1m 27s\n",
      "Consistency Loss declined to 0.03745521117861454\n",
      "Early Stopping Counter = 0\n"
     ]
    },
    {
     "name": "stderr",
     "output_type": "stream",
     "text": [
      "100%|██████████| 2/2 [00:15<00:00,  7.93s/it]\n",
      " 93%|█████████▎| 13/14 [02:08<00:09,  9.91s/it]\n",
      "100%|██████████| 891/891 [01:30<00:00,  9.81it/s]\n"
     ]
    },
    {
     "name": "stdout",
     "output_type": "stream",
     "text": [
      "Epoch 1/300\n"
     ]
    },
    {
     "name": "stderr",
     "output_type": "stream",
     "text": [
      "100%|██████████| 207/207 [01:03<00:00,  3.24it/s]\n",
      "100%|██████████| 13/13 [00:12<00:00,  1.05it/s]\n",
      "100%|██████████| 33/33 [00:09<00:00,  3.41it/s]\n"
     ]
    },
    {
     "name": "stdout",
     "output_type": "stream",
     "text": [
      "1m 26s\n",
      "Consistency Loss declined to 0.26927217268026793\n",
      "Early Stopping Counter = 0\n",
      "Epoch 2/300\n"
     ]
    },
    {
     "name": "stderr",
     "output_type": "stream",
     "text": [
      "100%|██████████| 207/207 [01:03<00:00,  3.24it/s]\n",
      "100%|██████████| 13/13 [00:12<00:00,  1.06it/s]\n",
      "100%|██████████| 33/33 [00:09<00:00,  3.41it/s]\n"
     ]
    },
    {
     "name": "stdout",
     "output_type": "stream",
     "text": [
      "1m 26s\n",
      "Consistency Loss declined to 0.2299399502002276\n",
      "Early Stopping Counter = 0\n",
      "Epoch 3/300\n"
     ]
    },
    {
     "name": "stderr",
     "output_type": "stream",
     "text": [
      "100%|██████████| 207/207 [01:03<00:00,  3.24it/s]\n",
      "100%|██████████| 13/13 [00:12<00:00,  1.06it/s]\n",
      "100%|██████████| 33/33 [00:10<00:00,  3.17it/s]\n"
     ]
    },
    {
     "name": "stdout",
     "output_type": "stream",
     "text": [
      "1m 27s\n",
      "Consistency Loss declined to 0.21715131516640002\n",
      "Early Stopping Counter = 0\n",
      "Epoch 4/300\n"
     ]
    },
    {
     "name": "stderr",
     "output_type": "stream",
     "text": [
      "100%|██████████| 207/207 [01:04<00:00,  3.21it/s]\n",
      "100%|██████████| 13/13 [00:12<00:00,  1.05it/s]\n",
      "100%|██████████| 33/33 [00:09<00:00,  3.44it/s]\n"
     ]
    },
    {
     "name": "stdout",
     "output_type": "stream",
     "text": [
      "1m 26s\n",
      "Consistency Loss declined to 0.1973296873844587\n",
      "Early Stopping Counter = 0\n",
      "Epoch 5/300\n"
     ]
    },
    {
     "name": "stderr",
     "output_type": "stream",
     "text": [
      "100%|██████████| 207/207 [01:04<00:00,  3.23it/s]\n",
      "100%|██████████| 13/13 [00:12<00:00,  1.04it/s]\n",
      "100%|██████████| 33/33 [00:09<00:00,  3.45it/s]\n"
     ]
    },
    {
     "name": "stdout",
     "output_type": "stream",
     "text": [
      "1m 26s\n",
      "Consistency Loss declined to 0.1846258995624689\n",
      "Early Stopping Counter = 0\n",
      "Epoch 6/300\n"
     ]
    },
    {
     "name": "stderr",
     "output_type": "stream",
     "text": [
      "100%|██████████| 207/207 [01:04<00:00,  3.23it/s]\n",
      "100%|██████████| 13/13 [00:12<00:00,  1.05it/s]\n",
      "100%|██████████| 33/33 [00:09<00:00,  3.37it/s]\n"
     ]
    },
    {
     "name": "stdout",
     "output_type": "stream",
     "text": [
      "1m 26s\n",
      "Consistency Loss declined to 0.17087991994160873\n",
      "Early Stopping Counter = 0\n",
      "Epoch 7/300\n"
     ]
    },
    {
     "name": "stderr",
     "output_type": "stream",
     "text": [
      "100%|██████████| 207/207 [01:04<00:00,  3.23it/s]\n",
      "100%|██████████| 13/13 [00:12<00:00,  1.06it/s]\n",
      "100%|██████████| 33/33 [00:09<00:00,  3.45it/s]\n"
     ]
    },
    {
     "name": "stdout",
     "output_type": "stream",
     "text": [
      "1m 26s\n",
      "Consistency Loss declined to 0.15706263597194964\n",
      "Early Stopping Counter = 0\n",
      "Epoch 8/300\n"
     ]
    },
    {
     "name": "stderr",
     "output_type": "stream",
     "text": [
      "100%|██████████| 207/207 [01:03<00:00,  3.25it/s]\n",
      "100%|██████████| 13/13 [00:12<00:00,  1.05it/s]\n",
      "100%|██████████| 33/33 [00:09<00:00,  3.44it/s]\n"
     ]
    },
    {
     "name": "stdout",
     "output_type": "stream",
     "text": [
      "1m 26s\n",
      "Consistency Loss declined to 0.15205793770459983\n",
      "Early Stopping Counter = 0\n",
      "Epoch 9/300\n"
     ]
    },
    {
     "name": "stderr",
     "output_type": "stream",
     "text": [
      "100%|██████████| 207/207 [01:04<00:00,  3.23it/s]\n",
      "100%|██████████| 13/13 [00:12<00:00,  1.04it/s]\n",
      "100%|██████████| 33/33 [00:09<00:00,  3.41it/s]\n"
     ]
    },
    {
     "name": "stdout",
     "output_type": "stream",
     "text": [
      "1m 26s\n",
      "Consistency Loss declined to 0.1485039649101404\n",
      "Early Stopping Counter = 0\n",
      "Epoch 10/300\n"
     ]
    },
    {
     "name": "stderr",
     "output_type": "stream",
     "text": [
      "100%|██████████| 207/207 [01:03<00:00,  3.24it/s]\n",
      "100%|██████████| 13/13 [00:12<00:00,  1.05it/s]\n",
      "100%|██████████| 33/33 [00:09<00:00,  3.35it/s]\n"
     ]
    },
    {
     "name": "stdout",
     "output_type": "stream",
     "text": [
      "1m 26s\n",
      "Early Stopping Counter = 1\n",
      "Epoch 11/300\n"
     ]
    },
    {
     "name": "stderr",
     "output_type": "stream",
     "text": [
      "100%|██████████| 207/207 [01:04<00:00,  3.23it/s]\n",
      "100%|██████████| 13/13 [00:12<00:00,  1.06it/s]\n",
      "100%|██████████| 33/33 [00:09<00:00,  3.36it/s]\n"
     ]
    },
    {
     "name": "stdout",
     "output_type": "stream",
     "text": [
      "1m 26s\n",
      "Consistency Loss declined to 0.1423488282240354\n",
      "Early Stopping Counter = 0\n",
      "Epoch 12/300\n"
     ]
    },
    {
     "name": "stderr",
     "output_type": "stream",
     "text": [
      "100%|██████████| 207/207 [01:03<00:00,  3.24it/s]\n",
      "100%|██████████| 13/13 [00:12<00:00,  1.05it/s]\n",
      "100%|██████████| 33/33 [00:09<00:00,  3.48it/s]\n"
     ]
    },
    {
     "name": "stdout",
     "output_type": "stream",
     "text": [
      "1m 26s\n",
      "Consistency Loss declined to 0.13393486749667388\n",
      "Early Stopping Counter = 0\n",
      "Epoch 13/300\n"
     ]
    },
    {
     "name": "stderr",
     "output_type": "stream",
     "text": [
      "100%|██████████| 207/207 [01:04<00:00,  3.23it/s]\n",
      "100%|██████████| 13/13 [00:12<00:00,  1.06it/s]\n",
      "100%|██████████| 33/33 [00:09<00:00,  3.43it/s]\n"
     ]
    },
    {
     "name": "stdout",
     "output_type": "stream",
     "text": [
      "1m 26s\n",
      "Consistency Loss declined to 0.12915491943175977\n",
      "Early Stopping Counter = 0\n",
      "Epoch 14/300\n"
     ]
    },
    {
     "name": "stderr",
     "output_type": "stream",
     "text": [
      "100%|██████████| 207/207 [01:03<00:00,  3.24it/s]\n",
      "100%|██████████| 13/13 [00:12<00:00,  1.06it/s]\n",
      "100%|██████████| 33/33 [00:09<00:00,  3.49it/s]\n"
     ]
    },
    {
     "name": "stdout",
     "output_type": "stream",
     "text": [
      "1m 26s\n",
      "Early Stopping Counter = 1\n",
      "Epoch 15/300\n"
     ]
    },
    {
     "name": "stderr",
     "output_type": "stream",
     "text": [
      "100%|██████████| 207/207 [01:04<00:00,  3.23it/s]\n",
      "100%|██████████| 13/13 [00:12<00:00,  1.06it/s]\n",
      "100%|██████████| 33/33 [00:09<00:00,  3.36it/s]\n"
     ]
    },
    {
     "name": "stdout",
     "output_type": "stream",
     "text": [
      "1m 26s\n",
      "Consistency Loss declined to 0.122759060217784\n",
      "Early Stopping Counter = 0\n",
      "Epoch 16/300\n"
     ]
    },
    {
     "name": "stderr",
     "output_type": "stream",
     "text": [
      "100%|██████████| 207/207 [01:04<00:00,  3.23it/s]\n",
      "100%|██████████| 13/13 [00:12<00:00,  1.06it/s]\n",
      "100%|██████████| 33/33 [00:09<00:00,  3.35it/s]\n"
     ]
    },
    {
     "name": "stdout",
     "output_type": "stream",
     "text": [
      "1m 26s\n",
      "Early Stopping Counter = 1\n",
      "Epoch 17/300\n"
     ]
    },
    {
     "name": "stderr",
     "output_type": "stream",
     "text": [
      "100%|██████████| 207/207 [01:03<00:00,  3.24it/s]\n",
      "100%|██████████| 13/13 [00:12<00:00,  1.05it/s]\n",
      "100%|██████████| 33/33 [00:09<00:00,  3.46it/s]\n"
     ]
    },
    {
     "name": "stdout",
     "output_type": "stream",
     "text": [
      "1m 26s\n",
      "Early Stopping Counter = 2\n",
      "Epoch 18/300\n"
     ]
    },
    {
     "name": "stderr",
     "output_type": "stream",
     "text": [
      "100%|██████████| 207/207 [01:04<00:00,  3.22it/s]\n",
      "100%|██████████| 13/13 [00:12<00:00,  1.06it/s]\n",
      "100%|██████████| 33/33 [00:09<00:00,  3.39it/s]\n"
     ]
    },
    {
     "name": "stdout",
     "output_type": "stream",
     "text": [
      "1m 26s\n",
      "Consistency Loss declined to 0.12096912815020634\n",
      "Early Stopping Counter = 0\n",
      "Epoch 19/300\n"
     ]
    },
    {
     "name": "stderr",
     "output_type": "stream",
     "text": [
      "100%|██████████| 207/207 [01:04<00:00,  3.23it/s]\n",
      "100%|██████████| 13/13 [00:12<00:00,  1.04it/s]\n",
      "100%|██████████| 33/33 [00:09<00:00,  3.50it/s]\n"
     ]
    },
    {
     "name": "stdout",
     "output_type": "stream",
     "text": [
      "1m 26s\n",
      "Early Stopping Counter = 1\n",
      "Epoch 20/300\n"
     ]
    },
    {
     "name": "stderr",
     "output_type": "stream",
     "text": [
      "100%|██████████| 207/207 [01:04<00:00,  3.23it/s]\n",
      "100%|██████████| 13/13 [00:12<00:00,  1.05it/s]\n",
      "100%|██████████| 33/33 [00:09<00:00,  3.42it/s]\n"
     ]
    },
    {
     "name": "stdout",
     "output_type": "stream",
     "text": [
      "1m 26s\n",
      "Consistency Loss declined to 0.11365993091693291\n",
      "Early Stopping Counter = 0\n",
      "Epoch 21/300\n"
     ]
    },
    {
     "name": "stderr",
     "output_type": "stream",
     "text": [
      "100%|██████████| 207/207 [01:04<00:00,  3.22it/s]\n",
      "100%|██████████| 13/13 [00:12<00:00,  1.04it/s]\n",
      "100%|██████████| 33/33 [00:09<00:00,  3.45it/s]\n"
     ]
    },
    {
     "name": "stdout",
     "output_type": "stream",
     "text": [
      "1m 26s\n",
      "Consistency Loss declined to 0.11336204638847938\n",
      "Early Stopping Counter = 0\n",
      "Epoch 22/300\n"
     ]
    },
    {
     "name": "stderr",
     "output_type": "stream",
     "text": [
      "100%|██████████| 207/207 [01:03<00:00,  3.24it/s]\n",
      "100%|██████████| 13/13 [00:12<00:00,  1.04it/s]\n",
      "100%|██████████| 33/33 [00:09<00:00,  3.42it/s]\n"
     ]
    },
    {
     "name": "stdout",
     "output_type": "stream",
     "text": [
      "1m 26s\n",
      "Consistency Loss declined to 0.11009313338077985\n",
      "Early Stopping Counter = 0\n",
      "Epoch 23/300\n"
     ]
    },
    {
     "name": "stderr",
     "output_type": "stream",
     "text": [
      "100%|██████████| 207/207 [01:04<00:00,  3.23it/s]\n",
      "100%|██████████| 13/13 [00:12<00:00,  1.05it/s]\n",
      "100%|██████████| 33/33 [00:09<00:00,  3.43it/s]\n"
     ]
    },
    {
     "name": "stdout",
     "output_type": "stream",
     "text": [
      "1m 26s\n",
      "Early Stopping Counter = 1\n",
      "Epoch 24/300\n"
     ]
    },
    {
     "name": "stderr",
     "output_type": "stream",
     "text": [
      "100%|██████████| 207/207 [01:04<00:00,  3.23it/s]\n",
      "100%|██████████| 13/13 [00:12<00:00,  1.06it/s]\n",
      "100%|██████████| 33/33 [00:09<00:00,  3.39it/s]\n"
     ]
    },
    {
     "name": "stdout",
     "output_type": "stream",
     "text": [
      "1m 26s\n",
      "Early Stopping Counter = 2\n",
      "Epoch 25/300\n"
     ]
    },
    {
     "name": "stderr",
     "output_type": "stream",
     "text": [
      "100%|██████████| 207/207 [01:04<00:00,  3.23it/s]\n",
      "100%|██████████| 13/13 [00:12<00:00,  1.06it/s]\n",
      "100%|██████████| 33/33 [00:09<00:00,  3.35it/s]\n"
     ]
    },
    {
     "name": "stdout",
     "output_type": "stream",
     "text": [
      "1m 26s\n",
      "Consistency Loss declined to 0.1091868865948457\n",
      "Early Stopping Counter = 0\n",
      "Epoch 26/300\n"
     ]
    },
    {
     "name": "stderr",
     "output_type": "stream",
     "text": [
      "100%|██████████| 207/207 [01:03<00:00,  3.25it/s]\n",
      "100%|██████████| 13/13 [00:12<00:00,  1.05it/s]\n",
      "100%|██████████| 33/33 [00:09<00:00,  3.42it/s]\n"
     ]
    },
    {
     "name": "stdout",
     "output_type": "stream",
     "text": [
      "1m 26s\n",
      "Early Stopping Counter = 1\n",
      "Epoch 27/300\n"
     ]
    },
    {
     "name": "stderr",
     "output_type": "stream",
     "text": [
      "100%|██████████| 207/207 [01:04<00:00,  3.23it/s]\n",
      "100%|██████████| 13/13 [00:12<00:00,  1.06it/s]\n",
      "100%|██████████| 33/33 [00:09<00:00,  3.38it/s]\n"
     ]
    },
    {
     "name": "stdout",
     "output_type": "stream",
     "text": [
      "1m 26s\n",
      "Consistency Loss declined to 0.10778073450693718\n",
      "Early Stopping Counter = 0\n",
      "Epoch 28/300\n"
     ]
    },
    {
     "name": "stderr",
     "output_type": "stream",
     "text": [
      "100%|██████████| 207/207 [01:04<00:00,  3.23it/s]\n",
      "100%|██████████| 13/13 [00:12<00:00,  1.06it/s]\n",
      "100%|██████████| 33/33 [00:09<00:00,  3.40it/s]\n"
     ]
    },
    {
     "name": "stdout",
     "output_type": "stream",
     "text": [
      "1m 26s\n",
      "Early Stopping Counter = 1\n",
      "Epoch 29/300\n"
     ]
    },
    {
     "name": "stderr",
     "output_type": "stream",
     "text": [
      "100%|██████████| 207/207 [01:03<00:00,  3.24it/s]\n",
      "100%|██████████| 13/13 [00:12<00:00,  1.06it/s]\n",
      "100%|██████████| 33/33 [00:09<00:00,  3.38it/s]\n"
     ]
    },
    {
     "name": "stdout",
     "output_type": "stream",
     "text": [
      "1m 26s\n",
      "Consistency Loss declined to 0.10488183509845\n",
      "Early Stopping Counter = 0\n",
      "Epoch 30/300\n"
     ]
    },
    {
     "name": "stderr",
     "output_type": "stream",
     "text": [
      "100%|██████████| 207/207 [01:03<00:00,  3.24it/s]\n",
      "100%|██████████| 13/13 [00:12<00:00,  1.05it/s]\n",
      "100%|██████████| 33/33 [00:09<00:00,  3.44it/s]\n"
     ]
    },
    {
     "name": "stdout",
     "output_type": "stream",
     "text": [
      "1m 26s\n",
      "Early Stopping Counter = 1\n",
      "Epoch 31/300\n"
     ]
    },
    {
     "name": "stderr",
     "output_type": "stream",
     "text": [
      "100%|██████████| 207/207 [01:04<00:00,  3.23it/s]\n",
      "100%|██████████| 13/13 [00:12<00:00,  1.06it/s]\n",
      "100%|██████████| 33/33 [00:09<00:00,  3.46it/s]\n"
     ]
    },
    {
     "name": "stdout",
     "output_type": "stream",
     "text": [
      "1m 26s\n",
      "Early Stopping Counter = 2\n",
      "Epoch 32/300\n"
     ]
    },
    {
     "name": "stderr",
     "output_type": "stream",
     "text": [
      "100%|██████████| 207/207 [01:03<00:00,  3.24it/s]\n",
      "100%|██████████| 13/13 [00:12<00:00,  1.06it/s]\n",
      "100%|██████████| 33/33 [00:09<00:00,  3.40it/s]\n"
     ]
    },
    {
     "name": "stdout",
     "output_type": "stream",
     "text": [
      "1m 26s\n",
      "Early Stopping Counter = 3\n",
      "Epoch 33/300\n"
     ]
    },
    {
     "name": "stderr",
     "output_type": "stream",
     "text": [
      "100%|██████████| 207/207 [01:04<00:00,  3.23it/s]\n",
      "100%|██████████| 13/13 [00:12<00:00,  1.06it/s]\n",
      "100%|██████████| 33/33 [00:09<00:00,  3.42it/s]\n"
     ]
    },
    {
     "name": "stdout",
     "output_type": "stream",
     "text": [
      "1m 26s\n",
      "Consistency Loss declined to 0.10460458581264202\n",
      "Early Stopping Counter = 0\n",
      "Epoch 34/300\n"
     ]
    },
    {
     "name": "stderr",
     "output_type": "stream",
     "text": [
      "100%|██████████| 207/207 [01:04<00:00,  3.23it/s]\n",
      "100%|██████████| 13/13 [00:12<00:00,  1.05it/s]\n",
      "100%|██████████| 33/33 [00:09<00:00,  3.40it/s]\n"
     ]
    },
    {
     "name": "stdout",
     "output_type": "stream",
     "text": [
      "1m 26s\n",
      "Consistency Loss declined to 0.10397118100753197\n",
      "Early Stopping Counter = 0\n",
      "Epoch 35/300\n"
     ]
    },
    {
     "name": "stderr",
     "output_type": "stream",
     "text": [
      "100%|██████████| 207/207 [01:04<00:00,  3.23it/s]\n",
      "100%|██████████| 13/13 [00:12<00:00,  1.06it/s]\n",
      "100%|██████████| 33/33 [00:09<00:00,  3.42it/s]\n"
     ]
    },
    {
     "name": "stdout",
     "output_type": "stream",
     "text": [
      "1m 26s\n",
      "Consistency Loss declined to 0.09935394101417981\n",
      "Early Stopping Counter = 0\n",
      "Epoch 36/300\n"
     ]
    },
    {
     "name": "stderr",
     "output_type": "stream",
     "text": [
      "100%|██████████| 207/207 [01:03<00:00,  3.25it/s]\n",
      "100%|██████████| 13/13 [00:12<00:00,  1.05it/s]\n",
      "100%|██████████| 33/33 [00:09<00:00,  3.31it/s]\n"
     ]
    },
    {
     "name": "stdout",
     "output_type": "stream",
     "text": [
      "1m 26s\n",
      "Early Stopping Counter = 1\n",
      "Epoch 37/300\n"
     ]
    },
    {
     "name": "stderr",
     "output_type": "stream",
     "text": [
      "100%|██████████| 207/207 [01:04<00:00,  3.23it/s]\n",
      "100%|██████████| 13/13 [00:12<00:00,  1.06it/s]\n",
      "100%|██████████| 33/33 [00:09<00:00,  3.47it/s]\n"
     ]
    },
    {
     "name": "stdout",
     "output_type": "stream",
     "text": [
      "1m 26s\n",
      "Early Stopping Counter = 2\n",
      "Epoch 38/300\n"
     ]
    },
    {
     "name": "stderr",
     "output_type": "stream",
     "text": [
      "100%|██████████| 207/207 [01:04<00:00,  3.22it/s]\n",
      "100%|██████████| 13/13 [00:12<00:00,  1.06it/s]\n",
      "100%|██████████| 33/33 [00:09<00:00,  3.38it/s]\n"
     ]
    },
    {
     "name": "stdout",
     "output_type": "stream",
     "text": [
      "1m 26s\n",
      "Early Stopping Counter = 3\n",
      "Epoch 39/300\n"
     ]
    },
    {
     "name": "stderr",
     "output_type": "stream",
     "text": [
      "100%|██████████| 207/207 [01:04<00:00,  3.22it/s]\n",
      "100%|██████████| 13/13 [00:12<00:00,  1.05it/s]\n",
      "100%|██████████| 33/33 [00:09<00:00,  3.39it/s]\n"
     ]
    },
    {
     "name": "stdout",
     "output_type": "stream",
     "text": [
      "1m 26s\n",
      "Early Stopping Counter = 4\n",
      "Epoch 40/300\n"
     ]
    },
    {
     "name": "stderr",
     "output_type": "stream",
     "text": [
      "100%|██████████| 207/207 [01:04<00:00,  3.21it/s]\n",
      "100%|██████████| 13/13 [00:12<00:00,  1.06it/s]\n",
      "100%|██████████| 33/33 [00:09<00:00,  3.39it/s]\n"
     ]
    },
    {
     "name": "stdout",
     "output_type": "stream",
     "text": [
      "1m 26s\n",
      "Consistency Loss declined to 0.09683925543840115\n",
      "Early Stopping Counter = 0\n",
      "Epoch 41/300\n"
     ]
    },
    {
     "name": "stderr",
     "output_type": "stream",
     "text": [
      "100%|██████████| 207/207 [01:04<00:00,  3.23it/s]\n",
      "100%|██████████| 13/13 [00:12<00:00,  1.06it/s]\n",
      "100%|██████████| 33/33 [00:09<00:00,  3.39it/s]\n"
     ]
    },
    {
     "name": "stdout",
     "output_type": "stream",
     "text": [
      "1m 26s\n",
      "Consistency Loss declined to 0.09531730814621998\n",
      "Early Stopping Counter = 0\n",
      "Epoch 42/300\n"
     ]
    },
    {
     "name": "stderr",
     "output_type": "stream",
     "text": [
      "100%|██████████| 207/207 [01:04<00:00,  3.23it/s]\n",
      "100%|██████████| 13/13 [00:12<00:00,  1.05it/s]\n",
      "100%|██████████| 33/33 [00:09<00:00,  3.37it/s]\n"
     ]
    },
    {
     "name": "stdout",
     "output_type": "stream",
     "text": [
      "1m 26s\n",
      "Early Stopping Counter = 1\n",
      "Epoch 43/300\n"
     ]
    },
    {
     "name": "stderr",
     "output_type": "stream",
     "text": [
      "100%|██████████| 207/207 [01:04<00:00,  3.22it/s]\n",
      "100%|██████████| 13/13 [00:12<00:00,  1.06it/s]\n",
      "100%|██████████| 33/33 [00:09<00:00,  3.41it/s]\n"
     ]
    },
    {
     "name": "stdout",
     "output_type": "stream",
     "text": [
      "1m 26s\n",
      "Early Stopping Counter = 2\n",
      "Epoch 44/300\n"
     ]
    },
    {
     "name": "stderr",
     "output_type": "stream",
     "text": [
      "100%|██████████| 207/207 [01:04<00:00,  3.22it/s]\n",
      "100%|██████████| 13/13 [00:12<00:00,  1.06it/s]\n",
      "100%|██████████| 33/33 [00:09<00:00,  3.34it/s]\n"
     ]
    },
    {
     "name": "stdout",
     "output_type": "stream",
     "text": [
      "1m 26s\n",
      "Consistency Loss declined to 0.09488564901627027\n",
      "Early Stopping Counter = 0\n",
      "Epoch 45/300\n"
     ]
    },
    {
     "name": "stderr",
     "output_type": "stream",
     "text": [
      "100%|██████████| 207/207 [01:04<00:00,  3.23it/s]\n",
      "100%|██████████| 13/13 [00:12<00:00,  1.06it/s]\n",
      "100%|██████████| 33/33 [00:09<00:00,  3.39it/s]\n"
     ]
    },
    {
     "name": "stdout",
     "output_type": "stream",
     "text": [
      "1m 26s\n",
      "Early Stopping Counter = 1\n",
      "Epoch 46/300\n"
     ]
    },
    {
     "name": "stderr",
     "output_type": "stream",
     "text": [
      "100%|██████████| 207/207 [01:04<00:00,  3.23it/s]\n",
      "100%|██████████| 13/13 [00:12<00:00,  1.06it/s]\n",
      "100%|██████████| 33/33 [00:09<00:00,  3.35it/s]\n"
     ]
    },
    {
     "name": "stdout",
     "output_type": "stream",
     "text": [
      "1m 26s\n",
      "Consistency Loss declined to 0.09447324333282617\n",
      "Early Stopping Counter = 0\n",
      "Epoch 47/300\n"
     ]
    },
    {
     "name": "stderr",
     "output_type": "stream",
     "text": [
      "100%|██████████| 207/207 [01:03<00:00,  3.24it/s]\n",
      "100%|██████████| 13/13 [00:12<00:00,  1.06it/s]\n",
      "100%|██████████| 33/33 [00:09<00:00,  3.39it/s]\n"
     ]
    },
    {
     "name": "stdout",
     "output_type": "stream",
     "text": [
      "1m 26s\n",
      "Early Stopping Counter = 1\n",
      "Epoch 48/300\n"
     ]
    },
    {
     "name": "stderr",
     "output_type": "stream",
     "text": [
      "100%|██████████| 207/207 [01:04<00:00,  3.22it/s]\n",
      "100%|██████████| 13/13 [00:12<00:00,  1.06it/s]\n",
      "100%|██████████| 33/33 [00:09<00:00,  3.33it/s]\n"
     ]
    },
    {
     "name": "stdout",
     "output_type": "stream",
     "text": [
      "1m 26s\n",
      "Consistency Loss declined to 0.09277538668650848\n",
      "Early Stopping Counter = 0\n",
      "Epoch 49/300\n"
     ]
    },
    {
     "name": "stderr",
     "output_type": "stream",
     "text": [
      "100%|██████████| 207/207 [01:03<00:00,  3.25it/s]\n",
      "100%|██████████| 13/13 [00:12<00:00,  1.05it/s]\n",
      "100%|██████████| 33/33 [00:09<00:00,  3.38it/s]\n"
     ]
    },
    {
     "name": "stdout",
     "output_type": "stream",
     "text": [
      "1m 26s\n",
      "Early Stopping Counter = 1\n",
      "Epoch 50/300\n"
     ]
    },
    {
     "name": "stderr",
     "output_type": "stream",
     "text": [
      "100%|██████████| 207/207 [01:04<00:00,  3.23it/s]\n",
      "100%|██████████| 13/13 [00:12<00:00,  1.07it/s]\n",
      "100%|██████████| 33/33 [00:09<00:00,  3.42it/s]\n"
     ]
    },
    {
     "name": "stdout",
     "output_type": "stream",
     "text": [
      "1m 26s\n",
      "Consistency Loss declined to 0.08905564305874017\n",
      "Early Stopping Counter = 0\n",
      "Epoch 51/300\n"
     ]
    },
    {
     "name": "stderr",
     "output_type": "stream",
     "text": [
      "100%|██████████| 207/207 [01:04<00:00,  3.23it/s]\n",
      "100%|██████████| 13/13 [00:12<00:00,  1.06it/s]\n",
      "100%|██████████| 33/33 [00:09<00:00,  3.42it/s]\n"
     ]
    },
    {
     "name": "stdout",
     "output_type": "stream",
     "text": [
      "1m 26s\n",
      "Consistency Loss declined to 0.08684355192459546\n",
      "Early Stopping Counter = 0\n",
      "Epoch 52/300\n"
     ]
    },
    {
     "name": "stderr",
     "output_type": "stream",
     "text": [
      "100%|██████████| 207/207 [01:04<00:00,  3.23it/s]\n",
      "100%|██████████| 13/13 [00:12<00:00,  1.06it/s]\n",
      "100%|██████████| 33/33 [00:09<00:00,  3.41it/s]\n"
     ]
    },
    {
     "name": "stdout",
     "output_type": "stream",
     "text": [
      "1m 26s\n",
      "Early Stopping Counter = 1\n",
      "Epoch 53/300\n"
     ]
    },
    {
     "name": "stderr",
     "output_type": "stream",
     "text": [
      "100%|██████████| 207/207 [01:04<00:00,  3.22it/s]\n",
      "100%|██████████| 13/13 [00:12<00:00,  1.07it/s]\n",
      "100%|██████████| 33/33 [00:09<00:00,  3.41it/s]\n"
     ]
    },
    {
     "name": "stdout",
     "output_type": "stream",
     "text": [
      "1m 26s\n",
      "Early Stopping Counter = 2\n",
      "Epoch 54/300\n"
     ]
    },
    {
     "name": "stderr",
     "output_type": "stream",
     "text": [
      "100%|██████████| 207/207 [01:04<00:00,  3.22it/s]\n",
      "100%|██████████| 13/13 [00:12<00:00,  1.06it/s]\n",
      "100%|██████████| 33/33 [00:09<00:00,  3.35it/s]\n"
     ]
    },
    {
     "name": "stdout",
     "output_type": "stream",
     "text": [
      "1m 26s\n",
      "Consistency Loss declined to 0.08336899888056976\n",
      "Early Stopping Counter = 0\n",
      "Epoch 55/300\n"
     ]
    },
    {
     "name": "stderr",
     "output_type": "stream",
     "text": [
      "100%|██████████| 207/207 [01:04<00:00,  3.23it/s]\n",
      "100%|██████████| 13/13 [00:12<00:00,  1.06it/s]\n",
      "100%|██████████| 33/33 [00:09<00:00,  3.44it/s]\n"
     ]
    },
    {
     "name": "stdout",
     "output_type": "stream",
     "text": [
      "1m 26s\n",
      "Early Stopping Counter = 1\n",
      "Epoch 56/300\n"
     ]
    },
    {
     "name": "stderr",
     "output_type": "stream",
     "text": [
      "100%|██████████| 207/207 [01:03<00:00,  3.24it/s]\n",
      "100%|██████████| 13/13 [00:12<00:00,  1.06it/s]\n",
      "100%|██████████| 33/33 [00:09<00:00,  3.41it/s]\n"
     ]
    },
    {
     "name": "stdout",
     "output_type": "stream",
     "text": [
      "1m 26s\n",
      "Consistency Loss declined to 0.08331776983462848\n",
      "Early Stopping Counter = 0\n",
      "Epoch 57/300\n"
     ]
    },
    {
     "name": "stderr",
     "output_type": "stream",
     "text": [
      "100%|██████████| 207/207 [01:03<00:00,  3.24it/s]\n",
      "100%|██████████| 13/13 [00:12<00:00,  1.06it/s]\n",
      "100%|██████████| 33/33 [00:09<00:00,  3.42it/s]\n"
     ]
    },
    {
     "name": "stdout",
     "output_type": "stream",
     "text": [
      "1m 26s\n",
      "Consistency Loss declined to 0.08148978306696965\n",
      "Early Stopping Counter = 0\n",
      "Epoch 58/300\n"
     ]
    },
    {
     "name": "stderr",
     "output_type": "stream",
     "text": [
      "100%|██████████| 207/207 [01:04<00:00,  3.23it/s]\n",
      "100%|██████████| 13/13 [00:12<00:00,  1.05it/s]\n",
      "100%|██████████| 33/33 [00:09<00:00,  3.42it/s]\n"
     ]
    },
    {
     "name": "stdout",
     "output_type": "stream",
     "text": [
      "1m 26s\n",
      "Early Stopping Counter = 1\n",
      "Epoch 59/300\n"
     ]
    },
    {
     "name": "stderr",
     "output_type": "stream",
     "text": [
      "100%|██████████| 207/207 [01:03<00:00,  3.24it/s]\n",
      "100%|██████████| 13/13 [00:12<00:00,  1.05it/s]\n",
      "100%|██████████| 33/33 [00:10<00:00,  3.28it/s]\n"
     ]
    },
    {
     "name": "stdout",
     "output_type": "stream",
     "text": [
      "1m 26s\n",
      "Consistency Loss declined to 0.07823755592107773\n",
      "Early Stopping Counter = 0\n",
      "Epoch 60/300\n"
     ]
    },
    {
     "name": "stderr",
     "output_type": "stream",
     "text": [
      "100%|██████████| 207/207 [01:03<00:00,  3.24it/s]\n",
      "100%|██████████| 13/13 [00:12<00:00,  1.06it/s]\n",
      "100%|██████████| 33/33 [00:09<00:00,  3.39it/s]\n"
     ]
    },
    {
     "name": "stdout",
     "output_type": "stream",
     "text": [
      "1m 26s\n",
      "Early Stopping Counter = 1\n",
      "Epoch 61/300\n"
     ]
    },
    {
     "name": "stderr",
     "output_type": "stream",
     "text": [
      "100%|██████████| 207/207 [01:04<00:00,  3.22it/s]\n",
      "100%|██████████| 13/13 [00:12<00:00,  1.05it/s]\n",
      "100%|██████████| 33/33 [00:09<00:00,  3.42it/s]\n"
     ]
    },
    {
     "name": "stdout",
     "output_type": "stream",
     "text": [
      "1m 26s\n",
      "Early Stopping Counter = 2\n",
      "Epoch 62/300\n"
     ]
    },
    {
     "name": "stderr",
     "output_type": "stream",
     "text": [
      "100%|██████████| 207/207 [01:04<00:00,  3.23it/s]\n",
      "100%|██████████| 13/13 [00:12<00:00,  1.06it/s]\n",
      "100%|██████████| 33/33 [00:09<00:00,  3.42it/s]\n"
     ]
    },
    {
     "name": "stdout",
     "output_type": "stream",
     "text": [
      "1m 26s\n",
      "Consistency Loss declined to 0.07726761641410682\n",
      "Early Stopping Counter = 0\n",
      "Epoch 63/300\n"
     ]
    },
    {
     "name": "stderr",
     "output_type": "stream",
     "text": [
      "100%|██████████| 207/207 [01:03<00:00,  3.24it/s]\n",
      "100%|██████████| 13/13 [00:12<00:00,  1.06it/s]\n",
      "100%|██████████| 33/33 [00:09<00:00,  3.30it/s]\n"
     ]
    },
    {
     "name": "stdout",
     "output_type": "stream",
     "text": [
      "1m 26s\n",
      "Consistency Loss declined to 0.07606027160699551\n",
      "Early Stopping Counter = 0\n",
      "Epoch 64/300\n"
     ]
    },
    {
     "name": "stderr",
     "output_type": "stream",
     "text": [
      "100%|██████████| 207/207 [01:04<00:00,  3.23it/s]\n",
      "100%|██████████| 13/13 [00:12<00:00,  1.07it/s]\n",
      "100%|██████████| 33/33 [00:09<00:00,  3.39it/s]\n"
     ]
    },
    {
     "name": "stdout",
     "output_type": "stream",
     "text": [
      "1m 26s\n",
      "Early Stopping Counter = 1\n",
      "Epoch 65/300\n"
     ]
    },
    {
     "name": "stderr",
     "output_type": "stream",
     "text": [
      "100%|██████████| 207/207 [01:04<00:00,  3.23it/s]\n",
      "100%|██████████| 13/13 [00:12<00:00,  1.06it/s]\n",
      "100%|██████████| 33/33 [00:09<00:00,  3.41it/s]\n"
     ]
    },
    {
     "name": "stdout",
     "output_type": "stream",
     "text": [
      "1m 26s\n",
      "Consistency Loss declined to 0.07423000725416037\n",
      "Early Stopping Counter = 0\n",
      "Epoch 66/300\n"
     ]
    },
    {
     "name": "stderr",
     "output_type": "stream",
     "text": [
      "100%|██████████| 207/207 [01:04<00:00,  3.23it/s]\n",
      "100%|██████████| 13/13 [00:12<00:00,  1.06it/s]\n",
      "100%|██████████| 33/33 [00:09<00:00,  3.40it/s]\n"
     ]
    },
    {
     "name": "stdout",
     "output_type": "stream",
     "text": [
      "1m 26s\n",
      "Early Stopping Counter = 1\n",
      "Epoch 67/300\n"
     ]
    },
    {
     "name": "stderr",
     "output_type": "stream",
     "text": [
      "100%|██████████| 207/207 [01:03<00:00,  3.24it/s]\n",
      "100%|██████████| 13/13 [00:12<00:00,  1.06it/s]\n",
      "100%|██████████| 33/33 [00:09<00:00,  3.38it/s]\n"
     ]
    },
    {
     "name": "stdout",
     "output_type": "stream",
     "text": [
      "1m 26s\n",
      "Early Stopping Counter = 2\n",
      "Epoch 68/300\n"
     ]
    },
    {
     "name": "stderr",
     "output_type": "stream",
     "text": [
      "100%|██████████| 207/207 [01:04<00:00,  3.23it/s]\n",
      "100%|██████████| 13/13 [00:12<00:00,  1.05it/s]\n",
      "100%|██████████| 33/33 [00:09<00:00,  3.40it/s]\n"
     ]
    },
    {
     "name": "stdout",
     "output_type": "stream",
     "text": [
      "1m 26s\n",
      "Consistency Loss declined to 0.0726379517179269\n",
      "Early Stopping Counter = 0\n",
      "Epoch 69/300\n"
     ]
    },
    {
     "name": "stderr",
     "output_type": "stream",
     "text": [
      "100%|██████████| 207/207 [01:03<00:00,  3.25it/s]\n",
      "100%|██████████| 13/13 [00:12<00:00,  1.05it/s]\n",
      "100%|██████████| 33/33 [00:09<00:00,  3.40it/s]\n"
     ]
    },
    {
     "name": "stdout",
     "output_type": "stream",
     "text": [
      "1m 26s\n",
      "Early Stopping Counter = 1\n",
      "Epoch 70/300\n"
     ]
    },
    {
     "name": "stderr",
     "output_type": "stream",
     "text": [
      "100%|██████████| 207/207 [01:03<00:00,  3.24it/s]\n",
      "100%|██████████| 13/13 [00:12<00:00,  1.06it/s]\n",
      "100%|██████████| 33/33 [00:09<00:00,  3.40it/s]\n"
     ]
    },
    {
     "name": "stdout",
     "output_type": "stream",
     "text": [
      "1m 26s\n",
      "Early Stopping Counter = 2\n",
      "Epoch 71/300\n"
     ]
    },
    {
     "name": "stderr",
     "output_type": "stream",
     "text": [
      "100%|██████████| 207/207 [01:04<00:00,  3.23it/s]\n",
      "100%|██████████| 13/13 [00:12<00:00,  1.05it/s]\n",
      "100%|██████████| 33/33 [00:09<00:00,  3.45it/s]\n"
     ]
    },
    {
     "name": "stdout",
     "output_type": "stream",
     "text": [
      "1m 26s\n",
      "Consistency Loss declined to 0.07081410689995839\n",
      "Early Stopping Counter = 0\n",
      "Epoch 72/300\n"
     ]
    },
    {
     "name": "stderr",
     "output_type": "stream",
     "text": [
      "100%|██████████| 207/207 [01:03<00:00,  3.24it/s]\n",
      "100%|██████████| 13/13 [00:12<00:00,  1.05it/s]\n",
      "100%|██████████| 33/33 [00:09<00:00,  3.34it/s]\n"
     ]
    },
    {
     "name": "stdout",
     "output_type": "stream",
     "text": [
      "1m 26s\n",
      "Early Stopping Counter = 1\n",
      "Epoch 73/300\n"
     ]
    },
    {
     "name": "stderr",
     "output_type": "stream",
     "text": [
      "100%|██████████| 207/207 [01:03<00:00,  3.24it/s]\n",
      "100%|██████████| 13/13 [00:12<00:00,  1.07it/s]\n",
      "100%|██████████| 33/33 [00:09<00:00,  3.42it/s]\n"
     ]
    },
    {
     "name": "stdout",
     "output_type": "stream",
     "text": [
      "1m 26s\n",
      "Early Stopping Counter = 2\n",
      "Epoch 74/300\n"
     ]
    },
    {
     "name": "stderr",
     "output_type": "stream",
     "text": [
      "100%|██████████| 207/207 [01:04<00:00,  3.23it/s]\n",
      "100%|██████████| 13/13 [00:12<00:00,  1.05it/s]\n",
      "100%|██████████| 33/33 [00:09<00:00,  3.35it/s]\n"
     ]
    },
    {
     "name": "stdout",
     "output_type": "stream",
     "text": [
      "1m 26s\n",
      "Early Stopping Counter = 3\n",
      "Epoch 75/300\n"
     ]
    },
    {
     "name": "stderr",
     "output_type": "stream",
     "text": [
      "100%|██████████| 207/207 [01:04<00:00,  3.22it/s]\n",
      "100%|██████████| 13/13 [00:12<00:00,  1.06it/s]\n",
      "100%|██████████| 33/33 [00:09<00:00,  3.39it/s]\n"
     ]
    },
    {
     "name": "stdout",
     "output_type": "stream",
     "text": [
      "1m 26s\n",
      "Early Stopping Counter = 4\n",
      "Epoch 76/300\n"
     ]
    },
    {
     "name": "stderr",
     "output_type": "stream",
     "text": [
      "100%|██████████| 207/207 [01:04<00:00,  3.21it/s]\n",
      "100%|██████████| 13/13 [00:12<00:00,  1.06it/s]\n",
      "100%|██████████| 33/33 [00:09<00:00,  3.44it/s]\n"
     ]
    },
    {
     "name": "stdout",
     "output_type": "stream",
     "text": [
      "1m 26s\n",
      "Consistency Loss declined to 0.06875723141890305\n",
      "Early Stopping Counter = 0\n",
      "Epoch 77/300\n"
     ]
    },
    {
     "name": "stderr",
     "output_type": "stream",
     "text": [
      "100%|██████████| 207/207 [01:04<00:00,  3.23it/s]\n",
      "100%|██████████| 13/13 [00:12<00:00,  1.06it/s]\n",
      "100%|██████████| 33/33 [00:09<00:00,  3.49it/s]\n"
     ]
    },
    {
     "name": "stdout",
     "output_type": "stream",
     "text": [
      "1m 26s\n",
      "Consistency Loss declined to 0.06547178499973737\n",
      "Early Stopping Counter = 0\n",
      "Epoch 78/300\n"
     ]
    },
    {
     "name": "stderr",
     "output_type": "stream",
     "text": [
      "100%|██████████| 207/207 [01:04<00:00,  3.21it/s]\n",
      "100%|██████████| 13/13 [00:12<00:00,  1.05it/s]\n",
      "100%|██████████| 33/33 [00:09<00:00,  3.47it/s]\n"
     ]
    },
    {
     "name": "stdout",
     "output_type": "stream",
     "text": [
      "1m 26s\n",
      "Early Stopping Counter = 1\n",
      "Epoch 79/300\n"
     ]
    },
    {
     "name": "stderr",
     "output_type": "stream",
     "text": [
      "100%|██████████| 207/207 [01:04<00:00,  3.21it/s]\n",
      "100%|██████████| 13/13 [00:12<00:00,  1.06it/s]\n",
      "100%|██████████| 33/33 [00:09<00:00,  3.41it/s]\n"
     ]
    },
    {
     "name": "stdout",
     "output_type": "stream",
     "text": [
      "1m 27s\n",
      "Early Stopping Counter = 2\n",
      "Epoch 80/300\n"
     ]
    },
    {
     "name": "stderr",
     "output_type": "stream",
     "text": [
      "100%|██████████| 207/207 [01:04<00:00,  3.20it/s]\n",
      "100%|██████████| 13/13 [00:12<00:00,  1.06it/s]\n",
      "100%|██████████| 33/33 [00:09<00:00,  3.42it/s]\n"
     ]
    },
    {
     "name": "stdout",
     "output_type": "stream",
     "text": [
      "1m 27s\n",
      "Early Stopping Counter = 3\n",
      "Epoch 81/300\n"
     ]
    },
    {
     "name": "stderr",
     "output_type": "stream",
     "text": [
      "100%|██████████| 207/207 [01:04<00:00,  3.21it/s]\n",
      "100%|██████████| 13/13 [00:12<00:00,  1.06it/s]\n",
      "100%|██████████| 33/33 [00:09<00:00,  3.43it/s]\n"
     ]
    },
    {
     "name": "stdout",
     "output_type": "stream",
     "text": [
      "1m 26s\n",
      "Consistency Loss declined to 0.06468329578638077\n",
      "Early Stopping Counter = 0\n",
      "Epoch 82/300\n"
     ]
    },
    {
     "name": "stderr",
     "output_type": "stream",
     "text": [
      "100%|██████████| 207/207 [01:04<00:00,  3.23it/s]\n",
      "100%|██████████| 13/13 [00:12<00:00,  1.06it/s]\n",
      "100%|██████████| 33/33 [00:09<00:00,  3.42it/s]\n"
     ]
    },
    {
     "name": "stdout",
     "output_type": "stream",
     "text": [
      "1m 26s\n",
      "Consistency Loss declined to 0.06399795097800401\n",
      "Early Stopping Counter = 0\n",
      "Epoch 83/300\n"
     ]
    },
    {
     "name": "stderr",
     "output_type": "stream",
     "text": [
      "100%|██████████| 207/207 [01:04<00:00,  3.22it/s]\n",
      "100%|██████████| 13/13 [00:12<00:00,  1.05it/s]\n",
      "100%|██████████| 33/33 [00:09<00:00,  3.40it/s]\n"
     ]
    },
    {
     "name": "stdout",
     "output_type": "stream",
     "text": [
      "1m 26s\n",
      "Early Stopping Counter = 1\n",
      "Epoch 84/300\n"
     ]
    },
    {
     "name": "stderr",
     "output_type": "stream",
     "text": [
      "100%|██████████| 207/207 [01:04<00:00,  3.21it/s]\n",
      "100%|██████████| 13/13 [00:12<00:00,  1.06it/s]\n",
      "100%|██████████| 33/33 [00:09<00:00,  3.38it/s]\n"
     ]
    },
    {
     "name": "stdout",
     "output_type": "stream",
     "text": [
      "1m 26s\n",
      "Early Stopping Counter = 2\n",
      "Epoch 85/300\n"
     ]
    },
    {
     "name": "stderr",
     "output_type": "stream",
     "text": [
      "100%|██████████| 207/207 [01:04<00:00,  3.20it/s]\n",
      "100%|██████████| 13/13 [00:12<00:00,  1.06it/s]\n",
      "100%|██████████| 33/33 [00:09<00:00,  3.42it/s]\n"
     ]
    },
    {
     "name": "stdout",
     "output_type": "stream",
     "text": [
      "1m 27s\n",
      "Consistency Loss declined to 0.0632522851228714\n",
      "Early Stopping Counter = 0\n",
      "Epoch 86/300\n"
     ]
    },
    {
     "name": "stderr",
     "output_type": "stream",
     "text": [
      "100%|██████████| 207/207 [01:04<00:00,  3.21it/s]\n",
      "100%|██████████| 13/13 [00:12<00:00,  1.06it/s]\n",
      "100%|██████████| 33/33 [00:09<00:00,  3.48it/s]\n"
     ]
    },
    {
     "name": "stdout",
     "output_type": "stream",
     "text": [
      "1m 26s\n",
      "Consistency Loss declined to 0.0624840806883115\n",
      "Early Stopping Counter = 0\n",
      "Epoch 87/300\n"
     ]
    },
    {
     "name": "stderr",
     "output_type": "stream",
     "text": [
      "100%|██████████| 207/207 [01:04<00:00,  3.21it/s]\n",
      "100%|██████████| 13/13 [00:12<00:00,  1.04it/s]\n",
      "100%|██████████| 33/33 [00:09<00:00,  3.40it/s]\n"
     ]
    },
    {
     "name": "stdout",
     "output_type": "stream",
     "text": [
      "1m 27s\n",
      "Consistency Loss declined to 0.06135596392246393\n",
      "Early Stopping Counter = 0\n",
      "Epoch 88/300\n"
     ]
    },
    {
     "name": "stderr",
     "output_type": "stream",
     "text": [
      "100%|██████████| 207/207 [01:04<00:00,  3.23it/s]\n",
      "100%|██████████| 13/13 [00:12<00:00,  1.04it/s]\n",
      "100%|██████████| 33/33 [00:09<00:00,  3.40it/s]\n"
     ]
    },
    {
     "name": "stdout",
     "output_type": "stream",
     "text": [
      "1m 26s\n",
      "Early Stopping Counter = 1\n",
      "Epoch 89/300\n"
     ]
    },
    {
     "name": "stderr",
     "output_type": "stream",
     "text": [
      "100%|██████████| 207/207 [01:04<00:00,  3.23it/s]\n",
      "100%|██████████| 13/13 [00:12<00:00,  1.06it/s]\n",
      "100%|██████████| 33/33 [00:09<00:00,  3.40it/s]\n"
     ]
    },
    {
     "name": "stdout",
     "output_type": "stream",
     "text": [
      "1m 26s\n",
      "Early Stopping Counter = 2\n",
      "Epoch 90/300\n"
     ]
    },
    {
     "name": "stderr",
     "output_type": "stream",
     "text": [
      "100%|██████████| 207/207 [01:04<00:00,  3.22it/s]\n",
      "100%|██████████| 13/13 [00:12<00:00,  1.05it/s]\n",
      "100%|██████████| 33/33 [00:09<00:00,  3.42it/s]\n"
     ]
    },
    {
     "name": "stdout",
     "output_type": "stream",
     "text": [
      "1m 26s\n",
      "Early Stopping Counter = 3\n",
      "Epoch 91/300\n"
     ]
    },
    {
     "name": "stderr",
     "output_type": "stream",
     "text": [
      "100%|██████████| 207/207 [01:04<00:00,  3.22it/s]\n",
      "100%|██████████| 13/13 [00:12<00:00,  1.06it/s]\n",
      "100%|██████████| 33/33 [00:09<00:00,  3.44it/s]\n"
     ]
    },
    {
     "name": "stdout",
     "output_type": "stream",
     "text": [
      "1m 26s\n",
      "Consistency Loss declined to 0.06076435429545549\n",
      "Early Stopping Counter = 0\n",
      "Epoch 92/300\n"
     ]
    },
    {
     "name": "stderr",
     "output_type": "stream",
     "text": [
      "100%|██████████| 207/207 [01:04<00:00,  3.23it/s]\n",
      "100%|██████████| 13/13 [00:12<00:00,  1.05it/s]\n",
      "100%|██████████| 33/33 [00:09<00:00,  3.32it/s]\n"
     ]
    },
    {
     "name": "stdout",
     "output_type": "stream",
     "text": [
      "1m 26s\n",
      "Consistency Loss declined to 0.06064145152385418\n",
      "Early Stopping Counter = 0\n",
      "Epoch 93/300\n"
     ]
    },
    {
     "name": "stderr",
     "output_type": "stream",
     "text": [
      "100%|██████████| 207/207 [01:04<00:00,  3.22it/s]\n",
      "100%|██████████| 13/13 [00:12<00:00,  1.05it/s]\n",
      "100%|██████████| 33/33 [00:10<00:00,  3.24it/s]\n"
     ]
    },
    {
     "name": "stdout",
     "output_type": "stream",
     "text": [
      "1m 27s\n",
      "Early Stopping Counter = 1\n",
      "Epoch 94/300\n"
     ]
    },
    {
     "name": "stderr",
     "output_type": "stream",
     "text": [
      "100%|██████████| 207/207 [01:04<00:00,  3.22it/s]\n",
      "100%|██████████| 13/13 [00:12<00:00,  1.06it/s]\n",
      "100%|██████████| 33/33 [00:09<00:00,  3.36it/s]\n"
     ]
    },
    {
     "name": "stdout",
     "output_type": "stream",
     "text": [
      "1m 26s\n",
      "Consistency Loss declined to 0.05976896245892231\n",
      "Early Stopping Counter = 0\n",
      "Epoch 95/300\n"
     ]
    },
    {
     "name": "stderr",
     "output_type": "stream",
     "text": [
      "100%|██████████| 207/207 [01:03<00:00,  3.23it/s]\n",
      "100%|██████████| 13/13 [00:12<00:00,  1.06it/s]\n",
      "100%|██████████| 33/33 [00:09<00:00,  3.41it/s]\n"
     ]
    },
    {
     "name": "stdout",
     "output_type": "stream",
     "text": [
      "1m 26s\n",
      "Early Stopping Counter = 1\n",
      "Epoch 96/300\n"
     ]
    },
    {
     "name": "stderr",
     "output_type": "stream",
     "text": [
      "100%|██████████| 207/207 [01:04<00:00,  3.23it/s]\n",
      "100%|██████████| 13/13 [00:12<00:00,  1.06it/s]\n",
      "100%|██████████| 33/33 [00:09<00:00,  3.41it/s]\n"
     ]
    },
    {
     "name": "stdout",
     "output_type": "stream",
     "text": [
      "1m 26s\n",
      "Early Stopping Counter = 2\n",
      "Epoch 97/300\n"
     ]
    },
    {
     "name": "stderr",
     "output_type": "stream",
     "text": [
      "100%|██████████| 207/207 [01:04<00:00,  3.23it/s]\n",
      "100%|██████████| 13/13 [00:12<00:00,  1.05it/s]\n",
      "100%|██████████| 33/33 [00:09<00:00,  3.43it/s]\n"
     ]
    },
    {
     "name": "stdout",
     "output_type": "stream",
     "text": [
      "1m 26s\n",
      "Early Stopping Counter = 3\n",
      "Epoch 98/300\n"
     ]
    },
    {
     "name": "stderr",
     "output_type": "stream",
     "text": [
      "100%|██████████| 207/207 [01:04<00:00,  3.22it/s]\n",
      "100%|██████████| 13/13 [00:12<00:00,  1.07it/s]\n",
      "100%|██████████| 33/33 [00:09<00:00,  3.42it/s]\n"
     ]
    },
    {
     "name": "stdout",
     "output_type": "stream",
     "text": [
      "1m 26s\n",
      "Consistency Loss declined to 0.059058506328326\n",
      "Early Stopping Counter = 0\n",
      "Epoch 99/300\n"
     ]
    },
    {
     "name": "stderr",
     "output_type": "stream",
     "text": [
      "100%|██████████| 207/207 [01:04<00:00,  3.23it/s]\n",
      "100%|██████████| 13/13 [00:12<00:00,  1.06it/s]\n",
      "100%|██████████| 33/33 [00:09<00:00,  3.39it/s]\n"
     ]
    },
    {
     "name": "stdout",
     "output_type": "stream",
     "text": [
      "1m 26s\n",
      "Consistency Loss declined to 0.0572346099294149\n",
      "Early Stopping Counter = 0\n",
      "Epoch 100/300\n"
     ]
    },
    {
     "name": "stderr",
     "output_type": "stream",
     "text": [
      "100%|██████████| 207/207 [01:04<00:00,  3.22it/s]\n",
      "100%|██████████| 13/13 [00:12<00:00,  1.06it/s]\n",
      "100%|██████████| 33/33 [00:09<00:00,  3.44it/s]\n"
     ]
    },
    {
     "name": "stdout",
     "output_type": "stream",
     "text": [
      "1m 26s\n",
      "Early Stopping Counter = 1\n",
      "Epoch 101/300\n"
     ]
    },
    {
     "name": "stderr",
     "output_type": "stream",
     "text": [
      "100%|██████████| 207/207 [01:04<00:00,  3.23it/s]\n",
      "100%|██████████| 13/13 [00:12<00:00,  1.06it/s]\n",
      "100%|██████████| 33/33 [00:09<00:00,  3.44it/s]\n"
     ]
    },
    {
     "name": "stdout",
     "output_type": "stream",
     "text": [
      "1m 26s\n",
      "Consistency Loss declined to 0.05594497288648899\n",
      "Early Stopping Counter = 0\n",
      "Epoch 102/300\n"
     ]
    },
    {
     "name": "stderr",
     "output_type": "stream",
     "text": [
      "100%|██████████| 207/207 [01:04<00:00,  3.23it/s]\n",
      "100%|██████████| 13/13 [00:12<00:00,  1.05it/s]\n",
      "100%|██████████| 33/33 [00:09<00:00,  3.39it/s]\n"
     ]
    },
    {
     "name": "stdout",
     "output_type": "stream",
     "text": [
      "1m 26s\n",
      "Early Stopping Counter = 1\n",
      "Epoch 103/300\n"
     ]
    },
    {
     "name": "stderr",
     "output_type": "stream",
     "text": [
      "100%|██████████| 207/207 [01:04<00:00,  3.23it/s]\n",
      "100%|██████████| 13/13 [00:12<00:00,  1.06it/s]\n",
      "100%|██████████| 33/33 [00:09<00:00,  3.39it/s]\n"
     ]
    },
    {
     "name": "stdout",
     "output_type": "stream",
     "text": [
      "1m 26s\n",
      "Early Stopping Counter = 2\n",
      "Epoch 104/300\n"
     ]
    },
    {
     "name": "stderr",
     "output_type": "stream",
     "text": [
      "100%|██████████| 207/207 [01:04<00:00,  3.23it/s]\n",
      "100%|██████████| 13/13 [00:12<00:00,  1.04it/s]\n",
      "100%|██████████| 33/33 [00:09<00:00,  3.39it/s]\n"
     ]
    },
    {
     "name": "stdout",
     "output_type": "stream",
     "text": [
      "1m 26s\n",
      "Early Stopping Counter = 3\n",
      "Epoch 105/300\n"
     ]
    },
    {
     "name": "stderr",
     "output_type": "stream",
     "text": [
      "100%|██████████| 207/207 [01:04<00:00,  3.22it/s]\n",
      "100%|██████████| 13/13 [00:12<00:00,  1.06it/s]\n",
      "100%|██████████| 33/33 [00:09<00:00,  3.40it/s]\n"
     ]
    },
    {
     "name": "stdout",
     "output_type": "stream",
     "text": [
      "1m 26s\n",
      "Early Stopping Counter = 4\n",
      "Epoch 106/300\n"
     ]
    },
    {
     "name": "stderr",
     "output_type": "stream",
     "text": [
      "100%|██████████| 207/207 [01:04<00:00,  3.22it/s]\n",
      "100%|██████████| 13/13 [00:12<00:00,  1.06it/s]\n",
      "100%|██████████| 33/33 [00:09<00:00,  3.35it/s]\n"
     ]
    },
    {
     "name": "stdout",
     "output_type": "stream",
     "text": [
      "1m 26s\n",
      "Early Stopping Counter = 5\n",
      "Epoch 107/300\n"
     ]
    },
    {
     "name": "stderr",
     "output_type": "stream",
     "text": [
      "100%|██████████| 207/207 [01:04<00:00,  3.22it/s]\n",
      "100%|██████████| 13/13 [00:12<00:00,  1.06it/s]\n",
      "100%|██████████| 33/33 [00:09<00:00,  3.38it/s]\n"
     ]
    },
    {
     "name": "stdout",
     "output_type": "stream",
     "text": [
      "1m 26s\n",
      "Consistency Loss declined to 0.05506941504203356\n",
      "Early Stopping Counter = 0\n",
      "Epoch 108/300\n"
     ]
    },
    {
     "name": "stderr",
     "output_type": "stream",
     "text": [
      "100%|██████████| 207/207 [01:04<00:00,  3.23it/s]\n",
      "100%|██████████| 13/13 [00:12<00:00,  1.06it/s]\n",
      "100%|██████████| 33/33 [00:09<00:00,  3.42it/s]\n"
     ]
    },
    {
     "name": "stdout",
     "output_type": "stream",
     "text": [
      "1m 26s\n",
      "Consistency Loss declined to 0.05454439956408281\n",
      "Early Stopping Counter = 0\n",
      "Epoch 109/300\n"
     ]
    },
    {
     "name": "stderr",
     "output_type": "stream",
     "text": [
      "100%|██████████| 207/207 [01:04<00:00,  3.23it/s]\n",
      "100%|██████████| 13/13 [00:12<00:00,  1.04it/s]\n",
      "100%|██████████| 33/33 [00:09<00:00,  3.43it/s]\n"
     ]
    },
    {
     "name": "stdout",
     "output_type": "stream",
     "text": [
      "1m 26s\n",
      "Early Stopping Counter = 1\n",
      "Epoch 110/300\n"
     ]
    },
    {
     "name": "stderr",
     "output_type": "stream",
     "text": [
      "100%|██████████| 207/207 [01:04<00:00,  3.22it/s]\n",
      "100%|██████████| 13/13 [00:12<00:00,  1.06it/s]\n",
      "100%|██████████| 33/33 [00:09<00:00,  3.44it/s]\n"
     ]
    },
    {
     "name": "stdout",
     "output_type": "stream",
     "text": [
      "1m 26s\n",
      "Consistency Loss declined to 0.05210020966254748\n",
      "Early Stopping Counter = 0\n",
      "Epoch 111/300\n"
     ]
    },
    {
     "name": "stderr",
     "output_type": "stream",
     "text": [
      "100%|██████████| 207/207 [01:03<00:00,  3.24it/s]\n",
      "100%|██████████| 13/13 [00:12<00:00,  1.05it/s]\n",
      "100%|██████████| 33/33 [00:09<00:00,  3.40it/s]\n"
     ]
    },
    {
     "name": "stdout",
     "output_type": "stream",
     "text": [
      "1m 26s\n",
      "Early Stopping Counter = 1\n",
      "Epoch 112/300\n"
     ]
    },
    {
     "name": "stderr",
     "output_type": "stream",
     "text": [
      "100%|██████████| 207/207 [01:04<00:00,  3.23it/s]\n",
      "100%|██████████| 13/13 [00:12<00:00,  1.06it/s]\n",
      "100%|██████████| 33/33 [00:09<00:00,  3.42it/s]\n"
     ]
    },
    {
     "name": "stdout",
     "output_type": "stream",
     "text": [
      "1m 26s\n",
      "Early Stopping Counter = 2\n",
      "Epoch 113/300\n"
     ]
    },
    {
     "name": "stderr",
     "output_type": "stream",
     "text": [
      "100%|██████████| 207/207 [01:04<00:00,  3.23it/s]\n",
      "100%|██████████| 13/13 [00:12<00:00,  1.05it/s]\n",
      "100%|██████████| 33/33 [00:09<00:00,  3.41it/s]\n"
     ]
    },
    {
     "name": "stdout",
     "output_type": "stream",
     "text": [
      "1m 26s\n",
      "Early Stopping Counter = 3\n",
      "Epoch 114/300\n"
     ]
    },
    {
     "name": "stderr",
     "output_type": "stream",
     "text": [
      "100%|██████████| 207/207 [01:04<00:00,  3.22it/s]\n",
      "100%|██████████| 13/13 [00:12<00:00,  1.07it/s]\n",
      "100%|██████████| 33/33 [00:09<00:00,  3.39it/s]\n"
     ]
    },
    {
     "name": "stdout",
     "output_type": "stream",
     "text": [
      "1m 26s\n",
      "Consistency Loss declined to 0.05169764189766003\n",
      "Early Stopping Counter = 0\n",
      "Epoch 115/300\n"
     ]
    },
    {
     "name": "stderr",
     "output_type": "stream",
     "text": [
      "100%|██████████| 207/207 [01:03<00:00,  3.24it/s]\n",
      "100%|██████████| 13/13 [00:12<00:00,  1.07it/s]\n",
      "100%|██████████| 33/33 [00:09<00:00,  3.39it/s]\n"
     ]
    },
    {
     "name": "stdout",
     "output_type": "stream",
     "text": [
      "1m 26s\n",
      "Early Stopping Counter = 1\n",
      "Epoch 116/300\n"
     ]
    },
    {
     "name": "stderr",
     "output_type": "stream",
     "text": [
      "100%|██████████| 207/207 [01:03<00:00,  3.24it/s]\n",
      "100%|██████████| 13/13 [00:12<00:00,  1.07it/s]\n",
      "100%|██████████| 33/33 [00:09<00:00,  3.42it/s]\n"
     ]
    },
    {
     "name": "stdout",
     "output_type": "stream",
     "text": [
      "1m 26s\n",
      "Early Stopping Counter = 2\n",
      "Epoch 117/300\n"
     ]
    },
    {
     "name": "stderr",
     "output_type": "stream",
     "text": [
      "100%|██████████| 207/207 [01:04<00:00,  3.23it/s]\n",
      "100%|██████████| 13/13 [00:12<00:00,  1.05it/s]\n",
      "100%|██████████| 33/33 [00:09<00:00,  3.44it/s]\n"
     ]
    },
    {
     "name": "stdout",
     "output_type": "stream",
     "text": [
      "1m 26s\n",
      "Early Stopping Counter = 3\n",
      "Epoch 118/300\n"
     ]
    },
    {
     "name": "stderr",
     "output_type": "stream",
     "text": [
      "100%|██████████| 207/207 [01:04<00:00,  3.22it/s]\n",
      "100%|██████████| 13/13 [00:12<00:00,  1.07it/s]\n",
      "100%|██████████| 33/33 [00:09<00:00,  3.45it/s]\n"
     ]
    },
    {
     "name": "stdout",
     "output_type": "stream",
     "text": [
      "1m 26s\n",
      "Early Stopping Counter = 4\n",
      "Epoch 119/300\n"
     ]
    },
    {
     "name": "stderr",
     "output_type": "stream",
     "text": [
      "100%|██████████| 207/207 [01:04<00:00,  3.23it/s]\n",
      "100%|██████████| 13/13 [00:12<00:00,  1.06it/s]\n",
      "100%|██████████| 33/33 [00:09<00:00,  3.37it/s]\n"
     ]
    },
    {
     "name": "stdout",
     "output_type": "stream",
     "text": [
      "1m 26s\n",
      "Early Stopping Counter = 5\n",
      "Epoch 120/300\n"
     ]
    },
    {
     "name": "stderr",
     "output_type": "stream",
     "text": [
      "100%|██████████| 207/207 [01:04<00:00,  3.22it/s]\n",
      "100%|██████████| 13/13 [00:12<00:00,  1.07it/s]\n",
      "100%|██████████| 33/33 [00:09<00:00,  3.43it/s]\n"
     ]
    },
    {
     "name": "stdout",
     "output_type": "stream",
     "text": [
      "1m 26s\n",
      "Consistency Loss declined to 0.051049810476028\n",
      "Early Stopping Counter = 0\n",
      "Epoch 121/300\n"
     ]
    },
    {
     "name": "stderr",
     "output_type": "stream",
     "text": [
      "100%|██████████| 207/207 [01:04<00:00,  3.23it/s]\n",
      "100%|██████████| 13/13 [00:12<00:00,  1.06it/s]\n",
      "100%|██████████| 33/33 [00:09<00:00,  3.49it/s]\n"
     ]
    },
    {
     "name": "stdout",
     "output_type": "stream",
     "text": [
      "1m 26s\n",
      "Early Stopping Counter = 1\n",
      "Epoch 122/300\n"
     ]
    },
    {
     "name": "stderr",
     "output_type": "stream",
     "text": [
      "100%|██████████| 207/207 [01:04<00:00,  3.23it/s]\n",
      "100%|██████████| 13/13 [00:12<00:00,  1.07it/s]\n",
      "100%|██████████| 33/33 [00:09<00:00,  3.43it/s]\n"
     ]
    },
    {
     "name": "stdout",
     "output_type": "stream",
     "text": [
      "1m 26s\n",
      "Early Stopping Counter = 2\n",
      "Epoch 123/300\n"
     ]
    },
    {
     "name": "stderr",
     "output_type": "stream",
     "text": [
      "100%|██████████| 207/207 [01:04<00:00,  3.22it/s]\n",
      "100%|██████████| 13/13 [00:12<00:00,  1.05it/s]\n",
      "100%|██████████| 33/33 [00:09<00:00,  3.33it/s]\n"
     ]
    },
    {
     "name": "stdout",
     "output_type": "stream",
     "text": [
      "1m 26s\n",
      "Early Stopping Counter = 3\n",
      "Epoch 124/300\n"
     ]
    },
    {
     "name": "stderr",
     "output_type": "stream",
     "text": [
      "100%|██████████| 207/207 [01:04<00:00,  3.22it/s]\n",
      "100%|██████████| 13/13 [00:12<00:00,  1.07it/s]\n",
      "100%|██████████| 33/33 [00:09<00:00,  3.42it/s]\n"
     ]
    },
    {
     "name": "stdout",
     "output_type": "stream",
     "text": [
      "1m 26s\n",
      "Early Stopping Counter = 4\n",
      "Epoch 125/300\n"
     ]
    },
    {
     "name": "stderr",
     "output_type": "stream",
     "text": [
      "100%|██████████| 207/207 [01:04<00:00,  3.22it/s]\n",
      "100%|██████████| 13/13 [00:12<00:00,  1.07it/s]\n",
      "100%|██████████| 33/33 [00:09<00:00,  3.37it/s]\n"
     ]
    },
    {
     "name": "stdout",
     "output_type": "stream",
     "text": [
      "1m 26s\n",
      "Consistency Loss declined to 0.04896059173804063\n",
      "Early Stopping Counter = 0\n",
      "Epoch 126/300\n"
     ]
    },
    {
     "name": "stderr",
     "output_type": "stream",
     "text": [
      "100%|██████████| 207/207 [01:03<00:00,  3.24it/s]\n",
      "100%|██████████| 13/13 [00:12<00:00,  1.07it/s]\n",
      "100%|██████████| 33/33 [00:09<00:00,  3.43it/s]\n"
     ]
    },
    {
     "name": "stdout",
     "output_type": "stream",
     "text": [
      "1m 26s\n",
      "Early Stopping Counter = 1\n",
      "Epoch 127/300\n"
     ]
    },
    {
     "name": "stderr",
     "output_type": "stream",
     "text": [
      "100%|██████████| 207/207 [01:04<00:00,  3.23it/s]\n",
      "100%|██████████| 13/13 [00:12<00:00,  1.07it/s]\n",
      "100%|██████████| 33/33 [00:09<00:00,  3.41it/s]\n"
     ]
    },
    {
     "name": "stdout",
     "output_type": "stream",
     "text": [
      "1m 26s\n",
      "Early Stopping Counter = 2\n",
      "Epoch 128/300\n"
     ]
    },
    {
     "name": "stderr",
     "output_type": "stream",
     "text": [
      "100%|██████████| 207/207 [01:04<00:00,  3.23it/s]\n",
      "100%|██████████| 13/13 [00:12<00:00,  1.05it/s]\n",
      "100%|██████████| 33/33 [00:09<00:00,  3.39it/s]\n"
     ]
    },
    {
     "name": "stdout",
     "output_type": "stream",
     "text": [
      "1m 26s\n",
      "Early Stopping Counter = 3\n",
      "Epoch 129/300\n"
     ]
    },
    {
     "name": "stderr",
     "output_type": "stream",
     "text": [
      "100%|██████████| 207/207 [01:04<00:00,  3.23it/s]\n",
      "100%|██████████| 13/13 [00:12<00:00,  1.06it/s]\n",
      "100%|██████████| 33/33 [00:09<00:00,  3.45it/s]\n"
     ]
    },
    {
     "name": "stdout",
     "output_type": "stream",
     "text": [
      "1m 26s\n",
      "Early Stopping Counter = 4\n",
      "Epoch 130/300\n"
     ]
    },
    {
     "name": "stderr",
     "output_type": "stream",
     "text": [
      "100%|██████████| 207/207 [01:04<00:00,  3.23it/s]\n",
      "100%|██████████| 13/13 [00:12<00:00,  1.07it/s]\n",
      "100%|██████████| 33/33 [00:09<00:00,  3.45it/s]\n"
     ]
    },
    {
     "name": "stdout",
     "output_type": "stream",
     "text": [
      "1m 26s\n",
      "Early Stopping Counter = 5\n",
      "Epoch 131/300\n"
     ]
    },
    {
     "name": "stderr",
     "output_type": "stream",
     "text": [
      "100%|██████████| 207/207 [01:04<00:00,  3.22it/s]\n",
      "100%|██████████| 13/13 [00:12<00:00,  1.06it/s]\n",
      "100%|██████████| 33/33 [00:09<00:00,  3.43it/s]\n"
     ]
    },
    {
     "name": "stdout",
     "output_type": "stream",
     "text": [
      "1m 26s\n",
      "Early Stopping Counter = 6\n",
      "Epoch 132/300\n"
     ]
    },
    {
     "name": "stderr",
     "output_type": "stream",
     "text": [
      "100%|██████████| 207/207 [01:04<00:00,  3.22it/s]\n",
      "100%|██████████| 13/13 [00:12<00:00,  1.06it/s]\n",
      "100%|██████████| 33/33 [00:09<00:00,  3.46it/s]\n"
     ]
    },
    {
     "name": "stdout",
     "output_type": "stream",
     "text": [
      "1m 26s\n",
      "Consistency Loss declined to 0.0477073946251319\n",
      "Early Stopping Counter = 0\n",
      "Epoch 133/300\n"
     ]
    },
    {
     "name": "stderr",
     "output_type": "stream",
     "text": [
      "100%|██████████| 207/207 [01:03<00:00,  3.23it/s]\n",
      "100%|██████████| 13/13 [00:12<00:00,  1.07it/s]\n",
      "100%|██████████| 33/33 [00:09<00:00,  3.36it/s]\n"
     ]
    },
    {
     "name": "stdout",
     "output_type": "stream",
     "text": [
      "1m 26s\n",
      "Early Stopping Counter = 1\n",
      "Epoch 134/300\n"
     ]
    },
    {
     "name": "stderr",
     "output_type": "stream",
     "text": [
      "100%|██████████| 207/207 [01:03<00:00,  3.24it/s]\n",
      "100%|██████████| 13/13 [00:12<00:00,  1.07it/s]\n",
      "100%|██████████| 33/33 [00:09<00:00,  3.41it/s]\n"
     ]
    },
    {
     "name": "stdout",
     "output_type": "stream",
     "text": [
      "1m 26s\n",
      "Early Stopping Counter = 2\n",
      "Epoch 135/300\n"
     ]
    },
    {
     "name": "stderr",
     "output_type": "stream",
     "text": [
      "100%|██████████| 207/207 [01:04<00:00,  3.23it/s]\n",
      "100%|██████████| 13/13 [00:12<00:00,  1.04it/s]\n",
      "100%|██████████| 33/33 [00:09<00:00,  3.41it/s]\n"
     ]
    },
    {
     "name": "stdout",
     "output_type": "stream",
     "text": [
      "1m 26s\n",
      "Early Stopping Counter = 3\n",
      "Epoch 136/300\n"
     ]
    },
    {
     "name": "stderr",
     "output_type": "stream",
     "text": [
      "100%|██████████| 207/207 [01:04<00:00,  3.22it/s]\n",
      "100%|██████████| 13/13 [00:12<00:00,  1.06it/s]\n",
      "100%|██████████| 33/33 [00:09<00:00,  3.36it/s]\n"
     ]
    },
    {
     "name": "stdout",
     "output_type": "stream",
     "text": [
      "1m 26s\n",
      "Early Stopping Counter = 4\n",
      "Epoch 137/300\n"
     ]
    },
    {
     "name": "stderr",
     "output_type": "stream",
     "text": [
      "100%|██████████| 207/207 [01:04<00:00,  3.22it/s]\n",
      "100%|██████████| 13/13 [00:12<00:00,  1.06it/s]\n",
      "100%|██████████| 33/33 [00:09<00:00,  3.42it/s]\n"
     ]
    },
    {
     "name": "stdout",
     "output_type": "stream",
     "text": [
      "1m 26s\n",
      "Early Stopping Counter = 5\n",
      "Epoch 138/300\n"
     ]
    },
    {
     "name": "stderr",
     "output_type": "stream",
     "text": [
      "100%|██████████| 207/207 [01:04<00:00,  3.23it/s]\n",
      "100%|██████████| 13/13 [00:12<00:00,  1.07it/s]\n",
      "100%|██████████| 33/33 [00:09<00:00,  3.50it/s]\n"
     ]
    },
    {
     "name": "stdout",
     "output_type": "stream",
     "text": [
      "1m 26s\n",
      "Early Stopping Counter = 6\n",
      "Epoch 139/300\n"
     ]
    },
    {
     "name": "stderr",
     "output_type": "stream",
     "text": [
      "100%|██████████| 207/207 [01:04<00:00,  3.22it/s]\n",
      "100%|██████████| 13/13 [00:12<00:00,  1.07it/s]\n",
      "100%|██████████| 33/33 [00:09<00:00,  3.39it/s]\n"
     ]
    },
    {
     "name": "stdout",
     "output_type": "stream",
     "text": [
      "1m 26s\n",
      "Early Stopping Counter = 7\n",
      "Epoch 140/300\n"
     ]
    },
    {
     "name": "stderr",
     "output_type": "stream",
     "text": [
      "100%|██████████| 207/207 [01:04<00:00,  3.22it/s]\n",
      "100%|██████████| 13/13 [00:12<00:00,  1.07it/s]\n",
      "100%|██████████| 33/33 [00:09<00:00,  3.43it/s]\n"
     ]
    },
    {
     "name": "stdout",
     "output_type": "stream",
     "text": [
      "1m 26s\n",
      "Early Stopping Counter = 8\n",
      "Epoch 141/300\n"
     ]
    },
    {
     "name": "stderr",
     "output_type": "stream",
     "text": [
      "100%|██████████| 207/207 [01:04<00:00,  3.23it/s]\n",
      "100%|██████████| 13/13 [00:12<00:00,  1.06it/s]\n",
      "100%|██████████| 33/33 [00:09<00:00,  3.34it/s]\n"
     ]
    },
    {
     "name": "stdout",
     "output_type": "stream",
     "text": [
      "1m 26s\n",
      "Early Stopping Counter = 9\n",
      "Epoch 142/300\n"
     ]
    },
    {
     "name": "stderr",
     "output_type": "stream",
     "text": [
      "100%|██████████| 207/207 [01:04<00:00,  3.23it/s]\n",
      "100%|██████████| 13/13 [00:12<00:00,  1.06it/s]\n",
      "100%|██████████| 33/33 [00:10<00:00,  3.25it/s]\n"
     ]
    },
    {
     "name": "stdout",
     "output_type": "stream",
     "text": [
      "1m 27s\n",
      "Early Stopping Counter = 10\n",
      "Epoch 143/300\n"
     ]
    },
    {
     "name": "stderr",
     "output_type": "stream",
     "text": [
      "100%|██████████| 207/207 [01:04<00:00,  3.23it/s]\n",
      "100%|██████████| 13/13 [00:12<00:00,  1.07it/s]\n",
      "100%|██████████| 33/33 [00:09<00:00,  3.36it/s]\n"
     ]
    },
    {
     "name": "stdout",
     "output_type": "stream",
     "text": [
      "1m 26s\n",
      "Early Stopping Counter = 11\n",
      "Epoch 144/300\n"
     ]
    },
    {
     "name": "stderr",
     "output_type": "stream",
     "text": [
      "100%|██████████| 207/207 [01:04<00:00,  3.22it/s]\n",
      "100%|██████████| 13/13 [00:12<00:00,  1.06it/s]\n",
      "100%|██████████| 33/33 [00:09<00:00,  3.36it/s]\n"
     ]
    },
    {
     "name": "stdout",
     "output_type": "stream",
     "text": [
      "1m 26s\n",
      "Consistency Loss declined to 0.047295757211171664\n",
      "Early Stopping Counter = 0\n",
      "Epoch 145/300\n"
     ]
    },
    {
     "name": "stderr",
     "output_type": "stream",
     "text": [
      "100%|██████████| 207/207 [01:03<00:00,  3.24it/s]\n",
      "100%|██████████| 13/13 [00:12<00:00,  1.06it/s]\n",
      "100%|██████████| 33/33 [00:09<00:00,  3.37it/s]\n"
     ]
    },
    {
     "name": "stdout",
     "output_type": "stream",
     "text": [
      "1m 26s\n",
      "Consistency Loss declined to 0.04649764213424463\n",
      "Early Stopping Counter = 0\n",
      "Epoch 146/300\n"
     ]
    },
    {
     "name": "stderr",
     "output_type": "stream",
     "text": [
      "100%|██████████| 207/207 [01:04<00:00,  3.23it/s]\n",
      "100%|██████████| 13/13 [00:12<00:00,  1.05it/s]\n",
      "100%|██████████| 33/33 [00:09<00:00,  3.45it/s]\n"
     ]
    },
    {
     "name": "stdout",
     "output_type": "stream",
     "text": [
      "1m 26s\n",
      "Early Stopping Counter = 1\n",
      "Epoch 147/300\n"
     ]
    },
    {
     "name": "stderr",
     "output_type": "stream",
     "text": [
      "100%|██████████| 207/207 [01:04<00:00,  3.23it/s]\n",
      "100%|██████████| 13/13 [00:12<00:00,  1.06it/s]\n",
      "100%|██████████| 33/33 [00:09<00:00,  3.48it/s]\n"
     ]
    },
    {
     "name": "stdout",
     "output_type": "stream",
     "text": [
      "1m 26s\n",
      "Consistency Loss declined to 0.04586358053179888\n",
      "Early Stopping Counter = 0\n",
      "Epoch 148/300\n"
     ]
    },
    {
     "name": "stderr",
     "output_type": "stream",
     "text": [
      "100%|██████████| 207/207 [01:03<00:00,  3.24it/s]\n",
      "100%|██████████| 13/13 [00:12<00:00,  1.06it/s]\n",
      "100%|██████████| 33/33 [00:09<00:00,  3.45it/s]\n"
     ]
    },
    {
     "name": "stdout",
     "output_type": "stream",
     "text": [
      "1m 26s\n",
      "Early Stopping Counter = 1\n",
      "Epoch 149/300\n"
     ]
    },
    {
     "name": "stderr",
     "output_type": "stream",
     "text": [
      "100%|██████████| 207/207 [01:03<00:00,  3.24it/s]\n",
      "100%|██████████| 13/13 [00:12<00:00,  1.06it/s]\n",
      "100%|██████████| 33/33 [00:09<00:00,  3.40it/s]\n"
     ]
    },
    {
     "name": "stdout",
     "output_type": "stream",
     "text": [
      "1m 26s\n",
      "Early Stopping Counter = 2\n",
      "Epoch 150/300\n"
     ]
    },
    {
     "name": "stderr",
     "output_type": "stream",
     "text": [
      "100%|██████████| 207/207 [01:04<00:00,  3.23it/s]\n",
      "100%|██████████| 13/13 [00:12<00:00,  1.05it/s]\n",
      "100%|██████████| 33/33 [00:09<00:00,  3.32it/s]\n"
     ]
    },
    {
     "name": "stdout",
     "output_type": "stream",
     "text": [
      "1m 26s\n",
      "Early Stopping Counter = 3\n",
      "Epoch 151/300\n"
     ]
    },
    {
     "name": "stderr",
     "output_type": "stream",
     "text": [
      "100%|██████████| 207/207 [01:04<00:00,  3.22it/s]\n",
      "100%|██████████| 13/13 [00:12<00:00,  1.06it/s]\n",
      "100%|██████████| 33/33 [00:09<00:00,  3.42it/s]\n"
     ]
    },
    {
     "name": "stdout",
     "output_type": "stream",
     "text": [
      "1m 26s\n",
      "Early Stopping Counter = 4\n",
      "Epoch 152/300\n"
     ]
    },
    {
     "name": "stderr",
     "output_type": "stream",
     "text": [
      "100%|██████████| 207/207 [01:04<00:00,  3.22it/s]\n",
      "100%|██████████| 13/13 [00:12<00:00,  1.07it/s]\n",
      "100%|██████████| 33/33 [00:09<00:00,  3.44it/s]\n"
     ]
    },
    {
     "name": "stdout",
     "output_type": "stream",
     "text": [
      "1m 26s\n",
      "Early Stopping Counter = 5\n",
      "Epoch 153/300\n"
     ]
    },
    {
     "name": "stderr",
     "output_type": "stream",
     "text": [
      "100%|██████████| 207/207 [01:04<00:00,  3.21it/s]\n",
      "100%|██████████| 13/13 [00:12<00:00,  1.06it/s]\n",
      "100%|██████████| 33/33 [00:09<00:00,  3.40it/s]\n"
     ]
    },
    {
     "name": "stdout",
     "output_type": "stream",
     "text": [
      "1m 26s\n",
      "Early Stopping Counter = 6\n",
      "Epoch 154/300\n"
     ]
    },
    {
     "name": "stderr",
     "output_type": "stream",
     "text": [
      "100%|██████████| 207/207 [01:04<00:00,  3.22it/s]\n",
      "100%|██████████| 13/13 [00:12<00:00,  1.06it/s]\n",
      "100%|██████████| 33/33 [00:09<00:00,  3.43it/s]\n"
     ]
    },
    {
     "name": "stdout",
     "output_type": "stream",
     "text": [
      "1m 26s\n",
      "Early Stopping Counter = 7\n",
      "Epoch 155/300\n"
     ]
    },
    {
     "name": "stderr",
     "output_type": "stream",
     "text": [
      "100%|██████████| 207/207 [01:04<00:00,  3.22it/s]\n",
      "100%|██████████| 13/13 [00:12<00:00,  1.06it/s]\n",
      "100%|██████████| 33/33 [00:09<00:00,  3.43it/s]\n"
     ]
    },
    {
     "name": "stdout",
     "output_type": "stream",
     "text": [
      "1m 26s\n",
      "Early Stopping Counter = 8\n",
      "Epoch 156/300\n"
     ]
    },
    {
     "name": "stderr",
     "output_type": "stream",
     "text": [
      "100%|██████████| 207/207 [01:04<00:00,  3.22it/s]\n",
      "100%|██████████| 13/13 [00:12<00:00,  1.06it/s]\n",
      "100%|██████████| 33/33 [00:09<00:00,  3.40it/s]\n"
     ]
    },
    {
     "name": "stdout",
     "output_type": "stream",
     "text": [
      "1m 26s\n",
      "Early Stopping Counter = 9\n",
      "Epoch 157/300\n"
     ]
    },
    {
     "name": "stderr",
     "output_type": "stream",
     "text": [
      "100%|██████████| 207/207 [01:04<00:00,  3.21it/s]\n",
      "100%|██████████| 13/13 [00:12<00:00,  1.06it/s]\n",
      "100%|██████████| 33/33 [00:09<00:00,  3.42it/s]\n"
     ]
    },
    {
     "name": "stdout",
     "output_type": "stream",
     "text": [
      "1m 26s\n",
      "Consistency Loss declined to 0.04435745798624479\n",
      "Early Stopping Counter = 0\n",
      "Epoch 158/300\n"
     ]
    },
    {
     "name": "stderr",
     "output_type": "stream",
     "text": [
      "100%|██████████| 207/207 [01:04<00:00,  3.22it/s]\n",
      "100%|██████████| 13/13 [00:12<00:00,  1.06it/s]\n",
      "100%|██████████| 33/33 [00:09<00:00,  3.45it/s]\n"
     ]
    },
    {
     "name": "stdout",
     "output_type": "stream",
     "text": [
      "1m 26s\n",
      "Early Stopping Counter = 1\n",
      "Epoch 159/300\n"
     ]
    },
    {
     "name": "stderr",
     "output_type": "stream",
     "text": [
      "100%|██████████| 207/207 [01:04<00:00,  3.22it/s]\n",
      "100%|██████████| 13/13 [00:12<00:00,  1.06it/s]\n",
      "100%|██████████| 33/33 [00:09<00:00,  3.38it/s]\n"
     ]
    },
    {
     "name": "stdout",
     "output_type": "stream",
     "text": [
      "1m 26s\n",
      "Early Stopping Counter = 2\n",
      "Epoch 160/300\n"
     ]
    },
    {
     "name": "stderr",
     "output_type": "stream",
     "text": [
      "100%|██████████| 207/207 [01:04<00:00,  3.23it/s]\n",
      "100%|██████████| 13/13 [00:12<00:00,  1.05it/s]\n",
      "100%|██████████| 33/33 [00:09<00:00,  3.42it/s]\n"
     ]
    },
    {
     "name": "stdout",
     "output_type": "stream",
     "text": [
      "1m 26s\n",
      "Early Stopping Counter = 3\n",
      "Epoch 161/300\n"
     ]
    },
    {
     "name": "stderr",
     "output_type": "stream",
     "text": [
      "100%|██████████| 207/207 [01:04<00:00,  3.22it/s]\n",
      "100%|██████████| 13/13 [00:12<00:00,  1.07it/s]\n",
      "100%|██████████| 33/33 [00:09<00:00,  3.41it/s]\n"
     ]
    },
    {
     "name": "stdout",
     "output_type": "stream",
     "text": [
      "1m 26s\n",
      "Early Stopping Counter = 4\n",
      "Epoch 162/300\n"
     ]
    },
    {
     "name": "stderr",
     "output_type": "stream",
     "text": [
      "100%|██████████| 207/207 [01:04<00:00,  3.22it/s]\n",
      "100%|██████████| 13/13 [00:12<00:00,  1.06it/s]\n",
      "100%|██████████| 33/33 [00:09<00:00,  3.42it/s]\n"
     ]
    },
    {
     "name": "stdout",
     "output_type": "stream",
     "text": [
      "1m 26s\n",
      "Early Stopping Counter = 5\n",
      "Epoch 163/300\n"
     ]
    },
    {
     "name": "stderr",
     "output_type": "stream",
     "text": [
      "100%|██████████| 207/207 [01:04<00:00,  3.22it/s]\n",
      "100%|██████████| 13/13 [00:12<00:00,  1.07it/s]\n",
      "100%|██████████| 33/33 [00:09<00:00,  3.42it/s]\n"
     ]
    },
    {
     "name": "stdout",
     "output_type": "stream",
     "text": [
      "1m 26s\n",
      "Early Stopping Counter = 6\n",
      "Epoch 164/300\n"
     ]
    },
    {
     "name": "stderr",
     "output_type": "stream",
     "text": [
      "100%|██████████| 207/207 [01:04<00:00,  3.22it/s]\n",
      "100%|██████████| 13/13 [00:12<00:00,  1.07it/s]\n",
      "100%|██████████| 33/33 [00:09<00:00,  3.41it/s]\n"
     ]
    },
    {
     "name": "stdout",
     "output_type": "stream",
     "text": [
      "1m 26s\n",
      "Early Stopping Counter = 7\n",
      "Epoch 165/300\n"
     ]
    },
    {
     "name": "stderr",
     "output_type": "stream",
     "text": [
      "100%|██████████| 207/207 [01:04<00:00,  3.22it/s]\n",
      "100%|██████████| 13/13 [00:12<00:00,  1.06it/s]\n",
      "100%|██████████| 33/33 [00:09<00:00,  3.42it/s]\n"
     ]
    },
    {
     "name": "stdout",
     "output_type": "stream",
     "text": [
      "1m 26s\n",
      "Early Stopping Counter = 8\n",
      "Epoch 166/300\n"
     ]
    },
    {
     "name": "stderr",
     "output_type": "stream",
     "text": [
      "100%|██████████| 207/207 [01:04<00:00,  3.22it/s]\n",
      "100%|██████████| 13/13 [00:12<00:00,  1.06it/s]\n",
      "100%|██████████| 33/33 [00:09<00:00,  3.40it/s]\n"
     ]
    },
    {
     "name": "stdout",
     "output_type": "stream",
     "text": [
      "1m 26s\n",
      "Consistency Loss declined to 0.04314237603774437\n",
      "Early Stopping Counter = 0\n",
      "Epoch 167/300\n"
     ]
    },
    {
     "name": "stderr",
     "output_type": "stream",
     "text": [
      "100%|██████████| 207/207 [01:04<00:00,  3.22it/s]\n",
      "100%|██████████| 13/13 [00:12<00:00,  1.06it/s]\n",
      "100%|██████████| 33/33 [00:10<00:00,  3.29it/s]\n"
     ]
    },
    {
     "name": "stdout",
     "output_type": "stream",
     "text": [
      "1m 27s\n",
      "Early Stopping Counter = 1\n",
      "Epoch 168/300\n"
     ]
    },
    {
     "name": "stderr",
     "output_type": "stream",
     "text": [
      "100%|██████████| 207/207 [01:04<00:00,  3.23it/s]\n",
      "100%|██████████| 13/13 [00:12<00:00,  1.06it/s]\n",
      "100%|██████████| 33/33 [00:09<00:00,  3.42it/s]\n"
     ]
    },
    {
     "name": "stdout",
     "output_type": "stream",
     "text": [
      "1m 26s\n",
      "Early Stopping Counter = 2\n",
      "Epoch 169/300\n"
     ]
    },
    {
     "name": "stderr",
     "output_type": "stream",
     "text": [
      "100%|██████████| 207/207 [01:04<00:00,  3.22it/s]\n",
      "100%|██████████| 13/13 [00:12<00:00,  1.05it/s]\n",
      "100%|██████████| 33/33 [00:09<00:00,  3.36it/s]\n"
     ]
    },
    {
     "name": "stdout",
     "output_type": "stream",
     "text": [
      "1m 26s\n",
      "Early Stopping Counter = 3\n",
      "Epoch 170/300\n"
     ]
    },
    {
     "name": "stderr",
     "output_type": "stream",
     "text": [
      "100%|██████████| 207/207 [01:04<00:00,  3.21it/s]\n",
      "100%|██████████| 13/13 [00:12<00:00,  1.06it/s]\n",
      "100%|██████████| 33/33 [00:09<00:00,  3.41it/s]\n"
     ]
    },
    {
     "name": "stdout",
     "output_type": "stream",
     "text": [
      "1m 26s\n",
      "Early Stopping Counter = 4\n",
      "Epoch 171/300\n"
     ]
    },
    {
     "name": "stderr",
     "output_type": "stream",
     "text": [
      "100%|██████████| 207/207 [01:04<00:00,  3.21it/s]\n",
      "100%|██████████| 13/13 [00:12<00:00,  1.06it/s]\n",
      "100%|██████████| 33/33 [00:09<00:00,  3.41it/s]\n"
     ]
    },
    {
     "name": "stdout",
     "output_type": "stream",
     "text": [
      "1m 26s\n",
      "Early Stopping Counter = 5\n",
      "Epoch 172/300\n"
     ]
    },
    {
     "name": "stderr",
     "output_type": "stream",
     "text": [
      "100%|██████████| 207/207 [01:04<00:00,  3.22it/s]\n",
      "100%|██████████| 13/13 [00:12<00:00,  1.06it/s]\n",
      "100%|██████████| 33/33 [00:09<00:00,  3.34it/s]\n"
     ]
    },
    {
     "name": "stdout",
     "output_type": "stream",
     "text": [
      "1m 27s\n",
      "Early Stopping Counter = 6\n",
      "Epoch 173/300\n"
     ]
    },
    {
     "name": "stderr",
     "output_type": "stream",
     "text": [
      "100%|██████████| 207/207 [01:04<00:00,  3.22it/s]\n",
      "100%|██████████| 13/13 [00:12<00:00,  1.06it/s]\n",
      "100%|██████████| 33/33 [00:09<00:00,  3.38it/s]\n"
     ]
    },
    {
     "name": "stdout",
     "output_type": "stream",
     "text": [
      "1m 26s\n",
      "Early Stopping Counter = 7\n",
      "Epoch 174/300\n"
     ]
    },
    {
     "name": "stderr",
     "output_type": "stream",
     "text": [
      "100%|██████████| 207/207 [01:04<00:00,  3.22it/s]\n",
      "100%|██████████| 13/13 [00:12<00:00,  1.06it/s]\n",
      "100%|██████████| 33/33 [00:09<00:00,  3.37it/s]\n"
     ]
    },
    {
     "name": "stdout",
     "output_type": "stream",
     "text": [
      "1m 26s\n",
      "Early Stopping Counter = 8\n",
      "Epoch 175/300\n"
     ]
    },
    {
     "name": "stderr",
     "output_type": "stream",
     "text": [
      "100%|██████████| 207/207 [01:04<00:00,  3.21it/s]\n",
      "100%|██████████| 13/13 [00:12<00:00,  1.05it/s]\n",
      "100%|██████████| 33/33 [00:09<00:00,  3.36it/s]\n"
     ]
    },
    {
     "name": "stdout",
     "output_type": "stream",
     "text": [
      "1m 27s\n",
      "Early Stopping Counter = 9\n",
      "Epoch 176/300\n"
     ]
    },
    {
     "name": "stderr",
     "output_type": "stream",
     "text": [
      "100%|██████████| 207/207 [01:04<00:00,  3.22it/s]\n",
      "100%|██████████| 13/13 [00:12<00:00,  1.06it/s]\n",
      "100%|██████████| 33/33 [00:09<00:00,  3.39it/s]\n"
     ]
    },
    {
     "name": "stdout",
     "output_type": "stream",
     "text": [
      "1m 26s\n",
      "Consistency Loss declined to 0.04290588372028791\n",
      "Early Stopping Counter = 0\n",
      "Epoch 177/300\n"
     ]
    },
    {
     "name": "stderr",
     "output_type": "stream",
     "text": [
      "100%|██████████| 207/207 [01:04<00:00,  3.23it/s]\n",
      "100%|██████████| 13/13 [00:12<00:00,  1.07it/s]\n",
      "100%|██████████| 33/33 [00:09<00:00,  3.41it/s]\n"
     ]
    },
    {
     "name": "stdout",
     "output_type": "stream",
     "text": [
      "1m 26s\n",
      "Early Stopping Counter = 1\n",
      "Epoch 178/300\n"
     ]
    },
    {
     "name": "stderr",
     "output_type": "stream",
     "text": [
      "100%|██████████| 207/207 [01:04<00:00,  3.23it/s]\n",
      "100%|██████████| 13/13 [00:12<00:00,  1.06it/s]\n",
      "100%|██████████| 33/33 [00:09<00:00,  3.39it/s]\n"
     ]
    },
    {
     "name": "stdout",
     "output_type": "stream",
     "text": [
      "1m 26s\n",
      "Early Stopping Counter = 2\n",
      "Epoch 179/300\n"
     ]
    },
    {
     "name": "stderr",
     "output_type": "stream",
     "text": [
      "100%|██████████| 207/207 [01:04<00:00,  3.23it/s]\n",
      "100%|██████████| 13/13 [00:12<00:00,  1.04it/s]\n",
      "100%|██████████| 33/33 [00:09<00:00,  3.38it/s]\n"
     ]
    },
    {
     "name": "stdout",
     "output_type": "stream",
     "text": [
      "1m 26s\n",
      "Early Stopping Counter = 3\n",
      "Epoch 180/300\n"
     ]
    },
    {
     "name": "stderr",
     "output_type": "stream",
     "text": [
      "100%|██████████| 207/207 [01:04<00:00,  3.22it/s]\n",
      "100%|██████████| 13/13 [00:12<00:00,  1.07it/s]\n",
      "100%|██████████| 33/33 [00:09<00:00,  3.40it/s]\n"
     ]
    },
    {
     "name": "stdout",
     "output_type": "stream",
     "text": [
      "1m 26s\n",
      "Consistency Loss declined to 0.04160375979084235\n",
      "Early Stopping Counter = 0\n",
      "Epoch 181/300\n"
     ]
    },
    {
     "name": "stderr",
     "output_type": "stream",
     "text": [
      "100%|██████████| 207/207 [01:03<00:00,  3.24it/s]\n",
      "100%|██████████| 13/13 [00:12<00:00,  1.07it/s]\n",
      "100%|██████████| 33/33 [00:09<00:00,  3.34it/s]\n"
     ]
    },
    {
     "name": "stdout",
     "output_type": "stream",
     "text": [
      "1m 26s\n",
      "Early Stopping Counter = 1\n",
      "Epoch 182/300\n"
     ]
    },
    {
     "name": "stderr",
     "output_type": "stream",
     "text": [
      "100%|██████████| 207/207 [01:03<00:00,  3.24it/s]\n",
      "100%|██████████| 13/13 [00:12<00:00,  1.06it/s]\n",
      "100%|██████████| 33/33 [00:09<00:00,  3.45it/s]\n"
     ]
    },
    {
     "name": "stdout",
     "output_type": "stream",
     "text": [
      "1m 26s\n",
      "Early Stopping Counter = 2\n",
      "Epoch 183/300\n"
     ]
    },
    {
     "name": "stderr",
     "output_type": "stream",
     "text": [
      "100%|██████████| 207/207 [01:04<00:00,  3.23it/s]\n",
      "100%|██████████| 13/13 [00:12<00:00,  1.05it/s]\n",
      "100%|██████████| 33/33 [00:09<00:00,  3.39it/s]\n"
     ]
    },
    {
     "name": "stdout",
     "output_type": "stream",
     "text": [
      "1m 26s\n",
      "Early Stopping Counter = 3\n",
      "Epoch 184/300\n"
     ]
    },
    {
     "name": "stderr",
     "output_type": "stream",
     "text": [
      "100%|██████████| 207/207 [01:04<00:00,  3.23it/s]\n",
      "100%|██████████| 13/13 [00:12<00:00,  1.07it/s]\n",
      "100%|██████████| 33/33 [00:09<00:00,  3.45it/s]\n"
     ]
    },
    {
     "name": "stdout",
     "output_type": "stream",
     "text": [
      "1m 26s\n",
      "Consistency Loss declined to 0.040920055543000884\n",
      "Early Stopping Counter = 0\n",
      "Epoch 185/300\n"
     ]
    },
    {
     "name": "stderr",
     "output_type": "stream",
     "text": [
      "100%|██████████| 207/207 [01:03<00:00,  3.24it/s]\n",
      "100%|██████████| 13/13 [00:12<00:00,  1.07it/s]\n",
      "100%|██████████| 33/33 [00:09<00:00,  3.46it/s]\n"
     ]
    },
    {
     "name": "stdout",
     "output_type": "stream",
     "text": [
      "1m 26s\n",
      "Early Stopping Counter = 1\n",
      "Epoch 186/300\n"
     ]
    },
    {
     "name": "stderr",
     "output_type": "stream",
     "text": [
      "100%|██████████| 207/207 [01:03<00:00,  3.24it/s]\n",
      "100%|██████████| 13/13 [00:12<00:00,  1.06it/s]\n",
      "100%|██████████| 33/33 [00:09<00:00,  3.50it/s]\n"
     ]
    },
    {
     "name": "stdout",
     "output_type": "stream",
     "text": [
      "1m 26s\n",
      "Early Stopping Counter = 2\n",
      "Epoch 187/300\n"
     ]
    },
    {
     "name": "stderr",
     "output_type": "stream",
     "text": [
      "100%|██████████| 207/207 [01:03<00:00,  3.23it/s]\n",
      "100%|██████████| 13/13 [00:12<00:00,  1.05it/s]\n",
      "100%|██████████| 33/33 [00:09<00:00,  3.34it/s]\n"
     ]
    },
    {
     "name": "stdout",
     "output_type": "stream",
     "text": [
      "1m 26s\n",
      "Early Stopping Counter = 3\n",
      "Epoch 188/300\n"
     ]
    },
    {
     "name": "stderr",
     "output_type": "stream",
     "text": [
      "100%|██████████| 207/207 [01:04<00:00,  3.23it/s]\n",
      "100%|██████████| 13/13 [00:12<00:00,  1.07it/s]\n",
      "100%|██████████| 33/33 [00:09<00:00,  3.41it/s]\n"
     ]
    },
    {
     "name": "stdout",
     "output_type": "stream",
     "text": [
      "1m 26s\n",
      "Early Stopping Counter = 4\n",
      "Epoch 189/300\n"
     ]
    },
    {
     "name": "stderr",
     "output_type": "stream",
     "text": [
      "100%|██████████| 207/207 [01:04<00:00,  3.23it/s]\n",
      "100%|██████████| 13/13 [00:12<00:00,  1.06it/s]\n",
      "100%|██████████| 33/33 [00:09<00:00,  3.39it/s]\n"
     ]
    },
    {
     "name": "stdout",
     "output_type": "stream",
     "text": [
      "1m 26s\n",
      "Early Stopping Counter = 5\n",
      "Epoch 190/300\n"
     ]
    },
    {
     "name": "stderr",
     "output_type": "stream",
     "text": [
      "100%|██████████| 207/207 [01:04<00:00,  3.22it/s]\n",
      "100%|██████████| 13/13 [00:12<00:00,  1.06it/s]\n",
      "100%|██████████| 33/33 [00:09<00:00,  3.43it/s]\n"
     ]
    },
    {
     "name": "stdout",
     "output_type": "stream",
     "text": [
      "1m 26s\n",
      "Early Stopping Counter = 6\n",
      "Epoch 191/300\n"
     ]
    },
    {
     "name": "stderr",
     "output_type": "stream",
     "text": [
      "100%|██████████| 207/207 [01:04<00:00,  3.22it/s]\n",
      "100%|██████████| 13/13 [00:12<00:00,  1.06it/s]\n",
      "100%|██████████| 33/33 [00:09<00:00,  3.31it/s]\n"
     ]
    },
    {
     "name": "stdout",
     "output_type": "stream",
     "text": [
      "1m 26s\n",
      "Early Stopping Counter = 7\n",
      "Epoch 192/300\n"
     ]
    },
    {
     "name": "stderr",
     "output_type": "stream",
     "text": [
      "100%|██████████| 207/207 [01:04<00:00,  3.22it/s]\n",
      "100%|██████████| 13/13 [00:12<00:00,  1.06it/s]\n",
      "100%|██████████| 33/33 [00:09<00:00,  3.48it/s]\n"
     ]
    },
    {
     "name": "stdout",
     "output_type": "stream",
     "text": [
      "1m 26s\n",
      "Early Stopping Counter = 8\n",
      "Epoch 193/300\n"
     ]
    },
    {
     "name": "stderr",
     "output_type": "stream",
     "text": [
      "100%|██████████| 207/207 [01:04<00:00,  3.22it/s]\n",
      "100%|██████████| 13/13 [00:12<00:00,  1.06it/s]\n",
      "100%|██████████| 33/33 [00:09<00:00,  3.40it/s]\n"
     ]
    },
    {
     "name": "stdout",
     "output_type": "stream",
     "text": [
      "1m 26s\n",
      "Early Stopping Counter = 9\n",
      "Epoch 194/300\n"
     ]
    },
    {
     "name": "stderr",
     "output_type": "stream",
     "text": [
      "100%|██████████| 207/207 [01:04<00:00,  3.21it/s]\n",
      "100%|██████████| 13/13 [00:12<00:00,  1.06it/s]\n",
      "100%|██████████| 33/33 [00:09<00:00,  3.55it/s]\n"
     ]
    },
    {
     "name": "stdout",
     "output_type": "stream",
     "text": [
      "1m 26s\n",
      "Consistency Loss declined to 0.03965694571916874\n",
      "Early Stopping Counter = 0\n",
      "Epoch 195/300\n"
     ]
    },
    {
     "name": "stderr",
     "output_type": "stream",
     "text": [
      "100%|██████████| 207/207 [01:04<00:00,  3.23it/s]\n",
      "100%|██████████| 13/13 [00:12<00:00,  1.05it/s]\n",
      "100%|██████████| 33/33 [00:09<00:00,  3.37it/s]\n"
     ]
    },
    {
     "name": "stdout",
     "output_type": "stream",
     "text": [
      "1m 26s\n",
      "Early Stopping Counter = 1\n",
      "Epoch 196/300\n"
     ]
    },
    {
     "name": "stderr",
     "output_type": "stream",
     "text": [
      "100%|██████████| 207/207 [01:03<00:00,  3.23it/s]\n",
      "100%|██████████| 13/13 [00:12<00:00,  1.06it/s]\n",
      "100%|██████████| 33/33 [00:09<00:00,  3.39it/s]\n"
     ]
    },
    {
     "name": "stdout",
     "output_type": "stream",
     "text": [
      "1m 26s\n",
      "Early Stopping Counter = 2\n",
      "Epoch 197/300\n"
     ]
    },
    {
     "name": "stderr",
     "output_type": "stream",
     "text": [
      "100%|██████████| 207/207 [01:03<00:00,  3.23it/s]\n",
      "100%|██████████| 13/13 [00:12<00:00,  1.05it/s]\n",
      "100%|██████████| 33/33 [00:09<00:00,  3.44it/s]\n"
     ]
    },
    {
     "name": "stdout",
     "output_type": "stream",
     "text": [
      "1m 26s\n",
      "Early Stopping Counter = 3\n",
      "Epoch 198/300\n"
     ]
    },
    {
     "name": "stderr",
     "output_type": "stream",
     "text": [
      "100%|██████████| 207/207 [01:04<00:00,  3.22it/s]\n",
      "100%|██████████| 13/13 [00:12<00:00,  1.06it/s]\n",
      "100%|██████████| 33/33 [00:09<00:00,  3.50it/s]\n"
     ]
    },
    {
     "name": "stdout",
     "output_type": "stream",
     "text": [
      "1m 26s\n",
      "Early Stopping Counter = 4\n",
      "Epoch 199/300\n"
     ]
    },
    {
     "name": "stderr",
     "output_type": "stream",
     "text": [
      "100%|██████████| 207/207 [01:04<00:00,  3.23it/s]\n",
      "100%|██████████| 13/13 [00:12<00:00,  1.06it/s]\n",
      "100%|██████████| 33/33 [00:09<00:00,  3.44it/s]\n"
     ]
    },
    {
     "name": "stdout",
     "output_type": "stream",
     "text": [
      "1m 26s\n",
      "Early Stopping Counter = 5\n",
      "Epoch 200/300\n"
     ]
    },
    {
     "name": "stderr",
     "output_type": "stream",
     "text": [
      "100%|██████████| 207/207 [01:04<00:00,  3.22it/s]\n",
      "100%|██████████| 13/13 [00:12<00:00,  1.06it/s]\n",
      "100%|██████████| 33/33 [00:09<00:00,  3.40it/s]\n"
     ]
    },
    {
     "name": "stdout",
     "output_type": "stream",
     "text": [
      "1m 26s\n",
      "Early Stopping Counter = 6\n",
      "Epoch 201/300\n"
     ]
    },
    {
     "name": "stderr",
     "output_type": "stream",
     "text": [
      "100%|██████████| 207/207 [01:04<00:00,  3.23it/s]\n",
      "100%|██████████| 13/13 [00:12<00:00,  1.06it/s]\n",
      "100%|██████████| 33/33 [00:09<00:00,  3.37it/s]\n"
     ]
    },
    {
     "name": "stdout",
     "output_type": "stream",
     "text": [
      "1m 26s\n",
      "Early Stopping Counter = 7\n",
      "Epoch 202/300\n"
     ]
    },
    {
     "name": "stderr",
     "output_type": "stream",
     "text": [
      "100%|██████████| 207/207 [01:04<00:00,  3.23it/s]\n",
      "100%|██████████| 13/13 [00:12<00:00,  1.06it/s]\n",
      "100%|██████████| 33/33 [00:09<00:00,  3.35it/s]\n"
     ]
    },
    {
     "name": "stdout",
     "output_type": "stream",
     "text": [
      "1m 26s\n",
      "Consistency Loss declined to 0.03914707440596361\n",
      "Early Stopping Counter = 0\n",
      "Epoch 203/300\n"
     ]
    },
    {
     "name": "stderr",
     "output_type": "stream",
     "text": [
      "100%|██████████| 207/207 [01:03<00:00,  3.24it/s]\n",
      "100%|██████████| 13/13 [00:12<00:00,  1.06it/s]\n",
      "100%|██████████| 33/33 [00:09<00:00,  3.34it/s]\n"
     ]
    },
    {
     "name": "stdout",
     "output_type": "stream",
     "text": [
      "1m 26s\n",
      "Early Stopping Counter = 1\n",
      "Epoch 204/300\n"
     ]
    },
    {
     "name": "stderr",
     "output_type": "stream",
     "text": [
      "100%|██████████| 207/207 [01:03<00:00,  3.24it/s]\n",
      "100%|██████████| 13/13 [00:12<00:00,  1.07it/s]\n",
      "100%|██████████| 33/33 [00:09<00:00,  3.43it/s]\n"
     ]
    },
    {
     "name": "stdout",
     "output_type": "stream",
     "text": [
      "1m 26s\n",
      "Early Stopping Counter = 2\n",
      "Epoch 205/300\n"
     ]
    },
    {
     "name": "stderr",
     "output_type": "stream",
     "text": [
      "100%|██████████| 207/207 [01:04<00:00,  3.23it/s]\n",
      "100%|██████████| 13/13 [00:12<00:00,  1.05it/s]\n",
      "100%|██████████| 33/33 [00:09<00:00,  3.35it/s]\n"
     ]
    },
    {
     "name": "stdout",
     "output_type": "stream",
     "text": [
      "1m 26s\n",
      "Early Stopping Counter = 3\n",
      "Epoch 206/300\n"
     ]
    },
    {
     "name": "stderr",
     "output_type": "stream",
     "text": [
      "100%|██████████| 207/207 [01:04<00:00,  3.23it/s]\n",
      "100%|██████████| 13/13 [00:12<00:00,  1.07it/s]\n",
      "100%|██████████| 33/33 [00:09<00:00,  3.44it/s]\n"
     ]
    },
    {
     "name": "stdout",
     "output_type": "stream",
     "text": [
      "1m 26s\n",
      "Early Stopping Counter = 4\n",
      "Epoch 207/300\n"
     ]
    },
    {
     "name": "stderr",
     "output_type": "stream",
     "text": [
      "100%|██████████| 207/207 [01:04<00:00,  3.22it/s]\n",
      "100%|██████████| 13/13 [00:12<00:00,  1.07it/s]\n",
      "100%|██████████| 33/33 [00:09<00:00,  3.40it/s]\n"
     ]
    },
    {
     "name": "stdout",
     "output_type": "stream",
     "text": [
      "1m 26s\n",
      "Early Stopping Counter = 5\n",
      "Epoch 208/300\n"
     ]
    },
    {
     "name": "stderr",
     "output_type": "stream",
     "text": [
      "100%|██████████| 207/207 [01:04<00:00,  3.22it/s]\n",
      "100%|██████████| 13/13 [00:12<00:00,  1.07it/s]\n",
      "100%|██████████| 33/33 [00:09<00:00,  3.40it/s]\n"
     ]
    },
    {
     "name": "stdout",
     "output_type": "stream",
     "text": [
      "1m 26s\n",
      "Consistency Loss declined to 0.03869800756757076\n",
      "Early Stopping Counter = 0\n",
      "Epoch 209/300\n"
     ]
    },
    {
     "name": "stderr",
     "output_type": "stream",
     "text": [
      "100%|██████████| 207/207 [01:04<00:00,  3.23it/s]\n",
      "100%|██████████| 13/13 [00:12<00:00,  1.06it/s]\n",
      "100%|██████████| 33/33 [00:09<00:00,  3.39it/s]\n"
     ]
    },
    {
     "name": "stdout",
     "output_type": "stream",
     "text": [
      "1m 26s\n",
      "Early Stopping Counter = 1\n",
      "Epoch 210/300\n"
     ]
    },
    {
     "name": "stderr",
     "output_type": "stream",
     "text": [
      "100%|██████████| 207/207 [01:04<00:00,  3.23it/s]\n",
      "100%|██████████| 13/13 [00:12<00:00,  1.06it/s]\n",
      "100%|██████████| 33/33 [00:09<00:00,  3.35it/s]\n"
     ]
    },
    {
     "name": "stdout",
     "output_type": "stream",
     "text": [
      "1m 26s\n",
      "Early Stopping Counter = 2\n",
      "Epoch 211/300\n"
     ]
    },
    {
     "name": "stderr",
     "output_type": "stream",
     "text": [
      "100%|██████████| 207/207 [01:04<00:00,  3.22it/s]\n",
      "100%|██████████| 13/13 [00:12<00:00,  1.05it/s]\n",
      "100%|██████████| 33/33 [00:09<00:00,  3.38it/s]\n"
     ]
    },
    {
     "name": "stdout",
     "output_type": "stream",
     "text": [
      "1m 26s\n",
      "Early Stopping Counter = 3\n",
      "Epoch 212/300\n"
     ]
    },
    {
     "name": "stderr",
     "output_type": "stream",
     "text": [
      "100%|██████████| 207/207 [01:04<00:00,  3.22it/s]\n",
      "100%|██████████| 13/13 [00:12<00:00,  1.05it/s]\n",
      "100%|██████████| 33/33 [00:09<00:00,  3.32it/s]\n"
     ]
    },
    {
     "name": "stdout",
     "output_type": "stream",
     "text": [
      "1m 27s\n",
      "Early Stopping Counter = 4\n",
      "Epoch 213/300\n"
     ]
    },
    {
     "name": "stderr",
     "output_type": "stream",
     "text": [
      "100%|██████████| 207/207 [01:04<00:00,  3.21it/s]\n",
      "100%|██████████| 13/13 [00:12<00:00,  1.06it/s]\n",
      "100%|██████████| 33/33 [00:09<00:00,  3.39it/s]\n"
     ]
    },
    {
     "name": "stdout",
     "output_type": "stream",
     "text": [
      "1m 27s\n",
      "Early Stopping Counter = 5\n",
      "Epoch 214/300\n"
     ]
    },
    {
     "name": "stderr",
     "output_type": "stream",
     "text": [
      "100%|██████████| 207/207 [01:04<00:00,  3.21it/s]\n",
      "100%|██████████| 13/13 [00:12<00:00,  1.06it/s]\n",
      "100%|██████████| 33/33 [00:09<00:00,  3.48it/s]\n"
     ]
    },
    {
     "name": "stdout",
     "output_type": "stream",
     "text": [
      "1m 26s\n",
      "Early Stopping Counter = 6\n",
      "Epoch 215/300\n"
     ]
    },
    {
     "name": "stderr",
     "output_type": "stream",
     "text": [
      "100%|██████████| 207/207 [01:04<00:00,  3.21it/s]\n",
      "100%|██████████| 13/13 [00:12<00:00,  1.06it/s]\n",
      "100%|██████████| 33/33 [00:09<00:00,  3.40it/s]\n"
     ]
    },
    {
     "name": "stdout",
     "output_type": "stream",
     "text": [
      "1m 26s\n",
      "Early Stopping Counter = 7\n",
      "Epoch 216/300\n"
     ]
    },
    {
     "name": "stderr",
     "output_type": "stream",
     "text": [
      "100%|██████████| 207/207 [01:04<00:00,  3.23it/s]\n",
      "100%|██████████| 13/13 [00:12<00:00,  1.06it/s]\n",
      "100%|██████████| 33/33 [00:09<00:00,  3.40it/s]\n"
     ]
    },
    {
     "name": "stdout",
     "output_type": "stream",
     "text": [
      "1m 26s\n",
      "Early Stopping Counter = 8\n",
      "Epoch 217/300\n"
     ]
    },
    {
     "name": "stderr",
     "output_type": "stream",
     "text": [
      "100%|██████████| 207/207 [01:04<00:00,  3.22it/s]\n",
      "100%|██████████| 13/13 [00:12<00:00,  1.06it/s]\n",
      "100%|██████████| 33/33 [00:09<00:00,  3.37it/s]\n"
     ]
    },
    {
     "name": "stdout",
     "output_type": "stream",
     "text": [
      "1m 26s\n",
      "Early Stopping Counter = 9\n",
      "Epoch 218/300\n"
     ]
    },
    {
     "name": "stderr",
     "output_type": "stream",
     "text": [
      "100%|██████████| 207/207 [01:04<00:00,  3.21it/s]\n",
      "100%|██████████| 13/13 [00:12<00:00,  1.06it/s]\n",
      "100%|██████████| 33/33 [00:09<00:00,  3.36it/s]\n"
     ]
    },
    {
     "name": "stdout",
     "output_type": "stream",
     "text": [
      "1m 26s\n",
      "Consistency Loss declined to 0.03808031030572378\n",
      "Early Stopping Counter = 0\n",
      "Epoch 219/300\n"
     ]
    },
    {
     "name": "stderr",
     "output_type": "stream",
     "text": [
      "100%|██████████| 207/207 [01:04<00:00,  3.23it/s]\n",
      "100%|██████████| 13/13 [00:12<00:00,  1.06it/s]\n",
      "100%|██████████| 33/33 [00:09<00:00,  3.43it/s]\n"
     ]
    },
    {
     "name": "stdout",
     "output_type": "stream",
     "text": [
      "1m 26s\n",
      "Early Stopping Counter = 1\n",
      "Epoch 220/300\n"
     ]
    },
    {
     "name": "stderr",
     "output_type": "stream",
     "text": [
      "100%|██████████| 207/207 [01:03<00:00,  3.24it/s]\n",
      "100%|██████████| 13/13 [00:12<00:00,  1.06it/s]\n",
      "100%|██████████| 33/33 [00:09<00:00,  3.41it/s]\n"
     ]
    },
    {
     "name": "stdout",
     "output_type": "stream",
     "text": [
      "1m 26s\n",
      "Early Stopping Counter = 2\n",
      "Epoch 221/300\n"
     ]
    },
    {
     "name": "stderr",
     "output_type": "stream",
     "text": [
      "100%|██████████| 207/207 [01:04<00:00,  3.23it/s]\n",
      "100%|██████████| 13/13 [00:12<00:00,  1.05it/s]\n",
      "100%|██████████| 33/33 [00:09<00:00,  3.39it/s]\n"
     ]
    },
    {
     "name": "stdout",
     "output_type": "stream",
     "text": [
      "1m 26s\n",
      "Early Stopping Counter = 3\n",
      "Epoch 222/300\n"
     ]
    },
    {
     "name": "stderr",
     "output_type": "stream",
     "text": [
      "100%|██████████| 207/207 [01:04<00:00,  3.22it/s]\n",
      "100%|██████████| 13/13 [00:12<00:00,  1.06it/s]\n",
      "100%|██████████| 33/33 [00:09<00:00,  3.46it/s]\n"
     ]
    },
    {
     "name": "stdout",
     "output_type": "stream",
     "text": [
      "1m 26s\n",
      "Early Stopping Counter = 4\n",
      "Epoch 223/300\n"
     ]
    },
    {
     "name": "stderr",
     "output_type": "stream",
     "text": [
      "100%|██████████| 207/207 [01:04<00:00,  3.22it/s]\n",
      "100%|██████████| 13/13 [00:12<00:00,  1.06it/s]\n",
      "100%|██████████| 33/33 [00:09<00:00,  3.41it/s]\n"
     ]
    },
    {
     "name": "stdout",
     "output_type": "stream",
     "text": [
      "1m 26s\n",
      "Consistency Loss declined to 0.03718682722403453\n",
      "Early Stopping Counter = 0\n",
      "Epoch 224/300\n"
     ]
    },
    {
     "name": "stderr",
     "output_type": "stream",
     "text": [
      "100%|██████████| 207/207 [01:03<00:00,  3.24it/s]\n",
      "100%|██████████| 13/13 [00:12<00:00,  1.06it/s]\n",
      "100%|██████████| 33/33 [00:09<00:00,  3.40it/s]\n"
     ]
    },
    {
     "name": "stdout",
     "output_type": "stream",
     "text": [
      "1m 26s\n",
      "Early Stopping Counter = 1\n",
      "Epoch 225/300\n"
     ]
    },
    {
     "name": "stderr",
     "output_type": "stream",
     "text": [
      "100%|██████████| 207/207 [01:03<00:00,  3.24it/s]\n",
      "100%|██████████| 13/13 [00:12<00:00,  1.06it/s]\n",
      "100%|██████████| 33/33 [00:09<00:00,  3.40it/s]\n"
     ]
    },
    {
     "name": "stdout",
     "output_type": "stream",
     "text": [
      "1m 26s\n",
      "Early Stopping Counter = 2\n",
      "Epoch 226/300\n"
     ]
    },
    {
     "name": "stderr",
     "output_type": "stream",
     "text": [
      "100%|██████████| 207/207 [01:03<00:00,  3.24it/s]\n",
      "100%|██████████| 13/13 [00:12<00:00,  1.05it/s]\n",
      "100%|██████████| 33/33 [00:09<00:00,  3.36it/s]\n"
     ]
    },
    {
     "name": "stdout",
     "output_type": "stream",
     "text": [
      "1m 26s\n",
      "Early Stopping Counter = 3\n",
      "Epoch 227/300\n"
     ]
    },
    {
     "name": "stderr",
     "output_type": "stream",
     "text": [
      "100%|██████████| 207/207 [01:04<00:00,  3.23it/s]\n",
      "100%|██████████| 13/13 [00:12<00:00,  1.06it/s]\n",
      "100%|██████████| 33/33 [00:09<00:00,  3.37it/s]\n"
     ]
    },
    {
     "name": "stdout",
     "output_type": "stream",
     "text": [
      "1m 26s\n",
      "Early Stopping Counter = 4\n",
      "Epoch 228/300\n"
     ]
    },
    {
     "name": "stderr",
     "output_type": "stream",
     "text": [
      "100%|██████████| 207/207 [01:04<00:00,  3.23it/s]\n",
      "100%|██████████| 13/13 [00:12<00:00,  1.06it/s]\n",
      "100%|██████████| 33/33 [00:09<00:00,  3.34it/s]\n"
     ]
    },
    {
     "name": "stdout",
     "output_type": "stream",
     "text": [
      "1m 26s\n",
      "Early Stopping Counter = 5\n",
      "Epoch 229/300\n"
     ]
    },
    {
     "name": "stderr",
     "output_type": "stream",
     "text": [
      "100%|██████████| 207/207 [01:04<00:00,  3.23it/s]\n",
      "100%|██████████| 13/13 [00:12<00:00,  1.06it/s]\n",
      "100%|██████████| 33/33 [00:09<00:00,  3.46it/s]\n"
     ]
    },
    {
     "name": "stdout",
     "output_type": "stream",
     "text": [
      "1m 26s\n",
      "Early Stopping Counter = 6\n",
      "Epoch 230/300\n"
     ]
    },
    {
     "name": "stderr",
     "output_type": "stream",
     "text": [
      "100%|██████████| 207/207 [01:04<00:00,  3.23it/s]\n",
      "100%|██████████| 13/13 [00:12<00:00,  1.06it/s]\n",
      "100%|██████████| 33/33 [00:09<00:00,  3.39it/s]\n"
     ]
    },
    {
     "name": "stdout",
     "output_type": "stream",
     "text": [
      "1m 26s\n",
      "Early Stopping Counter = 7\n",
      "Epoch 231/300\n"
     ]
    },
    {
     "name": "stderr",
     "output_type": "stream",
     "text": [
      "100%|██████████| 207/207 [01:04<00:00,  3.23it/s]\n",
      "100%|██████████| 13/13 [00:12<00:00,  1.07it/s]\n",
      "100%|██████████| 33/33 [00:09<00:00,  3.44it/s]\n"
     ]
    },
    {
     "name": "stdout",
     "output_type": "stream",
     "text": [
      "1m 26s\n",
      "Early Stopping Counter = 8\n",
      "Epoch 232/300\n"
     ]
    },
    {
     "name": "stderr",
     "output_type": "stream",
     "text": [
      "100%|██████████| 207/207 [01:04<00:00,  3.22it/s]\n",
      "100%|██████████| 13/13 [00:12<00:00,  1.06it/s]\n",
      "100%|██████████| 33/33 [00:09<00:00,  3.43it/s]\n"
     ]
    },
    {
     "name": "stdout",
     "output_type": "stream",
     "text": [
      "1m 26s\n",
      "Consistency Loss declined to 0.03687646268652035\n",
      "Early Stopping Counter = 0\n",
      "Epoch 233/300\n"
     ]
    },
    {
     "name": "stderr",
     "output_type": "stream",
     "text": [
      "100%|██████████| 207/207 [01:04<00:00,  3.23it/s]\n",
      "100%|██████████| 13/13 [00:12<00:00,  1.06it/s]\n",
      "100%|██████████| 33/33 [00:09<00:00,  3.40it/s]\n"
     ]
    },
    {
     "name": "stdout",
     "output_type": "stream",
     "text": [
      "1m 26s\n",
      "Consistency Loss declined to 0.036839357362343714\n",
      "Early Stopping Counter = 0\n",
      "Epoch 234/300\n"
     ]
    },
    {
     "name": "stderr",
     "output_type": "stream",
     "text": [
      "100%|██████████| 207/207 [01:04<00:00,  3.23it/s]\n",
      "100%|██████████| 13/13 [00:12<00:00,  1.05it/s]\n",
      "100%|██████████| 33/33 [00:09<00:00,  3.46it/s]\n"
     ]
    },
    {
     "name": "stdout",
     "output_type": "stream",
     "text": [
      "1m 26s\n",
      "Early Stopping Counter = 1\n",
      "Epoch 235/300\n"
     ]
    },
    {
     "name": "stderr",
     "output_type": "stream",
     "text": [
      "100%|██████████| 207/207 [01:04<00:00,  3.22it/s]\n",
      "100%|██████████| 13/13 [00:12<00:00,  1.06it/s]\n",
      "100%|██████████| 33/33 [00:09<00:00,  3.46it/s]\n"
     ]
    },
    {
     "name": "stdout",
     "output_type": "stream",
     "text": [
      "1m 26s\n",
      "Early Stopping Counter = 2\n",
      "Epoch 236/300\n"
     ]
    },
    {
     "name": "stderr",
     "output_type": "stream",
     "text": [
      "100%|██████████| 207/207 [01:04<00:00,  3.22it/s]\n",
      "100%|██████████| 13/13 [00:12<00:00,  1.06it/s]\n",
      "100%|██████████| 33/33 [00:09<00:00,  3.44it/s]\n"
     ]
    },
    {
     "name": "stdout",
     "output_type": "stream",
     "text": [
      "1m 26s\n",
      "Early Stopping Counter = 3\n",
      "Epoch 237/300\n"
     ]
    },
    {
     "name": "stderr",
     "output_type": "stream",
     "text": [
      "100%|██████████| 207/207 [01:04<00:00,  3.22it/s]\n",
      "100%|██████████| 13/13 [00:12<00:00,  1.06it/s]\n",
      "100%|██████████| 33/33 [00:09<00:00,  3.39it/s]\n"
     ]
    },
    {
     "name": "stdout",
     "output_type": "stream",
     "text": [
      "1m 26s\n",
      "Early Stopping Counter = 4\n",
      "Epoch 238/300\n"
     ]
    },
    {
     "name": "stderr",
     "output_type": "stream",
     "text": [
      "100%|██████████| 207/207 [01:04<00:00,  3.22it/s]\n",
      "100%|██████████| 13/13 [00:12<00:00,  1.06it/s]\n",
      "100%|██████████| 33/33 [00:09<00:00,  3.41it/s]\n"
     ]
    },
    {
     "name": "stdout",
     "output_type": "stream",
     "text": [
      "1m 26s\n",
      "Early Stopping Counter = 5\n",
      "Epoch 239/300\n"
     ]
    },
    {
     "name": "stderr",
     "output_type": "stream",
     "text": [
      "100%|██████████| 207/207 [01:04<00:00,  3.22it/s]\n",
      "100%|██████████| 13/13 [00:12<00:00,  1.06it/s]\n",
      "100%|██████████| 33/33 [00:09<00:00,  3.39it/s]\n"
     ]
    },
    {
     "name": "stdout",
     "output_type": "stream",
     "text": [
      "1m 26s\n",
      "Early Stopping Counter = 6\n",
      "Epoch 240/300\n"
     ]
    },
    {
     "name": "stderr",
     "output_type": "stream",
     "text": [
      "100%|██████████| 207/207 [01:04<00:00,  3.22it/s]\n",
      "100%|██████████| 13/13 [00:12<00:00,  1.06it/s]\n",
      "100%|██████████| 33/33 [00:09<00:00,  3.34it/s]\n"
     ]
    },
    {
     "name": "stdout",
     "output_type": "stream",
     "text": [
      "1m 26s\n",
      "Early Stopping Counter = 7\n",
      "Epoch 241/300\n"
     ]
    },
    {
     "name": "stderr",
     "output_type": "stream",
     "text": [
      "100%|██████████| 207/207 [01:04<00:00,  3.22it/s]\n",
      "100%|██████████| 13/13 [00:12<00:00,  1.06it/s]\n",
      "100%|██████████| 33/33 [00:09<00:00,  3.37it/s]\n"
     ]
    },
    {
     "name": "stdout",
     "output_type": "stream",
     "text": [
      "1m 26s\n",
      "Consistency Loss declined to 0.036071691662073135\n",
      "Early Stopping Counter = 0\n",
      "Epoch 242/300\n"
     ]
    },
    {
     "name": "stderr",
     "output_type": "stream",
     "text": [
      "100%|██████████| 207/207 [01:04<00:00,  3.23it/s]\n",
      "100%|██████████| 13/13 [00:12<00:00,  1.06it/s]\n",
      "100%|██████████| 33/33 [00:09<00:00,  3.34it/s]\n"
     ]
    },
    {
     "name": "stdout",
     "output_type": "stream",
     "text": [
      "1m 26s\n",
      "Early Stopping Counter = 1\n",
      "Epoch 243/300\n"
     ]
    },
    {
     "name": "stderr",
     "output_type": "stream",
     "text": [
      "100%|██████████| 207/207 [01:03<00:00,  3.24it/s]\n",
      "100%|██████████| 13/13 [00:12<00:00,  1.06it/s]\n",
      "100%|██████████| 33/33 [00:09<00:00,  3.34it/s]\n"
     ]
    },
    {
     "name": "stdout",
     "output_type": "stream",
     "text": [
      "1m 26s\n",
      "Early Stopping Counter = 2\n",
      "Epoch 244/300\n"
     ]
    },
    {
     "name": "stderr",
     "output_type": "stream",
     "text": [
      "100%|██████████| 207/207 [01:04<00:00,  3.23it/s]\n",
      "100%|██████████| 13/13 [00:12<00:00,  1.05it/s]\n",
      "100%|██████████| 33/33 [00:09<00:00,  3.34it/s]\n"
     ]
    },
    {
     "name": "stdout",
     "output_type": "stream",
     "text": [
      "1m 26s\n",
      "Early Stopping Counter = 3\n",
      "Epoch 245/300\n"
     ]
    },
    {
     "name": "stderr",
     "output_type": "stream",
     "text": [
      "100%|██████████| 207/207 [01:04<00:00,  3.21it/s]\n",
      "100%|██████████| 13/13 [00:12<00:00,  1.07it/s]\n",
      "100%|██████████| 33/33 [00:09<00:00,  3.48it/s]\n"
     ]
    },
    {
     "name": "stdout",
     "output_type": "stream",
     "text": [
      "1m 26s\n",
      "Early Stopping Counter = 4\n",
      "Epoch 246/300\n"
     ]
    },
    {
     "name": "stderr",
     "output_type": "stream",
     "text": [
      "100%|██████████| 207/207 [01:04<00:00,  3.22it/s]\n",
      "100%|██████████| 13/13 [00:12<00:00,  1.06it/s]\n",
      "100%|██████████| 33/33 [00:09<00:00,  3.37it/s]\n"
     ]
    },
    {
     "name": "stdout",
     "output_type": "stream",
     "text": [
      "1m 26s\n",
      "Early Stopping Counter = 5\n",
      "Epoch 247/300\n"
     ]
    },
    {
     "name": "stderr",
     "output_type": "stream",
     "text": [
      "100%|██████████| 207/207 [01:04<00:00,  3.22it/s]\n",
      "100%|██████████| 13/13 [00:12<00:00,  1.06it/s]\n",
      "100%|██████████| 33/33 [00:09<00:00,  3.39it/s]\n"
     ]
    },
    {
     "name": "stdout",
     "output_type": "stream",
     "text": [
      "1m 26s\n",
      "Early Stopping Counter = 6\n",
      "Epoch 248/300\n"
     ]
    },
    {
     "name": "stderr",
     "output_type": "stream",
     "text": [
      "100%|██████████| 207/207 [01:04<00:00,  3.22it/s]\n",
      "100%|██████████| 13/13 [00:12<00:00,  1.06it/s]\n",
      "100%|██████████| 33/33 [00:09<00:00,  3.38it/s]\n"
     ]
    },
    {
     "name": "stdout",
     "output_type": "stream",
     "text": [
      "1m 26s\n",
      "Early Stopping Counter = 7\n",
      "Epoch 249/300\n"
     ]
    },
    {
     "name": "stderr",
     "output_type": "stream",
     "text": [
      "100%|██████████| 207/207 [01:04<00:00,  3.22it/s]\n",
      "100%|██████████| 13/13 [00:12<00:00,  1.06it/s]\n",
      "100%|██████████| 33/33 [00:09<00:00,  3.47it/s]\n"
     ]
    },
    {
     "name": "stdout",
     "output_type": "stream",
     "text": [
      "1m 26s\n",
      "Early Stopping Counter = 8\n",
      "Epoch 250/300\n"
     ]
    },
    {
     "name": "stderr",
     "output_type": "stream",
     "text": [
      "100%|██████████| 207/207 [01:04<00:00,  3.22it/s]\n",
      "100%|██████████| 13/13 [00:12<00:00,  1.06it/s]\n",
      "100%|██████████| 33/33 [00:09<00:00,  3.44it/s]\n"
     ]
    },
    {
     "name": "stdout",
     "output_type": "stream",
     "text": [
      "1m 26s\n",
      "Early Stopping Counter = 9\n",
      "Epoch 251/300\n"
     ]
    },
    {
     "name": "stderr",
     "output_type": "stream",
     "text": [
      "100%|██████████| 207/207 [01:04<00:00,  3.22it/s]\n",
      "100%|██████████| 13/13 [00:12<00:00,  1.06it/s]\n",
      "100%|██████████| 33/33 [00:09<00:00,  3.44it/s]\n"
     ]
    },
    {
     "name": "stdout",
     "output_type": "stream",
     "text": [
      "1m 26s\n",
      "Early Stopping Counter = 10\n",
      "Epoch 252/300\n"
     ]
    },
    {
     "name": "stderr",
     "output_type": "stream",
     "text": [
      "100%|██████████| 207/207 [01:04<00:00,  3.22it/s]\n",
      "100%|██████████| 13/13 [00:12<00:00,  1.06it/s]\n",
      "100%|██████████| 33/33 [00:09<00:00,  3.46it/s]\n"
     ]
    },
    {
     "name": "stdout",
     "output_type": "stream",
     "text": [
      "1m 26s\n",
      "Early Stopping Counter = 11\n",
      "Epoch 253/300\n"
     ]
    },
    {
     "name": "stderr",
     "output_type": "stream",
     "text": [
      "100%|██████████| 207/207 [01:04<00:00,  3.22it/s]\n",
      "100%|██████████| 13/13 [00:12<00:00,  1.07it/s]\n",
      "100%|██████████| 33/33 [00:09<00:00,  3.40it/s]\n"
     ]
    },
    {
     "name": "stdout",
     "output_type": "stream",
     "text": [
      "1m 26s\n",
      "Consistency Loss declined to 0.03556756617931219\n",
      "Early Stopping Counter = 0\n",
      "Epoch 254/300\n"
     ]
    },
    {
     "name": "stderr",
     "output_type": "stream",
     "text": [
      "100%|██████████| 207/207 [01:03<00:00,  3.23it/s]\n",
      "100%|██████████| 13/13 [00:12<00:00,  1.06it/s]\n",
      "100%|██████████| 33/33 [00:09<00:00,  3.36it/s]\n"
     ]
    },
    {
     "name": "stdout",
     "output_type": "stream",
     "text": [
      "1m 26s\n",
      "Early Stopping Counter = 1\n",
      "Epoch 255/300\n"
     ]
    },
    {
     "name": "stderr",
     "output_type": "stream",
     "text": [
      "100%|██████████| 207/207 [01:03<00:00,  3.24it/s]\n",
      "100%|██████████| 13/13 [00:12<00:00,  1.06it/s]\n",
      "100%|██████████| 33/33 [00:09<00:00,  3.45it/s]\n"
     ]
    },
    {
     "name": "stdout",
     "output_type": "stream",
     "text": [
      "1m 26s\n",
      "Early Stopping Counter = 2\n",
      "Epoch 256/300\n"
     ]
    },
    {
     "name": "stderr",
     "output_type": "stream",
     "text": [
      "100%|██████████| 207/207 [01:03<00:00,  3.24it/s]\n",
      "100%|██████████| 13/13 [00:12<00:00,  1.05it/s]\n",
      "100%|██████████| 33/33 [00:09<00:00,  3.39it/s]\n"
     ]
    },
    {
     "name": "stdout",
     "output_type": "stream",
     "text": [
      "1m 26s\n",
      "Early Stopping Counter = 3\n",
      "Epoch 257/300\n"
     ]
    },
    {
     "name": "stderr",
     "output_type": "stream",
     "text": [
      "100%|██████████| 207/207 [01:04<00:00,  3.23it/s]\n",
      "100%|██████████| 13/13 [00:12<00:00,  1.06it/s]\n",
      "100%|██████████| 33/33 [00:09<00:00,  3.41it/s]\n"
     ]
    },
    {
     "name": "stdout",
     "output_type": "stream",
     "text": [
      "1m 26s\n",
      "Early Stopping Counter = 4\n",
      "Epoch 258/300\n"
     ]
    },
    {
     "name": "stderr",
     "output_type": "stream",
     "text": [
      "100%|██████████| 207/207 [01:04<00:00,  3.23it/s]\n",
      "100%|██████████| 13/13 [00:12<00:00,  1.06it/s]\n",
      "100%|██████████| 33/33 [00:09<00:00,  3.46it/s]\n"
     ]
    },
    {
     "name": "stdout",
     "output_type": "stream",
     "text": [
      "1m 26s\n",
      "Early Stopping Counter = 5\n",
      "Epoch 259/300\n"
     ]
    },
    {
     "name": "stderr",
     "output_type": "stream",
     "text": [
      "100%|██████████| 207/207 [01:04<00:00,  3.22it/s]\n",
      "100%|██████████| 13/13 [00:12<00:00,  1.06it/s]\n",
      "100%|██████████| 33/33 [00:09<00:00,  3.34it/s]\n"
     ]
    },
    {
     "name": "stdout",
     "output_type": "stream",
     "text": [
      "1m 26s\n",
      "Consistency Loss declined to 0.03519075822371703\n",
      "Early Stopping Counter = 0\n",
      "Epoch 260/300\n"
     ]
    },
    {
     "name": "stderr",
     "output_type": "stream",
     "text": [
      "100%|██████████| 207/207 [01:03<00:00,  3.24it/s]\n",
      "100%|██████████| 13/13 [00:12<00:00,  1.06it/s]\n",
      "100%|██████████| 33/33 [00:09<00:00,  3.39it/s]\n"
     ]
    },
    {
     "name": "stdout",
     "output_type": "stream",
     "text": [
      "1m 26s\n",
      "Early Stopping Counter = 1\n",
      "Epoch 261/300\n"
     ]
    },
    {
     "name": "stderr",
     "output_type": "stream",
     "text": [
      "100%|██████████| 207/207 [01:03<00:00,  3.24it/s]\n",
      "100%|██████████| 13/13 [00:12<00:00,  1.06it/s]\n",
      "100%|██████████| 33/33 [00:09<00:00,  3.44it/s]\n"
     ]
    },
    {
     "name": "stdout",
     "output_type": "stream",
     "text": [
      "1m 26s\n",
      "Early Stopping Counter = 2\n",
      "Epoch 262/300\n"
     ]
    },
    {
     "name": "stderr",
     "output_type": "stream",
     "text": [
      "100%|██████████| 207/207 [01:04<00:00,  3.23it/s]\n",
      "100%|██████████| 13/13 [00:12<00:00,  1.05it/s]\n",
      "100%|██████████| 33/33 [00:09<00:00,  3.43it/s]\n"
     ]
    },
    {
     "name": "stdout",
     "output_type": "stream",
     "text": [
      "1m 26s\n",
      "Early Stopping Counter = 3\n",
      "Epoch 263/300\n"
     ]
    },
    {
     "name": "stderr",
     "output_type": "stream",
     "text": [
      "100%|██████████| 207/207 [01:04<00:00,  3.22it/s]\n",
      "100%|██████████| 13/13 [00:12<00:00,  1.06it/s]\n",
      "100%|██████████| 33/33 [00:09<00:00,  3.41it/s]\n"
     ]
    },
    {
     "name": "stdout",
     "output_type": "stream",
     "text": [
      "1m 26s\n",
      "Early Stopping Counter = 4\n",
      "Epoch 264/300\n"
     ]
    },
    {
     "name": "stderr",
     "output_type": "stream",
     "text": [
      "100%|██████████| 207/207 [01:04<00:00,  3.22it/s]\n",
      "100%|██████████| 13/13 [00:12<00:00,  1.06it/s]\n",
      "100%|██████████| 33/33 [00:09<00:00,  3.39it/s]\n"
     ]
    },
    {
     "name": "stdout",
     "output_type": "stream",
     "text": [
      "1m 26s\n",
      "Consistency Loss declined to 0.03505690438816181\n",
      "Early Stopping Counter = 0\n",
      "Epoch 265/300\n"
     ]
    },
    {
     "name": "stderr",
     "output_type": "stream",
     "text": [
      "100%|██████████| 207/207 [01:03<00:00,  3.24it/s]\n",
      "100%|██████████| 13/13 [00:12<00:00,  1.06it/s]\n",
      "100%|██████████| 33/33 [00:09<00:00,  3.45it/s]\n"
     ]
    },
    {
     "name": "stdout",
     "output_type": "stream",
     "text": [
      "1m 26s\n",
      "Early Stopping Counter = 1\n",
      "Epoch 266/300\n"
     ]
    },
    {
     "name": "stderr",
     "output_type": "stream",
     "text": [
      "100%|██████████| 207/207 [01:03<00:00,  3.24it/s]\n",
      "100%|██████████| 13/13 [00:12<00:00,  1.06it/s]\n",
      "100%|██████████| 33/33 [00:09<00:00,  3.41it/s]\n"
     ]
    },
    {
     "name": "stdout",
     "output_type": "stream",
     "text": [
      "1m 26s\n",
      "Early Stopping Counter = 2\n",
      "Epoch 267/300\n"
     ]
    },
    {
     "name": "stderr",
     "output_type": "stream",
     "text": [
      "100%|██████████| 207/207 [01:03<00:00,  3.24it/s]\n",
      "100%|██████████| 13/13 [00:12<00:00,  1.04it/s]\n",
      "100%|██████████| 33/33 [00:09<00:00,  3.41it/s]\n"
     ]
    },
    {
     "name": "stdout",
     "output_type": "stream",
     "text": [
      "1m 26s\n",
      "Early Stopping Counter = 3\n",
      "Epoch 268/300\n"
     ]
    },
    {
     "name": "stderr",
     "output_type": "stream",
     "text": [
      "100%|██████████| 207/207 [01:04<00:00,  3.21it/s]\n",
      "100%|██████████| 13/13 [00:12<00:00,  1.05it/s]\n",
      "100%|██████████| 33/33 [00:09<00:00,  3.39it/s]\n"
     ]
    },
    {
     "name": "stdout",
     "output_type": "stream",
     "text": [
      "1m 27s\n",
      "Early Stopping Counter = 4\n",
      "Epoch 269/300\n"
     ]
    },
    {
     "name": "stderr",
     "output_type": "stream",
     "text": [
      "100%|██████████| 207/207 [01:04<00:00,  3.22it/s]\n",
      "100%|██████████| 13/13 [00:12<00:00,  1.06it/s]\n",
      "100%|██████████| 33/33 [00:09<00:00,  3.40it/s]\n"
     ]
    },
    {
     "name": "stdout",
     "output_type": "stream",
     "text": [
      "1m 26s\n",
      "Early Stopping Counter = 5\n",
      "Epoch 270/300\n"
     ]
    },
    {
     "name": "stderr",
     "output_type": "stream",
     "text": [
      "100%|██████████| 207/207 [01:04<00:00,  3.22it/s]\n",
      "100%|██████████| 13/13 [00:12<00:00,  1.05it/s]\n",
      "100%|██████████| 33/33 [00:09<00:00,  3.46it/s]\n"
     ]
    },
    {
     "name": "stdout",
     "output_type": "stream",
     "text": [
      "1m 26s\n",
      "Early Stopping Counter = 6\n",
      "Epoch 271/300\n"
     ]
    },
    {
     "name": "stderr",
     "output_type": "stream",
     "text": [
      "100%|██████████| 207/207 [01:04<00:00,  3.22it/s]\n",
      "100%|██████████| 13/13 [00:12<00:00,  1.06it/s]\n",
      "100%|██████████| 33/33 [00:09<00:00,  3.42it/s]\n"
     ]
    },
    {
     "name": "stdout",
     "output_type": "stream",
     "text": [
      "1m 26s\n",
      "Early Stopping Counter = 7\n",
      "Epoch 272/300\n"
     ]
    },
    {
     "name": "stderr",
     "output_type": "stream",
     "text": [
      "100%|██████████| 207/207 [01:04<00:00,  3.21it/s]\n",
      "100%|██████████| 13/13 [00:12<00:00,  1.06it/s]\n",
      "100%|██████████| 33/33 [00:09<00:00,  3.41it/s]\n"
     ]
    },
    {
     "name": "stdout",
     "output_type": "stream",
     "text": [
      "1m 26s\n",
      "Consistency Loss declined to 0.03458744602707716\n",
      "Early Stopping Counter = 0\n",
      "Epoch 273/300\n"
     ]
    },
    {
     "name": "stderr",
     "output_type": "stream",
     "text": [
      "100%|██████████| 207/207 [01:03<00:00,  3.24it/s]\n",
      "100%|██████████| 13/13 [00:12<00:00,  1.06it/s]\n",
      "100%|██████████| 33/33 [00:09<00:00,  3.41it/s]\n"
     ]
    },
    {
     "name": "stdout",
     "output_type": "stream",
     "text": [
      "1m 26s\n",
      "Early Stopping Counter = 1\n",
      "Epoch 274/300\n"
     ]
    },
    {
     "name": "stderr",
     "output_type": "stream",
     "text": [
      "100%|██████████| 207/207 [01:03<00:00,  3.24it/s]\n",
      "100%|██████████| 13/13 [00:12<00:00,  1.06it/s]\n",
      "100%|██████████| 33/33 [00:09<00:00,  3.33it/s]\n"
     ]
    },
    {
     "name": "stdout",
     "output_type": "stream",
     "text": [
      "1m 26s\n",
      "Early Stopping Counter = 2\n",
      "Epoch 275/300\n"
     ]
    },
    {
     "name": "stderr",
     "output_type": "stream",
     "text": [
      "100%|██████████| 207/207 [01:04<00:00,  3.23it/s]\n",
      "100%|██████████| 13/13 [00:12<00:00,  1.05it/s]\n",
      "100%|██████████| 33/33 [00:09<00:00,  3.34it/s]\n"
     ]
    },
    {
     "name": "stdout",
     "output_type": "stream",
     "text": [
      "1m 26s\n",
      "Early Stopping Counter = 3\n",
      "Epoch 276/300\n"
     ]
    },
    {
     "name": "stderr",
     "output_type": "stream",
     "text": [
      "100%|██████████| 207/207 [01:04<00:00,  3.22it/s]\n",
      "100%|██████████| 13/13 [00:12<00:00,  1.06it/s]\n",
      "100%|██████████| 33/33 [00:09<00:00,  3.40it/s]\n"
     ]
    },
    {
     "name": "stdout",
     "output_type": "stream",
     "text": [
      "1m 26s\n",
      "Early Stopping Counter = 4\n",
      "Epoch 277/300\n"
     ]
    },
    {
     "name": "stderr",
     "output_type": "stream",
     "text": [
      "100%|██████████| 207/207 [01:04<00:00,  3.22it/s]\n",
      "100%|██████████| 13/13 [00:12<00:00,  1.06it/s]\n",
      "100%|██████████| 33/33 [00:09<00:00,  3.38it/s]\n"
     ]
    },
    {
     "name": "stdout",
     "output_type": "stream",
     "text": [
      "1m 26s\n",
      "Early Stopping Counter = 5\n",
      "Epoch 278/300\n"
     ]
    },
    {
     "name": "stderr",
     "output_type": "stream",
     "text": [
      "100%|██████████| 207/207 [01:04<00:00,  3.22it/s]\n",
      "100%|██████████| 13/13 [00:12<00:00,  1.06it/s]\n",
      "100%|██████████| 33/33 [00:09<00:00,  3.44it/s]\n"
     ]
    },
    {
     "name": "stdout",
     "output_type": "stream",
     "text": [
      "1m 26s\n",
      "Early Stopping Counter = 6\n",
      "Epoch 279/300\n"
     ]
    },
    {
     "name": "stderr",
     "output_type": "stream",
     "text": [
      "100%|██████████| 207/207 [01:04<00:00,  3.21it/s]\n",
      "100%|██████████| 13/13 [00:12<00:00,  1.06it/s]\n",
      "100%|██████████| 33/33 [00:09<00:00,  3.33it/s]\n"
     ]
    },
    {
     "name": "stdout",
     "output_type": "stream",
     "text": [
      "1m 27s\n",
      "Early Stopping Counter = 7\n",
      "Epoch 280/300\n"
     ]
    },
    {
     "name": "stderr",
     "output_type": "stream",
     "text": [
      "100%|██████████| 207/207 [01:04<00:00,  3.22it/s]\n",
      "100%|██████████| 13/13 [00:12<00:00,  1.06it/s]\n",
      "100%|██████████| 33/33 [00:09<00:00,  3.40it/s]\n"
     ]
    },
    {
     "name": "stdout",
     "output_type": "stream",
     "text": [
      "1m 26s\n",
      "Early Stopping Counter = 8\n",
      "Epoch 281/300\n"
     ]
    },
    {
     "name": "stderr",
     "output_type": "stream",
     "text": [
      "100%|██████████| 207/207 [01:04<00:00,  3.22it/s]\n",
      "100%|██████████| 13/13 [00:12<00:00,  1.06it/s]\n",
      "100%|██████████| 33/33 [00:09<00:00,  3.37it/s]\n"
     ]
    },
    {
     "name": "stdout",
     "output_type": "stream",
     "text": [
      "1m 26s\n",
      "Early Stopping Counter = 9\n",
      "Epoch 282/300\n"
     ]
    },
    {
     "name": "stderr",
     "output_type": "stream",
     "text": [
      "100%|██████████| 207/207 [01:04<00:00,  3.21it/s]\n",
      "100%|██████████| 13/13 [00:12<00:00,  1.05it/s]\n",
      "100%|██████████| 33/33 [00:09<00:00,  3.48it/s]\n"
     ]
    },
    {
     "name": "stdout",
     "output_type": "stream",
     "text": [
      "1m 26s\n",
      "Consistency Loss declined to 0.03369772663483253\n",
      "Early Stopping Counter = 0\n",
      "Epoch 283/300\n"
     ]
    },
    {
     "name": "stderr",
     "output_type": "stream",
     "text": [
      "100%|██████████| 207/207 [01:04<00:00,  3.22it/s]\n",
      "100%|██████████| 13/13 [00:12<00:00,  1.06it/s]\n",
      "100%|██████████| 33/33 [00:09<00:00,  3.41it/s]\n"
     ]
    },
    {
     "name": "stdout",
     "output_type": "stream",
     "text": [
      "1m 26s\n",
      "Early Stopping Counter = 1\n",
      "Epoch 284/300\n"
     ]
    },
    {
     "name": "stderr",
     "output_type": "stream",
     "text": [
      "100%|██████████| 207/207 [01:04<00:00,  3.22it/s]\n",
      "100%|██████████| 13/13 [00:12<00:00,  1.05it/s]\n",
      "100%|██████████| 33/33 [00:09<00:00,  3.45it/s]\n"
     ]
    },
    {
     "name": "stdout",
     "output_type": "stream",
     "text": [
      "1m 26s\n",
      "Early Stopping Counter = 2\n",
      "Epoch 285/300\n"
     ]
    },
    {
     "name": "stderr",
     "output_type": "stream",
     "text": [
      "100%|██████████| 207/207 [01:04<00:00,  3.23it/s]\n",
      "100%|██████████| 13/13 [00:12<00:00,  1.04it/s]\n",
      "100%|██████████| 33/33 [00:09<00:00,  3.39it/s]\n"
     ]
    },
    {
     "name": "stdout",
     "output_type": "stream",
     "text": [
      "1m 26s\n",
      "Early Stopping Counter = 3\n",
      "Epoch 286/300\n"
     ]
    },
    {
     "name": "stderr",
     "output_type": "stream",
     "text": [
      "100%|██████████| 207/207 [01:04<00:00,  3.22it/s]\n",
      "100%|██████████| 13/13 [00:12<00:00,  1.06it/s]\n",
      "100%|██████████| 33/33 [00:09<00:00,  3.36it/s]\n"
     ]
    },
    {
     "name": "stdout",
     "output_type": "stream",
     "text": [
      "1m 26s\n",
      "Early Stopping Counter = 4\n",
      "Epoch 287/300\n"
     ]
    },
    {
     "name": "stderr",
     "output_type": "stream",
     "text": [
      "100%|██████████| 207/207 [01:04<00:00,  3.21it/s]\n",
      "100%|██████████| 13/13 [00:12<00:00,  1.06it/s]\n",
      "100%|██████████| 33/33 [00:09<00:00,  3.46it/s]\n"
     ]
    },
    {
     "name": "stdout",
     "output_type": "stream",
     "text": [
      "1m 26s\n",
      "Early Stopping Counter = 5\n",
      "Epoch 288/300\n"
     ]
    },
    {
     "name": "stderr",
     "output_type": "stream",
     "text": [
      "100%|██████████| 207/207 [01:04<00:00,  3.21it/s]\n",
      "100%|██████████| 13/13 [00:12<00:00,  1.06it/s]\n",
      "100%|██████████| 33/33 [00:09<00:00,  3.42it/s]\n"
     ]
    },
    {
     "name": "stdout",
     "output_type": "stream",
     "text": [
      "1m 26s\n",
      "Early Stopping Counter = 6\n",
      "Epoch 289/300\n"
     ]
    },
    {
     "name": "stderr",
     "output_type": "stream",
     "text": [
      "100%|██████████| 207/207 [01:04<00:00,  3.22it/s]\n",
      "100%|██████████| 13/13 [00:12<00:00,  1.06it/s]\n",
      "100%|██████████| 33/33 [00:09<00:00,  3.42it/s]\n"
     ]
    },
    {
     "name": "stdout",
     "output_type": "stream",
     "text": [
      "1m 26s\n",
      "Early Stopping Counter = 7\n",
      "Epoch 290/300\n"
     ]
    },
    {
     "name": "stderr",
     "output_type": "stream",
     "text": [
      "100%|██████████| 207/207 [01:04<00:00,  3.22it/s]\n",
      "100%|██████████| 13/13 [00:12<00:00,  1.06it/s]\n",
      "100%|██████████| 33/33 [00:09<00:00,  3.42it/s]\n"
     ]
    },
    {
     "name": "stdout",
     "output_type": "stream",
     "text": [
      "1m 26s\n",
      "Early Stopping Counter = 8\n",
      "Epoch 291/300\n"
     ]
    },
    {
     "name": "stderr",
     "output_type": "stream",
     "text": [
      "100%|██████████| 207/207 [01:04<00:00,  3.22it/s]\n",
      "100%|██████████| 13/13 [00:12<00:00,  1.06it/s]\n",
      "100%|██████████| 33/33 [00:09<00:00,  3.40it/s]\n"
     ]
    },
    {
     "name": "stdout",
     "output_type": "stream",
     "text": [
      "1m 26s\n",
      "Early Stopping Counter = 9\n",
      "Epoch 292/300\n"
     ]
    },
    {
     "name": "stderr",
     "output_type": "stream",
     "text": [
      "100%|██████████| 207/207 [01:04<00:00,  3.23it/s]\n",
      "100%|██████████| 13/13 [00:12<00:00,  1.06it/s]\n",
      "100%|██████████| 33/33 [00:09<00:00,  3.38it/s]\n"
     ]
    },
    {
     "name": "stdout",
     "output_type": "stream",
     "text": [
      "1m 26s\n",
      "Early Stopping Counter = 10\n",
      "Epoch 293/300\n"
     ]
    },
    {
     "name": "stderr",
     "output_type": "stream",
     "text": [
      "100%|██████████| 207/207 [01:04<00:00,  3.22it/s]\n",
      "100%|██████████| 13/13 [00:12<00:00,  1.06it/s]\n",
      "100%|██████████| 33/33 [00:09<00:00,  3.48it/s]\n"
     ]
    },
    {
     "name": "stdout",
     "output_type": "stream",
     "text": [
      "1m 26s\n",
      "Early Stopping Counter = 11\n",
      "Epoch 294/300\n"
     ]
    },
    {
     "name": "stderr",
     "output_type": "stream",
     "text": [
      "100%|██████████| 207/207 [01:04<00:00,  3.22it/s]\n",
      "100%|██████████| 13/13 [00:12<00:00,  1.06it/s]\n",
      "100%|██████████| 33/33 [00:10<00:00,  3.24it/s]\n"
     ]
    },
    {
     "name": "stdout",
     "output_type": "stream",
     "text": [
      "1m 27s\n",
      "Early Stopping Counter = 12\n",
      "Epoch 295/300\n"
     ]
    },
    {
     "name": "stderr",
     "output_type": "stream",
     "text": [
      "100%|██████████| 207/207 [01:04<00:00,  3.23it/s]\n",
      "100%|██████████| 13/13 [00:12<00:00,  1.06it/s]\n",
      "100%|██████████| 33/33 [00:09<00:00,  3.44it/s]\n"
     ]
    },
    {
     "name": "stdout",
     "output_type": "stream",
     "text": [
      "1m 26s\n",
      "Consistency Loss declined to 0.03323778438453491\n",
      "Early Stopping Counter = 0\n",
      "Epoch 296/300\n"
     ]
    },
    {
     "name": "stderr",
     "output_type": "stream",
     "text": [
      "100%|██████████| 207/207 [01:03<00:00,  3.24it/s]\n",
      "100%|██████████| 13/13 [00:12<00:00,  1.06it/s]\n",
      "100%|██████████| 33/33 [00:09<00:00,  3.43it/s]\n"
     ]
    },
    {
     "name": "stdout",
     "output_type": "stream",
     "text": [
      "1m 26s\n",
      "Early Stopping Counter = 1\n",
      "Epoch 297/300\n"
     ]
    },
    {
     "name": "stderr",
     "output_type": "stream",
     "text": [
      "100%|██████████| 207/207 [01:04<00:00,  3.23it/s]\n",
      "100%|██████████| 13/13 [00:12<00:00,  1.05it/s]\n",
      "100%|██████████| 33/33 [00:09<00:00,  3.49it/s]\n"
     ]
    },
    {
     "name": "stdout",
     "output_type": "stream",
     "text": [
      "1m 26s\n",
      "Early Stopping Counter = 2\n",
      "Epoch 298/300\n"
     ]
    },
    {
     "name": "stderr",
     "output_type": "stream",
     "text": [
      "100%|██████████| 207/207 [01:04<00:00,  3.23it/s]\n",
      "100%|██████████| 13/13 [00:12<00:00,  1.04it/s]\n",
      "100%|██████████| 33/33 [00:09<00:00,  3.37it/s]\n"
     ]
    },
    {
     "name": "stdout",
     "output_type": "stream",
     "text": [
      "1m 26s\n",
      "Early Stopping Counter = 3\n",
      "Epoch 299/300\n"
     ]
    },
    {
     "name": "stderr",
     "output_type": "stream",
     "text": [
      "100%|██████████| 207/207 [01:04<00:00,  3.22it/s]\n",
      "100%|██████████| 13/13 [00:12<00:00,  1.06it/s]\n",
      "100%|██████████| 33/33 [00:09<00:00,  3.44it/s]\n"
     ]
    },
    {
     "name": "stdout",
     "output_type": "stream",
     "text": [
      "1m 26s\n",
      "Early Stopping Counter = 4\n",
      "Epoch 300/300\n"
     ]
    },
    {
     "name": "stderr",
     "output_type": "stream",
     "text": [
      "100%|██████████| 207/207 [01:04<00:00,  3.22it/s]\n",
      "100%|██████████| 13/13 [00:12<00:00,  1.07it/s]\n",
      "100%|██████████| 33/33 [00:09<00:00,  3.39it/s]\n"
     ]
    },
    {
     "name": "stdout",
     "output_type": "stream",
     "text": [
      "1m 26s\n",
      "Early Stopping Counter = 5\n"
     ]
    },
    {
     "name": "stderr",
     "output_type": "stream",
     "text": [
      "100%|██████████| 2/2 [00:15<00:00,  7.92s/it]\n",
      " 93%|█████████▎| 13/14 [02:08<00:09,  9.89s/it]\n",
      "100%|██████████| 891/891 [01:33<00:00,  9.50it/s]\n"
     ]
    }
   ],
   "source": [
    "# Uncertainty-based Self-Training\n",
    "project = \"240119\"\n",
    "folnames = [project+\"_iter1\", project+\"_iter2\", project+\"_iter3\", project+\"_iter4\", project+\"_iter5\"]\n",
    "os.makedirs('results/'+ project +'_results', exist_ok=True)\n",
    "csv_filename = 'results/'+project+'_results/results.csv'\n",
    "with open(csv_filename, mode='w', newline='') as file:\n",
    "    writer = csv.writer(file)\n",
    "    writer.writerow(['Iteration', 'F1-Score', 'Accuracy', 'Specificity', 'Recall', 'Precision'])\n",
    "\n",
    "for i in range(len(folnames)):\n",
    "    if i==0:\n",
    "        # train(former_folname=\"hoge\", folname=folnames[i], first=True, net=\"deeplab\", epochs=300, batch_size=64, cons_reg=False)\n",
    "        scores = inference(former_folname=\"hoge\", folname=folnames[i], net=\"deeplab\", batch_size=64)\n",
    "        write_to_csv(i+1, scores, csv_filename)\n",
    "        save_mask(former_folname=\"hoge\", folname=folnames[i], net=\"deeplab\", batch_size=64, save_num=None)\n",
    "    else:\n",
    "        train(former_folname=folnames[i-1], folname=folnames[i], first=False, net=\"deeplab\", epochs=300, batch_size=64, alpha=100, cons_reg=True)\n",
    "        scores = inference(former_folname=folnames[i-1], folname=folnames[i], net=\"deeplab\", batch_size=64)\n",
    "        write_to_csv(i+1, scores, csv_filename)\n",
    "        save_mask(former_folname=folnames[i-1], folname=folnames[i], net=\"deeplab\", batch_size=64, save_num=None)"
   ]
  },
  {
   "cell_type": "code",
   "execution_count": null,
   "metadata": {},
   "outputs": [],
   "source": [
    "# Supervised Learning\n",
    "project = \"240117sup2\"\n",
    "folname = project + '_iter1'\n",
    "os.makedirs('results/'+ project +'_results', exist_ok=True)\n",
    "csv_filename = 'results/'+project+'_results/results.csv'\n",
    "with open(csv_filename, mode='w', newline='') as file:\n",
    "    writer = csv.writer(file)\n",
    "    writer.writerow(['Iteration', 'F1-Score', 'Accuracy', 'Specificity', 'Recall', 'Precision'])\n",
    "\n",
    "train(former_folname=\"hoge\", folname=folname, first=True, net=\"unet\", epochs=1000, batch_size=64, supervised=True)\n",
    "scores = inference(former_folname=\"hoge\", folname=folname, net=\"unet\", batch_size=64, supervised=True)\n",
    "write_to_csv(1, scores, csv_filename)"
   ]
  },
  {
   "cell_type": "code",
   "execution_count": null,
   "metadata": {},
   "outputs": [],
   "source": []
  },
  {
   "cell_type": "code",
   "execution_count": null,
   "metadata": {},
   "outputs": [],
   "source": [
    "import random\n",
    "\n",
    "# ランダムな並びの情報を保存\n",
    "shuffle_indices = list(range(5292))\n",
    "random.shuffle(shuffle_indices)\n",
    "\n",
    "# shuffle_indicesをファイルに保存するなど、情報を保存する方法を選びます\n",
    "with open(\"shuffle_indices.txt\", \"w\") as file:\n",
    "    file.write(\" \".join(map(str, shuffle_indices)))"
   ]
  },
  {
   "cell_type": "code",
   "execution_count": null,
   "metadata": {},
   "outputs": [],
   "source": [
    "meanlst = os.listdir(\"data/unlabeled_mask/231021_iter1/pred_mean_corrected/\")\n",
    "varlst = os.listdir(\"data/unlabeled_mask/231021_iter1/pred_var/\")\n",
    "print(len(meanlst))\n",
    "print(len(varlst))"
   ]
  },
  {
   "cell_type": "code",
   "execution_count": null,
   "metadata": {},
   "outputs": [],
   "source": [
    "import numpy as np\n",
    "from PIL import Image\n",
    "meanlst = os.listdir(\"data/unlabeled_mask/231021_iter1/pred_mean_corrected/\")\n",
    "varlst = os.listdir(\"data/unlabeled_mask/231021_iter1/pred_var/\")\n",
    "\n",
    "# # 各画像を処理\n",
    "for file_name in meanlst:\n",
    "    file_path = os.path.join(\"data/unlabeled_mask/231021_iter1/pred_mean_corrected\", file_name)\n",
    "    \n",
    "    # 画像をnumpy配列に読み込む\n",
    "    img = np.array(Image.open(file_path))\n",
    "    \n",
    "    # 画像サイズが256x256でない場合、警告を表示\n",
    "    if img.shape != (256, 256):\n",
    "        print(f\"異なるサイズの画像: {file_name}, サイズ: {img.shape}\")"
   ]
  },
  {
   "cell_type": "code",
   "execution_count": null,
   "metadata": {},
   "outputs": [],
   "source": [
    "import os\n",
    "import torch\n",
    "\n",
    "# フォルダのパス\n",
    "folder_path = \"data/unlabeled_mask/231021_iter1/pred_var/\"\n",
    "\n",
    "# フォルダ内の全ての.ptファイルをリストアップ\n",
    "pt_files = [f for f in os.listdir(folder_path) if f.endswith(\".pt\")]\n",
    "\n",
    "# 各ファイルを処理\n",
    "for file_name in pt_files:\n",
    "    file_path = os.path.join(folder_path, file_name)\n",
    "    \n",
    "    # PyTorch tensorを読み込む\n",
    "    tensor = torch.load(file_path)\n",
    "    \n",
    "    # 配列サイズが(256, 256)でない場合、警告を表示\n",
    "    if tensor.size() != torch.Size([256, 256]):\n",
    "        print(f\"異なるサイズのPyTorch tensor: {file_name}, サイズ: {tensor.size()}\")\n"
   ]
  },
  {
   "cell_type": "code",
   "execution_count": null,
   "metadata": {},
   "outputs": [],
   "source": [
    "import torch\n",
    "import glob\n",
    "\n",
    "fol_name = \"231107_iter3\"\n",
    "\n",
    "# pred_varを全て読み込み、torch.meanとtorch.maxの平均を計算する\n",
    "pred_var_path = sorted(glob.glob(f'data/unlabeled_mask/{fol_name}/pred_var/*'))\n",
    "mean_box = []\n",
    "max_box = []\n",
    "\n",
    "for file in pred_var_path:\n",
    "    pred_var = torch.load(file)\n",
    "    mean_box.append(torch.mean(pred_var).item())\n",
    "    max_box.append(torch.max(pred_var).item())\n",
    "\n",
    "print(sum(mean_box)/len(mean_box))\n",
    "print(sum(max_box)/len(max_box))"
   ]
  },
  {
   "cell_type": "code",
   "execution_count": null,
   "metadata": {},
   "outputs": [],
   "source": [
    "import matplotlib.pyplot as plt\n",
    "import cv2\n",
    "from PIL import Image\n",
    "# Targetデータでの出力を表示\n",
    "target_filepaths = glob.glob(\"data/Train/images/Rissbilder*\")\n",
    "target_filenames = [p.lstrip(\"data/Train/images/\") for p in target_filepaths]\n",
    "\n",
    "\n",
    "# 10行4列のサブプロットを作成\n",
    "fig, axes = plt.subplots(10, 4, figsize=(10, 20))\n",
    "\n",
    "# 画像をサブプロットに配置\n",
    "for i in range(10):\n",
    "    axes[i, 0].imshow(Image.open(\"data/Train/images/\"+target_filenames[i]))\n",
    "    axes[i, 0].axis('off')\n",
    "    axes[i, 1].imshow(Image.open(\"data/unlabeled_mask/231107_iter1/pred_mean_corrected/\"+target_filenames[i]), cmap='gray')\n",
    "    axes[i, 1].axis('off')\n",
    "    axes[i, 2].imshow(torch.load(\"data/unlabeled_mask/231107_iter1/pred_var/\"+target_filenames[i].rstrip('jpg')+\"pt\"), cmap='gray')\n",
    "    axes[i, 2].axis('off')\n",
    "    axes[i, 3].imshow(Image.open(\"data/Train/masks/\"+target_filenames[i]))\n",
    "    axes[i, 3].axis('off')\n",
    "\n",
    "# グリッドの余白を調整\n",
    "plt.subplots_adjust(wspace=0, hspace=0)\n",
    "\n",
    "# グリッドを表示\n",
    "plt.show()\n",
    "\n",
    "# Train/images/Rissbilder/ pred_mean_corrected, pred_var, Train/masks/Rissbilder"
   ]
  },
  {
   "cell_type": "code",
   "execution_count": null,
   "metadata": {},
   "outputs": [],
   "source": []
  }
 ],
 "metadata": {
  "kernelspec": {
   "display_name": "env",
   "language": "python",
   "name": "python3"
  },
  "language_info": {
   "codemirror_mode": {
    "name": "ipython",
    "version": 3
   },
   "file_extension": ".py",
   "mimetype": "text/x-python",
   "name": "python",
   "nbconvert_exporter": "python",
   "pygments_lexer": "ipython3",
   "version": "3.10.9"
  }
 },
 "nbformat": 4,
 "nbformat_minor": 2
}
