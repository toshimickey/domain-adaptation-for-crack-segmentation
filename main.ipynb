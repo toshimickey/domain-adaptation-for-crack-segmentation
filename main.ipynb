{
 "cells": [
  {
   "cell_type": "code",
   "execution_count": null,
   "metadata": {},
   "outputs": [],
   "source": [
    "from train import train\n",
    "from inference import inference\n",
    "from save_mask import save_mask\n",
    "import csv, os\n",
    "from utils.module import write_to_csv"
   ]
  },
  {
   "cell_type": "code",
   "execution_count": null,
   "metadata": {},
   "outputs": [],
   "source": [
    "!nvidia-smi"
   ]
  },
  {
   "cell_type": "code",
   "execution_count": 4,
   "metadata": {},
   "outputs": [
    {
     "name": "stderr",
     "output_type": "stream",
     "text": [
      "100%|██████████| 155/155 [00:46<00:00,  3.36it/s]\n",
      "100%|██████████| 17/17 [00:09<00:00,  1.71it/s]\n",
      "100%|██████████| 18/18 [00:05<00:00,  3.36it/s]\n"
     ]
    },
    {
     "name": "stdout",
     "output_type": "stream",
     "text": [
      "1m 1s\n",
      "Early Stopping Counter = 9\n",
      "Epoch 217/300\n"
     ]
    },
    {
     "name": "stderr",
     "output_type": "stream",
     "text": [
      "100%|██████████| 155/155 [00:46<00:00,  3.35it/s]\n",
      "100%|██████████| 17/17 [00:10<00:00,  1.70it/s]\n",
      "100%|██████████| 18/18 [00:05<00:00,  3.25it/s]\n"
     ]
    },
    {
     "name": "stdout",
     "output_type": "stream",
     "text": [
      "1m 2s\n",
      "Early Stopping Counter = 10\n",
      "Epoch 218/300\n"
     ]
    },
    {
     "name": "stderr",
     "output_type": "stream",
     "text": [
      "100%|██████████| 155/155 [00:46<00:00,  3.36it/s]\n",
      "100%|██████████| 17/17 [00:10<00:00,  1.68it/s]\n",
      "100%|██████████| 18/18 [00:05<00:00,  3.22it/s]\n"
     ]
    },
    {
     "name": "stdout",
     "output_type": "stream",
     "text": [
      "1m 2s\n",
      "Early Stopping Counter = 11\n",
      "Epoch 219/300\n"
     ]
    },
    {
     "name": "stderr",
     "output_type": "stream",
     "text": [
      "100%|██████████| 155/155 [00:46<00:00,  3.36it/s]\n",
      "100%|██████████| 17/17 [00:10<00:00,  1.66it/s]\n",
      "100%|██████████| 18/18 [00:05<00:00,  3.28it/s]\n"
     ]
    },
    {
     "name": "stdout",
     "output_type": "stream",
     "text": [
      "1m 2s\n",
      "Early Stopping Counter = 12\n",
      "Epoch 220/300\n"
     ]
    },
    {
     "name": "stderr",
     "output_type": "stream",
     "text": [
      "100%|██████████| 155/155 [00:46<00:00,  3.36it/s]\n",
      "100%|██████████| 17/17 [00:10<00:00,  1.70it/s]\n",
      "100%|██████████| 18/18 [00:05<00:00,  3.26it/s]\n"
     ]
    },
    {
     "name": "stdout",
     "output_type": "stream",
     "text": [
      "1m 2s\n",
      "Early Stopping Counter = 13\n",
      "Epoch 221/300\n"
     ]
    },
    {
     "name": "stderr",
     "output_type": "stream",
     "text": [
      "100%|██████████| 155/155 [00:46<00:00,  3.36it/s]\n",
      "100%|██████████| 17/17 [00:09<00:00,  1.73it/s]\n",
      "100%|██████████| 18/18 [00:05<00:00,  3.29it/s]\n"
     ]
    },
    {
     "name": "stdout",
     "output_type": "stream",
     "text": [
      "1m 1s\n",
      "Early Stopping Counter = 14\n",
      "Epoch 222/300\n"
     ]
    },
    {
     "name": "stderr",
     "output_type": "stream",
     "text": [
      "100%|██████████| 155/155 [00:46<00:00,  3.37it/s]\n",
      "100%|██████████| 17/17 [00:10<00:00,  1.66it/s]\n",
      "100%|██████████| 18/18 [00:05<00:00,  3.36it/s]\n"
     ]
    },
    {
     "name": "stdout",
     "output_type": "stream",
     "text": [
      "1m 2s\n",
      "Early Stopping Counter = 15\n",
      "Epoch 223/300\n"
     ]
    },
    {
     "name": "stderr",
     "output_type": "stream",
     "text": [
      "100%|██████████| 155/155 [00:46<00:00,  3.36it/s]\n",
      "100%|██████████| 17/17 [00:10<00:00,  1.68it/s]\n",
      "100%|██████████| 18/18 [00:05<00:00,  3.25it/s]\n"
     ]
    },
    {
     "name": "stdout",
     "output_type": "stream",
     "text": [
      "1m 2s\n",
      "Early Stopping Counter = 16\n",
      "Epoch 224/300\n"
     ]
    },
    {
     "name": "stderr",
     "output_type": "stream",
     "text": [
      "100%|██████████| 155/155 [00:46<00:00,  3.36it/s]\n",
      "100%|██████████| 17/17 [00:10<00:00,  1.67it/s]\n",
      "100%|██████████| 18/18 [00:05<00:00,  3.24it/s]\n"
     ]
    },
    {
     "name": "stdout",
     "output_type": "stream",
     "text": [
      "1m 2s\n",
      "Early Stopping Counter = 17\n",
      "Epoch 225/300\n"
     ]
    },
    {
     "name": "stderr",
     "output_type": "stream",
     "text": [
      "100%|██████████| 155/155 [00:46<00:00,  3.35it/s]\n",
      "100%|██████████| 17/17 [00:10<00:00,  1.69it/s]\n",
      "100%|██████████| 18/18 [00:05<00:00,  3.29it/s]\n"
     ]
    },
    {
     "name": "stdout",
     "output_type": "stream",
     "text": [
      "1m 2s\n",
      "Early Stopping Counter = 18\n",
      "Epoch 226/300\n"
     ]
    },
    {
     "name": "stderr",
     "output_type": "stream",
     "text": [
      "100%|██████████| 155/155 [00:46<00:00,  3.36it/s]\n",
      "100%|██████████| 17/17 [00:10<00:00,  1.68it/s]\n",
      "100%|██████████| 18/18 [00:05<00:00,  3.25it/s]\n"
     ]
    },
    {
     "name": "stdout",
     "output_type": "stream",
     "text": [
      "1m 2s\n",
      "Early Stopping Counter = 19\n",
      "Epoch 227/300\n"
     ]
    },
    {
     "name": "stderr",
     "output_type": "stream",
     "text": [
      "100%|██████████| 155/155 [00:46<00:00,  3.36it/s]\n",
      "100%|██████████| 17/17 [00:10<00:00,  1.70it/s]\n",
      "100%|██████████| 18/18 [00:05<00:00,  3.35it/s]\n"
     ]
    },
    {
     "name": "stdout",
     "output_type": "stream",
     "text": [
      "1m 2s\n",
      "Early Stopping Counter = 20\n",
      "Epoch 228/300\n"
     ]
    },
    {
     "name": "stderr",
     "output_type": "stream",
     "text": [
      "100%|██████████| 155/155 [00:46<00:00,  3.36it/s]\n",
      "100%|██████████| 17/17 [00:09<00:00,  1.70it/s]\n",
      "100%|██████████| 18/18 [00:05<00:00,  3.30it/s]\n"
     ]
    },
    {
     "name": "stdout",
     "output_type": "stream",
     "text": [
      "1m 2s\n",
      "Early Stopping Counter = 21\n",
      "Epoch 229/300\n"
     ]
    },
    {
     "name": "stderr",
     "output_type": "stream",
     "text": [
      "100%|██████████| 155/155 [00:46<00:00,  3.36it/s]\n",
      "100%|██████████| 17/17 [00:09<00:00,  1.70it/s]\n",
      "100%|██████████| 18/18 [00:05<00:00,  3.35it/s]\n"
     ]
    },
    {
     "name": "stdout",
     "output_type": "stream",
     "text": [
      "1m 1s\n",
      "Consistency Loss declined to 0.005756782381521428\n",
      "Early Stopping Counter = 0\n",
      "Epoch 230/300\n"
     ]
    },
    {
     "name": "stderr",
     "output_type": "stream",
     "text": [
      "100%|██████████| 155/155 [00:46<00:00,  3.34it/s]\n",
      "100%|██████████| 17/17 [00:10<00:00,  1.69it/s]\n",
      "100%|██████████| 18/18 [00:05<00:00,  3.27it/s]\n"
     ]
    },
    {
     "name": "stdout",
     "output_type": "stream",
     "text": [
      "1m 2s\n",
      "Consistency Loss declined to 0.005568227675907752\n",
      "Early Stopping Counter = 0\n",
      "Epoch 231/300\n"
     ]
    },
    {
     "name": "stderr",
     "output_type": "stream",
     "text": [
      "100%|██████████| 155/155 [00:46<00:00,  3.34it/s]\n",
      "100%|██████████| 17/17 [00:10<00:00,  1.70it/s]\n",
      "100%|██████████| 18/18 [00:05<00:00,  3.27it/s]\n"
     ]
    },
    {
     "name": "stdout",
     "output_type": "stream",
     "text": [
      "1m 2s\n",
      "Consistency Loss declined to 0.005502666319336961\n",
      "Early Stopping Counter = 0\n",
      "Epoch 232/300\n"
     ]
    },
    {
     "name": "stderr",
     "output_type": "stream",
     "text": [
      "100%|██████████| 155/155 [00:46<00:00,  3.32it/s]\n",
      "100%|██████████| 17/17 [00:09<00:00,  1.71it/s]\n",
      "100%|██████████| 18/18 [00:05<00:00,  3.29it/s]\n"
     ]
    },
    {
     "name": "stdout",
     "output_type": "stream",
     "text": [
      "1m 2s\n",
      "Early Stopping Counter = 1\n",
      "Epoch 233/300\n"
     ]
    },
    {
     "name": "stderr",
     "output_type": "stream",
     "text": [
      "100%|██████████| 155/155 [00:46<00:00,  3.32it/s]\n",
      "100%|██████████| 17/17 [00:10<00:00,  1.69it/s]\n",
      "100%|██████████| 18/18 [00:05<00:00,  3.31it/s]\n"
     ]
    },
    {
     "name": "stdout",
     "output_type": "stream",
     "text": [
      "1m 2s\n",
      "Early Stopping Counter = 2\n",
      "Epoch 234/300\n"
     ]
    },
    {
     "name": "stderr",
     "output_type": "stream",
     "text": [
      "100%|██████████| 155/155 [00:46<00:00,  3.34it/s]\n",
      "100%|██████████| 17/17 [00:10<00:00,  1.69it/s]\n",
      "100%|██████████| 18/18 [00:05<00:00,  3.27it/s]\n"
     ]
    },
    {
     "name": "stdout",
     "output_type": "stream",
     "text": [
      "1m 2s\n",
      "Early Stopping Counter = 3\n",
      "Epoch 235/300\n"
     ]
    },
    {
     "name": "stderr",
     "output_type": "stream",
     "text": [
      "100%|██████████| 155/155 [00:46<00:00,  3.36it/s]\n",
      "100%|██████████| 17/17 [00:10<00:00,  1.68it/s]\n",
      "100%|██████████| 18/18 [00:05<00:00,  3.27it/s]\n"
     ]
    },
    {
     "name": "stdout",
     "output_type": "stream",
     "text": [
      "1m 2s\n",
      "Early Stopping Counter = 4\n",
      "Epoch 236/300\n"
     ]
    },
    {
     "name": "stderr",
     "output_type": "stream",
     "text": [
      "100%|██████████| 155/155 [00:46<00:00,  3.34it/s]\n",
      "100%|██████████| 17/17 [00:10<00:00,  1.68it/s]\n",
      "100%|██████████| 18/18 [00:05<00:00,  3.34it/s]\n"
     ]
    },
    {
     "name": "stdout",
     "output_type": "stream",
     "text": [
      "1m 2s\n",
      "Early Stopping Counter = 5\n",
      "Epoch 237/300\n"
     ]
    },
    {
     "name": "stderr",
     "output_type": "stream",
     "text": [
      "100%|██████████| 155/155 [00:46<00:00,  3.35it/s]\n",
      "100%|██████████| 17/17 [00:10<00:00,  1.66it/s]\n",
      "100%|██████████| 18/18 [00:05<00:00,  3.27it/s]\n"
     ]
    },
    {
     "name": "stdout",
     "output_type": "stream",
     "text": [
      "1m 2s\n",
      "Early Stopping Counter = 6\n",
      "Epoch 238/300\n"
     ]
    },
    {
     "name": "stderr",
     "output_type": "stream",
     "text": [
      "100%|██████████| 155/155 [00:46<00:00,  3.35it/s]\n",
      "100%|██████████| 17/17 [00:10<00:00,  1.69it/s]\n",
      "100%|██████████| 18/18 [00:05<00:00,  3.22it/s]\n"
     ]
    },
    {
     "name": "stdout",
     "output_type": "stream",
     "text": [
      "1m 2s\n",
      "Early Stopping Counter = 7\n",
      "Epoch 239/300\n"
     ]
    },
    {
     "name": "stderr",
     "output_type": "stream",
     "text": [
      "100%|██████████| 155/155 [00:46<00:00,  3.35it/s]\n",
      "100%|██████████| 17/17 [00:10<00:00,  1.64it/s]\n",
      "100%|██████████| 18/18 [00:05<00:00,  3.23it/s]\n"
     ]
    },
    {
     "name": "stdout",
     "output_type": "stream",
     "text": [
      "1m 2s\n",
      "Early Stopping Counter = 8\n",
      "Epoch 240/300\n"
     ]
    },
    {
     "name": "stderr",
     "output_type": "stream",
     "text": [
      "100%|██████████| 155/155 [00:46<00:00,  3.35it/s]\n",
      "100%|██████████| 17/17 [00:10<00:00,  1.69it/s]\n",
      "100%|██████████| 18/18 [00:05<00:00,  3.28it/s]\n"
     ]
    },
    {
     "name": "stdout",
     "output_type": "stream",
     "text": [
      "1m 2s\n",
      "Early Stopping Counter = 9\n",
      "Epoch 241/300\n"
     ]
    },
    {
     "name": "stderr",
     "output_type": "stream",
     "text": [
      "100%|██████████| 155/155 [00:46<00:00,  3.34it/s]\n",
      "100%|██████████| 17/17 [00:10<00:00,  1.69it/s]\n",
      "100%|██████████| 18/18 [00:05<00:00,  3.27it/s]\n"
     ]
    },
    {
     "name": "stdout",
     "output_type": "stream",
     "text": [
      "1m 2s\n",
      "Early Stopping Counter = 10\n",
      "Epoch 242/300\n"
     ]
    },
    {
     "name": "stderr",
     "output_type": "stream",
     "text": [
      "100%|██████████| 155/155 [00:46<00:00,  3.35it/s]\n",
      "100%|██████████| 17/17 [00:09<00:00,  1.71it/s]\n",
      "100%|██████████| 18/18 [00:05<00:00,  3.26it/s]\n"
     ]
    },
    {
     "name": "stdout",
     "output_type": "stream",
     "text": [
      "1m 2s\n",
      "Early Stopping Counter = 11\n",
      "Epoch 243/300\n"
     ]
    },
    {
     "name": "stderr",
     "output_type": "stream",
     "text": [
      "100%|██████████| 155/155 [00:46<00:00,  3.35it/s]\n",
      "100%|██████████| 17/17 [00:10<00:00,  1.67it/s]\n",
      "100%|██████████| 18/18 [00:05<00:00,  3.29it/s]\n"
     ]
    },
    {
     "name": "stdout",
     "output_type": "stream",
     "text": [
      "1m 2s\n",
      "Consistency Loss declined to 0.005288082846056889\n",
      "Early Stopping Counter = 0\n",
      "Epoch 244/300\n"
     ]
    },
    {
     "name": "stderr",
     "output_type": "stream",
     "text": [
      "100%|██████████| 155/155 [00:46<00:00,  3.33it/s]\n",
      "100%|██████████| 17/17 [00:10<00:00,  1.68it/s]\n",
      "100%|██████████| 18/18 [00:05<00:00,  3.21it/s]\n"
     ]
    },
    {
     "name": "stdout",
     "output_type": "stream",
     "text": [
      "1m 2s\n",
      "Early Stopping Counter = 1\n",
      "Epoch 245/300\n"
     ]
    },
    {
     "name": "stderr",
     "output_type": "stream",
     "text": [
      "100%|██████████| 155/155 [00:46<00:00,  3.35it/s]\n",
      "100%|██████████| 17/17 [00:10<00:00,  1.70it/s]\n",
      "100%|██████████| 18/18 [00:05<00:00,  3.31it/s]\n"
     ]
    },
    {
     "name": "stdout",
     "output_type": "stream",
     "text": [
      "1m 2s\n",
      "Early Stopping Counter = 2\n",
      "Epoch 246/300\n"
     ]
    },
    {
     "name": "stderr",
     "output_type": "stream",
     "text": [
      "100%|██████████| 155/155 [00:46<00:00,  3.36it/s]\n",
      "100%|██████████| 17/17 [00:10<00:00,  1.70it/s]\n",
      "100%|██████████| 18/18 [00:05<00:00,  3.31it/s]\n"
     ]
    },
    {
     "name": "stdout",
     "output_type": "stream",
     "text": [
      "1m 2s\n",
      "Early Stopping Counter = 3\n",
      "Epoch 247/300\n"
     ]
    },
    {
     "name": "stderr",
     "output_type": "stream",
     "text": [
      "100%|██████████| 155/155 [00:46<00:00,  3.36it/s]\n",
      "100%|██████████| 17/17 [00:10<00:00,  1.70it/s]\n",
      "100%|██████████| 18/18 [00:05<00:00,  3.26it/s]\n"
     ]
    },
    {
     "name": "stdout",
     "output_type": "stream",
     "text": [
      "1m 2s\n",
      "Early Stopping Counter = 4\n",
      "Epoch 248/300\n"
     ]
    },
    {
     "name": "stderr",
     "output_type": "stream",
     "text": [
      "100%|██████████| 155/155 [00:46<00:00,  3.36it/s]\n",
      "100%|██████████| 17/17 [00:10<00:00,  1.70it/s]\n",
      "100%|██████████| 18/18 [00:05<00:00,  3.34it/s]\n"
     ]
    },
    {
     "name": "stdout",
     "output_type": "stream",
     "text": [
      "1m 2s\n",
      "Early Stopping Counter = 5\n",
      "Epoch 249/300\n"
     ]
    },
    {
     "name": "stderr",
     "output_type": "stream",
     "text": [
      "100%|██████████| 155/155 [00:46<00:00,  3.36it/s]\n",
      "100%|██████████| 17/17 [00:10<00:00,  1.69it/s]\n",
      "100%|██████████| 18/18 [00:05<00:00,  3.29it/s]\n"
     ]
    },
    {
     "name": "stdout",
     "output_type": "stream",
     "text": [
      "1m 2s\n",
      "Early Stopping Counter = 6\n",
      "Epoch 250/300\n"
     ]
    },
    {
     "name": "stderr",
     "output_type": "stream",
     "text": [
      "100%|██████████| 155/155 [00:46<00:00,  3.36it/s]\n",
      "100%|██████████| 17/17 [00:10<00:00,  1.64it/s]\n",
      "100%|██████████| 18/18 [00:05<00:00,  3.33it/s]\n"
     ]
    },
    {
     "name": "stdout",
     "output_type": "stream",
     "text": [
      "1m 2s\n",
      "Early Stopping Counter = 7\n",
      "Epoch 251/300\n"
     ]
    },
    {
     "name": "stderr",
     "output_type": "stream",
     "text": [
      "100%|██████████| 155/155 [00:46<00:00,  3.36it/s]\n",
      "100%|██████████| 17/17 [00:10<00:00,  1.69it/s]\n",
      "100%|██████████| 18/18 [00:05<00:00,  3.21it/s]\n"
     ]
    },
    {
     "name": "stdout",
     "output_type": "stream",
     "text": [
      "1m 2s\n",
      "Early Stopping Counter = 8\n",
      "Epoch 252/300\n"
     ]
    },
    {
     "name": "stderr",
     "output_type": "stream",
     "text": [
      "100%|██████████| 155/155 [00:46<00:00,  3.36it/s]\n",
      "100%|██████████| 17/17 [00:10<00:00,  1.69it/s]\n",
      "100%|██████████| 18/18 [00:05<00:00,  3.27it/s]\n"
     ]
    },
    {
     "name": "stdout",
     "output_type": "stream",
     "text": [
      "1m 2s\n",
      "Early Stopping Counter = 9\n",
      "Epoch 253/300\n"
     ]
    },
    {
     "name": "stderr",
     "output_type": "stream",
     "text": [
      "100%|██████████| 155/155 [00:46<00:00,  3.37it/s]\n",
      "100%|██████████| 17/17 [00:10<00:00,  1.69it/s]\n",
      "100%|██████████| 18/18 [00:05<00:00,  3.34it/s]\n"
     ]
    },
    {
     "name": "stdout",
     "output_type": "stream",
     "text": [
      "1m 2s\n",
      "Early Stopping Counter = 10\n",
      "Epoch 254/300\n"
     ]
    },
    {
     "name": "stderr",
     "output_type": "stream",
     "text": [
      "100%|██████████| 155/155 [00:46<00:00,  3.37it/s]\n",
      "100%|██████████| 17/17 [00:10<00:00,  1.70it/s]\n",
      "100%|██████████| 18/18 [00:05<00:00,  3.33it/s]\n"
     ]
    },
    {
     "name": "stdout",
     "output_type": "stream",
     "text": [
      "1m 1s\n",
      "Consistency Loss declined to 0.005274452282773221\n",
      "Early Stopping Counter = 0\n",
      "Epoch 255/300\n"
     ]
    },
    {
     "name": "stderr",
     "output_type": "stream",
     "text": [
      "100%|██████████| 155/155 [00:46<00:00,  3.34it/s]\n",
      "100%|██████████| 17/17 [00:09<00:00,  1.71it/s]\n",
      "100%|██████████| 18/18 [00:05<00:00,  3.33it/s]\n"
     ]
    },
    {
     "name": "stdout",
     "output_type": "stream",
     "text": [
      "1m 2s\n",
      "Early Stopping Counter = 1\n",
      "Epoch 256/300\n"
     ]
    },
    {
     "name": "stderr",
     "output_type": "stream",
     "text": [
      "100%|██████████| 155/155 [00:46<00:00,  3.37it/s]\n",
      "100%|██████████| 17/17 [00:09<00:00,  1.71it/s]\n",
      "100%|██████████| 18/18 [00:05<00:00,  3.27it/s]\n"
     ]
    },
    {
     "name": "stdout",
     "output_type": "stream",
     "text": [
      "1m 1s\n",
      "Early Stopping Counter = 2\n",
      "Epoch 257/300\n"
     ]
    },
    {
     "name": "stderr",
     "output_type": "stream",
     "text": [
      "100%|██████████| 155/155 [00:46<00:00,  3.37it/s]\n",
      "100%|██████████| 17/17 [00:10<00:00,  1.70it/s]\n",
      "100%|██████████| 18/18 [00:05<00:00,  3.33it/s]\n"
     ]
    },
    {
     "name": "stdout",
     "output_type": "stream",
     "text": [
      "1m 1s\n",
      "Early Stopping Counter = 3\n",
      "Epoch 258/300\n"
     ]
    },
    {
     "name": "stderr",
     "output_type": "stream",
     "text": [
      "100%|██████████| 155/155 [00:46<00:00,  3.37it/s]\n",
      "100%|██████████| 17/17 [00:10<00:00,  1.69it/s]\n",
      "100%|██████████| 18/18 [00:05<00:00,  3.25it/s]\n"
     ]
    },
    {
     "name": "stdout",
     "output_type": "stream",
     "text": [
      "1m 2s\n",
      "Early Stopping Counter = 4\n",
      "Epoch 259/300\n"
     ]
    },
    {
     "name": "stderr",
     "output_type": "stream",
     "text": [
      "100%|██████████| 155/155 [00:46<00:00,  3.36it/s]\n",
      "100%|██████████| 17/17 [00:10<00:00,  1.70it/s]\n",
      "100%|██████████| 18/18 [00:05<00:00,  3.26it/s]\n"
     ]
    },
    {
     "name": "stdout",
     "output_type": "stream",
     "text": [
      "1m 2s\n",
      "Early Stopping Counter = 5\n",
      "Epoch 260/300\n"
     ]
    },
    {
     "name": "stderr",
     "output_type": "stream",
     "text": [
      "100%|██████████| 155/155 [00:46<00:00,  3.36it/s]\n",
      "100%|██████████| 17/17 [00:10<00:00,  1.68it/s]\n",
      "100%|██████████| 18/18 [00:05<00:00,  3.21it/s]\n"
     ]
    },
    {
     "name": "stdout",
     "output_type": "stream",
     "text": [
      "1m 2s\n",
      "Early Stopping Counter = 6\n",
      "Epoch 261/300\n"
     ]
    },
    {
     "name": "stderr",
     "output_type": "stream",
     "text": [
      "100%|██████████| 155/155 [00:46<00:00,  3.36it/s]\n",
      "100%|██████████| 17/17 [00:10<00:00,  1.70it/s]\n",
      "100%|██████████| 18/18 [00:05<00:00,  3.23it/s]\n"
     ]
    },
    {
     "name": "stdout",
     "output_type": "stream",
     "text": [
      "1m 2s\n",
      "Consistency Loss declined to 0.00511517416795387\n",
      "Early Stopping Counter = 0\n",
      "Epoch 262/300\n"
     ]
    },
    {
     "name": "stderr",
     "output_type": "stream",
     "text": [
      "100%|██████████| 155/155 [00:46<00:00,  3.34it/s]\n",
      "100%|██████████| 17/17 [00:09<00:00,  1.71it/s]\n",
      "100%|██████████| 18/18 [00:05<00:00,  3.28it/s]\n"
     ]
    },
    {
     "name": "stdout",
     "output_type": "stream",
     "text": [
      "1m 2s\n",
      "Early Stopping Counter = 1\n",
      "Epoch 263/300\n"
     ]
    },
    {
     "name": "stderr",
     "output_type": "stream",
     "text": [
      "100%|██████████| 155/155 [00:46<00:00,  3.35it/s]\n",
      "100%|██████████| 17/17 [00:10<00:00,  1.69it/s]\n",
      "100%|██████████| 18/18 [00:05<00:00,  3.27it/s]\n"
     ]
    },
    {
     "name": "stdout",
     "output_type": "stream",
     "text": [
      "1m 2s\n",
      "Consistency Loss declined to 0.005101172321969096\n",
      "Early Stopping Counter = 0\n",
      "Epoch 264/300\n"
     ]
    },
    {
     "name": "stderr",
     "output_type": "stream",
     "text": [
      "100%|██████████| 155/155 [00:46<00:00,  3.34it/s]\n",
      "100%|██████████| 17/17 [00:10<00:00,  1.69it/s]\n",
      "100%|██████████| 18/18 [00:05<00:00,  3.33it/s]\n"
     ]
    },
    {
     "name": "stdout",
     "output_type": "stream",
     "text": [
      "1m 2s\n",
      "Early Stopping Counter = 1\n",
      "Epoch 265/300\n"
     ]
    },
    {
     "name": "stderr",
     "output_type": "stream",
     "text": [
      "100%|██████████| 155/155 [00:46<00:00,  3.36it/s]\n",
      "100%|██████████| 17/17 [00:10<00:00,  1.66it/s]\n",
      "100%|██████████| 18/18 [00:05<00:00,  3.36it/s]\n"
     ]
    },
    {
     "name": "stdout",
     "output_type": "stream",
     "text": [
      "1m 2s\n",
      "Consistency Loss declined to 0.004979403579936308\n",
      "Early Stopping Counter = 0\n",
      "Epoch 266/300\n"
     ]
    },
    {
     "name": "stderr",
     "output_type": "stream",
     "text": [
      "100%|██████████| 155/155 [00:46<00:00,  3.34it/s]\n",
      "100%|██████████| 17/17 [00:10<00:00,  1.68it/s]\n",
      "100%|██████████| 18/18 [00:05<00:00,  3.26it/s]\n"
     ]
    },
    {
     "name": "stdout",
     "output_type": "stream",
     "text": [
      "1m 2s\n",
      "Early Stopping Counter = 1\n",
      "Epoch 267/300\n"
     ]
    },
    {
     "name": "stderr",
     "output_type": "stream",
     "text": [
      "100%|██████████| 155/155 [00:45<00:00,  3.37it/s]\n",
      "100%|██████████| 17/17 [00:10<00:00,  1.68it/s]\n",
      "100%|██████████| 18/18 [00:05<00:00,  3.26it/s]\n"
     ]
    },
    {
     "name": "stdout",
     "output_type": "stream",
     "text": [
      "1m 2s\n",
      "Early Stopping Counter = 2\n",
      "Epoch 268/300\n"
     ]
    },
    {
     "name": "stderr",
     "output_type": "stream",
     "text": [
      "100%|██████████| 155/155 [00:45<00:00,  3.37it/s]\n",
      "100%|██████████| 17/17 [00:10<00:00,  1.70it/s]\n",
      "100%|██████████| 18/18 [00:05<00:00,  3.26it/s]\n"
     ]
    },
    {
     "name": "stdout",
     "output_type": "stream",
     "text": [
      "1m 2s\n",
      "Early Stopping Counter = 3\n",
      "Epoch 269/300\n"
     ]
    },
    {
     "name": "stderr",
     "output_type": "stream",
     "text": [
      "100%|██████████| 155/155 [00:46<00:00,  3.37it/s]\n",
      "100%|██████████| 17/17 [00:10<00:00,  1.69it/s]\n",
      "100%|██████████| 18/18 [00:05<00:00,  3.32it/s]\n"
     ]
    },
    {
     "name": "stdout",
     "output_type": "stream",
     "text": [
      "1m 2s\n",
      "Early Stopping Counter = 4\n",
      "Epoch 270/300\n"
     ]
    },
    {
     "name": "stderr",
     "output_type": "stream",
     "text": [
      "100%|██████████| 155/155 [00:45<00:00,  3.37it/s]\n",
      "100%|██████████| 17/17 [00:10<00:00,  1.68it/s]\n",
      "100%|██████████| 18/18 [00:05<00:00,  3.30it/s]\n"
     ]
    },
    {
     "name": "stdout",
     "output_type": "stream",
     "text": [
      "1m 2s\n",
      "Early Stopping Counter = 5\n",
      "Epoch 271/300\n"
     ]
    },
    {
     "name": "stderr",
     "output_type": "stream",
     "text": [
      "100%|██████████| 155/155 [00:46<00:00,  3.36it/s]\n",
      "100%|██████████| 17/17 [00:10<00:00,  1.67it/s]\n",
      "100%|██████████| 18/18 [00:05<00:00,  3.28it/s]\n"
     ]
    },
    {
     "name": "stdout",
     "output_type": "stream",
     "text": [
      "1m 2s\n",
      "Early Stopping Counter = 6\n",
      "Epoch 272/300\n"
     ]
    },
    {
     "name": "stderr",
     "output_type": "stream",
     "text": [
      "100%|██████████| 155/155 [00:46<00:00,  3.37it/s]\n",
      "100%|██████████| 17/17 [00:10<00:00,  1.70it/s]\n",
      "100%|██████████| 18/18 [00:05<00:00,  3.34it/s]\n"
     ]
    },
    {
     "name": "stdout",
     "output_type": "stream",
     "text": [
      "1m 1s\n",
      "Early Stopping Counter = 7\n",
      "Epoch 273/300\n"
     ]
    },
    {
     "name": "stderr",
     "output_type": "stream",
     "text": [
      "100%|██████████| 155/155 [00:46<00:00,  3.36it/s]\n",
      "100%|██████████| 17/17 [00:10<00:00,  1.69it/s]\n",
      "100%|██████████| 18/18 [00:05<00:00,  3.28it/s]\n"
     ]
    },
    {
     "name": "stdout",
     "output_type": "stream",
     "text": [
      "1m 2s\n",
      "Consistency Loss declined to 0.004924601957421093\n",
      "Early Stopping Counter = 0\n",
      "Epoch 274/300\n"
     ]
    },
    {
     "name": "stderr",
     "output_type": "stream",
     "text": [
      "100%|██████████| 155/155 [00:46<00:00,  3.34it/s]\n",
      "100%|██████████| 17/17 [00:10<00:00,  1.68it/s]\n",
      "100%|██████████| 18/18 [00:05<00:00,  3.26it/s]\n"
     ]
    },
    {
     "name": "stdout",
     "output_type": "stream",
     "text": [
      "1m 2s\n",
      "Early Stopping Counter = 1\n",
      "Epoch 275/300\n"
     ]
    },
    {
     "name": "stderr",
     "output_type": "stream",
     "text": [
      "100%|██████████| 155/155 [00:46<00:00,  3.36it/s]\n",
      "100%|██████████| 17/17 [00:10<00:00,  1.68it/s]\n",
      "100%|██████████| 18/18 [00:05<00:00,  3.31it/s]\n"
     ]
    },
    {
     "name": "stdout",
     "output_type": "stream",
     "text": [
      "1m 2s\n",
      "Early Stopping Counter = 2\n",
      "Epoch 276/300\n"
     ]
    },
    {
     "name": "stderr",
     "output_type": "stream",
     "text": [
      "100%|██████████| 155/155 [00:46<00:00,  3.34it/s]\n",
      "100%|██████████| 17/17 [00:10<00:00,  1.69it/s]\n",
      "100%|██████████| 18/18 [00:05<00:00,  3.24it/s]\n"
     ]
    },
    {
     "name": "stdout",
     "output_type": "stream",
     "text": [
      "1m 2s\n",
      "Consistency Loss declined to 0.0048678132349296525\n",
      "Early Stopping Counter = 0\n",
      "Epoch 277/300\n"
     ]
    },
    {
     "name": "stderr",
     "output_type": "stream",
     "text": [
      "100%|██████████| 155/155 [00:46<00:00,  3.34it/s]\n",
      "100%|██████████| 17/17 [00:10<00:00,  1.69it/s]\n",
      "100%|██████████| 18/18 [00:05<00:00,  3.27it/s]\n"
     ]
    },
    {
     "name": "stdout",
     "output_type": "stream",
     "text": [
      "1m 2s\n",
      "Early Stopping Counter = 1\n",
      "Epoch 278/300\n"
     ]
    },
    {
     "name": "stderr",
     "output_type": "stream",
     "text": [
      "100%|██████████| 155/155 [00:46<00:00,  3.36it/s]\n",
      "100%|██████████| 17/17 [00:09<00:00,  1.70it/s]\n",
      "100%|██████████| 18/18 [00:05<00:00,  3.21it/s]\n"
     ]
    },
    {
     "name": "stdout",
     "output_type": "stream",
     "text": [
      "1m 2s\n",
      "Early Stopping Counter = 2\n",
      "Epoch 279/300\n"
     ]
    },
    {
     "name": "stderr",
     "output_type": "stream",
     "text": [
      "100%|██████████| 155/155 [00:46<00:00,  3.35it/s]\n",
      "100%|██████████| 17/17 [00:10<00:00,  1.69it/s]\n",
      "100%|██████████| 18/18 [00:05<00:00,  3.31it/s]\n"
     ]
    },
    {
     "name": "stdout",
     "output_type": "stream",
     "text": [
      "1m 2s\n",
      "Early Stopping Counter = 3\n",
      "Epoch 280/300\n"
     ]
    },
    {
     "name": "stderr",
     "output_type": "stream",
     "text": [
      "100%|██████████| 155/155 [00:46<00:00,  3.36it/s]\n",
      "100%|██████████| 17/17 [00:10<00:00,  1.68it/s]\n",
      "100%|██████████| 18/18 [00:05<00:00,  3.28it/s]\n"
     ]
    },
    {
     "name": "stdout",
     "output_type": "stream",
     "text": [
      "1m 2s\n",
      "Early Stopping Counter = 4\n",
      "Epoch 281/300\n"
     ]
    },
    {
     "name": "stderr",
     "output_type": "stream",
     "text": [
      "100%|██████████| 155/155 [00:46<00:00,  3.34it/s]\n",
      "100%|██████████| 17/17 [00:10<00:00,  1.68it/s]\n",
      "100%|██████████| 18/18 [00:05<00:00,  3.27it/s]\n"
     ]
    },
    {
     "name": "stdout",
     "output_type": "stream",
     "text": [
      "1m 2s\n",
      "Early Stopping Counter = 5\n",
      "Epoch 282/300\n"
     ]
    },
    {
     "name": "stderr",
     "output_type": "stream",
     "text": [
      "100%|██████████| 155/155 [00:46<00:00,  3.36it/s]\n",
      "100%|██████████| 17/17 [00:10<00:00,  1.69it/s]\n",
      "100%|██████████| 18/18 [00:05<00:00,  3.27it/s]\n"
     ]
    },
    {
     "name": "stdout",
     "output_type": "stream",
     "text": [
      "1m 2s\n",
      "Early Stopping Counter = 6\n",
      "Epoch 283/300\n"
     ]
    },
    {
     "name": "stderr",
     "output_type": "stream",
     "text": [
      "100%|██████████| 155/155 [00:46<00:00,  3.36it/s]\n",
      "100%|██████████| 17/17 [00:10<00:00,  1.68it/s]\n",
      "100%|██████████| 18/18 [00:05<00:00,  3.24it/s]\n"
     ]
    },
    {
     "name": "stdout",
     "output_type": "stream",
     "text": [
      "1m 2s\n",
      "Early Stopping Counter = 7\n",
      "Epoch 284/300\n"
     ]
    },
    {
     "name": "stderr",
     "output_type": "stream",
     "text": [
      "100%|██████████| 155/155 [00:46<00:00,  3.35it/s]\n",
      "100%|██████████| 17/17 [00:10<00:00,  1.70it/s]\n",
      "100%|██████████| 18/18 [00:05<00:00,  3.22it/s]\n"
     ]
    },
    {
     "name": "stdout",
     "output_type": "stream",
     "text": [
      "1m 2s\n",
      "Early Stopping Counter = 8\n",
      "Epoch 285/300\n"
     ]
    },
    {
     "name": "stderr",
     "output_type": "stream",
     "text": [
      "100%|██████████| 155/155 [00:46<00:00,  3.36it/s]\n",
      "100%|██████████| 17/17 [00:10<00:00,  1.67it/s]\n",
      "100%|██████████| 18/18 [00:05<00:00,  3.24it/s]\n"
     ]
    },
    {
     "name": "stdout",
     "output_type": "stream",
     "text": [
      "1m 2s\n",
      "Early Stopping Counter = 9\n",
      "Epoch 286/300\n"
     ]
    },
    {
     "name": "stderr",
     "output_type": "stream",
     "text": [
      "100%|██████████| 155/155 [00:46<00:00,  3.35it/s]\n",
      "100%|██████████| 17/17 [00:10<00:00,  1.65it/s]\n",
      "100%|██████████| 18/18 [00:05<00:00,  3.28it/s]\n"
     ]
    },
    {
     "name": "stdout",
     "output_type": "stream",
     "text": [
      "1m 2s\n",
      "Early Stopping Counter = 10\n",
      "Epoch 287/300\n"
     ]
    },
    {
     "name": "stderr",
     "output_type": "stream",
     "text": [
      "100%|██████████| 155/155 [00:46<00:00,  3.35it/s]\n",
      "100%|██████████| 17/17 [00:10<00:00,  1.66it/s]\n",
      "100%|██████████| 18/18 [00:05<00:00,  3.28it/s]\n"
     ]
    },
    {
     "name": "stdout",
     "output_type": "stream",
     "text": [
      "1m 2s\n",
      "Early Stopping Counter = 11\n",
      "Epoch 288/300\n"
     ]
    },
    {
     "name": "stderr",
     "output_type": "stream",
     "text": [
      "100%|██████████| 155/155 [00:46<00:00,  3.35it/s]\n",
      "100%|██████████| 17/17 [00:10<00:00,  1.67it/s]\n",
      "100%|██████████| 18/18 [00:05<00:00,  3.29it/s]\n"
     ]
    },
    {
     "name": "stdout",
     "output_type": "stream",
     "text": [
      "1m 2s\n",
      "Early Stopping Counter = 12\n",
      "Epoch 289/300\n"
     ]
    },
    {
     "name": "stderr",
     "output_type": "stream",
     "text": [
      "100%|██████████| 155/155 [00:46<00:00,  3.35it/s]\n",
      "100%|██████████| 17/17 [00:09<00:00,  1.71it/s]\n",
      "100%|██████████| 18/18 [00:05<00:00,  3.26it/s]\n"
     ]
    },
    {
     "name": "stdout",
     "output_type": "stream",
     "text": [
      "1m 2s\n",
      "Early Stopping Counter = 13\n",
      "Epoch 290/300\n"
     ]
    },
    {
     "name": "stderr",
     "output_type": "stream",
     "text": [
      "100%|██████████| 155/155 [00:46<00:00,  3.35it/s]\n",
      "100%|██████████| 17/17 [00:10<00:00,  1.68it/s]\n",
      "100%|██████████| 18/18 [00:05<00:00,  3.32it/s]\n"
     ]
    },
    {
     "name": "stdout",
     "output_type": "stream",
     "text": [
      "1m 2s\n",
      "Early Stopping Counter = 14\n",
      "Epoch 291/300\n"
     ]
    },
    {
     "name": "stderr",
     "output_type": "stream",
     "text": [
      "100%|██████████| 155/155 [00:46<00:00,  3.35it/s]\n",
      "100%|██████████| 17/17 [00:10<00:00,  1.65it/s]\n",
      "100%|██████████| 18/18 [00:05<00:00,  3.30it/s]\n"
     ]
    },
    {
     "name": "stdout",
     "output_type": "stream",
     "text": [
      "1m 2s\n",
      "Early Stopping Counter = 15\n",
      "Epoch 292/300\n"
     ]
    },
    {
     "name": "stderr",
     "output_type": "stream",
     "text": [
      "100%|██████████| 155/155 [00:46<00:00,  3.36it/s]\n",
      "100%|██████████| 17/17 [00:10<00:00,  1.70it/s]\n",
      "100%|██████████| 18/18 [00:05<00:00,  3.23it/s]\n"
     ]
    },
    {
     "name": "stdout",
     "output_type": "stream",
     "text": [
      "1m 2s\n",
      "Early Stopping Counter = 16\n",
      "Epoch 293/300\n"
     ]
    },
    {
     "name": "stderr",
     "output_type": "stream",
     "text": [
      "100%|██████████| 155/155 [00:46<00:00,  3.36it/s]\n",
      "100%|██████████| 17/17 [00:09<00:00,  1.71it/s]\n",
      "100%|██████████| 18/18 [00:05<00:00,  3.20it/s]\n"
     ]
    },
    {
     "name": "stdout",
     "output_type": "stream",
     "text": [
      "1m 2s\n",
      "Early Stopping Counter = 17\n",
      "Epoch 294/300\n"
     ]
    },
    {
     "name": "stderr",
     "output_type": "stream",
     "text": [
      "100%|██████████| 155/155 [00:46<00:00,  3.36it/s]\n",
      "100%|██████████| 17/17 [00:10<00:00,  1.67it/s]\n",
      "100%|██████████| 18/18 [00:05<00:00,  3.19it/s]\n"
     ]
    },
    {
     "name": "stdout",
     "output_type": "stream",
     "text": [
      "1m 2s\n",
      "Early Stopping Counter = 18\n",
      "Epoch 295/300\n"
     ]
    },
    {
     "name": "stderr",
     "output_type": "stream",
     "text": [
      "100%|██████████| 155/155 [00:46<00:00,  3.35it/s]\n",
      "100%|██████████| 17/17 [00:10<00:00,  1.67it/s]\n",
      "100%|██████████| 18/18 [00:05<00:00,  3.25it/s]\n"
     ]
    },
    {
     "name": "stdout",
     "output_type": "stream",
     "text": [
      "1m 2s\n",
      "Early Stopping Counter = 19\n",
      "Epoch 296/300\n"
     ]
    },
    {
     "name": "stderr",
     "output_type": "stream",
     "text": [
      "100%|██████████| 155/155 [00:46<00:00,  3.35it/s]\n",
      "100%|██████████| 17/17 [00:10<00:00,  1.70it/s]\n",
      "100%|██████████| 18/18 [00:05<00:00,  3.23it/s]\n"
     ]
    },
    {
     "name": "stdout",
     "output_type": "stream",
     "text": [
      "1m 2s\n",
      "Early Stopping Counter = 20\n",
      "Epoch 297/300\n"
     ]
    },
    {
     "name": "stderr",
     "output_type": "stream",
     "text": [
      "100%|██████████| 155/155 [00:46<00:00,  3.36it/s]\n",
      "100%|██████████| 17/17 [00:10<00:00,  1.68it/s]\n",
      "100%|██████████| 18/18 [00:05<00:00,  3.32it/s]\n"
     ]
    },
    {
     "name": "stdout",
     "output_type": "stream",
     "text": [
      "1m 2s\n",
      "Early Stopping Counter = 21\n",
      "Epoch 298/300\n"
     ]
    },
    {
     "name": "stderr",
     "output_type": "stream",
     "text": [
      "100%|██████████| 155/155 [00:46<00:00,  3.35it/s]\n",
      "100%|██████████| 17/17 [00:10<00:00,  1.70it/s]\n",
      "100%|██████████| 18/18 [00:05<00:00,  3.24it/s]\n"
     ]
    },
    {
     "name": "stdout",
     "output_type": "stream",
     "text": [
      "1m 2s\n",
      "Early Stopping Counter = 22\n",
      "Epoch 299/300\n"
     ]
    },
    {
     "name": "stderr",
     "output_type": "stream",
     "text": [
      "100%|██████████| 155/155 [00:46<00:00,  3.35it/s]\n",
      "100%|██████████| 17/17 [00:10<00:00,  1.68it/s]\n",
      "100%|██████████| 18/18 [00:05<00:00,  3.31it/s]\n"
     ]
    },
    {
     "name": "stdout",
     "output_type": "stream",
     "text": [
      "1m 2s\n",
      "Early Stopping Counter = 23\n",
      "Epoch 300/300\n"
     ]
    },
    {
     "name": "stderr",
     "output_type": "stream",
     "text": [
      "100%|██████████| 155/155 [00:46<00:00,  3.35it/s]\n",
      "100%|██████████| 17/17 [00:10<00:00,  1.70it/s]\n",
      "100%|██████████| 18/18 [00:05<00:00,  3.25it/s]\n"
     ]
    },
    {
     "name": "stdout",
     "output_type": "stream",
     "text": [
      "1m 2s\n",
      "Early Stopping Counter = 24\n"
     ]
    },
    {
     "name": "stderr",
     "output_type": "stream",
     "text": [
      "100%|██████████| 17/17 [02:13<00:00,  7.87s/it]\n",
      " 94%|█████████▍| 17/18 [02:22<00:08,  8.38s/it]\n",
      "100%|██████████| 1100/1100 [00:06<00:00, 161.73it/s]\n"
     ]
    }
   ],
   "source": [
    "# Uncertainty-based Self-Training\n",
    "## Stable DiffusionのPathは事前にdataset.py, save_mask.pyの中身を変更しておく\n",
    "project = \"240323\"\n",
    "folnames = [project+\"_iter1\", project+\"_iter2\", project+\"_iter3\", project+\"_iter4\", project+\"_iter5\"]\n",
    "os.makedirs('results/'+ project +'_results', exist_ok=True)\n",
    "csv_filename = 'results/'+project+'_results/results.csv'\n",
    "with open(csv_filename, mode='w', newline='') as file:\n",
    "    writer = csv.writer(file)\n",
    "    writer.writerow(['Iteration', 'F1-Score', 'Accuracy', 'Specificity', 'Recall', 'Precision'])\n",
    "    \n",
    "# params setting\n",
    "JsonDataSplit = False # Boolean\n",
    "target_dataset = 'chun' # chun or volker\n",
    "useStableDiffusion = True # Boolean\n",
    "net = 'deeplab' # deeplab or unet\n",
    "cons_reg = False # Boolean\n",
    "alpha = 100\n",
    "\n",
    "for i in range(len(folnames)):\n",
    "    if i==0:\n",
    "        # train(former_folname=\"\", folname=folnames[i], first=True, JsonDataSplit=JsonDataSplit, target_dataset=target_dataset, useStableDiffusion=useStableDiffusion, net=net, cons_reg=cons_reg)\n",
    "        scores = inference(former_folname=\"\", folname=folnames[i], JsonDataSplit=JsonDataSplit, target_dataset=target_dataset, useStableDiffusion=useStableDiffusion, net=net)\n",
    "        write_to_csv(i+1, scores, csv_filename)\n",
    "        save_mask(former_folname=\"\", folname=folnames[i], JsonDataSplit=JsonDataSplit, target_dataset=target_dataset, useStableDiffusion=useStableDiffusion, net=net)\n",
    "    else:\n",
    "        train(former_folname=folnames[i-1], folname=folnames[i], first=False, alpha=alpha, JsonDataSplit=JsonDataSplit, target_dataset=target_dataset, useStableDiffusion=useStableDiffusion, net=net, cons_reg=cons_reg)\n",
    "        scores = inference(former_folname=folnames[i-1], folname=folnames[i], JsonDataSplit=JsonDataSplit, target_dataset=target_dataset, useStableDiffusion=useStableDiffusion, net=net)\n",
    "        write_to_csv(i+1, scores, csv_filename)\n",
    "        save_mask(former_folname=folnames[i-1], folname=folnames[i], JsonDataSplit=JsonDataSplit, target_dataset=target_dataset, useStableDiffusion=useStableDiffusion, net=net)"
   ]
  },
  {
   "cell_type": "code",
   "execution_count": null,
   "metadata": {},
   "outputs": [],
   "source": [
    "# Supervised Learning\n",
    "project = \"240208sup\"\n",
    "folname = project + '_iter1'\n",
    "os.makedirs('results/'+ project +'_results', exist_ok=True)\n",
    "csv_filename = 'results/'+project+'_results/results.csv'\n",
    "with open(csv_filename, mode='w', newline='') as file:\n",
    "    writer = csv.writer(file)\n",
    "    writer.writerow(['Iteration', 'F1-Score', 'Accuracy', 'Specificity', 'Recall', 'Precision'])\n",
    "\n",
    "# params setting\n",
    "target_dataset = 'chun'\n",
    "net = 'deeplab'\n",
    "epochs = 1000\n",
    "\n",
    "train(former_folname=\"\", folname=folname, first=True, target_dataset=target_dataset, net=net, epochs=epochs, supervised=True)\n",
    "scores = inference(former_folname=\"\", folname=folname, target_dataset=target_dataset, net=net, supervised=True)\n",
    "write_to_csv(1, scores, csv_filename)"
   ]
  },
  {
   "cell_type": "code",
   "execution_count": null,
   "metadata": {},
   "outputs": [],
   "source": [
    "# Delete Project\n",
    "import shutil\n",
    "project = '240323'\n",
    "shutil.rmtree(f'results/{project}_results')\n",
    "shutil.rmtree(f'weights/{project}')\n",
    "shutil.rmtree(f'loss/{project}')\n",
    "shutil.rmtree(f'data/unlabeled_mask/{project}_iter1')\n",
    "# shutil.rmtree(f'data/unlabeled_mask/{project}_iter2')\n",
    "# shutil.rmtree(f'data/unlabeled_mask/{project}_iter3')\n",
    "# shutil.rmtree(f'data/unlabeled_mask/{project}_iter4')\n",
    "# shutil.rmtree(f'data/unlabeled_mask/{project}_iter5')"
   ]
  },
  {
   "cell_type": "code",
   "execution_count": null,
   "metadata": {},
   "outputs": [],
   "source": []
  }
 ],
 "metadata": {
  "kernelspec": {
   "display_name": "env",
   "language": "python",
   "name": "python3"
  },
  "language_info": {
   "codemirror_mode": {
    "name": "ipython",
    "version": 3
   },
   "file_extension": ".py",
   "mimetype": "text/x-python",
   "name": "python",
   "nbconvert_exporter": "python",
   "pygments_lexer": "ipython3",
   "version": "3.10.9"
  }
 },
 "nbformat": 4,
 "nbformat_minor": 2
}
