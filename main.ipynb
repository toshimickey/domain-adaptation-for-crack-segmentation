{
 "cells": [
  {
   "cell_type": "code",
   "execution_count": null,
   "metadata": {},
   "outputs": [],
   "source": [
    "from train import train\n",
    "from inference import inference\n",
    "from save_mask import save_mask\n",
    "import csv, os\n",
    "from utils.module import write_to_csv"
   ]
  },
  {
   "cell_type": "code",
   "execution_count": null,
   "metadata": {},
   "outputs": [],
   "source": [
    "!nvidia-smi"
   ]
  },
  {
   "cell_type": "code",
   "execution_count": null,
   "metadata": {},
   "outputs": [],
   "source": [
    "# Uncertainty-based Self-Training\n",
    "project = \"240114\"\n",
    "folnames = [project+\"_iter1\", project+\"_iter2\", project+\"_iter3\", project+\"_iter4\", project+\"_iter5\"]\n",
    "os.makedirs('results/'+ project +'_results', exist_ok=True)\n",
    "csv_filename = 'results/'+project+'_results/results.csv'\n",
    "with open(csv_filename, mode='w', newline='') as file:\n",
    "    writer = csv.writer(file)\n",
    "    writer.writerow(['Iteration', 'F1-Score', 'Accuracy', 'Specificity', 'Recall', 'Precision'])\n",
    "\n",
    "for i in range(len(folnames)):\n",
    "    if i==0:\n",
    "        # train(former_folname=\"hoge\", folname=folnames[i], first=True, net=\"deeplab\", epochs=300, batch_size=64, cons_reg=False)\n",
    "        scores = inference(former_folname=\"hoge\", folname=folnames[i], net=\"deeplab\", batch_size=64)\n",
    "        write_to_csv(i+1, scores, csv_filename)\n",
    "        save_mask(former_folname=\"hoge\", folname=folnames[i], net=\"deeplab\", batch_size=64, save_num=None)\n",
    "    else:\n",
    "        train(former_folname=folnames[i-1], folname=folnames[i], first=False, net=\"deeplab\", epochs=300, batch_size=64, alpha=100, cons_reg=False)\n",
    "        scores = inference(former_folname=folnames[i-1], folname=folnames[i], net=\"deeplab\", batch_size=64)\n",
    "        write_to_csv(i+1, scores, csv_filename)\n",
    "        save_mask(former_folname=folnames[i-1], folname=folnames[i], net=\"deeplab\", batch_size=64, save_num=None)"
   ]
  },
  {
   "cell_type": "code",
   "execution_count": 4,
   "metadata": {},
   "outputs": [
    {
     "name": "stdout",
     "output_type": "stream",
     "text": [
      "Epoch 1/1000\n"
     ]
    },
    {
     "name": "stderr",
     "output_type": "stream",
     "text": [
      "100%|██████████| 210/210 [00:59<00:00,  3.54it/s]\n",
      "100%|██████████| 13/13 [00:03<00:00,  3.37it/s]\n"
     ]
    },
    {
     "name": "stdout",
     "output_type": "stream",
     "text": [
      "1m 3s\n",
      "Validation Loss declined to 0.5833955361292913\n",
      "Early Stopping Counter = 0\n",
      "Epoch 2/1000\n"
     ]
    },
    {
     "name": "stderr",
     "output_type": "stream",
     "text": [
      "100%|██████████| 210/210 [00:59<00:00,  3.55it/s]\n",
      "100%|██████████| 13/13 [00:04<00:00,  3.23it/s]\n"
     ]
    },
    {
     "name": "stdout",
     "output_type": "stream",
     "text": [
      "1m 3s\n",
      "Validation Loss declined to 0.4782403867978316\n",
      "Early Stopping Counter = 0\n",
      "Epoch 3/1000\n"
     ]
    },
    {
     "name": "stderr",
     "output_type": "stream",
     "text": [
      "100%|██████████| 210/210 [00:59<00:00,  3.55it/s]\n",
      "100%|██████████| 13/13 [00:03<00:00,  3.29it/s]\n"
     ]
    },
    {
     "name": "stdout",
     "output_type": "stream",
     "text": [
      "1m 3s\n",
      "Validation Loss declined to 0.35083884459275466\n",
      "Early Stopping Counter = 0\n",
      "Epoch 4/1000\n"
     ]
    },
    {
     "name": "stderr",
     "output_type": "stream",
     "text": [
      "100%|██████████| 210/210 [00:58<00:00,  3.57it/s]\n",
      "100%|██████████| 13/13 [00:03<00:00,  3.30it/s]\n"
     ]
    },
    {
     "name": "stdout",
     "output_type": "stream",
     "text": [
      "1m 3s\n",
      "Validation Loss declined to 0.29460254655434537\n",
      "Early Stopping Counter = 0\n",
      "Epoch 5/1000\n"
     ]
    },
    {
     "name": "stderr",
     "output_type": "stream",
     "text": [
      "100%|██████████| 210/210 [01:00<00:00,  3.50it/s]\n",
      "100%|██████████| 13/13 [00:04<00:00,  3.18it/s]\n"
     ]
    },
    {
     "name": "stdout",
     "output_type": "stream",
     "text": [
      "1m 4s\n",
      "Validation Loss declined to 0.2584789303632883\n",
      "Early Stopping Counter = 0\n",
      "Epoch 6/1000\n"
     ]
    },
    {
     "name": "stderr",
     "output_type": "stream",
     "text": [
      "100%|██████████| 210/210 [00:59<00:00,  3.52it/s]\n",
      "100%|██████████| 13/13 [00:03<00:00,  3.28it/s]\n"
     ]
    },
    {
     "name": "stdout",
     "output_type": "stream",
     "text": [
      "1m 4s\n",
      "Validation Loss declined to 0.24069542724352616\n",
      "Early Stopping Counter = 0\n",
      "Epoch 7/1000\n"
     ]
    },
    {
     "name": "stderr",
     "output_type": "stream",
     "text": [
      "100%|██████████| 210/210 [01:00<00:00,  3.46it/s]\n",
      "100%|██████████| 13/13 [00:03<00:00,  3.29it/s]\n"
     ]
    },
    {
     "name": "stdout",
     "output_type": "stream",
     "text": [
      "1m 5s\n",
      "Early Stopping Counter = 1\n",
      "Epoch 8/1000\n"
     ]
    },
    {
     "name": "stderr",
     "output_type": "stream",
     "text": [
      "100%|██████████| 210/210 [00:58<00:00,  3.58it/s]\n",
      "100%|██████████| 13/13 [00:03<00:00,  3.29it/s]\n"
     ]
    },
    {
     "name": "stdout",
     "output_type": "stream",
     "text": [
      "1m 3s\n",
      "Early Stopping Counter = 2\n",
      "Epoch 9/1000\n"
     ]
    },
    {
     "name": "stderr",
     "output_type": "stream",
     "text": [
      "100%|██████████| 210/210 [00:58<00:00,  3.59it/s]\n",
      "100%|██████████| 13/13 [00:03<00:00,  3.32it/s]\n"
     ]
    },
    {
     "name": "stdout",
     "output_type": "stream",
     "text": [
      "1m 2s\n",
      "Validation Loss declined to 0.2239923752271212\n",
      "Early Stopping Counter = 0\n",
      "Epoch 10/1000\n"
     ]
    },
    {
     "name": "stderr",
     "output_type": "stream",
     "text": [
      "100%|██████████| 210/210 [00:58<00:00,  3.57it/s]\n",
      "100%|██████████| 13/13 [00:03<00:00,  3.29it/s]\n"
     ]
    },
    {
     "name": "stdout",
     "output_type": "stream",
     "text": [
      "1m 3s\n",
      "Validation Loss declined to 0.21851509924118334\n",
      "Early Stopping Counter = 0\n",
      "Epoch 11/1000\n"
     ]
    },
    {
     "name": "stderr",
     "output_type": "stream",
     "text": [
      "100%|██████████| 210/210 [00:58<00:00,  3.57it/s]\n",
      "100%|██████████| 13/13 [00:03<00:00,  3.29it/s]\n"
     ]
    },
    {
     "name": "stdout",
     "output_type": "stream",
     "text": [
      "1m 3s\n",
      "Validation Loss declined to 0.21734527269235024\n",
      "Early Stopping Counter = 0\n",
      "Epoch 12/1000\n"
     ]
    },
    {
     "name": "stderr",
     "output_type": "stream",
     "text": [
      "100%|██████████| 210/210 [01:00<00:00,  3.49it/s]\n",
      "100%|██████████| 13/13 [00:03<00:00,  3.25it/s]\n"
     ]
    },
    {
     "name": "stdout",
     "output_type": "stream",
     "text": [
      "1m 4s\n",
      "Early Stopping Counter = 1\n",
      "Epoch 13/1000\n"
     ]
    },
    {
     "name": "stderr",
     "output_type": "stream",
     "text": [
      "100%|██████████| 210/210 [00:58<00:00,  3.58it/s]\n",
      "100%|██████████| 13/13 [00:04<00:00,  3.23it/s]\n"
     ]
    },
    {
     "name": "stdout",
     "output_type": "stream",
     "text": [
      "1m 3s\n",
      "Validation Loss declined to 0.21612170453254992\n",
      "Early Stopping Counter = 0\n",
      "Epoch 14/1000\n"
     ]
    },
    {
     "name": "stderr",
     "output_type": "stream",
     "text": [
      "100%|██████████| 210/210 [00:58<00:00,  3.57it/s]\n",
      "100%|██████████| 13/13 [00:04<00:00,  3.23it/s]\n"
     ]
    },
    {
     "name": "stdout",
     "output_type": "stream",
     "text": [
      "1m 3s\n",
      "Early Stopping Counter = 1\n",
      "Epoch 15/1000\n"
     ]
    },
    {
     "name": "stderr",
     "output_type": "stream",
     "text": [
      "100%|██████████| 210/210 [00:58<00:00,  3.57it/s]\n",
      "100%|██████████| 13/13 [00:03<00:00,  3.35it/s]\n"
     ]
    },
    {
     "name": "stdout",
     "output_type": "stream",
     "text": [
      "1m 3s\n",
      "Validation Loss declined to 0.21275646296831277\n",
      "Early Stopping Counter = 0\n",
      "Epoch 16/1000\n"
     ]
    },
    {
     "name": "stderr",
     "output_type": "stream",
     "text": [
      "100%|██████████| 210/210 [00:59<00:00,  3.53it/s]\n",
      "100%|██████████| 13/13 [00:03<00:00,  3.25it/s]\n"
     ]
    },
    {
     "name": "stdout",
     "output_type": "stream",
     "text": [
      "1m 4s\n",
      "Early Stopping Counter = 1\n",
      "Epoch 17/1000\n"
     ]
    },
    {
     "name": "stderr",
     "output_type": "stream",
     "text": [
      "100%|██████████| 210/210 [01:00<00:00,  3.50it/s]\n",
      "100%|██████████| 13/13 [00:03<00:00,  3.25it/s]\n"
     ]
    },
    {
     "name": "stdout",
     "output_type": "stream",
     "text": [
      "1m 4s\n",
      "Early Stopping Counter = 2\n",
      "Epoch 18/1000\n"
     ]
    },
    {
     "name": "stderr",
     "output_type": "stream",
     "text": [
      "100%|██████████| 210/210 [00:59<00:00,  3.51it/s]\n",
      "100%|██████████| 13/13 [00:03<00:00,  3.28it/s]\n"
     ]
    },
    {
     "name": "stdout",
     "output_type": "stream",
     "text": [
      "1m 4s\n",
      "Early Stopping Counter = 3\n",
      "Epoch 19/1000\n"
     ]
    },
    {
     "name": "stderr",
     "output_type": "stream",
     "text": [
      "100%|██████████| 210/210 [00:59<00:00,  3.54it/s]\n",
      "100%|██████████| 13/13 [00:03<00:00,  3.26it/s]\n"
     ]
    },
    {
     "name": "stdout",
     "output_type": "stream",
     "text": [
      "1m 3s\n",
      "Validation Loss declined to 0.20354225085331842\n",
      "Early Stopping Counter = 0\n",
      "Epoch 20/1000\n"
     ]
    },
    {
     "name": "stderr",
     "output_type": "stream",
     "text": [
      "100%|██████████| 210/210 [00:59<00:00,  3.50it/s]\n",
      "100%|██████████| 13/13 [00:04<00:00,  3.09it/s]\n"
     ]
    },
    {
     "name": "stdout",
     "output_type": "stream",
     "text": [
      "1m 4s\n",
      "Early Stopping Counter = 1\n",
      "Epoch 21/1000\n"
     ]
    },
    {
     "name": "stderr",
     "output_type": "stream",
     "text": [
      "100%|██████████| 210/210 [00:58<00:00,  3.56it/s]\n",
      "100%|██████████| 13/13 [00:03<00:00,  3.26it/s]\n"
     ]
    },
    {
     "name": "stdout",
     "output_type": "stream",
     "text": [
      "1m 3s\n",
      "Early Stopping Counter = 2\n",
      "Epoch 22/1000\n"
     ]
    },
    {
     "name": "stderr",
     "output_type": "stream",
     "text": [
      "100%|██████████| 210/210 [00:59<00:00,  3.53it/s]\n",
      "100%|██████████| 13/13 [00:03<00:00,  3.28it/s]\n"
     ]
    },
    {
     "name": "stdout",
     "output_type": "stream",
     "text": [
      "1m 3s\n",
      "Early Stopping Counter = 3\n",
      "Epoch 23/1000\n"
     ]
    },
    {
     "name": "stderr",
     "output_type": "stream",
     "text": [
      "100%|██████████| 210/210 [00:59<00:00,  3.54it/s]\n",
      "100%|██████████| 13/13 [00:04<00:00,  3.24it/s]\n"
     ]
    },
    {
     "name": "stdout",
     "output_type": "stream",
     "text": [
      "1m 3s\n",
      "Early Stopping Counter = 4\n",
      "Epoch 24/1000\n"
     ]
    },
    {
     "name": "stderr",
     "output_type": "stream",
     "text": [
      "100%|██████████| 210/210 [00:59<00:00,  3.55it/s]\n",
      "100%|██████████| 13/13 [00:03<00:00,  3.29it/s]\n"
     ]
    },
    {
     "name": "stdout",
     "output_type": "stream",
     "text": [
      "1m 3s\n",
      "Validation Loss declined to 0.20031317036885482\n",
      "Early Stopping Counter = 0\n",
      "Epoch 25/1000\n"
     ]
    },
    {
     "name": "stderr",
     "output_type": "stream",
     "text": [
      "100%|██████████| 210/210 [00:58<00:00,  3.57it/s]\n",
      "100%|██████████| 13/13 [00:04<00:00,  3.24it/s]\n"
     ]
    },
    {
     "name": "stdout",
     "output_type": "stream",
     "text": [
      "1m 3s\n",
      "Early Stopping Counter = 1\n",
      "Epoch 26/1000\n"
     ]
    },
    {
     "name": "stderr",
     "output_type": "stream",
     "text": [
      "100%|██████████| 210/210 [00:59<00:00,  3.51it/s]\n",
      "100%|██████████| 13/13 [00:03<00:00,  3.32it/s]\n"
     ]
    },
    {
     "name": "stdout",
     "output_type": "stream",
     "text": [
      "1m 4s\n",
      "Early Stopping Counter = 2\n",
      "Epoch 27/1000\n"
     ]
    },
    {
     "name": "stderr",
     "output_type": "stream",
     "text": [
      "100%|██████████| 210/210 [00:59<00:00,  3.52it/s]\n",
      "100%|██████████| 13/13 [00:04<00:00,  3.23it/s]\n"
     ]
    },
    {
     "name": "stdout",
     "output_type": "stream",
     "text": [
      "1m 4s\n",
      "Early Stopping Counter = 3\n",
      "Epoch 28/1000\n"
     ]
    },
    {
     "name": "stderr",
     "output_type": "stream",
     "text": [
      "100%|██████████| 210/210 [00:59<00:00,  3.52it/s]\n",
      "100%|██████████| 13/13 [00:03<00:00,  3.29it/s]\n"
     ]
    },
    {
     "name": "stdout",
     "output_type": "stream",
     "text": [
      "1m 4s\n",
      "Early Stopping Counter = 4\n",
      "Epoch 29/1000\n"
     ]
    },
    {
     "name": "stderr",
     "output_type": "stream",
     "text": [
      "100%|██████████| 210/210 [00:58<00:00,  3.57it/s]\n",
      "100%|██████████| 13/13 [00:04<00:00,  3.22it/s]\n"
     ]
    },
    {
     "name": "stdout",
     "output_type": "stream",
     "text": [
      "1m 3s\n",
      "Early Stopping Counter = 5\n",
      "Epoch 30/1000\n"
     ]
    },
    {
     "name": "stderr",
     "output_type": "stream",
     "text": [
      "100%|██████████| 210/210 [00:59<00:00,  3.55it/s]\n",
      "100%|██████████| 13/13 [00:03<00:00,  3.29it/s]\n"
     ]
    },
    {
     "name": "stdout",
     "output_type": "stream",
     "text": [
      "1m 3s\n",
      "Validation Loss declined to 0.19371859442729217\n",
      "Early Stopping Counter = 0\n",
      "Epoch 31/1000\n"
     ]
    },
    {
     "name": "stderr",
     "output_type": "stream",
     "text": [
      "100%|██████████| 210/210 [00:59<00:00,  3.54it/s]\n",
      "100%|██████████| 13/13 [00:03<00:00,  3.29it/s]\n"
     ]
    },
    {
     "name": "stdout",
     "output_type": "stream",
     "text": [
      "1m 3s\n",
      "Early Stopping Counter = 1\n",
      "Epoch 32/1000\n"
     ]
    },
    {
     "name": "stderr",
     "output_type": "stream",
     "text": [
      "100%|██████████| 210/210 [01:00<00:00,  3.50it/s]\n",
      "100%|██████████| 13/13 [00:03<00:00,  3.26it/s]\n"
     ]
    },
    {
     "name": "stdout",
     "output_type": "stream",
     "text": [
      "1m 4s\n",
      "Early Stopping Counter = 2\n",
      "Epoch 33/1000\n"
     ]
    },
    {
     "name": "stderr",
     "output_type": "stream",
     "text": [
      "100%|██████████| 210/210 [00:58<00:00,  3.60it/s]\n",
      "100%|██████████| 13/13 [00:03<00:00,  3.27it/s]\n"
     ]
    },
    {
     "name": "stdout",
     "output_type": "stream",
     "text": [
      "1m 2s\n",
      "Validation Loss declined to 0.19071944860311654\n",
      "Early Stopping Counter = 0\n",
      "Epoch 34/1000\n"
     ]
    },
    {
     "name": "stderr",
     "output_type": "stream",
     "text": [
      "100%|██████████| 210/210 [00:59<00:00,  3.50it/s]\n",
      "100%|██████████| 13/13 [00:04<00:00,  2.98it/s]\n"
     ]
    },
    {
     "name": "stdout",
     "output_type": "stream",
     "text": [
      "1m 4s\n",
      "Early Stopping Counter = 1\n",
      "Epoch 35/1000\n"
     ]
    },
    {
     "name": "stderr",
     "output_type": "stream",
     "text": [
      "100%|██████████| 210/210 [00:59<00:00,  3.51it/s]\n",
      "100%|██████████| 13/13 [00:04<00:00,  3.19it/s]\n"
     ]
    },
    {
     "name": "stdout",
     "output_type": "stream",
     "text": [
      "1m 4s\n",
      "Early Stopping Counter = 2\n",
      "Epoch 36/1000\n"
     ]
    },
    {
     "name": "stderr",
     "output_type": "stream",
     "text": [
      "100%|██████████| 210/210 [00:59<00:00,  3.54it/s]\n",
      "100%|██████████| 13/13 [00:04<00:00,  3.16it/s]\n"
     ]
    },
    {
     "name": "stdout",
     "output_type": "stream",
     "text": [
      "1m 3s\n",
      "Early Stopping Counter = 3\n",
      "Epoch 37/1000\n"
     ]
    },
    {
     "name": "stderr",
     "output_type": "stream",
     "text": [
      "100%|██████████| 210/210 [00:59<00:00,  3.54it/s]\n",
      "100%|██████████| 13/13 [00:03<00:00,  3.27it/s]\n"
     ]
    },
    {
     "name": "stdout",
     "output_type": "stream",
     "text": [
      "1m 3s\n",
      "Early Stopping Counter = 4\n",
      "Epoch 38/1000\n"
     ]
    },
    {
     "name": "stderr",
     "output_type": "stream",
     "text": [
      "100%|██████████| 210/210 [00:59<00:00,  3.51it/s]\n",
      "100%|██████████| 13/13 [00:03<00:00,  3.30it/s]\n"
     ]
    },
    {
     "name": "stdout",
     "output_type": "stream",
     "text": [
      "1m 4s\n",
      "Early Stopping Counter = 5\n",
      "Epoch 39/1000\n"
     ]
    },
    {
     "name": "stderr",
     "output_type": "stream",
     "text": [
      "100%|██████████| 210/210 [00:59<00:00,  3.51it/s]\n",
      "100%|██████████| 13/13 [00:03<00:00,  3.29it/s]\n"
     ]
    },
    {
     "name": "stdout",
     "output_type": "stream",
     "text": [
      "1m 4s\n",
      "Validation Loss declined to 0.18958915770053864\n",
      "Early Stopping Counter = 0\n",
      "Epoch 40/1000\n"
     ]
    },
    {
     "name": "stderr",
     "output_type": "stream",
     "text": [
      "100%|██████████| 210/210 [00:58<00:00,  3.57it/s]\n",
      "100%|██████████| 13/13 [00:04<00:00,  3.21it/s]\n"
     ]
    },
    {
     "name": "stdout",
     "output_type": "stream",
     "text": [
      "1m 3s\n",
      "Early Stopping Counter = 1\n",
      "Epoch 41/1000\n"
     ]
    },
    {
     "name": "stderr",
     "output_type": "stream",
     "text": [
      "100%|██████████| 210/210 [00:59<00:00,  3.53it/s]\n",
      "100%|██████████| 13/13 [00:04<00:00,  3.22it/s]\n"
     ]
    },
    {
     "name": "stdout",
     "output_type": "stream",
     "text": [
      "1m 3s\n",
      "Early Stopping Counter = 2\n",
      "Epoch 42/1000\n"
     ]
    },
    {
     "name": "stderr",
     "output_type": "stream",
     "text": [
      "100%|██████████| 210/210 [00:58<00:00,  3.58it/s]\n",
      "100%|██████████| 13/13 [00:04<00:00,  3.11it/s]\n"
     ]
    },
    {
     "name": "stdout",
     "output_type": "stream",
     "text": [
      "1m 3s\n",
      "Early Stopping Counter = 3\n",
      "Epoch 43/1000\n"
     ]
    },
    {
     "name": "stderr",
     "output_type": "stream",
     "text": [
      "100%|██████████| 210/210 [00:59<00:00,  3.55it/s]\n",
      "100%|██████████| 13/13 [00:04<00:00,  3.22it/s]\n"
     ]
    },
    {
     "name": "stdout",
     "output_type": "stream",
     "text": [
      "1m 3s\n",
      "Validation Loss declined to 0.18662276634803185\n",
      "Early Stopping Counter = 0\n",
      "Epoch 44/1000\n"
     ]
    },
    {
     "name": "stderr",
     "output_type": "stream",
     "text": [
      "100%|██████████| 210/210 [00:59<00:00,  3.56it/s]\n",
      "100%|██████████| 13/13 [00:03<00:00,  3.34it/s]\n"
     ]
    },
    {
     "name": "stdout",
     "output_type": "stream",
     "text": [
      "1m 3s\n",
      "Early Stopping Counter = 1\n",
      "Epoch 45/1000\n"
     ]
    },
    {
     "name": "stderr",
     "output_type": "stream",
     "text": [
      "100%|██████████| 210/210 [00:59<00:00,  3.51it/s]\n",
      "100%|██████████| 13/13 [00:03<00:00,  3.38it/s]\n"
     ]
    },
    {
     "name": "stdout",
     "output_type": "stream",
     "text": [
      "1m 4s\n",
      "Early Stopping Counter = 2\n",
      "Epoch 46/1000\n"
     ]
    },
    {
     "name": "stderr",
     "output_type": "stream",
     "text": [
      "100%|██████████| 210/210 [00:59<00:00,  3.55it/s]\n",
      "100%|██████████| 13/13 [00:03<00:00,  3.29it/s]\n"
     ]
    },
    {
     "name": "stdout",
     "output_type": "stream",
     "text": [
      "1m 3s\n",
      "Early Stopping Counter = 3\n",
      "Epoch 47/1000\n"
     ]
    },
    {
     "name": "stderr",
     "output_type": "stream",
     "text": [
      "100%|██████████| 210/210 [00:58<00:00,  3.56it/s]\n",
      "100%|██████████| 13/13 [00:03<00:00,  3.33it/s]\n"
     ]
    },
    {
     "name": "stdout",
     "output_type": "stream",
     "text": [
      "1m 3s\n",
      "Early Stopping Counter = 4\n",
      "Epoch 48/1000\n"
     ]
    },
    {
     "name": "stderr",
     "output_type": "stream",
     "text": [
      "100%|██████████| 210/210 [00:59<00:00,  3.51it/s]\n",
      "100%|██████████| 13/13 [00:04<00:00,  3.23it/s]\n"
     ]
    },
    {
     "name": "stdout",
     "output_type": "stream",
     "text": [
      "1m 4s\n",
      "Early Stopping Counter = 5\n",
      "Epoch 49/1000\n"
     ]
    },
    {
     "name": "stderr",
     "output_type": "stream",
     "text": [
      "100%|██████████| 210/210 [00:59<00:00,  3.54it/s]\n",
      "100%|██████████| 13/13 [00:04<00:00,  3.18it/s]\n"
     ]
    },
    {
     "name": "stdout",
     "output_type": "stream",
     "text": [
      "1m 3s\n",
      "Early Stopping Counter = 6\n",
      "Epoch 50/1000\n"
     ]
    },
    {
     "name": "stderr",
     "output_type": "stream",
     "text": [
      "100%|██████████| 210/210 [00:59<00:00,  3.55it/s]\n",
      "100%|██████████| 13/13 [00:04<00:00,  3.25it/s]\n"
     ]
    },
    {
     "name": "stdout",
     "output_type": "stream",
     "text": [
      "1m 3s\n",
      "Early Stopping Counter = 7\n",
      "Epoch 51/1000\n"
     ]
    },
    {
     "name": "stderr",
     "output_type": "stream",
     "text": [
      "100%|██████████| 210/210 [00:59<00:00,  3.55it/s]\n",
      "100%|██████████| 13/13 [00:03<00:00,  3.36it/s]\n"
     ]
    },
    {
     "name": "stdout",
     "output_type": "stream",
     "text": [
      "1m 3s\n",
      "Early Stopping Counter = 8\n",
      "Epoch 52/1000\n"
     ]
    },
    {
     "name": "stderr",
     "output_type": "stream",
     "text": [
      "100%|██████████| 210/210 [00:58<00:00,  3.58it/s]\n",
      "100%|██████████| 13/13 [00:03<00:00,  3.31it/s]\n"
     ]
    },
    {
     "name": "stdout",
     "output_type": "stream",
     "text": [
      "1m 3s\n",
      "Early Stopping Counter = 9\n",
      "Epoch 53/1000\n"
     ]
    },
    {
     "name": "stderr",
     "output_type": "stream",
     "text": [
      "100%|██████████| 210/210 [00:58<00:00,  3.56it/s]\n",
      "100%|██████████| 13/13 [00:03<00:00,  3.34it/s]\n"
     ]
    },
    {
     "name": "stdout",
     "output_type": "stream",
     "text": [
      "1m 3s\n",
      "Early Stopping Counter = 10\n",
      "Epoch 54/1000\n"
     ]
    },
    {
     "name": "stderr",
     "output_type": "stream",
     "text": [
      "100%|██████████| 210/210 [00:58<00:00,  3.59it/s]\n",
      "100%|██████████| 13/13 [00:03<00:00,  3.25it/s]\n"
     ]
    },
    {
     "name": "stdout",
     "output_type": "stream",
     "text": [
      "1m 3s\n",
      "Early Stopping Counter = 11\n",
      "Epoch 55/1000\n"
     ]
    },
    {
     "name": "stderr",
     "output_type": "stream",
     "text": [
      "100%|██████████| 210/210 [00:59<00:00,  3.55it/s]\n",
      "100%|██████████| 13/13 [00:03<00:00,  3.26it/s]\n"
     ]
    },
    {
     "name": "stdout",
     "output_type": "stream",
     "text": [
      "1m 3s\n",
      "Early Stopping Counter = 12\n",
      "Epoch 56/1000\n"
     ]
    },
    {
     "name": "stderr",
     "output_type": "stream",
     "text": [
      "100%|██████████| 210/210 [00:59<00:00,  3.53it/s]\n",
      "100%|██████████| 13/13 [00:04<00:00,  3.24it/s]\n"
     ]
    },
    {
     "name": "stdout",
     "output_type": "stream",
     "text": [
      "1m 4s\n",
      "Early Stopping Counter = 13\n",
      "Epoch 57/1000\n"
     ]
    },
    {
     "name": "stderr",
     "output_type": "stream",
     "text": [
      "100%|██████████| 210/210 [00:59<00:00,  3.52it/s]\n",
      "100%|██████████| 13/13 [00:03<00:00,  3.28it/s]\n"
     ]
    },
    {
     "name": "stdout",
     "output_type": "stream",
     "text": [
      "1m 4s\n",
      "Early Stopping Counter = 14\n",
      "Epoch 58/1000\n"
     ]
    },
    {
     "name": "stderr",
     "output_type": "stream",
     "text": [
      "100%|██████████| 210/210 [00:59<00:00,  3.50it/s]\n",
      "100%|██████████| 13/13 [00:03<00:00,  3.26it/s]\n"
     ]
    },
    {
     "name": "stdout",
     "output_type": "stream",
     "text": [
      "1m 4s\n",
      "Early Stopping Counter = 15\n",
      "Epoch 59/1000\n"
     ]
    },
    {
     "name": "stderr",
     "output_type": "stream",
     "text": [
      "100%|██████████| 210/210 [00:59<00:00,  3.50it/s]\n",
      "100%|██████████| 13/13 [00:04<00:00,  3.23it/s]\n"
     ]
    },
    {
     "name": "stdout",
     "output_type": "stream",
     "text": [
      "1m 4s\n",
      "Early Stopping Counter = 16\n",
      "Epoch 60/1000\n"
     ]
    },
    {
     "name": "stderr",
     "output_type": "stream",
     "text": [
      "100%|██████████| 210/210 [01:00<00:00,  3.47it/s]\n",
      "100%|██████████| 13/13 [00:03<00:00,  3.29it/s]\n"
     ]
    },
    {
     "name": "stdout",
     "output_type": "stream",
     "text": [
      "1m 4s\n",
      "Early Stopping Counter = 17\n",
      "Epoch 61/1000\n"
     ]
    },
    {
     "name": "stderr",
     "output_type": "stream",
     "text": [
      "100%|██████████| 210/210 [00:58<00:00,  3.57it/s]\n",
      "100%|██████████| 13/13 [00:03<00:00,  3.28it/s]\n"
     ]
    },
    {
     "name": "stdout",
     "output_type": "stream",
     "text": [
      "1m 3s\n",
      "Early Stopping Counter = 18\n",
      "Epoch 62/1000\n"
     ]
    },
    {
     "name": "stderr",
     "output_type": "stream",
     "text": [
      "100%|██████████| 210/210 [00:59<00:00,  3.53it/s]\n",
      "100%|██████████| 13/13 [00:03<00:00,  3.31it/s]\n"
     ]
    },
    {
     "name": "stdout",
     "output_type": "stream",
     "text": [
      "1m 3s\n",
      "Early Stopping Counter = 19\n",
      "Epoch 63/1000\n"
     ]
    },
    {
     "name": "stderr",
     "output_type": "stream",
     "text": [
      "100%|██████████| 210/210 [00:59<00:00,  3.53it/s]\n",
      "100%|██████████| 13/13 [00:04<00:00,  3.22it/s]\n"
     ]
    },
    {
     "name": "stdout",
     "output_type": "stream",
     "text": [
      "1m 4s\n",
      "Early Stopping Counter = 20\n",
      "Epoch 64/1000\n"
     ]
    },
    {
     "name": "stderr",
     "output_type": "stream",
     "text": [
      "100%|██████████| 210/210 [00:59<00:00,  3.55it/s]\n",
      "100%|██████████| 13/13 [00:03<00:00,  3.36it/s]\n"
     ]
    },
    {
     "name": "stdout",
     "output_type": "stream",
     "text": [
      "1m 3s\n",
      "Early Stopping Counter = 21\n",
      "Epoch 65/1000\n"
     ]
    },
    {
     "name": "stderr",
     "output_type": "stream",
     "text": [
      "100%|██████████| 210/210 [00:59<00:00,  3.53it/s]\n",
      "100%|██████████| 13/13 [00:03<00:00,  3.30it/s]\n"
     ]
    },
    {
     "name": "stdout",
     "output_type": "stream",
     "text": [
      "1m 3s\n",
      "Early Stopping Counter = 22\n",
      "Epoch 66/1000\n"
     ]
    },
    {
     "name": "stderr",
     "output_type": "stream",
     "text": [
      "100%|██████████| 210/210 [00:59<00:00,  3.55it/s]\n",
      "100%|██████████| 13/13 [00:03<00:00,  3.30it/s]\n"
     ]
    },
    {
     "name": "stdout",
     "output_type": "stream",
     "text": [
      "1m 3s\n",
      "Early Stopping Counter = 23\n",
      "Epoch 67/1000\n"
     ]
    },
    {
     "name": "stderr",
     "output_type": "stream",
     "text": [
      "100%|██████████| 210/210 [00:59<00:00,  3.51it/s]\n",
      "100%|██████████| 13/13 [00:03<00:00,  3.30it/s]\n"
     ]
    },
    {
     "name": "stdout",
     "output_type": "stream",
     "text": [
      "1m 4s\n",
      "Early Stopping Counter = 24\n",
      "Epoch 68/1000\n"
     ]
    },
    {
     "name": "stderr",
     "output_type": "stream",
     "text": [
      "100%|██████████| 210/210 [00:59<00:00,  3.55it/s]\n",
      "100%|██████████| 13/13 [00:03<00:00,  3.30it/s]\n"
     ]
    },
    {
     "name": "stdout",
     "output_type": "stream",
     "text": [
      "1m 3s\n",
      "Validation Loss declined to 0.18484014731187087\n",
      "Early Stopping Counter = 0\n",
      "Epoch 69/1000\n"
     ]
    },
    {
     "name": "stderr",
     "output_type": "stream",
     "text": [
      "100%|██████████| 210/210 [00:59<00:00,  3.54it/s]\n",
      "100%|██████████| 13/13 [00:04<00:00,  3.23it/s]\n"
     ]
    },
    {
     "name": "stdout",
     "output_type": "stream",
     "text": [
      "1m 3s\n",
      "Early Stopping Counter = 1\n",
      "Epoch 70/1000\n"
     ]
    },
    {
     "name": "stderr",
     "output_type": "stream",
     "text": [
      "100%|██████████| 210/210 [00:59<00:00,  3.53it/s]\n",
      "100%|██████████| 13/13 [00:04<00:00,  3.20it/s]\n"
     ]
    },
    {
     "name": "stdout",
     "output_type": "stream",
     "text": [
      "1m 4s\n",
      "Early Stopping Counter = 2\n",
      "Epoch 71/1000\n"
     ]
    },
    {
     "name": "stderr",
     "output_type": "stream",
     "text": [
      "100%|██████████| 210/210 [00:59<00:00,  3.50it/s]\n",
      "100%|██████████| 13/13 [00:03<00:00,  3.27it/s]\n"
     ]
    },
    {
     "name": "stdout",
     "output_type": "stream",
     "text": [
      "1m 4s\n",
      "Early Stopping Counter = 3\n",
      "Epoch 72/1000\n"
     ]
    },
    {
     "name": "stderr",
     "output_type": "stream",
     "text": [
      "100%|██████████| 210/210 [01:00<00:00,  3.49it/s]\n",
      "100%|██████████| 13/13 [00:03<00:00,  3.27it/s]\n"
     ]
    },
    {
     "name": "stdout",
     "output_type": "stream",
     "text": [
      "1m 4s\n",
      "Early Stopping Counter = 4\n",
      "Epoch 73/1000\n"
     ]
    },
    {
     "name": "stderr",
     "output_type": "stream",
     "text": [
      "100%|██████████| 210/210 [00:59<00:00,  3.52it/s]\n",
      "100%|██████████| 13/13 [00:03<00:00,  3.31it/s]\n"
     ]
    },
    {
     "name": "stdout",
     "output_type": "stream",
     "text": [
      "1m 4s\n",
      "Early Stopping Counter = 5\n",
      "Epoch 74/1000\n"
     ]
    },
    {
     "name": "stderr",
     "output_type": "stream",
     "text": [
      "100%|██████████| 210/210 [00:59<00:00,  3.53it/s]\n",
      "100%|██████████| 13/13 [00:03<00:00,  3.26it/s]\n"
     ]
    },
    {
     "name": "stdout",
     "output_type": "stream",
     "text": [
      "1m 3s\n",
      "Early Stopping Counter = 6\n",
      "Epoch 75/1000\n"
     ]
    },
    {
     "name": "stderr",
     "output_type": "stream",
     "text": [
      "100%|██████████| 210/210 [00:59<00:00,  3.53it/s]\n",
      "100%|██████████| 13/13 [00:03<00:00,  3.29it/s]\n"
     ]
    },
    {
     "name": "stdout",
     "output_type": "stream",
     "text": [
      "1m 3s\n",
      "Early Stopping Counter = 7\n",
      "Epoch 76/1000\n"
     ]
    },
    {
     "name": "stderr",
     "output_type": "stream",
     "text": [
      "100%|██████████| 210/210 [00:59<00:00,  3.55it/s]\n",
      "100%|██████████| 13/13 [00:04<00:00,  3.25it/s]\n"
     ]
    },
    {
     "name": "stdout",
     "output_type": "stream",
     "text": [
      "1m 3s\n",
      "Validation Loss declined to 0.18313720707709974\n",
      "Early Stopping Counter = 0\n",
      "Epoch 77/1000\n"
     ]
    },
    {
     "name": "stderr",
     "output_type": "stream",
     "text": [
      "100%|██████████| 210/210 [00:58<00:00,  3.57it/s]\n",
      "100%|██████████| 13/13 [00:04<00:00,  3.24it/s]\n"
     ]
    },
    {
     "name": "stdout",
     "output_type": "stream",
     "text": [
      "1m 3s\n",
      "Validation Loss declined to 0.1824404029892041\n",
      "Early Stopping Counter = 0\n",
      "Epoch 78/1000\n"
     ]
    },
    {
     "name": "stderr",
     "output_type": "stream",
     "text": [
      "100%|██████████| 210/210 [00:59<00:00,  3.55it/s]\n",
      "100%|██████████| 13/13 [00:04<00:00,  3.21it/s]\n"
     ]
    },
    {
     "name": "stdout",
     "output_type": "stream",
     "text": [
      "1m 3s\n",
      "Early Stopping Counter = 1\n",
      "Epoch 79/1000\n"
     ]
    },
    {
     "name": "stderr",
     "output_type": "stream",
     "text": [
      "100%|██████████| 210/210 [00:59<00:00,  3.52it/s]\n",
      "100%|██████████| 13/13 [00:03<00:00,  3.31it/s]\n"
     ]
    },
    {
     "name": "stdout",
     "output_type": "stream",
     "text": [
      "1m 4s\n",
      "Early Stopping Counter = 2\n",
      "Epoch 80/1000\n"
     ]
    },
    {
     "name": "stderr",
     "output_type": "stream",
     "text": [
      "100%|██████████| 210/210 [00:58<00:00,  3.58it/s]\n",
      "100%|██████████| 13/13 [00:03<00:00,  3.30it/s]\n"
     ]
    },
    {
     "name": "stdout",
     "output_type": "stream",
     "text": [
      "1m 3s\n",
      "Validation Loss declined to 0.1817362640912716\n",
      "Early Stopping Counter = 0\n",
      "Epoch 81/1000\n"
     ]
    },
    {
     "name": "stderr",
     "output_type": "stream",
     "text": [
      "100%|██████████| 210/210 [00:59<00:00,  3.55it/s]\n",
      "100%|██████████| 13/13 [00:03<00:00,  3.30it/s]\n"
     ]
    },
    {
     "name": "stdout",
     "output_type": "stream",
     "text": [
      "1m 3s\n",
      "Early Stopping Counter = 1\n",
      "Epoch 82/1000\n"
     ]
    },
    {
     "name": "stderr",
     "output_type": "stream",
     "text": [
      "100%|██████████| 210/210 [00:59<00:00,  3.54it/s]\n",
      "100%|██████████| 13/13 [00:03<00:00,  3.31it/s]\n"
     ]
    },
    {
     "name": "stdout",
     "output_type": "stream",
     "text": [
      "1m 3s\n",
      "Early Stopping Counter = 2\n",
      "Epoch 83/1000\n"
     ]
    },
    {
     "name": "stderr",
     "output_type": "stream",
     "text": [
      "100%|██████████| 210/210 [00:58<00:00,  3.56it/s]\n",
      "100%|██████████| 13/13 [00:03<00:00,  3.27it/s]\n"
     ]
    },
    {
     "name": "stdout",
     "output_type": "stream",
     "text": [
      "1m 3s\n",
      "Early Stopping Counter = 3\n",
      "Epoch 84/1000\n"
     ]
    },
    {
     "name": "stderr",
     "output_type": "stream",
     "text": [
      "100%|██████████| 210/210 [01:00<00:00,  3.49it/s]\n",
      "100%|██████████| 13/13 [00:04<00:00,  3.24it/s]\n"
     ]
    },
    {
     "name": "stdout",
     "output_type": "stream",
     "text": [
      "1m 4s\n",
      "Early Stopping Counter = 4\n",
      "Epoch 85/1000\n"
     ]
    },
    {
     "name": "stderr",
     "output_type": "stream",
     "text": [
      "100%|██████████| 210/210 [00:59<00:00,  3.54it/s]\n",
      "100%|██████████| 13/13 [00:04<00:00,  3.17it/s]\n"
     ]
    },
    {
     "name": "stdout",
     "output_type": "stream",
     "text": [
      "1m 3s\n",
      "Early Stopping Counter = 5\n",
      "Epoch 86/1000\n"
     ]
    },
    {
     "name": "stderr",
     "output_type": "stream",
     "text": [
      "100%|██████████| 210/210 [00:59<00:00,  3.53it/s]\n",
      "100%|██████████| 13/13 [00:03<00:00,  3.26it/s]\n"
     ]
    },
    {
     "name": "stdout",
     "output_type": "stream",
     "text": [
      "1m 3s\n",
      "Early Stopping Counter = 6\n",
      "Epoch 87/1000\n"
     ]
    },
    {
     "name": "stderr",
     "output_type": "stream",
     "text": [
      "100%|██████████| 210/210 [00:58<00:00,  3.61it/s]\n",
      "100%|██████████| 13/13 [00:03<00:00,  3.28it/s]\n"
     ]
    },
    {
     "name": "stdout",
     "output_type": "stream",
     "text": [
      "1m 2s\n",
      "Early Stopping Counter = 7\n",
      "Epoch 88/1000\n"
     ]
    },
    {
     "name": "stderr",
     "output_type": "stream",
     "text": [
      "100%|██████████| 210/210 [00:59<00:00,  3.55it/s]\n",
      "100%|██████████| 13/13 [00:04<00:00,  3.14it/s]\n"
     ]
    },
    {
     "name": "stdout",
     "output_type": "stream",
     "text": [
      "1m 3s\n",
      "Validation Loss declined to 0.18010288305007494\n",
      "Early Stopping Counter = 0\n",
      "Epoch 89/1000\n"
     ]
    },
    {
     "name": "stderr",
     "output_type": "stream",
     "text": [
      "100%|██████████| 210/210 [00:58<00:00,  3.58it/s]\n",
      "100%|██████████| 13/13 [00:04<00:00,  3.14it/s]\n"
     ]
    },
    {
     "name": "stdout",
     "output_type": "stream",
     "text": [
      "1m 3s\n",
      "Early Stopping Counter = 1\n",
      "Epoch 90/1000\n"
     ]
    },
    {
     "name": "stderr",
     "output_type": "stream",
     "text": [
      "100%|██████████| 210/210 [00:58<00:00,  3.60it/s]\n",
      "100%|██████████| 13/13 [00:04<00:00,  3.11it/s]\n"
     ]
    },
    {
     "name": "stdout",
     "output_type": "stream",
     "text": [
      "1m 2s\n",
      "Early Stopping Counter = 2\n",
      "Epoch 91/1000\n"
     ]
    },
    {
     "name": "stderr",
     "output_type": "stream",
     "text": [
      "100%|██████████| 210/210 [00:58<00:00,  3.57it/s]\n",
      "100%|██████████| 13/13 [00:03<00:00,  3.26it/s]\n"
     ]
    },
    {
     "name": "stdout",
     "output_type": "stream",
     "text": [
      "1m 3s\n",
      "Early Stopping Counter = 3\n",
      "Epoch 92/1000\n"
     ]
    },
    {
     "name": "stderr",
     "output_type": "stream",
     "text": [
      "100%|██████████| 210/210 [00:59<00:00,  3.55it/s]\n",
      "100%|██████████| 13/13 [00:03<00:00,  3.26it/s]\n"
     ]
    },
    {
     "name": "stdout",
     "output_type": "stream",
     "text": [
      "1m 3s\n",
      "Early Stopping Counter = 4\n",
      "Epoch 93/1000\n"
     ]
    },
    {
     "name": "stderr",
     "output_type": "stream",
     "text": [
      "100%|██████████| 210/210 [00:58<00:00,  3.57it/s]\n",
      "100%|██████████| 13/13 [00:04<00:00,  3.13it/s]\n"
     ]
    },
    {
     "name": "stdout",
     "output_type": "stream",
     "text": [
      "1m 3s\n",
      "Early Stopping Counter = 5\n",
      "Epoch 94/1000\n"
     ]
    },
    {
     "name": "stderr",
     "output_type": "stream",
     "text": [
      "100%|██████████| 210/210 [00:59<00:00,  3.54it/s]\n",
      "100%|██████████| 13/13 [00:03<00:00,  3.32it/s]\n"
     ]
    },
    {
     "name": "stdout",
     "output_type": "stream",
     "text": [
      "1m 3s\n",
      "Early Stopping Counter = 6\n",
      "Epoch 95/1000\n"
     ]
    },
    {
     "name": "stderr",
     "output_type": "stream",
     "text": [
      "100%|██████████| 210/210 [00:59<00:00,  3.54it/s]\n",
      "100%|██████████| 13/13 [00:03<00:00,  3.33it/s]\n"
     ]
    },
    {
     "name": "stdout",
     "output_type": "stream",
     "text": [
      "1m 3s\n",
      "Early Stopping Counter = 7\n",
      "Epoch 96/1000\n"
     ]
    },
    {
     "name": "stderr",
     "output_type": "stream",
     "text": [
      "100%|██████████| 210/210 [00:58<00:00,  3.57it/s]\n",
      "100%|██████████| 13/13 [00:04<00:00,  3.24it/s]\n"
     ]
    },
    {
     "name": "stdout",
     "output_type": "stream",
     "text": [
      "1m 3s\n",
      "Early Stopping Counter = 8\n",
      "Epoch 97/1000\n"
     ]
    },
    {
     "name": "stderr",
     "output_type": "stream",
     "text": [
      "100%|██████████| 210/210 [01:00<00:00,  3.45it/s]\n",
      "100%|██████████| 13/13 [00:03<00:00,  3.37it/s]\n"
     ]
    },
    {
     "name": "stdout",
     "output_type": "stream",
     "text": [
      "1m 5s\n",
      "Early Stopping Counter = 9\n",
      "Epoch 98/1000\n"
     ]
    },
    {
     "name": "stderr",
     "output_type": "stream",
     "text": [
      "100%|██████████| 210/210 [00:59<00:00,  3.53it/s]\n",
      "100%|██████████| 13/13 [00:03<00:00,  3.29it/s]\n"
     ]
    },
    {
     "name": "stdout",
     "output_type": "stream",
     "text": [
      "1m 3s\n",
      "Early Stopping Counter = 10\n",
      "Epoch 99/1000\n"
     ]
    },
    {
     "name": "stderr",
     "output_type": "stream",
     "text": [
      "100%|██████████| 210/210 [00:59<00:00,  3.56it/s]\n",
      "100%|██████████| 13/13 [00:03<00:00,  3.35it/s]\n"
     ]
    },
    {
     "name": "stdout",
     "output_type": "stream",
     "text": [
      "1m 3s\n",
      "Early Stopping Counter = 11\n",
      "Epoch 100/1000\n"
     ]
    },
    {
     "name": "stderr",
     "output_type": "stream",
     "text": [
      "100%|██████████| 210/210 [01:00<00:00,  3.49it/s]\n",
      "100%|██████████| 13/13 [00:03<00:00,  3.30it/s]\n"
     ]
    },
    {
     "name": "stdout",
     "output_type": "stream",
     "text": [
      "1m 4s\n",
      "Early Stopping Counter = 12\n",
      "Epoch 101/1000\n"
     ]
    },
    {
     "name": "stderr",
     "output_type": "stream",
     "text": [
      "100%|██████████| 210/210 [00:59<00:00,  3.52it/s]\n",
      "100%|██████████| 13/13 [00:03<00:00,  3.26it/s]\n"
     ]
    },
    {
     "name": "stdout",
     "output_type": "stream",
     "text": [
      "1m 4s\n",
      "Early Stopping Counter = 13\n",
      "Epoch 102/1000\n"
     ]
    },
    {
     "name": "stderr",
     "output_type": "stream",
     "text": [
      "100%|██████████| 210/210 [01:00<00:00,  3.47it/s]\n",
      "100%|██████████| 13/13 [00:04<00:00,  3.24it/s]\n"
     ]
    },
    {
     "name": "stdout",
     "output_type": "stream",
     "text": [
      "1m 5s\n",
      "Early Stopping Counter = 14\n",
      "Epoch 103/1000\n"
     ]
    },
    {
     "name": "stderr",
     "output_type": "stream",
     "text": [
      "100%|██████████| 210/210 [01:00<00:00,  3.49it/s]\n",
      "100%|██████████| 13/13 [00:03<00:00,  3.26it/s]\n"
     ]
    },
    {
     "name": "stdout",
     "output_type": "stream",
     "text": [
      "1m 4s\n",
      "Early Stopping Counter = 15\n",
      "Epoch 104/1000\n"
     ]
    },
    {
     "name": "stderr",
     "output_type": "stream",
     "text": [
      "100%|██████████| 210/210 [00:59<00:00,  3.52it/s]\n",
      "100%|██████████| 13/13 [00:03<00:00,  3.30it/s]\n"
     ]
    },
    {
     "name": "stdout",
     "output_type": "stream",
     "text": [
      "1m 4s\n",
      "Early Stopping Counter = 16\n",
      "Epoch 105/1000\n"
     ]
    },
    {
     "name": "stderr",
     "output_type": "stream",
     "text": [
      "100%|██████████| 210/210 [00:58<00:00,  3.56it/s]\n",
      "100%|██████████| 13/13 [00:03<00:00,  3.27it/s]\n"
     ]
    },
    {
     "name": "stdout",
     "output_type": "stream",
     "text": [
      "1m 3s\n",
      "Early Stopping Counter = 17\n",
      "Epoch 106/1000\n"
     ]
    },
    {
     "name": "stderr",
     "output_type": "stream",
     "text": [
      "100%|██████████| 210/210 [00:59<00:00,  3.55it/s]\n",
      "100%|██████████| 13/13 [00:03<00:00,  3.25it/s]\n"
     ]
    },
    {
     "name": "stdout",
     "output_type": "stream",
     "text": [
      "1m 3s\n",
      "Early Stopping Counter = 18\n",
      "Epoch 107/1000\n"
     ]
    },
    {
     "name": "stderr",
     "output_type": "stream",
     "text": [
      "100%|██████████| 210/210 [00:58<00:00,  3.57it/s]\n",
      "100%|██████████| 13/13 [00:04<00:00,  3.22it/s]\n"
     ]
    },
    {
     "name": "stdout",
     "output_type": "stream",
     "text": [
      "1m 3s\n",
      "Early Stopping Counter = 19\n",
      "Epoch 108/1000\n"
     ]
    },
    {
     "name": "stderr",
     "output_type": "stream",
     "text": [
      "100%|██████████| 210/210 [00:59<00:00,  3.56it/s]\n",
      "100%|██████████| 13/13 [00:04<00:00,  3.17it/s]\n"
     ]
    },
    {
     "name": "stdout",
     "output_type": "stream",
     "text": [
      "1m 3s\n",
      "Early Stopping Counter = 20\n",
      "Epoch 109/1000\n"
     ]
    },
    {
     "name": "stderr",
     "output_type": "stream",
     "text": [
      "100%|██████████| 210/210 [00:59<00:00,  3.52it/s]\n",
      "100%|██████████| 13/13 [00:04<00:00,  3.22it/s]\n"
     ]
    },
    {
     "name": "stdout",
     "output_type": "stream",
     "text": [
      "1m 4s\n",
      "Early Stopping Counter = 21\n",
      "Epoch 110/1000\n"
     ]
    },
    {
     "name": "stderr",
     "output_type": "stream",
     "text": [
      "100%|██████████| 210/210 [01:00<00:00,  3.48it/s]\n",
      "100%|██████████| 13/13 [00:04<00:00,  3.21it/s]\n"
     ]
    },
    {
     "name": "stdout",
     "output_type": "stream",
     "text": [
      "1m 4s\n",
      "Early Stopping Counter = 22\n",
      "Epoch 111/1000\n"
     ]
    },
    {
     "name": "stderr",
     "output_type": "stream",
     "text": [
      "100%|██████████| 210/210 [00:59<00:00,  3.53it/s]\n",
      "100%|██████████| 13/13 [00:04<00:00,  3.24it/s]\n"
     ]
    },
    {
     "name": "stdout",
     "output_type": "stream",
     "text": [
      "1m 3s\n",
      "Early Stopping Counter = 23\n",
      "Epoch 112/1000\n"
     ]
    },
    {
     "name": "stderr",
     "output_type": "stream",
     "text": [
      "100%|██████████| 210/210 [01:00<00:00,  3.49it/s]\n",
      "100%|██████████| 13/13 [00:03<00:00,  3.31it/s]\n"
     ]
    },
    {
     "name": "stdout",
     "output_type": "stream",
     "text": [
      "1m 4s\n",
      "Early Stopping Counter = 24\n",
      "Epoch 113/1000\n"
     ]
    },
    {
     "name": "stderr",
     "output_type": "stream",
     "text": [
      "100%|██████████| 210/210 [00:59<00:00,  3.54it/s]\n",
      "100%|██████████| 13/13 [00:03<00:00,  3.31it/s]\n"
     ]
    },
    {
     "name": "stdout",
     "output_type": "stream",
     "text": [
      "1m 3s\n",
      "Early Stopping Counter = 25\n",
      "Epoch 114/1000\n"
     ]
    },
    {
     "name": "stderr",
     "output_type": "stream",
     "text": [
      "100%|██████████| 210/210 [01:00<00:00,  3.49it/s]\n",
      "100%|██████████| 13/13 [00:03<00:00,  3.31it/s]\n"
     ]
    },
    {
     "name": "stdout",
     "output_type": "stream",
     "text": [
      "1m 4s\n",
      "Early Stopping Counter = 26\n",
      "Epoch 115/1000\n"
     ]
    },
    {
     "name": "stderr",
     "output_type": "stream",
     "text": [
      "100%|██████████| 210/210 [00:59<00:00,  3.52it/s]\n",
      "100%|██████████| 13/13 [00:03<00:00,  3.28it/s]\n"
     ]
    },
    {
     "name": "stdout",
     "output_type": "stream",
     "text": [
      "1m 4s\n",
      "Early Stopping Counter = 27\n",
      "Epoch 116/1000\n"
     ]
    },
    {
     "name": "stderr",
     "output_type": "stream",
     "text": [
      "100%|██████████| 210/210 [00:59<00:00,  3.54it/s]\n",
      "100%|██████████| 13/13 [00:03<00:00,  3.27it/s]\n"
     ]
    },
    {
     "name": "stdout",
     "output_type": "stream",
     "text": [
      "1m 3s\n",
      "Early Stopping Counter = 28\n",
      "Epoch 117/1000\n"
     ]
    },
    {
     "name": "stderr",
     "output_type": "stream",
     "text": [
      "100%|██████████| 210/210 [01:00<00:00,  3.49it/s]\n",
      "100%|██████████| 13/13 [00:03<00:00,  3.29it/s]\n"
     ]
    },
    {
     "name": "stdout",
     "output_type": "stream",
     "text": [
      "1m 4s\n",
      "Early Stopping Counter = 29\n",
      "Epoch 118/1000\n"
     ]
    },
    {
     "name": "stderr",
     "output_type": "stream",
     "text": [
      "100%|██████████| 210/210 [00:59<00:00,  3.54it/s]\n",
      "100%|██████████| 13/13 [00:04<00:00,  3.22it/s]\n"
     ]
    },
    {
     "name": "stdout",
     "output_type": "stream",
     "text": [
      "1m 3s\n",
      "Early Stopping Counter = 30\n",
      "Epoch 119/1000\n"
     ]
    },
    {
     "name": "stderr",
     "output_type": "stream",
     "text": [
      "100%|██████████| 210/210 [00:59<00:00,  3.55it/s]\n",
      "100%|██████████| 13/13 [00:03<00:00,  3.28it/s]\n"
     ]
    },
    {
     "name": "stdout",
     "output_type": "stream",
     "text": [
      "1m 3s\n",
      "Early Stopping Counter = 31\n",
      "Epoch 120/1000\n"
     ]
    },
    {
     "name": "stderr",
     "output_type": "stream",
     "text": [
      "100%|██████████| 210/210 [00:59<00:00,  3.56it/s]\n",
      "100%|██████████| 13/13 [00:03<00:00,  3.30it/s]\n"
     ]
    },
    {
     "name": "stdout",
     "output_type": "stream",
     "text": [
      "1m 3s\n",
      "Validation Loss declined to 0.17113047093153\n",
      "Early Stopping Counter = 0\n",
      "Epoch 121/1000\n"
     ]
    },
    {
     "name": "stderr",
     "output_type": "stream",
     "text": [
      "100%|██████████| 210/210 [00:59<00:00,  3.55it/s]\n",
      "100%|██████████| 13/13 [00:03<00:00,  3.32it/s]\n"
     ]
    },
    {
     "name": "stdout",
     "output_type": "stream",
     "text": [
      "1m 3s\n",
      "Early Stopping Counter = 1\n",
      "Epoch 122/1000\n"
     ]
    },
    {
     "name": "stderr",
     "output_type": "stream",
     "text": [
      "100%|██████████| 210/210 [00:59<00:00,  3.52it/s]\n",
      "100%|██████████| 13/13 [00:03<00:00,  3.35it/s]\n"
     ]
    },
    {
     "name": "stdout",
     "output_type": "stream",
     "text": [
      "1m 4s\n",
      "Early Stopping Counter = 2\n",
      "Epoch 123/1000\n"
     ]
    },
    {
     "name": "stderr",
     "output_type": "stream",
     "text": [
      "100%|██████████| 210/210 [00:59<00:00,  3.50it/s]\n",
      "100%|██████████| 13/13 [00:03<00:00,  3.30it/s]\n"
     ]
    },
    {
     "name": "stdout",
     "output_type": "stream",
     "text": [
      "1m 4s\n",
      "Early Stopping Counter = 3\n",
      "Epoch 124/1000\n"
     ]
    },
    {
     "name": "stderr",
     "output_type": "stream",
     "text": [
      "100%|██████████| 210/210 [00:59<00:00,  3.56it/s]\n",
      "100%|██████████| 13/13 [00:03<00:00,  3.29it/s]\n"
     ]
    },
    {
     "name": "stdout",
     "output_type": "stream",
     "text": [
      "1m 3s\n",
      "Early Stopping Counter = 4\n",
      "Epoch 125/1000\n"
     ]
    },
    {
     "name": "stderr",
     "output_type": "stream",
     "text": [
      "100%|██████████| 210/210 [00:59<00:00,  3.54it/s]\n",
      "100%|██████████| 13/13 [00:04<00:00,  3.24it/s]\n"
     ]
    },
    {
     "name": "stdout",
     "output_type": "stream",
     "text": [
      "1m 3s\n",
      "Early Stopping Counter = 5\n",
      "Epoch 126/1000\n"
     ]
    },
    {
     "name": "stderr",
     "output_type": "stream",
     "text": [
      "100%|██████████| 210/210 [00:59<00:00,  3.56it/s]\n",
      "100%|██████████| 13/13 [00:03<00:00,  3.34it/s]\n"
     ]
    },
    {
     "name": "stdout",
     "output_type": "stream",
     "text": [
      "1m 3s\n",
      "Early Stopping Counter = 6\n",
      "Epoch 127/1000\n"
     ]
    },
    {
     "name": "stderr",
     "output_type": "stream",
     "text": [
      "100%|██████████| 210/210 [00:59<00:00,  3.51it/s]\n",
      "100%|██████████| 13/13 [00:04<00:00,  3.18it/s]\n"
     ]
    },
    {
     "name": "stdout",
     "output_type": "stream",
     "text": [
      "1m 4s\n",
      "Early Stopping Counter = 7\n",
      "Epoch 128/1000\n"
     ]
    },
    {
     "name": "stderr",
     "output_type": "stream",
     "text": [
      "100%|██████████| 210/210 [00:59<00:00,  3.54it/s]\n",
      "100%|██████████| 13/13 [00:04<00:00,  3.24it/s]\n"
     ]
    },
    {
     "name": "stdout",
     "output_type": "stream",
     "text": [
      "1m 3s\n",
      "Early Stopping Counter = 8\n",
      "Epoch 129/1000\n"
     ]
    },
    {
     "name": "stderr",
     "output_type": "stream",
     "text": [
      "100%|██████████| 210/210 [01:00<00:00,  3.49it/s]\n",
      "100%|██████████| 13/13 [00:03<00:00,  3.30it/s]\n"
     ]
    },
    {
     "name": "stdout",
     "output_type": "stream",
     "text": [
      "1m 4s\n",
      "Early Stopping Counter = 9\n",
      "Epoch 130/1000\n"
     ]
    },
    {
     "name": "stderr",
     "output_type": "stream",
     "text": [
      "100%|██████████| 210/210 [00:58<00:00,  3.58it/s]\n",
      "100%|██████████| 13/13 [00:03<00:00,  3.27it/s]\n"
     ]
    },
    {
     "name": "stdout",
     "output_type": "stream",
     "text": [
      "1m 3s\n",
      "Early Stopping Counter = 10\n",
      "Epoch 131/1000\n"
     ]
    },
    {
     "name": "stderr",
     "output_type": "stream",
     "text": [
      "100%|██████████| 210/210 [00:59<00:00,  3.56it/s]\n",
      "100%|██████████| 13/13 [00:03<00:00,  3.32it/s]\n"
     ]
    },
    {
     "name": "stdout",
     "output_type": "stream",
     "text": [
      "1m 3s\n",
      "Validation Loss declined to 0.16978513907927734\n",
      "Early Stopping Counter = 0\n",
      "Epoch 132/1000\n"
     ]
    },
    {
     "name": "stderr",
     "output_type": "stream",
     "text": [
      "100%|██████████| 210/210 [00:59<00:00,  3.53it/s]\n",
      "100%|██████████| 13/13 [00:03<00:00,  3.29it/s]\n"
     ]
    },
    {
     "name": "stdout",
     "output_type": "stream",
     "text": [
      "1m 3s\n",
      "Early Stopping Counter = 1\n",
      "Epoch 133/1000\n"
     ]
    },
    {
     "name": "stderr",
     "output_type": "stream",
     "text": [
      "100%|██████████| 210/210 [01:00<00:00,  3.48it/s]\n",
      "100%|██████████| 13/13 [00:03<00:00,  3.30it/s]\n"
     ]
    },
    {
     "name": "stdout",
     "output_type": "stream",
     "text": [
      "1m 4s\n",
      "Early Stopping Counter = 2\n",
      "Epoch 134/1000\n"
     ]
    },
    {
     "name": "stderr",
     "output_type": "stream",
     "text": [
      "100%|██████████| 210/210 [00:59<00:00,  3.54it/s]\n",
      "100%|██████████| 13/13 [00:04<00:00,  3.24it/s]\n"
     ]
    },
    {
     "name": "stdout",
     "output_type": "stream",
     "text": [
      "1m 3s\n",
      "Early Stopping Counter = 3\n",
      "Epoch 135/1000\n"
     ]
    },
    {
     "name": "stderr",
     "output_type": "stream",
     "text": [
      "100%|██████████| 210/210 [00:59<00:00,  3.52it/s]\n",
      "100%|██████████| 13/13 [00:03<00:00,  3.28it/s]\n"
     ]
    },
    {
     "name": "stdout",
     "output_type": "stream",
     "text": [
      "1m 4s\n",
      "Early Stopping Counter = 4\n",
      "Epoch 136/1000\n"
     ]
    },
    {
     "name": "stderr",
     "output_type": "stream",
     "text": [
      "100%|██████████| 210/210 [00:59<00:00,  3.52it/s]\n",
      "100%|██████████| 13/13 [00:03<00:00,  3.28it/s]\n"
     ]
    },
    {
     "name": "stdout",
     "output_type": "stream",
     "text": [
      "1m 4s\n",
      "Early Stopping Counter = 5\n",
      "Epoch 137/1000\n"
     ]
    },
    {
     "name": "stderr",
     "output_type": "stream",
     "text": [
      "100%|██████████| 210/210 [00:59<00:00,  3.53it/s]\n",
      "100%|██████████| 13/13 [00:04<00:00,  3.23it/s]\n"
     ]
    },
    {
     "name": "stdout",
     "output_type": "stream",
     "text": [
      "1m 4s\n",
      "Early Stopping Counter = 6\n",
      "Epoch 138/1000\n"
     ]
    },
    {
     "name": "stderr",
     "output_type": "stream",
     "text": [
      "100%|██████████| 210/210 [00:59<00:00,  3.53it/s]\n",
      "100%|██████████| 13/13 [00:04<00:00,  3.22it/s]\n"
     ]
    },
    {
     "name": "stdout",
     "output_type": "stream",
     "text": [
      "1m 3s\n",
      "Early Stopping Counter = 7\n",
      "Epoch 139/1000\n"
     ]
    },
    {
     "name": "stderr",
     "output_type": "stream",
     "text": [
      "100%|██████████| 210/210 [00:59<00:00,  3.52it/s]\n",
      "100%|██████████| 13/13 [00:03<00:00,  3.26it/s]\n"
     ]
    },
    {
     "name": "stdout",
     "output_type": "stream",
     "text": [
      "1m 4s\n",
      "Early Stopping Counter = 8\n",
      "Epoch 140/1000\n"
     ]
    },
    {
     "name": "stderr",
     "output_type": "stream",
     "text": [
      "100%|██████████| 210/210 [01:00<00:00,  3.50it/s]\n",
      "100%|██████████| 13/13 [00:03<00:00,  3.25it/s]\n"
     ]
    },
    {
     "name": "stdout",
     "output_type": "stream",
     "text": [
      "1m 4s\n",
      "Early Stopping Counter = 9\n",
      "Epoch 141/1000\n"
     ]
    },
    {
     "name": "stderr",
     "output_type": "stream",
     "text": [
      "100%|██████████| 210/210 [01:00<00:00,  3.50it/s]\n",
      "100%|██████████| 13/13 [00:04<00:00,  3.24it/s]\n"
     ]
    },
    {
     "name": "stdout",
     "output_type": "stream",
     "text": [
      "1m 4s\n",
      "Early Stopping Counter = 10\n",
      "Epoch 142/1000\n"
     ]
    },
    {
     "name": "stderr",
     "output_type": "stream",
     "text": [
      "100%|██████████| 210/210 [00:59<00:00,  3.54it/s]\n",
      "100%|██████████| 13/13 [00:04<00:00,  3.20it/s]\n"
     ]
    },
    {
     "name": "stdout",
     "output_type": "stream",
     "text": [
      "1m 3s\n",
      "Early Stopping Counter = 11\n",
      "Epoch 143/1000\n"
     ]
    },
    {
     "name": "stderr",
     "output_type": "stream",
     "text": [
      "100%|██████████| 210/210 [00:59<00:00,  3.56it/s]\n",
      "100%|██████████| 13/13 [00:03<00:00,  3.31it/s]\n"
     ]
    },
    {
     "name": "stdout",
     "output_type": "stream",
     "text": [
      "1m 3s\n",
      "Early Stopping Counter = 12\n",
      "Epoch 144/1000\n"
     ]
    },
    {
     "name": "stderr",
     "output_type": "stream",
     "text": [
      "100%|██████████| 210/210 [00:59<00:00,  3.51it/s]\n",
      "100%|██████████| 13/13 [00:04<00:00,  3.23it/s]\n"
     ]
    },
    {
     "name": "stdout",
     "output_type": "stream",
     "text": [
      "1m 4s\n",
      "Early Stopping Counter = 13\n",
      "Epoch 145/1000\n"
     ]
    },
    {
     "name": "stderr",
     "output_type": "stream",
     "text": [
      "100%|██████████| 210/210 [00:59<00:00,  3.55it/s]\n",
      "100%|██████████| 13/13 [00:03<00:00,  3.30it/s]\n"
     ]
    },
    {
     "name": "stdout",
     "output_type": "stream",
     "text": [
      "1m 3s\n",
      "Early Stopping Counter = 14\n",
      "Epoch 146/1000\n"
     ]
    },
    {
     "name": "stderr",
     "output_type": "stream",
     "text": [
      "100%|██████████| 210/210 [00:59<00:00,  3.55it/s]\n",
      "100%|██████████| 13/13 [00:04<00:00,  3.22it/s]\n"
     ]
    },
    {
     "name": "stdout",
     "output_type": "stream",
     "text": [
      "1m 3s\n",
      "Early Stopping Counter = 15\n",
      "Epoch 147/1000\n"
     ]
    },
    {
     "name": "stderr",
     "output_type": "stream",
     "text": [
      "100%|██████████| 210/210 [00:59<00:00,  3.54it/s]\n",
      "100%|██████████| 13/13 [00:03<00:00,  3.27it/s]\n"
     ]
    },
    {
     "name": "stdout",
     "output_type": "stream",
     "text": [
      "1m 3s\n",
      "Early Stopping Counter = 16\n",
      "Epoch 148/1000\n"
     ]
    },
    {
     "name": "stderr",
     "output_type": "stream",
     "text": [
      "100%|██████████| 210/210 [01:00<00:00,  3.47it/s]\n",
      "100%|██████████| 13/13 [00:03<00:00,  3.28it/s]\n"
     ]
    },
    {
     "name": "stdout",
     "output_type": "stream",
     "text": [
      "1m 5s\n",
      "Early Stopping Counter = 17\n",
      "Epoch 149/1000\n"
     ]
    },
    {
     "name": "stderr",
     "output_type": "stream",
     "text": [
      "100%|██████████| 210/210 [00:58<00:00,  3.56it/s]\n",
      "100%|██████████| 13/13 [00:03<00:00,  3.26it/s]\n"
     ]
    },
    {
     "name": "stdout",
     "output_type": "stream",
     "text": [
      "1m 3s\n",
      "Early Stopping Counter = 18\n",
      "Epoch 150/1000\n"
     ]
    },
    {
     "name": "stderr",
     "output_type": "stream",
     "text": [
      "100%|██████████| 210/210 [00:59<00:00,  3.51it/s]\n",
      "100%|██████████| 13/13 [00:03<00:00,  3.30it/s]\n"
     ]
    },
    {
     "name": "stdout",
     "output_type": "stream",
     "text": [
      "1m 4s\n",
      "Early Stopping Counter = 19\n",
      "Epoch 151/1000\n"
     ]
    },
    {
     "name": "stderr",
     "output_type": "stream",
     "text": [
      "100%|██████████| 210/210 [00:59<00:00,  3.51it/s]\n",
      "100%|██████████| 13/13 [00:04<00:00,  3.21it/s]\n"
     ]
    },
    {
     "name": "stdout",
     "output_type": "stream",
     "text": [
      "1m 4s\n",
      "Early Stopping Counter = 20\n",
      "Epoch 152/1000\n"
     ]
    },
    {
     "name": "stderr",
     "output_type": "stream",
     "text": [
      "100%|██████████| 210/210 [00:59<00:00,  3.50it/s]\n",
      "100%|██████████| 13/13 [00:03<00:00,  3.25it/s]\n"
     ]
    },
    {
     "name": "stdout",
     "output_type": "stream",
     "text": [
      "1m 4s\n",
      "Early Stopping Counter = 21\n",
      "Epoch 153/1000\n"
     ]
    },
    {
     "name": "stderr",
     "output_type": "stream",
     "text": [
      "100%|██████████| 210/210 [00:59<00:00,  3.54it/s]\n",
      "100%|██████████| 13/13 [00:04<00:00,  3.16it/s]\n"
     ]
    },
    {
     "name": "stdout",
     "output_type": "stream",
     "text": [
      "1m 3s\n",
      "Early Stopping Counter = 22\n",
      "Epoch 154/1000\n"
     ]
    },
    {
     "name": "stderr",
     "output_type": "stream",
     "text": [
      "100%|██████████| 210/210 [00:58<00:00,  3.56it/s]\n",
      "100%|██████████| 13/13 [00:04<00:00,  3.25it/s]\n"
     ]
    },
    {
     "name": "stdout",
     "output_type": "stream",
     "text": [
      "1m 3s\n",
      "Early Stopping Counter = 23\n",
      "Epoch 155/1000\n"
     ]
    },
    {
     "name": "stderr",
     "output_type": "stream",
     "text": [
      "100%|██████████| 210/210 [00:59<00:00,  3.53it/s]\n",
      "100%|██████████| 13/13 [00:04<00:00,  3.24it/s]\n"
     ]
    },
    {
     "name": "stdout",
     "output_type": "stream",
     "text": [
      "1m 4s\n",
      "Early Stopping Counter = 24\n",
      "Epoch 156/1000\n"
     ]
    },
    {
     "name": "stderr",
     "output_type": "stream",
     "text": [
      "100%|██████████| 210/210 [00:59<00:00,  3.53it/s]\n",
      "100%|██████████| 13/13 [00:03<00:00,  3.27it/s]\n"
     ]
    },
    {
     "name": "stdout",
     "output_type": "stream",
     "text": [
      "1m 4s\n",
      "Early Stopping Counter = 25\n",
      "Epoch 157/1000\n"
     ]
    },
    {
     "name": "stderr",
     "output_type": "stream",
     "text": [
      "100%|██████████| 210/210 [00:58<00:00,  3.57it/s]\n",
      "100%|██████████| 13/13 [00:04<00:00,  3.21it/s]\n"
     ]
    },
    {
     "name": "stdout",
     "output_type": "stream",
     "text": [
      "1m 3s\n",
      "Early Stopping Counter = 26\n",
      "Epoch 158/1000\n"
     ]
    },
    {
     "name": "stderr",
     "output_type": "stream",
     "text": [
      "100%|██████████| 210/210 [00:59<00:00,  3.55it/s]\n",
      "100%|██████████| 13/13 [00:04<00:00,  3.21it/s]\n"
     ]
    },
    {
     "name": "stdout",
     "output_type": "stream",
     "text": [
      "1m 3s\n",
      "Early Stopping Counter = 27\n",
      "Epoch 159/1000\n"
     ]
    },
    {
     "name": "stderr",
     "output_type": "stream",
     "text": [
      "100%|██████████| 210/210 [00:59<00:00,  3.54it/s]\n",
      "100%|██████████| 13/13 [00:03<00:00,  3.28it/s]\n"
     ]
    },
    {
     "name": "stdout",
     "output_type": "stream",
     "text": [
      "1m 3s\n",
      "Early Stopping Counter = 28\n",
      "Epoch 160/1000\n"
     ]
    },
    {
     "name": "stderr",
     "output_type": "stream",
     "text": [
      "100%|██████████| 210/210 [00:58<00:00,  3.56it/s]\n",
      "100%|██████████| 13/13 [00:04<00:00,  3.22it/s]\n"
     ]
    },
    {
     "name": "stdout",
     "output_type": "stream",
     "text": [
      "1m 3s\n",
      "Early Stopping Counter = 29\n",
      "Epoch 161/1000\n"
     ]
    },
    {
     "name": "stderr",
     "output_type": "stream",
     "text": [
      "100%|██████████| 210/210 [00:59<00:00,  3.50it/s]\n",
      "100%|██████████| 13/13 [00:04<00:00,  3.24it/s]\n"
     ]
    },
    {
     "name": "stdout",
     "output_type": "stream",
     "text": [
      "1m 4s\n",
      "Early Stopping Counter = 30\n",
      "Epoch 162/1000\n"
     ]
    },
    {
     "name": "stderr",
     "output_type": "stream",
     "text": [
      "100%|██████████| 210/210 [00:59<00:00,  3.51it/s]\n",
      "100%|██████████| 13/13 [00:04<00:00,  3.20it/s]\n"
     ]
    },
    {
     "name": "stdout",
     "output_type": "stream",
     "text": [
      "1m 4s\n",
      "Early Stopping Counter = 31\n",
      "Epoch 163/1000\n"
     ]
    },
    {
     "name": "stderr",
     "output_type": "stream",
     "text": [
      "100%|██████████| 210/210 [00:59<00:00,  3.56it/s]\n",
      "100%|██████████| 13/13 [00:04<00:00,  3.18it/s]\n"
     ]
    },
    {
     "name": "stdout",
     "output_type": "stream",
     "text": [
      "1m 3s\n",
      "Early Stopping Counter = 32\n",
      "Epoch 164/1000\n"
     ]
    },
    {
     "name": "stderr",
     "output_type": "stream",
     "text": [
      "100%|██████████| 210/210 [00:59<00:00,  3.51it/s]\n",
      "100%|██████████| 13/13 [00:04<00:00,  3.20it/s]\n"
     ]
    },
    {
     "name": "stdout",
     "output_type": "stream",
     "text": [
      "1m 4s\n",
      "Early Stopping Counter = 33\n",
      "Epoch 165/1000\n"
     ]
    },
    {
     "name": "stderr",
     "output_type": "stream",
     "text": [
      "100%|██████████| 210/210 [00:59<00:00,  3.53it/s]\n",
      "100%|██████████| 13/13 [00:04<00:00,  3.23it/s]\n"
     ]
    },
    {
     "name": "stdout",
     "output_type": "stream",
     "text": [
      "1m 4s\n",
      "Early Stopping Counter = 34\n",
      "Epoch 166/1000\n"
     ]
    },
    {
     "name": "stderr",
     "output_type": "stream",
     "text": [
      "100%|██████████| 210/210 [00:59<00:00,  3.55it/s]\n",
      "100%|██████████| 13/13 [00:04<00:00,  3.22it/s]\n"
     ]
    },
    {
     "name": "stdout",
     "output_type": "stream",
     "text": [
      "1m 3s\n",
      "Early Stopping Counter = 35\n",
      "Epoch 167/1000\n"
     ]
    },
    {
     "name": "stderr",
     "output_type": "stream",
     "text": [
      "100%|██████████| 210/210 [00:59<00:00,  3.54it/s]\n",
      "100%|██████████| 13/13 [00:04<00:00,  3.25it/s]\n"
     ]
    },
    {
     "name": "stdout",
     "output_type": "stream",
     "text": [
      "1m 3s\n",
      "Early Stopping Counter = 36\n",
      "Epoch 168/1000\n"
     ]
    },
    {
     "name": "stderr",
     "output_type": "stream",
     "text": [
      "100%|██████████| 210/210 [00:59<00:00,  3.55it/s]\n",
      "100%|██████████| 13/13 [00:04<00:00,  3.01it/s]\n"
     ]
    },
    {
     "name": "stdout",
     "output_type": "stream",
     "text": [
      "1m 3s\n",
      "Early Stopping Counter = 37\n",
      "Epoch 169/1000\n"
     ]
    },
    {
     "name": "stderr",
     "output_type": "stream",
     "text": [
      "100%|██████████| 210/210 [00:58<00:00,  3.57it/s]\n",
      "100%|██████████| 13/13 [00:04<00:00,  3.10it/s]\n"
     ]
    },
    {
     "name": "stdout",
     "output_type": "stream",
     "text": [
      "1m 3s\n",
      "Early Stopping Counter = 38\n",
      "Epoch 170/1000\n"
     ]
    },
    {
     "name": "stderr",
     "output_type": "stream",
     "text": [
      "100%|██████████| 210/210 [00:59<00:00,  3.51it/s]\n",
      "100%|██████████| 13/13 [00:03<00:00,  3.32it/s]\n"
     ]
    },
    {
     "name": "stdout",
     "output_type": "stream",
     "text": [
      "1m 4s\n",
      "Early Stopping Counter = 39\n",
      "Epoch 171/1000\n"
     ]
    },
    {
     "name": "stderr",
     "output_type": "stream",
     "text": [
      "100%|██████████| 210/210 [00:59<00:00,  3.55it/s]\n",
      "100%|██████████| 13/13 [00:04<00:00,  3.24it/s]\n"
     ]
    },
    {
     "name": "stdout",
     "output_type": "stream",
     "text": [
      "1m 3s\n",
      "Early Stopping Counter = 40\n",
      "Epoch 172/1000\n"
     ]
    },
    {
     "name": "stderr",
     "output_type": "stream",
     "text": [
      "100%|██████████| 210/210 [00:59<00:00,  3.52it/s]\n",
      "100%|██████████| 13/13 [00:04<00:00,  3.25it/s]\n"
     ]
    },
    {
     "name": "stdout",
     "output_type": "stream",
     "text": [
      "1m 4s\n",
      "Validation Loss declined to 0.16827642631072265\n",
      "Early Stopping Counter = 0\n",
      "Epoch 173/1000\n"
     ]
    },
    {
     "name": "stderr",
     "output_type": "stream",
     "text": [
      "100%|██████████| 210/210 [00:59<00:00,  3.54it/s]\n",
      "100%|██████████| 13/13 [00:04<00:00,  3.22it/s]\n"
     ]
    },
    {
     "name": "stdout",
     "output_type": "stream",
     "text": [
      "1m 3s\n",
      "Early Stopping Counter = 1\n",
      "Epoch 174/1000\n"
     ]
    },
    {
     "name": "stderr",
     "output_type": "stream",
     "text": [
      "100%|██████████| 210/210 [00:58<00:00,  3.56it/s]\n",
      "100%|██████████| 13/13 [00:04<00:00,  3.24it/s]\n"
     ]
    },
    {
     "name": "stdout",
     "output_type": "stream",
     "text": [
      "1m 3s\n",
      "Early Stopping Counter = 2\n",
      "Epoch 175/1000\n"
     ]
    },
    {
     "name": "stderr",
     "output_type": "stream",
     "text": [
      "100%|██████████| 210/210 [00:59<00:00,  3.56it/s]\n",
      "100%|██████████| 13/13 [00:04<00:00,  3.23it/s]\n"
     ]
    },
    {
     "name": "stdout",
     "output_type": "stream",
     "text": [
      "1m 3s\n",
      "Early Stopping Counter = 3\n",
      "Epoch 176/1000\n"
     ]
    },
    {
     "name": "stderr",
     "output_type": "stream",
     "text": [
      "100%|██████████| 210/210 [00:59<00:00,  3.55it/s]\n",
      "100%|██████████| 13/13 [00:04<00:00,  3.22it/s]\n"
     ]
    },
    {
     "name": "stdout",
     "output_type": "stream",
     "text": [
      "1m 3s\n",
      "Early Stopping Counter = 4\n",
      "Epoch 177/1000\n"
     ]
    },
    {
     "name": "stderr",
     "output_type": "stream",
     "text": [
      "100%|██████████| 210/210 [00:58<00:00,  3.59it/s]\n",
      "100%|██████████| 13/13 [00:04<00:00,  3.10it/s]\n"
     ]
    },
    {
     "name": "stdout",
     "output_type": "stream",
     "text": [
      "1m 3s\n",
      "Early Stopping Counter = 5\n",
      "Epoch 178/1000\n"
     ]
    },
    {
     "name": "stderr",
     "output_type": "stream",
     "text": [
      "100%|██████████| 210/210 [00:59<00:00,  3.52it/s]\n",
      "100%|██████████| 13/13 [00:04<00:00,  3.17it/s]\n"
     ]
    },
    {
     "name": "stdout",
     "output_type": "stream",
     "text": [
      "1m 4s\n",
      "Early Stopping Counter = 6\n",
      "Epoch 179/1000\n"
     ]
    },
    {
     "name": "stderr",
     "output_type": "stream",
     "text": [
      "100%|██████████| 210/210 [00:58<00:00,  3.59it/s]\n",
      "100%|██████████| 13/13 [00:04<00:00,  3.24it/s]\n"
     ]
    },
    {
     "name": "stdout",
     "output_type": "stream",
     "text": [
      "1m 2s\n",
      "Early Stopping Counter = 7\n",
      "Epoch 180/1000\n"
     ]
    },
    {
     "name": "stderr",
     "output_type": "stream",
     "text": [
      "100%|██████████| 210/210 [00:58<00:00,  3.57it/s]\n",
      "100%|██████████| 13/13 [00:04<00:00,  3.22it/s]\n"
     ]
    },
    {
     "name": "stdout",
     "output_type": "stream",
     "text": [
      "1m 3s\n",
      "Early Stopping Counter = 8\n",
      "Epoch 181/1000\n"
     ]
    },
    {
     "name": "stderr",
     "output_type": "stream",
     "text": [
      "100%|██████████| 210/210 [00:58<00:00,  3.58it/s]\n",
      "100%|██████████| 13/13 [00:04<00:00,  3.19it/s]\n"
     ]
    },
    {
     "name": "stdout",
     "output_type": "stream",
     "text": [
      "1m 3s\n",
      "Early Stopping Counter = 9\n",
      "Epoch 182/1000\n"
     ]
    },
    {
     "name": "stderr",
     "output_type": "stream",
     "text": [
      "100%|██████████| 210/210 [00:58<00:00,  3.57it/s]\n",
      "100%|██████████| 13/13 [00:04<00:00,  3.16it/s]\n"
     ]
    },
    {
     "name": "stdout",
     "output_type": "stream",
     "text": [
      "1m 3s\n",
      "Early Stopping Counter = 10\n",
      "Epoch 183/1000\n"
     ]
    },
    {
     "name": "stderr",
     "output_type": "stream",
     "text": [
      "100%|██████████| 210/210 [00:58<00:00,  3.58it/s]\n",
      "100%|██████████| 13/13 [00:04<00:00,  3.09it/s]\n"
     ]
    },
    {
     "name": "stdout",
     "output_type": "stream",
     "text": [
      "1m 3s\n",
      "Early Stopping Counter = 11\n",
      "Epoch 184/1000\n"
     ]
    },
    {
     "name": "stderr",
     "output_type": "stream",
     "text": [
      "100%|██████████| 210/210 [00:58<00:00,  3.58it/s]\n",
      "100%|██████████| 13/13 [00:04<00:00,  3.20it/s]\n"
     ]
    },
    {
     "name": "stdout",
     "output_type": "stream",
     "text": [
      "1m 3s\n",
      "Early Stopping Counter = 12\n",
      "Epoch 185/1000\n"
     ]
    },
    {
     "name": "stderr",
     "output_type": "stream",
     "text": [
      "100%|██████████| 210/210 [00:59<00:00,  3.55it/s]\n",
      "100%|██████████| 13/13 [00:03<00:00,  3.29it/s]\n"
     ]
    },
    {
     "name": "stdout",
     "output_type": "stream",
     "text": [
      "1m 3s\n",
      "Early Stopping Counter = 13\n",
      "Epoch 186/1000\n"
     ]
    },
    {
     "name": "stderr",
     "output_type": "stream",
     "text": [
      "100%|██████████| 210/210 [00:59<00:00,  3.56it/s]\n",
      "100%|██████████| 13/13 [00:04<00:00,  3.24it/s]\n"
     ]
    },
    {
     "name": "stdout",
     "output_type": "stream",
     "text": [
      "1m 3s\n",
      "Early Stopping Counter = 14\n",
      "Epoch 187/1000\n"
     ]
    },
    {
     "name": "stderr",
     "output_type": "stream",
     "text": [
      "100%|██████████| 210/210 [00:58<00:00,  3.56it/s]\n",
      "100%|██████████| 13/13 [00:04<00:00,  3.23it/s]\n"
     ]
    },
    {
     "name": "stdout",
     "output_type": "stream",
     "text": [
      "1m 3s\n",
      "Early Stopping Counter = 15\n",
      "Epoch 188/1000\n"
     ]
    },
    {
     "name": "stderr",
     "output_type": "stream",
     "text": [
      "100%|██████████| 210/210 [00:59<00:00,  3.55it/s]\n",
      "100%|██████████| 13/13 [00:03<00:00,  3.27it/s]\n"
     ]
    },
    {
     "name": "stdout",
     "output_type": "stream",
     "text": [
      "1m 3s\n",
      "Early Stopping Counter = 16\n",
      "Epoch 189/1000\n"
     ]
    },
    {
     "name": "stderr",
     "output_type": "stream",
     "text": [
      "100%|██████████| 210/210 [00:58<00:00,  3.58it/s]\n",
      "100%|██████████| 13/13 [00:03<00:00,  3.29it/s]\n"
     ]
    },
    {
     "name": "stdout",
     "output_type": "stream",
     "text": [
      "1m 3s\n",
      "Validation Loss declined to 0.16560877515719488\n",
      "Early Stopping Counter = 0\n",
      "Epoch 190/1000\n"
     ]
    },
    {
     "name": "stderr",
     "output_type": "stream",
     "text": [
      "100%|██████████| 210/210 [00:58<00:00,  3.59it/s]\n",
      "100%|██████████| 13/13 [00:03<00:00,  3.37it/s]\n"
     ]
    },
    {
     "name": "stdout",
     "output_type": "stream",
     "text": [
      "1m 2s\n",
      "Early Stopping Counter = 1\n",
      "Epoch 191/1000\n"
     ]
    },
    {
     "name": "stderr",
     "output_type": "stream",
     "text": [
      "100%|██████████| 210/210 [00:58<00:00,  3.57it/s]\n",
      "100%|██████████| 13/13 [00:03<00:00,  3.27it/s]\n"
     ]
    },
    {
     "name": "stdout",
     "output_type": "stream",
     "text": [
      "1m 3s\n",
      "Early Stopping Counter = 2\n",
      "Epoch 192/1000\n"
     ]
    },
    {
     "name": "stderr",
     "output_type": "stream",
     "text": [
      "100%|██████████| 210/210 [00:58<00:00,  3.56it/s]\n",
      "100%|██████████| 13/13 [00:04<00:00,  3.25it/s]\n"
     ]
    },
    {
     "name": "stdout",
     "output_type": "stream",
     "text": [
      "1m 3s\n",
      "Early Stopping Counter = 3\n",
      "Epoch 193/1000\n"
     ]
    },
    {
     "name": "stderr",
     "output_type": "stream",
     "text": [
      "100%|██████████| 210/210 [00:58<00:00,  3.60it/s]\n",
      "100%|██████████| 13/13 [00:03<00:00,  3.30it/s]\n"
     ]
    },
    {
     "name": "stdout",
     "output_type": "stream",
     "text": [
      "1m 2s\n",
      "Early Stopping Counter = 4\n",
      "Epoch 194/1000\n"
     ]
    },
    {
     "name": "stderr",
     "output_type": "stream",
     "text": [
      "100%|██████████| 210/210 [00:58<00:00,  3.58it/s]\n",
      "100%|██████████| 13/13 [00:04<00:00,  3.23it/s]\n"
     ]
    },
    {
     "name": "stdout",
     "output_type": "stream",
     "text": [
      "1m 3s\n",
      "Early Stopping Counter = 5\n",
      "Epoch 195/1000\n"
     ]
    },
    {
     "name": "stderr",
     "output_type": "stream",
     "text": [
      "100%|██████████| 210/210 [00:58<00:00,  3.57it/s]\n",
      "100%|██████████| 13/13 [00:03<00:00,  3.25it/s]\n"
     ]
    },
    {
     "name": "stdout",
     "output_type": "stream",
     "text": [
      "1m 3s\n",
      "Early Stopping Counter = 6\n",
      "Epoch 196/1000\n"
     ]
    },
    {
     "name": "stderr",
     "output_type": "stream",
     "text": [
      "100%|██████████| 210/210 [00:58<00:00,  3.57it/s]\n",
      "100%|██████████| 13/13 [00:03<00:00,  3.32it/s]\n"
     ]
    },
    {
     "name": "stdout",
     "output_type": "stream",
     "text": [
      "1m 3s\n",
      "Early Stopping Counter = 7\n",
      "Epoch 197/1000\n"
     ]
    },
    {
     "name": "stderr",
     "output_type": "stream",
     "text": [
      "100%|██████████| 210/210 [00:58<00:00,  3.57it/s]\n",
      "100%|██████████| 13/13 [00:04<00:00,  3.24it/s]\n"
     ]
    },
    {
     "name": "stdout",
     "output_type": "stream",
     "text": [
      "1m 3s\n",
      "Early Stopping Counter = 8\n",
      "Epoch 198/1000\n"
     ]
    },
    {
     "name": "stderr",
     "output_type": "stream",
     "text": [
      "100%|██████████| 210/210 [00:58<00:00,  3.58it/s]\n",
      "100%|██████████| 13/13 [00:04<00:00,  3.21it/s]\n"
     ]
    },
    {
     "name": "stdout",
     "output_type": "stream",
     "text": [
      "1m 3s\n",
      "Early Stopping Counter = 9\n",
      "Epoch 199/1000\n"
     ]
    },
    {
     "name": "stderr",
     "output_type": "stream",
     "text": [
      "100%|██████████| 210/210 [00:58<00:00,  3.57it/s]\n",
      "100%|██████████| 13/13 [00:03<00:00,  3.27it/s]\n"
     ]
    },
    {
     "name": "stdout",
     "output_type": "stream",
     "text": [
      "1m 3s\n",
      "Early Stopping Counter = 10\n",
      "Epoch 200/1000\n"
     ]
    },
    {
     "name": "stderr",
     "output_type": "stream",
     "text": [
      "100%|██████████| 210/210 [00:59<00:00,  3.54it/s]\n",
      "100%|██████████| 13/13 [00:04<00:00,  3.24it/s]\n"
     ]
    },
    {
     "name": "stdout",
     "output_type": "stream",
     "text": [
      "1m 3s\n",
      "Early Stopping Counter = 11\n",
      "Epoch 201/1000\n"
     ]
    },
    {
     "name": "stderr",
     "output_type": "stream",
     "text": [
      "100%|██████████| 210/210 [00:59<00:00,  3.55it/s]\n",
      "100%|██████████| 13/13 [00:03<00:00,  3.32it/s]\n"
     ]
    },
    {
     "name": "stdout",
     "output_type": "stream",
     "text": [
      "1m 3s\n",
      "Early Stopping Counter = 12\n",
      "Epoch 202/1000\n"
     ]
    },
    {
     "name": "stderr",
     "output_type": "stream",
     "text": [
      "100%|██████████| 210/210 [00:59<00:00,  3.52it/s]\n",
      "100%|██████████| 13/13 [00:03<00:00,  3.29it/s]\n"
     ]
    },
    {
     "name": "stdout",
     "output_type": "stream",
     "text": [
      "1m 4s\n",
      "Early Stopping Counter = 13\n",
      "Epoch 203/1000\n"
     ]
    },
    {
     "name": "stderr",
     "output_type": "stream",
     "text": [
      "100%|██████████| 210/210 [00:58<00:00,  3.57it/s]\n",
      "100%|██████████| 13/13 [00:03<00:00,  3.29it/s]\n"
     ]
    },
    {
     "name": "stdout",
     "output_type": "stream",
     "text": [
      "1m 3s\n",
      "Early Stopping Counter = 14\n",
      "Epoch 204/1000\n"
     ]
    },
    {
     "name": "stderr",
     "output_type": "stream",
     "text": [
      "100%|██████████| 210/210 [00:59<00:00,  3.55it/s]\n",
      "100%|██████████| 13/13 [00:04<00:00,  3.23it/s]\n"
     ]
    },
    {
     "name": "stdout",
     "output_type": "stream",
     "text": [
      "1m 3s\n",
      "Early Stopping Counter = 15\n",
      "Epoch 205/1000\n"
     ]
    },
    {
     "name": "stderr",
     "output_type": "stream",
     "text": [
      "100%|██████████| 210/210 [00:58<00:00,  3.57it/s]\n",
      "100%|██████████| 13/13 [00:03<00:00,  3.28it/s]\n"
     ]
    },
    {
     "name": "stdout",
     "output_type": "stream",
     "text": [
      "1m 3s\n",
      "Early Stopping Counter = 16\n",
      "Epoch 206/1000\n"
     ]
    },
    {
     "name": "stderr",
     "output_type": "stream",
     "text": [
      "100%|██████████| 210/210 [00:58<00:00,  3.57it/s]\n",
      "100%|██████████| 13/13 [00:04<00:00,  3.21it/s]\n"
     ]
    },
    {
     "name": "stdout",
     "output_type": "stream",
     "text": [
      "1m 3s\n",
      "Early Stopping Counter = 17\n",
      "Epoch 207/1000\n"
     ]
    },
    {
     "name": "stderr",
     "output_type": "stream",
     "text": [
      "100%|██████████| 210/210 [00:59<00:00,  3.54it/s]\n",
      "100%|██████████| 13/13 [00:04<00:00,  3.24it/s]\n"
     ]
    },
    {
     "name": "stdout",
     "output_type": "stream",
     "text": [
      "1m 3s\n",
      "Early Stopping Counter = 18\n",
      "Epoch 208/1000\n"
     ]
    },
    {
     "name": "stderr",
     "output_type": "stream",
     "text": [
      "100%|██████████| 210/210 [00:59<00:00,  3.56it/s]\n",
      "100%|██████████| 13/13 [00:03<00:00,  3.29it/s]\n"
     ]
    },
    {
     "name": "stdout",
     "output_type": "stream",
     "text": [
      "1m 3s\n",
      "Early Stopping Counter = 19\n",
      "Epoch 209/1000\n"
     ]
    },
    {
     "name": "stderr",
     "output_type": "stream",
     "text": [
      "100%|██████████| 210/210 [00:58<00:00,  3.56it/s]\n",
      "100%|██████████| 13/13 [00:03<00:00,  3.34it/s]\n"
     ]
    },
    {
     "name": "stdout",
     "output_type": "stream",
     "text": [
      "1m 3s\n",
      "Early Stopping Counter = 20\n",
      "Epoch 210/1000\n"
     ]
    },
    {
     "name": "stderr",
     "output_type": "stream",
     "text": [
      "100%|██████████| 210/210 [00:59<00:00,  3.51it/s]\n",
      "100%|██████████| 13/13 [00:03<00:00,  3.33it/s]\n"
     ]
    },
    {
     "name": "stdout",
     "output_type": "stream",
     "text": [
      "1m 4s\n",
      "Early Stopping Counter = 21\n",
      "Epoch 211/1000\n"
     ]
    },
    {
     "name": "stderr",
     "output_type": "stream",
     "text": [
      "100%|██████████| 210/210 [00:59<00:00,  3.56it/s]\n",
      "100%|██████████| 13/13 [00:04<00:00,  3.21it/s]\n"
     ]
    },
    {
     "name": "stdout",
     "output_type": "stream",
     "text": [
      "1m 3s\n",
      "Early Stopping Counter = 22\n",
      "Epoch 212/1000\n"
     ]
    },
    {
     "name": "stderr",
     "output_type": "stream",
     "text": [
      "100%|██████████| 210/210 [00:59<00:00,  3.50it/s]\n",
      "100%|██████████| 13/13 [00:03<00:00,  3.27it/s]\n"
     ]
    },
    {
     "name": "stdout",
     "output_type": "stream",
     "text": [
      "1m 4s\n",
      "Early Stopping Counter = 23\n",
      "Epoch 213/1000\n"
     ]
    },
    {
     "name": "stderr",
     "output_type": "stream",
     "text": [
      "100%|██████████| 210/210 [00:59<00:00,  3.50it/s]\n",
      "100%|██████████| 13/13 [00:03<00:00,  3.35it/s]\n"
     ]
    },
    {
     "name": "stdout",
     "output_type": "stream",
     "text": [
      "1m 4s\n",
      "Early Stopping Counter = 24\n",
      "Epoch 214/1000\n"
     ]
    },
    {
     "name": "stderr",
     "output_type": "stream",
     "text": [
      "100%|██████████| 210/210 [00:59<00:00,  3.54it/s]\n",
      "100%|██████████| 13/13 [00:04<00:00,  3.20it/s]\n"
     ]
    },
    {
     "name": "stdout",
     "output_type": "stream",
     "text": [
      "1m 3s\n",
      "Early Stopping Counter = 25\n",
      "Epoch 215/1000\n"
     ]
    },
    {
     "name": "stderr",
     "output_type": "stream",
     "text": [
      "100%|██████████| 210/210 [00:59<00:00,  3.53it/s]\n",
      "100%|██████████| 13/13 [00:03<00:00,  3.29it/s]\n"
     ]
    },
    {
     "name": "stdout",
     "output_type": "stream",
     "text": [
      "1m 3s\n",
      "Early Stopping Counter = 26\n",
      "Epoch 216/1000\n"
     ]
    },
    {
     "name": "stderr",
     "output_type": "stream",
     "text": [
      "100%|██████████| 210/210 [00:59<00:00,  3.51it/s]\n",
      "100%|██████████| 13/13 [00:04<00:00,  3.24it/s]\n"
     ]
    },
    {
     "name": "stdout",
     "output_type": "stream",
     "text": [
      "1m 4s\n",
      "Early Stopping Counter = 27\n",
      "Epoch 217/1000\n"
     ]
    },
    {
     "name": "stderr",
     "output_type": "stream",
     "text": [
      "100%|██████████| 210/210 [00:59<00:00,  3.50it/s]\n",
      "100%|██████████| 13/13 [00:03<00:00,  3.26it/s]\n"
     ]
    },
    {
     "name": "stdout",
     "output_type": "stream",
     "text": [
      "1m 4s\n",
      "Early Stopping Counter = 28\n",
      "Epoch 218/1000\n"
     ]
    },
    {
     "name": "stderr",
     "output_type": "stream",
     "text": [
      "100%|██████████| 210/210 [00:59<00:00,  3.54it/s]\n",
      "100%|██████████| 13/13 [00:03<00:00,  3.30it/s]\n"
     ]
    },
    {
     "name": "stdout",
     "output_type": "stream",
     "text": [
      "1m 3s\n",
      "Early Stopping Counter = 29\n",
      "Epoch 219/1000\n"
     ]
    },
    {
     "name": "stderr",
     "output_type": "stream",
     "text": [
      "100%|██████████| 210/210 [00:59<00:00,  3.52it/s]\n",
      "100%|██████████| 13/13 [00:03<00:00,  3.29it/s]\n"
     ]
    },
    {
     "name": "stdout",
     "output_type": "stream",
     "text": [
      "1m 4s\n",
      "Early Stopping Counter = 30\n",
      "Epoch 220/1000\n"
     ]
    },
    {
     "name": "stderr",
     "output_type": "stream",
     "text": [
      "100%|██████████| 210/210 [00:59<00:00,  3.50it/s]\n",
      "100%|██████████| 13/13 [00:04<00:00,  3.23it/s]\n"
     ]
    },
    {
     "name": "stdout",
     "output_type": "stream",
     "text": [
      "1m 4s\n",
      "Early Stopping Counter = 31\n",
      "Epoch 221/1000\n"
     ]
    },
    {
     "name": "stderr",
     "output_type": "stream",
     "text": [
      "100%|██████████| 210/210 [00:59<00:00,  3.54it/s]\n",
      "100%|██████████| 13/13 [00:04<00:00,  3.22it/s]\n"
     ]
    },
    {
     "name": "stdout",
     "output_type": "stream",
     "text": [
      "1m 3s\n",
      "Early Stopping Counter = 32\n",
      "Epoch 222/1000\n"
     ]
    },
    {
     "name": "stderr",
     "output_type": "stream",
     "text": [
      "100%|██████████| 210/210 [00:59<00:00,  3.50it/s]\n",
      "100%|██████████| 13/13 [00:03<00:00,  3.25it/s]\n"
     ]
    },
    {
     "name": "stdout",
     "output_type": "stream",
     "text": [
      "1m 4s\n",
      "Early Stopping Counter = 33\n",
      "Epoch 223/1000\n"
     ]
    },
    {
     "name": "stderr",
     "output_type": "stream",
     "text": [
      "100%|██████████| 210/210 [00:59<00:00,  3.54it/s]\n",
      "100%|██████████| 13/13 [00:03<00:00,  3.33it/s]\n"
     ]
    },
    {
     "name": "stdout",
     "output_type": "stream",
     "text": [
      "1m 3s\n",
      "Early Stopping Counter = 34\n",
      "Epoch 224/1000\n"
     ]
    },
    {
     "name": "stderr",
     "output_type": "stream",
     "text": [
      "100%|██████████| 210/210 [00:59<00:00,  3.52it/s]\n",
      "100%|██████████| 13/13 [00:04<00:00,  3.24it/s]\n"
     ]
    },
    {
     "name": "stdout",
     "output_type": "stream",
     "text": [
      "1m 4s\n",
      "Early Stopping Counter = 35\n",
      "Epoch 225/1000\n"
     ]
    },
    {
     "name": "stderr",
     "output_type": "stream",
     "text": [
      "100%|██████████| 210/210 [00:59<00:00,  3.55it/s]\n",
      "100%|██████████| 13/13 [00:03<00:00,  3.30it/s]\n"
     ]
    },
    {
     "name": "stdout",
     "output_type": "stream",
     "text": [
      "1m 3s\n",
      "Early Stopping Counter = 36\n",
      "Epoch 226/1000\n"
     ]
    },
    {
     "name": "stderr",
     "output_type": "stream",
     "text": [
      "100%|██████████| 210/210 [00:59<00:00,  3.56it/s]\n",
      "100%|██████████| 13/13 [00:03<00:00,  3.28it/s]\n"
     ]
    },
    {
     "name": "stdout",
     "output_type": "stream",
     "text": [
      "1m 3s\n",
      "Early Stopping Counter = 37\n",
      "Epoch 227/1000\n"
     ]
    },
    {
     "name": "stderr",
     "output_type": "stream",
     "text": [
      "100%|██████████| 210/210 [00:59<00:00,  3.56it/s]\n",
      "100%|██████████| 13/13 [00:04<00:00,  3.23it/s]\n"
     ]
    },
    {
     "name": "stdout",
     "output_type": "stream",
     "text": [
      "1m 3s\n",
      "Early Stopping Counter = 38\n",
      "Epoch 228/1000\n"
     ]
    },
    {
     "name": "stderr",
     "output_type": "stream",
     "text": [
      "100%|██████████| 210/210 [00:59<00:00,  3.53it/s]\n",
      "100%|██████████| 13/13 [00:04<00:00,  3.25it/s]\n"
     ]
    },
    {
     "name": "stdout",
     "output_type": "stream",
     "text": [
      "1m 4s\n",
      "Early Stopping Counter = 39\n",
      "Epoch 229/1000\n"
     ]
    },
    {
     "name": "stderr",
     "output_type": "stream",
     "text": [
      "100%|██████████| 210/210 [00:59<00:00,  3.55it/s]\n",
      "100%|██████████| 13/13 [00:04<00:00,  3.23it/s]\n"
     ]
    },
    {
     "name": "stdout",
     "output_type": "stream",
     "text": [
      "1m 3s\n",
      "Early Stopping Counter = 40\n",
      "Epoch 230/1000\n"
     ]
    },
    {
     "name": "stderr",
     "output_type": "stream",
     "text": [
      "100%|██████████| 210/210 [00:59<00:00,  3.54it/s]\n",
      "100%|██████████| 13/13 [00:04<00:00,  3.22it/s]\n"
     ]
    },
    {
     "name": "stdout",
     "output_type": "stream",
     "text": [
      "1m 3s\n",
      "Early Stopping Counter = 41\n",
      "Epoch 231/1000\n"
     ]
    },
    {
     "name": "stderr",
     "output_type": "stream",
     "text": [
      "100%|██████████| 210/210 [00:59<00:00,  3.53it/s]\n",
      "100%|██████████| 13/13 [00:03<00:00,  3.34it/s]\n"
     ]
    },
    {
     "name": "stdout",
     "output_type": "stream",
     "text": [
      "1m 3s\n",
      "Early Stopping Counter = 42\n",
      "Epoch 232/1000\n"
     ]
    },
    {
     "name": "stderr",
     "output_type": "stream",
     "text": [
      "100%|██████████| 210/210 [01:00<00:00,  3.49it/s]\n",
      "100%|██████████| 13/13 [00:03<00:00,  3.35it/s]\n"
     ]
    },
    {
     "name": "stdout",
     "output_type": "stream",
     "text": [
      "1m 4s\n",
      "Early Stopping Counter = 43\n",
      "Epoch 233/1000\n"
     ]
    },
    {
     "name": "stderr",
     "output_type": "stream",
     "text": [
      "100%|██████████| 210/210 [00:59<00:00,  3.52it/s]\n",
      "100%|██████████| 13/13 [00:03<00:00,  3.27it/s]\n"
     ]
    },
    {
     "name": "stdout",
     "output_type": "stream",
     "text": [
      "1m 4s\n",
      "Early Stopping Counter = 44\n",
      "Epoch 234/1000\n"
     ]
    },
    {
     "name": "stderr",
     "output_type": "stream",
     "text": [
      "100%|██████████| 210/210 [01:00<00:00,  3.48it/s]\n",
      "100%|██████████| 13/13 [00:03<00:00,  3.29it/s]\n"
     ]
    },
    {
     "name": "stdout",
     "output_type": "stream",
     "text": [
      "1m 4s\n",
      "Early Stopping Counter = 45\n",
      "Epoch 235/1000\n"
     ]
    },
    {
     "name": "stderr",
     "output_type": "stream",
     "text": [
      "100%|██████████| 210/210 [01:00<00:00,  3.50it/s]\n",
      "100%|██████████| 13/13 [00:03<00:00,  3.27it/s]\n"
     ]
    },
    {
     "name": "stdout",
     "output_type": "stream",
     "text": [
      "1m 4s\n",
      "Early Stopping Counter = 46\n",
      "Epoch 236/1000\n"
     ]
    },
    {
     "name": "stderr",
     "output_type": "stream",
     "text": [
      "100%|██████████| 210/210 [00:58<00:00,  3.58it/s]\n",
      "100%|██████████| 13/13 [00:03<00:00,  3.31it/s]\n"
     ]
    },
    {
     "name": "stdout",
     "output_type": "stream",
     "text": [
      "1m 3s\n",
      "Early Stopping Counter = 47\n",
      "Epoch 237/1000\n"
     ]
    },
    {
     "name": "stderr",
     "output_type": "stream",
     "text": [
      "100%|██████████| 210/210 [00:59<00:00,  3.54it/s]\n",
      "100%|██████████| 13/13 [00:03<00:00,  3.29it/s]\n"
     ]
    },
    {
     "name": "stdout",
     "output_type": "stream",
     "text": [
      "1m 3s\n",
      "Early Stopping Counter = 48\n",
      "Epoch 238/1000\n"
     ]
    },
    {
     "name": "stderr",
     "output_type": "stream",
     "text": [
      "100%|██████████| 210/210 [01:00<00:00,  3.48it/s]\n",
      "100%|██████████| 13/13 [00:03<00:00,  3.28it/s]\n"
     ]
    },
    {
     "name": "stdout",
     "output_type": "stream",
     "text": [
      "1m 4s\n",
      "Early Stopping Counter = 49\n",
      "Epoch 239/1000\n"
     ]
    },
    {
     "name": "stderr",
     "output_type": "stream",
     "text": [
      "100%|██████████| 210/210 [00:59<00:00,  3.55it/s]\n",
      "100%|██████████| 13/13 [00:04<00:00,  3.25it/s]\n"
     ]
    },
    {
     "name": "stdout",
     "output_type": "stream",
     "text": [
      "1m 3s\n",
      "Early stopping\n"
     ]
    },
    {
     "name": "stderr",
     "output_type": "stream",
     "text": [
      "100%|██████████| 17/17 [01:59<00:00,  7.03s/it]\n"
     ]
    }
   ],
   "source": [
    "# Supervised Learning\n",
    "project = \"240116sup2\"\n",
    "folname = project + '_iter1'\n",
    "os.makedirs('results/'+ project +'_results', exist_ok=True)\n",
    "csv_filename = 'results/'+project+'_results/results.csv'\n",
    "with open(csv_filename, mode='w', newline='') as file:\n",
    "    writer = csv.writer(file)\n",
    "    writer.writerow(['Iteration', 'F1-Score', 'Accuracy', 'Specificity', 'Recall', 'Precision'])\n",
    "\n",
    "train(former_folname=\"hoge\", folname=folname, first=True, net=\"unet\", epochs=1000, batch_size=64, supervised=True)\n",
    "scores = inference(former_folname=\"hoge\", folname=folname, net=\"unet\", batch_size=64, supervised=True)\n",
    "write_to_csv(1, scores, csv_filename)"
   ]
  },
  {
   "cell_type": "code",
   "execution_count": null,
   "metadata": {},
   "outputs": [],
   "source": []
  },
  {
   "cell_type": "code",
   "execution_count": null,
   "metadata": {},
   "outputs": [],
   "source": [
    "import random\n",
    "\n",
    "# ランダムな並びの情報を保存\n",
    "shuffle_indices = list(range(5292))\n",
    "random.shuffle(shuffle_indices)\n",
    "\n",
    "# shuffle_indicesをファイルに保存するなど、情報を保存する方法を選びます\n",
    "with open(\"shuffle_indices.txt\", \"w\") as file:\n",
    "    file.write(\" \".join(map(str, shuffle_indices)))"
   ]
  },
  {
   "cell_type": "code",
   "execution_count": null,
   "metadata": {},
   "outputs": [],
   "source": [
    "meanlst = os.listdir(\"data/unlabeled_mask/231021_iter1/pred_mean_corrected/\")\n",
    "varlst = os.listdir(\"data/unlabeled_mask/231021_iter1/pred_var/\")\n",
    "print(len(meanlst))\n",
    "print(len(varlst))"
   ]
  },
  {
   "cell_type": "code",
   "execution_count": null,
   "metadata": {},
   "outputs": [],
   "source": [
    "import numpy as np\n",
    "from PIL import Image\n",
    "meanlst = os.listdir(\"data/unlabeled_mask/231021_iter1/pred_mean_corrected/\")\n",
    "varlst = os.listdir(\"data/unlabeled_mask/231021_iter1/pred_var/\")\n",
    "\n",
    "# # 各画像を処理\n",
    "for file_name in meanlst:\n",
    "    file_path = os.path.join(\"data/unlabeled_mask/231021_iter1/pred_mean_corrected\", file_name)\n",
    "    \n",
    "    # 画像をnumpy配列に読み込む\n",
    "    img = np.array(Image.open(file_path))\n",
    "    \n",
    "    # 画像サイズが256x256でない場合、警告を表示\n",
    "    if img.shape != (256, 256):\n",
    "        print(f\"異なるサイズの画像: {file_name}, サイズ: {img.shape}\")"
   ]
  },
  {
   "cell_type": "code",
   "execution_count": null,
   "metadata": {},
   "outputs": [],
   "source": [
    "import os\n",
    "import torch\n",
    "\n",
    "# フォルダのパス\n",
    "folder_path = \"data/unlabeled_mask/231021_iter1/pred_var/\"\n",
    "\n",
    "# フォルダ内の全ての.ptファイルをリストアップ\n",
    "pt_files = [f for f in os.listdir(folder_path) if f.endswith(\".pt\")]\n",
    "\n",
    "# 各ファイルを処理\n",
    "for file_name in pt_files:\n",
    "    file_path = os.path.join(folder_path, file_name)\n",
    "    \n",
    "    # PyTorch tensorを読み込む\n",
    "    tensor = torch.load(file_path)\n",
    "    \n",
    "    # 配列サイズが(256, 256)でない場合、警告を表示\n",
    "    if tensor.size() != torch.Size([256, 256]):\n",
    "        print(f\"異なるサイズのPyTorch tensor: {file_name}, サイズ: {tensor.size()}\")\n"
   ]
  },
  {
   "cell_type": "code",
   "execution_count": null,
   "metadata": {},
   "outputs": [],
   "source": [
    "import torch\n",
    "import glob\n",
    "\n",
    "fol_name = \"231107_iter3\"\n",
    "\n",
    "# pred_varを全て読み込み、torch.meanとtorch.maxの平均を計算する\n",
    "pred_var_path = sorted(glob.glob(f'data/unlabeled_mask/{fol_name}/pred_var/*'))\n",
    "mean_box = []\n",
    "max_box = []\n",
    "\n",
    "for file in pred_var_path:\n",
    "    pred_var = torch.load(file)\n",
    "    mean_box.append(torch.mean(pred_var).item())\n",
    "    max_box.append(torch.max(pred_var).item())\n",
    "\n",
    "print(sum(mean_box)/len(mean_box))\n",
    "print(sum(max_box)/len(max_box))"
   ]
  },
  {
   "cell_type": "code",
   "execution_count": null,
   "metadata": {},
   "outputs": [],
   "source": [
    "import matplotlib.pyplot as plt\n",
    "import cv2\n",
    "from PIL import Image\n",
    "# Targetデータでの出力を表示\n",
    "target_filepaths = glob.glob(\"data/Train/images/Rissbilder*\")\n",
    "target_filenames = [p.lstrip(\"data/Train/images/\") for p in target_filepaths]\n",
    "\n",
    "\n",
    "# 10行4列のサブプロットを作成\n",
    "fig, axes = plt.subplots(10, 4, figsize=(10, 20))\n",
    "\n",
    "# 画像をサブプロットに配置\n",
    "for i in range(10):\n",
    "    axes[i, 0].imshow(Image.open(\"data/Train/images/\"+target_filenames[i]))\n",
    "    axes[i, 0].axis('off')\n",
    "    axes[i, 1].imshow(Image.open(\"data/unlabeled_mask/231107_iter1/pred_mean_corrected/\"+target_filenames[i]), cmap='gray')\n",
    "    axes[i, 1].axis('off')\n",
    "    axes[i, 2].imshow(torch.load(\"data/unlabeled_mask/231107_iter1/pred_var/\"+target_filenames[i].rstrip('jpg')+\"pt\"), cmap='gray')\n",
    "    axes[i, 2].axis('off')\n",
    "    axes[i, 3].imshow(Image.open(\"data/Train/masks/\"+target_filenames[i]))\n",
    "    axes[i, 3].axis('off')\n",
    "\n",
    "# グリッドの余白を調整\n",
    "plt.subplots_adjust(wspace=0, hspace=0)\n",
    "\n",
    "# グリッドを表示\n",
    "plt.show()\n",
    "\n",
    "# Train/images/Rissbilder/ pred_mean_corrected, pred_var, Train/masks/Rissbilder"
   ]
  },
  {
   "cell_type": "code",
   "execution_count": null,
   "metadata": {},
   "outputs": [],
   "source": []
  }
 ],
 "metadata": {
  "kernelspec": {
   "display_name": "env",
   "language": "python",
   "name": "python3"
  },
  "language_info": {
   "codemirror_mode": {
    "name": "ipython",
    "version": 3
   },
   "file_extension": ".py",
   "mimetype": "text/x-python",
   "name": "python",
   "nbconvert_exporter": "python",
   "pygments_lexer": "ipython3",
   "version": "3.10.9"
  }
 },
 "nbformat": 4,
 "nbformat_minor": 2
}
