{
 "cells": [
  {
   "cell_type": "code",
   "execution_count": null,
   "metadata": {},
   "outputs": [],
   "source": [
    "from train import train\n",
    "from inference import inference\n",
    "from save_mask import save_mask\n",
    "import csv, os\n",
    "from utils.module import write_to_csv"
   ]
  },
  {
   "cell_type": "code",
   "execution_count": null,
   "metadata": {},
   "outputs": [],
   "source": [
    "!nvidia-smi"
   ]
  },
  {
   "cell_type": "code",
   "execution_count": 3,
   "metadata": {},
   "outputs": [
    {
     "name": "stderr",
     "output_type": "stream",
     "text": [
      "100%|██████████| 33/33 [00:10<00:00,  3.06it/s]\n",
      "100%|██████████| 19/19 [00:05<00:00,  3.23it/s]\n"
     ]
    },
    {
     "name": "stdout",
     "output_type": "stream",
     "text": [
      "1m 10s\n",
      "Early Stopping Counter = 5\n",
      "Epoch 126/300\n"
     ]
    },
    {
     "name": "stderr",
     "output_type": "stream",
     "text": [
      "100%|██████████| 178/178 [00:53<00:00,  3.31it/s]\n",
      "100%|██████████| 33/33 [00:10<00:00,  3.07it/s]\n",
      "100%|██████████| 19/19 [00:05<00:00,  3.24it/s]\n"
     ]
    },
    {
     "name": "stdout",
     "output_type": "stream",
     "text": [
      "1m 10s\n",
      "Consistency Loss declined to 0.10887618656411316\n",
      "Early Stopping Counter = 0\n",
      "Epoch 127/300\n"
     ]
    },
    {
     "name": "stderr",
     "output_type": "stream",
     "text": [
      "100%|██████████| 178/178 [00:53<00:00,  3.33it/s]\n",
      "100%|██████████| 33/33 [00:10<00:00,  3.07it/s]\n",
      "100%|██████████| 19/19 [00:05<00:00,  3.24it/s]\n"
     ]
    },
    {
     "name": "stdout",
     "output_type": "stream",
     "text": [
      "1m 10s\n",
      "Early Stopping Counter = 1\n",
      "Epoch 128/300\n"
     ]
    },
    {
     "name": "stderr",
     "output_type": "stream",
     "text": [
      "100%|██████████| 178/178 [00:53<00:00,  3.34it/s]\n",
      "100%|██████████| 33/33 [00:10<00:00,  3.01it/s]\n",
      "100%|██████████| 19/19 [00:05<00:00,  3.28it/s]\n"
     ]
    },
    {
     "name": "stdout",
     "output_type": "stream",
     "text": [
      "1m 10s\n",
      "Consistency Loss declined to 0.10143290324644609\n",
      "Early Stopping Counter = 0\n",
      "Epoch 129/300\n"
     ]
    },
    {
     "name": "stderr",
     "output_type": "stream",
     "text": [
      "100%|██████████| 178/178 [00:53<00:00,  3.34it/s]\n",
      "100%|██████████| 33/33 [00:10<00:00,  3.07it/s]\n",
      "100%|██████████| 19/19 [00:05<00:00,  3.24it/s]\n"
     ]
    },
    {
     "name": "stdout",
     "output_type": "stream",
     "text": [
      "1m 10s\n",
      "Early Stopping Counter = 1\n",
      "Epoch 130/300\n"
     ]
    },
    {
     "name": "stderr",
     "output_type": "stream",
     "text": [
      "100%|██████████| 178/178 [00:53<00:00,  3.34it/s]\n",
      "100%|██████████| 33/33 [00:10<00:00,  3.00it/s]\n",
      "100%|██████████| 19/19 [00:05<00:00,  3.25it/s]\n"
     ]
    },
    {
     "name": "stdout",
     "output_type": "stream",
     "text": [
      "1m 10s\n",
      "Early Stopping Counter = 2\n",
      "Epoch 131/300\n"
     ]
    },
    {
     "name": "stderr",
     "output_type": "stream",
     "text": [
      "100%|██████████| 178/178 [00:53<00:00,  3.33it/s]\n",
      "100%|██████████| 33/33 [00:10<00:00,  3.05it/s]\n",
      "100%|██████████| 19/19 [00:05<00:00,  3.26it/s]\n"
     ]
    },
    {
     "name": "stdout",
     "output_type": "stream",
     "text": [
      "1m 10s\n",
      "Early Stopping Counter = 3\n",
      "Epoch 132/300\n"
     ]
    },
    {
     "name": "stderr",
     "output_type": "stream",
     "text": [
      "100%|██████████| 178/178 [00:53<00:00,  3.33it/s]\n",
      "100%|██████████| 33/33 [00:10<00:00,  3.03it/s]\n",
      "100%|██████████| 19/19 [00:05<00:00,  3.24it/s]\n"
     ]
    },
    {
     "name": "stdout",
     "output_type": "stream",
     "text": [
      "1m 10s\n",
      "Early Stopping Counter = 4\n",
      "Epoch 133/300\n"
     ]
    },
    {
     "name": "stderr",
     "output_type": "stream",
     "text": [
      "100%|██████████| 178/178 [00:53<00:00,  3.32it/s]\n",
      "100%|██████████| 33/33 [00:10<00:00,  3.06it/s]\n",
      "100%|██████████| 19/19 [00:05<00:00,  3.19it/s]\n"
     ]
    },
    {
     "name": "stdout",
     "output_type": "stream",
     "text": [
      "1m 10s\n",
      "Early Stopping Counter = 5\n",
      "Epoch 134/300\n"
     ]
    },
    {
     "name": "stderr",
     "output_type": "stream",
     "text": [
      "100%|██████████| 178/178 [00:53<00:00,  3.31it/s]\n",
      "100%|██████████| 33/33 [00:10<00:00,  3.01it/s]\n",
      "100%|██████████| 19/19 [00:05<00:00,  3.26it/s]\n"
     ]
    },
    {
     "name": "stdout",
     "output_type": "stream",
     "text": [
      "1m 11s\n",
      "Early Stopping Counter = 6\n",
      "Epoch 135/300\n"
     ]
    },
    {
     "name": "stderr",
     "output_type": "stream",
     "text": [
      "100%|██████████| 178/178 [00:53<00:00,  3.33it/s]\n",
      "100%|██████████| 33/33 [00:10<00:00,  3.05it/s]\n",
      "100%|██████████| 19/19 [00:05<00:00,  3.23it/s]\n"
     ]
    },
    {
     "name": "stdout",
     "output_type": "stream",
     "text": [
      "1m 10s\n",
      "Consistency Loss declined to 0.09960047494281422\n",
      "Early Stopping Counter = 0\n",
      "Epoch 136/300\n"
     ]
    },
    {
     "name": "stderr",
     "output_type": "stream",
     "text": [
      "100%|██████████| 178/178 [00:53<00:00,  3.33it/s]\n",
      "100%|██████████| 33/33 [00:10<00:00,  3.07it/s]\n",
      "100%|██████████| 19/19 [00:05<00:00,  3.24it/s]\n"
     ]
    },
    {
     "name": "stdout",
     "output_type": "stream",
     "text": [
      "1m 10s\n",
      "Early Stopping Counter = 1\n",
      "Epoch 137/300\n"
     ]
    },
    {
     "name": "stderr",
     "output_type": "stream",
     "text": [
      "100%|██████████| 178/178 [00:53<00:00,  3.32it/s]\n",
      "100%|██████████| 33/33 [00:10<00:00,  3.07it/s]\n",
      "100%|██████████| 19/19 [00:05<00:00,  3.26it/s]\n"
     ]
    },
    {
     "name": "stdout",
     "output_type": "stream",
     "text": [
      "1m 10s\n",
      "Early Stopping Counter = 2\n",
      "Epoch 138/300\n"
     ]
    },
    {
     "name": "stderr",
     "output_type": "stream",
     "text": [
      "100%|██████████| 178/178 [00:53<00:00,  3.31it/s]\n",
      "100%|██████████| 33/33 [00:10<00:00,  3.06it/s]\n",
      "100%|██████████| 19/19 [00:05<00:00,  3.25it/s]\n"
     ]
    },
    {
     "name": "stdout",
     "output_type": "stream",
     "text": [
      "1m 10s\n",
      "Early Stopping Counter = 3\n",
      "Epoch 139/300\n"
     ]
    },
    {
     "name": "stderr",
     "output_type": "stream",
     "text": [
      "100%|██████████| 178/178 [00:53<00:00,  3.31it/s]\n",
      "100%|██████████| 33/33 [00:10<00:00,  3.01it/s]\n",
      "100%|██████████| 19/19 [00:05<00:00,  3.36it/s]\n"
     ]
    },
    {
     "name": "stdout",
     "output_type": "stream",
     "text": [
      "1m 10s\n",
      "Consistency Loss declined to 0.09725652985049016\n",
      "Early Stopping Counter = 0\n",
      "Epoch 140/300\n"
     ]
    },
    {
     "name": "stderr",
     "output_type": "stream",
     "text": [
      "100%|██████████| 178/178 [00:53<00:00,  3.30it/s]\n",
      "100%|██████████| 33/33 [00:10<00:00,  3.07it/s]\n",
      "100%|██████████| 19/19 [00:05<00:00,  3.29it/s]\n"
     ]
    },
    {
     "name": "stdout",
     "output_type": "stream",
     "text": [
      "1m 10s\n",
      "Early Stopping Counter = 1\n",
      "Epoch 141/300\n"
     ]
    },
    {
     "name": "stderr",
     "output_type": "stream",
     "text": [
      "100%|██████████| 178/178 [00:53<00:00,  3.34it/s]\n",
      "100%|██████████| 33/33 [00:10<00:00,  3.07it/s]\n",
      "100%|██████████| 19/19 [00:05<00:00,  3.22it/s]\n"
     ]
    },
    {
     "name": "stdout",
     "output_type": "stream",
     "text": [
      "1m 10s\n",
      "Early Stopping Counter = 2\n",
      "Epoch 142/300\n"
     ]
    },
    {
     "name": "stderr",
     "output_type": "stream",
     "text": [
      "100%|██████████| 178/178 [00:53<00:00,  3.32it/s]\n",
      "100%|██████████| 33/33 [00:11<00:00,  3.00it/s]\n",
      "100%|██████████| 19/19 [00:05<00:00,  3.33it/s]\n"
     ]
    },
    {
     "name": "stdout",
     "output_type": "stream",
     "text": [
      "1m 10s\n",
      "Early Stopping Counter = 3\n",
      "Epoch 143/300\n"
     ]
    },
    {
     "name": "stderr",
     "output_type": "stream",
     "text": [
      "100%|██████████| 178/178 [00:53<00:00,  3.31it/s]\n",
      "100%|██████████| 33/33 [00:10<00:00,  3.03it/s]\n",
      "100%|██████████| 19/19 [00:05<00:00,  3.20it/s]\n"
     ]
    },
    {
     "name": "stdout",
     "output_type": "stream",
     "text": [
      "1m 11s\n",
      "Early Stopping Counter = 4\n",
      "Epoch 144/300\n"
     ]
    },
    {
     "name": "stderr",
     "output_type": "stream",
     "text": [
      "100%|██████████| 178/178 [00:54<00:00,  3.28it/s]\n",
      "100%|██████████| 33/33 [00:10<00:00,  3.05it/s]\n",
      "100%|██████████| 19/19 [00:05<00:00,  3.23it/s]\n"
     ]
    },
    {
     "name": "stdout",
     "output_type": "stream",
     "text": [
      "1m 11s\n",
      "Early Stopping Counter = 5\n",
      "Epoch 145/300\n"
     ]
    },
    {
     "name": "stderr",
     "output_type": "stream",
     "text": [
      "100%|██████████| 178/178 [00:54<00:00,  3.25it/s]\n",
      "100%|██████████| 33/33 [00:10<00:00,  3.05it/s]\n",
      "100%|██████████| 19/19 [00:05<00:00,  3.28it/s]\n"
     ]
    },
    {
     "name": "stdout",
     "output_type": "stream",
     "text": [
      "1m 11s\n",
      "Consistency Loss declined to 0.09481379513939221\n",
      "Early Stopping Counter = 0\n",
      "Epoch 146/300\n"
     ]
    },
    {
     "name": "stderr",
     "output_type": "stream",
     "text": [
      "100%|██████████| 178/178 [00:54<00:00,  3.27it/s]\n",
      "100%|██████████| 33/33 [00:10<00:00,  3.03it/s]\n",
      "100%|██████████| 19/19 [00:05<00:00,  3.32it/s]\n"
     ]
    },
    {
     "name": "stdout",
     "output_type": "stream",
     "text": [
      "1m 11s\n",
      "Consistency Loss declined to 0.0942292774491238\n",
      "Early Stopping Counter = 0\n",
      "Epoch 147/300\n"
     ]
    },
    {
     "name": "stderr",
     "output_type": "stream",
     "text": [
      "100%|██████████| 178/178 [00:54<00:00,  3.27it/s]\n",
      "100%|██████████| 33/33 [00:10<00:00,  3.05it/s]\n",
      "100%|██████████| 19/19 [00:05<00:00,  3.23it/s]\n"
     ]
    },
    {
     "name": "stdout",
     "output_type": "stream",
     "text": [
      "1m 11s\n",
      "Consistency Loss declined to 0.09393701160495932\n",
      "Early Stopping Counter = 0\n",
      "Epoch 148/300\n"
     ]
    },
    {
     "name": "stderr",
     "output_type": "stream",
     "text": [
      "100%|██████████| 178/178 [00:54<00:00,  3.27it/s]\n",
      "100%|██████████| 33/33 [00:10<00:00,  3.05it/s]\n",
      "100%|██████████| 19/19 [00:06<00:00,  3.15it/s]\n"
     ]
    },
    {
     "name": "stdout",
     "output_type": "stream",
     "text": [
      "1m 11s\n",
      "Consistency Loss declined to 0.09085404940626839\n",
      "Early Stopping Counter = 0\n",
      "Epoch 149/300\n"
     ]
    },
    {
     "name": "stderr",
     "output_type": "stream",
     "text": [
      "100%|██████████| 178/178 [00:54<00:00,  3.29it/s]\n",
      "100%|██████████| 33/33 [00:10<00:00,  3.05it/s]\n",
      "100%|██████████| 19/19 [00:05<00:00,  3.19it/s]\n"
     ]
    },
    {
     "name": "stdout",
     "output_type": "stream",
     "text": [
      "1m 11s\n",
      "Early Stopping Counter = 1\n",
      "Epoch 150/300\n"
     ]
    },
    {
     "name": "stderr",
     "output_type": "stream",
     "text": [
      "100%|██████████| 178/178 [00:53<00:00,  3.30it/s]\n",
      "100%|██████████| 33/33 [00:10<00:00,  3.05it/s]\n",
      "100%|██████████| 19/19 [00:05<00:00,  3.23it/s]\n"
     ]
    },
    {
     "name": "stdout",
     "output_type": "stream",
     "text": [
      "1m 11s\n",
      "Early Stopping Counter = 2\n",
      "Epoch 151/300\n"
     ]
    },
    {
     "name": "stderr",
     "output_type": "stream",
     "text": [
      "100%|██████████| 178/178 [00:53<00:00,  3.30it/s]\n",
      "100%|██████████| 33/33 [00:10<00:00,  3.04it/s]\n",
      "100%|██████████| 19/19 [00:05<00:00,  3.30it/s]\n"
     ]
    },
    {
     "name": "stdout",
     "output_type": "stream",
     "text": [
      "1m 10s\n",
      "Consistency Loss declined to 0.09008099511265755\n",
      "Early Stopping Counter = 0\n",
      "Epoch 152/300\n"
     ]
    },
    {
     "name": "stderr",
     "output_type": "stream",
     "text": [
      "100%|██████████| 178/178 [00:53<00:00,  3.32it/s]\n",
      "100%|██████████| 33/33 [00:10<00:00,  3.06it/s]\n",
      "100%|██████████| 19/19 [00:05<00:00,  3.23it/s]\n"
     ]
    },
    {
     "name": "stdout",
     "output_type": "stream",
     "text": [
      "1m 10s\n",
      "Early Stopping Counter = 1\n",
      "Epoch 153/300\n"
     ]
    },
    {
     "name": "stderr",
     "output_type": "stream",
     "text": [
      "100%|██████████| 178/178 [00:53<00:00,  3.31it/s]\n",
      "100%|██████████| 33/33 [00:10<00:00,  3.01it/s]\n",
      "100%|██████████| 19/19 [00:05<00:00,  3.29it/s]\n"
     ]
    },
    {
     "name": "stdout",
     "output_type": "stream",
     "text": [
      "1m 11s\n",
      "Consistency Loss declined to 0.08797614592494386\n",
      "Early Stopping Counter = 0\n",
      "Epoch 154/300\n"
     ]
    },
    {
     "name": "stderr",
     "output_type": "stream",
     "text": [
      "100%|██████████| 178/178 [00:53<00:00,  3.33it/s]\n",
      "100%|██████████| 33/33 [00:10<00:00,  3.06it/s]\n",
      "100%|██████████| 19/19 [00:05<00:00,  3.25it/s]\n"
     ]
    },
    {
     "name": "stdout",
     "output_type": "stream",
     "text": [
      "1m 10s\n",
      "Consistency Loss declined to 0.08750419296098477\n",
      "Early Stopping Counter = 0\n",
      "Epoch 155/300\n"
     ]
    },
    {
     "name": "stderr",
     "output_type": "stream",
     "text": [
      "100%|██████████| 178/178 [00:53<00:00,  3.34it/s]\n",
      "100%|██████████| 33/33 [00:10<00:00,  3.02it/s]\n",
      "100%|██████████| 19/19 [00:05<00:00,  3.27it/s]\n"
     ]
    },
    {
     "name": "stdout",
     "output_type": "stream",
     "text": [
      "1m 10s\n",
      "Early Stopping Counter = 1\n",
      "Epoch 156/300\n"
     ]
    },
    {
     "name": "stderr",
     "output_type": "stream",
     "text": [
      "100%|██████████| 178/178 [00:53<00:00,  3.32it/s]\n",
      "100%|██████████| 33/33 [00:10<00:00,  3.07it/s]\n",
      "100%|██████████| 19/19 [00:05<00:00,  3.28it/s]\n"
     ]
    },
    {
     "name": "stdout",
     "output_type": "stream",
     "text": [
      "1m 10s\n",
      "Early Stopping Counter = 2\n",
      "Epoch 157/300\n"
     ]
    },
    {
     "name": "stderr",
     "output_type": "stream",
     "text": [
      "100%|██████████| 178/178 [00:53<00:00,  3.32it/s]\n",
      "100%|██████████| 33/33 [00:10<00:00,  3.06it/s]\n",
      "100%|██████████| 19/19 [00:05<00:00,  3.25it/s]\n"
     ]
    },
    {
     "name": "stdout",
     "output_type": "stream",
     "text": [
      "1m 10s\n",
      "Early Stopping Counter = 3\n",
      "Epoch 158/300\n"
     ]
    },
    {
     "name": "stderr",
     "output_type": "stream",
     "text": [
      "100%|██████████| 178/178 [00:53<00:00,  3.31it/s]\n",
      "100%|██████████| 33/33 [00:10<00:00,  3.07it/s]\n",
      "100%|██████████| 19/19 [00:05<00:00,  3.20it/s]\n"
     ]
    },
    {
     "name": "stdout",
     "output_type": "stream",
     "text": [
      "1m 11s\n",
      "Early Stopping Counter = 4\n",
      "Epoch 159/300\n"
     ]
    },
    {
     "name": "stderr",
     "output_type": "stream",
     "text": [
      "100%|██████████| 178/178 [00:53<00:00,  3.33it/s]\n",
      "100%|██████████| 33/33 [00:10<00:00,  3.07it/s]\n",
      "100%|██████████| 19/19 [00:05<00:00,  3.25it/s]\n"
     ]
    },
    {
     "name": "stdout",
     "output_type": "stream",
     "text": [
      "1m 10s\n",
      "Consistency Loss declined to 0.08658901726206143\n",
      "Early Stopping Counter = 0\n",
      "Epoch 160/300\n"
     ]
    },
    {
     "name": "stderr",
     "output_type": "stream",
     "text": [
      "100%|██████████| 178/178 [00:53<00:00,  3.33it/s]\n",
      "100%|██████████| 33/33 [00:10<00:00,  3.06it/s]\n",
      "100%|██████████| 19/19 [00:05<00:00,  3.25it/s]\n"
     ]
    },
    {
     "name": "stdout",
     "output_type": "stream",
     "text": [
      "1m 10s\n",
      "Consistency Loss declined to 0.08625295532472206\n",
      "Early Stopping Counter = 0\n",
      "Epoch 161/300\n"
     ]
    },
    {
     "name": "stderr",
     "output_type": "stream",
     "text": [
      "100%|██████████| 178/178 [00:53<00:00,  3.32it/s]\n",
      "100%|██████████| 33/33 [00:10<00:00,  3.07it/s]\n",
      "100%|██████████| 19/19 [00:05<00:00,  3.23it/s]\n"
     ]
    },
    {
     "name": "stdout",
     "output_type": "stream",
     "text": [
      "1m 10s\n",
      "Consistency Loss declined to 0.08377789197997614\n",
      "Early Stopping Counter = 0\n",
      "Epoch 162/300\n"
     ]
    },
    {
     "name": "stderr",
     "output_type": "stream",
     "text": [
      "100%|██████████| 178/178 [00:53<00:00,  3.33it/s]\n",
      "100%|██████████| 33/33 [00:10<00:00,  3.07it/s]\n",
      "100%|██████████| 19/19 [00:05<00:00,  3.24it/s]\n"
     ]
    },
    {
     "name": "stdout",
     "output_type": "stream",
     "text": [
      "1m 10s\n",
      "Early Stopping Counter = 1\n",
      "Epoch 163/300\n"
     ]
    },
    {
     "name": "stderr",
     "output_type": "stream",
     "text": [
      "100%|██████████| 178/178 [00:53<00:00,  3.32it/s]\n",
      "100%|██████████| 33/33 [00:11<00:00,  3.00it/s]\n",
      "100%|██████████| 19/19 [00:05<00:00,  3.29it/s]\n"
     ]
    },
    {
     "name": "stdout",
     "output_type": "stream",
     "text": [
      "1m 10s\n",
      "Early Stopping Counter = 2\n",
      "Epoch 164/300\n"
     ]
    },
    {
     "name": "stderr",
     "output_type": "stream",
     "text": [
      "100%|██████████| 178/178 [00:53<00:00,  3.30it/s]\n",
      "100%|██████████| 33/33 [00:10<00:00,  3.06it/s]\n",
      "100%|██████████| 19/19 [00:05<00:00,  3.30it/s]\n"
     ]
    },
    {
     "name": "stdout",
     "output_type": "stream",
     "text": [
      "1m 10s\n",
      "Consistency Loss declined to 0.08208439499139786\n",
      "Early Stopping Counter = 0\n",
      "Epoch 165/300\n"
     ]
    },
    {
     "name": "stderr",
     "output_type": "stream",
     "text": [
      "100%|██████████| 178/178 [00:53<00:00,  3.33it/s]\n",
      "100%|██████████| 33/33 [00:10<00:00,  3.04it/s]\n",
      "100%|██████████| 19/19 [00:05<00:00,  3.24it/s]\n"
     ]
    },
    {
     "name": "stdout",
     "output_type": "stream",
     "text": [
      "1m 10s\n",
      "Consistency Loss declined to 0.08119846665949533\n",
      "Early Stopping Counter = 0\n",
      "Epoch 166/300\n"
     ]
    },
    {
     "name": "stderr",
     "output_type": "stream",
     "text": [
      "100%|██████████| 178/178 [00:53<00:00,  3.33it/s]\n",
      "100%|██████████| 33/33 [00:10<00:00,  3.06it/s]\n",
      "100%|██████████| 19/19 [00:06<00:00,  3.11it/s]\n"
     ]
    },
    {
     "name": "stdout",
     "output_type": "stream",
     "text": [
      "1m 10s\n",
      "Early Stopping Counter = 1\n",
      "Epoch 167/300\n"
     ]
    },
    {
     "name": "stderr",
     "output_type": "stream",
     "text": [
      "100%|██████████| 178/178 [00:53<00:00,  3.35it/s]\n",
      "100%|██████████| 33/33 [00:10<00:00,  3.01it/s]\n",
      "100%|██████████| 19/19 [00:05<00:00,  3.29it/s]\n"
     ]
    },
    {
     "name": "stdout",
     "output_type": "stream",
     "text": [
      "1m 10s\n",
      "Early Stopping Counter = 2\n",
      "Epoch 168/300\n"
     ]
    },
    {
     "name": "stderr",
     "output_type": "stream",
     "text": [
      "100%|██████████| 178/178 [00:53<00:00,  3.33it/s]\n",
      "100%|██████████| 33/33 [00:10<00:00,  3.07it/s]\n",
      "100%|██████████| 19/19 [00:05<00:00,  3.24it/s]\n"
     ]
    },
    {
     "name": "stdout",
     "output_type": "stream",
     "text": [
      "1m 10s\n",
      "Early Stopping Counter = 3\n",
      "Epoch 169/300\n"
     ]
    },
    {
     "name": "stderr",
     "output_type": "stream",
     "text": [
      "100%|██████████| 178/178 [00:54<00:00,  3.29it/s]\n",
      "100%|██████████| 33/33 [00:10<00:00,  3.07it/s]\n",
      "100%|██████████| 19/19 [00:05<00:00,  3.28it/s]\n"
     ]
    },
    {
     "name": "stdout",
     "output_type": "stream",
     "text": [
      "1m 11s\n",
      "Consistency Loss declined to 0.0807726699294466\n",
      "Early Stopping Counter = 0\n",
      "Epoch 170/300\n"
     ]
    },
    {
     "name": "stderr",
     "output_type": "stream",
     "text": [
      "100%|██████████| 178/178 [00:53<00:00,  3.33it/s]\n",
      "100%|██████████| 33/33 [00:10<00:00,  3.05it/s]\n",
      "100%|██████████| 19/19 [00:05<00:00,  3.22it/s]\n"
     ]
    },
    {
     "name": "stdout",
     "output_type": "stream",
     "text": [
      "1m 10s\n",
      "Early Stopping Counter = 1\n",
      "Epoch 171/300\n"
     ]
    },
    {
     "name": "stderr",
     "output_type": "stream",
     "text": [
      "100%|██████████| 178/178 [00:53<00:00,  3.33it/s]\n",
      "100%|██████████| 33/33 [00:10<00:00,  3.01it/s]\n",
      "100%|██████████| 19/19 [00:05<00:00,  3.24it/s]\n"
     ]
    },
    {
     "name": "stdout",
     "output_type": "stream",
     "text": [
      "1m 10s\n",
      "Early Stopping Counter = 2\n",
      "Epoch 172/300\n"
     ]
    },
    {
     "name": "stderr",
     "output_type": "stream",
     "text": [
      "100%|██████████| 178/178 [00:53<00:00,  3.31it/s]\n",
      "100%|██████████| 33/33 [00:10<00:00,  3.07it/s]\n",
      "100%|██████████| 19/19 [00:05<00:00,  3.22it/s]\n"
     ]
    },
    {
     "name": "stdout",
     "output_type": "stream",
     "text": [
      "1m 10s\n",
      "Early Stopping Counter = 3\n",
      "Epoch 173/300\n"
     ]
    },
    {
     "name": "stderr",
     "output_type": "stream",
     "text": [
      "100%|██████████| 178/178 [00:53<00:00,  3.33it/s]\n",
      "100%|██████████| 33/33 [00:11<00:00,  2.98it/s]\n",
      "100%|██████████| 19/19 [00:05<00:00,  3.21it/s]\n"
     ]
    },
    {
     "name": "stdout",
     "output_type": "stream",
     "text": [
      "1m 10s\n",
      "Early Stopping Counter = 4\n",
      "Epoch 174/300\n"
     ]
    },
    {
     "name": "stderr",
     "output_type": "stream",
     "text": [
      "100%|██████████| 178/178 [00:53<00:00,  3.32it/s]\n",
      "100%|██████████| 33/33 [00:10<00:00,  3.00it/s]\n",
      "100%|██████████| 19/19 [00:05<00:00,  3.23it/s]\n"
     ]
    },
    {
     "name": "stdout",
     "output_type": "stream",
     "text": [
      "1m 10s\n",
      "Early Stopping Counter = 5\n",
      "Epoch 175/300\n"
     ]
    },
    {
     "name": "stderr",
     "output_type": "stream",
     "text": [
      "100%|██████████| 178/178 [00:53<00:00,  3.33it/s]\n",
      "100%|██████████| 33/33 [00:10<00:00,  3.05it/s]\n",
      "100%|██████████| 19/19 [00:05<00:00,  3.25it/s]\n"
     ]
    },
    {
     "name": "stdout",
     "output_type": "stream",
     "text": [
      "1m 10s\n",
      "Early Stopping Counter = 6\n",
      "Epoch 176/300\n"
     ]
    },
    {
     "name": "stderr",
     "output_type": "stream",
     "text": [
      "100%|██████████| 178/178 [00:53<00:00,  3.33it/s]\n",
      "100%|██████████| 33/33 [00:10<00:00,  3.06it/s]\n",
      "100%|██████████| 19/19 [00:06<00:00,  3.03it/s]\n"
     ]
    },
    {
     "name": "stdout",
     "output_type": "stream",
     "text": [
      "1m 11s\n",
      "Consistency Loss declined to 0.07929675461667957\n",
      "Early Stopping Counter = 0\n",
      "Epoch 177/300\n"
     ]
    },
    {
     "name": "stderr",
     "output_type": "stream",
     "text": [
      "100%|██████████| 178/178 [00:53<00:00,  3.31it/s]\n",
      "100%|██████████| 33/33 [00:10<00:00,  3.06it/s]\n",
      "100%|██████████| 19/19 [00:05<00:00,  3.22it/s]\n"
     ]
    },
    {
     "name": "stdout",
     "output_type": "stream",
     "text": [
      "1m 10s\n",
      "Consistency Loss declined to 0.0761004090309143\n",
      "Early Stopping Counter = 0\n",
      "Epoch 178/300\n"
     ]
    },
    {
     "name": "stderr",
     "output_type": "stream",
     "text": [
      "100%|██████████| 178/178 [00:53<00:00,  3.33it/s]\n",
      "100%|██████████| 33/33 [00:10<00:00,  3.06it/s]\n",
      "100%|██████████| 19/19 [00:05<00:00,  3.21it/s]\n"
     ]
    },
    {
     "name": "stdout",
     "output_type": "stream",
     "text": [
      "1m 10s\n",
      "Early Stopping Counter = 1\n",
      "Epoch 179/300\n"
     ]
    },
    {
     "name": "stderr",
     "output_type": "stream",
     "text": [
      "100%|██████████| 178/178 [00:53<00:00,  3.32it/s]\n",
      "100%|██████████| 33/33 [00:11<00:00,  2.99it/s]\n",
      "100%|██████████| 19/19 [00:05<00:00,  3.19it/s]\n"
     ]
    },
    {
     "name": "stdout",
     "output_type": "stream",
     "text": [
      "1m 11s\n",
      "Early Stopping Counter = 2\n",
      "Epoch 180/300\n"
     ]
    },
    {
     "name": "stderr",
     "output_type": "stream",
     "text": [
      "100%|██████████| 178/178 [00:53<00:00,  3.31it/s]\n",
      "100%|██████████| 33/33 [00:10<00:00,  3.06it/s]\n",
      "100%|██████████| 19/19 [00:05<00:00,  3.24it/s]\n"
     ]
    },
    {
     "name": "stdout",
     "output_type": "stream",
     "text": [
      "1m 10s\n",
      "Early Stopping Counter = 3\n",
      "Epoch 181/300\n"
     ]
    },
    {
     "name": "stderr",
     "output_type": "stream",
     "text": [
      "100%|██████████| 178/178 [00:53<00:00,  3.33it/s]\n",
      "100%|██████████| 33/33 [00:11<00:00,  3.00it/s]\n",
      "100%|██████████| 19/19 [00:05<00:00,  3.22it/s]\n"
     ]
    },
    {
     "name": "stdout",
     "output_type": "stream",
     "text": [
      "1m 10s\n",
      "Consistency Loss declined to 0.07597957641789407\n",
      "Early Stopping Counter = 0\n",
      "Epoch 182/300\n"
     ]
    },
    {
     "name": "stderr",
     "output_type": "stream",
     "text": [
      "100%|██████████| 178/178 [00:53<00:00,  3.34it/s]\n",
      "100%|██████████| 33/33 [00:10<00:00,  3.05it/s]\n",
      "100%|██████████| 19/19 [00:05<00:00,  3.30it/s]\n"
     ]
    },
    {
     "name": "stdout",
     "output_type": "stream",
     "text": [
      "1m 10s\n",
      "Consistency Loss declined to 0.0750884727546663\n",
      "Early Stopping Counter = 0\n",
      "Epoch 183/300\n"
     ]
    },
    {
     "name": "stderr",
     "output_type": "stream",
     "text": [
      "100%|██████████| 178/178 [00:53<00:00,  3.32it/s]\n",
      "100%|██████████| 33/33 [00:10<00:00,  3.08it/s]\n",
      "100%|██████████| 19/19 [00:05<00:00,  3.27it/s]\n"
     ]
    },
    {
     "name": "stdout",
     "output_type": "stream",
     "text": [
      "1m 10s\n",
      "Consistency Loss declined to 0.07275952760017279\n",
      "Early Stopping Counter = 0\n",
      "Epoch 184/300\n"
     ]
    },
    {
     "name": "stderr",
     "output_type": "stream",
     "text": [
      "100%|██████████| 178/178 [00:53<00:00,  3.33it/s]\n",
      "100%|██████████| 33/33 [00:10<00:00,  3.06it/s]\n",
      "100%|██████████| 19/19 [00:05<00:00,  3.25it/s]\n"
     ]
    },
    {
     "name": "stdout",
     "output_type": "stream",
     "text": [
      "1m 10s\n",
      "Early Stopping Counter = 1\n",
      "Epoch 185/300\n"
     ]
    },
    {
     "name": "stderr",
     "output_type": "stream",
     "text": [
      "100%|██████████| 178/178 [00:53<00:00,  3.32it/s]\n",
      "100%|██████████| 33/33 [00:10<00:00,  3.06it/s]\n",
      "100%|██████████| 19/19 [00:05<00:00,  3.21it/s]\n"
     ]
    },
    {
     "name": "stdout",
     "output_type": "stream",
     "text": [
      "1m 10s\n",
      "Early Stopping Counter = 2\n",
      "Epoch 186/300\n"
     ]
    },
    {
     "name": "stderr",
     "output_type": "stream",
     "text": [
      "100%|██████████| 178/178 [00:53<00:00,  3.33it/s]\n",
      "100%|██████████| 33/33 [00:10<00:00,  3.00it/s]\n",
      "100%|██████████| 19/19 [00:05<00:00,  3.28it/s]\n"
     ]
    },
    {
     "name": "stdout",
     "output_type": "stream",
     "text": [
      "1m 10s\n",
      "Early Stopping Counter = 3\n",
      "Epoch 187/300\n"
     ]
    },
    {
     "name": "stderr",
     "output_type": "stream",
     "text": [
      "100%|██████████| 178/178 [00:53<00:00,  3.34it/s]\n",
      "100%|██████████| 33/33 [00:10<00:00,  3.04it/s]\n",
      "100%|██████████| 19/19 [00:05<00:00,  3.18it/s]\n"
     ]
    },
    {
     "name": "stdout",
     "output_type": "stream",
     "text": [
      "1m 10s\n",
      "Early Stopping Counter = 4\n",
      "Epoch 188/300\n"
     ]
    },
    {
     "name": "stderr",
     "output_type": "stream",
     "text": [
      "100%|██████████| 178/178 [00:53<00:00,  3.35it/s]\n",
      "100%|██████████| 33/33 [00:10<00:00,  3.07it/s]\n",
      "100%|██████████| 19/19 [00:05<00:00,  3.24it/s]\n"
     ]
    },
    {
     "name": "stdout",
     "output_type": "stream",
     "text": [
      "1m 10s\n",
      "Early Stopping Counter = 5\n",
      "Epoch 189/300\n"
     ]
    },
    {
     "name": "stderr",
     "output_type": "stream",
     "text": [
      "100%|██████████| 178/178 [00:53<00:00,  3.33it/s]\n",
      "100%|██████████| 33/33 [00:10<00:00,  3.07it/s]\n",
      "100%|██████████| 19/19 [00:05<00:00,  3.22it/s]\n"
     ]
    },
    {
     "name": "stdout",
     "output_type": "stream",
     "text": [
      "1m 10s\n",
      "Consistency Loss declined to 0.06997516965775778\n",
      "Early Stopping Counter = 0\n",
      "Epoch 190/300\n"
     ]
    },
    {
     "name": "stderr",
     "output_type": "stream",
     "text": [
      "100%|██████████| 178/178 [00:53<00:00,  3.31it/s]\n",
      "100%|██████████| 33/33 [00:10<00:00,  3.06it/s]\n",
      "100%|██████████| 19/19 [00:06<00:00,  3.16it/s]\n"
     ]
    },
    {
     "name": "stdout",
     "output_type": "stream",
     "text": [
      "1m 11s\n",
      "Early Stopping Counter = 1\n",
      "Epoch 191/300\n"
     ]
    },
    {
     "name": "stderr",
     "output_type": "stream",
     "text": [
      "100%|██████████| 178/178 [00:53<00:00,  3.34it/s]\n",
      "100%|██████████| 33/33 [00:10<00:00,  3.01it/s]\n",
      "100%|██████████| 19/19 [00:05<00:00,  3.22it/s]\n"
     ]
    },
    {
     "name": "stdout",
     "output_type": "stream",
     "text": [
      "1m 10s\n",
      "Early Stopping Counter = 2\n",
      "Epoch 192/300\n"
     ]
    },
    {
     "name": "stderr",
     "output_type": "stream",
     "text": [
      "100%|██████████| 178/178 [00:53<00:00,  3.32it/s]\n",
      "100%|██████████| 33/33 [00:10<00:00,  3.02it/s]\n",
      "100%|██████████| 19/19 [00:05<00:00,  3.25it/s]\n"
     ]
    },
    {
     "name": "stdout",
     "output_type": "stream",
     "text": [
      "1m 10s\n",
      "Early Stopping Counter = 3\n",
      "Epoch 193/300\n"
     ]
    },
    {
     "name": "stderr",
     "output_type": "stream",
     "text": [
      "100%|██████████| 178/178 [00:53<00:00,  3.32it/s]\n",
      "100%|██████████| 33/33 [00:10<00:00,  3.06it/s]\n",
      "100%|██████████| 19/19 [00:05<00:00,  3.24it/s]\n"
     ]
    },
    {
     "name": "stdout",
     "output_type": "stream",
     "text": [
      "1m 10s\n",
      "Early Stopping Counter = 4\n",
      "Epoch 194/300\n"
     ]
    },
    {
     "name": "stderr",
     "output_type": "stream",
     "text": [
      "100%|██████████| 178/178 [00:53<00:00,  3.32it/s]\n",
      "100%|██████████| 33/33 [00:10<00:00,  3.01it/s]\n",
      "100%|██████████| 19/19 [00:05<00:00,  3.22it/s]\n"
     ]
    },
    {
     "name": "stdout",
     "output_type": "stream",
     "text": [
      "1m 11s\n",
      "Early Stopping Counter = 5\n",
      "Epoch 195/300\n"
     ]
    },
    {
     "name": "stderr",
     "output_type": "stream",
     "text": [
      "100%|██████████| 178/178 [00:53<00:00,  3.31it/s]\n",
      "100%|██████████| 33/33 [00:10<00:00,  3.07it/s]\n",
      "100%|██████████| 19/19 [00:05<00:00,  3.27it/s]\n"
     ]
    },
    {
     "name": "stdout",
     "output_type": "stream",
     "text": [
      "1m 10s\n",
      "Early Stopping Counter = 6\n",
      "Epoch 196/300\n"
     ]
    },
    {
     "name": "stderr",
     "output_type": "stream",
     "text": [
      "100%|██████████| 178/178 [00:53<00:00,  3.32it/s]\n",
      "100%|██████████| 33/33 [00:11<00:00,  3.00it/s]\n",
      "100%|██████████| 19/19 [00:05<00:00,  3.31it/s]\n"
     ]
    },
    {
     "name": "stdout",
     "output_type": "stream",
     "text": [
      "1m 10s\n",
      "Early Stopping Counter = 7\n",
      "Epoch 197/300\n"
     ]
    },
    {
     "name": "stderr",
     "output_type": "stream",
     "text": [
      "100%|██████████| 178/178 [00:53<00:00,  3.32it/s]\n",
      "100%|██████████| 33/33 [00:11<00:00,  3.00it/s]\n",
      "100%|██████████| 19/19 [00:05<00:00,  3.22it/s]\n"
     ]
    },
    {
     "name": "stdout",
     "output_type": "stream",
     "text": [
      "1m 11s\n",
      "Consistency Loss declined to 0.06890295355608969\n",
      "Early Stopping Counter = 0\n",
      "Epoch 198/300\n"
     ]
    },
    {
     "name": "stderr",
     "output_type": "stream",
     "text": [
      "100%|██████████| 178/178 [00:53<00:00,  3.32it/s]\n",
      "100%|██████████| 33/33 [00:10<00:00,  3.06it/s]\n",
      "100%|██████████| 19/19 [00:05<00:00,  3.19it/s]\n"
     ]
    },
    {
     "name": "stdout",
     "output_type": "stream",
     "text": [
      "1m 10s\n",
      "Early Stopping Counter = 1\n",
      "Epoch 199/300\n"
     ]
    },
    {
     "name": "stderr",
     "output_type": "stream",
     "text": [
      "100%|██████████| 178/178 [00:53<00:00,  3.32it/s]\n",
      "100%|██████████| 33/33 [00:10<00:00,  3.07it/s]\n",
      "100%|██████████| 19/19 [00:05<00:00,  3.27it/s]\n"
     ]
    },
    {
     "name": "stdout",
     "output_type": "stream",
     "text": [
      "1m 10s\n",
      "Early Stopping Counter = 2\n",
      "Epoch 200/300\n"
     ]
    },
    {
     "name": "stderr",
     "output_type": "stream",
     "text": [
      "100%|██████████| 178/178 [00:53<00:00,  3.31it/s]\n",
      "100%|██████████| 33/33 [00:10<00:00,  3.06it/s]\n",
      "100%|██████████| 19/19 [00:05<00:00,  3.24it/s]\n"
     ]
    },
    {
     "name": "stdout",
     "output_type": "stream",
     "text": [
      "1m 10s\n",
      "Early Stopping Counter = 3\n",
      "Epoch 201/300\n"
     ]
    },
    {
     "name": "stderr",
     "output_type": "stream",
     "text": [
      "100%|██████████| 178/178 [00:53<00:00,  3.33it/s]\n",
      "100%|██████████| 33/33 [00:10<00:00,  3.07it/s]\n",
      "100%|██████████| 19/19 [00:05<00:00,  3.21it/s]\n"
     ]
    },
    {
     "name": "stdout",
     "output_type": "stream",
     "text": [
      "1m 10s\n",
      "Early Stopping Counter = 4\n",
      "Epoch 202/300\n"
     ]
    },
    {
     "name": "stderr",
     "output_type": "stream",
     "text": [
      "100%|██████████| 178/178 [00:53<00:00,  3.34it/s]\n",
      "100%|██████████| 33/33 [00:10<00:00,  3.01it/s]\n",
      "100%|██████████| 19/19 [00:05<00:00,  3.20it/s]\n"
     ]
    },
    {
     "name": "stdout",
     "output_type": "stream",
     "text": [
      "1m 10s\n",
      "Early Stopping Counter = 5\n",
      "Epoch 203/300\n"
     ]
    },
    {
     "name": "stderr",
     "output_type": "stream",
     "text": [
      "100%|██████████| 178/178 [00:53<00:00,  3.32it/s]\n",
      "100%|██████████| 33/33 [00:10<00:00,  3.07it/s]\n",
      "100%|██████████| 19/19 [00:05<00:00,  3.22it/s]\n"
     ]
    },
    {
     "name": "stdout",
     "output_type": "stream",
     "text": [
      "1m 10s\n",
      "Early Stopping Counter = 6\n",
      "Epoch 204/300\n"
     ]
    },
    {
     "name": "stderr",
     "output_type": "stream",
     "text": [
      "100%|██████████| 178/178 [00:53<00:00,  3.32it/s]\n",
      "100%|██████████| 33/33 [00:10<00:00,  3.07it/s]\n",
      "100%|██████████| 19/19 [00:05<00:00,  3.24it/s]\n"
     ]
    },
    {
     "name": "stdout",
     "output_type": "stream",
     "text": [
      "1m 10s\n",
      "Consistency Loss declined to 0.06860177467266719\n",
      "Early Stopping Counter = 0\n",
      "Epoch 205/300\n"
     ]
    },
    {
     "name": "stderr",
     "output_type": "stream",
     "text": [
      "100%|██████████| 178/178 [00:53<00:00,  3.32it/s]\n",
      "100%|██████████| 33/33 [00:10<00:00,  3.07it/s]\n",
      "100%|██████████| 19/19 [00:05<00:00,  3.25it/s]\n"
     ]
    },
    {
     "name": "stdout",
     "output_type": "stream",
     "text": [
      "1m 10s\n",
      "Consistency Loss declined to 0.06751832811895644\n",
      "Early Stopping Counter = 0\n",
      "Epoch 206/300\n"
     ]
    },
    {
     "name": "stderr",
     "output_type": "stream",
     "text": [
      "100%|██████████| 178/178 [00:54<00:00,  3.30it/s]\n",
      "100%|██████████| 33/33 [00:10<00:00,  3.05it/s]\n",
      "100%|██████████| 19/19 [00:05<00:00,  3.29it/s]\n"
     ]
    },
    {
     "name": "stdout",
     "output_type": "stream",
     "text": [
      "1m 11s\n",
      "Early Stopping Counter = 1\n",
      "Epoch 207/300\n"
     ]
    },
    {
     "name": "stderr",
     "output_type": "stream",
     "text": [
      "100%|██████████| 178/178 [00:53<00:00,  3.32it/s]\n",
      "100%|██████████| 33/33 [00:11<00:00,  3.00it/s]\n",
      "100%|██████████| 19/19 [00:05<00:00,  3.24it/s]\n"
     ]
    },
    {
     "name": "stdout",
     "output_type": "stream",
     "text": [
      "1m 10s\n",
      "Consistency Loss declined to 0.0673563251779838\n",
      "Early Stopping Counter = 0\n",
      "Epoch 208/300\n"
     ]
    },
    {
     "name": "stderr",
     "output_type": "stream",
     "text": [
      "100%|██████████| 178/178 [00:53<00:00,  3.33it/s]\n",
      "100%|██████████| 33/33 [00:10<00:00,  3.01it/s]\n",
      "100%|██████████| 19/19 [00:05<00:00,  3.22it/s]\n"
     ]
    },
    {
     "name": "stdout",
     "output_type": "stream",
     "text": [
      "1m 10s\n",
      "Consistency Loss declined to 0.06711861875021097\n",
      "Early Stopping Counter = 0\n",
      "Epoch 209/300\n"
     ]
    },
    {
     "name": "stderr",
     "output_type": "stream",
     "text": [
      "100%|██████████| 178/178 [00:53<00:00,  3.30it/s]\n",
      "100%|██████████| 33/33 [00:10<00:00,  3.07it/s]\n",
      "100%|██████████| 19/19 [00:05<00:00,  3.22it/s]\n"
     ]
    },
    {
     "name": "stdout",
     "output_type": "stream",
     "text": [
      "1m 11s\n",
      "Consistency Loss declined to 0.06549718095497652\n",
      "Early Stopping Counter = 0\n",
      "Epoch 210/300\n"
     ]
    },
    {
     "name": "stderr",
     "output_type": "stream",
     "text": [
      "100%|██████████| 178/178 [00:53<00:00,  3.32it/s]\n",
      "100%|██████████| 33/33 [00:10<00:00,  3.06it/s]\n",
      "100%|██████████| 19/19 [00:06<00:00,  3.15it/s]\n"
     ]
    },
    {
     "name": "stdout",
     "output_type": "stream",
     "text": [
      "1m 10s\n",
      "Early Stopping Counter = 1\n",
      "Epoch 211/300\n"
     ]
    },
    {
     "name": "stderr",
     "output_type": "stream",
     "text": [
      "100%|██████████| 178/178 [00:53<00:00,  3.31it/s]\n",
      "100%|██████████| 33/33 [00:10<00:00,  3.00it/s]\n",
      "100%|██████████| 19/19 [00:05<00:00,  3.19it/s]\n"
     ]
    },
    {
     "name": "stdout",
     "output_type": "stream",
     "text": [
      "1m 11s\n",
      "Early Stopping Counter = 2\n",
      "Epoch 212/300\n"
     ]
    },
    {
     "name": "stderr",
     "output_type": "stream",
     "text": [
      "100%|██████████| 178/178 [00:53<00:00,  3.32it/s]\n",
      "100%|██████████| 33/33 [00:10<00:00,  3.07it/s]\n",
      "100%|██████████| 19/19 [00:05<00:00,  3.21it/s]\n"
     ]
    },
    {
     "name": "stdout",
     "output_type": "stream",
     "text": [
      "1m 10s\n",
      "Early Stopping Counter = 3\n",
      "Epoch 213/300\n"
     ]
    },
    {
     "name": "stderr",
     "output_type": "stream",
     "text": [
      "100%|██████████| 178/178 [00:53<00:00,  3.33it/s]\n",
      "100%|██████████| 33/33 [00:10<00:00,  3.01it/s]\n",
      "100%|██████████| 19/19 [00:05<00:00,  3.22it/s]\n"
     ]
    },
    {
     "name": "stdout",
     "output_type": "stream",
     "text": [
      "1m 10s\n",
      "Early Stopping Counter = 4\n",
      "Epoch 214/300\n"
     ]
    },
    {
     "name": "stderr",
     "output_type": "stream",
     "text": [
      "100%|██████████| 178/178 [00:53<00:00,  3.31it/s]\n",
      "100%|██████████| 33/33 [00:11<00:00,  3.00it/s]\n",
      "100%|██████████| 19/19 [00:05<00:00,  3.20it/s]\n"
     ]
    },
    {
     "name": "stdout",
     "output_type": "stream",
     "text": [
      "1m 11s\n",
      "Consistency Loss declined to 0.06395539161608074\n",
      "Early Stopping Counter = 0\n",
      "Epoch 215/300\n"
     ]
    },
    {
     "name": "stderr",
     "output_type": "stream",
     "text": [
      "100%|██████████| 178/178 [00:53<00:00,  3.32it/s]\n",
      "100%|██████████| 33/33 [00:10<00:00,  3.06it/s]\n",
      "100%|██████████| 19/19 [00:05<00:00,  3.23it/s]\n"
     ]
    },
    {
     "name": "stdout",
     "output_type": "stream",
     "text": [
      "1m 10s\n",
      "Early Stopping Counter = 1\n",
      "Epoch 216/300\n"
     ]
    },
    {
     "name": "stderr",
     "output_type": "stream",
     "text": [
      "100%|██████████| 178/178 [00:53<00:00,  3.32it/s]\n",
      "100%|██████████| 33/33 [00:10<00:00,  3.05it/s]\n",
      "100%|██████████| 19/19 [00:06<00:00,  3.15it/s]\n"
     ]
    },
    {
     "name": "stdout",
     "output_type": "stream",
     "text": [
      "1m 11s\n",
      "Early Stopping Counter = 2\n",
      "Epoch 217/300\n"
     ]
    },
    {
     "name": "stderr",
     "output_type": "stream",
     "text": [
      "100%|██████████| 178/178 [00:54<00:00,  3.30it/s]\n",
      "100%|██████████| 33/33 [00:10<00:00,  3.04it/s]\n",
      "100%|██████████| 19/19 [00:05<00:00,  3.21it/s]\n"
     ]
    },
    {
     "name": "stdout",
     "output_type": "stream",
     "text": [
      "1m 11s\n",
      "Early Stopping Counter = 3\n",
      "Epoch 218/300\n"
     ]
    },
    {
     "name": "stderr",
     "output_type": "stream",
     "text": [
      "100%|██████████| 178/178 [00:53<00:00,  3.31it/s]\n",
      "100%|██████████| 33/33 [00:10<00:00,  3.07it/s]\n",
      "100%|██████████| 19/19 [00:05<00:00,  3.17it/s]\n"
     ]
    },
    {
     "name": "stdout",
     "output_type": "stream",
     "text": [
      "1m 11s\n",
      "Early Stopping Counter = 4\n",
      "Epoch 219/300\n"
     ]
    },
    {
     "name": "stderr",
     "output_type": "stream",
     "text": [
      "100%|██████████| 178/178 [00:53<00:00,  3.31it/s]\n",
      "100%|██████████| 33/33 [00:10<00:00,  3.04it/s]\n",
      "100%|██████████| 19/19 [00:05<00:00,  3.20it/s]\n"
     ]
    },
    {
     "name": "stdout",
     "output_type": "stream",
     "text": [
      "1m 11s\n",
      "Early Stopping Counter = 5\n",
      "Epoch 220/300\n"
     ]
    },
    {
     "name": "stderr",
     "output_type": "stream",
     "text": [
      "100%|██████████| 178/178 [00:53<00:00,  3.31it/s]\n",
      "100%|██████████| 33/33 [00:10<00:00,  3.05it/s]\n",
      "100%|██████████| 19/19 [00:06<00:00,  3.15it/s]\n"
     ]
    },
    {
     "name": "stdout",
     "output_type": "stream",
     "text": [
      "1m 11s\n",
      "Early Stopping Counter = 6\n",
      "Epoch 221/300\n"
     ]
    },
    {
     "name": "stderr",
     "output_type": "stream",
     "text": [
      "100%|██████████| 178/178 [00:54<00:00,  3.29it/s]\n",
      "100%|██████████| 33/33 [00:11<00:00,  2.99it/s]\n",
      "100%|██████████| 19/19 [00:05<00:00,  3.20it/s]\n"
     ]
    },
    {
     "name": "stdout",
     "output_type": "stream",
     "text": [
      "1m 11s\n",
      "Early Stopping Counter = 7\n",
      "Epoch 222/300\n"
     ]
    },
    {
     "name": "stderr",
     "output_type": "stream",
     "text": [
      "100%|██████████| 178/178 [00:53<00:00,  3.30it/s]\n",
      "100%|██████████| 33/33 [00:10<00:00,  3.05it/s]\n",
      "100%|██████████| 19/19 [00:06<00:00,  3.07it/s]\n"
     ]
    },
    {
     "name": "stdout",
     "output_type": "stream",
     "text": [
      "1m 11s\n",
      "Early Stopping Counter = 8\n",
      "Epoch 223/300\n"
     ]
    },
    {
     "name": "stderr",
     "output_type": "stream",
     "text": [
      "100%|██████████| 178/178 [00:53<00:00,  3.33it/s]\n",
      "100%|██████████| 33/33 [00:10<00:00,  3.06it/s]\n",
      "100%|██████████| 19/19 [00:05<00:00,  3.22it/s]\n"
     ]
    },
    {
     "name": "stdout",
     "output_type": "stream",
     "text": [
      "1m 10s\n",
      "Early Stopping Counter = 9\n",
      "Epoch 224/300\n"
     ]
    },
    {
     "name": "stderr",
     "output_type": "stream",
     "text": [
      "100%|██████████| 178/178 [00:53<00:00,  3.31it/s]\n",
      "100%|██████████| 33/33 [00:10<00:00,  3.05it/s]\n",
      "100%|██████████| 19/19 [00:06<00:00,  3.10it/s]\n"
     ]
    },
    {
     "name": "stdout",
     "output_type": "stream",
     "text": [
      "1m 11s\n",
      "Consistency Loss declined to 0.063535445115783\n",
      "Early Stopping Counter = 0\n",
      "Epoch 225/300\n"
     ]
    },
    {
     "name": "stderr",
     "output_type": "stream",
     "text": [
      "100%|██████████| 178/178 [00:53<00:00,  3.33it/s]\n",
      "100%|██████████| 33/33 [00:10<00:00,  3.00it/s]\n",
      "100%|██████████| 19/19 [00:05<00:00,  3.21it/s]\n"
     ]
    },
    {
     "name": "stdout",
     "output_type": "stream",
     "text": [
      "1m 10s\n",
      "Consistency Loss declined to 0.06204198622568087\n",
      "Early Stopping Counter = 0\n",
      "Epoch 226/300\n"
     ]
    },
    {
     "name": "stderr",
     "output_type": "stream",
     "text": [
      "100%|██████████| 178/178 [00:53<00:00,  3.30it/s]\n",
      "100%|██████████| 33/33 [00:10<00:00,  3.06it/s]\n",
      "100%|██████████| 19/19 [00:06<00:00,  3.15it/s]\n"
     ]
    },
    {
     "name": "stdout",
     "output_type": "stream",
     "text": [
      "1m 11s\n",
      "Consistency Loss declined to 0.06100403912591212\n",
      "Early Stopping Counter = 0\n",
      "Epoch 227/300\n"
     ]
    },
    {
     "name": "stderr",
     "output_type": "stream",
     "text": [
      "100%|██████████| 178/178 [00:53<00:00,  3.30it/s]\n",
      "100%|██████████| 33/33 [00:10<00:00,  3.06it/s]\n",
      "100%|██████████| 19/19 [00:05<00:00,  3.18it/s]\n"
     ]
    },
    {
     "name": "stdout",
     "output_type": "stream",
     "text": [
      "1m 11s\n",
      "Early Stopping Counter = 1\n",
      "Epoch 228/300\n"
     ]
    },
    {
     "name": "stderr",
     "output_type": "stream",
     "text": [
      "100%|██████████| 178/178 [00:53<00:00,  3.33it/s]\n",
      "100%|██████████| 33/33 [00:10<00:00,  3.06it/s]\n",
      "100%|██████████| 19/19 [00:05<00:00,  3.27it/s]\n"
     ]
    },
    {
     "name": "stdout",
     "output_type": "stream",
     "text": [
      "1m 10s\n",
      "Early Stopping Counter = 2\n",
      "Epoch 229/300\n"
     ]
    },
    {
     "name": "stderr",
     "output_type": "stream",
     "text": [
      "100%|██████████| 178/178 [00:53<00:00,  3.32it/s]\n",
      "100%|██████████| 33/33 [00:10<00:00,  3.06it/s]\n",
      "100%|██████████| 19/19 [00:05<00:00,  3.17it/s]\n"
     ]
    },
    {
     "name": "stdout",
     "output_type": "stream",
     "text": [
      "1m 10s\n",
      "Early Stopping Counter = 3\n",
      "Epoch 230/300\n"
     ]
    },
    {
     "name": "stderr",
     "output_type": "stream",
     "text": [
      "100%|██████████| 178/178 [00:53<00:00,  3.32it/s]\n",
      "100%|██████████| 33/33 [00:10<00:00,  3.07it/s]\n",
      "100%|██████████| 19/19 [00:05<00:00,  3.17it/s]\n"
     ]
    },
    {
     "name": "stdout",
     "output_type": "stream",
     "text": [
      "1m 10s\n",
      "Early Stopping Counter = 4\n",
      "Epoch 231/300\n"
     ]
    },
    {
     "name": "stderr",
     "output_type": "stream",
     "text": [
      "100%|██████████| 178/178 [00:53<00:00,  3.32it/s]\n",
      "100%|██████████| 33/33 [00:10<00:00,  3.06it/s]\n",
      "100%|██████████| 19/19 [00:05<00:00,  3.18it/s]\n"
     ]
    },
    {
     "name": "stdout",
     "output_type": "stream",
     "text": [
      "1m 10s\n",
      "Consistency Loss declined to 0.06014263697645881\n",
      "Early Stopping Counter = 0\n",
      "Epoch 232/300\n"
     ]
    },
    {
     "name": "stderr",
     "output_type": "stream",
     "text": [
      "100%|██████████| 178/178 [00:53<00:00,  3.32it/s]\n",
      "100%|██████████| 33/33 [00:11<00:00,  3.00it/s]\n",
      "100%|██████████| 19/19 [00:05<00:00,  3.30it/s]\n"
     ]
    },
    {
     "name": "stdout",
     "output_type": "stream",
     "text": [
      "1m 10s\n",
      "Early Stopping Counter = 1\n",
      "Epoch 233/300\n"
     ]
    },
    {
     "name": "stderr",
     "output_type": "stream",
     "text": [
      "100%|██████████| 178/178 [00:53<00:00,  3.32it/s]\n",
      "100%|██████████| 33/33 [00:10<00:00,  3.05it/s]\n",
      "100%|██████████| 19/19 [00:05<00:00,  3.18it/s]\n"
     ]
    },
    {
     "name": "stdout",
     "output_type": "stream",
     "text": [
      "1m 10s\n",
      "Early Stopping Counter = 2\n",
      "Epoch 234/300\n"
     ]
    },
    {
     "name": "stderr",
     "output_type": "stream",
     "text": [
      "100%|██████████| 178/178 [00:53<00:00,  3.33it/s]\n",
      "100%|██████████| 33/33 [00:11<00:00,  3.00it/s]\n",
      "100%|██████████| 19/19 [00:05<00:00,  3.19it/s]\n"
     ]
    },
    {
     "name": "stdout",
     "output_type": "stream",
     "text": [
      "1m 10s\n",
      "Early Stopping Counter = 3\n",
      "Epoch 235/300\n"
     ]
    },
    {
     "name": "stderr",
     "output_type": "stream",
     "text": [
      "100%|██████████| 178/178 [00:53<00:00,  3.31it/s]\n",
      "100%|██████████| 33/33 [00:11<00:00,  2.98it/s]\n",
      "100%|██████████| 19/19 [00:06<00:00,  3.16it/s]\n"
     ]
    },
    {
     "name": "stdout",
     "output_type": "stream",
     "text": [
      "1m 11s\n",
      "Consistency Loss declined to 0.05864420860554233\n",
      "Early Stopping Counter = 0\n",
      "Epoch 236/300\n"
     ]
    },
    {
     "name": "stderr",
     "output_type": "stream",
     "text": [
      "100%|██████████| 178/178 [00:53<00:00,  3.31it/s]\n",
      "100%|██████████| 33/33 [00:10<00:00,  3.06it/s]\n",
      "100%|██████████| 19/19 [00:05<00:00,  3.21it/s]\n"
     ]
    },
    {
     "name": "stdout",
     "output_type": "stream",
     "text": [
      "1m 10s\n",
      "Early Stopping Counter = 1\n",
      "Epoch 237/300\n"
     ]
    },
    {
     "name": "stderr",
     "output_type": "stream",
     "text": [
      "100%|██████████| 178/178 [00:53<00:00,  3.31it/s]\n",
      "100%|██████████| 33/33 [00:10<00:00,  3.06it/s]\n",
      "100%|██████████| 19/19 [00:05<00:00,  3.23it/s]\n"
     ]
    },
    {
     "name": "stdout",
     "output_type": "stream",
     "text": [
      "1m 10s\n",
      "Early Stopping Counter = 2\n",
      "Epoch 238/300\n"
     ]
    },
    {
     "name": "stderr",
     "output_type": "stream",
     "text": [
      "100%|██████████| 178/178 [00:53<00:00,  3.30it/s]\n",
      "100%|██████████| 33/33 [00:10<00:00,  3.05it/s]\n",
      "100%|██████████| 19/19 [00:05<00:00,  3.22it/s]\n"
     ]
    },
    {
     "name": "stdout",
     "output_type": "stream",
     "text": [
      "1m 11s\n",
      "Consistency Loss declined to 0.05823290731870767\n",
      "Early Stopping Counter = 0\n",
      "Epoch 239/300\n"
     ]
    },
    {
     "name": "stderr",
     "output_type": "stream",
     "text": [
      "100%|██████████| 178/178 [00:53<00:00,  3.30it/s]\n",
      "100%|██████████| 33/33 [00:10<00:00,  3.05it/s]\n",
      "100%|██████████| 19/19 [00:05<00:00,  3.19it/s]\n"
     ]
    },
    {
     "name": "stdout",
     "output_type": "stream",
     "text": [
      "1m 11s\n",
      "Early Stopping Counter = 1\n",
      "Epoch 240/300\n"
     ]
    },
    {
     "name": "stderr",
     "output_type": "stream",
     "text": [
      "100%|██████████| 178/178 [00:53<00:00,  3.33it/s]\n",
      "100%|██████████| 33/33 [00:11<00:00,  3.00it/s]\n",
      "100%|██████████| 19/19 [00:05<00:00,  3.19it/s]\n"
     ]
    },
    {
     "name": "stdout",
     "output_type": "stream",
     "text": [
      "1m 10s\n",
      "Early Stopping Counter = 2\n",
      "Epoch 241/300\n"
     ]
    },
    {
     "name": "stderr",
     "output_type": "stream",
     "text": [
      "100%|██████████| 178/178 [00:53<00:00,  3.30it/s]\n",
      "100%|██████████| 33/33 [00:11<00:00,  2.98it/s]\n",
      "100%|██████████| 19/19 [00:05<00:00,  3.23it/s]\n"
     ]
    },
    {
     "name": "stdout",
     "output_type": "stream",
     "text": [
      "1m 11s\n",
      "Early Stopping Counter = 3\n",
      "Epoch 242/300\n"
     ]
    },
    {
     "name": "stderr",
     "output_type": "stream",
     "text": [
      "100%|██████████| 178/178 [00:53<00:00,  3.34it/s]\n",
      "100%|██████████| 33/33 [00:10<00:00,  3.03it/s]\n",
      "100%|██████████| 19/19 [00:05<00:00,  3.20it/s]\n"
     ]
    },
    {
     "name": "stdout",
     "output_type": "stream",
     "text": [
      "1m 10s\n",
      "Early Stopping Counter = 4\n",
      "Epoch 243/300\n"
     ]
    },
    {
     "name": "stderr",
     "output_type": "stream",
     "text": [
      "100%|██████████| 178/178 [00:53<00:00,  3.31it/s]\n",
      "100%|██████████| 33/33 [00:10<00:00,  3.06it/s]\n",
      "100%|██████████| 19/19 [00:05<00:00,  3.20it/s]\n"
     ]
    },
    {
     "name": "stdout",
     "output_type": "stream",
     "text": [
      "1m 10s\n",
      "Consistency Loss declined to 0.05821096750371384\n",
      "Early Stopping Counter = 0\n",
      "Epoch 244/300\n"
     ]
    },
    {
     "name": "stderr",
     "output_type": "stream",
     "text": [
      "100%|██████████| 178/178 [00:53<00:00,  3.32it/s]\n",
      "100%|██████████| 33/33 [00:10<00:00,  3.05it/s]\n",
      "100%|██████████| 19/19 [00:05<00:00,  3.24it/s]\n"
     ]
    },
    {
     "name": "stdout",
     "output_type": "stream",
     "text": [
      "1m 10s\n",
      "Consistency Loss declined to 0.058120587332682175\n",
      "Early Stopping Counter = 0\n",
      "Epoch 245/300\n"
     ]
    },
    {
     "name": "stderr",
     "output_type": "stream",
     "text": [
      "100%|██████████| 178/178 [00:53<00:00,  3.31it/s]\n",
      "100%|██████████| 33/33 [00:10<00:00,  3.07it/s]\n",
      "100%|██████████| 19/19 [00:05<00:00,  3.23it/s]\n"
     ]
    },
    {
     "name": "stdout",
     "output_type": "stream",
     "text": [
      "1m 10s\n",
      "Early Stopping Counter = 1\n",
      "Epoch 246/300\n"
     ]
    },
    {
     "name": "stderr",
     "output_type": "stream",
     "text": [
      "100%|██████████| 178/178 [00:53<00:00,  3.33it/s]\n",
      "100%|██████████| 33/33 [00:10<00:00,  3.01it/s]\n",
      "100%|██████████| 19/19 [00:05<00:00,  3.24it/s]\n"
     ]
    },
    {
     "name": "stdout",
     "output_type": "stream",
     "text": [
      "1m 10s\n",
      "Consistency Loss declined to 0.05769522826779972\n",
      "Early Stopping Counter = 0\n",
      "Epoch 247/300\n"
     ]
    },
    {
     "name": "stderr",
     "output_type": "stream",
     "text": [
      "100%|██████████| 178/178 [00:53<00:00,  3.33it/s]\n",
      "100%|██████████| 33/33 [00:10<00:00,  3.06it/s]\n",
      "100%|██████████| 19/19 [00:05<00:00,  3.23it/s]\n"
     ]
    },
    {
     "name": "stdout",
     "output_type": "stream",
     "text": [
      "1m 10s\n",
      "Early Stopping Counter = 1\n",
      "Epoch 248/300\n"
     ]
    },
    {
     "name": "stderr",
     "output_type": "stream",
     "text": [
      "100%|██████████| 178/178 [00:53<00:00,  3.31it/s]\n",
      "100%|██████████| 33/33 [00:10<00:00,  3.06it/s]\n",
      "100%|██████████| 19/19 [00:06<00:00,  3.13it/s]\n"
     ]
    },
    {
     "name": "stdout",
     "output_type": "stream",
     "text": [
      "1m 11s\n",
      "Early Stopping Counter = 2\n",
      "Epoch 249/300\n"
     ]
    },
    {
     "name": "stderr",
     "output_type": "stream",
     "text": [
      "100%|██████████| 178/178 [00:53<00:00,  3.31it/s]\n",
      "100%|██████████| 33/33 [00:10<00:00,  3.03it/s]\n",
      "100%|██████████| 19/19 [00:06<00:00,  3.16it/s]\n"
     ]
    },
    {
     "name": "stdout",
     "output_type": "stream",
     "text": [
      "1m 11s\n",
      "Early Stopping Counter = 3\n",
      "Epoch 250/300\n"
     ]
    },
    {
     "name": "stderr",
     "output_type": "stream",
     "text": [
      "100%|██████████| 178/178 [00:53<00:00,  3.30it/s]\n",
      "100%|██████████| 33/33 [00:10<00:00,  3.06it/s]\n",
      "100%|██████████| 19/19 [00:05<00:00,  3.21it/s]\n"
     ]
    },
    {
     "name": "stdout",
     "output_type": "stream",
     "text": [
      "1m 11s\n",
      "Early Stopping Counter = 4\n",
      "Epoch 251/300\n"
     ]
    },
    {
     "name": "stderr",
     "output_type": "stream",
     "text": [
      "100%|██████████| 178/178 [00:53<00:00,  3.30it/s]\n",
      "100%|██████████| 33/33 [00:10<00:00,  3.04it/s]\n",
      "100%|██████████| 19/19 [00:05<00:00,  3.24it/s]\n"
     ]
    },
    {
     "name": "stdout",
     "output_type": "stream",
     "text": [
      "1m 11s\n",
      "Consistency Loss declined to 0.0564470248804851\n",
      "Early Stopping Counter = 0\n",
      "Epoch 252/300\n"
     ]
    },
    {
     "name": "stderr",
     "output_type": "stream",
     "text": [
      "100%|██████████| 178/178 [00:53<00:00,  3.31it/s]\n",
      "100%|██████████| 33/33 [00:10<00:00,  3.06it/s]\n",
      "100%|██████████| 19/19 [00:06<00:00,  3.12it/s]\n"
     ]
    },
    {
     "name": "stdout",
     "output_type": "stream",
     "text": [
      "1m 11s\n",
      "Consistency Loss declined to 0.05562782321463932\n",
      "Early Stopping Counter = 0\n",
      "Epoch 253/300\n"
     ]
    },
    {
     "name": "stderr",
     "output_type": "stream",
     "text": [
      "100%|██████████| 178/178 [00:53<00:00,  3.31it/s]\n",
      "100%|██████████| 33/33 [00:10<00:00,  3.06it/s]\n",
      "100%|██████████| 19/19 [00:05<00:00,  3.20it/s]\n"
     ]
    },
    {
     "name": "stdout",
     "output_type": "stream",
     "text": [
      "1m 11s\n",
      "Early Stopping Counter = 1\n",
      "Epoch 254/300\n"
     ]
    },
    {
     "name": "stderr",
     "output_type": "stream",
     "text": [
      "100%|██████████| 178/178 [00:53<00:00,  3.31it/s]\n",
      "100%|██████████| 33/33 [00:11<00:00,  2.99it/s]\n",
      "100%|██████████| 19/19 [00:05<00:00,  3.25it/s]\n"
     ]
    },
    {
     "name": "stdout",
     "output_type": "stream",
     "text": [
      "1m 11s\n",
      "Early Stopping Counter = 2\n",
      "Epoch 255/300\n"
     ]
    },
    {
     "name": "stderr",
     "output_type": "stream",
     "text": [
      "100%|██████████| 178/178 [00:53<00:00,  3.31it/s]\n",
      "100%|██████████| 33/33 [00:10<00:00,  3.05it/s]\n",
      "100%|██████████| 19/19 [00:05<00:00,  3.22it/s]\n"
     ]
    },
    {
     "name": "stdout",
     "output_type": "stream",
     "text": [
      "1m 11s\n",
      "Early Stopping Counter = 3\n",
      "Epoch 256/300\n"
     ]
    },
    {
     "name": "stderr",
     "output_type": "stream",
     "text": [
      "100%|██████████| 178/178 [00:53<00:00,  3.33it/s]\n",
      "100%|██████████| 33/33 [00:11<00:00,  3.00it/s]\n",
      "100%|██████████| 19/19 [00:05<00:00,  3.25it/s]\n"
     ]
    },
    {
     "name": "stdout",
     "output_type": "stream",
     "text": [
      "1m 10s\n",
      "Early Stopping Counter = 4\n",
      "Epoch 257/300\n"
     ]
    },
    {
     "name": "stderr",
     "output_type": "stream",
     "text": [
      "100%|██████████| 178/178 [00:54<00:00,  3.29it/s]\n",
      "100%|██████████| 33/33 [00:10<00:00,  3.06it/s]\n",
      "100%|██████████| 19/19 [00:05<00:00,  3.25it/s]\n"
     ]
    },
    {
     "name": "stdout",
     "output_type": "stream",
     "text": [
      "1m 11s\n",
      "Early Stopping Counter = 5\n",
      "Epoch 258/300\n"
     ]
    },
    {
     "name": "stderr",
     "output_type": "stream",
     "text": [
      "100%|██████████| 178/178 [00:53<00:00,  3.32it/s]\n",
      "100%|██████████| 33/33 [00:10<00:00,  3.04it/s]\n",
      "100%|██████████| 19/19 [00:05<00:00,  3.29it/s]\n"
     ]
    },
    {
     "name": "stdout",
     "output_type": "stream",
     "text": [
      "1m 10s\n",
      "Early Stopping Counter = 6\n",
      "Epoch 259/300\n"
     ]
    },
    {
     "name": "stderr",
     "output_type": "stream",
     "text": [
      "100%|██████████| 178/178 [00:54<00:00,  3.28it/s]\n",
      "100%|██████████| 33/33 [00:10<00:00,  3.00it/s]\n",
      "100%|██████████| 19/19 [00:05<00:00,  3.31it/s]\n"
     ]
    },
    {
     "name": "stdout",
     "output_type": "stream",
     "text": [
      "1m 11s\n",
      "Early Stopping Counter = 7\n",
      "Epoch 260/300\n"
     ]
    },
    {
     "name": "stderr",
     "output_type": "stream",
     "text": [
      "100%|██████████| 178/178 [00:53<00:00,  3.33it/s]\n",
      "100%|██████████| 33/33 [00:10<00:00,  3.05it/s]\n",
      "100%|██████████| 19/19 [00:05<00:00,  3.26it/s]\n"
     ]
    },
    {
     "name": "stdout",
     "output_type": "stream",
     "text": [
      "1m 10s\n",
      "Consistency Loss declined to 0.0534590022130446\n",
      "Early Stopping Counter = 0\n",
      "Epoch 261/300\n"
     ]
    },
    {
     "name": "stderr",
     "output_type": "stream",
     "text": [
      "100%|██████████| 178/178 [00:53<00:00,  3.32it/s]\n",
      "100%|██████████| 33/33 [00:10<00:00,  3.07it/s]\n",
      "100%|██████████| 19/19 [00:05<00:00,  3.25it/s]\n"
     ]
    },
    {
     "name": "stdout",
     "output_type": "stream",
     "text": [
      "1m 10s\n",
      "Early Stopping Counter = 1\n",
      "Epoch 262/300\n"
     ]
    },
    {
     "name": "stderr",
     "output_type": "stream",
     "text": [
      "100%|██████████| 178/178 [00:53<00:00,  3.35it/s]\n",
      "100%|██████████| 33/33 [00:10<00:00,  3.08it/s]\n",
      "100%|██████████| 19/19 [00:05<00:00,  3.19it/s]\n"
     ]
    },
    {
     "name": "stdout",
     "output_type": "stream",
     "text": [
      "1m 10s\n",
      "Early Stopping Counter = 2\n",
      "Epoch 263/300\n"
     ]
    },
    {
     "name": "stderr",
     "output_type": "stream",
     "text": [
      "100%|██████████| 178/178 [00:53<00:00,  3.33it/s]\n",
      "100%|██████████| 33/33 [00:10<00:00,  3.08it/s]\n",
      "100%|██████████| 19/19 [00:05<00:00,  3.23it/s]\n"
     ]
    },
    {
     "name": "stdout",
     "output_type": "stream",
     "text": [
      "1m 10s\n",
      "Early Stopping Counter = 3\n",
      "Epoch 264/300\n"
     ]
    },
    {
     "name": "stderr",
     "output_type": "stream",
     "text": [
      "100%|██████████| 178/178 [00:53<00:00,  3.33it/s]\n",
      "100%|██████████| 33/33 [00:10<00:00,  3.01it/s]\n",
      "100%|██████████| 19/19 [00:05<00:00,  3.26it/s]\n"
     ]
    },
    {
     "name": "stdout",
     "output_type": "stream",
     "text": [
      "1m 10s\n",
      "Early Stopping Counter = 4\n",
      "Epoch 265/300\n"
     ]
    },
    {
     "name": "stderr",
     "output_type": "stream",
     "text": [
      "100%|██████████| 178/178 [00:53<00:00,  3.31it/s]\n",
      "100%|██████████| 33/33 [00:10<00:00,  3.06it/s]\n",
      "100%|██████████| 19/19 [00:06<00:00,  3.13it/s]\n"
     ]
    },
    {
     "name": "stdout",
     "output_type": "stream",
     "text": [
      "1m 11s\n",
      "Early Stopping Counter = 5\n",
      "Epoch 266/300\n"
     ]
    },
    {
     "name": "stderr",
     "output_type": "stream",
     "text": [
      "100%|██████████| 178/178 [00:53<00:00,  3.35it/s]\n",
      "100%|██████████| 33/33 [00:10<00:00,  3.07it/s]\n",
      "100%|██████████| 19/19 [00:05<00:00,  3.22it/s]\n"
     ]
    },
    {
     "name": "stdout",
     "output_type": "stream",
     "text": [
      "1m 10s\n",
      "Early Stopping Counter = 6\n",
      "Epoch 267/300\n"
     ]
    },
    {
     "name": "stderr",
     "output_type": "stream",
     "text": [
      "100%|██████████| 178/178 [00:53<00:00,  3.32it/s]\n",
      "100%|██████████| 33/33 [00:10<00:00,  3.07it/s]\n",
      "100%|██████████| 19/19 [00:06<00:00,  3.10it/s]\n"
     ]
    },
    {
     "name": "stdout",
     "output_type": "stream",
     "text": [
      "1m 11s\n",
      "Early Stopping Counter = 7\n",
      "Epoch 268/300\n"
     ]
    },
    {
     "name": "stderr",
     "output_type": "stream",
     "text": [
      "100%|██████████| 178/178 [00:53<00:00,  3.32it/s]\n",
      "100%|██████████| 33/33 [00:10<00:00,  3.06it/s]\n",
      "100%|██████████| 19/19 [00:05<00:00,  3.23it/s]\n"
     ]
    },
    {
     "name": "stdout",
     "output_type": "stream",
     "text": [
      "1m 10s\n",
      "Early Stopping Counter = 8\n",
      "Epoch 269/300\n"
     ]
    },
    {
     "name": "stderr",
     "output_type": "stream",
     "text": [
      "100%|██████████| 178/178 [00:53<00:00,  3.33it/s]\n",
      "100%|██████████| 33/33 [00:10<00:00,  3.07it/s]\n",
      "100%|██████████| 19/19 [00:05<00:00,  3.24it/s]\n"
     ]
    },
    {
     "name": "stdout",
     "output_type": "stream",
     "text": [
      "1m 10s\n",
      "Early Stopping Counter = 9\n",
      "Epoch 270/300\n"
     ]
    },
    {
     "name": "stderr",
     "output_type": "stream",
     "text": [
      "100%|██████████| 178/178 [00:53<00:00,  3.31it/s]\n",
      "100%|██████████| 33/33 [00:10<00:00,  3.00it/s]\n",
      "100%|██████████| 19/19 [00:05<00:00,  3.21it/s]\n"
     ]
    },
    {
     "name": "stdout",
     "output_type": "stream",
     "text": [
      "1m 11s\n",
      "Consistency Loss declined to 0.0528776157986034\n",
      "Early Stopping Counter = 0\n",
      "Epoch 271/300\n"
     ]
    },
    {
     "name": "stderr",
     "output_type": "stream",
     "text": [
      "100%|██████████| 178/178 [00:53<00:00,  3.32it/s]\n",
      "100%|██████████| 33/33 [00:10<00:00,  3.06it/s]\n",
      "100%|██████████| 19/19 [00:06<00:00,  3.13it/s]\n"
     ]
    },
    {
     "name": "stdout",
     "output_type": "stream",
     "text": [
      "1m 11s\n",
      "Consistency Loss declined to 0.05221870360952435\n",
      "Early Stopping Counter = 0\n",
      "Epoch 272/300\n"
     ]
    },
    {
     "name": "stderr",
     "output_type": "stream",
     "text": [
      "100%|██████████| 178/178 [00:53<00:00,  3.32it/s]\n",
      "100%|██████████| 33/33 [00:10<00:00,  3.07it/s]\n",
      "100%|██████████| 19/19 [00:05<00:00,  3.23it/s]\n"
     ]
    },
    {
     "name": "stdout",
     "output_type": "stream",
     "text": [
      "1m 10s\n",
      "Early Stopping Counter = 1\n",
      "Epoch 273/300\n"
     ]
    },
    {
     "name": "stderr",
     "output_type": "stream",
     "text": [
      "100%|██████████| 178/178 [00:53<00:00,  3.32it/s]\n",
      "100%|██████████| 33/33 [00:11<00:00,  3.00it/s]\n",
      "100%|██████████| 19/19 [00:05<00:00,  3.26it/s]\n"
     ]
    },
    {
     "name": "stdout",
     "output_type": "stream",
     "text": [
      "1m 10s\n",
      "Early Stopping Counter = 2\n",
      "Epoch 274/300\n"
     ]
    },
    {
     "name": "stderr",
     "output_type": "stream",
     "text": [
      "100%|██████████| 178/178 [00:53<00:00,  3.31it/s]\n",
      "100%|██████████| 33/33 [00:10<00:00,  3.07it/s]\n",
      "100%|██████████| 19/19 [00:05<00:00,  3.20it/s]\n"
     ]
    },
    {
     "name": "stdout",
     "output_type": "stream",
     "text": [
      "1m 10s\n",
      "Early Stopping Counter = 3\n",
      "Epoch 275/300\n"
     ]
    },
    {
     "name": "stderr",
     "output_type": "stream",
     "text": [
      "100%|██████████| 178/178 [00:53<00:00,  3.33it/s]\n",
      "100%|██████████| 33/33 [00:11<00:00,  3.00it/s]\n",
      "100%|██████████| 19/19 [00:05<00:00,  3.22it/s]\n"
     ]
    },
    {
     "name": "stdout",
     "output_type": "stream",
     "text": [
      "1m 10s\n",
      "Early Stopping Counter = 4\n",
      "Epoch 276/300\n"
     ]
    },
    {
     "name": "stderr",
     "output_type": "stream",
     "text": [
      "100%|██████████| 178/178 [00:53<00:00,  3.32it/s]\n",
      "100%|██████████| 33/33 [00:10<00:00,  3.00it/s]\n",
      "100%|██████████| 19/19 [00:05<00:00,  3.23it/s]\n"
     ]
    },
    {
     "name": "stdout",
     "output_type": "stream",
     "text": [
      "1m 11s\n",
      "Consistency Loss declined to 0.05204620675155611\n",
      "Early Stopping Counter = 0\n",
      "Epoch 277/300\n"
     ]
    },
    {
     "name": "stderr",
     "output_type": "stream",
     "text": [
      "100%|██████████| 178/178 [00:53<00:00,  3.33it/s]\n",
      "100%|██████████| 33/33 [00:10<00:00,  3.07it/s]\n",
      "100%|██████████| 19/19 [00:05<00:00,  3.23it/s]\n"
     ]
    },
    {
     "name": "stdout",
     "output_type": "stream",
     "text": [
      "1m 10s\n",
      "Early Stopping Counter = 1\n",
      "Epoch 278/300\n"
     ]
    },
    {
     "name": "stderr",
     "output_type": "stream",
     "text": [
      "100%|██████████| 178/178 [00:53<00:00,  3.32it/s]\n",
      "100%|██████████| 33/33 [00:10<00:00,  3.07it/s]\n",
      "100%|██████████| 19/19 [00:06<00:00,  3.13it/s]\n"
     ]
    },
    {
     "name": "stdout",
     "output_type": "stream",
     "text": [
      "1m 10s\n",
      "Early Stopping Counter = 2\n",
      "Epoch 279/300\n"
     ]
    },
    {
     "name": "stderr",
     "output_type": "stream",
     "text": [
      "100%|██████████| 178/178 [00:53<00:00,  3.31it/s]\n",
      "100%|██████████| 33/33 [00:10<00:00,  3.06it/s]\n",
      "100%|██████████| 19/19 [00:06<00:00,  3.16it/s]\n"
     ]
    },
    {
     "name": "stdout",
     "output_type": "stream",
     "text": [
      "1m 11s\n",
      "Early Stopping Counter = 3\n",
      "Epoch 280/300\n"
     ]
    },
    {
     "name": "stderr",
     "output_type": "stream",
     "text": [
      "100%|██████████| 178/178 [00:53<00:00,  3.31it/s]\n",
      "100%|██████████| 33/33 [00:10<00:00,  3.07it/s]\n",
      "100%|██████████| 19/19 [00:05<00:00,  3.23it/s]\n"
     ]
    },
    {
     "name": "stdout",
     "output_type": "stream",
     "text": [
      "1m 10s\n",
      "Consistency Loss declined to 0.05121470874909199\n",
      "Early Stopping Counter = 0\n",
      "Epoch 281/300\n"
     ]
    },
    {
     "name": "stderr",
     "output_type": "stream",
     "text": [
      "100%|██████████| 178/178 [00:53<00:00,  3.33it/s]\n",
      "100%|██████████| 33/33 [00:10<00:00,  3.05it/s]\n",
      "100%|██████████| 19/19 [00:05<00:00,  3.22it/s]\n"
     ]
    },
    {
     "name": "stdout",
     "output_type": "stream",
     "text": [
      "1m 10s\n",
      "Early Stopping Counter = 1\n",
      "Epoch 282/300\n"
     ]
    },
    {
     "name": "stderr",
     "output_type": "stream",
     "text": [
      "100%|██████████| 178/178 [00:53<00:00,  3.34it/s]\n",
      "100%|██████████| 33/33 [00:11<00:00,  3.00it/s]\n",
      "100%|██████████| 19/19 [00:05<00:00,  3.19it/s]\n"
     ]
    },
    {
     "name": "stdout",
     "output_type": "stream",
     "text": [
      "1m 10s\n",
      "Early Stopping Counter = 2\n",
      "Epoch 283/300\n"
     ]
    },
    {
     "name": "stderr",
     "output_type": "stream",
     "text": [
      "100%|██████████| 178/178 [00:53<00:00,  3.31it/s]\n",
      "100%|██████████| 33/33 [00:11<00:00,  2.99it/s]\n",
      "100%|██████████| 19/19 [00:05<00:00,  3.21it/s]\n"
     ]
    },
    {
     "name": "stdout",
     "output_type": "stream",
     "text": [
      "1m 11s\n",
      "Consistency Loss declined to 0.051083899582877304\n",
      "Early Stopping Counter = 0\n",
      "Epoch 284/300\n"
     ]
    },
    {
     "name": "stderr",
     "output_type": "stream",
     "text": [
      "100%|██████████| 178/178 [00:54<00:00,  3.29it/s]\n",
      "100%|██████████| 33/33 [00:10<00:00,  3.00it/s]\n",
      "100%|██████████| 19/19 [00:06<00:00,  3.16it/s]\n"
     ]
    },
    {
     "name": "stdout",
     "output_type": "stream",
     "text": [
      "1m 11s\n",
      "Consistency Loss declined to 0.05034031188397697\n",
      "Early Stopping Counter = 0\n",
      "Epoch 285/300\n"
     ]
    },
    {
     "name": "stderr",
     "output_type": "stream",
     "text": [
      "100%|██████████| 178/178 [00:53<00:00,  3.31it/s]\n",
      "100%|██████████| 33/33 [00:10<00:00,  3.06it/s]\n",
      "100%|██████████| 19/19 [00:05<00:00,  3.26it/s]\n"
     ]
    },
    {
     "name": "stdout",
     "output_type": "stream",
     "text": [
      "1m 10s\n",
      "Early Stopping Counter = 1\n",
      "Epoch 286/300\n"
     ]
    },
    {
     "name": "stderr",
     "output_type": "stream",
     "text": [
      "100%|██████████| 178/178 [00:53<00:00,  3.30it/s]\n",
      "100%|██████████| 33/33 [00:10<00:00,  3.06it/s]\n",
      "100%|██████████| 19/19 [00:05<00:00,  3.25it/s]\n"
     ]
    },
    {
     "name": "stdout",
     "output_type": "stream",
     "text": [
      "1m 10s\n",
      "Consistency Loss declined to 0.0502000619854891\n",
      "Early Stopping Counter = 0\n",
      "Epoch 287/300\n"
     ]
    },
    {
     "name": "stderr",
     "output_type": "stream",
     "text": [
      "100%|██████████| 178/178 [00:53<00:00,  3.33it/s]\n",
      "100%|██████████| 33/33 [00:11<00:00,  2.98it/s]\n",
      "100%|██████████| 19/19 [00:05<00:00,  3.21it/s]\n"
     ]
    },
    {
     "name": "stdout",
     "output_type": "stream",
     "text": [
      "1m 11s\n",
      "Early Stopping Counter = 1\n",
      "Epoch 288/300\n"
     ]
    },
    {
     "name": "stderr",
     "output_type": "stream",
     "text": [
      "100%|██████████| 178/178 [00:54<00:00,  3.28it/s]\n",
      "100%|██████████| 33/33 [00:11<00:00,  2.99it/s]\n",
      "100%|██████████| 19/19 [00:05<00:00,  3.18it/s]\n"
     ]
    },
    {
     "name": "stdout",
     "output_type": "stream",
     "text": [
      "1m 11s\n",
      "Early Stopping Counter = 2\n",
      "Epoch 289/300\n"
     ]
    },
    {
     "name": "stderr",
     "output_type": "stream",
     "text": [
      "100%|██████████| 178/178 [00:54<00:00,  3.27it/s]\n",
      "100%|██████████| 33/33 [00:10<00:00,  3.05it/s]\n",
      "100%|██████████| 19/19 [00:05<00:00,  3.20it/s]\n"
     ]
    },
    {
     "name": "stdout",
     "output_type": "stream",
     "text": [
      "1m 11s\n",
      "Early Stopping Counter = 3\n",
      "Epoch 290/300\n"
     ]
    },
    {
     "name": "stderr",
     "output_type": "stream",
     "text": [
      "100%|██████████| 178/178 [00:53<00:00,  3.30it/s]\n",
      "100%|██████████| 33/33 [00:10<00:00,  3.05it/s]\n",
      "100%|██████████| 19/19 [00:05<00:00,  3.20it/s]\n"
     ]
    },
    {
     "name": "stdout",
     "output_type": "stream",
     "text": [
      "1m 11s\n",
      "Early Stopping Counter = 4\n",
      "Epoch 291/300\n"
     ]
    },
    {
     "name": "stderr",
     "output_type": "stream",
     "text": [
      "100%|██████████| 178/178 [00:54<00:00,  3.29it/s]\n",
      "100%|██████████| 33/33 [00:10<00:00,  3.02it/s]\n",
      "100%|██████████| 19/19 [00:05<00:00,  3.20it/s]\n"
     ]
    },
    {
     "name": "stdout",
     "output_type": "stream",
     "text": [
      "1m 11s\n",
      "Early Stopping Counter = 5\n",
      "Epoch 292/300\n"
     ]
    },
    {
     "name": "stderr",
     "output_type": "stream",
     "text": [
      "100%|██████████| 178/178 [00:53<00:00,  3.31it/s]\n",
      "100%|██████████| 33/33 [00:10<00:00,  3.06it/s]\n",
      "100%|██████████| 19/19 [00:05<00:00,  3.21it/s]\n"
     ]
    },
    {
     "name": "stdout",
     "output_type": "stream",
     "text": [
      "1m 11s\n",
      "Consistency Loss declined to 0.04982677344797236\n",
      "Early Stopping Counter = 0\n",
      "Epoch 293/300\n"
     ]
    },
    {
     "name": "stderr",
     "output_type": "stream",
     "text": [
      "100%|██████████| 178/178 [00:53<00:00,  3.31it/s]\n",
      "100%|██████████| 33/33 [00:10<00:00,  3.07it/s]\n",
      "100%|██████████| 19/19 [00:06<00:00,  3.16it/s]\n"
     ]
    },
    {
     "name": "stdout",
     "output_type": "stream",
     "text": [
      "1m 11s\n",
      "Consistency Loss declined to 0.04720343463122845\n",
      "Early Stopping Counter = 0\n",
      "Epoch 294/300\n"
     ]
    },
    {
     "name": "stderr",
     "output_type": "stream",
     "text": [
      "100%|██████████| 178/178 [00:53<00:00,  3.30it/s]\n",
      "100%|██████████| 33/33 [00:10<00:00,  3.07it/s]\n",
      "100%|██████████| 19/19 [00:05<00:00,  3.22it/s]\n"
     ]
    },
    {
     "name": "stdout",
     "output_type": "stream",
     "text": [
      "1m 11s\n",
      "Early Stopping Counter = 1\n",
      "Epoch 295/300\n"
     ]
    },
    {
     "name": "stderr",
     "output_type": "stream",
     "text": [
      "100%|██████████| 178/178 [00:54<00:00,  3.29it/s]\n",
      "100%|██████████| 33/33 [00:10<00:00,  3.06it/s]\n",
      "100%|██████████| 19/19 [00:05<00:00,  3.24it/s]\n"
     ]
    },
    {
     "name": "stdout",
     "output_type": "stream",
     "text": [
      "1m 11s\n",
      "Early Stopping Counter = 2\n",
      "Epoch 296/300\n"
     ]
    },
    {
     "name": "stderr",
     "output_type": "stream",
     "text": [
      "100%|██████████| 178/178 [00:53<00:00,  3.30it/s]\n",
      "100%|██████████| 33/33 [00:11<00:00,  2.99it/s]\n",
      "100%|██████████| 19/19 [00:05<00:00,  3.26it/s]\n"
     ]
    },
    {
     "name": "stdout",
     "output_type": "stream",
     "text": [
      "1m 11s\n",
      "Early Stopping Counter = 3\n",
      "Epoch 297/300\n"
     ]
    },
    {
     "name": "stderr",
     "output_type": "stream",
     "text": [
      " 76%|███████▌  | 135/178 [00:41<00:12,  3.35it/s]"
     ]
    }
   ],
   "source": [
    "# Uncertainty-based Self-Training\n",
    "project = \"240129\"\n",
    "folnames = [project+\"_iter1\", project+\"_iter2\", project+\"_iter3\", project+\"_iter4\", project+\"_iter5\"]\n",
    "os.makedirs('results/'+ project +'_results', exist_ok=True)\n",
    "csv_filename = 'results/'+project+'_results/results.csv'\n",
    "with open(csv_filename, mode='w', newline='') as file:\n",
    "    writer = csv.writer(file)\n",
    "    writer.writerow(['Iteration', 'F1-Score', 'Accuracy', 'Specificity', 'Recall', 'Precision'])\n",
    "\n",
    "for i in range(len(folnames)):\n",
    "    if i==0:\n",
    "        train(former_folname=\"hoge\", folname=folnames[i], first=True, net=\"deeplab\", epochs=300, batch_size=64, cons_reg=False)\n",
    "        scores = inference(former_folname=\"hoge\", folname=folnames[i], net=\"deeplab\", batch_size=64)\n",
    "        write_to_csv(i+1, scores, csv_filename)\n",
    "        save_mask(former_folname=\"hoge\", folname=folnames[i], net=\"deeplab\", batch_size=64, save_num=None)\n",
    "    else:\n",
    "        train(former_folname=folnames[i-1], folname=folnames[i], first=False, net=\"deeplab\", epochs=300, batch_size=64, alpha=100, cons_reg=False)\n",
    "        scores = inference(former_folname=folnames[i-1], folname=folnames[i], net=\"deeplab\", batch_size=64)\n",
    "        write_to_csv(i+1, scores, csv_filename)\n",
    "        save_mask(former_folname=folnames[i-1], folname=folnames[i], net=\"deeplab\", batch_size=64, save_num=None)"
   ]
  },
  {
   "cell_type": "code",
   "execution_count": null,
   "metadata": {},
   "outputs": [],
   "source": [
    "# Supervised Learning\n",
    "project = \"240117sup2\"\n",
    "folname = project + '_iter1'\n",
    "os.makedirs('results/'+ project +'_results', exist_ok=True)\n",
    "csv_filename = 'results/'+project+'_results/results.csv'\n",
    "with open(csv_filename, mode='w', newline='') as file:\n",
    "    writer = csv.writer(file)\n",
    "    writer.writerow(['Iteration', 'F1-Score', 'Accuracy', 'Specificity', 'Recall', 'Precision'])\n",
    "\n",
    "train(former_folname=\"hoge\", folname=folname, first=True, net=\"deeplab\", epochs=1000, batch_size=64, supervised=True)\n",
    "scores = inference(former_folname=\"hoge\", folname=folname, net=\"deeplab\", batch_size=64, supervised=True)\n",
    "write_to_csv(1, scores, csv_filename)"
   ]
  },
  {
   "cell_type": "code",
   "execution_count": null,
   "metadata": {},
   "outputs": [],
   "source": []
  },
  {
   "cell_type": "code",
   "execution_count": null,
   "metadata": {},
   "outputs": [],
   "source": [
    "import random\n",
    "\n",
    "# ランダムな並びの情報を保存\n",
    "shuffle_indices = list(range(5292))\n",
    "random.shuffle(shuffle_indices)\n",
    "\n",
    "# shuffle_indicesをファイルに保存するなど、情報を保存する方法を選びます\n",
    "with open(\"shuffle_indices.txt\", \"w\") as file:\n",
    "    file.write(\" \".join(map(str, shuffle_indices)))"
   ]
  },
  {
   "cell_type": "code",
   "execution_count": null,
   "metadata": {},
   "outputs": [],
   "source": [
    "meanlst = os.listdir(\"data/unlabeled_mask/231021_iter1/pred_mean_corrected/\")\n",
    "varlst = os.listdir(\"data/unlabeled_mask/231021_iter1/pred_var/\")\n",
    "print(len(meanlst))\n",
    "print(len(varlst))"
   ]
  },
  {
   "cell_type": "code",
   "execution_count": null,
   "metadata": {},
   "outputs": [],
   "source": [
    "import numpy as np\n",
    "from PIL import Image\n",
    "meanlst = os.listdir(\"data/unlabeled_mask/231021_iter1/pred_mean_corrected/\")\n",
    "varlst = os.listdir(\"data/unlabeled_mask/231021_iter1/pred_var/\")\n",
    "\n",
    "# # 各画像を処理\n",
    "for file_name in meanlst:\n",
    "    file_path = os.path.join(\"data/unlabeled_mask/231021_iter1/pred_mean_corrected\", file_name)\n",
    "    \n",
    "    # 画像をnumpy配列に読み込む\n",
    "    img = np.array(Image.open(file_path))\n",
    "    \n",
    "    # 画像サイズが256x256でない場合、警告を表示\n",
    "    if img.shape != (256, 256):\n",
    "        print(f\"異なるサイズの画像: {file_name}, サイズ: {img.shape}\")"
   ]
  },
  {
   "cell_type": "code",
   "execution_count": null,
   "metadata": {},
   "outputs": [],
   "source": [
    "import os\n",
    "import torch\n",
    "\n",
    "# フォルダのパス\n",
    "folder_path = \"data/unlabeled_mask/231021_iter1/pred_var/\"\n",
    "\n",
    "# フォルダ内の全ての.ptファイルをリストアップ\n",
    "pt_files = [f for f in os.listdir(folder_path) if f.endswith(\".pt\")]\n",
    "\n",
    "# 各ファイルを処理\n",
    "for file_name in pt_files:\n",
    "    file_path = os.path.join(folder_path, file_name)\n",
    "    \n",
    "    # PyTorch tensorを読み込む\n",
    "    tensor = torch.load(file_path)\n",
    "    \n",
    "    # 配列サイズが(256, 256)でない場合、警告を表示\n",
    "    if tensor.size() != torch.Size([256, 256]):\n",
    "        print(f\"異なるサイズのPyTorch tensor: {file_name}, サイズ: {tensor.size()}\")\n"
   ]
  },
  {
   "cell_type": "code",
   "execution_count": null,
   "metadata": {},
   "outputs": [],
   "source": [
    "import torch\n",
    "import glob\n",
    "\n",
    "fol_name = \"231107_iter3\"\n",
    "\n",
    "# pred_varを全て読み込み、torch.meanとtorch.maxの平均を計算する\n",
    "pred_var_path = sorted(glob.glob(f'data/unlabeled_mask/{fol_name}/pred_var/*'))\n",
    "mean_box = []\n",
    "max_box = []\n",
    "\n",
    "for file in pred_var_path:\n",
    "    pred_var = torch.load(file)\n",
    "    mean_box.append(torch.mean(pred_var).item())\n",
    "    max_box.append(torch.max(pred_var).item())\n",
    "\n",
    "print(sum(mean_box)/len(mean_box))\n",
    "print(sum(max_box)/len(max_box))"
   ]
  },
  {
   "cell_type": "code",
   "execution_count": null,
   "metadata": {},
   "outputs": [],
   "source": [
    "import matplotlib.pyplot as plt\n",
    "import cv2\n",
    "from PIL import Image\n",
    "# Targetデータでの出力を表示\n",
    "target_filepaths = glob.glob(\"data/Train/images/Rissbilder*\")\n",
    "target_filenames = [p.lstrip(\"data/Train/images/\") for p in target_filepaths]\n",
    "\n",
    "\n",
    "# 10行4列のサブプロットを作成\n",
    "fig, axes = plt.subplots(10, 4, figsize=(10, 20))\n",
    "\n",
    "# 画像をサブプロットに配置\n",
    "for i in range(10):\n",
    "    axes[i, 0].imshow(Image.open(\"data/Train/images/\"+target_filenames[i]))\n",
    "    axes[i, 0].axis('off')\n",
    "    axes[i, 1].imshow(Image.open(\"data/unlabeled_mask/231107_iter1/pred_mean_corrected/\"+target_filenames[i]), cmap='gray')\n",
    "    axes[i, 1].axis('off')\n",
    "    axes[i, 2].imshow(torch.load(\"data/unlabeled_mask/231107_iter1/pred_var/\"+target_filenames[i].rstrip('jpg')+\"pt\"), cmap='gray')\n",
    "    axes[i, 2].axis('off')\n",
    "    axes[i, 3].imshow(Image.open(\"data/Train/masks/\"+target_filenames[i]))\n",
    "    axes[i, 3].axis('off')\n",
    "\n",
    "# グリッドの余白を調整\n",
    "plt.subplots_adjust(wspace=0, hspace=0)\n",
    "\n",
    "# グリッドを表示\n",
    "plt.show()\n",
    "\n",
    "# Train/images/Rissbilder/ pred_mean_corrected, pred_var, Train/masks/Rissbilder"
   ]
  },
  {
   "cell_type": "code",
   "execution_count": null,
   "metadata": {},
   "outputs": [],
   "source": []
  }
 ],
 "metadata": {
  "kernelspec": {
   "display_name": "env",
   "language": "python",
   "name": "python3"
  },
  "language_info": {
   "codemirror_mode": {
    "name": "ipython",
    "version": 3
   },
   "file_extension": ".py",
   "mimetype": "text/x-python",
   "name": "python",
   "nbconvert_exporter": "python",
   "pygments_lexer": "ipython3",
   "version": "3.10.9"
  }
 },
 "nbformat": 4,
 "nbformat_minor": 2
}
