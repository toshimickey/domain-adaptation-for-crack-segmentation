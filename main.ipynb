{
 "cells": [
  {
   "cell_type": "code",
   "execution_count": null,
   "metadata": {},
   "outputs": [],
   "source": [
    "from train import train\n",
    "from inference import inference\n",
    "from save_mask import save_mask\n",
    "import csv, os\n",
    "from utils.module import write_to_csv"
   ]
  },
  {
   "cell_type": "code",
   "execution_count": null,
   "metadata": {},
   "outputs": [],
   "source": [
    "!nvidia-smi"
   ]
  },
  {
   "cell_type": "code",
   "execution_count": 5,
   "metadata": {},
   "outputs": [
    {
     "name": "stderr",
     "output_type": "stream",
     "text": [
      "100%|██████████| 207/207 [01:01<00:00,  3.34it/s]\n",
      "100%|██████████| 25/25 [00:14<00:00,  1.67it/s]\n",
      "100%|██████████| 33/33 [00:09<00:00,  3.39it/s]\n"
     ]
    },
    {
     "name": "stdout",
     "output_type": "stream",
     "text": [
      "1m 27s\n",
      "Consistency Loss declined to 0.022506623044610024\n",
      "Early Stopping Counter = 0\n",
      "Epoch 288/300\n"
     ]
    },
    {
     "name": "stderr",
     "output_type": "stream",
     "text": [
      "100%|██████████| 207/207 [01:01<00:00,  3.37it/s]\n",
      "100%|██████████| 25/25 [00:15<00:00,  1.66it/s]\n",
      "100%|██████████| 33/33 [00:09<00:00,  3.36it/s]\n"
     ]
    },
    {
     "name": "stdout",
     "output_type": "stream",
     "text": [
      "1m 26s\n",
      "Consistency Loss declined to 0.022371326610445975\n",
      "Early Stopping Counter = 0\n",
      "Epoch 289/300\n"
     ]
    },
    {
     "name": "stderr",
     "output_type": "stream",
     "text": [
      "100%|██████████| 207/207 [01:01<00:00,  3.35it/s]\n",
      "100%|██████████| 25/25 [00:14<00:00,  1.68it/s]\n",
      "100%|██████████| 33/33 [00:09<00:00,  3.44it/s]\n"
     ]
    },
    {
     "name": "stdout",
     "output_type": "stream",
     "text": [
      "1m 26s\n",
      "Consistency Loss declined to 0.022240700647234917\n",
      "Early Stopping Counter = 0\n",
      "Epoch 290/300\n"
     ]
    },
    {
     "name": "stderr",
     "output_type": "stream",
     "text": [
      "100%|██████████| 207/207 [01:01<00:00,  3.37it/s]\n",
      "100%|██████████| 25/25 [00:15<00:00,  1.66it/s]\n",
      "100%|██████████| 33/33 [00:09<00:00,  3.43it/s]\n"
     ]
    },
    {
     "name": "stdout",
     "output_type": "stream",
     "text": [
      "1m 26s\n",
      "Early Stopping Counter = 1\n",
      "Epoch 291/300\n"
     ]
    },
    {
     "name": "stderr",
     "output_type": "stream",
     "text": [
      "100%|██████████| 207/207 [01:02<00:00,  3.33it/s]\n",
      "100%|██████████| 25/25 [00:14<00:00,  1.69it/s]\n",
      "100%|██████████| 33/33 [00:09<00:00,  3.42it/s]\n"
     ]
    },
    {
     "name": "stdout",
     "output_type": "stream",
     "text": [
      "1m 27s\n",
      "Early Stopping Counter = 2\n",
      "Epoch 292/300\n"
     ]
    },
    {
     "name": "stderr",
     "output_type": "stream",
     "text": [
      "100%|██████████| 207/207 [01:01<00:00,  3.35it/s]\n",
      "100%|██████████| 25/25 [00:14<00:00,  1.67it/s]\n",
      "100%|██████████| 33/33 [00:09<00:00,  3.46it/s]\n"
     ]
    },
    {
     "name": "stdout",
     "output_type": "stream",
     "text": [
      "1m 26s\n",
      "Early Stopping Counter = 3\n",
      "Epoch 293/300\n"
     ]
    },
    {
     "name": "stderr",
     "output_type": "stream",
     "text": [
      "100%|██████████| 207/207 [01:01<00:00,  3.35it/s]\n",
      "100%|██████████| 25/25 [00:14<00:00,  1.68it/s]\n",
      "100%|██████████| 33/33 [00:09<00:00,  3.45it/s]\n"
     ]
    },
    {
     "name": "stdout",
     "output_type": "stream",
     "text": [
      "1m 26s\n",
      "Early Stopping Counter = 4\n",
      "Epoch 294/300\n"
     ]
    },
    {
     "name": "stderr",
     "output_type": "stream",
     "text": [
      "100%|██████████| 207/207 [01:01<00:00,  3.35it/s]\n",
      "100%|██████████| 25/25 [00:14<00:00,  1.68it/s]\n",
      "100%|██████████| 33/33 [00:09<00:00,  3.36it/s]\n"
     ]
    },
    {
     "name": "stdout",
     "output_type": "stream",
     "text": [
      "1m 27s\n",
      "Consistency Loss declined to 0.021183016076684\n",
      "Early Stopping Counter = 0\n",
      "Epoch 295/300\n"
     ]
    },
    {
     "name": "stderr",
     "output_type": "stream",
     "text": [
      "100%|██████████| 207/207 [01:01<00:00,  3.36it/s]\n",
      "100%|██████████| 25/25 [00:15<00:00,  1.65it/s]\n",
      "100%|██████████| 33/33 [00:09<00:00,  3.37it/s]\n"
     ]
    },
    {
     "name": "stdout",
     "output_type": "stream",
     "text": [
      "1m 27s\n",
      "Early Stopping Counter = 1\n",
      "Epoch 296/300\n"
     ]
    },
    {
     "name": "stderr",
     "output_type": "stream",
     "text": [
      "100%|██████████| 207/207 [01:01<00:00,  3.37it/s]\n",
      "100%|██████████| 25/25 [00:15<00:00,  1.65it/s]\n",
      "100%|██████████| 33/33 [00:09<00:00,  3.50it/s]\n"
     ]
    },
    {
     "name": "stdout",
     "output_type": "stream",
     "text": [
      "1m 26s\n",
      "Early Stopping Counter = 2\n",
      "Epoch 297/300\n"
     ]
    },
    {
     "name": "stderr",
     "output_type": "stream",
     "text": [
      "100%|██████████| 207/207 [01:01<00:00,  3.35it/s]\n",
      "100%|██████████| 25/25 [00:15<00:00,  1.64it/s]\n",
      "100%|██████████| 33/33 [00:09<00:00,  3.46it/s]\n"
     ]
    },
    {
     "name": "stdout",
     "output_type": "stream",
     "text": [
      "1m 27s\n",
      "Early Stopping Counter = 3\n",
      "Epoch 298/300\n"
     ]
    },
    {
     "name": "stderr",
     "output_type": "stream",
     "text": [
      "100%|██████████| 207/207 [01:01<00:00,  3.34it/s]\n",
      "100%|██████████| 25/25 [00:14<00:00,  1.68it/s]\n",
      "100%|██████████| 33/33 [00:09<00:00,  3.44it/s]\n"
     ]
    },
    {
     "name": "stdout",
     "output_type": "stream",
     "text": [
      "1m 26s\n",
      "Early Stopping Counter = 4\n",
      "Epoch 299/300\n"
     ]
    },
    {
     "name": "stderr",
     "output_type": "stream",
     "text": [
      "100%|██████████| 207/207 [01:01<00:00,  3.34it/s]\n",
      "100%|██████████| 25/25 [00:15<00:00,  1.67it/s]\n",
      "100%|██████████| 33/33 [00:09<00:00,  3.34it/s]\n"
     ]
    },
    {
     "name": "stdout",
     "output_type": "stream",
     "text": [
      "1m 27s\n",
      "Early Stopping Counter = 5\n",
      "Epoch 300/300\n"
     ]
    },
    {
     "name": "stderr",
     "output_type": "stream",
     "text": [
      "100%|██████████| 207/207 [01:01<00:00,  3.34it/s]\n",
      "100%|██████████| 25/25 [00:15<00:00,  1.65it/s]\n",
      "100%|██████████| 33/33 [00:09<00:00,  3.47it/s]\n"
     ]
    },
    {
     "name": "stdout",
     "output_type": "stream",
     "text": [
      "1m 27s\n",
      "Early Stopping Counter = 6\n"
     ]
    },
    {
     "name": "stderr",
     "output_type": "stream",
     "text": [
      "100%|██████████| 2/2 [00:13<00:00,  6.95s/it]\n",
      " 96%|█████████▌| 24/25 [03:23<00:08,  8.48s/it]\n",
      "100%|██████████| 1600/1600 [00:06<00:00, 231.88it/s]\n"
     ]
    },
    {
     "name": "stdout",
     "output_type": "stream",
     "text": [
      "Epoch 1/300\n"
     ]
    },
    {
     "name": "stderr",
     "output_type": "stream",
     "text": [
      "100%|██████████| 207/207 [01:01<00:00,  3.38it/s]\n",
      "100%|██████████| 25/25 [00:14<00:00,  1.68it/s]\n",
      "100%|██████████| 33/33 [00:09<00:00,  3.43it/s]\n"
     ]
    },
    {
     "name": "stdout",
     "output_type": "stream",
     "text": [
      "1m 26s\n",
      "Consistency Loss declined to 0.22045429348945617\n",
      "Early Stopping Counter = 0\n",
      "Epoch 2/300\n"
     ]
    },
    {
     "name": "stderr",
     "output_type": "stream",
     "text": [
      "100%|██████████| 207/207 [01:01<00:00,  3.37it/s]\n",
      "100%|██████████| 25/25 [00:15<00:00,  1.67it/s]\n",
      "100%|██████████| 33/33 [00:09<00:00,  3.45it/s]\n"
     ]
    },
    {
     "name": "stdout",
     "output_type": "stream",
     "text": [
      "1m 26s\n",
      "Consistency Loss declined to 0.20383246302604674\n",
      "Early Stopping Counter = 0\n",
      "Epoch 3/300\n"
     ]
    },
    {
     "name": "stderr",
     "output_type": "stream",
     "text": [
      "100%|██████████| 207/207 [01:01<00:00,  3.35it/s]\n",
      "100%|██████████| 25/25 [00:15<00:00,  1.66it/s]\n",
      "100%|██████████| 33/33 [00:09<00:00,  3.41it/s]\n"
     ]
    },
    {
     "name": "stdout",
     "output_type": "stream",
     "text": [
      "1m 27s\n",
      "Consistency Loss declined to 0.20048180282115935\n",
      "Early Stopping Counter = 0\n",
      "Epoch 4/300\n"
     ]
    },
    {
     "name": "stderr",
     "output_type": "stream",
     "text": [
      "100%|██████████| 207/207 [01:01<00:00,  3.37it/s]\n",
      "100%|██████████| 25/25 [00:15<00:00,  1.66it/s]\n",
      "100%|██████████| 33/33 [00:09<00:00,  3.41it/s]\n"
     ]
    },
    {
     "name": "stdout",
     "output_type": "stream",
     "text": [
      "1m 26s\n",
      "Consistency Loss declined to 0.18724431693553925\n",
      "Early Stopping Counter = 0\n",
      "Epoch 5/300\n"
     ]
    },
    {
     "name": "stderr",
     "output_type": "stream",
     "text": [
      "100%|██████████| 207/207 [01:01<00:00,  3.37it/s]\n",
      "100%|██████████| 25/25 [00:14<00:00,  1.68it/s]\n",
      "100%|██████████| 33/33 [00:09<00:00,  3.46it/s]\n"
     ]
    },
    {
     "name": "stdout",
     "output_type": "stream",
     "text": [
      "1m 26s\n",
      "Consistency Loss declined to 0.1730704802274704\n",
      "Early Stopping Counter = 0\n",
      "Epoch 6/300\n"
     ]
    },
    {
     "name": "stderr",
     "output_type": "stream",
     "text": [
      "100%|██████████| 207/207 [01:01<00:00,  3.37it/s]\n",
      "100%|██████████| 25/25 [00:14<00:00,  1.67it/s]\n",
      "100%|██████████| 33/33 [00:09<00:00,  3.43it/s]\n"
     ]
    },
    {
     "name": "stdout",
     "output_type": "stream",
     "text": [
      "1m 26s\n",
      "Consistency Loss declined to 0.17146475613117218\n",
      "Early Stopping Counter = 0\n",
      "Epoch 7/300\n"
     ]
    },
    {
     "name": "stderr",
     "output_type": "stream",
     "text": [
      "100%|██████████| 207/207 [01:01<00:00,  3.37it/s]\n",
      "100%|██████████| 25/25 [00:14<00:00,  1.67it/s]\n",
      "100%|██████████| 33/33 [00:09<00:00,  3.44it/s]\n"
     ]
    },
    {
     "name": "stdout",
     "output_type": "stream",
     "text": [
      "1m 26s\n",
      "Consistency Loss declined to 0.1667849004268646\n",
      "Early Stopping Counter = 0\n",
      "Epoch 8/300\n"
     ]
    },
    {
     "name": "stderr",
     "output_type": "stream",
     "text": [
      "100%|██████████| 207/207 [01:01<00:00,  3.37it/s]\n",
      "100%|██████████| 25/25 [00:15<00:00,  1.66it/s]\n",
      "100%|██████████| 33/33 [00:09<00:00,  3.44it/s]\n"
     ]
    },
    {
     "name": "stdout",
     "output_type": "stream",
     "text": [
      "1m 26s\n",
      "Consistency Loss declined to 0.16443239033222198\n",
      "Early Stopping Counter = 0\n",
      "Epoch 9/300\n"
     ]
    },
    {
     "name": "stderr",
     "output_type": "stream",
     "text": [
      "100%|██████████| 207/207 [01:01<00:00,  3.37it/s]\n",
      "100%|██████████| 25/25 [00:14<00:00,  1.69it/s]\n",
      "100%|██████████| 33/33 [00:09<00:00,  3.44it/s]\n"
     ]
    },
    {
     "name": "stdout",
     "output_type": "stream",
     "text": [
      "1m 26s\n",
      "Consistency Loss declined to 0.15816236436367034\n",
      "Early Stopping Counter = 0\n",
      "Epoch 10/300\n"
     ]
    },
    {
     "name": "stderr",
     "output_type": "stream",
     "text": [
      "100%|██████████| 207/207 [01:01<00:00,  3.35it/s]\n",
      "100%|██████████| 25/25 [00:14<00:00,  1.67it/s]\n",
      "100%|██████████| 33/33 [00:09<00:00,  3.41it/s]\n"
     ]
    },
    {
     "name": "stdout",
     "output_type": "stream",
     "text": [
      "1m 26s\n",
      "Consistency Loss declined to 0.15412387251853943\n",
      "Early Stopping Counter = 0\n",
      "Epoch 11/300\n"
     ]
    },
    {
     "name": "stderr",
     "output_type": "stream",
     "text": [
      "100%|██████████| 207/207 [01:01<00:00,  3.38it/s]\n",
      "100%|██████████| 25/25 [00:14<00:00,  1.67it/s]\n",
      "100%|██████████| 33/33 [00:09<00:00,  3.46it/s]\n"
     ]
    },
    {
     "name": "stdout",
     "output_type": "stream",
     "text": [
      "1m 26s\n",
      "Consistency Loss declined to 0.15243955075740814\n",
      "Early Stopping Counter = 0\n",
      "Epoch 12/300\n"
     ]
    },
    {
     "name": "stderr",
     "output_type": "stream",
     "text": [
      "100%|██████████| 207/207 [01:01<00:00,  3.35it/s]\n",
      "100%|██████████| 25/25 [00:14<00:00,  1.70it/s]\n",
      "100%|██████████| 33/33 [00:09<00:00,  3.44it/s]\n"
     ]
    },
    {
     "name": "stdout",
     "output_type": "stream",
     "text": [
      "1m 26s\n",
      "Consistency Loss declined to 0.14924996554851533\n",
      "Early Stopping Counter = 0\n",
      "Epoch 13/300\n"
     ]
    },
    {
     "name": "stderr",
     "output_type": "stream",
     "text": [
      "100%|██████████| 207/207 [01:01<00:00,  3.37it/s]\n",
      "100%|██████████| 25/25 [00:14<00:00,  1.68it/s]\n",
      "100%|██████████| 33/33 [00:09<00:00,  3.41it/s]\n"
     ]
    },
    {
     "name": "stdout",
     "output_type": "stream",
     "text": [
      "1m 26s\n",
      "Consistency Loss declined to 0.14357908815145493\n",
      "Early Stopping Counter = 0\n",
      "Epoch 14/300\n"
     ]
    },
    {
     "name": "stderr",
     "output_type": "stream",
     "text": [
      "100%|██████████| 207/207 [01:01<00:00,  3.37it/s]\n",
      "100%|██████████| 25/25 [00:14<00:00,  1.67it/s]\n",
      "100%|██████████| 33/33 [00:09<00:00,  3.47it/s]\n"
     ]
    },
    {
     "name": "stdout",
     "output_type": "stream",
     "text": [
      "1m 26s\n",
      "Consistency Loss declined to 0.13625921607017516\n",
      "Early Stopping Counter = 0\n",
      "Epoch 15/300\n"
     ]
    },
    {
     "name": "stderr",
     "output_type": "stream",
     "text": [
      "100%|██████████| 207/207 [01:01<00:00,  3.35it/s]\n",
      "100%|██████████| 25/25 [00:14<00:00,  1.70it/s]\n",
      "100%|██████████| 33/33 [00:09<00:00,  3.43it/s]\n"
     ]
    },
    {
     "name": "stdout",
     "output_type": "stream",
     "text": [
      "1m 26s\n",
      "Consistency Loss declined to 0.1310502079129219\n",
      "Early Stopping Counter = 0\n",
      "Epoch 16/300\n"
     ]
    },
    {
     "name": "stderr",
     "output_type": "stream",
     "text": [
      "100%|██████████| 207/207 [01:01<00:00,  3.38it/s]\n",
      "100%|██████████| 25/25 [00:14<00:00,  1.69it/s]\n",
      "100%|██████████| 33/33 [00:09<00:00,  3.46it/s]\n"
     ]
    },
    {
     "name": "stdout",
     "output_type": "stream",
     "text": [
      "1m 26s\n",
      "Consistency Loss declined to 0.1261466747522354\n",
      "Early Stopping Counter = 0\n",
      "Epoch 17/300\n"
     ]
    },
    {
     "name": "stderr",
     "output_type": "stream",
     "text": [
      "100%|██████████| 207/207 [01:01<00:00,  3.38it/s]\n",
      "100%|██████████| 25/25 [00:14<00:00,  1.67it/s]\n",
      "100%|██████████| 33/33 [00:09<00:00,  3.47it/s]\n"
     ]
    },
    {
     "name": "stdout",
     "output_type": "stream",
     "text": [
      "1m 26s\n",
      "Early Stopping Counter = 1\n",
      "Epoch 18/300\n"
     ]
    },
    {
     "name": "stderr",
     "output_type": "stream",
     "text": [
      "100%|██████████| 207/207 [01:01<00:00,  3.36it/s]\n",
      "100%|██████████| 25/25 [00:14<00:00,  1.67it/s]\n",
      "100%|██████████| 33/33 [00:09<00:00,  3.41it/s]\n"
     ]
    },
    {
     "name": "stdout",
     "output_type": "stream",
     "text": [
      "1m 26s\n",
      "Early Stopping Counter = 2\n",
      "Epoch 19/300\n"
     ]
    },
    {
     "name": "stderr",
     "output_type": "stream",
     "text": [
      "100%|██████████| 207/207 [01:01<00:00,  3.36it/s]\n",
      "100%|██████████| 25/25 [00:15<00:00,  1.66it/s]\n",
      "100%|██████████| 33/33 [00:09<00:00,  3.40it/s]\n"
     ]
    },
    {
     "name": "stdout",
     "output_type": "stream",
     "text": [
      "1m 26s\n",
      "Consistency Loss declined to 0.12053299933671952\n",
      "Early Stopping Counter = 0\n",
      "Epoch 20/300\n"
     ]
    },
    {
     "name": "stderr",
     "output_type": "stream",
     "text": [
      "100%|██████████| 207/207 [01:01<00:00,  3.37it/s]\n",
      "100%|██████████| 25/25 [00:14<00:00,  1.69it/s]\n",
      "100%|██████████| 33/33 [00:09<00:00,  3.43it/s]\n"
     ]
    },
    {
     "name": "stdout",
     "output_type": "stream",
     "text": [
      "1m 26s\n",
      "Consistency Loss declined to 0.11659049600362778\n",
      "Early Stopping Counter = 0\n",
      "Epoch 21/300\n"
     ]
    },
    {
     "name": "stderr",
     "output_type": "stream",
     "text": [
      "100%|██████████| 207/207 [01:01<00:00,  3.37it/s]\n",
      "100%|██████████| 25/25 [00:14<00:00,  1.70it/s]\n",
      "100%|██████████| 33/33 [00:09<00:00,  3.47it/s]\n"
     ]
    },
    {
     "name": "stdout",
     "output_type": "stream",
     "text": [
      "1m 26s\n",
      "Consistency Loss declined to 0.11249108016490936\n",
      "Early Stopping Counter = 0\n",
      "Epoch 22/300\n"
     ]
    },
    {
     "name": "stderr",
     "output_type": "stream",
     "text": [
      "100%|██████████| 207/207 [01:01<00:00,  3.34it/s]\n",
      "100%|██████████| 25/25 [00:14<00:00,  1.70it/s]\n",
      "100%|██████████| 33/33 [00:09<00:00,  3.41it/s]\n"
     ]
    },
    {
     "name": "stdout",
     "output_type": "stream",
     "text": [
      "1m 26s\n",
      "Consistency Loss declined to 0.11169277638196945\n",
      "Early Stopping Counter = 0\n",
      "Epoch 23/300\n"
     ]
    },
    {
     "name": "stderr",
     "output_type": "stream",
     "text": [
      "100%|██████████| 207/207 [01:01<00:00,  3.37it/s]\n",
      "100%|██████████| 25/25 [00:14<00:00,  1.68it/s]\n",
      "100%|██████████| 33/33 [00:09<00:00,  3.43it/s]\n"
     ]
    },
    {
     "name": "stdout",
     "output_type": "stream",
     "text": [
      "1m 26s\n",
      "Consistency Loss declined to 0.10747096598148347\n",
      "Early Stopping Counter = 0\n",
      "Epoch 24/300\n"
     ]
    },
    {
     "name": "stderr",
     "output_type": "stream",
     "text": [
      "100%|██████████| 207/207 [01:01<00:00,  3.35it/s]\n",
      "100%|██████████| 25/25 [00:14<00:00,  1.68it/s]\n",
      "100%|██████████| 33/33 [00:09<00:00,  3.38it/s]\n"
     ]
    },
    {
     "name": "stdout",
     "output_type": "stream",
     "text": [
      "1m 27s\n",
      "Consistency Loss declined to 0.10383287847042083\n",
      "Early Stopping Counter = 0\n",
      "Epoch 25/300\n"
     ]
    },
    {
     "name": "stderr",
     "output_type": "stream",
     "text": [
      "100%|██████████| 207/207 [01:01<00:00,  3.37it/s]\n",
      "100%|██████████| 25/25 [00:14<00:00,  1.67it/s]\n",
      "100%|██████████| 33/33 [00:09<00:00,  3.32it/s]\n"
     ]
    },
    {
     "name": "stdout",
     "output_type": "stream",
     "text": [
      "1m 26s\n",
      "Early Stopping Counter = 1\n",
      "Epoch 26/300\n"
     ]
    },
    {
     "name": "stderr",
     "output_type": "stream",
     "text": [
      "100%|██████████| 207/207 [01:01<00:00,  3.35it/s]\n",
      "100%|██████████| 25/25 [00:14<00:00,  1.68it/s]\n",
      "100%|██████████| 33/33 [00:09<00:00,  3.46it/s]\n"
     ]
    },
    {
     "name": "stdout",
     "output_type": "stream",
     "text": [
      "1m 26s\n",
      "Consistency Loss declined to 0.10373184353113174\n",
      "Early Stopping Counter = 0\n",
      "Epoch 27/300\n"
     ]
    },
    {
     "name": "stderr",
     "output_type": "stream",
     "text": [
      "100%|██████████| 207/207 [01:01<00:00,  3.38it/s]\n",
      "100%|██████████| 25/25 [00:14<00:00,  1.69it/s]\n",
      "100%|██████████| 33/33 [00:09<00:00,  3.43it/s]\n"
     ]
    },
    {
     "name": "stdout",
     "output_type": "stream",
     "text": [
      "1m 26s\n",
      "Consistency Loss declined to 0.10100358784198761\n",
      "Early Stopping Counter = 0\n",
      "Epoch 28/300\n"
     ]
    },
    {
     "name": "stderr",
     "output_type": "stream",
     "text": [
      "100%|██████████| 207/207 [01:01<00:00,  3.36it/s]\n",
      "100%|██████████| 25/25 [00:14<00:00,  1.67it/s]\n",
      "100%|██████████| 33/33 [00:09<00:00,  3.47it/s]\n"
     ]
    },
    {
     "name": "stdout",
     "output_type": "stream",
     "text": [
      "1m 26s\n",
      "Consistency Loss declined to 0.10072782248258591\n",
      "Early Stopping Counter = 0\n",
      "Epoch 29/300\n"
     ]
    },
    {
     "name": "stderr",
     "output_type": "stream",
     "text": [
      "100%|██████████| 207/207 [01:01<00:00,  3.37it/s]\n",
      "100%|██████████| 25/25 [00:14<00:00,  1.70it/s]\n",
      "100%|██████████| 33/33 [00:09<00:00,  3.42it/s]\n"
     ]
    },
    {
     "name": "stdout",
     "output_type": "stream",
     "text": [
      "1m 26s\n",
      "Consistency Loss declined to 0.0995604556798935\n",
      "Early Stopping Counter = 0\n",
      "Epoch 30/300\n"
     ]
    },
    {
     "name": "stderr",
     "output_type": "stream",
     "text": [
      "100%|██████████| 207/207 [01:01<00:00,  3.36it/s]\n",
      "100%|██████████| 25/25 [00:14<00:00,  1.67it/s]\n",
      "100%|██████████| 33/33 [00:09<00:00,  3.38it/s]\n"
     ]
    },
    {
     "name": "stdout",
     "output_type": "stream",
     "text": [
      "1m 26s\n",
      "Early Stopping Counter = 1\n",
      "Epoch 31/300\n"
     ]
    },
    {
     "name": "stderr",
     "output_type": "stream",
     "text": [
      "100%|██████████| 207/207 [01:01<00:00,  3.35it/s]\n",
      "100%|██████████| 25/25 [00:14<00:00,  1.70it/s]\n",
      "100%|██████████| 33/33 [00:09<00:00,  3.48it/s]\n"
     ]
    },
    {
     "name": "stdout",
     "output_type": "stream",
     "text": [
      "1m 26s\n",
      "Consistency Loss declined to 0.09771406382322312\n",
      "Early Stopping Counter = 0\n",
      "Epoch 32/300\n"
     ]
    },
    {
     "name": "stderr",
     "output_type": "stream",
     "text": [
      "100%|██████████| 207/207 [01:01<00:00,  3.38it/s]\n",
      "100%|██████████| 25/25 [00:14<00:00,  1.69it/s]\n",
      "100%|██████████| 33/33 [00:09<00:00,  3.45it/s]\n"
     ]
    },
    {
     "name": "stdout",
     "output_type": "stream",
     "text": [
      "1m 26s\n",
      "Consistency Loss declined to 0.09655740648508072\n",
      "Early Stopping Counter = 0\n",
      "Epoch 33/300\n"
     ]
    },
    {
     "name": "stderr",
     "output_type": "stream",
     "text": [
      "100%|██████████| 207/207 [01:01<00:00,  3.36it/s]\n",
      "100%|██████████| 25/25 [00:14<00:00,  1.70it/s]\n",
      "100%|██████████| 33/33 [00:09<00:00,  3.44it/s]\n"
     ]
    },
    {
     "name": "stdout",
     "output_type": "stream",
     "text": [
      "1m 26s\n",
      "Early Stopping Counter = 1\n",
      "Epoch 34/300\n"
     ]
    },
    {
     "name": "stderr",
     "output_type": "stream",
     "text": [
      "100%|██████████| 207/207 [01:01<00:00,  3.37it/s]\n",
      "100%|██████████| 25/25 [00:14<00:00,  1.68it/s]\n",
      "100%|██████████| 33/33 [00:09<00:00,  3.44it/s]\n"
     ]
    },
    {
     "name": "stdout",
     "output_type": "stream",
     "text": [
      "1m 26s\n",
      "Early Stopping Counter = 2\n",
      "Epoch 35/300\n"
     ]
    },
    {
     "name": "stderr",
     "output_type": "stream",
     "text": [
      "100%|██████████| 207/207 [01:01<00:00,  3.36it/s]\n",
      "100%|██████████| 25/25 [00:14<00:00,  1.67it/s]\n",
      "100%|██████████| 33/33 [00:09<00:00,  3.47it/s]\n"
     ]
    },
    {
     "name": "stdout",
     "output_type": "stream",
     "text": [
      "1m 26s\n",
      "Consistency Loss declined to 0.09361272633075714\n",
      "Early Stopping Counter = 0\n",
      "Epoch 36/300\n"
     ]
    },
    {
     "name": "stderr",
     "output_type": "stream",
     "text": [
      "100%|██████████| 207/207 [01:01<00:00,  3.38it/s]\n",
      "100%|██████████| 25/25 [00:15<00:00,  1.66it/s]\n",
      "100%|██████████| 33/33 [00:09<00:00,  3.39it/s]\n"
     ]
    },
    {
     "name": "stdout",
     "output_type": "stream",
     "text": [
      "1m 26s\n",
      "Consistency Loss declined to 0.0915316817164421\n",
      "Early Stopping Counter = 0\n",
      "Epoch 37/300\n"
     ]
    },
    {
     "name": "stderr",
     "output_type": "stream",
     "text": [
      "100%|██████████| 207/207 [01:01<00:00,  3.36it/s]\n",
      "100%|██████████| 25/25 [00:14<00:00,  1.69it/s]\n",
      "100%|██████████| 33/33 [00:09<00:00,  3.46it/s]\n"
     ]
    },
    {
     "name": "stdout",
     "output_type": "stream",
     "text": [
      "1m 26s\n",
      "Early Stopping Counter = 1\n",
      "Epoch 38/300\n"
     ]
    },
    {
     "name": "stderr",
     "output_type": "stream",
     "text": [
      "100%|██████████| 207/207 [01:01<00:00,  3.36it/s]\n",
      "100%|██████████| 25/25 [00:14<00:00,  1.68it/s]\n",
      "100%|██████████| 33/33 [00:09<00:00,  3.39it/s]\n"
     ]
    },
    {
     "name": "stdout",
     "output_type": "stream",
     "text": [
      "1m 26s\n",
      "Consistency Loss declined to 0.09143427103757858\n",
      "Early Stopping Counter = 0\n",
      "Epoch 39/300\n"
     ]
    },
    {
     "name": "stderr",
     "output_type": "stream",
     "text": [
      "100%|██████████| 207/207 [01:01<00:00,  3.38it/s]\n",
      "100%|██████████| 25/25 [00:14<00:00,  1.70it/s]\n",
      "100%|██████████| 33/33 [00:09<00:00,  3.49it/s]\n"
     ]
    },
    {
     "name": "stdout",
     "output_type": "stream",
     "text": [
      "1m 25s\n",
      "Early Stopping Counter = 1\n",
      "Epoch 40/300\n"
     ]
    },
    {
     "name": "stderr",
     "output_type": "stream",
     "text": [
      "100%|██████████| 207/207 [01:01<00:00,  3.36it/s]\n",
      "100%|██████████| 25/25 [00:14<00:00,  1.69it/s]\n",
      "100%|██████████| 33/33 [00:09<00:00,  3.34it/s]\n"
     ]
    },
    {
     "name": "stdout",
     "output_type": "stream",
     "text": [
      "1m 26s\n",
      "Consistency Loss declined to 0.08887951403856277\n",
      "Early Stopping Counter = 0\n",
      "Epoch 41/300\n"
     ]
    },
    {
     "name": "stderr",
     "output_type": "stream",
     "text": [
      "100%|██████████| 207/207 [01:01<00:00,  3.37it/s]\n",
      "100%|██████████| 25/25 [00:14<00:00,  1.68it/s]\n",
      "100%|██████████| 33/33 [00:09<00:00,  3.41it/s]\n"
     ]
    },
    {
     "name": "stdout",
     "output_type": "stream",
     "text": [
      "1m 26s\n",
      "Consistency Loss declined to 0.08747748821973801\n",
      "Early Stopping Counter = 0\n",
      "Epoch 42/300\n"
     ]
    },
    {
     "name": "stderr",
     "output_type": "stream",
     "text": [
      "100%|██████████| 207/207 [01:01<00:00,  3.35it/s]\n",
      "100%|██████████| 25/25 [00:14<00:00,  1.68it/s]\n",
      "100%|██████████| 33/33 [00:09<00:00,  3.45it/s]\n"
     ]
    },
    {
     "name": "stdout",
     "output_type": "stream",
     "text": [
      "1m 26s\n",
      "Consistency Loss declined to 0.08703049510717392\n",
      "Early Stopping Counter = 0\n",
      "Epoch 43/300\n"
     ]
    },
    {
     "name": "stderr",
     "output_type": "stream",
     "text": [
      "100%|██████████| 207/207 [01:01<00:00,  3.37it/s]\n",
      "100%|██████████| 25/25 [00:14<00:00,  1.67it/s]\n",
      "100%|██████████| 33/33 [00:09<00:00,  3.37it/s]\n"
     ]
    },
    {
     "name": "stdout",
     "output_type": "stream",
     "text": [
      "1m 26s\n",
      "Early Stopping Counter = 1\n",
      "Epoch 44/300\n"
     ]
    },
    {
     "name": "stderr",
     "output_type": "stream",
     "text": [
      "100%|██████████| 207/207 [01:01<00:00,  3.35it/s]\n",
      "100%|██████████| 25/25 [00:14<00:00,  1.69it/s]\n",
      "100%|██████████| 33/33 [00:09<00:00,  3.42it/s]\n"
     ]
    },
    {
     "name": "stdout",
     "output_type": "stream",
     "text": [
      "1m 26s\n",
      "Consistency Loss declined to 0.08601337403059006\n",
      "Early Stopping Counter = 0\n",
      "Epoch 45/300\n"
     ]
    },
    {
     "name": "stderr",
     "output_type": "stream",
     "text": [
      "100%|██████████| 207/207 [01:01<00:00,  3.37it/s]\n",
      "100%|██████████| 25/25 [00:14<00:00,  1.67it/s]\n",
      "100%|██████████| 33/33 [00:09<00:00,  3.42it/s]\n"
     ]
    },
    {
     "name": "stdout",
     "output_type": "stream",
     "text": [
      "1m 26s\n",
      "Early Stopping Counter = 1\n",
      "Epoch 46/300\n"
     ]
    },
    {
     "name": "stderr",
     "output_type": "stream",
     "text": [
      "100%|██████████| 207/207 [01:01<00:00,  3.37it/s]\n",
      "100%|██████████| 25/25 [00:14<00:00,  1.69it/s]\n",
      "100%|██████████| 33/33 [00:09<00:00,  3.43it/s]\n"
     ]
    },
    {
     "name": "stdout",
     "output_type": "stream",
     "text": [
      "1m 26s\n",
      "Early Stopping Counter = 2\n",
      "Epoch 47/300\n"
     ]
    },
    {
     "name": "stderr",
     "output_type": "stream",
     "text": [
      "100%|██████████| 207/207 [01:01<00:00,  3.36it/s]\n",
      "100%|██████████| 25/25 [00:14<00:00,  1.67it/s]\n",
      "100%|██████████| 33/33 [00:09<00:00,  3.43it/s]\n"
     ]
    },
    {
     "name": "stdout",
     "output_type": "stream",
     "text": [
      "1m 26s\n",
      "Consistency Loss declined to 0.08458464920520782\n",
      "Early Stopping Counter = 0\n",
      "Epoch 48/300\n"
     ]
    },
    {
     "name": "stderr",
     "output_type": "stream",
     "text": [
      "100%|██████████| 207/207 [01:01<00:00,  3.38it/s]\n",
      "100%|██████████| 25/25 [00:14<00:00,  1.67it/s]\n",
      "100%|██████████| 33/33 [00:09<00:00,  3.41it/s]\n"
     ]
    },
    {
     "name": "stdout",
     "output_type": "stream",
     "text": [
      "1m 26s\n",
      "Consistency Loss declined to 0.08266570031642914\n",
      "Early Stopping Counter = 0\n",
      "Epoch 49/300\n"
     ]
    },
    {
     "name": "stderr",
     "output_type": "stream",
     "text": [
      "100%|██████████| 207/207 [01:01<00:00,  3.35it/s]\n",
      "100%|██████████| 25/25 [00:15<00:00,  1.66it/s]\n",
      "100%|██████████| 33/33 [00:09<00:00,  3.40it/s]\n"
     ]
    },
    {
     "name": "stdout",
     "output_type": "stream",
     "text": [
      "1m 27s\n",
      "Early Stopping Counter = 1\n",
      "Epoch 50/300\n"
     ]
    },
    {
     "name": "stderr",
     "output_type": "stream",
     "text": [
      "100%|██████████| 207/207 [01:01<00:00,  3.35it/s]\n",
      "100%|██████████| 25/25 [00:15<00:00,  1.66it/s]\n",
      "100%|██████████| 33/33 [00:09<00:00,  3.39it/s]\n"
     ]
    },
    {
     "name": "stdout",
     "output_type": "stream",
     "text": [
      "1m 27s\n",
      "Consistency Loss declined to 0.07932961612939834\n",
      "Early Stopping Counter = 0\n",
      "Epoch 51/300\n"
     ]
    },
    {
     "name": "stderr",
     "output_type": "stream",
     "text": [
      "100%|██████████| 207/207 [01:01<00:00,  3.36it/s]\n",
      "100%|██████████| 25/25 [00:15<00:00,  1.65it/s]\n",
      "100%|██████████| 33/33 [00:09<00:00,  3.43it/s]\n"
     ]
    },
    {
     "name": "stdout",
     "output_type": "stream",
     "text": [
      "1m 26s\n",
      "Early Stopping Counter = 1\n",
      "Epoch 52/300\n"
     ]
    },
    {
     "name": "stderr",
     "output_type": "stream",
     "text": [
      "100%|██████████| 207/207 [01:01<00:00,  3.37it/s]\n",
      "100%|██████████| 25/25 [00:15<00:00,  1.66it/s]\n",
      "100%|██████████| 33/33 [00:09<00:00,  3.43it/s]\n"
     ]
    },
    {
     "name": "stdout",
     "output_type": "stream",
     "text": [
      "1m 26s\n",
      "Early Stopping Counter = 2\n",
      "Epoch 53/300\n"
     ]
    },
    {
     "name": "stderr",
     "output_type": "stream",
     "text": [
      "100%|██████████| 207/207 [01:01<00:00,  3.36it/s]\n",
      "100%|██████████| 25/25 [00:15<00:00,  1.65it/s]\n",
      "100%|██████████| 33/33 [00:09<00:00,  3.48it/s]\n"
     ]
    },
    {
     "name": "stdout",
     "output_type": "stream",
     "text": [
      "1m 26s\n",
      "Early Stopping Counter = 3\n",
      "Epoch 54/300\n"
     ]
    },
    {
     "name": "stderr",
     "output_type": "stream",
     "text": [
      "100%|██████████| 207/207 [01:01<00:00,  3.35it/s]\n",
      "100%|██████████| 25/25 [00:14<00:00,  1.67it/s]\n",
      "100%|██████████| 33/33 [00:09<00:00,  3.39it/s]\n"
     ]
    },
    {
     "name": "stdout",
     "output_type": "stream",
     "text": [
      "1m 26s\n",
      "Consistency Loss declined to 0.07790665626525879\n",
      "Early Stopping Counter = 0\n",
      "Epoch 55/300\n"
     ]
    },
    {
     "name": "stderr",
     "output_type": "stream",
     "text": [
      "100%|██████████| 207/207 [01:01<00:00,  3.36it/s]\n",
      "100%|██████████| 25/25 [00:14<00:00,  1.68it/s]\n",
      "100%|██████████| 33/33 [00:09<00:00,  3.41it/s]\n"
     ]
    },
    {
     "name": "stdout",
     "output_type": "stream",
     "text": [
      "1m 26s\n",
      "Consistency Loss declined to 0.07719853013753891\n",
      "Early Stopping Counter = 0\n",
      "Epoch 56/300\n"
     ]
    },
    {
     "name": "stderr",
     "output_type": "stream",
     "text": [
      "100%|██████████| 207/207 [01:01<00:00,  3.35it/s]\n",
      "100%|██████████| 25/25 [00:14<00:00,  1.69it/s]\n",
      "100%|██████████| 33/33 [00:09<00:00,  3.42it/s]\n"
     ]
    },
    {
     "name": "stdout",
     "output_type": "stream",
     "text": [
      "1m 26s\n",
      "Early Stopping Counter = 1\n",
      "Epoch 57/300\n"
     ]
    },
    {
     "name": "stderr",
     "output_type": "stream",
     "text": [
      "100%|██████████| 207/207 [01:01<00:00,  3.36it/s]\n",
      "100%|██████████| 25/25 [00:14<00:00,  1.69it/s]\n",
      "100%|██████████| 33/33 [00:10<00:00,  3.24it/s]\n"
     ]
    },
    {
     "name": "stdout",
     "output_type": "stream",
     "text": [
      "1m 27s\n",
      "Consistency Loss declined to 0.07714732736349106\n",
      "Early Stopping Counter = 0\n",
      "Epoch 58/300\n"
     ]
    },
    {
     "name": "stderr",
     "output_type": "stream",
     "text": [
      "100%|██████████| 207/207 [01:01<00:00,  3.36it/s]\n",
      "100%|██████████| 25/25 [00:14<00:00,  1.69it/s]\n",
      "100%|██████████| 33/33 [00:09<00:00,  3.39it/s]\n"
     ]
    },
    {
     "name": "stdout",
     "output_type": "stream",
     "text": [
      "1m 26s\n",
      "Early Stopping Counter = 1\n",
      "Epoch 59/300\n"
     ]
    },
    {
     "name": "stderr",
     "output_type": "stream",
     "text": [
      "100%|██████████| 207/207 [01:01<00:00,  3.38it/s]\n",
      "100%|██████████| 25/25 [00:14<00:00,  1.67it/s]\n",
      "100%|██████████| 33/33 [00:09<00:00,  3.42it/s]\n"
     ]
    },
    {
     "name": "stdout",
     "output_type": "stream",
     "text": [
      "1m 26s\n",
      "Consistency Loss declined to 0.07634489417076111\n",
      "Early Stopping Counter = 0\n",
      "Epoch 60/300\n"
     ]
    },
    {
     "name": "stderr",
     "output_type": "stream",
     "text": [
      "100%|██████████| 207/207 [01:01<00:00,  3.36it/s]\n",
      "100%|██████████| 25/25 [00:15<00:00,  1.66it/s]\n",
      "100%|██████████| 33/33 [00:09<00:00,  3.42it/s]\n"
     ]
    },
    {
     "name": "stdout",
     "output_type": "stream",
     "text": [
      "1m 26s\n",
      "Consistency Loss declined to 0.07414394497871399\n",
      "Early Stopping Counter = 0\n",
      "Epoch 61/300\n"
     ]
    },
    {
     "name": "stderr",
     "output_type": "stream",
     "text": [
      "100%|██████████| 207/207 [01:01<00:00,  3.37it/s]\n",
      "100%|██████████| 25/25 [00:15<00:00,  1.67it/s]\n",
      "100%|██████████| 33/33 [00:09<00:00,  3.42it/s]\n"
     ]
    },
    {
     "name": "stdout",
     "output_type": "stream",
     "text": [
      "1m 26s\n",
      "Early Stopping Counter = 1\n",
      "Epoch 62/300\n"
     ]
    },
    {
     "name": "stderr",
     "output_type": "stream",
     "text": [
      "100%|██████████| 207/207 [01:01<00:00,  3.36it/s]\n",
      "100%|██████████| 25/25 [00:14<00:00,  1.67it/s]\n",
      "100%|██████████| 33/33 [00:09<00:00,  3.44it/s]\n"
     ]
    },
    {
     "name": "stdout",
     "output_type": "stream",
     "text": [
      "1m 26s\n",
      "Early Stopping Counter = 2\n",
      "Epoch 63/300\n"
     ]
    },
    {
     "name": "stderr",
     "output_type": "stream",
     "text": [
      "100%|██████████| 207/207 [01:01<00:00,  3.35it/s]\n",
      "100%|██████████| 25/25 [00:14<00:00,  1.67it/s]\n",
      "100%|██████████| 33/33 [00:09<00:00,  3.43it/s]\n"
     ]
    },
    {
     "name": "stdout",
     "output_type": "stream",
     "text": [
      "1m 26s\n",
      "Early Stopping Counter = 3\n",
      "Epoch 64/300\n"
     ]
    },
    {
     "name": "stderr",
     "output_type": "stream",
     "text": [
      "100%|██████████| 207/207 [01:01<00:00,  3.34it/s]\n",
      "100%|██████████| 25/25 [00:14<00:00,  1.67it/s]\n",
      "100%|██████████| 33/33 [00:09<00:00,  3.40it/s]\n"
     ]
    },
    {
     "name": "stdout",
     "output_type": "stream",
     "text": [
      "1m 27s\n",
      "Consistency Loss declined to 0.0732283379137516\n",
      "Early Stopping Counter = 0\n",
      "Epoch 65/300\n"
     ]
    },
    {
     "name": "stderr",
     "output_type": "stream",
     "text": [
      "100%|██████████| 207/207 [01:01<00:00,  3.34it/s]\n",
      "100%|██████████| 25/25 [00:15<00:00,  1.66it/s]\n",
      "100%|██████████| 33/33 [00:09<00:00,  3.36it/s]\n"
     ]
    },
    {
     "name": "stdout",
     "output_type": "stream",
     "text": [
      "1m 27s\n",
      "Consistency Loss declined to 0.07118878841400146\n",
      "Early Stopping Counter = 0\n",
      "Epoch 66/300\n"
     ]
    },
    {
     "name": "stderr",
     "output_type": "stream",
     "text": [
      "100%|██████████| 207/207 [01:01<00:00,  3.35it/s]\n",
      "100%|██████████| 25/25 [00:15<00:00,  1.65it/s]\n",
      "100%|██████████| 33/33 [00:09<00:00,  3.33it/s]\n"
     ]
    },
    {
     "name": "stdout",
     "output_type": "stream",
     "text": [
      "1m 27s\n",
      "Early Stopping Counter = 1\n",
      "Epoch 67/300\n"
     ]
    },
    {
     "name": "stderr",
     "output_type": "stream",
     "text": [
      "100%|██████████| 207/207 [01:01<00:00,  3.34it/s]\n",
      "100%|██████████| 25/25 [00:14<00:00,  1.67it/s]\n",
      "100%|██████████| 33/33 [00:09<00:00,  3.39it/s]\n"
     ]
    },
    {
     "name": "stdout",
     "output_type": "stream",
     "text": [
      "1m 27s\n",
      "Consistency Loss declined to 0.06993027433753013\n",
      "Early Stopping Counter = 0\n",
      "Epoch 68/300\n"
     ]
    },
    {
     "name": "stderr",
     "output_type": "stream",
     "text": [
      "100%|██████████| 207/207 [01:01<00:00,  3.37it/s]\n",
      "100%|██████████| 25/25 [00:14<00:00,  1.69it/s]\n",
      "100%|██████████| 33/33 [00:09<00:00,  3.45it/s]\n"
     ]
    },
    {
     "name": "stdout",
     "output_type": "stream",
     "text": [
      "1m 26s\n",
      "Early Stopping Counter = 1\n",
      "Epoch 69/300\n"
     ]
    },
    {
     "name": "stderr",
     "output_type": "stream",
     "text": [
      "100%|██████████| 207/207 [01:01<00:00,  3.36it/s]\n",
      "100%|██████████| 25/25 [00:15<00:00,  1.66it/s]\n",
      "100%|██████████| 33/33 [00:09<00:00,  3.38it/s]\n"
     ]
    },
    {
     "name": "stdout",
     "output_type": "stream",
     "text": [
      "1m 27s\n",
      "Early Stopping Counter = 2\n",
      "Epoch 70/300\n"
     ]
    },
    {
     "name": "stderr",
     "output_type": "stream",
     "text": [
      "100%|██████████| 207/207 [01:01<00:00,  3.35it/s]\n",
      "100%|██████████| 25/25 [00:14<00:00,  1.68it/s]\n",
      "100%|██████████| 33/33 [00:09<00:00,  3.43it/s]\n"
     ]
    },
    {
     "name": "stdout",
     "output_type": "stream",
     "text": [
      "1m 26s\n",
      "Consistency Loss declined to 0.06919746235013008\n",
      "Early Stopping Counter = 0\n",
      "Epoch 71/300\n"
     ]
    },
    {
     "name": "stderr",
     "output_type": "stream",
     "text": [
      "100%|██████████| 207/207 [01:01<00:00,  3.36it/s]\n",
      "100%|██████████| 25/25 [00:14<00:00,  1.67it/s]\n",
      "100%|██████████| 33/33 [00:09<00:00,  3.41it/s]\n"
     ]
    },
    {
     "name": "stdout",
     "output_type": "stream",
     "text": [
      "1m 26s\n",
      "Consistency Loss declined to 0.06827485159039498\n",
      "Early Stopping Counter = 0\n",
      "Epoch 72/300\n"
     ]
    },
    {
     "name": "stderr",
     "output_type": "stream",
     "text": [
      "100%|██████████| 207/207 [01:01<00:00,  3.34it/s]\n",
      "100%|██████████| 25/25 [00:14<00:00,  1.67it/s]\n",
      "100%|██████████| 33/33 [00:09<00:00,  3.44it/s]\n"
     ]
    },
    {
     "name": "stdout",
     "output_type": "stream",
     "text": [
      "1m 26s\n",
      "Consistency Loss declined to 0.0672358275949955\n",
      "Early Stopping Counter = 0\n",
      "Epoch 73/300\n"
     ]
    },
    {
     "name": "stderr",
     "output_type": "stream",
     "text": [
      "100%|██████████| 207/207 [01:01<00:00,  3.37it/s]\n",
      "100%|██████████| 25/25 [00:14<00:00,  1.67it/s]\n",
      "100%|██████████| 33/33 [00:09<00:00,  3.40it/s]\n"
     ]
    },
    {
     "name": "stdout",
     "output_type": "stream",
     "text": [
      "1m 26s\n",
      "Early Stopping Counter = 1\n",
      "Epoch 74/300\n"
     ]
    },
    {
     "name": "stderr",
     "output_type": "stream",
     "text": [
      "100%|██████████| 207/207 [01:01<00:00,  3.36it/s]\n",
      "100%|██████████| 25/25 [00:14<00:00,  1.69it/s]\n",
      "100%|██████████| 33/33 [00:09<00:00,  3.38it/s]\n"
     ]
    },
    {
     "name": "stdout",
     "output_type": "stream",
     "text": [
      "1m 26s\n",
      "Consistency Loss declined to 0.06640083760023117\n",
      "Early Stopping Counter = 0\n",
      "Epoch 75/300\n"
     ]
    },
    {
     "name": "stderr",
     "output_type": "stream",
     "text": [
      "100%|██████████| 207/207 [01:01<00:00,  3.35it/s]\n",
      "100%|██████████| 25/25 [00:14<00:00,  1.69it/s]\n",
      "100%|██████████| 33/33 [00:09<00:00,  3.43it/s]\n"
     ]
    },
    {
     "name": "stdout",
     "output_type": "stream",
     "text": [
      "1m 26s\n",
      "Early Stopping Counter = 1\n",
      "Epoch 76/300\n"
     ]
    },
    {
     "name": "stderr",
     "output_type": "stream",
     "text": [
      "100%|██████████| 207/207 [01:01<00:00,  3.38it/s]\n",
      "100%|██████████| 25/25 [00:14<00:00,  1.69it/s]\n",
      "100%|██████████| 33/33 [00:09<00:00,  3.39it/s]\n"
     ]
    },
    {
     "name": "stdout",
     "output_type": "stream",
     "text": [
      "1m 26s\n",
      "Early Stopping Counter = 2\n",
      "Epoch 77/300\n"
     ]
    },
    {
     "name": "stderr",
     "output_type": "stream",
     "text": [
      "100%|██████████| 207/207 [01:01<00:00,  3.35it/s]\n",
      "100%|██████████| 25/25 [00:15<00:00,  1.66it/s]\n",
      "100%|██████████| 33/33 [00:09<00:00,  3.37it/s]\n"
     ]
    },
    {
     "name": "stdout",
     "output_type": "stream",
     "text": [
      "1m 27s\n",
      "Early Stopping Counter = 3\n",
      "Epoch 78/300\n"
     ]
    },
    {
     "name": "stderr",
     "output_type": "stream",
     "text": [
      "100%|██████████| 207/207 [01:01<00:00,  3.35it/s]\n",
      "100%|██████████| 25/25 [00:15<00:00,  1.67it/s]\n",
      "100%|██████████| 33/33 [00:09<00:00,  3.48it/s]\n"
     ]
    },
    {
     "name": "stdout",
     "output_type": "stream",
     "text": [
      "1m 26s\n",
      "Early Stopping Counter = 4\n",
      "Epoch 79/300\n"
     ]
    },
    {
     "name": "stderr",
     "output_type": "stream",
     "text": [
      "100%|██████████| 207/207 [01:01<00:00,  3.36it/s]\n",
      "100%|██████████| 25/25 [00:14<00:00,  1.67it/s]\n",
      "100%|██████████| 33/33 [00:09<00:00,  3.35it/s]\n"
     ]
    },
    {
     "name": "stdout",
     "output_type": "stream",
     "text": [
      "1m 26s\n",
      "Early Stopping Counter = 5\n",
      "Epoch 80/300\n"
     ]
    },
    {
     "name": "stderr",
     "output_type": "stream",
     "text": [
      "100%|██████████| 207/207 [01:01<00:00,  3.36it/s]\n",
      "100%|██████████| 25/25 [00:14<00:00,  1.67it/s]\n",
      "100%|██████████| 33/33 [00:09<00:00,  3.45it/s]\n"
     ]
    },
    {
     "name": "stdout",
     "output_type": "stream",
     "text": [
      "1m 26s\n",
      "Consistency Loss declined to 0.06250877633690834\n",
      "Early Stopping Counter = 0\n",
      "Epoch 81/300\n"
     ]
    },
    {
     "name": "stderr",
     "output_type": "stream",
     "text": [
      "100%|██████████| 207/207 [01:01<00:00,  3.36it/s]\n",
      "100%|██████████| 25/25 [00:14<00:00,  1.67it/s]\n",
      "100%|██████████| 33/33 [00:09<00:00,  3.42it/s]\n"
     ]
    },
    {
     "name": "stdout",
     "output_type": "stream",
     "text": [
      "1m 26s\n",
      "Early Stopping Counter = 1\n",
      "Epoch 82/300\n"
     ]
    },
    {
     "name": "stderr",
     "output_type": "stream",
     "text": [
      "100%|██████████| 207/207 [01:01<00:00,  3.37it/s]\n",
      "100%|██████████| 25/25 [00:14<00:00,  1.68it/s]\n",
      "100%|██████████| 33/33 [00:09<00:00,  3.38it/s]\n"
     ]
    },
    {
     "name": "stdout",
     "output_type": "stream",
     "text": [
      "1m 26s\n",
      "Early Stopping Counter = 2\n",
      "Epoch 83/300\n"
     ]
    },
    {
     "name": "stderr",
     "output_type": "stream",
     "text": [
      "100%|██████████| 207/207 [01:01<00:00,  3.36it/s]\n",
      "100%|██████████| 25/25 [00:15<00:00,  1.65it/s]\n",
      "100%|██████████| 33/33 [00:09<00:00,  3.40it/s]\n"
     ]
    },
    {
     "name": "stdout",
     "output_type": "stream",
     "text": [
      "1m 26s\n",
      "Consistency Loss declined to 0.06170315861701965\n",
      "Early Stopping Counter = 0\n",
      "Epoch 84/300\n"
     ]
    },
    {
     "name": "stderr",
     "output_type": "stream",
     "text": [
      "100%|██████████| 207/207 [01:01<00:00,  3.36it/s]\n",
      "100%|██████████| 25/25 [00:14<00:00,  1.69it/s]\n",
      "100%|██████████| 33/33 [00:09<00:00,  3.46it/s]\n"
     ]
    },
    {
     "name": "stdout",
     "output_type": "stream",
     "text": [
      "1m 26s\n",
      "Early Stopping Counter = 1\n",
      "Epoch 85/300\n"
     ]
    },
    {
     "name": "stderr",
     "output_type": "stream",
     "text": [
      "100%|██████████| 207/207 [01:01<00:00,  3.37it/s]\n",
      "100%|██████████| 25/25 [00:14<00:00,  1.68it/s]\n",
      "100%|██████████| 33/33 [00:09<00:00,  3.44it/s]\n"
     ]
    },
    {
     "name": "stdout",
     "output_type": "stream",
     "text": [
      "1m 26s\n",
      "Early Stopping Counter = 2\n",
      "Epoch 86/300\n"
     ]
    },
    {
     "name": "stderr",
     "output_type": "stream",
     "text": [
      "100%|██████████| 207/207 [01:01<00:00,  3.34it/s]\n",
      "100%|██████████| 25/25 [00:14<00:00,  1.67it/s]\n",
      "100%|██████████| 33/33 [00:09<00:00,  3.42it/s]\n"
     ]
    },
    {
     "name": "stdout",
     "output_type": "stream",
     "text": [
      "1m 27s\n",
      "Consistency Loss declined to 0.05955123707652092\n",
      "Early Stopping Counter = 0\n",
      "Epoch 87/300\n"
     ]
    },
    {
     "name": "stderr",
     "output_type": "stream",
     "text": [
      "100%|██████████| 207/207 [01:01<00:00,  3.37it/s]\n",
      "100%|██████████| 25/25 [00:14<00:00,  1.67it/s]\n",
      "100%|██████████| 33/33 [00:09<00:00,  3.43it/s]\n"
     ]
    },
    {
     "name": "stdout",
     "output_type": "stream",
     "text": [
      "1m 26s\n",
      "Early Stopping Counter = 1\n",
      "Epoch 88/300\n"
     ]
    },
    {
     "name": "stderr",
     "output_type": "stream",
     "text": [
      "100%|██████████| 207/207 [01:01<00:00,  3.37it/s]\n",
      "100%|██████████| 25/25 [00:14<00:00,  1.69it/s]\n",
      "100%|██████████| 33/33 [00:09<00:00,  3.41it/s]\n"
     ]
    },
    {
     "name": "stdout",
     "output_type": "stream",
     "text": [
      "1m 26s\n",
      "Early Stopping Counter = 2\n",
      "Epoch 89/300\n"
     ]
    },
    {
     "name": "stderr",
     "output_type": "stream",
     "text": [
      "100%|██████████| 207/207 [01:01<00:00,  3.36it/s]\n",
      "100%|██████████| 25/25 [00:14<00:00,  1.67it/s]\n",
      "100%|██████████| 33/33 [00:09<00:00,  3.40it/s]\n"
     ]
    },
    {
     "name": "stdout",
     "output_type": "stream",
     "text": [
      "1m 26s\n",
      "Early Stopping Counter = 3\n",
      "Epoch 90/300\n"
     ]
    },
    {
     "name": "stderr",
     "output_type": "stream",
     "text": [
      "100%|██████████| 207/207 [01:01<00:00,  3.35it/s]\n",
      "100%|██████████| 25/25 [00:14<00:00,  1.67it/s]\n",
      "100%|██████████| 33/33 [00:09<00:00,  3.44it/s]\n"
     ]
    },
    {
     "name": "stdout",
     "output_type": "stream",
     "text": [
      "1m 26s\n",
      "Consistency Loss declined to 0.0578399994969368\n",
      "Early Stopping Counter = 0\n",
      "Epoch 91/300\n"
     ]
    },
    {
     "name": "stderr",
     "output_type": "stream",
     "text": [
      "100%|██████████| 207/207 [01:01<00:00,  3.37it/s]\n",
      "100%|██████████| 25/25 [00:14<00:00,  1.69it/s]\n",
      "100%|██████████| 33/33 [00:09<00:00,  3.34it/s]\n"
     ]
    },
    {
     "name": "stdout",
     "output_type": "stream",
     "text": [
      "1m 26s\n",
      "Early Stopping Counter = 1\n",
      "Epoch 92/300\n"
     ]
    },
    {
     "name": "stderr",
     "output_type": "stream",
     "text": [
      "100%|██████████| 207/207 [01:01<00:00,  3.36it/s]\n",
      "100%|██████████| 25/25 [00:15<00:00,  1.66it/s]\n",
      "100%|██████████| 33/33 [00:09<00:00,  3.36it/s]\n"
     ]
    },
    {
     "name": "stdout",
     "output_type": "stream",
     "text": [
      "1m 26s\n",
      "Early Stopping Counter = 2\n",
      "Epoch 93/300\n"
     ]
    },
    {
     "name": "stderr",
     "output_type": "stream",
     "text": [
      "100%|██████████| 207/207 [01:01<00:00,  3.35it/s]\n",
      "100%|██████████| 25/25 [00:14<00:00,  1.67it/s]\n",
      "100%|██████████| 33/33 [00:09<00:00,  3.41it/s]\n"
     ]
    },
    {
     "name": "stdout",
     "output_type": "stream",
     "text": [
      "1m 26s\n",
      "Early Stopping Counter = 3\n",
      "Epoch 94/300\n"
     ]
    },
    {
     "name": "stderr",
     "output_type": "stream",
     "text": [
      "100%|██████████| 207/207 [01:01<00:00,  3.34it/s]\n",
      "100%|██████████| 25/25 [00:14<00:00,  1.67it/s]\n",
      "100%|██████████| 33/33 [00:09<00:00,  3.41it/s]\n"
     ]
    },
    {
     "name": "stdout",
     "output_type": "stream",
     "text": [
      "1m 27s\n",
      "Early Stopping Counter = 4\n",
      "Epoch 95/300\n"
     ]
    },
    {
     "name": "stderr",
     "output_type": "stream",
     "text": [
      "100%|██████████| 207/207 [01:01<00:00,  3.34it/s]\n",
      "100%|██████████| 25/25 [00:15<00:00,  1.66it/s]\n",
      "100%|██████████| 33/33 [00:09<00:00,  3.36it/s]\n"
     ]
    },
    {
     "name": "stdout",
     "output_type": "stream",
     "text": [
      "1m 27s\n",
      "Early Stopping Counter = 5\n",
      "Epoch 96/300\n"
     ]
    },
    {
     "name": "stderr",
     "output_type": "stream",
     "text": [
      "100%|██████████| 207/207 [01:01<00:00,  3.35it/s]\n",
      "100%|██████████| 25/25 [00:15<00:00,  1.65it/s]\n",
      "100%|██████████| 33/33 [00:09<00:00,  3.37it/s]\n"
     ]
    },
    {
     "name": "stdout",
     "output_type": "stream",
     "text": [
      "1m 27s\n",
      "Consistency Loss declined to 0.05716562643647194\n",
      "Early Stopping Counter = 0\n",
      "Epoch 97/300\n"
     ]
    },
    {
     "name": "stderr",
     "output_type": "stream",
     "text": [
      "100%|██████████| 207/207 [01:01<00:00,  3.37it/s]\n",
      "100%|██████████| 25/25 [00:14<00:00,  1.69it/s]\n",
      "100%|██████████| 33/33 [00:09<00:00,  3.41it/s]\n"
     ]
    },
    {
     "name": "stdout",
     "output_type": "stream",
     "text": [
      "1m 26s\n",
      "Consistency Loss declined to 0.05683623775839806\n",
      "Early Stopping Counter = 0\n",
      "Epoch 98/300\n"
     ]
    },
    {
     "name": "stderr",
     "output_type": "stream",
     "text": [
      "100%|██████████| 207/207 [01:01<00:00,  3.35it/s]\n",
      "100%|██████████| 25/25 [00:14<00:00,  1.69it/s]\n",
      "100%|██████████| 33/33 [00:09<00:00,  3.46it/s]\n"
     ]
    },
    {
     "name": "stdout",
     "output_type": "stream",
     "text": [
      "1m 26s\n",
      "Early Stopping Counter = 1\n",
      "Epoch 99/300\n"
     ]
    },
    {
     "name": "stderr",
     "output_type": "stream",
     "text": [
      "100%|██████████| 207/207 [01:01<00:00,  3.35it/s]\n",
      "100%|██████████| 25/25 [00:15<00:00,  1.66it/s]\n",
      "100%|██████████| 33/33 [00:09<00:00,  3.38it/s]\n"
     ]
    },
    {
     "name": "stdout",
     "output_type": "stream",
     "text": [
      "1m 27s\n",
      "Consistency Loss declined to 0.05395219892263412\n",
      "Early Stopping Counter = 0\n",
      "Epoch 100/300\n"
     ]
    },
    {
     "name": "stderr",
     "output_type": "stream",
     "text": [
      "100%|██████████| 207/207 [01:01<00:00,  3.37it/s]\n",
      "100%|██████████| 25/25 [00:14<00:00,  1.69it/s]\n",
      "100%|██████████| 33/33 [00:09<00:00,  3.41it/s]\n"
     ]
    },
    {
     "name": "stdout",
     "output_type": "stream",
     "text": [
      "1m 26s\n",
      "Early Stopping Counter = 1\n",
      "Epoch 101/300\n"
     ]
    },
    {
     "name": "stderr",
     "output_type": "stream",
     "text": [
      "100%|██████████| 207/207 [01:01<00:00,  3.37it/s]\n",
      "100%|██████████| 25/25 [00:14<00:00,  1.69it/s]\n",
      "100%|██████████| 33/33 [00:09<00:00,  3.44it/s]\n"
     ]
    },
    {
     "name": "stdout",
     "output_type": "stream",
     "text": [
      "1m 26s\n",
      "Early Stopping Counter = 2\n",
      "Epoch 102/300\n"
     ]
    },
    {
     "name": "stderr",
     "output_type": "stream",
     "text": [
      "100%|██████████| 207/207 [01:01<00:00,  3.35it/s]\n",
      "100%|██████████| 25/25 [00:14<00:00,  1.67it/s]\n",
      "100%|██████████| 33/33 [00:09<00:00,  3.42it/s]\n"
     ]
    },
    {
     "name": "stdout",
     "output_type": "stream",
     "text": [
      "1m 26s\n",
      "Early Stopping Counter = 3\n",
      "Epoch 103/300\n"
     ]
    },
    {
     "name": "stderr",
     "output_type": "stream",
     "text": [
      "100%|██████████| 207/207 [01:01<00:00,  3.35it/s]\n",
      "100%|██████████| 25/25 [00:14<00:00,  1.67it/s]\n",
      "100%|██████████| 33/33 [00:09<00:00,  3.34it/s]\n"
     ]
    },
    {
     "name": "stdout",
     "output_type": "stream",
     "text": [
      "1m 27s\n",
      "Consistency Loss declined to 0.05184823006391525\n",
      "Early Stopping Counter = 0\n",
      "Epoch 104/300\n"
     ]
    },
    {
     "name": "stderr",
     "output_type": "stream",
     "text": [
      "100%|██████████| 207/207 [01:01<00:00,  3.38it/s]\n",
      "100%|██████████| 25/25 [00:15<00:00,  1.66it/s]\n",
      "100%|██████████| 33/33 [00:09<00:00,  3.41it/s]\n"
     ]
    },
    {
     "name": "stdout",
     "output_type": "stream",
     "text": [
      "1m 26s\n",
      "Early Stopping Counter = 1\n",
      "Epoch 105/300\n"
     ]
    },
    {
     "name": "stderr",
     "output_type": "stream",
     "text": [
      "100%|██████████| 207/207 [01:01<00:00,  3.37it/s]\n",
      "100%|██████████| 25/25 [00:14<00:00,  1.68it/s]\n",
      "100%|██████████| 33/33 [00:09<00:00,  3.42it/s]\n"
     ]
    },
    {
     "name": "stdout",
     "output_type": "stream",
     "text": [
      "1m 26s\n",
      "Early Stopping Counter = 2\n",
      "Epoch 106/300\n"
     ]
    },
    {
     "name": "stderr",
     "output_type": "stream",
     "text": [
      "100%|██████████| 207/207 [01:01<00:00,  3.36it/s]\n",
      "100%|██████████| 25/25 [00:14<00:00,  1.67it/s]\n",
      "100%|██████████| 33/33 [00:09<00:00,  3.40it/s]\n"
     ]
    },
    {
     "name": "stdout",
     "output_type": "stream",
     "text": [
      "1m 26s\n",
      "Early Stopping Counter = 3\n",
      "Epoch 107/300\n"
     ]
    },
    {
     "name": "stderr",
     "output_type": "stream",
     "text": [
      "100%|██████████| 207/207 [01:01<00:00,  3.34it/s]\n",
      "100%|██████████| 25/25 [00:14<00:00,  1.67it/s]\n",
      "100%|██████████| 33/33 [00:09<00:00,  3.44it/s]\n"
     ]
    },
    {
     "name": "stdout",
     "output_type": "stream",
     "text": [
      "1m 26s\n",
      "Early Stopping Counter = 4\n",
      "Epoch 108/300\n"
     ]
    },
    {
     "name": "stderr",
     "output_type": "stream",
     "text": [
      "100%|██████████| 207/207 [01:01<00:00,  3.35it/s]\n",
      "100%|██████████| 25/25 [00:14<00:00,  1.67it/s]\n",
      "100%|██████████| 33/33 [00:09<00:00,  3.39it/s]\n"
     ]
    },
    {
     "name": "stdout",
     "output_type": "stream",
     "text": [
      "1m 27s\n",
      "Consistency Loss declined to 0.05173421129584312\n",
      "Early Stopping Counter = 0\n",
      "Epoch 109/300\n"
     ]
    },
    {
     "name": "stderr",
     "output_type": "stream",
     "text": [
      "100%|██████████| 207/207 [01:01<00:00,  3.36it/s]\n",
      "100%|██████████| 25/25 [00:15<00:00,  1.63it/s]\n",
      "100%|██████████| 33/33 [00:09<00:00,  3.41it/s]\n"
     ]
    },
    {
     "name": "stdout",
     "output_type": "stream",
     "text": [
      "1m 27s\n",
      "Consistency Loss declined to 0.05104559987783432\n",
      "Early Stopping Counter = 0\n",
      "Epoch 110/300\n"
     ]
    },
    {
     "name": "stderr",
     "output_type": "stream",
     "text": [
      "100%|██████████| 207/207 [01:01<00:00,  3.35it/s]\n",
      "100%|██████████| 25/25 [00:14<00:00,  1.69it/s]\n",
      "100%|██████████| 33/33 [00:09<00:00,  3.41it/s]\n"
     ]
    },
    {
     "name": "stdout",
     "output_type": "stream",
     "text": [
      "1m 26s\n",
      "Early Stopping Counter = 1\n",
      "Epoch 111/300\n"
     ]
    },
    {
     "name": "stderr",
     "output_type": "stream",
     "text": [
      "100%|██████████| 207/207 [01:01<00:00,  3.35it/s]\n",
      "100%|██████████| 25/25 [00:14<00:00,  1.69it/s]\n",
      "100%|██████████| 33/33 [00:09<00:00,  3.39it/s]\n"
     ]
    },
    {
     "name": "stdout",
     "output_type": "stream",
     "text": [
      "1m 26s\n",
      "Consistency Loss declined to 0.04983051106333733\n",
      "Early Stopping Counter = 0\n",
      "Epoch 112/300\n"
     ]
    },
    {
     "name": "stderr",
     "output_type": "stream",
     "text": [
      "100%|██████████| 207/207 [01:01<00:00,  3.36it/s]\n",
      "100%|██████████| 25/25 [00:14<00:00,  1.68it/s]\n",
      "100%|██████████| 33/33 [00:09<00:00,  3.40it/s]\n"
     ]
    },
    {
     "name": "stdout",
     "output_type": "stream",
     "text": [
      "1m 26s\n",
      "Early Stopping Counter = 1\n",
      "Epoch 113/300\n"
     ]
    },
    {
     "name": "stderr",
     "output_type": "stream",
     "text": [
      "100%|██████████| 207/207 [01:01<00:00,  3.37it/s]\n",
      "100%|██████████| 25/25 [00:15<00:00,  1.67it/s]\n",
      "100%|██████████| 33/33 [00:09<00:00,  3.39it/s]\n"
     ]
    },
    {
     "name": "stdout",
     "output_type": "stream",
     "text": [
      "1m 26s\n",
      "Early Stopping Counter = 2\n",
      "Epoch 114/300\n"
     ]
    },
    {
     "name": "stderr",
     "output_type": "stream",
     "text": [
      "100%|██████████| 207/207 [01:01<00:00,  3.35it/s]\n",
      "100%|██████████| 25/25 [00:14<00:00,  1.69it/s]\n",
      "100%|██████████| 33/33 [00:09<00:00,  3.40it/s]\n"
     ]
    },
    {
     "name": "stdout",
     "output_type": "stream",
     "text": [
      "1m 26s\n",
      "Early Stopping Counter = 3\n",
      "Epoch 115/300\n"
     ]
    },
    {
     "name": "stderr",
     "output_type": "stream",
     "text": [
      "100%|██████████| 207/207 [01:01<00:00,  3.35it/s]\n",
      "100%|██████████| 25/25 [00:15<00:00,  1.66it/s]\n",
      "100%|██████████| 33/33 [00:09<00:00,  3.40it/s]\n"
     ]
    },
    {
     "name": "stdout",
     "output_type": "stream",
     "text": [
      "1m 26s\n",
      "Consistency Loss declined to 0.04733593389391899\n",
      "Early Stopping Counter = 0\n",
      "Epoch 116/300\n"
     ]
    },
    {
     "name": "stderr",
     "output_type": "stream",
     "text": [
      "100%|██████████| 207/207 [01:01<00:00,  3.36it/s]\n",
      "100%|██████████| 25/25 [00:14<00:00,  1.67it/s]\n",
      "100%|██████████| 33/33 [00:09<00:00,  3.42it/s]\n"
     ]
    },
    {
     "name": "stdout",
     "output_type": "stream",
     "text": [
      "1m 26s\n",
      "Early Stopping Counter = 1\n",
      "Epoch 117/300\n"
     ]
    },
    {
     "name": "stderr",
     "output_type": "stream",
     "text": [
      "100%|██████████| 207/207 [01:01<00:00,  3.37it/s]\n",
      "100%|██████████| 25/25 [00:14<00:00,  1.69it/s]\n",
      "100%|██████████| 33/33 [00:09<00:00,  3.39it/s]\n"
     ]
    },
    {
     "name": "stdout",
     "output_type": "stream",
     "text": [
      "1m 26s\n",
      "Early Stopping Counter = 2\n",
      "Epoch 118/300\n"
     ]
    },
    {
     "name": "stderr",
     "output_type": "stream",
     "text": [
      "100%|██████████| 207/207 [01:01<00:00,  3.36it/s]\n",
      "100%|██████████| 25/25 [00:14<00:00,  1.67it/s]\n",
      "100%|██████████| 33/33 [00:09<00:00,  3.43it/s]\n"
     ]
    },
    {
     "name": "stdout",
     "output_type": "stream",
     "text": [
      "1m 26s\n",
      "Early Stopping Counter = 3\n",
      "Epoch 119/300\n"
     ]
    },
    {
     "name": "stderr",
     "output_type": "stream",
     "text": [
      "100%|██████████| 207/207 [01:01<00:00,  3.35it/s]\n",
      "100%|██████████| 25/25 [00:14<00:00,  1.69it/s]\n",
      "100%|██████████| 33/33 [00:09<00:00,  3.42it/s]\n"
     ]
    },
    {
     "name": "stdout",
     "output_type": "stream",
     "text": [
      "1m 26s\n",
      "Early Stopping Counter = 4\n",
      "Epoch 120/300\n"
     ]
    },
    {
     "name": "stderr",
     "output_type": "stream",
     "text": [
      "100%|██████████| 207/207 [01:01<00:00,  3.35it/s]\n",
      "100%|██████████| 25/25 [00:14<00:00,  1.67it/s]\n",
      "100%|██████████| 33/33 [00:09<00:00,  3.41it/s]\n"
     ]
    },
    {
     "name": "stdout",
     "output_type": "stream",
     "text": [
      "1m 27s\n",
      "Early Stopping Counter = 5\n",
      "Epoch 121/300\n"
     ]
    },
    {
     "name": "stderr",
     "output_type": "stream",
     "text": [
      "100%|██████████| 207/207 [01:01<00:00,  3.34it/s]\n",
      "100%|██████████| 25/25 [00:15<00:00,  1.67it/s]\n",
      "100%|██████████| 33/33 [00:09<00:00,  3.39it/s]\n"
     ]
    },
    {
     "name": "stdout",
     "output_type": "stream",
     "text": [
      "1m 27s\n",
      "Early Stopping Counter = 6\n",
      "Epoch 122/300\n"
     ]
    },
    {
     "name": "stderr",
     "output_type": "stream",
     "text": [
      "100%|██████████| 207/207 [01:01<00:00,  3.35it/s]\n",
      "100%|██████████| 25/25 [00:15<00:00,  1.65it/s]\n",
      "100%|██████████| 33/33 [00:09<00:00,  3.43it/s]\n"
     ]
    },
    {
     "name": "stdout",
     "output_type": "stream",
     "text": [
      "1m 27s\n",
      "Early Stopping Counter = 7\n",
      "Epoch 123/300\n"
     ]
    },
    {
     "name": "stderr",
     "output_type": "stream",
     "text": [
      "100%|██████████| 207/207 [01:01<00:00,  3.36it/s]\n",
      "100%|██████████| 25/25 [00:15<00:00,  1.66it/s]\n",
      "100%|██████████| 33/33 [00:09<00:00,  3.43it/s]\n"
     ]
    },
    {
     "name": "stdout",
     "output_type": "stream",
     "text": [
      "1m 26s\n",
      "Early Stopping Counter = 8\n",
      "Epoch 124/300\n"
     ]
    },
    {
     "name": "stderr",
     "output_type": "stream",
     "text": [
      "100%|██████████| 207/207 [01:01<00:00,  3.36it/s]\n",
      "100%|██████████| 25/25 [00:15<00:00,  1.65it/s]\n",
      "100%|██████████| 33/33 [00:09<00:00,  3.43it/s]\n"
     ]
    },
    {
     "name": "stdout",
     "output_type": "stream",
     "text": [
      "1m 26s\n",
      "Consistency Loss declined to 0.04680525839328766\n",
      "Early Stopping Counter = 0\n",
      "Epoch 125/300\n"
     ]
    },
    {
     "name": "stderr",
     "output_type": "stream",
     "text": [
      "100%|██████████| 207/207 [01:01<00:00,  3.37it/s]\n",
      "100%|██████████| 25/25 [00:14<00:00,  1.68it/s]\n",
      "100%|██████████| 33/33 [00:09<00:00,  3.41it/s]\n"
     ]
    },
    {
     "name": "stdout",
     "output_type": "stream",
     "text": [
      "1m 26s\n",
      "Consistency Loss declined to 0.04583190843462944\n",
      "Early Stopping Counter = 0\n",
      "Epoch 126/300\n"
     ]
    },
    {
     "name": "stderr",
     "output_type": "stream",
     "text": [
      "100%|██████████| 207/207 [01:01<00:00,  3.35it/s]\n",
      "100%|██████████| 25/25 [00:15<00:00,  1.66it/s]\n",
      "100%|██████████| 33/33 [00:09<00:00,  3.45it/s]\n"
     ]
    },
    {
     "name": "stdout",
     "output_type": "stream",
     "text": [
      "1m 26s\n",
      "Consistency Loss declined to 0.04317395150661468\n",
      "Early Stopping Counter = 0\n",
      "Epoch 127/300\n"
     ]
    },
    {
     "name": "stderr",
     "output_type": "stream",
     "text": [
      "100%|██████████| 207/207 [01:01<00:00,  3.34it/s]\n",
      "100%|██████████| 25/25 [00:14<00:00,  1.67it/s]\n",
      "100%|██████████| 33/33 [00:09<00:00,  3.40it/s]\n"
     ]
    },
    {
     "name": "stdout",
     "output_type": "stream",
     "text": [
      "1m 27s\n",
      "Early Stopping Counter = 1\n",
      "Epoch 128/300\n"
     ]
    },
    {
     "name": "stderr",
     "output_type": "stream",
     "text": [
      "100%|██████████| 207/207 [01:01<00:00,  3.38it/s]\n",
      "100%|██████████| 25/25 [00:14<00:00,  1.68it/s]\n",
      "100%|██████████| 33/33 [00:09<00:00,  3.47it/s]\n"
     ]
    },
    {
     "name": "stdout",
     "output_type": "stream",
     "text": [
      "1m 26s\n",
      "Early Stopping Counter = 2\n",
      "Epoch 129/300\n"
     ]
    },
    {
     "name": "stderr",
     "output_type": "stream",
     "text": [
      "100%|██████████| 207/207 [01:01<00:00,  3.37it/s]\n",
      "100%|██████████| 25/25 [00:15<00:00,  1.65it/s]\n",
      "100%|██████████| 33/33 [00:09<00:00,  3.40it/s]\n"
     ]
    },
    {
     "name": "stdout",
     "output_type": "stream",
     "text": [
      "1m 26s\n",
      "Early Stopping Counter = 3\n",
      "Epoch 130/300\n"
     ]
    },
    {
     "name": "stderr",
     "output_type": "stream",
     "text": [
      "100%|██████████| 207/207 [01:01<00:00,  3.35it/s]\n",
      "100%|██████████| 25/25 [00:15<00:00,  1.66it/s]\n",
      "100%|██████████| 33/33 [00:09<00:00,  3.38it/s]\n"
     ]
    },
    {
     "name": "stdout",
     "output_type": "stream",
     "text": [
      "1m 27s\n",
      "Early Stopping Counter = 4\n",
      "Epoch 131/300\n"
     ]
    },
    {
     "name": "stderr",
     "output_type": "stream",
     "text": [
      "100%|██████████| 207/207 [01:01<00:00,  3.35it/s]\n",
      "100%|██████████| 25/25 [00:14<00:00,  1.68it/s]\n",
      "100%|██████████| 33/33 [00:09<00:00,  3.42it/s]\n"
     ]
    },
    {
     "name": "stdout",
     "output_type": "stream",
     "text": [
      "1m 26s\n",
      "Early Stopping Counter = 5\n",
      "Epoch 132/300\n"
     ]
    },
    {
     "name": "stderr",
     "output_type": "stream",
     "text": [
      "100%|██████████| 207/207 [01:01<00:00,  3.35it/s]\n",
      "100%|██████████| 25/25 [00:14<00:00,  1.68it/s]\n",
      "100%|██████████| 33/33 [00:09<00:00,  3.41it/s]\n"
     ]
    },
    {
     "name": "stdout",
     "output_type": "stream",
     "text": [
      "1m 26s\n",
      "Early Stopping Counter = 6\n",
      "Epoch 133/300\n"
     ]
    },
    {
     "name": "stderr",
     "output_type": "stream",
     "text": [
      "100%|██████████| 207/207 [01:01<00:00,  3.36it/s]\n",
      "100%|██████████| 25/25 [00:14<00:00,  1.67it/s]\n",
      "100%|██████████| 33/33 [00:09<00:00,  3.48it/s]\n"
     ]
    },
    {
     "name": "stdout",
     "output_type": "stream",
     "text": [
      "1m 26s\n",
      "Early Stopping Counter = 7\n",
      "Epoch 134/300\n"
     ]
    },
    {
     "name": "stderr",
     "output_type": "stream",
     "text": [
      "100%|██████████| 207/207 [01:01<00:00,  3.35it/s]\n",
      "100%|██████████| 25/25 [00:14<00:00,  1.69it/s]\n",
      "100%|██████████| 33/33 [00:09<00:00,  3.45it/s]\n"
     ]
    },
    {
     "name": "stdout",
     "output_type": "stream",
     "text": [
      "1m 26s\n",
      "Consistency Loss declined to 0.04289225295186043\n",
      "Early Stopping Counter = 0\n",
      "Epoch 135/300\n"
     ]
    },
    {
     "name": "stderr",
     "output_type": "stream",
     "text": [
      "100%|██████████| 207/207 [01:01<00:00,  3.37it/s]\n",
      "100%|██████████| 25/25 [00:14<00:00,  1.69it/s]\n",
      "100%|██████████| 33/33 [00:09<00:00,  3.40it/s]\n"
     ]
    },
    {
     "name": "stdout",
     "output_type": "stream",
     "text": [
      "1m 26s\n",
      "Early Stopping Counter = 1\n",
      "Epoch 136/300\n"
     ]
    },
    {
     "name": "stderr",
     "output_type": "stream",
     "text": [
      "100%|██████████| 207/207 [01:01<00:00,  3.36it/s]\n",
      "100%|██████████| 25/25 [00:14<00:00,  1.68it/s]\n",
      "100%|██████████| 33/33 [00:09<00:00,  3.43it/s]\n"
     ]
    },
    {
     "name": "stdout",
     "output_type": "stream",
     "text": [
      "1m 26s\n",
      "Early Stopping Counter = 2\n",
      "Epoch 137/300\n"
     ]
    },
    {
     "name": "stderr",
     "output_type": "stream",
     "text": [
      "100%|██████████| 207/207 [01:01<00:00,  3.36it/s]\n",
      "100%|██████████| 25/25 [00:15<00:00,  1.66it/s]\n",
      "100%|██████████| 33/33 [00:09<00:00,  3.46it/s]\n"
     ]
    },
    {
     "name": "stdout",
     "output_type": "stream",
     "text": [
      "1m 26s\n",
      "Early Stopping Counter = 3\n",
      "Epoch 138/300\n"
     ]
    },
    {
     "name": "stderr",
     "output_type": "stream",
     "text": [
      "100%|██████████| 207/207 [01:01<00:00,  3.34it/s]\n",
      "100%|██████████| 25/25 [00:14<00:00,  1.67it/s]\n",
      "100%|██████████| 33/33 [00:09<00:00,  3.42it/s]\n"
     ]
    },
    {
     "name": "stdout",
     "output_type": "stream",
     "text": [
      "1m 27s\n",
      "Early Stopping Counter = 4\n",
      "Epoch 139/300\n"
     ]
    },
    {
     "name": "stderr",
     "output_type": "stream",
     "text": [
      "100%|██████████| 207/207 [01:01<00:00,  3.34it/s]\n",
      "100%|██████████| 25/25 [00:14<00:00,  1.67it/s]\n",
      "100%|██████████| 33/33 [00:09<00:00,  3.43it/s]\n"
     ]
    },
    {
     "name": "stdout",
     "output_type": "stream",
     "text": [
      "1m 27s\n",
      "Consistency Loss declined to 0.040881223231554034\n",
      "Early Stopping Counter = 0\n",
      "Epoch 140/300\n"
     ]
    },
    {
     "name": "stderr",
     "output_type": "stream",
     "text": [
      "100%|██████████| 207/207 [01:01<00:00,  3.35it/s]\n",
      "100%|██████████| 25/25 [00:14<00:00,  1.69it/s]\n",
      "100%|██████████| 33/33 [00:09<00:00,  3.44it/s]\n"
     ]
    },
    {
     "name": "stdout",
     "output_type": "stream",
     "text": [
      "1m 26s\n",
      "Consistency Loss declined to 0.040547645539045336\n",
      "Early Stopping Counter = 0\n",
      "Epoch 141/300\n"
     ]
    },
    {
     "name": "stderr",
     "output_type": "stream",
     "text": [
      "100%|██████████| 207/207 [01:01<00:00,  3.35it/s]\n",
      "100%|██████████| 25/25 [00:15<00:00,  1.66it/s]\n",
      "100%|██████████| 33/33 [00:09<00:00,  3.34it/s]\n"
     ]
    },
    {
     "name": "stdout",
     "output_type": "stream",
     "text": [
      "1m 27s\n",
      "Consistency Loss declined to 0.039474793672561646\n",
      "Early Stopping Counter = 0\n",
      "Epoch 142/300\n"
     ]
    },
    {
     "name": "stderr",
     "output_type": "stream",
     "text": [
      "100%|██████████| 207/207 [01:01<00:00,  3.37it/s]\n",
      "100%|██████████| 25/25 [00:14<00:00,  1.69it/s]\n",
      "100%|██████████| 33/33 [00:09<00:00,  3.45it/s]\n"
     ]
    },
    {
     "name": "stdout",
     "output_type": "stream",
     "text": [
      "1m 26s\n",
      "Early Stopping Counter = 1\n",
      "Epoch 143/300\n"
     ]
    },
    {
     "name": "stderr",
     "output_type": "stream",
     "text": [
      "100%|██████████| 207/207 [01:01<00:00,  3.36it/s]\n",
      "100%|██████████| 25/25 [00:15<00:00,  1.66it/s]\n",
      "100%|██████████| 33/33 [00:09<00:00,  3.41it/s]\n"
     ]
    },
    {
     "name": "stdout",
     "output_type": "stream",
     "text": [
      "1m 26s\n",
      "Early Stopping Counter = 2\n",
      "Epoch 144/300\n"
     ]
    },
    {
     "name": "stderr",
     "output_type": "stream",
     "text": [
      "100%|██████████| 207/207 [01:01<00:00,  3.36it/s]\n",
      "100%|██████████| 25/25 [00:14<00:00,  1.69it/s]\n",
      "100%|██████████| 33/33 [00:09<00:00,  3.45it/s]\n"
     ]
    },
    {
     "name": "stdout",
     "output_type": "stream",
     "text": [
      "1m 26s\n",
      "Consistency Loss declined to 0.03925536304712295\n",
      "Early Stopping Counter = 0\n",
      "Epoch 145/300\n"
     ]
    },
    {
     "name": "stderr",
     "output_type": "stream",
     "text": [
      "100%|██████████| 207/207 [01:01<00:00,  3.37it/s]\n",
      "100%|██████████| 25/25 [00:14<00:00,  1.70it/s]\n",
      "100%|██████████| 33/33 [00:09<00:00,  3.45it/s]\n"
     ]
    },
    {
     "name": "stdout",
     "output_type": "stream",
     "text": [
      "1m 26s\n",
      "Early Stopping Counter = 1\n",
      "Epoch 146/300\n"
     ]
    },
    {
     "name": "stderr",
     "output_type": "stream",
     "text": [
      "100%|██████████| 207/207 [01:01<00:00,  3.36it/s]\n",
      "100%|██████████| 25/25 [00:15<00:00,  1.65it/s]\n",
      "100%|██████████| 33/33 [00:09<00:00,  3.43it/s]\n"
     ]
    },
    {
     "name": "stdout",
     "output_type": "stream",
     "text": [
      "1m 26s\n",
      "Early Stopping Counter = 2\n",
      "Epoch 147/300\n"
     ]
    },
    {
     "name": "stderr",
     "output_type": "stream",
     "text": [
      "100%|██████████| 207/207 [01:01<00:00,  3.35it/s]\n",
      "100%|██████████| 25/25 [00:14<00:00,  1.67it/s]\n",
      "100%|██████████| 33/33 [00:09<00:00,  3.45it/s]\n"
     ]
    },
    {
     "name": "stdout",
     "output_type": "stream",
     "text": [
      "1m 26s\n",
      "Early Stopping Counter = 3\n",
      "Epoch 148/300\n"
     ]
    },
    {
     "name": "stderr",
     "output_type": "stream",
     "text": [
      "100%|██████████| 207/207 [01:01<00:00,  3.35it/s]\n",
      " 40%|████      | 10/25 [00:06<00:09,  1.53it/s]\n"
     ]
    },
    {
     "ename": "KeyboardInterrupt",
     "evalue": "",
     "output_type": "error",
     "traceback": [
      "\u001b[0;31m---------------------------------------------------------------------------\u001b[0m",
      "\u001b[0;31mKeyboardInterrupt\u001b[0m                         Traceback (most recent call last)",
      "Cell \u001b[0;32mIn[5], line 17\u001b[0m\n\u001b[1;32m     15\u001b[0m     save_mask(former_folname\u001b[38;5;241m=\u001b[39m\u001b[38;5;124m\"\u001b[39m\u001b[38;5;124mhoge\u001b[39m\u001b[38;5;124m\"\u001b[39m, folname\u001b[38;5;241m=\u001b[39mfolnames[i], net\u001b[38;5;241m=\u001b[39m\u001b[38;5;124m\"\u001b[39m\u001b[38;5;124mdeeplab\u001b[39m\u001b[38;5;124m\"\u001b[39m, batch_size\u001b[38;5;241m=\u001b[39m\u001b[38;5;241m64\u001b[39m, save_num\u001b[38;5;241m=\u001b[39m\u001b[38;5;28;01mNone\u001b[39;00m)\n\u001b[1;32m     16\u001b[0m \u001b[38;5;28;01melse\u001b[39;00m:\n\u001b[0;32m---> 17\u001b[0m     \u001b[43mtrain\u001b[49m\u001b[43m(\u001b[49m\u001b[43mformer_folname\u001b[49m\u001b[38;5;241;43m=\u001b[39;49m\u001b[43mfolnames\u001b[49m\u001b[43m[\u001b[49m\u001b[43mi\u001b[49m\u001b[38;5;241;43m-\u001b[39;49m\u001b[38;5;241;43m1\u001b[39;49m\u001b[43m]\u001b[49m\u001b[43m,\u001b[49m\u001b[43m \u001b[49m\u001b[43mfolname\u001b[49m\u001b[38;5;241;43m=\u001b[39;49m\u001b[43mfolnames\u001b[49m\u001b[43m[\u001b[49m\u001b[43mi\u001b[49m\u001b[43m]\u001b[49m\u001b[43m,\u001b[49m\u001b[43m \u001b[49m\u001b[43mfirst\u001b[49m\u001b[38;5;241;43m=\u001b[39;49m\u001b[38;5;28;43;01mFalse\u001b[39;49;00m\u001b[43m,\u001b[49m\u001b[43m \u001b[49m\u001b[43mnet\u001b[49m\u001b[38;5;241;43m=\u001b[39;49m\u001b[38;5;124;43m\"\u001b[39;49m\u001b[38;5;124;43mdeeplab\u001b[39;49m\u001b[38;5;124;43m\"\u001b[39;49m\u001b[43m,\u001b[49m\u001b[43m \u001b[49m\u001b[43mepochs\u001b[49m\u001b[38;5;241;43m=\u001b[39;49m\u001b[38;5;241;43m300\u001b[39;49m\u001b[43m,\u001b[49m\u001b[43m \u001b[49m\u001b[43mbatch_size\u001b[49m\u001b[38;5;241;43m=\u001b[39;49m\u001b[38;5;241;43m64\u001b[39;49m\u001b[43m,\u001b[49m\u001b[43m \u001b[49m\u001b[43malpha\u001b[49m\u001b[38;5;241;43m=\u001b[39;49m\u001b[38;5;241;43m100\u001b[39;49m\u001b[43m,\u001b[49m\u001b[43m \u001b[49m\u001b[43mcons_reg\u001b[49m\u001b[38;5;241;43m=\u001b[39;49m\u001b[38;5;28;43;01mFalse\u001b[39;49;00m\u001b[43m)\u001b[49m\n\u001b[1;32m     18\u001b[0m     scores \u001b[38;5;241m=\u001b[39m inference(former_folname\u001b[38;5;241m=\u001b[39mfolnames[i\u001b[38;5;241m-\u001b[39m\u001b[38;5;241m1\u001b[39m], folname\u001b[38;5;241m=\u001b[39mfolnames[i], net\u001b[38;5;241m=\u001b[39m\u001b[38;5;124m\"\u001b[39m\u001b[38;5;124mdeeplab\u001b[39m\u001b[38;5;124m\"\u001b[39m, batch_size\u001b[38;5;241m=\u001b[39m\u001b[38;5;241m64\u001b[39m)\n\u001b[1;32m     19\u001b[0m     write_to_csv(i\u001b[38;5;241m+\u001b[39m\u001b[38;5;241m1\u001b[39m, scores, csv_filename)\n",
      "File \u001b[0;32m~/domain-adaptation-for-crack-segmentation/train.py:98\u001b[0m, in \u001b[0;36mtrain\u001b[0;34m(former_folname, folname, first, net, batch_size, num_workers, epochs, alpha, beta, crop_size, supervised, cons_reg)\u001b[0m\n\u001b[1;32m     95\u001b[0m     running_train_loss\u001b[38;5;241m.\u001b[39mappend(loss\u001b[38;5;241m.\u001b[39mitem())\n\u001b[1;32m     97\u001b[0m \u001b[38;5;28;01mif\u001b[39;00m \u001b[38;5;129;01mnot\u001b[39;00m first:\n\u001b[0;32m---> 98\u001b[0m     \u001b[38;5;28;01mfor\u001b[39;00m image, mean, var \u001b[38;5;129;01min\u001b[39;00m tqdm(train_unlabeled_dataloader):\n\u001b[1;32m     99\u001b[0m         image \u001b[38;5;241m=\u001b[39m image\u001b[38;5;241m.\u001b[39mto(device,dtype\u001b[38;5;241m=\u001b[39mtorch\u001b[38;5;241m.\u001b[39mfloat)\n\u001b[1;32m    100\u001b[0m         mean \u001b[38;5;241m=\u001b[39m mean\u001b[38;5;241m.\u001b[39mto(device,dtype\u001b[38;5;241m=\u001b[39mtorch\u001b[38;5;241m.\u001b[39mfloat)\n",
      "File \u001b[0;32m~/domain-adaptation-for-crack-segmentation/env/lib/python3.10/site-packages/tqdm/std.py:1182\u001b[0m, in \u001b[0;36mtqdm.__iter__\u001b[0;34m(self)\u001b[0m\n\u001b[1;32m   1179\u001b[0m time \u001b[38;5;241m=\u001b[39m \u001b[38;5;28mself\u001b[39m\u001b[38;5;241m.\u001b[39m_time\n\u001b[1;32m   1181\u001b[0m \u001b[38;5;28;01mtry\u001b[39;00m:\n\u001b[0;32m-> 1182\u001b[0m     \u001b[38;5;28;01mfor\u001b[39;00m obj \u001b[38;5;129;01min\u001b[39;00m iterable:\n\u001b[1;32m   1183\u001b[0m         \u001b[38;5;28;01myield\u001b[39;00m obj\n\u001b[1;32m   1184\u001b[0m         \u001b[38;5;66;03m# Update and possibly print the progressbar.\u001b[39;00m\n\u001b[1;32m   1185\u001b[0m         \u001b[38;5;66;03m# Note: does not call self.update(1) for speed optimisation.\u001b[39;00m\n",
      "File \u001b[0;32m~/domain-adaptation-for-crack-segmentation/env/lib/python3.10/site-packages/torch/utils/data/dataloader.py:630\u001b[0m, in \u001b[0;36m_BaseDataLoaderIter.__next__\u001b[0;34m(self)\u001b[0m\n\u001b[1;32m    627\u001b[0m \u001b[38;5;28;01mif\u001b[39;00m \u001b[38;5;28mself\u001b[39m\u001b[38;5;241m.\u001b[39m_sampler_iter \u001b[38;5;129;01mis\u001b[39;00m \u001b[38;5;28;01mNone\u001b[39;00m:\n\u001b[1;32m    628\u001b[0m     \u001b[38;5;66;03m# TODO(https://github.com/pytorch/pytorch/issues/76750)\u001b[39;00m\n\u001b[1;32m    629\u001b[0m     \u001b[38;5;28mself\u001b[39m\u001b[38;5;241m.\u001b[39m_reset()  \u001b[38;5;66;03m# type: ignore[call-arg]\u001b[39;00m\n\u001b[0;32m--> 630\u001b[0m data \u001b[38;5;241m=\u001b[39m \u001b[38;5;28;43mself\u001b[39;49m\u001b[38;5;241;43m.\u001b[39;49m\u001b[43m_next_data\u001b[49m\u001b[43m(\u001b[49m\u001b[43m)\u001b[49m\n\u001b[1;32m    631\u001b[0m \u001b[38;5;28mself\u001b[39m\u001b[38;5;241m.\u001b[39m_num_yielded \u001b[38;5;241m+\u001b[39m\u001b[38;5;241m=\u001b[39m \u001b[38;5;241m1\u001b[39m\n\u001b[1;32m    632\u001b[0m \u001b[38;5;28;01mif\u001b[39;00m \u001b[38;5;28mself\u001b[39m\u001b[38;5;241m.\u001b[39m_dataset_kind \u001b[38;5;241m==\u001b[39m _DatasetKind\u001b[38;5;241m.\u001b[39mIterable \u001b[38;5;129;01mand\u001b[39;00m \\\n\u001b[1;32m    633\u001b[0m         \u001b[38;5;28mself\u001b[39m\u001b[38;5;241m.\u001b[39m_IterableDataset_len_called \u001b[38;5;129;01mis\u001b[39;00m \u001b[38;5;129;01mnot\u001b[39;00m \u001b[38;5;28;01mNone\u001b[39;00m \u001b[38;5;129;01mand\u001b[39;00m \\\n\u001b[1;32m    634\u001b[0m         \u001b[38;5;28mself\u001b[39m\u001b[38;5;241m.\u001b[39m_num_yielded \u001b[38;5;241m>\u001b[39m \u001b[38;5;28mself\u001b[39m\u001b[38;5;241m.\u001b[39m_IterableDataset_len_called:\n",
      "File \u001b[0;32m~/domain-adaptation-for-crack-segmentation/env/lib/python3.10/site-packages/torch/utils/data/dataloader.py:1328\u001b[0m, in \u001b[0;36m_MultiProcessingDataLoaderIter._next_data\u001b[0;34m(self)\u001b[0m\n\u001b[1;32m   1325\u001b[0m     \u001b[38;5;28;01mreturn\u001b[39;00m \u001b[38;5;28mself\u001b[39m\u001b[38;5;241m.\u001b[39m_process_data(data)\n\u001b[1;32m   1327\u001b[0m \u001b[38;5;28;01massert\u001b[39;00m \u001b[38;5;129;01mnot\u001b[39;00m \u001b[38;5;28mself\u001b[39m\u001b[38;5;241m.\u001b[39m_shutdown \u001b[38;5;129;01mand\u001b[39;00m \u001b[38;5;28mself\u001b[39m\u001b[38;5;241m.\u001b[39m_tasks_outstanding \u001b[38;5;241m>\u001b[39m \u001b[38;5;241m0\u001b[39m\n\u001b[0;32m-> 1328\u001b[0m idx, data \u001b[38;5;241m=\u001b[39m \u001b[38;5;28;43mself\u001b[39;49m\u001b[38;5;241;43m.\u001b[39;49m\u001b[43m_get_data\u001b[49m\u001b[43m(\u001b[49m\u001b[43m)\u001b[49m\n\u001b[1;32m   1329\u001b[0m \u001b[38;5;28mself\u001b[39m\u001b[38;5;241m.\u001b[39m_tasks_outstanding \u001b[38;5;241m-\u001b[39m\u001b[38;5;241m=\u001b[39m \u001b[38;5;241m1\u001b[39m\n\u001b[1;32m   1330\u001b[0m \u001b[38;5;28;01mif\u001b[39;00m \u001b[38;5;28mself\u001b[39m\u001b[38;5;241m.\u001b[39m_dataset_kind \u001b[38;5;241m==\u001b[39m _DatasetKind\u001b[38;5;241m.\u001b[39mIterable:\n\u001b[1;32m   1331\u001b[0m     \u001b[38;5;66;03m# Check for _IterableDatasetStopIteration\u001b[39;00m\n",
      "File \u001b[0;32m~/domain-adaptation-for-crack-segmentation/env/lib/python3.10/site-packages/torch/utils/data/dataloader.py:1284\u001b[0m, in \u001b[0;36m_MultiProcessingDataLoaderIter._get_data\u001b[0;34m(self)\u001b[0m\n\u001b[1;32m   1282\u001b[0m \u001b[38;5;28;01melif\u001b[39;00m \u001b[38;5;28mself\u001b[39m\u001b[38;5;241m.\u001b[39m_pin_memory:\n\u001b[1;32m   1283\u001b[0m     \u001b[38;5;28;01mwhile\u001b[39;00m \u001b[38;5;28mself\u001b[39m\u001b[38;5;241m.\u001b[39m_pin_memory_thread\u001b[38;5;241m.\u001b[39mis_alive():\n\u001b[0;32m-> 1284\u001b[0m         success, data \u001b[38;5;241m=\u001b[39m \u001b[38;5;28;43mself\u001b[39;49m\u001b[38;5;241;43m.\u001b[39;49m\u001b[43m_try_get_data\u001b[49m\u001b[43m(\u001b[49m\u001b[43m)\u001b[49m\n\u001b[1;32m   1285\u001b[0m         \u001b[38;5;28;01mif\u001b[39;00m success:\n\u001b[1;32m   1286\u001b[0m             \u001b[38;5;28;01mreturn\u001b[39;00m data\n",
      "File \u001b[0;32m~/domain-adaptation-for-crack-segmentation/env/lib/python3.10/site-packages/torch/utils/data/dataloader.py:1132\u001b[0m, in \u001b[0;36m_MultiProcessingDataLoaderIter._try_get_data\u001b[0;34m(self, timeout)\u001b[0m\n\u001b[1;32m   1119\u001b[0m \u001b[38;5;28;01mdef\u001b[39;00m \u001b[38;5;21m_try_get_data\u001b[39m(\u001b[38;5;28mself\u001b[39m, timeout\u001b[38;5;241m=\u001b[39m_utils\u001b[38;5;241m.\u001b[39mMP_STATUS_CHECK_INTERVAL):\n\u001b[1;32m   1120\u001b[0m     \u001b[38;5;66;03m# Tries to fetch data from `self._data_queue` once for a given timeout.\u001b[39;00m\n\u001b[1;32m   1121\u001b[0m     \u001b[38;5;66;03m# This can also be used as inner loop of fetching without timeout, with\u001b[39;00m\n\u001b[0;32m   (...)\u001b[0m\n\u001b[1;32m   1129\u001b[0m     \u001b[38;5;66;03m# Returns a 2-tuple:\u001b[39;00m\n\u001b[1;32m   1130\u001b[0m     \u001b[38;5;66;03m#   (bool: whether successfully get data, any: data if successful else None)\u001b[39;00m\n\u001b[1;32m   1131\u001b[0m     \u001b[38;5;28;01mtry\u001b[39;00m:\n\u001b[0;32m-> 1132\u001b[0m         data \u001b[38;5;241m=\u001b[39m \u001b[38;5;28;43mself\u001b[39;49m\u001b[38;5;241;43m.\u001b[39;49m\u001b[43m_data_queue\u001b[49m\u001b[38;5;241;43m.\u001b[39;49m\u001b[43mget\u001b[49m\u001b[43m(\u001b[49m\u001b[43mtimeout\u001b[49m\u001b[38;5;241;43m=\u001b[39;49m\u001b[43mtimeout\u001b[49m\u001b[43m)\u001b[49m\n\u001b[1;32m   1133\u001b[0m         \u001b[38;5;28;01mreturn\u001b[39;00m (\u001b[38;5;28;01mTrue\u001b[39;00m, data)\n\u001b[1;32m   1134\u001b[0m     \u001b[38;5;28;01mexcept\u001b[39;00m \u001b[38;5;167;01mException\u001b[39;00m \u001b[38;5;28;01mas\u001b[39;00m e:\n\u001b[1;32m   1135\u001b[0m         \u001b[38;5;66;03m# At timeout and error, we manually check whether any worker has\u001b[39;00m\n\u001b[1;32m   1136\u001b[0m         \u001b[38;5;66;03m# failed. Note that this is the only mechanism for Windows to detect\u001b[39;00m\n\u001b[1;32m   1137\u001b[0m         \u001b[38;5;66;03m# worker failures.\u001b[39;00m\n",
      "File \u001b[0;32m/opt/conda/lib/python3.10/queue.py:180\u001b[0m, in \u001b[0;36mQueue.get\u001b[0;34m(self, block, timeout)\u001b[0m\n\u001b[1;32m    178\u001b[0m         \u001b[38;5;28;01mif\u001b[39;00m remaining \u001b[38;5;241m<\u001b[39m\u001b[38;5;241m=\u001b[39m \u001b[38;5;241m0.0\u001b[39m:\n\u001b[1;32m    179\u001b[0m             \u001b[38;5;28;01mraise\u001b[39;00m Empty\n\u001b[0;32m--> 180\u001b[0m         \u001b[38;5;28;43mself\u001b[39;49m\u001b[38;5;241;43m.\u001b[39;49m\u001b[43mnot_empty\u001b[49m\u001b[38;5;241;43m.\u001b[39;49m\u001b[43mwait\u001b[49m\u001b[43m(\u001b[49m\u001b[43mremaining\u001b[49m\u001b[43m)\u001b[49m\n\u001b[1;32m    181\u001b[0m item \u001b[38;5;241m=\u001b[39m \u001b[38;5;28mself\u001b[39m\u001b[38;5;241m.\u001b[39m_get()\n\u001b[1;32m    182\u001b[0m \u001b[38;5;28mself\u001b[39m\u001b[38;5;241m.\u001b[39mnot_full\u001b[38;5;241m.\u001b[39mnotify()\n",
      "File \u001b[0;32m/opt/conda/lib/python3.10/threading.py:324\u001b[0m, in \u001b[0;36mCondition.wait\u001b[0;34m(self, timeout)\u001b[0m\n\u001b[1;32m    322\u001b[0m \u001b[38;5;28;01melse\u001b[39;00m:\n\u001b[1;32m    323\u001b[0m     \u001b[38;5;28;01mif\u001b[39;00m timeout \u001b[38;5;241m>\u001b[39m \u001b[38;5;241m0\u001b[39m:\n\u001b[0;32m--> 324\u001b[0m         gotit \u001b[38;5;241m=\u001b[39m \u001b[43mwaiter\u001b[49m\u001b[38;5;241;43m.\u001b[39;49m\u001b[43macquire\u001b[49m\u001b[43m(\u001b[49m\u001b[38;5;28;43;01mTrue\u001b[39;49;00m\u001b[43m,\u001b[49m\u001b[43m \u001b[49m\u001b[43mtimeout\u001b[49m\u001b[43m)\u001b[49m\n\u001b[1;32m    325\u001b[0m     \u001b[38;5;28;01melse\u001b[39;00m:\n\u001b[1;32m    326\u001b[0m         gotit \u001b[38;5;241m=\u001b[39m waiter\u001b[38;5;241m.\u001b[39macquire(\u001b[38;5;28;01mFalse\u001b[39;00m)\n",
      "\u001b[0;31mKeyboardInterrupt\u001b[0m: "
     ]
    }
   ],
   "source": [
    "# Uncertainty-based Self-Training\n",
    "project = \"240107\"\n",
    "folnames = [project+\"_iter1\", project+\"_iter2\", project+\"_iter3\", project+\"_iter4\", project+\"_iter5\"]\n",
    "os.makedirs('results/'+ project +'_results', exist_ok=True)\n",
    "csv_filename = 'results/'+project+'_results/results.csv'\n",
    "with open(csv_filename, mode='w', newline='') as file:\n",
    "    writer = csv.writer(file)\n",
    "    writer.writerow(['Iteration', 'F1-Score', 'Accuracy', 'Specificity', 'Recall', 'Precision'])\n",
    "\n",
    "for i in range(len(folnames)):\n",
    "    if i==0:\n",
    "        # train(former_folname=\"hoge\", folname=folnames[i], first=True, net=\"deeplab\", epochs=300, batch_size=64, cons_reg=False)\n",
    "        scores = inference(former_folname=\"hoge\", folname=folnames[i], net=\"deeplab\", batch_size=64)\n",
    "        write_to_csv(i+1, scores, csv_filename)\n",
    "        save_mask(former_folname=\"hoge\", folname=folnames[i], net=\"deeplab\", batch_size=64, save_num=None)\n",
    "    else:\n",
    "        train(former_folname=folnames[i-1], folname=folnames[i], first=False, net=\"deeplab\", epochs=300, batch_size=64, alpha=100, cons_reg=False)\n",
    "        scores = inference(former_folname=folnames[i-1], folname=folnames[i], net=\"deeplab\", batch_size=64)\n",
    "        write_to_csv(i+1, scores, csv_filename)\n",
    "        save_mask(former_folname=folnames[i-1], folname=folnames[i], net=\"deeplab\", batch_size=64, save_num=None)"
   ]
  },
  {
   "cell_type": "code",
   "execution_count": null,
   "metadata": {},
   "outputs": [],
   "source": [
    "# Supervised Learning\n",
    "project = \"231111sup\"\n",
    "folname = project + '_iter1'\n",
    "os.makedirs('results/'+ project +'_results', exist_ok=True)\n",
    "csv_filename = 'results/'+project+'_results/results.csv'\n",
    "with open(csv_filename, mode='w', newline='') as file:\n",
    "    writer = csv.writer(file)\n",
    "    writer.writerow(['Iteration', 'F1-Score', 'Accuracy', 'Specificity', 'Recall', 'Precision'])\n",
    "\n",
    "train(former_folname=\"hoge\", folname=folname, first=True, net=\"deeplab\", epochs=1000, batch_size=64, supervised=True)\n",
    "scores = inference(former_folname=\"hoge\", folname=folname, net=\"deeplab\", batch_size=64, supervised=True)\n",
    "write_to_csv(1, scores, csv_filename)"
   ]
  },
  {
   "cell_type": "code",
   "execution_count": null,
   "metadata": {},
   "outputs": [],
   "source": []
  },
  {
   "cell_type": "code",
   "execution_count": null,
   "metadata": {},
   "outputs": [],
   "source": [
    "import random\n",
    "\n",
    "# ランダムな並びの情報を保存\n",
    "shuffle_indices = list(range(5292))\n",
    "random.shuffle(shuffle_indices)\n",
    "\n",
    "# shuffle_indicesをファイルに保存するなど、情報を保存する方法を選びます\n",
    "with open(\"shuffle_indices.txt\", \"w\") as file:\n",
    "    file.write(\" \".join(map(str, shuffle_indices)))"
   ]
  },
  {
   "cell_type": "code",
   "execution_count": null,
   "metadata": {},
   "outputs": [],
   "source": [
    "meanlst = os.listdir(\"data/unlabeled_mask/231021_iter1/pred_mean_corrected/\")\n",
    "varlst = os.listdir(\"data/unlabeled_mask/231021_iter1/pred_var/\")\n",
    "print(len(meanlst))\n",
    "print(len(varlst))"
   ]
  },
  {
   "cell_type": "code",
   "execution_count": null,
   "metadata": {},
   "outputs": [],
   "source": [
    "import numpy as np\n",
    "from PIL import Image\n",
    "meanlst = os.listdir(\"data/unlabeled_mask/231021_iter1/pred_mean_corrected/\")\n",
    "varlst = os.listdir(\"data/unlabeled_mask/231021_iter1/pred_var/\")\n",
    "\n",
    "# # 各画像を処理\n",
    "for file_name in meanlst:\n",
    "    file_path = os.path.join(\"data/unlabeled_mask/231021_iter1/pred_mean_corrected\", file_name)\n",
    "    \n",
    "    # 画像をnumpy配列に読み込む\n",
    "    img = np.array(Image.open(file_path))\n",
    "    \n",
    "    # 画像サイズが256x256でない場合、警告を表示\n",
    "    if img.shape != (256, 256):\n",
    "        print(f\"異なるサイズの画像: {file_name}, サイズ: {img.shape}\")"
   ]
  },
  {
   "cell_type": "code",
   "execution_count": null,
   "metadata": {},
   "outputs": [],
   "source": [
    "import os\n",
    "import torch\n",
    "\n",
    "# フォルダのパス\n",
    "folder_path = \"data/unlabeled_mask/231021_iter1/pred_var/\"\n",
    "\n",
    "# フォルダ内の全ての.ptファイルをリストアップ\n",
    "pt_files = [f for f in os.listdir(folder_path) if f.endswith(\".pt\")]\n",
    "\n",
    "# 各ファイルを処理\n",
    "for file_name in pt_files:\n",
    "    file_path = os.path.join(folder_path, file_name)\n",
    "    \n",
    "    # PyTorch tensorを読み込む\n",
    "    tensor = torch.load(file_path)\n",
    "    \n",
    "    # 配列サイズが(256, 256)でない場合、警告を表示\n",
    "    if tensor.size() != torch.Size([256, 256]):\n",
    "        print(f\"異なるサイズのPyTorch tensor: {file_name}, サイズ: {tensor.size()}\")\n"
   ]
  },
  {
   "cell_type": "code",
   "execution_count": null,
   "metadata": {},
   "outputs": [],
   "source": [
    "import torch\n",
    "import glob\n",
    "\n",
    "fol_name = \"231107_iter3\"\n",
    "\n",
    "# pred_varを全て読み込み、torch.meanとtorch.maxの平均を計算する\n",
    "pred_var_path = sorted(glob.glob(f'data/unlabeled_mask/{fol_name}/pred_var/*'))\n",
    "mean_box = []\n",
    "max_box = []\n",
    "\n",
    "for file in pred_var_path:\n",
    "    pred_var = torch.load(file)\n",
    "    mean_box.append(torch.mean(pred_var).item())\n",
    "    max_box.append(torch.max(pred_var).item())\n",
    "\n",
    "print(sum(mean_box)/len(mean_box))\n",
    "print(sum(max_box)/len(max_box))"
   ]
  },
  {
   "cell_type": "code",
   "execution_count": null,
   "metadata": {},
   "outputs": [],
   "source": [
    "import matplotlib.pyplot as plt\n",
    "import cv2\n",
    "from PIL import Image\n",
    "# Targetデータでの出力を表示\n",
    "target_filepaths = glob.glob(\"data/Train/images/Rissbilder*\")\n",
    "target_filenames = [p.lstrip(\"data/Train/images/\") for p in target_filepaths]\n",
    "\n",
    "\n",
    "# 10行4列のサブプロットを作成\n",
    "fig, axes = plt.subplots(10, 4, figsize=(10, 20))\n",
    "\n",
    "# 画像をサブプロットに配置\n",
    "for i in range(10):\n",
    "    axes[i, 0].imshow(Image.open(\"data/Train/images/\"+target_filenames[i]))\n",
    "    axes[i, 0].axis('off')\n",
    "    axes[i, 1].imshow(Image.open(\"data/unlabeled_mask/231107_iter1/pred_mean_corrected/\"+target_filenames[i]), cmap='gray')\n",
    "    axes[i, 1].axis('off')\n",
    "    axes[i, 2].imshow(torch.load(\"data/unlabeled_mask/231107_iter1/pred_var/\"+target_filenames[i].rstrip('jpg')+\"pt\"), cmap='gray')\n",
    "    axes[i, 2].axis('off')\n",
    "    axes[i, 3].imshow(Image.open(\"data/Train/masks/\"+target_filenames[i]))\n",
    "    axes[i, 3].axis('off')\n",
    "\n",
    "# グリッドの余白を調整\n",
    "plt.subplots_adjust(wspace=0, hspace=0)\n",
    "\n",
    "# グリッドを表示\n",
    "plt.show()\n",
    "\n",
    "# Train/images/Rissbilder/ pred_mean_corrected, pred_var, Train/masks/Rissbilder"
   ]
  },
  {
   "cell_type": "code",
   "execution_count": null,
   "metadata": {},
   "outputs": [],
   "source": []
  }
 ],
 "metadata": {
  "kernelspec": {
   "display_name": "env",
   "language": "python",
   "name": "python3"
  },
  "language_info": {
   "codemirror_mode": {
    "name": "ipython",
    "version": 3
   },
   "file_extension": ".py",
   "mimetype": "text/x-python",
   "name": "python",
   "nbconvert_exporter": "python",
   "pygments_lexer": "ipython3",
   "version": "3.10.9"
  }
 },
 "nbformat": 4,
 "nbformat_minor": 2
}
