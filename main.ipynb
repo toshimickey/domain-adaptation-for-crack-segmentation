{
 "cells": [
  {
   "cell_type": "code",
   "execution_count": 1,
   "metadata": {},
   "outputs": [],
   "source": [
    "from train import train\n",
    "from inference import inference\n",
    "from save_mask import save_mask\n",
    "import csv, os\n",
    "from utils.module import write_to_csv"
   ]
  },
  {
   "cell_type": "code",
   "execution_count": 2,
   "metadata": {},
   "outputs": [
    {
     "name": "stdout",
     "output_type": "stream",
     "text": [
      "Thu Dec 14 00:40:28 2023       \n",
      "+---------------------------------------------------------------------------------------+\n",
      "| NVIDIA-SMI 535.54.03              Driver Version: 535.54.03    CUDA Version: 12.2     |\n",
      "|-----------------------------------------+----------------------+----------------------+\n",
      "| GPU  Name                 Persistence-M | Bus-Id        Disp.A | Volatile Uncorr. ECC |\n",
      "| Fan  Temp   Perf          Pwr:Usage/Cap |         Memory-Usage | GPU-Util  Compute M. |\n",
      "|                                         |                      |               MIG M. |\n",
      "|=========================================+======================+======================|\n",
      "|   0  Tesla M60                      On  | 00000000:00:1B.0 Off |                    0 |\n",
      "| N/A   27C    P8              14W / 150W |      0MiB /  7680MiB |      0%      Default |\n",
      "|                                         |                      |                  N/A |\n",
      "+-----------------------------------------+----------------------+----------------------+\n",
      "|   1  Tesla M60                      On  | 00000000:00:1C.0 Off |                    0 |\n",
      "| N/A   35C    P8              14W / 150W |      0MiB /  7680MiB |      0%      Default |\n",
      "|                                         |                      |                  N/A |\n",
      "+-----------------------------------------+----------------------+----------------------+\n",
      "|   2  Tesla M60                      On  | 00000000:00:1D.0 Off |                    0 |\n",
      "| N/A   28C    P8              14W / 150W |      0MiB /  7680MiB |      0%      Default |\n",
      "|                                         |                      |                  N/A |\n",
      "+-----------------------------------------+----------------------+----------------------+\n",
      "|   3  Tesla M60                      On  | 00000000:00:1E.0 Off |                    0 |\n",
      "| N/A   38C    P8              13W / 150W |      0MiB /  7680MiB |      0%      Default |\n",
      "|                                         |                      |                  N/A |\n",
      "+-----------------------------------------+----------------------+----------------------+\n",
      "                                                                                         \n",
      "+---------------------------------------------------------------------------------------+\n",
      "| Processes:                                                                            |\n",
      "|  GPU   GI   CI        PID   Type   Process name                            GPU Memory |\n",
      "|        ID   ID                                                             Usage      |\n",
      "|=======================================================================================|\n",
      "|  No running processes found                                                           |\n",
      "+---------------------------------------------------------------------------------------+\n"
     ]
    }
   ],
   "source": [
    "!nvidia-smi"
   ]
  },
  {
   "cell_type": "code",
   "execution_count": 3,
   "metadata": {},
   "outputs": [
    {
     "name": "stderr",
     "output_type": "stream",
     "text": [
      "100%|██████████| 17/17 [02:35<00:00,  9.14s/it]\n",
      " 98%|█████████▊| 65/66 [09:59<00:09,  9.22s/it]\n",
      "100%|██████████| 4212/4212 [01:21<00:00, 51.72it/s] \n"
     ]
    },
    {
     "name": "stdout",
     "output_type": "stream",
     "text": [
      "Epoch 1/300\n"
     ]
    },
    {
     "name": "stderr",
     "output_type": "stream",
     "text": [
      "100%|██████████| 155/155 [01:08<00:00,  2.25it/s]\n",
      "100%|██████████| 65/65 [00:57<00:00,  1.12it/s]\n",
      "100%|██████████| 18/18 [00:08<00:00,  2.05it/s]\n"
     ]
    },
    {
     "name": "stdout",
     "output_type": "stream",
     "text": [
      "2m 15s\n",
      "Consistency Loss declined to 0.06683989780453535\n",
      "Early Stopping Counter = 0\n",
      "Epoch 2/300\n"
     ]
    },
    {
     "name": "stderr",
     "output_type": "stream",
     "text": [
      "100%|██████████| 155/155 [00:47<00:00,  3.25it/s]\n",
      "100%|██████████| 65/65 [00:57<00:00,  1.13it/s]\n",
      "100%|██████████| 18/18 [00:05<00:00,  3.35it/s]\n"
     ]
    },
    {
     "name": "stdout",
     "output_type": "stream",
     "text": [
      "1m 51s\n",
      "Consistency Loss declined to 0.06380951037773719\n",
      "Early Stopping Counter = 0\n",
      "Epoch 3/300\n"
     ]
    },
    {
     "name": "stderr",
     "output_type": "stream",
     "text": [
      "100%|██████████| 155/155 [00:47<00:00,  3.25it/s]\n",
      "100%|██████████| 65/65 [00:57<00:00,  1.13it/s]\n",
      "100%|██████████| 18/18 [00:05<00:00,  3.40it/s]\n"
     ]
    },
    {
     "name": "stdout",
     "output_type": "stream",
     "text": [
      "1m 51s\n",
      "Consistency Loss declined to 0.05373477222254643\n",
      "Early Stopping Counter = 0\n",
      "Epoch 4/300\n"
     ]
    },
    {
     "name": "stderr",
     "output_type": "stream",
     "text": [
      "100%|██████████| 155/155 [00:47<00:00,  3.26it/s]\n",
      "100%|██████████| 65/65 [00:57<00:00,  1.13it/s]\n",
      "100%|██████████| 18/18 [00:05<00:00,  3.31it/s]\n"
     ]
    },
    {
     "name": "stdout",
     "output_type": "stream",
     "text": [
      "1m 51s\n",
      "Consistency Loss declined to 0.04797728548829372\n",
      "Early Stopping Counter = 0\n",
      "Epoch 5/300\n"
     ]
    },
    {
     "name": "stderr",
     "output_type": "stream",
     "text": [
      "100%|██████████| 155/155 [00:47<00:00,  3.27it/s]\n",
      "100%|██████████| 65/65 [00:57<00:00,  1.13it/s]\n",
      "100%|██████████| 18/18 [00:05<00:00,  3.25it/s]\n"
     ]
    },
    {
     "name": "stdout",
     "output_type": "stream",
     "text": [
      "1m 51s\n",
      "Early Stopping Counter = 1\n",
      "Epoch 6/300\n"
     ]
    },
    {
     "name": "stderr",
     "output_type": "stream",
     "text": [
      "100%|██████████| 155/155 [00:47<00:00,  3.25it/s]\n",
      "100%|██████████| 65/65 [00:57<00:00,  1.13it/s]\n",
      "100%|██████████| 18/18 [00:05<00:00,  3.39it/s]\n"
     ]
    },
    {
     "name": "stdout",
     "output_type": "stream",
     "text": [
      "1m 51s\n",
      "Consistency Loss declined to 0.045487116047969234\n",
      "Early Stopping Counter = 0\n",
      "Epoch 7/300\n"
     ]
    },
    {
     "name": "stderr",
     "output_type": "stream",
     "text": [
      "100%|██████████| 155/155 [00:47<00:00,  3.26it/s]\n",
      "100%|██████████| 65/65 [00:57<00:00,  1.13it/s]\n",
      "100%|██████████| 18/18 [00:05<00:00,  3.27it/s]\n"
     ]
    },
    {
     "name": "stdout",
     "output_type": "stream",
     "text": [
      "1m 51s\n",
      "Early Stopping Counter = 1\n",
      "Epoch 8/300\n"
     ]
    },
    {
     "name": "stderr",
     "output_type": "stream",
     "text": [
      "100%|██████████| 155/155 [00:47<00:00,  3.24it/s]\n",
      "100%|██████████| 65/65 [00:57<00:00,  1.13it/s]\n",
      "100%|██████████| 18/18 [00:05<00:00,  3.37it/s]\n"
     ]
    },
    {
     "name": "stdout",
     "output_type": "stream",
     "text": [
      "1m 51s\n",
      "Consistency Loss declined to 0.04020016345267113\n",
      "Early Stopping Counter = 0\n",
      "Epoch 9/300\n"
     ]
    },
    {
     "name": "stderr",
     "output_type": "stream",
     "text": [
      "100%|██████████| 155/155 [00:47<00:00,  3.24it/s]\n",
      "100%|██████████| 65/65 [00:57<00:00,  1.13it/s]\n",
      "100%|██████████| 18/18 [00:05<00:00,  3.18it/s]\n"
     ]
    },
    {
     "name": "stdout",
     "output_type": "stream",
     "text": [
      "1m 51s\n",
      "Early Stopping Counter = 1\n",
      "Epoch 10/300\n"
     ]
    },
    {
     "name": "stderr",
     "output_type": "stream",
     "text": [
      "100%|██████████| 155/155 [00:47<00:00,  3.26it/s]\n",
      "100%|██████████| 65/65 [00:57<00:00,  1.13it/s]\n",
      "100%|██████████| 18/18 [00:05<00:00,  3.21it/s]\n"
     ]
    },
    {
     "name": "stdout",
     "output_type": "stream",
     "text": [
      "1m 51s\n",
      "Early Stopping Counter = 2\n",
      "Epoch 11/300\n"
     ]
    },
    {
     "name": "stderr",
     "output_type": "stream",
     "text": [
      "100%|██████████| 155/155 [00:47<00:00,  3.27it/s]\n",
      "100%|██████████| 65/65 [00:57<00:00,  1.13it/s]\n",
      "100%|██████████| 18/18 [00:05<00:00,  3.26it/s]\n"
     ]
    },
    {
     "name": "stdout",
     "output_type": "stream",
     "text": [
      "1m 50s\n",
      "Early Stopping Counter = 3\n",
      "Epoch 12/300\n"
     ]
    },
    {
     "name": "stderr",
     "output_type": "stream",
     "text": [
      "100%|██████████| 155/155 [00:47<00:00,  3.26it/s]\n",
      "100%|██████████| 65/65 [00:57<00:00,  1.13it/s]\n",
      "100%|██████████| 18/18 [00:05<00:00,  3.24it/s]\n"
     ]
    },
    {
     "name": "stdout",
     "output_type": "stream",
     "text": [
      "1m 51s\n",
      "Consistency Loss declined to 0.036326558830646366\n",
      "Early Stopping Counter = 0\n",
      "Epoch 13/300\n"
     ]
    },
    {
     "name": "stderr",
     "output_type": "stream",
     "text": [
      "100%|██████████| 155/155 [00:47<00:00,  3.25it/s]\n",
      "100%|██████████| 65/65 [00:57<00:00,  1.13it/s]\n",
      "100%|██████████| 18/18 [00:05<00:00,  3.32it/s]\n"
     ]
    },
    {
     "name": "stdout",
     "output_type": "stream",
     "text": [
      "1m 50s\n",
      "Consistency Loss declined to 0.031791913896225966\n",
      "Early Stopping Counter = 0\n",
      "Epoch 14/300\n"
     ]
    },
    {
     "name": "stderr",
     "output_type": "stream",
     "text": [
      "100%|██████████| 155/155 [00:47<00:00,  3.26it/s]\n",
      "100%|██████████| 65/65 [00:57<00:00,  1.13it/s]\n",
      "100%|██████████| 18/18 [00:05<00:00,  3.33it/s]\n"
     ]
    },
    {
     "name": "stdout",
     "output_type": "stream",
     "text": [
      "1m 50s\n",
      "Early Stopping Counter = 1\n",
      "Epoch 15/300\n"
     ]
    },
    {
     "name": "stderr",
     "output_type": "stream",
     "text": [
      "100%|██████████| 155/155 [00:47<00:00,  3.26it/s]\n",
      "100%|██████████| 65/65 [00:57<00:00,  1.13it/s]\n",
      "100%|██████████| 18/18 [00:05<00:00,  3.35it/s]\n"
     ]
    },
    {
     "name": "stdout",
     "output_type": "stream",
     "text": [
      "1m 51s\n",
      "Consistency Loss declined to 0.02985187556881171\n",
      "Early Stopping Counter = 0\n",
      "Epoch 16/300\n"
     ]
    },
    {
     "name": "stderr",
     "output_type": "stream",
     "text": [
      "100%|██████████| 155/155 [00:47<00:00,  3.25it/s]\n",
      "100%|██████████| 65/65 [00:57<00:00,  1.13it/s]\n",
      "100%|██████████| 18/18 [00:05<00:00,  3.30it/s]\n"
     ]
    },
    {
     "name": "stdout",
     "output_type": "stream",
     "text": [
      "1m 51s\n",
      "Early Stopping Counter = 1\n",
      "Epoch 17/300\n"
     ]
    },
    {
     "name": "stderr",
     "output_type": "stream",
     "text": [
      "100%|██████████| 155/155 [00:47<00:00,  3.25it/s]\n",
      "100%|██████████| 65/65 [00:57<00:00,  1.13it/s]\n",
      "100%|██████████| 18/18 [00:05<00:00,  3.34it/s]\n"
     ]
    },
    {
     "name": "stdout",
     "output_type": "stream",
     "text": [
      "1m 51s\n",
      "Consistency Loss declined to 0.029101167963101315\n",
      "Early Stopping Counter = 0\n",
      "Epoch 18/300\n"
     ]
    },
    {
     "name": "stderr",
     "output_type": "stream",
     "text": [
      "100%|██████████| 155/155 [00:47<00:00,  3.25it/s]\n",
      "100%|██████████| 65/65 [00:57<00:00,  1.13it/s]\n",
      "100%|██████████| 18/18 [00:05<00:00,  3.31it/s]\n"
     ]
    },
    {
     "name": "stdout",
     "output_type": "stream",
     "text": [
      "1m 51s\n",
      "Consistency Loss declined to 0.027008789935364173\n",
      "Early Stopping Counter = 0\n",
      "Epoch 19/300\n"
     ]
    },
    {
     "name": "stderr",
     "output_type": "stream",
     "text": [
      "100%|██████████| 155/155 [00:47<00:00,  3.26it/s]\n",
      "100%|██████████| 65/65 [00:57<00:00,  1.13it/s]\n",
      "100%|██████████| 18/18 [00:05<00:00,  3.29it/s]\n"
     ]
    },
    {
     "name": "stdout",
     "output_type": "stream",
     "text": [
      "1m 51s\n",
      "Early Stopping Counter = 1\n",
      "Epoch 20/300\n"
     ]
    },
    {
     "name": "stderr",
     "output_type": "stream",
     "text": [
      "100%|██████████| 155/155 [00:47<00:00,  3.24it/s]\n",
      "100%|██████████| 65/65 [00:57<00:00,  1.12it/s]\n",
      "100%|██████████| 18/18 [00:05<00:00,  3.17it/s]\n"
     ]
    },
    {
     "name": "stdout",
     "output_type": "stream",
     "text": [
      "1m 51s\n",
      "Consistency Loss declined to 0.02665059668226884\n",
      "Early Stopping Counter = 0\n",
      "Epoch 21/300\n"
     ]
    },
    {
     "name": "stderr",
     "output_type": "stream",
     "text": [
      "100%|██████████| 155/155 [00:47<00:00,  3.25it/s]\n",
      "100%|██████████| 65/65 [00:57<00:00,  1.13it/s]\n",
      "100%|██████████| 18/18 [00:05<00:00,  3.31it/s]\n"
     ]
    },
    {
     "name": "stdout",
     "output_type": "stream",
     "text": [
      "1m 51s\n",
      "Early Stopping Counter = 1\n",
      "Epoch 22/300\n"
     ]
    },
    {
     "name": "stderr",
     "output_type": "stream",
     "text": [
      "100%|██████████| 155/155 [00:47<00:00,  3.25it/s]\n",
      "100%|██████████| 65/65 [00:57<00:00,  1.12it/s]\n",
      "100%|██████████| 18/18 [00:05<00:00,  3.27it/s]\n"
     ]
    },
    {
     "name": "stdout",
     "output_type": "stream",
     "text": [
      "1m 51s\n",
      "Consistency Loss declined to 0.02607326375750395\n",
      "Early Stopping Counter = 0\n",
      "Epoch 23/300\n"
     ]
    },
    {
     "name": "stderr",
     "output_type": "stream",
     "text": [
      "100%|██████████| 155/155 [00:47<00:00,  3.25it/s]\n",
      "100%|██████████| 65/65 [00:57<00:00,  1.13it/s]\n",
      "100%|██████████| 18/18 [00:05<00:00,  3.31it/s]\n"
     ]
    },
    {
     "name": "stdout",
     "output_type": "stream",
     "text": [
      "1m 51s\n",
      "Early Stopping Counter = 1\n",
      "Epoch 24/300\n"
     ]
    },
    {
     "name": "stderr",
     "output_type": "stream",
     "text": [
      "100%|██████████| 155/155 [00:47<00:00,  3.27it/s]\n",
      "100%|██████████| 65/65 [00:57<00:00,  1.13it/s]\n",
      "100%|██████████| 18/18 [00:05<00:00,  3.37it/s]\n"
     ]
    },
    {
     "name": "stdout",
     "output_type": "stream",
     "text": [
      "1m 50s\n",
      "Consistency Loss declined to 0.02545878579123662\n",
      "Early Stopping Counter = 0\n",
      "Epoch 25/300\n"
     ]
    },
    {
     "name": "stderr",
     "output_type": "stream",
     "text": [
      "100%|██████████| 155/155 [00:47<00:00,  3.27it/s]\n",
      "100%|██████████| 65/65 [00:58<00:00,  1.12it/s]\n",
      "100%|██████████| 18/18 [00:05<00:00,  3.27it/s]\n"
     ]
    },
    {
     "name": "stdout",
     "output_type": "stream",
     "text": [
      "1m 51s\n",
      "Early Stopping Counter = 1\n",
      "Epoch 26/300\n"
     ]
    },
    {
     "name": "stderr",
     "output_type": "stream",
     "text": [
      "100%|██████████| 155/155 [00:47<00:00,  3.25it/s]\n",
      "100%|██████████| 65/65 [00:57<00:00,  1.12it/s]\n",
      "100%|██████████| 18/18 [00:05<00:00,  3.32it/s]\n"
     ]
    },
    {
     "name": "stdout",
     "output_type": "stream",
     "text": [
      "1m 51s\n",
      "Early Stopping Counter = 2\n",
      "Epoch 27/300\n"
     ]
    },
    {
     "name": "stderr",
     "output_type": "stream",
     "text": [
      "100%|██████████| 155/155 [00:47<00:00,  3.25it/s]\n",
      "100%|██████████| 65/65 [00:57<00:00,  1.13it/s]\n",
      "100%|██████████| 18/18 [00:05<00:00,  3.26it/s]\n"
     ]
    },
    {
     "name": "stdout",
     "output_type": "stream",
     "text": [
      "1m 51s\n",
      "Consistency Loss declined to 0.025346503893916423\n",
      "Early Stopping Counter = 0\n",
      "Epoch 28/300\n"
     ]
    },
    {
     "name": "stderr",
     "output_type": "stream",
     "text": [
      "100%|██████████| 155/155 [00:47<00:00,  3.24it/s]\n",
      "100%|██████████| 65/65 [00:57<00:00,  1.13it/s]\n",
      "100%|██████████| 18/18 [00:05<00:00,  3.23it/s]\n"
     ]
    },
    {
     "name": "stdout",
     "output_type": "stream",
     "text": [
      "1m 51s\n",
      "Consistency Loss declined to 0.02307220661582855\n",
      "Early Stopping Counter = 0\n",
      "Epoch 29/300\n"
     ]
    },
    {
     "name": "stderr",
     "output_type": "stream",
     "text": [
      "100%|██████████| 155/155 [00:47<00:00,  3.26it/s]\n",
      "100%|██████████| 65/65 [00:57<00:00,  1.13it/s]\n",
      "100%|██████████| 18/18 [00:05<00:00,  3.34it/s]\n"
     ]
    },
    {
     "name": "stdout",
     "output_type": "stream",
     "text": [
      "1m 50s\n",
      "Consistency Loss declined to 0.022260954274007906\n",
      "Early Stopping Counter = 0\n",
      "Epoch 30/300\n"
     ]
    },
    {
     "name": "stderr",
     "output_type": "stream",
     "text": [
      "100%|██████████| 155/155 [00:47<00:00,  3.26it/s]\n",
      "100%|██████████| 65/65 [00:57<00:00,  1.13it/s]\n",
      "100%|██████████| 18/18 [00:05<00:00,  3.33it/s]\n"
     ]
    },
    {
     "name": "stdout",
     "output_type": "stream",
     "text": [
      "1m 50s\n",
      "Consistency Loss declined to 0.021027735577752955\n",
      "Early Stopping Counter = 0\n",
      "Epoch 31/300\n"
     ]
    },
    {
     "name": "stderr",
     "output_type": "stream",
     "text": [
      "100%|██████████| 155/155 [00:47<00:00,  3.26it/s]\n",
      "100%|██████████| 65/65 [00:57<00:00,  1.13it/s]\n",
      "100%|██████████| 18/18 [00:05<00:00,  3.40it/s]\n"
     ]
    },
    {
     "name": "stdout",
     "output_type": "stream",
     "text": [
      "1m 51s\n",
      "Early Stopping Counter = 1\n",
      "Epoch 32/300\n"
     ]
    },
    {
     "name": "stderr",
     "output_type": "stream",
     "text": [
      "100%|██████████| 155/155 [00:47<00:00,  3.25it/s]\n",
      "100%|██████████| 65/65 [00:57<00:00,  1.13it/s]\n",
      "100%|██████████| 18/18 [00:05<00:00,  3.36it/s]\n"
     ]
    },
    {
     "name": "stdout",
     "output_type": "stream",
     "text": [
      "1m 51s\n",
      "Early Stopping Counter = 2\n",
      "Epoch 33/300\n"
     ]
    },
    {
     "name": "stderr",
     "output_type": "stream",
     "text": [
      "100%|██████████| 155/155 [00:47<00:00,  3.26it/s]\n",
      "100%|██████████| 65/65 [00:57<00:00,  1.13it/s]\n",
      "100%|██████████| 18/18 [00:05<00:00,  3.32it/s]\n"
     ]
    },
    {
     "name": "stdout",
     "output_type": "stream",
     "text": [
      "1m 51s\n",
      "Early Stopping Counter = 3\n",
      "Epoch 34/300\n"
     ]
    },
    {
     "name": "stderr",
     "output_type": "stream",
     "text": [
      "100%|██████████| 155/155 [00:47<00:00,  3.25it/s]\n",
      "100%|██████████| 65/65 [00:57<00:00,  1.13it/s]\n",
      "100%|██████████| 18/18 [00:05<00:00,  3.38it/s]\n"
     ]
    },
    {
     "name": "stdout",
     "output_type": "stream",
     "text": [
      "1m 50s\n",
      "Early Stopping Counter = 4\n",
      "Epoch 35/300\n"
     ]
    },
    {
     "name": "stderr",
     "output_type": "stream",
     "text": [
      "100%|██████████| 155/155 [00:47<00:00,  3.28it/s]\n",
      "100%|██████████| 65/65 [00:57<00:00,  1.13it/s]\n",
      "100%|██████████| 18/18 [00:05<00:00,  3.44it/s]\n"
     ]
    },
    {
     "name": "stdout",
     "output_type": "stream",
     "text": [
      "1m 50s\n",
      "Early Stopping Counter = 5\n",
      "Epoch 36/300\n"
     ]
    },
    {
     "name": "stderr",
     "output_type": "stream",
     "text": [
      "100%|██████████| 155/155 [00:47<00:00,  3.24it/s]\n",
      "100%|██████████| 65/65 [00:57<00:00,  1.13it/s]\n",
      "100%|██████████| 18/18 [00:05<00:00,  3.34it/s]\n"
     ]
    },
    {
     "name": "stdout",
     "output_type": "stream",
     "text": [
      "1m 51s\n",
      "Consistency Loss declined to 0.020662928000092506\n",
      "Early Stopping Counter = 0\n",
      "Epoch 37/300\n"
     ]
    },
    {
     "name": "stderr",
     "output_type": "stream",
     "text": [
      "100%|██████████| 155/155 [00:47<00:00,  3.26it/s]\n",
      "100%|██████████| 65/65 [00:57<00:00,  1.13it/s]\n",
      "100%|██████████| 18/18 [00:05<00:00,  3.32it/s]\n"
     ]
    },
    {
     "name": "stdout",
     "output_type": "stream",
     "text": [
      "1m 51s\n",
      "Consistency Loss declined to 0.019366617357501618\n",
      "Early Stopping Counter = 0\n",
      "Epoch 38/300\n"
     ]
    },
    {
     "name": "stderr",
     "output_type": "stream",
     "text": [
      "100%|██████████| 155/155 [00:47<00:00,  3.26it/s]\n",
      "100%|██████████| 65/65 [00:57<00:00,  1.13it/s]\n",
      "100%|██████████| 18/18 [00:05<00:00,  3.35it/s]\n"
     ]
    },
    {
     "name": "stdout",
     "output_type": "stream",
     "text": [
      "1m 51s\n",
      "Consistency Loss declined to 0.018277579030165306\n",
      "Early Stopping Counter = 0\n",
      "Epoch 39/300\n"
     ]
    },
    {
     "name": "stderr",
     "output_type": "stream",
     "text": [
      "100%|██████████| 155/155 [00:47<00:00,  3.27it/s]\n",
      "100%|██████████| 65/65 [00:57<00:00,  1.13it/s]\n",
      "100%|██████████| 18/18 [00:05<00:00,  3.23it/s]\n"
     ]
    },
    {
     "name": "stdout",
     "output_type": "stream",
     "text": [
      "1m 51s\n",
      "Early Stopping Counter = 1\n",
      "Epoch 40/300\n"
     ]
    },
    {
     "name": "stderr",
     "output_type": "stream",
     "text": [
      "100%|██████████| 155/155 [00:47<00:00,  3.26it/s]\n",
      "100%|██████████| 65/65 [00:57<00:00,  1.13it/s]\n",
      "100%|██████████| 18/18 [00:05<00:00,  3.15it/s]\n"
     ]
    },
    {
     "name": "stdout",
     "output_type": "stream",
     "text": [
      "1m 51s\n",
      "Early Stopping Counter = 2\n",
      "Epoch 41/300\n"
     ]
    },
    {
     "name": "stderr",
     "output_type": "stream",
     "text": [
      "100%|██████████| 155/155 [00:47<00:00,  3.27it/s]\n",
      "100%|██████████| 65/65 [00:57<00:00,  1.13it/s]\n",
      "100%|██████████| 18/18 [00:05<00:00,  3.27it/s]\n"
     ]
    },
    {
     "name": "stdout",
     "output_type": "stream",
     "text": [
      "1m 50s\n",
      "Early Stopping Counter = 3\n",
      "Epoch 42/300\n"
     ]
    },
    {
     "name": "stderr",
     "output_type": "stream",
     "text": [
      "100%|██████████| 155/155 [00:47<00:00,  3.25it/s]\n",
      "100%|██████████| 65/65 [00:57<00:00,  1.13it/s]\n",
      "100%|██████████| 18/18 [00:05<00:00,  3.31it/s]\n"
     ]
    },
    {
     "name": "stdout",
     "output_type": "stream",
     "text": [
      "1m 51s\n",
      "Early Stopping Counter = 4\n",
      "Epoch 43/300\n"
     ]
    },
    {
     "name": "stderr",
     "output_type": "stream",
     "text": [
      "100%|██████████| 155/155 [00:47<00:00,  3.26it/s]\n",
      "100%|██████████| 65/65 [00:57<00:00,  1.13it/s]\n",
      "100%|██████████| 18/18 [00:05<00:00,  3.29it/s]\n"
     ]
    },
    {
     "name": "stdout",
     "output_type": "stream",
     "text": [
      "1m 51s\n",
      "Consistency Loss declined to 0.01764020724938466\n",
      "Early Stopping Counter = 0\n",
      "Epoch 44/300\n"
     ]
    },
    {
     "name": "stderr",
     "output_type": "stream",
     "text": [
      "100%|██████████| 155/155 [00:47<00:00,  3.25it/s]\n",
      "100%|██████████| 65/65 [00:57<00:00,  1.13it/s]\n",
      "100%|██████████| 18/18 [00:05<00:00,  3.27it/s]\n"
     ]
    },
    {
     "name": "stdout",
     "output_type": "stream",
     "text": [
      "1m 51s\n",
      "Early Stopping Counter = 1\n",
      "Epoch 45/300\n"
     ]
    },
    {
     "name": "stderr",
     "output_type": "stream",
     "text": [
      "100%|██████████| 155/155 [00:47<00:00,  3.28it/s]\n",
      "100%|██████████| 65/65 [00:57<00:00,  1.13it/s]\n",
      "100%|██████████| 18/18 [00:05<00:00,  3.27it/s]\n"
     ]
    },
    {
     "name": "stdout",
     "output_type": "stream",
     "text": [
      "1m 50s\n",
      "Early Stopping Counter = 2\n",
      "Epoch 46/300\n"
     ]
    },
    {
     "name": "stderr",
     "output_type": "stream",
     "text": [
      "100%|██████████| 155/155 [00:47<00:00,  3.25it/s]\n",
      "100%|██████████| 65/65 [00:57<00:00,  1.13it/s]\n",
      "100%|██████████| 18/18 [00:05<00:00,  3.29it/s]\n"
     ]
    },
    {
     "name": "stdout",
     "output_type": "stream",
     "text": [
      "1m 51s\n",
      "Consistency Loss declined to 0.017385461188566226\n",
      "Early Stopping Counter = 0\n",
      "Epoch 47/300\n"
     ]
    },
    {
     "name": "stderr",
     "output_type": "stream",
     "text": [
      "100%|██████████| 155/155 [00:47<00:00,  3.26it/s]\n",
      "100%|██████████| 65/65 [00:57<00:00,  1.13it/s]\n",
      "100%|██████████| 18/18 [00:05<00:00,  3.31it/s]\n"
     ]
    },
    {
     "name": "stdout",
     "output_type": "stream",
     "text": [
      "1m 50s\n",
      "Early Stopping Counter = 1\n",
      "Epoch 48/300\n"
     ]
    },
    {
     "name": "stderr",
     "output_type": "stream",
     "text": [
      "100%|██████████| 155/155 [00:47<00:00,  3.25it/s]\n",
      "100%|██████████| 65/65 [00:57<00:00,  1.13it/s]\n",
      "100%|██████████| 18/18 [00:05<00:00,  3.27it/s]\n"
     ]
    },
    {
     "name": "stdout",
     "output_type": "stream",
     "text": [
      "1m 51s\n",
      "Consistency Loss declined to 0.016097822384192394\n",
      "Early Stopping Counter = 0\n",
      "Epoch 49/300\n"
     ]
    },
    {
     "name": "stderr",
     "output_type": "stream",
     "text": [
      "100%|██████████| 155/155 [00:47<00:00,  3.25it/s]\n",
      "100%|██████████| 65/65 [00:57<00:00,  1.13it/s]\n",
      "100%|██████████| 18/18 [00:05<00:00,  3.27it/s]\n"
     ]
    },
    {
     "name": "stdout",
     "output_type": "stream",
     "text": [
      "1m 51s\n",
      "Early Stopping Counter = 1\n",
      "Epoch 50/300\n"
     ]
    },
    {
     "name": "stderr",
     "output_type": "stream",
     "text": [
      "100%|██████████| 155/155 [00:47<00:00,  3.25it/s]\n",
      "100%|██████████| 65/65 [00:57<00:00,  1.13it/s]\n",
      "100%|██████████| 18/18 [00:05<00:00,  3.30it/s]\n"
     ]
    },
    {
     "name": "stdout",
     "output_type": "stream",
     "text": [
      "1m 51s\n",
      "Early Stopping Counter = 2\n",
      "Epoch 51/300\n"
     ]
    },
    {
     "name": "stderr",
     "output_type": "stream",
     "text": [
      "100%|██████████| 155/155 [00:47<00:00,  3.26it/s]\n",
      "100%|██████████| 65/65 [00:57<00:00,  1.13it/s]\n",
      "100%|██████████| 18/18 [00:05<00:00,  3.29it/s]\n"
     ]
    },
    {
     "name": "stdout",
     "output_type": "stream",
     "text": [
      "1m 51s\n",
      "Early Stopping Counter = 3\n",
      "Epoch 52/300\n"
     ]
    },
    {
     "name": "stderr",
     "output_type": "stream",
     "text": [
      "100%|██████████| 155/155 [00:47<00:00,  3.25it/s]\n",
      "100%|██████████| 65/65 [00:57<00:00,  1.13it/s]\n",
      "100%|██████████| 18/18 [00:05<00:00,  3.28it/s]\n"
     ]
    },
    {
     "name": "stdout",
     "output_type": "stream",
     "text": [
      "1m 51s\n",
      "Early Stopping Counter = 4\n",
      "Epoch 53/300\n"
     ]
    },
    {
     "name": "stderr",
     "output_type": "stream",
     "text": [
      "100%|██████████| 155/155 [00:47<00:00,  3.27it/s]\n",
      "100%|██████████| 65/65 [00:57<00:00,  1.13it/s]\n",
      "100%|██████████| 18/18 [00:05<00:00,  3.36it/s]\n"
     ]
    },
    {
     "name": "stdout",
     "output_type": "stream",
     "text": [
      "1m 50s\n",
      "Early Stopping Counter = 5\n",
      "Epoch 54/300\n"
     ]
    },
    {
     "name": "stderr",
     "output_type": "stream",
     "text": [
      "100%|██████████| 155/155 [00:47<00:00,  3.25it/s]\n",
      "100%|██████████| 65/65 [00:57<00:00,  1.13it/s]\n",
      "100%|██████████| 18/18 [00:05<00:00,  3.31it/s]\n"
     ]
    },
    {
     "name": "stdout",
     "output_type": "stream",
     "text": [
      "1m 51s\n",
      "Early Stopping Counter = 6\n",
      "Epoch 55/300\n"
     ]
    },
    {
     "name": "stderr",
     "output_type": "stream",
     "text": [
      "100%|██████████| 155/155 [00:47<00:00,  3.28it/s]\n",
      "100%|██████████| 65/65 [00:57<00:00,  1.13it/s]\n",
      "100%|██████████| 18/18 [00:05<00:00,  3.23it/s]\n"
     ]
    },
    {
     "name": "stdout",
     "output_type": "stream",
     "text": [
      "1m 51s\n",
      "Early Stopping Counter = 7\n",
      "Epoch 56/300\n"
     ]
    },
    {
     "name": "stderr",
     "output_type": "stream",
     "text": [
      "100%|██████████| 155/155 [00:48<00:00,  3.23it/s]\n",
      "100%|██████████| 65/65 [00:57<00:00,  1.13it/s]\n",
      "100%|██████████| 18/18 [00:05<00:00,  3.33it/s]\n"
     ]
    },
    {
     "name": "stdout",
     "output_type": "stream",
     "text": [
      "1m 51s\n",
      "Consistency Loss declined to 0.015937289566947864\n",
      "Early Stopping Counter = 0\n",
      "Epoch 57/300\n"
     ]
    },
    {
     "name": "stderr",
     "output_type": "stream",
     "text": [
      "100%|██████████| 155/155 [00:47<00:00,  3.25it/s]\n",
      "100%|██████████| 65/65 [00:57<00:00,  1.13it/s]\n",
      "100%|██████████| 18/18 [00:05<00:00,  3.30it/s]\n"
     ]
    },
    {
     "name": "stdout",
     "output_type": "stream",
     "text": [
      "1m 51s\n",
      "Early Stopping Counter = 1\n",
      "Epoch 58/300\n"
     ]
    },
    {
     "name": "stderr",
     "output_type": "stream",
     "text": [
      "100%|██████████| 155/155 [00:47<00:00,  3.25it/s]\n",
      "100%|██████████| 65/65 [00:57<00:00,  1.13it/s]\n",
      "100%|██████████| 18/18 [00:05<00:00,  3.35it/s]\n"
     ]
    },
    {
     "name": "stdout",
     "output_type": "stream",
     "text": [
      "1m 51s\n",
      "Consistency Loss declined to 0.01562413594757135\n",
      "Early Stopping Counter = 0\n",
      "Epoch 59/300\n"
     ]
    },
    {
     "name": "stderr",
     "output_type": "stream",
     "text": [
      "100%|██████████| 155/155 [00:47<00:00,  3.27it/s]\n",
      "100%|██████████| 65/65 [00:57<00:00,  1.13it/s]\n",
      "100%|██████████| 18/18 [00:05<00:00,  3.29it/s]\n"
     ]
    },
    {
     "name": "stdout",
     "output_type": "stream",
     "text": [
      "1m 50s\n",
      "Consistency Loss declined to 0.015522359899030282\n",
      "Early Stopping Counter = 0\n",
      "Epoch 60/300\n"
     ]
    },
    {
     "name": "stderr",
     "output_type": "stream",
     "text": [
      "100%|██████████| 155/155 [00:47<00:00,  3.27it/s]\n",
      "100%|██████████| 65/65 [00:57<00:00,  1.13it/s]\n",
      "100%|██████████| 18/18 [00:05<00:00,  3.28it/s]\n"
     ]
    },
    {
     "name": "stdout",
     "output_type": "stream",
     "text": [
      "1m 50s\n",
      "Early Stopping Counter = 1\n",
      "Epoch 61/300\n"
     ]
    },
    {
     "name": "stderr",
     "output_type": "stream",
     "text": [
      "100%|██████████| 155/155 [00:47<00:00,  3.27it/s]\n",
      "100%|██████████| 65/65 [00:57<00:00,  1.13it/s]\n",
      "100%|██████████| 18/18 [00:05<00:00,  3.34it/s]\n"
     ]
    },
    {
     "name": "stdout",
     "output_type": "stream",
     "text": [
      "1m 50s\n",
      "Consistency Loss declined to 0.01486791606562642\n",
      "Early Stopping Counter = 0\n",
      "Epoch 62/300\n"
     ]
    },
    {
     "name": "stderr",
     "output_type": "stream",
     "text": [
      "100%|██████████| 155/155 [00:47<00:00,  3.25it/s]\n",
      "100%|██████████| 65/65 [00:57<00:00,  1.13it/s]\n",
      "100%|██████████| 18/18 [00:05<00:00,  3.20it/s]\n"
     ]
    },
    {
     "name": "stdout",
     "output_type": "stream",
     "text": [
      "1m 51s\n",
      "Early Stopping Counter = 1\n",
      "Epoch 63/300\n"
     ]
    },
    {
     "name": "stderr",
     "output_type": "stream",
     "text": [
      "100%|██████████| 155/155 [00:47<00:00,  3.28it/s]\n",
      "100%|██████████| 65/65 [00:57<00:00,  1.13it/s]\n",
      "100%|██████████| 18/18 [00:05<00:00,  3.31it/s]\n"
     ]
    },
    {
     "name": "stdout",
     "output_type": "stream",
     "text": [
      "1m 50s\n",
      "Consistency Loss declined to 0.014610052166076807\n",
      "Early Stopping Counter = 0\n",
      "Epoch 64/300\n"
     ]
    },
    {
     "name": "stderr",
     "output_type": "stream",
     "text": [
      "100%|██████████| 155/155 [00:47<00:00,  3.26it/s]\n",
      "100%|██████████| 65/65 [00:57<00:00,  1.12it/s]\n",
      "100%|██████████| 18/18 [00:05<00:00,  3.29it/s]\n"
     ]
    },
    {
     "name": "stdout",
     "output_type": "stream",
     "text": [
      "1m 51s\n",
      "Consistency Loss declined to 0.01456530740341315\n",
      "Early Stopping Counter = 0\n",
      "Epoch 65/300\n"
     ]
    },
    {
     "name": "stderr",
     "output_type": "stream",
     "text": [
      "100%|██████████| 155/155 [00:47<00:00,  3.26it/s]\n",
      "100%|██████████| 65/65 [00:57<00:00,  1.13it/s]\n",
      "100%|██████████| 18/18 [00:05<00:00,  3.34it/s]\n"
     ]
    },
    {
     "name": "stdout",
     "output_type": "stream",
     "text": [
      "1m 50s\n",
      "Consistency Loss declined to 0.014438525264939437\n",
      "Early Stopping Counter = 0\n",
      "Epoch 66/300\n"
     ]
    },
    {
     "name": "stderr",
     "output_type": "stream",
     "text": [
      "100%|██████████| 155/155 [00:47<00:00,  3.27it/s]\n",
      "100%|██████████| 65/65 [00:57<00:00,  1.13it/s]\n",
      "100%|██████████| 18/18 [00:05<00:00,  3.29it/s]\n"
     ]
    },
    {
     "name": "stdout",
     "output_type": "stream",
     "text": [
      "1m 50s\n",
      "Early Stopping Counter = 1\n",
      "Epoch 67/300\n"
     ]
    },
    {
     "name": "stderr",
     "output_type": "stream",
     "text": [
      "100%|██████████| 155/155 [00:47<00:00,  3.25it/s]\n",
      "100%|██████████| 65/65 [00:57<00:00,  1.13it/s]\n",
      "100%|██████████| 18/18 [00:05<00:00,  3.36it/s]\n"
     ]
    },
    {
     "name": "stdout",
     "output_type": "stream",
     "text": [
      "1m 51s\n",
      "Consistency Loss declined to 0.013756006683867712\n",
      "Early Stopping Counter = 0\n",
      "Epoch 68/300\n"
     ]
    },
    {
     "name": "stderr",
     "output_type": "stream",
     "text": [
      "100%|██████████| 155/155 [00:47<00:00,  3.25it/s]\n",
      "100%|██████████| 65/65 [00:57<00:00,  1.13it/s]\n",
      "100%|██████████| 18/18 [00:05<00:00,  3.24it/s]\n"
     ]
    },
    {
     "name": "stdout",
     "output_type": "stream",
     "text": [
      "1m 51s\n",
      "Early Stopping Counter = 1\n",
      "Epoch 69/300\n"
     ]
    },
    {
     "name": "stderr",
     "output_type": "stream",
     "text": [
      "100%|██████████| 155/155 [00:47<00:00,  3.25it/s]\n",
      "100%|██████████| 65/65 [00:57<00:00,  1.13it/s]\n",
      "100%|██████████| 18/18 [00:05<00:00,  3.30it/s]\n"
     ]
    },
    {
     "name": "stdout",
     "output_type": "stream",
     "text": [
      "1m 51s\n",
      "Early Stopping Counter = 2\n",
      "Epoch 70/300\n"
     ]
    },
    {
     "name": "stderr",
     "output_type": "stream",
     "text": [
      "100%|██████████| 155/155 [00:47<00:00,  3.27it/s]\n",
      "100%|██████████| 65/65 [00:57<00:00,  1.13it/s]\n",
      "100%|██████████| 18/18 [00:05<00:00,  3.25it/s]\n"
     ]
    },
    {
     "name": "stdout",
     "output_type": "stream",
     "text": [
      "1m 50s\n",
      "Consistency Loss declined to 0.013711664983286307\n",
      "Early Stopping Counter = 0\n",
      "Epoch 71/300\n"
     ]
    },
    {
     "name": "stderr",
     "output_type": "stream",
     "text": [
      "100%|██████████| 155/155 [00:47<00:00,  3.29it/s]\n",
      "100%|██████████| 65/65 [00:57<00:00,  1.13it/s]\n",
      "100%|██████████| 18/18 [00:05<00:00,  3.29it/s]\n"
     ]
    },
    {
     "name": "stdout",
     "output_type": "stream",
     "text": [
      "1m 50s\n",
      "Early Stopping Counter = 1\n",
      "Epoch 72/300\n"
     ]
    },
    {
     "name": "stderr",
     "output_type": "stream",
     "text": [
      "100%|██████████| 155/155 [00:47<00:00,  3.25it/s]\n",
      "100%|██████████| 65/65 [00:57<00:00,  1.13it/s]\n",
      "100%|██████████| 18/18 [00:05<00:00,  3.23it/s]\n"
     ]
    },
    {
     "name": "stdout",
     "output_type": "stream",
     "text": [
      "1m 51s\n",
      "Consistency Loss declined to 0.013358511353054872\n",
      "Early Stopping Counter = 0\n",
      "Epoch 73/300\n"
     ]
    },
    {
     "name": "stderr",
     "output_type": "stream",
     "text": [
      "100%|██████████| 155/155 [00:47<00:00,  3.26it/s]\n",
      "100%|██████████| 65/65 [00:57<00:00,  1.13it/s]\n",
      "100%|██████████| 18/18 [00:05<00:00,  3.25it/s]\n"
     ]
    },
    {
     "name": "stdout",
     "output_type": "stream",
     "text": [
      "1m 51s\n",
      "Early Stopping Counter = 1\n",
      "Epoch 74/300\n"
     ]
    },
    {
     "name": "stderr",
     "output_type": "stream",
     "text": [
      "100%|██████████| 155/155 [00:47<00:00,  3.25it/s]\n",
      "100%|██████████| 65/65 [00:57<00:00,  1.13it/s]\n",
      "100%|██████████| 18/18 [00:05<00:00,  3.31it/s]\n"
     ]
    },
    {
     "name": "stdout",
     "output_type": "stream",
     "text": [
      "1m 51s\n",
      "Early Stopping Counter = 2\n",
      "Epoch 75/300\n"
     ]
    },
    {
     "name": "stderr",
     "output_type": "stream",
     "text": [
      "100%|██████████| 155/155 [00:47<00:00,  3.26it/s]\n",
      "100%|██████████| 65/65 [00:57<00:00,  1.13it/s]\n",
      "100%|██████████| 18/18 [00:05<00:00,  3.33it/s]\n"
     ]
    },
    {
     "name": "stdout",
     "output_type": "stream",
     "text": [
      "1m 51s\n",
      "Consistency Loss declined to 0.013248152794459692\n",
      "Early Stopping Counter = 0\n",
      "Epoch 76/300\n"
     ]
    },
    {
     "name": "stderr",
     "output_type": "stream",
     "text": [
      "100%|██████████| 155/155 [00:47<00:00,  3.27it/s]\n",
      "100%|██████████| 65/65 [00:57<00:00,  1.13it/s]\n",
      "100%|██████████| 18/18 [00:05<00:00,  3.36it/s]\n"
     ]
    },
    {
     "name": "stdout",
     "output_type": "stream",
     "text": [
      "1m 50s\n",
      "Consistency Loss declined to 0.012687226979491803\n",
      "Early Stopping Counter = 0\n",
      "Epoch 77/300\n"
     ]
    },
    {
     "name": "stderr",
     "output_type": "stream",
     "text": [
      "100%|██████████| 155/155 [00:47<00:00,  3.27it/s]\n",
      "100%|██████████| 65/65 [00:57<00:00,  1.13it/s]\n",
      "100%|██████████| 18/18 [00:05<00:00,  3.27it/s]\n"
     ]
    },
    {
     "name": "stdout",
     "output_type": "stream",
     "text": [
      "1m 50s\n",
      "Early Stopping Counter = 1\n",
      "Epoch 78/300\n"
     ]
    },
    {
     "name": "stderr",
     "output_type": "stream",
     "text": [
      "100%|██████████| 155/155 [00:47<00:00,  3.26it/s]\n",
      "100%|██████████| 65/65 [00:57<00:00,  1.14it/s]\n",
      "100%|██████████| 18/18 [00:05<00:00,  3.27it/s]\n"
     ]
    },
    {
     "name": "stdout",
     "output_type": "stream",
     "text": [
      "1m 50s\n",
      "Early Stopping Counter = 2\n",
      "Epoch 79/300\n"
     ]
    },
    {
     "name": "stderr",
     "output_type": "stream",
     "text": [
      "100%|██████████| 155/155 [00:47<00:00,  3.29it/s]\n",
      "100%|██████████| 65/65 [00:57<00:00,  1.13it/s]\n",
      "100%|██████████| 18/18 [00:05<00:00,  3.23it/s]\n"
     ]
    },
    {
     "name": "stdout",
     "output_type": "stream",
     "text": [
      "1m 50s\n",
      "Early Stopping Counter = 3\n",
      "Epoch 80/300\n"
     ]
    },
    {
     "name": "stderr",
     "output_type": "stream",
     "text": [
      "100%|██████████| 155/155 [00:47<00:00,  3.26it/s]\n",
      "100%|██████████| 65/65 [00:57<00:00,  1.13it/s]\n",
      "100%|██████████| 18/18 [00:05<00:00,  3.34it/s]\n"
     ]
    },
    {
     "name": "stdout",
     "output_type": "stream",
     "text": [
      "1m 50s\n",
      "Consistency Loss declined to 0.012666291535760347\n",
      "Early Stopping Counter = 0\n",
      "Epoch 81/300\n"
     ]
    },
    {
     "name": "stderr",
     "output_type": "stream",
     "text": [
      "100%|██████████| 155/155 [00:47<00:00,  3.26it/s]\n",
      "100%|██████████| 65/65 [00:57<00:00,  1.13it/s]\n",
      "100%|██████████| 18/18 [00:05<00:00,  3.27it/s]\n"
     ]
    },
    {
     "name": "stdout",
     "output_type": "stream",
     "text": [
      "1m 51s\n",
      "Early Stopping Counter = 1\n",
      "Epoch 82/300\n"
     ]
    },
    {
     "name": "stderr",
     "output_type": "stream",
     "text": [
      "100%|██████████| 155/155 [00:47<00:00,  3.26it/s]\n",
      "100%|██████████| 65/65 [00:57<00:00,  1.13it/s]\n",
      "100%|██████████| 18/18 [00:05<00:00,  3.31it/s]\n"
     ]
    },
    {
     "name": "stdout",
     "output_type": "stream",
     "text": [
      "1m 51s\n",
      "Consistency Loss declined to 0.012570017332640978\n",
      "Early Stopping Counter = 0\n",
      "Epoch 83/300\n"
     ]
    },
    {
     "name": "stderr",
     "output_type": "stream",
     "text": [
      "100%|██████████| 155/155 [00:47<00:00,  3.24it/s]\n",
      "100%|██████████| 65/65 [00:57<00:00,  1.13it/s]\n",
      "100%|██████████| 18/18 [00:05<00:00,  3.36it/s]\n"
     ]
    },
    {
     "name": "stdout",
     "output_type": "stream",
     "text": [
      "1m 51s\n",
      "Early Stopping Counter = 1\n",
      "Epoch 84/300\n"
     ]
    },
    {
     "name": "stderr",
     "output_type": "stream",
     "text": [
      "100%|██████████| 155/155 [00:47<00:00,  3.25it/s]\n",
      "100%|██████████| 65/65 [00:57<00:00,  1.13it/s]\n",
      "100%|██████████| 18/18 [00:05<00:00,  3.29it/s]\n"
     ]
    },
    {
     "name": "stdout",
     "output_type": "stream",
     "text": [
      "1m 51s\n",
      "Consistency Loss declined to 0.01214761516938989\n",
      "Early Stopping Counter = 0\n",
      "Epoch 85/300\n"
     ]
    },
    {
     "name": "stderr",
     "output_type": "stream",
     "text": [
      "100%|██████████| 155/155 [00:47<00:00,  3.25it/s]\n",
      "100%|██████████| 65/65 [00:57<00:00,  1.13it/s]\n",
      "100%|██████████| 18/18 [00:05<00:00,  3.31it/s]\n"
     ]
    },
    {
     "name": "stdout",
     "output_type": "stream",
     "text": [
      "1m 51s\n",
      "Early Stopping Counter = 1\n",
      "Epoch 86/300\n"
     ]
    },
    {
     "name": "stderr",
     "output_type": "stream",
     "text": [
      "100%|██████████| 155/155 [00:47<00:00,  3.26it/s]\n",
      "100%|██████████| 65/65 [00:57<00:00,  1.13it/s]\n",
      "100%|██████████| 18/18 [00:05<00:00,  3.25it/s]\n"
     ]
    },
    {
     "name": "stdout",
     "output_type": "stream",
     "text": [
      "1m 51s\n",
      "Consistency Loss declined to 0.012020044343975874\n",
      "Early Stopping Counter = 0\n",
      "Epoch 87/300\n"
     ]
    },
    {
     "name": "stderr",
     "output_type": "stream",
     "text": [
      "100%|██████████| 155/155 [00:47<00:00,  3.25it/s]\n",
      "100%|██████████| 65/65 [00:57<00:00,  1.13it/s]\n",
      "100%|██████████| 18/18 [00:05<00:00,  3.37it/s]\n"
     ]
    },
    {
     "name": "stdout",
     "output_type": "stream",
     "text": [
      "1m 50s\n",
      "Consistency Loss declined to 0.011812798420970256\n",
      "Early Stopping Counter = 0\n",
      "Epoch 88/300\n"
     ]
    },
    {
     "name": "stderr",
     "output_type": "stream",
     "text": [
      "100%|██████████| 155/155 [00:47<00:00,  3.25it/s]\n",
      "100%|██████████| 65/65 [00:57<00:00,  1.13it/s]\n",
      "100%|██████████| 18/18 [00:05<00:00,  3.35it/s]\n"
     ]
    },
    {
     "name": "stdout",
     "output_type": "stream",
     "text": [
      "1m 51s\n",
      "Early Stopping Counter = 1\n",
      "Epoch 89/300\n"
     ]
    },
    {
     "name": "stderr",
     "output_type": "stream",
     "text": [
      "100%|██████████| 155/155 [00:47<00:00,  3.25it/s]\n",
      "100%|██████████| 65/65 [00:57<00:00,  1.13it/s]\n",
      "100%|██████████| 18/18 [00:05<00:00,  3.24it/s]\n"
     ]
    },
    {
     "name": "stdout",
     "output_type": "stream",
     "text": [
      "1m 51s\n",
      "Early Stopping Counter = 2\n",
      "Epoch 90/300\n"
     ]
    },
    {
     "name": "stderr",
     "output_type": "stream",
     "text": [
      "100%|██████████| 155/155 [00:47<00:00,  3.28it/s]\n",
      "100%|██████████| 65/65 [00:57<00:00,  1.13it/s]\n",
      "100%|██████████| 18/18 [00:05<00:00,  3.29it/s]\n"
     ]
    },
    {
     "name": "stdout",
     "output_type": "stream",
     "text": [
      "1m 50s\n",
      "Consistency Loss declined to 0.011749357579705806\n",
      "Early Stopping Counter = 0\n",
      "Epoch 91/300\n"
     ]
    },
    {
     "name": "stderr",
     "output_type": "stream",
     "text": [
      "100%|██████████| 155/155 [00:47<00:00,  3.28it/s]\n",
      "100%|██████████| 65/65 [00:57<00:00,  1.13it/s]\n",
      "100%|██████████| 18/18 [00:05<00:00,  3.38it/s]\n"
     ]
    },
    {
     "name": "stdout",
     "output_type": "stream",
     "text": [
      "1m 50s\n",
      "Consistency Loss declined to 0.01152934290182132\n",
      "Early Stopping Counter = 0\n",
      "Epoch 92/300\n"
     ]
    },
    {
     "name": "stderr",
     "output_type": "stream",
     "text": [
      "100%|██████████| 155/155 [00:47<00:00,  3.28it/s]\n",
      "100%|██████████| 65/65 [00:57<00:00,  1.13it/s]\n",
      "100%|██████████| 18/18 [00:05<00:00,  3.25it/s]\n"
     ]
    },
    {
     "name": "stdout",
     "output_type": "stream",
     "text": [
      "1m 50s\n",
      "Early Stopping Counter = 1\n",
      "Epoch 93/300\n"
     ]
    },
    {
     "name": "stderr",
     "output_type": "stream",
     "text": [
      "100%|██████████| 155/155 [00:47<00:00,  3.25it/s]\n",
      "100%|██████████| 65/65 [00:57<00:00,  1.13it/s]\n",
      "100%|██████████| 18/18 [00:05<00:00,  3.28it/s]\n"
     ]
    },
    {
     "name": "stdout",
     "output_type": "stream",
     "text": [
      "1m 51s\n",
      "Early Stopping Counter = 2\n",
      "Epoch 94/300\n"
     ]
    },
    {
     "name": "stderr",
     "output_type": "stream",
     "text": [
      "100%|██████████| 155/155 [00:47<00:00,  3.26it/s]\n",
      "100%|██████████| 65/65 [00:57<00:00,  1.12it/s]\n",
      "100%|██████████| 18/18 [00:05<00:00,  3.27it/s]\n"
     ]
    },
    {
     "name": "stdout",
     "output_type": "stream",
     "text": [
      "1m 51s\n",
      "Consistency Loss declined to 0.011169853989178172\n",
      "Early Stopping Counter = 0\n",
      "Epoch 95/300\n"
     ]
    },
    {
     "name": "stderr",
     "output_type": "stream",
     "text": [
      "100%|██████████| 155/155 [00:47<00:00,  3.25it/s]\n",
      "100%|██████████| 65/65 [00:57<00:00,  1.13it/s]\n",
      "100%|██████████| 18/18 [00:05<00:00,  3.29it/s]\n"
     ]
    },
    {
     "name": "stdout",
     "output_type": "stream",
     "text": [
      "1m 51s\n",
      "Early Stopping Counter = 1\n",
      "Epoch 96/300\n"
     ]
    },
    {
     "name": "stderr",
     "output_type": "stream",
     "text": [
      "100%|██████████| 155/155 [00:47<00:00,  3.27it/s]\n",
      "100%|██████████| 65/65 [00:57<00:00,  1.12it/s]\n",
      "100%|██████████| 18/18 [00:05<00:00,  3.24it/s]\n"
     ]
    },
    {
     "name": "stdout",
     "output_type": "stream",
     "text": [
      "1m 51s\n",
      "Early Stopping Counter = 2\n",
      "Epoch 97/300\n"
     ]
    },
    {
     "name": "stderr",
     "output_type": "stream",
     "text": [
      "100%|██████████| 155/155 [00:47<00:00,  3.26it/s]\n",
      "100%|██████████| 65/65 [00:57<00:00,  1.13it/s]\n",
      "100%|██████████| 18/18 [00:05<00:00,  3.27it/s]\n"
     ]
    },
    {
     "name": "stdout",
     "output_type": "stream",
     "text": [
      "1m 51s\n",
      "Early Stopping Counter = 3\n",
      "Epoch 98/300\n"
     ]
    },
    {
     "name": "stderr",
     "output_type": "stream",
     "text": [
      "100%|██████████| 155/155 [00:47<00:00,  3.27it/s]\n",
      "100%|██████████| 65/65 [00:57<00:00,  1.13it/s]\n",
      "100%|██████████| 18/18 [00:05<00:00,  3.28it/s]\n"
     ]
    },
    {
     "name": "stdout",
     "output_type": "stream",
     "text": [
      "1m 50s\n",
      "Consistency Loss declined to 0.010928708938165353\n",
      "Early Stopping Counter = 0\n",
      "Epoch 99/300\n"
     ]
    },
    {
     "name": "stderr",
     "output_type": "stream",
     "text": [
      "100%|██████████| 155/155 [00:47<00:00,  3.25it/s]\n",
      "100%|██████████| 65/65 [00:57<00:00,  1.13it/s]\n",
      "100%|██████████| 18/18 [00:05<00:00,  3.36it/s]\n"
     ]
    },
    {
     "name": "stdout",
     "output_type": "stream",
     "text": [
      "1m 50s\n",
      "Early Stopping Counter = 1\n",
      "Epoch 100/300\n"
     ]
    },
    {
     "name": "stderr",
     "output_type": "stream",
     "text": [
      "100%|██████████| 155/155 [00:47<00:00,  3.27it/s]\n",
      "100%|██████████| 65/65 [00:57<00:00,  1.13it/s]\n",
      "100%|██████████| 18/18 [00:05<00:00,  3.28it/s]\n"
     ]
    },
    {
     "name": "stdout",
     "output_type": "stream",
     "text": [
      "1m 50s\n",
      "Consistency Loss declined to 0.010718630225612567\n",
      "Early Stopping Counter = 0\n",
      "Epoch 101/300\n"
     ]
    },
    {
     "name": "stderr",
     "output_type": "stream",
     "text": [
      "100%|██████████| 155/155 [00:47<00:00,  3.25it/s]\n",
      "100%|██████████| 65/65 [00:57<00:00,  1.13it/s]\n",
      "100%|██████████| 18/18 [00:05<00:00,  3.31it/s]\n"
     ]
    },
    {
     "name": "stdout",
     "output_type": "stream",
     "text": [
      "1m 51s\n",
      "Early Stopping Counter = 1\n",
      "Epoch 102/300\n"
     ]
    },
    {
     "name": "stderr",
     "output_type": "stream",
     "text": [
      "100%|██████████| 155/155 [00:47<00:00,  3.27it/s]\n",
      "100%|██████████| 65/65 [00:57<00:00,  1.13it/s]\n",
      "100%|██████████| 18/18 [00:05<00:00,  3.25it/s]\n"
     ]
    },
    {
     "name": "stdout",
     "output_type": "stream",
     "text": [
      "1m 50s\n",
      "Early Stopping Counter = 2\n",
      "Epoch 103/300\n"
     ]
    },
    {
     "name": "stderr",
     "output_type": "stream",
     "text": [
      "100%|██████████| 155/155 [00:47<00:00,  3.26it/s]\n",
      "100%|██████████| 65/65 [00:57<00:00,  1.13it/s]\n",
      "100%|██████████| 18/18 [00:05<00:00,  3.28it/s]\n"
     ]
    },
    {
     "name": "stdout",
     "output_type": "stream",
     "text": [
      "1m 50s\n",
      "Early Stopping Counter = 3\n",
      "Epoch 104/300\n"
     ]
    },
    {
     "name": "stderr",
     "output_type": "stream",
     "text": [
      "100%|██████████| 155/155 [00:47<00:00,  3.26it/s]\n",
      "100%|██████████| 65/65 [00:57<00:00,  1.13it/s]\n",
      "100%|██████████| 18/18 [00:05<00:00,  3.28it/s]\n"
     ]
    },
    {
     "name": "stdout",
     "output_type": "stream",
     "text": [
      "1m 51s\n",
      "Consistency Loss declined to 0.010570906031017121\n",
      "Early Stopping Counter = 0\n",
      "Epoch 105/300\n"
     ]
    },
    {
     "name": "stderr",
     "output_type": "stream",
     "text": [
      "100%|██████████| 155/155 [00:47<00:00,  3.27it/s]\n",
      "100%|██████████| 65/65 [00:57<00:00,  1.13it/s]\n",
      "100%|██████████| 18/18 [00:05<00:00,  3.29it/s]\n"
     ]
    },
    {
     "name": "stdout",
     "output_type": "stream",
     "text": [
      "1m 50s\n",
      "Consistency Loss declined to 0.010276089368674617\n",
      "Early Stopping Counter = 0\n",
      "Epoch 106/300\n"
     ]
    },
    {
     "name": "stderr",
     "output_type": "stream",
     "text": [
      "100%|██████████| 155/155 [00:47<00:00,  3.26it/s]\n",
      "100%|██████████| 65/65 [00:57<00:00,  1.13it/s]\n",
      "100%|██████████| 18/18 [00:05<00:00,  3.33it/s]\n"
     ]
    },
    {
     "name": "stdout",
     "output_type": "stream",
     "text": [
      "1m 50s\n",
      "Early Stopping Counter = 1\n",
      "Epoch 107/300\n"
     ]
    },
    {
     "name": "stderr",
     "output_type": "stream",
     "text": [
      "100%|██████████| 155/155 [00:47<00:00,  3.27it/s]\n",
      "100%|██████████| 65/65 [00:57<00:00,  1.13it/s]\n",
      "100%|██████████| 18/18 [00:05<00:00,  3.31it/s]\n"
     ]
    },
    {
     "name": "stdout",
     "output_type": "stream",
     "text": [
      "1m 50s\n",
      "Consistency Loss declined to 0.010201218000684794\n",
      "Early Stopping Counter = 0\n",
      "Epoch 108/300\n"
     ]
    },
    {
     "name": "stderr",
     "output_type": "stream",
     "text": [
      "100%|██████████| 155/155 [00:47<00:00,  3.25it/s]\n",
      "100%|██████████| 65/65 [00:57<00:00,  1.13it/s]\n",
      "100%|██████████| 18/18 [00:05<00:00,  3.38it/s]\n"
     ]
    },
    {
     "name": "stdout",
     "output_type": "stream",
     "text": [
      "1m 50s\n",
      "Early Stopping Counter = 1\n",
      "Epoch 109/300\n"
     ]
    },
    {
     "name": "stderr",
     "output_type": "stream",
     "text": [
      "100%|██████████| 155/155 [00:47<00:00,  3.29it/s]\n",
      "100%|██████████| 65/65 [00:57<00:00,  1.13it/s]\n",
      "100%|██████████| 18/18 [00:05<00:00,  3.28it/s]\n"
     ]
    },
    {
     "name": "stdout",
     "output_type": "stream",
     "text": [
      "1m 50s\n",
      "Consistency Loss declined to 0.010150886004647383\n",
      "Early Stopping Counter = 0\n",
      "Epoch 110/300\n"
     ]
    },
    {
     "name": "stderr",
     "output_type": "stream",
     "text": [
      "100%|██████████| 155/155 [00:47<00:00,  3.27it/s]\n",
      "100%|██████████| 65/65 [00:57<00:00,  1.13it/s]\n",
      "100%|██████████| 18/18 [00:05<00:00,  3.26it/s]\n"
     ]
    },
    {
     "name": "stdout",
     "output_type": "stream",
     "text": [
      "1m 51s\n",
      "Early Stopping Counter = 1\n",
      "Epoch 111/300\n"
     ]
    },
    {
     "name": "stderr",
     "output_type": "stream",
     "text": [
      "100%|██████████| 155/155 [00:47<00:00,  3.27it/s]\n",
      "100%|██████████| 65/65 [00:57<00:00,  1.13it/s]\n",
      "100%|██████████| 18/18 [00:05<00:00,  3.24it/s]\n"
     ]
    },
    {
     "name": "stdout",
     "output_type": "stream",
     "text": [
      "1m 50s\n",
      "Consistency Loss declined to 0.00995691826996895\n",
      "Early Stopping Counter = 0\n",
      "Epoch 112/300\n"
     ]
    },
    {
     "name": "stderr",
     "output_type": "stream",
     "text": [
      "100%|██████████| 155/155 [00:47<00:00,  3.28it/s]\n",
      "100%|██████████| 65/65 [00:57<00:00,  1.13it/s]\n",
      "100%|██████████| 18/18 [00:05<00:00,  3.31it/s]\n"
     ]
    },
    {
     "name": "stdout",
     "output_type": "stream",
     "text": [
      "1m 50s\n",
      "Early Stopping Counter = 1\n",
      "Epoch 113/300\n"
     ]
    },
    {
     "name": "stderr",
     "output_type": "stream",
     "text": [
      "100%|██████████| 155/155 [00:47<00:00,  3.25it/s]\n",
      "100%|██████████| 65/65 [00:57<00:00,  1.13it/s]\n",
      "100%|██████████| 18/18 [00:05<00:00,  3.26it/s]\n"
     ]
    },
    {
     "name": "stdout",
     "output_type": "stream",
     "text": [
      "1m 51s\n",
      "Early Stopping Counter = 2\n",
      "Epoch 114/300\n"
     ]
    },
    {
     "name": "stderr",
     "output_type": "stream",
     "text": [
      "100%|██████████| 155/155 [00:47<00:00,  3.26it/s]\n",
      "100%|██████████| 65/65 [00:57<00:00,  1.13it/s]\n",
      "100%|██████████| 18/18 [00:05<00:00,  3.36it/s]\n"
     ]
    },
    {
     "name": "stdout",
     "output_type": "stream",
     "text": [
      "1m 50s\n",
      "Early Stopping Counter = 3\n",
      "Epoch 115/300\n"
     ]
    },
    {
     "name": "stderr",
     "output_type": "stream",
     "text": [
      "100%|██████████| 155/155 [00:47<00:00,  3.26it/s]\n",
      "100%|██████████| 65/65 [00:57<00:00,  1.13it/s]\n",
      "100%|██████████| 18/18 [00:05<00:00,  3.27it/s]\n"
     ]
    },
    {
     "name": "stdout",
     "output_type": "stream",
     "text": [
      "1m 51s\n",
      "Early Stopping Counter = 4\n",
      "Epoch 116/300\n"
     ]
    },
    {
     "name": "stderr",
     "output_type": "stream",
     "text": [
      "100%|██████████| 155/155 [00:47<00:00,  3.26it/s]\n",
      "100%|██████████| 65/65 [00:57<00:00,  1.13it/s]\n",
      "100%|██████████| 18/18 [00:05<00:00,  3.39it/s]\n"
     ]
    },
    {
     "name": "stdout",
     "output_type": "stream",
     "text": [
      "1m 50s\n",
      "Consistency Loss declined to 0.009832728697130312\n",
      "Early Stopping Counter = 0\n",
      "Epoch 117/300\n"
     ]
    },
    {
     "name": "stderr",
     "output_type": "stream",
     "text": [
      "100%|██████████| 155/155 [00:47<00:00,  3.27it/s]\n",
      "100%|██████████| 65/65 [00:57<00:00,  1.13it/s]\n",
      "100%|██████████| 18/18 [00:05<00:00,  3.38it/s]\n"
     ]
    },
    {
     "name": "stdout",
     "output_type": "stream",
     "text": [
      "1m 50s\n",
      "Consistency Loss declined to 0.009536508893450866\n",
      "Early Stopping Counter = 0\n",
      "Epoch 118/300\n"
     ]
    },
    {
     "name": "stderr",
     "output_type": "stream",
     "text": [
      "100%|██████████| 155/155 [00:47<00:00,  3.26it/s]\n",
      "100%|██████████| 65/65 [00:57<00:00,  1.13it/s]\n",
      "100%|██████████| 18/18 [00:05<00:00,  3.29it/s]\n"
     ]
    },
    {
     "name": "stdout",
     "output_type": "stream",
     "text": [
      "1m 51s\n",
      "Consistency Loss declined to 0.009444169205828355\n",
      "Early Stopping Counter = 0\n",
      "Epoch 119/300\n"
     ]
    },
    {
     "name": "stderr",
     "output_type": "stream",
     "text": [
      "100%|██████████| 155/155 [00:47<00:00,  3.26it/s]\n",
      "100%|██████████| 65/65 [00:57<00:00,  1.13it/s]\n",
      "100%|██████████| 18/18 [00:05<00:00,  3.16it/s]\n"
     ]
    },
    {
     "name": "stdout",
     "output_type": "stream",
     "text": [
      "1m 51s\n",
      "Consistency Loss declined to 0.009439655701414897\n",
      "Early Stopping Counter = 0\n",
      "Epoch 120/300\n"
     ]
    },
    {
     "name": "stderr",
     "output_type": "stream",
     "text": [
      "100%|██████████| 155/155 [00:47<00:00,  3.25it/s]\n",
      "100%|██████████| 65/65 [00:57<00:00,  1.13it/s]\n",
      "100%|██████████| 18/18 [00:05<00:00,  3.30it/s]\n"
     ]
    },
    {
     "name": "stdout",
     "output_type": "stream",
     "text": [
      "1m 51s\n",
      "Early Stopping Counter = 1\n",
      "Epoch 121/300\n"
     ]
    },
    {
     "name": "stderr",
     "output_type": "stream",
     "text": [
      "100%|██████████| 155/155 [00:47<00:00,  3.26it/s]\n",
      "100%|██████████| 65/65 [00:57<00:00,  1.13it/s]\n",
      "100%|██████████| 18/18 [00:05<00:00,  3.26it/s]\n"
     ]
    },
    {
     "name": "stdout",
     "output_type": "stream",
     "text": [
      "1m 51s\n",
      "Early Stopping Counter = 2\n",
      "Epoch 122/300\n"
     ]
    },
    {
     "name": "stderr",
     "output_type": "stream",
     "text": [
      "100%|██████████| 155/155 [00:47<00:00,  3.27it/s]\n",
      "100%|██████████| 65/65 [00:57<00:00,  1.13it/s]\n",
      "100%|██████████| 18/18 [00:05<00:00,  3.29it/s]\n"
     ]
    },
    {
     "name": "stdout",
     "output_type": "stream",
     "text": [
      "1m 50s\n",
      "Consistency Loss declined to 0.009259146043600945\n",
      "Early Stopping Counter = 0\n",
      "Epoch 123/300\n"
     ]
    },
    {
     "name": "stderr",
     "output_type": "stream",
     "text": [
      "100%|██████████| 155/155 [00:47<00:00,  3.27it/s]\n",
      "100%|██████████| 65/65 [00:57<00:00,  1.13it/s]\n",
      "100%|██████████| 18/18 [00:05<00:00,  3.31it/s]\n"
     ]
    },
    {
     "name": "stdout",
     "output_type": "stream",
     "text": [
      "1m 50s\n",
      "Early Stopping Counter = 1\n",
      "Epoch 124/300\n"
     ]
    },
    {
     "name": "stderr",
     "output_type": "stream",
     "text": [
      "100%|██████████| 155/155 [00:47<00:00,  3.26it/s]\n",
      "100%|██████████| 65/65 [00:57<00:00,  1.13it/s]\n",
      "100%|██████████| 18/18 [00:05<00:00,  3.28it/s]\n"
     ]
    },
    {
     "name": "stdout",
     "output_type": "stream",
     "text": [
      "1m 51s\n",
      "Early Stopping Counter = 2\n",
      "Epoch 125/300\n"
     ]
    },
    {
     "name": "stderr",
     "output_type": "stream",
     "text": [
      "100%|██████████| 155/155 [00:47<00:00,  3.28it/s]\n",
      "100%|██████████| 65/65 [00:57<00:00,  1.13it/s]\n",
      "100%|██████████| 18/18 [00:05<00:00,  3.34it/s]\n"
     ]
    },
    {
     "name": "stdout",
     "output_type": "stream",
     "text": [
      "1m 50s\n",
      "Early Stopping Counter = 3\n",
      "Epoch 126/300\n"
     ]
    },
    {
     "name": "stderr",
     "output_type": "stream",
     "text": [
      "100%|██████████| 155/155 [00:47<00:00,  3.26it/s]\n",
      "100%|██████████| 65/65 [00:57<00:00,  1.13it/s]\n",
      "100%|██████████| 18/18 [00:05<00:00,  3.30it/s]\n"
     ]
    },
    {
     "name": "stdout",
     "output_type": "stream",
     "text": [
      "1m 50s\n",
      "Consistency Loss declined to 0.009102938180932631\n",
      "Early Stopping Counter = 0\n",
      "Epoch 127/300\n"
     ]
    },
    {
     "name": "stderr",
     "output_type": "stream",
     "text": [
      "100%|██████████| 155/155 [00:47<00:00,  3.27it/s]\n",
      "100%|██████████| 65/65 [00:57<00:00,  1.13it/s]\n",
      "100%|██████████| 18/18 [00:05<00:00,  3.20it/s]\n"
     ]
    },
    {
     "name": "stdout",
     "output_type": "stream",
     "text": [
      "1m 50s\n",
      "Early Stopping Counter = 1\n",
      "Epoch 128/300\n"
     ]
    },
    {
     "name": "stderr",
     "output_type": "stream",
     "text": [
      "100%|██████████| 155/155 [00:47<00:00,  3.26it/s]\n",
      "100%|██████████| 65/65 [00:57<00:00,  1.13it/s]\n",
      "100%|██████████| 18/18 [00:05<00:00,  3.36it/s]\n"
     ]
    },
    {
     "name": "stdout",
     "output_type": "stream",
     "text": [
      "1m 51s\n",
      "Consistency Loss declined to 0.008917148952157452\n",
      "Early Stopping Counter = 0\n",
      "Epoch 129/300\n"
     ]
    },
    {
     "name": "stderr",
     "output_type": "stream",
     "text": [
      "100%|██████████| 155/155 [00:47<00:00,  3.26it/s]\n",
      "100%|██████████| 65/65 [00:57<00:00,  1.13it/s]\n",
      "100%|██████████| 18/18 [00:05<00:00,  3.29it/s]\n"
     ]
    },
    {
     "name": "stdout",
     "output_type": "stream",
     "text": [
      "1m 50s\n",
      "Early Stopping Counter = 1\n",
      "Epoch 130/300\n"
     ]
    },
    {
     "name": "stderr",
     "output_type": "stream",
     "text": [
      "100%|██████████| 155/155 [00:47<00:00,  3.27it/s]\n",
      "100%|██████████| 65/65 [00:57<00:00,  1.13it/s]\n",
      "100%|██████████| 18/18 [00:05<00:00,  3.24it/s]\n"
     ]
    },
    {
     "name": "stdout",
     "output_type": "stream",
     "text": [
      "1m 50s\n",
      "Consistency Loss declined to 0.008914741941799339\n",
      "Early Stopping Counter = 0\n",
      "Epoch 131/300\n"
     ]
    },
    {
     "name": "stderr",
     "output_type": "stream",
     "text": [
      "100%|██████████| 155/155 [00:47<00:00,  3.26it/s]\n",
      "100%|██████████| 65/65 [00:57<00:00,  1.13it/s]\n",
      "100%|██████████| 18/18 [00:05<00:00,  3.37it/s]\n"
     ]
    },
    {
     "name": "stdout",
     "output_type": "stream",
     "text": [
      "1m 50s\n",
      "Consistency Loss declined to 0.00882950286166026\n",
      "Early Stopping Counter = 0\n",
      "Epoch 132/300\n"
     ]
    },
    {
     "name": "stderr",
     "output_type": "stream",
     "text": [
      "100%|██████████| 155/155 [00:47<00:00,  3.27it/s]\n",
      "100%|██████████| 65/65 [00:57<00:00,  1.13it/s]\n",
      "100%|██████████| 18/18 [00:05<00:00,  3.19it/s]\n"
     ]
    },
    {
     "name": "stdout",
     "output_type": "stream",
     "text": [
      "1m 51s\n",
      "Early Stopping Counter = 1\n",
      "Epoch 133/300\n"
     ]
    },
    {
     "name": "stderr",
     "output_type": "stream",
     "text": [
      "100%|██████████| 155/155 [00:47<00:00,  3.28it/s]\n",
      "100%|██████████| 65/65 [00:57<00:00,  1.13it/s]\n",
      "100%|██████████| 18/18 [00:05<00:00,  3.29it/s]\n"
     ]
    },
    {
     "name": "stdout",
     "output_type": "stream",
     "text": [
      "1m 50s\n",
      "Early Stopping Counter = 2\n",
      "Epoch 134/300\n"
     ]
    },
    {
     "name": "stderr",
     "output_type": "stream",
     "text": [
      "100%|██████████| 155/155 [00:47<00:00,  3.28it/s]\n",
      "100%|██████████| 65/65 [00:57<00:00,  1.13it/s]\n",
      "100%|██████████| 18/18 [00:05<00:00,  3.23it/s]\n"
     ]
    },
    {
     "name": "stdout",
     "output_type": "stream",
     "text": [
      "1m 50s\n",
      "Consistency Loss declined to 0.008760425154692851\n",
      "Early Stopping Counter = 0\n",
      "Epoch 135/300\n"
     ]
    },
    {
     "name": "stderr",
     "output_type": "stream",
     "text": [
      "100%|██████████| 155/155 [00:47<00:00,  3.28it/s]\n",
      "100%|██████████| 65/65 [00:57<00:00,  1.13it/s]\n",
      "100%|██████████| 18/18 [00:05<00:00,  3.27it/s]\n"
     ]
    },
    {
     "name": "stdout",
     "output_type": "stream",
     "text": [
      "1m 50s\n",
      "Consistency Loss declined to 0.008459136427308504\n",
      "Early Stopping Counter = 0\n",
      "Epoch 136/300\n"
     ]
    },
    {
     "name": "stderr",
     "output_type": "stream",
     "text": [
      "100%|██████████| 155/155 [00:47<00:00,  3.26it/s]\n",
      "100%|██████████| 65/65 [00:57<00:00,  1.13it/s]\n",
      "100%|██████████| 18/18 [00:05<00:00,  3.35it/s]\n"
     ]
    },
    {
     "name": "stdout",
     "output_type": "stream",
     "text": [
      "1m 51s\n",
      "Early Stopping Counter = 1\n",
      "Epoch 137/300\n"
     ]
    },
    {
     "name": "stderr",
     "output_type": "stream",
     "text": [
      "100%|██████████| 155/155 [00:47<00:00,  3.25it/s]\n",
      "100%|██████████| 65/65 [00:57<00:00,  1.13it/s]\n",
      "100%|██████████| 18/18 [00:05<00:00,  3.30it/s]\n"
     ]
    },
    {
     "name": "stdout",
     "output_type": "stream",
     "text": [
      "1m 51s\n",
      "Early Stopping Counter = 2\n",
      "Epoch 138/300\n"
     ]
    },
    {
     "name": "stderr",
     "output_type": "stream",
     "text": [
      "100%|██████████| 155/155 [00:47<00:00,  3.27it/s]\n",
      "100%|██████████| 65/65 [00:57<00:00,  1.13it/s]\n",
      "100%|██████████| 18/18 [00:05<00:00,  3.24it/s]\n"
     ]
    },
    {
     "name": "stdout",
     "output_type": "stream",
     "text": [
      "1m 51s\n",
      "Consistency Loss declined to 0.008149961274690353\n",
      "Early Stopping Counter = 0\n",
      "Epoch 139/300\n"
     ]
    },
    {
     "name": "stderr",
     "output_type": "stream",
     "text": [
      "100%|██████████| 155/155 [00:47<00:00,  3.24it/s]\n",
      "100%|██████████| 65/65 [00:57<00:00,  1.13it/s]\n",
      "100%|██████████| 18/18 [00:05<00:00,  3.24it/s]\n"
     ]
    },
    {
     "name": "stdout",
     "output_type": "stream",
     "text": [
      "1m 51s\n",
      "Early Stopping Counter = 1\n",
      "Epoch 140/300\n"
     ]
    },
    {
     "name": "stderr",
     "output_type": "stream",
     "text": [
      "100%|██████████| 155/155 [00:47<00:00,  3.27it/s]\n",
      "100%|██████████| 65/65 [00:57<00:00,  1.13it/s]\n",
      "100%|██████████| 18/18 [00:05<00:00,  3.34it/s]\n"
     ]
    },
    {
     "name": "stdout",
     "output_type": "stream",
     "text": [
      "1m 51s\n",
      "Early Stopping Counter = 2\n",
      "Epoch 141/300\n"
     ]
    },
    {
     "name": "stderr",
     "output_type": "stream",
     "text": [
      "100%|██████████| 155/155 [00:47<00:00,  3.25it/s]\n",
      "100%|██████████| 65/65 [00:57<00:00,  1.13it/s]\n",
      "100%|██████████| 18/18 [00:05<00:00,  3.30it/s]\n"
     ]
    },
    {
     "name": "stdout",
     "output_type": "stream",
     "text": [
      "1m 51s\n",
      "Early Stopping Counter = 3\n",
      "Epoch 142/300\n"
     ]
    },
    {
     "name": "stderr",
     "output_type": "stream",
     "text": [
      "100%|██████████| 155/155 [00:47<00:00,  3.27it/s]\n",
      "100%|██████████| 65/65 [00:57<00:00,  1.13it/s]\n",
      "100%|██████████| 18/18 [00:05<00:00,  3.32it/s]\n"
     ]
    },
    {
     "name": "stdout",
     "output_type": "stream",
     "text": [
      "1m 50s\n",
      "Early Stopping Counter = 4\n",
      "Epoch 143/300\n"
     ]
    },
    {
     "name": "stderr",
     "output_type": "stream",
     "text": [
      "100%|██████████| 155/155 [00:47<00:00,  3.26it/s]\n",
      "100%|██████████| 65/65 [00:57<00:00,  1.13it/s]\n",
      "100%|██████████| 18/18 [00:05<00:00,  3.29it/s]\n"
     ]
    },
    {
     "name": "stdout",
     "output_type": "stream",
     "text": [
      "1m 51s\n",
      "Early Stopping Counter = 5\n",
      "Epoch 144/300\n"
     ]
    },
    {
     "name": "stderr",
     "output_type": "stream",
     "text": [
      "100%|██████████| 155/155 [00:47<00:00,  3.26it/s]\n",
      "100%|██████████| 65/65 [00:57<00:00,  1.13it/s]\n",
      "100%|██████████| 18/18 [00:05<00:00,  3.27it/s]\n"
     ]
    },
    {
     "name": "stdout",
     "output_type": "stream",
     "text": [
      "1m 51s\n",
      "Consistency Loss declined to 0.008041688233900529\n",
      "Early Stopping Counter = 0\n",
      "Epoch 145/300\n"
     ]
    },
    {
     "name": "stderr",
     "output_type": "stream",
     "text": [
      "100%|██████████| 155/155 [00:47<00:00,  3.26it/s]\n",
      "100%|██████████| 65/65 [00:57<00:00,  1.13it/s]\n",
      "100%|██████████| 18/18 [00:05<00:00,  3.27it/s]\n"
     ]
    },
    {
     "name": "stdout",
     "output_type": "stream",
     "text": [
      "1m 51s\n",
      "Consistency Loss declined to 0.007734464202076197\n",
      "Early Stopping Counter = 0\n",
      "Epoch 146/300\n"
     ]
    },
    {
     "name": "stderr",
     "output_type": "stream",
     "text": [
      "100%|██████████| 155/155 [00:47<00:00,  3.26it/s]\n",
      "100%|██████████| 65/65 [00:57<00:00,  1.13it/s]\n",
      "100%|██████████| 18/18 [00:05<00:00,  3.24it/s]\n"
     ]
    },
    {
     "name": "stdout",
     "output_type": "stream",
     "text": [
      "1m 51s\n",
      "Early Stopping Counter = 1\n",
      "Epoch 147/300\n"
     ]
    },
    {
     "name": "stderr",
     "output_type": "stream",
     "text": [
      "100%|██████████| 155/155 [00:47<00:00,  3.25it/s]\n",
      "100%|██████████| 65/65 [00:57<00:00,  1.13it/s]\n",
      "100%|██████████| 18/18 [00:05<00:00,  3.21it/s]\n"
     ]
    },
    {
     "name": "stdout",
     "output_type": "stream",
     "text": [
      "1m 51s\n",
      "Early Stopping Counter = 2\n",
      "Epoch 148/300\n"
     ]
    },
    {
     "name": "stderr",
     "output_type": "stream",
     "text": [
      "100%|██████████| 155/155 [00:47<00:00,  3.27it/s]\n",
      "100%|██████████| 65/65 [00:57<00:00,  1.13it/s]\n",
      "100%|██████████| 18/18 [00:05<00:00,  3.24it/s]\n"
     ]
    },
    {
     "name": "stdout",
     "output_type": "stream",
     "text": [
      "1m 51s\n",
      "Early Stopping Counter = 3\n",
      "Epoch 149/300\n"
     ]
    },
    {
     "name": "stderr",
     "output_type": "stream",
     "text": [
      "100%|██████████| 155/155 [00:47<00:00,  3.24it/s]\n",
      "100%|██████████| 65/65 [00:57<00:00,  1.13it/s]\n",
      "100%|██████████| 18/18 [00:05<00:00,  3.24it/s]\n"
     ]
    },
    {
     "name": "stdout",
     "output_type": "stream",
     "text": [
      "1m 51s\n",
      "Early Stopping Counter = 4\n",
      "Epoch 150/300\n"
     ]
    },
    {
     "name": "stderr",
     "output_type": "stream",
     "text": [
      "100%|██████████| 155/155 [00:47<00:00,  3.26it/s]\n",
      "100%|██████████| 65/65 [00:57<00:00,  1.13it/s]\n",
      "100%|██████████| 18/18 [00:05<00:00,  3.32it/s]\n"
     ]
    },
    {
     "name": "stdout",
     "output_type": "stream",
     "text": [
      "1m 51s\n",
      "Early Stopping Counter = 5\n",
      "Epoch 151/300\n"
     ]
    },
    {
     "name": "stderr",
     "output_type": "stream",
     "text": [
      "100%|██████████| 155/155 [00:47<00:00,  3.25it/s]\n",
      "100%|██████████| 65/65 [00:57<00:00,  1.13it/s]\n",
      "100%|██████████| 18/18 [00:05<00:00,  3.18it/s]\n"
     ]
    },
    {
     "name": "stdout",
     "output_type": "stream",
     "text": [
      "1m 51s\n",
      "Early Stopping Counter = 6\n",
      "Epoch 152/300\n"
     ]
    },
    {
     "name": "stderr",
     "output_type": "stream",
     "text": [
      "100%|██████████| 155/155 [00:47<00:00,  3.24it/s]\n",
      "100%|██████████| 65/65 [00:57<00:00,  1.13it/s]\n",
      "100%|██████████| 18/18 [00:05<00:00,  3.32it/s]\n"
     ]
    },
    {
     "name": "stdout",
     "output_type": "stream",
     "text": [
      "1m 51s\n",
      "Consistency Loss declined to 0.007652917884003657\n",
      "Early Stopping Counter = 0\n",
      "Epoch 153/300\n"
     ]
    },
    {
     "name": "stderr",
     "output_type": "stream",
     "text": [
      "100%|██████████| 155/155 [00:47<00:00,  3.26it/s]\n",
      "100%|██████████| 65/65 [00:57<00:00,  1.13it/s]\n",
      "100%|██████████| 18/18 [00:05<00:00,  3.30it/s]\n"
     ]
    },
    {
     "name": "stdout",
     "output_type": "stream",
     "text": [
      "1m 50s\n",
      "Consistency Loss declined to 0.007471432604898627\n",
      "Early Stopping Counter = 0\n",
      "Epoch 154/300\n"
     ]
    },
    {
     "name": "stderr",
     "output_type": "stream",
     "text": [
      "100%|██████████| 155/155 [00:47<00:00,  3.26it/s]\n",
      "100%|██████████| 65/65 [00:57<00:00,  1.13it/s]\n",
      "100%|██████████| 18/18 [00:05<00:00,  3.30it/s]\n"
     ]
    },
    {
     "name": "stdout",
     "output_type": "stream",
     "text": [
      "1m 50s\n",
      "Early Stopping Counter = 1\n",
      "Epoch 155/300\n"
     ]
    },
    {
     "name": "stderr",
     "output_type": "stream",
     "text": [
      "100%|██████████| 155/155 [00:47<00:00,  3.27it/s]\n",
      "100%|██████████| 65/65 [00:57<00:00,  1.13it/s]\n",
      "100%|██████████| 18/18 [00:05<00:00,  3.36it/s]\n"
     ]
    },
    {
     "name": "stdout",
     "output_type": "stream",
     "text": [
      "1m 50s\n",
      "Early Stopping Counter = 2\n",
      "Epoch 156/300\n"
     ]
    },
    {
     "name": "stderr",
     "output_type": "stream",
     "text": [
      "100%|██████████| 155/155 [00:47<00:00,  3.26it/s]\n",
      "100%|██████████| 65/65 [00:57<00:00,  1.13it/s]\n",
      "100%|██████████| 18/18 [00:05<00:00,  3.32it/s]\n"
     ]
    },
    {
     "name": "stdout",
     "output_type": "stream",
     "text": [
      "1m 50s\n",
      "Early Stopping Counter = 3\n",
      "Epoch 157/300\n"
     ]
    },
    {
     "name": "stderr",
     "output_type": "stream",
     "text": [
      "100%|██████████| 155/155 [00:47<00:00,  3.27it/s]\n",
      "100%|██████████| 65/65 [00:57<00:00,  1.13it/s]\n",
      "100%|██████████| 18/18 [00:05<00:00,  3.26it/s]\n"
     ]
    },
    {
     "name": "stdout",
     "output_type": "stream",
     "text": [
      "1m 51s\n",
      "Early Stopping Counter = 4\n",
      "Epoch 158/300\n"
     ]
    },
    {
     "name": "stderr",
     "output_type": "stream",
     "text": [
      "100%|██████████| 155/155 [00:47<00:00,  3.27it/s]\n",
      "100%|██████████| 65/65 [00:57<00:00,  1.13it/s]\n",
      "100%|██████████| 18/18 [00:05<00:00,  3.32it/s]\n"
     ]
    },
    {
     "name": "stdout",
     "output_type": "stream",
     "text": [
      "1m 50s\n",
      "Early Stopping Counter = 5\n",
      "Epoch 159/300\n"
     ]
    },
    {
     "name": "stderr",
     "output_type": "stream",
     "text": [
      "100%|██████████| 155/155 [00:47<00:00,  3.27it/s]\n",
      "100%|██████████| 65/65 [00:57<00:00,  1.13it/s]\n",
      "100%|██████████| 18/18 [00:05<00:00,  3.32it/s]\n"
     ]
    },
    {
     "name": "stdout",
     "output_type": "stream",
     "text": [
      "1m 50s\n",
      "Early Stopping Counter = 6\n",
      "Epoch 160/300\n"
     ]
    },
    {
     "name": "stderr",
     "output_type": "stream",
     "text": [
      "100%|██████████| 155/155 [00:47<00:00,  3.27it/s]\n",
      "100%|██████████| 65/65 [00:57<00:00,  1.13it/s]\n",
      "100%|██████████| 18/18 [00:05<00:00,  3.27it/s]\n"
     ]
    },
    {
     "name": "stdout",
     "output_type": "stream",
     "text": [
      "1m 50s\n",
      "Early Stopping Counter = 7\n",
      "Epoch 161/300\n"
     ]
    },
    {
     "name": "stderr",
     "output_type": "stream",
     "text": [
      "100%|██████████| 155/155 [00:47<00:00,  3.26it/s]\n",
      "100%|██████████| 65/65 [00:57<00:00,  1.13it/s]\n",
      "100%|██████████| 18/18 [00:05<00:00,  3.28it/s]\n"
     ]
    },
    {
     "name": "stdout",
     "output_type": "stream",
     "text": [
      "1m 50s\n",
      "Early Stopping Counter = 8\n",
      "Epoch 162/300\n"
     ]
    },
    {
     "name": "stderr",
     "output_type": "stream",
     "text": [
      "100%|██████████| 155/155 [00:47<00:00,  3.27it/s]\n",
      "100%|██████████| 65/65 [00:57<00:00,  1.13it/s]\n",
      "100%|██████████| 18/18 [00:05<00:00,  3.29it/s]\n"
     ]
    },
    {
     "name": "stdout",
     "output_type": "stream",
     "text": [
      "1m 50s\n",
      "Consistency Loss declined to 0.007434125205215353\n",
      "Early Stopping Counter = 0\n",
      "Epoch 163/300\n"
     ]
    },
    {
     "name": "stderr",
     "output_type": "stream",
     "text": [
      "100%|██████████| 155/155 [00:47<00:00,  3.27it/s]\n",
      "100%|██████████| 65/65 [00:57<00:00,  1.13it/s]\n",
      "100%|██████████| 18/18 [00:05<00:00,  3.35it/s]\n"
     ]
    },
    {
     "name": "stdout",
     "output_type": "stream",
     "text": [
      "1m 50s\n",
      "Early Stopping Counter = 1\n",
      "Epoch 164/300\n"
     ]
    },
    {
     "name": "stderr",
     "output_type": "stream",
     "text": [
      "100%|██████████| 155/155 [00:47<00:00,  3.27it/s]\n",
      "100%|██████████| 65/65 [00:57<00:00,  1.13it/s]\n",
      "100%|██████████| 18/18 [00:05<00:00,  3.31it/s]\n"
     ]
    },
    {
     "name": "stdout",
     "output_type": "stream",
     "text": [
      "1m 50s\n",
      "Consistency Loss declined to 0.00720931482143127\n",
      "Early Stopping Counter = 0\n",
      "Epoch 165/300\n"
     ]
    },
    {
     "name": "stderr",
     "output_type": "stream",
     "text": [
      "100%|██████████| 155/155 [00:47<00:00,  3.27it/s]\n",
      "100%|██████████| 65/65 [00:57<00:00,  1.13it/s]\n",
      "100%|██████████| 18/18 [00:05<00:00,  3.37it/s]\n"
     ]
    },
    {
     "name": "stdout",
     "output_type": "stream",
     "text": [
      "1m 50s\n",
      "Early Stopping Counter = 1\n",
      "Epoch 166/300\n"
     ]
    },
    {
     "name": "stderr",
     "output_type": "stream",
     "text": [
      "100%|██████████| 155/155 [00:47<00:00,  3.25it/s]\n",
      "100%|██████████| 65/65 [00:57<00:00,  1.13it/s]\n",
      "100%|██████████| 18/18 [00:05<00:00,  3.30it/s]\n"
     ]
    },
    {
     "name": "stdout",
     "output_type": "stream",
     "text": [
      "1m 51s\n",
      "Consistency Loss declined to 0.007014259993313596\n",
      "Early Stopping Counter = 0\n",
      "Epoch 167/300\n"
     ]
    },
    {
     "name": "stderr",
     "output_type": "stream",
     "text": [
      "100%|██████████| 155/155 [00:47<00:00,  3.28it/s]\n",
      "100%|██████████| 65/65 [00:57<00:00,  1.13it/s]\n",
      "100%|██████████| 18/18 [00:05<00:00,  3.29it/s]\n"
     ]
    },
    {
     "name": "stdout",
     "output_type": "stream",
     "text": [
      "1m 50s\n",
      "Early Stopping Counter = 1\n",
      "Epoch 168/300\n"
     ]
    },
    {
     "name": "stderr",
     "output_type": "stream",
     "text": [
      "100%|██████████| 155/155 [00:47<00:00,  3.27it/s]\n",
      "100%|██████████| 65/65 [00:57<00:00,  1.13it/s]\n",
      "100%|██████████| 18/18 [00:05<00:00,  3.33it/s]\n"
     ]
    },
    {
     "name": "stdout",
     "output_type": "stream",
     "text": [
      "1m 50s\n",
      "Consistency Loss declined to 0.006844169564115313\n",
      "Early Stopping Counter = 0\n",
      "Epoch 169/300\n"
     ]
    },
    {
     "name": "stderr",
     "output_type": "stream",
     "text": [
      "100%|██████████| 155/155 [00:47<00:00,  3.26it/s]\n",
      "100%|██████████| 65/65 [00:57<00:00,  1.13it/s]\n",
      "100%|██████████| 18/18 [00:05<00:00,  3.35it/s]\n"
     ]
    },
    {
     "name": "stdout",
     "output_type": "stream",
     "text": [
      "1m 50s\n",
      "Early Stopping Counter = 1\n",
      "Epoch 170/300\n"
     ]
    },
    {
     "name": "stderr",
     "output_type": "stream",
     "text": [
      "100%|██████████| 155/155 [00:47<00:00,  3.26it/s]\n",
      "100%|██████████| 65/65 [00:57<00:00,  1.13it/s]\n",
      "100%|██████████| 18/18 [00:05<00:00,  3.40it/s]\n"
     ]
    },
    {
     "name": "stdout",
     "output_type": "stream",
     "text": [
      "1m 51s\n",
      "Early Stopping Counter = 2\n",
      "Epoch 171/300\n"
     ]
    },
    {
     "name": "stderr",
     "output_type": "stream",
     "text": [
      "100%|██████████| 155/155 [00:47<00:00,  3.28it/s]\n",
      "100%|██████████| 65/65 [00:57<00:00,  1.13it/s]\n",
      "100%|██████████| 18/18 [00:05<00:00,  3.16it/s]\n"
     ]
    },
    {
     "name": "stdout",
     "output_type": "stream",
     "text": [
      "1m 50s\n",
      "Early Stopping Counter = 3\n",
      "Epoch 172/300\n"
     ]
    },
    {
     "name": "stderr",
     "output_type": "stream",
     "text": [
      "100%|██████████| 155/155 [00:47<00:00,  3.28it/s]\n",
      "100%|██████████| 65/65 [00:57<00:00,  1.13it/s]\n",
      "100%|██████████| 18/18 [00:05<00:00,  3.28it/s]\n"
     ]
    },
    {
     "name": "stdout",
     "output_type": "stream",
     "text": [
      "1m 50s\n",
      "Early Stopping Counter = 4\n",
      "Epoch 173/300\n"
     ]
    },
    {
     "name": "stderr",
     "output_type": "stream",
     "text": [
      "100%|██████████| 155/155 [00:47<00:00,  3.28it/s]\n",
      "100%|██████████| 65/65 [00:57<00:00,  1.13it/s]\n",
      "100%|██████████| 18/18 [00:05<00:00,  3.35it/s]\n"
     ]
    },
    {
     "name": "stdout",
     "output_type": "stream",
     "text": [
      "1m 50s\n",
      "Early Stopping Counter = 5\n",
      "Epoch 174/300\n"
     ]
    },
    {
     "name": "stderr",
     "output_type": "stream",
     "text": [
      "100%|██████████| 155/155 [00:47<00:00,  3.27it/s]\n",
      "100%|██████████| 65/65 [00:57<00:00,  1.13it/s]\n",
      "100%|██████████| 18/18 [00:05<00:00,  3.25it/s]\n"
     ]
    },
    {
     "name": "stdout",
     "output_type": "stream",
     "text": [
      "1m 51s\n",
      "Early Stopping Counter = 6\n",
      "Epoch 175/300\n"
     ]
    },
    {
     "name": "stderr",
     "output_type": "stream",
     "text": [
      "100%|██████████| 155/155 [00:47<00:00,  3.28it/s]\n",
      "100%|██████████| 65/65 [00:57<00:00,  1.13it/s]\n",
      "100%|██████████| 18/18 [00:05<00:00,  3.27it/s]\n"
     ]
    },
    {
     "name": "stdout",
     "output_type": "stream",
     "text": [
      "1m 50s\n",
      "Early Stopping Counter = 7\n",
      "Epoch 176/300\n"
     ]
    },
    {
     "name": "stderr",
     "output_type": "stream",
     "text": [
      "100%|██████████| 155/155 [00:47<00:00,  3.26it/s]\n",
      "100%|██████████| 65/65 [00:57<00:00,  1.13it/s]\n",
      "100%|██████████| 18/18 [00:05<00:00,  3.34it/s]\n"
     ]
    },
    {
     "name": "stdout",
     "output_type": "stream",
     "text": [
      "1m 50s\n",
      "Early Stopping Counter = 8\n",
      "Epoch 177/300\n"
     ]
    },
    {
     "name": "stderr",
     "output_type": "stream",
     "text": [
      "100%|██████████| 155/155 [00:47<00:00,  3.27it/s]\n",
      "100%|██████████| 65/65 [00:57<00:00,  1.13it/s]\n",
      "100%|██████████| 18/18 [00:05<00:00,  3.17it/s]\n"
     ]
    },
    {
     "name": "stdout",
     "output_type": "stream",
     "text": [
      "1m 51s\n",
      "Consistency Loss declined to 0.006789633592304129\n",
      "Early Stopping Counter = 0\n",
      "Epoch 178/300\n"
     ]
    },
    {
     "name": "stderr",
     "output_type": "stream",
     "text": [
      "100%|██████████| 155/155 [00:47<00:00,  3.25it/s]\n",
      "100%|██████████| 65/65 [00:57<00:00,  1.13it/s]\n",
      "100%|██████████| 18/18 [00:05<00:00,  3.29it/s]\n"
     ]
    },
    {
     "name": "stdout",
     "output_type": "stream",
     "text": [
      "1m 51s\n",
      "Early Stopping Counter = 1\n",
      "Epoch 179/300\n"
     ]
    },
    {
     "name": "stderr",
     "output_type": "stream",
     "text": [
      "100%|██████████| 155/155 [00:47<00:00,  3.26it/s]\n",
      "100%|██████████| 65/65 [00:57<00:00,  1.13it/s]\n",
      "100%|██████████| 18/18 [00:05<00:00,  3.33it/s]\n"
     ]
    },
    {
     "name": "stdout",
     "output_type": "stream",
     "text": [
      "1m 51s\n",
      "Consistency Loss declined to 0.006751346287245934\n",
      "Early Stopping Counter = 0\n",
      "Epoch 180/300\n"
     ]
    },
    {
     "name": "stderr",
     "output_type": "stream",
     "text": [
      "100%|██████████| 155/155 [00:47<00:00,  3.26it/s]\n",
      "100%|██████████| 65/65 [00:57<00:00,  1.13it/s]\n",
      "100%|██████████| 18/18 [00:05<00:00,  3.26it/s]\n"
     ]
    },
    {
     "name": "stdout",
     "output_type": "stream",
     "text": [
      "1m 51s\n",
      "Early Stopping Counter = 1\n",
      "Epoch 181/300\n"
     ]
    },
    {
     "name": "stderr",
     "output_type": "stream",
     "text": [
      "100%|██████████| 155/155 [00:47<00:00,  3.23it/s]\n",
      "100%|██████████| 65/65 [00:57<00:00,  1.13it/s]\n",
      "100%|██████████| 18/18 [00:05<00:00,  3.36it/s]\n"
     ]
    },
    {
     "name": "stdout",
     "output_type": "stream",
     "text": [
      "1m 51s\n",
      "Consistency Loss declined to 0.006677255539510113\n",
      "Early Stopping Counter = 0\n",
      "Epoch 182/300\n"
     ]
    },
    {
     "name": "stderr",
     "output_type": "stream",
     "text": [
      "100%|██████████| 155/155 [00:47<00:00,  3.26it/s]\n",
      "100%|██████████| 65/65 [00:57<00:00,  1.13it/s]\n",
      "100%|██████████| 18/18 [00:05<00:00,  3.30it/s]\n"
     ]
    },
    {
     "name": "stdout",
     "output_type": "stream",
     "text": [
      "1m 51s\n",
      "Early Stopping Counter = 1\n",
      "Epoch 183/300\n"
     ]
    },
    {
     "name": "stderr",
     "output_type": "stream",
     "text": [
      "100%|██████████| 155/155 [00:47<00:00,  3.24it/s]\n",
      "100%|██████████| 65/65 [00:57<00:00,  1.13it/s]\n",
      "100%|██████████| 18/18 [00:05<00:00,  3.34it/s]\n"
     ]
    },
    {
     "name": "stdout",
     "output_type": "stream",
     "text": [
      "1m 51s\n",
      "Early Stopping Counter = 2\n",
      "Epoch 184/300\n"
     ]
    },
    {
     "name": "stderr",
     "output_type": "stream",
     "text": [
      "100%|██████████| 155/155 [00:47<00:00,  3.27it/s]\n",
      "100%|██████████| 65/65 [00:57<00:00,  1.13it/s]\n",
      "100%|██████████| 18/18 [00:05<00:00,  3.40it/s]\n"
     ]
    },
    {
     "name": "stdout",
     "output_type": "stream",
     "text": [
      "1m 50s\n",
      "Early Stopping Counter = 3\n",
      "Epoch 185/300\n"
     ]
    },
    {
     "name": "stderr",
     "output_type": "stream",
     "text": [
      "100%|██████████| 155/155 [00:47<00:00,  3.25it/s]\n",
      "100%|██████████| 65/65 [00:57<00:00,  1.13it/s]\n",
      "100%|██████████| 18/18 [00:05<00:00,  3.28it/s]\n"
     ]
    },
    {
     "name": "stdout",
     "output_type": "stream",
     "text": [
      "1m 51s\n",
      "Early Stopping Counter = 4\n",
      "Epoch 186/300\n"
     ]
    },
    {
     "name": "stderr",
     "output_type": "stream",
     "text": [
      "100%|██████████| 155/155 [00:47<00:00,  3.25it/s]\n",
      "100%|██████████| 65/65 [00:57<00:00,  1.13it/s]\n",
      "100%|██████████| 18/18 [00:05<00:00,  3.37it/s]\n"
     ]
    },
    {
     "name": "stdout",
     "output_type": "stream",
     "text": [
      "1m 51s\n",
      "Consistency Loss declined to 0.006629631686239288\n",
      "Early Stopping Counter = 0\n",
      "Epoch 187/300\n"
     ]
    },
    {
     "name": "stderr",
     "output_type": "stream",
     "text": [
      "100%|██████████| 155/155 [00:47<00:00,  3.26it/s]\n",
      "100%|██████████| 65/65 [00:57<00:00,  1.13it/s]\n",
      "100%|██████████| 18/18 [00:05<00:00,  3.21it/s]\n"
     ]
    },
    {
     "name": "stdout",
     "output_type": "stream",
     "text": [
      "1m 51s\n",
      "Consistency Loss declined to 0.006585566910843436\n",
      "Early Stopping Counter = 0\n",
      "Epoch 188/300\n"
     ]
    },
    {
     "name": "stderr",
     "output_type": "stream",
     "text": [
      "100%|██████████| 155/155 [00:47<00:00,  3.26it/s]\n",
      "100%|██████████| 65/65 [00:57<00:00,  1.13it/s]\n",
      "100%|██████████| 18/18 [00:05<00:00,  3.25it/s]\n"
     ]
    },
    {
     "name": "stdout",
     "output_type": "stream",
     "text": [
      "1m 51s\n",
      "Early Stopping Counter = 1\n",
      "Epoch 189/300\n"
     ]
    },
    {
     "name": "stderr",
     "output_type": "stream",
     "text": [
      "100%|██████████| 155/155 [00:47<00:00,  3.25it/s]\n",
      "100%|██████████| 65/65 [00:57<00:00,  1.13it/s]\n",
      "100%|██████████| 18/18 [00:05<00:00,  3.31it/s]\n"
     ]
    },
    {
     "name": "stdout",
     "output_type": "stream",
     "text": [
      "1m 50s\n",
      "Consistency Loss declined to 0.006411655007216793\n",
      "Early Stopping Counter = 0\n",
      "Epoch 190/300\n"
     ]
    },
    {
     "name": "stderr",
     "output_type": "stream",
     "text": [
      "100%|██████████| 155/155 [00:47<00:00,  3.26it/s]\n",
      "100%|██████████| 65/65 [00:57<00:00,  1.13it/s]\n",
      "100%|██████████| 18/18 [00:05<00:00,  3.25it/s]\n"
     ]
    },
    {
     "name": "stdout",
     "output_type": "stream",
     "text": [
      "1m 51s\n",
      "Early Stopping Counter = 1\n",
      "Epoch 191/300\n"
     ]
    },
    {
     "name": "stderr",
     "output_type": "stream",
     "text": [
      "100%|██████████| 155/155 [00:47<00:00,  3.26it/s]\n",
      "100%|██████████| 65/65 [00:57<00:00,  1.13it/s]\n",
      "100%|██████████| 18/18 [00:05<00:00,  3.33it/s]\n"
     ]
    },
    {
     "name": "stdout",
     "output_type": "stream",
     "text": [
      "1m 51s\n",
      "Early Stopping Counter = 2\n",
      "Epoch 192/300\n"
     ]
    },
    {
     "name": "stderr",
     "output_type": "stream",
     "text": [
      "100%|██████████| 155/155 [00:47<00:00,  3.27it/s]\n",
      "100%|██████████| 65/65 [00:57<00:00,  1.13it/s]\n",
      "100%|██████████| 18/18 [00:05<00:00,  3.23it/s]\n"
     ]
    },
    {
     "name": "stdout",
     "output_type": "stream",
     "text": [
      "1m 50s\n",
      "Early Stopping Counter = 3\n",
      "Epoch 193/300\n"
     ]
    },
    {
     "name": "stderr",
     "output_type": "stream",
     "text": [
      "100%|██████████| 155/155 [00:47<00:00,  3.25it/s]\n",
      "100%|██████████| 65/65 [00:57<00:00,  1.13it/s]\n",
      "100%|██████████| 18/18 [00:05<00:00,  3.25it/s]\n"
     ]
    },
    {
     "name": "stdout",
     "output_type": "stream",
     "text": [
      "1m 51s\n",
      "Consistency Loss declined to 0.006406704959674523\n",
      "Early Stopping Counter = 0\n",
      "Epoch 194/300\n"
     ]
    },
    {
     "name": "stderr",
     "output_type": "stream",
     "text": [
      "100%|██████████| 155/155 [00:47<00:00,  3.27it/s]\n",
      "100%|██████████| 65/65 [00:57<00:00,  1.13it/s]\n",
      "100%|██████████| 18/18 [00:05<00:00,  3.28it/s]\n"
     ]
    },
    {
     "name": "stdout",
     "output_type": "stream",
     "text": [
      "1m 50s\n",
      "Consistency Loss declined to 0.006311029869203384\n",
      "Early Stopping Counter = 0\n",
      "Epoch 195/300\n"
     ]
    },
    {
     "name": "stderr",
     "output_type": "stream",
     "text": [
      "100%|██████████| 155/155 [00:47<00:00,  3.26it/s]\n",
      "100%|██████████| 65/65 [00:57<00:00,  1.13it/s]\n",
      "100%|██████████| 18/18 [00:05<00:00,  3.31it/s]\n"
     ]
    },
    {
     "name": "stdout",
     "output_type": "stream",
     "text": [
      "1m 50s\n",
      "Consistency Loss declined to 0.006284323395588077\n",
      "Early Stopping Counter = 0\n",
      "Epoch 196/300\n"
     ]
    },
    {
     "name": "stderr",
     "output_type": "stream",
     "text": [
      "100%|██████████| 155/155 [00:47<00:00,  3.28it/s]\n",
      "100%|██████████| 65/65 [00:57<00:00,  1.13it/s]\n",
      "100%|██████████| 18/18 [00:05<00:00,  3.28it/s]\n"
     ]
    },
    {
     "name": "stdout",
     "output_type": "stream",
     "text": [
      "1m 50s\n",
      "Consistency Loss declined to 0.006172140497857561\n",
      "Early Stopping Counter = 0\n",
      "Epoch 197/300\n"
     ]
    },
    {
     "name": "stderr",
     "output_type": "stream",
     "text": [
      "100%|██████████| 155/155 [00:47<00:00,  3.28it/s]\n",
      "100%|██████████| 65/65 [00:57<00:00,  1.13it/s]\n",
      "100%|██████████| 18/18 [00:05<00:00,  3.25it/s]\n"
     ]
    },
    {
     "name": "stdout",
     "output_type": "stream",
     "text": [
      "1m 50s\n",
      "Consistency Loss declined to 0.006100344650733929\n",
      "Early Stopping Counter = 0\n",
      "Epoch 198/300\n"
     ]
    },
    {
     "name": "stderr",
     "output_type": "stream",
     "text": [
      "100%|██████████| 155/155 [00:47<00:00,  3.28it/s]\n",
      "100%|██████████| 65/65 [00:57<00:00,  1.13it/s]\n",
      "100%|██████████| 18/18 [00:05<00:00,  3.29it/s]\n"
     ]
    },
    {
     "name": "stdout",
     "output_type": "stream",
     "text": [
      "1m 50s\n",
      "Early Stopping Counter = 1\n",
      "Epoch 199/300\n"
     ]
    },
    {
     "name": "stderr",
     "output_type": "stream",
     "text": [
      "100%|██████████| 155/155 [00:47<00:00,  3.26it/s]\n",
      "100%|██████████| 65/65 [00:57<00:00,  1.13it/s]\n",
      "100%|██████████| 18/18 [00:05<00:00,  3.23it/s]\n"
     ]
    },
    {
     "name": "stdout",
     "output_type": "stream",
     "text": [
      "1m 50s\n",
      "Early Stopping Counter = 2\n",
      "Epoch 200/300\n"
     ]
    },
    {
     "name": "stderr",
     "output_type": "stream",
     "text": [
      "100%|██████████| 155/155 [00:47<00:00,  3.29it/s]\n",
      "100%|██████████| 65/65 [00:57<00:00,  1.13it/s]\n",
      "100%|██████████| 18/18 [00:05<00:00,  3.15it/s]\n"
     ]
    },
    {
     "name": "stdout",
     "output_type": "stream",
     "text": [
      "1m 50s\n",
      "Consistency Loss declined to 0.006048564756145844\n",
      "Early Stopping Counter = 0\n",
      "Epoch 201/300\n"
     ]
    },
    {
     "name": "stderr",
     "output_type": "stream",
     "text": [
      "100%|██████████| 155/155 [00:47<00:00,  3.28it/s]\n",
      "100%|██████████| 65/65 [00:57<00:00,  1.13it/s]\n",
      "100%|██████████| 18/18 [00:05<00:00,  3.34it/s]\n"
     ]
    },
    {
     "name": "stdout",
     "output_type": "stream",
     "text": [
      "1m 50s\n",
      "Early Stopping Counter = 1\n",
      "Epoch 202/300\n"
     ]
    },
    {
     "name": "stderr",
     "output_type": "stream",
     "text": [
      "100%|██████████| 155/155 [00:47<00:00,  3.26it/s]\n",
      "100%|██████████| 65/65 [00:57<00:00,  1.13it/s]\n",
      "100%|██████████| 18/18 [00:05<00:00,  3.31it/s]\n"
     ]
    },
    {
     "name": "stdout",
     "output_type": "stream",
     "text": [
      "1m 50s\n",
      "Early Stopping Counter = 2\n",
      "Epoch 203/300\n"
     ]
    },
    {
     "name": "stderr",
     "output_type": "stream",
     "text": [
      "100%|██████████| 155/155 [00:47<00:00,  3.27it/s]\n",
      "100%|██████████| 65/65 [00:57<00:00,  1.13it/s]\n",
      "100%|██████████| 18/18 [00:05<00:00,  3.26it/s]\n"
     ]
    },
    {
     "name": "stdout",
     "output_type": "stream",
     "text": [
      "1m 51s\n",
      "Early Stopping Counter = 3\n",
      "Epoch 204/300\n"
     ]
    },
    {
     "name": "stderr",
     "output_type": "stream",
     "text": [
      "100%|██████████| 155/155 [00:47<00:00,  3.27it/s]\n",
      "100%|██████████| 65/65 [00:57<00:00,  1.13it/s]\n",
      "100%|██████████| 18/18 [00:05<00:00,  3.29it/s]\n"
     ]
    },
    {
     "name": "stdout",
     "output_type": "stream",
     "text": [
      "1m 50s\n",
      "Early Stopping Counter = 4\n",
      "Epoch 205/300\n"
     ]
    },
    {
     "name": "stderr",
     "output_type": "stream",
     "text": [
      "100%|██████████| 155/155 [00:47<00:00,  3.27it/s]\n",
      "100%|██████████| 65/65 [00:57<00:00,  1.13it/s]\n",
      "100%|██████████| 18/18 [00:05<00:00,  3.27it/s]\n"
     ]
    },
    {
     "name": "stdout",
     "output_type": "stream",
     "text": [
      "1m 50s\n",
      "Early Stopping Counter = 5\n",
      "Epoch 206/300\n"
     ]
    },
    {
     "name": "stderr",
     "output_type": "stream",
     "text": [
      "100%|██████████| 155/155 [00:47<00:00,  3.27it/s]\n",
      "100%|██████████| 65/65 [00:57<00:00,  1.13it/s]\n",
      "100%|██████████| 18/18 [00:05<00:00,  3.28it/s]\n"
     ]
    },
    {
     "name": "stdout",
     "output_type": "stream",
     "text": [
      "1m 51s\n",
      "Consistency Loss declined to 0.005866992394798077\n",
      "Early Stopping Counter = 0\n",
      "Epoch 207/300\n"
     ]
    },
    {
     "name": "stderr",
     "output_type": "stream",
     "text": [
      "100%|██████████| 155/155 [00:47<00:00,  3.25it/s]\n",
      "100%|██████████| 65/65 [00:57<00:00,  1.13it/s]\n",
      "100%|██████████| 18/18 [00:05<00:00,  3.31it/s]\n"
     ]
    },
    {
     "name": "stdout",
     "output_type": "stream",
     "text": [
      "1m 51s\n",
      "Early Stopping Counter = 1\n",
      "Epoch 208/300\n"
     ]
    },
    {
     "name": "stderr",
     "output_type": "stream",
     "text": [
      "100%|██████████| 155/155 [00:47<00:00,  3.26it/s]\n",
      "100%|██████████| 65/65 [00:57<00:00,  1.13it/s]\n",
      "100%|██████████| 18/18 [00:05<00:00,  3.29it/s]\n"
     ]
    },
    {
     "name": "stdout",
     "output_type": "stream",
     "text": [
      "1m 51s\n",
      "Early Stopping Counter = 2\n",
      "Epoch 209/300\n"
     ]
    },
    {
     "name": "stderr",
     "output_type": "stream",
     "text": [
      "100%|██████████| 155/155 [00:47<00:00,  3.25it/s]\n",
      "100%|██████████| 65/65 [00:57<00:00,  1.13it/s]\n",
      "100%|██████████| 18/18 [00:05<00:00,  3.31it/s]\n"
     ]
    },
    {
     "name": "stdout",
     "output_type": "stream",
     "text": [
      "1m 51s\n",
      "Early Stopping Counter = 3\n",
      "Epoch 210/300\n"
     ]
    },
    {
     "name": "stderr",
     "output_type": "stream",
     "text": [
      "100%|██████████| 155/155 [00:47<00:00,  3.26it/s]\n",
      "100%|██████████| 65/65 [00:57<00:00,  1.13it/s]\n",
      "100%|██████████| 18/18 [00:05<00:00,  3.25it/s]\n"
     ]
    },
    {
     "name": "stdout",
     "output_type": "stream",
     "text": [
      "1m 51s\n",
      "Early Stopping Counter = 4\n",
      "Epoch 211/300\n"
     ]
    },
    {
     "name": "stderr",
     "output_type": "stream",
     "text": [
      "100%|██████████| 155/155 [00:47<00:00,  3.26it/s]\n",
      "100%|██████████| 65/65 [00:57<00:00,  1.13it/s]\n",
      "100%|██████████| 18/18 [00:05<00:00,  3.24it/s]\n"
     ]
    },
    {
     "name": "stdout",
     "output_type": "stream",
     "text": [
      "1m 50s\n",
      "Early Stopping Counter = 5\n",
      "Epoch 212/300\n"
     ]
    },
    {
     "name": "stderr",
     "output_type": "stream",
     "text": [
      "100%|██████████| 155/155 [00:47<00:00,  3.26it/s]\n",
      "100%|██████████| 65/65 [00:57<00:00,  1.13it/s]\n",
      "100%|██████████| 18/18 [00:05<00:00,  3.29it/s]\n"
     ]
    },
    {
     "name": "stdout",
     "output_type": "stream",
     "text": [
      "1m 51s\n",
      "Early Stopping Counter = 6\n",
      "Epoch 213/300\n"
     ]
    },
    {
     "name": "stderr",
     "output_type": "stream",
     "text": [
      "100%|██████████| 155/155 [00:47<00:00,  3.26it/s]\n",
      "100%|██████████| 65/65 [00:57<00:00,  1.13it/s]\n",
      "100%|██████████| 18/18 [00:05<00:00,  3.30it/s]\n"
     ]
    },
    {
     "name": "stdout",
     "output_type": "stream",
     "text": [
      "1m 51s\n",
      "Early Stopping Counter = 7\n",
      "Epoch 214/300\n"
     ]
    },
    {
     "name": "stderr",
     "output_type": "stream",
     "text": [
      "100%|██████████| 155/155 [00:47<00:00,  3.25it/s]\n",
      "100%|██████████| 65/65 [00:57<00:00,  1.13it/s]\n",
      "100%|██████████| 18/18 [00:05<00:00,  3.25it/s]\n"
     ]
    },
    {
     "name": "stdout",
     "output_type": "stream",
     "text": [
      "1m 51s\n",
      "Consistency Loss declined to 0.005851445579901337\n",
      "Early Stopping Counter = 0\n",
      "Epoch 215/300\n"
     ]
    },
    {
     "name": "stderr",
     "output_type": "stream",
     "text": [
      "100%|██████████| 155/155 [00:47<00:00,  3.25it/s]\n",
      "100%|██████████| 65/65 [00:57<00:00,  1.12it/s]\n",
      "100%|██████████| 18/18 [00:05<00:00,  3.27it/s]\n"
     ]
    },
    {
     "name": "stdout",
     "output_type": "stream",
     "text": [
      "1m 51s\n",
      "Early Stopping Counter = 1\n",
      "Epoch 216/300\n"
     ]
    },
    {
     "name": "stderr",
     "output_type": "stream",
     "text": [
      "100%|██████████| 155/155 [00:47<00:00,  3.25it/s]\n",
      "100%|██████████| 65/65 [00:57<00:00,  1.13it/s]\n",
      "100%|██████████| 18/18 [00:05<00:00,  3.23it/s]\n"
     ]
    },
    {
     "name": "stdout",
     "output_type": "stream",
     "text": [
      "1m 51s\n",
      "Early Stopping Counter = 2\n",
      "Epoch 217/300\n"
     ]
    },
    {
     "name": "stderr",
     "output_type": "stream",
     "text": [
      "100%|██████████| 155/155 [00:47<00:00,  3.25it/s]\n",
      "100%|██████████| 65/65 [00:57<00:00,  1.13it/s]\n",
      "100%|██████████| 18/18 [00:05<00:00,  3.24it/s]\n"
     ]
    },
    {
     "name": "stdout",
     "output_type": "stream",
     "text": [
      "1m 51s\n",
      "Early Stopping Counter = 3\n",
      "Epoch 218/300\n"
     ]
    },
    {
     "name": "stderr",
     "output_type": "stream",
     "text": [
      "100%|██████████| 155/155 [00:47<00:00,  3.24it/s]\n",
      "100%|██████████| 65/65 [00:57<00:00,  1.13it/s]\n",
      "100%|██████████| 18/18 [00:05<00:00,  3.24it/s]\n"
     ]
    },
    {
     "name": "stdout",
     "output_type": "stream",
     "text": [
      "1m 51s\n",
      "Early Stopping Counter = 4\n",
      "Epoch 219/300\n"
     ]
    },
    {
     "name": "stderr",
     "output_type": "stream",
     "text": [
      "100%|██████████| 155/155 [00:47<00:00,  3.26it/s]\n",
      "100%|██████████| 65/65 [00:57<00:00,  1.13it/s]\n",
      "100%|██████████| 18/18 [00:05<00:00,  3.35it/s]\n"
     ]
    },
    {
     "name": "stdout",
     "output_type": "stream",
     "text": [
      "1m 50s\n",
      "Early Stopping Counter = 5\n",
      "Epoch 220/300\n"
     ]
    },
    {
     "name": "stderr",
     "output_type": "stream",
     "text": [
      "100%|██████████| 155/155 [00:47<00:00,  3.24it/s]\n",
      "100%|██████████| 65/65 [00:57<00:00,  1.13it/s]\n",
      "100%|██████████| 18/18 [00:05<00:00,  3.24it/s]\n"
     ]
    },
    {
     "name": "stdout",
     "output_type": "stream",
     "text": [
      "1m 51s\n",
      "Early Stopping Counter = 6\n",
      "Epoch 221/300\n"
     ]
    },
    {
     "name": "stderr",
     "output_type": "stream",
     "text": [
      "100%|██████████| 155/155 [00:47<00:00,  3.26it/s]\n",
      "100%|██████████| 65/65 [00:57<00:00,  1.13it/s]\n",
      "100%|██████████| 18/18 [00:05<00:00,  3.27it/s]\n"
     ]
    },
    {
     "name": "stdout",
     "output_type": "stream",
     "text": [
      "1m 51s\n",
      "Early Stopping Counter = 7\n",
      "Epoch 222/300\n"
     ]
    },
    {
     "name": "stderr",
     "output_type": "stream",
     "text": [
      "100%|██████████| 155/155 [00:47<00:00,  3.26it/s]\n",
      "100%|██████████| 65/65 [00:57<00:00,  1.13it/s]\n",
      "100%|██████████| 18/18 [00:05<00:00,  3.25it/s]\n"
     ]
    },
    {
     "name": "stdout",
     "output_type": "stream",
     "text": [
      "1m 50s\n",
      "Early Stopping Counter = 8\n",
      "Epoch 223/300\n"
     ]
    },
    {
     "name": "stderr",
     "output_type": "stream",
     "text": [
      "100%|██████████| 155/155 [00:47<00:00,  3.24it/s]\n",
      "100%|██████████| 65/65 [00:57<00:00,  1.13it/s]\n",
      "100%|██████████| 18/18 [00:05<00:00,  3.23it/s]\n"
     ]
    },
    {
     "name": "stdout",
     "output_type": "stream",
     "text": [
      "1m 51s\n",
      "Early Stopping Counter = 9\n",
      "Epoch 224/300\n"
     ]
    },
    {
     "name": "stderr",
     "output_type": "stream",
     "text": [
      "100%|██████████| 155/155 [00:47<00:00,  3.26it/s]\n",
      "100%|██████████| 65/65 [00:57<00:00,  1.13it/s]\n",
      "100%|██████████| 18/18 [00:05<00:00,  3.32it/s]\n"
     ]
    },
    {
     "name": "stdout",
     "output_type": "stream",
     "text": [
      "1m 50s\n",
      "Consistency Loss declined to 0.0057573519539661135\n",
      "Early Stopping Counter = 0\n",
      "Epoch 225/300\n"
     ]
    },
    {
     "name": "stderr",
     "output_type": "stream",
     "text": [
      "100%|██████████| 155/155 [00:47<00:00,  3.26it/s]\n",
      "100%|██████████| 65/65 [00:57<00:00,  1.13it/s]\n",
      "100%|██████████| 18/18 [00:05<00:00,  3.39it/s]\n"
     ]
    },
    {
     "name": "stdout",
     "output_type": "stream",
     "text": [
      "1m 50s\n",
      "Early Stopping Counter = 1\n",
      "Epoch 226/300\n"
     ]
    },
    {
     "name": "stderr",
     "output_type": "stream",
     "text": [
      "100%|██████████| 155/155 [00:47<00:00,  3.26it/s]\n",
      "100%|██████████| 65/65 [00:57<00:00,  1.13it/s]\n",
      "100%|██████████| 18/18 [00:05<00:00,  3.31it/s]\n"
     ]
    },
    {
     "name": "stdout",
     "output_type": "stream",
     "text": [
      "1m 50s\n",
      "Consistency Loss declined to 0.005529258006180708\n",
      "Early Stopping Counter = 0\n",
      "Epoch 227/300\n"
     ]
    },
    {
     "name": "stderr",
     "output_type": "stream",
     "text": [
      "100%|██████████| 155/155 [00:47<00:00,  3.28it/s]\n",
      "100%|██████████| 65/65 [00:57<00:00,  1.13it/s]\n",
      "100%|██████████| 18/18 [00:05<00:00,  3.33it/s]\n"
     ]
    },
    {
     "name": "stdout",
     "output_type": "stream",
     "text": [
      "1m 50s\n",
      "Consistency Loss declined to 0.005436131143226074\n",
      "Early Stopping Counter = 0\n",
      "Epoch 228/300\n"
     ]
    },
    {
     "name": "stderr",
     "output_type": "stream",
     "text": [
      "100%|██████████| 155/155 [00:47<00:00,  3.28it/s]\n",
      "100%|██████████| 65/65 [00:57<00:00,  1.13it/s]\n",
      "100%|██████████| 18/18 [00:05<00:00,  3.31it/s]\n"
     ]
    },
    {
     "name": "stdout",
     "output_type": "stream",
     "text": [
      "1m 50s\n",
      "Early Stopping Counter = 1\n",
      "Epoch 229/300\n"
     ]
    },
    {
     "name": "stderr",
     "output_type": "stream",
     "text": [
      "100%|██████████| 155/155 [00:47<00:00,  3.26it/s]\n",
      "100%|██████████| 65/65 [00:57<00:00,  1.13it/s]\n",
      "100%|██████████| 18/18 [00:05<00:00,  3.26it/s]\n"
     ]
    },
    {
     "name": "stdout",
     "output_type": "stream",
     "text": [
      "1m 50s\n",
      "Early Stopping Counter = 2\n",
      "Epoch 230/300\n"
     ]
    },
    {
     "name": "stderr",
     "output_type": "stream",
     "text": [
      "100%|██████████| 155/155 [00:47<00:00,  3.27it/s]\n",
      "100%|██████████| 65/65 [00:57<00:00,  1.13it/s]\n",
      "100%|██████████| 18/18 [00:05<00:00,  3.33it/s]\n"
     ]
    },
    {
     "name": "stdout",
     "output_type": "stream",
     "text": [
      "1m 51s\n",
      "Early Stopping Counter = 3\n",
      "Epoch 231/300\n"
     ]
    },
    {
     "name": "stderr",
     "output_type": "stream",
     "text": [
      "100%|██████████| 155/155 [00:47<00:00,  3.27it/s]\n",
      "100%|██████████| 65/65 [00:57<00:00,  1.13it/s]\n",
      "100%|██████████| 18/18 [00:05<00:00,  3.29it/s]\n"
     ]
    },
    {
     "name": "stdout",
     "output_type": "stream",
     "text": [
      "1m 50s\n",
      "Early Stopping Counter = 4\n",
      "Epoch 232/300\n"
     ]
    },
    {
     "name": "stderr",
     "output_type": "stream",
     "text": [
      "100%|██████████| 155/155 [00:47<00:00,  3.26it/s]\n",
      "100%|██████████| 65/65 [00:57<00:00,  1.13it/s]\n",
      "100%|██████████| 18/18 [00:05<00:00,  3.29it/s]\n"
     ]
    },
    {
     "name": "stdout",
     "output_type": "stream",
     "text": [
      "1m 51s\n",
      "Consistency Loss declined to 0.005403594364627049\n",
      "Early Stopping Counter = 0\n",
      "Epoch 233/300\n"
     ]
    },
    {
     "name": "stderr",
     "output_type": "stream",
     "text": [
      "100%|██████████| 155/155 [00:47<00:00,  3.26it/s]\n",
      "100%|██████████| 65/65 [00:57<00:00,  1.13it/s]\n",
      "100%|██████████| 18/18 [00:05<00:00,  3.27it/s]\n"
     ]
    },
    {
     "name": "stdout",
     "output_type": "stream",
     "text": [
      "1m 50s\n",
      "Early Stopping Counter = 1\n",
      "Epoch 234/300\n"
     ]
    },
    {
     "name": "stderr",
     "output_type": "stream",
     "text": [
      "100%|██████████| 155/155 [00:47<00:00,  3.26it/s]\n",
      "100%|██████████| 65/65 [00:57<00:00,  1.13it/s]\n",
      "100%|██████████| 18/18 [00:05<00:00,  3.30it/s]\n"
     ]
    },
    {
     "name": "stdout",
     "output_type": "stream",
     "text": [
      "1m 51s\n",
      "Consistency Loss declined to 0.005395507035203851\n",
      "Early Stopping Counter = 0\n",
      "Epoch 235/300\n"
     ]
    },
    {
     "name": "stderr",
     "output_type": "stream",
     "text": [
      "100%|██████████| 155/155 [00:47<00:00,  3.26it/s]\n",
      "100%|██████████| 65/65 [00:57<00:00,  1.13it/s]\n",
      "100%|██████████| 18/18 [00:05<00:00,  3.25it/s]\n"
     ]
    },
    {
     "name": "stdout",
     "output_type": "stream",
     "text": [
      "1m 51s\n",
      "Early Stopping Counter = 1\n",
      "Epoch 236/300\n"
     ]
    },
    {
     "name": "stderr",
     "output_type": "stream",
     "text": [
      "100%|██████████| 155/155 [00:47<00:00,  3.28it/s]\n",
      "100%|██████████| 65/65 [00:57<00:00,  1.13it/s]\n",
      "100%|██████████| 18/18 [00:05<00:00,  3.37it/s]\n"
     ]
    },
    {
     "name": "stdout",
     "output_type": "stream",
     "text": [
      "1m 50s\n",
      "Consistency Loss declined to 0.005337322188111452\n",
      "Early Stopping Counter = 0\n",
      "Epoch 237/300\n"
     ]
    },
    {
     "name": "stderr",
     "output_type": "stream",
     "text": [
      "100%|██████████| 155/155 [00:47<00:00,  3.27it/s]\n",
      "100%|██████████| 65/65 [00:57<00:00,  1.13it/s]\n",
      "100%|██████████| 18/18 [00:05<00:00,  3.25it/s]\n"
     ]
    },
    {
     "name": "stdout",
     "output_type": "stream",
     "text": [
      "1m 51s\n",
      "Consistency Loss declined to 0.005329516705555411\n",
      "Early Stopping Counter = 0\n",
      "Epoch 238/300\n"
     ]
    },
    {
     "name": "stderr",
     "output_type": "stream",
     "text": [
      "100%|██████████| 155/155 [00:47<00:00,  3.25it/s]\n",
      "100%|██████████| 65/65 [00:57<00:00,  1.13it/s]\n",
      "100%|██████████| 18/18 [00:05<00:00,  3.24it/s]\n"
     ]
    },
    {
     "name": "stdout",
     "output_type": "stream",
     "text": [
      "1m 51s\n",
      "Early Stopping Counter = 1\n",
      "Epoch 239/300\n"
     ]
    },
    {
     "name": "stderr",
     "output_type": "stream",
     "text": [
      "100%|██████████| 155/155 [00:47<00:00,  3.30it/s]\n",
      "100%|██████████| 65/65 [00:57<00:00,  1.13it/s]\n",
      "100%|██████████| 18/18 [00:05<00:00,  3.26it/s]\n"
     ]
    },
    {
     "name": "stdout",
     "output_type": "stream",
     "text": [
      "1m 50s\n",
      "Early Stopping Counter = 2\n",
      "Epoch 240/300\n"
     ]
    },
    {
     "name": "stderr",
     "output_type": "stream",
     "text": [
      "100%|██████████| 155/155 [00:47<00:00,  3.25it/s]\n",
      "100%|██████████| 65/65 [00:57<00:00,  1.13it/s]\n",
      "100%|██████████| 18/18 [00:05<00:00,  3.23it/s]\n"
     ]
    },
    {
     "name": "stdout",
     "output_type": "stream",
     "text": [
      "1m 51s\n",
      "Early Stopping Counter = 3\n",
      "Epoch 241/300\n"
     ]
    },
    {
     "name": "stderr",
     "output_type": "stream",
     "text": [
      "100%|██████████| 155/155 [00:47<00:00,  3.28it/s]\n",
      "100%|██████████| 65/65 [00:57<00:00,  1.13it/s]\n",
      "100%|██████████| 18/18 [00:05<00:00,  3.26it/s]\n"
     ]
    },
    {
     "name": "stdout",
     "output_type": "stream",
     "text": [
      "1m 50s\n",
      "Early Stopping Counter = 4\n",
      "Epoch 242/300\n"
     ]
    },
    {
     "name": "stderr",
     "output_type": "stream",
     "text": [
      "100%|██████████| 155/155 [00:47<00:00,  3.26it/s]\n",
      "100%|██████████| 65/65 [00:57<00:00,  1.13it/s]\n",
      "100%|██████████| 18/18 [00:05<00:00,  3.31it/s]\n"
     ]
    },
    {
     "name": "stdout",
     "output_type": "stream",
     "text": [
      "1m 51s\n",
      "Early Stopping Counter = 5\n",
      "Epoch 243/300\n"
     ]
    },
    {
     "name": "stderr",
     "output_type": "stream",
     "text": [
      "100%|██████████| 155/155 [00:47<00:00,  3.26it/s]\n",
      "100%|██████████| 65/65 [00:57<00:00,  1.13it/s]\n",
      "100%|██████████| 18/18 [00:05<00:00,  3.26it/s]\n"
     ]
    },
    {
     "name": "stdout",
     "output_type": "stream",
     "text": [
      "1m 50s\n",
      "Consistency Loss declined to 0.005282607484752169\n",
      "Early Stopping Counter = 0\n",
      "Epoch 244/300\n"
     ]
    },
    {
     "name": "stderr",
     "output_type": "stream",
     "text": [
      "100%|██████████| 155/155 [00:47<00:00,  3.25it/s]\n",
      "100%|██████████| 65/65 [00:57<00:00,  1.13it/s]\n",
      "100%|██████████| 18/18 [00:05<00:00,  3.27it/s]\n"
     ]
    },
    {
     "name": "stdout",
     "output_type": "stream",
     "text": [
      "1m 51s\n",
      "Early Stopping Counter = 1\n",
      "Epoch 245/300\n"
     ]
    },
    {
     "name": "stderr",
     "output_type": "stream",
     "text": [
      "100%|██████████| 155/155 [00:47<00:00,  3.27it/s]\n",
      "100%|██████████| 65/65 [00:57<00:00,  1.13it/s]\n",
      "100%|██████████| 18/18 [00:05<00:00,  3.30it/s]\n"
     ]
    },
    {
     "name": "stdout",
     "output_type": "stream",
     "text": [
      "1m 50s\n",
      "Early Stopping Counter = 2\n",
      "Epoch 246/300\n"
     ]
    },
    {
     "name": "stderr",
     "output_type": "stream",
     "text": [
      "100%|██████████| 155/155 [00:47<00:00,  3.27it/s]\n",
      "100%|██████████| 65/65 [00:57<00:00,  1.13it/s]\n",
      "100%|██████████| 18/18 [00:05<00:00,  3.28it/s]\n"
     ]
    },
    {
     "name": "stdout",
     "output_type": "stream",
     "text": [
      "1m 51s\n",
      "Early Stopping Counter = 3\n",
      "Epoch 247/300\n"
     ]
    },
    {
     "name": "stderr",
     "output_type": "stream",
     "text": [
      "100%|██████████| 155/155 [00:47<00:00,  3.24it/s]\n",
      "100%|██████████| 65/65 [00:57<00:00,  1.13it/s]\n",
      "100%|██████████| 18/18 [00:05<00:00,  3.29it/s]\n"
     ]
    },
    {
     "name": "stdout",
     "output_type": "stream",
     "text": [
      "1m 51s\n",
      "Early Stopping Counter = 4\n",
      "Epoch 248/300\n"
     ]
    },
    {
     "name": "stderr",
     "output_type": "stream",
     "text": [
      "100%|██████████| 155/155 [00:47<00:00,  3.26it/s]\n",
      "100%|██████████| 65/65 [00:57<00:00,  1.12it/s]\n",
      "100%|██████████| 18/18 [00:05<00:00,  3.22it/s]\n"
     ]
    },
    {
     "name": "stdout",
     "output_type": "stream",
     "text": [
      "1m 51s\n",
      "Consistency Loss declined to 0.005195341427595569\n",
      "Early Stopping Counter = 0\n",
      "Epoch 249/300\n"
     ]
    },
    {
     "name": "stderr",
     "output_type": "stream",
     "text": [
      "100%|██████████| 155/155 [00:47<00:00,  3.26it/s]\n",
      "100%|██████████| 65/65 [00:57<00:00,  1.12it/s]\n",
      "100%|██████████| 18/18 [00:05<00:00,  3.33it/s]\n"
     ]
    },
    {
     "name": "stdout",
     "output_type": "stream",
     "text": [
      "1m 51s\n",
      "Early Stopping Counter = 1\n",
      "Epoch 250/300\n"
     ]
    },
    {
     "name": "stderr",
     "output_type": "stream",
     "text": [
      "100%|██████████| 155/155 [00:47<00:00,  3.26it/s]\n",
      "100%|██████████| 65/65 [00:57<00:00,  1.13it/s]\n",
      "100%|██████████| 18/18 [00:05<00:00,  3.31it/s]\n"
     ]
    },
    {
     "name": "stdout",
     "output_type": "stream",
     "text": [
      "1m 51s\n",
      "Consistency Loss declined to 0.005158383988488752\n",
      "Early Stopping Counter = 0\n",
      "Epoch 251/300\n"
     ]
    },
    {
     "name": "stderr",
     "output_type": "stream",
     "text": [
      "100%|██████████| 155/155 [00:47<00:00,  3.28it/s]\n",
      "100%|██████████| 65/65 [00:57<00:00,  1.13it/s]\n",
      "100%|██████████| 18/18 [00:05<00:00,  3.24it/s]\n"
     ]
    },
    {
     "name": "stdout",
     "output_type": "stream",
     "text": [
      "1m 50s\n",
      "Early Stopping Counter = 1\n",
      "Epoch 252/300\n"
     ]
    },
    {
     "name": "stderr",
     "output_type": "stream",
     "text": [
      "100%|██████████| 155/155 [00:47<00:00,  3.26it/s]\n",
      "100%|██████████| 65/65 [00:57<00:00,  1.13it/s]\n",
      "100%|██████████| 18/18 [00:05<00:00,  3.24it/s]\n"
     ]
    },
    {
     "name": "stdout",
     "output_type": "stream",
     "text": [
      "1m 51s\n",
      "Early Stopping Counter = 2\n",
      "Epoch 253/300\n"
     ]
    },
    {
     "name": "stderr",
     "output_type": "stream",
     "text": [
      "100%|██████████| 155/155 [00:47<00:00,  3.28it/s]\n",
      "100%|██████████| 65/65 [00:57<00:00,  1.13it/s]\n",
      "100%|██████████| 18/18 [00:05<00:00,  3.27it/s]\n"
     ]
    },
    {
     "name": "stdout",
     "output_type": "stream",
     "text": [
      "1m 50s\n",
      "Consistency Loss declined to 0.005067660509107204\n",
      "Early Stopping Counter = 0\n",
      "Epoch 254/300\n"
     ]
    },
    {
     "name": "stderr",
     "output_type": "stream",
     "text": [
      "100%|██████████| 155/155 [00:47<00:00,  3.26it/s]\n",
      "100%|██████████| 65/65 [00:57<00:00,  1.13it/s]\n",
      "100%|██████████| 18/18 [00:05<00:00,  3.29it/s]\n"
     ]
    },
    {
     "name": "stdout",
     "output_type": "stream",
     "text": [
      "1m 51s\n",
      "Early Stopping Counter = 1\n",
      "Epoch 255/300\n"
     ]
    },
    {
     "name": "stderr",
     "output_type": "stream",
     "text": [
      "100%|██████████| 155/155 [00:47<00:00,  3.26it/s]\n",
      "100%|██████████| 65/65 [00:57<00:00,  1.13it/s]\n",
      "100%|██████████| 18/18 [00:05<00:00,  3.35it/s]\n"
     ]
    },
    {
     "name": "stdout",
     "output_type": "stream",
     "text": [
      "1m 50s\n",
      "Early Stopping Counter = 2\n",
      "Epoch 256/300\n"
     ]
    },
    {
     "name": "stderr",
     "output_type": "stream",
     "text": [
      "100%|██████████| 155/155 [00:47<00:00,  3.26it/s]\n",
      "100%|██████████| 65/65 [00:57<00:00,  1.13it/s]\n",
      "100%|██████████| 18/18 [00:05<00:00,  3.27it/s]\n"
     ]
    },
    {
     "name": "stdout",
     "output_type": "stream",
     "text": [
      "1m 51s\n",
      "Early Stopping Counter = 3\n",
      "Epoch 257/300\n"
     ]
    },
    {
     "name": "stderr",
     "output_type": "stream",
     "text": [
      "100%|██████████| 155/155 [00:47<00:00,  3.27it/s]\n",
      "100%|██████████| 65/65 [00:57<00:00,  1.13it/s]\n",
      "100%|██████████| 18/18 [00:05<00:00,  3.36it/s]\n"
     ]
    },
    {
     "name": "stdout",
     "output_type": "stream",
     "text": [
      "1m 50s\n",
      "Early Stopping Counter = 4\n",
      "Epoch 258/300\n"
     ]
    },
    {
     "name": "stderr",
     "output_type": "stream",
     "text": [
      "100%|██████████| 155/155 [00:47<00:00,  3.25it/s]\n",
      "100%|██████████| 65/65 [00:57<00:00,  1.13it/s]\n",
      "100%|██████████| 18/18 [00:05<00:00,  3.23it/s]\n"
     ]
    },
    {
     "name": "stdout",
     "output_type": "stream",
     "text": [
      "1m 51s\n",
      "Early Stopping Counter = 5\n",
      "Epoch 259/300\n"
     ]
    },
    {
     "name": "stderr",
     "output_type": "stream",
     "text": [
      "100%|██████████| 155/155 [00:47<00:00,  3.29it/s]\n",
      "100%|██████████| 65/65 [00:57<00:00,  1.13it/s]\n",
      "100%|██████████| 18/18 [00:05<00:00,  3.27it/s]\n"
     ]
    },
    {
     "name": "stdout",
     "output_type": "stream",
     "text": [
      "1m 50s\n",
      "Early Stopping Counter = 6\n",
      "Epoch 260/300\n"
     ]
    },
    {
     "name": "stderr",
     "output_type": "stream",
     "text": [
      "100%|██████████| 155/155 [00:47<00:00,  3.25it/s]\n",
      "100%|██████████| 65/65 [00:57<00:00,  1.13it/s]\n",
      "100%|██████████| 18/18 [00:05<00:00,  3.24it/s]\n"
     ]
    },
    {
     "name": "stdout",
     "output_type": "stream",
     "text": [
      "1m 51s\n",
      "Consistency Loss declined to 0.005061737046791957\n",
      "Early Stopping Counter = 0\n",
      "Epoch 261/300\n"
     ]
    },
    {
     "name": "stderr",
     "output_type": "stream",
     "text": [
      "100%|██████████| 155/155 [00:47<00:00,  3.28it/s]\n",
      "100%|██████████| 65/65 [00:57<00:00,  1.14it/s]\n",
      "100%|██████████| 18/18 [00:05<00:00,  3.24it/s]\n"
     ]
    },
    {
     "name": "stdout",
     "output_type": "stream",
     "text": [
      "1m 50s\n",
      "Early Stopping Counter = 1\n",
      "Epoch 262/300\n"
     ]
    },
    {
     "name": "stderr",
     "output_type": "stream",
     "text": [
      "100%|██████████| 155/155 [00:47<00:00,  3.25it/s]\n",
      "100%|██████████| 65/65 [00:57<00:00,  1.13it/s]\n",
      "100%|██████████| 18/18 [00:05<00:00,  3.24it/s]\n"
     ]
    },
    {
     "name": "stdout",
     "output_type": "stream",
     "text": [
      "1m 51s\n",
      "Early Stopping Counter = 2\n",
      "Epoch 263/300\n"
     ]
    },
    {
     "name": "stderr",
     "output_type": "stream",
     "text": [
      "100%|██████████| 155/155 [00:47<00:00,  3.28it/s]\n",
      "100%|██████████| 65/65 [00:57<00:00,  1.13it/s]\n",
      "100%|██████████| 18/18 [00:05<00:00,  3.26it/s]\n"
     ]
    },
    {
     "name": "stdout",
     "output_type": "stream",
     "text": [
      "1m 50s\n",
      "Consistency Loss declined to 0.005033509666100144\n",
      "Early Stopping Counter = 0\n",
      "Epoch 264/300\n"
     ]
    },
    {
     "name": "stderr",
     "output_type": "stream",
     "text": [
      "100%|██████████| 155/155 [00:47<00:00,  3.28it/s]\n",
      "100%|██████████| 65/65 [00:57<00:00,  1.13it/s]\n",
      "100%|██████████| 18/18 [00:05<00:00,  3.33it/s]\n"
     ]
    },
    {
     "name": "stdout",
     "output_type": "stream",
     "text": [
      "1m 50s\n",
      "Consistency Loss declined to 0.0049743941125388325\n",
      "Early Stopping Counter = 0\n",
      "Epoch 265/300\n"
     ]
    },
    {
     "name": "stderr",
     "output_type": "stream",
     "text": [
      "100%|██████████| 155/155 [00:47<00:00,  3.27it/s]\n",
      "100%|██████████| 65/65 [00:57<00:00,  1.13it/s]\n",
      "100%|██████████| 18/18 [00:05<00:00,  3.32it/s]\n"
     ]
    },
    {
     "name": "stdout",
     "output_type": "stream",
     "text": [
      "1m 51s\n",
      "Early Stopping Counter = 1\n",
      "Epoch 266/300\n"
     ]
    },
    {
     "name": "stderr",
     "output_type": "stream",
     "text": [
      "100%|██████████| 155/155 [00:47<00:00,  3.27it/s]\n",
      "100%|██████████| 65/65 [00:57<00:00,  1.13it/s]\n",
      "100%|██████████| 18/18 [00:05<00:00,  3.34it/s]\n"
     ]
    },
    {
     "name": "stdout",
     "output_type": "stream",
     "text": [
      "1m 50s\n",
      "Early Stopping Counter = 2\n",
      "Epoch 267/300\n"
     ]
    },
    {
     "name": "stderr",
     "output_type": "stream",
     "text": [
      "100%|██████████| 155/155 [00:47<00:00,  3.26it/s]\n",
      "100%|██████████| 65/65 [00:57<00:00,  1.13it/s]\n",
      "100%|██████████| 18/18 [00:05<00:00,  3.27it/s]\n"
     ]
    },
    {
     "name": "stdout",
     "output_type": "stream",
     "text": [
      "1m 50s\n",
      "Early Stopping Counter = 3\n",
      "Epoch 268/300\n"
     ]
    },
    {
     "name": "stderr",
     "output_type": "stream",
     "text": [
      "100%|██████████| 155/155 [00:47<00:00,  3.28it/s]\n",
      "100%|██████████| 65/65 [00:57<00:00,  1.13it/s]\n",
      "100%|██████████| 18/18 [00:05<00:00,  3.27it/s]\n"
     ]
    },
    {
     "name": "stdout",
     "output_type": "stream",
     "text": [
      "1m 50s\n",
      "Early Stopping Counter = 4\n",
      "Epoch 269/300\n"
     ]
    },
    {
     "name": "stderr",
     "output_type": "stream",
     "text": [
      "100%|██████████| 155/155 [00:47<00:00,  3.26it/s]\n",
      "100%|██████████| 65/65 [00:57<00:00,  1.13it/s]\n",
      "100%|██████████| 18/18 [00:05<00:00,  3.28it/s]\n"
     ]
    },
    {
     "name": "stdout",
     "output_type": "stream",
     "text": [
      "1m 50s\n",
      "Early Stopping Counter = 5\n",
      "Epoch 270/300\n"
     ]
    },
    {
     "name": "stderr",
     "output_type": "stream",
     "text": [
      "100%|██████████| 155/155 [00:47<00:00,  3.26it/s]\n",
      "100%|██████████| 65/65 [00:57<00:00,  1.13it/s]\n",
      "100%|██████████| 18/18 [00:05<00:00,  3.30it/s]\n"
     ]
    },
    {
     "name": "stdout",
     "output_type": "stream",
     "text": [
      "1m 50s\n",
      "Early Stopping Counter = 6\n",
      "Epoch 271/300\n"
     ]
    },
    {
     "name": "stderr",
     "output_type": "stream",
     "text": [
      "100%|██████████| 155/155 [00:47<00:00,  3.27it/s]\n",
      "100%|██████████| 65/65 [00:57<00:00,  1.13it/s]\n",
      "100%|██████████| 18/18 [00:05<00:00,  3.31it/s]\n"
     ]
    },
    {
     "name": "stdout",
     "output_type": "stream",
     "text": [
      "1m 50s\n",
      "Early Stopping Counter = 7\n",
      "Epoch 272/300\n"
     ]
    },
    {
     "name": "stderr",
     "output_type": "stream",
     "text": [
      "100%|██████████| 155/155 [00:47<00:00,  3.26it/s]\n",
      "100%|██████████| 65/65 [00:57<00:00,  1.13it/s]\n",
      "100%|██████████| 18/18 [00:05<00:00,  3.26it/s]\n"
     ]
    },
    {
     "name": "stdout",
     "output_type": "stream",
     "text": [
      "1m 50s\n",
      "Early Stopping Counter = 8\n",
      "Epoch 273/300\n"
     ]
    },
    {
     "name": "stderr",
     "output_type": "stream",
     "text": [
      "100%|██████████| 155/155 [00:47<00:00,  3.27it/s]\n",
      "100%|██████████| 65/65 [00:57<00:00,  1.13it/s]\n",
      "100%|██████████| 18/18 [00:05<00:00,  3.26it/s]\n"
     ]
    },
    {
     "name": "stdout",
     "output_type": "stream",
     "text": [
      "1m 50s\n",
      "Consistency Loss declined to 0.004965257916886073\n",
      "Early Stopping Counter = 0\n",
      "Epoch 274/300\n"
     ]
    },
    {
     "name": "stderr",
     "output_type": "stream",
     "text": [
      "100%|██████████| 155/155 [00:47<00:00,  3.26it/s]\n",
      "100%|██████████| 65/65 [00:57<00:00,  1.13it/s]\n",
      "100%|██████████| 18/18 [00:05<00:00,  3.26it/s]\n"
     ]
    },
    {
     "name": "stdout",
     "output_type": "stream",
     "text": [
      "1m 51s\n",
      "Early Stopping Counter = 1\n",
      "Epoch 275/300\n"
     ]
    },
    {
     "name": "stderr",
     "output_type": "stream",
     "text": [
      "100%|██████████| 155/155 [00:47<00:00,  3.25it/s]\n",
      "100%|██████████| 65/65 [00:57<00:00,  1.13it/s]\n",
      "100%|██████████| 18/18 [00:05<00:00,  3.33it/s]\n"
     ]
    },
    {
     "name": "stdout",
     "output_type": "stream",
     "text": [
      "1m 51s\n",
      "Consistency Loss declined to 0.004959435771720914\n",
      "Early Stopping Counter = 0\n",
      "Epoch 276/300\n"
     ]
    },
    {
     "name": "stderr",
     "output_type": "stream",
     "text": [
      "100%|██████████| 155/155 [00:47<00:00,  3.26it/s]\n",
      "100%|██████████| 65/65 [00:57<00:00,  1.13it/s]\n",
      "100%|██████████| 18/18 [00:05<00:00,  3.26it/s]\n"
     ]
    },
    {
     "name": "stdout",
     "output_type": "stream",
     "text": [
      "1m 51s\n",
      "Consistency Loss declined to 0.004883198416791856\n",
      "Early Stopping Counter = 0\n",
      "Epoch 277/300\n"
     ]
    },
    {
     "name": "stderr",
     "output_type": "stream",
     "text": [
      "100%|██████████| 155/155 [00:47<00:00,  3.27it/s]\n",
      "100%|██████████| 65/65 [00:57<00:00,  1.13it/s]\n",
      "100%|██████████| 18/18 [00:05<00:00,  3.28it/s]\n"
     ]
    },
    {
     "name": "stdout",
     "output_type": "stream",
     "text": [
      "1m 50s\n",
      "Early Stopping Counter = 1\n",
      "Epoch 278/300\n"
     ]
    },
    {
     "name": "stderr",
     "output_type": "stream",
     "text": [
      "100%|██████████| 155/155 [00:47<00:00,  3.26it/s]\n",
      "100%|██████████| 65/65 [00:57<00:00,  1.13it/s]\n",
      "100%|██████████| 18/18 [00:05<00:00,  3.32it/s]\n"
     ]
    },
    {
     "name": "stdout",
     "output_type": "stream",
     "text": [
      "1m 50s\n",
      "Early Stopping Counter = 2\n",
      "Epoch 279/300\n"
     ]
    },
    {
     "name": "stderr",
     "output_type": "stream",
     "text": [
      "100%|██████████| 155/155 [00:47<00:00,  3.24it/s]\n",
      "100%|██████████| 65/65 [00:57<00:00,  1.13it/s]\n",
      "100%|██████████| 18/18 [00:05<00:00,  3.25it/s]\n"
     ]
    },
    {
     "name": "stdout",
     "output_type": "stream",
     "text": [
      "1m 51s\n",
      "Consistency Loss declined to 0.004717159357208472\n",
      "Early Stopping Counter = 0\n",
      "Epoch 280/300\n"
     ]
    },
    {
     "name": "stderr",
     "output_type": "stream",
     "text": [
      "100%|██████████| 155/155 [00:47<00:00,  3.25it/s]\n",
      "100%|██████████| 65/65 [00:57<00:00,  1.13it/s]\n",
      "100%|██████████| 18/18 [00:05<00:00,  3.27it/s]\n"
     ]
    },
    {
     "name": "stdout",
     "output_type": "stream",
     "text": [
      "1m 51s\n",
      "Early Stopping Counter = 1\n",
      "Epoch 281/300\n"
     ]
    },
    {
     "name": "stderr",
     "output_type": "stream",
     "text": [
      "100%|██████████| 155/155 [00:47<00:00,  3.25it/s]\n",
      "100%|██████████| 65/65 [00:57<00:00,  1.13it/s]\n",
      "100%|██████████| 18/18 [00:05<00:00,  3.35it/s]\n"
     ]
    },
    {
     "name": "stdout",
     "output_type": "stream",
     "text": [
      "1m 51s\n",
      "Early Stopping Counter = 2\n",
      "Epoch 282/300\n"
     ]
    },
    {
     "name": "stderr",
     "output_type": "stream",
     "text": [
      "100%|██████████| 155/155 [00:47<00:00,  3.27it/s]\n",
      "100%|██████████| 65/65 [00:57<00:00,  1.13it/s]\n",
      "100%|██████████| 18/18 [00:05<00:00,  3.27it/s]\n"
     ]
    },
    {
     "name": "stdout",
     "output_type": "stream",
     "text": [
      "1m 51s\n",
      "Early Stopping Counter = 3\n",
      "Epoch 283/300\n"
     ]
    },
    {
     "name": "stderr",
     "output_type": "stream",
     "text": [
      "100%|██████████| 155/155 [00:47<00:00,  3.24it/s]\n",
      "100%|██████████| 65/65 [00:57<00:00,  1.13it/s]\n",
      "100%|██████████| 18/18 [00:05<00:00,  3.30it/s]\n"
     ]
    },
    {
     "name": "stdout",
     "output_type": "stream",
     "text": [
      "1m 51s\n",
      "Early Stopping Counter = 4\n",
      "Epoch 284/300\n"
     ]
    },
    {
     "name": "stderr",
     "output_type": "stream",
     "text": [
      "100%|██████████| 155/155 [00:47<00:00,  3.27it/s]\n",
      "100%|██████████| 65/65 [00:57<00:00,  1.13it/s]\n",
      "100%|██████████| 18/18 [00:05<00:00,  3.21it/s]\n"
     ]
    },
    {
     "name": "stdout",
     "output_type": "stream",
     "text": [
      "1m 50s\n",
      "Consistency Loss declined to 0.004706944922844951\n",
      "Early Stopping Counter = 0\n",
      "Epoch 285/300\n"
     ]
    },
    {
     "name": "stderr",
     "output_type": "stream",
     "text": [
      "100%|██████████| 155/155 [00:47<00:00,  3.26it/s]\n",
      "100%|██████████| 65/65 [00:57<00:00,  1.14it/s]\n",
      "100%|██████████| 18/18 [00:05<00:00,  3.25it/s]\n"
     ]
    },
    {
     "name": "stdout",
     "output_type": "stream",
     "text": [
      "1m 50s\n",
      "Early Stopping Counter = 1\n",
      "Epoch 286/300\n"
     ]
    },
    {
     "name": "stderr",
     "output_type": "stream",
     "text": [
      "100%|██████████| 155/155 [00:47<00:00,  3.27it/s]\n",
      "100%|██████████| 65/65 [00:57<00:00,  1.13it/s]\n",
      "100%|██████████| 18/18 [00:05<00:00,  3.25it/s]\n"
     ]
    },
    {
     "name": "stdout",
     "output_type": "stream",
     "text": [
      "1m 50s\n",
      "Early Stopping Counter = 2\n",
      "Epoch 287/300\n"
     ]
    },
    {
     "name": "stderr",
     "output_type": "stream",
     "text": [
      "100%|██████████| 155/155 [00:47<00:00,  3.27it/s]\n",
      "100%|██████████| 65/65 [00:57<00:00,  1.13it/s]\n",
      "100%|██████████| 18/18 [00:05<00:00,  3.27it/s]\n"
     ]
    },
    {
     "name": "stdout",
     "output_type": "stream",
     "text": [
      "1m 50s\n",
      "Consistency Loss declined to 0.0046438023770371305\n",
      "Early Stopping Counter = 0\n",
      "Epoch 288/300\n"
     ]
    },
    {
     "name": "stderr",
     "output_type": "stream",
     "text": [
      "100%|██████████| 155/155 [00:47<00:00,  3.26it/s]\n",
      "100%|██████████| 65/65 [00:57<00:00,  1.13it/s]\n",
      "100%|██████████| 18/18 [00:05<00:00,  3.27it/s]\n"
     ]
    },
    {
     "name": "stdout",
     "output_type": "stream",
     "text": [
      "1m 50s\n",
      "Early Stopping Counter = 1\n",
      "Epoch 289/300\n"
     ]
    },
    {
     "name": "stderr",
     "output_type": "stream",
     "text": [
      "100%|██████████| 155/155 [00:47<00:00,  3.26it/s]\n",
      "100%|██████████| 65/65 [00:57<00:00,  1.13it/s]\n",
      "100%|██████████| 18/18 [00:05<00:00,  3.25it/s]\n"
     ]
    },
    {
     "name": "stdout",
     "output_type": "stream",
     "text": [
      "1m 51s\n",
      "Early Stopping Counter = 2\n",
      "Epoch 290/300\n"
     ]
    },
    {
     "name": "stderr",
     "output_type": "stream",
     "text": [
      "100%|██████████| 155/155 [00:47<00:00,  3.26it/s]\n",
      "100%|██████████| 65/65 [00:57<00:00,  1.13it/s]\n",
      "100%|██████████| 18/18 [00:05<00:00,  3.29it/s]\n"
     ]
    },
    {
     "name": "stdout",
     "output_type": "stream",
     "text": [
      "1m 51s\n",
      "Early Stopping Counter = 3\n",
      "Epoch 291/300\n"
     ]
    },
    {
     "name": "stderr",
     "output_type": "stream",
     "text": [
      "100%|██████████| 155/155 [00:47<00:00,  3.26it/s]\n",
      "100%|██████████| 65/65 [00:57<00:00,  1.13it/s]\n",
      "100%|██████████| 18/18 [00:05<00:00,  3.25it/s]\n"
     ]
    },
    {
     "name": "stdout",
     "output_type": "stream",
     "text": [
      "1m 50s\n",
      "Early Stopping Counter = 4\n",
      "Epoch 292/300\n"
     ]
    },
    {
     "name": "stderr",
     "output_type": "stream",
     "text": [
      "100%|██████████| 155/155 [00:47<00:00,  3.26it/s]\n",
      "100%|██████████| 65/65 [00:57<00:00,  1.13it/s]\n",
      "100%|██████████| 18/18 [00:05<00:00,  3.25it/s]\n"
     ]
    },
    {
     "name": "stdout",
     "output_type": "stream",
     "text": [
      "1m 51s\n",
      "Early Stopping Counter = 5\n",
      "Epoch 293/300\n"
     ]
    },
    {
     "name": "stderr",
     "output_type": "stream",
     "text": [
      "100%|██████████| 155/155 [00:47<00:00,  3.25it/s]\n",
      "100%|██████████| 65/65 [00:57<00:00,  1.13it/s]\n",
      "100%|██████████| 18/18 [00:05<00:00,  3.23it/s]\n"
     ]
    },
    {
     "name": "stdout",
     "output_type": "stream",
     "text": [
      "1m 51s\n",
      "Early Stopping Counter = 6\n",
      "Epoch 294/300\n"
     ]
    },
    {
     "name": "stderr",
     "output_type": "stream",
     "text": [
      "100%|██████████| 155/155 [00:47<00:00,  3.26it/s]\n",
      "100%|██████████| 65/65 [00:57<00:00,  1.13it/s]\n",
      "100%|██████████| 18/18 [00:05<00:00,  3.26it/s]\n"
     ]
    },
    {
     "name": "stdout",
     "output_type": "stream",
     "text": [
      "1m 51s\n",
      "Early Stopping Counter = 7\n",
      "Epoch 295/300\n"
     ]
    },
    {
     "name": "stderr",
     "output_type": "stream",
     "text": [
      "100%|██████████| 155/155 [00:47<00:00,  3.26it/s]\n",
      "100%|██████████| 65/65 [00:57<00:00,  1.13it/s]\n",
      "100%|██████████| 18/18 [00:05<00:00,  3.32it/s]\n"
     ]
    },
    {
     "name": "stdout",
     "output_type": "stream",
     "text": [
      "1m 50s\n",
      "Early Stopping Counter = 8\n",
      "Epoch 296/300\n"
     ]
    },
    {
     "name": "stderr",
     "output_type": "stream",
     "text": [
      "100%|██████████| 155/155 [00:47<00:00,  3.25it/s]\n",
      "100%|██████████| 65/65 [00:57<00:00,  1.13it/s]\n",
      "100%|██████████| 18/18 [00:05<00:00,  3.23it/s]\n"
     ]
    },
    {
     "name": "stdout",
     "output_type": "stream",
     "text": [
      "1m 51s\n",
      "Early Stopping Counter = 9\n",
      "Epoch 297/300\n"
     ]
    },
    {
     "name": "stderr",
     "output_type": "stream",
     "text": [
      "100%|██████████| 155/155 [00:47<00:00,  3.27it/s]\n",
      "100%|██████████| 65/65 [00:57<00:00,  1.13it/s]\n",
      "100%|██████████| 18/18 [00:05<00:00,  3.22it/s]\n"
     ]
    },
    {
     "name": "stdout",
     "output_type": "stream",
     "text": [
      "1m 51s\n",
      "Early Stopping Counter = 10\n",
      "Epoch 298/300\n"
     ]
    },
    {
     "name": "stderr",
     "output_type": "stream",
     "text": [
      "100%|██████████| 155/155 [00:47<00:00,  3.25it/s]\n",
      "100%|██████████| 65/65 [00:57<00:00,  1.13it/s]\n",
      "100%|██████████| 18/18 [00:05<00:00,  3.24it/s]\n"
     ]
    },
    {
     "name": "stdout",
     "output_type": "stream",
     "text": [
      "1m 51s\n",
      "Early Stopping Counter = 11\n",
      "Epoch 299/300\n"
     ]
    },
    {
     "name": "stderr",
     "output_type": "stream",
     "text": [
      "100%|██████████| 155/155 [00:47<00:00,  3.28it/s]\n",
      "100%|██████████| 65/65 [00:57<00:00,  1.13it/s]\n",
      "100%|██████████| 18/18 [00:05<00:00,  3.25it/s]\n"
     ]
    },
    {
     "name": "stdout",
     "output_type": "stream",
     "text": [
      "1m 50s\n",
      "Early Stopping Counter = 12\n",
      "Epoch 300/300\n"
     ]
    },
    {
     "name": "stderr",
     "output_type": "stream",
     "text": [
      "100%|██████████| 155/155 [00:47<00:00,  3.24it/s]\n",
      "100%|██████████| 65/65 [00:57<00:00,  1.13it/s]\n",
      "100%|██████████| 18/18 [00:05<00:00,  3.24it/s]\n"
     ]
    },
    {
     "name": "stdout",
     "output_type": "stream",
     "text": [
      "1m 51s\n",
      "Consistency Loss declined to 0.004630183460764014\n",
      "Early Stopping Counter = 0\n"
     ]
    },
    {
     "name": "stderr",
     "output_type": "stream",
     "text": [
      "100%|██████████| 17/17 [02:30<00:00,  8.84s/it]\n",
      " 98%|█████████▊| 65/66 [09:56<00:09,  9.17s/it]\n",
      "100%|██████████| 4212/4212 [01:16<00:00, 54.80it/s] \n"
     ]
    },
    {
     "name": "stdout",
     "output_type": "stream",
     "text": [
      "Epoch 1/300\n"
     ]
    },
    {
     "name": "stderr",
     "output_type": "stream",
     "text": [
      "100%|██████████| 155/155 [00:47<00:00,  3.27it/s]\n",
      "100%|██████████| 65/65 [00:57<00:00,  1.12it/s]\n",
      "100%|██████████| 18/18 [00:05<00:00,  3.31it/s]\n"
     ]
    },
    {
     "name": "stdout",
     "output_type": "stream",
     "text": [
      "1m 51s\n",
      "Consistency Loss declined to 0.10693280616631874\n",
      "Early Stopping Counter = 0\n",
      "Epoch 2/300\n"
     ]
    },
    {
     "name": "stderr",
     "output_type": "stream",
     "text": [
      "100%|██████████| 155/155 [00:47<00:00,  3.26it/s]\n",
      "100%|██████████| 65/65 [00:57<00:00,  1.13it/s]\n",
      "100%|██████████| 18/18 [00:05<00:00,  3.27it/s]\n"
     ]
    },
    {
     "name": "stdout",
     "output_type": "stream",
     "text": [
      "1m 51s\n",
      "Consistency Loss declined to 0.09169963414852436\n",
      "Early Stopping Counter = 0\n",
      "Epoch 3/300\n"
     ]
    },
    {
     "name": "stderr",
     "output_type": "stream",
     "text": [
      "100%|██████████| 155/155 [00:47<00:00,  3.28it/s]\n",
      "100%|██████████| 65/65 [00:57<00:00,  1.13it/s]\n",
      "100%|██████████| 18/18 [00:05<00:00,  3.31it/s]\n"
     ]
    },
    {
     "name": "stdout",
     "output_type": "stream",
     "text": [
      "1m 50s\n",
      "Consistency Loss declined to 0.08758534872188017\n",
      "Early Stopping Counter = 0\n",
      "Epoch 4/300\n"
     ]
    },
    {
     "name": "stderr",
     "output_type": "stream",
     "text": [
      "100%|██████████| 155/155 [00:47<00:00,  3.28it/s]\n",
      "100%|██████████| 65/65 [00:57<00:00,  1.13it/s]\n",
      "100%|██████████| 18/18 [00:05<00:00,  3.37it/s]\n"
     ]
    },
    {
     "name": "stdout",
     "output_type": "stream",
     "text": [
      "1m 50s\n",
      "Consistency Loss declined to 0.07703332098630758\n",
      "Early Stopping Counter = 0\n",
      "Epoch 5/300\n"
     ]
    },
    {
     "name": "stderr",
     "output_type": "stream",
     "text": [
      "100%|██████████| 155/155 [00:47<00:00,  3.26it/s]\n",
      "100%|██████████| 65/65 [00:57<00:00,  1.13it/s]\n",
      "100%|██████████| 18/18 [00:05<00:00,  3.31it/s]\n"
     ]
    },
    {
     "name": "stdout",
     "output_type": "stream",
     "text": [
      "1m 50s\n",
      "Consistency Loss declined to 0.0746147713982142\n",
      "Early Stopping Counter = 0\n",
      "Epoch 6/300\n"
     ]
    },
    {
     "name": "stderr",
     "output_type": "stream",
     "text": [
      "100%|██████████| 155/155 [00:47<00:00,  3.27it/s]\n",
      "100%|██████████| 65/65 [00:57<00:00,  1.13it/s]\n",
      "100%|██████████| 18/18 [00:05<00:00,  3.32it/s]\n"
     ]
    },
    {
     "name": "stdout",
     "output_type": "stream",
     "text": [
      "1m 50s\n",
      "Consistency Loss declined to 0.0725127334205004\n",
      "Early Stopping Counter = 0\n",
      "Epoch 7/300\n"
     ]
    },
    {
     "name": "stderr",
     "output_type": "stream",
     "text": [
      "100%|██████████| 155/155 [00:47<00:00,  3.27it/s]\n",
      "100%|██████████| 65/65 [00:57<00:00,  1.13it/s]\n",
      "100%|██████████| 18/18 [00:05<00:00,  3.28it/s]\n"
     ]
    },
    {
     "name": "stdout",
     "output_type": "stream",
     "text": [
      "1m 51s\n",
      "Consistency Loss declined to 0.0717040288906831\n",
      "Early Stopping Counter = 0\n",
      "Epoch 8/300\n"
     ]
    },
    {
     "name": "stderr",
     "output_type": "stream",
     "text": [
      "100%|██████████| 155/155 [00:47<00:00,  3.26it/s]\n",
      "100%|██████████| 65/65 [00:57<00:00,  1.13it/s]\n",
      "100%|██████████| 18/18 [00:05<00:00,  3.38it/s]\n"
     ]
    },
    {
     "name": "stdout",
     "output_type": "stream",
     "text": [
      "1m 51s\n",
      "Consistency Loss declined to 0.06664519504858897\n",
      "Early Stopping Counter = 0\n",
      "Epoch 9/300\n"
     ]
    },
    {
     "name": "stderr",
     "output_type": "stream",
     "text": [
      "100%|██████████| 155/155 [00:47<00:00,  3.25it/s]\n",
      "100%|██████████| 65/65 [00:57<00:00,  1.13it/s]\n",
      "100%|██████████| 18/18 [00:05<00:00,  3.31it/s]\n"
     ]
    },
    {
     "name": "stdout",
     "output_type": "stream",
     "text": [
      "1m 51s\n",
      "Early Stopping Counter = 1\n",
      "Epoch 10/300\n"
     ]
    },
    {
     "name": "stderr",
     "output_type": "stream",
     "text": [
      "100%|██████████| 155/155 [00:47<00:00,  3.27it/s]\n",
      "100%|██████████| 65/65 [00:57<00:00,  1.13it/s]\n",
      "100%|██████████| 18/18 [00:05<00:00,  3.22it/s]\n"
     ]
    },
    {
     "name": "stdout",
     "output_type": "stream",
     "text": [
      "1m 51s\n",
      "Consistency Loss declined to 0.058782556337805894\n",
      "Early Stopping Counter = 0\n",
      "Epoch 11/300\n"
     ]
    },
    {
     "name": "stderr",
     "output_type": "stream",
     "text": [
      "100%|██████████| 155/155 [00:47<00:00,  3.25it/s]\n",
      "100%|██████████| 65/65 [00:57<00:00,  1.13it/s]\n",
      "100%|██████████| 18/18 [00:05<00:00,  3.31it/s]\n"
     ]
    },
    {
     "name": "stdout",
     "output_type": "stream",
     "text": [
      "1m 51s\n",
      "Consistency Loss declined to 0.057185882014723924\n",
      "Early Stopping Counter = 0\n",
      "Epoch 12/300\n"
     ]
    },
    {
     "name": "stderr",
     "output_type": "stream",
     "text": [
      "100%|██████████| 155/155 [00:47<00:00,  3.27it/s]\n",
      "100%|██████████| 65/65 [00:57<00:00,  1.13it/s]\n",
      "100%|██████████| 18/18 [00:05<00:00,  3.29it/s]\n"
     ]
    },
    {
     "name": "stdout",
     "output_type": "stream",
     "text": [
      "1m 50s\n",
      "Consistency Loss declined to 0.0555956757412507\n",
      "Early Stopping Counter = 0\n",
      "Epoch 13/300\n"
     ]
    },
    {
     "name": "stderr",
     "output_type": "stream",
     "text": [
      "100%|██████████| 155/155 [00:47<00:00,  3.28it/s]\n",
      "100%|██████████| 65/65 [00:57<00:00,  1.13it/s]\n",
      "100%|██████████| 18/18 [00:05<00:00,  3.33it/s]\n"
     ]
    },
    {
     "name": "stdout",
     "output_type": "stream",
     "text": [
      "1m 50s\n",
      "Early Stopping Counter = 1\n",
      "Epoch 14/300\n"
     ]
    },
    {
     "name": "stderr",
     "output_type": "stream",
     "text": [
      "100%|██████████| 155/155 [00:47<00:00,  3.25it/s]\n",
      "100%|██████████| 65/65 [00:57<00:00,  1.13it/s]\n",
      "100%|██████████| 18/18 [00:05<00:00,  3.28it/s]\n"
     ]
    },
    {
     "name": "stdout",
     "output_type": "stream",
     "text": [
      "1m 51s\n",
      "Consistency Loss declined to 0.05254420563578606\n",
      "Early Stopping Counter = 0\n",
      "Epoch 15/300\n"
     ]
    },
    {
     "name": "stderr",
     "output_type": "stream",
     "text": [
      "100%|██████████| 155/155 [00:47<00:00,  3.27it/s]\n",
      "100%|██████████| 65/65 [00:57<00:00,  1.13it/s]\n",
      "100%|██████████| 18/18 [00:05<00:00,  3.35it/s]\n"
     ]
    },
    {
     "name": "stdout",
     "output_type": "stream",
     "text": [
      "1m 50s\n",
      "Early Stopping Counter = 1\n",
      "Epoch 16/300\n"
     ]
    },
    {
     "name": "stderr",
     "output_type": "stream",
     "text": [
      "100%|██████████| 155/155 [00:47<00:00,  3.26it/s]\n",
      "100%|██████████| 65/65 [00:57<00:00,  1.13it/s]\n",
      "100%|██████████| 18/18 [00:05<00:00,  3.31it/s]\n"
     ]
    },
    {
     "name": "stdout",
     "output_type": "stream",
     "text": [
      "1m 51s\n",
      "Early Stopping Counter = 2\n",
      "Epoch 17/300\n"
     ]
    },
    {
     "name": "stderr",
     "output_type": "stream",
     "text": [
      "100%|██████████| 155/155 [00:47<00:00,  3.27it/s]\n",
      "100%|██████████| 65/65 [00:57<00:00,  1.13it/s]\n",
      "100%|██████████| 18/18 [00:05<00:00,  3.34it/s]\n"
     ]
    },
    {
     "name": "stdout",
     "output_type": "stream",
     "text": [
      "1m 51s\n",
      "Consistency Loss declined to 0.05183231793344021\n",
      "Early Stopping Counter = 0\n",
      "Epoch 18/300\n"
     ]
    },
    {
     "name": "stderr",
     "output_type": "stream",
     "text": [
      "100%|██████████| 155/155 [00:47<00:00,  3.26it/s]\n",
      "100%|██████████| 65/65 [00:57<00:00,  1.13it/s]\n",
      "100%|██████████| 18/18 [00:05<00:00,  3.29it/s]\n"
     ]
    },
    {
     "name": "stdout",
     "output_type": "stream",
     "text": [
      "1m 51s\n",
      "Consistency Loss declined to 0.04720346827346545\n",
      "Early Stopping Counter = 0\n",
      "Epoch 19/300\n"
     ]
    },
    {
     "name": "stderr",
     "output_type": "stream",
     "text": [
      "100%|██████████| 155/155 [00:47<00:00,  3.25it/s]\n",
      "100%|██████████| 65/65 [00:57<00:00,  1.13it/s]\n",
      " 22%|██▏       | 4/18 [00:01<00:06,  2.17it/s]\n"
     ]
    },
    {
     "ename": "KeyboardInterrupt",
     "evalue": "",
     "output_type": "error",
     "traceback": [
      "\u001b[0;31m---------------------------------------------------------------------------\u001b[0m",
      "\u001b[0;31mKeyboardInterrupt\u001b[0m                         Traceback (most recent call last)",
      "\u001b[1;32m/home/ubuntu/domain-adaptation-for-crack-segmentation/main.ipynb Cell 3\u001b[0m line \u001b[0;36m1\n\u001b[1;32m     <a href='vscode-notebook-cell://ssh-remote%2Bkikuta_server/home/ubuntu/domain-adaptation-for-crack-segmentation/main.ipynb#W2sdnNjb2RlLXJlbW90ZQ%3D%3D?line=14'>15</a>\u001b[0m     save_mask(former_folname\u001b[39m=\u001b[39m\u001b[39m\"\u001b[39m\u001b[39mhoge\u001b[39m\u001b[39m\"\u001b[39m, folname\u001b[39m=\u001b[39mfolnames[i], net\u001b[39m=\u001b[39m\u001b[39m\"\u001b[39m\u001b[39mdeeplab\u001b[39m\u001b[39m\"\u001b[39m, batch_size\u001b[39m=\u001b[39m\u001b[39m64\u001b[39m, save_num\u001b[39m=\u001b[39m\u001b[39mNone\u001b[39;00m)\n\u001b[1;32m     <a href='vscode-notebook-cell://ssh-remote%2Bkikuta_server/home/ubuntu/domain-adaptation-for-crack-segmentation/main.ipynb#W2sdnNjb2RlLXJlbW90ZQ%3D%3D?line=15'>16</a>\u001b[0m \u001b[39melse\u001b[39;00m:\n\u001b[0;32m---> <a href='vscode-notebook-cell://ssh-remote%2Bkikuta_server/home/ubuntu/domain-adaptation-for-crack-segmentation/main.ipynb#W2sdnNjb2RlLXJlbW90ZQ%3D%3D?line=16'>17</a>\u001b[0m     train(former_folname\u001b[39m=\u001b[39;49mfolnames[i\u001b[39m-\u001b[39;49m\u001b[39m1\u001b[39;49m], folname\u001b[39m=\u001b[39;49mfolnames[i], first\u001b[39m=\u001b[39;49m\u001b[39mFalse\u001b[39;49;00m, net\u001b[39m=\u001b[39;49m\u001b[39m\"\u001b[39;49m\u001b[39mdeeplab\u001b[39;49m\u001b[39m\"\u001b[39;49m, epochs\u001b[39m=\u001b[39;49m\u001b[39m300\u001b[39;49m, batch_size\u001b[39m=\u001b[39;49m\u001b[39m64\u001b[39;49m, alpha\u001b[39m=\u001b[39;49m\u001b[39m100\u001b[39;49m, num_samples\u001b[39m=\u001b[39;49m\u001b[39mNone\u001b[39;49;00m, cons_reg\u001b[39m=\u001b[39;49m\u001b[39mTrue\u001b[39;49;00m)\n\u001b[1;32m     <a href='vscode-notebook-cell://ssh-remote%2Bkikuta_server/home/ubuntu/domain-adaptation-for-crack-segmentation/main.ipynb#W2sdnNjb2RlLXJlbW90ZQ%3D%3D?line=17'>18</a>\u001b[0m     scores \u001b[39m=\u001b[39m inference(former_folname\u001b[39m=\u001b[39mfolnames[i\u001b[39m-\u001b[39m\u001b[39m1\u001b[39m], folname\u001b[39m=\u001b[39mfolnames[i], net\u001b[39m=\u001b[39m\u001b[39m\"\u001b[39m\u001b[39mdeeplab\u001b[39m\u001b[39m\"\u001b[39m, batch_size\u001b[39m=\u001b[39m\u001b[39m64\u001b[39m)\n\u001b[1;32m     <a href='vscode-notebook-cell://ssh-remote%2Bkikuta_server/home/ubuntu/domain-adaptation-for-crack-segmentation/main.ipynb#W2sdnNjb2RlLXJlbW90ZQ%3D%3D?line=18'>19</a>\u001b[0m     write_to_csv(i\u001b[39m+\u001b[39m\u001b[39m1\u001b[39m, scores, csv_filename)\n",
      "File \u001b[0;32m~/domain-adaptation-for-crack-segmentation/train.py:125\u001b[0m, in \u001b[0;36mtrain\u001b[0;34m(former_folname, folname, first, net, batch_size, num_workers, epochs, alpha, beta, crop_size, supervised, num_samples, cons_reg)\u001b[0m\n\u001b[1;32m    123\u001b[0m model\u001b[39m.\u001b[39meval()\n\u001b[1;32m    124\u001b[0m \u001b[39mwith\u001b[39;00m torch\u001b[39m.\u001b[39mno_grad():\n\u001b[0;32m--> 125\u001b[0m     \u001b[39mfor\u001b[39;00m image,mask \u001b[39min\u001b[39;00m tqdm(val_dataloader):\n\u001b[1;32m    126\u001b[0m         image \u001b[39m=\u001b[39m image\u001b[39m.\u001b[39mto(device,dtype\u001b[39m=\u001b[39mtorch\u001b[39m.\u001b[39mfloat)\n\u001b[1;32m    127\u001b[0m         mask \u001b[39m=\u001b[39m mask\u001b[39m.\u001b[39mto(device,dtype\u001b[39m=\u001b[39mtorch\u001b[39m.\u001b[39mfloat)\n",
      "File \u001b[0;32m~/domain-adaptation-for-crack-segmentation/env/lib/python3.10/site-packages/tqdm/std.py:1182\u001b[0m, in \u001b[0;36mtqdm.__iter__\u001b[0;34m(self)\u001b[0m\n\u001b[1;32m   1179\u001b[0m time \u001b[39m=\u001b[39m \u001b[39mself\u001b[39m\u001b[39m.\u001b[39m_time\n\u001b[1;32m   1181\u001b[0m \u001b[39mtry\u001b[39;00m:\n\u001b[0;32m-> 1182\u001b[0m     \u001b[39mfor\u001b[39;00m obj \u001b[39min\u001b[39;00m iterable:\n\u001b[1;32m   1183\u001b[0m         \u001b[39myield\u001b[39;00m obj\n\u001b[1;32m   1184\u001b[0m         \u001b[39m# Update and possibly print the progressbar.\u001b[39;00m\n\u001b[1;32m   1185\u001b[0m         \u001b[39m# Note: does not call self.update(1) for speed optimisation.\u001b[39;00m\n",
      "File \u001b[0;32m~/domain-adaptation-for-crack-segmentation/env/lib/python3.10/site-packages/torch/utils/data/dataloader.py:630\u001b[0m, in \u001b[0;36m_BaseDataLoaderIter.__next__\u001b[0;34m(self)\u001b[0m\n\u001b[1;32m    627\u001b[0m \u001b[39mif\u001b[39;00m \u001b[39mself\u001b[39m\u001b[39m.\u001b[39m_sampler_iter \u001b[39mis\u001b[39;00m \u001b[39mNone\u001b[39;00m:\n\u001b[1;32m    628\u001b[0m     \u001b[39m# TODO(https://github.com/pytorch/pytorch/issues/76750)\u001b[39;00m\n\u001b[1;32m    629\u001b[0m     \u001b[39mself\u001b[39m\u001b[39m.\u001b[39m_reset()  \u001b[39m# type: ignore[call-arg]\u001b[39;00m\n\u001b[0;32m--> 630\u001b[0m data \u001b[39m=\u001b[39m \u001b[39mself\u001b[39;49m\u001b[39m.\u001b[39;49m_next_data()\n\u001b[1;32m    631\u001b[0m \u001b[39mself\u001b[39m\u001b[39m.\u001b[39m_num_yielded \u001b[39m+\u001b[39m\u001b[39m=\u001b[39m \u001b[39m1\u001b[39m\n\u001b[1;32m    632\u001b[0m \u001b[39mif\u001b[39;00m \u001b[39mself\u001b[39m\u001b[39m.\u001b[39m_dataset_kind \u001b[39m==\u001b[39m _DatasetKind\u001b[39m.\u001b[39mIterable \u001b[39mand\u001b[39;00m \\\n\u001b[1;32m    633\u001b[0m         \u001b[39mself\u001b[39m\u001b[39m.\u001b[39m_IterableDataset_len_called \u001b[39mis\u001b[39;00m \u001b[39mnot\u001b[39;00m \u001b[39mNone\u001b[39;00m \u001b[39mand\u001b[39;00m \\\n\u001b[1;32m    634\u001b[0m         \u001b[39mself\u001b[39m\u001b[39m.\u001b[39m_num_yielded \u001b[39m>\u001b[39m \u001b[39mself\u001b[39m\u001b[39m.\u001b[39m_IterableDataset_len_called:\n",
      "File \u001b[0;32m~/domain-adaptation-for-crack-segmentation/env/lib/python3.10/site-packages/torch/utils/data/dataloader.py:1328\u001b[0m, in \u001b[0;36m_MultiProcessingDataLoaderIter._next_data\u001b[0;34m(self)\u001b[0m\n\u001b[1;32m   1325\u001b[0m     \u001b[39mreturn\u001b[39;00m \u001b[39mself\u001b[39m\u001b[39m.\u001b[39m_process_data(data)\n\u001b[1;32m   1327\u001b[0m \u001b[39massert\u001b[39;00m \u001b[39mnot\u001b[39;00m \u001b[39mself\u001b[39m\u001b[39m.\u001b[39m_shutdown \u001b[39mand\u001b[39;00m \u001b[39mself\u001b[39m\u001b[39m.\u001b[39m_tasks_outstanding \u001b[39m>\u001b[39m \u001b[39m0\u001b[39m\n\u001b[0;32m-> 1328\u001b[0m idx, data \u001b[39m=\u001b[39m \u001b[39mself\u001b[39;49m\u001b[39m.\u001b[39;49m_get_data()\n\u001b[1;32m   1329\u001b[0m \u001b[39mself\u001b[39m\u001b[39m.\u001b[39m_tasks_outstanding \u001b[39m-\u001b[39m\u001b[39m=\u001b[39m \u001b[39m1\u001b[39m\n\u001b[1;32m   1330\u001b[0m \u001b[39mif\u001b[39;00m \u001b[39mself\u001b[39m\u001b[39m.\u001b[39m_dataset_kind \u001b[39m==\u001b[39m _DatasetKind\u001b[39m.\u001b[39mIterable:\n\u001b[1;32m   1331\u001b[0m     \u001b[39m# Check for _IterableDatasetStopIteration\u001b[39;00m\n",
      "File \u001b[0;32m~/domain-adaptation-for-crack-segmentation/env/lib/python3.10/site-packages/torch/utils/data/dataloader.py:1284\u001b[0m, in \u001b[0;36m_MultiProcessingDataLoaderIter._get_data\u001b[0;34m(self)\u001b[0m\n\u001b[1;32m   1282\u001b[0m \u001b[39melif\u001b[39;00m \u001b[39mself\u001b[39m\u001b[39m.\u001b[39m_pin_memory:\n\u001b[1;32m   1283\u001b[0m     \u001b[39mwhile\u001b[39;00m \u001b[39mself\u001b[39m\u001b[39m.\u001b[39m_pin_memory_thread\u001b[39m.\u001b[39mis_alive():\n\u001b[0;32m-> 1284\u001b[0m         success, data \u001b[39m=\u001b[39m \u001b[39mself\u001b[39;49m\u001b[39m.\u001b[39;49m_try_get_data()\n\u001b[1;32m   1285\u001b[0m         \u001b[39mif\u001b[39;00m success:\n\u001b[1;32m   1286\u001b[0m             \u001b[39mreturn\u001b[39;00m data\n",
      "File \u001b[0;32m~/domain-adaptation-for-crack-segmentation/env/lib/python3.10/site-packages/torch/utils/data/dataloader.py:1132\u001b[0m, in \u001b[0;36m_MultiProcessingDataLoaderIter._try_get_data\u001b[0;34m(self, timeout)\u001b[0m\n\u001b[1;32m   1119\u001b[0m \u001b[39mdef\u001b[39;00m \u001b[39m_try_get_data\u001b[39m(\u001b[39mself\u001b[39m, timeout\u001b[39m=\u001b[39m_utils\u001b[39m.\u001b[39mMP_STATUS_CHECK_INTERVAL):\n\u001b[1;32m   1120\u001b[0m     \u001b[39m# Tries to fetch data from `self._data_queue` once for a given timeout.\u001b[39;00m\n\u001b[1;32m   1121\u001b[0m     \u001b[39m# This can also be used as inner loop of fetching without timeout, with\u001b[39;00m\n\u001b[0;32m   (...)\u001b[0m\n\u001b[1;32m   1129\u001b[0m     \u001b[39m# Returns a 2-tuple:\u001b[39;00m\n\u001b[1;32m   1130\u001b[0m     \u001b[39m#   (bool: whether successfully get data, any: data if successful else None)\u001b[39;00m\n\u001b[1;32m   1131\u001b[0m     \u001b[39mtry\u001b[39;00m:\n\u001b[0;32m-> 1132\u001b[0m         data \u001b[39m=\u001b[39m \u001b[39mself\u001b[39;49m\u001b[39m.\u001b[39;49m_data_queue\u001b[39m.\u001b[39;49mget(timeout\u001b[39m=\u001b[39;49mtimeout)\n\u001b[1;32m   1133\u001b[0m         \u001b[39mreturn\u001b[39;00m (\u001b[39mTrue\u001b[39;00m, data)\n\u001b[1;32m   1134\u001b[0m     \u001b[39mexcept\u001b[39;00m \u001b[39mException\u001b[39;00m \u001b[39mas\u001b[39;00m e:\n\u001b[1;32m   1135\u001b[0m         \u001b[39m# At timeout and error, we manually check whether any worker has\u001b[39;00m\n\u001b[1;32m   1136\u001b[0m         \u001b[39m# failed. Note that this is the only mechanism for Windows to detect\u001b[39;00m\n\u001b[1;32m   1137\u001b[0m         \u001b[39m# worker failures.\u001b[39;00m\n",
      "File \u001b[0;32m/opt/conda/lib/python3.10/queue.py:180\u001b[0m, in \u001b[0;36mQueue.get\u001b[0;34m(self, block, timeout)\u001b[0m\n\u001b[1;32m    178\u001b[0m         \u001b[39mif\u001b[39;00m remaining \u001b[39m<\u001b[39m\u001b[39m=\u001b[39m \u001b[39m0.0\u001b[39m:\n\u001b[1;32m    179\u001b[0m             \u001b[39mraise\u001b[39;00m Empty\n\u001b[0;32m--> 180\u001b[0m         \u001b[39mself\u001b[39;49m\u001b[39m.\u001b[39;49mnot_empty\u001b[39m.\u001b[39;49mwait(remaining)\n\u001b[1;32m    181\u001b[0m item \u001b[39m=\u001b[39m \u001b[39mself\u001b[39m\u001b[39m.\u001b[39m_get()\n\u001b[1;32m    182\u001b[0m \u001b[39mself\u001b[39m\u001b[39m.\u001b[39mnot_full\u001b[39m.\u001b[39mnotify()\n",
      "File \u001b[0;32m/opt/conda/lib/python3.10/threading.py:324\u001b[0m, in \u001b[0;36mCondition.wait\u001b[0;34m(self, timeout)\u001b[0m\n\u001b[1;32m    322\u001b[0m \u001b[39melse\u001b[39;00m:\n\u001b[1;32m    323\u001b[0m     \u001b[39mif\u001b[39;00m timeout \u001b[39m>\u001b[39m \u001b[39m0\u001b[39m:\n\u001b[0;32m--> 324\u001b[0m         gotit \u001b[39m=\u001b[39m waiter\u001b[39m.\u001b[39;49macquire(\u001b[39mTrue\u001b[39;49;00m, timeout)\n\u001b[1;32m    325\u001b[0m     \u001b[39melse\u001b[39;00m:\n\u001b[1;32m    326\u001b[0m         gotit \u001b[39m=\u001b[39m waiter\u001b[39m.\u001b[39macquire(\u001b[39mFalse\u001b[39;00m)\n",
      "\u001b[0;31mKeyboardInterrupt\u001b[0m: "
     ]
    }
   ],
   "source": [
    "# Uncertainty-based Self-Training\n",
    "project = \"231213\"\n",
    "folnames = [project+\"_iter1\", project+\"_iter2\", project+\"_iter3\", project+\"_iter4\", project+\"_iter5\"]\n",
    "os.makedirs('results/'+ project +'_results', exist_ok=True)\n",
    "csv_filename = 'results/'+project+'_results/results.csv'\n",
    "with open(csv_filename, mode='w', newline='') as file:\n",
    "    writer = csv.writer(file)\n",
    "    writer.writerow(['Iteration', 'F1-Score', 'Accuracy', 'Specificity', 'Recall', 'Precision'])\n",
    "\n",
    "for i in range(len(folnames)):\n",
    "    if i==0:\n",
    "        # train(former_folname=\"hoge\", folname=folnames[i], first=True, net=\"deeplab\", epochs=300, batch_size=64, num_samples=None, cons_reg=False)\n",
    "        scores = inference(former_folname=\"hoge\", folname=folnames[i], net=\"deeplab\", batch_size=64)\n",
    "        write_to_csv(i+1, scores, csv_filename)\n",
    "        save_mask(former_folname=\"hoge\", folname=folnames[i], net=\"deeplab\", batch_size=64, save_num=None)\n",
    "    else:\n",
    "        train(former_folname=folnames[i-1], folname=folnames[i], first=False, net=\"deeplab\", epochs=300, batch_size=64, alpha=100, num_samples=None, cons_reg=True)\n",
    "        scores = inference(former_folname=folnames[i-1], folname=folnames[i], net=\"deeplab\", batch_size=64)\n",
    "        write_to_csv(i+1, scores, csv_filename)\n",
    "        save_mask(former_folname=folnames[i-1], folname=folnames[i], net=\"deeplab\", batch_size=64, save_num=None)"
   ]
  },
  {
   "cell_type": "code",
   "execution_count": null,
   "metadata": {},
   "outputs": [],
   "source": [
    "# Supervised Learning\n",
    "project = \"231111sup\"\n",
    "folname = project + '_iter1'\n",
    "os.makedirs('results/'+ project +'_results', exist_ok=True)\n",
    "csv_filename = 'results/'+project+'_results/results.csv'\n",
    "with open(csv_filename, mode='w', newline='') as file:\n",
    "    writer = csv.writer(file)\n",
    "    writer.writerow(['Iteration', 'F1-Score', 'Accuracy', 'Specificity', 'Recall', 'Precision'])\n",
    "\n",
    "train(former_folname=\"hoge\", folname=folname, first=True, net=\"deeplab\", epochs=1000, batch_size=64, supervised=True)\n",
    "scores = inference(former_folname=\"hoge\", folname=folname, net=\"deeplab\", batch_size=64, supervised=True)\n",
    "write_to_csv(1, scores, csv_filename)"
   ]
  },
  {
   "cell_type": "code",
   "execution_count": null,
   "metadata": {},
   "outputs": [],
   "source": []
  },
  {
   "cell_type": "code",
   "execution_count": null,
   "metadata": {},
   "outputs": [],
   "source": [
    "import random\n",
    "\n",
    "# ランダムな並びの情報を保存\n",
    "shuffle_indices = list(range(5292))\n",
    "random.shuffle(shuffle_indices)\n",
    "\n",
    "# shuffle_indicesをファイルに保存するなど、情報を保存する方法を選びます\n",
    "with open(\"shuffle_indices.txt\", \"w\") as file:\n",
    "    file.write(\" \".join(map(str, shuffle_indices)))"
   ]
  },
  {
   "cell_type": "code",
   "execution_count": null,
   "metadata": {},
   "outputs": [],
   "source": [
    "meanlst = os.listdir(\"data/unlabeled_mask/231021_iter1/pred_mean_corrected/\")\n",
    "varlst = os.listdir(\"data/unlabeled_mask/231021_iter1/pred_var/\")\n",
    "print(len(meanlst))\n",
    "print(len(varlst))"
   ]
  },
  {
   "cell_type": "code",
   "execution_count": null,
   "metadata": {},
   "outputs": [],
   "source": [
    "import numpy as np\n",
    "from PIL import Image\n",
    "meanlst = os.listdir(\"data/unlabeled_mask/231021_iter1/pred_mean_corrected/\")\n",
    "varlst = os.listdir(\"data/unlabeled_mask/231021_iter1/pred_var/\")\n",
    "\n",
    "# # 各画像を処理\n",
    "for file_name in meanlst:\n",
    "    file_path = os.path.join(\"data/unlabeled_mask/231021_iter1/pred_mean_corrected\", file_name)\n",
    "    \n",
    "    # 画像をnumpy配列に読み込む\n",
    "    img = np.array(Image.open(file_path))\n",
    "    \n",
    "    # 画像サイズが256x256でない場合、警告を表示\n",
    "    if img.shape != (256, 256):\n",
    "        print(f\"異なるサイズの画像: {file_name}, サイズ: {img.shape}\")"
   ]
  },
  {
   "cell_type": "code",
   "execution_count": null,
   "metadata": {},
   "outputs": [],
   "source": [
    "import os\n",
    "import torch\n",
    "\n",
    "# フォルダのパス\n",
    "folder_path = \"data/unlabeled_mask/231021_iter1/pred_var/\"\n",
    "\n",
    "# フォルダ内の全ての.ptファイルをリストアップ\n",
    "pt_files = [f for f in os.listdir(folder_path) if f.endswith(\".pt\")]\n",
    "\n",
    "# 各ファイルを処理\n",
    "for file_name in pt_files:\n",
    "    file_path = os.path.join(folder_path, file_name)\n",
    "    \n",
    "    # PyTorch tensorを読み込む\n",
    "    tensor = torch.load(file_path)\n",
    "    \n",
    "    # 配列サイズが(256, 256)でない場合、警告を表示\n",
    "    if tensor.size() != torch.Size([256, 256]):\n",
    "        print(f\"異なるサイズのPyTorch tensor: {file_name}, サイズ: {tensor.size()}\")\n"
   ]
  },
  {
   "cell_type": "code",
   "execution_count": null,
   "metadata": {},
   "outputs": [],
   "source": [
    "import torch\n",
    "import glob\n",
    "\n",
    "fol_name = \"231107_iter3\"\n",
    "\n",
    "# pred_varを全て読み込み、torch.meanとtorch.maxの平均を計算する\n",
    "pred_var_path = sorted(glob.glob(f'data/unlabeled_mask/{fol_name}/pred_var/*'))\n",
    "mean_box = []\n",
    "max_box = []\n",
    "\n",
    "for file in pred_var_path:\n",
    "    pred_var = torch.load(file)\n",
    "    mean_box.append(torch.mean(pred_var).item())\n",
    "    max_box.append(torch.max(pred_var).item())\n",
    "\n",
    "print(sum(mean_box)/len(mean_box))\n",
    "print(sum(max_box)/len(max_box))"
   ]
  },
  {
   "cell_type": "code",
   "execution_count": null,
   "metadata": {},
   "outputs": [],
   "source": [
    "import matplotlib.pyplot as plt\n",
    "import cv2\n",
    "from PIL import Image\n",
    "# Targetデータでの出力を表示\n",
    "target_filepaths = glob.glob(\"data/Train/images/Rissbilder*\")\n",
    "target_filenames = [p.lstrip(\"data/Train/images/\") for p in target_filepaths]\n",
    "\n",
    "\n",
    "# 10行4列のサブプロットを作成\n",
    "fig, axes = plt.subplots(10, 4, figsize=(10, 20))\n",
    "\n",
    "# 画像をサブプロットに配置\n",
    "for i in range(10):\n",
    "    axes[i, 0].imshow(Image.open(\"data/Train/images/\"+target_filenames[i]))\n",
    "    axes[i, 0].axis('off')\n",
    "    axes[i, 1].imshow(Image.open(\"data/unlabeled_mask/231107_iter1/pred_mean_corrected/\"+target_filenames[i]), cmap='gray')\n",
    "    axes[i, 1].axis('off')\n",
    "    axes[i, 2].imshow(torch.load(\"data/unlabeled_mask/231107_iter1/pred_var/\"+target_filenames[i].rstrip('jpg')+\"pt\"), cmap='gray')\n",
    "    axes[i, 2].axis('off')\n",
    "    axes[i, 3].imshow(Image.open(\"data/Train/masks/\"+target_filenames[i]))\n",
    "    axes[i, 3].axis('off')\n",
    "\n",
    "# グリッドの余白を調整\n",
    "plt.subplots_adjust(wspace=0, hspace=0)\n",
    "\n",
    "# グリッドを表示\n",
    "plt.show()\n",
    "\n",
    "# Train/images/Rissbilder/ pred_mean_corrected, pred_var, Train/masks/Rissbilder"
   ]
  },
  {
   "cell_type": "code",
   "execution_count": null,
   "metadata": {},
   "outputs": [],
   "source": []
  }
 ],
 "metadata": {
  "kernelspec": {
   "display_name": "env",
   "language": "python",
   "name": "python3"
  },
  "language_info": {
   "codemirror_mode": {
    "name": "ipython",
    "version": 3
   },
   "file_extension": ".py",
   "mimetype": "text/x-python",
   "name": "python",
   "nbconvert_exporter": "python",
   "pygments_lexer": "ipython3",
   "version": "3.10.9"
  }
 },
 "nbformat": 4,
 "nbformat_minor": 2
}
