{
 "cells": [
  {
   "cell_type": "code",
   "execution_count": 1,
   "metadata": {},
   "outputs": [],
   "source": [
    "from train import train\n",
    "from inference import inference\n",
    "from save_mask import save_mask\n",
    "import csv, os\n",
    "from utils.module import write_to_csv"
   ]
  },
  {
   "cell_type": "code",
   "execution_count": 2,
   "metadata": {},
   "outputs": [
    {
     "name": "stdout",
     "output_type": "stream",
     "text": [
      "Sun Oct 22 02:19:59 2023       \n",
      "+---------------------------------------------------------------------------------------+\n",
      "| NVIDIA-SMI 535.54.03              Driver Version: 535.54.03    CUDA Version: 12.2     |\n",
      "|-----------------------------------------+----------------------+----------------------+\n",
      "| GPU  Name                 Persistence-M | Bus-Id        Disp.A | Volatile Uncorr. ECC |\n",
      "| Fan  Temp   Perf          Pwr:Usage/Cap |         Memory-Usage | GPU-Util  Compute M. |\n",
      "|                                         |                      |               MIG M. |\n",
      "|=========================================+======================+======================|\n",
      "|   0  Tesla M60                      On  | 00000000:00:1B.0 Off |                    0 |\n",
      "| N/A   32C    P8              14W / 150W |      0MiB /  7680MiB |      0%      Default |\n",
      "|                                         |                      |                  N/A |\n",
      "+-----------------------------------------+----------------------+----------------------+\n",
      "|   1  Tesla M60                      On  | 00000000:00:1C.0 Off |                    0 |\n",
      "| N/A   43C    P8              14W / 150W |      0MiB /  7680MiB |      0%      Default |\n",
      "|                                         |                      |                  N/A |\n",
      "+-----------------------------------------+----------------------+----------------------+\n",
      "|   2  Tesla M60                      On  | 00000000:00:1D.0 Off |                    0 |\n",
      "| N/A   26C    P8              15W / 150W |      0MiB /  7680MiB |      0%      Default |\n",
      "|                                         |                      |                  N/A |\n",
      "+-----------------------------------------+----------------------+----------------------+\n",
      "|   3  Tesla M60                      On  | 00000000:00:1E.0 Off |                    0 |\n",
      "| N/A   28C    P8              16W / 150W |      0MiB /  7680MiB |      0%      Default |\n",
      "|                                         |                      |                  N/A |\n",
      "+-----------------------------------------+----------------------+----------------------+\n",
      "                                                                                         \n",
      "+---------------------------------------------------------------------------------------+\n",
      "| Processes:                                                                            |\n",
      "|  GPU   GI   CI        PID   Type   Process name                            GPU Memory |\n",
      "|        ID   ID                                                             Usage      |\n",
      "|=======================================================================================|\n",
      "|  No running processes found                                                           |\n",
      "+---------------------------------------------------------------------------------------+\n"
     ]
    }
   ],
   "source": [
    "!nvidia-smi"
   ]
  },
  {
   "cell_type": "code",
   "execution_count": 4,
   "metadata": {},
   "outputs": [
    {
     "name": "stderr",
     "output_type": "stream",
     "text": [
      "100%|██████████| 16/16 [02:04<00:00,  7.81s/it]\n"
     ]
    },
    {
     "name": "stdout",
     "output_type": "stream",
     "text": [
      "F1-Score : 0.5732582807540894\n",
      "Accuracy : 0.9970160722732544\n",
      "Specificity : 0.9983611106872559\n",
      "Recall : 0.6358425617218018\n",
      "Precision : 0.5734639763832092\n"
     ]
    },
    {
     "name": "stderr",
     "output_type": "stream",
     "text": [
      " 99%|█████████▊| 67/68 [09:03<00:08,  8.11s/it]\n",
      "100%|██████████| 4292/4292 [01:47<00:00, 39.76it/s]\n"
     ]
    },
    {
     "name": "stdout",
     "output_type": "stream",
     "text": [
      "Epoch 1/300\n"
     ]
    },
    {
     "name": "stderr",
     "output_type": "stream",
     "text": [
      "100%|██████████| 155/155 [00:46<00:00,  3.33it/s]\n",
      "100%|██████████| 67/67 [00:20<00:00,  3.22it/s]\n",
      "100%|██████████| 18/18 [00:05<00:00,  3.25it/s]\n"
     ]
    },
    {
     "name": "stdout",
     "output_type": "stream",
     "text": [
      "Train loss: 0.3406627465640345\n",
      "Train consistency loss: 0.0763952626443621\n",
      "Validation loss: 0.5056841340329912\n",
      "1m 13s\n",
      "Consistency Loss declined to 0.0763952626443621\n",
      "Early Stopping Counter = 0\n",
      "Epoch 2/300\n"
     ]
    },
    {
     "name": "stderr",
     "output_type": "stream",
     "text": [
      "100%|██████████| 155/155 [00:46<00:00,  3.32it/s]\n",
      "100%|██████████| 67/67 [00:20<00:00,  3.22it/s]\n",
      "100%|██████████| 18/18 [00:05<00:00,  3.35it/s]\n"
     ]
    },
    {
     "name": "stdout",
     "output_type": "stream",
     "text": [
      "Train loss: 0.28060827870522775\n",
      "Train consistency loss: 0.05938779454289088\n",
      "Validation loss: 0.43866876595550114\n",
      "1m 13s\n",
      "Consistency Loss declined to 0.05938779454289088\n",
      "Early Stopping Counter = 0\n",
      "Epoch 3/300\n"
     ]
    },
    {
     "name": "stderr",
     "output_type": "stream",
     "text": [
      "100%|██████████| 155/155 [00:46<00:00,  3.31it/s]\n",
      "100%|██████████| 67/67 [00:20<00:00,  3.21it/s]\n",
      "100%|██████████| 18/18 [00:05<00:00,  3.30it/s]\n"
     ]
    },
    {
     "name": "stdout",
     "output_type": "stream",
     "text": [
      "Train loss: 0.26610683625744236\n",
      "Train consistency loss: 0.056490262553318224\n",
      "Validation loss: 0.47458382613129085\n",
      "1m 13s\n",
      "Consistency Loss declined to 0.056490262553318224\n",
      "Early Stopping Counter = 0\n",
      "Epoch 4/300\n"
     ]
    },
    {
     "name": "stderr",
     "output_type": "stream",
     "text": [
      "100%|██████████| 155/155 [00:46<00:00,  3.32it/s]\n",
      "100%|██████████| 67/67 [00:20<00:00,  3.20it/s]\n",
      "100%|██████████| 18/18 [00:05<00:00,  3.29it/s]\n"
     ]
    },
    {
     "name": "stdout",
     "output_type": "stream",
     "text": [
      "Train loss: 0.2614367484085022\n",
      "Train consistency loss: 0.05889400308812732\n",
      "Validation loss: 0.44338589409987134\n",
      "1m 13s\n",
      "Early Stopping Counter = 1\n",
      "Epoch 5/300\n"
     ]
    },
    {
     "name": "stderr",
     "output_type": "stream",
     "text": [
      "100%|██████████| 155/155 [00:46<00:00,  3.31it/s]\n",
      "100%|██████████| 67/67 [00:21<00:00,  3.17it/s]\n",
      "100%|██████████| 18/18 [00:05<00:00,  3.30it/s]\n"
     ]
    },
    {
     "name": "stdout",
     "output_type": "stream",
     "text": [
      "Train loss: 0.2553677411810044\n",
      "Train consistency loss: 0.04942478584264642\n",
      "Validation loss: 0.44325397577550674\n",
      "1m 13s\n",
      "Consistency Loss declined to 0.04942478584264642\n",
      "Early Stopping Counter = 0\n",
      "Epoch 6/300\n"
     ]
    },
    {
     "name": "stderr",
     "output_type": "stream",
     "text": [
      "100%|██████████| 155/155 [00:46<00:00,  3.32it/s]\n",
      "100%|██████████| 67/67 [00:20<00:00,  3.21it/s]\n",
      "100%|██████████| 18/18 [00:05<00:00,  3.20it/s]\n"
     ]
    },
    {
     "name": "stdout",
     "output_type": "stream",
     "text": [
      "Train loss: 0.24626520583706518\n",
      "Train consistency loss: 0.05297138008163936\n",
      "Validation loss: 0.4267439792553584\n",
      "1m 13s\n",
      "Early Stopping Counter = 1\n",
      "Epoch 7/300\n"
     ]
    },
    {
     "name": "stderr",
     "output_type": "stream",
     "text": [
      "100%|██████████| 155/155 [00:46<00:00,  3.34it/s]\n",
      "100%|██████████| 67/67 [00:20<00:00,  3.22it/s]\n",
      "100%|██████████| 18/18 [00:05<00:00,  3.34it/s]\n"
     ]
    },
    {
     "name": "stdout",
     "output_type": "stream",
     "text": [
      "Train loss: 0.24533684686306984\n",
      "Train consistency loss: 0.04048674678735768\n",
      "Validation loss: 0.4015367461575402\n",
      "1m 13s\n",
      "Consistency Loss declined to 0.04048674678735768\n",
      "Early Stopping Counter = 0\n",
      "Epoch 8/300\n"
     ]
    },
    {
     "name": "stderr",
     "output_type": "stream",
     "text": [
      "100%|██████████| 155/155 [00:46<00:00,  3.31it/s]\n",
      "100%|██████████| 67/67 [00:20<00:00,  3.19it/s]\n",
      "100%|██████████| 18/18 [00:05<00:00,  3.31it/s]\n"
     ]
    },
    {
     "name": "stdout",
     "output_type": "stream",
     "text": [
      "Train loss: 0.23204666299204674\n",
      "Train consistency loss: 0.03803075716566684\n",
      "Validation loss: 0.40116726358731586\n",
      "1m 13s\n",
      "Consistency Loss declined to 0.03803075716566684\n",
      "Early Stopping Counter = 0\n",
      "Epoch 9/300\n"
     ]
    },
    {
     "name": "stderr",
     "output_type": "stream",
     "text": [
      "100%|██████████| 155/155 [00:46<00:00,  3.31it/s]\n",
      "100%|██████████| 67/67 [00:20<00:00,  3.21it/s]\n",
      "100%|██████████| 18/18 [00:05<00:00,  3.28it/s]\n"
     ]
    },
    {
     "name": "stdout",
     "output_type": "stream",
     "text": [
      "Train loss: 0.22908011194198363\n",
      "Train consistency loss: 0.04081318888868859\n",
      "Validation loss: 0.4096597250964906\n",
      "1m 13s\n",
      "Early Stopping Counter = 1\n",
      "Epoch 10/300\n"
     ]
    },
    {
     "name": "stderr",
     "output_type": "stream",
     "text": [
      "100%|██████████| 155/155 [00:46<00:00,  3.34it/s]\n",
      "100%|██████████| 67/67 [00:21<00:00,  3.18it/s]\n",
      "100%|██████████| 18/18 [00:05<00:00,  3.39it/s]\n"
     ]
    },
    {
     "name": "stdout",
     "output_type": "stream",
     "text": [
      "Train loss: 0.23019046120105252\n",
      "Train consistency loss: 0.03553492534182855\n",
      "Validation loss: 0.39825715455744004\n",
      "1m 13s\n",
      "Consistency Loss declined to 0.03553492534182855\n",
      "Early Stopping Counter = 0\n",
      "Epoch 11/300\n"
     ]
    },
    {
     "name": "stderr",
     "output_type": "stream",
     "text": [
      "100%|██████████| 155/155 [00:46<00:00,  3.33it/s]\n",
      "100%|██████████| 67/67 [00:20<00:00,  3.21it/s]\n",
      "100%|██████████| 18/18 [00:05<00:00,  3.32it/s]\n"
     ]
    },
    {
     "name": "stdout",
     "output_type": "stream",
     "text": [
      "Train loss: 0.22649764399374686\n",
      "Train consistency loss: 0.041635435894687677\n",
      "Validation loss: 0.41345927615960437\n",
      "1m 13s\n",
      "Early Stopping Counter = 1\n",
      "Epoch 12/300\n"
     ]
    },
    {
     "name": "stderr",
     "output_type": "stream",
     "text": [
      "100%|██████████| 155/155 [00:46<00:00,  3.34it/s]\n",
      "100%|██████████| 67/67 [00:21<00:00,  3.18it/s]\n",
      "100%|██████████| 18/18 [00:05<00:00,  3.33it/s]\n"
     ]
    },
    {
     "name": "stdout",
     "output_type": "stream",
     "text": [
      "Train loss: 0.22397603286850837\n",
      "Train consistency loss: 0.03353229438913847\n",
      "Validation loss: 0.35905876176224816\n",
      "1m 13s\n",
      "Consistency Loss declined to 0.03353229438913847\n",
      "Early Stopping Counter = 0\n",
      "Epoch 13/300\n"
     ]
    },
    {
     "name": "stderr",
     "output_type": "stream",
     "text": [
      "100%|██████████| 155/155 [00:46<00:00,  3.34it/s]\n",
      "100%|██████████| 67/67 [00:21<00:00,  3.17it/s]\n",
      "100%|██████████| 18/18 [00:05<00:00,  3.26it/s]\n"
     ]
    },
    {
     "name": "stdout",
     "output_type": "stream",
     "text": [
      "Train loss: 0.21770890210905383\n",
      "Train consistency loss: 0.03591115372394448\n",
      "Validation loss: 0.3845348573393292\n",
      "1m 13s\n",
      "Early Stopping Counter = 1\n",
      "Epoch 14/300\n"
     ]
    },
    {
     "name": "stderr",
     "output_type": "stream",
     "text": [
      "100%|██████████| 155/155 [00:46<00:00,  3.32it/s]\n",
      "100%|██████████| 67/67 [00:20<00:00,  3.20it/s]\n",
      "100%|██████████| 18/18 [00:05<00:00,  3.30it/s]\n"
     ]
    },
    {
     "name": "stdout",
     "output_type": "stream",
     "text": [
      "Train loss: 0.2211634506140986\n",
      "Train consistency loss: 0.03204722986070078\n",
      "Validation loss: 0.35213885456323624\n",
      "1m 13s\n",
      "Consistency Loss declined to 0.03204722986070078\n",
      "Early Stopping Counter = 0\n",
      "Epoch 15/300\n"
     ]
    },
    {
     "name": "stderr",
     "output_type": "stream",
     "text": [
      "100%|██████████| 155/155 [00:46<00:00,  3.31it/s]\n",
      "100%|██████████| 67/67 [00:20<00:00,  3.21it/s]\n",
      "100%|██████████| 18/18 [00:05<00:00,  3.32it/s]\n"
     ]
    },
    {
     "name": "stdout",
     "output_type": "stream",
     "text": [
      "Train loss: 0.21250166912232676\n",
      "Train consistency loss: 0.027433892378388947\n",
      "Validation loss: 0.3473767737547557\n",
      "1m 13s\n",
      "Consistency Loss declined to 0.027433892378388947\n",
      "Early Stopping Counter = 0\n",
      "Epoch 16/300\n"
     ]
    },
    {
     "name": "stderr",
     "output_type": "stream",
     "text": [
      "100%|██████████| 155/155 [00:46<00:00,  3.32it/s]\n",
      "100%|██████████| 67/67 [00:20<00:00,  3.22it/s]\n",
      "100%|██████████| 18/18 [00:05<00:00,  3.21it/s]\n"
     ]
    },
    {
     "name": "stdout",
     "output_type": "stream",
     "text": [
      "Train loss: 0.20971641059844726\n",
      "Train consistency loss: 0.026323928330927643\n",
      "Validation loss: 0.32805810537603164\n",
      "1m 13s\n",
      "Consistency Loss declined to 0.026323928330927643\n",
      "Early Stopping Counter = 0\n",
      "Epoch 17/300\n"
     ]
    },
    {
     "name": "stderr",
     "output_type": "stream",
     "text": [
      "100%|██████████| 155/155 [00:46<00:00,  3.32it/s]\n",
      "100%|██████████| 67/67 [00:20<00:00,  3.21it/s]\n",
      "100%|██████████| 18/18 [00:05<00:00,  3.25it/s]\n"
     ]
    },
    {
     "name": "stdout",
     "output_type": "stream",
     "text": [
      "Train loss: 0.2060466795198379\n",
      "Train consistency loss: 0.02429793549896176\n",
      "Validation loss: 0.3374592728084988\n",
      "1m 13s\n",
      "Consistency Loss declined to 0.02429793549896176\n",
      "Early Stopping Counter = 0\n",
      "Epoch 18/300\n"
     ]
    },
    {
     "name": "stderr",
     "output_type": "stream",
     "text": [
      "100%|██████████| 155/155 [00:46<00:00,  3.31it/s]\n",
      "100%|██████████| 67/67 [00:21<00:00,  3.18it/s]\n",
      "100%|██████████| 18/18 [00:05<00:00,  3.34it/s]\n"
     ]
    },
    {
     "name": "stdout",
     "output_type": "stream",
     "text": [
      "Train loss: 0.20552230256219065\n",
      "Train consistency loss: 0.023622162473290714\n",
      "Validation loss: 0.37420761171314454\n",
      "1m 13s\n",
      "Consistency Loss declined to 0.023622162473290714\n",
      "Early Stopping Counter = 0\n",
      "Epoch 19/300\n"
     ]
    },
    {
     "name": "stderr",
     "output_type": "stream",
     "text": [
      "100%|██████████| 155/155 [00:46<00:00,  3.30it/s]\n",
      "100%|██████████| 67/67 [00:20<00:00,  3.21it/s]\n",
      "100%|██████████| 18/18 [00:05<00:00,  3.26it/s]\n"
     ]
    },
    {
     "name": "stdout",
     "output_type": "stream",
     "text": [
      "Train loss: 0.20785437168613558\n",
      "Train consistency loss: 0.02420820561307135\n",
      "Validation loss: 0.34072165853447384\n",
      "1m 13s\n",
      "Early Stopping Counter = 1\n",
      "Epoch 20/300\n"
     ]
    },
    {
     "name": "stderr",
     "output_type": "stream",
     "text": [
      "100%|██████████| 155/155 [00:46<00:00,  3.32it/s]\n",
      "100%|██████████| 67/67 [00:21<00:00,  3.19it/s]\n",
      "100%|██████████| 18/18 [00:05<00:00,  3.30it/s]\n"
     ]
    },
    {
     "name": "stdout",
     "output_type": "stream",
     "text": [
      "Train loss: 0.20281179460787005\n",
      "Train consistency loss: 0.022714976429828067\n",
      "Validation loss: 0.3376808688044548\n",
      "1m 13s\n",
      "Consistency Loss declined to 0.022714976429828067\n",
      "Early Stopping Counter = 0\n",
      "Epoch 21/300\n"
     ]
    },
    {
     "name": "stderr",
     "output_type": "stream",
     "text": [
      "100%|██████████| 155/155 [00:46<00:00,  3.34it/s]\n",
      "100%|██████████| 67/67 [00:20<00:00,  3.22it/s]\n",
      "100%|██████████| 18/18 [00:05<00:00,  3.29it/s]\n"
     ]
    },
    {
     "name": "stdout",
     "output_type": "stream",
     "text": [
      "Train loss: 0.20079414998331377\n",
      "Train consistency loss: 0.02442484873055077\n",
      "Validation loss: 0.33664927466048133\n",
      "1m 13s\n",
      "Early Stopping Counter = 1\n",
      "Epoch 22/300\n"
     ]
    },
    {
     "name": "stderr",
     "output_type": "stream",
     "text": [
      "100%|██████████| 155/155 [00:46<00:00,  3.35it/s]\n",
      "100%|██████████| 67/67 [00:20<00:00,  3.21it/s]\n",
      "100%|██████████| 18/18 [00:05<00:00,  3.29it/s]\n"
     ]
    },
    {
     "name": "stdout",
     "output_type": "stream",
     "text": [
      "Train loss: 0.20261103856948115\n",
      "Train consistency loss: 0.02186656848930601\n",
      "Validation loss: 0.3269624320997132\n",
      "1m 13s\n",
      "Consistency Loss declined to 0.02186656848930601\n",
      "Early Stopping Counter = 0\n",
      "Epoch 23/300\n"
     ]
    },
    {
     "name": "stderr",
     "output_type": "stream",
     "text": [
      "100%|██████████| 155/155 [00:46<00:00,  3.32it/s]\n",
      "100%|██████████| 67/67 [00:20<00:00,  3.20it/s]\n",
      "100%|██████████| 18/18 [00:05<00:00,  3.35it/s]\n"
     ]
    },
    {
     "name": "stdout",
     "output_type": "stream",
     "text": [
      "Train loss: 0.20098688583220206\n",
      "Train consistency loss: 0.021607769653201103\n",
      "Validation loss: 0.3212553593847487\n",
      "1m 13s\n",
      "Consistency Loss declined to 0.021607769653201103\n",
      "Early Stopping Counter = 0\n",
      "Epoch 24/300\n"
     ]
    },
    {
     "name": "stderr",
     "output_type": "stream",
     "text": [
      "100%|██████████| 155/155 [00:46<00:00,  3.32it/s]\n",
      "100%|██████████| 67/67 [00:20<00:00,  3.21it/s]\n",
      "100%|██████████| 18/18 [00:05<00:00,  3.27it/s]\n"
     ]
    },
    {
     "name": "stdout",
     "output_type": "stream",
     "text": [
      "Train loss: 0.19615583515936327\n",
      "Train consistency loss: 0.018001269173822297\n",
      "Validation loss: 0.3046753332018852\n",
      "1m 13s\n",
      "Consistency Loss declined to 0.018001269173822297\n",
      "Early Stopping Counter = 0\n",
      "Epoch 25/300\n"
     ]
    },
    {
     "name": "stderr",
     "output_type": "stream",
     "text": [
      "100%|██████████| 155/155 [00:46<00:00,  3.32it/s]\n",
      "100%|██████████| 67/67 [00:20<00:00,  3.21it/s]\n",
      "100%|██████████| 18/18 [00:05<00:00,  3.29it/s]\n"
     ]
    },
    {
     "name": "stdout",
     "output_type": "stream",
     "text": [
      "Train loss: 0.1981475571470876\n",
      "Train consistency loss: 0.02164246821637029\n",
      "Validation loss: 0.35591493712531197\n",
      "1m 13s\n",
      "Early Stopping Counter = 1\n",
      "Epoch 26/300\n"
     ]
    },
    {
     "name": "stderr",
     "output_type": "stream",
     "text": [
      "100%|██████████| 155/155 [00:46<00:00,  3.34it/s]\n",
      "100%|██████████| 67/67 [00:21<00:00,  3.19it/s]\n",
      "100%|██████████| 18/18 [00:05<00:00,  3.30it/s]\n"
     ]
    },
    {
     "name": "stdout",
     "output_type": "stream",
     "text": [
      "Train loss: 0.20548033714294434\n",
      "Train consistency loss: 0.020285419508147596\n",
      "Validation loss: 0.330933578312397\n",
      "1m 13s\n",
      "Early Stopping Counter = 2\n",
      "Epoch 27/300\n"
     ]
    },
    {
     "name": "stderr",
     "output_type": "stream",
     "text": [
      "100%|██████████| 155/155 [00:46<00:00,  3.34it/s]\n",
      "100%|██████████| 67/67 [00:21<00:00,  3.18it/s]\n",
      "100%|██████████| 18/18 [00:05<00:00,  3.35it/s]\n"
     ]
    },
    {
     "name": "stdout",
     "output_type": "stream",
     "text": [
      "Train loss: 0.19804707179146427\n",
      "Train consistency loss: 0.01934778486003182\n",
      "Validation loss: 0.3135022090540992\n",
      "1m 13s\n",
      "Early Stopping Counter = 3\n",
      "Epoch 28/300\n"
     ]
    },
    {
     "name": "stderr",
     "output_type": "stream",
     "text": [
      "100%|██████████| 155/155 [00:46<00:00,  3.33it/s]\n",
      "100%|██████████| 67/67 [00:20<00:00,  3.19it/s]\n",
      "100%|██████████| 18/18 [00:05<00:00,  3.29it/s]\n"
     ]
    },
    {
     "name": "stdout",
     "output_type": "stream",
     "text": [
      "Train loss: 0.19428566252031634\n",
      "Train consistency loss: 0.015909387368653247\n",
      "Validation loss: 0.33165646509991753\n",
      "1m 13s\n",
      "Consistency Loss declined to 0.015909387368653247\n",
      "Early Stopping Counter = 0\n",
      "Epoch 29/300\n"
     ]
    },
    {
     "name": "stderr",
     "output_type": "stream",
     "text": [
      "100%|██████████| 155/155 [00:46<00:00,  3.31it/s]\n",
      "100%|██████████| 67/67 [00:21<00:00,  3.18it/s]\n",
      "100%|██████████| 18/18 [00:05<00:00,  3.27it/s]\n"
     ]
    },
    {
     "name": "stdout",
     "output_type": "stream",
     "text": [
      "Train loss: 0.19301351549163942\n",
      "Train consistency loss: 0.016819560448569592\n",
      "Validation loss: 0.3054320265849431\n",
      "1m 13s\n",
      "Early Stopping Counter = 1\n",
      "Epoch 30/300\n"
     ]
    },
    {
     "name": "stderr",
     "output_type": "stream",
     "text": [
      "100%|██████████| 155/155 [00:46<00:00,  3.34it/s]\n",
      "100%|██████████| 67/67 [00:20<00:00,  3.21it/s]\n",
      "100%|██████████| 18/18 [00:05<00:00,  3.31it/s]\n"
     ]
    },
    {
     "name": "stdout",
     "output_type": "stream",
     "text": [
      "Train loss: 0.19106942742101607\n",
      "Train consistency loss: 0.016624362569357922\n",
      "Validation loss: 0.3119257961710294\n",
      "1m 13s\n",
      "Early Stopping Counter = 2\n",
      "Epoch 31/300\n"
     ]
    },
    {
     "name": "stderr",
     "output_type": "stream",
     "text": [
      "100%|██████████| 155/155 [00:46<00:00,  3.34it/s]\n",
      "100%|██████████| 67/67 [00:20<00:00,  3.21it/s]\n",
      "100%|██████████| 18/18 [00:05<00:00,  3.30it/s]\n"
     ]
    },
    {
     "name": "stdout",
     "output_type": "stream",
     "text": [
      "Train loss: 0.19143713712692262\n",
      "Train consistency loss: 0.01499558254770601\n",
      "Validation loss: 0.30632693734433913\n",
      "1m 13s\n",
      "Consistency Loss declined to 0.01499558254770601\n",
      "Early Stopping Counter = 0\n",
      "Epoch 32/300\n"
     ]
    },
    {
     "name": "stderr",
     "output_type": "stream",
     "text": [
      "100%|██████████| 155/155 [00:46<00:00,  3.31it/s]\n",
      "100%|██████████| 67/67 [00:20<00:00,  3.22it/s]\n",
      "100%|██████████| 18/18 [00:05<00:00,  3.29it/s]\n"
     ]
    },
    {
     "name": "stdout",
     "output_type": "stream",
     "text": [
      "Train loss: 0.18970097159185717\n",
      "Train consistency loss: 0.015251512896380763\n",
      "Validation loss: 0.305493649509218\n",
      "1m 13s\n",
      "Early Stopping Counter = 1\n",
      "Epoch 33/300\n"
     ]
    },
    {
     "name": "stderr",
     "output_type": "stream",
     "text": [
      "100%|██████████| 155/155 [00:46<00:00,  3.34it/s]\n",
      "100%|██████████| 67/67 [00:21<00:00,  3.18it/s]\n",
      "100%|██████████| 18/18 [00:05<00:00,  3.30it/s]\n"
     ]
    },
    {
     "name": "stdout",
     "output_type": "stream",
     "text": [
      "Train loss: 0.19017144431990962\n",
      "Train consistency loss: 0.01575872292325123\n",
      "Validation loss: 0.3164842501282692\n",
      "1m 13s\n",
      "Early Stopping Counter = 2\n",
      "Epoch 34/300\n"
     ]
    },
    {
     "name": "stderr",
     "output_type": "stream",
     "text": [
      "100%|██████████| 155/155 [00:46<00:00,  3.31it/s]\n",
      "100%|██████████| 67/67 [00:20<00:00,  3.21it/s]\n",
      "100%|██████████| 18/18 [00:05<00:00,  3.25it/s]\n"
     ]
    },
    {
     "name": "stdout",
     "output_type": "stream",
     "text": [
      "Train loss: 0.18987246847921802\n",
      "Train consistency loss: 0.015591394642729368\n",
      "Validation loss: 0.3906811657879088\n",
      "1m 13s\n",
      "Early Stopping Counter = 3\n",
      "Epoch 35/300\n"
     ]
    },
    {
     "name": "stderr",
     "output_type": "stream",
     "text": [
      "100%|██████████| 155/155 [00:46<00:00,  3.35it/s]\n",
      "100%|██████████| 67/67 [00:21<00:00,  3.19it/s]\n",
      "100%|██████████| 18/18 [00:05<00:00,  3.24it/s]\n"
     ]
    },
    {
     "name": "stdout",
     "output_type": "stream",
     "text": [
      "Train loss: 0.19219353871960793\n",
      "Train consistency loss: 0.016622135700630165\n",
      "Validation loss: 0.299660362303257\n",
      "1m 13s\n",
      "Early Stopping Counter = 4\n",
      "Epoch 36/300\n"
     ]
    },
    {
     "name": "stderr",
     "output_type": "stream",
     "text": [
      "100%|██████████| 155/155 [00:46<00:00,  3.34it/s]\n",
      "100%|██████████| 67/67 [00:20<00:00,  3.21it/s]\n",
      "100%|██████████| 18/18 [00:05<00:00,  3.25it/s]\n"
     ]
    },
    {
     "name": "stdout",
     "output_type": "stream",
     "text": [
      "Train loss: 0.18917790766685239\n",
      "Train consistency loss: 0.014078493091041472\n",
      "Validation loss: 0.3083757393889957\n",
      "1m 13s\n",
      "Consistency Loss declined to 0.014078493091041472\n",
      "Early Stopping Counter = 0\n",
      "Epoch 37/300\n"
     ]
    },
    {
     "name": "stderr",
     "output_type": "stream",
     "text": [
      "100%|██████████| 155/155 [00:46<00:00,  3.34it/s]\n",
      "100%|██████████| 67/67 [00:20<00:00,  3.21it/s]\n",
      "100%|██████████| 18/18 [00:05<00:00,  3.25it/s]\n"
     ]
    },
    {
     "name": "stdout",
     "output_type": "stream",
     "text": [
      "Train loss: 0.18665362260034007\n",
      "Train consistency loss: 0.014493571365001932\n",
      "Validation loss: 0.3244911688897345\n",
      "1m 13s\n",
      "Early Stopping Counter = 1\n",
      "Epoch 38/300\n"
     ]
    },
    {
     "name": "stderr",
     "output_type": "stream",
     "text": [
      "100%|██████████| 155/155 [00:46<00:00,  3.34it/s]\n",
      "100%|██████████| 67/67 [00:20<00:00,  3.21it/s]\n",
      "100%|██████████| 18/18 [00:05<00:00,  3.23it/s]\n"
     ]
    },
    {
     "name": "stdout",
     "output_type": "stream",
     "text": [
      "Train loss: 0.1873864632460379\n",
      "Train consistency loss: 0.014983219393431696\n",
      "Validation loss: 0.3071730277604527\n",
      "1m 13s\n",
      "Early Stopping Counter = 2\n",
      "Epoch 39/300\n"
     ]
    },
    {
     "name": "stderr",
     "output_type": "stream",
     "text": [
      "100%|██████████| 155/155 [00:46<00:00,  3.31it/s]\n",
      "100%|██████████| 67/67 [00:20<00:00,  3.20it/s]\n",
      "100%|██████████| 18/18 [00:05<00:00,  3.21it/s]\n"
     ]
    },
    {
     "name": "stdout",
     "output_type": "stream",
     "text": [
      "Train loss: 0.18665583114470205\n",
      "Train consistency loss: 0.012252976749537152\n",
      "Validation loss: 0.3020220299561818\n",
      "1m 13s\n",
      "Consistency Loss declined to 0.012252976749537152\n",
      "Early Stopping Counter = 0\n",
      "Epoch 40/300\n"
     ]
    },
    {
     "name": "stderr",
     "output_type": "stream",
     "text": [
      "100%|██████████| 155/155 [00:46<00:00,  3.31it/s]\n",
      "100%|██████████| 67/67 [00:20<00:00,  3.20it/s]\n",
      "100%|██████████| 18/18 [00:05<00:00,  3.32it/s]\n"
     ]
    },
    {
     "name": "stdout",
     "output_type": "stream",
     "text": [
      "Train loss: 0.18565104613381048\n",
      "Train consistency loss: 0.014036778423156756\n",
      "Validation loss: 0.31437251220146817\n",
      "1m 13s\n",
      "Early Stopping Counter = 1\n",
      "Epoch 41/300\n"
     ]
    },
    {
     "name": "stderr",
     "output_type": "stream",
     "text": [
      "100%|██████████| 155/155 [00:46<00:00,  3.34it/s]\n",
      "100%|██████████| 67/67 [00:21<00:00,  3.17it/s]\n",
      "100%|██████████| 18/18 [00:05<00:00,  3.25it/s]\n"
     ]
    },
    {
     "name": "stdout",
     "output_type": "stream",
     "text": [
      "Train loss: 0.1849176396285334\n",
      "Train consistency loss: 0.013066549639481662\n",
      "Validation loss: 0.32303941829337013\n",
      "1m 13s\n",
      "Early Stopping Counter = 2\n",
      "Epoch 42/300\n"
     ]
    },
    {
     "name": "stderr",
     "output_type": "stream",
     "text": [
      "100%|██████████| 155/155 [00:46<00:00,  3.34it/s]\n",
      "100%|██████████| 67/67 [00:20<00:00,  3.21it/s]\n",
      "100%|██████████| 18/18 [00:05<00:00,  3.30it/s]\n"
     ]
    },
    {
     "name": "stdout",
     "output_type": "stream",
     "text": [
      "Train loss: 0.1859587017566927\n",
      "Train consistency loss: 0.0160865194803632\n",
      "Validation loss: 0.3143929988145828\n",
      "1m 13s\n",
      "Early Stopping Counter = 3\n",
      "Epoch 43/300\n"
     ]
    },
    {
     "name": "stderr",
     "output_type": "stream",
     "text": [
      "100%|██████████| 155/155 [00:46<00:00,  3.34it/s]\n",
      "100%|██████████| 67/67 [00:20<00:00,  3.19it/s]\n",
      "100%|██████████| 18/18 [00:05<00:00,  3.38it/s]\n"
     ]
    },
    {
     "name": "stdout",
     "output_type": "stream",
     "text": [
      "Train loss: 0.18558844885518475\n",
      "Train consistency loss: 0.013032493237128009\n",
      "Validation loss: 0.332195471558306\n",
      "1m 13s\n",
      "Early Stopping Counter = 4\n",
      "Epoch 44/300\n"
     ]
    },
    {
     "name": "stderr",
     "output_type": "stream",
     "text": [
      "100%|██████████| 155/155 [00:46<00:00,  3.32it/s]\n",
      "100%|██████████| 67/67 [00:20<00:00,  3.21it/s]\n",
      "100%|██████████| 18/18 [00:05<00:00,  3.25it/s]\n"
     ]
    },
    {
     "name": "stdout",
     "output_type": "stream",
     "text": [
      "Train loss: 0.18672330100690165\n",
      "Train consistency loss: 0.01369522339594898\n",
      "Validation loss: 0.3194822892546654\n",
      "1m 13s\n",
      "Early Stopping Counter = 5\n",
      "Epoch 45/300\n"
     ]
    },
    {
     "name": "stderr",
     "output_type": "stream",
     "text": [
      "100%|██████████| 155/155 [00:46<00:00,  3.34it/s]\n",
      "100%|██████████| 67/67 [00:21<00:00,  3.18it/s]\n",
      "100%|██████████| 18/18 [00:05<00:00,  3.25it/s]\n"
     ]
    },
    {
     "name": "stdout",
     "output_type": "stream",
     "text": [
      "Train loss: 0.18359946320133824\n",
      "Train consistency loss: 0.011263755817355505\n",
      "Validation loss: 0.3161880390511619\n",
      "1m 13s\n",
      "Consistency Loss declined to 0.011263755817355505\n",
      "Early Stopping Counter = 0\n",
      "Epoch 46/300\n"
     ]
    },
    {
     "name": "stderr",
     "output_type": "stream",
     "text": [
      "100%|██████████| 155/155 [00:46<00:00,  3.31it/s]\n",
      "100%|██████████| 67/67 [00:20<00:00,  3.20it/s]\n",
      "100%|██████████| 18/18 [00:05<00:00,  3.29it/s]\n"
     ]
    },
    {
     "name": "stdout",
     "output_type": "stream",
     "text": [
      "Train loss: 0.18289716272584855\n",
      "Train consistency loss: 0.011738097159636777\n",
      "Validation loss: 0.29749444209867054\n",
      "1m 13s\n",
      "Early Stopping Counter = 1\n",
      "Epoch 47/300\n"
     ]
    },
    {
     "name": "stderr",
     "output_type": "stream",
     "text": [
      "100%|██████████| 155/155 [00:46<00:00,  3.31it/s]\n",
      "100%|██████████| 67/67 [00:21<00:00,  3.16it/s]\n",
      "100%|██████████| 18/18 [00:05<00:00,  3.25it/s]\n"
     ]
    },
    {
     "name": "stdout",
     "output_type": "stream",
     "text": [
      "Train loss: 0.1834221742806896\n",
      "Train consistency loss: 0.013395277581719765\n",
      "Validation loss: 0.30843466851446366\n",
      "1m 14s\n",
      "Early Stopping Counter = 2\n",
      "Epoch 48/300\n"
     ]
    },
    {
     "name": "stderr",
     "output_type": "stream",
     "text": [
      "100%|██████████| 155/155 [00:46<00:00,  3.32it/s]\n",
      "100%|██████████| 67/67 [00:21<00:00,  3.17it/s]\n",
      "100%|██████████| 18/18 [00:05<00:00,  3.25it/s]\n"
     ]
    },
    {
     "name": "stdout",
     "output_type": "stream",
     "text": [
      "Train loss: 0.18253451874179225\n",
      "Train consistency loss: 0.011542818745347991\n",
      "Validation loss: 0.30595190574725467\n",
      "1m 13s\n",
      "Early Stopping Counter = 3\n",
      "Epoch 49/300\n"
     ]
    },
    {
     "name": "stderr",
     "output_type": "stream",
     "text": [
      "100%|██████████| 155/155 [00:46<00:00,  3.33it/s]\n",
      "100%|██████████| 67/67 [00:21<00:00,  3.18it/s]\n",
      "100%|██████████| 18/18 [00:05<00:00,  3.25it/s]\n"
     ]
    },
    {
     "name": "stdout",
     "output_type": "stream",
     "text": [
      "Train loss: 0.18140530711220157\n",
      "Train consistency loss: 0.011743412582453951\n",
      "Validation loss: 0.29405125892824596\n",
      "1m 13s\n",
      "Early Stopping Counter = 4\n",
      "Epoch 50/300\n"
     ]
    },
    {
     "name": "stderr",
     "output_type": "stream",
     "text": [
      "100%|██████████| 155/155 [00:46<00:00,  3.32it/s]\n",
      "100%|██████████| 67/67 [00:20<00:00,  3.21it/s]\n",
      "100%|██████████| 18/18 [00:05<00:00,  3.25it/s]\n"
     ]
    },
    {
     "name": "stdout",
     "output_type": "stream",
     "text": [
      "Train loss: 0.1804581546014355\n",
      "Train consistency loss: 0.013127276375055758\n",
      "Validation loss: 0.31574097441302407\n",
      "1m 13s\n",
      "Early Stopping Counter = 5\n",
      "Epoch 51/300\n"
     ]
    },
    {
     "name": "stderr",
     "output_type": "stream",
     "text": [
      "100%|██████████| 155/155 [00:46<00:00,  3.32it/s]\n",
      "100%|██████████| 67/67 [00:21<00:00,  3.18it/s]\n",
      "100%|██████████| 18/18 [00:05<00:00,  3.27it/s]\n"
     ]
    },
    {
     "name": "stdout",
     "output_type": "stream",
     "text": [
      "Train loss: 0.18349767404217873\n",
      "Train consistency loss: 0.010734810514736976\n",
      "Validation loss: 0.30144863575696945\n",
      "1m 13s\n",
      "Consistency Loss declined to 0.010734810514736976\n",
      "Early Stopping Counter = 0\n",
      "Epoch 52/300\n"
     ]
    },
    {
     "name": "stderr",
     "output_type": "stream",
     "text": [
      "100%|██████████| 155/155 [00:46<00:00,  3.33it/s]\n",
      "100%|██████████| 67/67 [00:20<00:00,  3.21it/s]\n",
      "100%|██████████| 18/18 [00:05<00:00,  3.28it/s]\n"
     ]
    },
    {
     "name": "stdout",
     "output_type": "stream",
     "text": [
      "Train loss: 0.17929591267339645\n",
      "Train consistency loss: 0.013489803841420964\n",
      "Validation loss: 0.322743936545319\n",
      "1m 13s\n",
      "Early Stopping Counter = 1\n",
      "Epoch 53/300\n"
     ]
    },
    {
     "name": "stderr",
     "output_type": "stream",
     "text": [
      "100%|██████████| 155/155 [00:46<00:00,  3.33it/s]\n",
      "100%|██████████| 67/67 [00:20<00:00,  3.21it/s]\n",
      "100%|██████████| 18/18 [00:05<00:00,  3.20it/s]\n"
     ]
    },
    {
     "name": "stdout",
     "output_type": "stream",
     "text": [
      "Train loss: 0.1822070208288008\n",
      "Train consistency loss: 0.012078535207894757\n",
      "Validation loss: 0.329299362997214\n",
      "1m 13s\n",
      "Early Stopping Counter = 2\n",
      "Epoch 54/300\n"
     ]
    },
    {
     "name": "stderr",
     "output_type": "stream",
     "text": [
      "100%|██████████| 155/155 [00:46<00:00,  3.32it/s]\n",
      "100%|██████████| 67/67 [00:20<00:00,  3.19it/s]\n",
      "100%|██████████| 18/18 [00:05<00:00,  3.24it/s]\n"
     ]
    },
    {
     "name": "stdout",
     "output_type": "stream",
     "text": [
      "Train loss: 0.18026008096433455\n",
      "Train consistency loss: 0.010274809152721914\n",
      "Validation loss: 0.2836874665485488\n",
      "1m 13s\n",
      "Consistency Loss declined to 0.010274809152721914\n",
      "Early Stopping Counter = 0\n",
      "Epoch 55/300\n"
     ]
    },
    {
     "name": "stderr",
     "output_type": "stream",
     "text": [
      "100%|██████████| 155/155 [00:47<00:00,  3.28it/s]\n",
      "100%|██████████| 67/67 [00:20<00:00,  3.20it/s]\n",
      "100%|██████████| 18/18 [00:05<00:00,  3.29it/s]\n"
     ]
    },
    {
     "name": "stdout",
     "output_type": "stream",
     "text": [
      "Train loss: 0.17904627467355422\n",
      "Train consistency loss: 0.010307040016875784\n",
      "Validation loss: 0.30181605782773757\n",
      "1m 14s\n",
      "Early Stopping Counter = 1\n",
      "Epoch 56/300\n"
     ]
    },
    {
     "name": "stderr",
     "output_type": "stream",
     "text": [
      "100%|██████████| 155/155 [00:46<00:00,  3.32it/s]\n",
      "100%|██████████| 67/67 [00:21<00:00,  3.17it/s]\n",
      "100%|██████████| 18/18 [00:05<00:00,  3.35it/s]\n"
     ]
    },
    {
     "name": "stdout",
     "output_type": "stream",
     "text": [
      "Train loss: 0.1789172770515565\n",
      "Train consistency loss: 0.010981279835382949\n",
      "Validation loss: 0.294758356279797\n",
      "1m 13s\n",
      "Early Stopping Counter = 2\n",
      "Epoch 57/300\n"
     ]
    },
    {
     "name": "stderr",
     "output_type": "stream",
     "text": [
      "100%|██████████| 155/155 [00:46<00:00,  3.34it/s]\n",
      "100%|██████████| 67/67 [00:20<00:00,  3.20it/s]\n",
      "100%|██████████| 18/18 [00:05<00:00,  3.28it/s]\n"
     ]
    },
    {
     "name": "stdout",
     "output_type": "stream",
     "text": [
      "Train loss: 0.17859027116529402\n",
      "Train consistency loss: 0.01011810548700837\n",
      "Validation loss: 0.30097704629103345\n",
      "1m 13s\n",
      "Consistency Loss declined to 0.01011810548700837\n",
      "Early Stopping Counter = 0\n",
      "Epoch 58/300\n"
     ]
    },
    {
     "name": "stderr",
     "output_type": "stream",
     "text": [
      "100%|██████████| 155/155 [00:46<00:00,  3.33it/s]\n",
      "100%|██████████| 67/67 [00:20<00:00,  3.20it/s]\n",
      "100%|██████████| 18/18 [00:05<00:00,  3.36it/s]\n"
     ]
    },
    {
     "name": "stdout",
     "output_type": "stream",
     "text": [
      "Train loss: 0.1766870871666939\n",
      "Train consistency loss: 0.013309384195773459\n",
      "Validation loss: 0.3096627700659964\n",
      "1m 13s\n",
      "Early Stopping Counter = 1\n",
      "Epoch 59/300\n"
     ]
    },
    {
     "name": "stderr",
     "output_type": "stream",
     "text": [
      "100%|██████████| 155/155 [00:46<00:00,  3.33it/s]\n",
      "100%|██████████| 67/67 [00:21<00:00,  3.18it/s]\n",
      "100%|██████████| 18/18 [00:05<00:00,  3.34it/s]\n"
     ]
    },
    {
     "name": "stdout",
     "output_type": "stream",
     "text": [
      "Train loss: 0.17788441719547396\n",
      "Train consistency loss: 0.010029331881747539\n",
      "Validation loss: 0.3056827485561371\n",
      "1m 13s\n",
      "Consistency Loss declined to 0.010029331881747539\n",
      "Early Stopping Counter = 0\n",
      "Epoch 60/300\n"
     ]
    },
    {
     "name": "stderr",
     "output_type": "stream",
     "text": [
      "100%|██████████| 155/155 [00:46<00:00,  3.33it/s]\n",
      "100%|██████████| 67/67 [00:20<00:00,  3.22it/s]\n",
      "100%|██████████| 18/18 [00:05<00:00,  3.26it/s]\n"
     ]
    },
    {
     "name": "stdout",
     "output_type": "stream",
     "text": [
      "Train loss: 0.1769099812353811\n",
      "Train consistency loss: 0.010783581271656413\n",
      "Validation loss: 0.3032849695947435\n",
      "1m 13s\n",
      "Early Stopping Counter = 1\n",
      "Epoch 61/300\n"
     ]
    },
    {
     "name": "stderr",
     "output_type": "stream",
     "text": [
      "100%|██████████| 155/155 [00:46<00:00,  3.34it/s]\n",
      "100%|██████████| 67/67 [00:20<00:00,  3.21it/s]\n",
      "100%|██████████| 18/18 [00:05<00:00,  3.26it/s]\n"
     ]
    },
    {
     "name": "stdout",
     "output_type": "stream",
     "text": [
      "Train loss: 0.17633316439967\n",
      "Train consistency loss: 0.010829352544370428\n",
      "Validation loss: 0.28586965137057835\n",
      "1m 13s\n",
      "Early Stopping Counter = 2\n",
      "Epoch 62/300\n"
     ]
    },
    {
     "name": "stderr",
     "output_type": "stream",
     "text": [
      "100%|██████████| 155/155 [00:46<00:00,  3.34it/s]\n",
      "100%|██████████| 67/67 [00:20<00:00,  3.20it/s]\n",
      "100%|██████████| 18/18 [00:05<00:00,  3.28it/s]\n"
     ]
    },
    {
     "name": "stdout",
     "output_type": "stream",
     "text": [
      "Train loss: 0.17490689648735908\n",
      "Train consistency loss: 0.009198343207531455\n",
      "Validation loss: 0.29443945238987607\n",
      "1m 13s\n",
      "Consistency Loss declined to 0.009198343207531455\n",
      "Early Stopping Counter = 0\n",
      "Epoch 63/300\n"
     ]
    },
    {
     "name": "stderr",
     "output_type": "stream",
     "text": [
      "100%|██████████| 155/155 [00:47<00:00,  3.28it/s]\n",
      "100%|██████████| 67/67 [00:20<00:00,  3.20it/s]\n",
      "100%|██████████| 18/18 [00:05<00:00,  3.32it/s]\n"
     ]
    },
    {
     "name": "stdout",
     "output_type": "stream",
     "text": [
      "Train loss: 0.17480312720421823\n",
      "Train consistency loss: 0.008918983865279093\n",
      "Validation loss: 0.2964649813042747\n",
      "1m 14s\n",
      "Consistency Loss declined to 0.008918983865279093\n",
      "Early Stopping Counter = 0\n",
      "Epoch 64/300\n"
     ]
    },
    {
     "name": "stderr",
     "output_type": "stream",
     "text": [
      "100%|██████████| 155/155 [00:46<00:00,  3.31it/s]\n",
      "100%|██████████| 67/67 [00:20<00:00,  3.21it/s]\n",
      "100%|██████████| 18/18 [00:05<00:00,  3.27it/s]\n"
     ]
    },
    {
     "name": "stdout",
     "output_type": "stream",
     "text": [
      "Train loss: 0.17415507243525596\n",
      "Train consistency loss: 0.009495607493862288\n",
      "Validation loss: 0.2946677448021041\n",
      "1m 13s\n",
      "Early Stopping Counter = 1\n",
      "Epoch 65/300\n"
     ]
    },
    {
     "name": "stderr",
     "output_type": "stream",
     "text": [
      "100%|██████████| 155/155 [00:46<00:00,  3.34it/s]\n",
      "100%|██████████| 67/67 [00:21<00:00,  3.18it/s]\n",
      "100%|██████████| 18/18 [00:05<00:00,  3.30it/s]\n"
     ]
    },
    {
     "name": "stdout",
     "output_type": "stream",
     "text": [
      "Train loss: 0.17504763189823397\n",
      "Train consistency loss: 0.010302730523216636\n",
      "Validation loss: 0.3149495017197397\n",
      "1m 13s\n",
      "Early Stopping Counter = 2\n",
      "Epoch 66/300\n"
     ]
    },
    {
     "name": "stderr",
     "output_type": "stream",
     "text": [
      "100%|██████████| 155/155 [00:46<00:00,  3.35it/s]\n",
      "100%|██████████| 67/67 [00:20<00:00,  3.20it/s]\n",
      "100%|██████████| 18/18 [00:05<00:00,  3.26it/s]\n"
     ]
    },
    {
     "name": "stdout",
     "output_type": "stream",
     "text": [
      "Train loss: 0.17460144758224488\n",
      "Train consistency loss: 0.009446492376945802\n",
      "Validation loss: 0.29475030303001404\n",
      "1m 13s\n",
      "Early Stopping Counter = 3\n",
      "Epoch 67/300\n"
     ]
    },
    {
     "name": "stderr",
     "output_type": "stream",
     "text": [
      "100%|██████████| 155/155 [00:46<00:00,  3.33it/s]\n",
      "100%|██████████| 67/67 [00:21<00:00,  3.18it/s]\n",
      "100%|██████████| 18/18 [00:05<00:00,  3.31it/s]\n"
     ]
    },
    {
     "name": "stdout",
     "output_type": "stream",
     "text": [
      "Train loss: 0.17324000971932565\n",
      "Train consistency loss: 0.00977903939158058\n",
      "Validation loss: 0.3011163506242964\n",
      "1m 13s\n",
      "Early Stopping Counter = 4\n",
      "Epoch 68/300\n"
     ]
    },
    {
     "name": "stderr",
     "output_type": "stream",
     "text": [
      "100%|██████████| 155/155 [00:46<00:00,  3.32it/s]\n",
      "100%|██████████| 67/67 [00:20<00:00,  3.21it/s]\n",
      "100%|██████████| 18/18 [00:05<00:00,  3.22it/s]\n"
     ]
    },
    {
     "name": "stdout",
     "output_type": "stream",
     "text": [
      "Train loss: 0.17324030928073392\n",
      "Train consistency loss: 0.008922553183371896\n",
      "Validation loss: 0.28136055916547775\n",
      "1m 13s\n",
      "Early Stopping Counter = 5\n",
      "Epoch 69/300\n"
     ]
    },
    {
     "name": "stderr",
     "output_type": "stream",
     "text": [
      "100%|██████████| 155/155 [00:46<00:00,  3.34it/s]\n",
      "100%|██████████| 67/67 [00:20<00:00,  3.19it/s]\n",
      "100%|██████████| 18/18 [00:05<00:00,  3.29it/s]\n"
     ]
    },
    {
     "name": "stdout",
     "output_type": "stream",
     "text": [
      "Train loss: 0.17265977388428103\n",
      "Train consistency loss: 0.009237422336782538\n",
      "Validation loss: 0.3178872474365764\n",
      "1m 13s\n",
      "Early Stopping Counter = 6\n",
      "Epoch 70/300\n"
     ]
    },
    {
     "name": "stderr",
     "output_type": "stream",
     "text": [
      "100%|██████████| 155/155 [00:46<00:00,  3.34it/s]\n",
      "100%|██████████| 67/67 [00:20<00:00,  3.22it/s]\n",
      "100%|██████████| 18/18 [00:05<00:00,  3.32it/s]\n"
     ]
    },
    {
     "name": "stdout",
     "output_type": "stream",
     "text": [
      "Train loss: 0.17170187580970026\n",
      "Train consistency loss: 0.011113642735768165\n",
      "Validation loss: 0.3044125363230705\n",
      "1m 13s\n",
      "Early Stopping Counter = 7\n",
      "Epoch 71/300\n"
     ]
    },
    {
     "name": "stderr",
     "output_type": "stream",
     "text": [
      "100%|██████████| 155/155 [00:46<00:00,  3.35it/s]\n",
      "100%|██████████| 67/67 [00:21<00:00,  3.16it/s]\n",
      "100%|██████████| 18/18 [00:05<00:00,  3.28it/s]\n"
     ]
    },
    {
     "name": "stdout",
     "output_type": "stream",
     "text": [
      "Train loss: 0.17206733928572748\n",
      "Train consistency loss: 0.009495527837981485\n",
      "Validation loss: 0.3028415921661589\n",
      "1m 13s\n",
      "Early Stopping Counter = 8\n",
      "Epoch 72/300\n"
     ]
    },
    {
     "name": "stderr",
     "output_type": "stream",
     "text": [
      "100%|██████████| 155/155 [00:46<00:00,  3.32it/s]\n",
      "100%|██████████| 67/67 [00:21<00:00,  3.17it/s]\n",
      "100%|██████████| 18/18 [00:05<00:00,  3.32it/s]\n"
     ]
    },
    {
     "name": "stdout",
     "output_type": "stream",
     "text": [
      "Train loss: 0.17140806096215402\n",
      "Train consistency loss: 0.010221661805216945\n",
      "Validation loss: 0.3020395545495881\n",
      "1m 13s\n",
      "Early Stopping Counter = 9\n",
      "Epoch 73/300\n"
     ]
    },
    {
     "name": "stderr",
     "output_type": "stream",
     "text": [
      "100%|██████████| 155/155 [00:46<00:00,  3.34it/s]\n",
      "100%|██████████| 67/67 [00:21<00:00,  3.17it/s]\n",
      "100%|██████████| 18/18 [00:05<00:00,  3.24it/s]\n"
     ]
    },
    {
     "name": "stdout",
     "output_type": "stream",
     "text": [
      "Train loss: 0.17100164938357568\n",
      "Train consistency loss: 0.008731977395546524\n",
      "Validation loss: 0.32021691650152206\n",
      "1m 13s\n",
      "Consistency Loss declined to 0.008731977395546524\n",
      "Early Stopping Counter = 0\n",
      "Epoch 74/300\n"
     ]
    },
    {
     "name": "stderr",
     "output_type": "stream",
     "text": [
      "100%|██████████| 155/155 [00:46<00:00,  3.34it/s]\n",
      "100%|██████████| 67/67 [00:21<00:00,  3.17it/s]\n",
      "100%|██████████| 18/18 [00:05<00:00,  3.24it/s]\n"
     ]
    },
    {
     "name": "stdout",
     "output_type": "stream",
     "text": [
      "Train loss: 0.17242172639216147\n",
      "Train consistency loss: 0.00848793015996022\n",
      "Validation loss: 0.2880400949054294\n",
      "1m 13s\n",
      "Consistency Loss declined to 0.00848793015996022\n",
      "Early Stopping Counter = 0\n",
      "Epoch 75/300\n"
     ]
    },
    {
     "name": "stderr",
     "output_type": "stream",
     "text": [
      "100%|██████████| 155/155 [00:46<00:00,  3.31it/s]\n",
      "100%|██████████| 67/67 [00:21<00:00,  3.17it/s]\n",
      "100%|██████████| 18/18 [00:05<00:00,  3.31it/s]\n"
     ]
    },
    {
     "name": "stdout",
     "output_type": "stream",
     "text": [
      "Train loss: 0.16998782859694572\n",
      "Train consistency loss: 0.008616904908818985\n",
      "Validation loss: 0.28917668925391304\n",
      "1m 13s\n",
      "Early Stopping Counter = 1\n",
      "Epoch 76/300\n"
     ]
    },
    {
     "name": "stderr",
     "output_type": "stream",
     "text": [
      "100%|██████████| 155/155 [00:46<00:00,  3.34it/s]\n",
      "100%|██████████| 67/67 [00:20<00:00,  3.22it/s]\n",
      "100%|██████████| 18/18 [00:05<00:00,  3.29it/s]\n"
     ]
    },
    {
     "name": "stdout",
     "output_type": "stream",
     "text": [
      "Train loss: 0.16881910062605335\n",
      "Train consistency loss: 0.008434227900579572\n",
      "Validation loss: 0.3005361441108916\n",
      "1m 13s\n",
      "Consistency Loss declined to 0.008434227900579572\n",
      "Early Stopping Counter = 0\n",
      "Epoch 77/300\n"
     ]
    },
    {
     "name": "stderr",
     "output_type": "stream",
     "text": [
      "100%|██████████| 155/155 [00:46<00:00,  3.33it/s]\n",
      "100%|██████████| 67/67 [00:20<00:00,  3.22it/s]\n",
      "100%|██████████| 18/18 [00:05<00:00,  3.26it/s]\n"
     ]
    },
    {
     "name": "stdout",
     "output_type": "stream",
     "text": [
      "Train loss: 0.16771885300836256\n",
      "Train consistency loss: 0.010141440448281703\n",
      "Validation loss: 0.30220413787497413\n",
      "1m 13s\n",
      "Early Stopping Counter = 1\n",
      "Epoch 78/300\n"
     ]
    },
    {
     "name": "stderr",
     "output_type": "stream",
     "text": [
      "100%|██████████| 155/155 [00:46<00:00,  3.34it/s]\n",
      "100%|██████████| 67/67 [00:21<00:00,  3.19it/s]\n",
      "100%|██████████| 18/18 [00:05<00:00,  3.24it/s]\n"
     ]
    },
    {
     "name": "stdout",
     "output_type": "stream",
     "text": [
      "Train loss: 0.17090193648492136\n",
      "Train consistency loss: 0.008968351214234508\n",
      "Validation loss: 0.28656139804257286\n",
      "1m 13s\n",
      "Early Stopping Counter = 2\n",
      "Epoch 79/300\n"
     ]
    },
    {
     "name": "stderr",
     "output_type": "stream",
     "text": [
      "100%|██████████| 155/155 [00:46<00:00,  3.35it/s]\n",
      "100%|██████████| 67/67 [00:20<00:00,  3.21it/s]\n",
      "100%|██████████| 18/18 [00:05<00:00,  3.29it/s]\n"
     ]
    },
    {
     "name": "stdout",
     "output_type": "stream",
     "text": [
      "Train loss: 0.16754115935294858\n",
      "Train consistency loss: 0.008546410010321371\n",
      "Validation loss: 0.28451524260971284\n",
      "1m 13s\n",
      "Early Stopping Counter = 3\n",
      "Epoch 80/300\n"
     ]
    },
    {
     "name": "stderr",
     "output_type": "stream",
     "text": [
      "100%|██████████| 155/155 [00:46<00:00,  3.34it/s]\n",
      "100%|██████████| 67/67 [00:21<00:00,  3.18it/s]\n",
      "100%|██████████| 18/18 [00:05<00:00,  3.39it/s]\n"
     ]
    },
    {
     "name": "stdout",
     "output_type": "stream",
     "text": [
      "Train loss: 0.166564148760611\n",
      "Train consistency loss: 0.008782321865211672\n",
      "Validation loss: 0.31184768593973583\n",
      "1m 13s\n",
      "Early Stopping Counter = 4\n",
      "Epoch 81/300\n"
     ]
    },
    {
     "name": "stderr",
     "output_type": "stream",
     "text": [
      "100%|██████████| 155/155 [00:46<00:00,  3.33it/s]\n",
      "100%|██████████| 67/67 [00:21<00:00,  3.18it/s]\n",
      "100%|██████████| 18/18 [00:05<00:00,  3.23it/s]\n"
     ]
    },
    {
     "name": "stdout",
     "output_type": "stream",
     "text": [
      "Train loss: 0.1658818902507905\n",
      "Train consistency loss: 0.007447271024002068\n",
      "Validation loss: 0.28769319007794064\n",
      "1m 13s\n",
      "Consistency Loss declined to 0.007447271024002068\n",
      "Early Stopping Counter = 0\n",
      "Epoch 82/300\n"
     ]
    },
    {
     "name": "stderr",
     "output_type": "stream",
     "text": [
      "100%|██████████| 155/155 [00:46<00:00,  3.34it/s]\n",
      "100%|██████████| 67/67 [00:21<00:00,  3.19it/s]\n",
      "100%|██████████| 18/18 [00:05<00:00,  3.34it/s]\n"
     ]
    },
    {
     "name": "stdout",
     "output_type": "stream",
     "text": [
      "Train loss: 0.16450539029413655\n",
      "Train consistency loss: 0.00768516475765674\n",
      "Validation loss: 0.29316765235530007\n",
      "1m 13s\n",
      "Early Stopping Counter = 1\n",
      "Epoch 83/300\n"
     ]
    },
    {
     "name": "stderr",
     "output_type": "stream",
     "text": [
      "100%|██████████| 155/155 [00:46<00:00,  3.34it/s]\n",
      "100%|██████████| 67/67 [00:20<00:00,  3.21it/s]\n",
      "100%|██████████| 18/18 [00:05<00:00,  3.27it/s]\n"
     ]
    },
    {
     "name": "stdout",
     "output_type": "stream",
     "text": [
      "Train loss: 0.16486199522210707\n",
      "Train consistency loss: 0.0075896646646754955\n",
      "Validation loss: 0.31148325237962937\n",
      "1m 13s\n",
      "Early Stopping Counter = 2\n",
      "Epoch 84/300\n"
     ]
    },
    {
     "name": "stderr",
     "output_type": "stream",
     "text": [
      "100%|██████████| 155/155 [00:46<00:00,  3.35it/s]\n",
      "100%|██████████| 67/67 [00:21<00:00,  3.18it/s]\n",
      "100%|██████████| 18/18 [00:05<00:00,  3.30it/s]\n"
     ]
    },
    {
     "name": "stdout",
     "output_type": "stream",
     "text": [
      "Train loss: 0.16668802807407995\n",
      "Train consistency loss: 0.008056520202906052\n",
      "Validation loss: 0.276922313703431\n",
      "1m 13s\n",
      "Early Stopping Counter = 3\n",
      "Epoch 85/300\n"
     ]
    },
    {
     "name": "stderr",
     "output_type": "stream",
     "text": [
      "100%|██████████| 155/155 [00:46<00:00,  3.35it/s]\n",
      "100%|██████████| 67/67 [00:20<00:00,  3.19it/s]\n",
      "100%|██████████| 18/18 [00:05<00:00,  3.28it/s]\n"
     ]
    },
    {
     "name": "stdout",
     "output_type": "stream",
     "text": [
      "Train loss: 0.1655084095654949\n",
      "Train consistency loss: 0.008382770159879505\n",
      "Validation loss: 0.27519334438774323\n",
      "1m 13s\n",
      "Early Stopping Counter = 4\n",
      "Epoch 86/300\n"
     ]
    },
    {
     "name": "stderr",
     "output_type": "stream",
     "text": [
      "100%|██████████| 155/155 [00:46<00:00,  3.34it/s]\n",
      "100%|██████████| 67/67 [00:21<00:00,  3.15it/s]\n",
      "100%|██████████| 18/18 [00:05<00:00,  3.22it/s]\n"
     ]
    },
    {
     "name": "stdout",
     "output_type": "stream",
     "text": [
      "Train loss: 0.16413984500592754\n",
      "Train consistency loss: 0.006903788429309628\n",
      "Validation loss: 0.28881196843253243\n",
      "1m 13s\n",
      "Consistency Loss declined to 0.006903788429309628\n",
      "Early Stopping Counter = 0\n",
      "Epoch 87/300\n"
     ]
    },
    {
     "name": "stderr",
     "output_type": "stream",
     "text": [
      "100%|██████████| 155/155 [00:46<00:00,  3.32it/s]\n",
      "100%|██████████| 67/67 [00:21<00:00,  3.18it/s]\n",
      "100%|██████████| 18/18 [00:05<00:00,  3.30it/s]\n"
     ]
    },
    {
     "name": "stdout",
     "output_type": "stream",
     "text": [
      "Train loss: 0.16327003057925932\n",
      "Train consistency loss: 0.00722170188161197\n",
      "Validation loss: 0.27989494800567627\n",
      "1m 13s\n",
      "Early Stopping Counter = 1\n",
      "Epoch 88/300\n"
     ]
    },
    {
     "name": "stderr",
     "output_type": "stream",
     "text": [
      "100%|██████████| 155/155 [00:46<00:00,  3.33it/s]\n",
      "100%|██████████| 67/67 [00:20<00:00,  3.22it/s]\n",
      "100%|██████████| 18/18 [00:05<00:00,  3.24it/s]\n"
     ]
    },
    {
     "name": "stdout",
     "output_type": "stream",
     "text": [
      "Train loss: 0.16488516974833703\n",
      "Train consistency loss: 0.007329148535769599\n",
      "Validation loss: 0.29159024109443027\n",
      "1m 13s\n",
      "Early Stopping Counter = 2\n",
      "Epoch 89/300\n"
     ]
    },
    {
     "name": "stderr",
     "output_type": "stream",
     "text": [
      "100%|██████████| 155/155 [00:46<00:00,  3.34it/s]\n",
      "100%|██████████| 67/67 [00:21<00:00,  3.16it/s]\n",
      "100%|██████████| 18/18 [00:05<00:00,  3.24it/s]\n"
     ]
    },
    {
     "name": "stdout",
     "output_type": "stream",
     "text": [
      "Train loss: 0.1644015343919877\n",
      "Train consistency loss: 0.0066969868372569775\n",
      "Validation loss: 0.27636974470482933\n",
      "1m 13s\n",
      "Consistency Loss declined to 0.0066969868372569775\n",
      "Early Stopping Counter = 0\n",
      "Epoch 90/300\n"
     ]
    },
    {
     "name": "stderr",
     "output_type": "stream",
     "text": [
      "100%|██████████| 155/155 [00:46<00:00,  3.33it/s]\n",
      "100%|██████████| 67/67 [00:21<00:00,  3.19it/s]\n",
      "100%|██████████| 18/18 [00:05<00:00,  3.21it/s]\n"
     ]
    },
    {
     "name": "stdout",
     "output_type": "stream",
     "text": [
      "Train loss: 0.16267562037514102\n",
      "Train consistency loss: 0.0071920151127252115\n",
      "Validation loss: 0.2827599280410343\n",
      "1m 13s\n",
      "Early Stopping Counter = 1\n",
      "Epoch 91/300\n"
     ]
    },
    {
     "name": "stderr",
     "output_type": "stream",
     "text": [
      "100%|██████████| 155/155 [00:46<00:00,  3.33it/s]\n",
      "100%|██████████| 67/67 [00:20<00:00,  3.20it/s]\n",
      "100%|██████████| 18/18 [00:05<00:00,  3.33it/s]\n"
     ]
    },
    {
     "name": "stdout",
     "output_type": "stream",
     "text": [
      "Train loss: 0.1621148371888745\n",
      "Train consistency loss: 0.0070318256212926625\n",
      "Validation loss: 0.29690614425473744\n",
      "1m 13s\n",
      "Early Stopping Counter = 2\n",
      "Epoch 92/300\n"
     ]
    },
    {
     "name": "stderr",
     "output_type": "stream",
     "text": [
      "100%|██████████| 155/155 [00:46<00:00,  3.34it/s]\n",
      "100%|██████████| 67/67 [00:20<00:00,  3.22it/s]\n",
      "100%|██████████| 18/18 [00:05<00:00,  3.25it/s]\n"
     ]
    },
    {
     "name": "stdout",
     "output_type": "stream",
     "text": [
      "Train loss: 0.16056138603918013\n",
      "Train consistency loss: 0.006955915874342865\n",
      "Validation loss: 0.27732502586311764\n",
      "1m 13s\n",
      "Early Stopping Counter = 3\n",
      "Epoch 93/300\n"
     ]
    },
    {
     "name": "stderr",
     "output_type": "stream",
     "text": [
      "100%|██████████| 155/155 [00:46<00:00,  3.35it/s]\n",
      "100%|██████████| 67/67 [00:20<00:00,  3.21it/s]\n",
      "100%|██████████| 18/18 [00:05<00:00,  3.25it/s]\n"
     ]
    },
    {
     "name": "stdout",
     "output_type": "stream",
     "text": [
      "Train loss: 0.16144188969366013\n",
      "Train consistency loss: 0.009311560746421343\n",
      "Validation loss: 0.38660252425405717\n",
      "1m 13s\n",
      "Early Stopping Counter = 4\n",
      "Epoch 94/300\n"
     ]
    },
    {
     "name": "stderr",
     "output_type": "stream",
     "text": [
      "100%|██████████| 155/155 [00:46<00:00,  3.34it/s]\n",
      "100%|██████████| 67/67 [00:20<00:00,  3.22it/s]\n",
      "100%|██████████| 18/18 [00:05<00:00,  3.32it/s]\n"
     ]
    },
    {
     "name": "stdout",
     "output_type": "stream",
     "text": [
      "Train loss: 0.16474986787765256\n",
      "Train consistency loss: 0.006780308368963314\n",
      "Validation loss: 0.2896280810236931\n",
      "1m 13s\n",
      "Early Stopping Counter = 5\n",
      "Epoch 95/300\n"
     ]
    },
    {
     "name": "stderr",
     "output_type": "stream",
     "text": [
      "100%|██████████| 155/155 [00:46<00:00,  3.33it/s]\n",
      "100%|██████████| 67/67 [00:20<00:00,  3.22it/s]\n",
      "100%|██████████| 18/18 [00:05<00:00,  3.31it/s]\n"
     ]
    },
    {
     "name": "stdout",
     "output_type": "stream",
     "text": [
      "Train loss: 0.16072647917655206\n",
      "Train consistency loss: 0.007748625202994071\n",
      "Validation loss: 0.2737561422917578\n",
      "1m 13s\n",
      "Early Stopping Counter = 6\n",
      "Epoch 96/300\n"
     ]
    },
    {
     "name": "stderr",
     "output_type": "stream",
     "text": [
      "100%|██████████| 155/155 [00:46<00:00,  3.34it/s]\n",
      "100%|██████████| 67/67 [00:20<00:00,  3.21it/s]\n",
      "100%|██████████| 18/18 [00:05<00:00,  3.28it/s]\n"
     ]
    },
    {
     "name": "stdout",
     "output_type": "stream",
     "text": [
      "Train loss: 0.16315270998785572\n",
      "Train consistency loss: 0.006728507533196861\n",
      "Validation loss: 0.2818291286627452\n",
      "1m 13s\n",
      "Early Stopping Counter = 7\n",
      "Epoch 97/300\n"
     ]
    },
    {
     "name": "stderr",
     "output_type": "stream",
     "text": [
      "100%|██████████| 155/155 [00:46<00:00,  3.35it/s]\n",
      "100%|██████████| 67/67 [00:20<00:00,  3.19it/s]\n",
      "100%|██████████| 18/18 [00:05<00:00,  3.32it/s]\n"
     ]
    },
    {
     "name": "stdout",
     "output_type": "stream",
     "text": [
      "Train loss: 0.1596883068161626\n",
      "Train consistency loss: 0.006087835276944202\n",
      "Validation loss: 0.2834351145558887\n",
      "1m 13s\n",
      "Consistency Loss declined to 0.006087835276944202\n",
      "Early Stopping Counter = 0\n",
      "Epoch 98/300\n"
     ]
    },
    {
     "name": "stderr",
     "output_type": "stream",
     "text": [
      "100%|██████████| 155/155 [00:46<00:00,  3.32it/s]\n",
      "100%|██████████| 67/67 [00:20<00:00,  3.20it/s]\n",
      "100%|██████████| 18/18 [00:05<00:00,  3.24it/s]\n"
     ]
    },
    {
     "name": "stdout",
     "output_type": "stream",
     "text": [
      "Train loss: 0.1586939344483037\n",
      "Train consistency loss: 0.0065715806315472325\n",
      "Validation loss: 0.3036394665638606\n",
      "1m 13s\n",
      "Early Stopping Counter = 1\n",
      "Epoch 99/300\n"
     ]
    },
    {
     "name": "stderr",
     "output_type": "stream",
     "text": [
      "100%|██████████| 155/155 [00:46<00:00,  3.34it/s]\n",
      "100%|██████████| 67/67 [00:20<00:00,  3.19it/s]\n",
      "100%|██████████| 18/18 [00:05<00:00,  3.31it/s]\n"
     ]
    },
    {
     "name": "stdout",
     "output_type": "stream",
     "text": [
      "Train loss: 0.1588051699342266\n",
      "Train consistency loss: 0.0069777534878465225\n",
      "Validation loss: 0.3092769773470031\n",
      "1m 13s\n",
      "Early Stopping Counter = 2\n",
      "Epoch 100/300\n"
     ]
    },
    {
     "name": "stderr",
     "output_type": "stream",
     "text": [
      "100%|██████████| 155/155 [00:46<00:00,  3.34it/s]\n",
      "100%|██████████| 67/67 [00:20<00:00,  3.19it/s]\n",
      "100%|██████████| 18/18 [00:05<00:00,  3.23it/s]\n"
     ]
    },
    {
     "name": "stdout",
     "output_type": "stream",
     "text": [
      "Train loss: 0.15822075268914623\n",
      "Train consistency loss: 0.0065818291049756445\n",
      "Validation loss: 0.2807613859574\n",
      "1m 13s\n",
      "Early Stopping Counter = 3\n",
      "Epoch 101/300\n"
     ]
    },
    {
     "name": "stderr",
     "output_type": "stream",
     "text": [
      "100%|██████████| 155/155 [00:46<00:00,  3.32it/s]\n",
      "100%|██████████| 67/67 [00:21<00:00,  3.19it/s]\n",
      "100%|██████████| 18/18 [00:05<00:00,  3.27it/s]\n"
     ]
    },
    {
     "name": "stdout",
     "output_type": "stream",
     "text": [
      "Train loss: 0.157535802645068\n",
      "Train consistency loss: 0.006270393152345917\n",
      "Validation loss: 0.2953069822655784\n",
      "1m 13s\n",
      "Early Stopping Counter = 4\n",
      "Epoch 102/300\n"
     ]
    },
    {
     "name": "stderr",
     "output_type": "stream",
     "text": [
      "100%|██████████| 155/155 [00:46<00:00,  3.32it/s]\n",
      "100%|██████████| 67/67 [00:20<00:00,  3.21it/s]\n",
      "100%|██████████| 18/18 [00:05<00:00,  3.31it/s]\n"
     ]
    },
    {
     "name": "stdout",
     "output_type": "stream",
     "text": [
      "Train loss: 0.1585109680891037\n",
      "Train consistency loss: 0.006812107839635504\n",
      "Validation loss: 0.2677417877647612\n",
      "1m 13s\n",
      "Early Stopping Counter = 5\n",
      "Epoch 103/300\n"
     ]
    },
    {
     "name": "stderr",
     "output_type": "stream",
     "text": [
      "100%|██████████| 155/155 [00:46<00:00,  3.34it/s]\n",
      "100%|██████████| 67/67 [00:21<00:00,  3.17it/s]\n",
      "100%|██████████| 18/18 [00:05<00:00,  3.27it/s]\n"
     ]
    },
    {
     "name": "stdout",
     "output_type": "stream",
     "text": [
      "Train loss: 0.15681052121423905\n",
      "Train consistency loss: 0.006294323583203021\n",
      "Validation loss: 0.2894481263226933\n",
      "1m 13s\n",
      "Early Stopping Counter = 6\n",
      "Epoch 104/300\n"
     ]
    },
    {
     "name": "stderr",
     "output_type": "stream",
     "text": [
      "100%|██████████| 155/155 [00:46<00:00,  3.34it/s]\n",
      "100%|██████████| 67/67 [00:21<00:00,  3.19it/s]\n",
      "100%|██████████| 18/18 [00:05<00:00,  3.25it/s]\n"
     ]
    },
    {
     "name": "stdout",
     "output_type": "stream",
     "text": [
      "Train loss: 0.15658251643180848\n",
      "Train consistency loss: 0.006199598274152003\n",
      "Validation loss: 0.28044401274787056\n",
      "1m 13s\n",
      "Early Stopping Counter = 7\n",
      "Epoch 105/300\n"
     ]
    },
    {
     "name": "stderr",
     "output_type": "stream",
     "text": [
      "100%|██████████| 155/155 [00:46<00:00,  3.33it/s]\n",
      "100%|██████████| 67/67 [00:21<00:00,  3.17it/s]\n",
      "100%|██████████| 18/18 [00:05<00:00,  3.26it/s]\n"
     ]
    },
    {
     "name": "stdout",
     "output_type": "stream",
     "text": [
      "Train loss: 0.15500501846113512\n",
      "Train consistency loss: 0.005732964832029903\n",
      "Validation loss: 0.27518849157624775\n",
      "1m 13s\n",
      "Consistency Loss declined to 0.005732964832029903\n",
      "Early Stopping Counter = 0\n",
      "Epoch 106/300\n"
     ]
    },
    {
     "name": "stderr",
     "output_type": "stream",
     "text": [
      "100%|██████████| 155/155 [00:46<00:00,  3.31it/s]\n",
      "100%|██████████| 67/67 [00:21<00:00,  3.17it/s]\n",
      "100%|██████████| 18/18 [00:05<00:00,  3.19it/s]\n"
     ]
    },
    {
     "name": "stdout",
     "output_type": "stream",
     "text": [
      "Train loss: 0.15703963824818212\n",
      "Train consistency loss: 0.006243874169469102\n",
      "Validation loss: 0.2860673831568824\n",
      "1m 14s\n",
      "Early Stopping Counter = 1\n",
      "Epoch 107/300\n"
     ]
    },
    {
     "name": "stderr",
     "output_type": "stream",
     "text": [
      "100%|██████████| 155/155 [00:46<00:00,  3.34it/s]\n",
      "100%|██████████| 67/67 [00:20<00:00,  3.22it/s]\n",
      "100%|██████████| 18/18 [00:05<00:00,  3.31it/s]\n"
     ]
    },
    {
     "name": "stdout",
     "output_type": "stream",
     "text": [
      "Train loss: 0.15560747173524672\n",
      "Train consistency loss: 0.006046612958993707\n",
      "Validation loss: 0.2867089443736606\n",
      "1m 13s\n",
      "Early Stopping Counter = 2\n",
      "Epoch 108/300\n"
     ]
    },
    {
     "name": "stderr",
     "output_type": "stream",
     "text": [
      "100%|██████████| 155/155 [00:46<00:00,  3.33it/s]\n",
      "100%|██████████| 67/67 [00:21<00:00,  3.19it/s]\n",
      "100%|██████████| 18/18 [00:05<00:00,  3.17it/s]\n"
     ]
    },
    {
     "name": "stdout",
     "output_type": "stream",
     "text": [
      "Train loss: 0.15439874299110906\n",
      "Train consistency loss: 0.005990223500377207\n",
      "Validation loss: 0.30005595419141984\n",
      "1m 13s\n",
      "Early Stopping Counter = 3\n",
      "Epoch 109/300\n"
     ]
    },
    {
     "name": "stderr",
     "output_type": "stream",
     "text": [
      "100%|██████████| 155/155 [00:46<00:00,  3.32it/s]\n",
      "100%|██████████| 67/67 [00:20<00:00,  3.19it/s]\n",
      "100%|██████████| 18/18 [00:05<00:00,  3.17it/s]\n"
     ]
    },
    {
     "name": "stdout",
     "output_type": "stream",
     "text": [
      "Train loss: 0.15397991191956303\n",
      "Train consistency loss: 0.0077230188675892\n",
      "Validation loss: 0.3060646512442165\n",
      "1m 13s\n",
      "Early Stopping Counter = 4\n",
      "Epoch 110/300\n"
     ]
    },
    {
     "name": "stderr",
     "output_type": "stream",
     "text": [
      "100%|██████████| 155/155 [00:46<00:00,  3.33it/s]\n",
      "100%|██████████| 67/67 [00:20<00:00,  3.20it/s]\n",
      "100%|██████████| 18/18 [00:05<00:00,  3.18it/s]\n"
     ]
    },
    {
     "name": "stdout",
     "output_type": "stream",
     "text": [
      "Train loss: 0.15578486448334108\n",
      "Train consistency loss: 0.00695474103697812\n",
      "Validation loss: 0.31747909055815804\n",
      "1m 13s\n",
      "Early Stopping Counter = 5\n",
      "Epoch 111/300\n"
     ]
    },
    {
     "name": "stderr",
     "output_type": "stream",
     "text": [
      "100%|██████████| 155/155 [00:46<00:00,  3.33it/s]\n",
      "100%|██████████| 67/67 [00:20<00:00,  3.21it/s]\n",
      "100%|██████████| 18/18 [00:05<00:00,  3.27it/s]\n"
     ]
    },
    {
     "name": "stdout",
     "output_type": "stream",
     "text": [
      "Train loss: 0.15640327882382177\n",
      "Train consistency loss: 0.006161001493542719\n",
      "Validation loss: 0.2929954379796982\n",
      "1m 13s\n",
      "Early Stopping Counter = 6\n",
      "Epoch 112/300\n"
     ]
    },
    {
     "name": "stderr",
     "output_type": "stream",
     "text": [
      "100%|██████████| 155/155 [00:46<00:00,  3.32it/s]\n",
      "100%|██████████| 67/67 [00:20<00:00,  3.22it/s]\n",
      "100%|██████████| 18/18 [00:05<00:00,  3.21it/s]\n"
     ]
    },
    {
     "name": "stdout",
     "output_type": "stream",
     "text": [
      "Train loss: 0.1528449603626805\n",
      "Train consistency loss: 0.005771307587456792\n",
      "Validation loss: 0.2689776449567742\n",
      "1m 13s\n",
      "Early Stopping Counter = 7\n",
      "Epoch 113/300\n"
     ]
    },
    {
     "name": "stderr",
     "output_type": "stream",
     "text": [
      "100%|██████████| 155/155 [00:46<00:00,  3.34it/s]\n",
      "100%|██████████| 67/67 [00:20<00:00,  3.22it/s]\n",
      "100%|██████████| 18/18 [00:05<00:00,  3.22it/s]\n"
     ]
    },
    {
     "name": "stdout",
     "output_type": "stream",
     "text": [
      "Train loss: 0.15227320910461487\n",
      "Train consistency loss: 0.005327127085053431\n",
      "Validation loss: 0.27017593735622036\n",
      "1m 13s\n",
      "Consistency Loss declined to 0.005327127085053431\n",
      "Early Stopping Counter = 0\n",
      "Epoch 114/300\n"
     ]
    },
    {
     "name": "stderr",
     "output_type": "stream",
     "text": [
      "100%|██████████| 155/155 [00:46<00:00,  3.30it/s]\n",
      "100%|██████████| 67/67 [00:20<00:00,  3.20it/s]\n",
      "100%|██████████| 18/18 [00:05<00:00,  3.25it/s]\n"
     ]
    },
    {
     "name": "stdout",
     "output_type": "stream",
     "text": [
      "Train loss: 0.15089290396821115\n",
      "Train consistency loss: 0.005282617797866575\n",
      "Validation loss: 0.27763905334803796\n",
      "1m 13s\n",
      "Consistency Loss declined to 0.005282617797866575\n",
      "Early Stopping Counter = 0\n",
      "Epoch 115/300\n"
     ]
    },
    {
     "name": "stderr",
     "output_type": "stream",
     "text": [
      "100%|██████████| 155/155 [00:46<00:00,  3.31it/s]\n",
      "100%|██████████| 67/67 [00:20<00:00,  3.23it/s]\n",
      "100%|██████████| 18/18 [00:05<00:00,  3.34it/s]\n"
     ]
    },
    {
     "name": "stdout",
     "output_type": "stream",
     "text": [
      "Train loss: 0.15128141867537653\n",
      "Train consistency loss: 0.005907236716584928\n",
      "Validation loss: 0.29163280460569596\n",
      "1m 13s\n",
      "Early Stopping Counter = 1\n",
      "Epoch 116/300\n"
     ]
    },
    {
     "name": "stderr",
     "output_type": "stream",
     "text": [
      "100%|██████████| 155/155 [00:46<00:00,  3.34it/s]\n",
      "100%|██████████| 67/67 [00:20<00:00,  3.20it/s]\n",
      "100%|██████████| 18/18 [00:05<00:00,  3.25it/s]\n"
     ]
    },
    {
     "name": "stdout",
     "output_type": "stream",
     "text": [
      "Train loss: 0.15137856544986847\n",
      "Train consistency loss: 0.005170447234092141\n",
      "Validation loss: 0.271222574222419\n",
      "1m 13s\n",
      "Consistency Loss declined to 0.005170447234092141\n",
      "Early Stopping Counter = 0\n",
      "Epoch 117/300\n"
     ]
    },
    {
     "name": "stderr",
     "output_type": "stream",
     "text": [
      "100%|██████████| 155/155 [00:46<00:00,  3.34it/s]\n",
      "100%|██████████| 67/67 [00:20<00:00,  3.22it/s]\n",
      "100%|██████████| 18/18 [00:05<00:00,  3.25it/s]\n"
     ]
    },
    {
     "name": "stdout",
     "output_type": "stream",
     "text": [
      "Train loss: 0.15049505627924395\n",
      "Train consistency loss: 0.0052370805564378176\n",
      "Validation loss: 0.2983707156446245\n",
      "1m 13s\n",
      "Early Stopping Counter = 1\n",
      "Epoch 118/300\n"
     ]
    },
    {
     "name": "stderr",
     "output_type": "stream",
     "text": [
      "100%|██████████| 155/155 [00:46<00:00,  3.35it/s]\n",
      "100%|██████████| 67/67 [00:20<00:00,  3.22it/s]\n",
      "100%|██████████| 18/18 [00:05<00:00,  3.26it/s]\n"
     ]
    },
    {
     "name": "stdout",
     "output_type": "stream",
     "text": [
      "Train loss: 0.1497545531680507\n",
      "Train consistency loss: 0.0050374513783895255\n",
      "Validation loss: 0.28287534332937664\n",
      "1m 13s\n",
      "Consistency Loss declined to 0.0050374513783895255\n",
      "Early Stopping Counter = 0\n",
      "Epoch 119/300\n"
     ]
    },
    {
     "name": "stderr",
     "output_type": "stream",
     "text": [
      "100%|██████████| 155/155 [00:47<00:00,  3.28it/s]\n",
      "100%|██████████| 67/67 [00:20<00:00,  3.22it/s]\n",
      "100%|██████████| 18/18 [00:05<00:00,  3.25it/s]\n"
     ]
    },
    {
     "name": "stdout",
     "output_type": "stream",
     "text": [
      "Train loss: 0.15009260485249182\n",
      "Train consistency loss: 0.0052225614494797006\n",
      "Validation loss: 0.28534078266885543\n",
      "1m 14s\n",
      "Early Stopping Counter = 1\n",
      "Epoch 120/300\n"
     ]
    },
    {
     "name": "stderr",
     "output_type": "stream",
     "text": [
      "100%|██████████| 155/155 [00:46<00:00,  3.34it/s]\n",
      "100%|██████████| 67/67 [00:21<00:00,  3.16it/s]\n",
      "100%|██████████| 18/18 [00:05<00:00,  3.28it/s]\n"
     ]
    },
    {
     "name": "stdout",
     "output_type": "stream",
     "text": [
      "Train loss: 0.14941513490292332\n",
      "Train consistency loss: 0.0051094674984855\n",
      "Validation loss: 0.2967999511294895\n",
      "1m 13s\n",
      "Early Stopping Counter = 2\n",
      "Epoch 121/300\n"
     ]
    },
    {
     "name": "stderr",
     "output_type": "stream",
     "text": [
      "100%|██████████| 155/155 [00:46<00:00,  3.33it/s]\n",
      "100%|██████████| 67/67 [00:20<00:00,  3.20it/s]\n",
      "100%|██████████| 18/18 [00:05<00:00,  3.27it/s]\n"
     ]
    },
    {
     "name": "stdout",
     "output_type": "stream",
     "text": [
      "Train loss: 0.14911682533641016\n",
      "Train consistency loss: 0.004843361856443669\n",
      "Validation loss: 0.28455254932244617\n",
      "1m 13s\n",
      "Consistency Loss declined to 0.004843361856443669\n",
      "Early Stopping Counter = 0\n",
      "Epoch 122/300\n"
     ]
    },
    {
     "name": "stderr",
     "output_type": "stream",
     "text": [
      "100%|██████████| 155/155 [00:46<00:00,  3.33it/s]\n",
      "100%|██████████| 67/67 [00:20<00:00,  3.19it/s]\n",
      "100%|██████████| 18/18 [00:05<00:00,  3.24it/s]\n"
     ]
    },
    {
     "name": "stdout",
     "output_type": "stream",
     "text": [
      "Train loss: 0.14940319344882041\n",
      "Train consistency loss: 0.005437889424805988\n",
      "Validation loss: 0.27701881445116466\n",
      "1m 13s\n",
      "Early Stopping Counter = 1\n",
      "Epoch 123/300\n"
     ]
    },
    {
     "name": "stderr",
     "output_type": "stream",
     "text": [
      "100%|██████████| 155/155 [00:46<00:00,  3.34it/s]\n",
      "100%|██████████| 67/67 [00:21<00:00,  3.17it/s]\n",
      "100%|██████████| 18/18 [00:05<00:00,  3.25it/s]\n"
     ]
    },
    {
     "name": "stdout",
     "output_type": "stream",
     "text": [
      "Train loss: 0.14869765326861412\n",
      "Train consistency loss: 0.0059243102849864246\n",
      "Validation loss: 0.28553134637574357\n",
      "1m 13s\n",
      "Early Stopping Counter = 2\n",
      "Epoch 124/300\n"
     ]
    },
    {
     "name": "stderr",
     "output_type": "stream",
     "text": [
      "100%|██████████| 155/155 [00:46<00:00,  3.34it/s]\n",
      "100%|██████████| 67/67 [00:21<00:00,  3.18it/s]\n",
      "100%|██████████| 18/18 [00:05<00:00,  3.18it/s]\n"
     ]
    },
    {
     "name": "stdout",
     "output_type": "stream",
     "text": [
      "Train loss: 0.14994228549541966\n",
      "Train consistency loss: 0.006373420211750625\n",
      "Validation loss: 0.27902548097901875\n",
      "1m 13s\n",
      "Early Stopping Counter = 3\n",
      "Epoch 125/300\n"
     ]
    },
    {
     "name": "stderr",
     "output_type": "stream",
     "text": [
      "100%|██████████| 155/155 [00:46<00:00,  3.34it/s]\n",
      "100%|██████████| 67/67 [00:21<00:00,  3.17it/s]\n",
      "100%|██████████| 18/18 [00:05<00:00,  3.25it/s]\n"
     ]
    },
    {
     "name": "stdout",
     "output_type": "stream",
     "text": [
      "Train loss: 0.14988697978758042\n",
      "Train consistency loss: 0.005036436629467713\n",
      "Validation loss: 0.2623345073726442\n",
      "1m 13s\n",
      "Early Stopping Counter = 4\n",
      "Epoch 126/300\n"
     ]
    },
    {
     "name": "stderr",
     "output_type": "stream",
     "text": [
      "100%|██████████| 155/155 [00:46<00:00,  3.33it/s]\n",
      "100%|██████████| 67/67 [00:20<00:00,  3.21it/s]\n",
      "100%|██████████| 18/18 [00:05<00:00,  3.31it/s]\n"
     ]
    },
    {
     "name": "stdout",
     "output_type": "stream",
     "text": [
      "Train loss: 0.1467730563494467\n",
      "Train consistency loss: 0.004705699876562428\n",
      "Validation loss: 0.2704768462313546\n",
      "1m 13s\n",
      "Consistency Loss declined to 0.004705699876562428\n",
      "Early Stopping Counter = 0\n",
      "Epoch 127/300\n"
     ]
    },
    {
     "name": "stderr",
     "output_type": "stream",
     "text": [
      "100%|██████████| 155/155 [00:46<00:00,  3.31it/s]\n",
      "100%|██████████| 67/67 [00:20<00:00,  3.19it/s]\n",
      "100%|██████████| 18/18 [00:05<00:00,  3.35it/s]\n"
     ]
    },
    {
     "name": "stdout",
     "output_type": "stream",
     "text": [
      "Train loss: 0.14670572295304268\n",
      "Train consistency loss: 0.004832944367080927\n",
      "Validation loss: 0.28046657724512947\n",
      "1m 13s\n",
      "Early Stopping Counter = 1\n",
      "Epoch 128/300\n"
     ]
    },
    {
     "name": "stderr",
     "output_type": "stream",
     "text": [
      "100%|██████████| 155/155 [00:46<00:00,  3.34it/s]\n",
      "100%|██████████| 67/67 [00:21<00:00,  3.17it/s]\n",
      "100%|██████████| 18/18 [00:05<00:00,  3.25it/s]\n"
     ]
    },
    {
     "name": "stdout",
     "output_type": "stream",
     "text": [
      "Train loss: 0.14634128390781342\n",
      "Train consistency loss: 0.0045750243311275295\n",
      "Validation loss: 0.2691190391778946\n",
      "1m 13s\n",
      "Consistency Loss declined to 0.0045750243311275295\n",
      "Early Stopping Counter = 0\n",
      "Epoch 129/300\n"
     ]
    },
    {
     "name": "stderr",
     "output_type": "stream",
     "text": [
      "100%|██████████| 155/155 [00:46<00:00,  3.33it/s]\n",
      "100%|██████████| 67/67 [00:20<00:00,  3.20it/s]\n",
      "100%|██████████| 18/18 [00:05<00:00,  3.18it/s]\n"
     ]
    },
    {
     "name": "stdout",
     "output_type": "stream",
     "text": [
      "Train loss: 0.14595138646902578\n",
      "Train consistency loss: 0.0048943780598911775\n",
      "Validation loss: 0.26308343890640473\n",
      "1m 13s\n",
      "Early Stopping Counter = 1\n",
      "Epoch 130/300\n"
     ]
    },
    {
     "name": "stderr",
     "output_type": "stream",
     "text": [
      "100%|██████████| 155/155 [00:46<00:00,  3.31it/s]\n",
      "100%|██████████| 67/67 [00:20<00:00,  3.19it/s]\n",
      "100%|██████████| 18/18 [00:05<00:00,  3.36it/s]\n"
     ]
    },
    {
     "name": "stdout",
     "output_type": "stream",
     "text": [
      "Train loss: 0.1439407599068457\n",
      "Train consistency loss: 0.005356924139213429\n",
      "Validation loss: 0.27804526769452625\n",
      "1m 13s\n",
      "Early Stopping Counter = 2\n",
      "Epoch 131/300\n"
     ]
    },
    {
     "name": "stderr",
     "output_type": "stream",
     "text": [
      "100%|██████████| 155/155 [00:46<00:00,  3.34it/s]\n",
      "100%|██████████| 67/67 [00:20<00:00,  3.21it/s]\n",
      "100%|██████████| 18/18 [00:05<00:00,  3.29it/s]\n"
     ]
    },
    {
     "name": "stdout",
     "output_type": "stream",
     "text": [
      "Train loss: 0.14487972495055967\n",
      "Train consistency loss: 0.004553112187492314\n",
      "Validation loss: 0.2705718158847756\n",
      "1m 13s\n",
      "Consistency Loss declined to 0.004553112187492314\n",
      "Early Stopping Counter = 0\n",
      "Epoch 132/300\n"
     ]
    },
    {
     "name": "stderr",
     "output_type": "stream",
     "text": [
      "100%|██████████| 155/155 [00:46<00:00,  3.33it/s]\n",
      "100%|██████████| 67/67 [00:20<00:00,  3.21it/s]\n",
      "100%|██████████| 18/18 [00:05<00:00,  3.29it/s]\n"
     ]
    },
    {
     "name": "stdout",
     "output_type": "stream",
     "text": [
      "Train loss: 0.1440914283356359\n",
      "Train consistency loss: 0.004733132481672314\n",
      "Validation loss: 0.2849101134472423\n",
      "1m 13s\n",
      "Early Stopping Counter = 1\n",
      "Epoch 133/300\n"
     ]
    },
    {
     "name": "stderr",
     "output_type": "stream",
     "text": [
      "100%|██████████| 155/155 [00:46<00:00,  3.34it/s]\n",
      "100%|██████████| 67/67 [00:21<00:00,  3.18it/s]\n",
      "100%|██████████| 18/18 [00:05<00:00,  3.25it/s]\n"
     ]
    },
    {
     "name": "stdout",
     "output_type": "stream",
     "text": [
      "Train loss: 0.14380446340768568\n",
      "Train consistency loss: 0.005231494695615412\n",
      "Validation loss: 0.2877163228889306\n",
      "1m 13s\n",
      "Early Stopping Counter = 2\n",
      "Epoch 134/300\n"
     ]
    },
    {
     "name": "stderr",
     "output_type": "stream",
     "text": [
      "100%|██████████| 155/155 [00:46<00:00,  3.34it/s]\n",
      "100%|██████████| 67/67 [00:20<00:00,  3.22it/s]\n",
      "100%|██████████| 18/18 [00:05<00:00,  3.23it/s]\n"
     ]
    },
    {
     "name": "stdout",
     "output_type": "stream",
     "text": [
      "Train loss: 0.1437325489617163\n",
      "Train consistency loss: 0.005592506969653403\n",
      "Validation loss: 0.2820383794605732\n",
      "1m 13s\n",
      "Early Stopping Counter = 3\n",
      "Epoch 135/300\n"
     ]
    },
    {
     "name": "stderr",
     "output_type": "stream",
     "text": [
      "100%|██████████| 155/155 [00:46<00:00,  3.35it/s]\n",
      "100%|██████████| 67/67 [00:21<00:00,  3.18it/s]\n",
      "100%|██████████| 18/18 [00:05<00:00,  3.28it/s]\n"
     ]
    },
    {
     "name": "stdout",
     "output_type": "stream",
     "text": [
      "Train loss: 0.14346338154808166\n",
      "Train consistency loss: 0.005311898176502714\n",
      "Validation loss: 0.2942487589187092\n",
      "1m 13s\n",
      "Early Stopping Counter = 4\n",
      "Epoch 136/300\n"
     ]
    },
    {
     "name": "stderr",
     "output_type": "stream",
     "text": [
      "100%|██████████| 155/155 [00:46<00:00,  3.34it/s]\n",
      "100%|██████████| 67/67 [00:21<00:00,  3.16it/s]\n",
      "100%|██████████| 18/18 [00:05<00:00,  3.19it/s]\n"
     ]
    },
    {
     "name": "stdout",
     "output_type": "stream",
     "text": [
      "Train loss: 0.14422134930087674\n",
      "Train consistency loss: 0.004903560563393716\n",
      "Validation loss: 0.3045458628071679\n",
      "1m 13s\n",
      "Early Stopping Counter = 5\n",
      "Epoch 137/300\n"
     ]
    },
    {
     "name": "stderr",
     "output_type": "stream",
     "text": [
      "100%|██████████| 155/155 [00:46<00:00,  3.32it/s]\n",
      "100%|██████████| 67/67 [00:21<00:00,  3.16it/s]\n",
      "100%|██████████| 18/18 [00:05<00:00,  3.26it/s]\n"
     ]
    },
    {
     "name": "stdout",
     "output_type": "stream",
     "text": [
      "Train loss: 0.1427445464557217\n",
      "Train consistency loss: 0.004294250037090213\n",
      "Validation loss: 0.2790771598617236\n",
      "1m 13s\n",
      "Consistency Loss declined to 0.004294250037090213\n",
      "Early Stopping Counter = 0\n",
      "Epoch 138/300\n"
     ]
    },
    {
     "name": "stderr",
     "output_type": "stream",
     "text": [
      "100%|██████████| 155/155 [00:46<00:00,  3.32it/s]\n",
      "100%|██████████| 67/67 [00:20<00:00,  3.19it/s]\n",
      "100%|██████████| 18/18 [00:05<00:00,  3.22it/s]\n"
     ]
    },
    {
     "name": "stdout",
     "output_type": "stream",
     "text": [
      "Train loss: 0.14133956095864697\n",
      "Train consistency loss: 0.004390018724544502\n",
      "Validation loss: 0.27924004569649696\n",
      "1m 13s\n",
      "Early Stopping Counter = 1\n",
      "Epoch 139/300\n"
     ]
    },
    {
     "name": "stderr",
     "output_type": "stream",
     "text": [
      "100%|██████████| 155/155 [00:46<00:00,  3.30it/s]\n",
      "100%|██████████| 67/67 [00:21<00:00,  3.17it/s]\n",
      "100%|██████████| 18/18 [00:05<00:00,  3.25it/s]\n"
     ]
    },
    {
     "name": "stdout",
     "output_type": "stream",
     "text": [
      "Train loss: 0.14054532296234562\n",
      "Train consistency loss: 0.004026183486679819\n",
      "Validation loss: 0.27157845503340167\n",
      "1m 14s\n",
      "Consistency Loss declined to 0.004026183486679819\n",
      "Early Stopping Counter = 0\n",
      "Epoch 140/300\n"
     ]
    },
    {
     "name": "stderr",
     "output_type": "stream",
     "text": [
      "100%|██████████| 155/155 [00:47<00:00,  3.29it/s]\n",
      "100%|██████████| 67/67 [00:21<00:00,  3.18it/s]\n",
      "100%|██████████| 18/18 [00:05<00:00,  3.24it/s]\n"
     ]
    },
    {
     "name": "stdout",
     "output_type": "stream",
     "text": [
      "Train loss: 0.1398780099807247\n",
      "Train consistency loss: 0.0044687552857143225\n",
      "Validation loss: 0.27425125220583546\n",
      "1m 14s\n",
      "Early Stopping Counter = 1\n",
      "Epoch 141/300\n"
     ]
    },
    {
     "name": "stderr",
     "output_type": "stream",
     "text": [
      "100%|██████████| 155/155 [00:46<00:00,  3.32it/s]\n",
      "100%|██████████| 67/67 [00:21<00:00,  3.19it/s]\n",
      "100%|██████████| 18/18 [00:05<00:00,  3.25it/s]\n"
     ]
    },
    {
     "name": "stdout",
     "output_type": "stream",
     "text": [
      "Train loss: 0.14088681917036733\n",
      "Train consistency loss: 0.004063760253614677\n",
      "Validation loss: 0.28463342785835266\n",
      "1m 13s\n",
      "Early Stopping Counter = 2\n",
      "Epoch 142/300\n"
     ]
    },
    {
     "name": "stderr",
     "output_type": "stream",
     "text": [
      "100%|██████████| 155/155 [00:46<00:00,  3.32it/s]\n",
      "100%|██████████| 67/67 [00:21<00:00,  3.19it/s]\n",
      "100%|██████████| 18/18 [00:05<00:00,  3.27it/s]\n"
     ]
    },
    {
     "name": "stdout",
     "output_type": "stream",
     "text": [
      "Train loss: 0.14001883277969976\n",
      "Train consistency loss: 0.003989720331338137\n",
      "Validation loss: 0.2852488143576516\n",
      "1m 13s\n",
      "Consistency Loss declined to 0.003989720331338137\n",
      "Early Stopping Counter = 0\n",
      "Epoch 143/300\n"
     ]
    },
    {
     "name": "stderr",
     "output_type": "stream",
     "text": [
      "100%|██████████| 155/155 [00:46<00:00,  3.32it/s]\n",
      "100%|██████████| 67/67 [00:20<00:00,  3.22it/s]\n",
      "100%|██████████| 18/18 [00:05<00:00,  3.39it/s]\n"
     ]
    },
    {
     "name": "stdout",
     "output_type": "stream",
     "text": [
      "Train loss: 0.1402156360687748\n",
      "Train consistency loss: 0.004247470612901805\n",
      "Validation loss: 0.27443742131193477\n",
      "1m 13s\n",
      "Early Stopping Counter = 1\n",
      "Epoch 144/300\n"
     ]
    },
    {
     "name": "stderr",
     "output_type": "stream",
     "text": [
      "100%|██████████| 155/155 [00:46<00:00,  3.34it/s]\n",
      "100%|██████████| 67/67 [00:20<00:00,  3.19it/s]\n",
      "100%|██████████| 18/18 [00:05<00:00,  3.22it/s]\n"
     ]
    },
    {
     "name": "stdout",
     "output_type": "stream",
     "text": [
      "Train loss: 0.14012069437772998\n",
      "Train consistency loss: 0.004382788631092034\n",
      "Validation loss: 0.2850485228829914\n",
      "1m 13s\n",
      "Early Stopping Counter = 2\n",
      "Epoch 145/300\n"
     ]
    },
    {
     "name": "stderr",
     "output_type": "stream",
     "text": [
      "100%|██████████| 155/155 [00:46<00:00,  3.34it/s]\n",
      "100%|██████████| 67/67 [00:20<00:00,  3.21it/s]\n",
      "100%|██████████| 18/18 [00:05<00:00,  3.27it/s]\n"
     ]
    },
    {
     "name": "stdout",
     "output_type": "stream",
     "text": [
      "Train loss: 0.13900774818274284\n",
      "Train consistency loss: 0.005869451564486458\n",
      "Validation loss: 0.2783596476333009\n",
      "1m 13s\n",
      "Early Stopping Counter = 3\n",
      "Epoch 146/300\n"
     ]
    },
    {
     "name": "stderr",
     "output_type": "stream",
     "text": [
      "100%|██████████| 155/155 [00:46<00:00,  3.34it/s]\n",
      "100%|██████████| 67/67 [00:21<00:00,  3.17it/s]\n",
      "100%|██████████| 18/18 [00:05<00:00,  3.26it/s]\n"
     ]
    },
    {
     "name": "stdout",
     "output_type": "stream",
     "text": [
      "Train loss: 0.14062665426923382\n",
      "Train consistency loss: 0.003978197792989772\n",
      "Validation loss: 0.27378515816397136\n",
      "1m 13s\n",
      "Consistency Loss declined to 0.003978197792989772\n",
      "Early Stopping Counter = 0\n",
      "Epoch 147/300\n"
     ]
    },
    {
     "name": "stderr",
     "output_type": "stream",
     "text": [
      "100%|██████████| 155/155 [00:46<00:00,  3.32it/s]\n",
      "100%|██████████| 67/67 [00:20<00:00,  3.21it/s]\n",
      "100%|██████████| 18/18 [00:05<00:00,  3.31it/s]\n"
     ]
    },
    {
     "name": "stdout",
     "output_type": "stream",
     "text": [
      "Train loss: 0.13777046222840586\n",
      "Train consistency loss: 0.003772906945156517\n",
      "Validation loss: 0.2900788014133771\n",
      "1m 13s\n",
      "Consistency Loss declined to 0.003772906945156517\n",
      "Early Stopping Counter = 0\n",
      "Epoch 148/300\n"
     ]
    },
    {
     "name": "stderr",
     "output_type": "stream",
     "text": [
      "100%|██████████| 155/155 [00:46<00:00,  3.32it/s]\n",
      "100%|██████████| 67/67 [00:20<00:00,  3.22it/s]\n",
      "100%|██████████| 18/18 [00:05<00:00,  3.32it/s]\n"
     ]
    },
    {
     "name": "stdout",
     "output_type": "stream",
     "text": [
      "Train loss: 0.13819578491872356\n",
      "Train consistency loss: 0.0038974253815223475\n",
      "Validation loss: 0.28864362918668324\n",
      "1m 13s\n",
      "Early Stopping Counter = 1\n",
      "Epoch 149/300\n"
     ]
    },
    {
     "name": "stderr",
     "output_type": "stream",
     "text": [
      "100%|██████████| 155/155 [00:46<00:00,  3.34it/s]\n",
      "100%|██████████| 67/67 [00:20<00:00,  3.20it/s]\n",
      "100%|██████████| 18/18 [00:05<00:00,  3.29it/s]\n"
     ]
    },
    {
     "name": "stdout",
     "output_type": "stream",
     "text": [
      "Train loss: 0.1369674177419755\n",
      "Train consistency loss: 0.003943500809246369\n",
      "Validation loss: 0.2642838874210914\n",
      "1m 13s\n",
      "Early Stopping Counter = 2\n",
      "Epoch 150/300\n"
     ]
    },
    {
     "name": "stderr",
     "output_type": "stream",
     "text": [
      "100%|██████████| 155/155 [00:46<00:00,  3.34it/s]\n",
      "100%|██████████| 67/67 [00:20<00:00,  3.22it/s]\n",
      "100%|██████████| 18/18 [00:05<00:00,  3.34it/s]\n"
     ]
    },
    {
     "name": "stdout",
     "output_type": "stream",
     "text": [
      "Train loss: 0.13653213468290146\n",
      "Train consistency loss: 0.0037149671628487423\n",
      "Validation loss: 0.286299934817685\n",
      "1m 13s\n",
      "Consistency Loss declined to 0.0037149671628487423\n",
      "Early Stopping Counter = 0\n",
      "Epoch 151/300\n"
     ]
    },
    {
     "name": "stderr",
     "output_type": "stream",
     "text": [
      "100%|██████████| 155/155 [00:46<00:00,  3.34it/s]\n",
      "100%|██████████| 67/67 [00:20<00:00,  3.22it/s]\n",
      "100%|██████████| 18/18 [00:05<00:00,  3.25it/s]\n"
     ]
    },
    {
     "name": "stdout",
     "output_type": "stream",
     "text": [
      "Train loss: 0.136311578317996\n",
      "Train consistency loss: 0.004177062355204305\n",
      "Validation loss: 0.2825760601295365\n",
      "1m 13s\n",
      "Early Stopping Counter = 1\n",
      "Epoch 152/300\n"
     ]
    },
    {
     "name": "stderr",
     "output_type": "stream",
     "text": [
      "100%|██████████| 155/155 [00:46<00:00,  3.34it/s]\n",
      "100%|██████████| 67/67 [00:21<00:00,  3.18it/s]\n",
      "100%|██████████| 18/18 [00:05<00:00,  3.27it/s]\n"
     ]
    },
    {
     "name": "stdout",
     "output_type": "stream",
     "text": [
      "Train loss: 0.13637105490892165\n",
      "Train consistency loss: 0.003970616684753949\n",
      "Validation loss: 0.27630236910449135\n",
      "1m 13s\n",
      "Early Stopping Counter = 2\n",
      "Epoch 153/300\n"
     ]
    },
    {
     "name": "stderr",
     "output_type": "stream",
     "text": [
      "100%|██████████| 155/155 [00:46<00:00,  3.34it/s]\n",
      "100%|██████████| 67/67 [00:21<00:00,  3.19it/s]\n",
      "100%|██████████| 18/18 [00:05<00:00,  3.32it/s]\n"
     ]
    },
    {
     "name": "stdout",
     "output_type": "stream",
     "text": [
      "Train loss: 0.13580100512312304\n",
      "Train consistency loss: 0.0037844335997421572\n",
      "Validation loss: 0.2732590859134992\n",
      "1m 13s\n",
      "Early Stopping Counter = 3\n",
      "Epoch 154/300\n"
     ]
    },
    {
     "name": "stderr",
     "output_type": "stream",
     "text": [
      "100%|██████████| 155/155 [00:46<00:00,  3.33it/s]\n",
      "100%|██████████| 67/67 [00:21<00:00,  3.17it/s]\n",
      "100%|██████████| 18/18 [00:05<00:00,  3.16it/s]\n"
     ]
    },
    {
     "name": "stdout",
     "output_type": "stream",
     "text": [
      "Train loss: 0.13532207089085732\n",
      "Train consistency loss: 0.003484330025376446\n",
      "Validation loss: 0.27891601870457333\n",
      "1m 13s\n",
      "Consistency Loss declined to 0.003484330025376446\n",
      "Early Stopping Counter = 0\n",
      "Epoch 155/300\n"
     ]
    },
    {
     "name": "stderr",
     "output_type": "stream",
     "text": [
      "100%|██████████| 155/155 [00:46<00:00,  3.30it/s]\n",
      "100%|██████████| 67/67 [00:21<00:00,  3.17it/s]\n",
      "100%|██████████| 18/18 [00:05<00:00,  3.18it/s]\n"
     ]
    },
    {
     "name": "stdout",
     "output_type": "stream",
     "text": [
      "Train loss: 0.13517163915018882\n",
      "Train consistency loss: 0.003761074064410667\n",
      "Validation loss: 0.2753840718004439\n",
      "1m 14s\n",
      "Early Stopping Counter = 1\n",
      "Epoch 156/300\n"
     ]
    },
    {
     "name": "stderr",
     "output_type": "stream",
     "text": [
      "100%|██████████| 155/155 [00:46<00:00,  3.33it/s]\n",
      "100%|██████████| 67/67 [00:20<00:00,  3.20it/s]\n",
      "100%|██████████| 18/18 [00:05<00:00,  3.32it/s]\n"
     ]
    },
    {
     "name": "stdout",
     "output_type": "stream",
     "text": [
      "Train loss: 0.1346067176230492\n",
      "Train consistency loss: 0.003546581919819339\n",
      "Validation loss: 0.2806142113274998\n",
      "1m 13s\n",
      "Early Stopping Counter = 2\n",
      "Epoch 157/300\n"
     ]
    },
    {
     "name": "stderr",
     "output_type": "stream",
     "text": [
      "100%|██████████| 155/155 [00:46<00:00,  3.34it/s]\n",
      "100%|██████████| 67/67 [00:20<00:00,  3.19it/s]\n",
      "100%|██████████| 18/18 [00:05<00:00,  3.30it/s]\n"
     ]
    },
    {
     "name": "stdout",
     "output_type": "stream",
     "text": [
      "Train loss: 0.13614046698616397\n",
      "Train consistency loss: 0.0059728240281510265\n",
      "Validation loss: 0.2916638602813085\n",
      "1m 13s\n",
      "Early Stopping Counter = 3\n",
      "Epoch 158/300\n"
     ]
    },
    {
     "name": "stderr",
     "output_type": "stream",
     "text": [
      "100%|██████████| 155/155 [00:46<00:00,  3.34it/s]\n",
      "100%|██████████| 67/67 [00:20<00:00,  3.19it/s]\n",
      "100%|██████████| 18/18 [00:05<00:00,  3.33it/s]\n"
     ]
    },
    {
     "name": "stdout",
     "output_type": "stream",
     "text": [
      "Train loss: 0.1408012454067507\n",
      "Train consistency loss: 0.003781939901884145\n",
      "Validation loss: 0.27104170206520295\n",
      "1m 13s\n",
      "Early Stopping Counter = 4\n",
      "Epoch 159/300\n"
     ]
    },
    {
     "name": "stderr",
     "output_type": "stream",
     "text": [
      "100%|██████████| 155/155 [00:46<00:00,  3.33it/s]\n",
      "100%|██████████| 67/67 [00:20<00:00,  3.19it/s]\n",
      "100%|██████████| 18/18 [00:05<00:00,  3.26it/s]\n"
     ]
    },
    {
     "name": "stdout",
     "output_type": "stream",
     "text": [
      "Train loss: 0.13391377848963584\n",
      "Train consistency loss: 0.0037089388942651786\n",
      "Validation loss: 0.2687645088881254\n",
      "1m 13s\n",
      "Early Stopping Counter = 5\n",
      "Epoch 160/300\n"
     ]
    },
    {
     "name": "stderr",
     "output_type": "stream",
     "text": [
      "100%|██████████| 155/155 [00:46<00:00,  3.32it/s]\n",
      "100%|██████████| 67/67 [00:20<00:00,  3.22it/s]\n",
      "100%|██████████| 18/18 [00:05<00:00,  3.25it/s]\n"
     ]
    },
    {
     "name": "stdout",
     "output_type": "stream",
     "text": [
      "Train loss: 0.13369427611750942\n",
      "Train consistency loss: 0.0036176554441674433\n",
      "Validation loss: 0.26728121501704055\n",
      "1m 13s\n",
      "Early Stopping Counter = 6\n",
      "Epoch 161/300\n"
     ]
    },
    {
     "name": "stderr",
     "output_type": "stream",
     "text": [
      "100%|██████████| 155/155 [00:46<00:00,  3.32it/s]\n",
      "100%|██████████| 67/67 [00:21<00:00,  3.19it/s]\n",
      "100%|██████████| 18/18 [00:05<00:00,  3.26it/s]\n"
     ]
    },
    {
     "name": "stdout",
     "output_type": "stream",
     "text": [
      "Train loss: 0.13365735315507457\n",
      "Train consistency loss: 0.0035397383339230474\n",
      "Validation loss: 0.26454826030466294\n",
      "1m 13s\n",
      "Early Stopping Counter = 7\n",
      "Epoch 162/300\n"
     ]
    },
    {
     "name": "stderr",
     "output_type": "stream",
     "text": [
      "100%|██████████| 155/155 [00:46<00:00,  3.34it/s]\n",
      "100%|██████████| 67/67 [00:21<00:00,  3.18it/s]\n",
      "100%|██████████| 18/18 [00:05<00:00,  3.26it/s]\n"
     ]
    },
    {
     "name": "stdout",
     "output_type": "stream",
     "text": [
      "Train loss: 0.13282559744773373\n",
      "Train consistency loss: 0.003780129495938656\n",
      "Validation loss: 0.2879953794181347\n",
      "1m 13s\n",
      "Early Stopping Counter = 8\n",
      "Epoch 163/300\n"
     ]
    },
    {
     "name": "stderr",
     "output_type": "stream",
     "text": [
      "100%|██████████| 155/155 [00:46<00:00,  3.31it/s]\n",
      "100%|██████████| 67/67 [00:21<00:00,  3.16it/s]\n",
      "100%|██████████| 18/18 [00:05<00:00,  3.32it/s]\n"
     ]
    },
    {
     "name": "stdout",
     "output_type": "stream",
     "text": [
      "Train loss: 0.13245134992945579\n",
      "Train consistency loss: 0.004592206193579\n",
      "Validation loss: 0.28365165760947597\n",
      "1m 13s\n",
      "Early Stopping Counter = 9\n",
      "Epoch 164/300\n"
     ]
    },
    {
     "name": "stderr",
     "output_type": "stream",
     "text": [
      "100%|██████████| 155/155 [00:46<00:00,  3.32it/s]\n",
      "100%|██████████| 67/67 [00:20<00:00,  3.22it/s]\n",
      "100%|██████████| 18/18 [00:05<00:00,  3.24it/s]\n"
     ]
    },
    {
     "name": "stdout",
     "output_type": "stream",
     "text": [
      "Train loss: 0.13351261274468515\n",
      "Train consistency loss: 0.0035869582372008643\n",
      "Validation loss: 0.2861517547733254\n",
      "1m 13s\n",
      "Early Stopping Counter = 10\n",
      "Epoch 165/300\n"
     ]
    },
    {
     "name": "stderr",
     "output_type": "stream",
     "text": [
      "100%|██████████| 155/155 [00:46<00:00,  3.34it/s]\n",
      "100%|██████████| 67/67 [00:20<00:00,  3.19it/s]\n",
      "100%|██████████| 18/18 [00:05<00:00,  3.31it/s]\n"
     ]
    },
    {
     "name": "stdout",
     "output_type": "stream",
     "text": [
      "Train loss: 0.131865795485435\n",
      "Train consistency loss: 0.0032421997817817017\n",
      "Validation loss: 0.2702222102218204\n",
      "1m 13s\n",
      "Consistency Loss declined to 0.0032421997817817017\n",
      "Early Stopping Counter = 0\n",
      "Epoch 166/300\n"
     ]
    },
    {
     "name": "stderr",
     "output_type": "stream",
     "text": [
      "100%|██████████| 155/155 [00:46<00:00,  3.32it/s]\n",
      "100%|██████████| 67/67 [00:20<00:00,  3.19it/s]\n",
      "100%|██████████| 18/18 [00:05<00:00,  3.14it/s]\n"
     ]
    },
    {
     "name": "stdout",
     "output_type": "stream",
     "text": [
      "Train loss: 0.13112525454451962\n",
      "Train consistency loss: 0.003264277568781999\n",
      "Validation loss: 0.272982080363565\n",
      "1m 13s\n",
      "Early Stopping Counter = 1\n",
      "Epoch 167/300\n"
     ]
    },
    {
     "name": "stderr",
     "output_type": "stream",
     "text": [
      "100%|██████████| 155/155 [00:46<00:00,  3.31it/s]\n",
      "100%|██████████| 67/67 [00:20<00:00,  3.22it/s]\n",
      "100%|██████████| 18/18 [00:05<00:00,  3.29it/s]\n"
     ]
    },
    {
     "name": "stdout",
     "output_type": "stream",
     "text": [
      "Train loss: 0.1312165796276062\n",
      "Train consistency loss: 0.0033622843216854466\n",
      "Validation loss: 0.26961015971998376\n",
      "1m 13s\n",
      "Early Stopping Counter = 2\n",
      "Epoch 168/300\n"
     ]
    },
    {
     "name": "stderr",
     "output_type": "stream",
     "text": [
      "100%|██████████| 155/155 [00:46<00:00,  3.34it/s]\n",
      "100%|██████████| 67/67 [00:20<00:00,  3.21it/s]\n",
      "100%|██████████| 18/18 [00:05<00:00,  3.27it/s]\n"
     ]
    },
    {
     "name": "stdout",
     "output_type": "stream",
     "text": [
      "Train loss: 0.13072470359263882\n",
      "Train consistency loss: 0.0034737006323273057\n",
      "Validation loss: 0.2839164303408729\n",
      "1m 13s\n",
      "Early Stopping Counter = 3\n",
      "Epoch 169/300\n"
     ]
    },
    {
     "name": "stderr",
     "output_type": "stream",
     "text": [
      "100%|██████████| 155/155 [00:46<00:00,  3.35it/s]\n",
      "100%|██████████| 67/67 [00:20<00:00,  3.23it/s]\n",
      "100%|██████████| 18/18 [00:05<00:00,  3.29it/s]\n"
     ]
    },
    {
     "name": "stdout",
     "output_type": "stream",
     "text": [
      "Train loss: 0.13009681124841013\n",
      "Train consistency loss: 0.0034439031142435633\n",
      "Validation loss: 0.27248665793902344\n",
      "1m 13s\n",
      "Early Stopping Counter = 4\n",
      "Epoch 170/300\n"
     ]
    },
    {
     "name": "stderr",
     "output_type": "stream",
     "text": [
      "100%|██████████| 155/155 [00:46<00:00,  3.34it/s]\n",
      "100%|██████████| 67/67 [00:20<00:00,  3.21it/s]\n",
      "100%|██████████| 18/18 [00:05<00:00,  3.33it/s]\n"
     ]
    },
    {
     "name": "stdout",
     "output_type": "stream",
     "text": [
      "Train loss: 0.13276268748506423\n",
      "Train consistency loss: 0.0031948255100496003\n",
      "Validation loss: 0.2692678663879633\n",
      "1m 13s\n",
      "Consistency Loss declined to 0.0031948255100496003\n",
      "Early Stopping Counter = 0\n",
      "Epoch 171/300\n"
     ]
    },
    {
     "name": "stderr",
     "output_type": "stream",
     "text": [
      "100%|██████████| 155/155 [00:46<00:00,  3.32it/s]\n",
      "100%|██████████| 67/67 [00:20<00:00,  3.20it/s]\n",
      "100%|██████████| 18/18 [00:05<00:00,  3.32it/s]\n"
     ]
    },
    {
     "name": "stdout",
     "output_type": "stream",
     "text": [
      "Train loss: 0.1297799448332479\n",
      "Train consistency loss: 0.003091895167451741\n",
      "Validation loss: 0.2743743343485726\n",
      "1m 13s\n",
      "Consistency Loss declined to 0.003091895167451741\n",
      "Early Stopping Counter = 0\n",
      "Epoch 172/300\n"
     ]
    },
    {
     "name": "stderr",
     "output_type": "stream",
     "text": [
      "100%|██████████| 155/155 [00:46<00:00,  3.32it/s]\n",
      "100%|██████████| 67/67 [00:20<00:00,  3.20it/s]\n",
      "100%|██████████| 18/18 [00:05<00:00,  3.23it/s]\n"
     ]
    },
    {
     "name": "stdout",
     "output_type": "stream",
     "text": [
      "Train loss: 0.12974905155358776\n",
      "Train consistency loss: 0.003287827177320732\n",
      "Validation loss: 0.2770065830813514\n",
      "1m 13s\n",
      "Early Stopping Counter = 1\n",
      "Epoch 173/300\n"
     ]
    },
    {
     "name": "stderr",
     "output_type": "stream",
     "text": [
      "100%|██████████| 155/155 [00:46<00:00,  3.32it/s]\n",
      "100%|██████████| 67/67 [00:21<00:00,  3.18it/s]\n",
      "100%|██████████| 18/18 [00:05<00:00,  3.26it/s]\n"
     ]
    },
    {
     "name": "stdout",
     "output_type": "stream",
     "text": [
      "Train loss: 0.12892241300113738\n",
      "Train consistency loss: 0.0034984437359580354\n",
      "Validation loss: 0.2760137054655287\n",
      "1m 13s\n",
      "Early Stopping Counter = 2\n",
      "Epoch 174/300\n"
     ]
    },
    {
     "name": "stderr",
     "output_type": "stream",
     "text": [
      "100%|██████████| 155/155 [00:46<00:00,  3.34it/s]\n",
      "100%|██████████| 67/67 [00:20<00:00,  3.22it/s]\n",
      "100%|██████████| 18/18 [00:05<00:00,  3.28it/s]\n"
     ]
    },
    {
     "name": "stdout",
     "output_type": "stream",
     "text": [
      "Train loss: 0.12834698586694657\n",
      "Train consistency loss: 0.003390449736920644\n",
      "Validation loss: 0.27135754335257745\n",
      "1m 13s\n",
      "Early Stopping Counter = 3\n",
      "Epoch 175/300\n"
     ]
    },
    {
     "name": "stderr",
     "output_type": "stream",
     "text": [
      "100%|██████████| 155/155 [00:46<00:00,  3.35it/s]\n",
      "100%|██████████| 67/67 [00:21<00:00,  3.18it/s]\n",
      "100%|██████████| 18/18 [00:05<00:00,  3.30it/s]\n"
     ]
    },
    {
     "name": "stdout",
     "output_type": "stream",
     "text": [
      "Train loss: 0.1285665294816417\n",
      "Train consistency loss: 0.003759476898321465\n",
      "Validation loss: 0.2920728899124596\n",
      "1m 13s\n",
      "Early Stopping Counter = 4\n",
      "Epoch 176/300\n"
     ]
    },
    {
     "name": "stderr",
     "output_type": "stream",
     "text": [
      "100%|██████████| 155/155 [00:46<00:00,  3.33it/s]\n",
      "100%|██████████| 67/67 [00:21<00:00,  3.17it/s]\n",
      "100%|██████████| 18/18 [00:05<00:00,  3.22it/s]\n"
     ]
    },
    {
     "name": "stdout",
     "output_type": "stream",
     "text": [
      "Train loss: 0.12968734603735707\n",
      "Train consistency loss: 0.003337996438451445\n",
      "Validation loss: 0.27468052837583756\n",
      "1m 13s\n",
      "Early Stopping Counter = 5\n",
      "Epoch 177/300\n"
     ]
    },
    {
     "name": "stderr",
     "output_type": "stream",
     "text": [
      "100%|██████████| 155/155 [00:46<00:00,  3.31it/s]\n",
      "100%|██████████| 67/67 [00:21<00:00,  3.18it/s]\n",
      "100%|██████████| 18/18 [00:05<00:00,  3.25it/s]\n"
     ]
    },
    {
     "name": "stdout",
     "output_type": "stream",
     "text": [
      "Train loss: 0.127479839661429\n",
      "Train consistency loss: 0.0031351398367351338\n",
      "Validation loss: 0.2768027029103703\n",
      "1m 13s\n",
      "Early Stopping Counter = 6\n",
      "Epoch 178/300\n"
     ]
    },
    {
     "name": "stderr",
     "output_type": "stream",
     "text": [
      "100%|██████████| 155/155 [00:46<00:00,  3.31it/s]\n",
      "100%|██████████| 67/67 [00:21<00:00,  3.19it/s]\n",
      "100%|██████████| 18/18 [00:05<00:00,  3.27it/s]\n"
     ]
    },
    {
     "name": "stdout",
     "output_type": "stream",
     "text": [
      "Train loss: 0.12778541498607204\n",
      "Train consistency loss: 0.00332267516389934\n",
      "Validation loss: 0.2720319496260749\n",
      "1m 13s\n",
      "Early Stopping Counter = 7\n",
      "Epoch 179/300\n"
     ]
    },
    {
     "name": "stderr",
     "output_type": "stream",
     "text": [
      "100%|██████████| 155/155 [00:46<00:00,  3.34it/s]\n",
      "100%|██████████| 67/67 [00:21<00:00,  3.19it/s]\n",
      "100%|██████████| 18/18 [00:05<00:00,  3.22it/s]\n"
     ]
    },
    {
     "name": "stdout",
     "output_type": "stream",
     "text": [
      "Train loss: 0.12770949385819896\n",
      "Train consistency loss: 0.0031602470805423694\n",
      "Validation loss: 0.2858551579217116\n",
      "1m 13s\n",
      "Early Stopping Counter = 8\n",
      "Epoch 180/300\n"
     ]
    },
    {
     "name": "stderr",
     "output_type": "stream",
     "text": [
      "100%|██████████| 155/155 [00:46<00:00,  3.34it/s]\n",
      "100%|██████████| 67/67 [00:21<00:00,  3.16it/s]\n",
      "100%|██████████| 18/18 [00:05<00:00,  3.30it/s]\n"
     ]
    },
    {
     "name": "stdout",
     "output_type": "stream",
     "text": [
      "Train loss: 0.12769869734202663\n",
      "Train consistency loss: 0.0029770826239750455\n",
      "Validation loss: 0.2734252924306525\n",
      "1m 13s\n",
      "Consistency Loss declined to 0.0029770826239750455\n",
      "Early Stopping Counter = 0\n",
      "Epoch 181/300\n"
     ]
    },
    {
     "name": "stderr",
     "output_type": "stream",
     "text": [
      "100%|██████████| 155/155 [00:46<00:00,  3.31it/s]\n",
      "100%|██████████| 67/67 [00:20<00:00,  3.20it/s]\n",
      "100%|██████████| 18/18 [00:05<00:00,  3.35it/s]\n"
     ]
    },
    {
     "name": "stdout",
     "output_type": "stream",
     "text": [
      "Train loss: 0.1273554382785674\n",
      "Train consistency loss: 0.0036629126911093273\n",
      "Validation loss: 0.27352918436129886\n",
      "1m 13s\n",
      "Early Stopping Counter = 1\n",
      "Epoch 182/300\n"
     ]
    },
    {
     "name": "stderr",
     "output_type": "stream",
     "text": [
      "100%|██████████| 155/155 [00:46<00:00,  3.34it/s]\n",
      "100%|██████████| 67/67 [00:20<00:00,  3.20it/s]\n",
      "100%|██████████| 18/18 [00:05<00:00,  3.24it/s]\n"
     ]
    },
    {
     "name": "stdout",
     "output_type": "stream",
     "text": [
      "Train loss: 0.1259864289914408\n",
      "Train consistency loss: 0.0029354205202144473\n",
      "Validation loss: 0.27676476082868046\n",
      "1m 13s\n",
      "Consistency Loss declined to 0.0029354205202144473\n",
      "Early Stopping Counter = 0\n",
      "Epoch 183/300\n"
     ]
    },
    {
     "name": "stderr",
     "output_type": "stream",
     "text": [
      "100%|██████████| 155/155 [00:46<00:00,  3.34it/s]\n",
      "100%|██████████| 67/67 [00:20<00:00,  3.22it/s]\n",
      "100%|██████████| 18/18 [00:05<00:00,  3.31it/s]\n"
     ]
    },
    {
     "name": "stdout",
     "output_type": "stream",
     "text": [
      "Train loss: 0.12631167428147408\n",
      "Train consistency loss: 0.0032238584609507624\n",
      "Validation loss: 0.29724912759330535\n",
      "1m 13s\n",
      "Early Stopping Counter = 1\n",
      "Epoch 184/300\n"
     ]
    },
    {
     "name": "stderr",
     "output_type": "stream",
     "text": [
      "100%|██████████| 155/155 [00:46<00:00,  3.34it/s]\n",
      "100%|██████████| 67/67 [00:21<00:00,  3.18it/s]\n",
      "100%|██████████| 18/18 [00:05<00:00,  3.22it/s]\n"
     ]
    },
    {
     "name": "stdout",
     "output_type": "stream",
     "text": [
      "Train loss: 0.126175033661627\n",
      "Train consistency loss: 0.006794226223797496\n",
      "Validation loss: 0.2969818657471074\n",
      "1m 13s\n",
      "Early Stopping Counter = 2\n",
      "Epoch 185/300\n"
     ]
    },
    {
     "name": "stderr",
     "output_type": "stream",
     "text": [
      "100%|██████████| 155/155 [00:46<00:00,  3.33it/s]\n",
      "100%|██████████| 67/67 [00:21<00:00,  3.18it/s]\n",
      "100%|██████████| 18/18 [00:05<00:00,  3.29it/s]\n"
     ]
    },
    {
     "name": "stdout",
     "output_type": "stream",
     "text": [
      "Train loss: 0.1295098029798077\n",
      "Train consistency loss: 0.003293156900109529\n",
      "Validation loss: 0.2769260240925683\n",
      "1m 13s\n",
      "Early Stopping Counter = 3\n",
      "Epoch 186/300\n"
     ]
    },
    {
     "name": "stderr",
     "output_type": "stream",
     "text": [
      "100%|██████████| 155/155 [00:46<00:00,  3.31it/s]\n",
      "100%|██████████| 67/67 [00:20<00:00,  3.22it/s]\n",
      "100%|██████████| 18/18 [00:05<00:00,  3.30it/s]\n"
     ]
    },
    {
     "name": "stdout",
     "output_type": "stream",
     "text": [
      "Train loss: 0.12517361467884433\n",
      "Train consistency loss: 0.004178120097868256\n",
      "Validation loss: 0.27718825214025045\n",
      "1m 13s\n",
      "Early Stopping Counter = 4\n",
      "Epoch 187/300\n"
     ]
    },
    {
     "name": "stderr",
     "output_type": "stream",
     "text": [
      "100%|██████████| 155/155 [00:46<00:00,  3.35it/s]\n",
      "100%|██████████| 67/67 [00:20<00:00,  3.20it/s]\n",
      "100%|██████████| 18/18 [00:05<00:00,  3.27it/s]\n"
     ]
    },
    {
     "name": "stdout",
     "output_type": "stream",
     "text": [
      "Train loss: 0.12527373779204584\n",
      "Train consistency loss: 0.0029411788077663573\n",
      "Validation loss: 0.28143466346793705\n",
      "1m 13s\n",
      "Early Stopping Counter = 5\n",
      "Epoch 188/300\n"
     ]
    },
    {
     "name": "stderr",
     "output_type": "stream",
     "text": [
      "100%|██████████| 155/155 [00:46<00:00,  3.35it/s]\n",
      "100%|██████████| 67/67 [00:20<00:00,  3.23it/s]\n",
      "100%|██████████| 18/18 [00:05<00:00,  3.34it/s]\n"
     ]
    },
    {
     "name": "stdout",
     "output_type": "stream",
     "text": [
      "Train loss: 0.12451091365468117\n",
      "Train consistency loss: 0.0028435007300672693\n",
      "Validation loss: 0.27389191680898267\n",
      "1m 12s\n",
      "Consistency Loss declined to 0.0028435007300672693\n",
      "Early Stopping Counter = 0\n",
      "Epoch 189/300\n"
     ]
    },
    {
     "name": "stderr",
     "output_type": "stream",
     "text": [
      "100%|██████████| 155/155 [00:46<00:00,  3.33it/s]\n",
      "100%|██████████| 67/67 [00:20<00:00,  3.20it/s]\n",
      "100%|██████████| 18/18 [00:05<00:00,  3.24it/s]\n"
     ]
    },
    {
     "name": "stdout",
     "output_type": "stream",
     "text": [
      "Train loss: 0.1246770728018976\n",
      "Train consistency loss: 0.0028915163633455314\n",
      "Validation loss: 0.2766573689877987\n",
      "1m 13s\n",
      "Early Stopping Counter = 1\n",
      "Epoch 190/300\n"
     ]
    },
    {
     "name": "stderr",
     "output_type": "stream",
     "text": [
      "100%|██████████| 155/155 [00:46<00:00,  3.32it/s]\n",
      "100%|██████████| 67/67 [00:21<00:00,  3.17it/s]\n",
      "100%|██████████| 18/18 [00:05<00:00,  3.27it/s]\n"
     ]
    },
    {
     "name": "stdout",
     "output_type": "stream",
     "text": [
      "Train loss: 0.12347399121330631\n",
      "Train consistency loss: 0.0030526658155218657\n",
      "Validation loss: 0.2716694919185506\n",
      "1m 13s\n",
      "Early Stopping Counter = 2\n",
      "Epoch 191/300\n"
     ]
    },
    {
     "name": "stderr",
     "output_type": "stream",
     "text": [
      "100%|██████████| 155/155 [00:46<00:00,  3.33it/s]\n",
      "100%|██████████| 67/67 [00:21<00:00,  3.18it/s]\n",
      "100%|██████████| 18/18 [00:05<00:00,  3.25it/s]\n"
     ]
    },
    {
     "name": "stdout",
     "output_type": "stream",
     "text": [
      "Train loss: 0.12327692335651767\n",
      "Train consistency loss: 0.002681157487416779\n",
      "Validation loss: 0.26862314053707653\n",
      "1m 13s\n",
      "Consistency Loss declined to 0.002681157487416779\n",
      "Early Stopping Counter = 0\n",
      "Epoch 192/300\n"
     ]
    },
    {
     "name": "stderr",
     "output_type": "stream",
     "text": [
      "100%|██████████| 155/155 [00:46<00:00,  3.34it/s]\n",
      "100%|██████████| 67/67 [00:20<00:00,  3.21it/s]\n",
      "100%|██████████| 18/18 [00:05<00:00,  3.28it/s]\n"
     ]
    },
    {
     "name": "stdout",
     "output_type": "stream",
     "text": [
      "Train loss: 0.12310388838091205\n",
      "Train consistency loss: 0.002737084728554447\n",
      "Validation loss: 0.26979205157193875\n",
      "1m 13s\n",
      "Early Stopping Counter = 1\n",
      "Epoch 193/300\n"
     ]
    },
    {
     "name": "stderr",
     "output_type": "stream",
     "text": [
      "100%|██████████| 155/155 [00:46<00:00,  3.34it/s]\n",
      "100%|██████████| 67/67 [00:20<00:00,  3.22it/s]\n",
      "100%|██████████| 18/18 [00:05<00:00,  3.26it/s]\n"
     ]
    },
    {
     "name": "stdout",
     "output_type": "stream",
     "text": [
      "Train loss: 0.12290119557611404\n",
      "Train consistency loss: 0.002785514683528706\n",
      "Validation loss: 0.2740327370249563\n",
      "1m 13s\n",
      "Early Stopping Counter = 2\n",
      "Epoch 194/300\n"
     ]
    },
    {
     "name": "stderr",
     "output_type": "stream",
     "text": [
      "100%|██████████| 155/155 [00:46<00:00,  3.35it/s]\n",
      "100%|██████████| 67/67 [00:20<00:00,  3.23it/s]\n",
      "100%|██████████| 18/18 [00:05<00:00,  3.29it/s]\n"
     ]
    },
    {
     "name": "stdout",
     "output_type": "stream",
     "text": [
      "Train loss: 0.12303302461101163\n",
      "Train consistency loss: 0.002803273625852568\n",
      "Validation loss: 0.2779911615782314\n",
      "1m 13s\n",
      "Early Stopping Counter = 3\n",
      "Epoch 195/300\n"
     ]
    },
    {
     "name": "stderr",
     "output_type": "stream",
     "text": [
      "100%|██████████| 155/155 [00:46<00:00,  3.34it/s]\n",
      "100%|██████████| 67/67 [00:20<00:00,  3.21it/s]\n",
      "100%|██████████| 18/18 [00:05<00:00,  3.29it/s]\n"
     ]
    },
    {
     "name": "stdout",
     "output_type": "stream",
     "text": [
      "Train loss: 0.12248403982770058\n",
      "Train consistency loss: 0.00251720817551128\n",
      "Validation loss: 0.2774489170147313\n",
      "1m 13s\n",
      "Consistency Loss declined to 0.00251720817551128\n",
      "Early Stopping Counter = 0\n",
      "Epoch 196/300\n"
     ]
    },
    {
     "name": "stderr",
     "output_type": "stream",
     "text": [
      "100%|██████████| 155/155 [00:46<00:00,  3.31it/s]\n",
      "100%|██████████| 67/67 [00:20<00:00,  3.20it/s]\n",
      "100%|██████████| 18/18 [00:05<00:00,  3.25it/s]\n"
     ]
    },
    {
     "name": "stdout",
     "output_type": "stream",
     "text": [
      "Train loss: 0.12227743517967962\n",
      "Train consistency loss: 0.0025418962424954596\n",
      "Validation loss: 0.28075574586788815\n",
      "1m 13s\n",
      "Early Stopping Counter = 1\n",
      "Epoch 197/300\n"
     ]
    },
    {
     "name": "stderr",
     "output_type": "stream",
     "text": [
      "100%|██████████| 155/155 [00:46<00:00,  3.34it/s]\n",
      "100%|██████████| 67/67 [00:21<00:00,  3.19it/s]\n",
      "100%|██████████| 18/18 [00:05<00:00,  3.27it/s]\n"
     ]
    },
    {
     "name": "stdout",
     "output_type": "stream",
     "text": [
      "Train loss: 0.12371044980902826\n",
      "Train consistency loss: 0.0027926324331549123\n",
      "Validation loss: 0.27264366837011444\n",
      "1m 13s\n",
      "Early Stopping Counter = 2\n",
      "Epoch 198/300\n"
     ]
    },
    {
     "name": "stderr",
     "output_type": "stream",
     "text": [
      "100%|██████████| 155/155 [00:46<00:00,  3.33it/s]\n",
      "100%|██████████| 67/67 [00:21<00:00,  3.15it/s]\n",
      "100%|██████████| 18/18 [00:05<00:00,  3.32it/s]\n"
     ]
    },
    {
     "name": "stdout",
     "output_type": "stream",
     "text": [
      "Train loss: 0.12242032222209438\n",
      "Train consistency loss: 0.002512228989681757\n",
      "Validation loss: 0.2739339131448004\n",
      "1m 13s\n",
      "Consistency Loss declined to 0.002512228989681757\n",
      "Early Stopping Counter = 0\n",
      "Epoch 199/300\n"
     ]
    },
    {
     "name": "stderr",
     "output_type": "stream",
     "text": [
      "100%|██████████| 155/155 [00:46<00:00,  3.31it/s]\n",
      "100%|██████████| 67/67 [00:20<00:00,  3.20it/s]\n",
      "100%|██████████| 18/18 [00:05<00:00,  3.29it/s]\n"
     ]
    },
    {
     "name": "stdout",
     "output_type": "stream",
     "text": [
      "Train loss: 0.12157635087928464\n",
      "Train consistency loss: 0.002488963620445288\n",
      "Validation loss: 0.2736016789244281\n",
      "1m 13s\n",
      "Consistency Loss declined to 0.002488963620445288\n",
      "Early Stopping Counter = 0\n",
      "Epoch 200/300\n"
     ]
    },
    {
     "name": "stderr",
     "output_type": "stream",
     "text": [
      "100%|██████████| 155/155 [00:46<00:00,  3.33it/s]\n",
      "100%|██████████| 67/67 [00:20<00:00,  3.23it/s]\n",
      "100%|██████████| 18/18 [00:05<00:00,  3.28it/s]\n"
     ]
    },
    {
     "name": "stdout",
     "output_type": "stream",
     "text": [
      "Train loss: 0.12183091236699012\n",
      "Train consistency loss: 0.002917356358201646\n",
      "Validation loss: 0.2779685722457038\n",
      "1m 13s\n",
      "Early Stopping Counter = 1\n",
      "Epoch 201/300\n"
     ]
    },
    {
     "name": "stderr",
     "output_type": "stream",
     "text": [
      "100%|██████████| 155/155 [00:46<00:00,  3.34it/s]\n",
      "100%|██████████| 67/67 [00:20<00:00,  3.19it/s]\n",
      "100%|██████████| 18/18 [00:05<00:00,  3.28it/s]\n"
     ]
    },
    {
     "name": "stdout",
     "output_type": "stream",
     "text": [
      "Train loss: 0.12192904300266696\n",
      "Train consistency loss: 0.0024968387060381693\n",
      "Validation loss: 0.2823043444918262\n",
      "1m 13s\n",
      "Early Stopping Counter = 2\n",
      "Epoch 202/300\n"
     ]
    },
    {
     "name": "stderr",
     "output_type": "stream",
     "text": [
      "100%|██████████| 155/155 [00:46<00:00,  3.34it/s]\n",
      "100%|██████████| 67/67 [00:20<00:00,  3.22it/s]\n",
      "100%|██████████| 18/18 [00:05<00:00,  3.26it/s]\n"
     ]
    },
    {
     "name": "stdout",
     "output_type": "stream",
     "text": [
      "Train loss: 0.12092341886412712\n",
      "Train consistency loss: 0.0024522909505376176\n",
      "Validation loss: 0.26927379498051274\n",
      "1m 13s\n",
      "Consistency Loss declined to 0.0024522909505376176\n",
      "Early Stopping Counter = 0\n",
      "Epoch 203/300\n"
     ]
    },
    {
     "name": "stderr",
     "output_type": "stream",
     "text": [
      "100%|██████████| 155/155 [00:46<00:00,  3.33it/s]\n",
      "100%|██████████| 67/67 [00:20<00:00,  3.21it/s]\n",
      "100%|██████████| 18/18 [00:05<00:00,  3.34it/s]\n"
     ]
    },
    {
     "name": "stdout",
     "output_type": "stream",
     "text": [
      "Train loss: 0.12093894722000245\n",
      "Train consistency loss: 0.002356181371220346\n",
      "Validation loss: 0.27032486349344254\n",
      "1m 13s\n",
      "Consistency Loss declined to 0.002356181371220346\n",
      "Early Stopping Counter = 0\n",
      "Epoch 204/300\n"
     ]
    },
    {
     "name": "stderr",
     "output_type": "stream",
     "text": [
      "100%|██████████| 155/155 [00:46<00:00,  3.32it/s]\n",
      "100%|██████████| 67/67 [00:20<00:00,  3.21it/s]\n",
      "100%|██████████| 18/18 [00:05<00:00,  3.27it/s]\n"
     ]
    },
    {
     "name": "stdout",
     "output_type": "stream",
     "text": [
      "Train loss: 0.12062876157222256\n",
      "Train consistency loss: 0.007974682504366806\n",
      "Validation loss: 0.3151288578907649\n",
      "1m 13s\n",
      "Early Stopping Counter = 1\n",
      "Epoch 205/300\n"
     ]
    },
    {
     "name": "stderr",
     "output_type": "stream",
     "text": [
      "100%|██████████| 155/155 [00:46<00:00,  3.34it/s]\n",
      "100%|██████████| 67/67 [00:21<00:00,  3.18it/s]\n",
      "100%|██████████| 18/18 [00:05<00:00,  3.38it/s]\n"
     ]
    },
    {
     "name": "stdout",
     "output_type": "stream",
     "text": [
      "Train loss: 0.12780609251030028\n",
      "Train consistency loss: 0.0030795920539452735\n",
      "Validation loss: 0.27515592653718257\n",
      "1m 13s\n",
      "Early Stopping Counter = 2\n",
      "Epoch 206/300\n"
     ]
    },
    {
     "name": "stderr",
     "output_type": "stream",
     "text": [
      "100%|██████████| 155/155 [00:46<00:00,  3.33it/s]\n",
      "100%|██████████| 67/67 [00:21<00:00,  3.17it/s]\n",
      "100%|██████████| 18/18 [00:05<00:00,  3.40it/s]\n"
     ]
    },
    {
     "name": "stdout",
     "output_type": "stream",
     "text": [
      "Train loss: 0.12116853397700095\n",
      "Train consistency loss: 0.0025173522472909803\n",
      "Validation loss: 0.271104805999332\n",
      "1m 13s\n",
      "Early Stopping Counter = 3\n",
      "Epoch 207/300\n"
     ]
    },
    {
     "name": "stderr",
     "output_type": "stream",
     "text": [
      "100%|██████████| 155/155 [00:46<00:00,  3.33it/s]\n",
      "100%|██████████| 67/67 [00:20<00:00,  3.19it/s]\n",
      "100%|██████████| 18/18 [00:05<00:00,  3.34it/s]\n"
     ]
    },
    {
     "name": "stdout",
     "output_type": "stream",
     "text": [
      "Train loss: 0.11970524283186082\n",
      "Train consistency loss: 0.002661898117095454\n",
      "Validation loss: 0.2667390077064435\n",
      "1m 13s\n",
      "Early Stopping Counter = 4\n",
      "Epoch 208/300\n"
     ]
    },
    {
     "name": "stderr",
     "output_type": "stream",
     "text": [
      "100%|██████████| 155/155 [00:46<00:00,  3.33it/s]\n",
      "100%|██████████| 67/67 [00:20<00:00,  3.21it/s]\n",
      "100%|██████████| 18/18 [00:05<00:00,  3.28it/s]\n"
     ]
    },
    {
     "name": "stdout",
     "output_type": "stream",
     "text": [
      "Train loss: 0.11932006685003158\n",
      "Train consistency loss: 0.0023726261943689923\n",
      "Validation loss: 0.2794616787383954\n",
      "1m 13s\n",
      "Early Stopping Counter = 5\n",
      "Epoch 209/300\n"
     ]
    },
    {
     "name": "stderr",
     "output_type": "stream",
     "text": [
      "100%|██████████| 155/155 [00:46<00:00,  3.34it/s]\n",
      "100%|██████████| 67/67 [00:21<00:00,  3.18it/s]\n",
      "100%|██████████| 18/18 [00:05<00:00,  3.25it/s]\n"
     ]
    },
    {
     "name": "stdout",
     "output_type": "stream",
     "text": [
      "Train loss: 0.11855859564196679\n",
      "Train consistency loss: 0.0024186311734478863\n",
      "Validation loss: 0.27484195741514367\n",
      "1m 13s\n",
      "Early Stopping Counter = 6\n",
      "Epoch 210/300\n"
     ]
    },
    {
     "name": "stderr",
     "output_type": "stream",
     "text": [
      "100%|██████████| 155/155 [00:46<00:00,  3.35it/s]\n",
      "100%|██████████| 67/67 [00:20<00:00,  3.19it/s]\n",
      "100%|██████████| 18/18 [00:05<00:00,  3.25it/s]\n"
     ]
    },
    {
     "name": "stdout",
     "output_type": "stream",
     "text": [
      "Train loss: 0.11951647333560451\n",
      "Train consistency loss: 0.00226286356771754\n",
      "Validation loss: 0.2739760883980327\n",
      "1m 13s\n",
      "Consistency Loss declined to 0.00226286356771754\n",
      "Early Stopping Counter = 0\n",
      "Epoch 211/300\n"
     ]
    },
    {
     "name": "stderr",
     "output_type": "stream",
     "text": [
      "100%|██████████| 155/155 [00:46<00:00,  3.34it/s]\n",
      "100%|██████████| 67/67 [00:20<00:00,  3.22it/s]\n",
      "100%|██████████| 18/18 [00:05<00:00,  3.23it/s]\n"
     ]
    },
    {
     "name": "stdout",
     "output_type": "stream",
     "text": [
      "Train loss: 0.11903836924222208\n",
      "Train consistency loss: 0.0022321080948823867\n",
      "Validation loss: 0.277757505989737\n",
      "1m 13s\n",
      "Consistency Loss declined to 0.0022321080948823867\n",
      "Early Stopping Counter = 0\n",
      "Epoch 212/300\n"
     ]
    },
    {
     "name": "stderr",
     "output_type": "stream",
     "text": [
      "100%|██████████| 155/155 [00:46<00:00,  3.33it/s]\n",
      "100%|██████████| 67/67 [00:20<00:00,  3.21it/s]\n",
      "100%|██████████| 18/18 [00:05<00:00,  3.30it/s]\n"
     ]
    },
    {
     "name": "stdout",
     "output_type": "stream",
     "text": [
      "Train loss: 0.11824294703622018\n",
      "Train consistency loss: 0.002368410288203341\n",
      "Validation loss: 0.2737820179512103\n",
      "1m 13s\n",
      "Early Stopping Counter = 1\n",
      "Epoch 213/300\n"
     ]
    },
    {
     "name": "stderr",
     "output_type": "stream",
     "text": [
      "100%|██████████| 155/155 [00:46<00:00,  3.34it/s]\n",
      "100%|██████████| 67/67 [00:21<00:00,  3.17it/s]\n",
      "100%|██████████| 18/18 [00:05<00:00,  3.30it/s]\n"
     ]
    },
    {
     "name": "stdout",
     "output_type": "stream",
     "text": [
      "Train loss: 0.11750242613977002\n",
      "Train consistency loss: 0.002349178384947799\n",
      "Validation loss: 0.2705894480976794\n",
      "1m 13s\n",
      "Early Stopping Counter = 2\n",
      "Epoch 214/300\n"
     ]
    },
    {
     "name": "stderr",
     "output_type": "stream",
     "text": [
      "100%|██████████| 155/155 [00:46<00:00,  3.32it/s]\n",
      "100%|██████████| 67/67 [00:21<00:00,  3.17it/s]\n",
      "100%|██████████| 18/18 [00:05<00:00,  3.28it/s]\n"
     ]
    },
    {
     "name": "stdout",
     "output_type": "stream",
     "text": [
      "Train loss: 0.11783705637339623\n",
      "Train consistency loss: 0.0024827563381100547\n",
      "Validation loss: 0.267452504278885\n",
      "1m 13s\n",
      "Early Stopping Counter = 3\n",
      "Epoch 215/300\n"
     ]
    },
    {
     "name": "stderr",
     "output_type": "stream",
     "text": [
      "100%|██████████| 155/155 [00:46<00:00,  3.33it/s]\n",
      "100%|██████████| 67/67 [00:21<00:00,  3.19it/s]\n",
      "100%|██████████| 18/18 [00:05<00:00,  3.23it/s]\n"
     ]
    },
    {
     "name": "stdout",
     "output_type": "stream",
     "text": [
      "Train loss: 0.1180388672217246\n",
      "Train consistency loss: 0.0024093695388022643\n",
      "Validation loss: 0.2736172266304493\n",
      "1m 13s\n",
      "Early Stopping Counter = 4\n",
      "Epoch 216/300\n"
     ]
    },
    {
     "name": "stderr",
     "output_type": "stream",
     "text": [
      "100%|██████████| 155/155 [00:46<00:00,  3.33it/s]\n",
      "100%|██████████| 67/67 [00:20<00:00,  3.23it/s]\n",
      "100%|██████████| 18/18 [00:05<00:00,  3.11it/s]\n"
     ]
    },
    {
     "name": "stdout",
     "output_type": "stream",
     "text": [
      "Train loss: 0.11731037324474704\n",
      "Train consistency loss: 0.003798741749974329\n",
      "Validation loss: 0.29245197483234936\n",
      "1m 13s\n",
      "Early Stopping Counter = 5\n",
      "Epoch 217/300\n"
     ]
    },
    {
     "name": "stderr",
     "output_type": "stream",
     "text": [
      "100%|██████████| 155/155 [00:46<00:00,  3.34it/s]\n",
      "100%|██████████| 67/67 [00:21<00:00,  3.19it/s]\n",
      "100%|██████████| 18/18 [00:05<00:00,  3.23it/s]\n"
     ]
    },
    {
     "name": "stdout",
     "output_type": "stream",
     "text": [
      "Train loss: 0.11991924085924702\n",
      "Train consistency loss: 0.002488750008754988\n",
      "Validation loss: 0.263953060325649\n",
      "1m 13s\n",
      "Early Stopping Counter = 6\n",
      "Epoch 218/300\n"
     ]
    },
    {
     "name": "stderr",
     "output_type": "stream",
     "text": [
      "100%|██████████| 155/155 [00:46<00:00,  3.35it/s]\n",
      "100%|██████████| 67/67 [00:20<00:00,  3.22it/s]\n",
      "100%|██████████| 18/18 [00:05<00:00,  3.30it/s]\n"
     ]
    },
    {
     "name": "stdout",
     "output_type": "stream",
     "text": [
      "Train loss: 0.11732027117283114\n",
      "Train consistency loss: 0.0023908904656323032\n",
      "Validation loss: 0.27980531679673326\n",
      "1m 13s\n",
      "Early Stopping Counter = 7\n",
      "Epoch 219/300\n"
     ]
    },
    {
     "name": "stderr",
     "output_type": "stream",
     "text": [
      "100%|██████████| 155/155 [00:46<00:00,  3.35it/s]\n",
      "100%|██████████| 67/67 [00:21<00:00,  3.18it/s]\n",
      "100%|██████████| 18/18 [00:05<00:00,  3.24it/s]\n"
     ]
    },
    {
     "name": "stdout",
     "output_type": "stream",
     "text": [
      "Train loss: 0.11699529419983587\n",
      "Train consistency loss: 0.0022396275724993267\n",
      "Validation loss: 0.26914300790263546\n",
      "1m 13s\n",
      "Early Stopping Counter = 8\n",
      "Epoch 220/300\n"
     ]
    },
    {
     "name": "stderr",
     "output_type": "stream",
     "text": [
      "100%|██████████| 155/155 [00:46<00:00,  3.34it/s]\n",
      "100%|██████████| 67/67 [00:21<00:00,  3.19it/s]\n",
      "100%|██████████| 18/18 [00:05<00:00,  3.26it/s]\n"
     ]
    },
    {
     "name": "stdout",
     "output_type": "stream",
     "text": [
      "Train loss: 0.1164453859290769\n",
      "Train consistency loss: 0.002184921091095781\n",
      "Validation loss: 0.2736180019047525\n",
      "1m 13s\n",
      "Consistency Loss declined to 0.002184921091095781\n",
      "Early Stopping Counter = 0\n",
      "Epoch 221/300\n"
     ]
    },
    {
     "name": "stderr",
     "output_type": "stream",
     "text": [
      "100%|██████████| 155/155 [00:46<00:00,  3.34it/s]\n",
      "100%|██████████| 67/67 [00:21<00:00,  3.17it/s]\n",
      "100%|██████████| 18/18 [00:05<00:00,  3.29it/s]\n"
     ]
    },
    {
     "name": "stdout",
     "output_type": "stream",
     "text": [
      "Train loss: 0.11600285840611305\n",
      "Train consistency loss: 0.0022180685686614752\n",
      "Validation loss: 0.26775652739322847\n",
      "1m 13s\n",
      "Early Stopping Counter = 1\n",
      "Epoch 222/300\n"
     ]
    },
    {
     "name": "stderr",
     "output_type": "stream",
     "text": [
      "100%|██████████| 155/155 [00:46<00:00,  3.33it/s]\n",
      "100%|██████████| 67/67 [00:20<00:00,  3.20it/s]\n",
      "100%|██████████| 18/18 [00:05<00:00,  3.29it/s]\n"
     ]
    },
    {
     "name": "stdout",
     "output_type": "stream",
     "text": [
      "Train loss: 0.11605693601792859\n",
      "Train consistency loss: 0.0023148204877611192\n",
      "Validation loss: 0.2761070426139567\n",
      "1m 13s\n",
      "Early Stopping Counter = 2\n",
      "Epoch 223/300\n"
     ]
    },
    {
     "name": "stderr",
     "output_type": "stream",
     "text": [
      "100%|██████████| 155/155 [00:46<00:00,  3.34it/s]\n",
      "100%|██████████| 67/67 [00:21<00:00,  3.17it/s]\n",
      "100%|██████████| 18/18 [00:05<00:00,  3.25it/s]\n"
     ]
    },
    {
     "name": "stdout",
     "output_type": "stream",
     "text": [
      "Train loss: 0.11625361442565918\n",
      "Train consistency loss: 0.0024206741441930853\n",
      "Validation loss: 0.2779429505268733\n",
      "1m 13s\n",
      "Early Stopping Counter = 3\n",
      "Epoch 224/300\n"
     ]
    },
    {
     "name": "stderr",
     "output_type": "stream",
     "text": [
      "100%|██████████| 155/155 [00:46<00:00,  3.34it/s]\n",
      "100%|██████████| 67/67 [00:21<00:00,  3.18it/s]\n",
      "100%|██████████| 18/18 [00:05<00:00,  3.26it/s]\n"
     ]
    },
    {
     "name": "stdout",
     "output_type": "stream",
     "text": [
      "Train loss: 0.11550409582353408\n",
      "Train consistency loss: 0.0022368955551021136\n",
      "Validation loss: 0.2680682574088375\n",
      "1m 13s\n",
      "Early Stopping Counter = 4\n",
      "Epoch 225/300\n"
     ]
    },
    {
     "name": "stderr",
     "output_type": "stream",
     "text": [
      "100%|██████████| 155/155 [00:46<00:00,  3.32it/s]\n",
      "100%|██████████| 67/67 [00:21<00:00,  3.17it/s]\n",
      "100%|██████████| 18/18 [00:05<00:00,  3.33it/s]\n"
     ]
    },
    {
     "name": "stdout",
     "output_type": "stream",
     "text": [
      "Train loss: 0.11508256264271274\n",
      "Train consistency loss: 0.0028736737779160933\n",
      "Validation loss: 0.266548282156388\n",
      "1m 13s\n",
      "Early Stopping Counter = 5\n",
      "Epoch 226/300\n"
     ]
    },
    {
     "name": "stderr",
     "output_type": "stream",
     "text": [
      "100%|██████████| 155/155 [00:46<00:00,  3.34it/s]\n",
      "100%|██████████| 67/67 [00:20<00:00,  3.22it/s]\n",
      "100%|██████████| 18/18 [00:05<00:00,  3.28it/s]\n"
     ]
    },
    {
     "name": "stdout",
     "output_type": "stream",
     "text": [
      "Train loss: 0.1162021025534599\n",
      "Train consistency loss: 0.0023624313015268364\n",
      "Validation loss: 0.29087844656573403\n",
      "1m 13s\n",
      "Early Stopping Counter = 6\n",
      "Epoch 227/300\n"
     ]
    },
    {
     "name": "stderr",
     "output_type": "stream",
     "text": [
      "100%|██████████| 155/155 [00:46<00:00,  3.34it/s]\n",
      "100%|██████████| 67/67 [00:20<00:00,  3.22it/s]\n",
      "100%|██████████| 18/18 [00:05<00:00,  3.23it/s]\n"
     ]
    },
    {
     "name": "stdout",
     "output_type": "stream",
     "text": [
      "Train loss: 0.11540155194459423\n",
      "Train consistency loss: 0.0022387973601068023\n",
      "Validation loss: 0.27067453124456936\n",
      "1m 13s\n",
      "Early Stopping Counter = 7\n",
      "Epoch 228/300\n"
     ]
    },
    {
     "name": "stderr",
     "output_type": "stream",
     "text": [
      "100%|██████████| 155/155 [00:46<00:00,  3.34it/s]\n",
      "100%|██████████| 67/67 [00:20<00:00,  3.22it/s]\n",
      "100%|██████████| 18/18 [00:05<00:00,  3.28it/s]\n"
     ]
    },
    {
     "name": "stdout",
     "output_type": "stream",
     "text": [
      "Train loss: 0.1146936618031994\n",
      "Train consistency loss: 0.0025431048159779454\n",
      "Validation loss: 0.27168969810009\n",
      "1m 13s\n",
      "Early Stopping Counter = 8\n",
      "Epoch 229/300\n"
     ]
    },
    {
     "name": "stderr",
     "output_type": "stream",
     "text": [
      "100%|██████████| 155/155 [00:46<00:00,  3.32it/s]\n",
      "100%|██████████| 67/67 [00:20<00:00,  3.22it/s]\n",
      "100%|██████████| 18/18 [00:05<00:00,  3.25it/s]\n"
     ]
    },
    {
     "name": "stdout",
     "output_type": "stream",
     "text": [
      "Train loss: 0.11486466329905294\n",
      "Train consistency loss: 0.002183919367658447\n",
      "Validation loss: 0.26722772512584925\n",
      "1m 13s\n",
      "Consistency Loss declined to 0.002183919367658447\n",
      "Early Stopping Counter = 0\n",
      "Epoch 230/300\n"
     ]
    },
    {
     "name": "stderr",
     "output_type": "stream",
     "text": [
      "100%|██████████| 155/155 [00:46<00:00,  3.32it/s]\n",
      "100%|██████████| 67/67 [00:20<00:00,  3.19it/s]\n",
      "100%|██████████| 18/18 [00:05<00:00,  3.28it/s]\n"
     ]
    },
    {
     "name": "stdout",
     "output_type": "stream",
     "text": [
      "Train loss: 0.11442021415118248\n",
      "Train consistency loss: 0.002102828170207621\n",
      "Validation loss: 0.26947824967404205\n",
      "1m 13s\n",
      "Consistency Loss declined to 0.002102828170207621\n",
      "Early Stopping Counter = 0\n",
      "Epoch 231/300\n"
     ]
    },
    {
     "name": "stderr",
     "output_type": "stream",
     "text": [
      "100%|██████████| 155/155 [00:46<00:00,  3.30it/s]\n",
      "100%|██████████| 67/67 [00:20<00:00,  3.20it/s]\n",
      "100%|██████████| 18/18 [00:05<00:00,  3.32it/s]\n"
     ]
    },
    {
     "name": "stdout",
     "output_type": "stream",
     "text": [
      "Train loss: 0.11425973301933658\n",
      "Train consistency loss: 0.002507871263590989\n",
      "Validation loss: 0.2754108469105429\n",
      "1m 13s\n",
      "Early Stopping Counter = 1\n",
      "Epoch 232/300\n"
     ]
    },
    {
     "name": "stderr",
     "output_type": "stream",
     "text": [
      "100%|██████████| 155/155 [00:46<00:00,  3.34it/s]\n",
      "100%|██████████| 67/67 [00:20<00:00,  3.19it/s]\n",
      "100%|██████████| 18/18 [00:05<00:00,  3.26it/s]\n"
     ]
    },
    {
     "name": "stdout",
     "output_type": "stream",
     "text": [
      "Train loss: 0.11454950734492271\n",
      "Train consistency loss: 0.002266702461125913\n",
      "Validation loss: 0.27986531725360286\n",
      "1m 13s\n",
      "Early Stopping Counter = 2\n",
      "Epoch 233/300\n"
     ]
    },
    {
     "name": "stderr",
     "output_type": "stream",
     "text": [
      "100%|██████████| 155/155 [00:46<00:00,  3.34it/s]\n",
      "100%|██████████| 67/67 [00:20<00:00,  3.21it/s]\n",
      "100%|██████████| 18/18 [00:05<00:00,  3.23it/s]\n"
     ]
    },
    {
     "name": "stdout",
     "output_type": "stream",
     "text": [
      "Train loss: 0.11451277372337157\n",
      "Train consistency loss: 0.0022009264073098327\n",
      "Validation loss: 0.2811733809196287\n",
      "1m 13s\n",
      "Early Stopping Counter = 3\n",
      "Epoch 234/300\n"
     ]
    },
    {
     "name": "stderr",
     "output_type": "stream",
     "text": [
      "100%|██████████| 155/155 [00:46<00:00,  3.34it/s]\n",
      "100%|██████████| 67/67 [00:20<00:00,  3.19it/s]\n",
      "100%|██████████| 18/18 [00:05<00:00,  3.28it/s]\n"
     ]
    },
    {
     "name": "stdout",
     "output_type": "stream",
     "text": [
      "Train loss: 0.11363935023546219\n",
      "Train consistency loss: 0.0021755388189009877\n",
      "Validation loss: 0.27458764519542456\n",
      "1m 13s\n",
      "Early Stopping Counter = 4\n",
      "Epoch 235/300\n"
     ]
    },
    {
     "name": "stderr",
     "output_type": "stream",
     "text": [
      "100%|██████████| 155/155 [00:46<00:00,  3.33it/s]\n",
      "100%|██████████| 67/67 [00:21<00:00,  3.19it/s]\n",
      "100%|██████████| 18/18 [00:05<00:00,  3.24it/s]\n"
     ]
    },
    {
     "name": "stdout",
     "output_type": "stream",
     "text": [
      "Train loss: 0.11338348816479406\n",
      "Train consistency loss: 0.0020205849293383087\n",
      "Validation loss: 0.27867513750162387\n",
      "1m 13s\n",
      "Consistency Loss declined to 0.0020205849293383087\n",
      "Early Stopping Counter = 0\n",
      "Epoch 236/300\n"
     ]
    },
    {
     "name": "stderr",
     "output_type": "stream",
     "text": [
      "100%|██████████| 155/155 [00:46<00:00,  3.34it/s]\n",
      "100%|██████████| 67/67 [00:20<00:00,  3.19it/s]\n",
      "100%|██████████| 18/18 [00:05<00:00,  3.33it/s]\n"
     ]
    },
    {
     "name": "stdout",
     "output_type": "stream",
     "text": [
      "Train loss: 0.11312707383786479\n",
      "Train consistency loss: 0.0019891232081841845\n",
      "Validation loss: 0.27666404553585583\n",
      "1m 13s\n",
      "Consistency Loss declined to 0.0019891232081841845\n",
      "Early Stopping Counter = 0\n",
      "Epoch 237/300\n"
     ]
    },
    {
     "name": "stderr",
     "output_type": "stream",
     "text": [
      "100%|██████████| 155/155 [00:46<00:00,  3.34it/s]\n",
      "100%|██████████| 67/67 [00:20<00:00,  3.19it/s]\n",
      "100%|██████████| 18/18 [00:05<00:00,  3.22it/s]\n"
     ]
    },
    {
     "name": "stdout",
     "output_type": "stream",
     "text": [
      "Train loss: 0.11297128546622491\n",
      "Train consistency loss: 0.0019512221906959678\n",
      "Validation loss: 0.2678905671669377\n",
      "1m 13s\n",
      "Consistency Loss declined to 0.0019512221906959678\n",
      "Early Stopping Counter = 0\n",
      "Epoch 238/300\n"
     ]
    },
    {
     "name": "stderr",
     "output_type": "stream",
     "text": [
      "100%|██████████| 155/155 [00:46<00:00,  3.33it/s]\n",
      "100%|██████████| 67/67 [00:21<00:00,  3.19it/s]\n",
      "100%|██████████| 18/18 [00:05<00:00,  3.20it/s]\n"
     ]
    },
    {
     "name": "stdout",
     "output_type": "stream",
     "text": [
      "Train loss: 0.11254373375446566\n",
      "Train consistency loss: 0.002004592229417567\n",
      "Validation loss: 0.2684650739861859\n",
      "1m 13s\n",
      "Early Stopping Counter = 1\n",
      "Epoch 239/300\n"
     ]
    },
    {
     "name": "stderr",
     "output_type": "stream",
     "text": [
      "100%|██████████| 155/155 [00:46<00:00,  3.32it/s]\n",
      "100%|██████████| 67/67 [00:21<00:00,  3.17it/s]\n",
      "100%|██████████| 18/18 [00:05<00:00,  3.32it/s]\n"
     ]
    },
    {
     "name": "stdout",
     "output_type": "stream",
     "text": [
      "Train loss: 0.11247830958135667\n",
      "Train consistency loss: 0.002354468222457304\n",
      "Validation loss: 0.2732124235481024\n",
      "1m 13s\n",
      "Early Stopping Counter = 2\n",
      "Epoch 240/300\n"
     ]
    },
    {
     "name": "stderr",
     "output_type": "stream",
     "text": [
      "100%|██████████| 155/155 [00:46<00:00,  3.32it/s]\n",
      "100%|██████████| 67/67 [00:20<00:00,  3.22it/s]\n",
      "100%|██████████| 18/18 [00:05<00:00,  3.28it/s]\n"
     ]
    },
    {
     "name": "stdout",
     "output_type": "stream",
     "text": [
      "Train loss: 0.11261879705613659\n",
      "Train consistency loss: 0.0021776623038727958\n",
      "Validation loss: 0.2802654388878081\n",
      "1m 13s\n",
      "Early Stopping Counter = 3\n",
      "Epoch 241/300\n"
     ]
    },
    {
     "name": "stderr",
     "output_type": "stream",
     "text": [
      "100%|██████████| 155/155 [00:46<00:00,  3.33it/s]\n",
      "100%|██████████| 67/67 [00:20<00:00,  3.20it/s]\n",
      "100%|██████████| 18/18 [00:05<00:00,  3.29it/s]\n"
     ]
    },
    {
     "name": "stdout",
     "output_type": "stream",
     "text": [
      "Train loss: 0.11232278125901377\n",
      "Train consistency loss: 0.0020213381408143846\n",
      "Validation loss: 0.27310082637187505\n",
      "1m 13s\n",
      "Early Stopping Counter = 4\n",
      "Epoch 242/300\n"
     ]
    },
    {
     "name": "stderr",
     "output_type": "stream",
     "text": [
      "100%|██████████| 155/155 [00:46<00:00,  3.35it/s]\n",
      "100%|██████████| 67/67 [00:20<00:00,  3.22it/s]\n",
      "100%|██████████| 18/18 [00:05<00:00,  3.30it/s]\n"
     ]
    },
    {
     "name": "stdout",
     "output_type": "stream",
     "text": [
      "Train loss: 0.11211430343889421\n",
      "Train consistency loss: 0.0020312375029368297\n",
      "Validation loss: 0.27226875215354895\n",
      "1m 13s\n",
      "Early Stopping Counter = 5\n",
      "Epoch 243/300\n"
     ]
    },
    {
     "name": "stderr",
     "output_type": "stream",
     "text": [
      "100%|██████████| 155/155 [00:46<00:00,  3.35it/s]\n",
      "100%|██████████| 67/67 [00:20<00:00,  3.20it/s]\n",
      "100%|██████████| 18/18 [00:05<00:00,  3.25it/s]\n"
     ]
    },
    {
     "name": "stdout",
     "output_type": "stream",
     "text": [
      "Train loss: 0.11147740367920168\n",
      "Train consistency loss: 0.0022905134741884113\n",
      "Validation loss: 0.2778244904345936\n",
      "1m 13s\n",
      "Early Stopping Counter = 6\n",
      "Epoch 244/300\n"
     ]
    },
    {
     "name": "stderr",
     "output_type": "stream",
     "text": [
      "100%|██████████| 155/155 [00:46<00:00,  3.32it/s]\n",
      "100%|██████████| 67/67 [00:21<00:00,  3.18it/s]\n",
      "100%|██████████| 18/18 [00:05<00:00,  3.35it/s]\n"
     ]
    },
    {
     "name": "stdout",
     "output_type": "stream",
     "text": [
      "Train loss: 0.11177199415622219\n",
      "Train consistency loss: 0.0020055314908221144\n",
      "Validation loss: 0.2672211594051785\n",
      "1m 13s\n",
      "Early Stopping Counter = 7\n",
      "Epoch 245/300\n"
     ]
    },
    {
     "name": "stderr",
     "output_type": "stream",
     "text": [
      "100%|██████████| 155/155 [00:46<00:00,  3.33it/s]\n",
      "100%|██████████| 67/67 [00:20<00:00,  3.19it/s]\n",
      "100%|██████████| 18/18 [00:05<00:00,  3.24it/s]\n"
     ]
    },
    {
     "name": "stdout",
     "output_type": "stream",
     "text": [
      "Train loss: 0.11109895763858672\n",
      "Train consistency loss: 0.0019744074323089487\n",
      "Validation loss: 0.27015688994692433\n",
      "1m 13s\n",
      "Early Stopping Counter = 8\n",
      "Epoch 246/300\n"
     ]
    },
    {
     "name": "stderr",
     "output_type": "stream",
     "text": [
      "100%|██████████| 155/155 [00:46<00:00,  3.34it/s]\n",
      "100%|██████████| 67/67 [00:20<00:00,  3.19it/s]\n",
      "100%|██████████| 18/18 [00:05<00:00,  3.31it/s]\n"
     ]
    },
    {
     "name": "stdout",
     "output_type": "stream",
     "text": [
      "Train loss: 0.111184581441264\n",
      "Train consistency loss: 0.002037106498853484\n",
      "Validation loss: 0.276043819470538\n",
      "1m 13s\n",
      "Early Stopping Counter = 9\n",
      "Epoch 247/300\n"
     ]
    },
    {
     "name": "stderr",
     "output_type": "stream",
     "text": [
      "100%|██████████| 155/155 [00:46<00:00,  3.35it/s]\n",
      "100%|██████████| 67/67 [00:20<00:00,  3.22it/s]\n",
      "100%|██████████| 18/18 [00:05<00:00,  3.29it/s]\n"
     ]
    },
    {
     "name": "stdout",
     "output_type": "stream",
     "text": [
      "Train loss: 0.11139985510418492\n",
      "Train consistency loss: 0.0027576436361631575\n",
      "Validation loss: 0.28256844563616645\n",
      "1m 13s\n",
      "Early Stopping Counter = 10\n",
      "Epoch 248/300\n"
     ]
    },
    {
     "name": "stderr",
     "output_type": "stream",
     "text": [
      "100%|██████████| 155/155 [00:46<00:00,  3.31it/s]\n",
      "100%|██████████| 67/67 [00:21<00:00,  3.17it/s]\n",
      "100%|██████████| 18/18 [00:05<00:00,  3.26it/s]\n"
     ]
    },
    {
     "name": "stdout",
     "output_type": "stream",
     "text": [
      "Train loss: 0.1123028306230422\n",
      "Train consistency loss: 0.002073578304548595\n",
      "Validation loss: 0.2685360341436333\n",
      "1m 13s\n",
      "Early Stopping Counter = 11\n",
      "Epoch 249/300\n"
     ]
    },
    {
     "name": "stderr",
     "output_type": "stream",
     "text": [
      "100%|██████████| 155/155 [00:46<00:00,  3.31it/s]\n",
      "100%|██████████| 67/67 [00:20<00:00,  3.22it/s]\n",
      "100%|██████████| 18/18 [00:05<00:00,  3.24it/s]\n"
     ]
    },
    {
     "name": "stdout",
     "output_type": "stream",
     "text": [
      "Train loss: 0.1108274967439713\n",
      "Train consistency loss: 0.0019490482692203638\n",
      "Validation loss: 0.2762011419981718\n",
      "1m 13s\n",
      "Consistency Loss declined to 0.0019490482692203638\n",
      "Early Stopping Counter = 0\n",
      "Epoch 250/300\n"
     ]
    },
    {
     "name": "stderr",
     "output_type": "stream",
     "text": [
      "100%|██████████| 155/155 [00:46<00:00,  3.33it/s]\n",
      "100%|██████████| 67/67 [00:20<00:00,  3.21it/s]\n",
      "100%|██████████| 18/18 [00:05<00:00,  3.23it/s]\n"
     ]
    },
    {
     "name": "stdout",
     "output_type": "stream",
     "text": [
      "Train loss: 0.11022363497364905\n",
      "Train consistency loss: 0.0021399736470445545\n",
      "Validation loss: 0.27383747117386925\n",
      "1m 13s\n",
      "Early Stopping Counter = 1\n",
      "Epoch 251/300\n"
     ]
    },
    {
     "name": "stderr",
     "output_type": "stream",
     "text": [
      "100%|██████████| 155/155 [00:46<00:00,  3.32it/s]\n",
      "100%|██████████| 67/67 [00:20<00:00,  3.19it/s]\n",
      "100%|██████████| 18/18 [00:05<00:00,  3.20it/s]\n"
     ]
    },
    {
     "name": "stdout",
     "output_type": "stream",
     "text": [
      "Train loss: 0.11091602343705392\n",
      "Train consistency loss: 0.001820120851877632\n",
      "Validation loss: 0.26899593675302136\n",
      "1m 13s\n",
      "Consistency Loss declined to 0.001820120851877632\n",
      "Early Stopping Counter = 0\n",
      "Epoch 252/300\n"
     ]
    },
    {
     "name": "stderr",
     "output_type": "stream",
     "text": [
      "100%|██████████| 155/155 [00:46<00:00,  3.32it/s]\n",
      "100%|██████████| 67/67 [00:20<00:00,  3.22it/s]\n",
      "100%|██████████| 18/18 [00:05<00:00,  3.24it/s]\n"
     ]
    },
    {
     "name": "stdout",
     "output_type": "stream",
     "text": [
      "Train loss: 0.11014426715912358\n",
      "Train consistency loss: 0.0021488643911625467\n",
      "Validation loss: 0.27638702135947013\n",
      "1m 13s\n",
      "Early Stopping Counter = 1\n",
      "Epoch 253/300\n"
     ]
    },
    {
     "name": "stderr",
     "output_type": "stream",
     "text": [
      "100%|██████████| 155/155 [00:46<00:00,  3.32it/s]\n",
      "100%|██████████| 67/67 [00:20<00:00,  3.22it/s]\n",
      "100%|██████████| 18/18 [00:05<00:00,  3.25it/s]\n"
     ]
    },
    {
     "name": "stdout",
     "output_type": "stream",
     "text": [
      "Train loss: 0.10995795914242344\n",
      "Train consistency loss: 0.001948533986292001\n",
      "Validation loss: 0.27020428019265336\n",
      "1m 13s\n",
      "Early Stopping Counter = 2\n",
      "Epoch 254/300\n"
     ]
    },
    {
     "name": "stderr",
     "output_type": "stream",
     "text": [
      "100%|██████████| 155/155 [00:46<00:00,  3.34it/s]\n",
      "100%|██████████| 67/67 [00:20<00:00,  3.22it/s]\n",
      "100%|██████████| 18/18 [00:05<00:00,  3.25it/s]\n"
     ]
    },
    {
     "name": "stdout",
     "output_type": "stream",
     "text": [
      "Train loss: 0.10951467319842308\n",
      "Train consistency loss: 0.0019754607442405018\n",
      "Validation loss: 0.27473631377021474\n",
      "1m 13s\n",
      "Early Stopping Counter = 3\n",
      "Epoch 255/300\n"
     ]
    },
    {
     "name": "stderr",
     "output_type": "stream",
     "text": [
      "100%|██████████| 155/155 [00:46<00:00,  3.35it/s]\n",
      "100%|██████████| 67/67 [00:20<00:00,  3.22it/s]\n",
      "100%|██████████| 18/18 [00:05<00:00,  3.26it/s]\n"
     ]
    },
    {
     "name": "stdout",
     "output_type": "stream",
     "text": [
      "Train loss: 0.10960740360521501\n",
      "Train consistency loss: 0.001891795850755063\n",
      "Validation loss: 0.27711981493565774\n",
      "1m 13s\n",
      "Early Stopping Counter = 4\n",
      "Epoch 256/300\n"
     ]
    },
    {
     "name": "stderr",
     "output_type": "stream",
     "text": [
      "100%|██████████| 155/155 [00:46<00:00,  3.34it/s]\n",
      "100%|██████████| 67/67 [00:20<00:00,  3.23it/s]\n",
      "100%|██████████| 18/18 [00:05<00:00,  3.25it/s]\n"
     ]
    },
    {
     "name": "stdout",
     "output_type": "stream",
     "text": [
      "Train loss: 0.10958787395108131\n",
      "Train consistency loss: 0.0019414489393803612\n",
      "Validation loss: 0.27468539733025765\n",
      "1m 13s\n",
      "Early Stopping Counter = 5\n",
      "Epoch 257/300\n"
     ]
    },
    {
     "name": "stderr",
     "output_type": "stream",
     "text": [
      "100%|██████████| 155/155 [00:46<00:00,  3.33it/s]\n",
      "100%|██████████| 67/67 [00:20<00:00,  3.20it/s]\n",
      "100%|██████████| 18/18 [00:05<00:00,  3.28it/s]\n"
     ]
    },
    {
     "name": "stdout",
     "output_type": "stream",
     "text": [
      "Train loss: 0.10902239165959819\n",
      "Train consistency loss: 0.001876862826513877\n",
      "Validation loss: 0.27703122422099113\n",
      "1m 13s\n",
      "Early Stopping Counter = 6\n",
      "Epoch 258/300\n"
     ]
    },
    {
     "name": "stderr",
     "output_type": "stream",
     "text": [
      "100%|██████████| 155/155 [00:46<00:00,  3.33it/s]\n",
      "100%|██████████| 67/67 [00:20<00:00,  3.21it/s]\n",
      "100%|██████████| 18/18 [00:05<00:00,  3.25it/s]\n"
     ]
    },
    {
     "name": "stdout",
     "output_type": "stream",
     "text": [
      "Train loss: 0.109156202260525\n",
      "Train consistency loss: 0.002040801984223245\n",
      "Validation loss: 0.27323908058719504\n",
      "1m 13s\n",
      "Early Stopping Counter = 7\n",
      "Epoch 259/300\n"
     ]
    },
    {
     "name": "stderr",
     "output_type": "stream",
     "text": [
      "100%|██████████| 155/155 [00:46<00:00,  3.35it/s]\n",
      "100%|██████████| 67/67 [00:20<00:00,  3.20it/s]\n",
      "100%|██████████| 18/18 [00:05<00:00,  3.16it/s]\n"
     ]
    },
    {
     "name": "stdout",
     "output_type": "stream",
     "text": [
      "Train loss: 0.10935966343648972\n",
      "Train consistency loss: 0.0019055877581113643\n",
      "Validation loss: 0.2659446808199088\n",
      "1m 13s\n",
      "Early Stopping Counter = 8\n",
      "Epoch 260/300\n"
     ]
    },
    {
     "name": "stderr",
     "output_type": "stream",
     "text": [
      "100%|██████████| 155/155 [00:46<00:00,  3.35it/s]\n",
      "100%|██████████| 67/67 [00:20<00:00,  3.20it/s]\n",
      "100%|██████████| 18/18 [00:05<00:00,  3.17it/s]\n"
     ]
    },
    {
     "name": "stdout",
     "output_type": "stream",
     "text": [
      "Train loss: 0.1094092599807247\n",
      "Train consistency loss: 0.0019792658459297867\n",
      "Validation loss: 0.2745862485220035\n",
      "1m 13s\n",
      "Early Stopping Counter = 9\n",
      "Epoch 261/300\n"
     ]
    },
    {
     "name": "stderr",
     "output_type": "stream",
     "text": [
      "100%|██████████| 155/155 [00:46<00:00,  3.35it/s]\n",
      "100%|██████████| 67/67 [00:20<00:00,  3.20it/s]\n",
      "100%|██████████| 18/18 [00:05<00:00,  3.37it/s]\n"
     ]
    },
    {
     "name": "stdout",
     "output_type": "stream",
     "text": [
      "Train loss: 0.10849611091036951\n",
      "Train consistency loss: 0.0019883621795061253\n",
      "Validation loss: 0.27168524182505077\n",
      "1m 13s\n",
      "Early Stopping Counter = 10\n",
      "Epoch 262/300\n"
     ]
    },
    {
     "name": "stderr",
     "output_type": "stream",
     "text": [
      "100%|██████████| 155/155 [00:46<00:00,  3.36it/s]\n",
      "100%|██████████| 67/67 [00:21<00:00,  3.16it/s]\n",
      "100%|██████████| 18/18 [00:05<00:00,  3.18it/s]\n"
     ]
    },
    {
     "name": "stdout",
     "output_type": "stream",
     "text": [
      "Train loss: 0.10781064490156789\n",
      "Train consistency loss: 0.0019016340878833808\n",
      "Validation loss: 0.269736554266678\n",
      "1m 13s\n",
      "Early Stopping Counter = 11\n",
      "Epoch 263/300\n"
     ]
    },
    {
     "name": "stderr",
     "output_type": "stream",
     "text": [
      "100%|██████████| 155/155 [00:46<00:00,  3.32it/s]\n",
      "100%|██████████| 67/67 [00:21<00:00,  3.17it/s]\n",
      "100%|██████████| 18/18 [00:05<00:00,  3.31it/s]\n"
     ]
    },
    {
     "name": "stdout",
     "output_type": "stream",
     "text": [
      "Train loss: 0.10752149839555064\n",
      "Train consistency loss: 0.0016988851651271333\n",
      "Validation loss: 0.2687378557812836\n",
      "1m 13s\n",
      "Consistency Loss declined to 0.0016988851651271333\n",
      "Early Stopping Counter = 0\n",
      "Epoch 264/300\n"
     ]
    },
    {
     "name": "stderr",
     "output_type": "stream",
     "text": [
      "100%|██████████| 155/155 [00:46<00:00,  3.34it/s]\n",
      "100%|██████████| 67/67 [00:21<00:00,  3.16it/s]\n",
      "100%|██████████| 18/18 [00:05<00:00,  3.29it/s]\n"
     ]
    },
    {
     "name": "stdout",
     "output_type": "stream",
     "text": [
      "Train loss: 0.10780153952298625\n",
      "Train consistency loss: 0.0018905040151231101\n",
      "Validation loss: 0.27223343774676323\n",
      "1m 13s\n",
      "Early Stopping Counter = 1\n",
      "Epoch 265/300\n"
     ]
    },
    {
     "name": "stderr",
     "output_type": "stream",
     "text": [
      "100%|██████████| 155/155 [00:46<00:00,  3.33it/s]\n",
      "100%|██████████| 67/67 [00:21<00:00,  3.17it/s]\n",
      "100%|██████████| 18/18 [00:05<00:00,  3.15it/s]\n"
     ]
    },
    {
     "name": "stdout",
     "output_type": "stream",
     "text": [
      "Train loss: 0.10714074344404283\n",
      "Train consistency loss: 0.0018719582403175978\n",
      "Validation loss: 0.2738231138015787\n",
      "1m 13s\n",
      "Early Stopping Counter = 2\n",
      "Epoch 266/300\n"
     ]
    },
    {
     "name": "stderr",
     "output_type": "stream",
     "text": [
      "100%|██████████| 155/155 [00:46<00:00,  3.31it/s]\n",
      "100%|██████████| 67/67 [00:20<00:00,  3.19it/s]\n",
      "100%|██████████| 18/18 [00:05<00:00,  3.27it/s]\n"
     ]
    },
    {
     "name": "stdout",
     "output_type": "stream",
     "text": [
      "Train loss: 0.10757882945960567\n",
      "Train consistency loss: 0.0019387220103752368\n",
      "Validation loss: 0.2751609130452077\n",
      "1m 13s\n",
      "Early Stopping Counter = 3\n",
      "Epoch 267/300\n"
     ]
    },
    {
     "name": "stderr",
     "output_type": "stream",
     "text": [
      "100%|██████████| 155/155 [00:46<00:00,  3.33it/s]\n",
      "100%|██████████| 67/67 [00:21<00:00,  3.18it/s]\n",
      "100%|██████████| 18/18 [00:05<00:00,  3.17it/s]\n"
     ]
    },
    {
     "name": "stdout",
     "output_type": "stream",
     "text": [
      "Train loss: 0.10783622293703017\n",
      "Train consistency loss: 0.0018544953816862248\n",
      "Validation loss: 0.27002966673009926\n",
      "1m 13s\n",
      "Early Stopping Counter = 4\n",
      "Epoch 268/300\n"
     ]
    },
    {
     "name": "stderr",
     "output_type": "stream",
     "text": [
      "100%|██████████| 155/155 [00:46<00:00,  3.34it/s]\n",
      "100%|██████████| 67/67 [00:20<00:00,  3.20it/s]\n",
      "100%|██████████| 18/18 [00:05<00:00,  3.28it/s]\n"
     ]
    },
    {
     "name": "stdout",
     "output_type": "stream",
     "text": [
      "Train loss: 0.10788884350369053\n",
      "Train consistency loss: 0.0019147503207117987\n",
      "Validation loss: 0.27829158595866627\n",
      "1m 13s\n",
      "Early Stopping Counter = 5\n",
      "Epoch 269/300\n"
     ]
    },
    {
     "name": "stderr",
     "output_type": "stream",
     "text": [
      "100%|██████████| 155/155 [00:46<00:00,  3.34it/s]\n",
      "100%|██████████| 67/67 [00:21<00:00,  3.18it/s]\n",
      "100%|██████████| 18/18 [00:05<00:00,  3.15it/s]\n"
     ]
    },
    {
     "name": "stdout",
     "output_type": "stream",
     "text": [
      "Train loss: 0.10760292737714706\n",
      "Train consistency loss: 0.0018832055876142721\n",
      "Validation loss: 0.27794384997751975\n",
      "1m 13s\n",
      "Early Stopping Counter = 6\n",
      "Epoch 270/300\n"
     ]
    },
    {
     "name": "stderr",
     "output_type": "stream",
     "text": [
      "100%|██████████| 155/155 [00:46<00:00,  3.33it/s]\n",
      "100%|██████████| 67/67 [00:21<00:00,  3.18it/s]\n",
      "100%|██████████| 18/18 [00:05<00:00,  3.25it/s]\n"
     ]
    },
    {
     "name": "stdout",
     "output_type": "stream",
     "text": [
      "Train loss: 0.10713363198503371\n",
      "Train consistency loss: 0.0017396453298878535\n",
      "Validation loss: 0.28103746391004986\n",
      "1m 13s\n",
      "Early Stopping Counter = 7\n",
      "Epoch 271/300\n"
     ]
    },
    {
     "name": "stderr",
     "output_type": "stream",
     "text": [
      "100%|██████████| 155/155 [00:46<00:00,  3.32it/s]\n",
      "100%|██████████| 67/67 [00:21<00:00,  3.16it/s]\n",
      "100%|██████████| 18/18 [00:05<00:00,  3.28it/s]\n"
     ]
    },
    {
     "name": "stdout",
     "output_type": "stream",
     "text": [
      "Train loss: 0.10727611756132495\n",
      "Train consistency loss: 0.0018620341277764694\n",
      "Validation loss: 0.2813851854039563\n",
      "1m 13s\n",
      "Early Stopping Counter = 8\n",
      "Epoch 272/300\n"
     ]
    },
    {
     "name": "stderr",
     "output_type": "stream",
     "text": [
      "100%|██████████| 155/155 [00:46<00:00,  3.33it/s]\n",
      "100%|██████████| 67/67 [00:20<00:00,  3.21it/s]\n",
      "100%|██████████| 18/18 [00:05<00:00,  3.22it/s]\n"
     ]
    },
    {
     "name": "stdout",
     "output_type": "stream",
     "text": [
      "Train loss: 0.1069215836063508\n",
      "Train consistency loss: 0.0020252372044374917\n",
      "Validation loss: 0.3004062548279762\n",
      "1m 13s\n",
      "Early Stopping Counter = 9\n",
      "Epoch 273/300\n"
     ]
    },
    {
     "name": "stderr",
     "output_type": "stream",
     "text": [
      "100%|██████████| 155/155 [00:46<00:00,  3.34it/s]\n",
      "100%|██████████| 67/67 [00:20<00:00,  3.22it/s]\n",
      "100%|██████████| 18/18 [00:05<00:00,  3.24it/s]\n"
     ]
    },
    {
     "name": "stdout",
     "output_type": "stream",
     "text": [
      "Train loss: 0.10775853640610172\n",
      "Train consistency loss: 0.001967025347359812\n",
      "Validation loss: 0.2738931156280968\n",
      "1m 13s\n",
      "Early Stopping Counter = 10\n",
      "Epoch 274/300\n"
     ]
    },
    {
     "name": "stderr",
     "output_type": "stream",
     "text": [
      "100%|██████████| 155/155 [00:46<00:00,  3.32it/s]\n",
      "100%|██████████| 67/67 [00:21<00:00,  3.17it/s]\n",
      "100%|██████████| 18/18 [00:05<00:00,  3.25it/s]\n"
     ]
    },
    {
     "name": "stdout",
     "output_type": "stream",
     "text": [
      "Train loss: 0.1063701129728748\n",
      "Train consistency loss: 0.0017643857094869295\n",
      "Validation loss: 0.27271275429262054\n",
      "1m 13s\n",
      "Early Stopping Counter = 11\n",
      "Epoch 275/300\n"
     ]
    },
    {
     "name": "stderr",
     "output_type": "stream",
     "text": [
      "100%|██████████| 155/155 [00:46<00:00,  3.31it/s]\n",
      "100%|██████████| 67/67 [00:21<00:00,  3.17it/s]\n",
      "100%|██████████| 18/18 [00:05<00:00,  3.24it/s]\n"
     ]
    },
    {
     "name": "stdout",
     "output_type": "stream",
     "text": [
      "Train loss: 0.10591512668517328\n",
      "Train consistency loss: 0.001607560085257821\n",
      "Validation loss: 0.28028542103452814\n",
      "1m 14s\n",
      "Consistency Loss declined to 0.001607560085257821\n",
      "Early Stopping Counter = 0\n",
      "Epoch 276/300\n"
     ]
    },
    {
     "name": "stderr",
     "output_type": "stream",
     "text": [
      "100%|██████████| 155/155 [00:46<00:00,  3.32it/s]\n",
      "100%|██████████| 67/67 [00:20<00:00,  3.22it/s]\n",
      "100%|██████████| 18/18 [00:05<00:00,  3.29it/s]\n"
     ]
    },
    {
     "name": "stdout",
     "output_type": "stream",
     "text": [
      "Train loss: 0.10601055727851007\n",
      "Train consistency loss: 0.0016334428019307331\n",
      "Validation loss: 0.2723596298860179\n",
      "1m 13s\n",
      "Early Stopping Counter = 1\n",
      "Epoch 277/300\n"
     ]
    },
    {
     "name": "stderr",
     "output_type": "stream",
     "text": [
      "100%|██████████| 155/155 [00:46<00:00,  3.34it/s]\n",
      "100%|██████████| 67/67 [00:20<00:00,  3.19it/s]\n",
      "100%|██████████| 18/18 [00:05<00:00,  3.27it/s]\n"
     ]
    },
    {
     "name": "stdout",
     "output_type": "stream",
     "text": [
      "Train loss: 0.10596257481844194\n",
      "Train consistency loss: 0.0018604522746459428\n",
      "Validation loss: 0.287714645680454\n",
      "1m 13s\n",
      "Early Stopping Counter = 2\n",
      "Epoch 278/300\n"
     ]
    },
    {
     "name": "stderr",
     "output_type": "stream",
     "text": [
      "100%|██████████| 155/155 [00:46<00:00,  3.35it/s]\n",
      "100%|██████████| 67/67 [00:20<00:00,  3.20it/s]\n",
      "100%|██████████| 18/18 [00:05<00:00,  3.29it/s]\n"
     ]
    },
    {
     "name": "stdout",
     "output_type": "stream",
     "text": [
      "Train loss: 0.10570833798377745\n",
      "Train consistency loss: 0.0021192263073371307\n",
      "Validation loss: 0.2797815405453245\n",
      "1m 13s\n",
      "Early Stopping Counter = 3\n",
      "Epoch 279/300\n"
     ]
    },
    {
     "name": "stderr",
     "output_type": "stream",
     "text": [
      "100%|██████████| 155/155 [00:46<00:00,  3.33it/s]\n",
      "100%|██████████| 67/67 [00:21<00:00,  3.18it/s]\n",
      "100%|██████████| 18/18 [00:05<00:00,  3.21it/s]\n"
     ]
    },
    {
     "name": "stdout",
     "output_type": "stream",
     "text": [
      "Train loss: 0.10614173450777607\n",
      "Train consistency loss: 0.0018987614442524847\n",
      "Validation loss: 0.2880118890768952\n",
      "1m 13s\n",
      "Early Stopping Counter = 4\n",
      "Epoch 280/300\n"
     ]
    },
    {
     "name": "stderr",
     "output_type": "stream",
     "text": [
      "100%|██████████| 155/155 [00:46<00:00,  3.32it/s]\n",
      "100%|██████████| 67/67 [00:20<00:00,  3.20it/s]\n",
      "100%|██████████| 18/18 [00:05<00:00,  3.31it/s]\n"
     ]
    },
    {
     "name": "stdout",
     "output_type": "stream",
     "text": [
      "Train loss: 0.107101657265617\n",
      "Train consistency loss: 0.0018223233950157552\n",
      "Validation loss: 0.27932026889175177\n",
      "1m 13s\n",
      "Early Stopping Counter = 5\n",
      "Epoch 281/300\n"
     ]
    },
    {
     "name": "stderr",
     "output_type": "stream",
     "text": [
      "100%|██████████| 155/155 [00:46<00:00,  3.33it/s]\n",
      "100%|██████████| 67/67 [00:21<00:00,  3.17it/s]\n",
      "100%|██████████| 18/18 [00:05<00:00,  3.26it/s]\n"
     ]
    },
    {
     "name": "stdout",
     "output_type": "stream",
     "text": [
      "Train loss: 0.10601245938770233\n",
      "Train consistency loss: 0.0016769285100067396\n",
      "Validation loss: 0.27988361318906146\n",
      "1m 13s\n",
      "Early Stopping Counter = 6\n",
      "Epoch 282/300\n"
     ]
    },
    {
     "name": "stderr",
     "output_type": "stream",
     "text": [
      "100%|██████████| 155/155 [00:46<00:00,  3.34it/s]\n",
      "100%|██████████| 67/67 [00:20<00:00,  3.21it/s]\n",
      "100%|██████████| 18/18 [00:05<00:00,  3.27it/s]\n"
     ]
    },
    {
     "name": "stdout",
     "output_type": "stream",
     "text": [
      "Train loss: 0.10536594491812491\n",
      "Train consistency loss: 0.0016232682470190547\n",
      "Validation loss: 0.2793901429201166\n",
      "1m 13s\n",
      "Early Stopping Counter = 7\n",
      "Epoch 283/300\n"
     ]
    },
    {
     "name": "stderr",
     "output_type": "stream",
     "text": [
      "100%|██████████| 155/155 [00:46<00:00,  3.35it/s]\n",
      "100%|██████████| 67/67 [00:21<00:00,  3.17it/s]\n",
      "100%|██████████| 18/18 [00:05<00:00,  3.30it/s]\n"
     ]
    },
    {
     "name": "stdout",
     "output_type": "stream",
     "text": [
      "Train loss: 0.10526279422544664\n",
      "Train consistency loss: 0.001547261204660884\n",
      "Validation loss: 0.2720878544367022\n",
      "1m 13s\n",
      "Consistency Loss declined to 0.001547261204660884\n",
      "Early Stopping Counter = 0\n",
      "Epoch 284/300\n"
     ]
    },
    {
     "name": "stderr",
     "output_type": "stream",
     "text": [
      "100%|██████████| 155/155 [00:46<00:00,  3.33it/s]\n",
      "100%|██████████| 67/67 [00:20<00:00,  3.22it/s]\n",
      "100%|██████████| 18/18 [00:05<00:00,  3.24it/s]\n"
     ]
    },
    {
     "name": "stdout",
     "output_type": "stream",
     "text": [
      "Train loss: 0.10487407354577895\n",
      "Train consistency loss: 0.001665243382023564\n",
      "Validation loss: 0.2804812677204609\n",
      "1m 13s\n",
      "Early Stopping Counter = 1\n",
      "Epoch 285/300\n"
     ]
    },
    {
     "name": "stderr",
     "output_type": "stream",
     "text": [
      "100%|██████████| 155/155 [00:46<00:00,  3.34it/s]\n",
      "100%|██████████| 67/67 [00:20<00:00,  3.22it/s]\n",
      "100%|██████████| 18/18 [00:05<00:00,  3.26it/s]\n"
     ]
    },
    {
     "name": "stdout",
     "output_type": "stream",
     "text": [
      "Train loss: 0.10436099695582543\n",
      "Train consistency loss: 0.0016033192479691066\n",
      "Validation loss: 0.27252066673503983\n",
      "1m 13s\n",
      "Early Stopping Counter = 2\n",
      "Epoch 286/300\n"
     ]
    },
    {
     "name": "stderr",
     "output_type": "stream",
     "text": [
      "100%|██████████| 155/155 [00:46<00:00,  3.33it/s]\n",
      "100%|██████████| 67/67 [00:20<00:00,  3.22it/s]\n",
      "100%|██████████| 18/18 [00:05<00:00,  3.36it/s]\n"
     ]
    },
    {
     "name": "stdout",
     "output_type": "stream",
     "text": [
      "Train loss: 0.10451416214627604\n",
      "Train consistency loss: 0.0016361065434792371\n",
      "Validation loss: 0.27339567419969374\n",
      "1m 13s\n",
      "Early Stopping Counter = 3\n",
      "Epoch 287/300\n"
     ]
    },
    {
     "name": "stderr",
     "output_type": "stream",
     "text": [
      "100%|██████████| 155/155 [00:46<00:00,  3.34it/s]\n",
      "100%|██████████| 67/67 [00:20<00:00,  3.22it/s]\n",
      "100%|██████████| 18/18 [00:05<00:00,  3.08it/s]\n"
     ]
    },
    {
     "name": "stdout",
     "output_type": "stream",
     "text": [
      "Train loss: 0.1045553520321846\n",
      "Train consistency loss: 0.0016781000964301847\n",
      "Validation loss: 0.28029396954096025\n",
      "1m 13s\n",
      "Early Stopping Counter = 4\n",
      "Epoch 288/300\n"
     ]
    },
    {
     "name": "stderr",
     "output_type": "stream",
     "text": [
      "100%|██████████| 155/155 [00:46<00:00,  3.35it/s]\n",
      "100%|██████████| 67/67 [00:20<00:00,  3.22it/s]\n",
      "100%|██████████| 18/18 [00:05<00:00,  3.29it/s]\n"
     ]
    },
    {
     "name": "stdout",
     "output_type": "stream",
     "text": [
      "Train loss: 0.10446850445962721\n",
      "Train consistency loss: 0.0016406734661657864\n",
      "Validation loss: 0.27608511182996964\n",
      "1m 13s\n",
      "Early Stopping Counter = 5\n",
      "Epoch 289/300\n"
     ]
    },
    {
     "name": "stderr",
     "output_type": "stream",
     "text": [
      "100%|██████████| 155/155 [00:46<00:00,  3.34it/s]\n",
      "100%|██████████| 67/67 [00:20<00:00,  3.21it/s]\n",
      "100%|██████████| 18/18 [00:05<00:00,  3.34it/s]\n"
     ]
    },
    {
     "name": "stdout",
     "output_type": "stream",
     "text": [
      "Train loss: 0.10440530911568673\n",
      "Train consistency loss: 0.0016182111341631346\n",
      "Validation loss: 0.27585375236554277\n",
      "1m 13s\n",
      "Early Stopping Counter = 6\n",
      "Epoch 290/300\n"
     ]
    },
    {
     "name": "stderr",
     "output_type": "stream",
     "text": [
      "100%|██████████| 155/155 [00:46<00:00,  3.34it/s]\n",
      "100%|██████████| 67/67 [00:20<00:00,  3.22it/s]\n",
      "100%|██████████| 18/18 [00:05<00:00,  3.29it/s]\n"
     ]
    },
    {
     "name": "stdout",
     "output_type": "stream",
     "text": [
      "Train loss: 0.10447028923419215\n",
      "Train consistency loss: 0.0015083372205454133\n",
      "Validation loss: 0.275834146887064\n",
      "1m 13s\n",
      "Consistency Loss declined to 0.0015083372205454133\n",
      "Early Stopping Counter = 0\n",
      "Epoch 291/300\n"
     ]
    },
    {
     "name": "stderr",
     "output_type": "stream",
     "text": [
      "100%|██████████| 155/155 [00:47<00:00,  3.30it/s]\n",
      "100%|██████████| 67/67 [00:20<00:00,  3.19it/s]\n",
      "100%|██████████| 18/18 [00:05<00:00,  3.30it/s]\n"
     ]
    },
    {
     "name": "stdout",
     "output_type": "stream",
     "text": [
      "Train loss: 0.10418809166839046\n",
      "Train consistency loss: 0.001514030027085109\n",
      "Validation loss: 0.27394160110917354\n",
      "1m 13s\n",
      "Early Stopping Counter = 1\n",
      "Epoch 292/300\n"
     ]
    },
    {
     "name": "stderr",
     "output_type": "stream",
     "text": [
      "100%|██████████| 155/155 [00:46<00:00,  3.34it/s]\n",
      "100%|██████████| 67/67 [00:20<00:00,  3.19it/s]\n",
      "100%|██████████| 18/18 [00:05<00:00,  3.30it/s]\n"
     ]
    },
    {
     "name": "stdout",
     "output_type": "stream",
     "text": [
      "Train loss: 0.10367302327386795\n",
      "Train consistency loss: 0.0016221794423146813\n",
      "Validation loss: 0.2761024758219719\n",
      "1m 13s\n",
      "Early Stopping Counter = 2\n",
      "Epoch 293/300\n"
     ]
    },
    {
     "name": "stderr",
     "output_type": "stream",
     "text": [
      "100%|██████████| 155/155 [00:46<00:00,  3.34it/s]\n",
      "100%|██████████| 67/67 [00:20<00:00,  3.21it/s]\n",
      "100%|██████████| 18/18 [00:05<00:00,  3.28it/s]\n"
     ]
    },
    {
     "name": "stdout",
     "output_type": "stream",
     "text": [
      "Train loss: 0.10332578425445864\n",
      "Train consistency loss: 0.0015835063167110976\n",
      "Validation loss: 0.2683868826263481\n",
      "1m 13s\n",
      "Early Stopping Counter = 3\n",
      "Epoch 294/300\n"
     ]
    },
    {
     "name": "stderr",
     "output_type": "stream",
     "text": [
      "100%|██████████| 155/155 [00:46<00:00,  3.34it/s]\n",
      "100%|██████████| 67/67 [00:20<00:00,  3.19it/s]\n",
      "100%|██████████| 18/18 [00:05<00:00,  3.27it/s]\n"
     ]
    },
    {
     "name": "stdout",
     "output_type": "stream",
     "text": [
      "Train loss: 0.10311861129537706\n",
      "Train consistency loss: 0.001540206629894118\n",
      "Validation loss: 0.2790190167725086\n",
      "1m 13s\n",
      "Early Stopping Counter = 4\n",
      "Epoch 295/300\n"
     ]
    },
    {
     "name": "stderr",
     "output_type": "stream",
     "text": [
      "100%|██████████| 155/155 [00:46<00:00,  3.33it/s]\n",
      "100%|██████████| 67/67 [00:20<00:00,  3.22it/s]\n",
      "100%|██████████| 18/18 [00:05<00:00,  3.22it/s]\n"
     ]
    },
    {
     "name": "stdout",
     "output_type": "stream",
     "text": [
      "Train loss: 0.10358743552238711\n",
      "Train consistency loss: 0.001566202702077189\n",
      "Validation loss: 0.27024017253683674\n",
      "1m 13s\n",
      "Early Stopping Counter = 5\n",
      "Epoch 296/300\n"
     ]
    },
    {
     "name": "stderr",
     "output_type": "stream",
     "text": [
      "100%|██████████| 155/155 [00:46<00:00,  3.34it/s]\n",
      "100%|██████████| 67/67 [00:21<00:00,  3.19it/s]\n",
      "100%|██████████| 18/18 [00:05<00:00,  3.29it/s]\n"
     ]
    },
    {
     "name": "stdout",
     "output_type": "stream",
     "text": [
      "Train loss: 0.10341700632725992\n",
      "Train consistency loss: 0.0016093196055448767\n",
      "Validation loss: 0.2861639177426696\n",
      "1m 13s\n",
      "Early Stopping Counter = 6\n",
      "Epoch 297/300\n"
     ]
    },
    {
     "name": "stderr",
     "output_type": "stream",
     "text": [
      "100%|██████████| 155/155 [00:46<00:00,  3.32it/s]\n",
      "100%|██████████| 67/67 [00:20<00:00,  3.20it/s]\n",
      "100%|██████████| 18/18 [00:05<00:00,  3.25it/s]\n"
     ]
    },
    {
     "name": "stdout",
     "output_type": "stream",
     "text": [
      "Train loss: 0.10349535783452372\n",
      "Train consistency loss: 0.007553095436731437\n",
      "Validation loss: 0.37197809914747876\n",
      "1m 13s\n",
      "Early Stopping Counter = 7\n",
      "Epoch 298/300\n"
     ]
    },
    {
     "name": "stderr",
     "output_type": "stream",
     "text": [
      "100%|██████████| 155/155 [00:46<00:00,  3.31it/s]\n",
      "100%|██████████| 67/67 [00:21<00:00,  3.17it/s]\n",
      "100%|██████████| 18/18 [00:05<00:00,  3.33it/s]\n"
     ]
    },
    {
     "name": "stdout",
     "output_type": "stream",
     "text": [
      "Train loss: 0.10814913520889897\n",
      "Train consistency loss: 0.0018725463731297807\n",
      "Validation loss: 0.2770957628058063\n",
      "1m 13s\n",
      "Early Stopping Counter = 8\n",
      "Epoch 299/300\n"
     ]
    },
    {
     "name": "stderr",
     "output_type": "stream",
     "text": [
      "100%|██████████| 155/155 [00:47<00:00,  3.29it/s]\n",
      "100%|██████████| 67/67 [00:21<00:00,  3.17it/s]\n",
      "100%|██████████| 18/18 [00:05<00:00,  3.25it/s]\n"
     ]
    },
    {
     "name": "stdout",
     "output_type": "stream",
     "text": [
      "Train loss: 0.10288060696855668\n",
      "Train consistency loss: 0.005484736357718262\n",
      "Validation loss: 0.3249389123585489\n",
      "1m 14s\n",
      "Early Stopping Counter = 9\n",
      "Epoch 300/300\n"
     ]
    },
    {
     "name": "stderr",
     "output_type": "stream",
     "text": [
      "100%|██████████| 155/155 [00:46<00:00,  3.32it/s]\n",
      "100%|██████████| 67/67 [00:21<00:00,  3.17it/s]\n",
      "100%|██████████| 18/18 [00:05<00:00,  3.24it/s]\n"
     ]
    },
    {
     "name": "stdout",
     "output_type": "stream",
     "text": [
      "Train loss: 0.10742868261952554\n",
      "Train consistency loss: 0.00366063209236669\n",
      "Validation loss: 0.29881030528081787\n",
      "1m 13s\n",
      "Early Stopping Counter = 10\n"
     ]
    },
    {
     "name": "stderr",
     "output_type": "stream",
     "text": [
      "100%|██████████| 16/16 [02:05<00:00,  7.82s/it]\n"
     ]
    },
    {
     "name": "stdout",
     "output_type": "stream",
     "text": [
      "F1-Score : 0.6515815258026123\n",
      "Accuracy : 0.9977169036865234\n",
      "Specificity : 0.9990978837013245\n",
      "Recall : 0.6268485188484192\n",
      "Precision : 0.7148025035858154\n"
     ]
    },
    {
     "name": "stderr",
     "output_type": "stream",
     "text": [
      " 99%|█████████▊| 67/68 [09:04<00:08,  8.12s/it]\n",
      "100%|██████████| 4292/4292 [01:49<00:00, 39.18it/s] \n"
     ]
    },
    {
     "name": "stdout",
     "output_type": "stream",
     "text": [
      "Epoch 1/300\n"
     ]
    },
    {
     "name": "stderr",
     "output_type": "stream",
     "text": [
      "100%|██████████| 155/155 [00:46<00:00,  3.33it/s]\n",
      "100%|██████████| 67/67 [00:21<00:00,  3.17it/s]\n",
      "100%|██████████| 18/18 [00:05<00:00,  3.33it/s]\n"
     ]
    },
    {
     "name": "stdout",
     "output_type": "stream",
     "text": [
      "Train loss: 0.3415538280240951\n",
      "Train consistency loss: 0.09813881148375682\n",
      "Validation loss: 0.4732990662256877\n",
      "1m 13s\n",
      "Consistency Loss declined to 0.09813881148375682\n",
      "Early Stopping Counter = 0\n",
      "Epoch 2/300\n"
     ]
    },
    {
     "name": "stderr",
     "output_type": "stream",
     "text": [
      "100%|██████████| 155/155 [00:46<00:00,  3.31it/s]\n",
      "100%|██████████| 67/67 [00:20<00:00,  3.21it/s]\n",
      "100%|██████████| 18/18 [00:05<00:00,  3.24it/s]\n"
     ]
    },
    {
     "name": "stdout",
     "output_type": "stream",
     "text": [
      "Train loss: 0.2848544560132488\n",
      "Train consistency loss: 0.08953803255042034\n",
      "Validation loss: 0.458573568198416\n",
      "1m 13s\n",
      "Consistency Loss declined to 0.08953803255042034\n",
      "Early Stopping Counter = 0\n",
      "Epoch 3/300\n"
     ]
    },
    {
     "name": "stderr",
     "output_type": "stream",
     "text": [
      "100%|██████████| 155/155 [00:46<00:00,  3.33it/s]\n",
      "100%|██████████| 67/67 [00:20<00:00,  3.22it/s]\n",
      "100%|██████████| 18/18 [00:05<00:00,  3.26it/s]\n"
     ]
    },
    {
     "name": "stdout",
     "output_type": "stream",
     "text": [
      "Train loss: 0.28068226229759957\n",
      "Train consistency loss: 0.09020508013999284\n",
      "Validation loss: 0.4465622521109051\n",
      "1m 13s\n",
      "Early Stopping Counter = 1\n",
      "Epoch 4/300\n"
     ]
    },
    {
     "name": "stderr",
     "output_type": "stream",
     "text": [
      "100%|██████████| 155/155 [00:46<00:00,  3.34it/s]\n",
      "100%|██████████| 67/67 [00:20<00:00,  3.20it/s]\n",
      "100%|██████████| 18/18 [00:05<00:00,  3.30it/s]\n"
     ]
    },
    {
     "name": "stdout",
     "output_type": "stream",
     "text": [
      "Train loss: 0.2777764949106401\n",
      "Train consistency loss: 0.08054775639034029\n",
      "Validation loss: 0.4483178671863344\n",
      "1m 13s\n",
      "Consistency Loss declined to 0.08054775639034029\n",
      "Early Stopping Counter = 0\n",
      "Epoch 5/300\n"
     ]
    },
    {
     "name": "stderr",
     "output_type": "stream",
     "text": [
      "100%|██████████| 155/155 [00:46<00:00,  3.34it/s]\n",
      "100%|██████████| 67/67 [00:20<00:00,  3.22it/s]\n",
      "100%|██████████| 18/18 [00:05<00:00,  3.34it/s]\n"
     ]
    },
    {
     "name": "stdout",
     "output_type": "stream",
     "text": [
      "Train loss: 0.2601410638901495\n",
      "Train consistency loss: 0.07290341566080477\n",
      "Validation loss: 0.4457255138291253\n",
      "1m 13s\n",
      "Consistency Loss declined to 0.07290341566080477\n",
      "Early Stopping Counter = 0\n",
      "Epoch 6/300\n"
     ]
    },
    {
     "name": "stderr",
     "output_type": "stream",
     "text": [
      "100%|██████████| 155/155 [00:46<00:00,  3.33it/s]\n",
      "100%|██████████| 67/67 [00:20<00:00,  3.21it/s]\n",
      "100%|██████████| 18/18 [00:05<00:00,  3.26it/s]\n"
     ]
    },
    {
     "name": "stdout",
     "output_type": "stream",
     "text": [
      "Train loss: 0.25637960780051444\n",
      "Train consistency loss: 0.0691665605044187\n",
      "Validation loss: 0.42732805179225075\n",
      "1m 13s\n",
      "Consistency Loss declined to 0.0691665605044187\n",
      "Early Stopping Counter = 0\n",
      "Epoch 7/300\n"
     ]
    },
    {
     "name": "stderr",
     "output_type": "stream",
     "text": [
      "100%|██████████| 155/155 [00:46<00:00,  3.33it/s]\n",
      "100%|██████████| 67/67 [00:20<00:00,  3.22it/s]\n",
      "100%|██████████| 18/18 [00:05<00:00,  3.22it/s]\n"
     ]
    },
    {
     "name": "stdout",
     "output_type": "stream",
     "text": [
      "Train loss: 0.24726484754393177\n",
      "Train consistency loss: 0.06648405969365319\n",
      "Validation loss: 0.43872342507044476\n",
      "1m 13s\n",
      "Consistency Loss declined to 0.06648405969365319\n",
      "Early Stopping Counter = 0\n",
      "Epoch 8/300\n"
     ]
    },
    {
     "name": "stderr",
     "output_type": "stream",
     "text": [
      "100%|██████████| 155/155 [00:46<00:00,  3.32it/s]\n",
      "100%|██████████| 67/67 [00:20<00:00,  3.21it/s]\n",
      "100%|██████████| 18/18 [00:05<00:00,  3.28it/s]\n"
     ]
    },
    {
     "name": "stdout",
     "output_type": "stream",
     "text": [
      "Train loss: 0.24790751414914286\n",
      "Train consistency loss: 0.06066065198227541\n",
      "Validation loss: 0.4116125934653812\n",
      "1m 13s\n",
      "Consistency Loss declined to 0.06066065198227541\n",
      "Early Stopping Counter = 0\n",
      "Epoch 9/300\n"
     ]
    },
    {
     "name": "stderr",
     "output_type": "stream",
     "text": [
      "100%|██████████| 155/155 [00:46<00:00,  3.33it/s]\n",
      "100%|██████████| 67/67 [00:20<00:00,  3.21it/s]\n",
      "100%|██████████| 18/18 [00:05<00:00,  3.27it/s]\n"
     ]
    },
    {
     "name": "stdout",
     "output_type": "stream",
     "text": [
      "Train loss: 0.23432036321009359\n",
      "Train consistency loss: 0.06204269264838589\n",
      "Validation loss: 0.44716790152920616\n",
      "1m 13s\n",
      "Early Stopping Counter = 1\n",
      "Epoch 10/300\n"
     ]
    },
    {
     "name": "stderr",
     "output_type": "stream",
     "text": [
      "100%|██████████| 155/155 [00:46<00:00,  3.35it/s]\n",
      "100%|██████████| 67/67 [00:21<00:00,  3.18it/s]\n",
      "100%|██████████| 18/18 [00:05<00:00,  3.28it/s]\n"
     ]
    },
    {
     "name": "stdout",
     "output_type": "stream",
     "text": [
      "Train loss: 0.23436011200950993\n",
      "Train consistency loss: 0.05644017952814031\n",
      "Validation loss: 0.3766451312435998\n",
      "1m 13s\n",
      "Consistency Loss declined to 0.05644017952814031\n",
      "Early Stopping Counter = 0\n",
      "Epoch 11/300\n"
     ]
    },
    {
     "name": "stderr",
     "output_type": "stream",
     "text": [
      "100%|██████████| 155/155 [00:46<00:00,  3.33it/s]\n",
      "100%|██████████| 67/67 [00:20<00:00,  3.22it/s]\n",
      "100%|██████████| 18/18 [00:05<00:00,  3.30it/s]\n"
     ]
    },
    {
     "name": "stdout",
     "output_type": "stream",
     "text": [
      "Train loss: 0.22994601736145634\n",
      "Train consistency loss: 0.055499954732941156\n",
      "Validation loss: 0.36216950085428024\n",
      "1m 13s\n",
      "Consistency Loss declined to 0.055499954732941156\n",
      "Early Stopping Counter = 0\n",
      "Epoch 12/300\n"
     ]
    },
    {
     "name": "stderr",
     "output_type": "stream",
     "text": [
      "100%|██████████| 155/155 [00:46<00:00,  3.33it/s]\n",
      "100%|██████████| 67/67 [00:20<00:00,  3.21it/s]\n",
      "100%|██████████| 18/18 [00:05<00:00,  3.25it/s]\n"
     ]
    },
    {
     "name": "stdout",
     "output_type": "stream",
     "text": [
      "Train loss: 0.22458007633686067\n",
      "Train consistency loss: 0.05465868643637913\n",
      "Validation loss: 0.3953811791208055\n",
      "1m 13s\n",
      "Consistency Loss declined to 0.05465868643637913\n",
      "Early Stopping Counter = 0\n",
      "Epoch 13/300\n"
     ]
    },
    {
     "name": "stderr",
     "output_type": "stream",
     "text": [
      "100%|██████████| 155/155 [00:46<00:00,  3.32it/s]\n",
      "100%|██████████| 67/67 [00:20<00:00,  3.22it/s]\n",
      "100%|██████████| 18/18 [00:05<00:00,  3.29it/s]\n"
     ]
    },
    {
     "name": "stdout",
     "output_type": "stream",
     "text": [
      "Train loss: 0.2233569150009463\n",
      "Train consistency loss: 0.04576110061424882\n",
      "Validation loss: 0.3490614319841067\n",
      "1m 13s\n",
      "Consistency Loss declined to 0.04576110061424882\n",
      "Early Stopping Counter = 0\n",
      "Epoch 14/300\n"
     ]
    },
    {
     "name": "stderr",
     "output_type": "stream",
     "text": [
      "100%|██████████| 155/155 [00:46<00:00,  3.31it/s]\n",
      "100%|██████████| 67/67 [00:20<00:00,  3.22it/s]\n",
      "100%|██████████| 18/18 [00:05<00:00,  3.34it/s]\n"
     ]
    },
    {
     "name": "stdout",
     "output_type": "stream",
     "text": [
      "Train loss: 0.21647235260855768\n",
      "Train consistency loss: 0.04235012601338216\n",
      "Validation loss: 0.36533592227432465\n",
      "1m 13s\n",
      "Consistency Loss declined to 0.04235012601338216\n",
      "Early Stopping Counter = 0\n",
      "Epoch 15/300\n"
     ]
    },
    {
     "name": "stderr",
     "output_type": "stream",
     "text": [
      "100%|██████████| 155/155 [00:46<00:00,  3.33it/s]\n",
      "100%|██████████| 67/67 [00:20<00:00,  3.22it/s]\n",
      "100%|██████████| 18/18 [00:05<00:00,  3.27it/s]\n"
     ]
    },
    {
     "name": "stdout",
     "output_type": "stream",
     "text": [
      "Train loss: 0.2147785549202273\n",
      "Train consistency loss: 0.04564413581210286\n",
      "Validation loss: 0.35105000436306\n",
      "1m 13s\n",
      "Early Stopping Counter = 1\n",
      "Epoch 16/300\n"
     ]
    },
    {
     "name": "stderr",
     "output_type": "stream",
     "text": [
      "100%|██████████| 155/155 [00:46<00:00,  3.34it/s]\n",
      "100%|██████████| 67/67 [00:21<00:00,  3.18it/s]\n",
      "100%|██████████| 18/18 [00:05<00:00,  3.26it/s]\n"
     ]
    },
    {
     "name": "stdout",
     "output_type": "stream",
     "text": [
      "Train loss: 0.21336227328546586\n",
      "Train consistency loss: 0.04596552149906977\n",
      "Validation loss: 0.37045955657958984\n",
      "1m 13s\n",
      "Early Stopping Counter = 2\n",
      "Epoch 17/300\n"
     ]
    },
    {
     "name": "stderr",
     "output_type": "stream",
     "text": [
      "100%|██████████| 155/155 [00:46<00:00,  3.34it/s]\n",
      "100%|██████████| 67/67 [00:20<00:00,  3.21it/s]\n",
      "100%|██████████| 18/18 [00:05<00:00,  3.28it/s]\n"
     ]
    },
    {
     "name": "stdout",
     "output_type": "stream",
     "text": [
      "Train loss: 0.21531088102248408\n",
      "Train consistency loss: 0.038274457066583986\n",
      "Validation loss: 0.3730987459421158\n",
      "1m 13s\n",
      "Consistency Loss declined to 0.038274457066583986\n",
      "Early Stopping Counter = 0\n",
      "Epoch 18/300\n"
     ]
    },
    {
     "name": "stderr",
     "output_type": "stream",
     "text": [
      "100%|██████████| 155/155 [00:46<00:00,  3.33it/s]\n",
      "100%|██████████| 67/67 [00:20<00:00,  3.21it/s]\n",
      "100%|██████████| 18/18 [00:05<00:00,  3.32it/s]\n"
     ]
    },
    {
     "name": "stdout",
     "output_type": "stream",
     "text": [
      "Train loss: 0.21118685199368384\n",
      "Train consistency loss: 0.03747805765371269\n",
      "Validation loss: 0.40871653540266883\n",
      "1m 13s\n",
      "Consistency Loss declined to 0.03747805765371269\n",
      "Early Stopping Counter = 0\n",
      "Epoch 19/300\n"
     ]
    },
    {
     "name": "stderr",
     "output_type": "stream",
     "text": [
      "100%|██████████| 155/155 [00:46<00:00,  3.32it/s]\n",
      "100%|██████████| 67/67 [00:20<00:00,  3.22it/s]\n",
      "100%|██████████| 18/18 [00:05<00:00,  3.23it/s]\n"
     ]
    },
    {
     "name": "stdout",
     "output_type": "stream",
     "text": [
      "Train loss: 0.21315206260450426\n",
      "Train consistency loss: 0.03754242751469363\n",
      "Validation loss: 0.3366079711251789\n",
      "1m 13s\n",
      "Early Stopping Counter = 1\n",
      "Epoch 20/300\n"
     ]
    },
    {
     "name": "stderr",
     "output_type": "stream",
     "text": [
      "100%|██████████| 155/155 [00:46<00:00,  3.35it/s]\n",
      "100%|██████████| 67/67 [00:21<00:00,  3.18it/s]\n",
      "100%|██████████| 18/18 [00:05<00:00,  3.27it/s]\n"
     ]
    },
    {
     "name": "stdout",
     "output_type": "stream",
     "text": [
      "Train loss: 0.2073317269163747\n",
      "Train consistency loss: 0.0423411262124332\n",
      "Validation loss: 0.35683034939898384\n",
      "1m 13s\n",
      "Early Stopping Counter = 2\n",
      "Epoch 21/300\n"
     ]
    },
    {
     "name": "stderr",
     "output_type": "stream",
     "text": [
      "100%|██████████| 155/155 [00:46<00:00,  3.34it/s]\n",
      "100%|██████████| 67/67 [00:20<00:00,  3.19it/s]\n",
      "100%|██████████| 18/18 [00:05<00:00,  3.27it/s]\n"
     ]
    },
    {
     "name": "stdout",
     "output_type": "stream",
     "text": [
      "Train loss: 0.21203407270293081\n",
      "Train consistency loss: 0.039852422119966195\n",
      "Validation loss: 0.3582436607943641\n",
      "1m 13s\n",
      "Early Stopping Counter = 3\n",
      "Epoch 22/300\n"
     ]
    },
    {
     "name": "stderr",
     "output_type": "stream",
     "text": [
      "100%|██████████| 155/155 [00:46<00:00,  3.33it/s]\n",
      "100%|██████████| 67/67 [00:20<00:00,  3.19it/s]\n",
      "100%|██████████| 18/18 [00:05<00:00,  3.29it/s]\n"
     ]
    },
    {
     "name": "stdout",
     "output_type": "stream",
     "text": [
      "Train loss: 0.20779172162855825\n",
      "Train consistency loss: 0.03381001711614541\n",
      "Validation loss: 0.34416403455866706\n",
      "1m 13s\n",
      "Consistency Loss declined to 0.03381001711614541\n",
      "Early Stopping Counter = 0\n",
      "Epoch 23/300\n"
     ]
    },
    {
     "name": "stderr",
     "output_type": "stream",
     "text": [
      "100%|██████████| 155/155 [00:46<00:00,  3.33it/s]\n",
      "100%|██████████| 67/67 [00:21<00:00,  3.19it/s]\n",
      "100%|██████████| 18/18 [00:05<00:00,  3.31it/s]\n"
     ]
    },
    {
     "name": "stdout",
     "output_type": "stream",
     "text": [
      "Train loss: 0.20425035299793368\n",
      "Train consistency loss: 0.03147616584910386\n",
      "Validation loss: 0.35153226057688397\n",
      "1m 13s\n",
      "Consistency Loss declined to 0.03147616584910386\n",
      "Early Stopping Counter = 0\n",
      "Epoch 24/300\n"
     ]
    },
    {
     "name": "stderr",
     "output_type": "stream",
     "text": [
      "100%|██████████| 155/155 [00:46<00:00,  3.34it/s]\n",
      "100%|██████████| 67/67 [00:20<00:00,  3.22it/s]\n",
      "100%|██████████| 18/18 [00:05<00:00,  3.27it/s]\n"
     ]
    },
    {
     "name": "stdout",
     "output_type": "stream",
     "text": [
      "Train loss: 0.20265608151112832\n",
      "Train consistency loss: 0.03393472215410934\n",
      "Validation loss: 0.36655618995428085\n",
      "1m 13s\n",
      "Early Stopping Counter = 1\n",
      "Epoch 25/300\n"
     ]
    },
    {
     "name": "stderr",
     "output_type": "stream",
     "text": [
      "100%|██████████| 155/155 [00:46<00:00,  3.35it/s]\n",
      "100%|██████████| 67/67 [00:20<00:00,  3.19it/s]\n",
      "100%|██████████| 18/18 [00:05<00:00,  3.39it/s]\n"
     ]
    },
    {
     "name": "stdout",
     "output_type": "stream",
     "text": [
      "Train loss: 0.2065605367383649\n",
      "Train consistency loss: 0.03376592370445159\n",
      "Validation loss: 0.37319854067431557\n",
      "1m 13s\n",
      "Early Stopping Counter = 2\n",
      "Epoch 26/300\n"
     ]
    },
    {
     "name": "stderr",
     "output_type": "stream",
     "text": [
      "100%|██████████| 155/155 [00:46<00:00,  3.34it/s]\n",
      "100%|██████████| 67/67 [00:20<00:00,  3.22it/s]\n",
      "100%|██████████| 18/18 [00:05<00:00,  3.28it/s]\n"
     ]
    },
    {
     "name": "stdout",
     "output_type": "stream",
     "text": [
      "Train loss: 0.19957456992518519\n",
      "Train consistency loss: 0.03586681259434615\n",
      "Validation loss: 0.35353199558125603\n",
      "1m 13s\n",
      "Early Stopping Counter = 3\n",
      "Epoch 27/300\n"
     ]
    },
    {
     "name": "stderr",
     "output_type": "stream",
     "text": [
      "100%|██████████| 155/155 [00:46<00:00,  3.36it/s]\n",
      "100%|██████████| 67/67 [00:21<00:00,  3.19it/s]\n",
      "100%|██████████| 18/18 [00:05<00:00,  3.28it/s]\n"
     ]
    },
    {
     "name": "stdout",
     "output_type": "stream",
     "text": [
      "Train loss: 0.20609398128524903\n",
      "Train consistency loss: 0.030564717309021237\n",
      "Validation loss: 0.34278518375423217\n",
      "1m 13s\n",
      "Consistency Loss declined to 0.030564717309021237\n",
      "Early Stopping Counter = 0\n",
      "Epoch 28/300\n"
     ]
    },
    {
     "name": "stderr",
     "output_type": "stream",
     "text": [
      "100%|██████████| 155/155 [00:46<00:00,  3.34it/s]\n",
      "100%|██████████| 67/67 [00:20<00:00,  3.22it/s]\n",
      "100%|██████████| 18/18 [00:05<00:00,  3.30it/s]\n"
     ]
    },
    {
     "name": "stdout",
     "output_type": "stream",
     "text": [
      "Train loss: 0.19952753205453197\n",
      "Train consistency loss: 0.030922252267821512\n",
      "Validation loss: 0.3170071426365111\n",
      "1m 13s\n",
      "Early Stopping Counter = 1\n",
      "Epoch 29/300\n"
     ]
    },
    {
     "name": "stderr",
     "output_type": "stream",
     "text": [
      "100%|██████████| 155/155 [00:46<00:00,  3.34it/s]\n",
      "100%|██████████| 67/67 [00:20<00:00,  3.23it/s]\n",
      "100%|██████████| 18/18 [00:05<00:00,  3.24it/s]\n"
     ]
    },
    {
     "name": "stdout",
     "output_type": "stream",
     "text": [
      "Train loss: 0.19674235217032893\n",
      "Train consistency loss: 0.03246884004894032\n",
      "Validation loss: 0.3364352567328347\n",
      "1m 13s\n",
      "Early Stopping Counter = 2\n",
      "Epoch 30/300\n"
     ]
    },
    {
     "name": "stderr",
     "output_type": "stream",
     "text": [
      "100%|██████████| 155/155 [00:46<00:00,  3.34it/s]\n",
      "100%|██████████| 67/67 [00:20<00:00,  3.22it/s]\n",
      "100%|██████████| 18/18 [00:05<00:00,  3.25it/s]\n"
     ]
    },
    {
     "name": "stdout",
     "output_type": "stream",
     "text": [
      "Train loss: 0.19689799306854125\n",
      "Train consistency loss: 0.026117723852173605\n",
      "Validation loss: 0.3380592266718547\n",
      "1m 13s\n",
      "Consistency Loss declined to 0.026117723852173605\n",
      "Early Stopping Counter = 0\n",
      "Epoch 31/300\n"
     ]
    },
    {
     "name": "stderr",
     "output_type": "stream",
     "text": [
      "100%|██████████| 155/155 [00:46<00:00,  3.32it/s]\n",
      "100%|██████████| 67/67 [00:20<00:00,  3.23it/s]\n",
      "100%|██████████| 18/18 [00:05<00:00,  3.27it/s]\n"
     ]
    },
    {
     "name": "stdout",
     "output_type": "stream",
     "text": [
      "Train loss: 0.19436604620948914\n",
      "Train consistency loss: 0.02733740886089517\n",
      "Validation loss: 0.32210709982448155\n",
      "1m 13s\n",
      "Early Stopping Counter = 1\n",
      "Epoch 32/300\n"
     ]
    },
    {
     "name": "stderr",
     "output_type": "stream",
     "text": [
      "100%|██████████| 155/155 [00:46<00:00,  3.34it/s]\n",
      "100%|██████████| 67/67 [00:20<00:00,  3.19it/s]\n",
      "100%|██████████| 18/18 [00:05<00:00,  3.32it/s]\n"
     ]
    },
    {
     "name": "stdout",
     "output_type": "stream",
     "text": [
      "Train loss: 0.19425346361052606\n",
      "Train consistency loss: 0.03247922285001224\n",
      "Validation loss: 0.3796796095040109\n",
      "1m 13s\n",
      "Early Stopping Counter = 2\n",
      "Epoch 33/300\n"
     ]
    },
    {
     "name": "stderr",
     "output_type": "stream",
     "text": [
      "100%|██████████| 155/155 [00:46<00:00,  3.35it/s]\n",
      "100%|██████████| 67/67 [00:20<00:00,  3.22it/s]\n",
      "100%|██████████| 18/18 [00:05<00:00,  3.36it/s]\n"
     ]
    },
    {
     "name": "stdout",
     "output_type": "stream",
     "text": [
      "Train loss: 0.19627950085747625\n",
      "Train consistency loss: 0.027671852746783798\n",
      "Validation loss: 0.3122737043433719\n",
      "1m 12s\n",
      "Early Stopping Counter = 3\n",
      "Epoch 34/300\n"
     ]
    },
    {
     "name": "stderr",
     "output_type": "stream",
     "text": [
      "100%|██████████| 155/155 [00:46<00:00,  3.35it/s]\n",
      "100%|██████████| 67/67 [00:21<00:00,  3.17it/s]\n",
      "100%|██████████| 18/18 [00:05<00:00,  3.25it/s]\n"
     ]
    },
    {
     "name": "stdout",
     "output_type": "stream",
     "text": [
      "Train loss: 0.19365453498978769\n",
      "Train consistency loss: 0.026896803473025116\n",
      "Validation loss: 0.2977948420577579\n",
      "1m 13s\n",
      "Early Stopping Counter = 4\n",
      "Epoch 35/300\n"
     ]
    },
    {
     "name": "stderr",
     "output_type": "stream",
     "text": [
      "100%|██████████| 155/155 [00:46<00:00,  3.33it/s]\n",
      "100%|██████████| 67/67 [00:21<00:00,  3.18it/s]\n",
      "100%|██████████| 18/18 [00:05<00:00,  3.29it/s]\n"
     ]
    },
    {
     "name": "stdout",
     "output_type": "stream",
     "text": [
      "Train loss: 0.19149797433807003\n",
      "Train consistency loss: 0.027015207071246494\n",
      "Validation loss: 0.3689687169260449\n",
      "1m 13s\n",
      "Early Stopping Counter = 5\n",
      "Epoch 36/300\n"
     ]
    },
    {
     "name": "stderr",
     "output_type": "stream",
     "text": [
      "100%|██████████| 155/155 [00:46<00:00,  3.35it/s]\n",
      "100%|██████████| 67/67 [00:21<00:00,  3.19it/s]\n",
      "100%|██████████| 18/18 [00:05<00:00,  3.27it/s]\n"
     ]
    },
    {
     "name": "stdout",
     "output_type": "stream",
     "text": [
      "Train loss: 0.19610896668126507\n",
      "Train consistency loss: 0.026197130666739905\n",
      "Validation loss: 0.30827486018339795\n",
      "1m 13s\n",
      "Early Stopping Counter = 6\n",
      "Epoch 37/300\n"
     ]
    },
    {
     "name": "stderr",
     "output_type": "stream",
     "text": [
      "100%|██████████| 155/155 [00:46<00:00,  3.34it/s]\n",
      "100%|██████████| 67/67 [00:20<00:00,  3.22it/s]\n",
      "100%|██████████| 18/18 [00:05<00:00,  3.32it/s]\n"
     ]
    },
    {
     "name": "stdout",
     "output_type": "stream",
     "text": [
      "Train loss: 0.19165628610118743\n",
      "Train consistency loss: 0.024882620158813783\n",
      "Validation loss: 0.3303312336405118\n",
      "1m 13s\n",
      "Consistency Loss declined to 0.024882620158813783\n",
      "Early Stopping Counter = 0\n",
      "Epoch 38/300\n"
     ]
    },
    {
     "name": "stderr",
     "output_type": "stream",
     "text": [
      "100%|██████████| 155/155 [00:46<00:00,  3.33it/s]\n",
      "100%|██████████| 67/67 [00:20<00:00,  3.22it/s]\n",
      "100%|██████████| 18/18 [00:05<00:00,  3.34it/s]\n"
     ]
    },
    {
     "name": "stdout",
     "output_type": "stream",
     "text": [
      "Train loss: 0.19232506732786855\n",
      "Train consistency loss: 0.026075293421189288\n",
      "Validation loss: 0.311990387737751\n",
      "1m 13s\n",
      "Early Stopping Counter = 1\n",
      "Epoch 39/300\n"
     ]
    },
    {
     "name": "stderr",
     "output_type": "stream",
     "text": [
      "100%|██████████| 155/155 [00:46<00:00,  3.35it/s]\n",
      "100%|██████████| 67/67 [00:21<00:00,  3.19it/s]\n",
      "100%|██████████| 18/18 [00:05<00:00,  3.28it/s]\n"
     ]
    },
    {
     "name": "stdout",
     "output_type": "stream",
     "text": [
      "Train loss: 0.19135210917842005\n",
      "Train consistency loss: 0.025559715356733372\n",
      "Validation loss: 0.3055613976385858\n",
      "1m 13s\n",
      "Early Stopping Counter = 2\n",
      "Epoch 40/300\n"
     ]
    },
    {
     "name": "stderr",
     "output_type": "stream",
     "text": [
      "100%|██████████| 155/155 [00:46<00:00,  3.35it/s]\n",
      "100%|██████████| 67/67 [00:20<00:00,  3.20it/s]\n",
      "100%|██████████| 18/18 [00:05<00:00,  3.33it/s]\n"
     ]
    },
    {
     "name": "stdout",
     "output_type": "stream",
     "text": [
      "Train loss: 0.19021492485077152\n",
      "Train consistency loss: 0.02345729762438073\n",
      "Validation loss: 0.2977030782235993\n",
      "1m 13s\n",
      "Consistency Loss declined to 0.02345729762438073\n",
      "Early Stopping Counter = 0\n",
      "Epoch 41/300\n"
     ]
    },
    {
     "name": "stderr",
     "output_type": "stream",
     "text": [
      "100%|██████████| 155/155 [00:46<00:00,  3.34it/s]\n",
      "100%|██████████| 67/67 [00:20<00:00,  3.23it/s]\n",
      "100%|██████████| 18/18 [00:05<00:00,  3.25it/s]\n"
     ]
    },
    {
     "name": "stdout",
     "output_type": "stream",
     "text": [
      "Train loss: 0.191901885309527\n",
      "Train consistency loss: 0.022629642400390178\n",
      "Validation loss: 0.3106111122502221\n",
      "1m 13s\n",
      "Consistency Loss declined to 0.022629642400390178\n",
      "Early Stopping Counter = 0\n",
      "Epoch 42/300\n"
     ]
    },
    {
     "name": "stderr",
     "output_type": "stream",
     "text": [
      "100%|██████████| 155/155 [00:46<00:00,  3.33it/s]\n",
      "100%|██████████| 67/67 [00:20<00:00,  3.22it/s]\n",
      "100%|██████████| 18/18 [00:05<00:00,  3.28it/s]\n"
     ]
    },
    {
     "name": "stdout",
     "output_type": "stream",
     "text": [
      "Train loss: 0.1892305656786888\n",
      "Train consistency loss: 0.021959940388576307\n",
      "Validation loss: 0.3231041472819116\n",
      "1m 13s\n",
      "Consistency Loss declined to 0.021959940388576307\n",
      "Early Stopping Counter = 0\n",
      "Epoch 43/300\n"
     ]
    },
    {
     "name": "stderr",
     "output_type": "stream",
     "text": [
      "100%|██████████| 155/155 [00:46<00:00,  3.32it/s]\n",
      "100%|██████████| 67/67 [00:20<00:00,  3.21it/s]\n",
      "100%|██████████| 18/18 [00:05<00:00,  3.25it/s]\n"
     ]
    },
    {
     "name": "stdout",
     "output_type": "stream",
     "text": [
      "Train loss: 0.18766126257757987\n",
      "Train consistency loss: 0.023421962495281626\n",
      "Validation loss: 0.3371053487062454\n",
      "1m 13s\n",
      "Early Stopping Counter = 1\n",
      "Epoch 44/300\n"
     ]
    },
    {
     "name": "stderr",
     "output_type": "stream",
     "text": [
      "100%|██████████| 155/155 [00:46<00:00,  3.33it/s]\n",
      "100%|██████████| 67/67 [00:21<00:00,  3.19it/s]\n",
      "100%|██████████| 18/18 [00:05<00:00,  3.27it/s]\n"
     ]
    },
    {
     "name": "stdout",
     "output_type": "stream",
     "text": [
      "Train loss: 0.1880205427446673\n",
      "Train consistency loss: 0.021457775676650786\n",
      "Validation loss: 0.303538146118323\n",
      "1m 13s\n",
      "Consistency Loss declined to 0.021457775676650786\n",
      "Early Stopping Counter = 0\n",
      "Epoch 45/300\n"
     ]
    },
    {
     "name": "stderr",
     "output_type": "stream",
     "text": [
      "100%|██████████| 155/155 [00:46<00:00,  3.34it/s]\n",
      "100%|██████████| 67/67 [00:20<00:00,  3.23it/s]\n",
      "100%|██████████| 18/18 [00:05<00:00,  3.24it/s]\n"
     ]
    },
    {
     "name": "stdout",
     "output_type": "stream",
     "text": [
      "Train loss: 0.18693098954616055\n",
      "Train consistency loss: 0.020829359792284112\n",
      "Validation loss: 0.3444564814368884\n",
      "1m 13s\n",
      "Consistency Loss declined to 0.020829359792284112\n",
      "Early Stopping Counter = 0\n",
      "Epoch 46/300\n"
     ]
    },
    {
     "name": "stderr",
     "output_type": "stream",
     "text": [
      "100%|██████████| 155/155 [00:46<00:00,  3.31it/s]\n",
      "100%|██████████| 67/67 [00:20<00:00,  3.22it/s]\n",
      "100%|██████████| 18/18 [00:05<00:00,  3.27it/s]\n"
     ]
    },
    {
     "name": "stdout",
     "output_type": "stream",
     "text": [
      "Train loss: 0.1866528352422099\n",
      "Train consistency loss: 0.01974480521323076\n",
      "Validation loss: 0.3012153291039997\n",
      "1m 13s\n",
      "Consistency Loss declined to 0.01974480521323076\n",
      "Early Stopping Counter = 0\n",
      "Epoch 47/300\n"
     ]
    },
    {
     "name": "stderr",
     "output_type": "stream",
     "text": [
      "100%|██████████| 155/155 [00:46<00:00,  3.33it/s]\n",
      "100%|██████████| 67/67 [00:20<00:00,  3.22it/s]\n",
      "100%|██████████| 18/18 [00:05<00:00,  3.27it/s]\n"
     ]
    },
    {
     "name": "stdout",
     "output_type": "stream",
     "text": [
      "Train loss: 0.18727070775724228\n",
      "Train consistency loss: 0.022712526884652785\n",
      "Validation loss: 0.3183090057637956\n",
      "1m 13s\n",
      "Early Stopping Counter = 1\n",
      "Epoch 48/300\n"
     ]
    },
    {
     "name": "stderr",
     "output_type": "stream",
     "text": [
      "100%|██████████| 155/155 [00:46<00:00,  3.34it/s]\n",
      "100%|██████████| 67/67 [00:21<00:00,  3.19it/s]\n",
      "100%|██████████| 18/18 [00:05<00:00,  3.25it/s]\n"
     ]
    },
    {
     "name": "stdout",
     "output_type": "stream",
     "text": [
      "Train loss: 0.18722395752706836\n",
      "Train consistency loss: 0.021337534022976213\n",
      "Validation loss: 0.30012689365281\n",
      "1m 13s\n",
      "Early Stopping Counter = 2\n",
      "Epoch 49/300\n"
     ]
    },
    {
     "name": "stderr",
     "output_type": "stream",
     "text": [
      "100%|██████████| 155/155 [00:46<00:00,  3.34it/s]\n",
      "100%|██████████| 67/67 [00:20<00:00,  3.19it/s]\n",
      "100%|██████████| 18/18 [00:05<00:00,  3.28it/s]\n"
     ]
    },
    {
     "name": "stdout",
     "output_type": "stream",
     "text": [
      "Train loss: 0.18666554804771177\n",
      "Train consistency loss: 0.019551457600918278\n",
      "Validation loss: 0.33917229291465545\n",
      "1m 13s\n",
      "Consistency Loss declined to 0.019551457600918278\n",
      "Early Stopping Counter = 0\n",
      "Epoch 50/300\n"
     ]
    },
    {
     "name": "stderr",
     "output_type": "stream",
     "text": [
      "100%|██████████| 155/155 [00:46<00:00,  3.34it/s]\n",
      "100%|██████████| 67/67 [00:20<00:00,  3.20it/s]\n",
      "100%|██████████| 18/18 [00:05<00:00,  3.17it/s]\n"
     ]
    },
    {
     "name": "stdout",
     "output_type": "stream",
     "text": [
      "Train loss: 0.18563859337760555\n",
      "Train consistency loss: 0.01824114858103332\n",
      "Validation loss: 0.3029654348889987\n",
      "1m 13s\n",
      "Consistency Loss declined to 0.01824114858103332\n",
      "Early Stopping Counter = 0\n",
      "Epoch 51/300\n"
     ]
    },
    {
     "name": "stderr",
     "output_type": "stream",
     "text": [
      "100%|██████████| 155/155 [00:46<00:00,  3.33it/s]\n",
      "100%|██████████| 67/67 [00:20<00:00,  3.19it/s]\n",
      "100%|██████████| 18/18 [00:05<00:00,  3.28it/s]\n"
     ]
    },
    {
     "name": "stdout",
     "output_type": "stream",
     "text": [
      "Train loss: 0.18349434416140278\n",
      "Train consistency loss: 0.021096656237965198\n",
      "Validation loss: 0.305035059650739\n",
      "1m 13s\n",
      "Early Stopping Counter = 1\n",
      "Epoch 52/300\n"
     ]
    },
    {
     "name": "stderr",
     "output_type": "stream",
     "text": [
      "100%|██████████| 155/155 [00:46<00:00,  3.33it/s]\n",
      "100%|██████████| 67/67 [00:21<00:00,  3.18it/s]\n",
      "100%|██████████| 18/18 [00:05<00:00,  3.35it/s]\n"
     ]
    },
    {
     "name": "stdout",
     "output_type": "stream",
     "text": [
      "Train loss: 0.18567842466215934\n",
      "Train consistency loss: 0.019360888721560363\n",
      "Validation loss: 0.32346214685175156\n",
      "1m 13s\n",
      "Early Stopping Counter = 2\n",
      "Epoch 53/300\n"
     ]
    },
    {
     "name": "stderr",
     "output_type": "stream",
     "text": [
      "100%|██████████| 155/155 [00:46<00:00,  3.35it/s]\n",
      "100%|██████████| 67/67 [00:20<00:00,  3.20it/s]\n",
      "100%|██████████| 18/18 [00:05<00:00,  3.30it/s]\n"
     ]
    },
    {
     "name": "stdout",
     "output_type": "stream",
     "text": [
      "Train loss: 0.18696557735243152\n",
      "Train consistency loss: 0.020220517305963075\n",
      "Validation loss: 0.31117911057339775\n",
      "1m 13s\n",
      "Early Stopping Counter = 3\n",
      "Epoch 54/300\n"
     ]
    },
    {
     "name": "stderr",
     "output_type": "stream",
     "text": [
      "100%|██████████| 155/155 [00:46<00:00,  3.32it/s]\n",
      "100%|██████████| 67/67 [00:21<00:00,  3.19it/s]\n",
      "100%|██████████| 18/18 [00:05<00:00,  3.21it/s]\n"
     ]
    },
    {
     "name": "stdout",
     "output_type": "stream",
     "text": [
      "Train loss: 0.18319347183550558\n",
      "Train consistency loss: 0.0208146623266277\n",
      "Validation loss: 0.30758993410401875\n",
      "1m 13s\n",
      "Early Stopping Counter = 4\n",
      "Epoch 55/300\n"
     ]
    },
    {
     "name": "stderr",
     "output_type": "stream",
     "text": [
      "100%|██████████| 155/155 [00:46<00:00,  3.32it/s]\n",
      "100%|██████████| 67/67 [00:20<00:00,  3.23it/s]\n",
      "100%|██████████| 18/18 [00:05<00:00,  3.27it/s]\n"
     ]
    },
    {
     "name": "stdout",
     "output_type": "stream",
     "text": [
      "Train loss: 0.18360915703158226\n",
      "Train consistency loss: 0.02055320238221937\n",
      "Validation loss: 0.3172207474708557\n",
      "1m 13s\n",
      "Early Stopping Counter = 5\n",
      "Epoch 56/300\n"
     ]
    },
    {
     "name": "stderr",
     "output_type": "stream",
     "text": [
      "100%|██████████| 155/155 [00:46<00:00,  3.32it/s]\n",
      "100%|██████████| 67/67 [00:20<00:00,  3.20it/s]\n",
      "100%|██████████| 18/18 [00:05<00:00,  3.34it/s]\n"
     ]
    },
    {
     "name": "stdout",
     "output_type": "stream",
     "text": [
      "Train loss: 0.18394529781033916\n",
      "Train consistency loss: 0.020212135277688503\n",
      "Validation loss: 0.31940583056873745\n",
      "1m 13s\n",
      "Early Stopping Counter = 6\n",
      "Epoch 57/300\n"
     ]
    },
    {
     "name": "stderr",
     "output_type": "stream",
     "text": [
      "100%|██████████| 155/155 [00:46<00:00,  3.35it/s]\n",
      "100%|██████████| 67/67 [00:20<00:00,  3.23it/s]\n",
      "100%|██████████| 18/18 [00:05<00:00,  3.26it/s]\n"
     ]
    },
    {
     "name": "stdout",
     "output_type": "stream",
     "text": [
      "Train loss: 0.18219319937690612\n",
      "Train consistency loss: 0.01791831934407576\n",
      "Validation loss: 0.40265993773937225\n",
      "1m 13s\n",
      "Consistency Loss declined to 0.01791831934407576\n",
      "Early Stopping Counter = 0\n",
      "Epoch 58/300\n"
     ]
    },
    {
     "name": "stderr",
     "output_type": "stream",
     "text": [
      "100%|██████████| 155/155 [00:46<00:00,  3.34it/s]\n",
      "100%|██████████| 67/67 [00:20<00:00,  3.22it/s]\n",
      "100%|██████████| 18/18 [00:05<00:00,  3.25it/s]\n"
     ]
    },
    {
     "name": "stdout",
     "output_type": "stream",
     "text": [
      "Train loss: 0.1816074735695316\n",
      "Train consistency loss: 0.01773112712761582\n",
      "Validation loss: 0.3192047187023693\n",
      "1m 13s\n",
      "Consistency Loss declined to 0.01773112712761582\n",
      "Early Stopping Counter = 0\n",
      "Epoch 59/300\n"
     ]
    },
    {
     "name": "stderr",
     "output_type": "stream",
     "text": [
      "100%|██████████| 155/155 [00:46<00:00,  3.34it/s]\n",
      "100%|██████████| 67/67 [00:20<00:00,  3.22it/s]\n",
      "100%|██████████| 18/18 [00:05<00:00,  3.27it/s]\n"
     ]
    },
    {
     "name": "stdout",
     "output_type": "stream",
     "text": [
      "Train loss: 0.18230485358545856\n",
      "Train consistency loss: 0.01701100470859613\n",
      "Validation loss: 0.314933513601621\n",
      "1m 13s\n",
      "Consistency Loss declined to 0.01701100470859613\n",
      "Early Stopping Counter = 0\n",
      "Epoch 60/300\n"
     ]
    },
    {
     "name": "stderr",
     "output_type": "stream",
     "text": [
      "100%|██████████| 155/155 [00:46<00:00,  3.33it/s]\n",
      "100%|██████████| 67/67 [00:20<00:00,  3.23it/s]\n",
      "100%|██████████| 18/18 [00:05<00:00,  3.05it/s]\n"
     ]
    },
    {
     "name": "stdout",
     "output_type": "stream",
     "text": [
      "Train loss: 0.18054341116259176\n",
      "Train consistency loss: 0.019286462411618056\n",
      "Validation loss: 0.3129740266336335\n",
      "1m 13s\n",
      "Early Stopping Counter = 1\n",
      "Epoch 61/300\n"
     ]
    },
    {
     "name": "stderr",
     "output_type": "stream",
     "text": [
      "100%|██████████| 155/155 [00:46<00:00,  3.35it/s]\n",
      "100%|██████████| 67/67 [00:21<00:00,  3.19it/s]\n",
      "100%|██████████| 18/18 [00:05<00:00,  3.28it/s]\n"
     ]
    },
    {
     "name": "stdout",
     "output_type": "stream",
     "text": [
      "Train loss: 0.18132953345775604\n",
      "Train consistency loss: 0.017795098180979935\n",
      "Validation loss: 0.3148154889543851\n",
      "1m 13s\n",
      "Early Stopping Counter = 2\n",
      "Epoch 62/300\n"
     ]
    },
    {
     "name": "stderr",
     "output_type": "stream",
     "text": [
      "100%|██████████| 155/155 [00:46<00:00,  3.35it/s]\n",
      "100%|██████████| 67/67 [00:20<00:00,  3.20it/s]\n",
      "100%|██████████| 18/18 [00:05<00:00,  3.28it/s]\n"
     ]
    },
    {
     "name": "stdout",
     "output_type": "stream",
     "text": [
      "Train loss: 0.18031833027639696\n",
      "Train consistency loss: 0.016909276357671216\n",
      "Validation loss: 0.31437501725223327\n",
      "1m 13s\n",
      "Consistency Loss declined to 0.016909276357671216\n",
      "Early Stopping Counter = 0\n",
      "Epoch 63/300\n"
     ]
    },
    {
     "name": "stderr",
     "output_type": "stream",
     "text": [
      "100%|██████████| 155/155 [00:46<00:00,  3.34it/s]\n",
      "100%|██████████| 67/67 [00:20<00:00,  3.20it/s]\n",
      "100%|██████████| 18/18 [00:05<00:00,  3.25it/s]\n"
     ]
    },
    {
     "name": "stdout",
     "output_type": "stream",
     "text": [
      "Train loss: 0.1795475757891132\n",
      "Train consistency loss: 0.01691028917097111\n",
      "Validation loss: 0.3228967421584659\n",
      "1m 13s\n",
      "Early Stopping Counter = 1\n",
      "Epoch 64/300\n"
     ]
    },
    {
     "name": "stderr",
     "output_type": "stream",
     "text": [
      "100%|██████████| 155/155 [00:46<00:00,  3.35it/s]\n",
      "100%|██████████| 67/67 [00:20<00:00,  3.22it/s]\n",
      "100%|██████████| 18/18 [00:05<00:00,  3.26it/s]\n"
     ]
    },
    {
     "name": "stdout",
     "output_type": "stream",
     "text": [
      "Train loss: 0.17940618953397197\n",
      "Train consistency loss: 0.01765187507245078\n",
      "Validation loss: 0.3180709497796165\n",
      "1m 13s\n",
      "Early Stopping Counter = 2\n",
      "Epoch 65/300\n"
     ]
    },
    {
     "name": "stderr",
     "output_type": "stream",
     "text": [
      "100%|██████████| 155/155 [00:46<00:00,  3.34it/s]\n",
      "100%|██████████| 67/67 [00:20<00:00,  3.19it/s]\n",
      "100%|██████████| 18/18 [00:05<00:00,  3.31it/s]\n"
     ]
    },
    {
     "name": "stdout",
     "output_type": "stream",
     "text": [
      "Train loss: 0.1783599487235469\n",
      "Train consistency loss: 0.01662396072451748\n",
      "Validation loss: 0.3202628650599056\n",
      "1m 13s\n",
      "Consistency Loss declined to 0.01662396072451748\n",
      "Early Stopping Counter = 0\n",
      "Epoch 66/300\n"
     ]
    },
    {
     "name": "stderr",
     "output_type": "stream",
     "text": [
      "100%|██████████| 155/155 [00:46<00:00,  3.34it/s]\n",
      "100%|██████████| 67/67 [00:20<00:00,  3.20it/s]\n",
      "100%|██████████| 18/18 [00:05<00:00,  3.26it/s]\n"
     ]
    },
    {
     "name": "stdout",
     "output_type": "stream",
     "text": [
      "Train loss: 0.17896957589733986\n",
      "Train consistency loss: 0.017528245802412728\n",
      "Validation loss: 0.30716031789779663\n",
      "1m 13s\n",
      "Early Stopping Counter = 1\n",
      "Epoch 67/300\n"
     ]
    },
    {
     "name": "stderr",
     "output_type": "stream",
     "text": [
      "100%|██████████| 155/155 [00:46<00:00,  3.33it/s]\n",
      "100%|██████████| 67/67 [00:20<00:00,  3.20it/s]\n",
      "100%|██████████| 18/18 [00:05<00:00,  3.26it/s]\n"
     ]
    },
    {
     "name": "stdout",
     "output_type": "stream",
     "text": [
      "Train loss: 0.17830046847943337\n",
      "Train consistency loss: 0.01601634978024817\n",
      "Validation loss: 0.30786006732119453\n",
      "1m 13s\n",
      "Consistency Loss declined to 0.01601634978024817\n",
      "Early Stopping Counter = 0\n",
      "Epoch 68/300\n"
     ]
    },
    {
     "name": "stderr",
     "output_type": "stream",
     "text": [
      "100%|██████████| 155/155 [00:46<00:00,  3.33it/s]\n",
      "100%|██████████| 67/67 [00:20<00:00,  3.20it/s]\n",
      "100%|██████████| 18/18 [00:05<00:00,  3.26it/s]\n"
     ]
    },
    {
     "name": "stdout",
     "output_type": "stream",
     "text": [
      "Train loss: 0.17746661007404327\n",
      "Train consistency loss: 0.0181955341110701\n",
      "Validation loss: 0.3195549175143242\n",
      "1m 13s\n",
      "Early Stopping Counter = 1\n",
      "Epoch 69/300\n"
     ]
    },
    {
     "name": "stderr",
     "output_type": "stream",
     "text": [
      "100%|██████████| 155/155 [00:46<00:00,  3.33it/s]\n",
      "100%|██████████| 67/67 [00:21<00:00,  3.18it/s]\n",
      "100%|██████████| 18/18 [00:05<00:00,  3.34it/s]\n"
     ]
    },
    {
     "name": "stdout",
     "output_type": "stream",
     "text": [
      "Train loss: 0.17871011034134895\n",
      "Train consistency loss: 0.016198417693098533\n",
      "Validation loss: 0.29998692456218934\n",
      "1m 13s\n",
      "Early Stopping Counter = 2\n",
      "Epoch 70/300\n"
     ]
    },
    {
     "name": "stderr",
     "output_type": "stream",
     "text": [
      "100%|██████████| 155/155 [00:46<00:00,  3.35it/s]\n",
      "100%|██████████| 67/67 [00:20<00:00,  3.22it/s]\n",
      "100%|██████████| 18/18 [00:05<00:00,  3.20it/s]\n"
     ]
    },
    {
     "name": "stdout",
     "output_type": "stream",
     "text": [
      "Train loss: 0.17709622017798884\n",
      "Train consistency loss: 0.017081733542814184\n",
      "Validation loss: 0.3212366799513499\n",
      "1m 13s\n",
      "Early Stopping Counter = 3\n",
      "Epoch 71/300\n"
     ]
    },
    {
     "name": "stderr",
     "output_type": "stream",
     "text": [
      "100%|██████████| 155/155 [00:46<00:00,  3.37it/s]\n",
      "100%|██████████| 67/67 [00:20<00:00,  3.20it/s]\n",
      "100%|██████████| 18/18 [00:05<00:00,  3.32it/s]\n"
     ]
    },
    {
     "name": "stdout",
     "output_type": "stream",
     "text": [
      "Train loss: 0.17706064158870327\n",
      "Train consistency loss: 0.019362804459046517\n",
      "Validation loss: 0.33066609915759826\n",
      "1m 12s\n",
      "Early Stopping Counter = 4\n",
      "Epoch 72/300\n"
     ]
    },
    {
     "name": "stderr",
     "output_type": "stream",
     "text": [
      "100%|██████████| 155/155 [00:46<00:00,  3.35it/s]\n",
      "100%|██████████| 67/67 [00:20<00:00,  3.20it/s]\n",
      "100%|██████████| 18/18 [00:05<00:00,  3.31it/s]\n"
     ]
    },
    {
     "name": "stdout",
     "output_type": "stream",
     "text": [
      "Train loss: 0.17745596333857505\n",
      "Train consistency loss: 0.015390913314950554\n",
      "Validation loss: 0.31287701179583866\n",
      "1m 13s\n",
      "Consistency Loss declined to 0.015390913314950554\n",
      "Early Stopping Counter = 0\n",
      "Epoch 73/300\n"
     ]
    },
    {
     "name": "stderr",
     "output_type": "stream",
     "text": [
      "100%|██████████| 155/155 [00:46<00:00,  3.35it/s]\n",
      "100%|██████████| 67/67 [00:20<00:00,  3.23it/s]\n",
      "100%|██████████| 18/18 [00:05<00:00,  3.24it/s]\n"
     ]
    },
    {
     "name": "stdout",
     "output_type": "stream",
     "text": [
      "Train loss: 0.17572438255433112\n",
      "Train consistency loss: 0.01486038413148985\n",
      "Validation loss: 0.2888543845878707\n",
      "1m 13s\n",
      "Consistency Loss declined to 0.01486038413148985\n",
      "Early Stopping Counter = 0\n",
      "Epoch 74/300\n"
     ]
    },
    {
     "name": "stderr",
     "output_type": "stream",
     "text": [
      "100%|██████████| 155/155 [00:46<00:00,  3.33it/s]\n",
      "100%|██████████| 67/67 [00:20<00:00,  3.23it/s]\n",
      "100%|██████████| 18/18 [00:05<00:00,  3.27it/s]\n"
     ]
    },
    {
     "name": "stdout",
     "output_type": "stream",
     "text": [
      "Train loss: 0.17516856568474923\n",
      "Train consistency loss: 0.015839686818810095\n",
      "Validation loss: 0.2942122419675191\n",
      "1m 13s\n",
      "Early Stopping Counter = 1\n",
      "Epoch 75/300\n"
     ]
    },
    {
     "name": "stderr",
     "output_type": "stream",
     "text": [
      "100%|██████████| 155/155 [00:46<00:00,  3.35it/s]\n",
      "100%|██████████| 67/67 [00:21<00:00,  3.18it/s]\n",
      "100%|██████████| 18/18 [00:05<00:00,  3.30it/s]\n"
     ]
    },
    {
     "name": "stdout",
     "output_type": "stream",
     "text": [
      "Train loss: 0.1750188950569399\n",
      "Train consistency loss: 0.014417563092463942\n",
      "Validation loss: 0.2904314597447713\n",
      "1m 13s\n",
      "Consistency Loss declined to 0.014417563092463942\n",
      "Early Stopping Counter = 0\n",
      "Epoch 76/300\n"
     ]
    },
    {
     "name": "stderr",
     "output_type": "stream",
     "text": [
      "100%|██████████| 155/155 [00:46<00:00,  3.34it/s]\n",
      "100%|██████████| 67/67 [00:20<00:00,  3.20it/s]\n",
      "100%|██████████| 18/18 [00:05<00:00,  3.13it/s]\n"
     ]
    },
    {
     "name": "stdout",
     "output_type": "stream",
     "text": [
      "Train loss: 0.17517692100617194\n",
      "Train consistency loss: 0.014027306879523084\n",
      "Validation loss: 0.29532887703842586\n",
      "1m 13s\n",
      "Consistency Loss declined to 0.014027306879523084\n",
      "Early Stopping Counter = 0\n",
      "Epoch 77/300\n"
     ]
    },
    {
     "name": "stderr",
     "output_type": "stream",
     "text": [
      "100%|██████████| 155/155 [00:46<00:00,  3.32it/s]\n",
      "100%|██████████| 67/67 [00:20<00:00,  3.20it/s]\n",
      "100%|██████████| 18/18 [00:05<00:00,  3.23it/s]\n"
     ]
    },
    {
     "name": "stdout",
     "output_type": "stream",
     "text": [
      "Train loss: 0.17360537840474036\n",
      "Train consistency loss: 0.018138532248784357\n",
      "Validation loss: 0.2982565139730771\n",
      "1m 13s\n",
      "Early Stopping Counter = 1\n",
      "Epoch 78/300\n"
     ]
    },
    {
     "name": "stderr",
     "output_type": "stream",
     "text": [
      "100%|██████████| 155/155 [00:47<00:00,  3.29it/s]\n",
      "100%|██████████| 67/67 [00:21<00:00,  3.19it/s]\n",
      "100%|██████████| 18/18 [00:05<00:00,  3.16it/s]\n"
     ]
    },
    {
     "name": "stdout",
     "output_type": "stream",
     "text": [
      "Train loss: 0.1747666024392651\n",
      "Train consistency loss: 0.01610426496325144\n",
      "Validation loss: 0.3115180962615543\n",
      "1m 14s\n",
      "Early Stopping Counter = 2\n",
      "Epoch 79/300\n"
     ]
    },
    {
     "name": "stderr",
     "output_type": "stream",
     "text": [
      "100%|██████████| 155/155 [00:46<00:00,  3.35it/s]\n",
      "100%|██████████| 67/67 [00:20<00:00,  3.22it/s]\n",
      "100%|██████████| 18/18 [00:05<00:00,  3.29it/s]\n"
     ]
    },
    {
     "name": "stdout",
     "output_type": "stream",
     "text": [
      "Train loss: 0.17438633009310692\n",
      "Train consistency loss: 0.013854129302468318\n",
      "Validation loss: 0.31012767511937356\n",
      "1m 13s\n",
      "Consistency Loss declined to 0.013854129302468318\n",
      "Early Stopping Counter = 0\n",
      "Epoch 80/300\n"
     ]
    },
    {
     "name": "stderr",
     "output_type": "stream",
     "text": [
      "100%|██████████| 155/155 [00:46<00:00,  3.33it/s]\n",
      "100%|██████████| 67/67 [00:20<00:00,  3.22it/s]\n",
      "100%|██████████| 18/18 [00:05<00:00,  3.26it/s]\n"
     ]
    },
    {
     "name": "stdout",
     "output_type": "stream",
     "text": [
      "Train loss: 0.17203537696792234\n",
      "Train consistency loss: 0.01612377914586174\n",
      "Validation loss: 0.30004233453008866\n",
      "1m 13s\n",
      "Early Stopping Counter = 1\n",
      "Epoch 81/300\n"
     ]
    },
    {
     "name": "stderr",
     "output_type": "stream",
     "text": [
      "100%|██████████| 155/155 [00:46<00:00,  3.33it/s]\n",
      "100%|██████████| 67/67 [00:21<00:00,  3.19it/s]\n",
      "100%|██████████| 18/18 [00:05<00:00,  3.27it/s]\n"
     ]
    },
    {
     "name": "stdout",
     "output_type": "stream",
     "text": [
      "Train loss: 0.17295294317506973\n",
      "Train consistency loss: 0.013966911076220558\n",
      "Validation loss: 0.34238867254720795\n",
      "1m 13s\n",
      "Early Stopping Counter = 2\n",
      "Epoch 82/300\n"
     ]
    },
    {
     "name": "stderr",
     "output_type": "stream",
     "text": [
      "100%|██████████| 155/155 [00:46<00:00,  3.35it/s]\n",
      "100%|██████████| 67/67 [00:21<00:00,  3.19it/s]\n",
      "100%|██████████| 18/18 [00:05<00:00,  3.35it/s]\n"
     ]
    },
    {
     "name": "stdout",
     "output_type": "stream",
     "text": [
      "Train loss: 0.17284946201309082\n",
      "Train consistency loss: 0.015556491313696796\n",
      "Validation loss: 0.31443290412425995\n",
      "1m 13s\n",
      "Early Stopping Counter = 3\n",
      "Epoch 83/300\n"
     ]
    },
    {
     "name": "stderr",
     "output_type": "stream",
     "text": [
      "100%|██████████| 155/155 [00:46<00:00,  3.33it/s]\n",
      "100%|██████████| 67/67 [00:21<00:00,  3.19it/s]\n",
      "100%|██████████| 18/18 [00:05<00:00,  3.25it/s]\n"
     ]
    },
    {
     "name": "stdout",
     "output_type": "stream",
     "text": [
      "Train loss: 0.1725269736782197\n",
      "Train consistency loss: 0.012962242796905894\n",
      "Validation loss: 0.30204523271984524\n",
      "1m 13s\n",
      "Consistency Loss declined to 0.012962242796905894\n",
      "Early Stopping Counter = 0\n",
      "Epoch 84/300\n"
     ]
    },
    {
     "name": "stderr",
     "output_type": "stream",
     "text": [
      "100%|██████████| 155/155 [00:46<00:00,  3.32it/s]\n",
      "100%|██████████| 67/67 [00:21<00:00,  3.18it/s]\n",
      "100%|██████████| 18/18 [00:05<00:00,  3.29it/s]\n"
     ]
    },
    {
     "name": "stdout",
     "output_type": "stream",
     "text": [
      "Train loss: 0.17071146042116225\n",
      "Train consistency loss: 0.013813942684722481\n",
      "Validation loss: 0.3173527734147178\n",
      "1m 13s\n",
      "Early Stopping Counter = 1\n",
      "Epoch 85/300\n"
     ]
    },
    {
     "name": "stderr",
     "output_type": "stream",
     "text": [
      "100%|██████████| 155/155 [00:46<00:00,  3.34it/s]\n",
      "100%|██████████| 67/67 [00:20<00:00,  3.22it/s]\n",
      "100%|██████████| 18/18 [00:05<00:00,  3.27it/s]\n"
     ]
    },
    {
     "name": "stdout",
     "output_type": "stream",
     "text": [
      "Train loss: 0.17004874675504622\n",
      "Train consistency loss: 0.014077030004127257\n",
      "Validation loss: 0.3038168292906549\n",
      "1m 13s\n",
      "Early Stopping Counter = 2\n",
      "Epoch 86/300\n"
     ]
    },
    {
     "name": "stderr",
     "output_type": "stream",
     "text": [
      "100%|██████████| 155/155 [00:46<00:00,  3.33it/s]\n",
      "100%|██████████| 67/67 [00:21<00:00,  3.19it/s]\n",
      "100%|██████████| 18/18 [00:05<00:00,  3.24it/s]\n"
     ]
    },
    {
     "name": "stdout",
     "output_type": "stream",
     "text": [
      "Train loss: 0.1711599342284664\n",
      "Train consistency loss: 0.012905778905460194\n",
      "Validation loss: 0.2932213602794541\n",
      "1m 13s\n",
      "Consistency Loss declined to 0.012905778905460194\n",
      "Early Stopping Counter = 0\n",
      "Epoch 87/300\n"
     ]
    },
    {
     "name": "stderr",
     "output_type": "stream",
     "text": [
      "100%|██████████| 155/155 [00:46<00:00,  3.31it/s]\n",
      "100%|██████████| 67/67 [00:20<00:00,  3.20it/s]\n",
      "100%|██████████| 18/18 [00:05<00:00,  3.26it/s]\n"
     ]
    },
    {
     "name": "stdout",
     "output_type": "stream",
     "text": [
      "Train loss: 0.16946842439713017\n",
      "Train consistency loss: 0.012719740868726773\n",
      "Validation loss: 0.294891578455766\n",
      "1m 13s\n",
      "Consistency Loss declined to 0.012719740868726773\n",
      "Early Stopping Counter = 0\n",
      "Epoch 88/300\n"
     ]
    },
    {
     "name": "stderr",
     "output_type": "stream",
     "text": [
      "100%|██████████| 155/155 [00:46<00:00,  3.33it/s]\n",
      "100%|██████████| 67/67 [00:20<00:00,  3.22it/s]\n",
      "100%|██████████| 18/18 [00:05<00:00,  3.35it/s]\n"
     ]
    },
    {
     "name": "stdout",
     "output_type": "stream",
     "text": [
      "Train loss: 0.1695591220932622\n",
      "Train consistency loss: 0.013406603993264153\n",
      "Validation loss: 0.2929504919383261\n",
      "1m 13s\n",
      "Early Stopping Counter = 1\n",
      "Epoch 89/300\n"
     ]
    },
    {
     "name": "stderr",
     "output_type": "stream",
     "text": [
      "100%|██████████| 155/155 [00:46<00:00,  3.35it/s]\n",
      "100%|██████████| 67/67 [00:21<00:00,  3.19it/s]\n",
      "100%|██████████| 18/18 [00:05<00:00,  3.23it/s]\n"
     ]
    },
    {
     "name": "stdout",
     "output_type": "stream",
     "text": [
      "Train loss: 0.16850138950732446\n",
      "Train consistency loss: 0.01321676167061747\n",
      "Validation loss: 0.3047422890861829\n",
      "1m 13s\n",
      "Early Stopping Counter = 2\n",
      "Epoch 90/300\n"
     ]
    },
    {
     "name": "stderr",
     "output_type": "stream",
     "text": [
      "100%|██████████| 155/155 [00:46<00:00,  3.35it/s]\n",
      "100%|██████████| 67/67 [00:20<00:00,  3.23it/s]\n",
      "100%|██████████| 18/18 [00:05<00:00,  3.27it/s]\n"
     ]
    },
    {
     "name": "stdout",
     "output_type": "stream",
     "text": [
      "Train loss: 0.16963335208354458\n",
      "Train consistency loss: 0.014229459368359686\n",
      "Validation loss: 0.31100184884336257\n",
      "1m 13s\n",
      "Early Stopping Counter = 3\n",
      "Epoch 91/300\n"
     ]
    },
    {
     "name": "stderr",
     "output_type": "stream",
     "text": [
      "100%|██████████| 155/155 [00:46<00:00,  3.36it/s]\n",
      "100%|██████████| 67/67 [00:20<00:00,  3.19it/s]\n",
      "100%|██████████| 18/18 [00:05<00:00,  3.26it/s]\n"
     ]
    },
    {
     "name": "stdout",
     "output_type": "stream",
     "text": [
      "Train loss: 0.16947013514657175\n",
      "Train consistency loss: 0.012582353128592915\n",
      "Validation loss: 0.3049971717927191\n",
      "1m 13s\n",
      "Consistency Loss declined to 0.012582353128592915\n",
      "Early Stopping Counter = 0\n",
      "Epoch 92/300\n"
     ]
    },
    {
     "name": "stderr",
     "output_type": "stream",
     "text": [
      "100%|██████████| 155/155 [00:47<00:00,  3.29it/s]\n",
      "100%|██████████| 67/67 [00:20<00:00,  3.22it/s]\n",
      "100%|██████████| 18/18 [00:05<00:00,  3.24it/s]\n"
     ]
    },
    {
     "name": "stdout",
     "output_type": "stream",
     "text": [
      "Train loss: 0.16732238127339272\n",
      "Train consistency loss: 0.0143412643515352\n",
      "Validation loss: 0.2982478100392554\n",
      "1m 14s\n",
      "Early Stopping Counter = 1\n",
      "Epoch 93/300\n"
     ]
    },
    {
     "name": "stderr",
     "output_type": "stream",
     "text": [
      "100%|██████████| 155/155 [00:47<00:00,  3.27it/s]\n",
      "100%|██████████| 67/67 [00:20<00:00,  3.22it/s]\n",
      "100%|██████████| 18/18 [00:05<00:00,  3.22it/s]\n"
     ]
    },
    {
     "name": "stdout",
     "output_type": "stream",
     "text": [
      "Train loss: 0.167576051527454\n",
      "Train consistency loss: 0.013006971877957903\n",
      "Validation loss: 0.2955212179157469\n",
      "1m 14s\n",
      "Early Stopping Counter = 2\n",
      "Epoch 94/300\n"
     ]
    },
    {
     "name": "stderr",
     "output_type": "stream",
     "text": [
      "100%|██████████| 155/155 [00:46<00:00,  3.35it/s]\n",
      "100%|██████████| 67/67 [00:20<00:00,  3.21it/s]\n",
      "100%|██████████| 18/18 [00:05<00:00,  3.25it/s]\n"
     ]
    },
    {
     "name": "stdout",
     "output_type": "stream",
     "text": [
      "Train loss: 0.16686462202379782\n",
      "Train consistency loss: 0.012157929963918764\n",
      "Validation loss: 0.28326218699415523\n",
      "1m 13s\n",
      "Consistency Loss declined to 0.012157929963918764\n",
      "Early Stopping Counter = 0\n",
      "Epoch 95/300\n"
     ]
    },
    {
     "name": "stderr",
     "output_type": "stream",
     "text": [
      "100%|██████████| 155/155 [00:46<00:00,  3.31it/s]\n",
      "100%|██████████| 67/67 [00:20<00:00,  3.20it/s]\n",
      "100%|██████████| 18/18 [00:05<00:00,  3.32it/s]\n"
     ]
    },
    {
     "name": "stdout",
     "output_type": "stream",
     "text": [
      "Train loss: 0.1671078335854315\n",
      "Train consistency loss: 0.011811947915703058\n",
      "Validation loss: 0.3086959628595246\n",
      "1m 13s\n",
      "Consistency Loss declined to 0.011811947915703058\n",
      "Early Stopping Counter = 0\n",
      "Epoch 96/300\n"
     ]
    },
    {
     "name": "stderr",
     "output_type": "stream",
     "text": [
      "100%|██████████| 155/155 [00:46<00:00,  3.31it/s]\n",
      "100%|██████████| 67/67 [00:20<00:00,  3.22it/s]\n",
      "100%|██████████| 18/18 [00:05<00:00,  3.22it/s]\n"
     ]
    },
    {
     "name": "stdout",
     "output_type": "stream",
     "text": [
      "Train loss: 0.16774720338083082\n",
      "Train consistency loss: 0.012532302379997364\n",
      "Validation loss: 0.2916502298580276\n",
      "1m 13s\n",
      "Early Stopping Counter = 1\n",
      "Epoch 97/300\n"
     ]
    },
    {
     "name": "stderr",
     "output_type": "stream",
     "text": [
      "100%|██████████| 155/155 [00:46<00:00,  3.34it/s]\n",
      "100%|██████████| 67/67 [00:20<00:00,  3.22it/s]\n",
      "100%|██████████| 18/18 [00:05<00:00,  3.32it/s]\n"
     ]
    },
    {
     "name": "stdout",
     "output_type": "stream",
     "text": [
      "Train loss: 0.16580563283735705\n",
      "Train consistency loss: 0.011746085283638382\n",
      "Validation loss: 0.2954065145717727\n",
      "1m 13s\n",
      "Consistency Loss declined to 0.011746085283638382\n",
      "Early Stopping Counter = 0\n",
      "Epoch 98/300\n"
     ]
    },
    {
     "name": "stderr",
     "output_type": "stream",
     "text": [
      "100%|██████████| 155/155 [00:46<00:00,  3.32it/s]\n",
      "100%|██████████| 67/67 [00:20<00:00,  3.23it/s]\n",
      "100%|██████████| 18/18 [00:05<00:00,  3.34it/s]\n"
     ]
    },
    {
     "name": "stdout",
     "output_type": "stream",
     "text": [
      "Train loss: 0.1657026651405519\n",
      "Train consistency loss: 0.011720340997814688\n",
      "Validation loss: 0.28934120304054683\n",
      "1m 13s\n",
      "Consistency Loss declined to 0.011720340997814688\n",
      "Early Stopping Counter = 0\n",
      "Epoch 99/300\n"
     ]
    },
    {
     "name": "stderr",
     "output_type": "stream",
     "text": [
      "100%|██████████| 155/155 [00:46<00:00,  3.33it/s]\n",
      "100%|██████████| 67/67 [00:20<00:00,  3.23it/s]\n",
      "100%|██████████| 18/18 [00:05<00:00,  3.30it/s]\n"
     ]
    },
    {
     "name": "stdout",
     "output_type": "stream",
     "text": [
      "Train loss: 0.1649919742538083\n",
      "Train consistency loss: 0.011108068106418003\n",
      "Validation loss: 0.320515143374602\n",
      "1m 13s\n",
      "Consistency Loss declined to 0.011108068106418003\n",
      "Early Stopping Counter = 0\n",
      "Epoch 100/300\n"
     ]
    },
    {
     "name": "stderr",
     "output_type": "stream",
     "text": [
      "100%|██████████| 155/155 [00:46<00:00,  3.33it/s]\n",
      "100%|██████████| 67/67 [00:20<00:00,  3.23it/s]\n",
      "100%|██████████| 18/18 [00:05<00:00,  3.33it/s]\n"
     ]
    },
    {
     "name": "stdout",
     "output_type": "stream",
     "text": [
      "Train loss: 0.16466938939786727\n",
      "Train consistency loss: 0.011581369279536293\n",
      "Validation loss: 0.3004811878005664\n",
      "1m 13s\n",
      "Early Stopping Counter = 1\n",
      "Epoch 101/300\n"
     ]
    },
    {
     "name": "stderr",
     "output_type": "stream",
     "text": [
      "100%|██████████| 155/155 [00:46<00:00,  3.35it/s]\n",
      "100%|██████████| 67/67 [00:20<00:00,  3.20it/s]\n",
      "100%|██████████| 18/18 [00:05<00:00,  3.33it/s]\n"
     ]
    },
    {
     "name": "stdout",
     "output_type": "stream",
     "text": [
      "Train loss: 0.16403232437949028\n",
      "Train consistency loss: 0.011128814842329542\n",
      "Validation loss: 0.2999051610628764\n",
      "1m 13s\n",
      "Early Stopping Counter = 2\n",
      "Epoch 102/300\n"
     ]
    },
    {
     "name": "stderr",
     "output_type": "stream",
     "text": [
      "100%|██████████| 155/155 [00:46<00:00,  3.35it/s]\n",
      "100%|██████████| 67/67 [00:21<00:00,  3.19it/s]\n",
      "100%|██████████| 18/18 [00:05<00:00,  3.34it/s]\n"
     ]
    },
    {
     "name": "stdout",
     "output_type": "stream",
     "text": [
      "Train loss: 0.16349268401822736\n",
      "Train consistency loss: 0.010346229789333779\n",
      "Validation loss: 0.3034694318970044\n",
      "1m 13s\n",
      "Consistency Loss declined to 0.010346229789333779\n",
      "Early Stopping Counter = 0\n",
      "Epoch 103/300\n"
     ]
    },
    {
     "name": "stderr",
     "output_type": "stream",
     "text": [
      "100%|██████████| 155/155 [00:46<00:00,  3.32it/s]\n",
      "100%|██████████| 67/67 [00:21<00:00,  3.17it/s]\n",
      "100%|██████████| 18/18 [00:05<00:00,  3.29it/s]\n"
     ]
    },
    {
     "name": "stdout",
     "output_type": "stream",
     "text": [
      "Train loss: 0.16295011947231908\n",
      "Train consistency loss: 0.010924659638123503\n",
      "Validation loss: 0.30611615793572533\n",
      "1m 13s\n",
      "Early Stopping Counter = 1\n",
      "Epoch 104/300\n"
     ]
    },
    {
     "name": "stderr",
     "output_type": "stream",
     "text": [
      "100%|██████████| 155/155 [00:46<00:00,  3.33it/s]\n",
      "100%|██████████| 67/67 [00:20<00:00,  3.21it/s]\n",
      "100%|██████████| 18/18 [00:05<00:00,  3.25it/s]\n"
     ]
    },
    {
     "name": "stdout",
     "output_type": "stream",
     "text": [
      "Train loss: 0.16414541832862362\n",
      "Train consistency loss: 0.01128369897826394\n",
      "Validation loss: 0.2867577316032516\n",
      "1m 13s\n",
      "Early Stopping Counter = 2\n",
      "Epoch 105/300\n"
     ]
    },
    {
     "name": "stderr",
     "output_type": "stream",
     "text": [
      "100%|██████████| 155/155 [00:46<00:00,  3.34it/s]\n",
      "100%|██████████| 67/67 [00:20<00:00,  3.19it/s]\n",
      "100%|██████████| 18/18 [00:05<00:00,  3.29it/s]\n"
     ]
    },
    {
     "name": "stdout",
     "output_type": "stream",
     "text": [
      "Train loss: 0.16309993151695498\n",
      "Train consistency loss: 0.010585742891390823\n",
      "Validation loss: 0.3088637673192554\n",
      "1m 13s\n",
      "Early Stopping Counter = 3\n",
      "Epoch 106/300\n"
     ]
    },
    {
     "name": "stderr",
     "output_type": "stream",
     "text": [
      "100%|██████████| 155/155 [00:46<00:00,  3.32it/s]\n",
      "100%|██████████| 67/67 [00:20<00:00,  3.22it/s]\n",
      "100%|██████████| 18/18 [00:05<00:00,  3.25it/s]\n"
     ]
    },
    {
     "name": "stdout",
     "output_type": "stream",
     "text": [
      "Train loss: 0.16234950077149177\n",
      "Train consistency loss: 0.009900617343721106\n",
      "Validation loss: 0.2999344832367367\n",
      "1m 13s\n",
      "Consistency Loss declined to 0.009900617343721106\n",
      "Early Stopping Counter = 0\n",
      "Epoch 107/300\n"
     ]
    },
    {
     "name": "stderr",
     "output_type": "stream",
     "text": [
      "100%|██████████| 155/155 [00:46<00:00,  3.33it/s]\n",
      "100%|██████████| 67/67 [00:20<00:00,  3.22it/s]\n",
      "100%|██████████| 18/18 [00:05<00:00,  3.25it/s]\n"
     ]
    },
    {
     "name": "stdout",
     "output_type": "stream",
     "text": [
      "Train loss: 0.16137476448089846\n",
      "Train consistency loss: 0.011116705772314054\n",
      "Validation loss: 0.27621227006117505\n",
      "1m 13s\n",
      "Early Stopping Counter = 1\n",
      "Epoch 108/300\n"
     ]
    },
    {
     "name": "stderr",
     "output_type": "stream",
     "text": [
      "100%|██████████| 155/155 [00:46<00:00,  3.33it/s]\n",
      "100%|██████████| 67/67 [00:20<00:00,  3.20it/s]\n",
      "100%|██████████| 18/18 [00:05<00:00,  3.32it/s]\n"
     ]
    },
    {
     "name": "stdout",
     "output_type": "stream",
     "text": [
      "Train loss: 0.16177451687474403\n",
      "Train consistency loss: 0.01141659004280149\n",
      "Validation loss: 0.3068034028013547\n",
      "1m 13s\n",
      "Early Stopping Counter = 2\n",
      "Epoch 109/300\n"
     ]
    },
    {
     "name": "stderr",
     "output_type": "stream",
     "text": [
      "100%|██████████| 155/155 [00:46<00:00,  3.35it/s]\n",
      "100%|██████████| 67/67 [00:20<00:00,  3.20it/s]\n",
      "100%|██████████| 18/18 [00:05<00:00,  3.34it/s]\n"
     ]
    },
    {
     "name": "stdout",
     "output_type": "stream",
     "text": [
      "Train loss: 0.16144244449753914\n",
      "Train consistency loss: 0.01337943604188179\n",
      "Validation loss: 0.327992363108529\n",
      "1m 13s\n",
      "Early Stopping Counter = 3\n",
      "Epoch 110/300\n"
     ]
    },
    {
     "name": "stderr",
     "output_type": "stream",
     "text": [
      "100%|██████████| 155/155 [00:46<00:00,  3.33it/s]\n",
      "100%|██████████| 67/67 [00:21<00:00,  3.19it/s]\n",
      "100%|██████████| 18/18 [00:05<00:00,  3.26it/s]\n"
     ]
    },
    {
     "name": "stdout",
     "output_type": "stream",
     "text": [
      "Train loss: 0.16733255924717072\n",
      "Train consistency loss: 0.013516661419130084\n",
      "Validation loss: 0.3226178329851892\n",
      "1m 13s\n",
      "Early Stopping Counter = 4\n",
      "Epoch 111/300\n"
     ]
    },
    {
     "name": "stderr",
     "output_type": "stream",
     "text": [
      "100%|██████████| 155/155 [00:46<00:00,  3.30it/s]\n",
      "100%|██████████| 67/67 [00:20<00:00,  3.22it/s]\n",
      "100%|██████████| 18/18 [00:05<00:00,  3.26it/s]\n"
     ]
    },
    {
     "name": "stdout",
     "output_type": "stream",
     "text": [
      "Train loss: 0.16210154833332185\n",
      "Train consistency loss: 0.014747129357072399\n",
      "Validation loss: 0.3108222608764966\n",
      "1m 13s\n",
      "Early Stopping Counter = 5\n",
      "Epoch 112/300\n"
     ]
    },
    {
     "name": "stderr",
     "output_type": "stream",
     "text": [
      "100%|██████████| 155/155 [00:46<00:00,  3.34it/s]\n",
      "100%|██████████| 67/67 [00:21<00:00,  3.18it/s]\n",
      "100%|██████████| 18/18 [00:05<00:00,  3.30it/s]\n"
     ]
    },
    {
     "name": "stdout",
     "output_type": "stream",
     "text": [
      "Train loss: 0.1644994407892227\n",
      "Train consistency loss: 0.010450484203313714\n",
      "Validation loss: 0.29410910192463136\n",
      "1m 13s\n",
      "Early Stopping Counter = 6\n",
      "Epoch 113/300\n"
     ]
    },
    {
     "name": "stderr",
     "output_type": "stream",
     "text": [
      "100%|██████████| 155/155 [00:46<00:00,  3.32it/s]\n",
      "100%|██████████| 67/67 [00:20<00:00,  3.20it/s]\n",
      "100%|██████████| 18/18 [00:05<00:00,  3.31it/s]\n"
     ]
    },
    {
     "name": "stdout",
     "output_type": "stream",
     "text": [
      "Train loss: 0.15999867483492822\n",
      "Train consistency loss: 0.010023827935610689\n",
      "Validation loss: 0.28649161010980606\n",
      "1m 13s\n",
      "Early Stopping Counter = 7\n",
      "Epoch 114/300\n"
     ]
    },
    {
     "name": "stderr",
     "output_type": "stream",
     "text": [
      "100%|██████████| 155/155 [00:46<00:00,  3.34it/s]\n",
      "100%|██████████| 67/67 [00:20<00:00,  3.20it/s]\n",
      "100%|██████████| 18/18 [00:05<00:00,  3.30it/s]\n"
     ]
    },
    {
     "name": "stdout",
     "output_type": "stream",
     "text": [
      "Train loss: 0.15940450526052904\n",
      "Train consistency loss: 0.009099209298894032\n",
      "Validation loss: 0.2949228162566821\n",
      "1m 13s\n",
      "Consistency Loss declined to 0.009099209298894032\n",
      "Early Stopping Counter = 0\n",
      "Epoch 115/300\n"
     ]
    },
    {
     "name": "stderr",
     "output_type": "stream",
     "text": [
      "100%|██████████| 155/155 [00:46<00:00,  3.33it/s]\n",
      "100%|██████████| 67/67 [00:20<00:00,  3.22it/s]\n",
      "100%|██████████| 18/18 [00:05<00:00,  3.37it/s]\n"
     ]
    },
    {
     "name": "stdout",
     "output_type": "stream",
     "text": [
      "Train loss: 0.15889782934419572\n",
      "Train consistency loss: 0.01314866094530296\n",
      "Validation loss: 0.32169274654653335\n",
      "1m 13s\n",
      "Early Stopping Counter = 1\n",
      "Epoch 116/300\n"
     ]
    },
    {
     "name": "stderr",
     "output_type": "stream",
     "text": [
      "100%|██████████| 155/155 [00:46<00:00,  3.35it/s]\n",
      "100%|██████████| 67/67 [00:20<00:00,  3.23it/s]\n",
      "100%|██████████| 18/18 [00:05<00:00,  3.27it/s]\n"
     ]
    },
    {
     "name": "stdout",
     "output_type": "stream",
     "text": [
      "Train loss: 0.16172620509901353\n",
      "Train consistency loss: 0.011114271430632294\n",
      "Validation loss: 0.29994958970281815\n",
      "1m 13s\n",
      "Early Stopping Counter = 2\n",
      "Epoch 117/300\n"
     ]
    },
    {
     "name": "stderr",
     "output_type": "stream",
     "text": [
      "100%|██████████| 155/155 [00:46<00:00,  3.34it/s]\n",
      "100%|██████████| 67/67 [00:20<00:00,  3.22it/s]\n",
      "100%|██████████| 18/18 [00:05<00:00,  3.29it/s]\n"
     ]
    },
    {
     "name": "stdout",
     "output_type": "stream",
     "text": [
      "Train loss: 0.1592103619729319\n",
      "Train consistency loss: 0.009992085383343162\n",
      "Validation loss: 0.3040681506196658\n",
      "1m 13s\n",
      "Early Stopping Counter = 3\n",
      "Epoch 118/300\n"
     ]
    },
    {
     "name": "stderr",
     "output_type": "stream",
     "text": [
      "100%|██████████| 155/155 [00:46<00:00,  3.34it/s]\n",
      "100%|██████████| 67/67 [00:20<00:00,  3.23it/s]\n",
      "100%|██████████| 18/18 [00:05<00:00,  3.34it/s]\n"
     ]
    },
    {
     "name": "stdout",
     "output_type": "stream",
     "text": [
      "Train loss: 0.1580216678880876\n",
      "Train consistency loss: 0.010133484510510271\n",
      "Validation loss: 0.29862679748071563\n",
      "1m 13s\n",
      "Early Stopping Counter = 4\n",
      "Epoch 119/300\n"
     ]
    },
    {
     "name": "stderr",
     "output_type": "stream",
     "text": [
      "100%|██████████| 155/155 [00:46<00:00,  3.34it/s]\n",
      "100%|██████████| 67/67 [00:20<00:00,  3.23it/s]\n",
      "100%|██████████| 18/18 [00:05<00:00,  3.27it/s]\n"
     ]
    },
    {
     "name": "stdout",
     "output_type": "stream",
     "text": [
      "Train loss: 0.1576260163899391\n",
      "Train consistency loss: 0.009341420400748724\n",
      "Validation loss: 0.28804387234979206\n",
      "1m 13s\n",
      "Early Stopping Counter = 5\n",
      "Epoch 120/300\n"
     ]
    },
    {
     "name": "stderr",
     "output_type": "stream",
     "text": [
      "100%|██████████| 155/155 [00:46<00:00,  3.35it/s]\n",
      "100%|██████████| 67/67 [00:20<00:00,  3.22it/s]\n",
      "100%|██████████| 18/18 [00:05<00:00,  3.25it/s]\n"
     ]
    },
    {
     "name": "stdout",
     "output_type": "stream",
     "text": [
      "Train loss: 0.15711196906143618\n",
      "Train consistency loss: 0.00926990557545379\n",
      "Validation loss: 0.28612647702296573\n",
      "1m 13s\n",
      "Early Stopping Counter = 6\n",
      "Epoch 121/300\n"
     ]
    },
    {
     "name": "stderr",
     "output_type": "stream",
     "text": [
      "100%|██████████| 155/155 [00:46<00:00,  3.35it/s]\n",
      "100%|██████████| 67/67 [00:20<00:00,  3.23it/s]\n",
      "100%|██████████| 18/18 [00:05<00:00,  3.26it/s]\n"
     ]
    },
    {
     "name": "stdout",
     "output_type": "stream",
     "text": [
      "Train loss: 0.15643434197671952\n",
      "Train consistency loss: 0.00871969385197692\n",
      "Validation loss: 0.28851837250921464\n",
      "1m 13s\n",
      "Consistency Loss declined to 0.00871969385197692\n",
      "Early Stopping Counter = 0\n",
      "Epoch 122/300\n"
     ]
    },
    {
     "name": "stderr",
     "output_type": "stream",
     "text": [
      "100%|██████████| 155/155 [00:46<00:00,  3.32it/s]\n",
      "100%|██████████| 67/67 [00:20<00:00,  3.20it/s]\n",
      "100%|██████████| 18/18 [00:05<00:00,  3.27it/s]\n"
     ]
    },
    {
     "name": "stdout",
     "output_type": "stream",
     "text": [
      "Train loss: 0.15625177439182036\n",
      "Train consistency loss: 0.008677656435644004\n",
      "Validation loss: 0.28862298611137605\n",
      "1m 13s\n",
      "Consistency Loss declined to 0.008677656435644004\n",
      "Early Stopping Counter = 0\n",
      "Epoch 123/300\n"
     ]
    },
    {
     "name": "stderr",
     "output_type": "stream",
     "text": [
      "100%|██████████| 155/155 [00:46<00:00,  3.30it/s]\n",
      "100%|██████████| 67/67 [00:20<00:00,  3.22it/s]\n",
      "100%|██████████| 18/18 [00:05<00:00,  3.34it/s]\n"
     ]
    },
    {
     "name": "stdout",
     "output_type": "stream",
     "text": [
      "Train loss: 0.15630381914877123\n",
      "Train consistency loss: 0.008887091964316456\n",
      "Validation loss: 0.27979112085368896\n",
      "1m 13s\n",
      "Early Stopping Counter = 1\n",
      "Epoch 124/300\n"
     ]
    },
    {
     "name": "stderr",
     "output_type": "stream",
     "text": [
      "100%|██████████| 155/155 [00:46<00:00,  3.35it/s]\n",
      "100%|██████████| 67/67 [00:20<00:00,  3.20it/s]\n",
      "100%|██████████| 18/18 [00:05<00:00,  3.30it/s]\n"
     ]
    },
    {
     "name": "stdout",
     "output_type": "stream",
     "text": [
      "Train loss: 0.15542533984107357\n",
      "Train consistency loss: 0.008760746088879766\n",
      "Validation loss: 0.294344912800524\n",
      "1m 13s\n",
      "Early Stopping Counter = 2\n",
      "Epoch 125/300\n"
     ]
    },
    {
     "name": "stderr",
     "output_type": "stream",
     "text": [
      "100%|██████████| 155/155 [00:46<00:00,  3.35it/s]\n",
      "100%|██████████| 67/67 [00:20<00:00,  3.22it/s]\n",
      "100%|██████████| 18/18 [00:05<00:00,  3.28it/s]\n"
     ]
    },
    {
     "name": "stdout",
     "output_type": "stream",
     "text": [
      "Train loss: 0.15591234521519753\n",
      "Train consistency loss: 0.009159162279162834\n",
      "Validation loss: 0.3018825948238373\n",
      "1m 13s\n",
      "Early Stopping Counter = 3\n",
      "Epoch 126/300\n"
     ]
    },
    {
     "name": "stderr",
     "output_type": "stream",
     "text": [
      "100%|██████████| 155/155 [00:46<00:00,  3.36it/s]\n",
      "100%|██████████| 67/67 [00:20<00:00,  3.20it/s]\n",
      "100%|██████████| 18/18 [00:05<00:00,  3.29it/s]\n"
     ]
    },
    {
     "name": "stdout",
     "output_type": "stream",
     "text": [
      "Train loss: 0.15541677292316192\n",
      "Train consistency loss: 0.010004207252093883\n",
      "Validation loss: 0.2907579839229584\n",
      "1m 13s\n",
      "Early Stopping Counter = 4\n",
      "Epoch 127/300\n"
     ]
    },
    {
     "name": "stderr",
     "output_type": "stream",
     "text": [
      "100%|██████████| 155/155 [00:46<00:00,  3.34it/s]\n",
      "100%|██████████| 67/67 [00:20<00:00,  3.20it/s]\n",
      "100%|██████████| 18/18 [00:05<00:00,  3.22it/s]\n"
     ]
    },
    {
     "name": "stdout",
     "output_type": "stream",
     "text": [
      "Train loss: 0.1553493705968703\n",
      "Train consistency loss: 0.014391075020461386\n",
      "Validation loss: 0.3284243047237396\n",
      "1m 13s\n",
      "Early Stopping Counter = 5\n",
      "Epoch 128/300\n"
     ]
    },
    {
     "name": "stderr",
     "output_type": "stream",
     "text": [
      "100%|██████████| 155/155 [00:46<00:00,  3.33it/s]\n",
      "100%|██████████| 67/67 [00:20<00:00,  3.20it/s]\n",
      "100%|██████████| 18/18 [00:05<00:00,  3.29it/s]\n"
     ]
    },
    {
     "name": "stdout",
     "output_type": "stream",
     "text": [
      "Train loss: 0.16096803882429678\n",
      "Train consistency loss: 0.009146629283621685\n",
      "Validation loss: 0.2919988946782218\n",
      "1m 13s\n",
      "Early Stopping Counter = 6\n",
      "Epoch 129/300\n"
     ]
    },
    {
     "name": "stderr",
     "output_type": "stream",
     "text": [
      "100%|██████████| 155/155 [00:46<00:00,  3.35it/s]\n",
      "100%|██████████| 67/67 [00:20<00:00,  3.20it/s]\n",
      "100%|██████████| 18/18 [00:05<00:00,  3.29it/s]\n"
     ]
    },
    {
     "name": "stdout",
     "output_type": "stream",
     "text": [
      "Train loss: 0.1555185292516985\n",
      "Train consistency loss: 0.00829713909414166\n",
      "Validation loss: 0.28302810299727654\n",
      "1m 13s\n",
      "Consistency Loss declined to 0.00829713909414166\n",
      "Early Stopping Counter = 0\n",
      "Epoch 130/300\n"
     ]
    },
    {
     "name": "stderr",
     "output_type": "stream",
     "text": [
      "100%|██████████| 155/155 [00:46<00:00,  3.34it/s]\n",
      "100%|██████████| 67/67 [00:20<00:00,  3.22it/s]\n",
      "100%|██████████| 18/18 [00:05<00:00,  3.29it/s]\n"
     ]
    },
    {
     "name": "stdout",
     "output_type": "stream",
     "text": [
      "Train loss: 0.1533114105463028\n",
      "Train consistency loss: 0.008830039185096525\n",
      "Validation loss: 0.2880633705192142\n",
      "1m 13s\n",
      "Early Stopping Counter = 1\n",
      "Epoch 131/300\n"
     ]
    },
    {
     "name": "stderr",
     "output_type": "stream",
     "text": [
      "100%|██████████| 155/155 [00:46<00:00,  3.34it/s]\n",
      "100%|██████████| 67/67 [00:21<00:00,  3.19it/s]\n",
      "100%|██████████| 18/18 [00:05<00:00,  3.29it/s]\n"
     ]
    },
    {
     "name": "stdout",
     "output_type": "stream",
     "text": [
      "Train loss: 0.15375872451451517\n",
      "Train consistency loss: 0.008061820415279536\n",
      "Validation loss: 0.28833809412188\n",
      "1m 13s\n",
      "Consistency Loss declined to 0.008061820415279536\n",
      "Early Stopping Counter = 0\n",
      "Epoch 132/300\n"
     ]
    },
    {
     "name": "stderr",
     "output_type": "stream",
     "text": [
      "100%|██████████| 155/155 [00:46<00:00,  3.34it/s]\n",
      "100%|██████████| 67/67 [00:20<00:00,  3.23it/s]\n",
      "100%|██████████| 18/18 [00:05<00:00,  3.16it/s]\n"
     ]
    },
    {
     "name": "stdout",
     "output_type": "stream",
     "text": [
      "Train loss: 0.15326646451027162\n",
      "Train consistency loss: 0.00843932166862399\n",
      "Validation loss: 0.30887751943535274\n",
      "1m 13s\n",
      "Early Stopping Counter = 1\n",
      "Epoch 133/300\n"
     ]
    },
    {
     "name": "stderr",
     "output_type": "stream",
     "text": [
      "100%|██████████| 155/155 [00:46<00:00,  3.35it/s]\n",
      "100%|██████████| 67/67 [00:20<00:00,  3.23it/s]\n",
      "100%|██████████| 18/18 [00:05<00:00,  3.27it/s]\n"
     ]
    },
    {
     "name": "stdout",
     "output_type": "stream",
     "text": [
      "Train loss: 0.15169069233440582\n",
      "Train consistency loss: 0.007814818736054559\n",
      "Validation loss: 0.29366761445999146\n",
      "1m 12s\n",
      "Consistency Loss declined to 0.007814818736054559\n",
      "Early Stopping Counter = 0\n",
      "Epoch 134/300\n"
     ]
    },
    {
     "name": "stderr",
     "output_type": "stream",
     "text": [
      "100%|██████████| 155/155 [00:46<00:00,  3.33it/s]\n",
      "100%|██████████| 67/67 [00:20<00:00,  3.23it/s]\n",
      "100%|██████████| 18/18 [00:05<00:00,  3.28it/s]\n"
     ]
    },
    {
     "name": "stdout",
     "output_type": "stream",
     "text": [
      "Train loss: 0.15153567752530497\n",
      "Train consistency loss: 0.008497267322086575\n",
      "Validation loss: 0.2951584483186404\n",
      "1m 13s\n",
      "Early Stopping Counter = 1\n",
      "Epoch 135/300\n"
     ]
    },
    {
     "name": "stderr",
     "output_type": "stream",
     "text": [
      "100%|██████████| 155/155 [00:46<00:00,  3.35it/s]\n",
      "100%|██████████| 67/67 [00:20<00:00,  3.19it/s]\n",
      "100%|██████████| 18/18 [00:05<00:00,  3.24it/s]\n"
     ]
    },
    {
     "name": "stdout",
     "output_type": "stream",
     "text": [
      "Train loss: 0.15108007711748922\n",
      "Train consistency loss: 0.007688151755884512\n",
      "Validation loss: 0.2883649501535628\n",
      "1m 13s\n",
      "Consistency Loss declined to 0.007688151755884512\n",
      "Early Stopping Counter = 0\n",
      "Epoch 136/300\n"
     ]
    },
    {
     "name": "stderr",
     "output_type": "stream",
     "text": [
      "100%|██████████| 155/155 [00:46<00:00,  3.34it/s]\n",
      "100%|██████████| 67/67 [00:20<00:00,  3.22it/s]\n",
      "100%|██████████| 18/18 [00:05<00:00,  3.22it/s]\n"
     ]
    },
    {
     "name": "stdout",
     "output_type": "stream",
     "text": [
      "Train loss: 0.15073066469161742\n",
      "Train consistency loss: 0.00788707422342763\n",
      "Validation loss: 0.2735186161266433\n",
      "1m 13s\n",
      "Early Stopping Counter = 1\n",
      "Epoch 137/300\n"
     ]
    },
    {
     "name": "stderr",
     "output_type": "stream",
     "text": [
      "100%|██████████| 155/155 [00:46<00:00,  3.37it/s]\n",
      "100%|██████████| 67/67 [00:20<00:00,  3.20it/s]\n",
      "100%|██████████| 18/18 [00:05<00:00,  3.27it/s]\n"
     ]
    },
    {
     "name": "stdout",
     "output_type": "stream",
     "text": [
      "Train loss: 0.1522961519898907\n",
      "Train consistency loss: 0.007780165050123165\n",
      "Validation loss: 0.2808257250322236\n",
      "1m 12s\n",
      "Early Stopping Counter = 2\n",
      "Epoch 138/300\n"
     ]
    },
    {
     "name": "stderr",
     "output_type": "stream",
     "text": [
      "100%|██████████| 155/155 [00:46<00:00,  3.35it/s]\n",
      "100%|██████████| 67/67 [00:20<00:00,  3.19it/s]\n",
      "100%|██████████| 18/18 [00:05<00:00,  3.33it/s]\n"
     ]
    },
    {
     "name": "stdout",
     "output_type": "stream",
     "text": [
      "Train loss: 0.15090507047791635\n",
      "Train consistency loss: 0.008134201193339567\n",
      "Validation loss: 0.29372790538602406\n",
      "1m 13s\n",
      "Early Stopping Counter = 3\n",
      "Epoch 139/300\n"
     ]
    },
    {
     "name": "stderr",
     "output_type": "stream",
     "text": [
      "100%|██████████| 155/155 [00:46<00:00,  3.34it/s]\n",
      "100%|██████████| 67/67 [00:20<00:00,  3.20it/s]\n",
      "100%|██████████| 18/18 [00:05<00:00,  3.28it/s]\n"
     ]
    },
    {
     "name": "stdout",
     "output_type": "stream",
     "text": [
      "Train loss: 0.15130694186495197\n",
      "Train consistency loss: 0.008670428920704038\n",
      "Validation loss: 0.2916971925232146\n",
      "1m 13s\n",
      "Early Stopping Counter = 4\n",
      "Epoch 140/300\n"
     ]
    },
    {
     "name": "stderr",
     "output_type": "stream",
     "text": [
      "100%|██████████| 155/155 [00:46<00:00,  3.33it/s]\n",
      "100%|██████████| 67/67 [00:20<00:00,  3.21it/s]\n",
      "100%|██████████| 18/18 [00:05<00:00,  3.28it/s]\n"
     ]
    },
    {
     "name": "stdout",
     "output_type": "stream",
     "text": [
      "Train loss: 0.15126739951872056\n",
      "Train consistency loss: 0.007691776223564104\n",
      "Validation loss: 0.2822052410079373\n",
      "1m 13s\n",
      "Early Stopping Counter = 5\n",
      "Epoch 141/300\n"
     ]
    },
    {
     "name": "stderr",
     "output_type": "stream",
     "text": [
      "100%|██████████| 155/155 [00:46<00:00,  3.34it/s]\n",
      "100%|██████████| 67/67 [00:20<00:00,  3.20it/s]\n",
      "100%|██████████| 18/18 [00:05<00:00,  3.26it/s]\n"
     ]
    },
    {
     "name": "stdout",
     "output_type": "stream",
     "text": [
      "Train loss: 0.15004828961626177\n",
      "Train consistency loss: 0.007925827796362452\n",
      "Validation loss: 0.2866978603932593\n",
      "1m 13s\n",
      "Early Stopping Counter = 6\n",
      "Epoch 142/300\n"
     ]
    },
    {
     "name": "stderr",
     "output_type": "stream",
     "text": [
      "100%|██████████| 155/155 [00:46<00:00,  3.33it/s]\n",
      "100%|██████████| 67/67 [00:20<00:00,  3.20it/s]\n",
      "100%|██████████| 18/18 [00:05<00:00,  3.24it/s]\n"
     ]
    },
    {
     "name": "stdout",
     "output_type": "stream",
     "text": [
      "Train loss: 0.1491630601786798\n",
      "Train consistency loss: 0.007168096288649449\n",
      "Validation loss: 0.30358029156923294\n",
      "1m 13s\n",
      "Consistency Loss declined to 0.007168096288649449\n",
      "Early Stopping Counter = 0\n",
      "Epoch 143/300\n"
     ]
    },
    {
     "name": "stderr",
     "output_type": "stream",
     "text": [
      "100%|██████████| 155/155 [00:46<00:00,  3.35it/s]\n",
      "100%|██████████| 67/67 [00:20<00:00,  3.21it/s]\n",
      "100%|██████████| 18/18 [00:05<00:00,  3.33it/s]\n"
     ]
    },
    {
     "name": "stdout",
     "output_type": "stream",
     "text": [
      "Train loss: 0.14919739360770873\n",
      "Train consistency loss: 0.007478954499837623\n",
      "Validation loss: 0.2910102489921782\n",
      "1m 13s\n",
      "Early Stopping Counter = 1\n",
      "Epoch 144/300\n"
     ]
    },
    {
     "name": "stderr",
     "output_type": "stream",
     "text": [
      "100%|██████████| 155/155 [00:46<00:00,  3.35it/s]\n",
      "100%|██████████| 67/67 [00:20<00:00,  3.23it/s]\n",
      "100%|██████████| 18/18 [00:05<00:00,  3.27it/s]\n"
     ]
    },
    {
     "name": "stdout",
     "output_type": "stream",
     "text": [
      "Train loss: 0.14943141422925457\n",
      "Train consistency loss: 0.006982573679884646\n",
      "Validation loss: 0.2779119105802642\n",
      "1m 13s\n",
      "Consistency Loss declined to 0.006982573679884646\n",
      "Early Stopping Counter = 0\n",
      "Epoch 145/300\n"
     ]
    },
    {
     "name": "stderr",
     "output_type": "stream",
     "text": [
      "100%|██████████| 155/155 [00:46<00:00,  3.33it/s]\n",
      "100%|██████████| 67/67 [00:20<00:00,  3.22it/s]\n",
      "100%|██████████| 18/18 [00:05<00:00,  3.23it/s]\n"
     ]
    },
    {
     "name": "stdout",
     "output_type": "stream",
     "text": [
      "Train loss: 0.1490766672838119\n",
      "Train consistency loss: 0.0074745172203810354\n",
      "Validation loss: 0.3064461805754238\n",
      "1m 13s\n",
      "Early Stopping Counter = 1\n",
      "Epoch 146/300\n"
     ]
    },
    {
     "name": "stderr",
     "output_type": "stream",
     "text": [
      "100%|██████████| 155/155 [00:46<00:00,  3.34it/s]\n",
      "100%|██████████| 67/67 [00:20<00:00,  3.22it/s]\n",
      "100%|██████████| 18/18 [00:05<00:00,  3.33it/s]\n"
     ]
    },
    {
     "name": "stdout",
     "output_type": "stream",
     "text": [
      "Train loss: 0.14754788875579833\n",
      "Train consistency loss: 0.0079267088136177\n",
      "Validation loss: 0.29314859459797543\n",
      "1m 13s\n",
      "Early Stopping Counter = 2\n",
      "Epoch 147/300\n"
     ]
    },
    {
     "name": "stderr",
     "output_type": "stream",
     "text": [
      "100%|██████████| 155/155 [00:46<00:00,  3.35it/s]\n",
      "100%|██████████| 67/67 [00:20<00:00,  3.22it/s]\n",
      "100%|██████████| 18/18 [00:05<00:00,  3.23it/s]\n"
     ]
    },
    {
     "name": "stdout",
     "output_type": "stream",
     "text": [
      "Train loss: 0.14810804945807304\n",
      "Train consistency loss: 0.0066881559115014415\n",
      "Validation loss: 0.28186170425679946\n",
      "1m 13s\n",
      "Consistency Loss declined to 0.0066881559115014415\n",
      "Early Stopping Counter = 0\n",
      "Epoch 148/300\n"
     ]
    },
    {
     "name": "stderr",
     "output_type": "stream",
     "text": [
      "100%|██████████| 155/155 [00:46<00:00,  3.33it/s]\n",
      "100%|██████████| 67/67 [00:20<00:00,  3.22it/s]\n",
      "100%|██████████| 18/18 [00:05<00:00,  3.27it/s]\n"
     ]
    },
    {
     "name": "stdout",
     "output_type": "stream",
     "text": [
      "Train loss: 0.14766230487054394\n",
      "Train consistency loss: 0.006713047324777094\n",
      "Validation loss: 0.2847648561000824\n",
      "1m 13s\n",
      "Early Stopping Counter = 1\n",
      "Epoch 149/300\n"
     ]
    },
    {
     "name": "stderr",
     "output_type": "stream",
     "text": [
      "100%|██████████| 155/155 [00:46<00:00,  3.30it/s]\n",
      "100%|██████████| 67/67 [00:21<00:00,  3.18it/s]\n",
      "100%|██████████| 18/18 [00:05<00:00,  3.24it/s]\n"
     ]
    },
    {
     "name": "stdout",
     "output_type": "stream",
     "text": [
      "Train loss: 0.14694362806697045\n",
      "Train consistency loss: 0.00770332847735775\n",
      "Validation loss: 0.3076224691338009\n",
      "1m 14s\n",
      "Early Stopping Counter = 2\n",
      "Epoch 150/300\n"
     ]
    },
    {
     "name": "stderr",
     "output_type": "stream",
     "text": [
      "100%|██████████| 155/155 [00:46<00:00,  3.34it/s]\n",
      "100%|██████████| 67/67 [00:20<00:00,  3.23it/s]\n",
      "100%|██████████| 18/18 [00:05<00:00,  3.26it/s]\n"
     ]
    },
    {
     "name": "stdout",
     "output_type": "stream",
     "text": [
      "Train loss: 0.14734506097532088\n",
      "Train consistency loss: 0.007643768268484456\n",
      "Validation loss: 0.29270413435167736\n",
      "1m 13s\n",
      "Early Stopping Counter = 3\n",
      "Epoch 151/300\n"
     ]
    },
    {
     "name": "stderr",
     "output_type": "stream",
     "text": [
      "100%|██████████| 155/155 [00:46<00:00,  3.33it/s]\n",
      "100%|██████████| 67/67 [00:20<00:00,  3.20it/s]\n",
      "100%|██████████| 18/18 [00:05<00:00,  3.24it/s]\n"
     ]
    },
    {
     "name": "stdout",
     "output_type": "stream",
     "text": [
      "Train loss: 0.14578633697763566\n",
      "Train consistency loss: 0.007039284295360766\n",
      "Validation loss: 0.30292661488056183\n",
      "1m 13s\n",
      "Early Stopping Counter = 4\n",
      "Epoch 152/300\n"
     ]
    },
    {
     "name": "stderr",
     "output_type": "stream",
     "text": [
      "100%|██████████| 155/155 [00:46<00:00,  3.34it/s]\n",
      "100%|██████████| 67/67 [00:20<00:00,  3.21it/s]\n",
      "100%|██████████| 18/18 [00:05<00:00,  3.24it/s]\n"
     ]
    },
    {
     "name": "stdout",
     "output_type": "stream",
     "text": [
      "Train loss: 0.1457717209573715\n",
      "Train consistency loss: 0.006734734856342869\n",
      "Validation loss: 0.29975566433535683\n",
      "1m 13s\n",
      "Early Stopping Counter = 5\n",
      "Epoch 153/300\n"
     ]
    },
    {
     "name": "stderr",
     "output_type": "stream",
     "text": [
      "100%|██████████| 155/155 [00:46<00:00,  3.34it/s]\n",
      "100%|██████████| 67/67 [00:20<00:00,  3.20it/s]\n",
      "100%|██████████| 18/18 [00:05<00:00,  3.28it/s]\n"
     ]
    },
    {
     "name": "stdout",
     "output_type": "stream",
     "text": [
      "Train loss: 0.14525144662587874\n",
      "Train consistency loss: 0.007082808255426475\n",
      "Validation loss: 0.305453397333622\n",
      "1m 13s\n",
      "Early Stopping Counter = 6\n",
      "Epoch 154/300\n"
     ]
    },
    {
     "name": "stderr",
     "output_type": "stream",
     "text": [
      "100%|██████████| 155/155 [00:46<00:00,  3.33it/s]\n",
      "100%|██████████| 67/67 [00:20<00:00,  3.23it/s]\n",
      "100%|██████████| 18/18 [00:05<00:00,  3.27it/s]\n"
     ]
    },
    {
     "name": "stdout",
     "output_type": "stream",
     "text": [
      "Train loss: 0.14496491152432658\n",
      "Train consistency loss: 0.006422241565896504\n",
      "Validation loss: 0.28499164515071446\n",
      "1m 13s\n",
      "Consistency Loss declined to 0.006422241565896504\n",
      "Early Stopping Counter = 0\n",
      "Epoch 155/300\n"
     ]
    },
    {
     "name": "stderr",
     "output_type": "stream",
     "text": [
      "100%|██████████| 155/155 [00:46<00:00,  3.33it/s]\n",
      "100%|██████████| 67/67 [00:20<00:00,  3.22it/s]\n",
      "100%|██████████| 18/18 [00:05<00:00,  3.27it/s]\n"
     ]
    },
    {
     "name": "stdout",
     "output_type": "stream",
     "text": [
      "Train loss: 0.14587572212180783\n",
      "Train consistency loss: 0.007191396325326233\n",
      "Validation loss: 0.2968920220931371\n",
      "1m 13s\n",
      "Early Stopping Counter = 1\n",
      "Epoch 156/300\n"
     ]
    },
    {
     "name": "stderr",
     "output_type": "stream",
     "text": [
      "100%|██████████| 155/155 [00:46<00:00,  3.35it/s]\n",
      "100%|██████████| 67/67 [00:20<00:00,  3.20it/s]\n",
      "100%|██████████| 18/18 [00:05<00:00,  3.29it/s]\n"
     ]
    },
    {
     "name": "stdout",
     "output_type": "stream",
     "text": [
      "Train loss: 0.14448230857810668\n",
      "Train consistency loss: 0.006447790527660677\n",
      "Validation loss: 0.28090468214617836\n",
      "1m 13s\n",
      "Early Stopping Counter = 2\n",
      "Epoch 157/300\n"
     ]
    },
    {
     "name": "stderr",
     "output_type": "stream",
     "text": [
      "100%|██████████| 155/155 [00:46<00:00,  3.35it/s]\n",
      "100%|██████████| 67/67 [00:21<00:00,  3.18it/s]\n",
      "100%|██████████| 18/18 [00:05<00:00,  3.36it/s]\n"
     ]
    },
    {
     "name": "stdout",
     "output_type": "stream",
     "text": [
      "Train loss: 0.14440842299692092\n",
      "Train consistency loss: 0.006532359618081975\n",
      "Validation loss: 0.29612449887726044\n",
      "1m 13s\n",
      "Early Stopping Counter = 3\n",
      "Epoch 158/300\n"
     ]
    },
    {
     "name": "stderr",
     "output_type": "stream",
     "text": [
      "100%|██████████| 155/155 [00:46<00:00,  3.33it/s]\n",
      "100%|██████████| 67/67 [00:21<00:00,  3.18it/s]\n",
      "100%|██████████| 18/18 [00:05<00:00,  3.33it/s]\n"
     ]
    },
    {
     "name": "stdout",
     "output_type": "stream",
     "text": [
      "Train loss: 0.14327331055556575\n",
      "Train consistency loss: 0.006313214575482616\n",
      "Validation loss: 0.2863830087913407\n",
      "1m 13s\n",
      "Consistency Loss declined to 0.006313214575482616\n",
      "Early Stopping Counter = 0\n",
      "Epoch 159/300\n"
     ]
    },
    {
     "name": "stderr",
     "output_type": "stream",
     "text": [
      "100%|██████████| 155/155 [00:46<00:00,  3.33it/s]\n",
      "100%|██████████| 67/67 [00:20<00:00,  3.19it/s]\n",
      "100%|██████████| 18/18 [00:05<00:00,  3.25it/s]\n"
     ]
    },
    {
     "name": "stdout",
     "output_type": "stream",
     "text": [
      "Train loss: 0.14307682095996796\n",
      "Train consistency loss: 0.0064333278352200094\n",
      "Validation loss: 0.2848427610264884\n",
      "1m 13s\n",
      "Early Stopping Counter = 1\n",
      "Epoch 160/300\n"
     ]
    },
    {
     "name": "stderr",
     "output_type": "stream",
     "text": [
      "100%|██████████| 155/155 [00:46<00:00,  3.35it/s]\n",
      "100%|██████████| 67/67 [00:20<00:00,  3.23it/s]\n",
      "100%|██████████| 18/18 [00:05<00:00,  3.32it/s]\n"
     ]
    },
    {
     "name": "stdout",
     "output_type": "stream",
     "text": [
      "Train loss: 0.1424354455163402\n",
      "Train consistency loss: 0.0065190191797689714\n",
      "Validation loss: 0.2873753176795112\n",
      "1m 12s\n",
      "Early Stopping Counter = 2\n",
      "Epoch 161/300\n"
     ]
    },
    {
     "name": "stderr",
     "output_type": "stream",
     "text": [
      "100%|██████████| 155/155 [00:46<00:00,  3.35it/s]\n",
      "100%|██████████| 67/67 [00:20<00:00,  3.23it/s]\n",
      "100%|██████████| 18/18 [00:05<00:00,  3.26it/s]\n"
     ]
    },
    {
     "name": "stdout",
     "output_type": "stream",
     "text": [
      "Train loss: 0.14229226905492046\n",
      "Train consistency loss: 0.0073672226741353965\n",
      "Validation loss: 0.29352883332305485\n",
      "1m 13s\n",
      "Early Stopping Counter = 3\n",
      "Epoch 162/300\n"
     ]
    },
    {
     "name": "stderr",
     "output_type": "stream",
     "text": [
      "100%|██████████| 155/155 [00:46<00:00,  3.35it/s]\n",
      "100%|██████████| 67/67 [00:20<00:00,  3.23it/s]\n",
      "100%|██████████| 18/18 [00:05<00:00,  3.32it/s]\n"
     ]
    },
    {
     "name": "stdout",
     "output_type": "stream",
     "text": [
      "Train loss: 0.14285414093925106\n",
      "Train consistency loss: 0.006799304062055785\n",
      "Validation loss: 0.2899421229958534\n",
      "1m 12s\n",
      "Early Stopping Counter = 4\n",
      "Epoch 163/300\n"
     ]
    },
    {
     "name": "stderr",
     "output_type": "stream",
     "text": [
      "100%|██████████| 155/155 [00:46<00:00,  3.35it/s]\n",
      "100%|██████████| 67/67 [00:20<00:00,  3.21it/s]\n",
      "100%|██████████| 18/18 [00:05<00:00,  3.28it/s]\n"
     ]
    },
    {
     "name": "stdout",
     "output_type": "stream",
     "text": [
      "Train loss: 0.14200662129348324\n",
      "Train consistency loss: 0.0065568648938979235\n",
      "Validation loss: 0.2926805979675717\n",
      "1m 13s\n",
      "Early Stopping Counter = 5\n",
      "Epoch 164/300\n"
     ]
    },
    {
     "name": "stderr",
     "output_type": "stream",
     "text": [
      "100%|██████████| 155/155 [00:46<00:00,  3.34it/s]\n",
      "100%|██████████| 67/67 [00:20<00:00,  3.23it/s]\n",
      "100%|██████████| 18/18 [00:05<00:00,  3.27it/s]\n"
     ]
    },
    {
     "name": "stdout",
     "output_type": "stream",
     "text": [
      "Train loss: 0.1417618043480381\n",
      "Train consistency loss: 0.006751012060541048\n",
      "Validation loss: 0.2901954899231593\n",
      "1m 13s\n",
      "Early Stopping Counter = 6\n",
      "Epoch 165/300\n"
     ]
    },
    {
     "name": "stderr",
     "output_type": "stream",
     "text": [
      "100%|██████████| 155/155 [00:46<00:00,  3.35it/s]\n",
      "100%|██████████| 67/67 [00:20<00:00,  3.22it/s]\n",
      "100%|██████████| 18/18 [00:05<00:00,  3.24it/s]\n"
     ]
    },
    {
     "name": "stdout",
     "output_type": "stream",
     "text": [
      "Train loss: 0.14192861395497475\n",
      "Train consistency loss: 0.006176429752038041\n",
      "Validation loss: 0.30196103515724343\n",
      "1m 13s\n",
      "Consistency Loss declined to 0.006176429752038041\n",
      "Early Stopping Counter = 0\n",
      "Epoch 166/300\n"
     ]
    },
    {
     "name": "stderr",
     "output_type": "stream",
     "text": [
      "100%|██████████| 155/155 [00:46<00:00,  3.32it/s]\n",
      "100%|██████████| 67/67 [00:20<00:00,  3.20it/s]\n",
      "100%|██████████| 18/18 [00:05<00:00,  3.17it/s]\n"
     ]
    },
    {
     "name": "stdout",
     "output_type": "stream",
     "text": [
      "Train loss: 0.1422580699286153\n",
      "Train consistency loss: 0.006192893728113442\n",
      "Validation loss: 0.2856163821286625\n",
      "1m 13s\n",
      "Early Stopping Counter = 1\n",
      "Epoch 167/300\n"
     ]
    },
    {
     "name": "stderr",
     "output_type": "stream",
     "text": [
      "100%|██████████| 155/155 [00:46<00:00,  3.34it/s]\n",
      "100%|██████████| 67/67 [00:20<00:00,  3.20it/s]\n",
      "100%|██████████| 18/18 [00:05<00:00,  3.34it/s]\n"
     ]
    },
    {
     "name": "stdout",
     "output_type": "stream",
     "text": [
      "Train loss: 0.14093398312407154\n",
      "Train consistency loss: 0.0060913012807827386\n",
      "Validation loss: 0.2931678224768903\n",
      "1m 13s\n",
      "Consistency Loss declined to 0.0060913012807827386\n",
      "Early Stopping Counter = 0\n",
      "Epoch 168/300\n"
     ]
    },
    {
     "name": "stderr",
     "output_type": "stream",
     "text": [
      "100%|██████████| 155/155 [00:46<00:00,  3.34it/s]\n",
      "100%|██████████| 67/67 [00:20<00:00,  3.21it/s]\n",
      "100%|██████████| 18/18 [00:05<00:00,  3.26it/s]\n"
     ]
    },
    {
     "name": "stdout",
     "output_type": "stream",
     "text": [
      "Train loss: 0.13995291311894695\n",
      "Train consistency loss: 0.0063945869706682305\n",
      "Validation loss: 0.29813359263870454\n",
      "1m 13s\n",
      "Early Stopping Counter = 1\n",
      "Epoch 169/300\n"
     ]
    },
    {
     "name": "stderr",
     "output_type": "stream",
     "text": [
      "100%|██████████| 155/155 [00:46<00:00,  3.35it/s]\n",
      "100%|██████████| 67/67 [00:20<00:00,  3.19it/s]\n",
      "100%|██████████| 18/18 [00:05<00:00,  3.28it/s]\n"
     ]
    },
    {
     "name": "stdout",
     "output_type": "stream",
     "text": [
      "Train loss: 0.13989668623093635\n",
      "Train consistency loss: 0.005761766601214881\n",
      "Validation loss: 0.29041264702876407\n",
      "1m 13s\n",
      "Consistency Loss declined to 0.005761766601214881\n",
      "Early Stopping Counter = 0\n",
      "Epoch 170/300\n"
     ]
    },
    {
     "name": "stderr",
     "output_type": "stream",
     "text": [
      "100%|██████████| 155/155 [00:46<00:00,  3.34it/s]\n",
      "100%|██████████| 67/67 [00:20<00:00,  3.23it/s]\n",
      "100%|██████████| 18/18 [00:05<00:00,  3.37it/s]\n"
     ]
    },
    {
     "name": "stdout",
     "output_type": "stream",
     "text": [
      "Train loss: 0.13968215719346078\n",
      "Train consistency loss: 0.005465131298180169\n",
      "Validation loss: 0.28882886800501084\n",
      "1m 13s\n",
      "Consistency Loss declined to 0.005465131298180169\n",
      "Early Stopping Counter = 0\n",
      "Epoch 171/300\n"
     ]
    },
    {
     "name": "stderr",
     "output_type": "stream",
     "text": [
      "100%|██████████| 155/155 [00:46<00:00,  3.32it/s]\n",
      "100%|██████████| 67/67 [00:20<00:00,  3.23it/s]\n",
      "100%|██████████| 18/18 [00:05<00:00,  3.28it/s]\n"
     ]
    },
    {
     "name": "stdout",
     "output_type": "stream",
     "text": [
      "Train loss: 0.14100432977561028\n",
      "Train consistency loss: 0.012123152280031746\n",
      "Validation loss: 0.3207012911637624\n",
      "1m 13s\n",
      "Early Stopping Counter = 1\n",
      "Epoch 172/300\n"
     ]
    },
    {
     "name": "stderr",
     "output_type": "stream",
     "text": [
      "100%|██████████| 155/155 [00:46<00:00,  3.34it/s]\n",
      "100%|██████████| 67/67 [00:20<00:00,  3.19it/s]\n",
      "100%|██████████| 18/18 [00:05<00:00,  3.25it/s]\n"
     ]
    },
    {
     "name": "stdout",
     "output_type": "stream",
     "text": [
      "Train loss: 0.14421307550322626\n",
      "Train consistency loss: 0.007273105755031331\n",
      "Validation loss: 0.2965986927350362\n",
      "1m 13s\n",
      "Early Stopping Counter = 2\n",
      "Epoch 173/300\n"
     ]
    },
    {
     "name": "stderr",
     "output_type": "stream",
     "text": [
      "100%|██████████| 155/155 [00:46<00:00,  3.35it/s]\n",
      "100%|██████████| 67/67 [00:20<00:00,  3.23it/s]\n",
      "100%|██████████| 18/18 [00:05<00:00,  3.20it/s]\n"
     ]
    },
    {
     "name": "stdout",
     "output_type": "stream",
     "text": [
      "Train loss: 0.13946383432034523\n",
      "Train consistency loss: 0.006631531881224086\n",
      "Validation loss: 0.29371784668829704\n",
      "1m 13s\n",
      "Early Stopping Counter = 3\n",
      "Epoch 174/300\n"
     ]
    },
    {
     "name": "stderr",
     "output_type": "stream",
     "text": [
      "100%|██████████| 155/155 [00:46<00:00,  3.36it/s]\n",
      "100%|██████████| 67/67 [00:21<00:00,  3.18it/s]\n",
      "100%|██████████| 18/18 [00:05<00:00,  3.37it/s]\n"
     ]
    },
    {
     "name": "stdout",
     "output_type": "stream",
     "text": [
      "Train loss: 0.13836598338619355\n",
      "Train consistency loss: 0.005403920191465251\n",
      "Validation loss: 0.2888332058986028\n",
      "1m 13s\n",
      "Consistency Loss declined to 0.005403920191465251\n",
      "Early Stopping Counter = 0\n",
      "Epoch 175/300\n"
     ]
    },
    {
     "name": "stderr",
     "output_type": "stream",
     "text": [
      "100%|██████████| 155/155 [00:46<00:00,  3.34it/s]\n",
      "100%|██████████| 67/67 [00:20<00:00,  3.19it/s]\n",
      "100%|██████████| 18/18 [00:05<00:00,  3.31it/s]\n"
     ]
    },
    {
     "name": "stdout",
     "output_type": "stream",
     "text": [
      "Train loss: 0.13876973361738265\n",
      "Train consistency loss: 0.00545418514077788\n",
      "Validation loss: 0.2796699003212982\n",
      "1m 13s\n",
      "Early Stopping Counter = 1\n",
      "Epoch 176/300\n"
     ]
    },
    {
     "name": "stderr",
     "output_type": "stream",
     "text": [
      "100%|██████████| 155/155 [00:46<00:00,  3.33it/s]\n",
      "100%|██████████| 67/67 [00:21<00:00,  3.17it/s]\n",
      "100%|██████████| 18/18 [00:05<00:00,  3.24it/s]\n"
     ]
    },
    {
     "name": "stdout",
     "output_type": "stream",
     "text": [
      "Train loss: 0.13799634061513408\n",
      "Train consistency loss: 0.00616947106266422\n",
      "Validation loss: 0.298272998796569\n",
      "1m 13s\n",
      "Early Stopping Counter = 2\n",
      "Epoch 177/300\n"
     ]
    },
    {
     "name": "stderr",
     "output_type": "stream",
     "text": [
      "100%|██████████| 155/155 [00:46<00:00,  3.31it/s]\n",
      "100%|██████████| 67/67 [00:20<00:00,  3.22it/s]\n",
      "100%|██████████| 18/18 [00:05<00:00,  3.33it/s]\n"
     ]
    },
    {
     "name": "stdout",
     "output_type": "stream",
     "text": [
      "Train loss: 0.13765453167500036\n",
      "Train consistency loss: 0.005103620452069636\n",
      "Validation loss: 0.28428376010722584\n",
      "1m 13s\n",
      "Consistency Loss declined to 0.005103620452069636\n",
      "Early Stopping Counter = 0\n",
      "Epoch 178/300\n"
     ]
    },
    {
     "name": "stderr",
     "output_type": "stream",
     "text": [
      "100%|██████████| 155/155 [00:46<00:00,  3.35it/s]\n",
      "100%|██████████| 67/67 [00:20<00:00,  3.23it/s]\n",
      "100%|██████████| 18/18 [00:05<00:00,  3.26it/s]\n"
     ]
    },
    {
     "name": "stdout",
     "output_type": "stream",
     "text": [
      "Train loss: 0.13724015283007776\n",
      "Train consistency loss: 0.0058884374769543535\n",
      "Validation loss: 0.279498221559657\n",
      "1m 13s\n",
      "Early Stopping Counter = 1\n",
      "Epoch 179/300\n"
     ]
    },
    {
     "name": "stderr",
     "output_type": "stream",
     "text": [
      "100%|██████████| 155/155 [00:46<00:00,  3.34it/s]\n",
      "100%|██████████| 67/67 [00:20<00:00,  3.23it/s]\n",
      "100%|██████████| 18/18 [00:05<00:00,  3.28it/s]\n"
     ]
    },
    {
     "name": "stdout",
     "output_type": "stream",
     "text": [
      "Train loss: 0.13776959935503622\n",
      "Train consistency loss: 0.005507386730872651\n",
      "Validation loss: 0.2927005663514137\n",
      "1m 13s\n",
      "Early Stopping Counter = 2\n",
      "Epoch 180/300\n"
     ]
    },
    {
     "name": "stderr",
     "output_type": "stream",
     "text": [
      "100%|██████████| 155/155 [00:46<00:00,  3.34it/s]\n",
      "100%|██████████| 67/67 [00:20<00:00,  3.22it/s]\n",
      "100%|██████████| 18/18 [00:05<00:00,  3.24it/s]\n"
     ]
    },
    {
     "name": "stdout",
     "output_type": "stream",
     "text": [
      "Train loss: 0.13692934666910478\n",
      "Train consistency loss: 0.005382162765530285\n",
      "Validation loss: 0.2889940407541063\n",
      "1m 13s\n",
      "Early Stopping Counter = 3\n",
      "Epoch 181/300\n"
     ]
    },
    {
     "name": "stderr",
     "output_type": "stream",
     "text": [
      "100%|██████████| 155/155 [00:46<00:00,  3.35it/s]\n",
      "100%|██████████| 67/67 [00:20<00:00,  3.22it/s]\n",
      "100%|██████████| 18/18 [00:05<00:00,  3.24it/s]\n"
     ]
    },
    {
     "name": "stdout",
     "output_type": "stream",
     "text": [
      "Train loss: 0.13622497757596355\n",
      "Train consistency loss: 0.005117275696525823\n",
      "Validation loss: 0.27748867414063877\n",
      "1m 13s\n",
      "Early Stopping Counter = 4\n",
      "Epoch 182/300\n"
     ]
    },
    {
     "name": "stderr",
     "output_type": "stream",
     "text": [
      "100%|██████████| 155/155 [00:46<00:00,  3.34it/s]\n",
      "100%|██████████| 67/67 [00:20<00:00,  3.23it/s]\n",
      "100%|██████████| 18/18 [00:05<00:00,  3.28it/s]\n"
     ]
    },
    {
     "name": "stdout",
     "output_type": "stream",
     "text": [
      "Train loss: 0.1362407691536411\n",
      "Train consistency loss: 0.0055186118610870485\n",
      "Validation loss: 0.2850000059439076\n",
      "1m 13s\n",
      "Early Stopping Counter = 5\n",
      "Epoch 183/300\n"
     ]
    },
    {
     "name": "stderr",
     "output_type": "stream",
     "text": [
      "100%|██████████| 155/155 [00:46<00:00,  3.31it/s]\n",
      "100%|██████████| 67/67 [00:20<00:00,  3.20it/s]\n",
      "100%|██████████| 18/18 [00:05<00:00,  3.25it/s]\n"
     ]
    },
    {
     "name": "stdout",
     "output_type": "stream",
     "text": [
      "Train loss: 0.13540826199516173\n",
      "Train consistency loss: 0.005236221088179902\n",
      "Validation loss: 0.2983051952388551\n",
      "1m 13s\n",
      "Early Stopping Counter = 6\n",
      "Epoch 184/300\n"
     ]
    },
    {
     "name": "stderr",
     "output_type": "stream",
     "text": [
      "100%|██████████| 155/155 [00:46<00:00,  3.33it/s]\n",
      "100%|██████████| 67/67 [00:20<00:00,  3.20it/s]\n",
      "100%|██████████| 18/18 [00:05<00:00,  3.25it/s]\n"
     ]
    },
    {
     "name": "stdout",
     "output_type": "stream",
     "text": [
      "Train loss: 0.1357483456692388\n",
      "Train consistency loss: 0.0052293113592678485\n",
      "Validation loss: 0.28037232243352467\n",
      "1m 13s\n",
      "Early Stopping Counter = 7\n",
      "Epoch 185/300\n"
     ]
    },
    {
     "name": "stderr",
     "output_type": "stream",
     "text": [
      "100%|██████████| 155/155 [00:46<00:00,  3.33it/s]\n",
      "100%|██████████| 67/67 [00:20<00:00,  3.20it/s]\n",
      "100%|██████████| 18/18 [00:05<00:00,  3.26it/s]\n"
     ]
    },
    {
     "name": "stdout",
     "output_type": "stream",
     "text": [
      "Train loss: 0.13555422973248266\n",
      "Train consistency loss: 0.0053208227019145415\n",
      "Validation loss: 0.2827204867369599\n",
      "1m 13s\n",
      "Early Stopping Counter = 8\n",
      "Epoch 186/300\n"
     ]
    },
    {
     "name": "stderr",
     "output_type": "stream",
     "text": [
      "100%|██████████| 155/155 [00:46<00:00,  3.33it/s]\n",
      "100%|██████████| 67/67 [00:20<00:00,  3.22it/s]\n",
      "100%|██████████| 18/18 [00:05<00:00,  3.22it/s]\n"
     ]
    },
    {
     "name": "stdout",
     "output_type": "stream",
     "text": [
      "Train loss: 0.13473095384336287\n",
      "Train consistency loss: 0.005047778178479022\n",
      "Validation loss: 0.2792102961490552\n",
      "1m 13s\n",
      "Consistency Loss declined to 0.005047778178479022\n",
      "Early Stopping Counter = 0\n",
      "Epoch 187/300\n"
     ]
    },
    {
     "name": "stderr",
     "output_type": "stream",
     "text": [
      "100%|██████████| 155/155 [00:46<00:00,  3.33it/s]\n",
      "100%|██████████| 67/67 [00:20<00:00,  3.23it/s]\n",
      "100%|██████████| 18/18 [00:05<00:00,  3.23it/s]\n"
     ]
    },
    {
     "name": "stdout",
     "output_type": "stream",
     "text": [
      "Train loss: 0.1347597161127675\n",
      "Train consistency loss: 0.005173438221716614\n",
      "Validation loss: 0.28061818786793286\n",
      "1m 13s\n",
      "Early Stopping Counter = 1\n",
      "Epoch 188/300\n"
     ]
    },
    {
     "name": "stderr",
     "output_type": "stream",
     "text": [
      "100%|██████████| 155/155 [00:46<00:00,  3.35it/s]\n",
      "100%|██████████| 67/67 [00:21<00:00,  3.18it/s]\n",
      "100%|██████████| 18/18 [00:05<00:00,  3.22it/s]\n"
     ]
    },
    {
     "name": "stdout",
     "output_type": "stream",
     "text": [
      "Train loss: 0.1339016053465105\n",
      "Train consistency loss: 0.005175801000988751\n",
      "Validation loss: 0.3003113228413794\n",
      "1m 13s\n",
      "Early Stopping Counter = 2\n",
      "Epoch 189/300\n"
     ]
    },
    {
     "name": "stderr",
     "output_type": "stream",
     "text": [
      "100%|██████████| 155/155 [00:46<00:00,  3.33it/s]\n",
      "100%|██████████| 67/67 [00:21<00:00,  3.18it/s]\n",
      "100%|██████████| 18/18 [00:05<00:00,  3.30it/s]\n"
     ]
    },
    {
     "name": "stdout",
     "output_type": "stream",
     "text": [
      "Train loss: 0.1339487682907812\n",
      "Train consistency loss: 0.005331915754602471\n",
      "Validation loss: 0.2908977485365338\n",
      "1m 13s\n",
      "Early Stopping Counter = 3\n",
      "Epoch 190/300\n"
     ]
    },
    {
     "name": "stderr",
     "output_type": "stream",
     "text": [
      "100%|██████████| 155/155 [00:47<00:00,  3.30it/s]\n",
      "100%|██████████| 67/67 [00:20<00:00,  3.22it/s]\n",
      "100%|██████████| 18/18 [00:05<00:00,  3.28it/s]\n"
     ]
    },
    {
     "name": "stdout",
     "output_type": "stream",
     "text": [
      "Train loss: 0.13424128438195876\n",
      "Train consistency loss: 0.004996049888571029\n",
      "Validation loss: 0.2863565215633975\n",
      "1m 13s\n",
      "Consistency Loss declined to 0.004996049888571029\n",
      "Early Stopping Counter = 0\n",
      "Epoch 191/300\n"
     ]
    },
    {
     "name": "stderr",
     "output_type": "stream",
     "text": [
      "100%|██████████| 155/155 [00:46<00:00,  3.34it/s]\n",
      "100%|██████████| 67/67 [00:20<00:00,  3.22it/s]\n",
      "100%|██████████| 18/18 [00:05<00:00,  3.30it/s]\n"
     ]
    },
    {
     "name": "stdout",
     "output_type": "stream",
     "text": [
      "Train loss: 0.1331782503954826\n",
      "Train consistency loss: 0.005001312830666108\n",
      "Validation loss: 0.294264276822408\n",
      "1m 13s\n",
      "Early Stopping Counter = 1\n",
      "Epoch 192/300\n"
     ]
    },
    {
     "name": "stderr",
     "output_type": "stream",
     "text": [
      "100%|██████████| 155/155 [00:46<00:00,  3.35it/s]\n",
      "100%|██████████| 67/67 [00:20<00:00,  3.19it/s]\n",
      "100%|██████████| 18/18 [00:05<00:00,  3.33it/s]\n"
     ]
    },
    {
     "name": "stdout",
     "output_type": "stream",
     "text": [
      "Train loss: 0.13337290830189183\n",
      "Train consistency loss: 0.005360595645633207\n",
      "Validation loss: 0.2812417869766553\n",
      "1m 13s\n",
      "Early Stopping Counter = 2\n",
      "Epoch 193/300\n"
     ]
    },
    {
     "name": "stderr",
     "output_type": "stream",
     "text": [
      "100%|██████████| 155/155 [00:46<00:00,  3.35it/s]\n",
      "100%|██████████| 67/67 [00:20<00:00,  3.23it/s]\n",
      "100%|██████████| 18/18 [00:05<00:00,  3.31it/s]\n"
     ]
    },
    {
     "name": "stdout",
     "output_type": "stream",
     "text": [
      "Train loss: 0.13285606320827237\n",
      "Train consistency loss: 0.00494441692369865\n",
      "Validation loss: 0.2770552337169647\n",
      "1m 13s\n",
      "Consistency Loss declined to 0.00494441692369865\n",
      "Early Stopping Counter = 0\n",
      "Epoch 194/300\n"
     ]
    },
    {
     "name": "stderr",
     "output_type": "stream",
     "text": [
      "100%|██████████| 155/155 [00:46<00:00,  3.32it/s]\n",
      "100%|██████████| 67/67 [00:20<00:00,  3.20it/s]\n",
      "100%|██████████| 18/18 [00:05<00:00,  3.28it/s]\n"
     ]
    },
    {
     "name": "stdout",
     "output_type": "stream",
     "text": [
      "Train loss: 0.1325476503660602\n",
      "Train consistency loss: 0.005608319016451489\n",
      "Validation loss: 0.2933938288026386\n",
      "1m 13s\n",
      "Early Stopping Counter = 1\n",
      "Epoch 195/300\n"
     ]
    },
    {
     "name": "stderr",
     "output_type": "stream",
     "text": [
      "100%|██████████| 155/155 [00:46<00:00,  3.32it/s]\n",
      "100%|██████████| 67/67 [00:21<00:00,  3.17it/s]\n",
      "100%|██████████| 18/18 [00:05<00:00,  3.29it/s]\n"
     ]
    },
    {
     "name": "stdout",
     "output_type": "stream",
     "text": [
      "Train loss: 0.13275353067344234\n",
      "Train consistency loss: 0.004779407761490612\n",
      "Validation loss: 0.29558975994586945\n",
      "1m 13s\n",
      "Consistency Loss declined to 0.004779407761490612\n",
      "Early Stopping Counter = 0\n",
      "Epoch 196/300\n"
     ]
    },
    {
     "name": "stderr",
     "output_type": "stream",
     "text": [
      "100%|██████████| 155/155 [00:46<00:00,  3.34it/s]\n",
      "100%|██████████| 67/67 [00:20<00:00,  3.23it/s]\n",
      "100%|██████████| 18/18 [00:05<00:00,  3.32it/s]\n"
     ]
    },
    {
     "name": "stdout",
     "output_type": "stream",
     "text": [
      "Train loss: 0.1322095533532481\n",
      "Train consistency loss: 0.011600903871316296\n",
      "Validation loss: 0.3259801458981302\n",
      "1m 13s\n",
      "Early Stopping Counter = 1\n",
      "Epoch 197/300\n"
     ]
    },
    {
     "name": "stderr",
     "output_type": "stream",
     "text": [
      "100%|██████████| 155/155 [00:46<00:00,  3.34it/s]\n",
      "100%|██████████| 67/67 [00:20<00:00,  3.22it/s]\n",
      "100%|██████████| 18/18 [00:05<00:00,  3.31it/s]\n"
     ]
    },
    {
     "name": "stdout",
     "output_type": "stream",
     "text": [
      "Train loss: 0.135188360031574\n",
      "Train consistency loss: 0.005510914754539506\n",
      "Validation loss: 0.2920806068513129\n",
      "1m 13s\n",
      "Early Stopping Counter = 2\n",
      "Epoch 198/300\n"
     ]
    },
    {
     "name": "stderr",
     "output_type": "stream",
     "text": [
      "100%|██████████| 155/155 [00:46<00:00,  3.34it/s]\n",
      "100%|██████████| 67/67 [00:20<00:00,  3.23it/s]\n",
      "100%|██████████| 18/18 [00:05<00:00,  3.29it/s]\n"
     ]
    },
    {
     "name": "stdout",
     "output_type": "stream",
     "text": [
      "Train loss: 0.13223444112846927\n",
      "Train consistency loss: 0.004850211692278955\n",
      "Validation loss: 0.29072558921244407\n",
      "1m 13s\n",
      "Early Stopping Counter = 3\n",
      "Epoch 199/300\n"
     ]
    },
    {
     "name": "stderr",
     "output_type": "stream",
     "text": [
      "100%|██████████| 155/155 [00:46<00:00,  3.35it/s]\n",
      "100%|██████████| 67/67 [00:20<00:00,  3.22it/s]\n",
      "100%|██████████| 18/18 [00:05<00:00,  3.29it/s]\n"
     ]
    },
    {
     "name": "stdout",
     "output_type": "stream",
     "text": [
      "Train loss: 0.1323166564587624\n",
      "Train consistency loss: 0.004808040280173074\n",
      "Validation loss: 0.2772088593078984\n",
      "1m 13s\n",
      "Early Stopping Counter = 4\n",
      "Epoch 200/300\n"
     ]
    },
    {
     "name": "stderr",
     "output_type": "stream",
     "text": [
      "100%|██████████| 155/155 [00:46<00:00,  3.34it/s]\n",
      "100%|██████████| 67/67 [00:20<00:00,  3.21it/s]\n",
      "100%|██████████| 18/18 [00:05<00:00,  3.25it/s]\n"
     ]
    },
    {
     "name": "stdout",
     "output_type": "stream",
     "text": [
      "Train loss: 0.13029582538912374\n",
      "Train consistency loss: 0.004615524106089081\n",
      "Validation loss: 0.27940943174892\n",
      "1m 13s\n",
      "Consistency Loss declined to 0.004615524106089081\n",
      "Early Stopping Counter = 0\n",
      "Epoch 201/300\n"
     ]
    },
    {
     "name": "stderr",
     "output_type": "stream",
     "text": [
      "100%|██████████| 155/155 [00:46<00:00,  3.33it/s]\n",
      "100%|██████████| 67/67 [00:20<00:00,  3.22it/s]\n",
      "100%|██████████| 18/18 [00:05<00:00,  3.32it/s]\n"
     ]
    },
    {
     "name": "stdout",
     "output_type": "stream",
     "text": [
      "Train loss: 0.1308564985471387\n",
      "Train consistency loss: 0.004795678687949122\n",
      "Validation loss: 0.28654368884033626\n",
      "1m 13s\n",
      "Early Stopping Counter = 1\n",
      "Epoch 202/300\n"
     ]
    },
    {
     "name": "stderr",
     "output_type": "stream",
     "text": [
      "100%|██████████| 155/155 [00:46<00:00,  3.35it/s]\n",
      "100%|██████████| 67/67 [00:21<00:00,  3.17it/s]\n",
      "100%|██████████| 18/18 [00:05<00:00,  3.28it/s]\n"
     ]
    },
    {
     "name": "stdout",
     "output_type": "stream",
     "text": [
      "Train loss: 0.1309249513572262\n",
      "Train consistency loss: 0.004562632724601052\n",
      "Validation loss: 0.2776671250661214\n",
      "1m 13s\n",
      "Consistency Loss declined to 0.004562632724601052\n",
      "Early Stopping Counter = 0\n",
      "Epoch 203/300\n"
     ]
    },
    {
     "name": "stderr",
     "output_type": "stream",
     "text": [
      "100%|██████████| 155/155 [00:46<00:00,  3.32it/s]\n",
      "100%|██████████| 67/67 [00:20<00:00,  3.20it/s]\n",
      "100%|██████████| 18/18 [00:05<00:00,  3.33it/s]\n"
     ]
    },
    {
     "name": "stdout",
     "output_type": "stream",
     "text": [
      "Train loss: 0.1295381889227898\n",
      "Train consistency loss: 0.004635001661311557\n",
      "Validation loss: 0.2978139403793547\n",
      "1m 13s\n",
      "Early Stopping Counter = 1\n",
      "Epoch 204/300\n"
     ]
    },
    {
     "name": "stderr",
     "output_type": "stream",
     "text": [
      "100%|██████████| 155/155 [00:47<00:00,  3.29it/s]\n",
      "100%|██████████| 67/67 [00:21<00:00,  3.19it/s]\n",
      "100%|██████████| 18/18 [00:05<00:00,  3.26it/s]\n"
     ]
    },
    {
     "name": "stdout",
     "output_type": "stream",
     "text": [
      "Train loss: 0.12941634107020594\n",
      "Train consistency loss: 0.004469616185706943\n",
      "Validation loss: 0.28104553040530944\n",
      "1m 14s\n",
      "Consistency Loss declined to 0.004469616185706943\n",
      "Early Stopping Counter = 0\n",
      "Epoch 205/300\n"
     ]
    },
    {
     "name": "stderr",
     "output_type": "stream",
     "text": [
      "100%|██████████| 155/155 [00:46<00:00,  3.34it/s]\n",
      "100%|██████████| 67/67 [00:20<00:00,  3.22it/s]\n",
      "100%|██████████| 18/18 [00:05<00:00,  3.21it/s]\n"
     ]
    },
    {
     "name": "stdout",
     "output_type": "stream",
     "text": [
      "Train loss: 0.12941067300496562\n",
      "Train consistency loss: 0.004363374332827863\n",
      "Validation loss: 0.2848345496588283\n",
      "1m 13s\n",
      "Consistency Loss declined to 0.004363374332827863\n",
      "Early Stopping Counter = 0\n",
      "Epoch 206/300\n"
     ]
    },
    {
     "name": "stderr",
     "output_type": "stream",
     "text": [
      "100%|██████████| 155/155 [00:46<00:00,  3.31it/s]\n",
      "100%|██████████| 67/67 [00:20<00:00,  3.23it/s]\n",
      "100%|██████████| 18/18 [00:05<00:00,  3.33it/s]\n"
     ]
    },
    {
     "name": "stdout",
     "output_type": "stream",
     "text": [
      "Train loss: 0.12905426539721027\n",
      "Train consistency loss: 0.004353066428508887\n",
      "Validation loss: 0.28327477019694114\n",
      "1m 13s\n",
      "Consistency Loss declined to 0.004353066428508887\n",
      "Early Stopping Counter = 0\n",
      "Epoch 207/300\n"
     ]
    },
    {
     "name": "stderr",
     "output_type": "stream",
     "text": [
      "100%|██████████| 155/155 [00:46<00:00,  3.33it/s]\n",
      "100%|██████████| 67/67 [00:20<00:00,  3.23it/s]\n",
      "100%|██████████| 18/18 [00:05<00:00,  3.34it/s]\n"
     ]
    },
    {
     "name": "stdout",
     "output_type": "stream",
     "text": [
      "Train loss: 0.13001331124574908\n",
      "Train consistency loss: 0.004335865149024262\n",
      "Validation loss: 0.28387739778392845\n",
      "1m 13s\n",
      "Consistency Loss declined to 0.004335865149024262\n",
      "Early Stopping Counter = 0\n",
      "Epoch 208/300\n"
     ]
    },
    {
     "name": "stderr",
     "output_type": "stream",
     "text": [
      "100%|██████████| 155/155 [00:46<00:00,  3.33it/s]\n",
      "100%|██████████| 67/67 [00:20<00:00,  3.22it/s]\n",
      "100%|██████████| 18/18 [00:05<00:00,  3.32it/s]\n"
     ]
    },
    {
     "name": "stdout",
     "output_type": "stream",
     "text": [
      "Train loss: 0.12797992061222754\n",
      "Train consistency loss: 0.004078260619443522\n",
      "Validation loss: 0.28141774319940144\n",
      "1m 13s\n",
      "Consistency Loss declined to 0.004078260619443522\n",
      "Early Stopping Counter = 0\n",
      "Epoch 209/300\n"
     ]
    },
    {
     "name": "stderr",
     "output_type": "stream",
     "text": [
      "100%|██████████| 155/155 [00:46<00:00,  3.34it/s]\n",
      "100%|██████████| 67/67 [00:20<00:00,  3.23it/s]\n",
      "100%|██████████| 18/18 [00:05<00:00,  3.31it/s]\n"
     ]
    },
    {
     "name": "stdout",
     "output_type": "stream",
     "text": [
      "Train loss: 0.12861246682943836\n",
      "Train consistency loss: 0.0049308358531778874\n",
      "Validation loss: 0.29090963221258587\n",
      "1m 13s\n",
      "Early Stopping Counter = 1\n",
      "Epoch 210/300\n"
     ]
    },
    {
     "name": "stderr",
     "output_type": "stream",
     "text": [
      "100%|██████████| 155/155 [00:46<00:00,  3.35it/s]\n",
      "100%|██████████| 67/67 [00:20<00:00,  3.19it/s]\n",
      "100%|██████████| 18/18 [00:05<00:00,  3.28it/s]\n"
     ]
    },
    {
     "name": "stdout",
     "output_type": "stream",
     "text": [
      "Train loss: 0.13195352722560205\n",
      "Train consistency loss: 0.00634233150700691\n",
      "Validation loss: 0.28519733664062286\n",
      "1m 13s\n",
      "Early Stopping Counter = 2\n",
      "Epoch 211/300\n"
     ]
    },
    {
     "name": "stderr",
     "output_type": "stream",
     "text": [
      "100%|██████████| 155/155 [00:46<00:00,  3.35it/s]\n",
      "100%|██████████| 67/67 [00:20<00:00,  3.20it/s]\n",
      "100%|██████████| 18/18 [00:05<00:00,  3.33it/s]\n"
     ]
    },
    {
     "name": "stdout",
     "output_type": "stream",
     "text": [
      "Train loss: 0.12988634445974903\n",
      "Train consistency loss: 0.006541692446778292\n",
      "Validation loss: 0.29553309538298184\n",
      "1m 13s\n",
      "Early Stopping Counter = 3\n",
      "Epoch 212/300\n"
     ]
    },
    {
     "name": "stderr",
     "output_type": "stream",
     "text": [
      "100%|██████████| 155/155 [00:46<00:00,  3.34it/s]\n",
      "100%|██████████| 67/67 [00:21<00:00,  3.17it/s]\n",
      "100%|██████████| 18/18 [00:05<00:00,  3.26it/s]\n"
     ]
    },
    {
     "name": "stdout",
     "output_type": "stream",
     "text": [
      "Train loss: 0.1281537518385918\n",
      "Train consistency loss: 0.004436840087786984\n",
      "Validation loss: 0.29044821196132237\n",
      "1m 13s\n",
      "Early Stopping Counter = 4\n",
      "Epoch 213/300\n"
     ]
    },
    {
     "name": "stderr",
     "output_type": "stream",
     "text": [
      "100%|██████████| 155/155 [00:46<00:00,  3.32it/s]\n",
      "100%|██████████| 67/67 [00:20<00:00,  3.20it/s]\n",
      "100%|██████████| 18/18 [00:05<00:00,  3.31it/s]\n"
     ]
    },
    {
     "name": "stdout",
     "output_type": "stream",
     "text": [
      "Train loss: 0.12720962666696117\n",
      "Train consistency loss: 0.00431421168370923\n",
      "Validation loss: 0.2772530174503724\n",
      "1m 13s\n",
      "Early Stopping Counter = 5\n",
      "Epoch 214/300\n"
     ]
    },
    {
     "name": "stderr",
     "output_type": "stream",
     "text": [
      "100%|██████████| 155/155 [00:46<00:00,  3.34it/s]\n",
      "100%|██████████| 67/67 [00:21<00:00,  3.18it/s]\n",
      "100%|██████████| 18/18 [00:05<00:00,  3.26it/s]\n"
     ]
    },
    {
     "name": "stdout",
     "output_type": "stream",
     "text": [
      "Train loss: 0.126888988623696\n",
      "Train consistency loss: 0.004359397595859508\n",
      "Validation loss: 0.28315394744277\n",
      "1m 13s\n",
      "Early Stopping Counter = 6\n",
      "Epoch 215/300\n"
     ]
    },
    {
     "name": "stderr",
     "output_type": "stream",
     "text": [
      "100%|██████████| 155/155 [00:46<00:00,  3.34it/s]\n",
      "100%|██████████| 67/67 [00:20<00:00,  3.20it/s]\n",
      "100%|██████████| 18/18 [00:05<00:00,  3.37it/s]\n"
     ]
    },
    {
     "name": "stdout",
     "output_type": "stream",
     "text": [
      "Train loss: 0.12728475880238319\n",
      "Train consistency loss: 0.005835433534012913\n",
      "Validation loss: 0.30369280537383425\n",
      "1m 13s\n",
      "Early Stopping Counter = 7\n",
      "Epoch 216/300\n"
     ]
    },
    {
     "name": "stderr",
     "output_type": "stream",
     "text": [
      "100%|██████████| 155/155 [00:46<00:00,  3.34it/s]\n",
      "100%|██████████| 67/67 [00:20<00:00,  3.19it/s]\n",
      "100%|██████████| 18/18 [00:05<00:00,  3.19it/s]\n"
     ]
    },
    {
     "name": "stdout",
     "output_type": "stream",
     "text": [
      "Train loss: 0.12969684706580253\n",
      "Train consistency loss: 0.004900136811366833\n",
      "Validation loss: 0.287744141701195\n",
      "1m 13s\n",
      "Early Stopping Counter = 8\n",
      "Epoch 217/300\n"
     ]
    },
    {
     "name": "stderr",
     "output_type": "stream",
     "text": [
      "100%|██████████| 155/155 [00:46<00:00,  3.33it/s]\n",
      "100%|██████████| 67/67 [00:20<00:00,  3.22it/s]\n",
      "100%|██████████| 18/18 [00:05<00:00,  3.32it/s]\n"
     ]
    },
    {
     "name": "stdout",
     "output_type": "stream",
     "text": [
      "Train loss: 0.1267927959561348\n",
      "Train consistency loss: 0.004263777242375732\n",
      "Validation loss: 0.2857755397756894\n",
      "1m 13s\n",
      "Early Stopping Counter = 9\n",
      "Epoch 218/300\n"
     ]
    },
    {
     "name": "stderr",
     "output_type": "stream",
     "text": [
      "100%|██████████| 155/155 [00:46<00:00,  3.35it/s]\n",
      "100%|██████████| 67/67 [00:21<00:00,  3.17it/s]\n",
      "100%|██████████| 18/18 [00:05<00:00,  3.17it/s]\n"
     ]
    },
    {
     "name": "stdout",
     "output_type": "stream",
     "text": [
      "Train loss: 0.12643837640362401\n",
      "Train consistency loss: 0.0043356301221273725\n",
      "Validation loss: 0.2878887413276566\n",
      "1m 13s\n",
      "Early Stopping Counter = 10\n",
      "Epoch 219/300\n"
     ]
    },
    {
     "name": "stderr",
     "output_type": "stream",
     "text": [
      "100%|██████████| 155/155 [00:46<00:00,  3.35it/s]\n",
      "100%|██████████| 67/67 [00:20<00:00,  3.22it/s]\n",
      "100%|██████████| 18/18 [00:05<00:00,  3.32it/s]\n"
     ]
    },
    {
     "name": "stdout",
     "output_type": "stream",
     "text": [
      "Train loss: 0.12594504779384982\n",
      "Train consistency loss: 0.0047156364716061236\n",
      "Validation loss: 0.28020134526822305\n",
      "1m 13s\n",
      "Early Stopping Counter = 11\n",
      "Epoch 220/300\n"
     ]
    },
    {
     "name": "stderr",
     "output_type": "stream",
     "text": [
      "100%|██████████| 155/155 [00:46<00:00,  3.36it/s]\n",
      "100%|██████████| 67/67 [00:21<00:00,  3.17it/s]\n",
      "100%|██████████| 18/18 [00:05<00:00,  3.32it/s]\n"
     ]
    },
    {
     "name": "stdout",
     "output_type": "stream",
     "text": [
      "Train loss: 0.12588621291422075\n",
      "Train consistency loss: 0.004310401206933406\n",
      "Validation loss: 0.28081746502882904\n",
      "1m 13s\n",
      "Early Stopping Counter = 12\n",
      "Epoch 221/300\n"
     ]
    },
    {
     "name": "stderr",
     "output_type": "stream",
     "text": [
      "100%|██████████| 155/155 [00:46<00:00,  3.31it/s]\n",
      "100%|██████████| 67/67 [00:21<00:00,  3.18it/s]\n",
      "100%|██████████| 18/18 [00:05<00:00,  3.27it/s]\n"
     ]
    },
    {
     "name": "stdout",
     "output_type": "stream",
     "text": [
      "Train loss: 0.12615010887384415\n",
      "Train consistency loss: 0.004435771266554496\n",
      "Validation loss: 0.2823016465538078\n",
      "1m 13s\n",
      "Early Stopping Counter = 13\n",
      "Epoch 222/300\n"
     ]
    },
    {
     "name": "stderr",
     "output_type": "stream",
     "text": [
      "100%|██████████| 155/155 [00:46<00:00,  3.32it/s]\n",
      "100%|██████████| 67/67 [00:21<00:00,  3.19it/s]\n",
      "100%|██████████| 18/18 [00:05<00:00,  3.27it/s]\n"
     ]
    },
    {
     "name": "stdout",
     "output_type": "stream",
     "text": [
      "Train loss: 0.12548146656443995\n",
      "Train consistency loss: 0.004015350467594925\n",
      "Validation loss: 0.2881072113911311\n",
      "1m 13s\n",
      "Consistency Loss declined to 0.004015350467594925\n",
      "Early Stopping Counter = 0\n",
      "Epoch 223/300\n"
     ]
    },
    {
     "name": "stderr",
     "output_type": "stream",
     "text": [
      "100%|██████████| 155/155 [00:46<00:00,  3.33it/s]\n",
      "100%|██████████| 67/67 [00:20<00:00,  3.22it/s]\n",
      "100%|██████████| 18/18 [00:05<00:00,  3.30it/s]\n"
     ]
    },
    {
     "name": "stdout",
     "output_type": "stream",
     "text": [
      "Train loss: 0.12515061103528546\n",
      "Train consistency loss: 0.004133087348318033\n",
      "Validation loss: 0.2847433284752899\n",
      "1m 13s\n",
      "Early Stopping Counter = 1\n",
      "Epoch 224/300\n"
     ]
    },
    {
     "name": "stderr",
     "output_type": "stream",
     "text": [
      "100%|██████████| 155/155 [00:46<00:00,  3.35it/s]\n",
      "100%|██████████| 67/67 [00:21<00:00,  3.19it/s]\n",
      "100%|██████████| 18/18 [00:05<00:00,  3.27it/s]\n"
     ]
    },
    {
     "name": "stdout",
     "output_type": "stream",
     "text": [
      "Train loss: 0.12494091117574323\n",
      "Train consistency loss: 0.004281913105801526\n",
      "Validation loss: 0.2809686072998577\n",
      "1m 13s\n",
      "Early Stopping Counter = 2\n",
      "Epoch 225/300\n"
     ]
    },
    {
     "name": "stderr",
     "output_type": "stream",
     "text": [
      "100%|██████████| 155/155 [00:46<00:00,  3.34it/s]\n",
      "100%|██████████| 67/67 [00:20<00:00,  3.22it/s]\n",
      "100%|██████████| 18/18 [00:05<00:00,  3.26it/s]\n"
     ]
    },
    {
     "name": "stdout",
     "output_type": "stream",
     "text": [
      "Train loss: 0.1256927467642292\n",
      "Train consistency loss: 0.0042249707456455746\n",
      "Validation loss: 0.28676501164833706\n",
      "1m 13s\n",
      "Early Stopping Counter = 3\n",
      "Epoch 226/300\n"
     ]
    },
    {
     "name": "stderr",
     "output_type": "stream",
     "text": [
      "100%|██████████| 155/155 [00:46<00:00,  3.35it/s]\n",
      "100%|██████████| 67/67 [00:20<00:00,  3.19it/s]\n",
      "100%|██████████| 18/18 [00:05<00:00,  3.24it/s]\n"
     ]
    },
    {
     "name": "stdout",
     "output_type": "stream",
     "text": [
      "Train loss: 0.1246760826437704\n",
      "Train consistency loss: 0.003912272124634639\n",
      "Validation loss: 0.28803181317117477\n",
      "1m 13s\n",
      "Consistency Loss declined to 0.003912272124634639\n",
      "Early Stopping Counter = 0\n",
      "Epoch 227/300\n"
     ]
    },
    {
     "name": "stderr",
     "output_type": "stream",
     "text": [
      "100%|██████████| 155/155 [00:46<00:00,  3.34it/s]\n",
      "100%|██████████| 67/67 [00:20<00:00,  3.22it/s]\n",
      "100%|██████████| 18/18 [00:05<00:00,  3.32it/s]\n"
     ]
    },
    {
     "name": "stdout",
     "output_type": "stream",
     "text": [
      "Train loss: 0.12383266326881225\n",
      "Train consistency loss: 0.004014861490229951\n",
      "Validation loss: 0.2854895314408673\n",
      "1m 13s\n",
      "Early Stopping Counter = 1\n",
      "Epoch 228/300\n"
     ]
    },
    {
     "name": "stderr",
     "output_type": "stream",
     "text": [
      "100%|██████████| 155/155 [00:46<00:00,  3.35it/s]\n",
      "100%|██████████| 67/67 [00:20<00:00,  3.22it/s]\n",
      "100%|██████████| 18/18 [00:05<00:00,  3.26it/s]\n"
     ]
    },
    {
     "name": "stdout",
     "output_type": "stream",
     "text": [
      "Train loss: 0.12448911570733594\n",
      "Train consistency loss: 0.003841615146470826\n",
      "Validation loss: 0.2911526109609339\n",
      "1m 13s\n",
      "Consistency Loss declined to 0.003841615146470826\n",
      "Early Stopping Counter = 0\n",
      "Epoch 229/300\n"
     ]
    },
    {
     "name": "stderr",
     "output_type": "stream",
     "text": [
      "100%|██████████| 155/155 [00:46<00:00,  3.32it/s]\n",
      "100%|██████████| 67/67 [00:20<00:00,  3.22it/s]\n",
      "100%|██████████| 18/18 [00:05<00:00,  3.29it/s]\n"
     ]
    },
    {
     "name": "stdout",
     "output_type": "stream",
     "text": [
      "Train loss: 0.12344460304706327\n",
      "Train consistency loss: 0.0037397891839048756\n",
      "Validation loss: 0.2808370739221573\n",
      "1m 13s\n",
      "Consistency Loss declined to 0.0037397891839048756\n",
      "Early Stopping Counter = 0\n",
      "Epoch 230/300\n"
     ]
    },
    {
     "name": "stderr",
     "output_type": "stream",
     "text": [
      "100%|██████████| 155/155 [00:46<00:00,  3.30it/s]\n",
      "100%|██████████| 67/67 [00:20<00:00,  3.21it/s]\n",
      "100%|██████████| 18/18 [00:05<00:00,  3.22it/s]\n"
     ]
    },
    {
     "name": "stdout",
     "output_type": "stream",
     "text": [
      "Train loss: 0.12373068731638694\n",
      "Train consistency loss: 0.004026608843940185\n",
      "Validation loss: 0.29499930143356323\n",
      "1m 13s\n",
      "Early Stopping Counter = 1\n",
      "Epoch 231/300\n"
     ]
    },
    {
     "name": "stderr",
     "output_type": "stream",
     "text": [
      "100%|██████████| 155/155 [00:46<00:00,  3.32it/s]\n",
      "100%|██████████| 67/67 [00:21<00:00,  3.17it/s]\n",
      "100%|██████████| 18/18 [00:05<00:00,  3.29it/s]\n"
     ]
    },
    {
     "name": "stdout",
     "output_type": "stream",
     "text": [
      "Train loss: 0.12332799425048213\n",
      "Train consistency loss: 0.003915525861640475\n",
      "Validation loss: 0.2809709914856487\n",
      "1m 13s\n",
      "Early Stopping Counter = 2\n",
      "Epoch 232/300\n"
     ]
    },
    {
     "name": "stderr",
     "output_type": "stream",
     "text": [
      "100%|██████████| 155/155 [00:46<00:00,  3.33it/s]\n",
      "100%|██████████| 67/67 [00:20<00:00,  3.19it/s]\n",
      "100%|██████████| 18/18 [00:05<00:00,  3.25it/s]\n"
     ]
    },
    {
     "name": "stdout",
     "output_type": "stream",
     "text": [
      "Train loss: 0.1231675973342311\n",
      "Train consistency loss: 0.006078791210372279\n",
      "Validation loss: 0.2896551638841629\n",
      "1m 13s\n",
      "Early Stopping Counter = 3\n",
      "Epoch 233/300\n"
     ]
    },
    {
     "name": "stderr",
     "output_type": "stream",
     "text": [
      "100%|██████████| 155/155 [00:46<00:00,  3.35it/s]\n",
      "100%|██████████| 67/67 [00:21<00:00,  3.19it/s]\n",
      "100%|██████████| 18/18 [00:05<00:00,  3.26it/s]\n"
     ]
    },
    {
     "name": "stdout",
     "output_type": "stream",
     "text": [
      "Train loss: 0.12450091459097401\n",
      "Train consistency loss: 0.0039036120114319807\n",
      "Validation loss: 0.29121231618854737\n",
      "1m 13s\n",
      "Early Stopping Counter = 4\n",
      "Epoch 234/300\n"
     ]
    },
    {
     "name": "stderr",
     "output_type": "stream",
     "text": [
      "100%|██████████| 155/155 [00:46<00:00,  3.34it/s]\n",
      "100%|██████████| 67/67 [00:20<00:00,  3.22it/s]\n",
      "100%|██████████| 18/18 [00:05<00:00,  3.24it/s]\n"
     ]
    },
    {
     "name": "stdout",
     "output_type": "stream",
     "text": [
      "Train loss: 0.12390383914593728\n",
      "Train consistency loss: 0.004327808598876556\n",
      "Validation loss: 0.28399527859356666\n",
      "1m 13s\n",
      "Early Stopping Counter = 5\n",
      "Epoch 235/300\n"
     ]
    },
    {
     "name": "stderr",
     "output_type": "stream",
     "text": [
      "100%|██████████| 155/155 [00:46<00:00,  3.33it/s]\n",
      "100%|██████████| 67/67 [00:21<00:00,  3.18it/s]\n",
      "100%|██████████| 18/18 [00:05<00:00,  3.33it/s]\n"
     ]
    },
    {
     "name": "stdout",
     "output_type": "stream",
     "text": [
      "Train loss: 0.12258207379810272\n",
      "Train consistency loss: 0.0036294017084387703\n",
      "Validation loss: 0.2898752921157413\n",
      "1m 13s\n",
      "Consistency Loss declined to 0.0036294017084387703\n",
      "Early Stopping Counter = 0\n",
      "Epoch 236/300\n"
     ]
    },
    {
     "name": "stderr",
     "output_type": "stream",
     "text": [
      "100%|██████████| 155/155 [00:46<00:00,  3.36it/s]\n",
      "100%|██████████| 67/67 [00:21<00:00,  3.17it/s]\n",
      "100%|██████████| 18/18 [00:05<00:00,  3.25it/s]\n"
     ]
    },
    {
     "name": "stdout",
     "output_type": "stream",
     "text": [
      "Train loss: 0.122108785183199\n",
      "Train consistency loss: 0.003533887100030682\n",
      "Validation loss: 0.2928582723769877\n",
      "1m 13s\n",
      "Consistency Loss declined to 0.003533887100030682\n",
      "Early Stopping Counter = 0\n",
      "Epoch 237/300\n"
     ]
    },
    {
     "name": "stderr",
     "output_type": "stream",
     "text": [
      "100%|██████████| 155/155 [00:46<00:00,  3.34it/s]\n",
      "100%|██████████| 67/67 [00:21<00:00,  3.17it/s]\n",
      "100%|██████████| 18/18 [00:05<00:00,  3.27it/s]\n"
     ]
    },
    {
     "name": "stdout",
     "output_type": "stream",
     "text": [
      "Train loss: 0.1220148265361786\n",
      "Train consistency loss: 0.003800827950767394\n",
      "Validation loss: 0.27249741264515454\n",
      "1m 13s\n",
      "Early Stopping Counter = 1\n",
      "Epoch 238/300\n"
     ]
    },
    {
     "name": "stderr",
     "output_type": "stream",
     "text": [
      "100%|██████████| 155/155 [00:46<00:00,  3.34it/s]\n",
      "100%|██████████| 67/67 [00:21<00:00,  3.19it/s]\n",
      "100%|██████████| 18/18 [00:05<00:00,  3.25it/s]\n"
     ]
    },
    {
     "name": "stdout",
     "output_type": "stream",
     "text": [
      "Train loss: 0.12218345898774362\n",
      "Train consistency loss: 0.003588468941456791\n",
      "Validation loss: 0.2810184467169974\n",
      "1m 13s\n",
      "Early Stopping Counter = 2\n",
      "Epoch 239/300\n"
     ]
    },
    {
     "name": "stderr",
     "output_type": "stream",
     "text": [
      "100%|██████████| 155/155 [00:46<00:00,  3.33it/s]\n",
      "100%|██████████| 67/67 [00:21<00:00,  3.17it/s]\n",
      "100%|██████████| 18/18 [00:05<00:00,  3.24it/s]\n"
     ]
    },
    {
     "name": "stdout",
     "output_type": "stream",
     "text": [
      "Train loss: 0.1217099693033003\n",
      "Train consistency loss: 0.003758235631246509\n",
      "Validation loss: 0.2777763286398517\n",
      "1m 13s\n",
      "Early Stopping Counter = 3\n",
      "Epoch 240/300\n"
     ]
    },
    {
     "name": "stderr",
     "output_type": "stream",
     "text": [
      "100%|██████████| 155/155 [00:46<00:00,  3.33it/s]\n",
      "100%|██████████| 67/67 [00:20<00:00,  3.23it/s]\n",
      "100%|██████████| 18/18 [00:05<00:00,  3.30it/s]\n"
     ]
    },
    {
     "name": "stdout",
     "output_type": "stream",
     "text": [
      "Train loss: 0.12291118425707663\n",
      "Train consistency loss: 0.0038455082937630253\n",
      "Validation loss: 0.28906766201059025\n",
      "1m 13s\n",
      "Early Stopping Counter = 4\n",
      "Epoch 241/300\n"
     ]
    },
    {
     "name": "stderr",
     "output_type": "stream",
     "text": [
      "100%|██████████| 155/155 [00:46<00:00,  3.35it/s]\n",
      "100%|██████████| 67/67 [00:20<00:00,  3.20it/s]\n",
      "100%|██████████| 18/18 [00:05<00:00,  3.29it/s]\n"
     ]
    },
    {
     "name": "stdout",
     "output_type": "stream",
     "text": [
      "Train loss: 0.12095441154895291\n",
      "Train consistency loss: 0.003743209167202907\n",
      "Validation loss: 0.2986727977792422\n",
      "1m 13s\n",
      "Early Stopping Counter = 5\n",
      "Epoch 242/300\n"
     ]
    },
    {
     "name": "stderr",
     "output_type": "stream",
     "text": [
      "100%|██████████| 155/155 [00:46<00:00,  3.34it/s]\n",
      "100%|██████████| 67/67 [00:20<00:00,  3.21it/s]\n",
      "100%|██████████| 18/18 [00:05<00:00,  3.27it/s]\n"
     ]
    },
    {
     "name": "stdout",
     "output_type": "stream",
     "text": [
      "Train loss: 0.12079110640671946\n",
      "Train consistency loss: 0.00386049993224998\n",
      "Validation loss: 0.27827542854679954\n",
      "1m 13s\n",
      "Early Stopping Counter = 6\n",
      "Epoch 243/300\n"
     ]
    },
    {
     "name": "stderr",
     "output_type": "stream",
     "text": [
      "100%|██████████| 155/155 [00:46<00:00,  3.35it/s]\n",
      "100%|██████████| 67/67 [00:20<00:00,  3.20it/s]\n",
      "100%|██████████| 18/18 [00:05<00:00,  3.29it/s]\n"
     ]
    },
    {
     "name": "stdout",
     "output_type": "stream",
     "text": [
      "Train loss: 0.12095565738216524\n",
      "Train consistency loss: 0.0034433409550797137\n",
      "Validation loss: 0.2881336402561929\n",
      "1m 13s\n",
      "Consistency Loss declined to 0.0034433409550797137\n",
      "Early Stopping Counter = 0\n",
      "Epoch 244/300\n"
     ]
    },
    {
     "name": "stderr",
     "output_type": "stream",
     "text": [
      "100%|██████████| 155/155 [00:46<00:00,  3.34it/s]\n",
      "100%|██████████| 67/67 [00:21<00:00,  3.18it/s]\n",
      "100%|██████████| 18/18 [00:05<00:00,  3.33it/s]\n"
     ]
    },
    {
     "name": "stdout",
     "output_type": "stream",
     "text": [
      "Train loss: 0.1212590959764296\n",
      "Train consistency loss: 0.003791593501705732\n",
      "Validation loss: 0.2880393788218498\n",
      "1m 13s\n",
      "Early Stopping Counter = 1\n",
      "Epoch 245/300\n"
     ]
    },
    {
     "name": "stderr",
     "output_type": "stream",
     "text": [
      "100%|██████████| 155/155 [00:46<00:00,  3.34it/s]\n",
      "100%|██████████| 67/67 [00:20<00:00,  3.22it/s]\n",
      "100%|██████████| 18/18 [00:05<00:00,  3.32it/s]\n"
     ]
    },
    {
     "name": "stdout",
     "output_type": "stream",
     "text": [
      "Train loss: 0.12073444570264509\n",
      "Train consistency loss: 0.003686765622375394\n",
      "Validation loss: 0.28580737445089555\n",
      "1m 13s\n",
      "Early Stopping Counter = 2\n",
      "Epoch 246/300\n"
     ]
    },
    {
     "name": "stderr",
     "output_type": "stream",
     "text": [
      "100%|██████████| 155/155 [00:46<00:00,  3.35it/s]\n",
      "100%|██████████| 67/67 [00:20<00:00,  3.22it/s]\n",
      "100%|██████████| 18/18 [00:05<00:00,  3.28it/s]\n"
     ]
    },
    {
     "name": "stdout",
     "output_type": "stream",
     "text": [
      "Train loss: 0.1201385760499585\n",
      "Train consistency loss: 0.0038786551258318236\n",
      "Validation loss: 0.2825170478059186\n",
      "1m 13s\n",
      "Early Stopping Counter = 3\n",
      "Epoch 247/300\n"
     ]
    },
    {
     "name": "stderr",
     "output_type": "stream",
     "text": [
      "100%|██████████| 155/155 [00:46<00:00,  3.35it/s]\n",
      "100%|██████████| 67/67 [00:20<00:00,  3.21it/s]\n",
      "100%|██████████| 18/18 [00:05<00:00,  3.29it/s]\n"
     ]
    },
    {
     "name": "stdout",
     "output_type": "stream",
     "text": [
      "Train loss: 0.12052376616385675\n",
      "Train consistency loss: 0.004430040831802718\n",
      "Validation loss: 0.28720274733172524\n",
      "1m 13s\n",
      "Early Stopping Counter = 4\n",
      "Epoch 248/300\n"
     ]
    },
    {
     "name": "stderr",
     "output_type": "stream",
     "text": [
      "100%|██████████| 155/155 [00:46<00:00,  3.34it/s]\n",
      "100%|██████████| 67/67 [00:20<00:00,  3.20it/s]\n",
      "100%|██████████| 18/18 [00:05<00:00,  3.31it/s]\n"
     ]
    },
    {
     "name": "stdout",
     "output_type": "stream",
     "text": [
      "Train loss: 0.11974058574245822\n",
      "Train consistency loss: 0.0034078284316181916\n",
      "Validation loss: 0.29332310768465203\n",
      "1m 13s\n",
      "Consistency Loss declined to 0.0034078284316181916\n",
      "Early Stopping Counter = 0\n",
      "Epoch 249/300\n"
     ]
    },
    {
     "name": "stderr",
     "output_type": "stream",
     "text": [
      "100%|██████████| 155/155 [00:46<00:00,  3.33it/s]\n",
      "100%|██████████| 67/67 [00:20<00:00,  3.22it/s]\n",
      "100%|██████████| 18/18 [00:05<00:00,  3.23it/s]\n"
     ]
    },
    {
     "name": "stdout",
     "output_type": "stream",
     "text": [
      "Train loss: 0.11988364179288187\n",
      "Train consistency loss: 0.003454974023694756\n",
      "Validation loss: 0.2881291550066736\n",
      "1m 13s\n",
      "Early Stopping Counter = 1\n",
      "Epoch 250/300\n"
     ]
    },
    {
     "name": "stderr",
     "output_type": "stream",
     "text": [
      "100%|██████████| 155/155 [00:46<00:00,  3.34it/s]\n",
      "100%|██████████| 67/67 [00:21<00:00,  3.19it/s]\n",
      "100%|██████████| 18/18 [00:05<00:00,  3.30it/s]\n"
     ]
    },
    {
     "name": "stdout",
     "output_type": "stream",
     "text": [
      "Train loss: 0.11941003217812507\n",
      "Train consistency loss: 0.003489282983007716\n",
      "Validation loss: 0.2879652463727527\n",
      "1m 13s\n",
      "Early Stopping Counter = 2\n",
      "Epoch 251/300\n"
     ]
    },
    {
     "name": "stderr",
     "output_type": "stream",
     "text": [
      "100%|██████████| 155/155 [00:46<00:00,  3.35it/s]\n",
      "100%|██████████| 67/67 [00:21<00:00,  3.17it/s]\n",
      "100%|██████████| 18/18 [00:05<00:00,  3.32it/s]\n"
     ]
    },
    {
     "name": "stdout",
     "output_type": "stream",
     "text": [
      "Train loss: 0.11965571204500813\n",
      "Train consistency loss: 0.0039105675297914375\n",
      "Validation loss: 0.29115765459007686\n",
      "1m 13s\n",
      "Early Stopping Counter = 3\n",
      "Epoch 252/300\n"
     ]
    },
    {
     "name": "stderr",
     "output_type": "stream",
     "text": [
      "100%|██████████| 155/155 [00:46<00:00,  3.33it/s]\n",
      "100%|██████████| 67/67 [00:20<00:00,  3.22it/s]\n",
      "100%|██████████| 18/18 [00:05<00:00,  3.28it/s]\n"
     ]
    },
    {
     "name": "stdout",
     "output_type": "stream",
     "text": [
      "Train loss: 0.11971480913700595\n",
      "Train consistency loss: 0.003613183130649155\n",
      "Validation loss: 0.28587033309870297\n",
      "1m 13s\n",
      "Early Stopping Counter = 4\n",
      "Epoch 253/300\n"
     ]
    },
    {
     "name": "stderr",
     "output_type": "stream",
     "text": [
      "100%|██████████| 155/155 [00:46<00:00,  3.34it/s]\n",
      "100%|██████████| 67/67 [00:20<00:00,  3.20it/s]\n",
      "100%|██████████| 18/18 [00:05<00:00,  3.30it/s]\n"
     ]
    },
    {
     "name": "stdout",
     "output_type": "stream",
     "text": [
      "Train loss: 0.11879164321768669\n",
      "Train consistency loss: 0.0037033219401265923\n",
      "Validation loss: 0.2941818671921889\n",
      "1m 13s\n",
      "Early Stopping Counter = 5\n",
      "Epoch 254/300\n"
     ]
    },
    {
     "name": "stderr",
     "output_type": "stream",
     "text": [
      "100%|██████████| 155/155 [00:46<00:00,  3.35it/s]\n",
      "100%|██████████| 67/67 [00:20<00:00,  3.22it/s]\n",
      "100%|██████████| 18/18 [00:05<00:00,  3.26it/s]\n"
     ]
    },
    {
     "name": "stdout",
     "output_type": "stream",
     "text": [
      "Train loss: 0.11862242904401595\n",
      "Train consistency loss: 0.0034189766860191722\n",
      "Validation loss: 0.2872499004006386\n",
      "1m 13s\n",
      "Early Stopping Counter = 6\n",
      "Epoch 255/300\n"
     ]
    },
    {
     "name": "stderr",
     "output_type": "stream",
     "text": [
      "100%|██████████| 155/155 [00:46<00:00,  3.36it/s]\n",
      "100%|██████████| 67/67 [00:20<00:00,  3.19it/s]\n",
      "100%|██████████| 18/18 [00:05<00:00,  3.27it/s]\n"
     ]
    },
    {
     "name": "stdout",
     "output_type": "stream",
     "text": [
      "Train loss: 0.11881517248768961\n",
      "Train consistency loss: 0.0033616027134512343\n",
      "Validation loss: 0.2898561875853274\n",
      "1m 13s\n",
      "Consistency Loss declined to 0.0033616027134512343\n",
      "Early Stopping Counter = 0\n",
      "Epoch 256/300\n"
     ]
    },
    {
     "name": "stderr",
     "output_type": "stream",
     "text": [
      "100%|██████████| 155/155 [00:46<00:00,  3.34it/s]\n",
      "100%|██████████| 67/67 [00:20<00:00,  3.20it/s]\n",
      "100%|██████████| 18/18 [00:05<00:00,  3.28it/s]\n"
     ]
    },
    {
     "name": "stdout",
     "output_type": "stream",
     "text": [
      "Train loss: 0.118353746446871\n",
      "Train consistency loss: 0.0032794582379509266\n",
      "Validation loss: 0.2897399543888039\n",
      "1m 13s\n",
      "Consistency Loss declined to 0.0032794582379509266\n",
      "Early Stopping Counter = 0\n",
      "Epoch 257/300\n"
     ]
    },
    {
     "name": "stderr",
     "output_type": "stream",
     "text": [
      "100%|██████████| 155/155 [00:46<00:00,  3.32it/s]\n",
      "100%|██████████| 67/67 [00:20<00:00,  3.21it/s]\n",
      "100%|██████████| 18/18 [00:05<00:00,  3.27it/s]\n"
     ]
    },
    {
     "name": "stdout",
     "output_type": "stream",
     "text": [
      "Train loss: 0.11822928670913943\n",
      "Train consistency loss: 0.004869824569019031\n",
      "Validation loss: 0.3198842141363356\n",
      "1m 13s\n",
      "Early Stopping Counter = 1\n",
      "Epoch 258/300\n"
     ]
    },
    {
     "name": "stderr",
     "output_type": "stream",
     "text": [
      "100%|██████████| 155/155 [00:46<00:00,  3.34it/s]\n",
      "100%|██████████| 67/67 [00:20<00:00,  3.19it/s]\n",
      "100%|██████████| 18/18 [00:05<00:00,  3.27it/s]\n"
     ]
    },
    {
     "name": "stdout",
     "output_type": "stream",
     "text": [
      "Train loss: 0.12220057700910876\n",
      "Train consistency loss: 0.004950211845588551\n",
      "Validation loss: 0.2785902325477865\n",
      "1m 13s\n",
      "Early Stopping Counter = 2\n",
      "Epoch 259/300\n"
     ]
    },
    {
     "name": "stderr",
     "output_type": "stream",
     "text": [
      "100%|██████████| 155/155 [00:46<00:00,  3.35it/s]\n",
      "100%|██████████| 67/67 [00:20<00:00,  3.23it/s]\n",
      "100%|██████████| 18/18 [00:05<00:00,  3.28it/s]\n"
     ]
    },
    {
     "name": "stdout",
     "output_type": "stream",
     "text": [
      "Train loss: 0.11857384505771822\n",
      "Train consistency loss: 0.0033386445260231395\n",
      "Validation loss: 0.281000900392731\n",
      "1m 12s\n",
      "Early Stopping Counter = 3\n",
      "Epoch 260/300\n"
     ]
    },
    {
     "name": "stderr",
     "output_type": "stream",
     "text": [
      "100%|██████████| 155/155 [00:46<00:00,  3.35it/s]\n",
      "100%|██████████| 67/67 [00:21<00:00,  3.18it/s]\n",
      "100%|██████████| 18/18 [00:05<00:00,  3.26it/s]\n"
     ]
    },
    {
     "name": "stdout",
     "output_type": "stream",
     "text": [
      "Train loss: 0.1171784493711687\n",
      "Train consistency loss: 0.0031427010622765146\n",
      "Validation loss: 0.2806663875364595\n",
      "1m 13s\n",
      "Consistency Loss declined to 0.0031427010622765146\n",
      "Early Stopping Counter = 0\n",
      "Epoch 261/300\n"
     ]
    },
    {
     "name": "stderr",
     "output_type": "stream",
     "text": [
      "100%|██████████| 155/155 [00:46<00:00,  3.34it/s]\n",
      "100%|██████████| 67/67 [00:21<00:00,  3.19it/s]\n",
      "100%|██████████| 18/18 [00:05<00:00,  3.35it/s]\n"
     ]
    },
    {
     "name": "stdout",
     "output_type": "stream",
     "text": [
      "Train loss: 0.1175644362165082\n",
      "Train consistency loss: 0.003224784178214509\n",
      "Validation loss: 0.2852437672101789\n",
      "1m 13s\n",
      "Early Stopping Counter = 1\n",
      "Epoch 262/300\n"
     ]
    },
    {
     "name": "stderr",
     "output_type": "stream",
     "text": [
      "100%|██████████| 155/155 [00:46<00:00,  3.33it/s]\n",
      "100%|██████████| 67/67 [00:20<00:00,  3.23it/s]\n",
      "100%|██████████| 18/18 [00:05<00:00,  3.33it/s]\n"
     ]
    },
    {
     "name": "stdout",
     "output_type": "stream",
     "text": [
      "Train loss: 0.11706303632067096\n",
      "Train consistency loss: 0.003403036648393678\n",
      "Validation loss: 0.28656703875296646\n",
      "1m 13s\n",
      "Early Stopping Counter = 2\n",
      "Epoch 263/300\n"
     ]
    },
    {
     "name": "stderr",
     "output_type": "stream",
     "text": [
      "100%|██████████| 155/155 [00:46<00:00,  3.35it/s]\n",
      "100%|██████████| 67/67 [00:21<00:00,  3.19it/s]\n",
      "100%|██████████| 18/18 [00:05<00:00,  3.16it/s]\n"
     ]
    },
    {
     "name": "stdout",
     "output_type": "stream",
     "text": [
      "Train loss: 0.11658655558862994\n",
      "Train consistency loss: 0.003167115723533528\n",
      "Validation loss: 0.28842880990770126\n",
      "1m 13s\n",
      "Early Stopping Counter = 3\n",
      "Epoch 264/300\n"
     ]
    },
    {
     "name": "stderr",
     "output_type": "stream",
     "text": [
      "100%|██████████| 155/155 [00:46<00:00,  3.34it/s]\n",
      "100%|██████████| 67/67 [00:20<00:00,  3.23it/s]\n",
      "100%|██████████| 18/18 [00:05<00:00,  3.30it/s]\n"
     ]
    },
    {
     "name": "stdout",
     "output_type": "stream",
     "text": [
      "Train loss: 0.11680142696826688\n",
      "Train consistency loss: 0.0032723541562653968\n",
      "Validation loss: 0.29347717327376205\n",
      "1m 13s\n",
      "Early Stopping Counter = 4\n",
      "Epoch 265/300\n"
     ]
    },
    {
     "name": "stderr",
     "output_type": "stream",
     "text": [
      "100%|██████████| 155/155 [00:46<00:00,  3.36it/s]\n",
      "100%|██████████| 67/67 [00:21<00:00,  3.19it/s]\n",
      "100%|██████████| 18/18 [00:05<00:00,  3.32it/s]\n"
     ]
    },
    {
     "name": "stdout",
     "output_type": "stream",
     "text": [
      "Train loss: 0.11656238874120096\n",
      "Train consistency loss: 0.0033171255377802385\n",
      "Validation loss: 0.2903321091499593\n",
      "1m 13s\n",
      "Early Stopping Counter = 5\n",
      "Epoch 266/300\n"
     ]
    },
    {
     "name": "stderr",
     "output_type": "stream",
     "text": [
      "100%|██████████| 155/155 [00:46<00:00,  3.32it/s]\n",
      "100%|██████████| 67/67 [00:20<00:00,  3.21it/s]\n",
      "100%|██████████| 18/18 [00:05<00:00,  3.35it/s]\n"
     ]
    },
    {
     "name": "stdout",
     "output_type": "stream",
     "text": [
      "Train loss: 0.116687241677315\n",
      "Train consistency loss: 0.003504965794898236\n",
      "Validation loss: 0.30050559072858757\n",
      "1m 13s\n",
      "Early Stopping Counter = 6\n",
      "Epoch 267/300\n"
     ]
    },
    {
     "name": "stderr",
     "output_type": "stream",
     "text": [
      "100%|██████████| 155/155 [00:46<00:00,  3.34it/s]\n",
      "100%|██████████| 67/67 [00:20<00:00,  3.19it/s]\n",
      "100%|██████████| 18/18 [00:05<00:00,  3.29it/s]\n"
     ]
    },
    {
     "name": "stdout",
     "output_type": "stream",
     "text": [
      "Train loss: 0.11663745492696762\n",
      "Train consistency loss: 0.003823701810063933\n",
      "Validation loss: 0.27926630268080366\n",
      "1m 13s\n",
      "Early Stopping Counter = 7\n",
      "Epoch 268/300\n"
     ]
    },
    {
     "name": "stderr",
     "output_type": "stream",
     "text": [
      "100%|██████████| 155/155 [00:46<00:00,  3.33it/s]\n",
      "100%|██████████| 67/67 [00:20<00:00,  3.22it/s]\n",
      "100%|██████████| 18/18 [00:05<00:00,  3.22it/s]\n"
     ]
    },
    {
     "name": "stdout",
     "output_type": "stream",
     "text": [
      "Train loss: 0.11728830097183104\n",
      "Train consistency loss: 0.0035389116461347066\n",
      "Validation loss: 0.281624470733934\n",
      "1m 13s\n",
      "Early Stopping Counter = 8\n",
      "Epoch 269/300\n"
     ]
    },
    {
     "name": "stderr",
     "output_type": "stream",
     "text": [
      "100%|██████████| 155/155 [00:46<00:00,  3.33it/s]\n",
      "100%|██████████| 67/67 [00:20<00:00,  3.20it/s]\n",
      "100%|██████████| 18/18 [00:05<00:00,  3.30it/s]\n"
     ]
    },
    {
     "name": "stdout",
     "output_type": "stream",
     "text": [
      "Train loss: 0.11634245130323595\n",
      "Train consistency loss: 0.003295492238379014\n",
      "Validation loss: 0.2879266416033109\n",
      "1m 13s\n",
      "Early Stopping Counter = 9\n",
      "Epoch 270/300\n"
     ]
    },
    {
     "name": "stderr",
     "output_type": "stream",
     "text": [
      "100%|██████████| 155/155 [00:46<00:00,  3.35it/s]\n",
      "100%|██████████| 67/67 [00:20<00:00,  3.22it/s]\n",
      "100%|██████████| 18/18 [00:05<00:00,  3.32it/s]\n"
     ]
    },
    {
     "name": "stdout",
     "output_type": "stream",
     "text": [
      "Train loss: 0.11607311560261634\n",
      "Train consistency loss: 0.003181953678157792\n",
      "Validation loss: 0.2919780171165864\n",
      "1m 13s\n",
      "Early Stopping Counter = 10\n",
      "Epoch 271/300\n"
     ]
    },
    {
     "name": "stderr",
     "output_type": "stream",
     "text": [
      "100%|██████████| 155/155 [00:46<00:00,  3.36it/s]\n",
      "100%|██████████| 67/67 [00:20<00:00,  3.20it/s]\n",
      "100%|██████████| 18/18 [00:05<00:00,  3.31it/s]\n"
     ]
    },
    {
     "name": "stdout",
     "output_type": "stream",
     "text": [
      "Train loss: 0.11568003268011155\n",
      "Train consistency loss: 0.003510374283946272\n",
      "Validation loss: 0.2862372872316175\n",
      "1m 13s\n",
      "Early Stopping Counter = 11\n",
      "Epoch 272/300\n"
     ]
    },
    {
     "name": "stderr",
     "output_type": "stream",
     "text": [
      "100%|██████████| 155/155 [00:46<00:00,  3.34it/s]\n",
      "100%|██████████| 67/67 [00:20<00:00,  3.20it/s]\n",
      "100%|██████████| 18/18 [00:05<00:00,  3.30it/s]\n"
     ]
    },
    {
     "name": "stdout",
     "output_type": "stream",
     "text": [
      "Train loss: 0.11558316532642611\n",
      "Train consistency loss: 0.0032455385471485665\n",
      "Validation loss: 0.2949501373287704\n",
      "1m 13s\n",
      "Early Stopping Counter = 12\n",
      "Epoch 273/300\n"
     ]
    },
    {
     "name": "stderr",
     "output_type": "stream",
     "text": [
      "100%|██████████| 155/155 [00:46<00:00,  3.33it/s]\n",
      "100%|██████████| 67/67 [00:21<00:00,  3.17it/s]\n",
      "100%|██████████| 18/18 [00:05<00:00,  3.22it/s]\n"
     ]
    },
    {
     "name": "stdout",
     "output_type": "stream",
     "text": [
      "Train loss: 0.11561475809543363\n",
      "Train consistency loss: 0.0031925350681308714\n",
      "Validation loss: 0.290250816485948\n",
      "1m 13s\n",
      "Early Stopping Counter = 13\n",
      "Epoch 274/300\n"
     ]
    },
    {
     "name": "stderr",
     "output_type": "stream",
     "text": [
      "100%|██████████| 155/155 [00:46<00:00,  3.35it/s]\n",
      "100%|██████████| 67/67 [00:21<00:00,  3.17it/s]\n",
      "100%|██████████| 18/18 [00:05<00:00,  3.17it/s]\n"
     ]
    },
    {
     "name": "stdout",
     "output_type": "stream",
     "text": [
      "Train loss: 0.11528580775184016\n",
      "Train consistency loss: 0.0031244612312806186\n",
      "Validation loss: 0.292091216892004\n",
      "1m 13s\n",
      "Consistency Loss declined to 0.0031244612312806186\n",
      "Early Stopping Counter = 0\n",
      "Epoch 275/300\n"
     ]
    },
    {
     "name": "stderr",
     "output_type": "stream",
     "text": [
      "100%|██████████| 155/155 [00:46<00:00,  3.32it/s]\n",
      "100%|██████████| 67/67 [00:21<00:00,  3.19it/s]\n",
      "100%|██████████| 18/18 [00:05<00:00,  3.18it/s]\n"
     ]
    },
    {
     "name": "stdout",
     "output_type": "stream",
     "text": [
      "Train loss: 0.11541555370053937\n",
      "Train consistency loss: 0.004332978148082855\n",
      "Validation loss: 0.2947995358457168\n",
      "1m 13s\n",
      "Early Stopping Counter = 1\n",
      "Epoch 276/300\n"
     ]
    },
    {
     "name": "stderr",
     "output_type": "stream",
     "text": [
      "100%|██████████| 155/155 [00:46<00:00,  3.35it/s]\n",
      "100%|██████████| 67/67 [00:21<00:00,  3.18it/s]\n",
      "100%|██████████| 18/18 [00:05<00:00,  3.17it/s]\n"
     ]
    },
    {
     "name": "stdout",
     "output_type": "stream",
     "text": [
      "Train loss: 0.11506578316611628\n",
      "Train consistency loss: 0.0031455337094254236\n",
      "Validation loss: 0.28762174728843903\n",
      "1m 13s\n",
      "Early Stopping Counter = 2\n",
      "Epoch 277/300\n"
     ]
    },
    {
     "name": "stderr",
     "output_type": "stream",
     "text": [
      "100%|██████████| 155/155 [00:46<00:00,  3.35it/s]\n",
      "100%|██████████| 67/67 [00:20<00:00,  3.20it/s]\n",
      "100%|██████████| 18/18 [00:05<00:00,  3.27it/s]\n"
     ]
    },
    {
     "name": "stdout",
     "output_type": "stream",
     "text": [
      "Train loss: 0.11509365040448404\n",
      "Train consistency loss: 0.0030154068554654272\n",
      "Validation loss: 0.28387389952937764\n",
      "1m 13s\n",
      "Consistency Loss declined to 0.0030154068554654272\n",
      "Early Stopping Counter = 0\n",
      "Epoch 278/300\n"
     ]
    },
    {
     "name": "stderr",
     "output_type": "stream",
     "text": [
      "100%|██████████| 155/155 [00:46<00:00,  3.35it/s]\n",
      "100%|██████████| 67/67 [00:20<00:00,  3.20it/s]\n",
      "100%|██████████| 18/18 [00:05<00:00,  3.23it/s]\n"
     ]
    },
    {
     "name": "stdout",
     "output_type": "stream",
     "text": [
      "Train loss: 0.11451158605275616\n",
      "Train consistency loss: 0.0029891459080182126\n",
      "Validation loss: 0.29495989055269295\n",
      "1m 13s\n",
      "Consistency Loss declined to 0.0029891459080182126\n",
      "Early Stopping Counter = 0\n",
      "Epoch 279/300\n"
     ]
    },
    {
     "name": "stderr",
     "output_type": "stream",
     "text": [
      "100%|██████████| 155/155 [00:46<00:00,  3.34it/s]\n",
      "100%|██████████| 67/67 [00:20<00:00,  3.23it/s]\n",
      "100%|██████████| 18/18 [00:05<00:00,  3.25it/s]\n"
     ]
    },
    {
     "name": "stdout",
     "output_type": "stream",
     "text": [
      "Train loss: 0.11428845039298458\n",
      "Train consistency loss: 0.0032228497169745057\n",
      "Validation loss: 0.2848785236063931\n",
      "1m 13s\n",
      "Early Stopping Counter = 1\n",
      "Epoch 280/300\n"
     ]
    },
    {
     "name": "stderr",
     "output_type": "stream",
     "text": [
      "100%|██████████| 155/155 [00:46<00:00,  3.35it/s]\n",
      "100%|██████████| 67/67 [00:21<00:00,  3.19it/s]\n",
      "100%|██████████| 18/18 [00:05<00:00,  3.25it/s]\n"
     ]
    },
    {
     "name": "stdout",
     "output_type": "stream",
     "text": [
      "Train loss: 0.11456135766160104\n",
      "Train consistency loss: 0.003022149684769449\n",
      "Validation loss: 0.29265851630932754\n",
      "1m 13s\n",
      "Early Stopping Counter = 2\n",
      "Epoch 281/300\n"
     ]
    },
    {
     "name": "stderr",
     "output_type": "stream",
     "text": [
      "100%|██████████| 155/155 [00:46<00:00,  3.34it/s]\n",
      "100%|██████████| 67/67 [00:20<00:00,  3.19it/s]\n",
      "100%|██████████| 18/18 [00:05<00:00,  3.27it/s]\n"
     ]
    },
    {
     "name": "stdout",
     "output_type": "stream",
     "text": [
      "Train loss: 0.11397470952041687\n",
      "Train consistency loss: 0.003105290148949334\n",
      "Validation loss: 0.2963073963506354\n",
      "1m 13s\n",
      "Early Stopping Counter = 3\n",
      "Epoch 282/300\n"
     ]
    },
    {
     "name": "stderr",
     "output_type": "stream",
     "text": [
      "100%|██████████| 155/155 [00:46<00:00,  3.33it/s]\n",
      "100%|██████████| 67/67 [00:21<00:00,  3.17it/s]\n",
      "100%|██████████| 18/18 [00:05<00:00,  3.25it/s]\n"
     ]
    },
    {
     "name": "stdout",
     "output_type": "stream",
     "text": [
      "Train loss: 0.11434036988404489\n",
      "Train consistency loss: 0.0030453277477271745\n",
      "Validation loss: 0.28399126210974324\n",
      "1m 13s\n",
      "Early Stopping Counter = 4\n",
      "Epoch 283/300\n"
     ]
    },
    {
     "name": "stderr",
     "output_type": "stream",
     "text": [
      "100%|██████████| 155/155 [00:46<00:00,  3.32it/s]\n",
      "100%|██████████| 67/67 [00:20<00:00,  3.22it/s]\n",
      "100%|██████████| 18/18 [00:05<00:00,  3.23it/s]\n"
     ]
    },
    {
     "name": "stdout",
     "output_type": "stream",
     "text": [
      "Train loss: 0.11415025495713757\n",
      "Train consistency loss: 0.002948263001544818\n",
      "Validation loss: 0.2890215462280644\n",
      "1m 13s\n",
      "Consistency Loss declined to 0.002948263001544818\n",
      "Early Stopping Counter = 0\n",
      "Epoch 284/300\n"
     ]
    },
    {
     "name": "stderr",
     "output_type": "stream",
     "text": [
      "100%|██████████| 155/155 [00:46<00:00,  3.33it/s]\n",
      "100%|██████████| 67/67 [00:20<00:00,  3.23it/s]\n",
      "100%|██████████| 18/18 [00:05<00:00,  3.29it/s]\n"
     ]
    },
    {
     "name": "stdout",
     "output_type": "stream",
     "text": [
      "Train loss: 0.11268061115857093\n",
      "Train consistency loss: 0.00293778333771251\n",
      "Validation loss: 0.2885992642905977\n",
      "1m 13s\n",
      "Consistency Loss declined to 0.00293778333771251\n",
      "Early Stopping Counter = 0\n",
      "Epoch 285/300\n"
     ]
    },
    {
     "name": "stderr",
     "output_type": "stream",
     "text": [
      "100%|██████████| 155/155 [00:46<00:00,  3.34it/s]\n",
      "100%|██████████| 67/67 [00:20<00:00,  3.23it/s]\n",
      "100%|██████████| 18/18 [00:05<00:00,  3.25it/s]\n"
     ]
    },
    {
     "name": "stdout",
     "output_type": "stream",
     "text": [
      "Train loss: 0.11354878429443606\n",
      "Train consistency loss: 0.0032678108363509623\n",
      "Validation loss: 0.2871976972868045\n",
      "1m 13s\n",
      "Early Stopping Counter = 1\n",
      "Epoch 286/300\n"
     ]
    },
    {
     "name": "stderr",
     "output_type": "stream",
     "text": [
      "100%|██████████| 155/155 [00:46<00:00,  3.35it/s]\n",
      "100%|██████████| 67/67 [00:20<00:00,  3.21it/s]\n",
      "100%|██████████| 18/18 [00:05<00:00,  3.25it/s]\n"
     ]
    },
    {
     "name": "stdout",
     "output_type": "stream",
     "text": [
      "Train loss: 0.1130566920484266\n",
      "Train consistency loss: 0.0028719095228267695\n",
      "Validation loss: 0.2887288412700097\n",
      "1m 13s\n",
      "Consistency Loss declined to 0.0028719095228267695\n",
      "Early Stopping Counter = 0\n",
      "Epoch 287/300\n"
     ]
    },
    {
     "name": "stderr",
     "output_type": "stream",
     "text": [
      "100%|██████████| 155/155 [00:46<00:00,  3.34it/s]\n",
      "100%|██████████| 67/67 [00:20<00:00,  3.23it/s]\n",
      "100%|██████████| 18/18 [00:05<00:00,  3.35it/s]\n"
     ]
    },
    {
     "name": "stdout",
     "output_type": "stream",
     "text": [
      "Train loss: 0.11351010087997683\n",
      "Train consistency loss: 0.002955082062034131\n",
      "Validation loss: 0.29553861998849446\n",
      "1m 13s\n",
      "Early Stopping Counter = 1\n",
      "Epoch 288/300\n"
     ]
    },
    {
     "name": "stderr",
     "output_type": "stream",
     "text": [
      "100%|██████████| 155/155 [00:46<00:00,  3.35it/s]\n",
      "100%|██████████| 67/67 [00:20<00:00,  3.24it/s]\n",
      "100%|██████████| 18/18 [00:05<00:00,  3.28it/s]\n"
     ]
    },
    {
     "name": "stdout",
     "output_type": "stream",
     "text": [
      "Train loss: 0.11380271354029256\n",
      "Train consistency loss: 0.0030832929508899575\n",
      "Validation loss: 0.287819371248285\n",
      "1m 12s\n",
      "Early Stopping Counter = 2\n",
      "Epoch 289/300\n"
     ]
    },
    {
     "name": "stderr",
     "output_type": "stream",
     "text": [
      "100%|██████████| 155/155 [00:46<00:00,  3.35it/s]\n",
      "100%|██████████| 67/67 [00:20<00:00,  3.22it/s]\n",
      "100%|██████████| 18/18 [00:05<00:00,  3.22it/s]\n"
     ]
    },
    {
     "name": "stdout",
     "output_type": "stream",
     "text": [
      "Train loss: 0.11303969674533414\n",
      "Train consistency loss: 0.0027332262730281522\n",
      "Validation loss: 0.28344096719390816\n",
      "1m 13s\n",
      "Consistency Loss declined to 0.0027332262730281522\n",
      "Early Stopping Counter = 0\n",
      "Epoch 290/300\n"
     ]
    },
    {
     "name": "stderr",
     "output_type": "stream",
     "text": [
      "100%|██████████| 155/155 [00:46<00:00,  3.32it/s]\n",
      "100%|██████████| 67/67 [00:20<00:00,  3.21it/s]\n",
      "100%|██████████| 18/18 [00:05<00:00,  3.30it/s]\n"
     ]
    },
    {
     "name": "stdout",
     "output_type": "stream",
     "text": [
      "Train loss: 0.11306866854429246\n",
      "Train consistency loss: 0.0030311960570597605\n",
      "Validation loss: 0.29391401405963635\n",
      "1m 13s\n",
      "Early Stopping Counter = 1\n",
      "Epoch 291/300\n"
     ]
    },
    {
     "name": "stderr",
     "output_type": "stream",
     "text": [
      "100%|██████████| 155/155 [00:46<00:00,  3.34it/s]\n",
      "100%|██████████| 67/67 [00:21<00:00,  3.19it/s]\n",
      "100%|██████████| 18/18 [00:05<00:00,  3.33it/s]\n"
     ]
    },
    {
     "name": "stdout",
     "output_type": "stream",
     "text": [
      "Train loss: 0.11223348316646391\n",
      "Train consistency loss: 0.0028119691032499295\n",
      "Validation loss: 0.2970482090281116\n",
      "1m 13s\n",
      "Early Stopping Counter = 2\n",
      "Epoch 292/300\n"
     ]
    },
    {
     "name": "stderr",
     "output_type": "stream",
     "text": [
      "100%|██████████| 155/155 [00:46<00:00,  3.35it/s]\n",
      "100%|██████████| 67/67 [00:20<00:00,  3.20it/s]\n",
      "100%|██████████| 18/18 [00:05<00:00,  3.26it/s]\n"
     ]
    },
    {
     "name": "stdout",
     "output_type": "stream",
     "text": [
      "Train loss: 0.11231249604494341\n",
      "Train consistency loss: 0.0034976508277259877\n",
      "Validation loss: 0.29788661499818164\n",
      "1m 13s\n",
      "Early Stopping Counter = 3\n",
      "Epoch 293/300\n"
     ]
    },
    {
     "name": "stderr",
     "output_type": "stream",
     "text": [
      "100%|██████████| 155/155 [00:46<00:00,  3.36it/s]\n",
      "100%|██████████| 67/67 [00:21<00:00,  3.19it/s]\n",
      "100%|██████████| 18/18 [00:05<00:00,  3.26it/s]\n"
     ]
    },
    {
     "name": "stdout",
     "output_type": "stream",
     "text": [
      "Train loss: 0.11273542152297113\n",
      "Train consistency loss: 0.004151695611219464\n",
      "Validation loss: 0.2924687049041192\n",
      "1m 13s\n",
      "Early Stopping Counter = 4\n",
      "Epoch 294/300\n"
     ]
    },
    {
     "name": "stderr",
     "output_type": "stream",
     "text": [
      "100%|██████████| 155/155 [00:46<00:00,  3.34it/s]\n",
      "100%|██████████| 67/67 [00:21<00:00,  3.18it/s]\n",
      "100%|██████████| 18/18 [00:05<00:00,  3.29it/s]\n"
     ]
    },
    {
     "name": "stdout",
     "output_type": "stream",
     "text": [
      "Train loss: 0.11233693202657084\n",
      "Train consistency loss: 0.002726287490674364\n",
      "Validation loss: 0.2960537918325927\n",
      "1m 13s\n",
      "Consistency Loss declined to 0.002726287490674364\n",
      "Early Stopping Counter = 0\n",
      "Epoch 295/300\n"
     ]
    },
    {
     "name": "stderr",
     "output_type": "stream",
     "text": [
      "100%|██████████| 155/155 [00:46<00:00,  3.35it/s]\n",
      "100%|██████████| 67/67 [00:20<00:00,  3.19it/s]\n",
      "100%|██████████| 18/18 [00:05<00:00,  3.20it/s]\n"
     ]
    },
    {
     "name": "stdout",
     "output_type": "stream",
     "text": [
      "Train loss: 0.1121819275521463\n",
      "Train consistency loss: 0.003055860406594045\n",
      "Validation loss: 0.2874251844154464\n",
      "1m 13s\n",
      "Early Stopping Counter = 1\n",
      "Epoch 296/300\n"
     ]
    },
    {
     "name": "stderr",
     "output_type": "stream",
     "text": [
      "100%|██████████| 155/155 [00:46<00:00,  3.35it/s]\n",
      "100%|██████████| 67/67 [00:21<00:00,  3.18it/s]\n",
      "100%|██████████| 18/18 [00:05<00:00,  3.22it/s]\n"
     ]
    },
    {
     "name": "stdout",
     "output_type": "stream",
     "text": [
      "Train loss: 0.11398778798118714\n",
      "Train consistency loss: 0.003227787295620499\n",
      "Validation loss: 0.29119757521483636\n",
      "1m 13s\n",
      "Early Stopping Counter = 2\n",
      "Epoch 297/300\n"
     ]
    },
    {
     "name": "stderr",
     "output_type": "stream",
     "text": [
      "100%|██████████| 155/155 [00:46<00:00,  3.33it/s]\n",
      "100%|██████████| 67/67 [00:20<00:00,  3.20it/s]\n",
      "100%|██████████| 18/18 [00:05<00:00,  3.28it/s]\n"
     ]
    },
    {
     "name": "stdout",
     "output_type": "stream",
     "text": [
      "Train loss: 0.11138342301691732\n",
      "Train consistency loss: 0.0029009679235073166\n",
      "Validation loss: 0.29777969378564095\n",
      "1m 13s\n",
      "Early Stopping Counter = 3\n",
      "Epoch 298/300\n"
     ]
    },
    {
     "name": "stderr",
     "output_type": "stream",
     "text": [
      "100%|██████████| 155/155 [00:46<00:00,  3.34it/s]\n",
      "100%|██████████| 67/67 [00:21<00:00,  3.19it/s]\n",
      "100%|██████████| 18/18 [00:05<00:00,  3.33it/s]\n"
     ]
    },
    {
     "name": "stdout",
     "output_type": "stream",
     "text": [
      "Train loss: 0.11121906436258747\n",
      "Train consistency loss: 0.00291541655923226\n",
      "Validation loss: 0.2919013889299499\n",
      "1m 13s\n",
      "Early Stopping Counter = 4\n",
      "Epoch 299/300\n"
     ]
    },
    {
     "name": "stderr",
     "output_type": "stream",
     "text": [
      "100%|██████████| 155/155 [00:46<00:00,  3.36it/s]\n",
      "100%|██████████| 67/67 [00:20<00:00,  3.22it/s]\n",
      "100%|██████████| 18/18 [00:05<00:00,  3.33it/s]\n"
     ]
    },
    {
     "name": "stdout",
     "output_type": "stream",
     "text": [
      "Train loss: 0.11110359305335629\n",
      "Train consistency loss: 0.0026647160733257657\n",
      "Validation loss: 0.2940946939504809\n",
      "1m 12s\n",
      "Consistency Loss declined to 0.0026647160733257657\n",
      "Early Stopping Counter = 0\n",
      "Epoch 300/300\n"
     ]
    },
    {
     "name": "stderr",
     "output_type": "stream",
     "text": [
      "100%|██████████| 155/155 [00:46<00:00,  3.34it/s]\n",
      "100%|██████████| 67/67 [00:21<00:00,  3.19it/s]\n",
      "100%|██████████| 18/18 [00:05<00:00,  3.28it/s]\n"
     ]
    },
    {
     "name": "stdout",
     "output_type": "stream",
     "text": [
      "Train loss: 0.1109169106329641\n",
      "Train consistency loss: 0.0027869964598803156\n",
      "Validation loss: 0.29658050648868084\n",
      "1m 13s\n",
      "Early Stopping Counter = 1\n"
     ]
    },
    {
     "name": "stderr",
     "output_type": "stream",
     "text": [
      "100%|██████████| 16/16 [02:05<00:00,  7.84s/it]\n"
     ]
    },
    {
     "name": "stdout",
     "output_type": "stream",
     "text": [
      "F1-Score : 0.6569163799285889\n",
      "Accuracy : 0.9977439045906067\n",
      "Specificity : 0.9991176128387451\n",
      "Recall : 0.6311729550361633\n",
      "Precision : 0.7132272720336914\n"
     ]
    },
    {
     "name": "stderr",
     "output_type": "stream",
     "text": [
      " 99%|█████████▊| 67/68 [09:03<00:08,  8.11s/it]\n",
      "100%|██████████| 4292/4292 [01:47<00:00, 39.81it/s] \n"
     ]
    },
    {
     "name": "stdout",
     "output_type": "stream",
     "text": [
      "Epoch 1/300\n"
     ]
    },
    {
     "name": "stderr",
     "output_type": "stream",
     "text": [
      "100%|██████████| 155/155 [00:46<00:00,  3.34it/s]\n",
      "100%|██████████| 67/67 [00:21<00:00,  3.17it/s]\n",
      "100%|██████████| 18/18 [00:05<00:00,  3.25it/s]\n"
     ]
    },
    {
     "name": "stdout",
     "output_type": "stream",
     "text": [
      "Train loss: 0.33578905982355917\n",
      "Train consistency loss: 0.09436684363146326\n",
      "Validation loss: 0.4290650751855638\n",
      "1m 13s\n",
      "Consistency Loss declined to 0.09436684363146326\n",
      "Early Stopping Counter = 0\n",
      "Epoch 2/300\n"
     ]
    },
    {
     "name": "stderr",
     "output_type": "stream",
     "text": [
      "100%|██████████| 155/155 [00:46<00:00,  3.31it/s]\n",
      "100%|██████████| 67/67 [00:20<00:00,  3.23it/s]\n",
      "100%|██████████| 18/18 [00:05<00:00,  3.26it/s]\n"
     ]
    },
    {
     "name": "stdout",
     "output_type": "stream",
     "text": [
      "Train loss: 0.2795422189658688\n",
      "Train consistency loss: 0.09076305084041696\n",
      "Validation loss: 0.4311779985825221\n",
      "1m 13s\n",
      "Consistency Loss declined to 0.09076305084041696\n",
      "Early Stopping Counter = 0\n",
      "Epoch 3/300\n"
     ]
    },
    {
     "name": "stderr",
     "output_type": "stream",
     "text": [
      "100%|██████████| 155/155 [00:46<00:00,  3.33it/s]\n",
      "100%|██████████| 67/67 [00:20<00:00,  3.20it/s]\n",
      "100%|██████████| 18/18 [00:05<00:00,  3.28it/s]\n"
     ]
    },
    {
     "name": "stdout",
     "output_type": "stream",
     "text": [
      "Train loss: 0.2742302214907062\n",
      "Train consistency loss: 0.09380813093105358\n",
      "Validation loss: 0.48649302621682483\n",
      "1m 13s\n",
      "Early Stopping Counter = 1\n",
      "Epoch 4/300\n"
     ]
    },
    {
     "name": "stderr",
     "output_type": "stream",
     "text": [
      "100%|██████████| 155/155 [00:46<00:00,  3.32it/s]\n",
      "100%|██████████| 67/67 [00:21<00:00,  3.17it/s]\n",
      "100%|██████████| 18/18 [00:05<00:00,  3.27it/s]\n"
     ]
    },
    {
     "name": "stdout",
     "output_type": "stream",
     "text": [
      "Train loss: 0.27861033591531936\n",
      "Train consistency loss: 0.08515217027335024\n",
      "Validation loss: 0.4641097171439065\n",
      "1m 13s\n",
      "Consistency Loss declined to 0.08515217027335024\n",
      "Early Stopping Counter = 0\n",
      "Epoch 5/300\n"
     ]
    },
    {
     "name": "stderr",
     "output_type": "stream",
     "text": [
      "100%|██████████| 155/155 [00:46<00:00,  3.32it/s]\n",
      "100%|██████████| 67/67 [00:20<00:00,  3.21it/s]\n",
      "100%|██████████| 18/18 [00:05<00:00,  3.16it/s]\n"
     ]
    },
    {
     "name": "stdout",
     "output_type": "stream",
     "text": [
      "Train loss: 0.2714277003080614\n",
      "Train consistency loss: 0.078479844854394\n",
      "Validation loss: 0.4523136052820418\n",
      "1m 13s\n",
      "Consistency Loss declined to 0.078479844854394\n",
      "Early Stopping Counter = 0\n",
      "Epoch 6/300\n"
     ]
    },
    {
     "name": "stderr",
     "output_type": "stream",
     "text": [
      "100%|██████████| 155/155 [00:46<00:00,  3.32it/s]\n",
      "100%|██████████| 67/67 [00:20<00:00,  3.22it/s]\n",
      "100%|██████████| 18/18 [00:05<00:00,  3.30it/s]\n"
     ]
    },
    {
     "name": "stdout",
     "output_type": "stream",
     "text": [
      "Train loss: 0.26216955233004785\n",
      "Train consistency loss: 0.07350161132305416\n",
      "Validation loss: 0.4507135185930464\n",
      "1m 13s\n",
      "Consistency Loss declined to 0.07350161132305416\n",
      "Early Stopping Counter = 0\n",
      "Epoch 7/300\n"
     ]
    },
    {
     "name": "stderr",
     "output_type": "stream",
     "text": [
      "100%|██████████| 155/155 [00:46<00:00,  3.33it/s]\n",
      "100%|██████████| 67/67 [00:20<00:00,  3.22it/s]\n",
      "100%|██████████| 18/18 [00:05<00:00,  3.34it/s]\n"
     ]
    },
    {
     "name": "stdout",
     "output_type": "stream",
     "text": [
      "Train loss: 0.25616946076193164\n",
      "Train consistency loss: 0.0764441819889332\n",
      "Validation loss: 0.42857687009705436\n",
      "1m 13s\n",
      "Early Stopping Counter = 1\n",
      "Epoch 8/300\n"
     ]
    },
    {
     "name": "stderr",
     "output_type": "stream",
     "text": [
      "100%|██████████| 155/155 [00:46<00:00,  3.35it/s]\n",
      "100%|██████████| 67/67 [00:21<00:00,  3.19it/s]\n",
      "100%|██████████| 18/18 [00:05<00:00,  3.35it/s]\n"
     ]
    },
    {
     "name": "stdout",
     "output_type": "stream",
     "text": [
      "Train loss: 0.266702542766448\n",
      "Train consistency loss: 0.07893933897921399\n",
      "Validation loss: 0.4485211885637707\n",
      "1m 13s\n",
      "Early Stopping Counter = 2\n",
      "Epoch 9/300\n"
     ]
    },
    {
     "name": "stderr",
     "output_type": "stream",
     "text": [
      "100%|██████████| 155/155 [00:46<00:00,  3.34it/s]\n",
      "100%|██████████| 67/67 [00:20<00:00,  3.19it/s]\n",
      "100%|██████████| 18/18 [00:05<00:00,  3.27it/s]\n"
     ]
    },
    {
     "name": "stdout",
     "output_type": "stream",
     "text": [
      "Train loss: 0.2552616799069989\n",
      "Train consistency loss: 0.07300150377759293\n",
      "Validation loss: 0.44435351424747044\n",
      "1m 13s\n",
      "Consistency Loss declined to 0.07300150377759293\n",
      "Early Stopping Counter = 0\n",
      "Epoch 10/300\n"
     ]
    },
    {
     "name": "stderr",
     "output_type": "stream",
     "text": [
      "100%|██████████| 155/155 [00:46<00:00,  3.34it/s]\n",
      "100%|██████████| 67/67 [00:20<00:00,  3.19it/s]\n",
      "100%|██████████| 18/18 [00:05<00:00,  3.22it/s]\n"
     ]
    },
    {
     "name": "stdout",
     "output_type": "stream",
     "text": [
      "Train loss: 0.24985987342173052\n",
      "Train consistency loss: 0.07051769555059832\n",
      "Validation loss: 0.44486789405345917\n",
      "1m 13s\n",
      "Consistency Loss declined to 0.07051769555059832\n",
      "Early Stopping Counter = 0\n",
      "Epoch 11/300\n"
     ]
    },
    {
     "name": "stderr",
     "output_type": "stream",
     "text": [
      "100%|██████████| 155/155 [00:46<00:00,  3.33it/s]\n",
      "100%|██████████| 67/67 [00:20<00:00,  3.22it/s]\n",
      "100%|██████████| 18/18 [00:05<00:00,  3.11it/s]\n"
     ]
    },
    {
     "name": "stdout",
     "output_type": "stream",
     "text": [
      "Train loss: 0.2508638097393897\n",
      "Train consistency loss: 0.0633408711639358\n",
      "Validation loss: 0.40112969279289246\n",
      "1m 13s\n",
      "Consistency Loss declined to 0.0633408711639358\n",
      "Early Stopping Counter = 0\n",
      "Epoch 12/300\n"
     ]
    },
    {
     "name": "stderr",
     "output_type": "stream",
     "text": [
      "100%|██████████| 155/155 [00:46<00:00,  3.33it/s]\n",
      "100%|██████████| 67/67 [00:20<00:00,  3.21it/s]\n",
      "100%|██████████| 18/18 [00:05<00:00,  3.28it/s]\n"
     ]
    },
    {
     "name": "stdout",
     "output_type": "stream",
     "text": [
      "Train loss: 0.23502115126579037\n",
      "Train consistency loss: 0.05605511192176769\n",
      "Validation loss: 0.43540501925680375\n",
      "1m 13s\n",
      "Consistency Loss declined to 0.05605511192176769\n",
      "Early Stopping Counter = 0\n",
      "Epoch 13/300\n"
     ]
    },
    {
     "name": "stderr",
     "output_type": "stream",
     "text": [
      "100%|██████████| 155/155 [00:46<00:00,  3.33it/s]\n",
      "100%|██████████| 67/67 [00:20<00:00,  3.20it/s]\n",
      "100%|██████████| 18/18 [00:05<00:00,  3.26it/s]\n"
     ]
    },
    {
     "name": "stdout",
     "output_type": "stream",
     "text": [
      "Train loss: 0.23114280143091756\n",
      "Train consistency loss: 0.05305796875548897\n",
      "Validation loss: 0.40619030760394204\n",
      "1m 13s\n",
      "Consistency Loss declined to 0.05305796875548897\n",
      "Early Stopping Counter = 0\n",
      "Epoch 14/300\n"
     ]
    },
    {
     "name": "stderr",
     "output_type": "stream",
     "text": [
      "100%|██████████| 155/155 [00:46<00:00,  3.33it/s]\n",
      "100%|██████████| 67/67 [00:20<00:00,  3.20it/s]\n",
      "100%|██████████| 18/18 [00:05<00:00,  3.26it/s]\n"
     ]
    },
    {
     "name": "stdout",
     "output_type": "stream",
     "text": [
      "Train loss: 0.23065969944000245\n",
      "Train consistency loss: 0.059300891916031266\n",
      "Validation loss: 0.3981287529071172\n",
      "1m 13s\n",
      "Early Stopping Counter = 1\n",
      "Epoch 15/300\n"
     ]
    },
    {
     "name": "stderr",
     "output_type": "stream",
     "text": [
      "100%|██████████| 155/155 [00:46<00:00,  3.34it/s]\n",
      "100%|██████████| 67/67 [00:21<00:00,  3.17it/s]\n",
      "100%|██████████| 18/18 [00:05<00:00,  3.32it/s]\n"
     ]
    },
    {
     "name": "stdout",
     "output_type": "stream",
     "text": [
      "Train loss: 0.2431848350071138\n",
      "Train consistency loss: 0.05482730397315168\n",
      "Validation loss: 0.38831949565145707\n",
      "1m 13s\n",
      "Early Stopping Counter = 2\n",
      "Epoch 16/300\n"
     ]
    },
    {
     "name": "stderr",
     "output_type": "stream",
     "text": [
      "100%|██████████| 155/155 [00:46<00:00,  3.32it/s]\n",
      "100%|██████████| 67/67 [00:21<00:00,  3.19it/s]\n",
      "100%|██████████| 18/18 [00:05<00:00,  3.32it/s]\n"
     ]
    },
    {
     "name": "stdout",
     "output_type": "stream",
     "text": [
      "Train loss: 0.22920707925673453\n",
      "Train consistency loss: 0.0547369539515296\n",
      "Validation loss: 0.425089783138699\n",
      "1m 13s\n",
      "Early Stopping Counter = 3\n",
      "Epoch 17/300\n"
     ]
    },
    {
     "name": "stderr",
     "output_type": "stream",
     "text": [
      "100%|██████████| 155/155 [00:46<00:00,  3.33it/s]\n",
      "100%|██████████| 67/67 [00:21<00:00,  3.18it/s]\n",
      "100%|██████████| 18/18 [00:05<00:00,  3.32it/s]\n"
     ]
    },
    {
     "name": "stdout",
     "output_type": "stream",
     "text": [
      "Train loss: 0.22747218618469853\n",
      "Train consistency loss: 0.051274744654769326\n",
      "Validation loss: 0.3893268456061681\n",
      "1m 13s\n",
      "Consistency Loss declined to 0.051274744654769326\n",
      "Early Stopping Counter = 0\n",
      "Epoch 18/300\n"
     ]
    },
    {
     "name": "stderr",
     "output_type": "stream",
     "text": [
      "100%|██████████| 155/155 [00:46<00:00,  3.34it/s]\n",
      "100%|██████████| 67/67 [00:21<00:00,  3.16it/s]\n",
      "100%|██████████| 18/18 [00:05<00:00,  3.23it/s]\n"
     ]
    },
    {
     "name": "stdout",
     "output_type": "stream",
     "text": [
      "Train loss: 0.22176086037389695\n",
      "Train consistency loss: 0.0464729375080831\n",
      "Validation loss: 0.3848893849386109\n",
      "1m 13s\n",
      "Consistency Loss declined to 0.0464729375080831\n",
      "Early Stopping Counter = 0\n",
      "Epoch 19/300\n"
     ]
    },
    {
     "name": "stderr",
     "output_type": "stream",
     "text": [
      "100%|██████████| 155/155 [00:46<00:00,  3.31it/s]\n",
      "100%|██████████| 67/67 [00:20<00:00,  3.21it/s]\n",
      "100%|██████████| 18/18 [00:05<00:00,  3.30it/s]\n"
     ]
    },
    {
     "name": "stdout",
     "output_type": "stream",
     "text": [
      "Train loss: 0.21637384295463563\n",
      "Train consistency loss: 0.04355361154163951\n",
      "Validation loss: 0.3772451165649626\n",
      "1m 13s\n",
      "Consistency Loss declined to 0.04355361154163951\n",
      "Early Stopping Counter = 0\n",
      "Epoch 20/300\n"
     ]
    },
    {
     "name": "stderr",
     "output_type": "stream",
     "text": [
      "100%|██████████| 155/155 [00:46<00:00,  3.31it/s]\n",
      "100%|██████████| 67/67 [00:20<00:00,  3.22it/s]\n",
      "100%|██████████| 18/18 [00:05<00:00,  3.28it/s]\n"
     ]
    },
    {
     "name": "stdout",
     "output_type": "stream",
     "text": [
      "Train loss: 0.21361228218001704\n",
      "Train consistency loss: 0.04536039815909827\n",
      "Validation loss: 0.36223721752564114\n",
      "1m 13s\n",
      "Early Stopping Counter = 1\n",
      "Epoch 21/300\n"
     ]
    },
    {
     "name": "stderr",
     "output_type": "stream",
     "text": [
      "100%|██████████| 155/155 [00:46<00:00,  3.31it/s]\n",
      "100%|██████████| 67/67 [00:21<00:00,  3.18it/s]\n",
      "100%|██████████| 18/18 [00:05<00:00,  3.25it/s]\n"
     ]
    },
    {
     "name": "stdout",
     "output_type": "stream",
     "text": [
      "Train loss: 0.21297394162224184\n",
      "Train consistency loss: 0.041365853496896685\n",
      "Validation loss: 0.38466548588540816\n",
      "1m 13s\n",
      "Consistency Loss declined to 0.041365853496896685\n",
      "Early Stopping Counter = 0\n",
      "Epoch 22/300\n"
     ]
    },
    {
     "name": "stderr",
     "output_type": "stream",
     "text": [
      "100%|██████████| 155/155 [00:46<00:00,  3.30it/s]\n",
      "100%|██████████| 67/67 [00:20<00:00,  3.19it/s]\n",
      "100%|██████████| 18/18 [00:05<00:00,  3.22it/s]\n"
     ]
    },
    {
     "name": "stdout",
     "output_type": "stream",
     "text": [
      "Train loss: 0.2102404933783316\n",
      "Train consistency loss: 0.038655206241380816\n",
      "Validation loss: 0.3644660661617915\n",
      "1m 14s\n",
      "Consistency Loss declined to 0.038655206241380816\n",
      "Early Stopping Counter = 0\n",
      "Epoch 23/300\n"
     ]
    },
    {
     "name": "stderr",
     "output_type": "stream",
     "text": [
      "100%|██████████| 155/155 [00:46<00:00,  3.31it/s]\n",
      "100%|██████████| 67/67 [00:20<00:00,  3.22it/s]\n",
      "100%|██████████| 18/18 [00:05<00:00,  3.34it/s]\n"
     ]
    },
    {
     "name": "stdout",
     "output_type": "stream",
     "text": [
      "Train loss: 0.20916185225209882\n",
      "Train consistency loss: 0.039636637654099895\n",
      "Validation loss: 0.3915550278292762\n",
      "1m 13s\n",
      "Early Stopping Counter = 1\n",
      "Epoch 24/300\n"
     ]
    },
    {
     "name": "stderr",
     "output_type": "stream",
     "text": [
      "100%|██████████| 155/155 [00:46<00:00,  3.35it/s]\n",
      "100%|██████████| 67/67 [00:21<00:00,  3.18it/s]\n",
      "100%|██████████| 18/18 [00:05<00:00,  3.33it/s]\n"
     ]
    },
    {
     "name": "stdout",
     "output_type": "stream",
     "text": [
      "Train loss: 0.21001268519509222\n",
      "Train consistency loss: 0.0405450036554639\n",
      "Validation loss: 0.3614761614137226\n",
      "1m 13s\n",
      "Early Stopping Counter = 2\n",
      "Epoch 25/300\n"
     ]
    },
    {
     "name": "stderr",
     "output_type": "stream",
     "text": [
      "100%|██████████| 155/155 [00:46<00:00,  3.35it/s]\n",
      "100%|██████████| 67/67 [00:20<00:00,  3.21it/s]\n",
      "100%|██████████| 18/18 [00:05<00:00,  3.32it/s]\n"
     ]
    },
    {
     "name": "stdout",
     "output_type": "stream",
     "text": [
      "Train loss: 0.2075880407325683\n",
      "Train consistency loss: 0.03496843793276531\n",
      "Validation loss: 0.36034200588862103\n",
      "1m 13s\n",
      "Consistency Loss declined to 0.03496843793276531\n",
      "Early Stopping Counter = 0\n",
      "Epoch 26/300\n"
     ]
    },
    {
     "name": "stderr",
     "output_type": "stream",
     "text": [
      "100%|██████████| 155/155 [00:46<00:00,  3.33it/s]\n",
      "100%|██████████| 67/67 [00:20<00:00,  3.21it/s]\n",
      "100%|██████████| 18/18 [00:05<00:00,  3.25it/s]\n"
     ]
    },
    {
     "name": "stdout",
     "output_type": "stream",
     "text": [
      "Train loss: 0.20395922257054236\n",
      "Train consistency loss: 0.034482443510596435\n",
      "Validation loss: 0.3483709403210216\n",
      "1m 13s\n",
      "Consistency Loss declined to 0.034482443510596435\n",
      "Early Stopping Counter = 0\n",
      "Epoch 27/300\n"
     ]
    },
    {
     "name": "stderr",
     "output_type": "stream",
     "text": [
      "100%|██████████| 155/155 [00:46<00:00,  3.33it/s]\n",
      "100%|██████████| 67/67 [00:20<00:00,  3.22it/s]\n",
      "100%|██████████| 18/18 [00:05<00:00,  3.20it/s]\n"
     ]
    },
    {
     "name": "stdout",
     "output_type": "stream",
     "text": [
      "Train loss: 0.20291556081464213\n",
      "Train consistency loss: 0.030970269730731623\n",
      "Validation loss: 0.32640455332067275\n",
      "1m 13s\n",
      "Consistency Loss declined to 0.030970269730731623\n",
      "Early Stopping Counter = 0\n",
      "Epoch 28/300\n"
     ]
    },
    {
     "name": "stderr",
     "output_type": "stream",
     "text": [
      "100%|██████████| 155/155 [00:46<00:00,  3.32it/s]\n",
      "100%|██████████| 67/67 [00:20<00:00,  3.22it/s]\n",
      "100%|██████████| 18/18 [00:05<00:00,  3.24it/s]\n"
     ]
    },
    {
     "name": "stdout",
     "output_type": "stream",
     "text": [
      "Train loss: 0.20170339874682888\n",
      "Train consistency loss: 0.030854601023802115\n",
      "Validation loss: 0.34466702077123856\n",
      "1m 13s\n",
      "Consistency Loss declined to 0.030854601023802115\n",
      "Early Stopping Counter = 0\n",
      "Epoch 29/300\n"
     ]
    },
    {
     "name": "stderr",
     "output_type": "stream",
     "text": [
      "100%|██████████| 155/155 [00:46<00:00,  3.32it/s]\n",
      "100%|██████████| 67/67 [00:20<00:00,  3.21it/s]\n",
      "100%|██████████| 18/18 [00:05<00:00,  3.27it/s]\n"
     ]
    },
    {
     "name": "stdout",
     "output_type": "stream",
     "text": [
      "Train loss: 0.20350474465277887\n",
      "Train consistency loss: 0.03211076118385614\n",
      "Validation loss: 0.34624622762203217\n",
      "1m 13s\n",
      "Early Stopping Counter = 1\n",
      "Epoch 30/300\n"
     ]
    },
    {
     "name": "stderr",
     "output_type": "stream",
     "text": [
      "100%|██████████| 155/155 [00:46<00:00,  3.33it/s]\n",
      "100%|██████████| 67/67 [00:21<00:00,  3.17it/s]\n",
      "100%|██████████| 18/18 [00:05<00:00,  3.25it/s]\n"
     ]
    },
    {
     "name": "stdout",
     "output_type": "stream",
     "text": [
      "Train loss: 0.20046361069525442\n",
      "Train consistency loss: 0.030639153960814226\n",
      "Validation loss: 0.3419117099708981\n",
      "1m 13s\n",
      "Consistency Loss declined to 0.030639153960814226\n",
      "Early Stopping Counter = 0\n",
      "Epoch 31/300\n"
     ]
    },
    {
     "name": "stderr",
     "output_type": "stream",
     "text": [
      "100%|██████████| 155/155 [00:46<00:00,  3.32it/s]\n",
      "100%|██████████| 67/67 [00:21<00:00,  3.19it/s]\n",
      "100%|██████████| 18/18 [00:05<00:00,  3.34it/s]\n"
     ]
    },
    {
     "name": "stdout",
     "output_type": "stream",
     "text": [
      "Train loss: 0.20031614303588868\n",
      "Train consistency loss: 0.03510782361697795\n",
      "Validation loss: 0.34728627734714085\n",
      "1m 13s\n",
      "Early Stopping Counter = 1\n",
      "Epoch 32/300\n"
     ]
    },
    {
     "name": "stderr",
     "output_type": "stream",
     "text": [
      "100%|██████████| 155/155 [00:46<00:00,  3.33it/s]\n",
      "100%|██████████| 67/67 [00:20<00:00,  3.19it/s]\n",
      "100%|██████████| 18/18 [00:05<00:00,  3.25it/s]\n"
     ]
    },
    {
     "name": "stdout",
     "output_type": "stream",
     "text": [
      "Train loss: 0.20211086744262327\n",
      "Train consistency loss: 0.027477317239477564\n",
      "Validation loss: 0.3391798718108071\n",
      "1m 13s\n",
      "Consistency Loss declined to 0.027477317239477564\n",
      "Early Stopping Counter = 0\n",
      "Epoch 33/300\n"
     ]
    },
    {
     "name": "stderr",
     "output_type": "stream",
     "text": [
      "100%|██████████| 155/155 [00:46<00:00,  3.32it/s]\n",
      "100%|██████████| 67/67 [00:20<00:00,  3.20it/s]\n",
      "100%|██████████| 18/18 [00:05<00:00,  3.25it/s]\n"
     ]
    },
    {
     "name": "stdout",
     "output_type": "stream",
     "text": [
      "Train loss: 0.197753968834877\n",
      "Train consistency loss: 0.030715337134341696\n",
      "Validation loss: 0.3636830432547463\n",
      "1m 13s\n",
      "Early Stopping Counter = 1\n",
      "Epoch 34/300\n"
     ]
    },
    {
     "name": "stderr",
     "output_type": "stream",
     "text": [
      "100%|██████████| 155/155 [00:46<00:00,  3.34it/s]\n",
      "100%|██████████| 67/67 [00:20<00:00,  3.19it/s]\n",
      "100%|██████████| 18/18 [00:05<00:00,  3.30it/s]\n"
     ]
    },
    {
     "name": "stdout",
     "output_type": "stream",
     "text": [
      "Train loss: 0.1970279074484302\n",
      "Train consistency loss: 0.02982669541918075\n",
      "Validation loss: 0.32814238137669033\n",
      "1m 13s\n",
      "Early Stopping Counter = 2\n",
      "Epoch 35/300\n"
     ]
    },
    {
     "name": "stderr",
     "output_type": "stream",
     "text": [
      "100%|██████████| 155/155 [00:46<00:00,  3.35it/s]\n",
      "100%|██████████| 67/67 [00:20<00:00,  3.22it/s]\n",
      "100%|██████████| 18/18 [00:05<00:00,  3.25it/s]\n"
     ]
    },
    {
     "name": "stdout",
     "output_type": "stream",
     "text": [
      "Train loss: 0.19544262011204996\n",
      "Train consistency loss: 0.02667631539724656\n",
      "Validation loss: 0.32975586089822984\n",
      "1m 13s\n",
      "Consistency Loss declined to 0.02667631539724656\n",
      "Early Stopping Counter = 0\n",
      "Epoch 36/300\n"
     ]
    },
    {
     "name": "stderr",
     "output_type": "stream",
     "text": [
      "100%|██████████| 155/155 [00:46<00:00,  3.34it/s]\n",
      "100%|██████████| 67/67 [00:20<00:00,  3.22it/s]\n",
      "100%|██████████| 18/18 [00:05<00:00,  3.29it/s]\n"
     ]
    },
    {
     "name": "stdout",
     "output_type": "stream",
     "text": [
      "Train loss: 0.19523967302614642\n",
      "Train consistency loss: 0.024533232604500962\n",
      "Validation loss: 0.3527526764406098\n",
      "1m 13s\n",
      "Consistency Loss declined to 0.024533232604500962\n",
      "Early Stopping Counter = 0\n",
      "Epoch 37/300\n"
     ]
    },
    {
     "name": "stderr",
     "output_type": "stream",
     "text": [
      "100%|██████████| 155/155 [00:46<00:00,  3.33it/s]\n",
      "100%|██████████| 67/67 [00:20<00:00,  3.22it/s]\n",
      "100%|██████████| 18/18 [00:05<00:00,  3.26it/s]\n"
     ]
    },
    {
     "name": "stdout",
     "output_type": "stream",
     "text": [
      "Train loss: 0.19397187079152753\n",
      "Train consistency loss: 0.025374213956407647\n",
      "Validation loss: 0.3251863701475991\n",
      "1m 13s\n",
      "Early Stopping Counter = 1\n",
      "Epoch 38/300\n"
     ]
    },
    {
     "name": "stderr",
     "output_type": "stream",
     "text": [
      "100%|██████████| 155/155 [00:46<00:00,  3.35it/s]\n",
      "100%|██████████| 67/67 [00:20<00:00,  3.20it/s]\n",
      "100%|██████████| 18/18 [00:05<00:00,  3.25it/s]\n"
     ]
    },
    {
     "name": "stdout",
     "output_type": "stream",
     "text": [
      "Train loss: 0.19271324699924838\n",
      "Train consistency loss: 0.02747543909545265\n",
      "Validation loss: 0.33604111191299224\n",
      "1m 13s\n",
      "Early Stopping Counter = 2\n",
      "Epoch 39/300\n"
     ]
    },
    {
     "name": "stderr",
     "output_type": "stream",
     "text": [
      "100%|██████████| 155/155 [00:46<00:00,  3.35it/s]\n",
      "100%|██████████| 67/67 [00:21<00:00,  3.19it/s]\n",
      "100%|██████████| 18/18 [00:05<00:00,  3.22it/s]\n"
     ]
    },
    {
     "name": "stdout",
     "output_type": "stream",
     "text": [
      "Train loss: 0.19401457857701085\n",
      "Train consistency loss: 0.02561047202003981\n",
      "Validation loss: 0.3360468058122529\n",
      "1m 13s\n",
      "Early Stopping Counter = 3\n",
      "Epoch 40/300\n"
     ]
    },
    {
     "name": "stderr",
     "output_type": "stream",
     "text": [
      "100%|██████████| 155/155 [00:46<00:00,  3.33it/s]\n",
      "100%|██████████| 67/67 [00:21<00:00,  3.18it/s]\n",
      "100%|██████████| 18/18 [00:05<00:00,  3.15it/s]\n"
     ]
    },
    {
     "name": "stdout",
     "output_type": "stream",
     "text": [
      "Train loss: 0.19336834444153694\n",
      "Train consistency loss: 0.025597212002126137\n",
      "Validation loss: 0.3044707270132171\n",
      "1m 13s\n",
      "Early Stopping Counter = 4\n",
      "Epoch 41/300\n"
     ]
    },
    {
     "name": "stderr",
     "output_type": "stream",
     "text": [
      "100%|██████████| 155/155 [00:46<00:00,  3.33it/s]\n",
      "100%|██████████| 67/67 [00:20<00:00,  3.23it/s]\n",
      "100%|██████████| 18/18 [00:05<00:00,  3.27it/s]\n"
     ]
    },
    {
     "name": "stdout",
     "output_type": "stream",
     "text": [
      "Train loss: 0.19128398222308005\n",
      "Train consistency loss: 0.02467195709138664\n",
      "Validation loss: 0.3225563665231069\n",
      "1m 13s\n",
      "Early Stopping Counter = 5\n",
      "Epoch 42/300\n"
     ]
    },
    {
     "name": "stderr",
     "output_type": "stream",
     "text": [
      "100%|██████████| 155/155 [00:46<00:00,  3.35it/s]\n",
      "100%|██████████| 67/67 [00:21<00:00,  3.19it/s]\n",
      "100%|██████████| 18/18 [00:05<00:00,  3.25it/s]\n"
     ]
    },
    {
     "name": "stdout",
     "output_type": "stream",
     "text": [
      "Train loss: 0.19233719687308035\n",
      "Train consistency loss: 0.02606994760181032\n",
      "Validation loss: 0.3175591280062993\n",
      "1m 13s\n",
      "Early Stopping Counter = 6\n",
      "Epoch 43/300\n"
     ]
    },
    {
     "name": "stderr",
     "output_type": "stream",
     "text": [
      "100%|██████████| 155/155 [00:46<00:00,  3.35it/s]\n",
      "100%|██████████| 67/67 [00:20<00:00,  3.19it/s]\n",
      "100%|██████████| 18/18 [00:05<00:00,  3.30it/s]\n"
     ]
    },
    {
     "name": "stdout",
     "output_type": "stream",
     "text": [
      "Train loss: 0.19023866913010998\n",
      "Train consistency loss: 0.023439123170144523\n",
      "Validation loss: 0.3051373056239552\n",
      "1m 13s\n",
      "Consistency Loss declined to 0.023439123170144523\n",
      "Early Stopping Counter = 0\n",
      "Epoch 44/300\n"
     ]
    },
    {
     "name": "stderr",
     "output_type": "stream",
     "text": [
      "100%|██████████| 155/155 [00:46<00:00,  3.35it/s]\n",
      "100%|██████████| 67/67 [00:20<00:00,  3.23it/s]\n",
      "100%|██████████| 18/18 [00:05<00:00,  3.25it/s]\n"
     ]
    },
    {
     "name": "stdout",
     "output_type": "stream",
     "text": [
      "Train loss: 0.1890570491552353\n",
      "Train consistency loss: 0.023158656002314232\n",
      "Validation loss: 0.32773468063937294\n",
      "1m 13s\n",
      "Consistency Loss declined to 0.023158656002314232\n",
      "Early Stopping Counter = 0\n",
      "Epoch 45/300\n"
     ]
    },
    {
     "name": "stderr",
     "output_type": "stream",
     "text": [
      "100%|██████████| 155/155 [00:46<00:00,  3.34it/s]\n",
      "100%|██████████| 67/67 [00:20<00:00,  3.23it/s]\n",
      "100%|██████████| 18/18 [00:05<00:00,  3.28it/s]\n"
     ]
    },
    {
     "name": "stdout",
     "output_type": "stream",
     "text": [
      "Train loss: 0.18888944310526695\n",
      "Train consistency loss: 0.025348474702505924\n",
      "Validation loss: 0.32922088272041744\n",
      "1m 13s\n",
      "Early Stopping Counter = 1\n",
      "Epoch 46/300\n"
     ]
    },
    {
     "name": "stderr",
     "output_type": "stream",
     "text": [
      "100%|██████████| 155/155 [00:46<00:00,  3.34it/s]\n",
      "100%|██████████| 67/67 [00:21<00:00,  3.19it/s]\n",
      "100%|██████████| 18/18 [00:05<00:00,  3.35it/s]\n"
     ]
    },
    {
     "name": "stdout",
     "output_type": "stream",
     "text": [
      "Train loss: 0.1911144918011081\n",
      "Train consistency loss: 0.026040256051207657\n",
      "Validation loss: 0.33071774741013843\n",
      "1m 13s\n",
      "Early Stopping Counter = 2\n",
      "Epoch 47/300\n"
     ]
    },
    {
     "name": "stderr",
     "output_type": "stream",
     "text": [
      "100%|██████████| 155/155 [00:46<00:00,  3.35it/s]\n",
      "100%|██████████| 67/67 [00:20<00:00,  3.22it/s]\n",
      "100%|██████████| 18/18 [00:05<00:00,  3.28it/s]\n"
     ]
    },
    {
     "name": "stdout",
     "output_type": "stream",
     "text": [
      "Train loss: 0.18875372871275872\n",
      "Train consistency loss: 0.023658877447136302\n",
      "Validation loss: 0.34024976938962936\n",
      "1m 13s\n",
      "Early Stopping Counter = 3\n",
      "Epoch 48/300\n"
     ]
    },
    {
     "name": "stderr",
     "output_type": "stream",
     "text": [
      "100%|██████████| 155/155 [00:46<00:00,  3.36it/s]\n",
      "100%|██████████| 67/67 [00:20<00:00,  3.19it/s]\n",
      "100%|██████████| 18/18 [00:05<00:00,  3.25it/s]\n"
     ]
    },
    {
     "name": "stdout",
     "output_type": "stream",
     "text": [
      "Train loss: 0.1894504737469458\n",
      "Train consistency loss: 0.021391735314878067\n",
      "Validation loss: 0.30984485066599315\n",
      "1m 13s\n",
      "Consistency Loss declined to 0.021391735314878067\n",
      "Early Stopping Counter = 0\n",
      "Epoch 49/300\n"
     ]
    },
    {
     "name": "stderr",
     "output_type": "stream",
     "text": [
      "100%|██████████| 155/155 [00:46<00:00,  3.34it/s]\n",
      "100%|██████████| 67/67 [00:20<00:00,  3.22it/s]\n",
      "100%|██████████| 18/18 [00:05<00:00,  3.29it/s]\n"
     ]
    },
    {
     "name": "stdout",
     "output_type": "stream",
     "text": [
      "Train loss: 0.18919775255264776\n",
      "Train consistency loss: 0.024479518199700918\n",
      "Validation loss: 0.30441493292649585\n",
      "1m 13s\n",
      "Early Stopping Counter = 1\n",
      "Epoch 50/300\n"
     ]
    },
    {
     "name": "stderr",
     "output_type": "stream",
     "text": [
      "100%|██████████| 155/155 [00:46<00:00,  3.35it/s]\n",
      "100%|██████████| 67/67 [00:20<00:00,  3.20it/s]\n",
      "100%|██████████| 18/18 [00:05<00:00,  3.25it/s]\n"
     ]
    },
    {
     "name": "stdout",
     "output_type": "stream",
     "text": [
      "Train loss: 0.1867946740119688\n",
      "Train consistency loss: 0.023863741252293336\n",
      "Validation loss: 0.3418758884072304\n",
      "1m 13s\n",
      "Early Stopping Counter = 2\n",
      "Epoch 51/300\n"
     ]
    },
    {
     "name": "stderr",
     "output_type": "stream",
     "text": [
      "100%|██████████| 155/155 [00:46<00:00,  3.34it/s]\n",
      "100%|██████████| 67/67 [00:20<00:00,  3.22it/s]\n",
      "100%|██████████| 18/18 [00:05<00:00,  3.20it/s]\n"
     ]
    },
    {
     "name": "stdout",
     "output_type": "stream",
     "text": [
      "Train loss: 0.1865590367586382\n",
      "Train consistency loss: 0.02028442207557052\n",
      "Validation loss: 0.3295120323697726\n",
      "1m 13s\n",
      "Consistency Loss declined to 0.02028442207557052\n",
      "Early Stopping Counter = 0\n",
      "Epoch 52/300\n"
     ]
    },
    {
     "name": "stderr",
     "output_type": "stream",
     "text": [
      "100%|██████████| 155/155 [00:46<00:00,  3.33it/s]\n",
      "100%|██████████| 67/67 [00:20<00:00,  3.23it/s]\n",
      "100%|██████████| 18/18 [00:05<00:00,  3.27it/s]\n"
     ]
    },
    {
     "name": "stdout",
     "output_type": "stream",
     "text": [
      "Train loss: 0.18534878165491164\n",
      "Train consistency loss: 0.02155477427807984\n",
      "Validation loss: 0.30395473705397713\n",
      "1m 13s\n",
      "Early Stopping Counter = 1\n",
      "Epoch 53/300\n"
     ]
    },
    {
     "name": "stderr",
     "output_type": "stream",
     "text": [
      "100%|██████████| 155/155 [00:46<00:00,  3.35it/s]\n",
      "100%|██████████| 67/67 [00:20<00:00,  3.20it/s]\n",
      "100%|██████████| 18/18 [00:05<00:00,  3.26it/s]\n"
     ]
    },
    {
     "name": "stdout",
     "output_type": "stream",
     "text": [
      "Train loss: 0.1887976497411728\n",
      "Train consistency loss: 0.026202157654090605\n",
      "Validation loss: 0.3270786793695556\n",
      "1m 13s\n",
      "Early Stopping Counter = 2\n",
      "Epoch 54/300\n"
     ]
    },
    {
     "name": "stderr",
     "output_type": "stream",
     "text": [
      "100%|██████████| 155/155 [00:46<00:00,  3.34it/s]\n",
      "100%|██████████| 67/67 [00:21<00:00,  3.19it/s]\n",
      "100%|██████████| 18/18 [00:05<00:00,  3.33it/s]\n"
     ]
    },
    {
     "name": "stdout",
     "output_type": "stream",
     "text": [
      "Train loss: 0.18702665259761195\n",
      "Train consistency loss: 0.020471614938396127\n",
      "Validation loss: 0.3149254081977738\n",
      "1m 13s\n",
      "Early Stopping Counter = 3\n",
      "Epoch 55/300\n"
     ]
    },
    {
     "name": "stderr",
     "output_type": "stream",
     "text": [
      "100%|██████████| 155/155 [00:46<00:00,  3.34it/s]\n",
      "100%|██████████| 67/67 [00:21<00:00,  3.19it/s]\n",
      "100%|██████████| 18/18 [00:05<00:00,  3.29it/s]\n"
     ]
    },
    {
     "name": "stdout",
     "output_type": "stream",
     "text": [
      "Train loss: 0.18395548164844513\n",
      "Train consistency loss: 0.020887409309064273\n",
      "Validation loss: 0.32951267063617706\n",
      "1m 13s\n",
      "Early Stopping Counter = 4\n",
      "Epoch 56/300\n"
     ]
    },
    {
     "name": "stderr",
     "output_type": "stream",
     "text": [
      "100%|██████████| 155/155 [00:46<00:00,  3.35it/s]\n",
      "100%|██████████| 67/67 [00:20<00:00,  3.19it/s]\n",
      "100%|██████████| 18/18 [00:05<00:00,  3.25it/s]\n"
     ]
    },
    {
     "name": "stdout",
     "output_type": "stream",
     "text": [
      "Train loss: 0.18543817477841532\n",
      "Train consistency loss: 0.018488813928370155\n",
      "Validation loss: 0.3020847721232308\n",
      "1m 13s\n",
      "Consistency Loss declined to 0.018488813928370155\n",
      "Early Stopping Counter = 0\n",
      "Epoch 57/300\n"
     ]
    },
    {
     "name": "stderr",
     "output_type": "stream",
     "text": [
      "100%|██████████| 155/155 [00:46<00:00,  3.34it/s]\n",
      "100%|██████████| 67/67 [00:20<00:00,  3.22it/s]\n",
      "100%|██████████| 18/18 [00:05<00:00,  3.26it/s]\n"
     ]
    },
    {
     "name": "stdout",
     "output_type": "stream",
     "text": [
      "Train loss: 0.18360565996939135\n",
      "Train consistency loss: 0.028452399645501107\n",
      "Validation loss: 0.32476796292596394\n",
      "1m 13s\n",
      "Early Stopping Counter = 1\n",
      "Epoch 58/300\n"
     ]
    },
    {
     "name": "stderr",
     "output_type": "stream",
     "text": [
      "100%|██████████| 155/155 [00:46<00:00,  3.35it/s]\n",
      "100%|██████████| 67/67 [00:21<00:00,  3.19it/s]\n",
      "100%|██████████| 18/18 [00:05<00:00,  3.25it/s]\n"
     ]
    },
    {
     "name": "stdout",
     "output_type": "stream",
     "text": [
      "Train loss: 0.19287993340722975\n",
      "Train consistency loss: 0.02571453455724378\n",
      "Validation loss: 0.30318760292397606\n",
      "1m 13s\n",
      "Early Stopping Counter = 2\n",
      "Epoch 59/300\n"
     ]
    },
    {
     "name": "stderr",
     "output_type": "stream",
     "text": [
      "100%|██████████| 155/155 [00:46<00:00,  3.33it/s]\n",
      "100%|██████████| 67/67 [00:21<00:00,  3.18it/s]\n",
      "100%|██████████| 18/18 [00:05<00:00,  3.27it/s]\n"
     ]
    },
    {
     "name": "stdout",
     "output_type": "stream",
     "text": [
      "Train loss: 0.18599197537668288\n",
      "Train consistency loss: 0.019354394776051612\n",
      "Validation loss: 0.32508284598588943\n",
      "1m 13s\n",
      "Early Stopping Counter = 3\n",
      "Epoch 60/300\n"
     ]
    },
    {
     "name": "stderr",
     "output_type": "stream",
     "text": [
      "100%|██████████| 155/155 [00:46<00:00,  3.33it/s]\n",
      "100%|██████████| 67/67 [00:20<00:00,  3.20it/s]\n",
      "100%|██████████| 18/18 [00:05<00:00,  3.11it/s]\n"
     ]
    },
    {
     "name": "stdout",
     "output_type": "stream",
     "text": [
      "Train loss: 0.18262056958290837\n",
      "Train consistency loss: 0.01950214260410684\n",
      "Validation loss: 0.3105378846327464\n",
      "1m 13s\n",
      "Early Stopping Counter = 4\n",
      "Epoch 61/300\n"
     ]
    },
    {
     "name": "stderr",
     "output_type": "stream",
     "text": [
      "100%|██████████| 155/155 [00:46<00:00,  3.33it/s]\n",
      "100%|██████████| 67/67 [00:20<00:00,  3.23it/s]\n",
      "100%|██████████| 18/18 [00:05<00:00,  3.31it/s]\n"
     ]
    },
    {
     "name": "stdout",
     "output_type": "stream",
     "text": [
      "Train loss: 0.18259437218789132\n",
      "Train consistency loss: 0.019665610128596647\n",
      "Validation loss: 0.3092996941672431\n",
      "1m 13s\n",
      "Early Stopping Counter = 5\n",
      "Epoch 62/300\n"
     ]
    },
    {
     "name": "stderr",
     "output_type": "stream",
     "text": [
      "100%|██████████| 155/155 [00:46<00:00,  3.35it/s]\n",
      "100%|██████████| 67/67 [00:21<00:00,  3.19it/s]\n",
      "100%|██████████| 18/18 [00:05<00:00,  3.24it/s]\n"
     ]
    },
    {
     "name": "stdout",
     "output_type": "stream",
     "text": [
      "Train loss: 0.18240315808403876\n",
      "Train consistency loss: 0.019128935800781892\n",
      "Validation loss: 0.3253483581874106\n",
      "1m 13s\n",
      "Early Stopping Counter = 6\n",
      "Epoch 63/300\n"
     ]
    },
    {
     "name": "stderr",
     "output_type": "stream",
     "text": [
      "100%|██████████| 155/155 [00:46<00:00,  3.35it/s]\n",
      "100%|██████████| 67/67 [00:20<00:00,  3.23it/s]\n",
      "100%|██████████| 18/18 [00:05<00:00,  3.29it/s]\n"
     ]
    },
    {
     "name": "stdout",
     "output_type": "stream",
     "text": [
      "Train loss: 0.18222385577617153\n",
      "Train consistency loss: 0.018394755282953604\n",
      "Validation loss: 0.3364376591311561\n",
      "1m 13s\n",
      "Consistency Loss declined to 0.018394755282953604\n",
      "Early Stopping Counter = 0\n",
      "Epoch 64/300\n"
     ]
    },
    {
     "name": "stderr",
     "output_type": "stream",
     "text": [
      "100%|██████████| 155/155 [00:46<00:00,  3.35it/s]\n",
      "100%|██████████| 67/67 [00:20<00:00,  3.23it/s]\n",
      "100%|██████████| 18/18 [00:05<00:00,  3.26it/s]\n"
     ]
    },
    {
     "name": "stdout",
     "output_type": "stream",
     "text": [
      "Train loss: 0.18552460651243888\n",
      "Train consistency loss: 0.017805074911508987\n",
      "Validation loss: 0.295563372472922\n",
      "1m 13s\n",
      "Consistency Loss declined to 0.017805074911508987\n",
      "Early Stopping Counter = 0\n",
      "Epoch 65/300\n"
     ]
    },
    {
     "name": "stderr",
     "output_type": "stream",
     "text": [
      "100%|██████████| 155/155 [00:46<00:00,  3.33it/s]\n",
      "100%|██████████| 67/67 [00:20<00:00,  3.23it/s]\n",
      "100%|██████████| 18/18 [00:05<00:00,  3.28it/s]\n"
     ]
    },
    {
     "name": "stdout",
     "output_type": "stream",
     "text": [
      "Train loss: 0.18093191375655512\n",
      "Train consistency loss: 0.018603486968065377\n",
      "Validation loss: 0.29629016667604446\n",
      "1m 13s\n",
      "Early Stopping Counter = 1\n",
      "Epoch 66/300\n"
     ]
    },
    {
     "name": "stderr",
     "output_type": "stream",
     "text": [
      "100%|██████████| 155/155 [00:46<00:00,  3.35it/s]\n",
      "100%|██████████| 67/67 [00:20<00:00,  3.20it/s]\n",
      "100%|██████████| 18/18 [00:05<00:00,  3.27it/s]\n"
     ]
    },
    {
     "name": "stdout",
     "output_type": "stream",
     "text": [
      "Train loss: 0.18043378764583218\n",
      "Train consistency loss: 0.019450058597626527\n",
      "Validation loss: 0.33176056543986004\n",
      "1m 13s\n",
      "Early Stopping Counter = 2\n",
      "Epoch 67/300\n"
     ]
    },
    {
     "name": "stderr",
     "output_type": "stream",
     "text": [
      "100%|██████████| 155/155 [00:46<00:00,  3.36it/s]\n",
      "100%|██████████| 67/67 [00:20<00:00,  3.20it/s]\n",
      "100%|██████████| 18/18 [00:05<00:00,  3.28it/s]\n"
     ]
    },
    {
     "name": "stdout",
     "output_type": "stream",
     "text": [
      "Train loss: 0.1807842312320586\n",
      "Train consistency loss: 0.017888473902842893\n",
      "Validation loss: 0.30651387986209655\n",
      "1m 13s\n",
      "Early Stopping Counter = 3\n",
      "Epoch 68/300\n"
     ]
    },
    {
     "name": "stderr",
     "output_type": "stream",
     "text": [
      "100%|██████████| 155/155 [00:46<00:00,  3.33it/s]\n",
      "100%|██████████| 67/67 [00:21<00:00,  3.18it/s]\n",
      "100%|██████████| 18/18 [00:05<00:00,  3.28it/s]\n"
     ]
    },
    {
     "name": "stdout",
     "output_type": "stream",
     "text": [
      "Train loss: 0.18068060480779216\n",
      "Train consistency loss: 0.019320973862351765\n",
      "Validation loss: 0.3367331922054291\n",
      "1m 13s\n",
      "Early Stopping Counter = 4\n",
      "Epoch 69/300\n"
     ]
    },
    {
     "name": "stderr",
     "output_type": "stream",
     "text": [
      "100%|██████████| 155/155 [00:46<00:00,  3.33it/s]\n",
      "100%|██████████| 67/67 [00:20<00:00,  3.22it/s]\n",
      "100%|██████████| 18/18 [00:05<00:00,  3.16it/s]\n"
     ]
    },
    {
     "name": "stdout",
     "output_type": "stream",
     "text": [
      "Train loss: 0.17967818004469718\n",
      "Train consistency loss: 0.01626088723206698\n",
      "Validation loss: 0.31260210855139625\n",
      "1m 13s\n",
      "Consistency Loss declined to 0.01626088723206698\n",
      "Early Stopping Counter = 0\n",
      "Epoch 70/300\n"
     ]
    },
    {
     "name": "stderr",
     "output_type": "stream",
     "text": [
      "100%|██████████| 155/155 [00:46<00:00,  3.33it/s]\n",
      "100%|██████████| 67/67 [00:20<00:00,  3.23it/s]\n",
      "100%|██████████| 18/18 [00:05<00:00,  3.28it/s]\n"
     ]
    },
    {
     "name": "stdout",
     "output_type": "stream",
     "text": [
      "Train loss: 0.18021914410975673\n",
      "Train consistency loss: 0.018357239371693847\n",
      "Validation loss: 0.32831183738178676\n",
      "1m 13s\n",
      "Early Stopping Counter = 1\n",
      "Epoch 71/300\n"
     ]
    },
    {
     "name": "stderr",
     "output_type": "stream",
     "text": [
      "100%|██████████| 155/155 [00:46<00:00,  3.35it/s]\n",
      "100%|██████████| 67/67 [00:20<00:00,  3.20it/s]\n",
      "100%|██████████| 18/18 [00:05<00:00,  3.32it/s]\n"
     ]
    },
    {
     "name": "stdout",
     "output_type": "stream",
     "text": [
      "Train loss: 0.1802703882417371\n",
      "Train consistency loss: 0.01872005836982558\n",
      "Validation loss: 0.30856115702125764\n",
      "1m 13s\n",
      "Early Stopping Counter = 2\n",
      "Epoch 72/300\n"
     ]
    },
    {
     "name": "stderr",
     "output_type": "stream",
     "text": [
      "100%|██████████| 155/155 [00:46<00:00,  3.35it/s]\n",
      "100%|██████████| 67/67 [00:20<00:00,  3.20it/s]\n",
      "100%|██████████| 18/18 [00:05<00:00,  3.33it/s]\n"
     ]
    },
    {
     "name": "stdout",
     "output_type": "stream",
     "text": [
      "Train loss: 0.17971834540367126\n",
      "Train consistency loss: 0.01693246840263036\n",
      "Validation loss: 0.32583584305312896\n",
      "1m 13s\n",
      "Early Stopping Counter = 3\n",
      "Epoch 73/300\n"
     ]
    },
    {
     "name": "stderr",
     "output_type": "stream",
     "text": [
      "100%|██████████| 155/155 [00:46<00:00,  3.34it/s]\n",
      "100%|██████████| 67/67 [00:21<00:00,  3.19it/s]\n",
      "100%|██████████| 18/18 [00:05<00:00,  3.26it/s]\n"
     ]
    },
    {
     "name": "stdout",
     "output_type": "stream",
     "text": [
      "Train loss: 0.17754298342812447\n",
      "Train consistency loss: 0.018918396265649083\n",
      "Validation loss: 0.3047650737894906\n",
      "1m 13s\n",
      "Early Stopping Counter = 4\n",
      "Epoch 74/300\n"
     ]
    },
    {
     "name": "stderr",
     "output_type": "stream",
     "text": [
      "100%|██████████| 155/155 [00:46<00:00,  3.35it/s]\n",
      "100%|██████████| 67/67 [00:20<00:00,  3.20it/s]\n",
      "100%|██████████| 18/18 [00:05<00:00,  3.27it/s]\n"
     ]
    },
    {
     "name": "stdout",
     "output_type": "stream",
     "text": [
      "Train loss: 0.17795858950384202\n",
      "Train consistency loss: 0.016501099399443882\n",
      "Validation loss: 0.3325807750225067\n",
      "1m 13s\n",
      "Early Stopping Counter = 5\n",
      "Epoch 75/300\n"
     ]
    },
    {
     "name": "stderr",
     "output_type": "stream",
     "text": [
      "100%|██████████| 155/155 [00:46<00:00,  3.36it/s]\n",
      "100%|██████████| 67/67 [00:20<00:00,  3.19it/s]\n",
      "100%|██████████| 18/18 [00:05<00:00,  3.31it/s]\n"
     ]
    },
    {
     "name": "stdout",
     "output_type": "stream",
     "text": [
      "Train loss: 0.17709568613959897\n",
      "Train consistency loss: 0.017016869573506403\n",
      "Validation loss: 0.307624463405874\n",
      "1m 13s\n",
      "Early Stopping Counter = 6\n",
      "Epoch 76/300\n"
     ]
    },
    {
     "name": "stderr",
     "output_type": "stream",
     "text": [
      "100%|██████████| 155/155 [00:46<00:00,  3.35it/s]\n",
      "100%|██████████| 67/67 [00:20<00:00,  3.20it/s]\n",
      "100%|██████████| 18/18 [00:05<00:00,  3.28it/s]\n"
     ]
    },
    {
     "name": "stdout",
     "output_type": "stream",
     "text": [
      "Train loss: 0.17795249358300239\n",
      "Train consistency loss: 0.021786505349480838\n",
      "Validation loss: 0.33043408890565235\n",
      "1m 13s\n",
      "Early Stopping Counter = 7\n",
      "Epoch 77/300\n"
     ]
    },
    {
     "name": "stderr",
     "output_type": "stream",
     "text": [
      "100%|██████████| 155/155 [00:46<00:00,  3.32it/s]\n",
      "100%|██████████| 67/67 [00:21<00:00,  3.18it/s]\n",
      "100%|██████████| 18/18 [00:05<00:00,  3.28it/s]\n"
     ]
    },
    {
     "name": "stdout",
     "output_type": "stream",
     "text": [
      "Train loss: 0.17981388905356008\n",
      "Train consistency loss: 0.01622651951776734\n",
      "Validation loss: 0.30852116975519395\n",
      "1m 13s\n",
      "Consistency Loss declined to 0.01622651951776734\n",
      "Early Stopping Counter = 0\n",
      "Epoch 78/300\n"
     ]
    },
    {
     "name": "stderr",
     "output_type": "stream",
     "text": [
      "100%|██████████| 155/155 [00:46<00:00,  3.33it/s]\n",
      "100%|██████████| 67/67 [00:20<00:00,  3.20it/s]\n",
      "100%|██████████| 18/18 [00:05<00:00,  3.24it/s]\n"
     ]
    },
    {
     "name": "stdout",
     "output_type": "stream",
     "text": [
      "Train loss: 0.17690199603957515\n",
      "Train consistency loss: 0.015182409810819733\n",
      "Validation loss: 0.3097443754474322\n",
      "1m 13s\n",
      "Consistency Loss declined to 0.015182409810819733\n",
      "Early Stopping Counter = 0\n",
      "Epoch 79/300\n"
     ]
    },
    {
     "name": "stderr",
     "output_type": "stream",
     "text": [
      "100%|██████████| 155/155 [00:46<00:00,  3.33it/s]\n",
      "100%|██████████| 67/67 [00:20<00:00,  3.23it/s]\n",
      "100%|██████████| 18/18 [00:05<00:00,  3.19it/s]\n"
     ]
    },
    {
     "name": "stdout",
     "output_type": "stream",
     "text": [
      "Train loss: 0.17866262389767554\n",
      "Train consistency loss: 0.027121838043207554\n",
      "Validation loss: 0.3737315303749508\n",
      "1m 13s\n",
      "Early Stopping Counter = 1\n",
      "Epoch 80/300\n"
     ]
    },
    {
     "name": "stderr",
     "output_type": "stream",
     "text": [
      "100%|██████████| 155/155 [00:46<00:00,  3.35it/s]\n",
      "100%|██████████| 67/67 [00:20<00:00,  3.20it/s]\n",
      "100%|██████████| 18/18 [00:05<00:00,  3.37it/s]\n"
     ]
    },
    {
     "name": "stdout",
     "output_type": "stream",
     "text": [
      "Train loss: 0.185839397964939\n",
      "Train consistency loss: 0.01767055434522344\n",
      "Validation loss: 0.2967609307832188\n",
      "1m 13s\n",
      "Early Stopping Counter = 2\n",
      "Epoch 81/300\n"
     ]
    },
    {
     "name": "stderr",
     "output_type": "stream",
     "text": [
      "100%|██████████| 155/155 [00:46<00:00,  3.35it/s]\n",
      "100%|██████████| 67/67 [00:21<00:00,  3.19it/s]\n",
      "100%|██████████| 18/18 [00:05<00:00,  3.25it/s]\n"
     ]
    },
    {
     "name": "stdout",
     "output_type": "stream",
     "text": [
      "Train loss: 0.17859354182597129\n",
      "Train consistency loss: 0.019252203710710826\n",
      "Validation loss: 0.3024306421478589\n",
      "1m 13s\n",
      "Early Stopping Counter = 3\n",
      "Epoch 82/300\n"
     ]
    },
    {
     "name": "stderr",
     "output_type": "stream",
     "text": [
      "100%|██████████| 155/155 [00:46<00:00,  3.34it/s]\n",
      "100%|██████████| 67/67 [00:20<00:00,  3.20it/s]\n",
      "100%|██████████| 18/18 [00:05<00:00,  3.27it/s]\n"
     ]
    },
    {
     "name": "stdout",
     "output_type": "stream",
     "text": [
      "Train loss: 0.17605473918299522\n",
      "Train consistency loss: 0.01565373392859057\n",
      "Validation loss: 0.2957260807355245\n",
      "1m 13s\n",
      "Early Stopping Counter = 4\n",
      "Epoch 83/300\n"
     ]
    },
    {
     "name": "stderr",
     "output_type": "stream",
     "text": [
      "100%|██████████| 155/155 [00:46<00:00,  3.32it/s]\n",
      "100%|██████████| 67/67 [00:20<00:00,  3.21it/s]\n",
      "100%|██████████| 18/18 [00:05<00:00,  3.18it/s]\n"
     ]
    },
    {
     "name": "stdout",
     "output_type": "stream",
     "text": [
      "Train loss: 0.174798527456099\n",
      "Train consistency loss: 0.015845056303512694\n",
      "Validation loss: 0.29185211575693554\n",
      "1m 13s\n",
      "Early Stopping Counter = 5\n",
      "Epoch 84/300\n"
     ]
    },
    {
     "name": "stderr",
     "output_type": "stream",
     "text": [
      "100%|██████████| 155/155 [00:46<00:00,  3.34it/s]\n",
      "100%|██████████| 67/67 [00:21<00:00,  3.17it/s]\n",
      "100%|██████████| 18/18 [00:05<00:00,  3.29it/s]\n"
     ]
    },
    {
     "name": "stdout",
     "output_type": "stream",
     "text": [
      "Train loss: 0.17525396327818593\n",
      "Train consistency loss: 0.01638396162150511\n",
      "Validation loss: 0.3031602700551351\n",
      "1m 13s\n",
      "Early Stopping Counter = 6\n",
      "Epoch 85/300\n"
     ]
    },
    {
     "name": "stderr",
     "output_type": "stream",
     "text": [
      "100%|██████████| 155/155 [00:46<00:00,  3.33it/s]\n",
      "100%|██████████| 67/67 [00:20<00:00,  3.20it/s]\n",
      "100%|██████████| 18/18 [00:05<00:00,  3.25it/s]\n"
     ]
    },
    {
     "name": "stdout",
     "output_type": "stream",
     "text": [
      "Train loss: 0.17545031770583122\n",
      "Train consistency loss: 0.014486509166769128\n",
      "Validation loss: 0.2994108200073242\n",
      "1m 13s\n",
      "Consistency Loss declined to 0.014486509166769128\n",
      "Early Stopping Counter = 0\n",
      "Epoch 86/300\n"
     ]
    },
    {
     "name": "stderr",
     "output_type": "stream",
     "text": [
      "100%|██████████| 155/155 [00:46<00:00,  3.33it/s]\n",
      "100%|██████████| 67/67 [00:21<00:00,  3.18it/s]\n",
      "100%|██████████| 18/18 [00:05<00:00,  3.32it/s]\n"
     ]
    },
    {
     "name": "stdout",
     "output_type": "stream",
     "text": [
      "Train loss: 0.17448157850773105\n",
      "Train consistency loss: 0.013974189000732419\n",
      "Validation loss: 0.2890341853102048\n",
      "1m 13s\n",
      "Consistency Loss declined to 0.013974189000732419\n",
      "Early Stopping Counter = 0\n",
      "Epoch 87/300\n"
     ]
    },
    {
     "name": "stderr",
     "output_type": "stream",
     "text": [
      "100%|██████████| 155/155 [00:46<00:00,  3.32it/s]\n",
      "100%|██████████| 67/67 [00:20<00:00,  3.23it/s]\n",
      "100%|██████████| 18/18 [00:05<00:00,  3.33it/s]\n"
     ]
    },
    {
     "name": "stdout",
     "output_type": "stream",
     "text": [
      "Train loss: 0.17388971274898898\n",
      "Train consistency loss: 0.014237953294346581\n",
      "Validation loss: 0.30421555704540676\n",
      "1m 13s\n",
      "Early Stopping Counter = 1\n",
      "Epoch 88/300\n"
     ]
    },
    {
     "name": "stderr",
     "output_type": "stream",
     "text": [
      "100%|██████████| 155/155 [00:46<00:00,  3.36it/s]\n",
      "100%|██████████| 67/67 [00:20<00:00,  3.20it/s]\n",
      "100%|██████████| 18/18 [00:05<00:00,  3.33it/s]\n"
     ]
    },
    {
     "name": "stdout",
     "output_type": "stream",
     "text": [
      "Train loss: 0.17333749888404723\n",
      "Train consistency loss: 0.01531493585250938\n",
      "Validation loss: 0.30520033919148976\n",
      "1m 13s\n",
      "Early Stopping Counter = 2\n",
      "Epoch 89/300\n"
     ]
    },
    {
     "name": "stderr",
     "output_type": "stream",
     "text": [
      "100%|██████████| 155/155 [00:46<00:00,  3.35it/s]\n",
      "100%|██████████| 67/67 [00:20<00:00,  3.23it/s]\n",
      "100%|██████████| 18/18 [00:05<00:00,  3.32it/s]\n"
     ]
    },
    {
     "name": "stdout",
     "output_type": "stream",
     "text": [
      "Train loss: 0.17248055396541473\n",
      "Train consistency loss: 0.013405086118171908\n",
      "Validation loss: 0.29154058380259407\n",
      "1m 12s\n",
      "Consistency Loss declined to 0.013405086118171908\n",
      "Early Stopping Counter = 0\n",
      "Epoch 90/300\n"
     ]
    },
    {
     "name": "stderr",
     "output_type": "stream",
     "text": [
      "100%|██████████| 155/155 [00:46<00:00,  3.33it/s]\n",
      "100%|██████████| 67/67 [00:20<00:00,  3.22it/s]\n",
      "100%|██████████| 18/18 [00:05<00:00,  3.26it/s]\n"
     ]
    },
    {
     "name": "stdout",
     "output_type": "stream",
     "text": [
      "Train loss: 0.17194943745290078\n",
      "Train consistency loss: 0.013242822995325967\n",
      "Validation loss: 0.2930789929297235\n",
      "1m 13s\n",
      "Consistency Loss declined to 0.013242822995325967\n",
      "Early Stopping Counter = 0\n",
      "Epoch 91/300\n"
     ]
    },
    {
     "name": "stderr",
     "output_type": "stream",
     "text": [
      "100%|██████████| 155/155 [00:46<00:00,  3.32it/s]\n",
      "100%|██████████| 67/67 [00:20<00:00,  3.21it/s]\n",
      "100%|██████████| 18/18 [00:05<00:00,  3.32it/s]\n"
     ]
    },
    {
     "name": "stdout",
     "output_type": "stream",
     "text": [
      "Train loss: 0.17145912695315577\n",
      "Train consistency loss: 0.014072141366830068\n",
      "Validation loss: 0.2966526531510883\n",
      "1m 13s\n",
      "Early Stopping Counter = 1\n",
      "Epoch 92/300\n"
     ]
    },
    {
     "name": "stderr",
     "output_type": "stream",
     "text": [
      "100%|██████████| 155/155 [00:46<00:00,  3.34it/s]\n",
      "100%|██████████| 67/67 [00:21<00:00,  3.17it/s]\n",
      "100%|██████████| 18/18 [00:05<00:00,  3.30it/s]\n"
     ]
    },
    {
     "name": "stdout",
     "output_type": "stream",
     "text": [
      "Train loss: 0.17109521310175618\n",
      "Train consistency loss: 0.012771886509301058\n",
      "Validation loss: 0.3027327060699463\n",
      "1m 13s\n",
      "Consistency Loss declined to 0.012771886509301058\n",
      "Early Stopping Counter = 0\n",
      "Epoch 93/300\n"
     ]
    },
    {
     "name": "stderr",
     "output_type": "stream",
     "text": [
      "100%|██████████| 155/155 [00:46<00:00,  3.32it/s]\n",
      "100%|██████████| 67/67 [00:20<00:00,  3.19it/s]\n",
      "100%|██████████| 18/18 [00:05<00:00,  3.18it/s]\n"
     ]
    },
    {
     "name": "stdout",
     "output_type": "stream",
     "text": [
      "Train loss: 0.17261219582250042\n",
      "Train consistency loss: 0.014246311657297523\n",
      "Validation loss: 0.2887459703617626\n",
      "1m 13s\n",
      "Early Stopping Counter = 1\n",
      "Epoch 94/300\n"
     ]
    },
    {
     "name": "stderr",
     "output_type": "stream",
     "text": [
      "100%|██████████| 155/155 [00:46<00:00,  3.32it/s]\n",
      "100%|██████████| 67/67 [00:21<00:00,  3.15it/s]\n",
      "100%|██████████| 18/18 [00:05<00:00,  3.33it/s]\n"
     ]
    },
    {
     "name": "stdout",
     "output_type": "stream",
     "text": [
      "Train loss: 0.171313250641669\n",
      "Train consistency loss: 0.012465176874521509\n",
      "Validation loss: 0.29368723763359916\n",
      "1m 13s\n",
      "Consistency Loss declined to 0.012465176874521509\n",
      "Early Stopping Counter = 0\n",
      "Epoch 95/300\n"
     ]
    },
    {
     "name": "stderr",
     "output_type": "stream",
     "text": [
      "100%|██████████| 155/155 [00:46<00:00,  3.31it/s]\n",
      "100%|██████████| 67/67 [00:20<00:00,  3.19it/s]\n",
      "100%|██████████| 18/18 [00:05<00:00,  3.25it/s]\n"
     ]
    },
    {
     "name": "stdout",
     "output_type": "stream",
     "text": [
      "Train loss: 0.17097145982327\n",
      "Train consistency loss: 0.01236653919401231\n",
      "Validation loss: 0.31323803547355866\n",
      "1m 13s\n",
      "Consistency Loss declined to 0.01236653919401231\n",
      "Early Stopping Counter = 0\n",
      "Epoch 96/300\n"
     ]
    },
    {
     "name": "stderr",
     "output_type": "stream",
     "text": [
      "100%|██████████| 155/155 [00:46<00:00,  3.32it/s]\n",
      "100%|██████████| 67/67 [00:20<00:00,  3.21it/s]\n",
      "100%|██████████| 18/18 [00:05<00:00,  3.25it/s]\n"
     ]
    },
    {
     "name": "stdout",
     "output_type": "stream",
     "text": [
      "Train loss: 0.170961592562737\n",
      "Train consistency loss: 0.012742483223885742\n",
      "Validation loss: 0.3002566173672676\n",
      "1m 13s\n",
      "Early Stopping Counter = 1\n",
      "Epoch 97/300\n"
     ]
    },
    {
     "name": "stderr",
     "output_type": "stream",
     "text": [
      "100%|██████████| 155/155 [00:46<00:00,  3.34it/s]\n",
      "100%|██████████| 67/67 [00:21<00:00,  3.18it/s]\n",
      "100%|██████████| 18/18 [00:05<00:00,  3.28it/s]\n"
     ]
    },
    {
     "name": "stdout",
     "output_type": "stream",
     "text": [
      "Train loss: 0.1698933449483687\n",
      "Train consistency loss: 0.012316819912851301\n",
      "Validation loss: 0.28951603008641136\n",
      "1m 13s\n",
      "Consistency Loss declined to 0.012316819912851301\n",
      "Early Stopping Counter = 0\n",
      "Epoch 98/300\n"
     ]
    },
    {
     "name": "stderr",
     "output_type": "stream",
     "text": [
      "100%|██████████| 155/155 [00:46<00:00,  3.33it/s]\n",
      "100%|██████████| 67/67 [00:20<00:00,  3.21it/s]\n",
      "100%|██████████| 18/18 [00:05<00:00,  3.21it/s]\n"
     ]
    },
    {
     "name": "stdout",
     "output_type": "stream",
     "text": [
      "Train loss: 0.16930147755530572\n",
      "Train consistency loss: 0.013099090425547823\n",
      "Validation loss: 0.2981871035363939\n",
      "1m 13s\n",
      "Early Stopping Counter = 1\n",
      "Epoch 99/300\n"
     ]
    },
    {
     "name": "stderr",
     "output_type": "stream",
     "text": [
      "100%|██████████| 155/155 [00:46<00:00,  3.34it/s]\n",
      "100%|██████████| 67/67 [00:20<00:00,  3.21it/s]\n",
      "100%|██████████| 18/18 [00:05<00:00,  3.21it/s]\n"
     ]
    },
    {
     "name": "stdout",
     "output_type": "stream",
     "text": [
      "Train loss: 0.17080633947926183\n",
      "Train consistency loss: 0.014313575978488174\n",
      "Validation loss: 0.3192575110329522\n",
      "1m 13s\n",
      "Early Stopping Counter = 2\n",
      "Epoch 100/300\n"
     ]
    },
    {
     "name": "stderr",
     "output_type": "stream",
     "text": [
      "100%|██████████| 155/155 [00:46<00:00,  3.34it/s]\n",
      "100%|██████████| 67/67 [00:20<00:00,  3.21it/s]\n",
      "100%|██████████| 18/18 [00:05<00:00,  3.26it/s]\n"
     ]
    },
    {
     "name": "stdout",
     "output_type": "stream",
     "text": [
      "Train loss: 0.16977832403875168\n",
      "Train consistency loss: 0.011591207701712847\n",
      "Validation loss: 0.30681052555640537\n",
      "1m 13s\n",
      "Consistency Loss declined to 0.011591207701712847\n",
      "Early Stopping Counter = 0\n",
      "Epoch 101/300\n"
     ]
    },
    {
     "name": "stderr",
     "output_type": "stream",
     "text": [
      "100%|██████████| 155/155 [00:46<00:00,  3.32it/s]\n",
      "100%|██████████| 67/67 [00:20<00:00,  3.20it/s]\n",
      "100%|██████████| 18/18 [00:05<00:00,  3.32it/s]\n"
     ]
    },
    {
     "name": "stdout",
     "output_type": "stream",
     "text": [
      "Train loss: 0.1676415697220833\n",
      "Train consistency loss: 0.0117676283698529\n",
      "Validation loss: 0.300981133348412\n",
      "1m 13s\n",
      "Early Stopping Counter = 1\n",
      "Epoch 102/300\n"
     ]
    },
    {
     "name": "stderr",
     "output_type": "stream",
     "text": [
      "100%|██████████| 155/155 [00:46<00:00,  3.34it/s]\n",
      "100%|██████████| 67/67 [00:21<00:00,  3.17it/s]\n",
      "100%|██████████| 18/18 [00:05<00:00,  3.20it/s]\n"
     ]
    },
    {
     "name": "stdout",
     "output_type": "stream",
     "text": [
      "Train loss: 0.16911447009732647\n",
      "Train consistency loss: 0.012223038613907437\n",
      "Validation loss: 0.29116469870011014\n",
      "1m 13s\n",
      "Early Stopping Counter = 2\n",
      "Epoch 103/300\n"
     ]
    },
    {
     "name": "stderr",
     "output_type": "stream",
     "text": [
      "100%|██████████| 155/155 [00:46<00:00,  3.32it/s]\n",
      "100%|██████████| 67/67 [00:21<00:00,  3.18it/s]\n",
      "100%|██████████| 18/18 [00:05<00:00,  3.13it/s]\n"
     ]
    },
    {
     "name": "stdout",
     "output_type": "stream",
     "text": [
      "Train loss: 0.1675349994051841\n",
      "Train consistency loss: 0.014348295357411922\n",
      "Validation loss: 0.3266823887825012\n",
      "1m 13s\n",
      "Early Stopping Counter = 3\n",
      "Epoch 104/300\n"
     ]
    },
    {
     "name": "stderr",
     "output_type": "stream",
     "text": [
      "100%|██████████| 155/155 [00:46<00:00,  3.35it/s]\n",
      "100%|██████████| 67/67 [00:21<00:00,  3.18it/s]\n",
      "100%|██████████| 18/18 [00:05<00:00,  3.30it/s]\n"
     ]
    },
    {
     "name": "stdout",
     "output_type": "stream",
     "text": [
      "Train loss: 0.17185483795981255\n",
      "Train consistency loss: 0.01276124440439379\n",
      "Validation loss: 0.2906368151307106\n",
      "1m 13s\n",
      "Early Stopping Counter = 4\n",
      "Epoch 105/300\n"
     ]
    },
    {
     "name": "stderr",
     "output_type": "stream",
     "text": [
      "100%|██████████| 155/155 [00:46<00:00,  3.34it/s]\n",
      "100%|██████████| 67/67 [00:20<00:00,  3.22it/s]\n",
      "100%|██████████| 18/18 [00:05<00:00,  3.34it/s]\n"
     ]
    },
    {
     "name": "stdout",
     "output_type": "stream",
     "text": [
      "Train loss: 0.167718880984091\n",
      "Train consistency loss: 0.012211264340457186\n",
      "Validation loss: 0.28599831130769515\n",
      "1m 13s\n",
      "Early Stopping Counter = 5\n",
      "Epoch 106/300\n"
     ]
    },
    {
     "name": "stderr",
     "output_type": "stream",
     "text": [
      "100%|██████████| 155/155 [00:46<00:00,  3.34it/s]\n",
      "100%|██████████| 67/67 [00:20<00:00,  3.20it/s]\n",
      "100%|██████████| 18/18 [00:05<00:00,  3.30it/s]\n"
     ]
    },
    {
     "name": "stdout",
     "output_type": "stream",
     "text": [
      "Train loss: 0.16645239639666773\n",
      "Train consistency loss: 0.011320790248130685\n",
      "Validation loss: 0.27550255838367677\n",
      "1m 13s\n",
      "Consistency Loss declined to 0.011320790248130685\n",
      "Early Stopping Counter = 0\n",
      "Epoch 107/300\n"
     ]
    },
    {
     "name": "stderr",
     "output_type": "stream",
     "text": [
      "100%|██████████| 155/155 [00:46<00:00,  3.34it/s]\n",
      "100%|██████████| 67/67 [00:21<00:00,  3.17it/s]\n",
      "100%|██████████| 18/18 [00:05<00:00,  3.34it/s]\n"
     ]
    },
    {
     "name": "stdout",
     "output_type": "stream",
     "text": [
      "Train loss: 0.16600726919789469\n",
      "Train consistency loss: 0.015130480202331917\n",
      "Validation loss: 0.3629659116268158\n",
      "1m 13s\n",
      "Early Stopping Counter = 1\n",
      "Epoch 108/300\n"
     ]
    },
    {
     "name": "stderr",
     "output_type": "stream",
     "text": [
      "100%|██████████| 155/155 [00:46<00:00,  3.34it/s]\n",
      "100%|██████████| 67/67 [00:20<00:00,  3.20it/s]\n",
      "100%|██████████| 18/18 [00:05<00:00,  3.16it/s]\n"
     ]
    },
    {
     "name": "stdout",
     "output_type": "stream",
     "text": [
      "Train loss: 0.1680756308378712\n",
      "Train consistency loss: 0.01199473890323025\n",
      "Validation loss: 0.27307349029514527\n",
      "1m 13s\n",
      "Early Stopping Counter = 2\n",
      "Epoch 109/300\n"
     ]
    },
    {
     "name": "stderr",
     "output_type": "stream",
     "text": [
      "100%|██████████| 155/155 [00:46<00:00,  3.35it/s]\n",
      "100%|██████████| 67/67 [00:20<00:00,  3.22it/s]\n",
      "100%|██████████| 18/18 [00:05<00:00,  3.30it/s]\n"
     ]
    },
    {
     "name": "stdout",
     "output_type": "stream",
     "text": [
      "Train loss: 0.1648959248296676\n",
      "Train consistency loss: 0.012258975648446314\n",
      "Validation loss: 0.29062821881638634\n",
      "1m 13s\n",
      "Early Stopping Counter = 3\n",
      "Epoch 110/300\n"
     ]
    },
    {
     "name": "stderr",
     "output_type": "stream",
     "text": [
      "100%|██████████| 155/155 [00:46<00:00,  3.35it/s]\n",
      "100%|██████████| 67/67 [00:20<00:00,  3.22it/s]\n",
      "100%|██████████| 18/18 [00:05<00:00,  3.26it/s]\n"
     ]
    },
    {
     "name": "stdout",
     "output_type": "stream",
     "text": [
      "Train loss: 0.1667336958069955\n",
      "Train consistency loss: 0.011609831449589622\n",
      "Validation loss: 0.2971881685985459\n",
      "1m 13s\n",
      "Early Stopping Counter = 4\n",
      "Epoch 111/300\n"
     ]
    },
    {
     "name": "stderr",
     "output_type": "stream",
     "text": [
      "100%|██████████| 155/155 [00:46<00:00,  3.32it/s]\n",
      "100%|██████████| 67/67 [00:20<00:00,  3.20it/s]\n",
      "100%|██████████| 18/18 [00:05<00:00,  3.35it/s]\n"
     ]
    },
    {
     "name": "stdout",
     "output_type": "stream",
     "text": [
      "Train loss: 0.1647616731543695\n",
      "Train consistency loss: 0.01223448203848814\n",
      "Validation loss: 0.29201612083448303\n",
      "1m 13s\n",
      "Early Stopping Counter = 5\n",
      "Epoch 112/300\n"
     ]
    },
    {
     "name": "stderr",
     "output_type": "stream",
     "text": [
      "100%|██████████| 155/155 [00:46<00:00,  3.33it/s]\n",
      "100%|██████████| 67/67 [00:20<00:00,  3.20it/s]\n",
      "100%|██████████| 18/18 [00:05<00:00,  3.23it/s]\n"
     ]
    },
    {
     "name": "stdout",
     "output_type": "stream",
     "text": [
      "Train loss: 0.16472647651549308\n",
      "Train consistency loss: 0.011336199126081236\n",
      "Validation loss: 0.2867140654060576\n",
      "1m 13s\n",
      "Early Stopping Counter = 6\n",
      "Epoch 113/300\n"
     ]
    },
    {
     "name": "stderr",
     "output_type": "stream",
     "text": [
      "100%|██████████| 155/155 [00:46<00:00,  3.35it/s]\n",
      "100%|██████████| 67/67 [00:20<00:00,  3.22it/s]\n",
      "100%|██████████| 18/18 [00:05<00:00,  3.24it/s]\n"
     ]
    },
    {
     "name": "stdout",
     "output_type": "stream",
     "text": [
      "Train loss: 0.16407874639957182\n",
      "Train consistency loss: 0.010297190401452914\n",
      "Validation loss: 0.28454432802067864\n",
      "1m 13s\n",
      "Consistency Loss declined to 0.010297190401452914\n",
      "Early Stopping Counter = 0\n",
      "Epoch 114/300\n"
     ]
    },
    {
     "name": "stderr",
     "output_type": "stream",
     "text": [
      "100%|██████████| 155/155 [00:46<00:00,  3.33it/s]\n",
      "100%|██████████| 67/67 [00:20<00:00,  3.23it/s]\n",
      "100%|██████████| 18/18 [00:05<00:00,  3.27it/s]\n"
     ]
    },
    {
     "name": "stdout",
     "output_type": "stream",
     "text": [
      "Train loss: 0.1644094596947393\n",
      "Train consistency loss: 0.01153314269300717\n",
      "Validation loss: 0.27653197364674675\n",
      "1m 13s\n",
      "Early Stopping Counter = 1\n",
      "Epoch 115/300\n"
     ]
    },
    {
     "name": "stderr",
     "output_type": "stream",
     "text": [
      "100%|██████████| 155/155 [00:46<00:00,  3.35it/s]\n",
      "100%|██████████| 67/67 [00:20<00:00,  3.19it/s]\n",
      "100%|██████████| 18/18 [00:05<00:00,  3.25it/s]\n"
     ]
    },
    {
     "name": "stdout",
     "output_type": "stream",
     "text": [
      "Train loss: 0.16321856360281667\n",
      "Train consistency loss: 0.010876055897227418\n",
      "Validation loss: 0.29951952397823334\n",
      "1m 13s\n",
      "Early Stopping Counter = 2\n",
      "Epoch 116/300\n"
     ]
    },
    {
     "name": "stderr",
     "output_type": "stream",
     "text": [
      "100%|██████████| 155/155 [00:46<00:00,  3.35it/s]\n",
      "100%|██████████| 67/67 [00:20<00:00,  3.23it/s]\n",
      "100%|██████████| 18/18 [00:05<00:00,  3.27it/s]\n"
     ]
    },
    {
     "name": "stdout",
     "output_type": "stream",
     "text": [
      "Train loss: 0.1628859430551529\n",
      "Train consistency loss: 0.010420878125882861\n",
      "Validation loss: 0.2854151452581088\n",
      "1m 13s\n",
      "Early Stopping Counter = 3\n",
      "Epoch 117/300\n"
     ]
    },
    {
     "name": "stderr",
     "output_type": "stream",
     "text": [
      "100%|██████████| 155/155 [00:46<00:00,  3.36it/s]\n",
      "100%|██████████| 67/67 [00:20<00:00,  3.19it/s]\n",
      "100%|██████████| 18/18 [00:05<00:00,  3.24it/s]\n"
     ]
    },
    {
     "name": "stdout",
     "output_type": "stream",
     "text": [
      "Train loss: 0.16204450418872218\n",
      "Train consistency loss: 0.013053063567338595\n",
      "Validation loss: 0.29232488696773845\n",
      "1m 13s\n",
      "Early Stopping Counter = 4\n",
      "Epoch 118/300\n"
     ]
    },
    {
     "name": "stderr",
     "output_type": "stream",
     "text": [
      "100%|██████████| 155/155 [00:46<00:00,  3.35it/s]\n",
      "100%|██████████| 67/67 [00:20<00:00,  3.20it/s]\n",
      "100%|██████████| 18/18 [00:05<00:00,  3.32it/s]\n"
     ]
    },
    {
     "name": "stdout",
     "output_type": "stream",
     "text": [
      "Train loss: 0.1633412390947342\n",
      "Train consistency loss: 0.011821669700152394\n",
      "Validation loss: 0.309459167222182\n",
      "1m 13s\n",
      "Early Stopping Counter = 5\n",
      "Epoch 119/300\n"
     ]
    },
    {
     "name": "stderr",
     "output_type": "stream",
     "text": [
      "100%|██████████| 155/155 [00:46<00:00,  3.35it/s]\n",
      "100%|██████████| 67/67 [00:21<00:00,  3.18it/s]\n",
      "100%|██████████| 18/18 [00:05<00:00,  3.29it/s]\n"
     ]
    },
    {
     "name": "stdout",
     "output_type": "stream",
     "text": [
      "Train loss: 0.16446239284930692\n",
      "Train consistency loss: 0.01064616544589178\n",
      "Validation loss: 0.29313015358315575\n",
      "1m 13s\n",
      "Early Stopping Counter = 6\n",
      "Epoch 120/300\n"
     ]
    },
    {
     "name": "stderr",
     "output_type": "stream",
     "text": [
      "100%|██████████| 155/155 [00:46<00:00,  3.33it/s]\n",
      "100%|██████████| 67/67 [00:20<00:00,  3.19it/s]\n",
      "100%|██████████| 18/18 [00:05<00:00,  3.23it/s]\n"
     ]
    },
    {
     "name": "stdout",
     "output_type": "stream",
     "text": [
      "Train loss: 0.16228859376522803\n",
      "Train consistency loss: 0.01070048260405215\n",
      "Validation loss: 0.30970336000124615\n",
      "1m 13s\n",
      "Early Stopping Counter = 7\n",
      "Epoch 121/300\n"
     ]
    },
    {
     "name": "stderr",
     "output_type": "stream",
     "text": [
      "100%|██████████| 155/155 [00:46<00:00,  3.33it/s]\n",
      "100%|██████████| 67/67 [00:21<00:00,  3.18it/s]\n",
      "100%|██████████| 18/18 [00:05<00:00,  3.24it/s]\n"
     ]
    },
    {
     "name": "stdout",
     "output_type": "stream",
     "text": [
      "Train loss: 0.16116659583583956\n",
      "Train consistency loss: 0.009550869607352722\n",
      "Validation loss: 0.2758448227412171\n",
      "1m 13s\n",
      "Consistency Loss declined to 0.009550869607352722\n",
      "Early Stopping Counter = 0\n",
      "Epoch 122/300\n"
     ]
    },
    {
     "name": "stderr",
     "output_type": "stream",
     "text": [
      "100%|██████████| 155/155 [00:46<00:00,  3.33it/s]\n",
      "100%|██████████| 67/67 [00:20<00:00,  3.23it/s]\n",
      "100%|██████████| 18/18 [00:05<00:00,  3.24it/s]\n"
     ]
    },
    {
     "name": "stdout",
     "output_type": "stream",
     "text": [
      "Train loss: 0.16127424605431095\n",
      "Train consistency loss: 0.00998447065366738\n",
      "Validation loss: 0.2985690095358425\n",
      "1m 13s\n",
      "Early Stopping Counter = 1\n",
      "Epoch 123/300\n"
     ]
    },
    {
     "name": "stderr",
     "output_type": "stream",
     "text": [
      "100%|██████████| 155/155 [00:46<00:00,  3.34it/s]\n",
      "100%|██████████| 67/67 [00:20<00:00,  3.23it/s]\n",
      "100%|██████████| 18/18 [00:05<00:00,  3.26it/s]\n"
     ]
    },
    {
     "name": "stdout",
     "output_type": "stream",
     "text": [
      "Train loss: 0.16012582009838475\n",
      "Train consistency loss: 0.020501151694846686\n",
      "Validation loss: 0.3501667372054524\n",
      "1m 13s\n",
      "Early Stopping Counter = 2\n",
      "Epoch 124/300\n"
     ]
    },
    {
     "name": "stderr",
     "output_type": "stream",
     "text": [
      "100%|██████████| 155/155 [00:46<00:00,  3.35it/s]\n",
      "100%|██████████| 67/67 [00:20<00:00,  3.22it/s]\n",
      "100%|██████████| 18/18 [00:05<00:00,  3.31it/s]\n"
     ]
    },
    {
     "name": "stdout",
     "output_type": "stream",
     "text": [
      "Train loss: 0.16917824254881952\n",
      "Train consistency loss: 0.010884672563189446\n",
      "Validation loss: 0.2991089117195871\n",
      "1m 13s\n",
      "Early Stopping Counter = 3\n",
      "Epoch 125/300\n"
     ]
    },
    {
     "name": "stderr",
     "output_type": "stream",
     "text": [
      "100%|██████████| 155/155 [00:46<00:00,  3.34it/s]\n",
      "100%|██████████| 67/67 [00:20<00:00,  3.21it/s]\n",
      "100%|██████████| 18/18 [00:05<00:00,  3.29it/s]\n"
     ]
    },
    {
     "name": "stdout",
     "output_type": "stream",
     "text": [
      "Train loss: 0.16207335591316224\n",
      "Train consistency loss: 0.009903014748732545\n",
      "Validation loss: 0.3010462241040336\n",
      "1m 13s\n",
      "Early Stopping Counter = 4\n",
      "Epoch 126/300\n"
     ]
    },
    {
     "name": "stderr",
     "output_type": "stream",
     "text": [
      "100%|██████████| 155/155 [00:46<00:00,  3.35it/s]\n",
      "100%|██████████| 67/67 [00:20<00:00,  3.22it/s]\n",
      "100%|██████████| 18/18 [00:05<00:00,  3.29it/s]\n"
     ]
    },
    {
     "name": "stdout",
     "output_type": "stream",
     "text": [
      "Train loss: 0.15983918467836997\n",
      "Train consistency loss: 0.00954871704635113\n",
      "Validation loss: 0.2888077712721295\n",
      "1m 13s\n",
      "Consistency Loss declined to 0.00954871704635113\n",
      "Early Stopping Counter = 0\n",
      "Epoch 127/300\n"
     ]
    },
    {
     "name": "stderr",
     "output_type": "stream",
     "text": [
      "100%|██████████| 155/155 [00:46<00:00,  3.32it/s]\n",
      "100%|██████████| 67/67 [00:20<00:00,  3.22it/s]\n",
      "100%|██████████| 18/18 [00:05<00:00,  3.26it/s]\n"
     ]
    },
    {
     "name": "stdout",
     "output_type": "stream",
     "text": [
      "Train loss: 0.1621998704248859\n",
      "Train consistency loss: 0.010996637400239706\n",
      "Validation loss: 0.3097988950709502\n",
      "1m 13s\n",
      "Early Stopping Counter = 1\n",
      "Epoch 128/300\n"
     ]
    },
    {
     "name": "stderr",
     "output_type": "stream",
     "text": [
      "100%|██████████| 155/155 [00:46<00:00,  3.35it/s]\n",
      "100%|██████████| 67/67 [00:20<00:00,  3.19it/s]\n",
      "100%|██████████| 18/18 [00:05<00:00,  3.27it/s]\n"
     ]
    },
    {
     "name": "stdout",
     "output_type": "stream",
     "text": [
      "Train loss: 0.15940699534070107\n",
      "Train consistency loss: 0.009857180382389186\n",
      "Validation loss: 0.3069780030184322\n",
      "1m 13s\n",
      "Early Stopping Counter = 2\n",
      "Epoch 129/300\n"
     ]
    },
    {
     "name": "stderr",
     "output_type": "stream",
     "text": [
      "100%|██████████| 155/155 [00:46<00:00,  3.33it/s]\n",
      "100%|██████████| 67/67 [00:20<00:00,  3.19it/s]\n",
      "100%|██████████| 18/18 [00:05<00:00,  3.29it/s]\n"
     ]
    },
    {
     "name": "stdout",
     "output_type": "stream",
     "text": [
      "Train loss: 0.15882218681996868\n",
      "Train consistency loss: 0.010676722229917102\n",
      "Validation loss: 0.3157208470834626\n",
      "1m 13s\n",
      "Early Stopping Counter = 3\n",
      "Epoch 130/300\n"
     ]
    },
    {
     "name": "stderr",
     "output_type": "stream",
     "text": [
      "100%|██████████| 155/155 [00:46<00:00,  3.35it/s]\n",
      "100%|██████████| 67/67 [00:20<00:00,  3.19it/s]\n",
      "100%|██████████| 18/18 [00:05<00:00,  3.24it/s]\n"
     ]
    },
    {
     "name": "stdout",
     "output_type": "stream",
     "text": [
      "Train loss: 0.16038926618714486\n",
      "Train consistency loss: 0.012449930324705679\n",
      "Validation loss: 0.29041437639130485\n",
      "1m 13s\n",
      "Early Stopping Counter = 4\n",
      "Epoch 131/300\n"
     ]
    },
    {
     "name": "stderr",
     "output_type": "stream",
     "text": [
      "100%|██████████| 155/155 [00:46<00:00,  3.34it/s]\n",
      "100%|██████████| 67/67 [00:20<00:00,  3.23it/s]\n",
      "100%|██████████| 18/18 [00:05<00:00,  3.25it/s]\n"
     ]
    },
    {
     "name": "stdout",
     "output_type": "stream",
     "text": [
      "Train loss: 0.15885598073082585\n",
      "Train consistency loss: 0.00916633315717996\n",
      "Validation loss: 0.28355489174524945\n",
      "1m 13s\n",
      "Consistency Loss declined to 0.00916633315717996\n",
      "Early Stopping Counter = 0\n",
      "Epoch 132/300\n"
     ]
    },
    {
     "name": "stderr",
     "output_type": "stream",
     "text": [
      "100%|██████████| 155/155 [00:46<00:00,  3.35it/s]\n",
      "100%|██████████| 67/67 [00:20<00:00,  3.22it/s]\n",
      "100%|██████████| 18/18 [00:05<00:00,  3.24it/s]\n"
     ]
    },
    {
     "name": "stdout",
     "output_type": "stream",
     "text": [
      "Train loss: 0.15669818659943918\n",
      "Train consistency loss: 0.009296570251237101\n",
      "Validation loss: 0.29963187376658124\n",
      "1m 13s\n",
      "Early Stopping Counter = 1\n",
      "Epoch 133/300\n"
     ]
    },
    {
     "name": "stderr",
     "output_type": "stream",
     "text": [
      "100%|██████████| 155/155 [00:46<00:00,  3.34it/s]\n",
      "100%|██████████| 67/67 [00:20<00:00,  3.20it/s]\n",
      "100%|██████████| 18/18 [00:05<00:00,  3.17it/s]\n"
     ]
    },
    {
     "name": "stdout",
     "output_type": "stream",
     "text": [
      "Train loss: 0.15644343812619485\n",
      "Train consistency loss: 0.0088646071128992\n",
      "Validation loss: 0.2977488992942704\n",
      "1m 13s\n",
      "Consistency Loss declined to 0.0088646071128992\n",
      "Early Stopping Counter = 0\n",
      "Epoch 134/300\n"
     ]
    },
    {
     "name": "stderr",
     "output_type": "stream",
     "text": [
      "100%|██████████| 155/155 [00:46<00:00,  3.32it/s]\n",
      "100%|██████████| 67/67 [00:20<00:00,  3.20it/s]\n",
      "100%|██████████| 18/18 [00:05<00:00,  3.22it/s]\n"
     ]
    },
    {
     "name": "stdout",
     "output_type": "stream",
     "text": [
      "Train loss: 0.15732852537785808\n",
      "Train consistency loss: 0.009486117817239086\n",
      "Validation loss: 0.29241319331857896\n",
      "1m 13s\n",
      "Early Stopping Counter = 1\n",
      "Epoch 135/300\n"
     ]
    },
    {
     "name": "stderr",
     "output_type": "stream",
     "text": [
      "100%|██████████| 155/155 [00:46<00:00,  3.35it/s]\n",
      "100%|██████████| 67/67 [00:21<00:00,  3.19it/s]\n",
      "100%|██████████| 18/18 [00:05<00:00,  3.29it/s]\n"
     ]
    },
    {
     "name": "stdout",
     "output_type": "stream",
     "text": [
      "Train loss: 0.15718247332880575\n",
      "Train consistency loss: 0.009199631803516132\n",
      "Validation loss: 0.2791399425930447\n",
      "1m 13s\n",
      "Early Stopping Counter = 2\n",
      "Epoch 136/300\n"
     ]
    },
    {
     "name": "stderr",
     "output_type": "stream",
     "text": [
      "100%|██████████| 155/155 [00:46<00:00,  3.36it/s]\n",
      "100%|██████████| 67/67 [00:21<00:00,  3.17it/s]\n",
      "100%|██████████| 18/18 [00:05<00:00,  3.22it/s]\n"
     ]
    },
    {
     "name": "stdout",
     "output_type": "stream",
     "text": [
      "Train loss: 0.15633749360999755\n",
      "Train consistency loss: 0.012435209193725639\n",
      "Validation loss: 0.3377055517501301\n",
      "1m 13s\n",
      "Early Stopping Counter = 3\n",
      "Epoch 137/300\n"
     ]
    },
    {
     "name": "stderr",
     "output_type": "stream",
     "text": [
      "100%|██████████| 155/155 [00:46<00:00,  3.33it/s]\n",
      "100%|██████████| 67/67 [00:20<00:00,  3.22it/s]\n",
      "100%|██████████| 18/18 [00:05<00:00,  3.25it/s]\n"
     ]
    },
    {
     "name": "stdout",
     "output_type": "stream",
     "text": [
      "Train loss: 0.1610044507249709\n",
      "Train consistency loss: 0.011972821074357229\n",
      "Validation loss: 0.3149230339460903\n",
      "1m 13s\n",
      "Early Stopping Counter = 4\n",
      "Epoch 138/300\n"
     ]
    },
    {
     "name": "stderr",
     "output_type": "stream",
     "text": [
      "100%|██████████| 155/155 [00:46<00:00,  3.34it/s]\n",
      "100%|██████████| 67/67 [00:21<00:00,  3.17it/s]\n",
      "100%|██████████| 18/18 [00:05<00:00,  3.21it/s]\n"
     ]
    },
    {
     "name": "stdout",
     "output_type": "stream",
     "text": [
      "Train loss: 0.1564597059642115\n",
      "Train consistency loss: 0.01102345124748883\n",
      "Validation loss: 0.32834843546152115\n",
      "1m 13s\n",
      "Early Stopping Counter = 5\n",
      "Epoch 139/300\n"
     ]
    },
    {
     "name": "stderr",
     "output_type": "stream",
     "text": [
      "100%|██████████| 155/155 [00:46<00:00,  3.34it/s]\n",
      "100%|██████████| 67/67 [00:20<00:00,  3.23it/s]\n",
      "100%|██████████| 18/18 [00:05<00:00,  3.22it/s]\n"
     ]
    },
    {
     "name": "stdout",
     "output_type": "stream",
     "text": [
      "Train loss: 0.15573878317110001\n",
      "Train consistency loss: 0.008526690457183034\n",
      "Validation loss: 0.2981746714148257\n",
      "1m 13s\n",
      "Consistency Loss declined to 0.008526690457183034\n",
      "Early Stopping Counter = 0\n",
      "Epoch 140/300\n"
     ]
    },
    {
     "name": "stderr",
     "output_type": "stream",
     "text": [
      "100%|██████████| 155/155 [00:46<00:00,  3.35it/s]\n",
      "100%|██████████| 67/67 [00:20<00:00,  3.22it/s]\n",
      "100%|██████████| 18/18 [00:05<00:00,  3.32it/s]\n"
     ]
    },
    {
     "name": "stdout",
     "output_type": "stream",
     "text": [
      "Train loss: 0.15456545372163097\n",
      "Train consistency loss: 0.008532120092118631\n",
      "Validation loss: 0.30198097311788136\n",
      "1m 13s\n",
      "Early Stopping Counter = 1\n",
      "Epoch 141/300\n"
     ]
    },
    {
     "name": "stderr",
     "output_type": "stream",
     "text": [
      "100%|██████████| 155/155 [00:46<00:00,  3.35it/s]\n",
      "100%|██████████| 67/67 [00:20<00:00,  3.19it/s]\n",
      "100%|██████████| 18/18 [00:05<00:00,  3.17it/s]\n"
     ]
    },
    {
     "name": "stdout",
     "output_type": "stream",
     "text": [
      "Train loss: 0.15447540802340354\n",
      "Train consistency loss: 0.009078754640337246\n",
      "Validation loss: 0.2758231514857875\n",
      "1m 13s\n",
      "Early Stopping Counter = 2\n",
      "Epoch 142/300\n"
     ]
    },
    {
     "name": "stderr",
     "output_type": "stream",
     "text": [
      "100%|██████████| 155/155 [00:46<00:00,  3.34it/s]\n",
      "100%|██████████| 67/67 [00:21<00:00,  3.18it/s]\n",
      "100%|██████████| 18/18 [00:05<00:00,  3.29it/s]\n"
     ]
    },
    {
     "name": "stdout",
     "output_type": "stream",
     "text": [
      "Train loss: 0.15374406917441275\n",
      "Train consistency loss: 0.008794436995774063\n",
      "Validation loss: 0.29685396204392117\n",
      "1m 13s\n",
      "Early Stopping Counter = 3\n",
      "Epoch 143/300\n"
     ]
    },
    {
     "name": "stderr",
     "output_type": "stream",
     "text": [
      "100%|██████████| 155/155 [00:46<00:00,  3.33it/s]\n",
      "100%|██████████| 67/67 [00:21<00:00,  3.18it/s]\n",
      "100%|██████████| 18/18 [00:05<00:00,  3.28it/s]\n"
     ]
    },
    {
     "name": "stdout",
     "output_type": "stream",
     "text": [
      "Train loss: 0.15345586629644517\n",
      "Train consistency loss: 0.008253778807068271\n",
      "Validation loss: 0.29527218970987534\n",
      "1m 13s\n",
      "Consistency Loss declined to 0.008253778807068271\n",
      "Early Stopping Counter = 0\n",
      "Epoch 144/300\n"
     ]
    },
    {
     "name": "stderr",
     "output_type": "stream",
     "text": [
      "100%|██████████| 155/155 [00:46<00:00,  3.33it/s]\n",
      "100%|██████████| 67/67 [00:21<00:00,  3.18it/s]\n",
      "100%|██████████| 18/18 [00:05<00:00,  3.27it/s]\n"
     ]
    },
    {
     "name": "stdout",
     "output_type": "stream",
     "text": [
      "Train loss: 0.15403306330403974\n",
      "Train consistency loss: 0.013905672168831772\n",
      "Validation loss: 0.3325239283343156\n",
      "1m 13s\n",
      "Early Stopping Counter = 1\n",
      "Epoch 145/300\n"
     ]
    },
    {
     "name": "stderr",
     "output_type": "stream",
     "text": [
      "100%|██████████| 155/155 [00:46<00:00,  3.32it/s]\n",
      "100%|██████████| 67/67 [00:20<00:00,  3.22it/s]\n",
      "100%|██████████| 18/18 [00:05<00:00,  3.24it/s]\n"
     ]
    },
    {
     "name": "stdout",
     "output_type": "stream",
     "text": [
      "Train loss: 0.15892116936945147\n",
      "Train consistency loss: 0.008417085122400478\n",
      "Validation loss: 0.2912633421106471\n",
      "1m 13s\n",
      "Early Stopping Counter = 2\n",
      "Epoch 146/300\n"
     ]
    },
    {
     "name": "stderr",
     "output_type": "stream",
     "text": [
      "100%|██████████| 155/155 [00:46<00:00,  3.35it/s]\n",
      "100%|██████████| 67/67 [00:20<00:00,  3.23it/s]\n",
      "100%|██████████| 18/18 [00:05<00:00,  3.26it/s]\n"
     ]
    },
    {
     "name": "stdout",
     "output_type": "stream",
     "text": [
      "Train loss: 0.15391198065011732\n",
      "Train consistency loss: 0.008086173332977429\n",
      "Validation loss: 0.29209810081455445\n",
      "1m 13s\n",
      "Consistency Loss declined to 0.008086173332977429\n",
      "Early Stopping Counter = 0\n",
      "Epoch 147/300\n"
     ]
    },
    {
     "name": "stderr",
     "output_type": "stream",
     "text": [
      "100%|██████████| 155/155 [00:46<00:00,  3.32it/s]\n",
      "100%|██████████| 67/67 [00:21<00:00,  3.19it/s]\n",
      "100%|██████████| 18/18 [00:05<00:00,  3.32it/s]\n"
     ]
    },
    {
     "name": "stdout",
     "output_type": "stream",
     "text": [
      "Train loss: 0.15333356328548925\n",
      "Train consistency loss: 0.008137004797471993\n",
      "Validation loss: 0.3238874582780732\n",
      "1m 13s\n",
      "Early Stopping Counter = 1\n",
      "Epoch 148/300\n"
     ]
    },
    {
     "name": "stderr",
     "output_type": "stream",
     "text": [
      "100%|██████████| 155/155 [00:46<00:00,  3.32it/s]\n",
      "100%|██████████| 67/67 [00:21<00:00,  3.18it/s]\n",
      "100%|██████████| 18/18 [00:05<00:00,  3.33it/s]\n"
     ]
    },
    {
     "name": "stdout",
     "output_type": "stream",
     "text": [
      "Train loss: 0.15292176729248416\n",
      "Train consistency loss: 0.007201240304162476\n",
      "Validation loss: 0.2963765073153708\n",
      "1m 13s\n",
      "Consistency Loss declined to 0.007201240304162476\n",
      "Early Stopping Counter = 0\n",
      "Epoch 149/300\n"
     ]
    },
    {
     "name": "stderr",
     "output_type": "stream",
     "text": [
      "100%|██████████| 155/155 [00:46<00:00,  3.34it/s]\n",
      "100%|██████████| 67/67 [00:20<00:00,  3.21it/s]\n",
      "100%|██████████| 18/18 [00:05<00:00,  3.30it/s]\n"
     ]
    },
    {
     "name": "stdout",
     "output_type": "stream",
     "text": [
      "Train loss: 0.15162583060802953\n",
      "Train consistency loss: 0.010973365198987634\n",
      "Validation loss: 0.3393108695745468\n",
      "1m 13s\n",
      "Early Stopping Counter = 1\n",
      "Epoch 150/300\n"
     ]
    },
    {
     "name": "stderr",
     "output_type": "stream",
     "text": [
      "100%|██████████| 155/155 [00:46<00:00,  3.35it/s]\n",
      "100%|██████████| 67/67 [00:20<00:00,  3.19it/s]\n",
      "100%|██████████| 18/18 [00:05<00:00,  3.33it/s]\n"
     ]
    },
    {
     "name": "stdout",
     "output_type": "stream",
     "text": [
      "Train loss: 0.1540831094787967\n",
      "Train consistency loss: 0.00839187771971546\n",
      "Validation loss: 0.29177866462204194\n",
      "1m 13s\n",
      "Early Stopping Counter = 2\n",
      "Epoch 151/300\n"
     ]
    },
    {
     "name": "stderr",
     "output_type": "stream",
     "text": [
      "100%|██████████| 155/155 [00:46<00:00,  3.34it/s]\n",
      "100%|██████████| 67/67 [00:20<00:00,  3.20it/s]\n",
      "100%|██████████| 18/18 [00:05<00:00,  3.28it/s]\n"
     ]
    },
    {
     "name": "stdout",
     "output_type": "stream",
     "text": [
      "Train loss: 0.1514561740140761\n",
      "Train consistency loss: 0.00757877793816377\n",
      "Validation loss: 0.29627566246522796\n",
      "1m 13s\n",
      "Early Stopping Counter = 3\n",
      "Epoch 152/300\n"
     ]
    },
    {
     "name": "stderr",
     "output_type": "stream",
     "text": [
      "100%|██████████| 155/155 [00:46<00:00,  3.34it/s]\n",
      "100%|██████████| 67/67 [00:20<00:00,  3.20it/s]\n",
      "100%|██████████| 18/18 [00:05<00:00,  3.31it/s]\n"
     ]
    },
    {
     "name": "stdout",
     "output_type": "stream",
     "text": [
      "Train loss: 0.15054810859503284\n",
      "Train consistency loss: 0.007620351406425905\n",
      "Validation loss: 0.2919039751092593\n",
      "1m 13s\n",
      "Early Stopping Counter = 4\n",
      "Epoch 153/300\n"
     ]
    },
    {
     "name": "stderr",
     "output_type": "stream",
     "text": [
      "100%|██████████| 155/155 [00:46<00:00,  3.33it/s]\n",
      "100%|██████████| 67/67 [00:20<00:00,  3.19it/s]\n",
      "100%|██████████| 18/18 [00:05<00:00,  3.25it/s]\n"
     ]
    },
    {
     "name": "stdout",
     "output_type": "stream",
     "text": [
      "Train loss: 0.15102785479637884\n",
      "Train consistency loss: 0.008317178719913337\n",
      "Validation loss: 0.29598430709706414\n",
      "1m 13s\n",
      "Early Stopping Counter = 5\n",
      "Epoch 154/300\n"
     ]
    },
    {
     "name": "stderr",
     "output_type": "stream",
     "text": [
      "100%|██████████| 155/155 [00:46<00:00,  3.32it/s]\n",
      "100%|██████████| 67/67 [00:21<00:00,  3.18it/s]\n",
      "100%|██████████| 18/18 [00:05<00:00,  3.31it/s]\n"
     ]
    },
    {
     "name": "stdout",
     "output_type": "stream",
     "text": [
      "Train loss: 0.14999790864606058\n",
      "Train consistency loss: 0.007179775567197088\n",
      "Validation loss: 0.29540903949075276\n",
      "1m 13s\n",
      "Consistency Loss declined to 0.007179775567197088\n",
      "Early Stopping Counter = 0\n",
      "Epoch 155/300\n"
     ]
    },
    {
     "name": "stderr",
     "output_type": "stream",
     "text": [
      "100%|██████████| 155/155 [00:46<00:00,  3.34it/s]\n",
      "100%|██████████| 67/67 [00:20<00:00,  3.21it/s]\n",
      "100%|██████████| 18/18 [00:05<00:00,  3.33it/s]\n"
     ]
    },
    {
     "name": "stdout",
     "output_type": "stream",
     "text": [
      "Train loss: 0.1501483486064019\n",
      "Train consistency loss: 0.007495264501880799\n",
      "Validation loss: 0.29042384525140125\n",
      "1m 13s\n",
      "Early Stopping Counter = 1\n",
      "Epoch 156/300\n"
     ]
    },
    {
     "name": "stderr",
     "output_type": "stream",
     "text": [
      "100%|██████████| 155/155 [00:46<00:00,  3.33it/s]\n",
      "100%|██████████| 67/67 [00:21<00:00,  3.18it/s]\n",
      "100%|██████████| 18/18 [00:05<00:00,  3.34it/s]\n"
     ]
    },
    {
     "name": "stdout",
     "output_type": "stream",
     "text": [
      "Train loss: 0.14894141410627673\n",
      "Train consistency loss: 0.007901446205744548\n",
      "Validation loss: 0.33352513280179763\n",
      "1m 13s\n",
      "Early Stopping Counter = 2\n",
      "Epoch 157/300\n"
     ]
    },
    {
     "name": "stderr",
     "output_type": "stream",
     "text": [
      "100%|██████████| 155/155 [00:46<00:00,  3.34it/s]\n",
      "100%|██████████| 67/67 [00:21<00:00,  3.19it/s]\n",
      "100%|██████████| 18/18 [00:05<00:00,  3.23it/s]\n"
     ]
    },
    {
     "name": "stdout",
     "output_type": "stream",
     "text": [
      "Train loss: 0.14898772480026368\n",
      "Train consistency loss: 0.007645499868207236\n",
      "Validation loss: 0.2956656912962596\n",
      "1m 13s\n",
      "Early Stopping Counter = 3\n",
      "Epoch 158/300\n"
     ]
    },
    {
     "name": "stderr",
     "output_type": "stream",
     "text": [
      "100%|██████████| 155/155 [00:46<00:00,  3.33it/s]\n",
      "100%|██████████| 67/67 [00:21<00:00,  3.19it/s]\n",
      "100%|██████████| 18/18 [00:05<00:00,  3.24it/s]\n"
     ]
    },
    {
     "name": "stdout",
     "output_type": "stream",
     "text": [
      "Train loss: 0.15064674683155552\n",
      "Train consistency loss: 0.009651179522720736\n",
      "Validation loss: 0.28264108879698646\n",
      "1m 13s\n",
      "Early Stopping Counter = 4\n",
      "Epoch 159/300\n"
     ]
    },
    {
     "name": "stderr",
     "output_type": "stream",
     "text": [
      "100%|██████████| 155/155 [00:47<00:00,  3.30it/s]\n",
      "100%|██████████| 67/67 [00:20<00:00,  3.22it/s]\n",
      "100%|██████████| 18/18 [00:05<00:00,  3.31it/s]\n"
     ]
    },
    {
     "name": "stdout",
     "output_type": "stream",
     "text": [
      "Train loss: 0.14911660013660308\n",
      "Train consistency loss: 0.007406721103575025\n",
      "Validation loss: 0.2982769360144933\n",
      "1m 13s\n",
      "Early Stopping Counter = 5\n",
      "Epoch 160/300\n"
     ]
    },
    {
     "name": "stderr",
     "output_type": "stream",
     "text": [
      "100%|██████████| 155/155 [00:46<00:00,  3.35it/s]\n",
      "100%|██████████| 67/67 [00:20<00:00,  3.19it/s]\n",
      "100%|██████████| 18/18 [00:05<00:00,  3.27it/s]\n"
     ]
    },
    {
     "name": "stdout",
     "output_type": "stream",
     "text": [
      "Train loss: 0.1518258600465713\n",
      "Train consistency loss: 0.007477894446242656\n",
      "Validation loss: 0.3002857218186061\n",
      "1m 13s\n",
      "Early Stopping Counter = 6\n",
      "Epoch 161/300\n"
     ]
    },
    {
     "name": "stderr",
     "output_type": "stream",
     "text": [
      "100%|██████████| 155/155 [00:46<00:00,  3.35it/s]\n",
      "100%|██████████| 67/67 [00:21<00:00,  3.18it/s]\n",
      "100%|██████████| 18/18 [00:05<00:00,  3.28it/s]\n"
     ]
    },
    {
     "name": "stdout",
     "output_type": "stream",
     "text": [
      "Train loss: 0.1480131868873873\n",
      "Train consistency loss: 0.0070828597283741435\n",
      "Validation loss: 0.2954409532248974\n",
      "1m 13s\n",
      "Consistency Loss declined to 0.0070828597283741435\n",
      "Early Stopping Counter = 0\n",
      "Epoch 162/300\n"
     ]
    },
    {
     "name": "stderr",
     "output_type": "stream",
     "text": [
      "100%|██████████| 155/155 [00:46<00:00,  3.34it/s]\n",
      "100%|██████████| 67/67 [00:21<00:00,  3.18it/s]\n",
      "100%|██████████| 18/18 [00:05<00:00,  3.25it/s]\n"
     ]
    },
    {
     "name": "stdout",
     "output_type": "stream",
     "text": [
      "Train loss: 0.1478160590414078\n",
      "Train consistency loss: 0.008933140030964765\n",
      "Validation loss: 0.37248993913332623\n",
      "1m 13s\n",
      "Early Stopping Counter = 1\n",
      "Epoch 163/300\n"
     ]
    },
    {
     "name": "stderr",
     "output_type": "stream",
     "text": [
      "100%|██████████| 155/155 [00:46<00:00,  3.34it/s]\n",
      "100%|██████████| 67/67 [00:20<00:00,  3.22it/s]\n",
      "100%|██████████| 18/18 [00:05<00:00,  3.26it/s]\n"
     ]
    },
    {
     "name": "stdout",
     "output_type": "stream",
     "text": [
      "Train loss: 0.14982968905279714\n",
      "Train consistency loss: 0.00832738570952371\n",
      "Validation loss: 0.31074795458051896\n",
      "1m 13s\n",
      "Early Stopping Counter = 2\n",
      "Epoch 164/300\n"
     ]
    },
    {
     "name": "stderr",
     "output_type": "stream",
     "text": [
      "100%|██████████| 155/155 [00:46<00:00,  3.33it/s]\n",
      "100%|██████████| 67/67 [00:21<00:00,  3.19it/s]\n",
      "100%|██████████| 18/18 [00:05<00:00,  3.28it/s]\n"
     ]
    },
    {
     "name": "stdout",
     "output_type": "stream",
     "text": [
      "Train loss: 0.14708079205405328\n",
      "Train consistency loss: 0.011691521967886321\n",
      "Validation loss: 0.31946806361277896\n",
      "1m 13s\n",
      "Early Stopping Counter = 3\n",
      "Epoch 165/300\n"
     ]
    },
    {
     "name": "stderr",
     "output_type": "stream",
     "text": [
      "100%|██████████| 155/155 [00:46<00:00,  3.31it/s]\n",
      "100%|██████████| 67/67 [00:20<00:00,  3.22it/s]\n",
      "100%|██████████| 18/18 [00:05<00:00,  3.28it/s]\n"
     ]
    },
    {
     "name": "stdout",
     "output_type": "stream",
     "text": [
      "Train loss: 0.15040473553442185\n",
      "Train consistency loss: 0.007087036348712533\n",
      "Validation loss: 0.3043001525931888\n",
      "1m 13s\n",
      "Early Stopping Counter = 4\n",
      "Epoch 166/300\n"
     ]
    },
    {
     "name": "stderr",
     "output_type": "stream",
     "text": [
      "100%|██████████| 155/155 [00:46<00:00,  3.34it/s]\n",
      "100%|██████████| 67/67 [00:21<00:00,  3.19it/s]\n",
      "100%|██████████| 18/18 [00:05<00:00,  3.26it/s]\n"
     ]
    },
    {
     "name": "stdout",
     "output_type": "stream",
     "text": [
      "Train loss: 0.1474998909138864\n",
      "Train consistency loss: 0.006641605038390453\n",
      "Validation loss: 0.3149777443872558\n",
      "1m 13s\n",
      "Consistency Loss declined to 0.006641605038390453\n",
      "Early Stopping Counter = 0\n",
      "Epoch 167/300\n"
     ]
    },
    {
     "name": "stderr",
     "output_type": "stream",
     "text": [
      "100%|██████████| 155/155 [00:46<00:00,  3.34it/s]\n",
      "100%|██████████| 67/67 [00:20<00:00,  3.22it/s]\n",
      "100%|██████████| 18/18 [00:05<00:00,  3.19it/s]\n"
     ]
    },
    {
     "name": "stdout",
     "output_type": "stream",
     "text": [
      "Train loss: 0.14559113291963455\n",
      "Train consistency loss: 0.006595352577712776\n",
      "Validation loss: 0.29277506636248696\n",
      "1m 13s\n",
      "Consistency Loss declined to 0.006595352577712776\n",
      "Early Stopping Counter = 0\n",
      "Epoch 168/300\n"
     ]
    },
    {
     "name": "stderr",
     "output_type": "stream",
     "text": [
      "100%|██████████| 155/155 [00:46<00:00,  3.32it/s]\n",
      "100%|██████████| 67/67 [00:20<00:00,  3.22it/s]\n",
      "100%|██████████| 18/18 [00:05<00:00,  3.26it/s]\n"
     ]
    },
    {
     "name": "stdout",
     "output_type": "stream",
     "text": [
      "Train loss: 0.14520493125723255\n",
      "Train consistency loss: 0.006856093968528865\n",
      "Validation loss: 0.29821009354458916\n",
      "1m 13s\n",
      "Early Stopping Counter = 1\n",
      "Epoch 169/300\n"
     ]
    },
    {
     "name": "stderr",
     "output_type": "stream",
     "text": [
      "100%|██████████| 155/155 [00:46<00:00,  3.34it/s]\n",
      "100%|██████████| 67/67 [00:21<00:00,  3.18it/s]\n",
      "100%|██████████| 18/18 [00:05<00:00,  3.28it/s]\n"
     ]
    },
    {
     "name": "stdout",
     "output_type": "stream",
     "text": [
      "Train loss: 0.1456835186289203\n",
      "Train consistency loss: 0.006439098535772802\n",
      "Validation loss: 0.29699239879846573\n",
      "1m 13s\n",
      "Consistency Loss declined to 0.006439098535772802\n",
      "Early Stopping Counter = 0\n",
      "Epoch 170/300\n"
     ]
    },
    {
     "name": "stderr",
     "output_type": "stream",
     "text": [
      "100%|██████████| 155/155 [00:46<00:00,  3.33it/s]\n",
      "100%|██████████| 67/67 [00:20<00:00,  3.22it/s]\n",
      "100%|██████████| 18/18 [00:05<00:00,  3.22it/s]\n"
     ]
    },
    {
     "name": "stdout",
     "output_type": "stream",
     "text": [
      "Train loss: 0.14491703130545155\n",
      "Train consistency loss: 0.007106835832263329\n",
      "Validation loss: 0.3014524040950669\n",
      "1m 13s\n",
      "Early Stopping Counter = 1\n",
      "Epoch 171/300\n"
     ]
    },
    {
     "name": "stderr",
     "output_type": "stream",
     "text": [
      "100%|██████████| 155/155 [00:46<00:00,  3.34it/s]\n",
      "100%|██████████| 67/67 [00:21<00:00,  3.18it/s]\n",
      "100%|██████████| 18/18 [00:05<00:00,  3.23it/s]\n"
     ]
    },
    {
     "name": "stdout",
     "output_type": "stream",
     "text": [
      "Train loss: 0.14424506132641146\n",
      "Train consistency loss: 0.00644495144639331\n",
      "Validation loss: 0.3102830458018515\n",
      "1m 13s\n",
      "Early Stopping Counter = 2\n",
      "Epoch 172/300\n"
     ]
    },
    {
     "name": "stderr",
     "output_type": "stream",
     "text": [
      "100%|██████████| 155/155 [00:46<00:00,  3.33it/s]\n",
      "100%|██████████| 67/67 [00:21<00:00,  3.18it/s]\n",
      "100%|██████████| 18/18 [00:05<00:00,  3.26it/s]\n"
     ]
    },
    {
     "name": "stdout",
     "output_type": "stream",
     "text": [
      "Train loss: 0.14425460359742565\n",
      "Train consistency loss: 0.006443661846109291\n",
      "Validation loss: 0.29785223056872684\n",
      "1m 13s\n",
      "Early Stopping Counter = 3\n",
      "Epoch 173/300\n"
     ]
    },
    {
     "name": "stderr",
     "output_type": "stream",
     "text": [
      "100%|██████████| 155/155 [00:46<00:00,  3.32it/s]\n",
      "100%|██████████| 67/67 [00:20<00:00,  3.21it/s]\n",
      "100%|██████████| 18/18 [00:05<00:00,  3.12it/s]\n"
     ]
    },
    {
     "name": "stdout",
     "output_type": "stream",
     "text": [
      "Train loss: 0.14507284524940675\n",
      "Train consistency loss: 0.006861101206975864\n",
      "Validation loss: 0.2981951841049724\n",
      "1m 13s\n",
      "Early Stopping Counter = 4\n",
      "Epoch 174/300\n"
     ]
    },
    {
     "name": "stderr",
     "output_type": "stream",
     "text": [
      "100%|██████████| 155/155 [00:46<00:00,  3.34it/s]\n",
      "100%|██████████| 67/67 [00:21<00:00,  3.18it/s]\n",
      "100%|██████████| 18/18 [00:05<00:00,  3.29it/s]\n"
     ]
    },
    {
     "name": "stdout",
     "output_type": "stream",
     "text": [
      "Train loss: 0.14367198184613258\n",
      "Train consistency loss: 0.0071898254830001\n",
      "Validation loss: 0.3073507986134953\n",
      "1m 13s\n",
      "Early Stopping Counter = 5\n",
      "Epoch 175/300\n"
     ]
    },
    {
     "name": "stderr",
     "output_type": "stream",
     "text": [
      "100%|██████████| 155/155 [00:46<00:00,  3.35it/s]\n",
      "100%|██████████| 67/67 [00:20<00:00,  3.19it/s]\n",
      "100%|██████████| 18/18 [00:05<00:00,  3.31it/s]\n"
     ]
    },
    {
     "name": "stdout",
     "output_type": "stream",
     "text": [
      "Train loss: 0.1438989844533705\n",
      "Train consistency loss: 0.006432262819204757\n",
      "Validation loss: 0.2938009268707699\n",
      "1m 13s\n",
      "Consistency Loss declined to 0.006432262819204757\n",
      "Early Stopping Counter = 0\n",
      "Epoch 176/300\n"
     ]
    },
    {
     "name": "stderr",
     "output_type": "stream",
     "text": [
      "100%|██████████| 155/155 [00:46<00:00,  3.34it/s]\n",
      "100%|██████████| 67/67 [00:20<00:00,  3.22it/s]\n",
      "100%|██████████| 18/18 [00:05<00:00,  3.37it/s]\n"
     ]
    },
    {
     "name": "stdout",
     "output_type": "stream",
     "text": [
      "Train loss: 0.1419670136224839\n",
      "Train consistency loss: 0.006272612118732129\n",
      "Validation loss: 0.30798281812005573\n",
      "1m 13s\n",
      "Consistency Loss declined to 0.006272612118732129\n",
      "Early Stopping Counter = 0\n",
      "Epoch 177/300\n"
     ]
    },
    {
     "name": "stderr",
     "output_type": "stream",
     "text": [
      "100%|██████████| 155/155 [00:46<00:00,  3.31it/s]\n",
      "100%|██████████| 67/67 [00:20<00:00,  3.23it/s]\n",
      "100%|██████████| 18/18 [00:05<00:00,  3.26it/s]\n"
     ]
    },
    {
     "name": "stdout",
     "output_type": "stream",
     "text": [
      "Train loss: 0.14282378544730526\n",
      "Train consistency loss: 0.00677839551927216\n",
      "Validation loss: 0.28968945890665054\n",
      "1m 13s\n",
      "Early Stopping Counter = 1\n",
      "Epoch 178/300\n"
     ]
    },
    {
     "name": "stderr",
     "output_type": "stream",
     "text": [
      "100%|██████████| 155/155 [00:46<00:00,  3.35it/s]\n",
      "100%|██████████| 67/67 [00:20<00:00,  3.19it/s]\n",
      "100%|██████████| 18/18 [00:05<00:00,  3.21it/s]\n"
     ]
    },
    {
     "name": "stdout",
     "output_type": "stream",
     "text": [
      "Train loss: 0.14310100155491984\n",
      "Train consistency loss: 0.006075319587322536\n",
      "Validation loss: 0.30299346728457344\n",
      "1m 13s\n",
      "Consistency Loss declined to 0.006075319587322536\n",
      "Early Stopping Counter = 0\n",
      "Epoch 179/300\n"
     ]
    },
    {
     "name": "stderr",
     "output_type": "stream",
     "text": [
      "100%|██████████| 155/155 [00:46<00:00,  3.33it/s]\n",
      "100%|██████████| 67/67 [00:20<00:00,  3.22it/s]\n",
      "100%|██████████| 18/18 [00:05<00:00,  3.24it/s]\n"
     ]
    },
    {
     "name": "stdout",
     "output_type": "stream",
     "text": [
      "Train loss: 0.14217993506500798\n",
      "Train consistency loss: 0.006599469405751842\n",
      "Validation loss: 0.29992469565735924\n",
      "1m 13s\n",
      "Early Stopping Counter = 1\n",
      "Epoch 180/300\n"
     ]
    },
    {
     "name": "stderr",
     "output_type": "stream",
     "text": [
      "100%|██████████| 155/155 [00:46<00:00,  3.35it/s]\n",
      "100%|██████████| 67/67 [00:21<00:00,  3.18it/s]\n",
      "100%|██████████| 18/18 [00:05<00:00,  3.21it/s]\n"
     ]
    },
    {
     "name": "stdout",
     "output_type": "stream",
     "text": [
      "Train loss: 0.1418764977205184\n",
      "Train consistency loss: 0.006210200589344795\n",
      "Validation loss: 0.28154612456758815\n",
      "1m 13s\n",
      "Early Stopping Counter = 2\n",
      "Epoch 181/300\n"
     ]
    },
    {
     "name": "stderr",
     "output_type": "stream",
     "text": [
      "100%|██████████| 155/155 [00:46<00:00,  3.34it/s]\n",
      "100%|██████████| 67/67 [00:21<00:00,  3.18it/s]\n",
      "100%|██████████| 18/18 [00:05<00:00,  3.30it/s]\n"
     ]
    },
    {
     "name": "stdout",
     "output_type": "stream",
     "text": [
      "Train loss: 0.1416517390839515\n",
      "Train consistency loss: 0.006651336924909656\n",
      "Validation loss: 0.3137502943476041\n",
      "1m 13s\n",
      "Early Stopping Counter = 3\n",
      "Epoch 182/300\n"
     ]
    },
    {
     "name": "stderr",
     "output_type": "stream",
     "text": [
      "100%|██████████| 155/155 [00:46<00:00,  3.33it/s]\n",
      "100%|██████████| 67/67 [00:21<00:00,  3.18it/s]\n",
      "100%|██████████| 18/18 [00:05<00:00,  3.22it/s]\n"
     ]
    },
    {
     "name": "stdout",
     "output_type": "stream",
     "text": [
      "Train loss: 0.14207991938437184\n",
      "Train consistency loss: 0.005778750418615875\n",
      "Validation loss: 0.2943331164618333\n",
      "1m 13s\n",
      "Consistency Loss declined to 0.005778750418615875\n",
      "Early Stopping Counter = 0\n",
      "Epoch 183/300\n"
     ]
    },
    {
     "name": "stderr",
     "output_type": "stream",
     "text": [
      "100%|██████████| 155/155 [00:46<00:00,  3.34it/s]\n",
      "100%|██████████| 67/67 [00:21<00:00,  3.16it/s]\n",
      "100%|██████████| 18/18 [00:05<00:00,  3.25it/s]\n"
     ]
    },
    {
     "name": "stdout",
     "output_type": "stream",
     "text": [
      "Train loss: 0.14050655667820283\n",
      "Train consistency loss: 0.006017037066144508\n",
      "Validation loss: 0.28714822770820725\n",
      "1m 13s\n",
      "Early Stopping Counter = 1\n",
      "Epoch 184/300\n"
     ]
    },
    {
     "name": "stderr",
     "output_type": "stream",
     "text": [
      "100%|██████████| 155/155 [00:46<00:00,  3.31it/s]\n",
      "100%|██████████| 67/67 [00:20<00:00,  3.22it/s]\n",
      "100%|██████████| 18/18 [00:05<00:00,  3.20it/s]\n"
     ]
    },
    {
     "name": "stdout",
     "output_type": "stream",
     "text": [
      "Train loss: 0.14051352556674712\n",
      "Train consistency loss: 0.0062352691415641735\n",
      "Validation loss: 0.2887614609466659\n",
      "1m 13s\n",
      "Early Stopping Counter = 2\n",
      "Epoch 185/300\n"
     ]
    },
    {
     "name": "stderr",
     "output_type": "stream",
     "text": [
      "100%|██████████| 155/155 [00:46<00:00,  3.34it/s]\n",
      "100%|██████████| 67/67 [00:21<00:00,  3.18it/s]\n",
      "100%|██████████| 18/18 [00:05<00:00,  3.22it/s]\n"
     ]
    },
    {
     "name": "stdout",
     "output_type": "stream",
     "text": [
      "Train loss: 0.14032452327589834\n",
      "Train consistency loss: 0.006146488693862486\n",
      "Validation loss: 0.32165099680423737\n",
      "1m 13s\n",
      "Early Stopping Counter = 3\n",
      "Epoch 186/300\n"
     ]
    },
    {
     "name": "stderr",
     "output_type": "stream",
     "text": [
      "100%|██████████| 155/155 [00:46<00:00,  3.33it/s]\n",
      "100%|██████████| 67/67 [00:20<00:00,  3.22it/s]\n",
      "100%|██████████| 18/18 [00:05<00:00,  3.25it/s]\n"
     ]
    },
    {
     "name": "stdout",
     "output_type": "stream",
     "text": [
      "Train loss: 0.13991585027786993\n",
      "Train consistency loss: 0.006274383855677808\n",
      "Validation loss: 0.2973461416032579\n",
      "1m 13s\n",
      "Early Stopping Counter = 4\n",
      "Epoch 187/300\n"
     ]
    },
    {
     "name": "stderr",
     "output_type": "stream",
     "text": [
      "100%|██████████| 155/155 [00:46<00:00,  3.36it/s]\n",
      "100%|██████████| 67/67 [00:20<00:00,  3.20it/s]\n",
      "100%|██████████| 18/18 [00:05<00:00,  3.14it/s]\n"
     ]
    },
    {
     "name": "stdout",
     "output_type": "stream",
     "text": [
      "Train loss: 0.13961766342962942\n",
      "Train consistency loss: 0.005578210525242473\n",
      "Validation loss: 0.29186153494649464\n",
      "1m 13s\n",
      "Consistency Loss declined to 0.005578210525242473\n",
      "Early Stopping Counter = 0\n",
      "Epoch 188/300\n"
     ]
    },
    {
     "name": "stderr",
     "output_type": "stream",
     "text": [
      "100%|██████████| 155/155 [00:46<00:00,  3.34it/s]\n",
      "100%|██████████| 67/67 [00:20<00:00,  3.22it/s]\n",
      "100%|██████████| 18/18 [00:05<00:00,  3.25it/s]\n"
     ]
    },
    {
     "name": "stdout",
     "output_type": "stream",
     "text": [
      "Train loss: 0.1398806899305313\n",
      "Train consistency loss: 0.00582764647317244\n",
      "Validation loss: 0.3070513779918353\n",
      "1m 13s\n",
      "Early Stopping Counter = 1\n",
      "Epoch 189/300\n"
     ]
    },
    {
     "name": "stderr",
     "output_type": "stream",
     "text": [
      "100%|██████████| 155/155 [00:46<00:00,  3.34it/s]\n",
      "100%|██████████| 67/67 [00:20<00:00,  3.22it/s]\n",
      "100%|██████████| 18/18 [00:05<00:00,  3.23it/s]\n"
     ]
    },
    {
     "name": "stdout",
     "output_type": "stream",
     "text": [
      "Train loss: 0.13990320505634432\n",
      "Train consistency loss: 0.0054602715840090564\n",
      "Validation loss: 0.29032331249780124\n",
      "1m 13s\n",
      "Consistency Loss declined to 0.0054602715840090564\n",
      "Early Stopping Counter = 0\n",
      "Epoch 190/300\n"
     ]
    },
    {
     "name": "stderr",
     "output_type": "stream",
     "text": [
      "100%|██████████| 155/155 [00:46<00:00,  3.32it/s]\n",
      "100%|██████████| 67/67 [00:20<00:00,  3.21it/s]\n",
      "100%|██████████| 18/18 [00:05<00:00,  3.27it/s]\n"
     ]
    },
    {
     "name": "stdout",
     "output_type": "stream",
     "text": [
      "Train loss: 0.13816892105725503\n",
      "Train consistency loss: 0.005697310790975592\n",
      "Validation loss: 0.29328604063226116\n",
      "1m 13s\n",
      "Early Stopping Counter = 1\n",
      "Epoch 191/300\n"
     ]
    },
    {
     "name": "stderr",
     "output_type": "stream",
     "text": [
      "100%|██████████| 155/155 [00:46<00:00,  3.33it/s]\n",
      "100%|██████████| 67/67 [00:21<00:00,  3.16it/s]\n",
      "100%|██████████| 18/18 [00:05<00:00,  3.33it/s]\n"
     ]
    },
    {
     "name": "stdout",
     "output_type": "stream",
     "text": [
      "Train loss: 0.13780184301637835\n",
      "Train consistency loss: 0.005575118878328089\n",
      "Validation loss: 0.2914506946172979\n",
      "1m 13s\n",
      "Early Stopping Counter = 2\n",
      "Epoch 192/300\n"
     ]
    },
    {
     "name": "stderr",
     "output_type": "stream",
     "text": [
      "100%|██████████| 155/155 [00:46<00:00,  3.32it/s]\n",
      "100%|██████████| 67/67 [00:21<00:00,  3.19it/s]\n",
      "100%|██████████| 18/18 [00:05<00:00,  3.26it/s]\n"
     ]
    },
    {
     "name": "stdout",
     "output_type": "stream",
     "text": [
      "Train loss: 0.13714978372858416\n",
      "Train consistency loss: 0.0055520754279707795\n",
      "Validation loss: 0.2974934097793367\n",
      "1m 13s\n",
      "Early Stopping Counter = 3\n",
      "Epoch 193/300\n"
     ]
    },
    {
     "name": "stderr",
     "output_type": "stream",
     "text": [
      "100%|██████████| 155/155 [00:46<00:00,  3.36it/s]\n",
      "100%|██████████| 67/67 [00:21<00:00,  3.18it/s]\n",
      "100%|██████████| 18/18 [00:05<00:00,  3.21it/s]\n"
     ]
    },
    {
     "name": "stdout",
     "output_type": "stream",
     "text": [
      "Train loss: 0.13754682786041691\n",
      "Train consistency loss: 0.005518805562282231\n",
      "Validation loss: 0.29177674320009017\n",
      "1m 13s\n",
      "Early Stopping Counter = 4\n",
      "Epoch 194/300\n"
     ]
    },
    {
     "name": "stderr",
     "output_type": "stream",
     "text": [
      "100%|██████████| 155/155 [00:46<00:00,  3.33it/s]\n",
      "100%|██████████| 67/67 [00:21<00:00,  3.16it/s]\n",
      "100%|██████████| 18/18 [00:05<00:00,  3.27it/s]\n"
     ]
    },
    {
     "name": "stdout",
     "output_type": "stream",
     "text": [
      "Train loss: 0.13793589535259432\n",
      "Train consistency loss: 0.005434918133958952\n",
      "Validation loss: 0.29480318994157845\n",
      "1m 13s\n",
      "Consistency Loss declined to 0.005434918133958952\n",
      "Early Stopping Counter = 0\n",
      "Epoch 195/300\n"
     ]
    },
    {
     "name": "stderr",
     "output_type": "stream",
     "text": [
      "100%|██████████| 155/155 [00:46<00:00,  3.32it/s]\n",
      "100%|██████████| 67/67 [00:20<00:00,  3.21it/s]\n",
      "100%|██████████| 18/18 [00:05<00:00,  3.28it/s]\n"
     ]
    },
    {
     "name": "stdout",
     "output_type": "stream",
     "text": [
      "Train loss: 0.13651391878243416\n",
      "Train consistency loss: 0.00526384369178272\n",
      "Validation loss: 0.2920519486069679\n",
      "1m 13s\n",
      "Consistency Loss declined to 0.00526384369178272\n",
      "Early Stopping Counter = 0\n",
      "Epoch 196/300\n"
     ]
    },
    {
     "name": "stderr",
     "output_type": "stream",
     "text": [
      "100%|██████████| 155/155 [00:46<00:00,  3.32it/s]\n",
      "100%|██████████| 67/67 [00:20<00:00,  3.21it/s]\n",
      "100%|██████████| 18/18 [00:05<00:00,  3.26it/s]\n"
     ]
    },
    {
     "name": "stdout",
     "output_type": "stream",
     "text": [
      "Train loss: 0.13742505783034908\n",
      "Train consistency loss: 0.005408893872761348\n",
      "Validation loss: 0.2793677314702008\n",
      "1m 13s\n",
      "Early Stopping Counter = 1\n",
      "Epoch 197/300\n"
     ]
    },
    {
     "name": "stderr",
     "output_type": "stream",
     "text": [
      "100%|██████████| 155/155 [00:46<00:00,  3.33it/s]\n",
      "100%|██████████| 67/67 [00:21<00:00,  3.18it/s]\n",
      "100%|██████████| 18/18 [00:05<00:00,  3.23it/s]\n"
     ]
    },
    {
     "name": "stdout",
     "output_type": "stream",
     "text": [
      "Train loss: 0.13654660005723276\n",
      "Train consistency loss: 0.005064338883524065\n",
      "Validation loss: 0.2891572130223115\n",
      "1m 13s\n",
      "Consistency Loss declined to 0.005064338883524065\n",
      "Early Stopping Counter = 0\n",
      "Epoch 198/300\n"
     ]
    },
    {
     "name": "stderr",
     "output_type": "stream",
     "text": [
      "100%|██████████| 155/155 [00:46<00:00,  3.31it/s]\n",
      "100%|██████████| 67/67 [00:20<00:00,  3.20it/s]\n",
      "100%|██████████| 18/18 [00:05<00:00,  3.11it/s]\n"
     ]
    },
    {
     "name": "stdout",
     "output_type": "stream",
     "text": [
      "Train loss: 0.13525591108106796\n",
      "Train consistency loss: 0.017784966100285304\n",
      "Validation loss: 0.31903014663192963\n",
      "1m 14s\n",
      "Early Stopping Counter = 1\n",
      "Epoch 199/300\n"
     ]
    },
    {
     "name": "stderr",
     "output_type": "stream",
     "text": [
      "100%|██████████| 155/155 [00:46<00:00,  3.32it/s]\n",
      "100%|██████████| 67/67 [00:21<00:00,  3.19it/s]\n",
      "100%|██████████| 18/18 [00:05<00:00,  3.22it/s]\n"
     ]
    },
    {
     "name": "stdout",
     "output_type": "stream",
     "text": [
      "Train loss: 0.14441218087750096\n",
      "Train consistency loss: 0.0061915614954960434\n",
      "Validation loss: 0.29489951787723434\n",
      "1m 13s\n",
      "Early Stopping Counter = 2\n",
      "Epoch 200/300\n"
     ]
    },
    {
     "name": "stderr",
     "output_type": "stream",
     "text": [
      "100%|██████████| 155/155 [00:46<00:00,  3.32it/s]\n",
      "100%|██████████| 67/67 [00:21<00:00,  3.19it/s]\n",
      "100%|██████████| 18/18 [00:05<00:00,  3.24it/s]\n"
     ]
    },
    {
     "name": "stdout",
     "output_type": "stream",
     "text": [
      "Train loss: 0.13638790547847748\n",
      "Train consistency loss: 0.005624810793200758\n",
      "Validation loss: 0.2773801237344742\n",
      "1m 13s\n",
      "Early Stopping Counter = 3\n",
      "Epoch 201/300\n"
     ]
    },
    {
     "name": "stderr",
     "output_type": "stream",
     "text": [
      "100%|██████████| 155/155 [00:46<00:00,  3.33it/s]\n",
      "100%|██████████| 67/67 [00:20<00:00,  3.20it/s]\n",
      "100%|██████████| 18/18 [00:05<00:00,  3.34it/s]\n"
     ]
    },
    {
     "name": "stdout",
     "output_type": "stream",
     "text": [
      "Train loss: 0.13494543904258358\n",
      "Train consistency loss: 0.006006562199665984\n",
      "Validation loss: 0.2949827156133122\n",
      "1m 13s\n",
      "Early Stopping Counter = 4\n",
      "Epoch 202/300\n"
     ]
    },
    {
     "name": "stderr",
     "output_type": "stream",
     "text": [
      "100%|██████████| 155/155 [00:46<00:00,  3.34it/s]\n",
      "100%|██████████| 67/67 [00:20<00:00,  3.22it/s]\n",
      "100%|██████████| 18/18 [00:05<00:00,  3.27it/s]\n"
     ]
    },
    {
     "name": "stdout",
     "output_type": "stream",
     "text": [
      "Train loss: 0.13605216236845138\n",
      "Train consistency loss: 0.005264831467100711\n",
      "Validation loss: 0.30139046245151097\n",
      "1m 13s\n",
      "Early Stopping Counter = 5\n",
      "Epoch 203/300\n"
     ]
    },
    {
     "name": "stderr",
     "output_type": "stream",
     "text": [
      "100%|██████████| 155/155 [00:46<00:00,  3.35it/s]\n",
      "100%|██████████| 67/67 [00:20<00:00,  3.22it/s]\n",
      "100%|██████████| 18/18 [00:05<00:00,  3.25it/s]\n"
     ]
    },
    {
     "name": "stdout",
     "output_type": "stream",
     "text": [
      "Train loss: 0.13440953161447278\n",
      "Train consistency loss: 0.004859536354527322\n",
      "Validation loss: 0.31069406846331227\n",
      "1m 13s\n",
      "Consistency Loss declined to 0.004859536354527322\n",
      "Early Stopping Counter = 0\n",
      "Epoch 204/300\n"
     ]
    },
    {
     "name": "stderr",
     "output_type": "stream",
     "text": [
      "100%|██████████| 155/155 [00:46<00:00,  3.31it/s]\n",
      "100%|██████████| 67/67 [00:20<00:00,  3.22it/s]\n",
      "100%|██████████| 18/18 [00:05<00:00,  3.29it/s]\n"
     ]
    },
    {
     "name": "stdout",
     "output_type": "stream",
     "text": [
      "Train loss: 0.13473994736709902\n",
      "Train consistency loss: 0.0048634969775300865\n",
      "Validation loss: 0.28746455307636\n",
      "1m 13s\n",
      "Early Stopping Counter = 1\n",
      "Epoch 205/300\n"
     ]
    },
    {
     "name": "stderr",
     "output_type": "stream",
     "text": [
      "100%|██████████| 155/155 [00:46<00:00,  3.34it/s]\n",
      "100%|██████████| 67/67 [00:21<00:00,  3.18it/s]\n",
      "100%|██████████| 18/18 [00:05<00:00,  3.28it/s]\n"
     ]
    },
    {
     "name": "stdout",
     "output_type": "stream",
     "text": [
      "Train loss: 0.13406044787937596\n",
      "Train consistency loss: 0.004859229127542853\n",
      "Validation loss: 0.2974715332190196\n",
      "1m 13s\n",
      "Consistency Loss declined to 0.004859229127542853\n",
      "Early Stopping Counter = 0\n",
      "Epoch 206/300\n"
     ]
    },
    {
     "name": "stderr",
     "output_type": "stream",
     "text": [
      "100%|██████████| 155/155 [00:46<00:00,  3.34it/s]\n",
      "100%|██████████| 67/67 [00:20<00:00,  3.21it/s]\n",
      "100%|██████████| 18/18 [00:05<00:00,  3.23it/s]\n"
     ]
    },
    {
     "name": "stdout",
     "output_type": "stream",
     "text": [
      "Train loss: 0.13331026526228074\n",
      "Train consistency loss: 0.0050902751521137895\n",
      "Validation loss: 0.29543038705984753\n",
      "1m 13s\n",
      "Early Stopping Counter = 1\n",
      "Epoch 207/300\n"
     ]
    },
    {
     "name": "stderr",
     "output_type": "stream",
     "text": [
      "100%|██████████| 155/155 [00:46<00:00,  3.34it/s]\n",
      "100%|██████████| 67/67 [00:21<00:00,  3.16it/s]\n",
      "100%|██████████| 18/18 [00:05<00:00,  3.28it/s]\n"
     ]
    },
    {
     "name": "stdout",
     "output_type": "stream",
     "text": [
      "Train loss: 0.134057205723178\n",
      "Train consistency loss: 0.0050348713333760176\n",
      "Validation loss: 0.29707360329727334\n",
      "1m 13s\n",
      "Early Stopping Counter = 2\n",
      "Epoch 208/300\n"
     ]
    },
    {
     "name": "stderr",
     "output_type": "stream",
     "text": [
      "100%|██████████| 155/155 [00:46<00:00,  3.33it/s]\n",
      "100%|██████████| 67/67 [00:21<00:00,  3.17it/s]\n",
      "100%|██████████| 18/18 [00:05<00:00,  3.24it/s]\n"
     ]
    },
    {
     "name": "stdout",
     "output_type": "stream",
     "text": [
      "Train loss: 0.1328895539045334\n",
      "Train consistency loss: 0.0051098482843154845\n",
      "Validation loss: 0.304937476085292\n",
      "1m 13s\n",
      "Early Stopping Counter = 3\n",
      "Epoch 209/300\n"
     ]
    },
    {
     "name": "stderr",
     "output_type": "stream",
     "text": [
      "100%|██████████| 155/155 [00:46<00:00,  3.34it/s]\n",
      "100%|██████████| 67/67 [00:21<00:00,  3.18it/s]\n",
      "100%|██████████| 18/18 [00:05<00:00,  3.29it/s]\n"
     ]
    },
    {
     "name": "stdout",
     "output_type": "stream",
     "text": [
      "Train loss: 0.1332855087134146\n",
      "Train consistency loss: 0.005118815482024159\n",
      "Validation loss: 0.27866948023438454\n",
      "1m 13s\n",
      "Early Stopping Counter = 4\n",
      "Epoch 210/300\n"
     ]
    },
    {
     "name": "stderr",
     "output_type": "stream",
     "text": [
      "100%|██████████| 155/155 [00:46<00:00,  3.31it/s]\n",
      "100%|██████████| 67/67 [00:20<00:00,  3.23it/s]\n",
      "100%|██████████| 18/18 [00:05<00:00,  3.28it/s]\n"
     ]
    },
    {
     "name": "stdout",
     "output_type": "stream",
     "text": [
      "Train loss: 0.13244028274090058\n",
      "Train consistency loss: 0.004607401423350866\n",
      "Validation loss: 0.3006921580268277\n",
      "1m 13s\n",
      "Consistency Loss declined to 0.004607401423350866\n",
      "Early Stopping Counter = 0\n",
      "Epoch 211/300\n"
     ]
    },
    {
     "name": "stderr",
     "output_type": "stream",
     "text": [
      "100%|██████████| 155/155 [00:46<00:00,  3.33it/s]\n",
      "100%|██████████| 67/67 [00:20<00:00,  3.23it/s]\n",
      "100%|██████████| 18/18 [00:05<00:00,  3.25it/s]\n"
     ]
    },
    {
     "name": "stdout",
     "output_type": "stream",
     "text": [
      "Train loss: 0.13204327557356127\n",
      "Train consistency loss: 0.004865824818305338\n",
      "Validation loss: 0.2915391843352053\n",
      "1m 13s\n",
      "Early Stopping Counter = 1\n",
      "Epoch 212/300\n"
     ]
    },
    {
     "name": "stderr",
     "output_type": "stream",
     "text": [
      "100%|██████████| 155/155 [00:46<00:00,  3.34it/s]\n",
      "100%|██████████| 67/67 [00:21<00:00,  3.19it/s]\n",
      "100%|██████████| 18/18 [00:05<00:00,  3.34it/s]\n"
     ]
    },
    {
     "name": "stdout",
     "output_type": "stream",
     "text": [
      "Train loss: 0.132133564497194\n",
      "Train consistency loss: 0.005593866893479517\n",
      "Validation loss: 0.2993612198366059\n",
      "1m 13s\n",
      "Early Stopping Counter = 2\n",
      "Epoch 213/300\n"
     ]
    },
    {
     "name": "stderr",
     "output_type": "stream",
     "text": [
      "100%|██████████| 155/155 [00:46<00:00,  3.34it/s]\n",
      "100%|██████████| 67/67 [00:21<00:00,  3.19it/s]\n",
      "100%|██████████| 18/18 [00:05<00:00,  3.27it/s]\n"
     ]
    },
    {
     "name": "stdout",
     "output_type": "stream",
     "text": [
      "Train loss: 0.13215467583748602\n",
      "Train consistency loss: 0.004688420322542982\n",
      "Validation loss: 0.28876684254242313\n",
      "1m 13s\n",
      "Early Stopping Counter = 3\n",
      "Epoch 214/300\n"
     ]
    },
    {
     "name": "stderr",
     "output_type": "stream",
     "text": [
      "100%|██████████| 155/155 [00:46<00:00,  3.33it/s]\n",
      "100%|██████████| 67/67 [00:21<00:00,  3.18it/s]\n",
      "100%|██████████| 18/18 [00:05<00:00,  3.20it/s]\n"
     ]
    },
    {
     "name": "stdout",
     "output_type": "stream",
     "text": [
      "Train loss: 0.13170942399770982\n",
      "Train consistency loss: 0.004645340137684078\n",
      "Validation loss: 0.2968554240134027\n",
      "1m 13s\n",
      "Early Stopping Counter = 4\n",
      "Epoch 215/300\n"
     ]
    },
    {
     "name": "stderr",
     "output_type": "stream",
     "text": [
      "100%|██████████| 155/155 [00:46<00:00,  3.32it/s]\n",
      "100%|██████████| 67/67 [00:20<00:00,  3.22it/s]\n",
      "100%|██████████| 18/18 [00:05<00:00,  3.30it/s]\n"
     ]
    },
    {
     "name": "stdout",
     "output_type": "stream",
     "text": [
      "Train loss: 0.1310745328184097\n",
      "Train consistency loss: 0.006903751927024838\n",
      "Validation loss: 0.33726149631871116\n",
      "1m 13s\n",
      "Early Stopping Counter = 5\n",
      "Epoch 216/300\n"
     ]
    },
    {
     "name": "stderr",
     "output_type": "stream",
     "text": [
      "100%|██████████| 155/155 [00:46<00:00,  3.33it/s]\n",
      "100%|██████████| 67/67 [00:21<00:00,  3.17it/s]\n",
      "100%|██████████| 18/18 [00:05<00:00,  3.24it/s]\n"
     ]
    },
    {
     "name": "stdout",
     "output_type": "stream",
     "text": [
      "Train loss: 0.132744466825839\n",
      "Train consistency loss: 0.0047993975232786205\n",
      "Validation loss: 0.2902588090962834\n",
      "1m 13s\n",
      "Early Stopping Counter = 6\n",
      "Epoch 217/300\n"
     ]
    },
    {
     "name": "stderr",
     "output_type": "stream",
     "text": [
      "100%|██████████| 155/155 [00:46<00:00,  3.33it/s]\n",
      "100%|██████████| 67/67 [00:21<00:00,  3.19it/s]\n",
      "100%|██████████| 18/18 [00:05<00:00,  3.23it/s]\n"
     ]
    },
    {
     "name": "stdout",
     "output_type": "stream",
     "text": [
      "Train loss: 0.13131668875294347\n",
      "Train consistency loss: 0.004882869157773345\n",
      "Validation loss: 0.2947271391749382\n",
      "1m 13s\n",
      "Early Stopping Counter = 7\n",
      "Epoch 218/300\n"
     ]
    },
    {
     "name": "stderr",
     "output_type": "stream",
     "text": [
      "100%|██████████| 155/155 [00:46<00:00,  3.33it/s]\n",
      "100%|██████████| 67/67 [00:21<00:00,  3.17it/s]\n",
      "100%|██████████| 18/18 [00:05<00:00,  3.31it/s]\n"
     ]
    },
    {
     "name": "stdout",
     "output_type": "stream",
     "text": [
      "Train loss: 0.13132870625103674\n",
      "Train consistency loss: 0.004935276197658768\n",
      "Validation loss: 0.29954753236638176\n",
      "1m 13s\n",
      "Early Stopping Counter = 8\n",
      "Epoch 219/300\n"
     ]
    },
    {
     "name": "stderr",
     "output_type": "stream",
     "text": [
      "100%|██████████| 155/155 [00:46<00:00,  3.32it/s]\n",
      "100%|██████████| 67/67 [00:20<00:00,  3.22it/s]\n",
      "100%|██████████| 18/18 [00:05<00:00,  3.27it/s]\n"
     ]
    },
    {
     "name": "stdout",
     "output_type": "stream",
     "text": [
      "Train loss: 0.13007684229843078\n",
      "Train consistency loss: 0.00431796249155122\n",
      "Validation loss: 0.2944313809275627\n",
      "1m 13s\n",
      "Consistency Loss declined to 0.00431796249155122\n",
      "Early Stopping Counter = 0\n",
      "Epoch 220/300\n"
     ]
    },
    {
     "name": "stderr",
     "output_type": "stream",
     "text": [
      "100%|██████████| 155/155 [00:46<00:00,  3.32it/s]\n",
      "100%|██████████| 67/67 [00:20<00:00,  3.22it/s]\n",
      "100%|██████████| 18/18 [00:05<00:00,  3.22it/s]\n"
     ]
    },
    {
     "name": "stdout",
     "output_type": "stream",
     "text": [
      "Train loss: 0.13013260412600733\n",
      "Train consistency loss: 0.004593618128990838\n",
      "Validation loss: 0.29736638276113403\n",
      "1m 13s\n",
      "Early Stopping Counter = 1\n",
      "Epoch 221/300\n"
     ]
    },
    {
     "name": "stderr",
     "output_type": "stream",
     "text": [
      "100%|██████████| 155/155 [00:46<00:00,  3.34it/s]\n",
      "100%|██████████| 67/67 [00:21<00:00,  3.18it/s]\n",
      "100%|██████████| 18/18 [00:05<00:00,  3.26it/s]\n"
     ]
    },
    {
     "name": "stdout",
     "output_type": "stream",
     "text": [
      "Train loss: 0.12923981191650513\n",
      "Train consistency loss: 0.0046112959780521805\n",
      "Validation loss: 0.3039422167672051\n",
      "1m 13s\n",
      "Early Stopping Counter = 2\n",
      "Epoch 222/300\n"
     ]
    },
    {
     "name": "stderr",
     "output_type": "stream",
     "text": [
      "100%|██████████| 155/155 [00:46<00:00,  3.34it/s]\n",
      "100%|██████████| 67/67 [00:21<00:00,  3.19it/s]\n",
      "100%|██████████| 18/18 [00:05<00:00,  3.27it/s]\n"
     ]
    },
    {
     "name": "stdout",
     "output_type": "stream",
     "text": [
      "Train loss: 0.12956740072657985\n",
      "Train consistency loss: 0.005353860727358443\n",
      "Validation loss: 0.29075400965909165\n",
      "1m 13s\n",
      "Early Stopping Counter = 3\n",
      "Epoch 223/300\n"
     ]
    },
    {
     "name": "stderr",
     "output_type": "stream",
     "text": [
      "100%|██████████| 155/155 [00:46<00:00,  3.33it/s]\n",
      "100%|██████████| 67/67 [00:21<00:00,  3.18it/s]\n",
      "100%|██████████| 18/18 [00:05<00:00,  3.27it/s]\n"
     ]
    },
    {
     "name": "stdout",
     "output_type": "stream",
     "text": [
      "Train loss: 0.1295763867035989\n",
      "Train consistency loss: 0.004635917922871104\n",
      "Validation loss: 0.2946324534714222\n",
      "1m 13s\n",
      "Early Stopping Counter = 4\n",
      "Epoch 224/300\n"
     ]
    },
    {
     "name": "stderr",
     "output_type": "stream",
     "text": [
      "100%|██████████| 155/155 [00:46<00:00,  3.32it/s]\n",
      "100%|██████████| 67/67 [00:20<00:00,  3.22it/s]\n",
      "100%|██████████| 18/18 [00:05<00:00,  3.31it/s]\n"
     ]
    },
    {
     "name": "stdout",
     "output_type": "stream",
     "text": [
      "Train loss: 0.12929372311599793\n",
      "Train consistency loss: 0.00501340319777825\n",
      "Validation loss: 0.31592832174566055\n",
      "1m 13s\n",
      "Early Stopping Counter = 5\n",
      "Epoch 225/300\n"
     ]
    },
    {
     "name": "stderr",
     "output_type": "stream",
     "text": [
      "100%|██████████| 155/155 [00:46<00:00,  3.33it/s]\n",
      "100%|██████████| 67/67 [00:21<00:00,  3.17it/s]\n",
      "100%|██████████| 18/18 [00:05<00:00,  3.24it/s]\n"
     ]
    },
    {
     "name": "stdout",
     "output_type": "stream",
     "text": [
      "Train loss: 0.12911062346350763\n",
      "Train consistency loss: 0.005023008089081676\n",
      "Validation loss: 0.30888009981976616\n",
      "1m 13s\n",
      "Early Stopping Counter = 6\n",
      "Epoch 226/300\n"
     ]
    },
    {
     "name": "stderr",
     "output_type": "stream",
     "text": [
      "100%|██████████| 155/155 [00:46<00:00,  3.33it/s]\n",
      "100%|██████████| 67/67 [00:21<00:00,  3.18it/s]\n",
      "100%|██████████| 18/18 [00:05<00:00,  3.25it/s]\n"
     ]
    },
    {
     "name": "stdout",
     "output_type": "stream",
     "text": [
      "Train loss: 0.13100095497023675\n",
      "Train consistency loss: 0.004438009580472179\n",
      "Validation loss: 0.30763648947079975\n",
      "1m 13s\n",
      "Early Stopping Counter = 7\n",
      "Epoch 227/300\n"
     ]
    },
    {
     "name": "stderr",
     "output_type": "stream",
     "text": [
      "100%|██████████| 155/155 [00:46<00:00,  3.33it/s]\n",
      "100%|██████████| 67/67 [00:21<00:00,  3.18it/s]\n",
      "100%|██████████| 18/18 [00:05<00:00,  3.25it/s]\n"
     ]
    },
    {
     "name": "stdout",
     "output_type": "stream",
     "text": [
      "Train loss: 0.1281491295464577\n",
      "Train consistency loss: 0.004353367170986177\n",
      "Validation loss: 0.2969049732718203\n",
      "1m 13s\n",
      "Early Stopping Counter = 8\n",
      "Epoch 228/300\n"
     ]
    },
    {
     "name": "stderr",
     "output_type": "stream",
     "text": [
      "100%|██████████| 155/155 [00:47<00:00,  3.29it/s]\n",
      "100%|██████████| 67/67 [00:20<00:00,  3.21it/s]\n",
      "100%|██████████| 18/18 [00:05<00:00,  3.28it/s]\n"
     ]
    },
    {
     "name": "stdout",
     "output_type": "stream",
     "text": [
      "Train loss: 0.12781891880496857\n",
      "Train consistency loss: 0.004500352933919474\n",
      "Validation loss: 0.29701406363811755\n",
      "1m 13s\n",
      "Early Stopping Counter = 9\n",
      "Epoch 229/300\n"
     ]
    },
    {
     "name": "stderr",
     "output_type": "stream",
     "text": [
      "100%|██████████| 155/155 [00:46<00:00,  3.34it/s]\n",
      "100%|██████████| 67/67 [00:21<00:00,  3.19it/s]\n",
      "100%|██████████| 18/18 [00:05<00:00,  3.22it/s]\n"
     ]
    },
    {
     "name": "stdout",
     "output_type": "stream",
     "text": [
      "Train loss: 0.1269804669003333\n",
      "Train consistency loss: 0.005220784135023827\n",
      "Validation loss: 0.30179395029942196\n",
      "1m 13s\n",
      "Early Stopping Counter = 10\n",
      "Epoch 230/300\n"
     ]
    },
    {
     "name": "stderr",
     "output_type": "stream",
     "text": [
      "100%|██████████| 155/155 [00:46<00:00,  3.34it/s]\n",
      "100%|██████████| 67/67 [00:21<00:00,  3.19it/s]\n",
      "100%|██████████| 18/18 [00:05<00:00,  3.29it/s]\n"
     ]
    },
    {
     "name": "stdout",
     "output_type": "stream",
     "text": [
      "Train loss: 0.12829888967737074\n",
      "Train consistency loss: 0.004118993315400917\n",
      "Validation loss: 0.290847036573622\n",
      "1m 13s\n",
      "Consistency Loss declined to 0.004118993315400917\n",
      "Early Stopping Counter = 0\n",
      "Epoch 231/300\n"
     ]
    },
    {
     "name": "stderr",
     "output_type": "stream",
     "text": [
      "100%|██████████| 155/155 [00:46<00:00,  3.34it/s]\n",
      "100%|██████████| 67/67 [00:20<00:00,  3.22it/s]\n",
      "100%|██████████| 18/18 [00:05<00:00,  3.22it/s]\n"
     ]
    },
    {
     "name": "stdout",
     "output_type": "stream",
     "text": [
      "Train loss: 0.12715700441791164\n",
      "Train consistency loss: 0.004192745257447015\n",
      "Validation loss: 0.28403380927112365\n",
      "1m 13s\n",
      "Early Stopping Counter = 1\n",
      "Epoch 232/300\n"
     ]
    },
    {
     "name": "stderr",
     "output_type": "stream",
     "text": [
      "100%|██████████| 155/155 [00:46<00:00,  3.34it/s]\n",
      "100%|██████████| 67/67 [00:20<00:00,  3.22it/s]\n",
      "100%|██████████| 18/18 [00:05<00:00,  3.22it/s]\n"
     ]
    },
    {
     "name": "stdout",
     "output_type": "stream",
     "text": [
      "Train loss: 0.12750710686368327\n",
      "Train consistency loss: 0.005145794447900644\n",
      "Validation loss: 0.30997219764524037\n",
      "1m 13s\n",
      "Early Stopping Counter = 2\n",
      "Epoch 233/300\n"
     ]
    },
    {
     "name": "stderr",
     "output_type": "stream",
     "text": [
      "100%|██████████| 155/155 [00:46<00:00,  3.34it/s]\n",
      "100%|██████████| 67/67 [00:20<00:00,  3.20it/s]\n",
      "100%|██████████| 18/18 [00:05<00:00,  3.29it/s]\n"
     ]
    },
    {
     "name": "stdout",
     "output_type": "stream",
     "text": [
      "Train loss: 0.12737672088607666\n",
      "Train consistency loss: 0.004425289786990676\n",
      "Validation loss: 0.31682148410214317\n",
      "1m 13s\n",
      "Early Stopping Counter = 3\n",
      "Epoch 234/300\n"
     ]
    },
    {
     "name": "stderr",
     "output_type": "stream",
     "text": [
      "100%|██████████| 155/155 [00:46<00:00,  3.33it/s]\n",
      "100%|██████████| 67/67 [00:20<00:00,  3.19it/s]\n",
      "100%|██████████| 18/18 [00:05<00:00,  3.33it/s]\n"
     ]
    },
    {
     "name": "stdout",
     "output_type": "stream",
     "text": [
      "Train loss: 0.126639695513633\n",
      "Train consistency loss: 0.00521176313779859\n",
      "Validation loss: 0.2968323479096095\n",
      "1m 13s\n",
      "Early Stopping Counter = 4\n",
      "Epoch 235/300\n"
     ]
    },
    {
     "name": "stderr",
     "output_type": "stream",
     "text": [
      "100%|██████████| 155/155 [00:46<00:00,  3.34it/s]\n",
      "100%|██████████| 67/67 [00:21<00:00,  3.18it/s]\n",
      "100%|██████████| 18/18 [00:05<00:00,  3.26it/s]\n"
     ]
    },
    {
     "name": "stdout",
     "output_type": "stream",
     "text": [
      "Train loss: 0.12672881623429635\n",
      "Train consistency loss: 0.004216692653665347\n",
      "Validation loss: 0.3038042104906506\n",
      "1m 13s\n",
      "Early Stopping Counter = 5\n",
      "Epoch 236/300\n"
     ]
    },
    {
     "name": "stderr",
     "output_type": "stream",
     "text": [
      "100%|██████████| 155/155 [00:46<00:00,  3.32it/s]\n",
      "100%|██████████| 67/67 [00:20<00:00,  3.22it/s]\n",
      "100%|██████████| 18/18 [00:05<00:00,  3.34it/s]\n"
     ]
    },
    {
     "name": "stdout",
     "output_type": "stream",
     "text": [
      "Train loss: 0.1260756968490539\n",
      "Train consistency loss: 0.004277666485103876\n",
      "Validation loss: 0.3011731778581937\n",
      "1m 13s\n",
      "Early Stopping Counter = 6\n",
      "Epoch 237/300\n"
     ]
    },
    {
     "name": "stderr",
     "output_type": "stream",
     "text": [
      "100%|██████████| 155/155 [00:46<00:00,  3.35it/s]\n",
      "100%|██████████| 67/67 [00:20<00:00,  3.22it/s]\n",
      "100%|██████████| 18/18 [00:05<00:00,  3.26it/s]\n"
     ]
    },
    {
     "name": "stdout",
     "output_type": "stream",
     "text": [
      "Train loss: 0.12576206725451253\n",
      "Train consistency loss: 0.004933322897987135\n",
      "Validation loss: 0.3016602738449971\n",
      "1m 13s\n",
      "Early Stopping Counter = 7\n",
      "Epoch 238/300\n"
     ]
    },
    {
     "name": "stderr",
     "output_type": "stream",
     "text": [
      "100%|██████████| 155/155 [00:46<00:00,  3.35it/s]\n",
      "100%|██████████| 67/67 [00:21<00:00,  3.18it/s]\n",
      "100%|██████████| 18/18 [00:05<00:00,  3.18it/s]\n"
     ]
    },
    {
     "name": "stdout",
     "output_type": "stream",
     "text": [
      "Train loss: 0.12587228729840247\n",
      "Train consistency loss: 0.004105226962076528\n",
      "Validation loss: 0.29254129922224414\n",
      "1m 13s\n",
      "Consistency Loss declined to 0.004105226962076528\n",
      "Early Stopping Counter = 0\n",
      "Epoch 239/300\n"
     ]
    },
    {
     "name": "stderr",
     "output_type": "stream",
     "text": [
      "100%|██████████| 155/155 [00:46<00:00,  3.33it/s]\n",
      "100%|██████████| 67/67 [00:21<00:00,  3.17it/s]\n",
      "100%|██████████| 18/18 [00:05<00:00,  3.25it/s]\n"
     ]
    },
    {
     "name": "stdout",
     "output_type": "stream",
     "text": [
      "Train loss: 0.12531635184441844\n",
      "Train consistency loss: 0.004108534243180236\n",
      "Validation loss: 0.29780551522142357\n",
      "1m 13s\n",
      "Early Stopping Counter = 1\n",
      "Epoch 240/300\n"
     ]
    },
    {
     "name": "stderr",
     "output_type": "stream",
     "text": [
      "100%|██████████| 155/155 [00:46<00:00,  3.34it/s]\n",
      "100%|██████████| 67/67 [00:21<00:00,  3.19it/s]\n",
      "100%|██████████| 18/18 [00:05<00:00,  3.34it/s]\n"
     ]
    },
    {
     "name": "stdout",
     "output_type": "stream",
     "text": [
      "Train loss: 0.12530316460517146\n",
      "Train consistency loss: 0.0043199523977601705\n",
      "Validation loss: 0.28434593396054375\n",
      "1m 13s\n",
      "Early Stopping Counter = 2\n",
      "Epoch 241/300\n"
     ]
    },
    {
     "name": "stderr",
     "output_type": "stream",
     "text": [
      "100%|██████████| 155/155 [00:46<00:00,  3.35it/s]\n",
      "100%|██████████| 67/67 [00:21<00:00,  3.15it/s]\n",
      "100%|██████████| 18/18 [00:05<00:00,  3.31it/s]\n"
     ]
    },
    {
     "name": "stdout",
     "output_type": "stream",
     "text": [
      "Train loss: 0.12565828460839487\n",
      "Train consistency loss: 0.004397618386255049\n",
      "Validation loss: 0.3005534598810805\n",
      "1m 13s\n",
      "Early Stopping Counter = 3\n",
      "Epoch 242/300\n"
     ]
    },
    {
     "name": "stderr",
     "output_type": "stream",
     "text": [
      "100%|██████████| 155/155 [00:46<00:00,  3.32it/s]\n",
      "100%|██████████| 67/67 [00:20<00:00,  3.23it/s]\n",
      "100%|██████████| 18/18 [00:05<00:00,  3.24it/s]\n"
     ]
    },
    {
     "name": "stdout",
     "output_type": "stream",
     "text": [
      "Train loss: 0.12511921914354449\n",
      "Train consistency loss: 0.004078486912584961\n",
      "Validation loss: 0.30006808704800075\n",
      "1m 13s\n",
      "Consistency Loss declined to 0.004078486912584961\n",
      "Early Stopping Counter = 0\n",
      "Epoch 243/300\n"
     ]
    },
    {
     "name": "stderr",
     "output_type": "stream",
     "text": [
      "100%|██████████| 155/155 [00:46<00:00,  3.32it/s]\n",
      "100%|██████████| 67/67 [00:20<00:00,  3.22it/s]\n",
      "100%|██████████| 18/18 [00:05<00:00,  3.28it/s]\n"
     ]
    },
    {
     "name": "stdout",
     "output_type": "stream",
     "text": [
      "Train loss: 0.12439481327610631\n",
      "Train consistency loss: 0.004161675700417428\n",
      "Validation loss: 0.2963750507268641\n",
      "1m 13s\n",
      "Early Stopping Counter = 1\n",
      "Epoch 244/300\n"
     ]
    },
    {
     "name": "stderr",
     "output_type": "stream",
     "text": [
      "100%|██████████| 155/155 [00:46<00:00,  3.35it/s]\n",
      "100%|██████████| 67/67 [00:21<00:00,  3.19it/s]\n",
      "100%|██████████| 18/18 [00:05<00:00,  3.13it/s]\n"
     ]
    },
    {
     "name": "stdout",
     "output_type": "stream",
     "text": [
      "Train loss: 0.12488397797269206\n",
      "Train consistency loss: 0.004394456007476173\n",
      "Validation loss: 0.285116718047195\n",
      "1m 13s\n",
      "Early Stopping Counter = 2\n",
      "Epoch 245/300\n"
     ]
    },
    {
     "name": "stderr",
     "output_type": "stream",
     "text": [
      "100%|██████████| 155/155 [00:46<00:00,  3.35it/s]\n",
      "100%|██████████| 67/67 [00:20<00:00,  3.19it/s]\n",
      "100%|██████████| 18/18 [00:05<00:00,  3.22it/s]\n"
     ]
    },
    {
     "name": "stdout",
     "output_type": "stream",
     "text": [
      "Train loss: 0.12441806437507752\n",
      "Train consistency loss: 0.004262102045007606\n",
      "Validation loss: 0.2994702251421081\n",
      "1m 13s\n",
      "Early Stopping Counter = 3\n",
      "Epoch 246/300\n"
     ]
    },
    {
     "name": "stderr",
     "output_type": "stream",
     "text": [
      "100%|██████████| 155/155 [00:46<00:00,  3.34it/s]\n",
      "100%|██████████| 67/67 [00:21<00:00,  3.19it/s]\n",
      "100%|██████████| 18/18 [00:05<00:00,  3.23it/s]\n"
     ]
    },
    {
     "name": "stdout",
     "output_type": "stream",
     "text": [
      "Train loss: 0.12396304261299872\n",
      "Train consistency loss: 0.004346300597622323\n",
      "Validation loss: 0.3075094380312496\n",
      "1m 13s\n",
      "Early Stopping Counter = 4\n",
      "Epoch 247/300\n"
     ]
    },
    {
     "name": "stderr",
     "output_type": "stream",
     "text": [
      "100%|██████████| 155/155 [00:46<00:00,  3.33it/s]\n",
      "100%|██████████| 67/67 [00:20<00:00,  3.23it/s]\n",
      "100%|██████████| 18/18 [00:05<00:00,  3.26it/s]\n"
     ]
    },
    {
     "name": "stdout",
     "output_type": "stream",
     "text": [
      "Train loss: 0.12347480236522614\n",
      "Train consistency loss: 0.00379968419108095\n",
      "Validation loss: 0.2959990000559224\n",
      "1m 13s\n",
      "Consistency Loss declined to 0.00379968419108095\n",
      "Early Stopping Counter = 0\n",
      "Epoch 248/300\n"
     ]
    },
    {
     "name": "stderr",
     "output_type": "stream",
     "text": [
      "100%|██████████| 155/155 [00:46<00:00,  3.32it/s]\n",
      "100%|██████████| 67/67 [00:20<00:00,  3.22it/s]\n",
      "100%|██████████| 18/18 [00:05<00:00,  3.27it/s]\n"
     ]
    },
    {
     "name": "stdout",
     "output_type": "stream",
     "text": [
      "Train loss: 0.12314976573951783\n",
      "Train consistency loss: 0.004166715615081476\n",
      "Validation loss: 0.2859797498418225\n",
      "1m 13s\n",
      "Early Stopping Counter = 1\n",
      "Epoch 249/300\n"
     ]
    },
    {
     "name": "stderr",
     "output_type": "stream",
     "text": [
      "100%|██████████| 155/155 [00:46<00:00,  3.33it/s]\n",
      "100%|██████████| 67/67 [00:21<00:00,  3.18it/s]\n",
      "100%|██████████| 18/18 [00:05<00:00,  3.27it/s]\n"
     ]
    },
    {
     "name": "stdout",
     "output_type": "stream",
     "text": [
      "Train loss: 0.12378782452114166\n",
      "Train consistency loss: 0.005396213827293311\n",
      "Validation loss: 0.3157624519533581\n",
      "1m 13s\n",
      "Early Stopping Counter = 2\n",
      "Epoch 250/300\n"
     ]
    },
    {
     "name": "stderr",
     "output_type": "stream",
     "text": [
      "100%|██████████| 155/155 [00:46<00:00,  3.34it/s]\n",
      "100%|██████████| 67/67 [00:21<00:00,  3.18it/s]\n",
      "100%|██████████| 18/18 [00:05<00:00,  3.30it/s]\n"
     ]
    },
    {
     "name": "stdout",
     "output_type": "stream",
     "text": [
      "Train loss: 0.12426506780808971\n",
      "Train consistency loss: 0.004295559805025583\n",
      "Validation loss: 0.28842264744970536\n",
      "1m 13s\n",
      "Early Stopping Counter = 3\n",
      "Epoch 251/300\n"
     ]
    },
    {
     "name": "stderr",
     "output_type": "stream",
     "text": [
      "100%|██████████| 155/155 [00:46<00:00,  3.33it/s]\n",
      "100%|██████████| 67/67 [00:21<00:00,  3.18it/s]\n",
      "100%|██████████| 18/18 [00:05<00:00,  3.25it/s]\n"
     ]
    },
    {
     "name": "stdout",
     "output_type": "stream",
     "text": [
      "Train loss: 0.12275531263120713\n",
      "Train consistency loss: 0.00381909835729192\n",
      "Validation loss: 0.30685537308454514\n",
      "1m 13s\n",
      "Early Stopping Counter = 4\n",
      "Epoch 252/300\n"
     ]
    },
    {
     "name": "stderr",
     "output_type": "stream",
     "text": [
      "100%|██████████| 155/155 [00:46<00:00,  3.31it/s]\n",
      "100%|██████████| 67/67 [00:21<00:00,  3.19it/s]\n",
      "100%|██████████| 18/18 [00:05<00:00,  3.32it/s]\n"
     ]
    },
    {
     "name": "stdout",
     "output_type": "stream",
     "text": [
      "Train loss: 0.12259344636432586\n",
      "Train consistency loss: 0.004034115182263638\n",
      "Validation loss: 0.29140465209881466\n",
      "1m 13s\n",
      "Early Stopping Counter = 5\n",
      "Epoch 253/300\n"
     ]
    },
    {
     "name": "stderr",
     "output_type": "stream",
     "text": [
      "100%|██████████| 155/155 [00:46<00:00,  3.33it/s]\n",
      "100%|██████████| 67/67 [00:21<00:00,  3.18it/s]\n",
      "100%|██████████| 18/18 [00:05<00:00,  3.31it/s]\n"
     ]
    },
    {
     "name": "stdout",
     "output_type": "stream",
     "text": [
      "Train loss: 0.12251630300475705\n",
      "Train consistency loss: 0.004125417992055638\n",
      "Validation loss: 0.28327761424912346\n",
      "1m 13s\n",
      "Early Stopping Counter = 6\n",
      "Epoch 254/300\n"
     ]
    },
    {
     "name": "stderr",
     "output_type": "stream",
     "text": [
      "100%|██████████| 155/155 [00:46<00:00,  3.34it/s]\n",
      "100%|██████████| 67/67 [00:21<00:00,  3.18it/s]\n",
      "100%|██████████| 18/18 [00:05<00:00,  3.26it/s]\n"
     ]
    },
    {
     "name": "stdout",
     "output_type": "stream",
     "text": [
      "Train loss: 0.12168309674147637\n",
      "Train consistency loss: 0.0037208442287797582\n",
      "Validation loss: 0.31834955513477325\n",
      "1m 13s\n",
      "Consistency Loss declined to 0.0037208442287797582\n",
      "Early Stopping Counter = 0\n",
      "Epoch 255/300\n"
     ]
    },
    {
     "name": "stderr",
     "output_type": "stream",
     "text": [
      "100%|██████████| 155/155 [00:46<00:00,  3.34it/s]\n",
      "100%|██████████| 67/67 [00:20<00:00,  3.21it/s]\n",
      "100%|██████████| 18/18 [00:05<00:00,  3.27it/s]\n"
     ]
    },
    {
     "name": "stdout",
     "output_type": "stream",
     "text": [
      "Train loss: 0.12216392010450364\n",
      "Train consistency loss: 0.003671734119459653\n",
      "Validation loss: 0.2912520733144548\n",
      "1m 13s\n",
      "Consistency Loss declined to 0.003671734119459653\n",
      "Early Stopping Counter = 0\n",
      "Epoch 256/300\n"
     ]
    },
    {
     "name": "stderr",
     "output_type": "stream",
     "text": [
      "100%|██████████| 155/155 [00:46<00:00,  3.33it/s]\n",
      "100%|██████████| 67/67 [00:20<00:00,  3.21it/s]\n",
      "100%|██████████| 18/18 [00:05<00:00,  3.25it/s]\n"
     ]
    },
    {
     "name": "stdout",
     "output_type": "stream",
     "text": [
      "Train loss: 0.12271925047520668\n",
      "Train consistency loss: 0.004487700193925802\n",
      "Validation loss: 0.2949210481925143\n",
      "1m 13s\n",
      "Early Stopping Counter = 1\n",
      "Epoch 257/300\n"
     ]
    },
    {
     "name": "stderr",
     "output_type": "stream",
     "text": [
      "100%|██████████| 155/155 [00:46<00:00,  3.34it/s]\n",
      "100%|██████████| 67/67 [00:20<00:00,  3.19it/s]\n",
      "100%|██████████| 18/18 [00:05<00:00,  3.25it/s]\n"
     ]
    },
    {
     "name": "stdout",
     "output_type": "stream",
     "text": [
      "Train loss: 0.12163511380072563\n",
      "Train consistency loss: 0.003739720097492769\n",
      "Validation loss: 0.2853228346341186\n",
      "1m 13s\n",
      "Early Stopping Counter = 2\n",
      "Epoch 258/300\n"
     ]
    },
    {
     "name": "stderr",
     "output_type": "stream",
     "text": [
      "100%|██████████| 155/155 [00:46<00:00,  3.34it/s]\n",
      "100%|██████████| 67/67 [00:20<00:00,  3.23it/s]\n",
      "100%|██████████| 18/18 [00:05<00:00,  3.22it/s]\n"
     ]
    },
    {
     "name": "stdout",
     "output_type": "stream",
     "text": [
      "Train loss: 0.12031063120211324\n",
      "Train consistency loss: 0.004967578026507773\n",
      "Validation loss: 0.30139587157302433\n",
      "1m 13s\n",
      "Early Stopping Counter = 3\n",
      "Epoch 259/300\n"
     ]
    },
    {
     "name": "stderr",
     "output_type": "stream",
     "text": [
      "100%|██████████| 155/155 [00:46<00:00,  3.35it/s]\n",
      "100%|██████████| 67/67 [00:21<00:00,  3.19it/s]\n",
      "100%|██████████| 18/18 [00:05<00:00,  3.19it/s]\n"
     ]
    },
    {
     "name": "stdout",
     "output_type": "stream",
     "text": [
      "Train loss: 0.12106449325238505\n",
      "Train consistency loss: 0.003868865036864334\n",
      "Validation loss: 0.2947638301799695\n",
      "1m 13s\n",
      "Early Stopping Counter = 4\n",
      "Epoch 260/300\n"
     ]
    },
    {
     "name": "stderr",
     "output_type": "stream",
     "text": [
      "100%|██████████| 155/155 [00:46<00:00,  3.35it/s]\n",
      "100%|██████████| 67/67 [00:20<00:00,  3.20it/s]\n",
      "100%|██████████| 18/18 [00:05<00:00,  3.28it/s]\n"
     ]
    },
    {
     "name": "stdout",
     "output_type": "stream",
     "text": [
      "Train loss: 0.12108718070291703\n",
      "Train consistency loss: 0.0037342442456744056\n",
      "Validation loss: 0.28987581220765907\n",
      "1m 13s\n",
      "Early Stopping Counter = 5\n",
      "Epoch 261/300\n"
     ]
    },
    {
     "name": "stderr",
     "output_type": "stream",
     "text": [
      "100%|██████████| 155/155 [00:46<00:00,  3.33it/s]\n",
      "100%|██████████| 67/67 [00:21<00:00,  3.15it/s]\n",
      "100%|██████████| 18/18 [00:05<00:00,  3.21it/s]\n"
     ]
    },
    {
     "name": "stdout",
     "output_type": "stream",
     "text": [
      "Train loss: 0.12079588083490249\n",
      "Train consistency loss: 0.0036755574905355253\n",
      "Validation loss: 0.29315535434418255\n",
      "1m 13s\n",
      "Early Stopping Counter = 6\n",
      "Epoch 262/300\n"
     ]
    },
    {
     "name": "stderr",
     "output_type": "stream",
     "text": [
      "100%|██████████| 155/155 [00:46<00:00,  3.31it/s]\n",
      "100%|██████████| 67/67 [00:20<00:00,  3.22it/s]\n",
      "100%|██████████| 18/18 [00:05<00:00,  3.16it/s]\n"
     ]
    },
    {
     "name": "stdout",
     "output_type": "stream",
     "text": [
      "Train loss: 0.12007380911419469\n",
      "Train consistency loss: 0.003492799611873369\n",
      "Validation loss: 0.28938262454337543\n",
      "1m 13s\n",
      "Consistency Loss declined to 0.003492799611873369\n",
      "Early Stopping Counter = 0\n",
      "Epoch 263/300\n"
     ]
    },
    {
     "name": "stderr",
     "output_type": "stream",
     "text": [
      "100%|██████████| 155/155 [00:46<00:00,  3.33it/s]\n",
      "100%|██████████| 67/67 [00:20<00:00,  3.23it/s]\n",
      "100%|██████████| 18/18 [00:05<00:00,  3.31it/s]\n"
     ]
    },
    {
     "name": "stdout",
     "output_type": "stream",
     "text": [
      "Train loss: 0.12028989465005936\n",
      "Train consistency loss: 0.0038761023359039602\n",
      "Validation loss: 0.2984850487361352\n",
      "1m 13s\n",
      "Early Stopping Counter = 1\n",
      "Epoch 264/300\n"
     ]
    },
    {
     "name": "stderr",
     "output_type": "stream",
     "text": [
      "100%|██████████| 155/155 [00:46<00:00,  3.34it/s]\n",
      "100%|██████████| 67/67 [00:21<00:00,  3.19it/s]\n",
      "100%|██████████| 18/18 [00:05<00:00,  3.34it/s]\n"
     ]
    },
    {
     "name": "stdout",
     "output_type": "stream",
     "text": [
      "Train loss: 0.12044554097998526\n",
      "Train consistency loss: 0.004027633446463342\n",
      "Validation loss: 0.3042549553016822\n",
      "1m 13s\n",
      "Early Stopping Counter = 2\n",
      "Epoch 265/300\n"
     ]
    },
    {
     "name": "stderr",
     "output_type": "stream",
     "text": [
      "100%|██████████| 155/155 [00:46<00:00,  3.35it/s]\n",
      "100%|██████████| 67/67 [00:20<00:00,  3.22it/s]\n",
      "100%|██████████| 18/18 [00:05<00:00,  3.30it/s]\n"
     ]
    },
    {
     "name": "stdout",
     "output_type": "stream",
     "text": [
      "Train loss: 0.12037298905272638\n",
      "Train consistency loss: 0.0042358318069226925\n",
      "Validation loss: 0.30608121554056805\n",
      "1m 13s\n",
      "Early Stopping Counter = 3\n",
      "Epoch 266/300\n"
     ]
    },
    {
     "name": "stderr",
     "output_type": "stream",
     "text": [
      "100%|██████████| 155/155 [00:46<00:00,  3.36it/s]\n",
      "100%|██████████| 67/67 [00:21<00:00,  3.17it/s]\n",
      "100%|██████████| 18/18 [00:05<00:00,  3.32it/s]\n"
     ]
    },
    {
     "name": "stdout",
     "output_type": "stream",
     "text": [
      "Train loss: 0.12024071250231036\n",
      "Train consistency loss: 0.0036267421847737545\n",
      "Validation loss: 0.2943986573566993\n",
      "1m 13s\n",
      "Early Stopping Counter = 4\n",
      "Epoch 267/300\n"
     ]
    },
    {
     "name": "stderr",
     "output_type": "stream",
     "text": [
      "100%|██████████| 155/155 [00:46<00:00,  3.33it/s]\n",
      "100%|██████████| 67/67 [00:21<00:00,  3.18it/s]\n",
      "100%|██████████| 18/18 [00:05<00:00,  3.23it/s]\n"
     ]
    },
    {
     "name": "stdout",
     "output_type": "stream",
     "text": [
      "Train loss: 0.1191530070958599\n",
      "Train consistency loss: 0.003411225859882004\n",
      "Validation loss: 0.2988769445154402\n",
      "1m 13s\n",
      "Consistency Loss declined to 0.003411225859882004\n",
      "Early Stopping Counter = 0\n",
      "Epoch 268/300\n"
     ]
    },
    {
     "name": "stderr",
     "output_type": "stream",
     "text": [
      "100%|██████████| 155/155 [00:46<00:00,  3.32it/s]\n",
      "100%|██████████| 67/67 [00:21<00:00,  3.19it/s]\n",
      "100%|██████████| 18/18 [00:05<00:00,  3.26it/s]\n"
     ]
    },
    {
     "name": "stdout",
     "output_type": "stream",
     "text": [
      "Train loss: 0.11923506572361915\n",
      "Train consistency loss: 0.0036317277491203885\n",
      "Validation loss: 0.2916550791511933\n",
      "1m 13s\n",
      "Early Stopping Counter = 1\n",
      "Epoch 269/300\n"
     ]
    },
    {
     "name": "stderr",
     "output_type": "stream",
     "text": [
      "100%|██████████| 155/155 [00:46<00:00,  3.34it/s]\n",
      "100%|██████████| 67/67 [00:20<00:00,  3.19it/s]\n",
      "100%|██████████| 18/18 [00:05<00:00,  3.32it/s]\n"
     ]
    },
    {
     "name": "stdout",
     "output_type": "stream",
     "text": [
      "Train loss: 0.11946445415096899\n",
      "Train consistency loss: 0.0037274161134777006\n",
      "Validation loss: 0.29804590634173816\n",
      "1m 13s\n",
      "Early Stopping Counter = 2\n",
      "Epoch 270/300\n"
     ]
    },
    {
     "name": "stderr",
     "output_type": "stream",
     "text": [
      "100%|██████████| 155/155 [00:46<00:00,  3.32it/s]\n",
      "100%|██████████| 67/67 [00:20<00:00,  3.21it/s]\n",
      "100%|██████████| 18/18 [00:05<00:00,  3.26it/s]\n"
     ]
    },
    {
     "name": "stdout",
     "output_type": "stream",
     "text": [
      "Train loss: 0.11896982351618428\n",
      "Train consistency loss: 0.0037630664952683136\n",
      "Validation loss: 0.29456994744638604\n",
      "1m 13s\n",
      "Early Stopping Counter = 3\n",
      "Epoch 271/300\n"
     ]
    },
    {
     "name": "stderr",
     "output_type": "stream",
     "text": [
      "100%|██████████| 155/155 [00:46<00:00,  3.34it/s]\n",
      "100%|██████████| 67/67 [00:21<00:00,  3.18it/s]\n",
      "100%|██████████| 18/18 [00:05<00:00,  3.30it/s]\n"
     ]
    },
    {
     "name": "stdout",
     "output_type": "stream",
     "text": [
      "Train loss: 0.11959939344275382\n",
      "Train consistency loss: 0.004563819325125929\n",
      "Validation loss: 0.3014786032338937\n",
      "1m 13s\n",
      "Early Stopping Counter = 4\n",
      "Epoch 272/300\n"
     ]
    },
    {
     "name": "stderr",
     "output_type": "stream",
     "text": [
      "100%|██████████| 155/155 [00:46<00:00,  3.35it/s]\n",
      "100%|██████████| 67/67 [00:20<00:00,  3.20it/s]\n",
      "100%|██████████| 18/18 [00:05<00:00,  3.33it/s]\n"
     ]
    },
    {
     "name": "stdout",
     "output_type": "stream",
     "text": [
      "Train loss: 0.1190797506320861\n",
      "Train consistency loss: 0.00382841993540303\n",
      "Validation loss: 0.29143321845266557\n",
      "1m 13s\n",
      "Early Stopping Counter = 5\n",
      "Epoch 273/300\n"
     ]
    },
    {
     "name": "stderr",
     "output_type": "stream",
     "text": [
      "100%|██████████| 155/155 [00:46<00:00,  3.34it/s]\n",
      "100%|██████████| 67/67 [00:20<00:00,  3.20it/s]\n",
      "100%|██████████| 18/18 [00:05<00:00,  3.33it/s]\n"
     ]
    },
    {
     "name": "stdout",
     "output_type": "stream",
     "text": [
      "Train loss: 0.11858540888755552\n",
      "Train consistency loss: 0.0037530935838568343\n",
      "Validation loss: 0.30853294601870906\n",
      "1m 13s\n",
      "Early Stopping Counter = 6\n",
      "Epoch 274/300\n"
     ]
    },
    {
     "name": "stderr",
     "output_type": "stream",
     "text": [
      "100%|██████████| 155/155 [00:46<00:00,  3.33it/s]\n",
      "100%|██████████| 67/67 [00:20<00:00,  3.22it/s]\n",
      "100%|██████████| 18/18 [00:05<00:00,  3.29it/s]\n"
     ]
    },
    {
     "name": "stdout",
     "output_type": "stream",
     "text": [
      "Train loss: 0.11925845045235849\n",
      "Train consistency loss: 0.0034378886556447443\n",
      "Validation loss: 0.3030883301463392\n",
      "1m 13s\n",
      "Early Stopping Counter = 7\n",
      "Epoch 275/300\n"
     ]
    },
    {
     "name": "stderr",
     "output_type": "stream",
     "text": [
      "100%|██████████| 155/155 [00:46<00:00,  3.35it/s]\n",
      "100%|██████████| 67/67 [00:21<00:00,  3.19it/s]\n",
      "100%|██████████| 18/18 [00:05<00:00,  3.25it/s]\n"
     ]
    },
    {
     "name": "stdout",
     "output_type": "stream",
     "text": [
      "Train loss: 0.11795303802336415\n",
      "Train consistency loss: 0.0033491092452557006\n",
      "Validation loss: 0.3013561312109232\n",
      "1m 13s\n",
      "Consistency Loss declined to 0.0033491092452557006\n",
      "Early Stopping Counter = 0\n",
      "Epoch 276/300\n"
     ]
    },
    {
     "name": "stderr",
     "output_type": "stream",
     "text": [
      "100%|██████████| 155/155 [00:46<00:00,  3.34it/s]\n",
      "100%|██████████| 67/67 [00:20<00:00,  3.22it/s]\n",
      "100%|██████████| 18/18 [00:05<00:00,  3.26it/s]\n"
     ]
    },
    {
     "name": "stdout",
     "output_type": "stream",
     "text": [
      "Train loss: 0.11851128810836423\n",
      "Train consistency loss: 0.0031520489572005265\n",
      "Validation loss: 0.2988184266206291\n",
      "1m 13s\n",
      "Consistency Loss declined to 0.0031520489572005265\n",
      "Early Stopping Counter = 0\n",
      "Epoch 277/300\n"
     ]
    },
    {
     "name": "stderr",
     "output_type": "stream",
     "text": [
      "100%|██████████| 155/155 [00:46<00:00,  3.33it/s]\n",
      "100%|██████████| 67/67 [00:20<00:00,  3.21it/s]\n",
      "100%|██████████| 18/18 [00:05<00:00,  3.34it/s]\n"
     ]
    },
    {
     "name": "stdout",
     "output_type": "stream",
     "text": [
      "Train loss: 0.11746144890785218\n",
      "Train consistency loss: 0.003483449114111266\n",
      "Validation loss: 0.29615434673097396\n",
      "1m 13s\n",
      "Early Stopping Counter = 1\n",
      "Epoch 278/300\n"
     ]
    },
    {
     "name": "stderr",
     "output_type": "stream",
     "text": [
      "100%|██████████| 155/155 [00:46<00:00,  3.33it/s]\n",
      "100%|██████████| 67/67 [00:21<00:00,  3.16it/s]\n",
      "100%|██████████| 18/18 [00:05<00:00,  3.31it/s]\n"
     ]
    },
    {
     "name": "stdout",
     "output_type": "stream",
     "text": [
      "Train loss: 0.11718622700821969\n",
      "Train consistency loss: 0.0033370374368309084\n",
      "Validation loss: 0.30113639071997667\n",
      "1m 13s\n",
      "Early Stopping Counter = 2\n",
      "Epoch 279/300\n"
     ]
    },
    {
     "name": "stderr",
     "output_type": "stream",
     "text": [
      "100%|██████████| 155/155 [00:46<00:00,  3.32it/s]\n",
      "100%|██████████| 67/67 [00:21<00:00,  3.17it/s]\n",
      "100%|██████████| 18/18 [00:05<00:00,  3.18it/s]\n"
     ]
    },
    {
     "name": "stdout",
     "output_type": "stream",
     "text": [
      "Train loss: 0.11764198161901966\n",
      "Train consistency loss: 0.005830331564769705\n",
      "Validation loss: 0.3231181742416488\n",
      "1m 13s\n",
      "Early Stopping Counter = 3\n",
      "Epoch 280/300\n"
     ]
    },
    {
     "name": "stderr",
     "output_type": "stream",
     "text": [
      "100%|██████████| 155/155 [00:46<00:00,  3.32it/s]\n",
      "100%|██████████| 67/67 [00:21<00:00,  3.16it/s]\n",
      "100%|██████████| 18/18 [00:05<00:00,  3.32it/s]\n"
     ]
    },
    {
     "name": "stdout",
     "output_type": "stream",
     "text": [
      "Train loss: 0.1181087706358202\n",
      "Train consistency loss: 0.003718443451199069\n",
      "Validation loss: 0.2948286636835999\n",
      "1m 13s\n",
      "Early Stopping Counter = 4\n",
      "Epoch 281/300\n"
     ]
    },
    {
     "name": "stderr",
     "output_type": "stream",
     "text": [
      "100%|██████████| 155/155 [00:46<00:00,  3.31it/s]\n",
      "100%|██████████| 67/67 [00:20<00:00,  3.22it/s]\n",
      "100%|██████████| 18/18 [00:05<00:00,  3.29it/s]\n"
     ]
    },
    {
     "name": "stdout",
     "output_type": "stream",
     "text": [
      "Train loss: 0.11720825467378862\n",
      "Train consistency loss: 0.0032441744801532755\n",
      "Validation loss: 0.30141972481376594\n",
      "1m 13s\n",
      "Early Stopping Counter = 5\n",
      "Epoch 282/300\n"
     ]
    },
    {
     "name": "stderr",
     "output_type": "stream",
     "text": [
      "100%|██████████| 155/155 [00:46<00:00,  3.34it/s]\n",
      "100%|██████████| 67/67 [00:21<00:00,  3.19it/s]\n",
      "100%|██████████| 18/18 [00:05<00:00,  3.36it/s]\n"
     ]
    },
    {
     "name": "stdout",
     "output_type": "stream",
     "text": [
      "Train loss: 0.11657129237728735\n",
      "Train consistency loss: 0.003283743264410756\n",
      "Validation loss: 0.2890919378648202\n",
      "1m 13s\n",
      "Early Stopping Counter = 6\n",
      "Epoch 283/300\n"
     ]
    },
    {
     "name": "stderr",
     "output_type": "stream",
     "text": [
      "100%|██████████| 155/155 [00:46<00:00,  3.34it/s]\n",
      "100%|██████████| 67/67 [00:21<00:00,  3.19it/s]\n",
      "100%|██████████| 18/18 [00:05<00:00,  3.28it/s]\n"
     ]
    },
    {
     "name": "stdout",
     "output_type": "stream",
     "text": [
      "Train loss: 0.11612436766585996\n",
      "Train consistency loss: 0.0032290634508036187\n",
      "Validation loss: 0.3075045798387792\n",
      "1m 13s\n",
      "Early Stopping Counter = 7\n",
      "Epoch 284/300\n"
     ]
    },
    {
     "name": "stderr",
     "output_type": "stream",
     "text": [
      "100%|██████████| 155/155 [00:46<00:00,  3.33it/s]\n",
      "100%|██████████| 67/67 [00:21<00:00,  3.17it/s]\n",
      "100%|██████████| 18/18 [00:05<00:00,  3.24it/s]\n"
     ]
    },
    {
     "name": "stdout",
     "output_type": "stream",
     "text": [
      "Train loss: 0.11661088130166454\n",
      "Train consistency loss: 0.003759506704118937\n",
      "Validation loss: 0.32308076984352535\n",
      "1m 13s\n",
      "Early Stopping Counter = 8\n",
      "Epoch 285/300\n"
     ]
    },
    {
     "name": "stderr",
     "output_type": "stream",
     "text": [
      "100%|██████████| 155/155 [00:46<00:00,  3.32it/s]\n",
      "100%|██████████| 67/67 [00:20<00:00,  3.21it/s]\n",
      "100%|██████████| 18/18 [00:05<00:00,  3.31it/s]\n"
     ]
    },
    {
     "name": "stdout",
     "output_type": "stream",
     "text": [
      "Train loss: 0.11611902733002939\n",
      "Train consistency loss: 0.0036255309580644564\n",
      "Validation loss: 0.29402171230564517\n",
      "1m 13s\n",
      "Early Stopping Counter = 9\n",
      "Epoch 286/300\n"
     ]
    },
    {
     "name": "stderr",
     "output_type": "stream",
     "text": [
      "100%|██████████| 155/155 [00:46<00:00,  3.33it/s]\n",
      "100%|██████████| 67/67 [00:21<00:00,  3.18it/s]\n",
      "100%|██████████| 18/18 [00:05<00:00,  3.28it/s]\n"
     ]
    },
    {
     "name": "stdout",
     "output_type": "stream",
     "text": [
      "Train loss: 0.11670454625160463\n",
      "Train consistency loss: 0.0036809698004386764\n",
      "Validation loss: 0.2931091392205821\n",
      "1m 13s\n",
      "Early Stopping Counter = 10\n",
      "Epoch 287/300\n"
     ]
    },
    {
     "name": "stderr",
     "output_type": "stream",
     "text": [
      "100%|██████████| 155/155 [00:46<00:00,  3.31it/s]\n",
      "100%|██████████| 67/67 [00:21<00:00,  3.19it/s]\n",
      "100%|██████████| 18/18 [00:05<00:00,  3.26it/s]\n"
     ]
    },
    {
     "name": "stdout",
     "output_type": "stream",
     "text": [
      "Train loss: 0.11643428485239705\n",
      "Train consistency loss: 0.0031291577224828193\n",
      "Validation loss: 0.29356260287264985\n",
      "1m 13s\n",
      "Consistency Loss declined to 0.0031291577224828193\n",
      "Early Stopping Counter = 0\n",
      "Epoch 288/300\n"
     ]
    },
    {
     "name": "stderr",
     "output_type": "stream",
     "text": [
      "100%|██████████| 155/155 [00:46<00:00,  3.34it/s]\n",
      "100%|██████████| 67/67 [00:21<00:00,  3.19it/s]\n",
      "100%|██████████| 18/18 [00:05<00:00,  3.24it/s]\n"
     ]
    },
    {
     "name": "stdout",
     "output_type": "stream",
     "text": [
      "Train loss: 0.11587532518371459\n",
      "Train consistency loss: 0.0033184667361149593\n",
      "Validation loss: 0.29605236152807873\n",
      "1m 13s\n",
      "Early Stopping Counter = 1\n",
      "Epoch 289/300\n"
     ]
    },
    {
     "name": "stderr",
     "output_type": "stream",
     "text": [
      "100%|██████████| 155/155 [00:46<00:00,  3.33it/s]\n",
      "100%|██████████| 67/67 [00:20<00:00,  3.21it/s]\n",
      "100%|██████████| 18/18 [00:05<00:00,  3.26it/s]\n"
     ]
    },
    {
     "name": "stdout",
     "output_type": "stream",
     "text": [
      "Train loss: 0.11609851540096344\n",
      "Train consistency loss: 0.0037779219035031413\n",
      "Validation loss: 0.29918037313554025\n",
      "1m 13s\n",
      "Early Stopping Counter = 2\n",
      "Epoch 290/300\n"
     ]
    },
    {
     "name": "stderr",
     "output_type": "stream",
     "text": [
      "100%|██████████| 155/155 [00:46<00:00,  3.34it/s]\n",
      "100%|██████████| 67/67 [00:20<00:00,  3.22it/s]\n",
      "100%|██████████| 18/18 [00:05<00:00,  3.25it/s]\n"
     ]
    },
    {
     "name": "stdout",
     "output_type": "stream",
     "text": [
      "Train loss: 0.11596124624052355\n",
      "Train consistency loss: 0.0035086115752694324\n",
      "Validation loss: 0.29445453691813683\n",
      "1m 13s\n",
      "Early Stopping Counter = 3\n",
      "Epoch 291/300\n"
     ]
    },
    {
     "name": "stderr",
     "output_type": "stream",
     "text": [
      "100%|██████████| 155/155 [00:46<00:00,  3.34it/s]\n",
      "100%|██████████| 67/67 [00:20<00:00,  3.22it/s]\n",
      "100%|██████████| 18/18 [00:05<00:00,  3.20it/s]\n"
     ]
    },
    {
     "name": "stdout",
     "output_type": "stream",
     "text": [
      "Train loss: 0.11506439764653482\n",
      "Train consistency loss: 0.00387250483314048\n",
      "Validation loss: 0.3140381909906864\n",
      "1m 13s\n",
      "Early Stopping Counter = 4\n",
      "Epoch 292/300\n"
     ]
    },
    {
     "name": "stderr",
     "output_type": "stream",
     "text": [
      "100%|██████████| 155/155 [00:46<00:00,  3.33it/s]\n",
      "100%|██████████| 67/67 [00:20<00:00,  3.20it/s]\n",
      "100%|██████████| 18/18 [00:05<00:00,  3.29it/s]\n"
     ]
    },
    {
     "name": "stdout",
     "output_type": "stream",
     "text": [
      "Train loss: 0.11594222553314701\n",
      "Train consistency loss: 0.0034773349883590837\n",
      "Validation loss: 0.3029270838532183\n",
      "1m 13s\n",
      "Early Stopping Counter = 5\n",
      "Epoch 293/300\n"
     ]
    },
    {
     "name": "stderr",
     "output_type": "stream",
     "text": [
      "100%|██████████| 155/155 [00:46<00:00,  3.34it/s]\n",
      "100%|██████████| 67/67 [00:20<00:00,  3.21it/s]\n",
      "100%|██████████| 18/18 [00:05<00:00,  3.26it/s]\n"
     ]
    },
    {
     "name": "stdout",
     "output_type": "stream",
     "text": [
      "Train loss: 0.11496702697007886\n",
      "Train consistency loss: 0.0031004361130658594\n",
      "Validation loss: 0.2998781789922052\n",
      "1m 13s\n",
      "Consistency Loss declined to 0.0031004361130658594\n",
      "Early Stopping Counter = 0\n",
      "Epoch 294/300\n"
     ]
    },
    {
     "name": "stderr",
     "output_type": "stream",
     "text": [
      "100%|██████████| 155/155 [00:46<00:00,  3.32it/s]\n",
      "100%|██████████| 67/67 [00:20<00:00,  3.22it/s]\n",
      "100%|██████████| 18/18 [00:05<00:00,  3.32it/s]\n"
     ]
    },
    {
     "name": "stdout",
     "output_type": "stream",
     "text": [
      "Train loss: 0.11499581048565526\n",
      "Train consistency loss: 0.003117871924247871\n",
      "Validation loss: 0.30336952664785916\n",
      "1m 13s\n",
      "Early Stopping Counter = 1\n",
      "Epoch 295/300\n"
     ]
    },
    {
     "name": "stderr",
     "output_type": "stream",
     "text": [
      "100%|██████████| 155/155 [00:46<00:00,  3.34it/s]\n",
      "100%|██████████| 67/67 [00:21<00:00,  3.16it/s]\n",
      "100%|██████████| 18/18 [00:05<00:00,  3.29it/s]\n"
     ]
    },
    {
     "name": "stdout",
     "output_type": "stream",
     "text": [
      "Train loss: 0.11428074735787606\n",
      "Train consistency loss: 0.002979730381873617\n",
      "Validation loss: 0.30104900730980766\n",
      "1m 13s\n",
      "Consistency Loss declined to 0.002979730381873617\n",
      "Early Stopping Counter = 0\n",
      "Epoch 296/300\n"
     ]
    },
    {
     "name": "stderr",
     "output_type": "stream",
     "text": [
      "100%|██████████| 155/155 [00:46<00:00,  3.33it/s]\n",
      "100%|██████████| 67/67 [00:20<00:00,  3.21it/s]\n",
      "100%|██████████| 18/18 [00:05<00:00,  3.27it/s]\n"
     ]
    },
    {
     "name": "stdout",
     "output_type": "stream",
     "text": [
      "Train loss: 0.1148333998457078\n",
      "Train consistency loss: 0.003051451148479176\n",
      "Validation loss: 0.30149248035417664\n",
      "1m 13s\n",
      "Early Stopping Counter = 1\n",
      "Epoch 297/300\n"
     ]
    },
    {
     "name": "stderr",
     "output_type": "stream",
     "text": [
      "100%|██████████| 155/155 [00:46<00:00,  3.34it/s]\n",
      "100%|██████████| 67/67 [00:21<00:00,  3.18it/s]\n",
      "100%|██████████| 18/18 [00:05<00:00,  3.22it/s]\n"
     ]
    },
    {
     "name": "stdout",
     "output_type": "stream",
     "text": [
      "Train loss: 0.11462786029423437\n",
      "Train consistency loss: 0.0033633056055031607\n",
      "Validation loss: 0.31099928066962296\n",
      "1m 13s\n",
      "Early Stopping Counter = 2\n",
      "Epoch 298/300\n"
     ]
    },
    {
     "name": "stderr",
     "output_type": "stream",
     "text": [
      "100%|██████████| 155/155 [00:46<00:00,  3.32it/s]\n",
      "100%|██████████| 67/67 [00:21<00:00,  3.16it/s]\n",
      "100%|██████████| 18/18 [00:05<00:00,  3.33it/s]\n"
     ]
    },
    {
     "name": "stdout",
     "output_type": "stream",
     "text": [
      "Train loss: 0.11524715755254991\n",
      "Train consistency loss: 0.00391391080755518\n",
      "Validation loss: 0.3282448661824067\n",
      "1m 13s\n",
      "Early Stopping Counter = 3\n",
      "Epoch 299/300\n"
     ]
    },
    {
     "name": "stderr",
     "output_type": "stream",
     "text": [
      "100%|██████████| 155/155 [00:46<00:00,  3.33it/s]\n",
      "100%|██████████| 67/67 [00:21<00:00,  3.18it/s]\n",
      "100%|██████████| 18/18 [00:05<00:00,  3.21it/s]\n"
     ]
    },
    {
     "name": "stdout",
     "output_type": "stream",
     "text": [
      "Train loss: 0.11392802846047186\n",
      "Train consistency loss: 0.0031389833841500665\n",
      "Validation loss: 0.298199235358172\n",
      "1m 13s\n",
      "Early Stopping Counter = 4\n",
      "Epoch 300/300\n"
     ]
    },
    {
     "name": "stderr",
     "output_type": "stream",
     "text": [
      "100%|██████████| 155/155 [00:46<00:00,  3.32it/s]\n",
      "100%|██████████| 67/67 [00:20<00:00,  3.22it/s]\n",
      "100%|██████████| 18/18 [00:05<00:00,  3.27it/s]\n"
     ]
    },
    {
     "name": "stdout",
     "output_type": "stream",
     "text": [
      "Train loss: 0.11406560420028625\n",
      "Train consistency loss: 0.0032538296411564545\n",
      "Validation loss: 0.30540134343836045\n",
      "1m 13s\n",
      "Early Stopping Counter = 5\n"
     ]
    },
    {
     "name": "stderr",
     "output_type": "stream",
     "text": [
      "100%|██████████| 16/16 [02:05<00:00,  7.82s/it]\n"
     ]
    },
    {
     "name": "stdout",
     "output_type": "stream",
     "text": [
      "F1-Score : 0.6504595279693604\n",
      "Accuracy : 0.9977738261222839\n",
      "Specificity : 0.9992276430130005\n",
      "Recall : 0.603363037109375\n",
      "Precision : 0.7393608093261719\n"
     ]
    },
    {
     "name": "stderr",
     "output_type": "stream",
     "text": [
      " 99%|█████████▊| 67/68 [09:03<00:08,  8.11s/it]\n",
      "100%|██████████| 4292/4292 [01:42<00:00, 41.78it/s] \n"
     ]
    },
    {
     "name": "stdout",
     "output_type": "stream",
     "text": [
      "Epoch 1/300\n"
     ]
    },
    {
     "name": "stderr",
     "output_type": "stream",
     "text": [
      "100%|██████████| 155/155 [00:46<00:00,  3.33it/s]\n",
      "100%|██████████| 67/67 [00:21<00:00,  3.14it/s]\n",
      "100%|██████████| 18/18 [00:05<00:00,  3.14it/s]\n"
     ]
    },
    {
     "name": "stdout",
     "output_type": "stream",
     "text": [
      "Train loss: 0.3523223045372194\n",
      "Train consistency loss: 0.08892247414411004\n",
      "Validation loss: 0.4355974081489775\n",
      "1m 14s\n",
      "Consistency Loss declined to 0.08892247414411004\n",
      "Early Stopping Counter = 0\n",
      "Epoch 2/300\n"
     ]
    },
    {
     "name": "stderr",
     "output_type": "stream",
     "text": [
      "100%|██████████| 155/155 [00:46<00:00,  3.32it/s]\n",
      "100%|██████████| 67/67 [00:20<00:00,  3.21it/s]\n",
      "100%|██████████| 18/18 [00:05<00:00,  3.34it/s]\n"
     ]
    },
    {
     "name": "stdout",
     "output_type": "stream",
     "text": [
      "Train loss: 0.2637090814690436\n",
      "Train consistency loss: 0.08107309816266174\n",
      "Validation loss: 0.46301309764385223\n",
      "1m 13s\n",
      "Consistency Loss declined to 0.08107309816266174\n",
      "Early Stopping Counter = 0\n",
      "Epoch 3/300\n"
     ]
    },
    {
     "name": "stderr",
     "output_type": "stream",
     "text": [
      " 57%|█████▋    | 88/155 [00:27<00:20,  3.20it/s]\n"
     ]
    },
    {
     "ename": "KeyboardInterrupt",
     "evalue": "",
     "output_type": "error",
     "traceback": [
      "\u001b[0;31m---------------------------------------------------------------------------\u001b[0m",
      "\u001b[0;31mKeyboardInterrupt\u001b[0m                         Traceback (most recent call last)",
      "\u001b[1;32m/home/ubuntu/domain-adaptation-for-crack-segmentation/main.ipynb セル 3\u001b[0m line \u001b[0;36m1\n\u001b[1;32m     <a href='vscode-notebook-cell://ssh-remote%2Bkikuta_server/home/ubuntu/domain-adaptation-for-crack-segmentation/main.ipynb#W2sdnNjb2RlLXJlbW90ZQ%3D%3D?line=14'>15</a>\u001b[0m     \u001b[39mpass\u001b[39;00m\n\u001b[1;32m     <a href='vscode-notebook-cell://ssh-remote%2Bkikuta_server/home/ubuntu/domain-adaptation-for-crack-segmentation/main.ipynb#W2sdnNjb2RlLXJlbW90ZQ%3D%3D?line=15'>16</a>\u001b[0m \u001b[39melse\u001b[39;00m:\n\u001b[0;32m---> <a href='vscode-notebook-cell://ssh-remote%2Bkikuta_server/home/ubuntu/domain-adaptation-for-crack-segmentation/main.ipynb#W2sdnNjb2RlLXJlbW90ZQ%3D%3D?line=16'>17</a>\u001b[0m     train(former_folname\u001b[39m=\u001b[39;49mfolnames[i\u001b[39m-\u001b[39;49m\u001b[39m1\u001b[39;49m], folname\u001b[39m=\u001b[39;49mfolnames[i], first\u001b[39m=\u001b[39;49m\u001b[39mFalse\u001b[39;49;00m, net\u001b[39m=\u001b[39;49m\u001b[39m\"\u001b[39;49m\u001b[39mdeeplab\u001b[39;49m\u001b[39m\"\u001b[39;49m, epochs\u001b[39m=\u001b[39;49m\u001b[39m300\u001b[39;49m, batch_size\u001b[39m=\u001b[39;49m\u001b[39m64\u001b[39;49m, alpha\u001b[39m=\u001b[39;49m\u001b[39m1000\u001b[39;49m)\n\u001b[1;32m     <a href='vscode-notebook-cell://ssh-remote%2Bkikuta_server/home/ubuntu/domain-adaptation-for-crack-segmentation/main.ipynb#W2sdnNjb2RlLXJlbW90ZQ%3D%3D?line=17'>18</a>\u001b[0m     scores \u001b[39m=\u001b[39m inference(former_folname\u001b[39m=\u001b[39mfolnames[i\u001b[39m-\u001b[39m\u001b[39m1\u001b[39m], folname\u001b[39m=\u001b[39mfolnames[i], net\u001b[39m=\u001b[39m\u001b[39m\"\u001b[39m\u001b[39mdeeplab\u001b[39m\u001b[39m\"\u001b[39m, batch_size\u001b[39m=\u001b[39m\u001b[39m64\u001b[39m)\n\u001b[1;32m     <a href='vscode-notebook-cell://ssh-remote%2Bkikuta_server/home/ubuntu/domain-adaptation-for-crack-segmentation/main.ipynb#W2sdnNjb2RlLXJlbW90ZQ%3D%3D?line=18'>19</a>\u001b[0m     write_to_csv(i\u001b[39m+\u001b[39m\u001b[39m1\u001b[39m, scores, csv_filename)\n",
      "File \u001b[0;32m~/domain-adaptation-for-crack-segmentation/train.py:84\u001b[0m, in \u001b[0;36mtrain\u001b[0;34m(former_folname, folname, first, net, batch_size, num_workers, epochs, alpha, beta, crop_size)\u001b[0m\n\u001b[1;32m     82\u001b[0m     loss\u001b[39m.\u001b[39mbackward()\n\u001b[1;32m     83\u001b[0m     optimizer\u001b[39m.\u001b[39mstep()\n\u001b[0;32m---> 84\u001b[0m     running_train_loss\u001b[39m.\u001b[39mappend(loss\u001b[39m.\u001b[39;49mitem())\n\u001b[1;32m     86\u001b[0m \u001b[39mif\u001b[39;00m \u001b[39mnot\u001b[39;00m first:\n\u001b[1;32m     87\u001b[0m     \u001b[39mfor\u001b[39;00m image, mean, var \u001b[39min\u001b[39;00m tqdm(train_unlabeled_dataloader):\n",
      "\u001b[0;31mKeyboardInterrupt\u001b[0m: "
     ]
    }
   ],
   "source": [
    "project = \"231023\"\n",
    "folnames = [project+\"_iter1\", project+\"_iter2\", project+\"_iter3\", project+\"_iter4\", project+\"_iter5\"]\n",
    "os.makedirs('results/'+ project +'_results', exist_ok=True)\n",
    "csv_filename = 'results/'+project+'_results/results.csv'\n",
    "with open(csv_filename, mode='w', newline='') as file:\n",
    "    writer = csv.writer(file)\n",
    "    writer.writerow(['Iteration', 'F1-Score', 'Accuracy', 'Specificity', 'Recall', 'Precision'])\n",
    "\n",
    "for i in range(len(folnames)):\n",
    "    if i==0:\n",
    "        # train(former_folname=\"hoge\", folname=folnames[i], first=True, net=\"deeplab\", epochs=300, batch_size=64)\n",
    "        scores = inference(former_folname=\"hoge\", folname=folnames[i], net=\"deeplab\", batch_size=64)\n",
    "        write_to_csv(i+1, scores, csv_filename)\n",
    "        save_mask(former_folname=\"hoge\", folname=folnames[i], net=\"deeplab\", batch_size=64)\n",
    "        pass\n",
    "    else:\n",
    "        train(former_folname=folnames[i-1], folname=folnames[i], first=False, net=\"deeplab\", epochs=300, batch_size=64, alpha=1000)\n",
    "        scores = inference(former_folname=folnames[i-1], folname=folnames[i], net=\"deeplab\", batch_size=64)\n",
    "        write_to_csv(i+1, scores, csv_filename)\n",
    "        save_mask(former_folname=folnames[i-1], folname=folnames[i], net=\"deeplab\", batch_size=64)"
   ]
  },
  {
   "cell_type": "code",
   "execution_count": null,
   "metadata": {},
   "outputs": [],
   "source": []
  },
  {
   "cell_type": "code",
   "execution_count": 6,
   "metadata": {},
   "outputs": [
    {
     "name": "stdout",
     "output_type": "stream",
     "text": [
      "4292\n",
      "4292\n"
     ]
    }
   ],
   "source": [
    "meanlst = os.listdir(\"data/unlabeled_mask/231021_iter1/pred_mean_corrected/\")\n",
    "varlst = os.listdir(\"data/unlabeled_mask/231021_iter1/pred_var/\")\n",
    "print(len(meanlst))\n",
    "print(len(varlst))"
   ]
  },
  {
   "cell_type": "code",
   "execution_count": 3,
   "metadata": {},
   "outputs": [],
   "source": [
    "import numpy as np\n",
    "from PIL import Image\n",
    "meanlst = os.listdir(\"data/unlabeled_mask/231021_iter1/pred_mean_corrected/\")\n",
    "varlst = os.listdir(\"data/unlabeled_mask/231021_iter1/pred_var/\")\n",
    "\n",
    "# # 各画像を処理\n",
    "for file_name in meanlst:\n",
    "    file_path = os.path.join(\"data/unlabeled_mask/231021_iter1/pred_mean_corrected\", file_name)\n",
    "    \n",
    "    # 画像をnumpy配列に読み込む\n",
    "    img = np.array(Image.open(file_path))\n",
    "    \n",
    "    # 画像サイズが256x256でない場合、警告を表示\n",
    "    if img.shape != (256, 256):\n",
    "        print(f\"異なるサイズの画像: {file_name}, サイズ: {img.shape}\")"
   ]
  },
  {
   "cell_type": "code",
   "execution_count": 4,
   "metadata": {},
   "outputs": [],
   "source": [
    "import os\n",
    "import torch\n",
    "\n",
    "# フォルダのパス\n",
    "folder_path = \"data/unlabeled_mask/231021_iter1/pred_var/\"\n",
    "\n",
    "# フォルダ内の全ての.ptファイルをリストアップ\n",
    "pt_files = [f for f in os.listdir(folder_path) if f.endswith(\".pt\")]\n",
    "\n",
    "# 各ファイルを処理\n",
    "for file_name in pt_files:\n",
    "    file_path = os.path.join(folder_path, file_name)\n",
    "    \n",
    "    # PyTorch tensorを読み込む\n",
    "    tensor = torch.load(file_path)\n",
    "    \n",
    "    # 配列サイズが(256, 256)でない場合、警告を表示\n",
    "    if tensor.size() != torch.Size([256, 256]):\n",
    "        print(f\"異なるサイズのPyTorch tensor: {file_name}, サイズ: {tensor.size()}\")\n"
   ]
  },
  {
   "cell_type": "code",
   "execution_count": 5,
   "metadata": {},
   "outputs": [
    {
     "name": "stdout",
     "output_type": "stream",
     "text": [
      "0.00019613194298671443\n",
      "0.05264750664102345\n"
     ]
    }
   ],
   "source": [
    "import torch\n",
    "import glob\n",
    "\n",
    "fol_name = \"231021_iter1\"\n",
    "\n",
    "# pred_varを全て読み込み、torch.meanとtorch.maxの平均を計算する\n",
    "pred_var_path = sorted(glob.glob(f'data/unlabeled_mask/{fol_name}/pred_var/*'))\n",
    "mean_box = []\n",
    "max_box = []\n",
    "\n",
    "for file in pred_var_path:\n",
    "    pred_var = torch.load(file)\n",
    "    mean_box.append(torch.mean(pred_var).item())\n",
    "    max_box.append(torch.max(pred_var).item())\n",
    "\n",
    "print(sum(mean_box)/len(mean_box))\n",
    "print(sum(max_box)/len(max_box))"
   ]
  },
  {
   "cell_type": "code",
   "execution_count": null,
   "metadata": {},
   "outputs": [],
   "source": []
  }
 ],
 "metadata": {
  "kernelspec": {
   "display_name": "env",
   "language": "python",
   "name": "python3"
  },
  "language_info": {
   "codemirror_mode": {
    "name": "ipython",
    "version": 3
   },
   "file_extension": ".py",
   "mimetype": "text/x-python",
   "name": "python",
   "nbconvert_exporter": "python",
   "pygments_lexer": "ipython3",
   "version": "3.10.9"
  }
 },
 "nbformat": 4,
 "nbformat_minor": 2
}
