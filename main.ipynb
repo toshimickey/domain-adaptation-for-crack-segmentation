{
 "cells": [
  {
   "cell_type": "code",
   "execution_count": null,
   "metadata": {},
   "outputs": [],
   "source": [
    "from train import train\n",
    "from inference import inference\n",
    "from save_mask import save_mask\n",
    "import csv, os\n",
    "from utils.module import write_to_csv"
   ]
  },
  {
   "cell_type": "code",
   "execution_count": null,
   "metadata": {},
   "outputs": [],
   "source": [
    "!nvidia-smi"
   ]
  },
  {
   "cell_type": "code",
   "execution_count": 3,
   "metadata": {},
   "outputs": [
    {
     "name": "stderr",
     "output_type": "stream",
     "text": [
      "100%|██████████| 15/15 [00:09<00:00,  1.61it/s]\n",
      "100%|██████████| 18/18 [00:05<00:00,  3.29it/s]\n"
     ]
    },
    {
     "name": "stdout",
     "output_type": "stream",
     "text": [
      "1m 1s\n",
      "Early Stopping Counter = 5\n",
      "Epoch 178/300\n"
     ]
    },
    {
     "name": "stderr",
     "output_type": "stream",
     "text": [
      "100%|██████████| 155/155 [00:46<00:00,  3.35it/s]\n",
      "100%|██████████| 15/15 [00:09<00:00,  1.55it/s]\n",
      "100%|██████████| 18/18 [00:05<00:00,  3.26it/s]\n"
     ]
    },
    {
     "name": "stdout",
     "output_type": "stream",
     "text": [
      "1m 1s\n",
      "Early Stopping Counter = 6\n",
      "Epoch 179/300\n"
     ]
    },
    {
     "name": "stderr",
     "output_type": "stream",
     "text": [
      "100%|██████████| 155/155 [00:46<00:00,  3.35it/s]\n",
      "100%|██████████| 15/15 [00:09<00:00,  1.59it/s]\n",
      "100%|██████████| 18/18 [00:05<00:00,  3.30it/s]\n"
     ]
    },
    {
     "name": "stdout",
     "output_type": "stream",
     "text": [
      "1m 1s\n",
      "Early Stopping Counter = 7\n",
      "Epoch 180/300\n"
     ]
    },
    {
     "name": "stderr",
     "output_type": "stream",
     "text": [
      "100%|██████████| 155/155 [00:46<00:00,  3.36it/s]\n",
      "100%|██████████| 15/15 [00:09<00:00,  1.59it/s]\n",
      "100%|██████████| 18/18 [00:05<00:00,  3.37it/s]\n"
     ]
    },
    {
     "name": "stdout",
     "output_type": "stream",
     "text": [
      "1m 1s\n",
      "Early Stopping Counter = 8\n",
      "Epoch 181/300\n"
     ]
    },
    {
     "name": "stderr",
     "output_type": "stream",
     "text": [
      "100%|██████████| 155/155 [00:46<00:00,  3.35it/s]\n",
      "100%|██████████| 15/15 [00:09<00:00,  1.59it/s]\n",
      "100%|██████████| 18/18 [00:05<00:00,  3.29it/s]\n"
     ]
    },
    {
     "name": "stdout",
     "output_type": "stream",
     "text": [
      "1m 1s\n",
      "Consistency Loss declined to 0.007470065355300903\n",
      "Early Stopping Counter = 0\n",
      "Epoch 182/300\n"
     ]
    },
    {
     "name": "stderr",
     "output_type": "stream",
     "text": [
      "100%|██████████| 155/155 [00:46<00:00,  3.34it/s]\n",
      "100%|██████████| 15/15 [00:09<00:00,  1.60it/s]\n",
      "100%|██████████| 18/18 [00:05<00:00,  3.35it/s]\n"
     ]
    },
    {
     "name": "stdout",
     "output_type": "stream",
     "text": [
      "1m 1s\n",
      "Early Stopping Counter = 1\n",
      "Epoch 183/300\n"
     ]
    },
    {
     "name": "stderr",
     "output_type": "stream",
     "text": [
      "100%|██████████| 155/155 [00:46<00:00,  3.35it/s]\n",
      "100%|██████████| 15/15 [00:09<00:00,  1.62it/s]\n",
      "100%|██████████| 18/18 [00:05<00:00,  3.36it/s]\n"
     ]
    },
    {
     "name": "stdout",
     "output_type": "stream",
     "text": [
      "1m 1s\n",
      "Early Stopping Counter = 2\n",
      "Epoch 184/300\n"
     ]
    },
    {
     "name": "stderr",
     "output_type": "stream",
     "text": [
      "100%|██████████| 155/155 [00:46<00:00,  3.35it/s]\n",
      "100%|██████████| 15/15 [00:09<00:00,  1.59it/s]\n",
      "100%|██████████| 18/18 [00:05<00:00,  3.40it/s]\n"
     ]
    },
    {
     "name": "stdout",
     "output_type": "stream",
     "text": [
      "1m 1s\n",
      "Early Stopping Counter = 3\n",
      "Epoch 185/300\n"
     ]
    },
    {
     "name": "stderr",
     "output_type": "stream",
     "text": [
      "100%|██████████| 155/155 [00:46<00:00,  3.32it/s]\n",
      "100%|██████████| 15/15 [00:09<00:00,  1.59it/s]\n",
      "100%|██████████| 18/18 [00:05<00:00,  3.26it/s]\n"
     ]
    },
    {
     "name": "stdout",
     "output_type": "stream",
     "text": [
      "1m 2s\n",
      "Consistency Loss declined to 0.007276703603565693\n",
      "Early Stopping Counter = 0\n",
      "Epoch 186/300\n"
     ]
    },
    {
     "name": "stderr",
     "output_type": "stream",
     "text": [
      "100%|██████████| 155/155 [00:46<00:00,  3.36it/s]\n",
      "100%|██████████| 15/15 [00:09<00:00,  1.59it/s]\n",
      "100%|██████████| 18/18 [00:05<00:00,  3.30it/s]\n"
     ]
    },
    {
     "name": "stdout",
     "output_type": "stream",
     "text": [
      "1m 1s\n",
      "Consistency Loss declined to 0.0071599319577217106\n",
      "Early Stopping Counter = 0\n",
      "Epoch 187/300\n"
     ]
    },
    {
     "name": "stderr",
     "output_type": "stream",
     "text": [
      "100%|██████████| 155/155 [00:46<00:00,  3.33it/s]\n",
      "100%|██████████| 15/15 [00:09<00:00,  1.59it/s]\n",
      "100%|██████████| 18/18 [00:05<00:00,  3.24it/s]\n"
     ]
    },
    {
     "name": "stdout",
     "output_type": "stream",
     "text": [
      "1m 2s\n",
      "Consistency Loss declined to 0.007130634008596341\n",
      "Early Stopping Counter = 0\n",
      "Epoch 188/300\n"
     ]
    },
    {
     "name": "stderr",
     "output_type": "stream",
     "text": [
      "100%|██████████| 155/155 [00:46<00:00,  3.32it/s]\n",
      "100%|██████████| 15/15 [00:09<00:00,  1.62it/s]\n",
      "100%|██████████| 18/18 [00:05<00:00,  3.28it/s]\n"
     ]
    },
    {
     "name": "stdout",
     "output_type": "stream",
     "text": [
      "1m 1s\n",
      "Consistency Loss declined to 0.006787147124608358\n",
      "Early Stopping Counter = 0\n",
      "Epoch 189/300\n"
     ]
    },
    {
     "name": "stderr",
     "output_type": "stream",
     "text": [
      "100%|██████████| 155/155 [00:46<00:00,  3.33it/s]\n",
      "100%|██████████| 15/15 [00:09<00:00,  1.61it/s]\n",
      "100%|██████████| 18/18 [00:05<00:00,  3.34it/s]\n"
     ]
    },
    {
     "name": "stdout",
     "output_type": "stream",
     "text": [
      "1m 1s\n",
      "Early Stopping Counter = 1\n",
      "Epoch 190/300\n"
     ]
    },
    {
     "name": "stderr",
     "output_type": "stream",
     "text": [
      "100%|██████████| 155/155 [00:46<00:00,  3.36it/s]\n",
      "100%|██████████| 15/15 [00:09<00:00,  1.60it/s]\n",
      "100%|██████████| 18/18 [00:05<00:00,  3.30it/s]\n"
     ]
    },
    {
     "name": "stdout",
     "output_type": "stream",
     "text": [
      "1m 1s\n",
      "Early Stopping Counter = 2\n",
      "Epoch 191/300\n"
     ]
    },
    {
     "name": "stderr",
     "output_type": "stream",
     "text": [
      "100%|██████████| 155/155 [00:46<00:00,  3.36it/s]\n",
      "100%|██████████| 15/15 [00:09<00:00,  1.61it/s]\n",
      "100%|██████████| 18/18 [00:05<00:00,  3.35it/s]\n"
     ]
    },
    {
     "name": "stdout",
     "output_type": "stream",
     "text": [
      "1m 1s\n",
      "Consistency Loss declined to 0.006714241082469622\n",
      "Early Stopping Counter = 0\n",
      "Epoch 192/300\n"
     ]
    },
    {
     "name": "stderr",
     "output_type": "stream",
     "text": [
      "100%|██████████| 155/155 [00:46<00:00,  3.33it/s]\n",
      "100%|██████████| 15/15 [00:09<00:00,  1.61it/s]\n",
      "100%|██████████| 18/18 [00:05<00:00,  3.35it/s]\n"
     ]
    },
    {
     "name": "stdout",
     "output_type": "stream",
     "text": [
      "1m 1s\n",
      "Early Stopping Counter = 1\n",
      "Epoch 193/300\n"
     ]
    },
    {
     "name": "stderr",
     "output_type": "stream",
     "text": [
      "100%|██████████| 155/155 [00:46<00:00,  3.35it/s]\n",
      "100%|██████████| 15/15 [00:09<00:00,  1.61it/s]\n",
      "100%|██████████| 18/18 [00:05<00:00,  3.30it/s]\n"
     ]
    },
    {
     "name": "stdout",
     "output_type": "stream",
     "text": [
      "1m 1s\n",
      "Early Stopping Counter = 2\n",
      "Epoch 194/300\n"
     ]
    },
    {
     "name": "stderr",
     "output_type": "stream",
     "text": [
      "100%|██████████| 155/155 [00:46<00:00,  3.35it/s]\n",
      "100%|██████████| 15/15 [00:09<00:00,  1.60it/s]\n",
      "100%|██████████| 18/18 [00:05<00:00,  3.30it/s]\n"
     ]
    },
    {
     "name": "stdout",
     "output_type": "stream",
     "text": [
      "1m 1s\n",
      "Early Stopping Counter = 3\n",
      "Epoch 195/300\n"
     ]
    },
    {
     "name": "stderr",
     "output_type": "stream",
     "text": [
      "100%|██████████| 155/155 [00:46<00:00,  3.35it/s]\n",
      "100%|██████████| 15/15 [00:09<00:00,  1.60it/s]\n",
      "100%|██████████| 18/18 [00:05<00:00,  3.29it/s]\n"
     ]
    },
    {
     "name": "stdout",
     "output_type": "stream",
     "text": [
      "1m 1s\n",
      "Early Stopping Counter = 4\n",
      "Epoch 196/300\n"
     ]
    },
    {
     "name": "stderr",
     "output_type": "stream",
     "text": [
      "100%|██████████| 155/155 [00:46<00:00,  3.35it/s]\n",
      "100%|██████████| 15/15 [00:09<00:00,  1.59it/s]\n",
      "100%|██████████| 18/18 [00:05<00:00,  3.32it/s]\n"
     ]
    },
    {
     "name": "stdout",
     "output_type": "stream",
     "text": [
      "1m 1s\n",
      "Early Stopping Counter = 5\n",
      "Epoch 197/300\n"
     ]
    },
    {
     "name": "stderr",
     "output_type": "stream",
     "text": [
      "100%|██████████| 155/155 [00:46<00:00,  3.35it/s]\n",
      "100%|██████████| 15/15 [00:09<00:00,  1.60it/s]\n",
      "100%|██████████| 18/18 [00:05<00:00,  3.27it/s]\n"
     ]
    },
    {
     "name": "stdout",
     "output_type": "stream",
     "text": [
      "1m 1s\n",
      "Early Stopping Counter = 6\n",
      "Epoch 198/300\n"
     ]
    },
    {
     "name": "stderr",
     "output_type": "stream",
     "text": [
      "100%|██████████| 155/155 [00:46<00:00,  3.34it/s]\n",
      "100%|██████████| 15/15 [00:09<00:00,  1.59it/s]\n",
      "100%|██████████| 18/18 [00:05<00:00,  3.27it/s]\n"
     ]
    },
    {
     "name": "stdout",
     "output_type": "stream",
     "text": [
      "1m 1s\n",
      "Early Stopping Counter = 7\n",
      "Epoch 199/300\n"
     ]
    },
    {
     "name": "stderr",
     "output_type": "stream",
     "text": [
      "100%|██████████| 155/155 [00:46<00:00,  3.34it/s]\n",
      "100%|██████████| 15/15 [00:09<00:00,  1.59it/s]\n",
      "100%|██████████| 18/18 [00:05<00:00,  3.34it/s]\n"
     ]
    },
    {
     "name": "stdout",
     "output_type": "stream",
     "text": [
      "1m 1s\n",
      "Consistency Loss declined to 0.006279963534325361\n",
      "Early Stopping Counter = 0\n",
      "Epoch 200/300\n"
     ]
    },
    {
     "name": "stderr",
     "output_type": "stream",
     "text": [
      "100%|██████████| 155/155 [00:46<00:00,  3.33it/s]\n",
      "100%|██████████| 15/15 [00:09<00:00,  1.61it/s]\n",
      "100%|██████████| 18/18 [00:05<00:00,  3.24it/s]\n"
     ]
    },
    {
     "name": "stdout",
     "output_type": "stream",
     "text": [
      "1m 1s\n",
      "Early Stopping Counter = 1\n",
      "Epoch 201/300\n"
     ]
    },
    {
     "name": "stderr",
     "output_type": "stream",
     "text": [
      "100%|██████████| 155/155 [00:46<00:00,  3.36it/s]\n",
      "100%|██████████| 15/15 [00:09<00:00,  1.61it/s]\n",
      "100%|██████████| 18/18 [00:05<00:00,  3.31it/s]\n"
     ]
    },
    {
     "name": "stdout",
     "output_type": "stream",
     "text": [
      "1m 1s\n",
      "Early Stopping Counter = 2\n",
      "Epoch 202/300\n"
     ]
    },
    {
     "name": "stderr",
     "output_type": "stream",
     "text": [
      "100%|██████████| 155/155 [00:46<00:00,  3.36it/s]\n",
      "100%|██████████| 15/15 [00:09<00:00,  1.58it/s]\n",
      "100%|██████████| 18/18 [00:05<00:00,  3.32it/s]\n"
     ]
    },
    {
     "name": "stdout",
     "output_type": "stream",
     "text": [
      "1m 1s\n",
      "Early Stopping Counter = 3\n",
      "Epoch 203/300\n"
     ]
    },
    {
     "name": "stderr",
     "output_type": "stream",
     "text": [
      "100%|██████████| 155/155 [00:46<00:00,  3.35it/s]\n",
      "100%|██████████| 15/15 [00:09<00:00,  1.62it/s]\n",
      "100%|██████████| 18/18 [00:05<00:00,  3.26it/s]\n"
     ]
    },
    {
     "name": "stdout",
     "output_type": "stream",
     "text": [
      "1m 1s\n",
      "Early Stopping Counter = 4\n",
      "Epoch 204/300\n"
     ]
    },
    {
     "name": "stderr",
     "output_type": "stream",
     "text": [
      "100%|██████████| 155/155 [00:46<00:00,  3.34it/s]\n",
      "100%|██████████| 15/15 [00:09<00:00,  1.58it/s]\n",
      "100%|██████████| 18/18 [00:05<00:00,  3.26it/s]\n"
     ]
    },
    {
     "name": "stdout",
     "output_type": "stream",
     "text": [
      "1m 1s\n",
      "Early Stopping Counter = 5\n",
      "Epoch 205/300\n"
     ]
    },
    {
     "name": "stderr",
     "output_type": "stream",
     "text": [
      "100%|██████████| 155/155 [00:46<00:00,  3.35it/s]\n",
      "100%|██████████| 15/15 [00:09<00:00,  1.59it/s]\n",
      "100%|██████████| 18/18 [00:05<00:00,  3.36it/s]\n"
     ]
    },
    {
     "name": "stdout",
     "output_type": "stream",
     "text": [
      "1m 1s\n",
      "Early Stopping Counter = 6\n",
      "Epoch 206/300\n"
     ]
    },
    {
     "name": "stderr",
     "output_type": "stream",
     "text": [
      "100%|██████████| 155/155 [00:46<00:00,  3.35it/s]\n",
      "100%|██████████| 15/15 [00:09<00:00,  1.60it/s]\n",
      "100%|██████████| 18/18 [00:05<00:00,  3.24it/s]\n"
     ]
    },
    {
     "name": "stdout",
     "output_type": "stream",
     "text": [
      "1m 1s\n",
      "Early Stopping Counter = 7\n",
      "Epoch 207/300\n"
     ]
    },
    {
     "name": "stderr",
     "output_type": "stream",
     "text": [
      "100%|██████████| 155/155 [00:46<00:00,  3.35it/s]\n",
      "100%|██████████| 15/15 [00:09<00:00,  1.58it/s]\n",
      "100%|██████████| 18/18 [00:05<00:00,  3.34it/s]\n"
     ]
    },
    {
     "name": "stdout",
     "output_type": "stream",
     "text": [
      "1m 1s\n",
      "Early Stopping Counter = 8\n",
      "Epoch 208/300\n"
     ]
    },
    {
     "name": "stderr",
     "output_type": "stream",
     "text": [
      "100%|██████████| 155/155 [00:46<00:00,  3.37it/s]\n",
      "100%|██████████| 15/15 [00:09<00:00,  1.59it/s]\n",
      "100%|██████████| 18/18 [00:05<00:00,  3.27it/s]\n"
     ]
    },
    {
     "name": "stdout",
     "output_type": "stream",
     "text": [
      "1m 1s\n",
      "Early Stopping Counter = 9\n",
      "Epoch 209/300\n"
     ]
    },
    {
     "name": "stderr",
     "output_type": "stream",
     "text": [
      "100%|██████████| 155/155 [00:46<00:00,  3.35it/s]\n",
      "100%|██████████| 15/15 [00:09<00:00,  1.61it/s]\n",
      "100%|██████████| 18/18 [00:05<00:00,  3.29it/s]\n"
     ]
    },
    {
     "name": "stdout",
     "output_type": "stream",
     "text": [
      "1m 1s\n",
      "Early Stopping Counter = 10\n",
      "Epoch 210/300\n"
     ]
    },
    {
     "name": "stderr",
     "output_type": "stream",
     "text": [
      "100%|██████████| 155/155 [00:46<00:00,  3.36it/s]\n",
      "100%|██████████| 15/15 [00:09<00:00,  1.57it/s]\n",
      "100%|██████████| 18/18 [00:05<00:00,  3.37it/s]\n"
     ]
    },
    {
     "name": "stdout",
     "output_type": "stream",
     "text": [
      "1m 1s\n",
      "Early Stopping Counter = 11\n",
      "Epoch 211/300\n"
     ]
    },
    {
     "name": "stderr",
     "output_type": "stream",
     "text": [
      "100%|██████████| 155/155 [00:46<00:00,  3.36it/s]\n",
      "100%|██████████| 15/15 [00:09<00:00,  1.58it/s]\n",
      "100%|██████████| 18/18 [00:05<00:00,  3.36it/s]\n"
     ]
    },
    {
     "name": "stdout",
     "output_type": "stream",
     "text": [
      "1m 1s\n",
      "Consistency Loss declined to 0.006079337000846863\n",
      "Early Stopping Counter = 0\n",
      "Epoch 212/300\n"
     ]
    },
    {
     "name": "stderr",
     "output_type": "stream",
     "text": [
      "100%|██████████| 155/155 [00:46<00:00,  3.32it/s]\n",
      "100%|██████████| 15/15 [00:09<00:00,  1.60it/s]\n",
      "100%|██████████| 18/18 [00:05<00:00,  3.39it/s]\n"
     ]
    },
    {
     "name": "stdout",
     "output_type": "stream",
     "text": [
      "1m 1s\n",
      "Early Stopping Counter = 1\n",
      "Epoch 213/300\n"
     ]
    },
    {
     "name": "stderr",
     "output_type": "stream",
     "text": [
      "100%|██████████| 155/155 [00:46<00:00,  3.34it/s]\n",
      "100%|██████████| 15/15 [00:09<00:00,  1.58it/s]\n",
      "100%|██████████| 18/18 [00:05<00:00,  3.32it/s]\n"
     ]
    },
    {
     "name": "stdout",
     "output_type": "stream",
     "text": [
      "1m 1s\n",
      "Early Stopping Counter = 2\n",
      "Epoch 214/300\n"
     ]
    },
    {
     "name": "stderr",
     "output_type": "stream",
     "text": [
      "100%|██████████| 155/155 [00:46<00:00,  3.34it/s]\n",
      "100%|██████████| 15/15 [00:09<00:00,  1.58it/s]\n",
      "100%|██████████| 18/18 [00:05<00:00,  3.33it/s]\n"
     ]
    },
    {
     "name": "stdout",
     "output_type": "stream",
     "text": [
      "1m 1s\n",
      "Early Stopping Counter = 3\n",
      "Epoch 215/300\n"
     ]
    },
    {
     "name": "stderr",
     "output_type": "stream",
     "text": [
      "100%|██████████| 155/155 [00:46<00:00,  3.36it/s]\n",
      "100%|██████████| 15/15 [00:09<00:00,  1.59it/s]\n",
      "100%|██████████| 18/18 [00:05<00:00,  3.31it/s]\n"
     ]
    },
    {
     "name": "stdout",
     "output_type": "stream",
     "text": [
      "1m 1s\n",
      "Early Stopping Counter = 4\n",
      "Epoch 216/300\n"
     ]
    },
    {
     "name": "stderr",
     "output_type": "stream",
     "text": [
      "100%|██████████| 155/155 [00:47<00:00,  3.28it/s]\n",
      "100%|██████████| 15/15 [00:09<00:00,  1.59it/s]\n",
      "100%|██████████| 18/18 [00:05<00:00,  3.26it/s]\n"
     ]
    },
    {
     "name": "stdout",
     "output_type": "stream",
     "text": [
      "1m 2s\n",
      "Consistency Loss declined to 0.005953097824628154\n",
      "Early Stopping Counter = 0\n",
      "Epoch 217/300\n"
     ]
    },
    {
     "name": "stderr",
     "output_type": "stream",
     "text": [
      "100%|██████████| 155/155 [00:46<00:00,  3.33it/s]\n",
      "100%|██████████| 15/15 [00:09<00:00,  1.60it/s]\n",
      "100%|██████████| 18/18 [00:05<00:00,  3.26it/s]\n"
     ]
    },
    {
     "name": "stdout",
     "output_type": "stream",
     "text": [
      "1m 1s\n",
      "Early Stopping Counter = 1\n",
      "Epoch 218/300\n"
     ]
    },
    {
     "name": "stderr",
     "output_type": "stream",
     "text": [
      "100%|██████████| 155/155 [00:46<00:00,  3.35it/s]\n",
      "100%|██████████| 15/15 [00:09<00:00,  1.59it/s]\n",
      "100%|██████████| 18/18 [00:05<00:00,  3.14it/s]\n"
     ]
    },
    {
     "name": "stdout",
     "output_type": "stream",
     "text": [
      "1m 2s\n",
      "Early Stopping Counter = 2\n",
      "Epoch 219/300\n"
     ]
    },
    {
     "name": "stderr",
     "output_type": "stream",
     "text": [
      "100%|██████████| 155/155 [00:46<00:00,  3.34it/s]\n",
      "100%|██████████| 15/15 [00:09<00:00,  1.60it/s]\n",
      "100%|██████████| 18/18 [00:05<00:00,  3.34it/s]\n"
     ]
    },
    {
     "name": "stdout",
     "output_type": "stream",
     "text": [
      "1m 1s\n",
      "Early Stopping Counter = 3\n",
      "Epoch 220/300\n"
     ]
    },
    {
     "name": "stderr",
     "output_type": "stream",
     "text": [
      "100%|██████████| 155/155 [00:46<00:00,  3.32it/s]\n",
      "100%|██████████| 15/15 [00:09<00:00,  1.62it/s]\n",
      "100%|██████████| 18/18 [00:05<00:00,  3.37it/s]\n"
     ]
    },
    {
     "name": "stdout",
     "output_type": "stream",
     "text": [
      "1m 1s\n",
      "Early Stopping Counter = 4\n",
      "Epoch 221/300\n"
     ]
    },
    {
     "name": "stderr",
     "output_type": "stream",
     "text": [
      "100%|██████████| 155/155 [00:46<00:00,  3.31it/s]\n",
      "100%|██████████| 15/15 [00:09<00:00,  1.60it/s]\n",
      "100%|██████████| 18/18 [00:05<00:00,  3.27it/s]\n"
     ]
    },
    {
     "name": "stdout",
     "output_type": "stream",
     "text": [
      "1m 2s\n",
      "Early Stopping Counter = 5\n",
      "Epoch 222/300\n"
     ]
    },
    {
     "name": "stderr",
     "output_type": "stream",
     "text": [
      "100%|██████████| 155/155 [00:46<00:00,  3.32it/s]\n",
      "100%|██████████| 15/15 [00:09<00:00,  1.58it/s]\n",
      "100%|██████████| 18/18 [00:05<00:00,  3.33it/s]\n"
     ]
    },
    {
     "name": "stdout",
     "output_type": "stream",
     "text": [
      "1m 2s\n",
      "Consistency Loss declined to 0.005900574165085951\n",
      "Early Stopping Counter = 0\n",
      "Epoch 223/300\n"
     ]
    },
    {
     "name": "stderr",
     "output_type": "stream",
     "text": [
      "100%|██████████| 155/155 [00:46<00:00,  3.31it/s]\n",
      "100%|██████████| 15/15 [00:09<00:00,  1.59it/s]\n",
      "100%|██████████| 18/18 [00:05<00:00,  3.29it/s]\n"
     ]
    },
    {
     "name": "stdout",
     "output_type": "stream",
     "text": [
      "1m 2s\n",
      "Early Stopping Counter = 1\n",
      "Epoch 224/300\n"
     ]
    },
    {
     "name": "stderr",
     "output_type": "stream",
     "text": [
      "100%|██████████| 155/155 [00:46<00:00,  3.35it/s]\n",
      "100%|██████████| 15/15 [00:09<00:00,  1.61it/s]\n",
      "100%|██████████| 18/18 [00:05<00:00,  3.26it/s]\n"
     ]
    },
    {
     "name": "stdout",
     "output_type": "stream",
     "text": [
      "1m 1s\n",
      "Early Stopping Counter = 2\n",
      "Epoch 225/300\n"
     ]
    },
    {
     "name": "stderr",
     "output_type": "stream",
     "text": [
      "100%|██████████| 155/155 [00:46<00:00,  3.35it/s]\n",
      "100%|██████████| 15/15 [00:09<00:00,  1.59it/s]\n",
      "100%|██████████| 18/18 [00:05<00:00,  3.39it/s]\n"
     ]
    },
    {
     "name": "stdout",
     "output_type": "stream",
     "text": [
      "1m 1s\n",
      "Early Stopping Counter = 3\n",
      "Epoch 226/300\n"
     ]
    },
    {
     "name": "stderr",
     "output_type": "stream",
     "text": [
      "100%|██████████| 155/155 [00:46<00:00,  3.35it/s]\n",
      "100%|██████████| 15/15 [00:09<00:00,  1.55it/s]\n",
      "100%|██████████| 18/18 [00:05<00:00,  3.32it/s]\n"
     ]
    },
    {
     "name": "stdout",
     "output_type": "stream",
     "text": [
      "1m 1s\n",
      "Early Stopping Counter = 4\n",
      "Epoch 227/300\n"
     ]
    },
    {
     "name": "stderr",
     "output_type": "stream",
     "text": [
      "100%|██████████| 155/155 [00:46<00:00,  3.35it/s]\n",
      "100%|██████████| 15/15 [00:09<00:00,  1.60it/s]\n",
      "100%|██████████| 18/18 [00:05<00:00,  3.28it/s]\n"
     ]
    },
    {
     "name": "stdout",
     "output_type": "stream",
     "text": [
      "1m 1s\n",
      "Early Stopping Counter = 5\n",
      "Epoch 228/300\n"
     ]
    },
    {
     "name": "stderr",
     "output_type": "stream",
     "text": [
      "100%|██████████| 155/155 [00:46<00:00,  3.35it/s]\n",
      "100%|██████████| 15/15 [00:09<00:00,  1.61it/s]\n",
      "100%|██████████| 18/18 [00:05<00:00,  3.34it/s]\n"
     ]
    },
    {
     "name": "stdout",
     "output_type": "stream",
     "text": [
      "1m 1s\n",
      "Early Stopping Counter = 6\n",
      "Epoch 229/300\n"
     ]
    },
    {
     "name": "stderr",
     "output_type": "stream",
     "text": [
      "100%|██████████| 155/155 [00:46<00:00,  3.35it/s]\n",
      "100%|██████████| 15/15 [00:09<00:00,  1.60it/s]\n",
      "100%|██████████| 18/18 [00:05<00:00,  3.25it/s]\n"
     ]
    },
    {
     "name": "stdout",
     "output_type": "stream",
     "text": [
      "1m 1s\n",
      "Consistency Loss declined to 0.005618321755900979\n",
      "Early Stopping Counter = 0\n",
      "Epoch 230/300\n"
     ]
    },
    {
     "name": "stderr",
     "output_type": "stream",
     "text": [
      "100%|██████████| 155/155 [00:46<00:00,  3.35it/s]\n",
      "100%|██████████| 15/15 [00:09<00:00,  1.59it/s]\n",
      "100%|██████████| 18/18 [00:05<00:00,  3.25it/s]\n"
     ]
    },
    {
     "name": "stdout",
     "output_type": "stream",
     "text": [
      "1m 1s\n",
      "Early Stopping Counter = 1\n",
      "Epoch 231/300\n"
     ]
    },
    {
     "name": "stderr",
     "output_type": "stream",
     "text": [
      "100%|██████████| 155/155 [00:46<00:00,  3.35it/s]\n",
      "100%|██████████| 15/15 [00:09<00:00,  1.59it/s]\n",
      "100%|██████████| 18/18 [00:05<00:00,  3.28it/s]\n"
     ]
    },
    {
     "name": "stdout",
     "output_type": "stream",
     "text": [
      "1m 1s\n",
      "Early Stopping Counter = 2\n",
      "Epoch 232/300\n"
     ]
    },
    {
     "name": "stderr",
     "output_type": "stream",
     "text": [
      "100%|██████████| 155/155 [00:46<00:00,  3.35it/s]\n",
      "100%|██████████| 15/15 [00:09<00:00,  1.59it/s]\n",
      "100%|██████████| 18/18 [00:05<00:00,  3.29it/s]\n"
     ]
    },
    {
     "name": "stdout",
     "output_type": "stream",
     "text": [
      "1m 1s\n",
      "Early Stopping Counter = 3\n",
      "Epoch 233/300\n"
     ]
    },
    {
     "name": "stderr",
     "output_type": "stream",
     "text": [
      "100%|██████████| 155/155 [00:46<00:00,  3.35it/s]\n",
      "100%|██████████| 15/15 [00:09<00:00,  1.59it/s]\n",
      "100%|██████████| 18/18 [00:05<00:00,  3.27it/s]\n"
     ]
    },
    {
     "name": "stdout",
     "output_type": "stream",
     "text": [
      "1m 1s\n",
      "Early Stopping Counter = 4\n",
      "Epoch 234/300\n"
     ]
    },
    {
     "name": "stderr",
     "output_type": "stream",
     "text": [
      "100%|██████████| 155/155 [00:46<00:00,  3.36it/s]\n",
      "100%|██████████| 15/15 [00:09<00:00,  1.55it/s]\n",
      "100%|██████████| 18/18 [00:05<00:00,  3.27it/s]\n"
     ]
    },
    {
     "name": "stdout",
     "output_type": "stream",
     "text": [
      "1m 1s\n",
      "Consistency Loss declined to 0.005394253879785538\n",
      "Early Stopping Counter = 0\n",
      "Epoch 235/300\n"
     ]
    },
    {
     "name": "stderr",
     "output_type": "stream",
     "text": [
      "100%|██████████| 155/155 [00:46<00:00,  3.34it/s]\n",
      "100%|██████████| 15/15 [00:09<00:00,  1.60it/s]\n",
      "100%|██████████| 18/18 [00:05<00:00,  3.29it/s]\n"
     ]
    },
    {
     "name": "stdout",
     "output_type": "stream",
     "text": [
      "1m 1s\n",
      "Early Stopping Counter = 1\n",
      "Epoch 236/300\n"
     ]
    },
    {
     "name": "stderr",
     "output_type": "stream",
     "text": [
      "100%|██████████| 155/155 [00:46<00:00,  3.35it/s]\n",
      "100%|██████████| 15/15 [00:09<00:00,  1.60it/s]\n",
      "100%|██████████| 18/18 [00:05<00:00,  3.30it/s]\n"
     ]
    },
    {
     "name": "stdout",
     "output_type": "stream",
     "text": [
      "1m 1s\n",
      "Early Stopping Counter = 2\n",
      "Epoch 237/300\n"
     ]
    },
    {
     "name": "stderr",
     "output_type": "stream",
     "text": [
      "100%|██████████| 155/155 [00:46<00:00,  3.34it/s]\n",
      "100%|██████████| 15/15 [00:09<00:00,  1.60it/s]\n",
      "100%|██████████| 18/18 [00:05<00:00,  3.34it/s]\n"
     ]
    },
    {
     "name": "stdout",
     "output_type": "stream",
     "text": [
      "1m 1s\n",
      "Early Stopping Counter = 3\n",
      "Epoch 238/300\n"
     ]
    },
    {
     "name": "stderr",
     "output_type": "stream",
     "text": [
      "100%|██████████| 155/155 [00:46<00:00,  3.35it/s]\n",
      "100%|██████████| 15/15 [00:09<00:00,  1.59it/s]\n",
      "100%|██████████| 18/18 [00:05<00:00,  3.41it/s]\n"
     ]
    },
    {
     "name": "stdout",
     "output_type": "stream",
     "text": [
      "1m 1s\n",
      "Early Stopping Counter = 4\n",
      "Epoch 239/300\n"
     ]
    },
    {
     "name": "stderr",
     "output_type": "stream",
     "text": [
      "100%|██████████| 155/155 [00:46<00:00,  3.33it/s]\n",
      "100%|██████████| 15/15 [00:09<00:00,  1.59it/s]\n",
      "100%|██████████| 18/18 [00:05<00:00,  3.26it/s]\n"
     ]
    },
    {
     "name": "stdout",
     "output_type": "stream",
     "text": [
      "1m 1s\n",
      "Early Stopping Counter = 5\n",
      "Epoch 240/300\n"
     ]
    },
    {
     "name": "stderr",
     "output_type": "stream",
     "text": [
      "100%|██████████| 155/155 [00:46<00:00,  3.36it/s]\n",
      "100%|██████████| 15/15 [00:09<00:00,  1.59it/s]\n",
      "100%|██████████| 18/18 [00:05<00:00,  3.31it/s]\n"
     ]
    },
    {
     "name": "stdout",
     "output_type": "stream",
     "text": [
      "1m 1s\n",
      "Early Stopping Counter = 6\n",
      "Epoch 241/300\n"
     ]
    },
    {
     "name": "stderr",
     "output_type": "stream",
     "text": [
      "100%|██████████| 155/155 [00:46<00:00,  3.34it/s]\n",
      "100%|██████████| 15/15 [00:09<00:00,  1.60it/s]\n",
      "100%|██████████| 18/18 [00:05<00:00,  3.29it/s]\n"
     ]
    },
    {
     "name": "stdout",
     "output_type": "stream",
     "text": [
      "1m 1s\n",
      "Early Stopping Counter = 7\n",
      "Epoch 242/300\n"
     ]
    },
    {
     "name": "stderr",
     "output_type": "stream",
     "text": [
      "100%|██████████| 155/155 [00:46<00:00,  3.33it/s]\n",
      "100%|██████████| 15/15 [00:09<00:00,  1.58it/s]\n",
      "100%|██████████| 18/18 [00:05<00:00,  3.29it/s]\n"
     ]
    },
    {
     "name": "stdout",
     "output_type": "stream",
     "text": [
      "1m 2s\n",
      "Consistency Loss declined to 0.005355918128043413\n",
      "Early Stopping Counter = 0\n",
      "Epoch 243/300\n"
     ]
    },
    {
     "name": "stderr",
     "output_type": "stream",
     "text": [
      "100%|██████████| 155/155 [00:46<00:00,  3.32it/s]\n",
      "100%|██████████| 15/15 [00:09<00:00,  1.58it/s]\n",
      "100%|██████████| 18/18 [00:05<00:00,  3.22it/s]\n"
     ]
    },
    {
     "name": "stdout",
     "output_type": "stream",
     "text": [
      "1m 2s\n",
      "Early Stopping Counter = 1\n",
      "Epoch 244/300\n"
     ]
    },
    {
     "name": "stderr",
     "output_type": "stream",
     "text": [
      "100%|██████████| 155/155 [00:46<00:00,  3.35it/s]\n",
      "100%|██████████| 15/15 [00:09<00:00,  1.58it/s]\n",
      "100%|██████████| 18/18 [00:05<00:00,  3.27it/s]\n"
     ]
    },
    {
     "name": "stdout",
     "output_type": "stream",
     "text": [
      "1m 1s\n",
      "Early Stopping Counter = 2\n",
      "Epoch 245/300\n"
     ]
    },
    {
     "name": "stderr",
     "output_type": "stream",
     "text": [
      "100%|██████████| 155/155 [00:46<00:00,  3.35it/s]\n",
      "100%|██████████| 15/15 [00:09<00:00,  1.60it/s]\n",
      "100%|██████████| 18/18 [00:05<00:00,  3.33it/s]\n"
     ]
    },
    {
     "name": "stdout",
     "output_type": "stream",
     "text": [
      "1m 1s\n",
      "Early Stopping Counter = 3\n",
      "Epoch 246/300\n"
     ]
    },
    {
     "name": "stderr",
     "output_type": "stream",
     "text": [
      "100%|██████████| 155/155 [00:46<00:00,  3.36it/s]\n",
      "100%|██████████| 15/15 [00:09<00:00,  1.60it/s]\n",
      "100%|██████████| 18/18 [00:05<00:00,  3.24it/s]\n"
     ]
    },
    {
     "name": "stdout",
     "output_type": "stream",
     "text": [
      "1m 1s\n",
      "Early Stopping Counter = 4\n",
      "Epoch 247/300\n"
     ]
    },
    {
     "name": "stderr",
     "output_type": "stream",
     "text": [
      "100%|██████████| 155/155 [00:46<00:00,  3.34it/s]\n",
      "100%|██████████| 15/15 [00:09<00:00,  1.58it/s]\n",
      "100%|██████████| 18/18 [00:05<00:00,  3.37it/s]\n"
     ]
    },
    {
     "name": "stdout",
     "output_type": "stream",
     "text": [
      "1m 1s\n",
      "Early Stopping Counter = 5\n",
      "Epoch 248/300\n"
     ]
    },
    {
     "name": "stderr",
     "output_type": "stream",
     "text": [
      "100%|██████████| 155/155 [00:46<00:00,  3.35it/s]\n",
      "100%|██████████| 15/15 [00:09<00:00,  1.59it/s]\n",
      "100%|██████████| 18/18 [00:05<00:00,  3.27it/s]\n"
     ]
    },
    {
     "name": "stdout",
     "output_type": "stream",
     "text": [
      "1m 1s\n",
      "Early Stopping Counter = 6\n",
      "Epoch 249/300\n"
     ]
    },
    {
     "name": "stderr",
     "output_type": "stream",
     "text": [
      "100%|██████████| 155/155 [00:46<00:00,  3.35it/s]\n",
      "100%|██████████| 15/15 [00:09<00:00,  1.59it/s]\n",
      "100%|██████████| 18/18 [00:05<00:00,  3.35it/s]\n"
     ]
    },
    {
     "name": "stdout",
     "output_type": "stream",
     "text": [
      "1m 1s\n",
      "Consistency Loss declined to 0.004958894507338604\n",
      "Early Stopping Counter = 0\n",
      "Epoch 250/300\n"
     ]
    },
    {
     "name": "stderr",
     "output_type": "stream",
     "text": [
      "100%|██████████| 155/155 [00:46<00:00,  3.34it/s]\n",
      "100%|██████████| 15/15 [00:09<00:00,  1.61it/s]\n",
      "100%|██████████| 18/18 [00:05<00:00,  3.30it/s]\n"
     ]
    },
    {
     "name": "stdout",
     "output_type": "stream",
     "text": [
      "1m 1s\n",
      "Early Stopping Counter = 1\n",
      "Epoch 251/300\n"
     ]
    },
    {
     "name": "stderr",
     "output_type": "stream",
     "text": [
      "100%|██████████| 155/155 [00:46<00:00,  3.35it/s]\n",
      "100%|██████████| 15/15 [00:09<00:00,  1.58it/s]\n",
      "100%|██████████| 18/18 [00:05<00:00,  3.28it/s]\n"
     ]
    },
    {
     "name": "stdout",
     "output_type": "stream",
     "text": [
      "1m 1s\n",
      "Early Stopping Counter = 2\n",
      "Epoch 252/300\n"
     ]
    },
    {
     "name": "stderr",
     "output_type": "stream",
     "text": [
      "100%|██████████| 155/155 [00:46<00:00,  3.35it/s]\n",
      "100%|██████████| 15/15 [00:09<00:00,  1.59it/s]\n",
      "100%|██████████| 18/18 [00:05<00:00,  3.30it/s]\n"
     ]
    },
    {
     "name": "stdout",
     "output_type": "stream",
     "text": [
      "1m 1s\n",
      "Early Stopping Counter = 3\n",
      "Epoch 253/300\n"
     ]
    },
    {
     "name": "stderr",
     "output_type": "stream",
     "text": [
      "100%|██████████| 155/155 [00:46<00:00,  3.34it/s]\n",
      "100%|██████████| 15/15 [00:09<00:00,  1.61it/s]\n",
      "100%|██████████| 18/18 [00:05<00:00,  3.28it/s]\n"
     ]
    },
    {
     "name": "stdout",
     "output_type": "stream",
     "text": [
      "1m 1s\n",
      "Early Stopping Counter = 4\n",
      "Epoch 254/300\n"
     ]
    },
    {
     "name": "stderr",
     "output_type": "stream",
     "text": [
      "100%|██████████| 155/155 [00:46<00:00,  3.34it/s]\n",
      "100%|██████████| 15/15 [00:09<00:00,  1.58it/s]\n",
      "100%|██████████| 18/18 [00:05<00:00,  3.31it/s]\n"
     ]
    },
    {
     "name": "stdout",
     "output_type": "stream",
     "text": [
      "1m 1s\n",
      "Early Stopping Counter = 5\n",
      "Epoch 255/300\n"
     ]
    },
    {
     "name": "stderr",
     "output_type": "stream",
     "text": [
      "100%|██████████| 155/155 [00:46<00:00,  3.34it/s]\n",
      "100%|██████████| 15/15 [00:09<00:00,  1.59it/s]\n",
      "100%|██████████| 18/18 [00:05<00:00,  3.27it/s]\n"
     ]
    },
    {
     "name": "stdout",
     "output_type": "stream",
     "text": [
      "1m 1s\n",
      "Early Stopping Counter = 6\n",
      "Epoch 256/300\n"
     ]
    },
    {
     "name": "stderr",
     "output_type": "stream",
     "text": [
      "100%|██████████| 155/155 [00:46<00:00,  3.34it/s]\n",
      "100%|██████████| 15/15 [00:09<00:00,  1.56it/s]\n",
      "100%|██████████| 18/18 [00:05<00:00,  3.31it/s]\n"
     ]
    },
    {
     "name": "stdout",
     "output_type": "stream",
     "text": [
      "1m 1s\n",
      "Early Stopping Counter = 7\n",
      "Epoch 257/300\n"
     ]
    },
    {
     "name": "stderr",
     "output_type": "stream",
     "text": [
      "100%|██████████| 155/155 [00:46<00:00,  3.36it/s]\n",
      "100%|██████████| 15/15 [00:09<00:00,  1.51it/s]\n",
      "100%|██████████| 18/18 [00:05<00:00,  3.26it/s]\n"
     ]
    },
    {
     "name": "stdout",
     "output_type": "stream",
     "text": [
      "1m 2s\n",
      "Early Stopping Counter = 8\n",
      "Epoch 258/300\n"
     ]
    },
    {
     "name": "stderr",
     "output_type": "stream",
     "text": [
      "100%|██████████| 155/155 [00:46<00:00,  3.35it/s]\n",
      "100%|██████████| 15/15 [00:09<00:00,  1.59it/s]\n",
      "100%|██████████| 18/18 [00:05<00:00,  3.25it/s]\n"
     ]
    },
    {
     "name": "stdout",
     "output_type": "stream",
     "text": [
      "1m 1s\n",
      "Early Stopping Counter = 9\n",
      "Epoch 259/300\n"
     ]
    },
    {
     "name": "stderr",
     "output_type": "stream",
     "text": [
      "100%|██████████| 155/155 [00:46<00:00,  3.35it/s]\n",
      "100%|██████████| 15/15 [00:09<00:00,  1.60it/s]\n",
      "100%|██████████| 18/18 [00:05<00:00,  3.27it/s]\n"
     ]
    },
    {
     "name": "stdout",
     "output_type": "stream",
     "text": [
      "1m 1s\n",
      "Early Stopping Counter = 10\n",
      "Epoch 260/300\n"
     ]
    },
    {
     "name": "stderr",
     "output_type": "stream",
     "text": [
      "100%|██████████| 155/155 [00:46<00:00,  3.35it/s]\n",
      "100%|██████████| 15/15 [00:09<00:00,  1.61it/s]\n",
      "100%|██████████| 18/18 [00:05<00:00,  3.28it/s]\n"
     ]
    },
    {
     "name": "stdout",
     "output_type": "stream",
     "text": [
      "1m 1s\n",
      "Early Stopping Counter = 11\n",
      "Epoch 261/300\n"
     ]
    },
    {
     "name": "stderr",
     "output_type": "stream",
     "text": [
      "100%|██████████| 155/155 [00:46<00:00,  3.36it/s]\n",
      "100%|██████████| 15/15 [00:09<00:00,  1.60it/s]\n",
      "100%|██████████| 18/18 [00:05<00:00,  3.31it/s]\n"
     ]
    },
    {
     "name": "stdout",
     "output_type": "stream",
     "text": [
      "1m 1s\n",
      "Early Stopping Counter = 12\n",
      "Epoch 262/300\n"
     ]
    },
    {
     "name": "stderr",
     "output_type": "stream",
     "text": [
      "100%|██████████| 155/155 [00:46<00:00,  3.35it/s]\n",
      "100%|██████████| 15/15 [00:09<00:00,  1.59it/s]\n",
      "100%|██████████| 18/18 [00:05<00:00,  3.32it/s]\n"
     ]
    },
    {
     "name": "stdout",
     "output_type": "stream",
     "text": [
      "1m 1s\n",
      "Early Stopping Counter = 13\n",
      "Epoch 263/300\n"
     ]
    },
    {
     "name": "stderr",
     "output_type": "stream",
     "text": [
      "100%|██████████| 155/155 [00:46<00:00,  3.35it/s]\n",
      "100%|██████████| 15/15 [00:09<00:00,  1.60it/s]\n",
      "100%|██████████| 18/18 [00:05<00:00,  3.35it/s]\n"
     ]
    },
    {
     "name": "stdout",
     "output_type": "stream",
     "text": [
      "1m 1s\n",
      "Consistency Loss declined to 0.004893469857051969\n",
      "Early Stopping Counter = 0\n",
      "Epoch 264/300\n"
     ]
    },
    {
     "name": "stderr",
     "output_type": "stream",
     "text": [
      "100%|██████████| 155/155 [00:46<00:00,  3.33it/s]\n",
      "100%|██████████| 15/15 [00:09<00:00,  1.61it/s]\n",
      "100%|██████████| 18/18 [00:05<00:00,  3.32it/s]\n"
     ]
    },
    {
     "name": "stdout",
     "output_type": "stream",
     "text": [
      "1m 1s\n",
      "Early Stopping Counter = 1\n",
      "Epoch 265/300\n"
     ]
    },
    {
     "name": "stderr",
     "output_type": "stream",
     "text": [
      "100%|██████████| 155/155 [00:46<00:00,  3.33it/s]\n",
      "100%|██████████| 15/15 [00:09<00:00,  1.59it/s]\n",
      "100%|██████████| 18/18 [00:05<00:00,  3.27it/s]\n"
     ]
    },
    {
     "name": "stdout",
     "output_type": "stream",
     "text": [
      "1m 1s\n",
      "Early Stopping Counter = 2\n",
      "Epoch 266/300\n"
     ]
    },
    {
     "name": "stderr",
     "output_type": "stream",
     "text": [
      "100%|██████████| 155/155 [00:46<00:00,  3.33it/s]\n",
      "100%|██████████| 15/15 [00:09<00:00,  1.62it/s]\n",
      "100%|██████████| 18/18 [00:05<00:00,  3.34it/s]\n"
     ]
    },
    {
     "name": "stdout",
     "output_type": "stream",
     "text": [
      "1m 1s\n",
      "Early Stopping Counter = 3\n",
      "Epoch 267/300\n"
     ]
    },
    {
     "name": "stderr",
     "output_type": "stream",
     "text": [
      "100%|██████████| 155/155 [00:46<00:00,  3.34it/s]\n",
      "100%|██████████| 15/15 [00:09<00:00,  1.61it/s]\n",
      "100%|██████████| 18/18 [00:05<00:00,  3.25it/s]\n"
     ]
    },
    {
     "name": "stdout",
     "output_type": "stream",
     "text": [
      "1m 1s\n",
      "Early Stopping Counter = 4\n",
      "Epoch 268/300\n"
     ]
    },
    {
     "name": "stderr",
     "output_type": "stream",
     "text": [
      "100%|██████████| 155/155 [00:46<00:00,  3.34it/s]\n",
      "100%|██████████| 15/15 [00:09<00:00,  1.61it/s]\n",
      "100%|██████████| 18/18 [00:05<00:00,  3.23it/s]\n"
     ]
    },
    {
     "name": "stdout",
     "output_type": "stream",
     "text": [
      "1m 1s\n",
      "Early Stopping Counter = 5\n",
      "Epoch 269/300\n"
     ]
    },
    {
     "name": "stderr",
     "output_type": "stream",
     "text": [
      "100%|██████████| 155/155 [00:46<00:00,  3.34it/s]\n",
      "100%|██████████| 15/15 [00:09<00:00,  1.59it/s]\n",
      "100%|██████████| 18/18 [00:05<00:00,  3.30it/s]\n"
     ]
    },
    {
     "name": "stdout",
     "output_type": "stream",
     "text": [
      "1m 1s\n",
      "Early Stopping Counter = 6\n",
      "Epoch 270/300\n"
     ]
    },
    {
     "name": "stderr",
     "output_type": "stream",
     "text": [
      "100%|██████████| 155/155 [00:46<00:00,  3.34it/s]\n",
      "100%|██████████| 15/15 [00:09<00:00,  1.59it/s]\n",
      "100%|██████████| 18/18 [00:05<00:00,  3.25it/s]\n"
     ]
    },
    {
     "name": "stdout",
     "output_type": "stream",
     "text": [
      "1m 1s\n",
      "Early Stopping Counter = 7\n",
      "Epoch 271/300\n"
     ]
    },
    {
     "name": "stderr",
     "output_type": "stream",
     "text": [
      "100%|██████████| 155/155 [00:46<00:00,  3.35it/s]\n",
      "100%|██████████| 15/15 [00:09<00:00,  1.60it/s]\n",
      "100%|██████████| 18/18 [00:05<00:00,  3.27it/s]\n"
     ]
    },
    {
     "name": "stdout",
     "output_type": "stream",
     "text": [
      "1m 1s\n",
      "Early Stopping Counter = 8\n",
      "Epoch 272/300\n"
     ]
    },
    {
     "name": "stderr",
     "output_type": "stream",
     "text": [
      "100%|██████████| 155/155 [00:46<00:00,  3.35it/s]\n",
      "100%|██████████| 15/15 [00:09<00:00,  1.61it/s]\n",
      "100%|██████████| 18/18 [00:05<00:00,  3.32it/s]\n"
     ]
    },
    {
     "name": "stdout",
     "output_type": "stream",
     "text": [
      "1m 1s\n",
      "Early Stopping Counter = 9\n",
      "Epoch 273/300\n"
     ]
    },
    {
     "name": "stderr",
     "output_type": "stream",
     "text": [
      "100%|██████████| 155/155 [00:46<00:00,  3.35it/s]\n",
      "100%|██████████| 15/15 [00:09<00:00,  1.58it/s]\n",
      "100%|██████████| 18/18 [00:05<00:00,  3.27it/s]\n"
     ]
    },
    {
     "name": "stdout",
     "output_type": "stream",
     "text": [
      "1m 1s\n",
      "Early Stopping Counter = 10\n",
      "Epoch 274/300\n"
     ]
    },
    {
     "name": "stderr",
     "output_type": "stream",
     "text": [
      "100%|██████████| 155/155 [00:46<00:00,  3.34it/s]\n",
      "100%|██████████| 15/15 [00:09<00:00,  1.58it/s]\n",
      "100%|██████████| 18/18 [00:05<00:00,  3.27it/s]\n"
     ]
    },
    {
     "name": "stdout",
     "output_type": "stream",
     "text": [
      "1m 1s\n",
      "Early Stopping Counter = 11\n",
      "Epoch 275/300\n"
     ]
    },
    {
     "name": "stderr",
     "output_type": "stream",
     "text": [
      "100%|██████████| 155/155 [00:46<00:00,  3.35it/s]\n",
      "100%|██████████| 15/15 [00:09<00:00,  1.62it/s]\n",
      "100%|██████████| 18/18 [00:05<00:00,  3.25it/s]\n"
     ]
    },
    {
     "name": "stdout",
     "output_type": "stream",
     "text": [
      "1m 1s\n",
      "Early Stopping Counter = 12\n",
      "Epoch 276/300\n"
     ]
    },
    {
     "name": "stderr",
     "output_type": "stream",
     "text": [
      "100%|██████████| 155/155 [00:46<00:00,  3.33it/s]\n",
      "100%|██████████| 15/15 [00:09<00:00,  1.59it/s]\n",
      "100%|██████████| 18/18 [00:05<00:00,  3.25it/s]\n"
     ]
    },
    {
     "name": "stdout",
     "output_type": "stream",
     "text": [
      "1m 1s\n",
      "Early Stopping Counter = 13\n",
      "Epoch 277/300\n"
     ]
    },
    {
     "name": "stderr",
     "output_type": "stream",
     "text": [
      "100%|██████████| 155/155 [00:46<00:00,  3.32it/s]\n",
      "100%|██████████| 15/15 [00:09<00:00,  1.59it/s]\n",
      "100%|██████████| 18/18 [00:05<00:00,  3.26it/s]\n"
     ]
    },
    {
     "name": "stdout",
     "output_type": "stream",
     "text": [
      "1m 2s\n",
      "Early Stopping Counter = 14\n",
      "Epoch 278/300\n"
     ]
    },
    {
     "name": "stderr",
     "output_type": "stream",
     "text": [
      "100%|██████████| 155/155 [00:46<00:00,  3.32it/s]\n",
      "100%|██████████| 15/15 [00:09<00:00,  1.60it/s]\n",
      "100%|██████████| 18/18 [00:05<00:00,  3.23it/s]\n"
     ]
    },
    {
     "name": "stdout",
     "output_type": "stream",
     "text": [
      "1m 2s\n",
      "Consistency Loss declined to 0.004870980978012085\n",
      "Early Stopping Counter = 0\n",
      "Epoch 279/300\n"
     ]
    },
    {
     "name": "stderr",
     "output_type": "stream",
     "text": [
      "100%|██████████| 155/155 [00:46<00:00,  3.33it/s]\n",
      "100%|██████████| 15/15 [00:09<00:00,  1.59it/s]\n",
      "100%|██████████| 18/18 [00:05<00:00,  3.31it/s]\n"
     ]
    },
    {
     "name": "stdout",
     "output_type": "stream",
     "text": [
      "1m 1s\n",
      "Consistency Loss declined to 0.004777481717367967\n",
      "Early Stopping Counter = 0\n",
      "Epoch 280/300\n"
     ]
    },
    {
     "name": "stderr",
     "output_type": "stream",
     "text": [
      "100%|██████████| 155/155 [00:46<00:00,  3.33it/s]\n",
      "100%|██████████| 15/15 [00:09<00:00,  1.62it/s]\n",
      "100%|██████████| 18/18 [00:05<00:00,  3.24it/s]\n"
     ]
    },
    {
     "name": "stdout",
     "output_type": "stream",
     "text": [
      "1m 1s\n",
      "Consistency Loss declined to 0.004641419307639201\n",
      "Early Stopping Counter = 0\n",
      "Epoch 281/300\n"
     ]
    },
    {
     "name": "stderr",
     "output_type": "stream",
     "text": [
      "100%|██████████| 155/155 [00:46<00:00,  3.32it/s]\n",
      "100%|██████████| 15/15 [00:09<00:00,  1.61it/s]\n",
      "100%|██████████| 18/18 [00:05<00:00,  3.27it/s]\n"
     ]
    },
    {
     "name": "stdout",
     "output_type": "stream",
     "text": [
      "1m 1s\n",
      "Early Stopping Counter = 1\n",
      "Epoch 282/300\n"
     ]
    },
    {
     "name": "stderr",
     "output_type": "stream",
     "text": [
      "100%|██████████| 155/155 [00:46<00:00,  3.35it/s]\n",
      "100%|██████████| 15/15 [00:09<00:00,  1.59it/s]\n",
      "100%|██████████| 18/18 [00:05<00:00,  3.33it/s]\n"
     ]
    },
    {
     "name": "stdout",
     "output_type": "stream",
     "text": [
      "1m 1s\n",
      "Consistency Loss declined to 0.0045756152365356685\n",
      "Early Stopping Counter = 0\n",
      "Epoch 283/300\n"
     ]
    },
    {
     "name": "stderr",
     "output_type": "stream",
     "text": [
      "100%|██████████| 155/155 [00:46<00:00,  3.34it/s]\n",
      "100%|██████████| 15/15 [00:09<00:00,  1.57it/s]\n",
      "100%|██████████| 18/18 [00:05<00:00,  3.18it/s]\n"
     ]
    },
    {
     "name": "stdout",
     "output_type": "stream",
     "text": [
      "1m 2s\n",
      "Early Stopping Counter = 1\n",
      "Epoch 284/300\n"
     ]
    },
    {
     "name": "stderr",
     "output_type": "stream",
     "text": [
      "100%|██████████| 155/155 [00:46<00:00,  3.34it/s]\n",
      "100%|██████████| 15/15 [00:09<00:00,  1.61it/s]\n",
      "100%|██████████| 18/18 [00:05<00:00,  3.30it/s]\n"
     ]
    },
    {
     "name": "stdout",
     "output_type": "stream",
     "text": [
      "1m 1s\n",
      "Early Stopping Counter = 2\n",
      "Epoch 285/300\n"
     ]
    },
    {
     "name": "stderr",
     "output_type": "stream",
     "text": [
      "100%|██████████| 155/155 [00:46<00:00,  3.34it/s]\n",
      "100%|██████████| 15/15 [00:09<00:00,  1.59it/s]\n",
      "100%|██████████| 18/18 [00:05<00:00,  3.25it/s]\n"
     ]
    },
    {
     "name": "stdout",
     "output_type": "stream",
     "text": [
      "1m 1s\n",
      "Early Stopping Counter = 3\n",
      "Epoch 286/300\n"
     ]
    },
    {
     "name": "stderr",
     "output_type": "stream",
     "text": [
      "100%|██████████| 155/155 [00:46<00:00,  3.35it/s]\n",
      "100%|██████████| 15/15 [00:09<00:00,  1.61it/s]\n",
      "100%|██████████| 18/18 [00:05<00:00,  3.27it/s]\n"
     ]
    },
    {
     "name": "stdout",
     "output_type": "stream",
     "text": [
      "1m 1s\n",
      "Early Stopping Counter = 4\n",
      "Epoch 287/300\n"
     ]
    },
    {
     "name": "stderr",
     "output_type": "stream",
     "text": [
      "100%|██████████| 155/155 [00:46<00:00,  3.35it/s]\n",
      "100%|██████████| 15/15 [00:09<00:00,  1.59it/s]\n",
      "100%|██████████| 18/18 [00:05<00:00,  3.25it/s]\n"
     ]
    },
    {
     "name": "stdout",
     "output_type": "stream",
     "text": [
      "1m 1s\n",
      "Early Stopping Counter = 5\n",
      "Epoch 288/300\n"
     ]
    },
    {
     "name": "stderr",
     "output_type": "stream",
     "text": [
      "100%|██████████| 155/155 [00:46<00:00,  3.35it/s]\n",
      "100%|██████████| 15/15 [00:09<00:00,  1.60it/s]\n",
      "100%|██████████| 18/18 [00:05<00:00,  3.32it/s]\n"
     ]
    },
    {
     "name": "stdout",
     "output_type": "stream",
     "text": [
      "1m 1s\n",
      "Early Stopping Counter = 6\n",
      "Epoch 289/300\n"
     ]
    },
    {
     "name": "stderr",
     "output_type": "stream",
     "text": [
      "100%|██████████| 155/155 [00:46<00:00,  3.34it/s]\n",
      "100%|██████████| 15/15 [00:09<00:00,  1.61it/s]\n",
      "100%|██████████| 18/18 [00:05<00:00,  3.24it/s]\n"
     ]
    },
    {
     "name": "stdout",
     "output_type": "stream",
     "text": [
      "1m 1s\n",
      "Early Stopping Counter = 7\n",
      "Epoch 290/300\n"
     ]
    },
    {
     "name": "stderr",
     "output_type": "stream",
     "text": [
      "100%|██████████| 155/155 [00:46<00:00,  3.34it/s]\n",
      "100%|██████████| 15/15 [00:09<00:00,  1.58it/s]\n",
      "100%|██████████| 18/18 [00:05<00:00,  3.34it/s]\n"
     ]
    },
    {
     "name": "stdout",
     "output_type": "stream",
     "text": [
      "1m 1s\n",
      "Early Stopping Counter = 8\n",
      "Epoch 291/300\n"
     ]
    },
    {
     "name": "stderr",
     "output_type": "stream",
     "text": [
      "100%|██████████| 155/155 [00:46<00:00,  3.34it/s]\n",
      "100%|██████████| 15/15 [00:09<00:00,  1.60it/s]\n",
      "100%|██████████| 18/18 [00:05<00:00,  3.22it/s]\n"
     ]
    },
    {
     "name": "stdout",
     "output_type": "stream",
     "text": [
      "1m 1s\n",
      "Early Stopping Counter = 9\n",
      "Epoch 292/300\n"
     ]
    },
    {
     "name": "stderr",
     "output_type": "stream",
     "text": [
      "100%|██████████| 155/155 [00:46<00:00,  3.35it/s]\n",
      "100%|██████████| 15/15 [00:09<00:00,  1.58it/s]\n",
      "100%|██████████| 18/18 [00:05<00:00,  3.25it/s]\n"
     ]
    },
    {
     "name": "stdout",
     "output_type": "stream",
     "text": [
      "1m 1s\n",
      "Early Stopping Counter = 10\n",
      "Epoch 293/300\n"
     ]
    },
    {
     "name": "stderr",
     "output_type": "stream",
     "text": [
      "100%|██████████| 155/155 [00:46<00:00,  3.35it/s]\n",
      "100%|██████████| 15/15 [00:09<00:00,  1.59it/s]\n",
      "100%|██████████| 18/18 [00:05<00:00,  3.30it/s]\n"
     ]
    },
    {
     "name": "stdout",
     "output_type": "stream",
     "text": [
      "1m 1s\n",
      "Early Stopping Counter = 11\n",
      "Epoch 294/300\n"
     ]
    },
    {
     "name": "stderr",
     "output_type": "stream",
     "text": [
      "100%|██████████| 155/155 [00:46<00:00,  3.34it/s]\n",
      "100%|██████████| 15/15 [00:09<00:00,  1.59it/s]\n",
      "100%|██████████| 18/18 [00:05<00:00,  3.25it/s]\n"
     ]
    },
    {
     "name": "stdout",
     "output_type": "stream",
     "text": [
      "1m 1s\n",
      "Early Stopping Counter = 12\n",
      "Epoch 295/300\n"
     ]
    },
    {
     "name": "stderr",
     "output_type": "stream",
     "text": [
      "100%|██████████| 155/155 [00:46<00:00,  3.34it/s]\n",
      "100%|██████████| 15/15 [00:09<00:00,  1.59it/s]\n",
      "100%|██████████| 18/18 [00:05<00:00,  3.31it/s]\n"
     ]
    },
    {
     "name": "stdout",
     "output_type": "stream",
     "text": [
      "1m 1s\n",
      "Early Stopping Counter = 13\n",
      "Epoch 296/300\n"
     ]
    },
    {
     "name": "stderr",
     "output_type": "stream",
     "text": [
      "100%|██████████| 155/155 [00:46<00:00,  3.35it/s]\n",
      "100%|██████████| 15/15 [00:09<00:00,  1.59it/s]\n",
      "100%|██████████| 18/18 [00:05<00:00,  3.27it/s]\n"
     ]
    },
    {
     "name": "stdout",
     "output_type": "stream",
     "text": [
      "1m 1s\n",
      "Consistency Loss declined to 0.004439932620152831\n",
      "Early Stopping Counter = 0\n",
      "Epoch 297/300\n"
     ]
    },
    {
     "name": "stderr",
     "output_type": "stream",
     "text": [
      "100%|██████████| 155/155 [00:46<00:00,  3.34it/s]\n",
      "100%|██████████| 15/15 [00:09<00:00,  1.59it/s]\n",
      "100%|██████████| 18/18 [00:05<00:00,  3.26it/s]\n"
     ]
    },
    {
     "name": "stdout",
     "output_type": "stream",
     "text": [
      "1m 1s\n",
      "Early Stopping Counter = 1\n",
      "Epoch 298/300\n"
     ]
    },
    {
     "name": "stderr",
     "output_type": "stream",
     "text": [
      "100%|██████████| 155/155 [00:46<00:00,  3.35it/s]\n",
      "100%|██████████| 15/15 [00:09<00:00,  1.60it/s]\n",
      "100%|██████████| 18/18 [00:05<00:00,  3.29it/s]\n"
     ]
    },
    {
     "name": "stdout",
     "output_type": "stream",
     "text": [
      "1m 1s\n",
      "Early Stopping Counter = 2\n",
      "Epoch 299/300\n"
     ]
    },
    {
     "name": "stderr",
     "output_type": "stream",
     "text": [
      "100%|██████████| 155/155 [00:46<00:00,  3.36it/s]\n",
      "100%|██████████| 15/15 [00:09<00:00,  1.60it/s]\n",
      "100%|██████████| 18/18 [00:05<00:00,  3.28it/s]\n"
     ]
    },
    {
     "name": "stdout",
     "output_type": "stream",
     "text": [
      "1m 1s\n",
      "Early Stopping Counter = 3\n",
      "Epoch 300/300\n"
     ]
    },
    {
     "name": "stderr",
     "output_type": "stream",
     "text": [
      "100%|██████████| 155/155 [00:46<00:00,  3.35it/s]\n",
      "100%|██████████| 15/15 [00:09<00:00,  1.59it/s]\n",
      "100%|██████████| 18/18 [00:05<00:00,  3.26it/s]\n"
     ]
    },
    {
     "name": "stdout",
     "output_type": "stream",
     "text": [
      "1m 1s\n",
      "Early Stopping Counter = 4\n"
     ]
    },
    {
     "name": "stderr",
     "output_type": "stream",
     "text": [
      "100%|██████████| 17/17 [02:14<00:00,  7.94s/it]\n",
      " 94%|█████████▍| 15/16 [02:07<00:08,  8.53s/it]\n",
      "100%|██████████| 1000/1000 [00:02<00:00, 369.33it/s]\n"
     ]
    },
    {
     "name": "stdout",
     "output_type": "stream",
     "text": [
      "Epoch 1/300\n"
     ]
    },
    {
     "name": "stderr",
     "output_type": "stream",
     "text": [
      "100%|██████████| 155/155 [00:46<00:00,  3.34it/s]\n",
      "100%|██████████| 15/15 [00:09<00:00,  1.59it/s]\n",
      "100%|██████████| 18/18 [00:05<00:00,  3.14it/s]\n"
     ]
    },
    {
     "name": "stdout",
     "output_type": "stream",
     "text": [
      "1m 2s\n",
      "Consistency Loss declined to 0.1288565884033839\n",
      "Early Stopping Counter = 0\n",
      "Epoch 2/300\n"
     ]
    },
    {
     "name": "stderr",
     "output_type": "stream",
     "text": [
      "100%|██████████| 155/155 [00:46<00:00,  3.33it/s]\n",
      "100%|██████████| 15/15 [00:09<00:00,  1.60it/s]\n",
      "100%|██████████| 18/18 [00:05<00:00,  3.30it/s]\n"
     ]
    },
    {
     "name": "stdout",
     "output_type": "stream",
     "text": [
      "1m 1s\n",
      "Consistency Loss declined to 0.12282755970954895\n",
      "Early Stopping Counter = 0\n",
      "Epoch 3/300\n"
     ]
    },
    {
     "name": "stderr",
     "output_type": "stream",
     "text": [
      "100%|██████████| 155/155 [00:46<00:00,  3.34it/s]\n",
      "100%|██████████| 15/15 [00:09<00:00,  1.61it/s]\n",
      "100%|██████████| 18/18 [00:05<00:00,  3.26it/s]\n"
     ]
    },
    {
     "name": "stdout",
     "output_type": "stream",
     "text": [
      "1m 1s\n",
      "Consistency Loss declined to 0.10046552444497744\n",
      "Early Stopping Counter = 0\n",
      "Epoch 4/300\n"
     ]
    },
    {
     "name": "stderr",
     "output_type": "stream",
     "text": [
      "100%|██████████| 155/155 [00:46<00:00,  3.33it/s]\n",
      "100%|██████████| 15/15 [00:09<00:00,  1.61it/s]\n",
      "100%|██████████| 18/18 [00:05<00:00,  3.40it/s]\n"
     ]
    },
    {
     "name": "stdout",
     "output_type": "stream",
     "text": [
      "1m 1s\n",
      "Consistency Loss declined to 0.09128811061382294\n",
      "Early Stopping Counter = 0\n",
      "Epoch 5/300\n"
     ]
    },
    {
     "name": "stderr",
     "output_type": "stream",
     "text": [
      "100%|██████████| 155/155 [00:46<00:00,  3.30it/s]\n",
      "100%|██████████| 15/15 [00:09<00:00,  1.61it/s]\n",
      "100%|██████████| 18/18 [00:05<00:00,  3.26it/s]\n"
     ]
    },
    {
     "name": "stdout",
     "output_type": "stream",
     "text": [
      "1m 2s\n",
      "Early Stopping Counter = 1\n",
      "Epoch 6/300\n"
     ]
    },
    {
     "name": "stderr",
     "output_type": "stream",
     "text": [
      "100%|██████████| 155/155 [00:46<00:00,  3.35it/s]\n",
      "100%|██████████| 15/15 [00:09<00:00,  1.61it/s]\n",
      "100%|██████████| 18/18 [00:05<00:00,  3.35it/s]\n"
     ]
    },
    {
     "name": "stdout",
     "output_type": "stream",
     "text": [
      "1m 1s\n",
      "Consistency Loss declined to 0.08495386093854904\n",
      "Early Stopping Counter = 0\n",
      "Epoch 7/300\n"
     ]
    },
    {
     "name": "stderr",
     "output_type": "stream",
     "text": [
      "100%|██████████| 155/155 [00:46<00:00,  3.33it/s]\n",
      "100%|██████████| 15/15 [00:09<00:00,  1.60it/s]\n",
      "100%|██████████| 18/18 [00:05<00:00,  3.28it/s]\n"
     ]
    },
    {
     "name": "stdout",
     "output_type": "stream",
     "text": [
      "1m 1s\n",
      "Consistency Loss declined to 0.08028838708996773\n",
      "Early Stopping Counter = 0\n",
      "Epoch 8/300\n"
     ]
    },
    {
     "name": "stderr",
     "output_type": "stream",
     "text": [
      "100%|██████████| 155/155 [00:46<00:00,  3.32it/s]\n",
      "100%|██████████| 15/15 [00:09<00:00,  1.60it/s]\n",
      "100%|██████████| 18/18 [00:05<00:00,  3.29it/s]\n"
     ]
    },
    {
     "name": "stdout",
     "output_type": "stream",
     "text": [
      "1m 2s\n",
      "Consistency Loss declined to 0.06947876612345377\n",
      "Early Stopping Counter = 0\n",
      "Epoch 9/300\n"
     ]
    },
    {
     "name": "stderr",
     "output_type": "stream",
     "text": [
      "100%|██████████| 155/155 [00:46<00:00,  3.31it/s]\n",
      "100%|██████████| 15/15 [00:09<00:00,  1.61it/s]\n",
      "100%|██████████| 18/18 [00:05<00:00,  3.28it/s]\n"
     ]
    },
    {
     "name": "stdout",
     "output_type": "stream",
     "text": [
      "1m 2s\n",
      "Early Stopping Counter = 1\n",
      "Epoch 10/300\n"
     ]
    },
    {
     "name": "stderr",
     "output_type": "stream",
     "text": [
      "100%|██████████| 155/155 [00:46<00:00,  3.32it/s]\n",
      "100%|██████████| 15/15 [00:09<00:00,  1.60it/s]\n",
      "100%|██████████| 18/18 [00:05<00:00,  3.35it/s]\n"
     ]
    },
    {
     "name": "stdout",
     "output_type": "stream",
     "text": [
      "1m 1s\n",
      "Consistency Loss declined to 0.06837841098507245\n",
      "Early Stopping Counter = 0\n",
      "Epoch 11/300\n"
     ]
    },
    {
     "name": "stderr",
     "output_type": "stream",
     "text": [
      "100%|██████████| 155/155 [00:46<00:00,  3.32it/s]\n",
      "100%|██████████| 15/15 [00:09<00:00,  1.61it/s]\n",
      "100%|██████████| 18/18 [00:05<00:00,  3.29it/s]\n"
     ]
    },
    {
     "name": "stdout",
     "output_type": "stream",
     "text": [
      "1m 2s\n",
      "Consistency Loss declined to 0.06759657400349776\n",
      "Early Stopping Counter = 0\n",
      "Epoch 12/300\n"
     ]
    },
    {
     "name": "stderr",
     "output_type": "stream",
     "text": [
      "100%|██████████| 155/155 [00:46<00:00,  3.31it/s]\n",
      "100%|██████████| 15/15 [00:09<00:00,  1.62it/s]\n",
      "100%|██████████| 18/18 [00:05<00:00,  3.30it/s]\n"
     ]
    },
    {
     "name": "stdout",
     "output_type": "stream",
     "text": [
      "1m 2s\n",
      "Consistency Loss declined to 0.05966307272513707\n",
      "Early Stopping Counter = 0\n",
      "Epoch 13/300\n"
     ]
    },
    {
     "name": "stderr",
     "output_type": "stream",
     "text": [
      "100%|██████████| 155/155 [00:46<00:00,  3.33it/s]\n",
      "100%|██████████| 15/15 [00:09<00:00,  1.62it/s]\n",
      "100%|██████████| 18/18 [00:05<00:00,  3.24it/s]\n"
     ]
    },
    {
     "name": "stdout",
     "output_type": "stream",
     "text": [
      "1m 1s\n",
      "Consistency Loss declined to 0.05631395690143108\n",
      "Early Stopping Counter = 0\n",
      "Epoch 14/300\n"
     ]
    },
    {
     "name": "stderr",
     "output_type": "stream",
     "text": [
      "100%|██████████| 155/155 [00:46<00:00,  3.33it/s]\n",
      "100%|██████████| 15/15 [00:09<00:00,  1.59it/s]\n",
      "100%|██████████| 18/18 [00:05<00:00,  3.26it/s]\n"
     ]
    },
    {
     "name": "stdout",
     "output_type": "stream",
     "text": [
      "1m 2s\n",
      "Consistency Loss declined to 0.05157802030444145\n",
      "Early Stopping Counter = 0\n",
      "Epoch 15/300\n"
     ]
    },
    {
     "name": "stderr",
     "output_type": "stream",
     "text": [
      "100%|██████████| 155/155 [00:46<00:00,  3.32it/s]\n",
      "100%|██████████| 15/15 [00:09<00:00,  1.61it/s]\n",
      "100%|██████████| 18/18 [00:05<00:00,  3.27it/s]\n"
     ]
    },
    {
     "name": "stdout",
     "output_type": "stream",
     "text": [
      "1m 1s\n",
      "Early Stopping Counter = 1\n",
      "Epoch 16/300\n"
     ]
    },
    {
     "name": "stderr",
     "output_type": "stream",
     "text": [
      "100%|██████████| 155/155 [00:46<00:00,  3.33it/s]\n",
      "100%|██████████| 15/15 [00:09<00:00,  1.59it/s]\n",
      "100%|██████████| 18/18 [00:05<00:00,  3.28it/s]\n"
     ]
    },
    {
     "name": "stdout",
     "output_type": "stream",
     "text": [
      "1m 1s\n",
      "Consistency Loss declined to 0.044892399261395134\n",
      "Early Stopping Counter = 0\n",
      "Epoch 17/300\n"
     ]
    },
    {
     "name": "stderr",
     "output_type": "stream",
     "text": [
      "100%|██████████| 155/155 [00:46<00:00,  3.33it/s]\n",
      "100%|██████████| 15/15 [00:09<00:00,  1.61it/s]\n",
      "100%|██████████| 18/18 [00:05<00:00,  3.33it/s]\n"
     ]
    },
    {
     "name": "stdout",
     "output_type": "stream",
     "text": [
      "1m 1s\n",
      "Consistency Loss declined to 0.04053204456965129\n",
      "Early Stopping Counter = 0\n",
      "Epoch 18/300\n"
     ]
    },
    {
     "name": "stderr",
     "output_type": "stream",
     "text": [
      "100%|██████████| 155/155 [00:46<00:00,  3.33it/s]\n",
      "100%|██████████| 15/15 [00:09<00:00,  1.60it/s]\n",
      "100%|██████████| 18/18 [00:05<00:00,  3.32it/s]\n"
     ]
    },
    {
     "name": "stdout",
     "output_type": "stream",
     "text": [
      "1m 1s\n",
      "Consistency Loss declined to 0.04021481436987718\n",
      "Early Stopping Counter = 0\n",
      "Epoch 19/300\n"
     ]
    },
    {
     "name": "stderr",
     "output_type": "stream",
     "text": [
      "100%|██████████| 155/155 [00:46<00:00,  3.33it/s]\n",
      "100%|██████████| 15/15 [00:09<00:00,  1.61it/s]\n",
      "100%|██████████| 18/18 [00:05<00:00,  3.28it/s]\n"
     ]
    },
    {
     "name": "stdout",
     "output_type": "stream",
     "text": [
      "1m 1s\n",
      "Early Stopping Counter = 1\n",
      "Epoch 20/300\n"
     ]
    },
    {
     "name": "stderr",
     "output_type": "stream",
     "text": [
      "100%|██████████| 155/155 [00:46<00:00,  3.33it/s]\n",
      "100%|██████████| 15/15 [00:09<00:00,  1.61it/s]\n",
      "100%|██████████| 18/18 [00:05<00:00,  3.33it/s]\n"
     ]
    },
    {
     "name": "stdout",
     "output_type": "stream",
     "text": [
      "1m 1s\n",
      "Consistency Loss declined to 0.03893788568675518\n",
      "Early Stopping Counter = 0\n",
      "Epoch 21/300\n"
     ]
    },
    {
     "name": "stderr",
     "output_type": "stream",
     "text": [
      "100%|██████████| 155/155 [00:46<00:00,  3.35it/s]\n",
      "100%|██████████| 15/15 [00:09<00:00,  1.62it/s]\n",
      "100%|██████████| 18/18 [00:05<00:00,  3.33it/s]\n"
     ]
    },
    {
     "name": "stdout",
     "output_type": "stream",
     "text": [
      "1m 1s\n",
      "Consistency Loss declined to 0.03804858823617299\n",
      "Early Stopping Counter = 0\n",
      "Epoch 22/300\n"
     ]
    },
    {
     "name": "stderr",
     "output_type": "stream",
     "text": [
      "100%|██████████| 155/155 [00:46<00:00,  3.34it/s]\n",
      "100%|██████████| 15/15 [00:09<00:00,  1.61it/s]\n",
      "100%|██████████| 18/18 [00:05<00:00,  3.34it/s]\n"
     ]
    },
    {
     "name": "stdout",
     "output_type": "stream",
     "text": [
      "1m 1s\n",
      "Early Stopping Counter = 1\n",
      "Epoch 23/300\n"
     ]
    },
    {
     "name": "stderr",
     "output_type": "stream",
     "text": [
      "100%|██████████| 155/155 [00:46<00:00,  3.35it/s]\n",
      "100%|██████████| 15/15 [00:09<00:00,  1.62it/s]\n",
      "100%|██████████| 18/18 [00:05<00:00,  3.29it/s]\n"
     ]
    },
    {
     "name": "stdout",
     "output_type": "stream",
     "text": [
      "1m 1s\n",
      "Early Stopping Counter = 2\n",
      "Epoch 24/300\n"
     ]
    },
    {
     "name": "stderr",
     "output_type": "stream",
     "text": [
      "100%|██████████| 155/155 [00:46<00:00,  3.36it/s]\n",
      "100%|██████████| 15/15 [00:09<00:00,  1.62it/s]\n",
      "100%|██████████| 18/18 [00:05<00:00,  3.34it/s]\n"
     ]
    },
    {
     "name": "stdout",
     "output_type": "stream",
     "text": [
      "1m 1s\n",
      "Early Stopping Counter = 3\n",
      "Epoch 25/300\n"
     ]
    },
    {
     "name": "stderr",
     "output_type": "stream",
     "text": [
      "100%|██████████| 155/155 [00:46<00:00,  3.36it/s]\n",
      "100%|██████████| 15/15 [00:09<00:00,  1.60it/s]\n",
      "100%|██████████| 18/18 [00:05<00:00,  3.25it/s]\n"
     ]
    },
    {
     "name": "stdout",
     "output_type": "stream",
     "text": [
      "1m 1s\n",
      "Consistency Loss declined to 0.033679246654113135\n",
      "Early Stopping Counter = 0\n",
      "Epoch 26/300\n"
     ]
    },
    {
     "name": "stderr",
     "output_type": "stream",
     "text": [
      "100%|██████████| 155/155 [00:46<00:00,  3.33it/s]\n",
      "100%|██████████| 15/15 [00:09<00:00,  1.61it/s]\n",
      "100%|██████████| 18/18 [00:05<00:00,  3.29it/s]\n"
     ]
    },
    {
     "name": "stdout",
     "output_type": "stream",
     "text": [
      "1m 1s\n",
      "Consistency Loss declined to 0.03232822318871816\n",
      "Early Stopping Counter = 0\n",
      "Epoch 27/300\n"
     ]
    },
    {
     "name": "stderr",
     "output_type": "stream",
     "text": [
      "100%|██████████| 155/155 [00:46<00:00,  3.34it/s]\n",
      "100%|██████████| 15/15 [00:09<00:00,  1.62it/s]\n",
      "100%|██████████| 18/18 [00:05<00:00,  3.28it/s]\n"
     ]
    },
    {
     "name": "stdout",
     "output_type": "stream",
     "text": [
      "1m 1s\n",
      "Early Stopping Counter = 1\n",
      "Epoch 28/300\n"
     ]
    },
    {
     "name": "stderr",
     "output_type": "stream",
     "text": [
      "100%|██████████| 155/155 [00:46<00:00,  3.35it/s]\n",
      "100%|██████████| 15/15 [00:09<00:00,  1.59it/s]\n",
      "100%|██████████| 18/18 [00:05<00:00,  3.24it/s]\n"
     ]
    },
    {
     "name": "stdout",
     "output_type": "stream",
     "text": [
      "1m 1s\n",
      "Early Stopping Counter = 2\n",
      "Epoch 29/300\n"
     ]
    },
    {
     "name": "stderr",
     "output_type": "stream",
     "text": [
      "100%|██████████| 155/155 [00:46<00:00,  3.35it/s]\n",
      "100%|██████████| 15/15 [00:09<00:00,  1.59it/s]\n",
      "100%|██████████| 18/18 [00:05<00:00,  3.15it/s]\n"
     ]
    },
    {
     "name": "stdout",
     "output_type": "stream",
     "text": [
      "1m 1s\n",
      "Early Stopping Counter = 3\n",
      "Epoch 30/300\n"
     ]
    },
    {
     "name": "stderr",
     "output_type": "stream",
     "text": [
      "100%|██████████| 155/155 [00:46<00:00,  3.35it/s]\n",
      "100%|██████████| 15/15 [00:09<00:00,  1.59it/s]\n",
      "100%|██████████| 18/18 [00:05<00:00,  3.33it/s]\n"
     ]
    },
    {
     "name": "stdout",
     "output_type": "stream",
     "text": [
      "1m 1s\n",
      "Early Stopping Counter = 4\n",
      "Epoch 31/300\n"
     ]
    },
    {
     "name": "stderr",
     "output_type": "stream",
     "text": [
      "100%|██████████| 155/155 [00:46<00:00,  3.32it/s]\n",
      "100%|██████████| 15/15 [00:09<00:00,  1.60it/s]\n",
      "100%|██████████| 18/18 [00:05<00:00,  3.35it/s]\n"
     ]
    },
    {
     "name": "stdout",
     "output_type": "stream",
     "text": [
      "1m 1s\n",
      "Early Stopping Counter = 5\n",
      "Epoch 32/300\n"
     ]
    },
    {
     "name": "stderr",
     "output_type": "stream",
     "text": [
      "100%|██████████| 155/155 [00:46<00:00,  3.35it/s]\n",
      "100%|██████████| 15/15 [00:09<00:00,  1.59it/s]\n",
      "100%|██████████| 18/18 [00:05<00:00,  3.25it/s]\n"
     ]
    },
    {
     "name": "stdout",
     "output_type": "stream",
     "text": [
      "1m 1s\n",
      "Consistency Loss declined to 0.03180064111948013\n",
      "Early Stopping Counter = 0\n",
      "Epoch 33/300\n"
     ]
    },
    {
     "name": "stderr",
     "output_type": "stream",
     "text": [
      "100%|██████████| 155/155 [00:46<00:00,  3.33it/s]\n",
      "100%|██████████| 15/15 [00:09<00:00,  1.59it/s]\n",
      "100%|██████████| 18/18 [00:05<00:00,  3.25it/s]\n"
     ]
    },
    {
     "name": "stdout",
     "output_type": "stream",
     "text": [
      "1m 1s\n",
      "Consistency Loss declined to 0.03175428323447704\n",
      "Early Stopping Counter = 0\n",
      "Epoch 34/300\n"
     ]
    },
    {
     "name": "stderr",
     "output_type": "stream",
     "text": [
      "100%|██████████| 155/155 [00:46<00:00,  3.33it/s]\n",
      "100%|██████████| 15/15 [00:09<00:00,  1.59it/s]\n",
      "100%|██████████| 18/18 [00:05<00:00,  3.25it/s]\n"
     ]
    },
    {
     "name": "stdout",
     "output_type": "stream",
     "text": [
      "1m 2s\n",
      "Early Stopping Counter = 1\n",
      "Epoch 35/300\n"
     ]
    },
    {
     "name": "stderr",
     "output_type": "stream",
     "text": [
      "100%|██████████| 155/155 [00:46<00:00,  3.35it/s]\n",
      "100%|██████████| 15/15 [00:09<00:00,  1.59it/s]\n",
      "100%|██████████| 18/18 [00:05<00:00,  3.34it/s]\n"
     ]
    },
    {
     "name": "stdout",
     "output_type": "stream",
     "text": [
      "1m 1s\n",
      "Early Stopping Counter = 2\n",
      "Epoch 36/300\n"
     ]
    },
    {
     "name": "stderr",
     "output_type": "stream",
     "text": [
      "100%|██████████| 155/155 [00:46<00:00,  3.35it/s]\n",
      "100%|██████████| 15/15 [00:09<00:00,  1.62it/s]\n",
      "100%|██████████| 18/18 [00:05<00:00,  3.26it/s]\n"
     ]
    },
    {
     "name": "stdout",
     "output_type": "stream",
     "text": [
      "1m 1s\n",
      "Early Stopping Counter = 3\n",
      "Epoch 37/300\n"
     ]
    },
    {
     "name": "stderr",
     "output_type": "stream",
     "text": [
      "100%|██████████| 155/155 [00:46<00:00,  3.35it/s]\n",
      "100%|██████████| 15/15 [00:09<00:00,  1.57it/s]\n",
      "100%|██████████| 18/18 [00:05<00:00,  3.34it/s]\n"
     ]
    },
    {
     "name": "stdout",
     "output_type": "stream",
     "text": [
      "1m 1s\n",
      "Early Stopping Counter = 4\n",
      "Epoch 38/300\n"
     ]
    },
    {
     "name": "stderr",
     "output_type": "stream",
     "text": [
      "100%|██████████| 155/155 [00:46<00:00,  3.35it/s]\n",
      "100%|██████████| 15/15 [00:09<00:00,  1.60it/s]\n",
      "100%|██████████| 18/18 [00:05<00:00,  3.31it/s]\n"
     ]
    },
    {
     "name": "stdout",
     "output_type": "stream",
     "text": [
      "1m 1s\n",
      "Consistency Loss declined to 0.031298612554868065\n",
      "Early Stopping Counter = 0\n",
      "Epoch 39/300\n"
     ]
    },
    {
     "name": "stderr",
     "output_type": "stream",
     "text": [
      "100%|██████████| 155/155 [00:46<00:00,  3.34it/s]\n",
      "100%|██████████| 15/15 [00:09<00:00,  1.58it/s]\n",
      "100%|██████████| 18/18 [00:05<00:00,  3.28it/s]\n"
     ]
    },
    {
     "name": "stdout",
     "output_type": "stream",
     "text": [
      "1m 1s\n",
      "Early Stopping Counter = 1\n",
      "Epoch 40/300\n"
     ]
    },
    {
     "name": "stderr",
     "output_type": "stream",
     "text": [
      "100%|██████████| 155/155 [00:46<00:00,  3.35it/s]\n",
      "100%|██████████| 15/15 [00:09<00:00,  1.60it/s]\n",
      "100%|██████████| 18/18 [00:05<00:00,  3.33it/s]\n"
     ]
    },
    {
     "name": "stdout",
     "output_type": "stream",
     "text": [
      "1m 1s\n",
      "Early Stopping Counter = 2\n",
      "Epoch 41/300\n"
     ]
    },
    {
     "name": "stderr",
     "output_type": "stream",
     "text": [
      "100%|██████████| 155/155 [00:46<00:00,  3.32it/s]\n",
      "100%|██████████| 15/15 [00:09<00:00,  1.59it/s]\n",
      "100%|██████████| 18/18 [00:05<00:00,  3.26it/s]\n"
     ]
    },
    {
     "name": "stdout",
     "output_type": "stream",
     "text": [
      "1m 2s\n",
      "Early Stopping Counter = 3\n",
      "Epoch 42/300\n"
     ]
    },
    {
     "name": "stderr",
     "output_type": "stream",
     "text": [
      "100%|██████████| 155/155 [00:46<00:00,  3.35it/s]\n",
      "100%|██████████| 15/15 [00:09<00:00,  1.59it/s]\n",
      "100%|██████████| 18/18 [00:05<00:00,  3.34it/s]\n"
     ]
    },
    {
     "name": "stdout",
     "output_type": "stream",
     "text": [
      "1m 1s\n",
      "Early Stopping Counter = 4\n",
      "Epoch 43/300\n"
     ]
    },
    {
     "name": "stderr",
     "output_type": "stream",
     "text": [
      "100%|██████████| 155/155 [00:46<00:00,  3.35it/s]\n",
      "100%|██████████| 15/15 [00:09<00:00,  1.60it/s]\n",
      "100%|██████████| 18/18 [00:05<00:00,  3.33it/s]\n"
     ]
    },
    {
     "name": "stdout",
     "output_type": "stream",
     "text": [
      "1m 1s\n",
      "Early Stopping Counter = 5\n",
      "Epoch 44/300\n"
     ]
    },
    {
     "name": "stderr",
     "output_type": "stream",
     "text": [
      "100%|██████████| 155/155 [00:46<00:00,  3.35it/s]\n",
      "100%|██████████| 15/15 [00:09<00:00,  1.59it/s]\n",
      "100%|██████████| 18/18 [00:05<00:00,  3.28it/s]\n"
     ]
    },
    {
     "name": "stdout",
     "output_type": "stream",
     "text": [
      "1m 1s\n",
      "Consistency Loss declined to 0.030947260931134223\n",
      "Early Stopping Counter = 0\n",
      "Epoch 45/300\n"
     ]
    },
    {
     "name": "stderr",
     "output_type": "stream",
     "text": [
      "100%|██████████| 155/155 [00:46<00:00,  3.34it/s]\n",
      "100%|██████████| 15/15 [00:09<00:00,  1.59it/s]\n",
      "100%|██████████| 18/18 [00:05<00:00,  3.29it/s]\n"
     ]
    },
    {
     "name": "stdout",
     "output_type": "stream",
     "text": [
      "1m 1s\n",
      "Consistency Loss declined to 0.030275042603413262\n",
      "Early Stopping Counter = 0\n",
      "Epoch 46/300\n"
     ]
    },
    {
     "name": "stderr",
     "output_type": "stream",
     "text": [
      "100%|██████████| 155/155 [00:46<00:00,  3.33it/s]\n",
      "100%|██████████| 15/15 [00:09<00:00,  1.62it/s]\n",
      "100%|██████████| 18/18 [00:05<00:00,  3.31it/s]\n"
     ]
    },
    {
     "name": "stdout",
     "output_type": "stream",
     "text": [
      "1m 1s\n",
      "Early Stopping Counter = 1\n",
      "Epoch 47/300\n"
     ]
    },
    {
     "name": "stderr",
     "output_type": "stream",
     "text": [
      "100%|██████████| 155/155 [00:46<00:00,  3.35it/s]\n",
      "100%|██████████| 15/15 [00:09<00:00,  1.62it/s]\n",
      "100%|██████████| 18/18 [00:05<00:00,  3.37it/s]\n"
     ]
    },
    {
     "name": "stdout",
     "output_type": "stream",
     "text": [
      "1m 1s\n",
      "Consistency Loss declined to 0.029312609136104582\n",
      "Early Stopping Counter = 0\n",
      "Epoch 48/300\n"
     ]
    },
    {
     "name": "stderr",
     "output_type": "stream",
     "text": [
      "100%|██████████| 155/155 [00:46<00:00,  3.34it/s]\n",
      "100%|██████████| 15/15 [00:09<00:00,  1.60it/s]\n",
      "100%|██████████| 18/18 [00:05<00:00,  3.30it/s]\n"
     ]
    },
    {
     "name": "stdout",
     "output_type": "stream",
     "text": [
      "1m 1s\n",
      "Consistency Loss declined to 0.027624345446626345\n",
      "Early Stopping Counter = 0\n",
      "Epoch 49/300\n"
     ]
    },
    {
     "name": "stderr",
     "output_type": "stream",
     "text": [
      "100%|██████████| 155/155 [00:46<00:00,  3.33it/s]\n",
      "100%|██████████| 15/15 [00:09<00:00,  1.62it/s]\n",
      "100%|██████████| 18/18 [00:05<00:00,  3.27it/s]\n"
     ]
    },
    {
     "name": "stdout",
     "output_type": "stream",
     "text": [
      "1m 1s\n",
      "Consistency Loss declined to 0.025977030644814172\n",
      "Early Stopping Counter = 0\n",
      "Epoch 50/300\n"
     ]
    },
    {
     "name": "stderr",
     "output_type": "stream",
     "text": [
      "100%|██████████| 155/155 [00:46<00:00,  3.34it/s]\n",
      "100%|██████████| 15/15 [00:09<00:00,  1.62it/s]\n",
      "100%|██████████| 18/18 [00:05<00:00,  3.30it/s]\n"
     ]
    },
    {
     "name": "stdout",
     "output_type": "stream",
     "text": [
      "1m 1s\n",
      "Early Stopping Counter = 1\n",
      "Epoch 51/300\n"
     ]
    },
    {
     "name": "stderr",
     "output_type": "stream",
     "text": [
      "100%|██████████| 155/155 [00:46<00:00,  3.34it/s]\n",
      "100%|██████████| 15/15 [00:09<00:00,  1.61it/s]\n",
      "100%|██████████| 18/18 [00:05<00:00,  3.34it/s]\n"
     ]
    },
    {
     "name": "stdout",
     "output_type": "stream",
     "text": [
      "1m 1s\n",
      "Early Stopping Counter = 2\n",
      "Epoch 52/300\n"
     ]
    },
    {
     "name": "stderr",
     "output_type": "stream",
     "text": [
      "100%|██████████| 155/155 [00:46<00:00,  3.35it/s]\n",
      "100%|██████████| 15/15 [00:09<00:00,  1.60it/s]\n",
      "100%|██████████| 18/18 [00:05<00:00,  3.27it/s]\n"
     ]
    },
    {
     "name": "stdout",
     "output_type": "stream",
     "text": [
      "1m 1s\n",
      "Early Stopping Counter = 3\n",
      "Epoch 53/300\n"
     ]
    },
    {
     "name": "stderr",
     "output_type": "stream",
     "text": [
      "100%|██████████| 155/155 [00:46<00:00,  3.35it/s]\n",
      "100%|██████████| 15/15 [00:09<00:00,  1.59it/s]\n",
      "100%|██████████| 18/18 [00:05<00:00,  3.32it/s]\n"
     ]
    },
    {
     "name": "stdout",
     "output_type": "stream",
     "text": [
      "1m 1s\n",
      "Consistency Loss declined to 0.025103778143723807\n",
      "Early Stopping Counter = 0\n",
      "Epoch 54/300\n"
     ]
    },
    {
     "name": "stderr",
     "output_type": "stream",
     "text": [
      "100%|██████████| 155/155 [00:46<00:00,  3.33it/s]\n",
      "100%|██████████| 15/15 [00:09<00:00,  1.58it/s]\n",
      "100%|██████████| 18/18 [00:05<00:00,  3.25it/s]\n"
     ]
    },
    {
     "name": "stdout",
     "output_type": "stream",
     "text": [
      "1m 2s\n",
      "Early Stopping Counter = 1\n",
      "Epoch 55/300\n"
     ]
    },
    {
     "name": "stderr",
     "output_type": "stream",
     "text": [
      "100%|██████████| 155/155 [00:46<00:00,  3.35it/s]\n",
      "100%|██████████| 15/15 [00:09<00:00,  1.60it/s]\n",
      "100%|██████████| 18/18 [00:05<00:00,  3.18it/s]\n"
     ]
    },
    {
     "name": "stdout",
     "output_type": "stream",
     "text": [
      "1m 1s\n",
      "Consistency Loss declined to 0.02470400867362817\n",
      "Early Stopping Counter = 0\n",
      "Epoch 56/300\n"
     ]
    },
    {
     "name": "stderr",
     "output_type": "stream",
     "text": [
      "100%|██████████| 155/155 [00:46<00:00,  3.34it/s]\n",
      "100%|██████████| 15/15 [00:09<00:00,  1.60it/s]\n",
      "100%|██████████| 18/18 [00:05<00:00,  3.30it/s]\n"
     ]
    },
    {
     "name": "stdout",
     "output_type": "stream",
     "text": [
      "1m 1s\n",
      "Early Stopping Counter = 1\n",
      "Epoch 57/300\n"
     ]
    },
    {
     "name": "stderr",
     "output_type": "stream",
     "text": [
      "100%|██████████| 155/155 [00:46<00:00,  3.34it/s]\n",
      "100%|██████████| 15/15 [00:09<00:00,  1.60it/s]\n",
      "100%|██████████| 18/18 [00:05<00:00,  3.25it/s]\n"
     ]
    },
    {
     "name": "stdout",
     "output_type": "stream",
     "text": [
      "1m 1s\n",
      "Early Stopping Counter = 2\n",
      "Epoch 58/300\n"
     ]
    },
    {
     "name": "stderr",
     "output_type": "stream",
     "text": [
      "100%|██████████| 155/155 [00:46<00:00,  3.34it/s]\n",
      "100%|██████████| 15/15 [00:09<00:00,  1.60it/s]\n",
      "100%|██████████| 18/18 [00:05<00:00,  3.27it/s]\n"
     ]
    },
    {
     "name": "stdout",
     "output_type": "stream",
     "text": [
      "1m 1s\n",
      "Consistency Loss declined to 0.022232336613039177\n",
      "Early Stopping Counter = 0\n",
      "Epoch 59/300\n"
     ]
    },
    {
     "name": "stderr",
     "output_type": "stream",
     "text": [
      "100%|██████████| 155/155 [00:46<00:00,  3.34it/s]\n",
      "100%|██████████| 15/15 [00:09<00:00,  1.57it/s]\n",
      "100%|██████████| 18/18 [00:05<00:00,  3.18it/s]\n"
     ]
    },
    {
     "name": "stdout",
     "output_type": "stream",
     "text": [
      "1m 2s\n",
      "Early Stopping Counter = 1\n",
      "Epoch 60/300\n"
     ]
    },
    {
     "name": "stderr",
     "output_type": "stream",
     "text": [
      "100%|██████████| 155/155 [00:46<00:00,  3.34it/s]\n",
      "100%|██████████| 15/15 [00:09<00:00,  1.59it/s]\n",
      "100%|██████████| 18/18 [00:05<00:00,  3.12it/s]\n"
     ]
    },
    {
     "name": "stdout",
     "output_type": "stream",
     "text": [
      "1m 2s\n",
      "Early Stopping Counter = 2\n",
      "Epoch 61/300\n"
     ]
    },
    {
     "name": "stderr",
     "output_type": "stream",
     "text": [
      "100%|██████████| 155/155 [00:46<00:00,  3.33it/s]\n",
      "100%|██████████| 15/15 [00:09<00:00,  1.58it/s]\n",
      "100%|██████████| 18/18 [00:05<00:00,  3.24it/s]\n"
     ]
    },
    {
     "name": "stdout",
     "output_type": "stream",
     "text": [
      "1m 2s\n",
      "Early Stopping Counter = 3\n",
      "Epoch 62/300\n"
     ]
    },
    {
     "name": "stderr",
     "output_type": "stream",
     "text": [
      "100%|██████████| 155/155 [00:46<00:00,  3.36it/s]\n",
      "100%|██████████| 15/15 [00:09<00:00,  1.61it/s]\n",
      "100%|██████████| 18/18 [00:05<00:00,  3.24it/s]\n"
     ]
    },
    {
     "name": "stdout",
     "output_type": "stream",
     "text": [
      "1m 1s\n",
      "Early Stopping Counter = 4\n",
      "Epoch 63/300\n"
     ]
    },
    {
     "name": "stderr",
     "output_type": "stream",
     "text": [
      "100%|██████████| 155/155 [00:46<00:00,  3.36it/s]\n",
      "100%|██████████| 15/15 [00:09<00:00,  1.58it/s]\n",
      "100%|██████████| 18/18 [00:05<00:00,  3.23it/s]\n"
     ]
    },
    {
     "name": "stdout",
     "output_type": "stream",
     "text": [
      "1m 1s\n",
      "Early Stopping Counter = 5\n",
      "Epoch 64/300\n"
     ]
    },
    {
     "name": "stderr",
     "output_type": "stream",
     "text": [
      "100%|██████████| 155/155 [00:46<00:00,  3.36it/s]\n",
      "100%|██████████| 15/15 [00:09<00:00,  1.61it/s]\n",
      "100%|██████████| 18/18 [00:05<00:00,  3.27it/s]\n"
     ]
    },
    {
     "name": "stdout",
     "output_type": "stream",
     "text": [
      "1m 1s\n",
      "Early Stopping Counter = 6\n",
      "Epoch 65/300\n"
     ]
    },
    {
     "name": "stderr",
     "output_type": "stream",
     "text": [
      "100%|██████████| 155/155 [00:46<00:00,  3.35it/s]\n",
      "100%|██████████| 15/15 [00:09<00:00,  1.60it/s]\n",
      "100%|██████████| 18/18 [00:05<00:00,  3.29it/s]\n"
     ]
    },
    {
     "name": "stdout",
     "output_type": "stream",
     "text": [
      "1m 1s\n",
      "Early Stopping Counter = 7\n",
      "Epoch 66/300\n"
     ]
    },
    {
     "name": "stderr",
     "output_type": "stream",
     "text": [
      "100%|██████████| 155/155 [00:46<00:00,  3.34it/s]\n",
      "100%|██████████| 15/15 [00:09<00:00,  1.59it/s]\n",
      "100%|██████████| 18/18 [00:05<00:00,  3.21it/s]\n"
     ]
    },
    {
     "name": "stdout",
     "output_type": "stream",
     "text": [
      "1m 1s\n",
      "Early Stopping Counter = 8\n",
      "Epoch 67/300\n"
     ]
    },
    {
     "name": "stderr",
     "output_type": "stream",
     "text": [
      "100%|██████████| 155/155 [00:46<00:00,  3.34it/s]\n",
      "100%|██████████| 15/15 [00:09<00:00,  1.59it/s]\n",
      "100%|██████████| 18/18 [00:05<00:00,  3.32it/s]\n"
     ]
    },
    {
     "name": "stdout",
     "output_type": "stream",
     "text": [
      "1m 1s\n",
      "Consistency Loss declined to 0.022160749509930612\n",
      "Early Stopping Counter = 0\n",
      "Epoch 68/300\n"
     ]
    },
    {
     "name": "stderr",
     "output_type": "stream",
     "text": [
      "100%|██████████| 155/155 [00:46<00:00,  3.33it/s]\n",
      "100%|██████████| 15/15 [00:09<00:00,  1.61it/s]\n",
      "100%|██████████| 18/18 [00:05<00:00,  3.25it/s]\n"
     ]
    },
    {
     "name": "stdout",
     "output_type": "stream",
     "text": [
      "1m 1s\n",
      "Consistency Loss declined to 0.021801163131992023\n",
      "Early Stopping Counter = 0\n",
      "Epoch 69/300\n"
     ]
    },
    {
     "name": "stderr",
     "output_type": "stream",
     "text": [
      "100%|██████████| 155/155 [00:46<00:00,  3.33it/s]\n",
      "100%|██████████| 15/15 [00:09<00:00,  1.60it/s]\n",
      "100%|██████████| 18/18 [00:05<00:00,  3.28it/s]\n"
     ]
    },
    {
     "name": "stdout",
     "output_type": "stream",
     "text": [
      "1m 1s\n",
      "Consistency Loss declined to 0.021054242799679438\n",
      "Early Stopping Counter = 0\n",
      "Epoch 70/300\n"
     ]
    },
    {
     "name": "stderr",
     "output_type": "stream",
     "text": [
      "100%|██████████| 155/155 [00:46<00:00,  3.33it/s]\n",
      "100%|██████████| 15/15 [00:09<00:00,  1.62it/s]\n",
      "100%|██████████| 18/18 [00:05<00:00,  3.31it/s]\n"
     ]
    },
    {
     "name": "stdout",
     "output_type": "stream",
     "text": [
      "1m 1s\n",
      "Consistency Loss declined to 0.01936659955730041\n",
      "Early Stopping Counter = 0\n",
      "Epoch 71/300\n"
     ]
    },
    {
     "name": "stderr",
     "output_type": "stream",
     "text": [
      "100%|██████████| 155/155 [00:46<00:00,  3.32it/s]\n",
      "100%|██████████| 15/15 [00:09<00:00,  1.61it/s]\n",
      "100%|██████████| 18/18 [00:05<00:00,  3.29it/s]\n"
     ]
    },
    {
     "name": "stdout",
     "output_type": "stream",
     "text": [
      "1m 1s\n",
      "Early Stopping Counter = 1\n",
      "Epoch 72/300\n"
     ]
    },
    {
     "name": "stderr",
     "output_type": "stream",
     "text": [
      "100%|██████████| 155/155 [00:46<00:00,  3.35it/s]\n",
      "100%|██████████| 15/15 [00:09<00:00,  1.51it/s]\n",
      "100%|██████████| 18/18 [00:05<00:00,  3.25it/s]\n"
     ]
    },
    {
     "name": "stdout",
     "output_type": "stream",
     "text": [
      "1m 2s\n",
      "Early Stopping Counter = 2\n",
      "Epoch 73/300\n"
     ]
    },
    {
     "name": "stderr",
     "output_type": "stream",
     "text": [
      "100%|██████████| 155/155 [00:46<00:00,  3.35it/s]\n",
      "100%|██████████| 15/15 [00:09<00:00,  1.58it/s]\n",
      "100%|██████████| 18/18 [00:05<00:00,  3.25it/s]\n"
     ]
    },
    {
     "name": "stdout",
     "output_type": "stream",
     "text": [
      "1m 1s\n",
      "Early Stopping Counter = 3\n",
      "Epoch 74/300\n"
     ]
    },
    {
     "name": "stderr",
     "output_type": "stream",
     "text": [
      "100%|██████████| 155/155 [00:46<00:00,  3.36it/s]\n",
      "100%|██████████| 15/15 [00:09<00:00,  1.58it/s]\n",
      "100%|██████████| 18/18 [00:05<00:00,  3.23it/s]\n"
     ]
    },
    {
     "name": "stdout",
     "output_type": "stream",
     "text": [
      "1m 1s\n",
      "Early Stopping Counter = 4\n",
      "Epoch 75/300\n"
     ]
    },
    {
     "name": "stderr",
     "output_type": "stream",
     "text": [
      "100%|██████████| 155/155 [00:46<00:00,  3.36it/s]\n",
      "100%|██████████| 15/15 [00:09<00:00,  1.59it/s]\n",
      "100%|██████████| 18/18 [00:05<00:00,  3.25it/s]\n"
     ]
    },
    {
     "name": "stdout",
     "output_type": "stream",
     "text": [
      "1m 1s\n",
      "Early Stopping Counter = 5\n",
      "Epoch 76/300\n"
     ]
    },
    {
     "name": "stderr",
     "output_type": "stream",
     "text": [
      "100%|██████████| 155/155 [00:46<00:00,  3.35it/s]\n",
      "100%|██████████| 15/15 [00:09<00:00,  1.59it/s]\n",
      "100%|██████████| 18/18 [00:05<00:00,  3.25it/s]\n"
     ]
    },
    {
     "name": "stdout",
     "output_type": "stream",
     "text": [
      "1m 1s\n",
      "Early Stopping Counter = 6\n",
      "Epoch 77/300\n"
     ]
    },
    {
     "name": "stderr",
     "output_type": "stream",
     "text": [
      "100%|██████████| 155/155 [00:46<00:00,  3.35it/s]\n",
      "100%|██████████| 15/15 [00:09<00:00,  1.59it/s]\n",
      "100%|██████████| 18/18 [00:05<00:00,  3.26it/s]\n"
     ]
    },
    {
     "name": "stdout",
     "output_type": "stream",
     "text": [
      "1m 1s\n",
      "Early Stopping Counter = 7\n",
      "Epoch 78/300\n"
     ]
    },
    {
     "name": "stderr",
     "output_type": "stream",
     "text": [
      "100%|██████████| 155/155 [00:46<00:00,  3.35it/s]\n",
      "100%|██████████| 15/15 [00:09<00:00,  1.58it/s]\n",
      "100%|██████████| 18/18 [00:05<00:00,  3.30it/s]\n"
     ]
    },
    {
     "name": "stdout",
     "output_type": "stream",
     "text": [
      "1m 1s\n",
      "Early Stopping Counter = 8\n",
      "Epoch 79/300\n"
     ]
    },
    {
     "name": "stderr",
     "output_type": "stream",
     "text": [
      "100%|██████████| 155/155 [00:46<00:00,  3.35it/s]\n",
      "100%|██████████| 15/15 [00:09<00:00,  1.58it/s]\n",
      "100%|██████████| 18/18 [00:05<00:00,  3.30it/s]\n"
     ]
    },
    {
     "name": "stdout",
     "output_type": "stream",
     "text": [
      "1m 1s\n",
      "Early Stopping Counter = 9\n",
      "Epoch 80/300\n"
     ]
    },
    {
     "name": "stderr",
     "output_type": "stream",
     "text": [
      "100%|██████████| 155/155 [00:46<00:00,  3.35it/s]\n",
      "100%|██████████| 15/15 [00:09<00:00,  1.60it/s]\n",
      "100%|██████████| 18/18 [00:05<00:00,  3.29it/s]\n"
     ]
    },
    {
     "name": "stdout",
     "output_type": "stream",
     "text": [
      "1m 1s\n",
      "Early Stopping Counter = 10\n",
      "Epoch 81/300\n"
     ]
    },
    {
     "name": "stderr",
     "output_type": "stream",
     "text": [
      "100%|██████████| 155/155 [00:46<00:00,  3.34it/s]\n",
      "100%|██████████| 15/15 [00:09<00:00,  1.59it/s]\n",
      "100%|██████████| 18/18 [00:05<00:00,  3.28it/s]\n"
     ]
    },
    {
     "name": "stdout",
     "output_type": "stream",
     "text": [
      "1m 1s\n",
      "Early Stopping Counter = 11\n",
      "Epoch 82/300\n"
     ]
    },
    {
     "name": "stderr",
     "output_type": "stream",
     "text": [
      "100%|██████████| 155/155 [00:46<00:00,  3.34it/s]\n",
      "100%|██████████| 15/15 [00:09<00:00,  1.59it/s]\n",
      "100%|██████████| 18/18 [00:05<00:00,  3.27it/s]\n"
     ]
    },
    {
     "name": "stdout",
     "output_type": "stream",
     "text": [
      "1m 1s\n",
      "Consistency Loss declined to 0.018623551757385334\n",
      "Early Stopping Counter = 0\n",
      "Epoch 83/300\n"
     ]
    },
    {
     "name": "stderr",
     "output_type": "stream",
     "text": [
      "100%|██████████| 155/155 [00:46<00:00,  3.33it/s]\n",
      "100%|██████████| 15/15 [00:09<00:00,  1.58it/s]\n",
      "100%|██████████| 18/18 [00:05<00:00,  3.28it/s]\n"
     ]
    },
    {
     "name": "stdout",
     "output_type": "stream",
     "text": [
      "1m 2s\n",
      "Consistency Loss declined to 0.018316209502518176\n",
      "Early Stopping Counter = 0\n",
      "Epoch 84/300\n"
     ]
    },
    {
     "name": "stderr",
     "output_type": "stream",
     "text": [
      "100%|██████████| 155/155 [00:46<00:00,  3.33it/s]\n",
      "100%|██████████| 15/15 [00:09<00:00,  1.61it/s]\n",
      "100%|██████████| 18/18 [00:05<00:00,  3.26it/s]\n"
     ]
    },
    {
     "name": "stdout",
     "output_type": "stream",
     "text": [
      "1m 1s\n",
      "Early Stopping Counter = 1\n",
      "Epoch 85/300\n"
     ]
    },
    {
     "name": "stderr",
     "output_type": "stream",
     "text": [
      "100%|██████████| 155/155 [00:46<00:00,  3.34it/s]\n",
      "100%|██████████| 15/15 [00:09<00:00,  1.59it/s]\n",
      "100%|██████████| 18/18 [00:05<00:00,  3.31it/s]\n"
     ]
    },
    {
     "name": "stdout",
     "output_type": "stream",
     "text": [
      "1m 1s\n",
      "Early Stopping Counter = 2\n",
      "Epoch 86/300\n"
     ]
    },
    {
     "name": "stderr",
     "output_type": "stream",
     "text": [
      "100%|██████████| 155/155 [00:46<00:00,  3.34it/s]\n",
      "100%|██████████| 15/15 [00:09<00:00,  1.57it/s]\n",
      "100%|██████████| 18/18 [00:05<00:00,  3.34it/s]\n"
     ]
    },
    {
     "name": "stdout",
     "output_type": "stream",
     "text": [
      "1m 1s\n",
      "Consistency Loss declined to 0.01792344277103742\n",
      "Early Stopping Counter = 0\n",
      "Epoch 87/300\n"
     ]
    },
    {
     "name": "stderr",
     "output_type": "stream",
     "text": [
      "100%|██████████| 155/155 [00:46<00:00,  3.33it/s]\n",
      "100%|██████████| 15/15 [00:09<00:00,  1.61it/s]\n",
      "100%|██████████| 18/18 [00:05<00:00,  3.35it/s]\n"
     ]
    },
    {
     "name": "stdout",
     "output_type": "stream",
     "text": [
      "1m 1s\n",
      "Early Stopping Counter = 1\n",
      "Epoch 88/300\n"
     ]
    },
    {
     "name": "stderr",
     "output_type": "stream",
     "text": [
      "100%|██████████| 155/155 [00:46<00:00,  3.35it/s]\n",
      "100%|██████████| 15/15 [00:09<00:00,  1.62it/s]\n",
      "100%|██████████| 18/18 [00:05<00:00,  3.25it/s]\n"
     ]
    },
    {
     "name": "stdout",
     "output_type": "stream",
     "text": [
      "1m 1s\n",
      "Early Stopping Counter = 2\n",
      "Epoch 89/300\n"
     ]
    },
    {
     "name": "stderr",
     "output_type": "stream",
     "text": [
      "100%|██████████| 155/155 [00:46<00:00,  3.35it/s]\n",
      "100%|██████████| 15/15 [00:09<00:00,  1.61it/s]\n",
      "100%|██████████| 18/18 [00:05<00:00,  3.26it/s]\n"
     ]
    },
    {
     "name": "stdout",
     "output_type": "stream",
     "text": [
      "1m 1s\n",
      "Early Stopping Counter = 3\n",
      "Epoch 90/300\n"
     ]
    },
    {
     "name": "stderr",
     "output_type": "stream",
     "text": [
      "100%|██████████| 155/155 [00:46<00:00,  3.35it/s]\n",
      "100%|██████████| 15/15 [00:09<00:00,  1.61it/s]\n",
      "100%|██████████| 18/18 [00:05<00:00,  3.25it/s]\n"
     ]
    },
    {
     "name": "stdout",
     "output_type": "stream",
     "text": [
      "1m 1s\n",
      "Early Stopping Counter = 4\n",
      "Epoch 91/300\n"
     ]
    },
    {
     "name": "stderr",
     "output_type": "stream",
     "text": [
      "100%|██████████| 155/155 [00:46<00:00,  3.35it/s]\n",
      "100%|██████████| 15/15 [00:09<00:00,  1.59it/s]\n",
      "100%|██████████| 18/18 [00:05<00:00,  3.26it/s]\n"
     ]
    },
    {
     "name": "stdout",
     "output_type": "stream",
     "text": [
      "1m 1s\n",
      "Early Stopping Counter = 5\n",
      "Epoch 92/300\n"
     ]
    },
    {
     "name": "stderr",
     "output_type": "stream",
     "text": [
      "100%|██████████| 155/155 [00:46<00:00,  3.36it/s]\n",
      "100%|██████████| 15/15 [00:09<00:00,  1.59it/s]\n",
      "100%|██████████| 18/18 [00:05<00:00,  3.34it/s]\n"
     ]
    },
    {
     "name": "stdout",
     "output_type": "stream",
     "text": [
      "1m 1s\n",
      "Early Stopping Counter = 6\n",
      "Epoch 93/300\n"
     ]
    },
    {
     "name": "stderr",
     "output_type": "stream",
     "text": [
      "100%|██████████| 155/155 [00:46<00:00,  3.34it/s]\n",
      "100%|██████████| 15/15 [00:09<00:00,  1.60it/s]\n",
      "100%|██████████| 18/18 [00:05<00:00,  3.27it/s]\n"
     ]
    },
    {
     "name": "stdout",
     "output_type": "stream",
     "text": [
      "1m 1s\n",
      "Consistency Loss declined to 0.01766087394207716\n",
      "Early Stopping Counter = 0\n",
      "Epoch 94/300\n"
     ]
    },
    {
     "name": "stderr",
     "output_type": "stream",
     "text": [
      "100%|██████████| 155/155 [00:46<00:00,  3.35it/s]\n",
      "100%|██████████| 15/15 [00:09<00:00,  1.60it/s]\n",
      "100%|██████████| 18/18 [00:05<00:00,  3.28it/s]\n"
     ]
    },
    {
     "name": "stdout",
     "output_type": "stream",
     "text": [
      "1m 1s\n",
      "Consistency Loss declined to 0.01709467489272356\n",
      "Early Stopping Counter = 0\n",
      "Epoch 95/300\n"
     ]
    },
    {
     "name": "stderr",
     "output_type": "stream",
     "text": [
      "100%|██████████| 155/155 [00:46<00:00,  3.33it/s]\n",
      "100%|██████████| 15/15 [00:09<00:00,  1.59it/s]\n",
      "100%|██████████| 18/18 [00:05<00:00,  3.34it/s]\n"
     ]
    },
    {
     "name": "stdout",
     "output_type": "stream",
     "text": [
      "1m 1s\n",
      "Early Stopping Counter = 1\n",
      "Epoch 96/300\n"
     ]
    },
    {
     "name": "stderr",
     "output_type": "stream",
     "text": [
      "100%|██████████| 155/155 [00:46<00:00,  3.33it/s]\n",
      "100%|██████████| 15/15 [00:09<00:00,  1.60it/s]\n",
      "100%|██████████| 18/18 [00:05<00:00,  3.27it/s]\n"
     ]
    },
    {
     "name": "stdout",
     "output_type": "stream",
     "text": [
      "1m 1s\n",
      "Early Stopping Counter = 2\n",
      "Epoch 97/300\n"
     ]
    },
    {
     "name": "stderr",
     "output_type": "stream",
     "text": [
      "100%|██████████| 155/155 [00:46<00:00,  3.35it/s]\n",
      "100%|██████████| 15/15 [00:09<00:00,  1.60it/s]\n",
      "100%|██████████| 18/18 [00:05<00:00,  3.29it/s]\n"
     ]
    },
    {
     "name": "stdout",
     "output_type": "stream",
     "text": [
      "1m 1s\n",
      "Consistency Loss declined to 0.015946255872646968\n",
      "Early Stopping Counter = 0\n",
      "Epoch 98/300\n"
     ]
    },
    {
     "name": "stderr",
     "output_type": "stream",
     "text": [
      "100%|██████████| 155/155 [00:46<00:00,  3.34it/s]\n",
      "100%|██████████| 15/15 [00:09<00:00,  1.60it/s]\n",
      "100%|██████████| 18/18 [00:05<00:00,  3.32it/s]\n"
     ]
    },
    {
     "name": "stdout",
     "output_type": "stream",
     "text": [
      "1m 1s\n",
      "Early Stopping Counter = 1\n",
      "Epoch 99/300\n"
     ]
    },
    {
     "name": "stderr",
     "output_type": "stream",
     "text": [
      "100%|██████████| 155/155 [00:46<00:00,  3.35it/s]\n",
      "100%|██████████| 15/15 [00:09<00:00,  1.61it/s]\n",
      "100%|██████████| 18/18 [00:05<00:00,  3.27it/s]\n"
     ]
    },
    {
     "name": "stdout",
     "output_type": "stream",
     "text": [
      "1m 1s\n",
      "Early Stopping Counter = 2\n",
      "Epoch 100/300\n"
     ]
    },
    {
     "name": "stderr",
     "output_type": "stream",
     "text": [
      "100%|██████████| 155/155 [00:46<00:00,  3.35it/s]\n",
      "100%|██████████| 15/15 [00:09<00:00,  1.60it/s]\n",
      "100%|██████████| 18/18 [00:05<00:00,  3.26it/s]\n"
     ]
    },
    {
     "name": "stdout",
     "output_type": "stream",
     "text": [
      "1m 1s\n",
      "Early Stopping Counter = 3\n",
      "Epoch 101/300\n"
     ]
    },
    {
     "name": "stderr",
     "output_type": "stream",
     "text": [
      "100%|██████████| 155/155 [00:46<00:00,  3.35it/s]\n",
      "100%|██████████| 15/15 [00:09<00:00,  1.60it/s]\n",
      "100%|██████████| 18/18 [00:05<00:00,  3.27it/s]\n"
     ]
    },
    {
     "name": "stdout",
     "output_type": "stream",
     "text": [
      "1m 1s\n",
      "Early Stopping Counter = 4\n",
      "Epoch 102/300\n"
     ]
    },
    {
     "name": "stderr",
     "output_type": "stream",
     "text": [
      "100%|██████████| 155/155 [00:46<00:00,  3.35it/s]\n",
      "100%|██████████| 15/15 [00:09<00:00,  1.57it/s]\n",
      "100%|██████████| 18/18 [00:05<00:00,  3.30it/s]\n"
     ]
    },
    {
     "name": "stdout",
     "output_type": "stream",
     "text": [
      "1m 1s\n",
      "Consistency Loss declined to 0.015750089256713787\n",
      "Early Stopping Counter = 0\n",
      "Epoch 103/300\n"
     ]
    },
    {
     "name": "stderr",
     "output_type": "stream",
     "text": [
      "100%|██████████| 155/155 [00:46<00:00,  3.33it/s]\n",
      "100%|██████████| 15/15 [00:09<00:00,  1.59it/s]\n",
      "100%|██████████| 18/18 [00:05<00:00,  3.27it/s]\n"
     ]
    },
    {
     "name": "stdout",
     "output_type": "stream",
     "text": [
      "1m 1s\n",
      "Early Stopping Counter = 1\n",
      "Epoch 104/300\n"
     ]
    },
    {
     "name": "stderr",
     "output_type": "stream",
     "text": [
      "100%|██████████| 155/155 [00:46<00:00,  3.36it/s]\n",
      "100%|██████████| 15/15 [00:09<00:00,  1.62it/s]\n",
      "100%|██████████| 18/18 [00:05<00:00,  3.34it/s]\n"
     ]
    },
    {
     "name": "stdout",
     "output_type": "stream",
     "text": [
      "1m 1s\n",
      "Consistency Loss declined to 0.01534549668431282\n",
      "Early Stopping Counter = 0\n",
      "Epoch 105/300\n"
     ]
    },
    {
     "name": "stderr",
     "output_type": "stream",
     "text": [
      "100%|██████████| 155/155 [00:46<00:00,  3.33it/s]\n",
      "100%|██████████| 15/15 [00:09<00:00,  1.61it/s]\n",
      "100%|██████████| 18/18 [00:05<00:00,  3.36it/s]\n"
     ]
    },
    {
     "name": "stdout",
     "output_type": "stream",
     "text": [
      "1m 1s\n",
      "Early Stopping Counter = 1\n",
      "Epoch 106/300\n"
     ]
    },
    {
     "name": "stderr",
     "output_type": "stream",
     "text": [
      "100%|██████████| 155/155 [00:46<00:00,  3.33it/s]\n",
      "100%|██████████| 15/15 [00:09<00:00,  1.61it/s]\n",
      "100%|██████████| 18/18 [00:05<00:00,  3.15it/s]\n"
     ]
    },
    {
     "name": "stdout",
     "output_type": "stream",
     "text": [
      "1m 2s\n",
      "Early Stopping Counter = 2\n",
      "Epoch 107/300\n"
     ]
    },
    {
     "name": "stderr",
     "output_type": "stream",
     "text": [
      "100%|██████████| 155/155 [00:46<00:00,  3.34it/s]\n",
      "100%|██████████| 15/15 [00:09<00:00,  1.59it/s]\n",
      "100%|██████████| 18/18 [00:05<00:00,  3.30it/s]\n"
     ]
    },
    {
     "name": "stdout",
     "output_type": "stream",
     "text": [
      "1m 1s\n",
      "Early Stopping Counter = 3\n",
      "Epoch 108/300\n"
     ]
    },
    {
     "name": "stderr",
     "output_type": "stream",
     "text": [
      "100%|██████████| 155/155 [00:46<00:00,  3.32it/s]\n",
      "100%|██████████| 15/15 [00:09<00:00,  1.60it/s]\n",
      "100%|██████████| 18/18 [00:05<00:00,  3.26it/s]\n"
     ]
    },
    {
     "name": "stdout",
     "output_type": "stream",
     "text": [
      "1m 2s\n",
      "Consistency Loss declined to 0.014724421811600526\n",
      "Early Stopping Counter = 0\n",
      "Epoch 109/300\n"
     ]
    },
    {
     "name": "stderr",
     "output_type": "stream",
     "text": [
      "100%|██████████| 155/155 [00:46<00:00,  3.34it/s]\n",
      "100%|██████████| 15/15 [00:09<00:00,  1.60it/s]\n",
      "100%|██████████| 18/18 [00:05<00:00,  3.35it/s]\n"
     ]
    },
    {
     "name": "stdout",
     "output_type": "stream",
     "text": [
      "1m 1s\n",
      "Early Stopping Counter = 1\n",
      "Epoch 110/300\n"
     ]
    },
    {
     "name": "stderr",
     "output_type": "stream",
     "text": [
      "100%|██████████| 155/155 [00:46<00:00,  3.34it/s]\n",
      "100%|██████████| 15/15 [00:09<00:00,  1.59it/s]\n",
      "100%|██████████| 18/18 [00:05<00:00,  3.28it/s]\n"
     ]
    },
    {
     "name": "stdout",
     "output_type": "stream",
     "text": [
      "1m 1s\n",
      "Consistency Loss declined to 0.014507984183728695\n",
      "Early Stopping Counter = 0\n",
      "Epoch 111/300\n"
     ]
    },
    {
     "name": "stderr",
     "output_type": "stream",
     "text": [
      "100%|██████████| 155/155 [00:46<00:00,  3.33it/s]\n",
      "100%|██████████| 15/15 [00:09<00:00,  1.59it/s]\n",
      "100%|██████████| 18/18 [00:05<00:00,  3.31it/s]\n"
     ]
    },
    {
     "name": "stdout",
     "output_type": "stream",
     "text": [
      "1m 2s\n",
      "Consistency Loss declined to 0.013020551887651284\n",
      "Early Stopping Counter = 0\n",
      "Epoch 112/300\n"
     ]
    },
    {
     "name": "stderr",
     "output_type": "stream",
     "text": [
      "100%|██████████| 155/155 [00:46<00:00,  3.34it/s]\n",
      "100%|██████████| 15/15 [00:09<00:00,  1.62it/s]\n",
      "100%|██████████| 18/18 [00:05<00:00,  3.32it/s]\n"
     ]
    },
    {
     "name": "stdout",
     "output_type": "stream",
     "text": [
      "1m 1s\n",
      "Early Stopping Counter = 1\n",
      "Epoch 113/300\n"
     ]
    },
    {
     "name": "stderr",
     "output_type": "stream",
     "text": [
      "100%|██████████| 155/155 [00:46<00:00,  3.35it/s]\n",
      "100%|██████████| 15/15 [00:09<00:00,  1.59it/s]\n",
      "100%|██████████| 18/18 [00:05<00:00,  3.33it/s]\n"
     ]
    },
    {
     "name": "stdout",
     "output_type": "stream",
     "text": [
      "1m 1s\n",
      "Consistency Loss declined to 0.012548438397546609\n",
      "Early Stopping Counter = 0\n",
      "Epoch 114/300\n"
     ]
    },
    {
     "name": "stderr",
     "output_type": "stream",
     "text": [
      "100%|██████████| 155/155 [00:46<00:00,  3.35it/s]\n",
      "100%|██████████| 15/15 [00:09<00:00,  1.59it/s]\n",
      "100%|██████████| 18/18 [00:05<00:00,  3.39it/s]\n"
     ]
    },
    {
     "name": "stdout",
     "output_type": "stream",
     "text": [
      "1m 1s\n",
      "Consistency Loss declined to 0.012115341052412987\n",
      "Early Stopping Counter = 0\n",
      "Epoch 115/300\n"
     ]
    },
    {
     "name": "stderr",
     "output_type": "stream",
     "text": [
      "100%|██████████| 155/155 [00:46<00:00,  3.34it/s]\n",
      "100%|██████████| 15/15 [00:09<00:00,  1.60it/s]\n",
      "100%|██████████| 18/18 [00:05<00:00,  3.25it/s]\n"
     ]
    },
    {
     "name": "stdout",
     "output_type": "stream",
     "text": [
      "1m 1s\n",
      "Consistency Loss declined to 0.011995069837818543\n",
      "Early Stopping Counter = 0\n",
      "Epoch 116/300\n"
     ]
    },
    {
     "name": "stderr",
     "output_type": "stream",
     "text": [
      "100%|██████████| 155/155 [00:46<00:00,  3.34it/s]\n",
      "100%|██████████| 15/15 [00:09<00:00,  1.62it/s]\n",
      "100%|██████████| 18/18 [00:05<00:00,  3.30it/s]\n"
     ]
    },
    {
     "name": "stdout",
     "output_type": "stream",
     "text": [
      "1m 1s\n",
      "Early Stopping Counter = 1\n",
      "Epoch 117/300\n"
     ]
    },
    {
     "name": "stderr",
     "output_type": "stream",
     "text": [
      "100%|██████████| 155/155 [00:46<00:00,  3.36it/s]\n",
      "100%|██████████| 15/15 [00:09<00:00,  1.59it/s]\n",
      "100%|██████████| 18/18 [00:05<00:00,  3.25it/s]\n"
     ]
    },
    {
     "name": "stdout",
     "output_type": "stream",
     "text": [
      "1m 1s\n",
      "Early Stopping Counter = 2\n",
      "Epoch 118/300\n"
     ]
    },
    {
     "name": "stderr",
     "output_type": "stream",
     "text": [
      "100%|██████████| 155/155 [00:46<00:00,  3.36it/s]\n",
      "100%|██████████| 15/15 [00:09<00:00,  1.60it/s]\n",
      "100%|██████████| 18/18 [00:05<00:00,  3.27it/s]\n"
     ]
    },
    {
     "name": "stdout",
     "output_type": "stream",
     "text": [
      "1m 1s\n",
      "Early Stopping Counter = 3\n",
      "Epoch 119/300\n"
     ]
    },
    {
     "name": "stderr",
     "output_type": "stream",
     "text": [
      "100%|██████████| 155/155 [00:46<00:00,  3.34it/s]\n",
      "100%|██████████| 15/15 [00:09<00:00,  1.60it/s]\n",
      "100%|██████████| 18/18 [00:05<00:00,  3.27it/s]\n"
     ]
    },
    {
     "name": "stdout",
     "output_type": "stream",
     "text": [
      "1m 1s\n",
      "Early Stopping Counter = 4\n",
      "Epoch 120/300\n"
     ]
    },
    {
     "name": "stderr",
     "output_type": "stream",
     "text": [
      "100%|██████████| 155/155 [00:46<00:00,  3.36it/s]\n",
      "100%|██████████| 15/15 [00:09<00:00,  1.58it/s]\n",
      "100%|██████████| 18/18 [00:05<00:00,  3.28it/s]\n"
     ]
    },
    {
     "name": "stdout",
     "output_type": "stream",
     "text": [
      "1m 1s\n",
      "Early Stopping Counter = 5\n",
      "Epoch 121/300\n"
     ]
    },
    {
     "name": "stderr",
     "output_type": "stream",
     "text": [
      "100%|██████████| 155/155 [00:46<00:00,  3.36it/s]\n",
      "100%|██████████| 15/15 [00:09<00:00,  1.58it/s]\n",
      "100%|██████████| 18/18 [00:05<00:00,  3.28it/s]\n"
     ]
    },
    {
     "name": "stdout",
     "output_type": "stream",
     "text": [
      "1m 1s\n",
      "Early Stopping Counter = 6\n",
      "Epoch 122/300\n"
     ]
    },
    {
     "name": "stderr",
     "output_type": "stream",
     "text": [
      "100%|██████████| 155/155 [00:46<00:00,  3.36it/s]\n",
      "100%|██████████| 15/15 [00:09<00:00,  1.58it/s]\n",
      "100%|██████████| 18/18 [00:05<00:00,  3.23it/s]\n"
     ]
    },
    {
     "name": "stdout",
     "output_type": "stream",
     "text": [
      "1m 1s\n",
      "Early Stopping Counter = 7\n",
      "Epoch 123/300\n"
     ]
    },
    {
     "name": "stderr",
     "output_type": "stream",
     "text": [
      "100%|██████████| 155/155 [00:46<00:00,  3.33it/s]\n",
      "100%|██████████| 15/15 [00:09<00:00,  1.60it/s]\n",
      "100%|██████████| 18/18 [00:05<00:00,  3.28it/s]\n"
     ]
    },
    {
     "name": "stdout",
     "output_type": "stream",
     "text": [
      "1m 1s\n",
      "Early Stopping Counter = 8\n",
      "Epoch 124/300\n"
     ]
    },
    {
     "name": "stderr",
     "output_type": "stream",
     "text": [
      "100%|██████████| 155/155 [00:46<00:00,  3.35it/s]\n",
      "100%|██████████| 15/15 [00:09<00:00,  1.60it/s]\n",
      "100%|██████████| 18/18 [00:05<00:00,  3.33it/s]\n"
     ]
    },
    {
     "name": "stdout",
     "output_type": "stream",
     "text": [
      "1m 1s\n",
      "Early Stopping Counter = 9\n",
      "Epoch 125/300\n"
     ]
    },
    {
     "name": "stderr",
     "output_type": "stream",
     "text": [
      "100%|██████████| 155/155 [00:46<00:00,  3.35it/s]\n",
      "100%|██████████| 15/15 [00:09<00:00,  1.60it/s]\n",
      "100%|██████████| 18/18 [00:05<00:00,  3.30it/s]\n"
     ]
    },
    {
     "name": "stdout",
     "output_type": "stream",
     "text": [
      "1m 1s\n",
      "Early Stopping Counter = 10\n",
      "Epoch 126/300\n"
     ]
    },
    {
     "name": "stderr",
     "output_type": "stream",
     "text": [
      "100%|██████████| 155/155 [00:46<00:00,  3.34it/s]\n",
      "100%|██████████| 15/15 [00:09<00:00,  1.59it/s]\n",
      "100%|██████████| 18/18 [00:05<00:00,  3.29it/s]\n"
     ]
    },
    {
     "name": "stdout",
     "output_type": "stream",
     "text": [
      "1m 1s\n",
      "Consistency Loss declined to 0.01182783745850126\n",
      "Early Stopping Counter = 0\n",
      "Epoch 127/300\n"
     ]
    },
    {
     "name": "stderr",
     "output_type": "stream",
     "text": [
      "100%|██████████| 155/155 [00:46<00:00,  3.34it/s]\n",
      "100%|██████████| 15/15 [00:09<00:00,  1.60it/s]\n",
      "100%|██████████| 18/18 [00:05<00:00,  3.24it/s]\n"
     ]
    },
    {
     "name": "stdout",
     "output_type": "stream",
     "text": [
      "1m 1s\n",
      "Early Stopping Counter = 1\n",
      "Epoch 128/300\n"
     ]
    },
    {
     "name": "stderr",
     "output_type": "stream",
     "text": [
      "100%|██████████| 155/155 [00:46<00:00,  3.35it/s]\n",
      "100%|██████████| 15/15 [00:09<00:00,  1.56it/s]\n",
      "100%|██████████| 18/18 [00:05<00:00,  3.27it/s]\n"
     ]
    },
    {
     "name": "stdout",
     "output_type": "stream",
     "text": [
      "1m 1s\n",
      "Early Stopping Counter = 2\n",
      "Epoch 129/300\n"
     ]
    },
    {
     "name": "stderr",
     "output_type": "stream",
     "text": [
      "100%|██████████| 155/155 [00:46<00:00,  3.36it/s]\n",
      "100%|██████████| 15/15 [00:09<00:00,  1.60it/s]\n",
      "100%|██████████| 18/18 [00:05<00:00,  3.29it/s]\n"
     ]
    },
    {
     "name": "stdout",
     "output_type": "stream",
     "text": [
      "1m 1s\n",
      "Consistency Loss declined to 0.011759274949630102\n",
      "Early Stopping Counter = 0\n",
      "Epoch 130/300\n"
     ]
    },
    {
     "name": "stderr",
     "output_type": "stream",
     "text": [
      "100%|██████████| 155/155 [00:46<00:00,  3.34it/s]\n",
      "100%|██████████| 15/15 [00:09<00:00,  1.61it/s]\n",
      "100%|██████████| 18/18 [00:05<00:00,  3.33it/s]\n"
     ]
    },
    {
     "name": "stdout",
     "output_type": "stream",
     "text": [
      "1m 1s\n",
      "Early Stopping Counter = 1\n",
      "Epoch 131/300\n"
     ]
    },
    {
     "name": "stderr",
     "output_type": "stream",
     "text": [
      "100%|██████████| 155/155 [00:46<00:00,  3.36it/s]\n",
      "100%|██████████| 15/15 [00:09<00:00,  1.62it/s]\n",
      "100%|██████████| 18/18 [00:05<00:00,  3.29it/s]\n"
     ]
    },
    {
     "name": "stdout",
     "output_type": "stream",
     "text": [
      "1m 1s\n",
      "Early Stopping Counter = 2\n",
      "Epoch 132/300\n"
     ]
    },
    {
     "name": "stderr",
     "output_type": "stream",
     "text": [
      "100%|██████████| 155/155 [00:46<00:00,  3.35it/s]\n",
      "100%|██████████| 15/15 [00:09<00:00,  1.59it/s]\n",
      "100%|██████████| 18/18 [00:05<00:00,  3.29it/s]\n"
     ]
    },
    {
     "name": "stdout",
     "output_type": "stream",
     "text": [
      "1m 1s\n",
      "Consistency Loss declined to 0.011171396138767402\n",
      "Early Stopping Counter = 0\n",
      "Epoch 133/300\n"
     ]
    },
    {
     "name": "stderr",
     "output_type": "stream",
     "text": [
      "100%|██████████| 155/155 [00:46<00:00,  3.34it/s]\n",
      "100%|██████████| 15/15 [00:09<00:00,  1.59it/s]\n",
      "100%|██████████| 18/18 [00:05<00:00,  3.34it/s]\n"
     ]
    },
    {
     "name": "stdout",
     "output_type": "stream",
     "text": [
      "1m 1s\n",
      "Early Stopping Counter = 1\n",
      "Epoch 134/300\n"
     ]
    },
    {
     "name": "stderr",
     "output_type": "stream",
     "text": [
      "100%|██████████| 155/155 [00:46<00:00,  3.31it/s]\n",
      "100%|██████████| 15/15 [00:09<00:00,  1.62it/s]\n",
      "100%|██████████| 18/18 [00:05<00:00,  3.28it/s]\n"
     ]
    },
    {
     "name": "stdout",
     "output_type": "stream",
     "text": [
      "1m 2s\n",
      "Early Stopping Counter = 2\n",
      "Epoch 135/300\n"
     ]
    },
    {
     "name": "stderr",
     "output_type": "stream",
     "text": [
      "100%|██████████| 155/155 [00:47<00:00,  3.29it/s]\n",
      "100%|██████████| 15/15 [00:09<00:00,  1.59it/s]\n",
      "100%|██████████| 18/18 [00:05<00:00,  3.29it/s]\n"
     ]
    },
    {
     "name": "stdout",
     "output_type": "stream",
     "text": [
      "1m 2s\n",
      "Early Stopping Counter = 3\n",
      "Epoch 136/300\n"
     ]
    },
    {
     "name": "stderr",
     "output_type": "stream",
     "text": [
      "100%|██████████| 155/155 [00:46<00:00,  3.36it/s]\n",
      "100%|██████████| 15/15 [00:09<00:00,  1.58it/s]\n",
      "100%|██████████| 18/18 [00:05<00:00,  3.31it/s]\n"
     ]
    },
    {
     "name": "stdout",
     "output_type": "stream",
     "text": [
      "1m 1s\n",
      "Early Stopping Counter = 4\n",
      "Epoch 137/300\n"
     ]
    },
    {
     "name": "stderr",
     "output_type": "stream",
     "text": [
      "100%|██████████| 155/155 [00:46<00:00,  3.36it/s]\n",
      "100%|██████████| 15/15 [00:09<00:00,  1.60it/s]\n",
      "100%|██████████| 18/18 [00:05<00:00,  3.32it/s]\n"
     ]
    },
    {
     "name": "stdout",
     "output_type": "stream",
     "text": [
      "1m 1s\n",
      "Consistency Loss declined to 0.010576745960861444\n",
      "Early Stopping Counter = 0\n",
      "Epoch 138/300\n"
     ]
    },
    {
     "name": "stderr",
     "output_type": "stream",
     "text": [
      "100%|██████████| 155/155 [00:46<00:00,  3.34it/s]\n",
      "100%|██████████| 15/15 [00:09<00:00,  1.59it/s]\n",
      "100%|██████████| 18/18 [00:05<00:00,  3.26it/s]\n"
     ]
    },
    {
     "name": "stdout",
     "output_type": "stream",
     "text": [
      "1m 1s\n",
      "Early Stopping Counter = 1\n",
      "Epoch 139/300\n"
     ]
    },
    {
     "name": "stderr",
     "output_type": "stream",
     "text": [
      "100%|██████████| 155/155 [00:46<00:00,  3.34it/s]\n",
      "100%|██████████| 15/15 [00:09<00:00,  1.62it/s]\n",
      "100%|██████████| 18/18 [00:05<00:00,  3.26it/s]\n"
     ]
    },
    {
     "name": "stdout",
     "output_type": "stream",
     "text": [
      "1m 1s\n",
      "Consistency Loss declined to 0.010275756722937028\n",
      "Early Stopping Counter = 0\n",
      "Epoch 140/300\n"
     ]
    },
    {
     "name": "stderr",
     "output_type": "stream",
     "text": [
      "100%|██████████| 155/155 [00:46<00:00,  3.34it/s]\n",
      "100%|██████████| 15/15 [00:09<00:00,  1.61it/s]\n",
      "100%|██████████| 18/18 [00:05<00:00,  3.29it/s]\n"
     ]
    },
    {
     "name": "stdout",
     "output_type": "stream",
     "text": [
      "1m 1s\n",
      "Early Stopping Counter = 1\n",
      "Epoch 141/300\n"
     ]
    },
    {
     "name": "stderr",
     "output_type": "stream",
     "text": [
      "100%|██████████| 155/155 [00:46<00:00,  3.35it/s]\n",
      "100%|██████████| 15/15 [00:09<00:00,  1.60it/s]\n",
      "100%|██████████| 18/18 [00:05<00:00,  3.35it/s]\n"
     ]
    },
    {
     "name": "stdout",
     "output_type": "stream",
     "text": [
      "1m 1s\n",
      "Early Stopping Counter = 2\n",
      "Epoch 142/300\n"
     ]
    },
    {
     "name": "stderr",
     "output_type": "stream",
     "text": [
      "100%|██████████| 155/155 [00:46<00:00,  3.34it/s]\n",
      "100%|██████████| 15/15 [00:09<00:00,  1.60it/s]\n",
      "100%|██████████| 18/18 [00:05<00:00,  3.27it/s]\n"
     ]
    },
    {
     "name": "stdout",
     "output_type": "stream",
     "text": [
      "1m 1s\n",
      "Early Stopping Counter = 3\n",
      "Epoch 143/300\n"
     ]
    },
    {
     "name": "stderr",
     "output_type": "stream",
     "text": [
      "100%|██████████| 155/155 [00:46<00:00,  3.34it/s]\n",
      "100%|██████████| 15/15 [00:09<00:00,  1.59it/s]\n",
      "100%|██████████| 18/18 [00:05<00:00,  3.24it/s]\n"
     ]
    },
    {
     "name": "stdout",
     "output_type": "stream",
     "text": [
      "1m 1s\n",
      "Early Stopping Counter = 4\n",
      "Epoch 144/300\n"
     ]
    },
    {
     "name": "stderr",
     "output_type": "stream",
     "text": [
      "100%|██████████| 155/155 [00:46<00:00,  3.35it/s]\n",
      "100%|██████████| 15/15 [00:09<00:00,  1.60it/s]\n",
      "100%|██████████| 18/18 [00:05<00:00,  3.24it/s]\n"
     ]
    },
    {
     "name": "stdout",
     "output_type": "stream",
     "text": [
      "1m 1s\n",
      "Consistency Loss declined to 0.009239916286120812\n",
      "Early Stopping Counter = 0\n",
      "Epoch 145/300\n"
     ]
    },
    {
     "name": "stderr",
     "output_type": "stream",
     "text": [
      "100%|██████████| 155/155 [00:46<00:00,  3.34it/s]\n",
      "100%|██████████| 15/15 [00:09<00:00,  1.60it/s]\n",
      "100%|██████████| 18/18 [00:05<00:00,  3.26it/s]\n"
     ]
    },
    {
     "name": "stdout",
     "output_type": "stream",
     "text": [
      "1m 1s\n",
      "Early Stopping Counter = 1\n",
      "Epoch 146/300\n"
     ]
    },
    {
     "name": "stderr",
     "output_type": "stream",
     "text": [
      "100%|██████████| 155/155 [00:46<00:00,  3.36it/s]\n",
      "100%|██████████| 15/15 [00:09<00:00,  1.62it/s]\n",
      "100%|██████████| 18/18 [00:05<00:00,  3.25it/s]\n"
     ]
    },
    {
     "name": "stdout",
     "output_type": "stream",
     "text": [
      "1m 1s\n",
      "Early Stopping Counter = 2\n",
      "Epoch 147/300\n"
     ]
    },
    {
     "name": "stderr",
     "output_type": "stream",
     "text": [
      "100%|██████████| 155/155 [00:46<00:00,  3.36it/s]\n",
      "100%|██████████| 15/15 [00:09<00:00,  1.60it/s]\n",
      "100%|██████████| 18/18 [00:05<00:00,  3.27it/s]\n"
     ]
    },
    {
     "name": "stdout",
     "output_type": "stream",
     "text": [
      "1m 1s\n",
      "Consistency Loss declined to 0.009177860741813978\n",
      "Early Stopping Counter = 0\n",
      "Epoch 148/300\n"
     ]
    },
    {
     "name": "stderr",
     "output_type": "stream",
     "text": [
      "100%|██████████| 155/155 [00:46<00:00,  3.34it/s]\n",
      "100%|██████████| 15/15 [00:09<00:00,  1.59it/s]\n",
      "100%|██████████| 18/18 [00:05<00:00,  3.26it/s]\n"
     ]
    },
    {
     "name": "stdout",
     "output_type": "stream",
     "text": [
      "1m 1s\n",
      "Early Stopping Counter = 1\n",
      "Epoch 149/300\n"
     ]
    },
    {
     "name": "stderr",
     "output_type": "stream",
     "text": [
      "100%|██████████| 155/155 [00:46<00:00,  3.35it/s]\n",
      "100%|██████████| 15/15 [00:09<00:00,  1.61it/s]\n",
      "100%|██████████| 18/18 [00:05<00:00,  3.25it/s]\n"
     ]
    },
    {
     "name": "stdout",
     "output_type": "stream",
     "text": [
      "1m 1s\n",
      "Early Stopping Counter = 2\n",
      "Epoch 150/300\n"
     ]
    },
    {
     "name": "stderr",
     "output_type": "stream",
     "text": [
      "100%|██████████| 155/155 [00:46<00:00,  3.35it/s]\n",
      "100%|██████████| 15/15 [00:09<00:00,  1.60it/s]\n",
      "100%|██████████| 18/18 [00:05<00:00,  3.24it/s]\n"
     ]
    },
    {
     "name": "stdout",
     "output_type": "stream",
     "text": [
      "1m 1s\n",
      "Early Stopping Counter = 3\n",
      "Epoch 151/300\n"
     ]
    },
    {
     "name": "stderr",
     "output_type": "stream",
     "text": [
      "100%|██████████| 155/155 [00:46<00:00,  3.35it/s]\n",
      "100%|██████████| 15/15 [00:09<00:00,  1.58it/s]\n",
      "100%|██████████| 18/18 [00:05<00:00,  3.26it/s]\n"
     ]
    },
    {
     "name": "stdout",
     "output_type": "stream",
     "text": [
      "1m 1s\n",
      "Early Stopping Counter = 4\n",
      "Epoch 152/300\n"
     ]
    },
    {
     "name": "stderr",
     "output_type": "stream",
     "text": [
      "100%|██████████| 155/155 [00:46<00:00,  3.36it/s]\n",
      "100%|██████████| 15/15 [00:09<00:00,  1.57it/s]\n",
      "100%|██████████| 18/18 [00:05<00:00,  3.33it/s]\n"
     ]
    },
    {
     "name": "stdout",
     "output_type": "stream",
     "text": [
      "1m 1s\n",
      "Early Stopping Counter = 5\n",
      "Epoch 153/300\n"
     ]
    },
    {
     "name": "stderr",
     "output_type": "stream",
     "text": [
      "100%|██████████| 155/155 [00:46<00:00,  3.35it/s]\n",
      "100%|██████████| 15/15 [00:09<00:00,  1.59it/s]\n",
      "100%|██████████| 18/18 [00:05<00:00,  3.25it/s]\n"
     ]
    },
    {
     "name": "stdout",
     "output_type": "stream",
     "text": [
      "1m 1s\n",
      "Early Stopping Counter = 6\n",
      "Epoch 154/300\n"
     ]
    },
    {
     "name": "stderr",
     "output_type": "stream",
     "text": [
      "100%|██████████| 155/155 [00:46<00:00,  3.34it/s]\n",
      "100%|██████████| 15/15 [00:09<00:00,  1.60it/s]\n",
      "100%|██████████| 18/18 [00:05<00:00,  3.26it/s]\n"
     ]
    },
    {
     "name": "stdout",
     "output_type": "stream",
     "text": [
      "1m 1s\n",
      "Early Stopping Counter = 7\n",
      "Epoch 155/300\n"
     ]
    },
    {
     "name": "stderr",
     "output_type": "stream",
     "text": [
      "100%|██████████| 155/155 [00:46<00:00,  3.34it/s]\n",
      "100%|██████████| 15/15 [00:09<00:00,  1.54it/s]\n",
      "100%|██████████| 18/18 [00:05<00:00,  3.25it/s]\n"
     ]
    },
    {
     "name": "stdout",
     "output_type": "stream",
     "text": [
      "1m 2s\n",
      "Early Stopping Counter = 8\n",
      "Epoch 156/300\n"
     ]
    },
    {
     "name": "stderr",
     "output_type": "stream",
     "text": [
      "100%|██████████| 155/155 [00:46<00:00,  3.33it/s]\n",
      "100%|██████████| 15/15 [00:09<00:00,  1.62it/s]\n",
      "100%|██████████| 18/18 [00:05<00:00,  3.29it/s]\n"
     ]
    },
    {
     "name": "stdout",
     "output_type": "stream",
     "text": [
      "1m 1s\n",
      "Early Stopping Counter = 9\n",
      "Epoch 157/300\n"
     ]
    },
    {
     "name": "stderr",
     "output_type": "stream",
     "text": [
      "100%|██████████| 155/155 [00:46<00:00,  3.35it/s]\n",
      "100%|██████████| 15/15 [00:09<00:00,  1.60it/s]\n",
      "100%|██████████| 18/18 [00:05<00:00,  3.30it/s]\n"
     ]
    },
    {
     "name": "stdout",
     "output_type": "stream",
     "text": [
      "1m 1s\n",
      "Early Stopping Counter = 10\n",
      "Epoch 158/300\n"
     ]
    },
    {
     "name": "stderr",
     "output_type": "stream",
     "text": [
      "100%|██████████| 155/155 [00:46<00:00,  3.34it/s]\n",
      "100%|██████████| 15/15 [00:09<00:00,  1.58it/s]\n",
      "100%|██████████| 18/18 [00:05<00:00,  3.02it/s]\n"
     ]
    },
    {
     "name": "stdout",
     "output_type": "stream",
     "text": [
      "1m 2s\n",
      "Consistency Loss declined to 0.009003611995528142\n",
      "Early Stopping Counter = 0\n",
      "Epoch 159/300\n"
     ]
    },
    {
     "name": "stderr",
     "output_type": "stream",
     "text": [
      "100%|██████████| 155/155 [00:46<00:00,  3.31it/s]\n",
      "100%|██████████| 15/15 [00:09<00:00,  1.58it/s]\n",
      "100%|██████████| 18/18 [00:05<00:00,  3.23it/s]\n"
     ]
    },
    {
     "name": "stdout",
     "output_type": "stream",
     "text": [
      "1m 2s\n",
      "Consistency Loss declined to 0.008671389147639274\n",
      "Early Stopping Counter = 0\n",
      "Epoch 160/300\n"
     ]
    },
    {
     "name": "stderr",
     "output_type": "stream",
     "text": [
      "100%|██████████| 155/155 [00:46<00:00,  3.31it/s]\n",
      "100%|██████████| 15/15 [00:09<00:00,  1.60it/s]\n",
      "100%|██████████| 18/18 [00:05<00:00,  3.26it/s]\n"
     ]
    },
    {
     "name": "stdout",
     "output_type": "stream",
     "text": [
      "1m 2s\n",
      "Early Stopping Counter = 1\n",
      "Epoch 161/300\n"
     ]
    },
    {
     "name": "stderr",
     "output_type": "stream",
     "text": [
      "100%|██████████| 155/155 [00:46<00:00,  3.33it/s]\n",
      "100%|██████████| 15/15 [00:09<00:00,  1.59it/s]\n",
      "100%|██████████| 18/18 [00:05<00:00,  3.27it/s]\n"
     ]
    },
    {
     "name": "stdout",
     "output_type": "stream",
     "text": [
      "1m 2s\n",
      "Early Stopping Counter = 2\n",
      "Epoch 162/300\n"
     ]
    },
    {
     "name": "stderr",
     "output_type": "stream",
     "text": [
      "100%|██████████| 155/155 [00:46<00:00,  3.33it/s]\n",
      "100%|██████████| 15/15 [00:09<00:00,  1.59it/s]\n",
      "100%|██████████| 18/18 [00:05<00:00,  3.30it/s]\n"
     ]
    },
    {
     "name": "stdout",
     "output_type": "stream",
     "text": [
      "1m 1s\n",
      "Early Stopping Counter = 3\n",
      "Epoch 163/300\n"
     ]
    },
    {
     "name": "stderr",
     "output_type": "stream",
     "text": [
      "100%|██████████| 155/155 [00:46<00:00,  3.35it/s]\n",
      "100%|██████████| 15/15 [00:09<00:00,  1.58it/s]\n",
      "100%|██████████| 18/18 [00:05<00:00,  3.24it/s]\n"
     ]
    },
    {
     "name": "stdout",
     "output_type": "stream",
     "text": [
      "1m 1s\n",
      "Early Stopping Counter = 4\n",
      "Epoch 164/300\n"
     ]
    },
    {
     "name": "stderr",
     "output_type": "stream",
     "text": [
      "100%|██████████| 155/155 [00:46<00:00,  3.35it/s]\n",
      "100%|██████████| 15/15 [00:10<00:00,  1.48it/s]\n",
      "100%|██████████| 18/18 [00:05<00:00,  3.31it/s]\n"
     ]
    },
    {
     "name": "stdout",
     "output_type": "stream",
     "text": [
      "1m 2s\n",
      "Early Stopping Counter = 5\n",
      "Epoch 165/300\n"
     ]
    },
    {
     "name": "stderr",
     "output_type": "stream",
     "text": [
      "100%|██████████| 155/155 [00:46<00:00,  3.36it/s]\n",
      "100%|██████████| 15/15 [00:09<00:00,  1.60it/s]\n",
      "100%|██████████| 18/18 [00:05<00:00,  3.27it/s]\n"
     ]
    },
    {
     "name": "stdout",
     "output_type": "stream",
     "text": [
      "1m 1s\n",
      "Consistency Loss declined to 0.008631154925872882\n",
      "Early Stopping Counter = 0\n",
      "Epoch 166/300\n"
     ]
    },
    {
     "name": "stderr",
     "output_type": "stream",
     "text": [
      "100%|██████████| 155/155 [00:46<00:00,  3.32it/s]\n",
      "100%|██████████| 15/15 [00:09<00:00,  1.56it/s]\n",
      "100%|██████████| 18/18 [00:05<00:00,  3.25it/s]\n"
     ]
    },
    {
     "name": "stdout",
     "output_type": "stream",
     "text": [
      "1m 2s\n",
      "Early Stopping Counter = 1\n",
      "Epoch 167/300\n"
     ]
    },
    {
     "name": "stderr",
     "output_type": "stream",
     "text": [
      "100%|██████████| 155/155 [00:46<00:00,  3.33it/s]\n",
      "100%|██████████| 15/15 [00:09<00:00,  1.62it/s]\n",
      "100%|██████████| 18/18 [00:05<00:00,  3.26it/s]\n"
     ]
    },
    {
     "name": "stdout",
     "output_type": "stream",
     "text": [
      "1m 1s\n",
      "Early Stopping Counter = 2\n",
      "Epoch 168/300\n"
     ]
    },
    {
     "name": "stderr",
     "output_type": "stream",
     "text": [
      "100%|██████████| 155/155 [00:46<00:00,  3.34it/s]\n",
      "100%|██████████| 15/15 [00:09<00:00,  1.60it/s]\n",
      "100%|██████████| 18/18 [00:05<00:00,  3.26it/s]\n"
     ]
    },
    {
     "name": "stdout",
     "output_type": "stream",
     "text": [
      "1m 1s\n",
      "Consistency Loss declined to 0.008071321963022153\n",
      "Early Stopping Counter = 0\n",
      "Epoch 169/300\n"
     ]
    },
    {
     "name": "stderr",
     "output_type": "stream",
     "text": [
      "100%|██████████| 155/155 [00:46<00:00,  3.35it/s]\n",
      "100%|██████████| 15/15 [00:09<00:00,  1.62it/s]\n",
      "100%|██████████| 18/18 [00:05<00:00,  3.26it/s]\n"
     ]
    },
    {
     "name": "stdout",
     "output_type": "stream",
     "text": [
      "1m 1s\n",
      "Early Stopping Counter = 1\n",
      "Epoch 170/300\n"
     ]
    },
    {
     "name": "stderr",
     "output_type": "stream",
     "text": [
      "100%|██████████| 155/155 [00:46<00:00,  3.37it/s]\n",
      "100%|██████████| 15/15 [00:09<00:00,  1.59it/s]\n",
      "100%|██████████| 18/18 [00:05<00:00,  3.25it/s]\n"
     ]
    },
    {
     "name": "stdout",
     "output_type": "stream",
     "text": [
      "1m 1s\n",
      "Consistency Loss declined to 0.008024525083601474\n",
      "Early Stopping Counter = 0\n",
      "Epoch 171/300\n"
     ]
    },
    {
     "name": "stderr",
     "output_type": "stream",
     "text": [
      "100%|██████████| 155/155 [00:46<00:00,  3.34it/s]\n",
      "100%|██████████| 15/15 [00:09<00:00,  1.59it/s]\n",
      "100%|██████████| 18/18 [00:05<00:00,  3.36it/s]\n"
     ]
    },
    {
     "name": "stdout",
     "output_type": "stream",
     "text": [
      "1m 1s\n",
      "Early Stopping Counter = 1\n",
      "Epoch 172/300\n"
     ]
    },
    {
     "name": "stderr",
     "output_type": "stream",
     "text": [
      "100%|██████████| 155/155 [00:46<00:00,  3.35it/s]\n",
      "100%|██████████| 15/15 [00:09<00:00,  1.61it/s]\n",
      "100%|██████████| 18/18 [00:05<00:00,  3.28it/s]\n"
     ]
    },
    {
     "name": "stdout",
     "output_type": "stream",
     "text": [
      "1m 1s\n",
      "Early Stopping Counter = 2\n",
      "Epoch 173/300\n"
     ]
    },
    {
     "name": "stderr",
     "output_type": "stream",
     "text": [
      "100%|██████████| 155/155 [00:46<00:00,  3.35it/s]\n",
      "100%|██████████| 15/15 [00:09<00:00,  1.59it/s]\n",
      "100%|██████████| 18/18 [00:05<00:00,  3.28it/s]\n"
     ]
    },
    {
     "name": "stdout",
     "output_type": "stream",
     "text": [
      "1m 1s\n",
      "Consistency Loss declined to 0.007920472463592888\n",
      "Early Stopping Counter = 0\n",
      "Epoch 174/300\n"
     ]
    },
    {
     "name": "stderr",
     "output_type": "stream",
     "text": [
      "100%|██████████| 155/155 [00:46<00:00,  3.34it/s]\n",
      "100%|██████████| 15/15 [00:09<00:00,  1.61it/s]\n",
      "100%|██████████| 18/18 [00:05<00:00,  3.31it/s]\n"
     ]
    },
    {
     "name": "stdout",
     "output_type": "stream",
     "text": [
      "1m 1s\n",
      "Early Stopping Counter = 1\n",
      "Epoch 175/300\n"
     ]
    },
    {
     "name": "stderr",
     "output_type": "stream",
     "text": [
      "100%|██████████| 155/155 [00:46<00:00,  3.35it/s]\n",
      "100%|██████████| 15/15 [00:09<00:00,  1.60it/s]\n",
      "100%|██████████| 18/18 [00:05<00:00,  3.24it/s]\n"
     ]
    },
    {
     "name": "stdout",
     "output_type": "stream",
     "text": [
      "1m 1s\n",
      "Early Stopping Counter = 2\n",
      "Epoch 176/300\n"
     ]
    },
    {
     "name": "stderr",
     "output_type": "stream",
     "text": [
      "100%|██████████| 155/155 [00:46<00:00,  3.35it/s]\n",
      "100%|██████████| 15/15 [00:09<00:00,  1.59it/s]\n",
      "100%|██████████| 18/18 [00:05<00:00,  3.30it/s]\n"
     ]
    },
    {
     "name": "stdout",
     "output_type": "stream",
     "text": [
      "1m 1s\n",
      "Early Stopping Counter = 3\n",
      "Epoch 177/300\n"
     ]
    },
    {
     "name": "stderr",
     "output_type": "stream",
     "text": [
      "100%|██████████| 155/155 [00:46<00:00,  3.35it/s]\n",
      "100%|██████████| 15/15 [00:09<00:00,  1.60it/s]\n",
      "100%|██████████| 18/18 [00:05<00:00,  3.33it/s]\n"
     ]
    },
    {
     "name": "stdout",
     "output_type": "stream",
     "text": [
      "1m 1s\n",
      "Early Stopping Counter = 4\n",
      "Epoch 178/300\n"
     ]
    },
    {
     "name": "stderr",
     "output_type": "stream",
     "text": [
      "100%|██████████| 155/155 [00:46<00:00,  3.35it/s]\n",
      "100%|██████████| 15/15 [00:09<00:00,  1.60it/s]\n",
      "100%|██████████| 18/18 [00:05<00:00,  3.30it/s]\n"
     ]
    },
    {
     "name": "stdout",
     "output_type": "stream",
     "text": [
      "1m 1s\n",
      "Early Stopping Counter = 5\n",
      "Epoch 179/300\n"
     ]
    },
    {
     "name": "stderr",
     "output_type": "stream",
     "text": [
      "100%|██████████| 155/155 [00:46<00:00,  3.35it/s]\n",
      "100%|██████████| 15/15 [00:09<00:00,  1.60it/s]\n",
      "100%|██████████| 18/18 [00:05<00:00,  3.27it/s]\n"
     ]
    },
    {
     "name": "stdout",
     "output_type": "stream",
     "text": [
      "1m 1s\n",
      "Consistency Loss declined to 0.007288005327184995\n",
      "Early Stopping Counter = 0\n",
      "Epoch 180/300\n"
     ]
    },
    {
     "name": "stderr",
     "output_type": "stream",
     "text": [
      "100%|██████████| 155/155 [00:46<00:00,  3.33it/s]\n",
      "100%|██████████| 15/15 [00:09<00:00,  1.61it/s]\n",
      "100%|██████████| 18/18 [00:05<00:00,  3.33it/s]\n"
     ]
    },
    {
     "name": "stdout",
     "output_type": "stream",
     "text": [
      "1m 1s\n",
      "Early Stopping Counter = 1\n",
      "Epoch 181/300\n"
     ]
    },
    {
     "name": "stderr",
     "output_type": "stream",
     "text": [
      "100%|██████████| 155/155 [00:46<00:00,  3.35it/s]\n",
      "100%|██████████| 15/15 [00:09<00:00,  1.59it/s]\n",
      "100%|██████████| 18/18 [00:05<00:00,  3.15it/s]\n"
     ]
    },
    {
     "name": "stdout",
     "output_type": "stream",
     "text": [
      "1m 1s\n",
      "Early Stopping Counter = 2\n",
      "Epoch 182/300\n"
     ]
    },
    {
     "name": "stderr",
     "output_type": "stream",
     "text": [
      "100%|██████████| 155/155 [00:46<00:00,  3.35it/s]\n",
      "100%|██████████| 15/15 [00:09<00:00,  1.60it/s]\n",
      "100%|██████████| 18/18 [00:05<00:00,  3.38it/s]\n"
     ]
    },
    {
     "name": "stdout",
     "output_type": "stream",
     "text": [
      "1m 1s\n",
      "Early Stopping Counter = 3\n",
      "Epoch 183/300\n"
     ]
    },
    {
     "name": "stderr",
     "output_type": "stream",
     "text": [
      "100%|██████████| 155/155 [00:46<00:00,  3.34it/s]\n",
      "100%|██████████| 15/15 [00:09<00:00,  1.53it/s]\n",
      "100%|██████████| 18/18 [00:05<00:00,  3.35it/s]\n"
     ]
    },
    {
     "name": "stdout",
     "output_type": "stream",
     "text": [
      "1m 2s\n",
      "Early Stopping Counter = 4\n",
      "Epoch 184/300\n"
     ]
    },
    {
     "name": "stderr",
     "output_type": "stream",
     "text": [
      "100%|██████████| 155/155 [00:46<00:00,  3.35it/s]\n",
      "100%|██████████| 15/15 [00:09<00:00,  1.56it/s]\n",
      "100%|██████████| 18/18 [00:05<00:00,  3.30it/s]\n"
     ]
    },
    {
     "name": "stdout",
     "output_type": "stream",
     "text": [
      "1m 1s\n",
      "Early Stopping Counter = 5\n",
      "Epoch 185/300\n"
     ]
    },
    {
     "name": "stderr",
     "output_type": "stream",
     "text": [
      "100%|██████████| 155/155 [00:46<00:00,  3.34it/s]\n",
      "100%|██████████| 15/15 [00:09<00:00,  1.61it/s]\n",
      "100%|██████████| 18/18 [00:05<00:00,  3.28it/s]\n"
     ]
    },
    {
     "name": "stdout",
     "output_type": "stream",
     "text": [
      "1m 1s\n",
      "Early Stopping Counter = 6\n",
      "Epoch 186/300\n"
     ]
    },
    {
     "name": "stderr",
     "output_type": "stream",
     "text": [
      "100%|██████████| 155/155 [00:46<00:00,  3.34it/s]\n",
      "100%|██████████| 15/15 [00:09<00:00,  1.60it/s]\n",
      "100%|██████████| 18/18 [00:05<00:00,  3.32it/s]\n"
     ]
    },
    {
     "name": "stdout",
     "output_type": "stream",
     "text": [
      "1m 1s\n",
      "Early Stopping Counter = 7\n",
      "Epoch 187/300\n"
     ]
    },
    {
     "name": "stderr",
     "output_type": "stream",
     "text": [
      "100%|██████████| 155/155 [00:46<00:00,  3.34it/s]\n",
      "100%|██████████| 15/15 [00:09<00:00,  1.60it/s]\n",
      "100%|██████████| 18/18 [00:05<00:00,  3.25it/s]\n"
     ]
    },
    {
     "name": "stdout",
     "output_type": "stream",
     "text": [
      "1m 1s\n",
      "Early Stopping Counter = 8\n",
      "Epoch 188/300\n"
     ]
    },
    {
     "name": "stderr",
     "output_type": "stream",
     "text": [
      "100%|██████████| 155/155 [00:46<00:00,  3.35it/s]\n",
      "100%|██████████| 15/15 [00:09<00:00,  1.59it/s]\n",
      "100%|██████████| 18/18 [00:05<00:00,  3.17it/s]\n"
     ]
    },
    {
     "name": "stdout",
     "output_type": "stream",
     "text": [
      "1m 1s\n",
      "Consistency Loss declined to 0.007201194670051337\n",
      "Early Stopping Counter = 0\n",
      "Epoch 189/300\n"
     ]
    },
    {
     "name": "stderr",
     "output_type": "stream",
     "text": [
      "100%|██████████| 155/155 [00:46<00:00,  3.34it/s]\n",
      "100%|██████████| 15/15 [00:09<00:00,  1.62it/s]\n",
      "100%|██████████| 18/18 [00:05<00:00,  3.34it/s]\n"
     ]
    },
    {
     "name": "stdout",
     "output_type": "stream",
     "text": [
      "1m 1s\n",
      "Early Stopping Counter = 1\n",
      "Epoch 190/300\n"
     ]
    },
    {
     "name": "stderr",
     "output_type": "stream",
     "text": [
      "100%|██████████| 155/155 [00:46<00:00,  3.35it/s]\n",
      "100%|██████████| 15/15 [00:09<00:00,  1.62it/s]\n",
      "100%|██████████| 18/18 [00:05<00:00,  3.32it/s]\n"
     ]
    },
    {
     "name": "stdout",
     "output_type": "stream",
     "text": [
      "1m 1s\n",
      "Early Stopping Counter = 2\n",
      "Epoch 191/300\n"
     ]
    },
    {
     "name": "stderr",
     "output_type": "stream",
     "text": [
      "100%|██████████| 155/155 [00:46<00:00,  3.35it/s]\n",
      "100%|██████████| 15/15 [00:09<00:00,  1.59it/s]\n",
      "100%|██████████| 18/18 [00:05<00:00,  3.31it/s]\n"
     ]
    },
    {
     "name": "stdout",
     "output_type": "stream",
     "text": [
      "1m 1s\n",
      "Early Stopping Counter = 3\n",
      "Epoch 192/300\n"
     ]
    },
    {
     "name": "stderr",
     "output_type": "stream",
     "text": [
      "100%|██████████| 155/155 [00:46<00:00,  3.35it/s]\n",
      "100%|██████████| 15/15 [00:09<00:00,  1.59it/s]\n",
      "100%|██████████| 18/18 [00:05<00:00,  3.27it/s]\n"
     ]
    },
    {
     "name": "stdout",
     "output_type": "stream",
     "text": [
      "1m 1s\n",
      "Early Stopping Counter = 4\n",
      "Epoch 193/300\n"
     ]
    },
    {
     "name": "stderr",
     "output_type": "stream",
     "text": [
      "100%|██████████| 155/155 [00:46<00:00,  3.35it/s]\n",
      "100%|██████████| 15/15 [00:09<00:00,  1.59it/s]\n",
      "100%|██████████| 18/18 [00:05<00:00,  3.25it/s]\n"
     ]
    },
    {
     "name": "stdout",
     "output_type": "stream",
     "text": [
      "1m 1s\n",
      "Early Stopping Counter = 5\n",
      "Epoch 194/300\n"
     ]
    },
    {
     "name": "stderr",
     "output_type": "stream",
     "text": [
      "100%|██████████| 155/155 [00:46<00:00,  3.35it/s]\n",
      "100%|██████████| 15/15 [00:09<00:00,  1.61it/s]\n",
      "100%|██████████| 18/18 [00:05<00:00,  3.28it/s]\n"
     ]
    },
    {
     "name": "stdout",
     "output_type": "stream",
     "text": [
      "1m 1s\n",
      "Early Stopping Counter = 6\n",
      "Epoch 195/300\n"
     ]
    },
    {
     "name": "stderr",
     "output_type": "stream",
     "text": [
      "100%|██████████| 155/155 [00:46<00:00,  3.35it/s]\n",
      "100%|██████████| 15/15 [00:09<00:00,  1.59it/s]\n",
      "100%|██████████| 18/18 [00:05<00:00,  3.30it/s]\n"
     ]
    },
    {
     "name": "stdout",
     "output_type": "stream",
     "text": [
      "1m 1s\n",
      "Early Stopping Counter = 7\n",
      "Epoch 196/300\n"
     ]
    },
    {
     "name": "stderr",
     "output_type": "stream",
     "text": [
      "100%|██████████| 155/155 [00:46<00:00,  3.35it/s]\n",
      "100%|██████████| 15/15 [00:09<00:00,  1.60it/s]\n",
      "100%|██████████| 18/18 [00:05<00:00,  3.32it/s]\n"
     ]
    },
    {
     "name": "stdout",
     "output_type": "stream",
     "text": [
      "1m 1s\n",
      "Early Stopping Counter = 8\n",
      "Epoch 197/300\n"
     ]
    },
    {
     "name": "stderr",
     "output_type": "stream",
     "text": [
      "100%|██████████| 155/155 [00:46<00:00,  3.36it/s]\n",
      "100%|██████████| 15/15 [00:09<00:00,  1.60it/s]\n",
      "100%|██████████| 18/18 [00:05<00:00,  3.33it/s]\n"
     ]
    },
    {
     "name": "stdout",
     "output_type": "stream",
     "text": [
      "1m 1s\n",
      "Early Stopping Counter = 9\n",
      "Epoch 198/300\n"
     ]
    },
    {
     "name": "stderr",
     "output_type": "stream",
     "text": [
      "100%|██████████| 155/155 [00:46<00:00,  3.35it/s]\n",
      "100%|██████████| 15/15 [00:09<00:00,  1.60it/s]\n",
      "100%|██████████| 18/18 [00:05<00:00,  3.27it/s]\n"
     ]
    },
    {
     "name": "stdout",
     "output_type": "stream",
     "text": [
      "1m 1s\n",
      "Early Stopping Counter = 10\n",
      "Epoch 199/300\n"
     ]
    },
    {
     "name": "stderr",
     "output_type": "stream",
     "text": [
      "100%|██████████| 155/155 [00:46<00:00,  3.35it/s]\n",
      "100%|██████████| 15/15 [00:09<00:00,  1.59it/s]\n",
      "100%|██████████| 18/18 [00:05<00:00,  3.33it/s]\n"
     ]
    },
    {
     "name": "stdout",
     "output_type": "stream",
     "text": [
      "1m 1s\n",
      "Early Stopping Counter = 11\n",
      "Epoch 200/300\n"
     ]
    },
    {
     "name": "stderr",
     "output_type": "stream",
     "text": [
      "100%|██████████| 155/155 [00:46<00:00,  3.37it/s]\n",
      "100%|██████████| 15/15 [00:09<00:00,  1.59it/s]\n",
      "100%|██████████| 18/18 [00:05<00:00,  3.34it/s]\n"
     ]
    },
    {
     "name": "stdout",
     "output_type": "stream",
     "text": [
      "1m 1s\n",
      "Early Stopping Counter = 12\n",
      "Epoch 201/300\n"
     ]
    },
    {
     "name": "stderr",
     "output_type": "stream",
     "text": [
      "100%|██████████| 155/155 [00:46<00:00,  3.36it/s]\n",
      "100%|██████████| 15/15 [00:09<00:00,  1.60it/s]\n",
      "100%|██████████| 18/18 [00:05<00:00,  3.32it/s]\n"
     ]
    },
    {
     "name": "stdout",
     "output_type": "stream",
     "text": [
      "1m 1s\n",
      "Early Stopping Counter = 13\n",
      "Epoch 202/300\n"
     ]
    },
    {
     "name": "stderr",
     "output_type": "stream",
     "text": [
      "100%|██████████| 155/155 [00:47<00:00,  3.30it/s]\n",
      "100%|██████████| 15/15 [00:09<00:00,  1.60it/s]\n",
      "100%|██████████| 18/18 [00:05<00:00,  3.28it/s]\n"
     ]
    },
    {
     "name": "stdout",
     "output_type": "stream",
     "text": [
      "1m 2s\n",
      "Early Stopping Counter = 14\n",
      "Epoch 203/300\n"
     ]
    },
    {
     "name": "stderr",
     "output_type": "stream",
     "text": [
      "100%|██████████| 155/155 [00:46<00:00,  3.35it/s]\n",
      "100%|██████████| 15/15 [00:09<00:00,  1.61it/s]\n",
      "100%|██████████| 18/18 [00:05<00:00,  3.27it/s]\n"
     ]
    },
    {
     "name": "stdout",
     "output_type": "stream",
     "text": [
      "1m 1s\n",
      "Early Stopping Counter = 15\n",
      "Epoch 204/300\n"
     ]
    },
    {
     "name": "stderr",
     "output_type": "stream",
     "text": [
      "100%|██████████| 155/155 [00:46<00:00,  3.36it/s]\n",
      "100%|██████████| 15/15 [00:09<00:00,  1.62it/s]\n",
      "100%|██████████| 18/18 [00:05<00:00,  3.39it/s]\n"
     ]
    },
    {
     "name": "stdout",
     "output_type": "stream",
     "text": [
      "1m 1s\n",
      "Early Stopping Counter = 16\n",
      "Epoch 205/300\n"
     ]
    },
    {
     "name": "stderr",
     "output_type": "stream",
     "text": [
      "100%|██████████| 155/155 [00:46<00:00,  3.35it/s]\n",
      "100%|██████████| 15/15 [00:09<00:00,  1.61it/s]\n",
      "100%|██████████| 18/18 [00:05<00:00,  3.28it/s]\n"
     ]
    },
    {
     "name": "stdout",
     "output_type": "stream",
     "text": [
      "1m 1s\n",
      "Early Stopping Counter = 17\n",
      "Epoch 206/300\n"
     ]
    },
    {
     "name": "stderr",
     "output_type": "stream",
     "text": [
      "100%|██████████| 155/155 [00:46<00:00,  3.34it/s]\n",
      "100%|██████████| 15/15 [00:09<00:00,  1.62it/s]\n",
      "100%|██████████| 18/18 [00:05<00:00,  3.34it/s]\n"
     ]
    },
    {
     "name": "stdout",
     "output_type": "stream",
     "text": [
      "1m 1s\n",
      "Early Stopping Counter = 18\n",
      "Epoch 207/300\n"
     ]
    },
    {
     "name": "stderr",
     "output_type": "stream",
     "text": [
      "100%|██████████| 155/155 [00:46<00:00,  3.35it/s]\n",
      "100%|██████████| 15/15 [00:09<00:00,  1.59it/s]\n",
      "100%|██████████| 18/18 [00:05<00:00,  3.30it/s]\n"
     ]
    },
    {
     "name": "stdout",
     "output_type": "stream",
     "text": [
      "1m 1s\n",
      "Early Stopping Counter = 19\n",
      "Epoch 208/300\n"
     ]
    },
    {
     "name": "stderr",
     "output_type": "stream",
     "text": [
      "100%|██████████| 155/155 [00:46<00:00,  3.34it/s]\n",
      "100%|██████████| 15/15 [00:09<00:00,  1.61it/s]\n",
      "100%|██████████| 18/18 [00:05<00:00,  3.29it/s]\n"
     ]
    },
    {
     "name": "stdout",
     "output_type": "stream",
     "text": [
      "1m 1s\n",
      "Consistency Loss declined to 0.0069200226571410894\n",
      "Early Stopping Counter = 0\n",
      "Epoch 209/300\n"
     ]
    },
    {
     "name": "stderr",
     "output_type": "stream",
     "text": [
      "100%|██████████| 155/155 [00:46<00:00,  3.32it/s]\n",
      "100%|██████████| 15/15 [00:09<00:00,  1.61it/s]\n",
      "100%|██████████| 18/18 [00:05<00:00,  3.25it/s]\n"
     ]
    },
    {
     "name": "stdout",
     "output_type": "stream",
     "text": [
      "1m 1s\n",
      "Consistency Loss declined to 0.006876461083690325\n",
      "Early Stopping Counter = 0\n",
      "Epoch 210/300\n"
     ]
    },
    {
     "name": "stderr",
     "output_type": "stream",
     "text": [
      "100%|██████████| 155/155 [00:46<00:00,  3.33it/s]\n",
      "100%|██████████| 15/15 [00:09<00:00,  1.62it/s]\n",
      "100%|██████████| 18/18 [00:05<00:00,  3.26it/s]\n"
     ]
    },
    {
     "name": "stdout",
     "output_type": "stream",
     "text": [
      "1m 1s\n",
      "Early Stopping Counter = 1\n",
      "Epoch 211/300\n"
     ]
    },
    {
     "name": "stderr",
     "output_type": "stream",
     "text": [
      "100%|██████████| 155/155 [00:46<00:00,  3.35it/s]\n",
      "100%|██████████| 15/15 [00:09<00:00,  1.60it/s]\n",
      "100%|██████████| 18/18 [00:05<00:00,  3.25it/s]\n"
     ]
    },
    {
     "name": "stdout",
     "output_type": "stream",
     "text": [
      "1m 1s\n",
      "Consistency Loss declined to 0.006268828967586159\n",
      "Early Stopping Counter = 0\n",
      "Epoch 212/300\n"
     ]
    },
    {
     "name": "stderr",
     "output_type": "stream",
     "text": [
      "100%|██████████| 155/155 [00:46<00:00,  3.32it/s]\n",
      "100%|██████████| 15/15 [00:09<00:00,  1.60it/s]\n",
      "100%|██████████| 18/18 [00:05<00:00,  3.30it/s]\n"
     ]
    },
    {
     "name": "stdout",
     "output_type": "stream",
     "text": [
      "1m 2s\n",
      "Early Stopping Counter = 1\n",
      "Epoch 213/300\n"
     ]
    },
    {
     "name": "stderr",
     "output_type": "stream",
     "text": [
      "100%|██████████| 155/155 [00:46<00:00,  3.34it/s]\n",
      "100%|██████████| 15/15 [00:09<00:00,  1.57it/s]\n",
      "100%|██████████| 18/18 [00:05<00:00,  3.25it/s]\n"
     ]
    },
    {
     "name": "stdout",
     "output_type": "stream",
     "text": [
      "1m 1s\n",
      "Early Stopping Counter = 2\n",
      "Epoch 214/300\n"
     ]
    },
    {
     "name": "stderr",
     "output_type": "stream",
     "text": [
      "100%|██████████| 155/155 [00:46<00:00,  3.34it/s]\n",
      "100%|██████████| 15/15 [00:09<00:00,  1.57it/s]\n",
      "100%|██████████| 18/18 [00:05<00:00,  3.34it/s]\n"
     ]
    },
    {
     "name": "stdout",
     "output_type": "stream",
     "text": [
      "1m 1s\n",
      "Early Stopping Counter = 3\n",
      "Epoch 215/300\n"
     ]
    },
    {
     "name": "stderr",
     "output_type": "stream",
     "text": [
      "100%|██████████| 155/155 [00:46<00:00,  3.34it/s]\n",
      "100%|██████████| 15/15 [00:09<00:00,  1.59it/s]\n",
      "100%|██████████| 18/18 [00:05<00:00,  3.26it/s]\n"
     ]
    },
    {
     "name": "stdout",
     "output_type": "stream",
     "text": [
      "1m 1s\n",
      "Early Stopping Counter = 4\n",
      "Epoch 216/300\n"
     ]
    },
    {
     "name": "stderr",
     "output_type": "stream",
     "text": [
      "100%|██████████| 155/155 [00:46<00:00,  3.35it/s]\n",
      "100%|██████████| 15/15 [00:09<00:00,  1.60it/s]\n",
      "100%|██████████| 18/18 [00:05<00:00,  3.32it/s]\n"
     ]
    },
    {
     "name": "stdout",
     "output_type": "stream",
     "text": [
      "1m 1s\n",
      "Early Stopping Counter = 5\n",
      "Epoch 217/300\n"
     ]
    },
    {
     "name": "stderr",
     "output_type": "stream",
     "text": [
      "100%|██████████| 155/155 [00:46<00:00,  3.35it/s]\n",
      "100%|██████████| 15/15 [00:09<00:00,  1.61it/s]\n",
      "100%|██████████| 18/18 [00:05<00:00,  3.25it/s]\n"
     ]
    },
    {
     "name": "stdout",
     "output_type": "stream",
     "text": [
      "1m 1s\n",
      "Early Stopping Counter = 6\n",
      "Epoch 218/300\n"
     ]
    },
    {
     "name": "stderr",
     "output_type": "stream",
     "text": [
      "100%|██████████| 155/155 [00:46<00:00,  3.35it/s]\n",
      "100%|██████████| 15/15 [00:09<00:00,  1.59it/s]\n",
      "100%|██████████| 18/18 [00:05<00:00,  3.27it/s]\n"
     ]
    },
    {
     "name": "stdout",
     "output_type": "stream",
     "text": [
      "1m 1s\n",
      "Consistency Loss declined to 0.006116134099041422\n",
      "Early Stopping Counter = 0\n",
      "Epoch 219/300\n"
     ]
    },
    {
     "name": "stderr",
     "output_type": "stream",
     "text": [
      "100%|██████████| 155/155 [00:46<00:00,  3.34it/s]\n",
      "100%|██████████| 15/15 [00:09<00:00,  1.62it/s]\n",
      "100%|██████████| 18/18 [00:05<00:00,  3.25it/s]\n"
     ]
    },
    {
     "name": "stdout",
     "output_type": "stream",
     "text": [
      "1m 1s\n",
      "Early Stopping Counter = 1\n",
      "Epoch 220/300\n"
     ]
    },
    {
     "name": "stderr",
     "output_type": "stream",
     "text": [
      "100%|██████████| 155/155 [00:46<00:00,  3.36it/s]\n",
      "100%|██████████| 15/15 [00:09<00:00,  1.61it/s]\n",
      "100%|██████████| 18/18 [00:05<00:00,  3.32it/s]\n"
     ]
    },
    {
     "name": "stdout",
     "output_type": "stream",
     "text": [
      "1m 1s\n",
      "Early Stopping Counter = 2\n",
      "Epoch 221/300\n"
     ]
    },
    {
     "name": "stderr",
     "output_type": "stream",
     "text": [
      "100%|██████████| 155/155 [00:46<00:00,  3.35it/s]\n",
      "100%|██████████| 15/15 [00:09<00:00,  1.60it/s]\n",
      "100%|██████████| 18/18 [00:05<00:00,  3.26it/s]\n"
     ]
    },
    {
     "name": "stdout",
     "output_type": "stream",
     "text": [
      "1m 1s\n",
      "Early Stopping Counter = 3\n",
      "Epoch 222/300\n"
     ]
    },
    {
     "name": "stderr",
     "output_type": "stream",
     "text": [
      "100%|██████████| 155/155 [00:46<00:00,  3.36it/s]\n",
      "100%|██████████| 15/15 [00:09<00:00,  1.59it/s]\n",
      "100%|██████████| 18/18 [00:05<00:00,  3.34it/s]\n"
     ]
    },
    {
     "name": "stdout",
     "output_type": "stream",
     "text": [
      "1m 1s\n",
      "Early Stopping Counter = 4\n",
      "Epoch 223/300\n"
     ]
    },
    {
     "name": "stderr",
     "output_type": "stream",
     "text": [
      "100%|██████████| 155/155 [00:46<00:00,  3.35it/s]\n",
      "100%|██████████| 15/15 [00:09<00:00,  1.59it/s]\n",
      "100%|██████████| 18/18 [00:05<00:00,  3.28it/s]\n"
     ]
    },
    {
     "name": "stdout",
     "output_type": "stream",
     "text": [
      "1m 1s\n",
      "Early Stopping Counter = 5\n",
      "Epoch 224/300\n"
     ]
    },
    {
     "name": "stderr",
     "output_type": "stream",
     "text": [
      "100%|██████████| 155/155 [00:46<00:00,  3.36it/s]\n",
      "100%|██████████| 15/15 [00:09<00:00,  1.61it/s]\n",
      "100%|██████████| 18/18 [00:05<00:00,  3.28it/s]\n"
     ]
    },
    {
     "name": "stdout",
     "output_type": "stream",
     "text": [
      "1m 1s\n",
      "Early Stopping Counter = 6\n",
      "Epoch 225/300\n"
     ]
    },
    {
     "name": "stderr",
     "output_type": "stream",
     "text": [
      "100%|██████████| 155/155 [00:46<00:00,  3.35it/s]\n",
      "100%|██████████| 15/15 [00:09<00:00,  1.61it/s]\n",
      "100%|██████████| 18/18 [00:05<00:00,  3.33it/s]\n"
     ]
    },
    {
     "name": "stdout",
     "output_type": "stream",
     "text": [
      "1m 1s\n",
      "Early Stopping Counter = 7\n",
      "Epoch 226/300\n"
     ]
    },
    {
     "name": "stderr",
     "output_type": "stream",
     "text": [
      "100%|██████████| 155/155 [00:46<00:00,  3.35it/s]\n",
      "100%|██████████| 15/15 [00:09<00:00,  1.61it/s]\n",
      "100%|██████████| 18/18 [00:05<00:00,  3.35it/s]\n"
     ]
    },
    {
     "name": "stdout",
     "output_type": "stream",
     "text": [
      "1m 1s\n",
      "Early Stopping Counter = 8\n",
      "Epoch 227/300\n"
     ]
    },
    {
     "name": "stderr",
     "output_type": "stream",
     "text": [
      "100%|██████████| 155/155 [00:46<00:00,  3.36it/s]\n",
      "100%|██████████| 15/15 [00:09<00:00,  1.59it/s]\n",
      "100%|██████████| 18/18 [00:05<00:00,  3.32it/s]\n"
     ]
    },
    {
     "name": "stdout",
     "output_type": "stream",
     "text": [
      "1m 1s\n",
      "Early Stopping Counter = 9\n",
      "Epoch 228/300\n"
     ]
    },
    {
     "name": "stderr",
     "output_type": "stream",
     "text": [
      "100%|██████████| 155/155 [00:46<00:00,  3.36it/s]\n",
      "100%|██████████| 15/15 [00:09<00:00,  1.62it/s]\n",
      "100%|██████████| 18/18 [00:05<00:00,  3.29it/s]\n"
     ]
    },
    {
     "name": "stdout",
     "output_type": "stream",
     "text": [
      "1m 1s\n",
      "Early Stopping Counter = 10\n",
      "Epoch 229/300\n"
     ]
    },
    {
     "name": "stderr",
     "output_type": "stream",
     "text": [
      "100%|██████████| 155/155 [00:46<00:00,  3.35it/s]\n",
      "100%|██████████| 15/15 [00:09<00:00,  1.59it/s]\n",
      "100%|██████████| 18/18 [00:05<00:00,  3.25it/s]\n"
     ]
    },
    {
     "name": "stdout",
     "output_type": "stream",
     "text": [
      "1m 1s\n",
      "Early Stopping Counter = 11\n",
      "Epoch 230/300\n"
     ]
    },
    {
     "name": "stderr",
     "output_type": "stream",
     "text": [
      "100%|██████████| 155/155 [00:46<00:00,  3.35it/s]\n",
      "100%|██████████| 15/15 [00:09<00:00,  1.59it/s]\n",
      "100%|██████████| 18/18 [00:05<00:00,  3.28it/s]\n"
     ]
    },
    {
     "name": "stdout",
     "output_type": "stream",
     "text": [
      "1m 1s\n",
      "Early Stopping Counter = 12\n",
      "Epoch 231/300\n"
     ]
    },
    {
     "name": "stderr",
     "output_type": "stream",
     "text": [
      "100%|██████████| 155/155 [00:46<00:00,  3.33it/s]\n",
      "100%|██████████| 15/15 [00:09<00:00,  1.62it/s]\n",
      "100%|██████████| 18/18 [00:05<00:00,  3.23it/s]\n"
     ]
    },
    {
     "name": "stdout",
     "output_type": "stream",
     "text": [
      "1m 1s\n",
      "Early Stopping Counter = 13\n",
      "Epoch 232/300\n"
     ]
    },
    {
     "name": "stderr",
     "output_type": "stream",
     "text": [
      "100%|██████████| 155/155 [00:46<00:00,  3.32it/s]\n",
      "100%|██████████| 15/15 [00:09<00:00,  1.60it/s]\n",
      "100%|██████████| 18/18 [00:05<00:00,  3.25it/s]\n"
     ]
    },
    {
     "name": "stdout",
     "output_type": "stream",
     "text": [
      "1m 2s\n",
      "Early Stopping Counter = 14\n",
      "Epoch 233/300\n"
     ]
    },
    {
     "name": "stderr",
     "output_type": "stream",
     "text": [
      "100%|██████████| 155/155 [00:46<00:00,  3.33it/s]\n",
      "100%|██████████| 15/15 [00:09<00:00,  1.61it/s]\n",
      "100%|██████████| 18/18 [00:05<00:00,  3.27it/s]\n"
     ]
    },
    {
     "name": "stdout",
     "output_type": "stream",
     "text": [
      "1m 1s\n",
      "Early Stopping Counter = 15\n",
      "Epoch 234/300\n"
     ]
    },
    {
     "name": "stderr",
     "output_type": "stream",
     "text": [
      "100%|██████████| 155/155 [00:46<00:00,  3.35it/s]\n",
      "100%|██████████| 15/15 [00:09<00:00,  1.59it/s]\n",
      "100%|██████████| 18/18 [00:05<00:00,  3.21it/s]\n"
     ]
    },
    {
     "name": "stdout",
     "output_type": "stream",
     "text": [
      "1m 1s\n",
      "Early Stopping Counter = 16\n",
      "Epoch 235/300\n"
     ]
    },
    {
     "name": "stderr",
     "output_type": "stream",
     "text": [
      "100%|██████████| 155/155 [00:46<00:00,  3.35it/s]\n",
      "100%|██████████| 15/15 [00:09<00:00,  1.60it/s]\n",
      "100%|██████████| 18/18 [00:05<00:00,  3.26it/s]\n"
     ]
    },
    {
     "name": "stdout",
     "output_type": "stream",
     "text": [
      "1m 1s\n",
      "Consistency Loss declined to 0.005997173922757308\n",
      "Early Stopping Counter = 0\n",
      "Epoch 236/300\n"
     ]
    },
    {
     "name": "stderr",
     "output_type": "stream",
     "text": [
      "100%|██████████| 155/155 [00:46<00:00,  3.33it/s]\n",
      "100%|██████████| 15/15 [00:09<00:00,  1.61it/s]\n",
      "100%|██████████| 18/18 [00:05<00:00,  3.28it/s]\n"
     ]
    },
    {
     "name": "stdout",
     "output_type": "stream",
     "text": [
      "1m 1s\n",
      "Early Stopping Counter = 1\n",
      "Epoch 237/300\n"
     ]
    },
    {
     "name": "stderr",
     "output_type": "stream",
     "text": [
      "100%|██████████| 155/155 [00:46<00:00,  3.35it/s]\n",
      "100%|██████████| 15/15 [00:09<00:00,  1.61it/s]\n",
      "100%|██████████| 18/18 [00:05<00:00,  3.34it/s]\n"
     ]
    },
    {
     "name": "stdout",
     "output_type": "stream",
     "text": [
      "1m 1s\n",
      "Early Stopping Counter = 2\n",
      "Epoch 238/300\n"
     ]
    },
    {
     "name": "stderr",
     "output_type": "stream",
     "text": [
      "100%|██████████| 155/155 [00:46<00:00,  3.34it/s]\n",
      "100%|██████████| 15/15 [00:09<00:00,  1.62it/s]\n",
      "100%|██████████| 18/18 [00:05<00:00,  3.34it/s]\n"
     ]
    },
    {
     "name": "stdout",
     "output_type": "stream",
     "text": [
      "1m 1s\n",
      "Early Stopping Counter = 3\n",
      "Epoch 239/300\n"
     ]
    },
    {
     "name": "stderr",
     "output_type": "stream",
     "text": [
      "100%|██████████| 155/155 [00:46<00:00,  3.35it/s]\n",
      "100%|██████████| 15/15 [00:09<00:00,  1.62it/s]\n",
      "100%|██████████| 18/18 [00:05<00:00,  3.27it/s]\n"
     ]
    },
    {
     "name": "stdout",
     "output_type": "stream",
     "text": [
      "1m 1s\n",
      "Early Stopping Counter = 4\n",
      "Epoch 240/300\n"
     ]
    },
    {
     "name": "stderr",
     "output_type": "stream",
     "text": [
      "100%|██████████| 155/155 [00:46<00:00,  3.35it/s]\n",
      "100%|██████████| 15/15 [00:09<00:00,  1.63it/s]\n",
      "100%|██████████| 18/18 [00:05<00:00,  3.29it/s]\n"
     ]
    },
    {
     "name": "stdout",
     "output_type": "stream",
     "text": [
      "1m 1s\n",
      "Consistency Loss declined to 0.005793081627537807\n",
      "Early Stopping Counter = 0\n",
      "Epoch 241/300\n"
     ]
    },
    {
     "name": "stderr",
     "output_type": "stream",
     "text": [
      "100%|██████████| 155/155 [00:46<00:00,  3.33it/s]\n",
      "100%|██████████| 15/15 [00:09<00:00,  1.60it/s]\n",
      "100%|██████████| 18/18 [00:05<00:00,  3.23it/s]\n"
     ]
    },
    {
     "name": "stdout",
     "output_type": "stream",
     "text": [
      "1m 1s\n",
      "Early Stopping Counter = 1\n",
      "Epoch 242/300\n"
     ]
    },
    {
     "name": "stderr",
     "output_type": "stream",
     "text": [
      "100%|██████████| 155/155 [00:46<00:00,  3.35it/s]\n",
      "100%|██████████| 15/15 [00:09<00:00,  1.61it/s]\n",
      "100%|██████████| 18/18 [00:05<00:00,  3.25it/s]\n"
     ]
    },
    {
     "name": "stdout",
     "output_type": "stream",
     "text": [
      "1m 1s\n",
      "Early Stopping Counter = 2\n",
      "Epoch 243/300\n"
     ]
    },
    {
     "name": "stderr",
     "output_type": "stream",
     "text": [
      "100%|██████████| 155/155 [00:46<00:00,  3.34it/s]\n",
      "100%|██████████| 15/15 [00:09<00:00,  1.58it/s]\n",
      "100%|██████████| 18/18 [00:05<00:00,  3.22it/s]\n"
     ]
    },
    {
     "name": "stdout",
     "output_type": "stream",
     "text": [
      "1m 1s\n",
      "Early Stopping Counter = 3\n",
      "Epoch 244/300\n"
     ]
    },
    {
     "name": "stderr",
     "output_type": "stream",
     "text": [
      "100%|██████████| 155/155 [00:46<00:00,  3.35it/s]\n",
      "100%|██████████| 15/15 [00:09<00:00,  1.58it/s]\n",
      "100%|██████████| 18/18 [00:05<00:00,  3.24it/s]\n"
     ]
    },
    {
     "name": "stdout",
     "output_type": "stream",
     "text": [
      "1m 1s\n",
      "Early Stopping Counter = 4\n",
      "Epoch 245/300\n"
     ]
    },
    {
     "name": "stderr",
     "output_type": "stream",
     "text": [
      "100%|██████████| 155/155 [00:46<00:00,  3.35it/s]\n",
      "100%|██████████| 15/15 [00:09<00:00,  1.58it/s]\n",
      "100%|██████████| 18/18 [00:05<00:00,  3.25it/s]\n"
     ]
    },
    {
     "name": "stdout",
     "output_type": "stream",
     "text": [
      "1m 1s\n",
      "Consistency Loss declined to 0.005599181354045868\n",
      "Early Stopping Counter = 0\n",
      "Epoch 246/300\n"
     ]
    },
    {
     "name": "stderr",
     "output_type": "stream",
     "text": [
      "100%|██████████| 155/155 [00:46<00:00,  3.34it/s]\n",
      "100%|██████████| 15/15 [00:09<00:00,  1.61it/s]\n",
      "100%|██████████| 18/18 [00:05<00:00,  3.21it/s]\n"
     ]
    },
    {
     "name": "stdout",
     "output_type": "stream",
     "text": [
      "1m 1s\n",
      "Early Stopping Counter = 1\n",
      "Epoch 247/300\n"
     ]
    },
    {
     "name": "stderr",
     "output_type": "stream",
     "text": [
      "100%|██████████| 155/155 [00:46<00:00,  3.35it/s]\n",
      "100%|██████████| 15/15 [00:09<00:00,  1.60it/s]\n",
      "100%|██████████| 18/18 [00:05<00:00,  3.18it/s]\n"
     ]
    },
    {
     "name": "stdout",
     "output_type": "stream",
     "text": [
      "1m 1s\n",
      "Early Stopping Counter = 2\n",
      "Epoch 248/300\n"
     ]
    },
    {
     "name": "stderr",
     "output_type": "stream",
     "text": [
      "100%|██████████| 155/155 [00:46<00:00,  3.35it/s]\n",
      "100%|██████████| 15/15 [00:09<00:00,  1.59it/s]\n",
      "100%|██████████| 18/18 [00:05<00:00,  3.25it/s]\n"
     ]
    },
    {
     "name": "stdout",
     "output_type": "stream",
     "text": [
      "1m 1s\n",
      "Early Stopping Counter = 3\n",
      "Epoch 249/300\n"
     ]
    },
    {
     "name": "stderr",
     "output_type": "stream",
     "text": [
      "100%|██████████| 155/155 [00:46<00:00,  3.35it/s]\n",
      "100%|██████████| 15/15 [00:09<00:00,  1.60it/s]\n",
      "100%|██████████| 18/18 [00:05<00:00,  3.26it/s]\n"
     ]
    },
    {
     "name": "stdout",
     "output_type": "stream",
     "text": [
      "1m 1s\n",
      "Consistency Loss declined to 0.005565771802018086\n",
      "Early Stopping Counter = 0\n",
      "Epoch 250/300\n"
     ]
    },
    {
     "name": "stderr",
     "output_type": "stream",
     "text": [
      "100%|██████████| 155/155 [00:46<00:00,  3.34it/s]\n",
      "100%|██████████| 15/15 [00:09<00:00,  1.61it/s]\n",
      "100%|██████████| 18/18 [00:05<00:00,  3.31it/s]\n"
     ]
    },
    {
     "name": "stdout",
     "output_type": "stream",
     "text": [
      "1m 1s\n",
      "Early Stopping Counter = 1\n",
      "Epoch 251/300\n"
     ]
    },
    {
     "name": "stderr",
     "output_type": "stream",
     "text": [
      "100%|██████████| 155/155 [00:46<00:00,  3.34it/s]\n",
      "100%|██████████| 15/15 [00:09<00:00,  1.58it/s]\n",
      "100%|██████████| 18/18 [00:05<00:00,  3.26it/s]\n"
     ]
    },
    {
     "name": "stdout",
     "output_type": "stream",
     "text": [
      "1m 1s\n",
      "Early Stopping Counter = 2\n",
      "Epoch 252/300\n"
     ]
    },
    {
     "name": "stderr",
     "output_type": "stream",
     "text": [
      "100%|██████████| 155/155 [00:46<00:00,  3.35it/s]\n",
      "100%|██████████| 15/15 [00:09<00:00,  1.59it/s]\n",
      "100%|██████████| 18/18 [00:05<00:00,  3.37it/s]\n"
     ]
    },
    {
     "name": "stdout",
     "output_type": "stream",
     "text": [
      "1m 1s\n",
      "Early Stopping Counter = 3\n",
      "Epoch 253/300\n"
     ]
    },
    {
     "name": "stderr",
     "output_type": "stream",
     "text": [
      "100%|██████████| 155/155 [00:46<00:00,  3.35it/s]\n",
      "100%|██████████| 15/15 [00:09<00:00,  1.60it/s]\n",
      "100%|██████████| 18/18 [00:05<00:00,  3.24it/s]\n"
     ]
    },
    {
     "name": "stdout",
     "output_type": "stream",
     "text": [
      "1m 1s\n",
      "Early Stopping Counter = 4\n",
      "Epoch 254/300\n"
     ]
    },
    {
     "name": "stderr",
     "output_type": "stream",
     "text": [
      "100%|██████████| 155/155 [00:46<00:00,  3.35it/s]\n",
      "100%|██████████| 15/15 [00:09<00:00,  1.60it/s]\n",
      "100%|██████████| 18/18 [00:05<00:00,  3.25it/s]\n"
     ]
    },
    {
     "name": "stdout",
     "output_type": "stream",
     "text": [
      "1m 1s\n",
      "Early Stopping Counter = 5\n",
      "Epoch 255/300\n"
     ]
    },
    {
     "name": "stderr",
     "output_type": "stream",
     "text": [
      "100%|██████████| 155/155 [00:46<00:00,  3.35it/s]\n",
      "100%|██████████| 15/15 [00:09<00:00,  1.62it/s]\n",
      "100%|██████████| 18/18 [00:05<00:00,  3.23it/s]\n"
     ]
    },
    {
     "name": "stdout",
     "output_type": "stream",
     "text": [
      "1m 1s\n",
      "Early Stopping Counter = 6\n",
      "Epoch 256/300\n"
     ]
    },
    {
     "name": "stderr",
     "output_type": "stream",
     "text": [
      "100%|██████████| 155/155 [00:46<00:00,  3.35it/s]\n",
      "100%|██████████| 15/15 [00:09<00:00,  1.58it/s]\n",
      "100%|██████████| 18/18 [00:05<00:00,  3.21it/s]\n"
     ]
    },
    {
     "name": "stdout",
     "output_type": "stream",
     "text": [
      "1m 1s\n",
      "Early Stopping Counter = 7\n",
      "Epoch 257/300\n"
     ]
    },
    {
     "name": "stderr",
     "output_type": "stream",
     "text": [
      "100%|██████████| 155/155 [00:46<00:00,  3.34it/s]\n",
      "100%|██████████| 15/15 [00:09<00:00,  1.59it/s]\n",
      "100%|██████████| 18/18 [00:05<00:00,  3.24it/s]\n"
     ]
    },
    {
     "name": "stdout",
     "output_type": "stream",
     "text": [
      "1m 1s\n",
      "Early Stopping Counter = 8\n",
      "Epoch 258/300\n"
     ]
    },
    {
     "name": "stderr",
     "output_type": "stream",
     "text": [
      "100%|██████████| 155/155 [00:46<00:00,  3.35it/s]\n",
      "100%|██████████| 15/15 [00:09<00:00,  1.59it/s]\n",
      "100%|██████████| 18/18 [00:05<00:00,  3.33it/s]\n"
     ]
    },
    {
     "name": "stdout",
     "output_type": "stream",
     "text": [
      "1m 1s\n",
      "Early Stopping Counter = 9\n",
      "Epoch 259/300\n"
     ]
    },
    {
     "name": "stderr",
     "output_type": "stream",
     "text": [
      "100%|██████████| 155/155 [00:46<00:00,  3.35it/s]\n",
      "100%|██████████| 15/15 [00:09<00:00,  1.59it/s]\n",
      "100%|██████████| 18/18 [00:05<00:00,  3.22it/s]\n"
     ]
    },
    {
     "name": "stdout",
     "output_type": "stream",
     "text": [
      "1m 1s\n",
      "Early Stopping Counter = 10\n",
      "Epoch 260/300\n"
     ]
    },
    {
     "name": "stderr",
     "output_type": "stream",
     "text": [
      "100%|██████████| 155/155 [00:46<00:00,  3.34it/s]\n",
      "100%|██████████| 15/15 [00:09<00:00,  1.59it/s]\n",
      "100%|██████████| 18/18 [00:05<00:00,  3.31it/s]\n"
     ]
    },
    {
     "name": "stdout",
     "output_type": "stream",
     "text": [
      "1m 1s\n",
      "Early Stopping Counter = 11\n",
      "Epoch 261/300\n"
     ]
    },
    {
     "name": "stderr",
     "output_type": "stream",
     "text": [
      "100%|██████████| 155/155 [00:46<00:00,  3.35it/s]\n",
      "100%|██████████| 15/15 [00:09<00:00,  1.59it/s]\n",
      "100%|██████████| 18/18 [00:05<00:00,  3.31it/s]\n"
     ]
    },
    {
     "name": "stdout",
     "output_type": "stream",
     "text": [
      "1m 1s\n",
      "Early Stopping Counter = 12\n",
      "Epoch 262/300\n"
     ]
    },
    {
     "name": "stderr",
     "output_type": "stream",
     "text": [
      "100%|██████████| 155/155 [00:46<00:00,  3.34it/s]\n",
      "100%|██████████| 15/15 [00:09<00:00,  1.59it/s]\n",
      "100%|██████████| 18/18 [00:05<00:00,  3.29it/s]\n"
     ]
    },
    {
     "name": "stdout",
     "output_type": "stream",
     "text": [
      "1m 1s\n",
      "Early Stopping Counter = 13\n",
      "Epoch 263/300\n"
     ]
    },
    {
     "name": "stderr",
     "output_type": "stream",
     "text": [
      "100%|██████████| 155/155 [00:46<00:00,  3.34it/s]\n",
      "100%|██████████| 15/15 [00:09<00:00,  1.60it/s]\n",
      "100%|██████████| 18/18 [00:05<00:00,  3.30it/s]\n"
     ]
    },
    {
     "name": "stdout",
     "output_type": "stream",
     "text": [
      "1m 1s\n",
      "Early Stopping Counter = 14\n",
      "Epoch 264/300\n"
     ]
    },
    {
     "name": "stderr",
     "output_type": "stream",
     "text": [
      "100%|██████████| 155/155 [00:46<00:00,  3.34it/s]\n",
      "100%|██████████| 15/15 [00:09<00:00,  1.59it/s]\n",
      "100%|██████████| 18/18 [00:05<00:00,  3.32it/s]\n"
     ]
    },
    {
     "name": "stdout",
     "output_type": "stream",
     "text": [
      "1m 1s\n",
      "Early Stopping Counter = 15\n",
      "Epoch 265/300\n"
     ]
    },
    {
     "name": "stderr",
     "output_type": "stream",
     "text": [
      "100%|██████████| 155/155 [00:46<00:00,  3.35it/s]\n",
      "100%|██████████| 15/15 [00:09<00:00,  1.59it/s]\n",
      "100%|██████████| 18/18 [00:05<00:00,  3.32it/s]\n"
     ]
    },
    {
     "name": "stdout",
     "output_type": "stream",
     "text": [
      "1m 1s\n",
      "Early Stopping Counter = 16\n",
      "Epoch 266/300\n"
     ]
    },
    {
     "name": "stderr",
     "output_type": "stream",
     "text": [
      "100%|██████████| 155/155 [00:46<00:00,  3.34it/s]\n",
      "100%|██████████| 15/15 [00:09<00:00,  1.62it/s]\n",
      "100%|██████████| 18/18 [00:05<00:00,  3.31it/s]\n"
     ]
    },
    {
     "name": "stdout",
     "output_type": "stream",
     "text": [
      "1m 1s\n",
      "Early Stopping Counter = 17\n",
      "Epoch 267/300\n"
     ]
    },
    {
     "name": "stderr",
     "output_type": "stream",
     "text": [
      "100%|██████████| 155/155 [00:46<00:00,  3.35it/s]\n",
      "100%|██████████| 15/15 [00:09<00:00,  1.60it/s]\n",
      "100%|██████████| 18/18 [00:05<00:00,  3.33it/s]\n"
     ]
    },
    {
     "name": "stdout",
     "output_type": "stream",
     "text": [
      "1m 1s\n",
      "Early Stopping Counter = 18\n",
      "Epoch 268/300\n"
     ]
    },
    {
     "name": "stderr",
     "output_type": "stream",
     "text": [
      "100%|██████████| 155/155 [00:46<00:00,  3.35it/s]\n",
      "100%|██████████| 15/15 [00:09<00:00,  1.60it/s]\n",
      "100%|██████████| 18/18 [00:05<00:00,  3.27it/s]\n"
     ]
    },
    {
     "name": "stdout",
     "output_type": "stream",
     "text": [
      "1m 1s\n",
      "Consistency Loss declined to 0.0054272382985800505\n",
      "Early Stopping Counter = 0\n",
      "Epoch 269/300\n"
     ]
    },
    {
     "name": "stderr",
     "output_type": "stream",
     "text": [
      "100%|██████████| 155/155 [00:46<00:00,  3.33it/s]\n",
      "100%|██████████| 15/15 [00:09<00:00,  1.61it/s]\n",
      "100%|██████████| 18/18 [00:05<00:00,  3.30it/s]\n"
     ]
    },
    {
     "name": "stdout",
     "output_type": "stream",
     "text": [
      "1m 1s\n",
      "Early Stopping Counter = 1\n",
      "Epoch 270/300\n"
     ]
    },
    {
     "name": "stderr",
     "output_type": "stream",
     "text": [
      "100%|██████████| 155/155 [00:46<00:00,  3.35it/s]\n",
      "100%|██████████| 15/15 [00:09<00:00,  1.59it/s]\n",
      "100%|██████████| 18/18 [00:05<00:00,  3.30it/s]\n"
     ]
    },
    {
     "name": "stdout",
     "output_type": "stream",
     "text": [
      "1m 1s\n",
      "Early Stopping Counter = 2\n",
      "Epoch 271/300\n"
     ]
    },
    {
     "name": "stderr",
     "output_type": "stream",
     "text": [
      "100%|██████████| 155/155 [00:46<00:00,  3.35it/s]\n",
      "100%|██████████| 15/15 [00:09<00:00,  1.61it/s]\n",
      "100%|██████████| 18/18 [00:05<00:00,  3.25it/s]\n"
     ]
    },
    {
     "name": "stdout",
     "output_type": "stream",
     "text": [
      "1m 1s\n",
      "Consistency Loss declined to 0.005406768930455049\n",
      "Early Stopping Counter = 0\n",
      "Epoch 272/300\n"
     ]
    },
    {
     "name": "stderr",
     "output_type": "stream",
     "text": [
      "100%|██████████| 155/155 [00:46<00:00,  3.34it/s]\n",
      "100%|██████████| 15/15 [00:09<00:00,  1.60it/s]\n",
      "100%|██████████| 18/18 [00:05<00:00,  3.30it/s]\n"
     ]
    },
    {
     "name": "stdout",
     "output_type": "stream",
     "text": [
      "1m 1s\n",
      "Early Stopping Counter = 1\n",
      "Epoch 273/300\n"
     ]
    },
    {
     "name": "stderr",
     "output_type": "stream",
     "text": [
      "100%|██████████| 155/155 [00:46<00:00,  3.35it/s]\n",
      "100%|██████████| 15/15 [00:09<00:00,  1.60it/s]\n",
      "100%|██████████| 18/18 [00:05<00:00,  3.27it/s]\n"
     ]
    },
    {
     "name": "stdout",
     "output_type": "stream",
     "text": [
      "1m 1s\n",
      "Early Stopping Counter = 2\n",
      "Epoch 274/300\n"
     ]
    },
    {
     "name": "stderr",
     "output_type": "stream",
     "text": [
      "100%|██████████| 155/155 [00:46<00:00,  3.34it/s]\n",
      "100%|██████████| 15/15 [00:09<00:00,  1.58it/s]\n",
      "100%|██████████| 18/18 [00:05<00:00,  3.34it/s]\n"
     ]
    },
    {
     "name": "stdout",
     "output_type": "stream",
     "text": [
      "1m 1s\n",
      "Early Stopping Counter = 3\n",
      "Epoch 275/300\n"
     ]
    },
    {
     "name": "stderr",
     "output_type": "stream",
     "text": [
      "100%|██████████| 155/155 [00:46<00:00,  3.34it/s]\n",
      "100%|██████████| 15/15 [00:09<00:00,  1.60it/s]\n",
      "100%|██████████| 18/18 [00:05<00:00,  3.27it/s]\n"
     ]
    },
    {
     "name": "stdout",
     "output_type": "stream",
     "text": [
      "1m 1s\n",
      "Consistency Loss declined to 0.005267057769621412\n",
      "Early Stopping Counter = 0\n",
      "Epoch 276/300\n"
     ]
    },
    {
     "name": "stderr",
     "output_type": "stream",
     "text": [
      "100%|██████████| 155/155 [00:46<00:00,  3.33it/s]\n",
      "100%|██████████| 15/15 [00:09<00:00,  1.62it/s]\n",
      "100%|██████████| 18/18 [00:05<00:00,  3.28it/s]\n"
     ]
    },
    {
     "name": "stdout",
     "output_type": "stream",
     "text": [
      "1m 1s\n",
      "Early Stopping Counter = 1\n",
      "Epoch 277/300\n"
     ]
    },
    {
     "name": "stderr",
     "output_type": "stream",
     "text": [
      "100%|██████████| 155/155 [00:46<00:00,  3.36it/s]\n",
      "100%|██████████| 15/15 [00:09<00:00,  1.59it/s]\n",
      "100%|██████████| 18/18 [00:05<00:00,  3.31it/s]\n"
     ]
    },
    {
     "name": "stdout",
     "output_type": "stream",
     "text": [
      "1m 1s\n",
      "Early Stopping Counter = 2\n",
      "Epoch 278/300\n"
     ]
    },
    {
     "name": "stderr",
     "output_type": "stream",
     "text": [
      "100%|██████████| 155/155 [00:46<00:00,  3.36it/s]\n",
      "100%|██████████| 15/15 [00:09<00:00,  1.57it/s]\n",
      "100%|██████████| 18/18 [00:05<00:00,  3.26it/s]\n"
     ]
    },
    {
     "name": "stdout",
     "output_type": "stream",
     "text": [
      "1m 1s\n",
      "Early Stopping Counter = 3\n",
      "Epoch 279/300\n"
     ]
    },
    {
     "name": "stderr",
     "output_type": "stream",
     "text": [
      "100%|██████████| 155/155 [00:46<00:00,  3.34it/s]\n",
      "100%|██████████| 15/15 [00:09<00:00,  1.60it/s]\n",
      "100%|██████████| 18/18 [00:05<00:00,  3.31it/s]\n"
     ]
    },
    {
     "name": "stdout",
     "output_type": "stream",
     "text": [
      "1m 1s\n",
      "Early Stopping Counter = 4\n",
      "Epoch 280/300\n"
     ]
    },
    {
     "name": "stderr",
     "output_type": "stream",
     "text": [
      "100%|██████████| 155/155 [00:46<00:00,  3.35it/s]\n",
      "100%|██████████| 15/15 [00:09<00:00,  1.55it/s]\n",
      "100%|██████████| 18/18 [00:05<00:00,  3.32it/s]\n"
     ]
    },
    {
     "name": "stdout",
     "output_type": "stream",
     "text": [
      "1m 1s\n",
      "Early Stopping Counter = 5\n",
      "Epoch 281/300\n"
     ]
    },
    {
     "name": "stderr",
     "output_type": "stream",
     "text": [
      "100%|██████████| 155/155 [00:46<00:00,  3.34it/s]\n",
      "100%|██████████| 15/15 [00:09<00:00,  1.56it/s]\n",
      "100%|██████████| 18/18 [00:05<00:00,  3.27it/s]\n"
     ]
    },
    {
     "name": "stdout",
     "output_type": "stream",
     "text": [
      "1m 2s\n",
      "Early Stopping Counter = 6\n",
      "Epoch 282/300\n"
     ]
    },
    {
     "name": "stderr",
     "output_type": "stream",
     "text": [
      "100%|██████████| 155/155 [00:46<00:00,  3.34it/s]\n",
      "100%|██████████| 15/15 [00:09<00:00,  1.59it/s]\n",
      "100%|██████████| 18/18 [00:05<00:00,  3.23it/s]\n"
     ]
    },
    {
     "name": "stdout",
     "output_type": "stream",
     "text": [
      "1m 1s\n",
      "Consistency Loss declined to 0.005257099261507392\n",
      "Early Stopping Counter = 0\n",
      "Epoch 283/300\n"
     ]
    },
    {
     "name": "stderr",
     "output_type": "stream",
     "text": [
      "100%|██████████| 155/155 [00:46<00:00,  3.36it/s]\n",
      "100%|██████████| 15/15 [00:09<00:00,  1.59it/s]\n",
      "100%|██████████| 18/18 [00:05<00:00,  3.15it/s]\n"
     ]
    },
    {
     "name": "stdout",
     "output_type": "stream",
     "text": [
      "1m 1s\n",
      "Consistency Loss declined to 0.005147131842871507\n",
      "Early Stopping Counter = 0\n",
      "Epoch 284/300\n"
     ]
    },
    {
     "name": "stderr",
     "output_type": "stream",
     "text": [
      "100%|██████████| 155/155 [00:46<00:00,  3.36it/s]\n",
      "100%|██████████| 15/15 [00:09<00:00,  1.60it/s]\n",
      "100%|██████████| 18/18 [00:05<00:00,  3.28it/s]\n"
     ]
    },
    {
     "name": "stdout",
     "output_type": "stream",
     "text": [
      "1m 1s\n",
      "Early Stopping Counter = 1\n",
      "Epoch 285/300\n"
     ]
    },
    {
     "name": "stderr",
     "output_type": "stream",
     "text": [
      "100%|██████████| 155/155 [00:46<00:00,  3.36it/s]\n",
      "100%|██████████| 15/15 [00:09<00:00,  1.56it/s]\n",
      "100%|██████████| 18/18 [00:05<00:00,  3.26it/s]\n"
     ]
    },
    {
     "name": "stdout",
     "output_type": "stream",
     "text": [
      "1m 1s\n",
      "Early Stopping Counter = 2\n",
      "Epoch 286/300\n"
     ]
    },
    {
     "name": "stderr",
     "output_type": "stream",
     "text": [
      "100%|██████████| 155/155 [00:46<00:00,  3.36it/s]\n",
      "100%|██████████| 15/15 [00:09<00:00,  1.60it/s]\n",
      "100%|██████████| 18/18 [00:05<00:00,  3.25it/s]\n"
     ]
    },
    {
     "name": "stdout",
     "output_type": "stream",
     "text": [
      "1m 1s\n",
      "Early Stopping Counter = 3\n",
      "Epoch 287/300\n"
     ]
    },
    {
     "name": "stderr",
     "output_type": "stream",
     "text": [
      "100%|██████████| 155/155 [00:46<00:00,  3.35it/s]\n",
      "100%|██████████| 15/15 [00:09<00:00,  1.62it/s]\n",
      "100%|██████████| 18/18 [00:05<00:00,  3.40it/s]\n"
     ]
    },
    {
     "name": "stdout",
     "output_type": "stream",
     "text": [
      "1m 1s\n",
      "Consistency Loss declined to 0.005137179916103681\n",
      "Early Stopping Counter = 0\n",
      "Epoch 288/300\n"
     ]
    },
    {
     "name": "stderr",
     "output_type": "stream",
     "text": [
      "100%|██████████| 155/155 [00:46<00:00,  3.34it/s]\n",
      "100%|██████████| 15/15 [00:09<00:00,  1.63it/s]\n",
      "100%|██████████| 18/18 [00:05<00:00,  3.29it/s]\n"
     ]
    },
    {
     "name": "stdout",
     "output_type": "stream",
     "text": [
      "1m 1s\n",
      "Early Stopping Counter = 1\n",
      "Epoch 289/300\n"
     ]
    },
    {
     "name": "stderr",
     "output_type": "stream",
     "text": [
      "100%|██████████| 155/155 [00:46<00:00,  3.35it/s]\n",
      "100%|██████████| 15/15 [00:09<00:00,  1.60it/s]\n",
      "100%|██████████| 18/18 [00:05<00:00,  3.30it/s]\n"
     ]
    },
    {
     "name": "stdout",
     "output_type": "stream",
     "text": [
      "1m 1s\n",
      "Early Stopping Counter = 2\n",
      "Epoch 290/300\n"
     ]
    },
    {
     "name": "stderr",
     "output_type": "stream",
     "text": [
      "100%|██████████| 155/155 [00:46<00:00,  3.34it/s]\n",
      "100%|██████████| 15/15 [00:09<00:00,  1.61it/s]\n",
      "100%|██████████| 18/18 [00:05<00:00,  3.34it/s]\n"
     ]
    },
    {
     "name": "stdout",
     "output_type": "stream",
     "text": [
      "1m 1s\n",
      "Consistency Loss declined to 0.005073908033470313\n",
      "Early Stopping Counter = 0\n",
      "Epoch 291/300\n"
     ]
    },
    {
     "name": "stderr",
     "output_type": "stream",
     "text": [
      "100%|██████████| 155/155 [00:46<00:00,  3.34it/s]\n",
      "100%|██████████| 15/15 [00:09<00:00,  1.60it/s]\n",
      "100%|██████████| 18/18 [00:05<00:00,  3.33it/s]\n"
     ]
    },
    {
     "name": "stdout",
     "output_type": "stream",
     "text": [
      "1m 1s\n",
      "Early Stopping Counter = 1\n",
      "Epoch 292/300\n"
     ]
    },
    {
     "name": "stderr",
     "output_type": "stream",
     "text": [
      "100%|██████████| 155/155 [00:46<00:00,  3.35it/s]\n",
      "100%|██████████| 15/15 [00:09<00:00,  1.60it/s]\n",
      "100%|██████████| 18/18 [00:05<00:00,  3.33it/s]\n"
     ]
    },
    {
     "name": "stdout",
     "output_type": "stream",
     "text": [
      "1m 1s\n",
      "Consistency Loss declined to 0.004948058103521665\n",
      "Early Stopping Counter = 0\n",
      "Epoch 293/300\n"
     ]
    },
    {
     "name": "stderr",
     "output_type": "stream",
     "text": [
      "100%|██████████| 155/155 [00:46<00:00,  3.33it/s]\n",
      "100%|██████████| 15/15 [00:09<00:00,  1.62it/s]\n",
      "100%|██████████| 18/18 [00:05<00:00,  3.30it/s]\n"
     ]
    },
    {
     "name": "stdout",
     "output_type": "stream",
     "text": [
      "1m 1s\n",
      "Early Stopping Counter = 1\n",
      "Epoch 294/300\n"
     ]
    },
    {
     "name": "stderr",
     "output_type": "stream",
     "text": [
      "100%|██████████| 155/155 [00:46<00:00,  3.34it/s]\n",
      "100%|██████████| 15/15 [00:09<00:00,  1.58it/s]\n",
      "100%|██████████| 18/18 [00:05<00:00,  3.29it/s]\n"
     ]
    },
    {
     "name": "stdout",
     "output_type": "stream",
     "text": [
      "1m 1s\n",
      "Early Stopping Counter = 2\n",
      "Epoch 295/300\n"
     ]
    },
    {
     "name": "stderr",
     "output_type": "stream",
     "text": [
      "100%|██████████| 155/155 [00:46<00:00,  3.35it/s]\n",
      "100%|██████████| 15/15 [00:09<00:00,  1.60it/s]\n",
      "100%|██████████| 18/18 [00:05<00:00,  3.33it/s]\n"
     ]
    },
    {
     "name": "stdout",
     "output_type": "stream",
     "text": [
      "1m 1s\n",
      "Early Stopping Counter = 3\n",
      "Epoch 296/300\n"
     ]
    },
    {
     "name": "stderr",
     "output_type": "stream",
     "text": [
      "100%|██████████| 155/155 [00:46<00:00,  3.35it/s]\n",
      "100%|██████████| 15/15 [00:09<00:00,  1.63it/s]\n",
      "100%|██████████| 18/18 [00:05<00:00,  3.25it/s]\n"
     ]
    },
    {
     "name": "stdout",
     "output_type": "stream",
     "text": [
      "1m 1s\n",
      "Early Stopping Counter = 4\n",
      "Epoch 297/300\n"
     ]
    },
    {
     "name": "stderr",
     "output_type": "stream",
     "text": [
      "100%|██████████| 155/155 [00:46<00:00,  3.35it/s]\n",
      "100%|██████████| 15/15 [00:09<00:00,  1.59it/s]\n",
      "100%|██████████| 18/18 [00:05<00:00,  3.29it/s]\n"
     ]
    },
    {
     "name": "stdout",
     "output_type": "stream",
     "text": [
      "1m 1s\n",
      "Early Stopping Counter = 5\n",
      "Epoch 298/300\n"
     ]
    },
    {
     "name": "stderr",
     "output_type": "stream",
     "text": [
      "100%|██████████| 155/155 [00:46<00:00,  3.36it/s]\n",
      "100%|██████████| 15/15 [00:09<00:00,  1.59it/s]\n",
      "100%|██████████| 18/18 [00:05<00:00,  3.31it/s]\n"
     ]
    },
    {
     "name": "stdout",
     "output_type": "stream",
     "text": [
      "1m 1s\n",
      "Early Stopping Counter = 6\n",
      "Epoch 299/300\n"
     ]
    },
    {
     "name": "stderr",
     "output_type": "stream",
     "text": [
      "100%|██████████| 155/155 [00:46<00:00,  3.35it/s]\n",
      "100%|██████████| 15/15 [00:09<00:00,  1.59it/s]\n",
      "100%|██████████| 18/18 [00:05<00:00,  3.26it/s]\n"
     ]
    },
    {
     "name": "stdout",
     "output_type": "stream",
     "text": [
      "1m 1s\n",
      "Early Stopping Counter = 7\n",
      "Epoch 300/300\n"
     ]
    },
    {
     "name": "stderr",
     "output_type": "stream",
     "text": [
      "100%|██████████| 155/155 [00:46<00:00,  3.36it/s]\n",
      "100%|██████████| 15/15 [00:09<00:00,  1.60it/s]\n",
      "100%|██████████| 18/18 [00:05<00:00,  3.30it/s]\n"
     ]
    },
    {
     "name": "stdout",
     "output_type": "stream",
     "text": [
      "1m 1s\n",
      "Early Stopping Counter = 8\n"
     ]
    },
    {
     "name": "stderr",
     "output_type": "stream",
     "text": [
      "100%|██████████| 17/17 [02:15<00:00,  7.94s/it]\n",
      " 94%|█████████▍| 15/16 [02:07<00:08,  8.53s/it]\n",
      "100%|██████████| 1000/1000 [00:02<00:00, 391.42it/s]\n"
     ]
    },
    {
     "name": "stdout",
     "output_type": "stream",
     "text": [
      "Epoch 1/300\n"
     ]
    },
    {
     "name": "stderr",
     "output_type": "stream",
     "text": [
      "100%|██████████| 155/155 [00:46<00:00,  3.32it/s]\n",
      "100%|██████████| 15/15 [00:09<00:00,  1.58it/s]\n",
      "100%|██████████| 18/18 [00:05<00:00,  3.32it/s]\n"
     ]
    },
    {
     "name": "stdout",
     "output_type": "stream",
     "text": [
      "1m 2s\n",
      "Consistency Loss declined to 0.11809304207563401\n",
      "Early Stopping Counter = 0\n",
      "Epoch 2/300\n"
     ]
    },
    {
     "name": "stderr",
     "output_type": "stream",
     "text": [
      "100%|██████████| 155/155 [00:46<00:00,  3.33it/s]\n",
      "100%|██████████| 15/15 [00:09<00:00,  1.59it/s]\n",
      "100%|██████████| 18/18 [00:05<00:00,  3.27it/s]\n"
     ]
    },
    {
     "name": "stdout",
     "output_type": "stream",
     "text": [
      "1m 2s\n",
      "Consistency Loss declined to 0.09057707414031028\n",
      "Early Stopping Counter = 0\n",
      "Epoch 3/300\n"
     ]
    },
    {
     "name": "stderr",
     "output_type": "stream",
     "text": [
      "100%|██████████| 155/155 [00:46<00:00,  3.31it/s]\n",
      "100%|██████████| 15/15 [00:09<00:00,  1.58it/s]\n",
      "100%|██████████| 18/18 [00:05<00:00,  3.35it/s]\n"
     ]
    },
    {
     "name": "stdout",
     "output_type": "stream",
     "text": [
      "1m 2s\n",
      "Early Stopping Counter = 1\n",
      "Epoch 4/300\n"
     ]
    },
    {
     "name": "stderr",
     "output_type": "stream",
     "text": [
      "100%|██████████| 155/155 [00:47<00:00,  3.30it/s]\n",
      "100%|██████████| 15/15 [00:09<00:00,  1.59it/s]\n",
      "100%|██████████| 18/18 [00:05<00:00,  3.28it/s]\n"
     ]
    },
    {
     "name": "stdout",
     "output_type": "stream",
     "text": [
      "1m 2s\n",
      "Early Stopping Counter = 2\n",
      "Epoch 5/300\n"
     ]
    },
    {
     "name": "stderr",
     "output_type": "stream",
     "text": [
      "100%|██████████| 155/155 [00:46<00:00,  3.32it/s]\n",
      "100%|██████████| 15/15 [00:09<00:00,  1.58it/s]\n",
      "100%|██████████| 18/18 [00:05<00:00,  3.28it/s]\n"
     ]
    },
    {
     "name": "stdout",
     "output_type": "stream",
     "text": [
      "1m 2s\n",
      "Consistency Loss declined to 0.07640267759561539\n",
      "Early Stopping Counter = 0\n",
      "Epoch 6/300\n"
     ]
    },
    {
     "name": "stderr",
     "output_type": "stream",
     "text": [
      "100%|██████████| 155/155 [00:46<00:00,  3.30it/s]\n",
      "100%|██████████| 15/15 [00:09<00:00,  1.59it/s]\n",
      "100%|██████████| 18/18 [00:05<00:00,  3.26it/s]\n"
     ]
    },
    {
     "name": "stdout",
     "output_type": "stream",
     "text": [
      "1m 2s\n",
      "Consistency Loss declined to 0.0739953218648831\n",
      "Early Stopping Counter = 0\n",
      "Epoch 7/300\n"
     ]
    },
    {
     "name": "stderr",
     "output_type": "stream",
     "text": [
      "100%|██████████| 155/155 [00:46<00:00,  3.32it/s]\n",
      "100%|██████████| 15/15 [00:09<00:00,  1.61it/s]\n",
      "100%|██████████| 18/18 [00:05<00:00,  3.23it/s]\n"
     ]
    },
    {
     "name": "stdout",
     "output_type": "stream",
     "text": [
      "1m 2s\n",
      "Consistency Loss declined to 0.06721290449301402\n",
      "Early Stopping Counter = 0\n",
      "Epoch 8/300\n"
     ]
    },
    {
     "name": "stderr",
     "output_type": "stream",
     "text": [
      "100%|██████████| 155/155 [00:46<00:00,  3.33it/s]\n",
      "100%|██████████| 15/15 [00:09<00:00,  1.60it/s]\n",
      "100%|██████████| 18/18 [00:05<00:00,  3.35it/s]\n"
     ]
    },
    {
     "name": "stdout",
     "output_type": "stream",
     "text": [
      "1m 1s\n",
      "Early Stopping Counter = 1\n",
      "Epoch 9/300\n"
     ]
    },
    {
     "name": "stderr",
     "output_type": "stream",
     "text": [
      "100%|██████████| 155/155 [00:46<00:00,  3.34it/s]\n",
      "100%|██████████| 15/15 [00:09<00:00,  1.61it/s]\n",
      "100%|██████████| 18/18 [00:05<00:00,  3.33it/s]\n"
     ]
    },
    {
     "name": "stdout",
     "output_type": "stream",
     "text": [
      "1m 1s\n",
      "Consistency Loss declined to 0.06410522994895776\n",
      "Early Stopping Counter = 0\n",
      "Epoch 10/300\n"
     ]
    },
    {
     "name": "stderr",
     "output_type": "stream",
     "text": [
      "100%|██████████| 155/155 [00:46<00:00,  3.33it/s]\n",
      "100%|██████████| 15/15 [00:09<00:00,  1.62it/s]\n",
      "100%|██████████| 18/18 [00:05<00:00,  3.28it/s]\n"
     ]
    },
    {
     "name": "stdout",
     "output_type": "stream",
     "text": [
      "1m 1s\n",
      "Consistency Loss declined to 0.057916292920708656\n",
      "Early Stopping Counter = 0\n",
      "Epoch 11/300\n"
     ]
    },
    {
     "name": "stderr",
     "output_type": "stream",
     "text": [
      "100%|██████████| 155/155 [00:46<00:00,  3.33it/s]\n",
      "100%|██████████| 15/15 [00:09<00:00,  1.59it/s]\n",
      "100%|██████████| 18/18 [00:05<00:00,  3.33it/s]\n"
     ]
    },
    {
     "name": "stdout",
     "output_type": "stream",
     "text": [
      "1m 1s\n",
      "Early Stopping Counter = 1\n",
      "Epoch 12/300\n"
     ]
    },
    {
     "name": "stderr",
     "output_type": "stream",
     "text": [
      "100%|██████████| 155/155 [00:46<00:00,  3.34it/s]\n",
      "100%|██████████| 15/15 [00:09<00:00,  1.61it/s]\n",
      "100%|██████████| 18/18 [00:05<00:00,  3.25it/s]\n"
     ]
    },
    {
     "name": "stdout",
     "output_type": "stream",
     "text": [
      "1m 1s\n",
      "Consistency Loss declined to 0.05397378305594126\n",
      "Early Stopping Counter = 0\n",
      "Epoch 13/300\n"
     ]
    },
    {
     "name": "stderr",
     "output_type": "stream",
     "text": [
      "100%|██████████| 155/155 [00:46<00:00,  3.33it/s]\n",
      "100%|██████████| 15/15 [00:09<00:00,  1.60it/s]\n",
      "100%|██████████| 18/18 [00:05<00:00,  3.29it/s]\n"
     ]
    },
    {
     "name": "stdout",
     "output_type": "stream",
     "text": [
      "1m 1s\n",
      "Consistency Loss declined to 0.05201485306024552\n",
      "Early Stopping Counter = 0\n",
      "Epoch 14/300\n"
     ]
    },
    {
     "name": "stderr",
     "output_type": "stream",
     "text": [
      "100%|██████████| 155/155 [00:46<00:00,  3.32it/s]\n",
      "100%|██████████| 15/15 [00:09<00:00,  1.61it/s]\n",
      "100%|██████████| 18/18 [00:05<00:00,  3.25it/s]\n"
     ]
    },
    {
     "name": "stdout",
     "output_type": "stream",
     "text": [
      "1m 1s\n",
      "Early Stopping Counter = 1\n",
      "Epoch 15/300\n"
     ]
    },
    {
     "name": "stderr",
     "output_type": "stream",
     "text": [
      "100%|██████████| 155/155 [00:46<00:00,  3.34it/s]\n",
      "100%|██████████| 15/15 [00:09<00:00,  1.61it/s]\n",
      "100%|██████████| 18/18 [00:05<00:00,  3.24it/s]\n"
     ]
    },
    {
     "name": "stdout",
     "output_type": "stream",
     "text": [
      "1m 1s\n",
      "Early Stopping Counter = 2\n",
      "Epoch 16/300\n"
     ]
    },
    {
     "name": "stderr",
     "output_type": "stream",
     "text": [
      "100%|██████████| 155/155 [00:46<00:00,  3.34it/s]\n",
      "100%|██████████| 15/15 [00:09<00:00,  1.60it/s]\n",
      "100%|██████████| 18/18 [00:05<00:00,  3.26it/s]\n"
     ]
    },
    {
     "name": "stdout",
     "output_type": "stream",
     "text": [
      "1m 1s\n",
      "Consistency Loss declined to 0.04892391413450241\n",
      "Early Stopping Counter = 0\n",
      "Epoch 17/300\n"
     ]
    },
    {
     "name": "stderr",
     "output_type": "stream",
     "text": [
      "100%|██████████| 155/155 [00:46<00:00,  3.34it/s]\n",
      "100%|██████████| 15/15 [00:09<00:00,  1.59it/s]\n",
      "100%|██████████| 18/18 [00:05<00:00,  3.23it/s]\n"
     ]
    },
    {
     "name": "stdout",
     "output_type": "stream",
     "text": [
      "1m 1s\n",
      "Consistency Loss declined to 0.04529142342507839\n",
      "Early Stopping Counter = 0\n",
      "Epoch 18/300\n"
     ]
    },
    {
     "name": "stderr",
     "output_type": "stream",
     "text": [
      "100%|██████████| 155/155 [00:46<00:00,  3.32it/s]\n",
      "100%|██████████| 15/15 [00:09<00:00,  1.62it/s]\n",
      "100%|██████████| 18/18 [00:05<00:00,  3.32it/s]\n"
     ]
    },
    {
     "name": "stdout",
     "output_type": "stream",
     "text": [
      "1m 1s\n",
      "Consistency Loss declined to 0.04214665703475475\n",
      "Early Stopping Counter = 0\n",
      "Epoch 19/300\n"
     ]
    },
    {
     "name": "stderr",
     "output_type": "stream",
     "text": [
      "100%|██████████| 155/155 [00:46<00:00,  3.33it/s]\n",
      "100%|██████████| 15/15 [00:09<00:00,  1.61it/s]\n",
      "100%|██████████| 18/18 [00:05<00:00,  3.37it/s]\n"
     ]
    },
    {
     "name": "stdout",
     "output_type": "stream",
     "text": [
      "1m 1s\n",
      "Consistency Loss declined to 0.03929127131899198\n",
      "Early Stopping Counter = 0\n",
      "Epoch 20/300\n"
     ]
    },
    {
     "name": "stderr",
     "output_type": "stream",
     "text": [
      "100%|██████████| 155/155 [00:46<00:00,  3.32it/s]\n",
      "100%|██████████| 15/15 [00:09<00:00,  1.60it/s]\n",
      "100%|██████████| 18/18 [00:05<00:00,  3.33it/s]\n"
     ]
    },
    {
     "name": "stdout",
     "output_type": "stream",
     "text": [
      "1m 2s\n",
      "Consistency Loss declined to 0.03634882047772407\n",
      "Early Stopping Counter = 0\n",
      "Epoch 21/300\n"
     ]
    },
    {
     "name": "stderr",
     "output_type": "stream",
     "text": [
      "100%|██████████| 155/155 [00:46<00:00,  3.32it/s]\n",
      "100%|██████████| 15/15 [00:09<00:00,  1.62it/s]\n",
      "100%|██████████| 18/18 [00:05<00:00,  3.26it/s]\n"
     ]
    },
    {
     "name": "stdout",
     "output_type": "stream",
     "text": [
      "1m 1s\n",
      "Early Stopping Counter = 1\n",
      "Epoch 22/300\n"
     ]
    },
    {
     "name": "stderr",
     "output_type": "stream",
     "text": [
      "100%|██████████| 155/155 [00:46<00:00,  3.33it/s]\n",
      "100%|██████████| 15/15 [00:09<00:00,  1.58it/s]\n",
      "100%|██████████| 18/18 [00:05<00:00,  3.26it/s]\n"
     ]
    },
    {
     "name": "stdout",
     "output_type": "stream",
     "text": [
      "1m 2s\n",
      "Early Stopping Counter = 2\n",
      "Epoch 23/300\n"
     ]
    },
    {
     "name": "stderr",
     "output_type": "stream",
     "text": [
      "100%|██████████| 155/155 [00:46<00:00,  3.33it/s]\n",
      "100%|██████████| 15/15 [00:09<00:00,  1.60it/s]\n",
      "100%|██████████| 18/18 [00:05<00:00,  3.25it/s]\n"
     ]
    },
    {
     "name": "stdout",
     "output_type": "stream",
     "text": [
      "1m 1s\n",
      "Early Stopping Counter = 3\n",
      "Epoch 24/300\n"
     ]
    },
    {
     "name": "stderr",
     "output_type": "stream",
     "text": [
      "100%|██████████| 155/155 [00:46<00:00,  3.34it/s]\n",
      "100%|██████████| 15/15 [00:09<00:00,  1.61it/s]\n",
      "100%|██████████| 18/18 [00:05<00:00,  3.32it/s]\n"
     ]
    },
    {
     "name": "stdout",
     "output_type": "stream",
     "text": [
      "1m 1s\n",
      "Consistency Loss declined to 0.0358026422560215\n",
      "Early Stopping Counter = 0\n",
      "Epoch 25/300\n"
     ]
    },
    {
     "name": "stderr",
     "output_type": "stream",
     "text": [
      "100%|██████████| 155/155 [00:46<00:00,  3.31it/s]\n",
      "100%|██████████| 15/15 [00:09<00:00,  1.61it/s]\n",
      "100%|██████████| 18/18 [00:05<00:00,  3.32it/s]\n"
     ]
    },
    {
     "name": "stdout",
     "output_type": "stream",
     "text": [
      "1m 2s\n",
      "Early Stopping Counter = 1\n",
      "Epoch 26/300\n"
     ]
    },
    {
     "name": "stderr",
     "output_type": "stream",
     "text": [
      "100%|██████████| 155/155 [00:46<00:00,  3.34it/s]\n",
      "100%|██████████| 15/15 [00:09<00:00,  1.62it/s]\n",
      "100%|██████████| 18/18 [00:05<00:00,  3.25it/s]\n"
     ]
    },
    {
     "name": "stdout",
     "output_type": "stream",
     "text": [
      "1m 1s\n",
      "Early Stopping Counter = 2\n",
      "Epoch 27/300\n"
     ]
    },
    {
     "name": "stderr",
     "output_type": "stream",
     "text": [
      "100%|██████████| 155/155 [00:46<00:00,  3.33it/s]\n",
      "100%|██████████| 15/15 [00:09<00:00,  1.60it/s]\n",
      "100%|██████████| 18/18 [00:05<00:00,  3.32it/s]\n"
     ]
    },
    {
     "name": "stdout",
     "output_type": "stream",
     "text": [
      "1m 1s\n",
      "Consistency Loss declined to 0.03257030745347341\n",
      "Early Stopping Counter = 0\n",
      "Epoch 28/300\n"
     ]
    },
    {
     "name": "stderr",
     "output_type": "stream",
     "text": [
      "100%|██████████| 155/155 [00:46<00:00,  3.31it/s]\n",
      "100%|██████████| 15/15 [00:09<00:00,  1.62it/s]\n",
      "100%|██████████| 18/18 [00:05<00:00,  3.26it/s]\n"
     ]
    },
    {
     "name": "stdout",
     "output_type": "stream",
     "text": [
      "1m 2s\n",
      "Early Stopping Counter = 1\n",
      "Epoch 29/300\n"
     ]
    },
    {
     "name": "stderr",
     "output_type": "stream",
     "text": [
      "100%|██████████| 155/155 [00:46<00:00,  3.32it/s]\n",
      "100%|██████████| 15/15 [00:09<00:00,  1.59it/s]\n",
      "100%|██████████| 18/18 [00:05<00:00,  3.30it/s]\n"
     ]
    },
    {
     "name": "stdout",
     "output_type": "stream",
     "text": [
      "1m 2s\n",
      "Early Stopping Counter = 2\n",
      "Epoch 30/300\n"
     ]
    },
    {
     "name": "stderr",
     "output_type": "stream",
     "text": [
      "100%|██████████| 155/155 [00:46<00:00,  3.33it/s]\n",
      "100%|██████████| 15/15 [00:09<00:00,  1.59it/s]\n",
      "100%|██████████| 18/18 [00:05<00:00,  3.23it/s]\n"
     ]
    },
    {
     "name": "stdout",
     "output_type": "stream",
     "text": [
      "1m 2s\n",
      "Consistency Loss declined to 0.02977206235130628\n",
      "Early Stopping Counter = 0\n",
      "Epoch 31/300\n"
     ]
    },
    {
     "name": "stderr",
     "output_type": "stream",
     "text": [
      "100%|██████████| 155/155 [00:46<00:00,  3.32it/s]\n",
      "100%|██████████| 15/15 [00:09<00:00,  1.60it/s]\n",
      "100%|██████████| 18/18 [00:05<00:00,  3.16it/s]\n"
     ]
    },
    {
     "name": "stdout",
     "output_type": "stream",
     "text": [
      "1m 2s\n",
      "Early Stopping Counter = 1\n",
      "Epoch 32/300\n"
     ]
    },
    {
     "name": "stderr",
     "output_type": "stream",
     "text": [
      "100%|██████████| 155/155 [00:46<00:00,  3.35it/s]\n",
      "100%|██████████| 15/15 [00:09<00:00,  1.57it/s]\n",
      "100%|██████████| 18/18 [00:05<00:00,  3.27it/s]\n"
     ]
    },
    {
     "name": "stdout",
     "output_type": "stream",
     "text": [
      "1m 1s\n",
      "Consistency Loss declined to 0.029620724295576415\n",
      "Early Stopping Counter = 0\n",
      "Epoch 33/300\n"
     ]
    },
    {
     "name": "stderr",
     "output_type": "stream",
     "text": [
      "100%|██████████| 155/155 [00:46<00:00,  3.33it/s]\n",
      "100%|██████████| 15/15 [00:09<00:00,  1.61it/s]\n",
      "100%|██████████| 18/18 [00:05<00:00,  3.27it/s]\n"
     ]
    },
    {
     "name": "stdout",
     "output_type": "stream",
     "text": [
      "1m 1s\n",
      "Early Stopping Counter = 1\n",
      "Epoch 34/300\n"
     ]
    },
    {
     "name": "stderr",
     "output_type": "stream",
     "text": [
      "100%|██████████| 155/155 [00:46<00:00,  3.34it/s]\n",
      "100%|██████████| 15/15 [00:09<00:00,  1.60it/s]\n",
      "100%|██████████| 18/18 [00:05<00:00,  3.32it/s]\n"
     ]
    },
    {
     "name": "stdout",
     "output_type": "stream",
     "text": [
      "1m 1s\n",
      "Early Stopping Counter = 2\n",
      "Epoch 35/300\n"
     ]
    },
    {
     "name": "stderr",
     "output_type": "stream",
     "text": [
      "100%|██████████| 155/155 [00:46<00:00,  3.35it/s]\n",
      "100%|██████████| 15/15 [00:09<00:00,  1.60it/s]\n",
      "100%|██████████| 18/18 [00:05<00:00,  3.37it/s]\n"
     ]
    },
    {
     "name": "stdout",
     "output_type": "stream",
     "text": [
      "1m 1s\n",
      "Consistency Loss declined to 0.027848117426037787\n",
      "Early Stopping Counter = 0\n",
      "Epoch 36/300\n"
     ]
    },
    {
     "name": "stderr",
     "output_type": "stream",
     "text": [
      "100%|██████████| 155/155 [00:46<00:00,  3.33it/s]\n",
      "100%|██████████| 15/15 [00:09<00:00,  1.60it/s]\n",
      "100%|██████████| 18/18 [00:05<00:00,  3.27it/s]\n"
     ]
    },
    {
     "name": "stdout",
     "output_type": "stream",
     "text": [
      "1m 1s\n",
      "Consistency Loss declined to 0.02767773934950431\n",
      "Early Stopping Counter = 0\n",
      "Epoch 37/300\n"
     ]
    },
    {
     "name": "stderr",
     "output_type": "stream",
     "text": [
      "100%|██████████| 155/155 [00:46<00:00,  3.32it/s]\n",
      "100%|██████████| 15/15 [00:09<00:00,  1.61it/s]\n",
      "100%|██████████| 18/18 [00:05<00:00,  3.27it/s]\n"
     ]
    },
    {
     "name": "stdout",
     "output_type": "stream",
     "text": [
      "1m 1s\n",
      "Consistency Loss declined to 0.02476656051973502\n",
      "Early Stopping Counter = 0\n",
      "Epoch 38/300\n"
     ]
    },
    {
     "name": "stderr",
     "output_type": "stream",
     "text": [
      "100%|██████████| 155/155 [00:46<00:00,  3.32it/s]\n",
      "100%|██████████| 15/15 [00:09<00:00,  1.60it/s]\n",
      "100%|██████████| 18/18 [00:05<00:00,  3.23it/s]\n"
     ]
    },
    {
     "name": "stdout",
     "output_type": "stream",
     "text": [
      "1m 2s\n",
      "Early Stopping Counter = 1\n",
      "Epoch 39/300\n"
     ]
    },
    {
     "name": "stderr",
     "output_type": "stream",
     "text": [
      "100%|██████████| 155/155 [00:46<00:00,  3.33it/s]\n",
      "100%|██████████| 15/15 [00:09<00:00,  1.58it/s]\n",
      "100%|██████████| 18/18 [00:05<00:00,  3.18it/s]\n"
     ]
    },
    {
     "name": "stdout",
     "output_type": "stream",
     "text": [
      "1m 2s\n",
      "Early Stopping Counter = 2\n",
      "Epoch 40/300\n"
     ]
    },
    {
     "name": "stderr",
     "output_type": "stream",
     "text": [
      "100%|██████████| 155/155 [00:46<00:00,  3.34it/s]\n",
      "100%|██████████| 15/15 [00:09<00:00,  1.61it/s]\n",
      "100%|██████████| 18/18 [00:05<00:00,  3.31it/s]\n"
     ]
    },
    {
     "name": "stdout",
     "output_type": "stream",
     "text": [
      "1m 1s\n",
      "Early Stopping Counter = 3\n",
      "Epoch 41/300\n"
     ]
    },
    {
     "name": "stderr",
     "output_type": "stream",
     "text": [
      "100%|██████████| 155/155 [00:46<00:00,  3.32it/s]\n",
      "100%|██████████| 15/15 [00:09<00:00,  1.56it/s]\n",
      "100%|██████████| 18/18 [00:05<00:00,  3.29it/s]\n"
     ]
    },
    {
     "name": "stdout",
     "output_type": "stream",
     "text": [
      "1m 2s\n",
      "Early Stopping Counter = 4\n",
      "Epoch 42/300\n"
     ]
    },
    {
     "name": "stderr",
     "output_type": "stream",
     "text": [
      "100%|██████████| 155/155 [00:46<00:00,  3.33it/s]\n",
      "100%|██████████| 15/15 [00:09<00:00,  1.60it/s]\n",
      "100%|██████████| 18/18 [00:05<00:00,  3.28it/s]\n"
     ]
    },
    {
     "name": "stdout",
     "output_type": "stream",
     "text": [
      "1m 1s\n",
      "Early Stopping Counter = 5\n",
      "Epoch 43/300\n"
     ]
    },
    {
     "name": "stderr",
     "output_type": "stream",
     "text": [
      "100%|██████████| 155/155 [00:46<00:00,  3.34it/s]\n",
      "100%|██████████| 15/15 [00:09<00:00,  1.61it/s]\n",
      "100%|██████████| 18/18 [00:05<00:00,  3.24it/s]\n"
     ]
    },
    {
     "name": "stdout",
     "output_type": "stream",
     "text": [
      "1m 1s\n",
      "Early Stopping Counter = 6\n",
      "Epoch 44/300\n"
     ]
    },
    {
     "name": "stderr",
     "output_type": "stream",
     "text": [
      "100%|██████████| 155/155 [00:46<00:00,  3.33it/s]\n",
      "100%|██████████| 15/15 [00:09<00:00,  1.59it/s]\n",
      "100%|██████████| 18/18 [00:05<00:00,  3.24it/s]\n"
     ]
    },
    {
     "name": "stdout",
     "output_type": "stream",
     "text": [
      "1m 2s\n",
      "Early Stopping Counter = 7\n",
      "Epoch 45/300\n"
     ]
    },
    {
     "name": "stderr",
     "output_type": "stream",
     "text": [
      "100%|██████████| 155/155 [00:46<00:00,  3.34it/s]\n",
      "100%|██████████| 15/15 [00:09<00:00,  1.60it/s]\n",
      "100%|██████████| 18/18 [00:05<00:00,  3.36it/s]\n"
     ]
    },
    {
     "name": "stdout",
     "output_type": "stream",
     "text": [
      "1m 1s\n",
      "Early Stopping Counter = 8\n",
      "Epoch 46/300\n"
     ]
    },
    {
     "name": "stderr",
     "output_type": "stream",
     "text": [
      "100%|██████████| 155/155 [00:46<00:00,  3.34it/s]\n",
      "100%|██████████| 15/15 [00:09<00:00,  1.61it/s]\n",
      "100%|██████████| 18/18 [00:05<00:00,  3.30it/s]\n"
     ]
    },
    {
     "name": "stdout",
     "output_type": "stream",
     "text": [
      "1m 1s\n",
      "Early Stopping Counter = 9\n",
      "Epoch 47/300\n"
     ]
    },
    {
     "name": "stderr",
     "output_type": "stream",
     "text": [
      "100%|██████████| 155/155 [00:46<00:00,  3.34it/s]\n",
      "100%|██████████| 15/15 [00:09<00:00,  1.59it/s]\n",
      "100%|██████████| 18/18 [00:05<00:00,  3.22it/s]\n"
     ]
    },
    {
     "name": "stdout",
     "output_type": "stream",
     "text": [
      "1m 1s\n",
      "Early Stopping Counter = 10\n",
      "Epoch 48/300\n"
     ]
    },
    {
     "name": "stderr",
     "output_type": "stream",
     "text": [
      "100%|██████████| 155/155 [00:46<00:00,  3.34it/s]\n",
      "100%|██████████| 15/15 [00:09<00:00,  1.60it/s]\n",
      "100%|██████████| 18/18 [00:05<00:00,  3.24it/s]\n"
     ]
    },
    {
     "name": "stdout",
     "output_type": "stream",
     "text": [
      "1m 1s\n",
      "Early Stopping Counter = 11\n",
      "Epoch 49/300\n"
     ]
    },
    {
     "name": "stderr",
     "output_type": "stream",
     "text": [
      "100%|██████████| 155/155 [00:46<00:00,  3.34it/s]\n",
      "100%|██████████| 15/15 [00:09<00:00,  1.59it/s]\n",
      "100%|██████████| 18/18 [00:05<00:00,  3.22it/s]\n"
     ]
    },
    {
     "name": "stdout",
     "output_type": "stream",
     "text": [
      "1m 1s\n",
      "Early Stopping Counter = 12\n",
      "Epoch 50/300\n"
     ]
    },
    {
     "name": "stderr",
     "output_type": "stream",
     "text": [
      "100%|██████████| 155/155 [00:46<00:00,  3.34it/s]\n",
      "100%|██████████| 15/15 [00:09<00:00,  1.61it/s]\n",
      "100%|██████████| 18/18 [00:05<00:00,  3.25it/s]\n"
     ]
    },
    {
     "name": "stdout",
     "output_type": "stream",
     "text": [
      "1m 1s\n",
      "Consistency Loss declined to 0.024651916697621346\n",
      "Early Stopping Counter = 0\n",
      "Epoch 51/300\n"
     ]
    },
    {
     "name": "stderr",
     "output_type": "stream",
     "text": [
      "100%|██████████| 155/155 [00:46<00:00,  3.33it/s]\n",
      "100%|██████████| 15/15 [00:09<00:00,  1.62it/s]\n",
      "100%|██████████| 18/18 [00:05<00:00,  3.36it/s]\n"
     ]
    },
    {
     "name": "stdout",
     "output_type": "stream",
     "text": [
      "1m 1s\n",
      "Consistency Loss declined to 0.024385359200338522\n",
      "Early Stopping Counter = 0\n",
      "Epoch 52/300\n"
     ]
    },
    {
     "name": "stderr",
     "output_type": "stream",
     "text": [
      "100%|██████████| 155/155 [00:46<00:00,  3.32it/s]\n",
      "100%|██████████| 15/15 [00:09<00:00,  1.59it/s]\n",
      "100%|██████████| 18/18 [00:05<00:00,  3.25it/s]\n"
     ]
    },
    {
     "name": "stdout",
     "output_type": "stream",
     "text": [
      "1m 2s\n",
      "Consistency Loss declined to 0.02128714881837368\n",
      "Early Stopping Counter = 0\n",
      "Epoch 53/300\n"
     ]
    },
    {
     "name": "stderr",
     "output_type": "stream",
     "text": [
      "100%|██████████| 155/155 [00:46<00:00,  3.32it/s]\n",
      "100%|██████████| 15/15 [00:09<00:00,  1.59it/s]\n",
      "100%|██████████| 18/18 [00:05<00:00,  3.31it/s]\n"
     ]
    },
    {
     "name": "stdout",
     "output_type": "stream",
     "text": [
      "1m 2s\n",
      "Early Stopping Counter = 1\n",
      "Epoch 54/300\n"
     ]
    },
    {
     "name": "stderr",
     "output_type": "stream",
     "text": [
      "100%|██████████| 155/155 [00:46<00:00,  3.33it/s]\n",
      "100%|██████████| 15/15 [00:09<00:00,  1.61it/s]\n",
      "100%|██████████| 18/18 [00:05<00:00,  3.27it/s]\n"
     ]
    },
    {
     "name": "stdout",
     "output_type": "stream",
     "text": [
      "1m 1s\n",
      "Early Stopping Counter = 2\n",
      "Epoch 55/300\n"
     ]
    },
    {
     "name": "stderr",
     "output_type": "stream",
     "text": [
      "100%|██████████| 155/155 [00:46<00:00,  3.30it/s]\n",
      "100%|██████████| 15/15 [00:09<00:00,  1.58it/s]\n",
      "100%|██████████| 18/18 [00:05<00:00,  3.30it/s]\n"
     ]
    },
    {
     "name": "stdout",
     "output_type": "stream",
     "text": [
      "1m 2s\n",
      "Early Stopping Counter = 3\n",
      "Epoch 56/300\n"
     ]
    },
    {
     "name": "stderr",
     "output_type": "stream",
     "text": [
      "100%|██████████| 155/155 [00:46<00:00,  3.31it/s]\n",
      "100%|██████████| 15/15 [00:09<00:00,  1.59it/s]\n",
      "100%|██████████| 18/18 [00:05<00:00,  3.28it/s]\n"
     ]
    },
    {
     "name": "stdout",
     "output_type": "stream",
     "text": [
      "1m 2s\n",
      "Early Stopping Counter = 4\n",
      "Epoch 57/300\n"
     ]
    },
    {
     "name": "stderr",
     "output_type": "stream",
     "text": [
      "100%|██████████| 155/155 [00:47<00:00,  3.27it/s]\n",
      "100%|██████████| 15/15 [00:09<00:00,  1.61it/s]\n",
      "100%|██████████| 18/18 [00:05<00:00,  3.24it/s]\n"
     ]
    },
    {
     "name": "stdout",
     "output_type": "stream",
     "text": [
      "1m 2s\n",
      "Early Stopping Counter = 5\n",
      "Epoch 58/300\n"
     ]
    },
    {
     "name": "stderr",
     "output_type": "stream",
     "text": [
      "100%|██████████| 155/155 [00:46<00:00,  3.31it/s]\n",
      "100%|██████████| 15/15 [00:09<00:00,  1.59it/s]\n",
      "100%|██████████| 18/18 [00:05<00:00,  3.29it/s]\n"
     ]
    },
    {
     "name": "stdout",
     "output_type": "stream",
     "text": [
      "1m 2s\n",
      "Consistency Loss declined to 0.0203246317182978\n",
      "Early Stopping Counter = 0\n",
      "Epoch 59/300\n"
     ]
    },
    {
     "name": "stderr",
     "output_type": "stream",
     "text": [
      "100%|██████████| 155/155 [00:47<00:00,  3.30it/s]\n",
      "100%|██████████| 15/15 [00:09<00:00,  1.62it/s]\n",
      "100%|██████████| 18/18 [00:05<00:00,  3.25it/s]\n"
     ]
    },
    {
     "name": "stdout",
     "output_type": "stream",
     "text": [
      "1m 2s\n",
      "Early Stopping Counter = 1\n",
      "Epoch 60/300\n"
     ]
    },
    {
     "name": "stderr",
     "output_type": "stream",
     "text": [
      "100%|██████████| 155/155 [00:46<00:00,  3.33it/s]\n",
      "100%|██████████| 15/15 [00:09<00:00,  1.61it/s]\n",
      "100%|██████████| 18/18 [00:05<00:00,  3.34it/s]\n"
     ]
    },
    {
     "name": "stdout",
     "output_type": "stream",
     "text": [
      "1m 1s\n",
      "Early Stopping Counter = 2\n",
      "Epoch 61/300\n"
     ]
    },
    {
     "name": "stderr",
     "output_type": "stream",
     "text": [
      "100%|██████████| 155/155 [00:46<00:00,  3.33it/s]\n",
      "100%|██████████| 15/15 [00:09<00:00,  1.62it/s]\n",
      "100%|██████████| 18/18 [00:05<00:00,  3.24it/s]\n"
     ]
    },
    {
     "name": "stdout",
     "output_type": "stream",
     "text": [
      "1m 1s\n",
      "Early Stopping Counter = 3\n",
      "Epoch 62/300\n"
     ]
    },
    {
     "name": "stderr",
     "output_type": "stream",
     "text": [
      "100%|██████████| 155/155 [00:46<00:00,  3.33it/s]\n",
      "100%|██████████| 15/15 [00:09<00:00,  1.59it/s]\n",
      "100%|██████████| 18/18 [00:05<00:00,  3.29it/s]\n"
     ]
    },
    {
     "name": "stdout",
     "output_type": "stream",
     "text": [
      "1m 1s\n",
      "Early Stopping Counter = 4\n",
      "Epoch 63/300\n"
     ]
    },
    {
     "name": "stderr",
     "output_type": "stream",
     "text": [
      "100%|██████████| 155/155 [00:46<00:00,  3.33it/s]\n",
      "100%|██████████| 15/15 [00:09<00:00,  1.58it/s]\n",
      "100%|██████████| 18/18 [00:05<00:00,  3.25it/s]\n"
     ]
    },
    {
     "name": "stdout",
     "output_type": "stream",
     "text": [
      "1m 2s\n",
      "Early Stopping Counter = 5\n",
      "Epoch 64/300\n"
     ]
    },
    {
     "name": "stderr",
     "output_type": "stream",
     "text": [
      "100%|██████████| 155/155 [00:46<00:00,  3.32it/s]\n",
      "100%|██████████| 15/15 [00:09<00:00,  1.61it/s]\n",
      "100%|██████████| 18/18 [00:05<00:00,  3.28it/s]\n"
     ]
    },
    {
     "name": "stdout",
     "output_type": "stream",
     "text": [
      "1m 2s\n",
      "Consistency Loss declined to 0.018359314215679965\n",
      "Early Stopping Counter = 0\n",
      "Epoch 65/300\n"
     ]
    },
    {
     "name": "stderr",
     "output_type": "stream",
     "text": [
      "100%|██████████| 155/155 [00:46<00:00,  3.32it/s]\n",
      "100%|██████████| 15/15 [00:09<00:00,  1.60it/s]\n",
      "100%|██████████| 18/18 [00:05<00:00,  3.29it/s]\n"
     ]
    },
    {
     "name": "stdout",
     "output_type": "stream",
     "text": [
      "1m 2s\n",
      "Early Stopping Counter = 1\n",
      "Epoch 66/300\n"
     ]
    },
    {
     "name": "stderr",
     "output_type": "stream",
     "text": [
      "100%|██████████| 155/155 [00:46<00:00,  3.31it/s]\n",
      "100%|██████████| 15/15 [00:09<00:00,  1.59it/s]\n",
      "100%|██████████| 18/18 [00:05<00:00,  3.23it/s]\n"
     ]
    },
    {
     "name": "stdout",
     "output_type": "stream",
     "text": [
      "1m 2s\n",
      "Early Stopping Counter = 2\n",
      "Epoch 67/300\n"
     ]
    },
    {
     "name": "stderr",
     "output_type": "stream",
     "text": [
      "100%|██████████| 155/155 [00:46<00:00,  3.33it/s]\n",
      "100%|██████████| 15/15 [00:09<00:00,  1.60it/s]\n",
      "100%|██████████| 18/18 [00:05<00:00,  3.35it/s]\n"
     ]
    },
    {
     "name": "stdout",
     "output_type": "stream",
     "text": [
      "1m 1s\n",
      "Early Stopping Counter = 3\n",
      "Epoch 68/300\n"
     ]
    },
    {
     "name": "stderr",
     "output_type": "stream",
     "text": [
      "100%|██████████| 155/155 [00:46<00:00,  3.33it/s]\n",
      "100%|██████████| 15/15 [00:09<00:00,  1.62it/s]\n",
      "100%|██████████| 18/18 [00:05<00:00,  3.30it/s]\n"
     ]
    },
    {
     "name": "stdout",
     "output_type": "stream",
     "text": [
      "1m 1s\n",
      "Early Stopping Counter = 4\n",
      "Epoch 69/300\n"
     ]
    },
    {
     "name": "stderr",
     "output_type": "stream",
     "text": [
      "100%|██████████| 155/155 [00:46<00:00,  3.34it/s]\n",
      "100%|██████████| 15/15 [00:09<00:00,  1.59it/s]\n",
      "100%|██████████| 18/18 [00:05<00:00,  3.23it/s]\n"
     ]
    },
    {
     "name": "stdout",
     "output_type": "stream",
     "text": [
      "1m 1s\n",
      "Early Stopping Counter = 5\n",
      "Epoch 70/300\n"
     ]
    },
    {
     "name": "stderr",
     "output_type": "stream",
     "text": [
      "100%|██████████| 155/155 [00:46<00:00,  3.33it/s]\n",
      "100%|██████████| 15/15 [00:09<00:00,  1.59it/s]\n",
      "100%|██████████| 18/18 [00:05<00:00,  3.33it/s]\n"
     ]
    },
    {
     "name": "stdout",
     "output_type": "stream",
     "text": [
      "1m 1s\n",
      "Early Stopping Counter = 6\n",
      "Epoch 71/300\n"
     ]
    },
    {
     "name": "stderr",
     "output_type": "stream",
     "text": [
      "100%|██████████| 155/155 [00:46<00:00,  3.34it/s]\n",
      "100%|██████████| 15/15 [00:09<00:00,  1.59it/s]\n",
      "100%|██████████| 18/18 [00:05<00:00,  3.28it/s]\n"
     ]
    },
    {
     "name": "stdout",
     "output_type": "stream",
     "text": [
      "1m 1s\n",
      "Early Stopping Counter = 7\n",
      "Epoch 72/300\n"
     ]
    },
    {
     "name": "stderr",
     "output_type": "stream",
     "text": [
      "100%|██████████| 155/155 [00:46<00:00,  3.35it/s]\n",
      "100%|██████████| 15/15 [00:09<00:00,  1.60it/s]\n",
      "100%|██████████| 18/18 [00:05<00:00,  3.28it/s]\n"
     ]
    },
    {
     "name": "stdout",
     "output_type": "stream",
     "text": [
      "1m 1s\n",
      "Early Stopping Counter = 8\n",
      "Epoch 73/300\n"
     ]
    },
    {
     "name": "stderr",
     "output_type": "stream",
     "text": [
      "100%|██████████| 155/155 [00:46<00:00,  3.35it/s]\n",
      "100%|██████████| 15/15 [00:09<00:00,  1.59it/s]\n",
      "100%|██████████| 18/18 [00:05<00:00,  3.39it/s]\n"
     ]
    },
    {
     "name": "stdout",
     "output_type": "stream",
     "text": [
      "1m 1s\n",
      "Early Stopping Counter = 9\n",
      "Epoch 74/300\n"
     ]
    },
    {
     "name": "stderr",
     "output_type": "stream",
     "text": [
      "100%|██████████| 155/155 [00:46<00:00,  3.35it/s]\n",
      "100%|██████████| 15/15 [00:09<00:00,  1.59it/s]\n",
      "100%|██████████| 18/18 [00:05<00:00,  3.29it/s]\n"
     ]
    },
    {
     "name": "stdout",
     "output_type": "stream",
     "text": [
      "1m 1s\n",
      "Consistency Loss declined to 0.01804709838082393\n",
      "Early Stopping Counter = 0\n",
      "Epoch 75/300\n"
     ]
    },
    {
     "name": "stderr",
     "output_type": "stream",
     "text": [
      "100%|██████████| 155/155 [00:46<00:00,  3.33it/s]\n",
      "100%|██████████| 15/15 [00:09<00:00,  1.60it/s]\n",
      "100%|██████████| 18/18 [00:05<00:00,  3.27it/s]\n"
     ]
    },
    {
     "name": "stdout",
     "output_type": "stream",
     "text": [
      "1m 1s\n",
      "Early Stopping Counter = 1\n",
      "Epoch 76/300\n"
     ]
    },
    {
     "name": "stderr",
     "output_type": "stream",
     "text": [
      "100%|██████████| 155/155 [00:46<00:00,  3.34it/s]\n",
      "100%|██████████| 15/15 [00:09<00:00,  1.59it/s]\n",
      "100%|██████████| 18/18 [00:05<00:00,  3.27it/s]\n"
     ]
    },
    {
     "name": "stdout",
     "output_type": "stream",
     "text": [
      "1m 1s\n",
      "Early Stopping Counter = 2\n",
      "Epoch 77/300\n"
     ]
    },
    {
     "name": "stderr",
     "output_type": "stream",
     "text": [
      "100%|██████████| 155/155 [00:46<00:00,  3.33it/s]\n",
      "100%|██████████| 15/15 [00:09<00:00,  1.59it/s]\n",
      "100%|██████████| 18/18 [00:05<00:00,  3.29it/s]\n"
     ]
    },
    {
     "name": "stdout",
     "output_type": "stream",
     "text": [
      "1m 1s\n",
      "Early Stopping Counter = 3\n",
      "Epoch 78/300\n"
     ]
    },
    {
     "name": "stderr",
     "output_type": "stream",
     "text": [
      "100%|██████████| 155/155 [00:46<00:00,  3.34it/s]\n",
      "100%|██████████| 15/15 [00:09<00:00,  1.62it/s]\n",
      "100%|██████████| 18/18 [00:05<00:00,  3.27it/s]\n"
     ]
    },
    {
     "name": "stdout",
     "output_type": "stream",
     "text": [
      "1m 1s\n",
      "Consistency Loss declined to 0.016919779715438683\n",
      "Early Stopping Counter = 0\n",
      "Epoch 79/300\n"
     ]
    },
    {
     "name": "stderr",
     "output_type": "stream",
     "text": [
      "100%|██████████| 155/155 [00:46<00:00,  3.32it/s]\n",
      "100%|██████████| 15/15 [00:09<00:00,  1.52it/s]\n",
      "100%|██████████| 18/18 [00:05<00:00,  3.27it/s]\n"
     ]
    },
    {
     "name": "stdout",
     "output_type": "stream",
     "text": [
      "1m 2s\n",
      "Early Stopping Counter = 1\n",
      "Epoch 80/300\n"
     ]
    },
    {
     "name": "stderr",
     "output_type": "stream",
     "text": [
      "100%|██████████| 155/155 [00:46<00:00,  3.34it/s]\n",
      "100%|██████████| 15/15 [00:09<00:00,  1.62it/s]\n",
      "100%|██████████| 18/18 [00:05<00:00,  3.28it/s]\n"
     ]
    },
    {
     "name": "stdout",
     "output_type": "stream",
     "text": [
      "1m 1s\n",
      "Consistency Loss declined to 0.016628462945421536\n",
      "Early Stopping Counter = 0\n",
      "Epoch 81/300\n"
     ]
    },
    {
     "name": "stderr",
     "output_type": "stream",
     "text": [
      "100%|██████████| 155/155 [00:46<00:00,  3.32it/s]\n",
      "100%|██████████| 15/15 [00:09<00:00,  1.62it/s]\n",
      "100%|██████████| 18/18 [00:05<00:00,  3.36it/s]\n"
     ]
    },
    {
     "name": "stdout",
     "output_type": "stream",
     "text": [
      "1m 1s\n",
      "Consistency Loss declined to 0.01596208196133375\n",
      "Early Stopping Counter = 0\n",
      "Epoch 82/300\n"
     ]
    },
    {
     "name": "stderr",
     "output_type": "stream",
     "text": [
      "100%|██████████| 155/155 [00:46<00:00,  3.32it/s]\n",
      "100%|██████████| 15/15 [00:09<00:00,  1.60it/s]\n",
      "100%|██████████| 18/18 [00:05<00:00,  3.31it/s]\n"
     ]
    },
    {
     "name": "stdout",
     "output_type": "stream",
     "text": [
      "1m 2s\n",
      "Early Stopping Counter = 1\n",
      "Epoch 83/300\n"
     ]
    },
    {
     "name": "stderr",
     "output_type": "stream",
     "text": [
      "100%|██████████| 155/155 [00:46<00:00,  3.32it/s]\n",
      "100%|██████████| 15/15 [00:09<00:00,  1.60it/s]\n",
      "100%|██████████| 18/18 [00:05<00:00,  3.25it/s]\n"
     ]
    },
    {
     "name": "stdout",
     "output_type": "stream",
     "text": [
      "1m 2s\n",
      "Early Stopping Counter = 2\n",
      "Epoch 84/300\n"
     ]
    },
    {
     "name": "stderr",
     "output_type": "stream",
     "text": [
      "100%|██████████| 155/155 [00:46<00:00,  3.33it/s]\n",
      "100%|██████████| 15/15 [00:09<00:00,  1.60it/s]\n",
      "100%|██████████| 18/18 [00:05<00:00,  3.33it/s]\n"
     ]
    },
    {
     "name": "stdout",
     "output_type": "stream",
     "text": [
      "1m 1s\n",
      "Consistency Loss declined to 0.015817522754271826\n",
      "Early Stopping Counter = 0\n",
      "Epoch 85/300\n"
     ]
    },
    {
     "name": "stderr",
     "output_type": "stream",
     "text": [
      "100%|██████████| 155/155 [00:46<00:00,  3.32it/s]\n",
      "100%|██████████| 15/15 [00:09<00:00,  1.58it/s]\n",
      "100%|██████████| 18/18 [00:05<00:00,  3.31it/s]\n"
     ]
    },
    {
     "name": "stdout",
     "output_type": "stream",
     "text": [
      "1m 2s\n",
      "Consistency Loss declined to 0.015403817625095446\n",
      "Early Stopping Counter = 0\n",
      "Epoch 86/300\n"
     ]
    },
    {
     "name": "stderr",
     "output_type": "stream",
     "text": [
      "100%|██████████| 155/155 [00:46<00:00,  3.32it/s]\n",
      "100%|██████████| 15/15 [00:09<00:00,  1.52it/s]\n",
      "100%|██████████| 18/18 [00:05<00:00,  3.24it/s]\n"
     ]
    },
    {
     "name": "stdout",
     "output_type": "stream",
     "text": [
      "1m 2s\n",
      "Early Stopping Counter = 1\n",
      "Epoch 87/300\n"
     ]
    },
    {
     "name": "stderr",
     "output_type": "stream",
     "text": [
      "100%|██████████| 155/155 [00:46<00:00,  3.35it/s]\n",
      "100%|██████████| 15/15 [00:09<00:00,  1.62it/s]\n",
      "100%|██████████| 18/18 [00:05<00:00,  3.25it/s]\n"
     ]
    },
    {
     "name": "stdout",
     "output_type": "stream",
     "text": [
      "1m 1s\n",
      "Early Stopping Counter = 2\n",
      "Epoch 88/300\n"
     ]
    },
    {
     "name": "stderr",
     "output_type": "stream",
     "text": [
      "100%|██████████| 155/155 [00:46<00:00,  3.34it/s]\n",
      "100%|██████████| 15/15 [00:09<00:00,  1.60it/s]\n",
      "100%|██████████| 18/18 [00:05<00:00,  3.30it/s]\n"
     ]
    },
    {
     "name": "stdout",
     "output_type": "stream",
     "text": [
      "1m 1s\n",
      "Early Stopping Counter = 3\n",
      "Epoch 89/300\n"
     ]
    },
    {
     "name": "stderr",
     "output_type": "stream",
     "text": [
      "100%|██████████| 155/155 [00:46<00:00,  3.35it/s]\n",
      "100%|██████████| 15/15 [00:09<00:00,  1.60it/s]\n",
      "100%|██████████| 18/18 [00:05<00:00,  3.28it/s]\n"
     ]
    },
    {
     "name": "stdout",
     "output_type": "stream",
     "text": [
      "1m 1s\n",
      "Consistency Loss declined to 0.01477464617540439\n",
      "Early Stopping Counter = 0\n",
      "Epoch 90/300\n"
     ]
    },
    {
     "name": "stderr",
     "output_type": "stream",
     "text": [
      "100%|██████████| 155/155 [00:46<00:00,  3.33it/s]\n",
      "100%|██████████| 15/15 [00:09<00:00,  1.58it/s]\n",
      "100%|██████████| 18/18 [00:05<00:00,  3.21it/s]\n"
     ]
    },
    {
     "name": "stdout",
     "output_type": "stream",
     "text": [
      "1m 2s\n",
      "Early Stopping Counter = 1\n",
      "Epoch 91/300\n"
     ]
    },
    {
     "name": "stderr",
     "output_type": "stream",
     "text": [
      "100%|██████████| 155/155 [00:46<00:00,  3.35it/s]\n",
      "100%|██████████| 15/15 [00:09<00:00,  1.58it/s]\n",
      "100%|██████████| 18/18 [00:05<00:00,  3.24it/s]\n"
     ]
    },
    {
     "name": "stdout",
     "output_type": "stream",
     "text": [
      "1m 1s\n",
      "Consistency Loss declined to 0.01434117058912913\n",
      "Early Stopping Counter = 0\n",
      "Epoch 92/300\n"
     ]
    },
    {
     "name": "stderr",
     "output_type": "stream",
     "text": [
      "100%|██████████| 155/155 [00:46<00:00,  3.34it/s]\n",
      "100%|██████████| 15/15 [00:09<00:00,  1.61it/s]\n",
      "100%|██████████| 18/18 [00:05<00:00,  3.26it/s]\n"
     ]
    },
    {
     "name": "stdout",
     "output_type": "stream",
     "text": [
      "1m 1s\n",
      "Early Stopping Counter = 1\n",
      "Epoch 93/300\n"
     ]
    },
    {
     "name": "stderr",
     "output_type": "stream",
     "text": [
      "100%|██████████| 155/155 [00:46<00:00,  3.35it/s]\n",
      "100%|██████████| 15/15 [00:09<00:00,  1.62it/s]\n",
      "100%|██████████| 18/18 [00:05<00:00,  3.26it/s]\n"
     ]
    },
    {
     "name": "stdout",
     "output_type": "stream",
     "text": [
      "1m 1s\n",
      "Early Stopping Counter = 2\n",
      "Epoch 94/300\n"
     ]
    },
    {
     "name": "stderr",
     "output_type": "stream",
     "text": [
      "100%|██████████| 155/155 [00:46<00:00,  3.34it/s]\n",
      "100%|██████████| 15/15 [00:09<00:00,  1.58it/s]\n",
      "100%|██████████| 18/18 [00:05<00:00,  3.28it/s]\n"
     ]
    },
    {
     "name": "stdout",
     "output_type": "stream",
     "text": [
      "1m 1s\n",
      "Consistency Loss declined to 0.014233602459232013\n",
      "Early Stopping Counter = 0\n",
      "Epoch 95/300\n"
     ]
    },
    {
     "name": "stderr",
     "output_type": "stream",
     "text": [
      "100%|██████████| 155/155 [00:46<00:00,  3.32it/s]\n",
      "100%|██████████| 15/15 [00:09<00:00,  1.59it/s]\n",
      "100%|██████████| 18/18 [00:05<00:00,  3.29it/s]\n"
     ]
    },
    {
     "name": "stdout",
     "output_type": "stream",
     "text": [
      "1m 2s\n",
      "Consistency Loss declined to 0.013380133671065171\n",
      "Early Stopping Counter = 0\n",
      "Epoch 96/300\n"
     ]
    },
    {
     "name": "stderr",
     "output_type": "stream",
     "text": [
      "100%|██████████| 155/155 [00:46<00:00,  3.32it/s]\n",
      "100%|██████████| 15/15 [00:09<00:00,  1.60it/s]\n",
      "100%|██████████| 18/18 [00:05<00:00,  3.27it/s]\n"
     ]
    },
    {
     "name": "stdout",
     "output_type": "stream",
     "text": [
      "1m 2s\n",
      "Consistency Loss declined to 0.012440510218342145\n",
      "Early Stopping Counter = 0\n",
      "Epoch 97/300\n"
     ]
    },
    {
     "name": "stderr",
     "output_type": "stream",
     "text": [
      "100%|██████████| 155/155 [00:46<00:00,  3.33it/s]\n",
      "100%|██████████| 15/15 [00:09<00:00,  1.61it/s]\n",
      "100%|██████████| 18/18 [00:05<00:00,  3.35it/s]\n"
     ]
    },
    {
     "name": "stdout",
     "output_type": "stream",
     "text": [
      "1m 1s\n",
      "Early Stopping Counter = 1\n",
      "Epoch 98/300\n"
     ]
    },
    {
     "name": "stderr",
     "output_type": "stream",
     "text": [
      "100%|██████████| 155/155 [00:46<00:00,  3.35it/s]\n",
      "100%|██████████| 15/15 [00:09<00:00,  1.62it/s]\n",
      "100%|██████████| 18/18 [00:05<00:00,  3.28it/s]\n"
     ]
    },
    {
     "name": "stdout",
     "output_type": "stream",
     "text": [
      "1m 1s\n",
      "Early Stopping Counter = 2\n",
      "Epoch 99/300\n"
     ]
    },
    {
     "name": "stderr",
     "output_type": "stream",
     "text": [
      "100%|██████████| 155/155 [00:46<00:00,  3.34it/s]\n",
      "100%|██████████| 15/15 [00:09<00:00,  1.60it/s]\n",
      "100%|██████████| 18/18 [00:05<00:00,  3.30it/s]\n"
     ]
    },
    {
     "name": "stdout",
     "output_type": "stream",
     "text": [
      "1m 1s\n",
      "Early Stopping Counter = 3\n",
      "Epoch 100/300\n"
     ]
    },
    {
     "name": "stderr",
     "output_type": "stream",
     "text": [
      "100%|██████████| 155/155 [00:46<00:00,  3.35it/s]\n",
      "100%|██████████| 15/15 [00:09<00:00,  1.60it/s]\n",
      "100%|██████████| 18/18 [00:05<00:00,  3.34it/s]\n"
     ]
    },
    {
     "name": "stdout",
     "output_type": "stream",
     "text": [
      "1m 1s\n",
      "Early Stopping Counter = 4\n",
      "Epoch 101/300\n"
     ]
    },
    {
     "name": "stderr",
     "output_type": "stream",
     "text": [
      "100%|██████████| 155/155 [00:46<00:00,  3.34it/s]\n",
      "100%|██████████| 15/15 [00:09<00:00,  1.60it/s]\n",
      "100%|██████████| 18/18 [00:05<00:00,  3.28it/s]\n"
     ]
    },
    {
     "name": "stdout",
     "output_type": "stream",
     "text": [
      "1m 1s\n",
      "Early Stopping Counter = 5\n",
      "Epoch 102/300\n"
     ]
    },
    {
     "name": "stderr",
     "output_type": "stream",
     "text": [
      "100%|██████████| 155/155 [00:46<00:00,  3.34it/s]\n",
      "100%|██████████| 15/15 [00:09<00:00,  1.60it/s]\n",
      "100%|██████████| 18/18 [00:05<00:00,  3.33it/s]\n"
     ]
    },
    {
     "name": "stdout",
     "output_type": "stream",
     "text": [
      "1m 1s\n",
      "Early Stopping Counter = 6\n",
      "Epoch 103/300\n"
     ]
    },
    {
     "name": "stderr",
     "output_type": "stream",
     "text": [
      "100%|██████████| 155/155 [00:46<00:00,  3.34it/s]\n",
      "100%|██████████| 15/15 [00:09<00:00,  1.59it/s]\n",
      "100%|██████████| 18/18 [00:05<00:00,  3.33it/s]\n"
     ]
    },
    {
     "name": "stdout",
     "output_type": "stream",
     "text": [
      "1m 1s\n",
      "Consistency Loss declined to 0.012256529896209638\n",
      "Early Stopping Counter = 0\n",
      "Epoch 104/300\n"
     ]
    },
    {
     "name": "stderr",
     "output_type": "stream",
     "text": [
      "100%|██████████| 155/155 [00:46<00:00,  3.33it/s]\n",
      "100%|██████████| 15/15 [00:09<00:00,  1.59it/s]\n",
      "100%|██████████| 18/18 [00:05<00:00,  3.29it/s]\n"
     ]
    },
    {
     "name": "stdout",
     "output_type": "stream",
     "text": [
      "1m 2s\n",
      "Early Stopping Counter = 1\n",
      "Epoch 105/300\n"
     ]
    },
    {
     "name": "stderr",
     "output_type": "stream",
     "text": [
      "100%|██████████| 155/155 [00:46<00:00,  3.35it/s]\n",
      "100%|██████████| 15/15 [00:09<00:00,  1.61it/s]\n",
      "100%|██████████| 18/18 [00:05<00:00,  3.34it/s]\n"
     ]
    },
    {
     "name": "stdout",
     "output_type": "stream",
     "text": [
      "1m 1s\n",
      "Early Stopping Counter = 2\n",
      "Epoch 106/300\n"
     ]
    },
    {
     "name": "stderr",
     "output_type": "stream",
     "text": [
      "100%|██████████| 155/155 [00:46<00:00,  3.34it/s]\n",
      "100%|██████████| 15/15 [00:09<00:00,  1.59it/s]\n",
      "100%|██████████| 18/18 [00:05<00:00,  3.30it/s]\n"
     ]
    },
    {
     "name": "stdout",
     "output_type": "stream",
     "text": [
      "1m 1s\n",
      "Early Stopping Counter = 3\n",
      "Epoch 107/300\n"
     ]
    },
    {
     "name": "stderr",
     "output_type": "stream",
     "text": [
      "100%|██████████| 155/155 [00:46<00:00,  3.35it/s]\n",
      "100%|██████████| 15/15 [00:09<00:00,  1.60it/s]\n",
      "100%|██████████| 18/18 [00:05<00:00,  3.25it/s]\n"
     ]
    },
    {
     "name": "stdout",
     "output_type": "stream",
     "text": [
      "1m 1s\n",
      "Early Stopping Counter = 4\n",
      "Epoch 108/300\n"
     ]
    },
    {
     "name": "stderr",
     "output_type": "stream",
     "text": [
      "100%|██████████| 155/155 [00:46<00:00,  3.35it/s]\n",
      "100%|██████████| 15/15 [00:09<00:00,  1.58it/s]\n",
      "100%|██████████| 18/18 [00:05<00:00,  3.34it/s]\n"
     ]
    },
    {
     "name": "stdout",
     "output_type": "stream",
     "text": [
      "1m 1s\n",
      "Early Stopping Counter = 5\n",
      "Epoch 109/300\n"
     ]
    },
    {
     "name": "stderr",
     "output_type": "stream",
     "text": [
      "100%|██████████| 155/155 [00:46<00:00,  3.36it/s]\n",
      "100%|██████████| 15/15 [00:09<00:00,  1.58it/s]\n",
      "100%|██████████| 18/18 [00:05<00:00,  3.35it/s]\n"
     ]
    },
    {
     "name": "stdout",
     "output_type": "stream",
     "text": [
      "1m 1s\n",
      "Early Stopping Counter = 6\n",
      "Epoch 110/300\n"
     ]
    },
    {
     "name": "stderr",
     "output_type": "stream",
     "text": [
      "100%|██████████| 155/155 [00:46<00:00,  3.33it/s]\n",
      "100%|██████████| 15/15 [00:09<00:00,  1.60it/s]\n",
      "100%|██████████| 18/18 [00:05<00:00,  3.31it/s]\n"
     ]
    },
    {
     "name": "stdout",
     "output_type": "stream",
     "text": [
      "1m 1s\n",
      "Early Stopping Counter = 7\n",
      "Epoch 111/300\n"
     ]
    },
    {
     "name": "stderr",
     "output_type": "stream",
     "text": [
      "100%|██████████| 155/155 [00:46<00:00,  3.33it/s]\n",
      "100%|██████████| 15/15 [00:09<00:00,  1.59it/s]\n",
      "100%|██████████| 18/18 [00:05<00:00,  3.29it/s]\n"
     ]
    },
    {
     "name": "stdout",
     "output_type": "stream",
     "text": [
      "1m 1s\n",
      "Consistency Loss declined to 0.0120838962495327\n",
      "Early Stopping Counter = 0\n",
      "Epoch 112/300\n"
     ]
    },
    {
     "name": "stderr",
     "output_type": "stream",
     "text": [
      "100%|██████████| 155/155 [00:46<00:00,  3.31it/s]\n",
      "100%|██████████| 15/15 [00:09<00:00,  1.60it/s]\n",
      "100%|██████████| 18/18 [00:05<00:00,  3.26it/s]\n"
     ]
    },
    {
     "name": "stdout",
     "output_type": "stream",
     "text": [
      "1m 2s\n",
      "Early Stopping Counter = 1\n",
      "Epoch 113/300\n"
     ]
    },
    {
     "name": "stderr",
     "output_type": "stream",
     "text": [
      "100%|██████████| 155/155 [00:46<00:00,  3.34it/s]\n",
      "100%|██████████| 15/15 [00:09<00:00,  1.59it/s]\n",
      "100%|██████████| 18/18 [00:05<00:00,  3.36it/s]\n"
     ]
    },
    {
     "name": "stdout",
     "output_type": "stream",
     "text": [
      "1m 1s\n",
      "Consistency Loss declined to 0.011816275119781495\n",
      "Early Stopping Counter = 0\n",
      "Epoch 114/300\n"
     ]
    },
    {
     "name": "stderr",
     "output_type": "stream",
     "text": [
      "100%|██████████| 155/155 [00:46<00:00,  3.33it/s]\n",
      "100%|██████████| 15/15 [00:09<00:00,  1.61it/s]\n",
      "100%|██████████| 18/18 [00:05<00:00,  3.23it/s]\n"
     ]
    },
    {
     "name": "stdout",
     "output_type": "stream",
     "text": [
      "1m 1s\n",
      "Consistency Loss declined to 0.011447361980875334\n",
      "Early Stopping Counter = 0\n",
      "Epoch 115/300\n"
     ]
    },
    {
     "name": "stderr",
     "output_type": "stream",
     "text": [
      "100%|██████████| 155/155 [00:46<00:00,  3.33it/s]\n",
      "100%|██████████| 15/15 [00:09<00:00,  1.61it/s]\n",
      "100%|██████████| 18/18 [00:05<00:00,  3.27it/s]\n"
     ]
    },
    {
     "name": "stdout",
     "output_type": "stream",
     "text": [
      "1m 1s\n",
      "Consistency Loss declined to 0.011323298312102754\n",
      "Early Stopping Counter = 0\n",
      "Epoch 116/300\n"
     ]
    },
    {
     "name": "stderr",
     "output_type": "stream",
     "text": [
      "100%|██████████| 155/155 [00:46<00:00,  3.33it/s]\n",
      "100%|██████████| 15/15 [00:09<00:00,  1.61it/s]\n",
      "100%|██████████| 18/18 [00:05<00:00,  3.27it/s]\n"
     ]
    },
    {
     "name": "stdout",
     "output_type": "stream",
     "text": [
      "1m 1s\n",
      "Consistency Loss declined to 0.011176413437351585\n",
      "Early Stopping Counter = 0\n",
      "Epoch 117/300\n"
     ]
    },
    {
     "name": "stderr",
     "output_type": "stream",
     "text": [
      "100%|██████████| 155/155 [00:46<00:00,  3.33it/s]\n",
      "100%|██████████| 15/15 [00:09<00:00,  1.60it/s]\n",
      "100%|██████████| 18/18 [00:05<00:00,  3.24it/s]\n"
     ]
    },
    {
     "name": "stdout",
     "output_type": "stream",
     "text": [
      "1m 2s\n",
      "Consistency Loss declined to 0.011065871641039848\n",
      "Early Stopping Counter = 0\n",
      "Epoch 118/300\n"
     ]
    },
    {
     "name": "stderr",
     "output_type": "stream",
     "text": [
      "100%|██████████| 155/155 [00:46<00:00,  3.33it/s]\n",
      "100%|██████████| 15/15 [00:09<00:00,  1.60it/s]\n",
      "100%|██████████| 18/18 [00:05<00:00,  3.29it/s]\n"
     ]
    },
    {
     "name": "stdout",
     "output_type": "stream",
     "text": [
      "1m 1s\n",
      "Early Stopping Counter = 1\n",
      "Epoch 119/300\n"
     ]
    },
    {
     "name": "stderr",
     "output_type": "stream",
     "text": [
      "100%|██████████| 155/155 [00:46<00:00,  3.35it/s]\n",
      "100%|██████████| 15/15 [00:09<00:00,  1.56it/s]\n",
      "100%|██████████| 18/18 [00:05<00:00,  3.31it/s]\n"
     ]
    },
    {
     "name": "stdout",
     "output_type": "stream",
     "text": [
      "1m 1s\n",
      "Early Stopping Counter = 2\n",
      "Epoch 120/300\n"
     ]
    },
    {
     "name": "stderr",
     "output_type": "stream",
     "text": [
      "100%|██████████| 155/155 [00:46<00:00,  3.35it/s]\n",
      "100%|██████████| 15/15 [00:09<00:00,  1.62it/s]\n",
      "100%|██████████| 18/18 [00:05<00:00,  3.25it/s]\n"
     ]
    },
    {
     "name": "stdout",
     "output_type": "stream",
     "text": [
      "1m 1s\n",
      "Consistency Loss declined to 0.010768357974787554\n",
      "Early Stopping Counter = 0\n",
      "Epoch 121/300\n"
     ]
    },
    {
     "name": "stderr",
     "output_type": "stream",
     "text": [
      "100%|██████████| 155/155 [00:46<00:00,  3.32it/s]\n",
      "100%|██████████| 15/15 [00:09<00:00,  1.60it/s]\n",
      "100%|██████████| 18/18 [00:05<00:00,  3.24it/s]\n"
     ]
    },
    {
     "name": "stdout",
     "output_type": "stream",
     "text": [
      "1m 2s\n",
      "Consistency Loss declined to 0.010734353462855022\n",
      "Early Stopping Counter = 0\n",
      "Epoch 122/300\n"
     ]
    },
    {
     "name": "stderr",
     "output_type": "stream",
     "text": [
      "100%|██████████| 155/155 [00:46<00:00,  3.33it/s]\n",
      "100%|██████████| 15/15 [00:09<00:00,  1.61it/s]\n",
      "100%|██████████| 18/18 [00:05<00:00,  3.38it/s]\n"
     ]
    },
    {
     "name": "stdout",
     "output_type": "stream",
     "text": [
      "1m 1s\n",
      "Early Stopping Counter = 1\n",
      "Epoch 123/300\n"
     ]
    },
    {
     "name": "stderr",
     "output_type": "stream",
     "text": [
      "100%|██████████| 155/155 [00:46<00:00,  3.35it/s]\n",
      "100%|██████████| 15/15 [00:09<00:00,  1.58it/s]\n",
      "100%|██████████| 18/18 [00:05<00:00,  3.24it/s]\n"
     ]
    },
    {
     "name": "stdout",
     "output_type": "stream",
     "text": [
      "1m 1s\n",
      "Early Stopping Counter = 2\n",
      "Epoch 124/300\n"
     ]
    },
    {
     "name": "stderr",
     "output_type": "stream",
     "text": [
      "100%|██████████| 155/155 [00:46<00:00,  3.33it/s]\n",
      "100%|██████████| 15/15 [00:09<00:00,  1.59it/s]\n",
      "100%|██████████| 18/18 [00:05<00:00,  3.24it/s]\n"
     ]
    },
    {
     "name": "stdout",
     "output_type": "stream",
     "text": [
      "1m 2s\n",
      "Consistency Loss declined to 0.010331229756896694\n",
      "Early Stopping Counter = 0\n",
      "Epoch 125/300\n"
     ]
    },
    {
     "name": "stderr",
     "output_type": "stream",
     "text": [
      "100%|██████████| 155/155 [00:46<00:00,  3.34it/s]\n",
      "100%|██████████| 15/15 [00:09<00:00,  1.58it/s]\n",
      "100%|██████████| 18/18 [00:05<00:00,  3.30it/s]\n"
     ]
    },
    {
     "name": "stdout",
     "output_type": "stream",
     "text": [
      "1m 1s\n",
      "Early Stopping Counter = 1\n",
      "Epoch 126/300\n"
     ]
    },
    {
     "name": "stderr",
     "output_type": "stream",
     "text": [
      "100%|██████████| 155/155 [00:46<00:00,  3.34it/s]\n",
      "100%|██████████| 15/15 [00:09<00:00,  1.59it/s]\n",
      "100%|██████████| 18/18 [00:05<00:00,  3.25it/s]\n"
     ]
    },
    {
     "name": "stdout",
     "output_type": "stream",
     "text": [
      "1m 1s\n",
      "Early Stopping Counter = 2\n",
      "Epoch 127/300\n"
     ]
    },
    {
     "name": "stderr",
     "output_type": "stream",
     "text": [
      "100%|██████████| 155/155 [00:46<00:00,  3.32it/s]\n",
      "100%|██████████| 15/15 [00:09<00:00,  1.59it/s]\n",
      "100%|██████████| 18/18 [00:05<00:00,  3.25it/s]\n"
     ]
    },
    {
     "name": "stdout",
     "output_type": "stream",
     "text": [
      "1m 2s\n",
      "Consistency Loss declined to 0.009893494782348473\n",
      "Early Stopping Counter = 0\n",
      "Epoch 128/300\n"
     ]
    },
    {
     "name": "stderr",
     "output_type": "stream",
     "text": [
      "100%|██████████| 155/155 [00:46<00:00,  3.31it/s]\n",
      "100%|██████████| 15/15 [00:09<00:00,  1.62it/s]\n",
      "100%|██████████| 18/18 [00:05<00:00,  3.27it/s]\n"
     ]
    },
    {
     "name": "stdout",
     "output_type": "stream",
     "text": [
      "1m 2s\n",
      "Consistency Loss declined to 0.009700800819943348\n",
      "Early Stopping Counter = 0\n",
      "Epoch 129/300\n"
     ]
    },
    {
     "name": "stderr",
     "output_type": "stream",
     "text": [
      "100%|██████████| 155/155 [00:46<00:00,  3.33it/s]\n",
      "100%|██████████| 15/15 [00:09<00:00,  1.58it/s]\n",
      "100%|██████████| 18/18 [00:05<00:00,  3.27it/s]\n"
     ]
    },
    {
     "name": "stdout",
     "output_type": "stream",
     "text": [
      "1m 2s\n",
      "Consistency Loss declined to 0.009007327848424514\n",
      "Early Stopping Counter = 0\n",
      "Epoch 130/300\n"
     ]
    },
    {
     "name": "stderr",
     "output_type": "stream",
     "text": [
      "100%|██████████| 155/155 [00:46<00:00,  3.33it/s]\n",
      "100%|██████████| 15/15 [00:09<00:00,  1.62it/s]\n",
      "100%|██████████| 18/18 [00:05<00:00,  3.32it/s]\n"
     ]
    },
    {
     "name": "stdout",
     "output_type": "stream",
     "text": [
      "1m 1s\n",
      "Early Stopping Counter = 1\n",
      "Epoch 131/300\n"
     ]
    },
    {
     "name": "stderr",
     "output_type": "stream",
     "text": [
      "100%|██████████| 155/155 [00:46<00:00,  3.34it/s]\n",
      "100%|██████████| 15/15 [00:09<00:00,  1.58it/s]\n",
      "100%|██████████| 18/18 [00:05<00:00,  3.25it/s]\n"
     ]
    },
    {
     "name": "stdout",
     "output_type": "stream",
     "text": [
      "1m 1s\n",
      "Consistency Loss declined to 0.008902248088270425\n",
      "Early Stopping Counter = 0\n",
      "Epoch 132/300\n"
     ]
    },
    {
     "name": "stderr",
     "output_type": "stream",
     "text": [
      "100%|██████████| 155/155 [00:46<00:00,  3.34it/s]\n",
      "100%|██████████| 15/15 [00:09<00:00,  1.61it/s]\n",
      "100%|██████████| 18/18 [00:05<00:00,  3.29it/s]\n"
     ]
    },
    {
     "name": "stdout",
     "output_type": "stream",
     "text": [
      "1m 1s\n",
      "Early Stopping Counter = 1\n",
      "Epoch 133/300\n"
     ]
    },
    {
     "name": "stderr",
     "output_type": "stream",
     "text": [
      "100%|██████████| 155/155 [00:46<00:00,  3.33it/s]\n",
      "100%|██████████| 15/15 [00:09<00:00,  1.57it/s]\n",
      "100%|██████████| 18/18 [00:05<00:00,  3.24it/s]\n"
     ]
    },
    {
     "name": "stdout",
     "output_type": "stream",
     "text": [
      "1m 2s\n",
      "Consistency Loss declined to 0.0085657832523187\n",
      "Early Stopping Counter = 0\n",
      "Epoch 134/300\n"
     ]
    },
    {
     "name": "stderr",
     "output_type": "stream",
     "text": [
      "100%|██████████| 155/155 [00:46<00:00,  3.34it/s]\n",
      "100%|██████████| 15/15 [00:09<00:00,  1.61it/s]\n",
      "100%|██████████| 18/18 [00:05<00:00,  3.26it/s]\n"
     ]
    },
    {
     "name": "stdout",
     "output_type": "stream",
     "text": [
      "1m 1s\n",
      "Early Stopping Counter = 1\n",
      "Epoch 135/300\n"
     ]
    },
    {
     "name": "stderr",
     "output_type": "stream",
     "text": [
      "100%|██████████| 155/155 [00:46<00:00,  3.34it/s]\n",
      "100%|██████████| 15/15 [00:09<00:00,  1.59it/s]\n",
      "100%|██████████| 18/18 [00:05<00:00,  3.32it/s]\n"
     ]
    },
    {
     "name": "stdout",
     "output_type": "stream",
     "text": [
      "1m 1s\n",
      "Early Stopping Counter = 2\n",
      "Epoch 136/300\n"
     ]
    },
    {
     "name": "stderr",
     "output_type": "stream",
     "text": [
      "100%|██████████| 155/155 [00:46<00:00,  3.35it/s]\n",
      "100%|██████████| 15/15 [00:09<00:00,  1.60it/s]\n",
      "100%|██████████| 18/18 [00:05<00:00,  3.26it/s]\n"
     ]
    },
    {
     "name": "stdout",
     "output_type": "stream",
     "text": [
      "1m 1s\n",
      "Early Stopping Counter = 3\n",
      "Epoch 137/300\n"
     ]
    },
    {
     "name": "stderr",
     "output_type": "stream",
     "text": [
      "100%|██████████| 155/155 [00:46<00:00,  3.35it/s]\n",
      "100%|██████████| 15/15 [00:09<00:00,  1.62it/s]\n",
      "100%|██████████| 18/18 [00:05<00:00,  3.31it/s]\n"
     ]
    },
    {
     "name": "stdout",
     "output_type": "stream",
     "text": [
      "1m 1s\n",
      "Early Stopping Counter = 4\n",
      "Epoch 138/300\n"
     ]
    },
    {
     "name": "stderr",
     "output_type": "stream",
     "text": [
      "100%|██████████| 155/155 [00:46<00:00,  3.35it/s]\n",
      "100%|██████████| 15/15 [00:09<00:00,  1.59it/s]\n",
      "100%|██████████| 18/18 [00:05<00:00,  3.26it/s]\n"
     ]
    },
    {
     "name": "stdout",
     "output_type": "stream",
     "text": [
      "1m 1s\n",
      "Early Stopping Counter = 5\n",
      "Epoch 139/300\n"
     ]
    },
    {
     "name": "stderr",
     "output_type": "stream",
     "text": [
      "100%|██████████| 155/155 [00:46<00:00,  3.35it/s]\n",
      "100%|██████████| 15/15 [00:09<00:00,  1.59it/s]\n",
      "100%|██████████| 18/18 [00:05<00:00,  3.27it/s]\n"
     ]
    },
    {
     "name": "stdout",
     "output_type": "stream",
     "text": [
      "1m 1s\n",
      "Early Stopping Counter = 6\n",
      "Epoch 140/300\n"
     ]
    },
    {
     "name": "stderr",
     "output_type": "stream",
     "text": [
      "100%|██████████| 155/155 [00:46<00:00,  3.34it/s]\n",
      "100%|██████████| 15/15 [00:09<00:00,  1.60it/s]\n",
      "100%|██████████| 18/18 [00:05<00:00,  3.28it/s]\n"
     ]
    },
    {
     "name": "stdout",
     "output_type": "stream",
     "text": [
      "1m 1s\n",
      "Early Stopping Counter = 7\n",
      "Epoch 141/300\n"
     ]
    },
    {
     "name": "stderr",
     "output_type": "stream",
     "text": [
      "100%|██████████| 155/155 [00:46<00:00,  3.35it/s]\n",
      "100%|██████████| 15/15 [00:09<00:00,  1.59it/s]\n",
      "100%|██████████| 18/18 [00:05<00:00,  3.38it/s]\n"
     ]
    },
    {
     "name": "stdout",
     "output_type": "stream",
     "text": [
      "1m 1s\n",
      "Early Stopping Counter = 8\n",
      "Epoch 142/300\n"
     ]
    },
    {
     "name": "stderr",
     "output_type": "stream",
     "text": [
      "100%|██████████| 155/155 [00:46<00:00,  3.34it/s]\n",
      "100%|██████████| 15/15 [00:09<00:00,  1.61it/s]\n",
      "100%|██████████| 18/18 [00:05<00:00,  3.33it/s]\n"
     ]
    },
    {
     "name": "stdout",
     "output_type": "stream",
     "text": [
      "1m 1s\n",
      "Early Stopping Counter = 9\n",
      "Epoch 143/300\n"
     ]
    },
    {
     "name": "stderr",
     "output_type": "stream",
     "text": [
      "100%|██████████| 155/155 [00:46<00:00,  3.33it/s]\n",
      "100%|██████████| 15/15 [00:09<00:00,  1.59it/s]\n",
      "100%|██████████| 18/18 [00:05<00:00,  3.34it/s]\n"
     ]
    },
    {
     "name": "stdout",
     "output_type": "stream",
     "text": [
      "1m 1s\n",
      "Early Stopping Counter = 10\n",
      "Epoch 144/300\n"
     ]
    },
    {
     "name": "stderr",
     "output_type": "stream",
     "text": [
      "100%|██████████| 155/155 [00:46<00:00,  3.31it/s]\n",
      "100%|██████████| 15/15 [00:09<00:00,  1.57it/s]\n",
      "100%|██████████| 18/18 [00:05<00:00,  3.27it/s]\n"
     ]
    },
    {
     "name": "stdout",
     "output_type": "stream",
     "text": [
      "1m 2s\n",
      "Early Stopping Counter = 11\n",
      "Epoch 145/300\n"
     ]
    },
    {
     "name": "stderr",
     "output_type": "stream",
     "text": [
      "100%|██████████| 155/155 [00:46<00:00,  3.31it/s]\n",
      "100%|██████████| 15/15 [00:09<00:00,  1.58it/s]\n",
      "100%|██████████| 18/18 [00:05<00:00,  3.28it/s]\n"
     ]
    },
    {
     "name": "stdout",
     "output_type": "stream",
     "text": [
      "1m 2s\n",
      "Early Stopping Counter = 12\n",
      "Epoch 146/300\n"
     ]
    },
    {
     "name": "stderr",
     "output_type": "stream",
     "text": [
      "100%|██████████| 155/155 [00:46<00:00,  3.33it/s]\n",
      "100%|██████████| 15/15 [00:09<00:00,  1.60it/s]\n",
      "100%|██████████| 18/18 [00:05<00:00,  3.25it/s]\n"
     ]
    },
    {
     "name": "stdout",
     "output_type": "stream",
     "text": [
      "1m 1s\n",
      "Early Stopping Counter = 13\n",
      "Epoch 147/300\n"
     ]
    },
    {
     "name": "stderr",
     "output_type": "stream",
     "text": [
      "100%|██████████| 155/155 [00:46<00:00,  3.34it/s]\n",
      "100%|██████████| 15/15 [00:09<00:00,  1.59it/s]\n",
      "100%|██████████| 18/18 [00:05<00:00,  3.27it/s]\n"
     ]
    },
    {
     "name": "stdout",
     "output_type": "stream",
     "text": [
      "1m 1s\n",
      "Consistency Loss declined to 0.008050476076702277\n",
      "Early Stopping Counter = 0\n",
      "Epoch 148/300\n"
     ]
    },
    {
     "name": "stderr",
     "output_type": "stream",
     "text": [
      "100%|██████████| 155/155 [00:46<00:00,  3.32it/s]\n",
      "100%|██████████| 15/15 [00:09<00:00,  1.60it/s]\n",
      "100%|██████████| 18/18 [00:05<00:00,  3.29it/s]\n"
     ]
    },
    {
     "name": "stdout",
     "output_type": "stream",
     "text": [
      "1m 2s\n",
      "Early Stopping Counter = 1\n",
      "Epoch 149/300\n"
     ]
    },
    {
     "name": "stderr",
     "output_type": "stream",
     "text": [
      "100%|██████████| 155/155 [00:46<00:00,  3.35it/s]\n",
      "100%|██████████| 15/15 [00:09<00:00,  1.63it/s]\n",
      "100%|██████████| 18/18 [00:05<00:00,  3.35it/s]\n"
     ]
    },
    {
     "name": "stdout",
     "output_type": "stream",
     "text": [
      "1m 1s\n",
      "Early Stopping Counter = 2\n",
      "Epoch 150/300\n"
     ]
    },
    {
     "name": "stderr",
     "output_type": "stream",
     "text": [
      "100%|██████████| 155/155 [00:46<00:00,  3.34it/s]\n",
      "100%|██████████| 15/15 [00:09<00:00,  1.58it/s]\n",
      "100%|██████████| 18/18 [00:05<00:00,  3.29it/s]\n"
     ]
    },
    {
     "name": "stdout",
     "output_type": "stream",
     "text": [
      "1m 1s\n",
      "Consistency Loss declined to 0.007888655116160711\n",
      "Early Stopping Counter = 0\n",
      "Epoch 151/300\n"
     ]
    },
    {
     "name": "stderr",
     "output_type": "stream",
     "text": [
      "100%|██████████| 155/155 [00:46<00:00,  3.32it/s]\n",
      "100%|██████████| 15/15 [00:09<00:00,  1.60it/s]\n",
      "100%|██████████| 18/18 [00:05<00:00,  3.11it/s]\n"
     ]
    },
    {
     "name": "stdout",
     "output_type": "stream",
     "text": [
      "1m 2s\n",
      "Early Stopping Counter = 1\n",
      "Epoch 152/300\n"
     ]
    },
    {
     "name": "stderr",
     "output_type": "stream",
     "text": [
      "100%|██████████| 155/155 [00:46<00:00,  3.33it/s]\n",
      "100%|██████████| 15/15 [00:09<00:00,  1.58it/s]\n",
      "100%|██████████| 18/18 [00:05<00:00,  3.26it/s]\n"
     ]
    },
    {
     "name": "stdout",
     "output_type": "stream",
     "text": [
      "1m 1s\n",
      "Consistency Loss declined to 0.007592329056933522\n",
      "Early Stopping Counter = 0\n",
      "Epoch 153/300\n"
     ]
    },
    {
     "name": "stderr",
     "output_type": "stream",
     "text": [
      "100%|██████████| 155/155 [00:46<00:00,  3.32it/s]\n",
      "100%|██████████| 15/15 [00:09<00:00,  1.62it/s]\n",
      "100%|██████████| 18/18 [00:05<00:00,  3.27it/s]\n"
     ]
    },
    {
     "name": "stdout",
     "output_type": "stream",
     "text": [
      "1m 1s\n",
      "Early Stopping Counter = 1\n",
      "Epoch 154/300\n"
     ]
    },
    {
     "name": "stderr",
     "output_type": "stream",
     "text": [
      "100%|██████████| 155/155 [00:46<00:00,  3.34it/s]\n",
      "100%|██████████| 15/15 [00:09<00:00,  1.59it/s]\n",
      "100%|██████████| 18/18 [00:05<00:00,  3.22it/s]\n"
     ]
    },
    {
     "name": "stdout",
     "output_type": "stream",
     "text": [
      "1m 1s\n",
      "Early Stopping Counter = 2\n",
      "Epoch 155/300\n"
     ]
    },
    {
     "name": "stderr",
     "output_type": "stream",
     "text": [
      "100%|██████████| 155/155 [00:46<00:00,  3.36it/s]\n",
      "100%|██████████| 15/15 [00:09<00:00,  1.60it/s]\n",
      "100%|██████████| 18/18 [00:05<00:00,  3.35it/s]\n"
     ]
    },
    {
     "name": "stdout",
     "output_type": "stream",
     "text": [
      "1m 1s\n",
      "Early Stopping Counter = 3\n",
      "Epoch 156/300\n"
     ]
    },
    {
     "name": "stderr",
     "output_type": "stream",
     "text": [
      "100%|██████████| 155/155 [00:46<00:00,  3.34it/s]\n",
      "100%|██████████| 15/15 [00:09<00:00,  1.60it/s]\n",
      "100%|██████████| 18/18 [00:05<00:00,  3.28it/s]\n"
     ]
    },
    {
     "name": "stdout",
     "output_type": "stream",
     "text": [
      "1m 1s\n",
      "Early Stopping Counter = 4\n",
      "Epoch 157/300\n"
     ]
    },
    {
     "name": "stderr",
     "output_type": "stream",
     "text": [
      "100%|██████████| 155/155 [00:46<00:00,  3.35it/s]\n",
      "100%|██████████| 15/15 [00:09<00:00,  1.60it/s]\n",
      "100%|██████████| 18/18 [00:05<00:00,  3.26it/s]\n"
     ]
    },
    {
     "name": "stdout",
     "output_type": "stream",
     "text": [
      "1m 1s\n",
      "Consistency Loss declined to 0.007554828825717171\n",
      "Early Stopping Counter = 0\n",
      "Epoch 158/300\n"
     ]
    },
    {
     "name": "stderr",
     "output_type": "stream",
     "text": [
      "100%|██████████| 155/155 [00:46<00:00,  3.33it/s]\n",
      "100%|██████████| 15/15 [00:09<00:00,  1.62it/s]\n",
      "100%|██████████| 18/18 [00:05<00:00,  3.33it/s]\n"
     ]
    },
    {
     "name": "stdout",
     "output_type": "stream",
     "text": [
      "1m 1s\n",
      "Consistency Loss declined to 0.007496829641362031\n",
      "Early Stopping Counter = 0\n",
      "Epoch 159/300\n"
     ]
    },
    {
     "name": "stderr",
     "output_type": "stream",
     "text": [
      "100%|██████████| 155/155 [00:46<00:00,  3.33it/s]\n",
      "100%|██████████| 15/15 [00:09<00:00,  1.58it/s]\n",
      "100%|██████████| 18/18 [00:05<00:00,  3.17it/s]\n"
     ]
    },
    {
     "name": "stdout",
     "output_type": "stream",
     "text": [
      "1m 2s\n",
      "Early Stopping Counter = 1\n",
      "Epoch 160/300\n"
     ]
    },
    {
     "name": "stderr",
     "output_type": "stream",
     "text": [
      "100%|██████████| 155/155 [00:46<00:00,  3.35it/s]\n",
      "100%|██████████| 15/15 [00:09<00:00,  1.62it/s]\n",
      "100%|██████████| 18/18 [00:05<00:00,  3.33it/s]\n"
     ]
    },
    {
     "name": "stdout",
     "output_type": "stream",
     "text": [
      "1m 1s\n",
      "Early Stopping Counter = 2\n",
      "Epoch 161/300\n"
     ]
    },
    {
     "name": "stderr",
     "output_type": "stream",
     "text": [
      "100%|██████████| 155/155 [00:46<00:00,  3.35it/s]\n",
      "100%|██████████| 15/15 [00:09<00:00,  1.60it/s]\n",
      "100%|██████████| 18/18 [00:05<00:00,  3.31it/s]\n"
     ]
    },
    {
     "name": "stdout",
     "output_type": "stream",
     "text": [
      "1m 1s\n",
      "Early Stopping Counter = 3\n",
      "Epoch 162/300\n"
     ]
    },
    {
     "name": "stderr",
     "output_type": "stream",
     "text": [
      "100%|██████████| 155/155 [00:46<00:00,  3.35it/s]\n",
      "100%|██████████| 15/15 [00:09<00:00,  1.60it/s]\n",
      "100%|██████████| 18/18 [00:05<00:00,  3.27it/s]\n"
     ]
    },
    {
     "name": "stdout",
     "output_type": "stream",
     "text": [
      "1m 1s\n",
      "Early Stopping Counter = 4\n",
      "Epoch 163/300\n"
     ]
    },
    {
     "name": "stderr",
     "output_type": "stream",
     "text": [
      "100%|██████████| 155/155 [00:46<00:00,  3.35it/s]\n",
      "100%|██████████| 15/15 [00:09<00:00,  1.62it/s]\n",
      "100%|██████████| 18/18 [00:05<00:00,  3.33it/s]\n"
     ]
    },
    {
     "name": "stdout",
     "output_type": "stream",
     "text": [
      "1m 1s\n",
      "Consistency Loss declined to 0.00724991469954451\n",
      "Early Stopping Counter = 0\n",
      "Epoch 164/300\n"
     ]
    },
    {
     "name": "stderr",
     "output_type": "stream",
     "text": [
      "100%|██████████| 155/155 [00:46<00:00,  3.33it/s]\n",
      "100%|██████████| 15/15 [00:09<00:00,  1.59it/s]\n",
      "100%|██████████| 18/18 [00:05<00:00,  3.26it/s]\n"
     ]
    },
    {
     "name": "stdout",
     "output_type": "stream",
     "text": [
      "1m 1s\n",
      "Early Stopping Counter = 1\n",
      "Epoch 165/300\n"
     ]
    },
    {
     "name": "stderr",
     "output_type": "stream",
     "text": [
      "100%|██████████| 155/155 [00:46<00:00,  3.35it/s]\n",
      "100%|██████████| 15/15 [00:09<00:00,  1.62it/s]\n",
      "100%|██████████| 18/18 [00:05<00:00,  3.32it/s]\n"
     ]
    },
    {
     "name": "stdout",
     "output_type": "stream",
     "text": [
      "1m 1s\n",
      "Early Stopping Counter = 2\n",
      "Epoch 166/300\n"
     ]
    },
    {
     "name": "stderr",
     "output_type": "stream",
     "text": [
      "100%|██████████| 155/155 [00:46<00:00,  3.35it/s]\n",
      "100%|██████████| 15/15 [00:09<00:00,  1.59it/s]\n",
      "100%|██████████| 18/18 [00:05<00:00,  3.28it/s]\n"
     ]
    },
    {
     "name": "stdout",
     "output_type": "stream",
     "text": [
      "1m 1s\n",
      "Early Stopping Counter = 3\n",
      "Epoch 167/300\n"
     ]
    },
    {
     "name": "stderr",
     "output_type": "stream",
     "text": [
      "100%|██████████| 155/155 [00:46<00:00,  3.36it/s]\n",
      "100%|██████████| 15/15 [00:09<00:00,  1.59it/s]\n",
      "100%|██████████| 18/18 [00:05<00:00,  3.27it/s]\n"
     ]
    },
    {
     "name": "stdout",
     "output_type": "stream",
     "text": [
      "1m 1s\n",
      "Consistency Loss declined to 0.007020739745348692\n",
      "Early Stopping Counter = 0\n",
      "Epoch 168/300\n"
     ]
    },
    {
     "name": "stderr",
     "output_type": "stream",
     "text": [
      "100%|██████████| 155/155 [00:46<00:00,  3.33it/s]\n",
      "100%|██████████| 15/15 [00:09<00:00,  1.61it/s]\n",
      "100%|██████████| 18/18 [00:05<00:00,  3.30it/s]\n"
     ]
    },
    {
     "name": "stdout",
     "output_type": "stream",
     "text": [
      "1m 1s\n",
      "Early Stopping Counter = 1\n",
      "Epoch 169/300\n"
     ]
    },
    {
     "name": "stderr",
     "output_type": "stream",
     "text": [
      "100%|██████████| 155/155 [00:46<00:00,  3.35it/s]\n",
      "100%|██████████| 15/15 [00:09<00:00,  1.61it/s]\n",
      "100%|██████████| 18/18 [00:05<00:00,  3.28it/s]\n"
     ]
    },
    {
     "name": "stdout",
     "output_type": "stream",
     "text": [
      "1m 1s\n",
      "Early Stopping Counter = 2\n",
      "Epoch 170/300\n"
     ]
    },
    {
     "name": "stderr",
     "output_type": "stream",
     "text": [
      "100%|██████████| 155/155 [00:46<00:00,  3.34it/s]\n",
      "100%|██████████| 15/15 [00:09<00:00,  1.59it/s]\n",
      "100%|██████████| 18/18 [00:05<00:00,  3.27it/s]\n"
     ]
    },
    {
     "name": "stdout",
     "output_type": "stream",
     "text": [
      "1m 1s\n",
      "Early Stopping Counter = 3\n",
      "Epoch 171/300\n"
     ]
    },
    {
     "name": "stderr",
     "output_type": "stream",
     "text": [
      "100%|██████████| 155/155 [00:46<00:00,  3.35it/s]\n",
      "100%|██████████| 15/15 [00:09<00:00,  1.59it/s]\n",
      "100%|██████████| 18/18 [00:05<00:00,  3.23it/s]\n"
     ]
    },
    {
     "name": "stdout",
     "output_type": "stream",
     "text": [
      "1m 1s\n",
      "Early Stopping Counter = 4\n",
      "Epoch 172/300\n"
     ]
    },
    {
     "name": "stderr",
     "output_type": "stream",
     "text": [
      "100%|██████████| 155/155 [00:46<00:00,  3.33it/s]\n",
      "100%|██████████| 15/15 [00:09<00:00,  1.60it/s]\n",
      "100%|██████████| 18/18 [00:05<00:00,  3.26it/s]\n"
     ]
    },
    {
     "name": "stdout",
     "output_type": "stream",
     "text": [
      "1m 1s\n",
      "Consistency Loss declined to 0.006973002494002382\n",
      "Early Stopping Counter = 0\n",
      "Epoch 173/300\n"
     ]
    },
    {
     "name": "stderr",
     "output_type": "stream",
     "text": [
      "100%|██████████| 155/155 [00:46<00:00,  3.34it/s]\n",
      "100%|██████████| 15/15 [00:09<00:00,  1.62it/s]\n",
      "100%|██████████| 18/18 [00:05<00:00,  3.22it/s]\n"
     ]
    },
    {
     "name": "stdout",
     "output_type": "stream",
     "text": [
      "1m 1s\n",
      "Consistency Loss declined to 0.006619931167612473\n",
      "Early Stopping Counter = 0\n",
      "Epoch 174/300\n"
     ]
    },
    {
     "name": "stderr",
     "output_type": "stream",
     "text": [
      "100%|██████████| 155/155 [00:46<00:00,  3.33it/s]\n",
      "100%|██████████| 15/15 [00:09<00:00,  1.59it/s]\n",
      "100%|██████████| 18/18 [00:05<00:00,  3.29it/s]\n"
     ]
    },
    {
     "name": "stdout",
     "output_type": "stream",
     "text": [
      "1m 1s\n",
      "Early Stopping Counter = 1\n",
      "Epoch 175/300\n"
     ]
    },
    {
     "name": "stderr",
     "output_type": "stream",
     "text": [
      "100%|██████████| 155/155 [00:46<00:00,  3.33it/s]\n",
      "100%|██████████| 15/15 [00:09<00:00,  1.60it/s]\n",
      "100%|██████████| 18/18 [00:05<00:00,  3.35it/s]\n"
     ]
    },
    {
     "name": "stdout",
     "output_type": "stream",
     "text": [
      "1m 1s\n",
      "Consistency Loss declined to 0.006494123768061399\n",
      "Early Stopping Counter = 0\n",
      "Epoch 176/300\n"
     ]
    },
    {
     "name": "stderr",
     "output_type": "stream",
     "text": [
      "100%|██████████| 155/155 [00:46<00:00,  3.34it/s]\n",
      "100%|██████████| 15/15 [00:09<00:00,  1.61it/s]\n",
      "100%|██████████| 18/18 [00:05<00:00,  3.34it/s]\n"
     ]
    },
    {
     "name": "stdout",
     "output_type": "stream",
     "text": [
      "1m 1s\n",
      "Early Stopping Counter = 1\n",
      "Epoch 177/300\n"
     ]
    },
    {
     "name": "stderr",
     "output_type": "stream",
     "text": [
      "100%|██████████| 155/155 [00:46<00:00,  3.35it/s]\n",
      "100%|██████████| 15/15 [00:09<00:00,  1.60it/s]\n",
      "100%|██████████| 18/18 [00:05<00:00,  3.25it/s]\n"
     ]
    },
    {
     "name": "stdout",
     "output_type": "stream",
     "text": [
      "1m 1s\n",
      "Early Stopping Counter = 2\n",
      "Epoch 178/300\n"
     ]
    },
    {
     "name": "stderr",
     "output_type": "stream",
     "text": [
      "100%|██████████| 155/155 [00:46<00:00,  3.35it/s]\n",
      "100%|██████████| 15/15 [00:09<00:00,  1.61it/s]\n",
      "100%|██████████| 18/18 [00:05<00:00,  3.24it/s]\n"
     ]
    },
    {
     "name": "stdout",
     "output_type": "stream",
     "text": [
      "1m 1s\n",
      "Early Stopping Counter = 3\n",
      "Epoch 179/300\n"
     ]
    },
    {
     "name": "stderr",
     "output_type": "stream",
     "text": [
      "100%|██████████| 155/155 [00:46<00:00,  3.35it/s]\n",
      "100%|██████████| 15/15 [00:09<00:00,  1.60it/s]\n",
      "100%|██████████| 18/18 [00:05<00:00,  3.27it/s]\n"
     ]
    },
    {
     "name": "stdout",
     "output_type": "stream",
     "text": [
      "1m 1s\n",
      "Consistency Loss declined to 0.006351675745099783\n",
      "Early Stopping Counter = 0\n",
      "Epoch 180/300\n"
     ]
    },
    {
     "name": "stderr",
     "output_type": "stream",
     "text": [
      "100%|██████████| 155/155 [00:46<00:00,  3.32it/s]\n",
      "100%|██████████| 15/15 [00:09<00:00,  1.61it/s]\n",
      "100%|██████████| 18/18 [00:05<00:00,  3.27it/s]\n"
     ]
    },
    {
     "name": "stdout",
     "output_type": "stream",
     "text": [
      "1m 1s\n",
      "Early Stopping Counter = 1\n",
      "Epoch 181/300\n"
     ]
    },
    {
     "name": "stderr",
     "output_type": "stream",
     "text": [
      "100%|██████████| 155/155 [00:46<00:00,  3.35it/s]\n",
      "100%|██████████| 15/15 [00:09<00:00,  1.61it/s]\n",
      "100%|██████████| 18/18 [00:05<00:00,  3.30it/s]\n"
     ]
    },
    {
     "name": "stdout",
     "output_type": "stream",
     "text": [
      "1m 1s\n",
      "Early Stopping Counter = 2\n",
      "Epoch 182/300\n"
     ]
    },
    {
     "name": "stderr",
     "output_type": "stream",
     "text": [
      "100%|██████████| 155/155 [00:46<00:00,  3.35it/s]\n",
      "100%|██████████| 15/15 [00:09<00:00,  1.59it/s]\n",
      "100%|██████████| 18/18 [00:05<00:00,  3.27it/s]\n"
     ]
    },
    {
     "name": "stdout",
     "output_type": "stream",
     "text": [
      "1m 1s\n",
      "Consistency Loss declined to 0.0062739522196352485\n",
      "Early Stopping Counter = 0\n",
      "Epoch 183/300\n"
     ]
    },
    {
     "name": "stderr",
     "output_type": "stream",
     "text": [
      "100%|██████████| 155/155 [00:46<00:00,  3.34it/s]\n",
      "100%|██████████| 15/15 [00:09<00:00,  1.61it/s]\n",
      "100%|██████████| 18/18 [00:05<00:00,  3.32it/s]\n"
     ]
    },
    {
     "name": "stdout",
     "output_type": "stream",
     "text": [
      "1m 1s\n",
      "Consistency Loss declined to 0.006269540016849835\n",
      "Early Stopping Counter = 0\n",
      "Epoch 184/300\n"
     ]
    },
    {
     "name": "stderr",
     "output_type": "stream",
     "text": [
      "100%|██████████| 155/155 [00:46<00:00,  3.33it/s]\n",
      "100%|██████████| 15/15 [00:09<00:00,  1.61it/s]\n",
      "100%|██████████| 18/18 [00:05<00:00,  3.28it/s]\n"
     ]
    },
    {
     "name": "stdout",
     "output_type": "stream",
     "text": [
      "1m 1s\n",
      "Early Stopping Counter = 1\n",
      "Epoch 185/300\n"
     ]
    },
    {
     "name": "stderr",
     "output_type": "stream",
     "text": [
      "100%|██████████| 155/155 [00:46<00:00,  3.34it/s]\n",
      "100%|██████████| 15/15 [00:09<00:00,  1.61it/s]\n",
      "100%|██████████| 18/18 [00:05<00:00,  3.27it/s]\n"
     ]
    },
    {
     "name": "stdout",
     "output_type": "stream",
     "text": [
      "1m 1s\n",
      "Early Stopping Counter = 2\n",
      "Epoch 186/300\n"
     ]
    },
    {
     "name": "stderr",
     "output_type": "stream",
     "text": [
      "100%|██████████| 155/155 [00:46<00:00,  3.34it/s]\n",
      "100%|██████████| 15/15 [00:09<00:00,  1.62it/s]\n",
      "100%|██████████| 18/18 [00:05<00:00,  3.35it/s]\n"
     ]
    },
    {
     "name": "stdout",
     "output_type": "stream",
     "text": [
      "1m 1s\n",
      "Early Stopping Counter = 3\n",
      "Epoch 187/300\n"
     ]
    },
    {
     "name": "stderr",
     "output_type": "stream",
     "text": [
      "100%|██████████| 155/155 [00:46<00:00,  3.34it/s]\n",
      "100%|██████████| 15/15 [00:09<00:00,  1.62it/s]\n",
      "100%|██████████| 18/18 [00:05<00:00,  3.32it/s]\n"
     ]
    },
    {
     "name": "stdout",
     "output_type": "stream",
     "text": [
      "1m 1s\n",
      "Consistency Loss declined to 0.00624972105336686\n",
      "Early Stopping Counter = 0\n",
      "Epoch 188/300\n"
     ]
    },
    {
     "name": "stderr",
     "output_type": "stream",
     "text": [
      "100%|██████████| 155/155 [00:46<00:00,  3.33it/s]\n",
      "100%|██████████| 15/15 [00:09<00:00,  1.60it/s]\n",
      "100%|██████████| 18/18 [00:05<00:00,  3.35it/s]\n"
     ]
    },
    {
     "name": "stdout",
     "output_type": "stream",
     "text": [
      "1m 1s\n",
      "Early Stopping Counter = 1\n",
      "Epoch 189/300\n"
     ]
    },
    {
     "name": "stderr",
     "output_type": "stream",
     "text": [
      "100%|██████████| 155/155 [00:46<00:00,  3.35it/s]\n",
      "100%|██████████| 15/15 [00:09<00:00,  1.63it/s]\n",
      "100%|██████████| 18/18 [00:05<00:00,  3.36it/s]\n"
     ]
    },
    {
     "name": "stdout",
     "output_type": "stream",
     "text": [
      "1m 1s\n",
      "Early Stopping Counter = 2\n",
      "Epoch 190/300\n"
     ]
    },
    {
     "name": "stderr",
     "output_type": "stream",
     "text": [
      "100%|██████████| 155/155 [00:46<00:00,  3.35it/s]\n",
      "100%|██████████| 15/15 [00:09<00:00,  1.60it/s]\n",
      "100%|██████████| 18/18 [00:05<00:00,  3.34it/s]\n"
     ]
    },
    {
     "name": "stdout",
     "output_type": "stream",
     "text": [
      "1m 1s\n",
      "Early Stopping Counter = 3\n",
      "Epoch 191/300\n"
     ]
    },
    {
     "name": "stderr",
     "output_type": "stream",
     "text": [
      "100%|██████████| 155/155 [00:46<00:00,  3.35it/s]\n",
      "100%|██████████| 15/15 [00:09<00:00,  1.60it/s]\n",
      "100%|██████████| 18/18 [00:05<00:00,  3.29it/s]\n"
     ]
    },
    {
     "name": "stdout",
     "output_type": "stream",
     "text": [
      "1m 1s\n",
      "Early Stopping Counter = 4\n",
      "Epoch 192/300\n"
     ]
    },
    {
     "name": "stderr",
     "output_type": "stream",
     "text": [
      "100%|██████████| 155/155 [00:46<00:00,  3.33it/s]\n",
      "100%|██████████| 15/15 [00:09<00:00,  1.60it/s]\n",
      "100%|██████████| 18/18 [00:05<00:00,  3.28it/s]\n"
     ]
    },
    {
     "name": "stdout",
     "output_type": "stream",
     "text": [
      "1m 1s\n",
      "Early Stopping Counter = 5\n",
      "Epoch 193/300\n"
     ]
    },
    {
     "name": "stderr",
     "output_type": "stream",
     "text": [
      "100%|██████████| 155/155 [00:46<00:00,  3.35it/s]\n",
      "100%|██████████| 15/15 [00:09<00:00,  1.60it/s]\n",
      "100%|██████████| 18/18 [00:05<00:00,  3.30it/s]\n"
     ]
    },
    {
     "name": "stdout",
     "output_type": "stream",
     "text": [
      "1m 1s\n",
      "Early Stopping Counter = 6\n",
      "Epoch 194/300\n"
     ]
    },
    {
     "name": "stderr",
     "output_type": "stream",
     "text": [
      "100%|██████████| 155/155 [00:46<00:00,  3.35it/s]\n",
      "100%|██████████| 15/15 [00:09<00:00,  1.62it/s]\n",
      "100%|██████████| 18/18 [00:05<00:00,  3.20it/s]\n"
     ]
    },
    {
     "name": "stdout",
     "output_type": "stream",
     "text": [
      "1m 1s\n",
      "Early Stopping Counter = 7\n",
      "Epoch 195/300\n"
     ]
    },
    {
     "name": "stderr",
     "output_type": "stream",
     "text": [
      "100%|██████████| 155/155 [00:46<00:00,  3.35it/s]\n",
      "100%|██████████| 15/15 [00:09<00:00,  1.60it/s]\n",
      "100%|██████████| 18/18 [00:05<00:00,  3.33it/s]\n"
     ]
    },
    {
     "name": "stdout",
     "output_type": "stream",
     "text": [
      "1m 1s\n",
      "Early Stopping Counter = 8\n",
      "Epoch 196/300\n"
     ]
    },
    {
     "name": "stderr",
     "output_type": "stream",
     "text": [
      "100%|██████████| 155/155 [00:46<00:00,  3.35it/s]\n",
      "100%|██████████| 15/15 [00:09<00:00,  1.60it/s]\n",
      "100%|██████████| 18/18 [00:05<00:00,  3.32it/s]\n"
     ]
    },
    {
     "name": "stdout",
     "output_type": "stream",
     "text": [
      "1m 1s\n",
      "Early Stopping Counter = 9\n",
      "Epoch 197/300\n"
     ]
    },
    {
     "name": "stderr",
     "output_type": "stream",
     "text": [
      "100%|██████████| 155/155 [00:46<00:00,  3.35it/s]\n",
      "100%|██████████| 15/15 [00:09<00:00,  1.60it/s]\n",
      "100%|██████████| 18/18 [00:05<00:00,  3.29it/s]\n"
     ]
    },
    {
     "name": "stdout",
     "output_type": "stream",
     "text": [
      "1m 1s\n",
      "Early Stopping Counter = 10\n",
      "Epoch 198/300\n"
     ]
    },
    {
     "name": "stderr",
     "output_type": "stream",
     "text": [
      "100%|██████████| 155/155 [00:46<00:00,  3.34it/s]\n",
      "100%|██████████| 15/15 [00:09<00:00,  1.61it/s]\n",
      "100%|██████████| 18/18 [00:05<00:00,  3.16it/s]\n"
     ]
    },
    {
     "name": "stdout",
     "output_type": "stream",
     "text": [
      "1m 1s\n",
      "Early Stopping Counter = 11\n",
      "Epoch 199/300\n"
     ]
    },
    {
     "name": "stderr",
     "output_type": "stream",
     "text": [
      "100%|██████████| 155/155 [00:46<00:00,  3.35it/s]\n",
      "100%|██████████| 15/15 [00:09<00:00,  1.62it/s]\n",
      "100%|██████████| 18/18 [00:05<00:00,  3.22it/s]\n"
     ]
    },
    {
     "name": "stdout",
     "output_type": "stream",
     "text": [
      "1m 1s\n",
      "Early Stopping Counter = 12\n",
      "Epoch 200/300\n"
     ]
    },
    {
     "name": "stderr",
     "output_type": "stream",
     "text": [
      "100%|██████████| 155/155 [00:46<00:00,  3.35it/s]\n",
      "100%|██████████| 15/15 [00:09<00:00,  1.59it/s]\n",
      "100%|██████████| 18/18 [00:05<00:00,  3.39it/s]\n"
     ]
    },
    {
     "name": "stdout",
     "output_type": "stream",
     "text": [
      "1m 1s\n",
      "Consistency Loss declined to 0.006005054075891773\n",
      "Early Stopping Counter = 0\n",
      "Epoch 201/300\n"
     ]
    },
    {
     "name": "stderr",
     "output_type": "stream",
     "text": [
      "100%|██████████| 155/155 [00:46<00:00,  3.35it/s]\n",
      "100%|██████████| 15/15 [00:09<00:00,  1.60it/s]\n",
      "100%|██████████| 18/18 [00:05<00:00,  3.34it/s]\n"
     ]
    },
    {
     "name": "stdout",
     "output_type": "stream",
     "text": [
      "1m 1s\n",
      "Consistency Loss declined to 0.005708195610592762\n",
      "Early Stopping Counter = 0\n",
      "Epoch 202/300\n"
     ]
    },
    {
     "name": "stderr",
     "output_type": "stream",
     "text": [
      "100%|██████████| 155/155 [00:46<00:00,  3.32it/s]\n",
      "100%|██████████| 15/15 [00:10<00:00,  1.49it/s]\n",
      "100%|██████████| 18/18 [00:05<00:00,  3.34it/s]\n"
     ]
    },
    {
     "name": "stdout",
     "output_type": "stream",
     "text": [
      "1m 2s\n",
      "Early Stopping Counter = 1\n",
      "Epoch 203/300\n"
     ]
    },
    {
     "name": "stderr",
     "output_type": "stream",
     "text": [
      "100%|██████████| 155/155 [00:46<00:00,  3.33it/s]\n",
      "100%|██████████| 15/15 [00:09<00:00,  1.61it/s]\n",
      "100%|██████████| 18/18 [00:05<00:00,  3.30it/s]\n"
     ]
    },
    {
     "name": "stdout",
     "output_type": "stream",
     "text": [
      "1m 1s\n",
      "Early Stopping Counter = 2\n",
      "Epoch 204/300\n"
     ]
    },
    {
     "name": "stderr",
     "output_type": "stream",
     "text": [
      "100%|██████████| 155/155 [00:46<00:00,  3.34it/s]\n",
      "100%|██████████| 15/15 [00:09<00:00,  1.59it/s]\n",
      "100%|██████████| 18/18 [00:05<00:00,  3.31it/s]\n"
     ]
    },
    {
     "name": "stdout",
     "output_type": "stream",
     "text": [
      "1m 1s\n",
      "Early Stopping Counter = 3\n",
      "Epoch 205/300\n"
     ]
    },
    {
     "name": "stderr",
     "output_type": "stream",
     "text": [
      "100%|██████████| 155/155 [00:46<00:00,  3.33it/s]\n",
      "100%|██████████| 15/15 [00:09<00:00,  1.56it/s]\n",
      "100%|██████████| 18/18 [00:05<00:00,  3.32it/s]\n"
     ]
    },
    {
     "name": "stdout",
     "output_type": "stream",
     "text": [
      "1m 2s\n",
      "Early Stopping Counter = 4\n",
      "Epoch 206/300\n"
     ]
    },
    {
     "name": "stderr",
     "output_type": "stream",
     "text": [
      "100%|██████████| 155/155 [00:46<00:00,  3.33it/s]\n",
      "100%|██████████| 15/15 [00:09<00:00,  1.59it/s]\n",
      "100%|██████████| 18/18 [00:05<00:00,  3.24it/s]\n"
     ]
    },
    {
     "name": "stdout",
     "output_type": "stream",
     "text": [
      "1m 2s\n",
      "Early Stopping Counter = 5\n",
      "Epoch 207/300\n"
     ]
    },
    {
     "name": "stderr",
     "output_type": "stream",
     "text": [
      "100%|██████████| 155/155 [00:46<00:00,  3.35it/s]\n",
      "100%|██████████| 15/15 [00:09<00:00,  1.59it/s]\n",
      "100%|██████████| 18/18 [00:05<00:00,  3.25it/s]\n"
     ]
    },
    {
     "name": "stdout",
     "output_type": "stream",
     "text": [
      "1m 1s\n",
      "Early Stopping Counter = 6\n",
      "Epoch 208/300\n"
     ]
    },
    {
     "name": "stderr",
     "output_type": "stream",
     "text": [
      "100%|██████████| 155/155 [00:46<00:00,  3.35it/s]\n",
      "100%|██████████| 15/15 [00:09<00:00,  1.62it/s]\n",
      "100%|██████████| 18/18 [00:05<00:00,  3.26it/s]\n"
     ]
    },
    {
     "name": "stdout",
     "output_type": "stream",
     "text": [
      "1m 1s\n",
      "Consistency Loss declined to 0.005684025694305698\n",
      "Early Stopping Counter = 0\n",
      "Epoch 209/300\n"
     ]
    },
    {
     "name": "stderr",
     "output_type": "stream",
     "text": [
      "100%|██████████| 155/155 [00:46<00:00,  3.33it/s]\n",
      "100%|██████████| 15/15 [00:09<00:00,  1.61it/s]\n",
      "100%|██████████| 18/18 [00:05<00:00,  3.27it/s]\n"
     ]
    },
    {
     "name": "stdout",
     "output_type": "stream",
     "text": [
      "1m 1s\n",
      "Consistency Loss declined to 0.005313498495767514\n",
      "Early Stopping Counter = 0\n",
      "Epoch 210/300\n"
     ]
    },
    {
     "name": "stderr",
     "output_type": "stream",
     "text": [
      "100%|██████████| 155/155 [00:46<00:00,  3.34it/s]\n",
      "100%|██████████| 15/15 [00:09<00:00,  1.61it/s]\n",
      "100%|██████████| 18/18 [00:05<00:00,  3.31it/s]\n"
     ]
    },
    {
     "name": "stdout",
     "output_type": "stream",
     "text": [
      "1m 1s\n",
      "Early Stopping Counter = 1\n",
      "Epoch 211/300\n"
     ]
    },
    {
     "name": "stderr",
     "output_type": "stream",
     "text": [
      "100%|██████████| 155/155 [00:46<00:00,  3.35it/s]\n",
      "100%|██████████| 15/15 [00:09<00:00,  1.60it/s]\n",
      "100%|██████████| 18/18 [00:05<00:00,  3.31it/s]\n"
     ]
    },
    {
     "name": "stdout",
     "output_type": "stream",
     "text": [
      "1m 1s\n",
      "Early Stopping Counter = 2\n",
      "Epoch 212/300\n"
     ]
    },
    {
     "name": "stderr",
     "output_type": "stream",
     "text": [
      "100%|██████████| 155/155 [00:46<00:00,  3.35it/s]\n",
      "100%|██████████| 15/15 [00:09<00:00,  1.59it/s]\n",
      "100%|██████████| 18/18 [00:05<00:00,  3.25it/s]\n"
     ]
    },
    {
     "name": "stdout",
     "output_type": "stream",
     "text": [
      "1m 1s\n",
      "Early Stopping Counter = 3\n",
      "Epoch 213/300\n"
     ]
    },
    {
     "name": "stderr",
     "output_type": "stream",
     "text": [
      "100%|██████████| 155/155 [00:46<00:00,  3.35it/s]\n",
      "100%|██████████| 15/15 [00:09<00:00,  1.58it/s]\n",
      "100%|██████████| 18/18 [00:05<00:00,  3.33it/s]\n"
     ]
    },
    {
     "name": "stdout",
     "output_type": "stream",
     "text": [
      "1m 1s\n",
      "Early Stopping Counter = 4\n",
      "Epoch 214/300\n"
     ]
    },
    {
     "name": "stderr",
     "output_type": "stream",
     "text": [
      "100%|██████████| 155/155 [00:46<00:00,  3.34it/s]\n",
      "100%|██████████| 15/15 [00:09<00:00,  1.59it/s]\n",
      "100%|██████████| 18/18 [00:05<00:00,  3.33it/s]\n"
     ]
    },
    {
     "name": "stdout",
     "output_type": "stream",
     "text": [
      "1m 1s\n",
      "Early Stopping Counter = 5\n",
      "Epoch 215/300\n"
     ]
    },
    {
     "name": "stderr",
     "output_type": "stream",
     "text": [
      "100%|██████████| 155/155 [00:46<00:00,  3.34it/s]\n",
      "100%|██████████| 15/15 [00:09<00:00,  1.59it/s]\n",
      "100%|██████████| 18/18 [00:05<00:00,  3.30it/s]\n"
     ]
    },
    {
     "name": "stdout",
     "output_type": "stream",
     "text": [
      "1m 1s\n",
      "Early Stopping Counter = 6\n",
      "Epoch 216/300\n"
     ]
    },
    {
     "name": "stderr",
     "output_type": "stream",
     "text": [
      "100%|██████████| 155/155 [00:46<00:00,  3.33it/s]\n",
      "100%|██████████| 15/15 [00:09<00:00,  1.60it/s]\n",
      "100%|██████████| 18/18 [00:05<00:00,  3.35it/s]\n"
     ]
    },
    {
     "name": "stdout",
     "output_type": "stream",
     "text": [
      "1m 1s\n",
      "Early Stopping Counter = 7\n",
      "Epoch 217/300\n"
     ]
    },
    {
     "name": "stderr",
     "output_type": "stream",
     "text": [
      "100%|██████████| 155/155 [00:46<00:00,  3.33it/s]\n",
      "100%|██████████| 15/15 [00:09<00:00,  1.60it/s]\n",
      "100%|██████████| 18/18 [00:05<00:00,  3.27it/s]\n"
     ]
    },
    {
     "name": "stdout",
     "output_type": "stream",
     "text": [
      "1m 1s\n",
      "Early Stopping Counter = 8\n",
      "Epoch 218/300\n"
     ]
    },
    {
     "name": "stderr",
     "output_type": "stream",
     "text": [
      "100%|██████████| 155/155 [00:46<00:00,  3.33it/s]\n",
      "100%|██████████| 15/15 [00:09<00:00,  1.62it/s]\n",
      "100%|██████████| 18/18 [00:05<00:00,  3.26it/s]\n"
     ]
    },
    {
     "name": "stdout",
     "output_type": "stream",
     "text": [
      "1m 1s\n",
      "Early Stopping Counter = 9\n",
      "Epoch 219/300\n"
     ]
    },
    {
     "name": "stderr",
     "output_type": "stream",
     "text": [
      "100%|██████████| 155/155 [00:46<00:00,  3.35it/s]\n",
      "100%|██████████| 15/15 [00:09<00:00,  1.59it/s]\n",
      "100%|██████████| 18/18 [00:05<00:00,  3.19it/s]\n"
     ]
    },
    {
     "name": "stdout",
     "output_type": "stream",
     "text": [
      "1m 1s\n",
      "Early Stopping Counter = 10\n",
      "Epoch 220/300\n"
     ]
    },
    {
     "name": "stderr",
     "output_type": "stream",
     "text": [
      "100%|██████████| 155/155 [00:46<00:00,  3.35it/s]\n",
      "100%|██████████| 15/15 [00:09<00:00,  1.59it/s]\n",
      "100%|██████████| 18/18 [00:05<00:00,  3.29it/s]\n"
     ]
    },
    {
     "name": "stdout",
     "output_type": "stream",
     "text": [
      "1m 1s\n",
      "Early Stopping Counter = 11\n",
      "Epoch 221/300\n"
     ]
    },
    {
     "name": "stderr",
     "output_type": "stream",
     "text": [
      "100%|██████████| 155/155 [00:46<00:00,  3.34it/s]\n",
      "100%|██████████| 15/15 [00:09<00:00,  1.59it/s]\n",
      "100%|██████████| 18/18 [00:05<00:00,  3.37it/s]\n"
     ]
    },
    {
     "name": "stdout",
     "output_type": "stream",
     "text": [
      "1m 1s\n",
      "Early Stopping Counter = 12\n",
      "Epoch 222/300\n"
     ]
    },
    {
     "name": "stderr",
     "output_type": "stream",
     "text": [
      "100%|██████████| 155/155 [00:46<00:00,  3.35it/s]\n",
      "100%|██████████| 15/15 [00:09<00:00,  1.59it/s]\n",
      "100%|██████████| 18/18 [00:05<00:00,  3.30it/s]\n"
     ]
    },
    {
     "name": "stdout",
     "output_type": "stream",
     "text": [
      "1m 1s\n",
      "Consistency Loss declined to 0.005226649468143781\n",
      "Early Stopping Counter = 0\n",
      "Epoch 223/300\n"
     ]
    },
    {
     "name": "stderr",
     "output_type": "stream",
     "text": [
      "100%|██████████| 155/155 [00:46<00:00,  3.33it/s]\n",
      "100%|██████████| 15/15 [00:09<00:00,  1.61it/s]\n",
      "100%|██████████| 18/18 [00:05<00:00,  3.25it/s]\n"
     ]
    },
    {
     "name": "stdout",
     "output_type": "stream",
     "text": [
      "1m 1s\n",
      "Early Stopping Counter = 1\n",
      "Epoch 224/300\n"
     ]
    },
    {
     "name": "stderr",
     "output_type": "stream",
     "text": [
      "100%|██████████| 155/155 [00:46<00:00,  3.35it/s]\n",
      "100%|██████████| 15/15 [00:09<00:00,  1.60it/s]\n",
      "100%|██████████| 18/18 [00:05<00:00,  3.34it/s]\n"
     ]
    },
    {
     "name": "stdout",
     "output_type": "stream",
     "text": [
      "1m 1s\n",
      "Early Stopping Counter = 2\n",
      "Epoch 225/300\n"
     ]
    },
    {
     "name": "stderr",
     "output_type": "stream",
     "text": [
      "100%|██████████| 155/155 [00:46<00:00,  3.35it/s]\n",
      "100%|██████████| 15/15 [00:09<00:00,  1.60it/s]\n",
      "100%|██████████| 18/18 [00:05<00:00,  3.34it/s]\n"
     ]
    },
    {
     "name": "stdout",
     "output_type": "stream",
     "text": [
      "1m 1s\n",
      "Early Stopping Counter = 3\n",
      "Epoch 226/300\n"
     ]
    },
    {
     "name": "stderr",
     "output_type": "stream",
     "text": [
      "100%|██████████| 155/155 [00:46<00:00,  3.35it/s]\n",
      "100%|██████████| 15/15 [00:09<00:00,  1.60it/s]\n",
      "100%|██████████| 18/18 [00:05<00:00,  3.27it/s]\n"
     ]
    },
    {
     "name": "stdout",
     "output_type": "stream",
     "text": [
      "1m 1s\n",
      "Early Stopping Counter = 4\n",
      "Epoch 227/300\n"
     ]
    },
    {
     "name": "stderr",
     "output_type": "stream",
     "text": [
      "100%|██████████| 155/155 [00:46<00:00,  3.35it/s]\n",
      "100%|██████████| 15/15 [00:09<00:00,  1.59it/s]\n",
      "100%|██████████| 18/18 [00:05<00:00,  3.28it/s]\n"
     ]
    },
    {
     "name": "stdout",
     "output_type": "stream",
     "text": [
      "1m 1s\n",
      "Early Stopping Counter = 5\n",
      "Epoch 228/300\n"
     ]
    },
    {
     "name": "stderr",
     "output_type": "stream",
     "text": [
      "100%|██████████| 155/155 [00:46<00:00,  3.35it/s]\n",
      "100%|██████████| 15/15 [00:09<00:00,  1.60it/s]\n",
      "100%|██████████| 18/18 [00:05<00:00,  3.25it/s]\n"
     ]
    },
    {
     "name": "stdout",
     "output_type": "stream",
     "text": [
      "1m 1s\n",
      "Early Stopping Counter = 6\n",
      "Epoch 229/300\n"
     ]
    },
    {
     "name": "stderr",
     "output_type": "stream",
     "text": [
      "100%|██████████| 155/155 [00:46<00:00,  3.33it/s]\n",
      "100%|██████████| 15/15 [00:09<00:00,  1.57it/s]\n",
      "100%|██████████| 18/18 [00:05<00:00,  3.32it/s]\n"
     ]
    },
    {
     "name": "stdout",
     "output_type": "stream",
     "text": [
      "1m 2s\n",
      "Early Stopping Counter = 7\n",
      "Epoch 230/300\n"
     ]
    },
    {
     "name": "stderr",
     "output_type": "stream",
     "text": [
      "100%|██████████| 155/155 [00:46<00:00,  3.34it/s]\n",
      "100%|██████████| 15/15 [00:09<00:00,  1.55it/s]\n",
      "100%|██████████| 18/18 [00:05<00:00,  3.19it/s]\n"
     ]
    },
    {
     "name": "stdout",
     "output_type": "stream",
     "text": [
      "1m 2s\n",
      "Early Stopping Counter = 8\n",
      "Epoch 231/300\n"
     ]
    },
    {
     "name": "stderr",
     "output_type": "stream",
     "text": [
      "100%|██████████| 155/155 [00:46<00:00,  3.32it/s]\n",
      "100%|██████████| 15/15 [00:09<00:00,  1.60it/s]\n",
      "100%|██████████| 18/18 [00:05<00:00,  3.25it/s]\n"
     ]
    },
    {
     "name": "stdout",
     "output_type": "stream",
     "text": [
      "1m 2s\n",
      "Early Stopping Counter = 9\n",
      "Epoch 232/300\n"
     ]
    },
    {
     "name": "stderr",
     "output_type": "stream",
     "text": [
      "100%|██████████| 155/155 [00:46<00:00,  3.31it/s]\n",
      "100%|██████████| 15/15 [00:09<00:00,  1.55it/s]\n",
      "100%|██████████| 18/18 [00:05<00:00,  3.35it/s]\n"
     ]
    },
    {
     "name": "stdout",
     "output_type": "stream",
     "text": [
      "1m 2s\n",
      "Consistency Loss declined to 0.004991459629187981\n",
      "Early Stopping Counter = 0\n",
      "Epoch 233/300\n"
     ]
    },
    {
     "name": "stderr",
     "output_type": "stream",
     "text": [
      "100%|██████████| 155/155 [00:46<00:00,  3.30it/s]\n",
      "100%|██████████| 15/15 [00:09<00:00,  1.61it/s]\n",
      "100%|██████████| 18/18 [00:05<00:00,  3.34it/s]\n"
     ]
    },
    {
     "name": "stdout",
     "output_type": "stream",
     "text": [
      "1m 2s\n",
      "Early Stopping Counter = 1\n",
      "Epoch 234/300\n"
     ]
    },
    {
     "name": "stderr",
     "output_type": "stream",
     "text": [
      "100%|██████████| 155/155 [00:46<00:00,  3.31it/s]\n",
      "100%|██████████| 15/15 [00:09<00:00,  1.59it/s]\n",
      "100%|██████████| 18/18 [00:05<00:00,  3.27it/s]\n"
     ]
    },
    {
     "name": "stdout",
     "output_type": "stream",
     "text": [
      "1m 2s\n",
      "Early Stopping Counter = 2\n",
      "Epoch 235/300\n"
     ]
    },
    {
     "name": "stderr",
     "output_type": "stream",
     "text": [
      "100%|██████████| 155/155 [00:46<00:00,  3.34it/s]\n",
      "100%|██████████| 15/15 [00:09<00:00,  1.62it/s]\n",
      "100%|██████████| 18/18 [00:05<00:00,  3.25it/s]\n"
     ]
    },
    {
     "name": "stdout",
     "output_type": "stream",
     "text": [
      "1m 1s\n",
      "Early Stopping Counter = 3\n",
      "Epoch 236/300\n"
     ]
    },
    {
     "name": "stderr",
     "output_type": "stream",
     "text": [
      "100%|██████████| 155/155 [00:46<00:00,  3.34it/s]\n",
      "100%|██████████| 15/15 [00:09<00:00,  1.58it/s]\n",
      "100%|██████████| 18/18 [00:05<00:00,  3.23it/s]\n"
     ]
    },
    {
     "name": "stdout",
     "output_type": "stream",
     "text": [
      "1m 1s\n",
      "Consistency Loss declined to 0.004950405067453782\n",
      "Early Stopping Counter = 0\n",
      "Epoch 237/300\n"
     ]
    },
    {
     "name": "stderr",
     "output_type": "stream",
     "text": [
      "100%|██████████| 155/155 [00:46<00:00,  3.33it/s]\n",
      "100%|██████████| 15/15 [00:09<00:00,  1.59it/s]\n",
      "100%|██████████| 18/18 [00:05<00:00,  3.23it/s]\n"
     ]
    },
    {
     "name": "stdout",
     "output_type": "stream",
     "text": [
      "1m 2s\n",
      "Early Stopping Counter = 1\n",
      "Epoch 238/300\n"
     ]
    },
    {
     "name": "stderr",
     "output_type": "stream",
     "text": [
      "100%|██████████| 155/155 [00:46<00:00,  3.34it/s]\n",
      "100%|██████████| 15/15 [00:09<00:00,  1.62it/s]\n",
      "100%|██████████| 18/18 [00:05<00:00,  3.37it/s]\n"
     ]
    },
    {
     "name": "stdout",
     "output_type": "stream",
     "text": [
      "1m 1s\n",
      "Early Stopping Counter = 2\n",
      "Epoch 239/300\n"
     ]
    },
    {
     "name": "stderr",
     "output_type": "stream",
     "text": [
      "100%|██████████| 155/155 [00:46<00:00,  3.34it/s]\n",
      "100%|██████████| 15/15 [00:09<00:00,  1.61it/s]\n",
      "100%|██████████| 18/18 [00:05<00:00,  3.28it/s]\n"
     ]
    },
    {
     "name": "stdout",
     "output_type": "stream",
     "text": [
      "1m 1s\n",
      "Early Stopping Counter = 3\n",
      "Epoch 240/300\n"
     ]
    },
    {
     "name": "stderr",
     "output_type": "stream",
     "text": [
      "100%|██████████| 155/155 [00:46<00:00,  3.35it/s]\n",
      "100%|██████████| 15/15 [00:09<00:00,  1.60it/s]\n",
      "100%|██████████| 18/18 [00:05<00:00,  3.33it/s]\n"
     ]
    },
    {
     "name": "stdout",
     "output_type": "stream",
     "text": [
      "1m 1s\n",
      "Early Stopping Counter = 4\n",
      "Epoch 241/300\n"
     ]
    },
    {
     "name": "stderr",
     "output_type": "stream",
     "text": [
      "100%|██████████| 155/155 [00:46<00:00,  3.34it/s]\n",
      "100%|██████████| 15/15 [00:09<00:00,  1.58it/s]\n",
      "100%|██████████| 18/18 [00:05<00:00,  3.25it/s]\n"
     ]
    },
    {
     "name": "stdout",
     "output_type": "stream",
     "text": [
      "1m 1s\n",
      "Early Stopping Counter = 5\n",
      "Epoch 242/300\n"
     ]
    },
    {
     "name": "stderr",
     "output_type": "stream",
     "text": [
      "100%|██████████| 155/155 [00:46<00:00,  3.36it/s]\n",
      "100%|██████████| 15/15 [00:09<00:00,  1.56it/s]\n",
      "100%|██████████| 18/18 [00:05<00:00,  3.28it/s]\n"
     ]
    },
    {
     "name": "stdout",
     "output_type": "stream",
     "text": [
      "1m 1s\n",
      "Early Stopping Counter = 6\n",
      "Epoch 243/300\n"
     ]
    },
    {
     "name": "stderr",
     "output_type": "stream",
     "text": [
      "100%|██████████| 155/155 [00:46<00:00,  3.35it/s]\n",
      "100%|██████████| 15/15 [00:09<00:00,  1.62it/s]\n",
      "100%|██████████| 18/18 [00:05<00:00,  3.26it/s]\n"
     ]
    },
    {
     "name": "stdout",
     "output_type": "stream",
     "text": [
      "1m 1s\n",
      "Early Stopping Counter = 7\n",
      "Epoch 244/300\n"
     ]
    },
    {
     "name": "stderr",
     "output_type": "stream",
     "text": [
      " 59%|█████▉    | 92/155 [00:28<00:19,  3.23it/s]\n"
     ]
    },
    {
     "ename": "KeyboardInterrupt",
     "evalue": "",
     "output_type": "error",
     "traceback": [
      "\u001b[0;31m---------------------------------------------------------------------------\u001b[0m",
      "\u001b[0;31mKeyboardInterrupt\u001b[0m                         Traceback (most recent call last)",
      "Cell \u001b[0;32mIn[3], line 17\u001b[0m\n\u001b[1;32m     15\u001b[0m     save_mask(former_folname\u001b[38;5;241m=\u001b[39m\u001b[38;5;124m\"\u001b[39m\u001b[38;5;124mhoge\u001b[39m\u001b[38;5;124m\"\u001b[39m, folname\u001b[38;5;241m=\u001b[39mfolnames[i], net\u001b[38;5;241m=\u001b[39m\u001b[38;5;124m\"\u001b[39m\u001b[38;5;124mdeeplab\u001b[39m\u001b[38;5;124m\"\u001b[39m, batch_size\u001b[38;5;241m=\u001b[39m\u001b[38;5;241m64\u001b[39m, save_num\u001b[38;5;241m=\u001b[39m\u001b[38;5;28;01mNone\u001b[39;00m)\n\u001b[1;32m     16\u001b[0m \u001b[38;5;28;01melse\u001b[39;00m:\n\u001b[0;32m---> 17\u001b[0m     \u001b[43mtrain\u001b[49m\u001b[43m(\u001b[49m\u001b[43mformer_folname\u001b[49m\u001b[38;5;241;43m=\u001b[39;49m\u001b[43mfolnames\u001b[49m\u001b[43m[\u001b[49m\u001b[43mi\u001b[49m\u001b[38;5;241;43m-\u001b[39;49m\u001b[38;5;241;43m1\u001b[39;49m\u001b[43m]\u001b[49m\u001b[43m,\u001b[49m\u001b[43m \u001b[49m\u001b[43mfolname\u001b[49m\u001b[38;5;241;43m=\u001b[39;49m\u001b[43mfolnames\u001b[49m\u001b[43m[\u001b[49m\u001b[43mi\u001b[49m\u001b[43m]\u001b[49m\u001b[43m,\u001b[49m\u001b[43m \u001b[49m\u001b[43mfirst\u001b[49m\u001b[38;5;241;43m=\u001b[39;49m\u001b[38;5;28;43;01mFalse\u001b[39;49;00m\u001b[43m,\u001b[49m\u001b[43m \u001b[49m\u001b[43mnet\u001b[49m\u001b[38;5;241;43m=\u001b[39;49m\u001b[38;5;124;43m\"\u001b[39;49m\u001b[38;5;124;43mdeeplab\u001b[39;49m\u001b[38;5;124;43m\"\u001b[39;49m\u001b[43m,\u001b[49m\u001b[43m \u001b[49m\u001b[43mepochs\u001b[49m\u001b[38;5;241;43m=\u001b[39;49m\u001b[38;5;241;43m300\u001b[39;49m\u001b[43m,\u001b[49m\u001b[43m \u001b[49m\u001b[43mbatch_size\u001b[49m\u001b[38;5;241;43m=\u001b[39;49m\u001b[38;5;241;43m64\u001b[39;49m\u001b[43m,\u001b[49m\u001b[43m \u001b[49m\u001b[43malpha\u001b[49m\u001b[38;5;241;43m=\u001b[39;49m\u001b[38;5;241;43m100\u001b[39;49m\u001b[43m,\u001b[49m\u001b[43m \u001b[49m\u001b[43mcons_reg\u001b[49m\u001b[38;5;241;43m=\u001b[39;49m\u001b[38;5;28;43;01mFalse\u001b[39;49;00m\u001b[43m)\u001b[49m\n\u001b[1;32m     18\u001b[0m     scores \u001b[38;5;241m=\u001b[39m inference(former_folname\u001b[38;5;241m=\u001b[39mfolnames[i\u001b[38;5;241m-\u001b[39m\u001b[38;5;241m1\u001b[39m], folname\u001b[38;5;241m=\u001b[39mfolnames[i], net\u001b[38;5;241m=\u001b[39m\u001b[38;5;124m\"\u001b[39m\u001b[38;5;124mdeeplab\u001b[39m\u001b[38;5;124m\"\u001b[39m, batch_size\u001b[38;5;241m=\u001b[39m\u001b[38;5;241m64\u001b[39m)\n\u001b[1;32m     19\u001b[0m     write_to_csv(i\u001b[38;5;241m+\u001b[39m\u001b[38;5;241m1\u001b[39m, scores, csv_filename)\n",
      "File \u001b[0;32m~/domain-adaptation-for-crack-segmentation/train.py:95\u001b[0m, in \u001b[0;36mtrain\u001b[0;34m(former_folname, folname, first, net, batch_size, num_workers, epochs, alpha, beta, crop_size, supervised, cons_reg)\u001b[0m\n\u001b[1;32m     93\u001b[0m     loss\u001b[38;5;241m.\u001b[39mbackward()\n\u001b[1;32m     94\u001b[0m     optimizer\u001b[38;5;241m.\u001b[39mstep()\n\u001b[0;32m---> 95\u001b[0m     running_train_loss\u001b[38;5;241m.\u001b[39mappend(\u001b[43mloss\u001b[49m\u001b[38;5;241;43m.\u001b[39;49m\u001b[43mitem\u001b[49m\u001b[43m(\u001b[49m\u001b[43m)\u001b[49m)\n\u001b[1;32m     97\u001b[0m \u001b[38;5;28;01mif\u001b[39;00m \u001b[38;5;129;01mnot\u001b[39;00m first:\n\u001b[1;32m     98\u001b[0m     \u001b[38;5;28;01mfor\u001b[39;00m image, mean, var \u001b[38;5;129;01min\u001b[39;00m tqdm(train_unlabeled_dataloader):\n",
      "\u001b[0;31mKeyboardInterrupt\u001b[0m: "
     ]
    }
   ],
   "source": [
    "# Uncertainty-based Self-Training\n",
    "project = \"231226\"\n",
    "folnames = [project+\"_iter1\", project+\"_iter2\", project+\"_iter3\", project+\"_iter4\", project+\"_iter5\"]\n",
    "os.makedirs('results/'+ project +'_results', exist_ok=True)\n",
    "csv_filename = 'results/'+project+'_results/results.csv'\n",
    "with open(csv_filename, mode='w', newline='') as file:\n",
    "    writer = csv.writer(file)\n",
    "    writer.writerow(['Iteration', 'F1-Score', 'Accuracy', 'Specificity', 'Recall', 'Precision'])\n",
    "\n",
    "for i in range(len(folnames)):\n",
    "    if i==0:\n",
    "        # train(former_folname=\"hoge\", folname=folnames[i], first=True, net=\"deeplab\", epochs=300, batch_size=64, cons_reg=False)\n",
    "        scores = inference(former_folname=\"hoge\", folname=folnames[i], net=\"deeplab\", batch_size=64)\n",
    "        write_to_csv(i+1, scores, csv_filename)\n",
    "        save_mask(former_folname=\"hoge\", folname=folnames[i], net=\"deeplab\", batch_size=64, save_num=None)\n",
    "    else:\n",
    "        train(former_folname=folnames[i-1], folname=folnames[i], first=False, net=\"deeplab\", epochs=300, batch_size=64, alpha=100, cons_reg=False)\n",
    "        scores = inference(former_folname=folnames[i-1], folname=folnames[i], net=\"deeplab\", batch_size=64)\n",
    "        write_to_csv(i+1, scores, csv_filename)\n",
    "        save_mask(former_folname=folnames[i-1], folname=folnames[i], net=\"deeplab\", batch_size=64, save_num=None)"
   ]
  },
  {
   "cell_type": "code",
   "execution_count": null,
   "metadata": {},
   "outputs": [],
   "source": [
    "# Supervised Learning\n",
    "project = \"231111sup\"\n",
    "folname = project + '_iter1'\n",
    "os.makedirs('results/'+ project +'_results', exist_ok=True)\n",
    "csv_filename = 'results/'+project+'_results/results.csv'\n",
    "with open(csv_filename, mode='w', newline='') as file:\n",
    "    writer = csv.writer(file)\n",
    "    writer.writerow(['Iteration', 'F1-Score', 'Accuracy', 'Specificity', 'Recall', 'Precision'])\n",
    "\n",
    "train(former_folname=\"hoge\", folname=folname, first=True, net=\"deeplab\", epochs=1000, batch_size=64, supervised=True)\n",
    "scores = inference(former_folname=\"hoge\", folname=folname, net=\"deeplab\", batch_size=64, supervised=True)\n",
    "write_to_csv(1, scores, csv_filename)"
   ]
  },
  {
   "cell_type": "code",
   "execution_count": null,
   "metadata": {},
   "outputs": [],
   "source": []
  },
  {
   "cell_type": "code",
   "execution_count": null,
   "metadata": {},
   "outputs": [],
   "source": [
    "import random\n",
    "\n",
    "# ランダムな並びの情報を保存\n",
    "shuffle_indices = list(range(5292))\n",
    "random.shuffle(shuffle_indices)\n",
    "\n",
    "# shuffle_indicesをファイルに保存するなど、情報を保存する方法を選びます\n",
    "with open(\"shuffle_indices.txt\", \"w\") as file:\n",
    "    file.write(\" \".join(map(str, shuffle_indices)))"
   ]
  },
  {
   "cell_type": "code",
   "execution_count": null,
   "metadata": {},
   "outputs": [],
   "source": [
    "meanlst = os.listdir(\"data/unlabeled_mask/231021_iter1/pred_mean_corrected/\")\n",
    "varlst = os.listdir(\"data/unlabeled_mask/231021_iter1/pred_var/\")\n",
    "print(len(meanlst))\n",
    "print(len(varlst))"
   ]
  },
  {
   "cell_type": "code",
   "execution_count": null,
   "metadata": {},
   "outputs": [],
   "source": [
    "import numpy as np\n",
    "from PIL import Image\n",
    "meanlst = os.listdir(\"data/unlabeled_mask/231021_iter1/pred_mean_corrected/\")\n",
    "varlst = os.listdir(\"data/unlabeled_mask/231021_iter1/pred_var/\")\n",
    "\n",
    "# # 各画像を処理\n",
    "for file_name in meanlst:\n",
    "    file_path = os.path.join(\"data/unlabeled_mask/231021_iter1/pred_mean_corrected\", file_name)\n",
    "    \n",
    "    # 画像をnumpy配列に読み込む\n",
    "    img = np.array(Image.open(file_path))\n",
    "    \n",
    "    # 画像サイズが256x256でない場合、警告を表示\n",
    "    if img.shape != (256, 256):\n",
    "        print(f\"異なるサイズの画像: {file_name}, サイズ: {img.shape}\")"
   ]
  },
  {
   "cell_type": "code",
   "execution_count": null,
   "metadata": {},
   "outputs": [],
   "source": [
    "import os\n",
    "import torch\n",
    "\n",
    "# フォルダのパス\n",
    "folder_path = \"data/unlabeled_mask/231021_iter1/pred_var/\"\n",
    "\n",
    "# フォルダ内の全ての.ptファイルをリストアップ\n",
    "pt_files = [f for f in os.listdir(folder_path) if f.endswith(\".pt\")]\n",
    "\n",
    "# 各ファイルを処理\n",
    "for file_name in pt_files:\n",
    "    file_path = os.path.join(folder_path, file_name)\n",
    "    \n",
    "    # PyTorch tensorを読み込む\n",
    "    tensor = torch.load(file_path)\n",
    "    \n",
    "    # 配列サイズが(256, 256)でない場合、警告を表示\n",
    "    if tensor.size() != torch.Size([256, 256]):\n",
    "        print(f\"異なるサイズのPyTorch tensor: {file_name}, サイズ: {tensor.size()}\")\n"
   ]
  },
  {
   "cell_type": "code",
   "execution_count": null,
   "metadata": {},
   "outputs": [],
   "source": [
    "import torch\n",
    "import glob\n",
    "\n",
    "fol_name = \"231107_iter3\"\n",
    "\n",
    "# pred_varを全て読み込み、torch.meanとtorch.maxの平均を計算する\n",
    "pred_var_path = sorted(glob.glob(f'data/unlabeled_mask/{fol_name}/pred_var/*'))\n",
    "mean_box = []\n",
    "max_box = []\n",
    "\n",
    "for file in pred_var_path:\n",
    "    pred_var = torch.load(file)\n",
    "    mean_box.append(torch.mean(pred_var).item())\n",
    "    max_box.append(torch.max(pred_var).item())\n",
    "\n",
    "print(sum(mean_box)/len(mean_box))\n",
    "print(sum(max_box)/len(max_box))"
   ]
  },
  {
   "cell_type": "code",
   "execution_count": null,
   "metadata": {},
   "outputs": [],
   "source": [
    "import matplotlib.pyplot as plt\n",
    "import cv2\n",
    "from PIL import Image\n",
    "# Targetデータでの出力を表示\n",
    "target_filepaths = glob.glob(\"data/Train/images/Rissbilder*\")\n",
    "target_filenames = [p.lstrip(\"data/Train/images/\") for p in target_filepaths]\n",
    "\n",
    "\n",
    "# 10行4列のサブプロットを作成\n",
    "fig, axes = plt.subplots(10, 4, figsize=(10, 20))\n",
    "\n",
    "# 画像をサブプロットに配置\n",
    "for i in range(10):\n",
    "    axes[i, 0].imshow(Image.open(\"data/Train/images/\"+target_filenames[i]))\n",
    "    axes[i, 0].axis('off')\n",
    "    axes[i, 1].imshow(Image.open(\"data/unlabeled_mask/231107_iter1/pred_mean_corrected/\"+target_filenames[i]), cmap='gray')\n",
    "    axes[i, 1].axis('off')\n",
    "    axes[i, 2].imshow(torch.load(\"data/unlabeled_mask/231107_iter1/pred_var/\"+target_filenames[i].rstrip('jpg')+\"pt\"), cmap='gray')\n",
    "    axes[i, 2].axis('off')\n",
    "    axes[i, 3].imshow(Image.open(\"data/Train/masks/\"+target_filenames[i]))\n",
    "    axes[i, 3].axis('off')\n",
    "\n",
    "# グリッドの余白を調整\n",
    "plt.subplots_adjust(wspace=0, hspace=0)\n",
    "\n",
    "# グリッドを表示\n",
    "plt.show()\n",
    "\n",
    "# Train/images/Rissbilder/ pred_mean_corrected, pred_var, Train/masks/Rissbilder"
   ]
  },
  {
   "cell_type": "code",
   "execution_count": null,
   "metadata": {},
   "outputs": [],
   "source": []
  }
 ],
 "metadata": {
  "kernelspec": {
   "display_name": "env",
   "language": "python",
   "name": "python3"
  },
  "language_info": {
   "codemirror_mode": {
    "name": "ipython",
    "version": 3
   },
   "file_extension": ".py",
   "mimetype": "text/x-python",
   "name": "python",
   "nbconvert_exporter": "python",
   "pygments_lexer": "ipython3",
   "version": "3.10.9"
  }
 },
 "nbformat": 4,
 "nbformat_minor": 2
}
