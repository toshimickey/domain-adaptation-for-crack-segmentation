{
 "cells": [
  {
   "cell_type": "code",
   "execution_count": null,
   "metadata": {},
   "outputs": [],
   "source": [
    "from train import train\n",
    "from inference import inference\n",
    "from save_mask import save_mask\n",
    "import csv, os\n",
    "from utils.module import write_to_csv"
   ]
  },
  {
   "cell_type": "code",
   "execution_count": null,
   "metadata": {},
   "outputs": [],
   "source": [
    "!nvidia-smi"
   ]
  },
  {
   "cell_type": "code",
   "execution_count": null,
   "metadata": {},
   "outputs": [],
   "source": [
    "# Uncertainty-based Self-Training\n",
    "project = \"240208\"\n",
    "folnames = [project+\"_iter1\", project+\"_iter2\", project+\"_iter3\", project+\"_iter4\", project+\"_iter5\"]\n",
    "os.makedirs('results/'+ project +'_results', exist_ok=True)\n",
    "csv_filename = 'results/'+project+'_results/results.csv'\n",
    "with open(csv_filename, mode='w', newline='') as file:\n",
    "    writer = csv.writer(file)\n",
    "    writer.writerow(['Iteration', 'F1-Score', 'Accuracy', 'Specificity', 'Recall', 'Precision'])\n",
    "    \n",
    "# params setting\n",
    "JsonDataSplit = False\n",
    "target_dataset = 'chun'\n",
    "useStableDiffusion = False\n",
    "net = 'deeplab'\n",
    "cons_reg = False\n",
    "alpha = 100\n",
    "\n",
    "for i in range(len(folnames)):\n",
    "    if i==0:\n",
    "        train(former_folname=\"\", folname=folnames[i], first=True, JsonDataSplit=JsonDataSplit, target_dataset=target_dataset, useStableDiffusion=useStableDiffusion, net=net, cons_reg=cons_reg)\n",
    "        scores = inference(former_folname=\"\", folname=folnames[i], JsonDataSplit=JsonDataSplit, target_dataset=target_dataset, useStableDiffusion=useStableDiffusion, net=net)\n",
    "        write_to_csv(i+1, scores, csv_filename)\n",
    "        save_mask(former_folname=\"\", folname=folnames[i], JsonDataSplit=JsonDataSplit, target_dataset=target_dataset, useStableDiffusion=useStableDiffusion, net=net)\n",
    "    else:\n",
    "        train(former_folname=folnames[i-1], folname=folnames[i], first=False, alpha=alpha, JsonDataSplit=JsonDataSplit, target_dataset=target_dataset, useStableDiffusion=useStableDiffusion, net=net, cons_reg=cons_reg)\n",
    "        scores = inference(former_folname=folnames[i-1], folname=folnames[i], JsonDataSplit=JsonDataSplit, target_dataset=target_dataset, useStableDiffusion=useStableDiffusion, net=net)\n",
    "        write_to_csv(i+1, scores, csv_filename)\n",
    "        save_mask(former_folname=folnames[i-1], folname=folnames[i], JsonDataSplit=JsonDataSplit, target_dataset=target_dataset, useStableDiffusion=useStableDiffusion, net=net)"
   ]
  },
  {
   "cell_type": "code",
   "execution_count": null,
   "metadata": {},
   "outputs": [],
   "source": [
    "# Supervised Learning\n",
    "project = \"240208sup\"\n",
    "folname = project + '_iter1'\n",
    "os.makedirs('results/'+ project +'_results', exist_ok=True)\n",
    "csv_filename = 'results/'+project+'_results/results.csv'\n",
    "with open(csv_filename, mode='w', newline='') as file:\n",
    "    writer = csv.writer(file)\n",
    "    writer.writerow(['Iteration', 'F1-Score', 'Accuracy', 'Specificity', 'Recall', 'Precision'])\n",
    "\n",
    "# params setting\n",
    "target_dataset = 'chun'\n",
    "net = 'deeplab'\n",
    "epochs = 1000\n",
    "\n",
    "train(former_folname=\"\", folname=folname, first=True, target_dataset=target_dataset, net=net, epochs=epochs, supervised=True)\n",
    "scores = inference(former_folname=\"\", folname=folname, target_dataset=target_dataset, net=net, supervised=True)\n",
    "write_to_csv(1, scores, csv_filename)"
   ]
  }
 ],
 "metadata": {
  "kernelspec": {
   "display_name": "env",
   "language": "python",
   "name": "python3"
  },
  "language_info": {
   "codemirror_mode": {
    "name": "ipython",
    "version": 3
   },
   "file_extension": ".py",
   "mimetype": "text/x-python",
   "name": "python",
   "nbconvert_exporter": "python",
   "pygments_lexer": "ipython3",
   "version": "3.9.10"
  }
 },
 "nbformat": 4,
 "nbformat_minor": 2
}
