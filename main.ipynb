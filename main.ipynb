{
 "cells": [
  {
   "cell_type": "code",
   "execution_count": 1,
   "metadata": {},
   "outputs": [],
   "source": [
    "from train import train\n",
    "from inference import inference\n",
    "from save_mask import save_mask\n",
    "import csv, os\n",
    "from utils.module import write_to_csv"
   ]
  },
  {
   "cell_type": "code",
   "execution_count": 2,
   "metadata": {},
   "outputs": [
    {
     "name": "stdout",
     "output_type": "stream",
     "text": [
      "Tue Oct 24 00:44:31 2023       \n",
      "+---------------------------------------------------------------------------------------+\n",
      "| NVIDIA-SMI 535.54.03              Driver Version: 535.54.03    CUDA Version: 12.2     |\n",
      "|-----------------------------------------+----------------------+----------------------+\n",
      "| GPU  Name                 Persistence-M | Bus-Id        Disp.A | Volatile Uncorr. ECC |\n",
      "| Fan  Temp   Perf          Pwr:Usage/Cap |         Memory-Usage | GPU-Util  Compute M. |\n",
      "|                                         |                      |               MIG M. |\n",
      "|=========================================+======================+======================|\n",
      "|   0  Tesla M60                      On  | 00000000:00:1B.0 Off |                    0 |\n",
      "| N/A   27C    P8              15W / 150W |      0MiB /  7680MiB |      0%      Default |\n",
      "|                                         |                      |                  N/A |\n",
      "+-----------------------------------------+----------------------+----------------------+\n",
      "|   1  Tesla M60                      On  | 00000000:00:1C.0 Off |                    0 |\n",
      "| N/A   34C    P8              13W / 150W |      0MiB /  7680MiB |      0%      Default |\n",
      "|                                         |                      |                  N/A |\n",
      "+-----------------------------------------+----------------------+----------------------+\n",
      "|   2  Tesla M60                      On  | 00000000:00:1D.0 Off |                    0 |\n",
      "| N/A   29C    P8              15W / 150W |      0MiB /  7680MiB |      0%      Default |\n",
      "|                                         |                      |                  N/A |\n",
      "+-----------------------------------------+----------------------+----------------------+\n",
      "|   3  Tesla M60                      On  | 00000000:00:1E.0 Off |                    0 |\n",
      "| N/A   37C    P8              14W / 150W |      0MiB /  7680MiB |      0%      Default |\n",
      "|                                         |                      |                  N/A |\n",
      "+-----------------------------------------+----------------------+----------------------+\n",
      "                                                                                         \n",
      "+---------------------------------------------------------------------------------------+\n",
      "| Processes:                                                                            |\n",
      "|  GPU   GI   CI        PID   Type   Process name                            GPU Memory |\n",
      "|        ID   ID                                                             Usage      |\n",
      "|=======================================================================================|\n",
      "|  No running processes found                                                           |\n",
      "+---------------------------------------------------------------------------------------+\n"
     ]
    }
   ],
   "source": [
    "!nvidia-smi"
   ]
  },
  {
   "cell_type": "code",
   "execution_count": 3,
   "metadata": {},
   "outputs": [
    {
     "name": "stderr",
     "output_type": "stream",
     "text": [
      "100%|██████████| 16/16 [02:07<00:00,  7.94s/it]\n"
     ]
    },
    {
     "name": "stdout",
     "output_type": "stream",
     "text": [
      "F1-Score : 0.573519229888916\n",
      "Accuracy : 0.9970213770866394\n",
      "Specificity : 0.9983681440353394\n",
      "Recall : 0.6353544592857361\n",
      "Precision : 0.5739747881889343\n"
     ]
    },
    {
     "name": "stderr",
     "output_type": "stream",
     "text": [
      " 99%|█████████▊| 67/68 [09:01<00:08,  8.08s/it]\n",
      "100%|██████████| 4292/4292 [01:41<00:00, 42.31it/s] \n"
     ]
    },
    {
     "name": "stdout",
     "output_type": "stream",
     "text": [
      "Epoch 1/300\n"
     ]
    },
    {
     "name": "stderr",
     "output_type": "stream",
     "text": [
      "100%|██████████| 155/155 [01:17<00:00,  1.99it/s]\n",
      "100%|██████████| 67/67 [00:21<00:00,  3.19it/s]\n",
      "100%|██████████| 18/18 [00:08<00:00,  2.04it/s]\n"
     ]
    },
    {
     "name": "stdout",
     "output_type": "stream",
     "text": [
      "Train loss: 0.33007640800168436\n",
      "Train consistency loss: 0.04389417986038016\n",
      "Validation loss: 0.4653256783882777\n",
      "1m 48s\n",
      "Consistency Loss declined to 0.04389417986038016\n",
      "Early Stopping Counter = 0\n",
      "Epoch 2/300\n"
     ]
    },
    {
     "name": "stderr",
     "output_type": "stream",
     "text": [
      "100%|██████████| 155/155 [00:46<00:00,  3.34it/s]\n",
      "100%|██████████| 67/67 [00:20<00:00,  3.20it/s]\n",
      "100%|██████████| 18/18 [00:05<00:00,  3.30it/s]\n"
     ]
    },
    {
     "name": "stdout",
     "output_type": "stream",
     "text": [
      "Train loss: 0.2520580059097659\n",
      "Train consistency loss: 0.04474668816399219\n",
      "Validation loss: 0.4463849746518665\n",
      "1m 13s\n",
      "Early Stopping Counter = 1\n",
      "Epoch 3/300\n"
     ]
    },
    {
     "name": "stderr",
     "output_type": "stream",
     "text": [
      "100%|██████████| 155/155 [00:46<00:00,  3.36it/s]\n",
      "100%|██████████| 67/67 [00:20<00:00,  3.20it/s]\n",
      "100%|██████████| 18/18 [00:05<00:00,  3.36it/s]\n"
     ]
    },
    {
     "name": "stdout",
     "output_type": "stream",
     "text": [
      "Train loss: 0.24894434079047173\n",
      "Train consistency loss: 0.03232440136984658\n",
      "Validation loss: 0.4813748399416606\n",
      "1m 12s\n",
      "Consistency Loss declined to 0.03232440136984658\n",
      "Early Stopping Counter = 0\n",
      "Epoch 4/300\n"
     ]
    },
    {
     "name": "stderr",
     "output_type": "stream",
     "text": [
      "100%|██████████| 155/155 [00:46<00:00,  3.34it/s]\n",
      "100%|██████████| 67/67 [00:20<00:00,  3.24it/s]\n",
      "100%|██████████| 18/18 [00:05<00:00,  3.28it/s]\n"
     ]
    },
    {
     "name": "stdout",
     "output_type": "stream",
     "text": [
      "Train loss: 0.2396988438021752\n",
      "Train consistency loss: 0.03015648716810479\n",
      "Validation loss: 0.4440577874581019\n",
      "1m 13s\n",
      "Consistency Loss declined to 0.03015648716810479\n",
      "Early Stopping Counter = 0\n",
      "Epoch 5/300\n"
     ]
    },
    {
     "name": "stderr",
     "output_type": "stream",
     "text": [
      "100%|██████████| 155/155 [00:46<00:00,  3.34it/s]\n",
      "100%|██████████| 67/67 [00:20<00:00,  3.23it/s]\n",
      "100%|██████████| 18/18 [00:05<00:00,  3.40it/s]\n"
     ]
    },
    {
     "name": "stdout",
     "output_type": "stream",
     "text": [
      "Train loss: 0.23113733828067778\n",
      "Train consistency loss: 0.029016898361159796\n",
      "Validation loss: 0.42692294385698104\n",
      "1m 12s\n",
      "Consistency Loss declined to 0.029016898361159796\n",
      "Early Stopping Counter = 0\n",
      "Epoch 6/300\n"
     ]
    },
    {
     "name": "stderr",
     "output_type": "stream",
     "text": [
      "100%|██████████| 155/155 [00:46<00:00,  3.34it/s]\n",
      "100%|██████████| 67/67 [00:20<00:00,  3.24it/s]\n",
      "100%|██████████| 18/18 [00:05<00:00,  3.25it/s]\n"
     ]
    },
    {
     "name": "stdout",
     "output_type": "stream",
     "text": [
      "Train loss: 0.2284202738154319\n",
      "Train consistency loss: 0.029532664663978477\n",
      "Validation loss: 0.41309694117969936\n",
      "1m 13s\n",
      "Early Stopping Counter = 1\n",
      "Epoch 7/300\n"
     ]
    },
    {
     "name": "stderr",
     "output_type": "stream",
     "text": [
      "100%|██████████| 155/155 [00:46<00:00,  3.35it/s]\n",
      "100%|██████████| 67/67 [00:20<00:00,  3.21it/s]\n",
      "100%|██████████| 18/18 [00:05<00:00,  3.34it/s]\n"
     ]
    },
    {
     "name": "stdout",
     "output_type": "stream",
     "text": [
      "Train loss: 0.22315817706046565\n",
      "Train consistency loss: 0.024986673146486282\n",
      "Validation loss: 0.4328613231579463\n",
      "1m 13s\n",
      "Consistency Loss declined to 0.024986673146486282\n",
      "Early Stopping Counter = 0\n",
      "Epoch 8/300\n"
     ]
    },
    {
     "name": "stderr",
     "output_type": "stream",
     "text": [
      "100%|██████████| 155/155 [00:46<00:00,  3.33it/s]\n",
      "100%|██████████| 67/67 [00:20<00:00,  3.25it/s]\n",
      "100%|██████████| 18/18 [00:05<00:00,  3.20it/s]\n"
     ]
    },
    {
     "name": "stdout",
     "output_type": "stream",
     "text": [
      "Train loss: 0.22460814714431762\n",
      "Train consistency loss: 0.029103748430845452\n",
      "Validation loss: 0.43622519241438973\n",
      "1m 13s\n",
      "Early Stopping Counter = 1\n",
      "Epoch 9/300\n"
     ]
    },
    {
     "name": "stderr",
     "output_type": "stream",
     "text": [
      "100%|██████████| 155/155 [00:45<00:00,  3.37it/s]\n",
      "100%|██████████| 67/67 [00:20<00:00,  3.23it/s]\n",
      "100%|██████████| 18/18 [00:05<00:00,  3.37it/s]\n"
     ]
    },
    {
     "name": "stdout",
     "output_type": "stream",
     "text": [
      "Train loss: 0.22423226535320281\n",
      "Train consistency loss: 0.02450368664602735\n",
      "Validation loss: 0.40004272510608035\n",
      "1m 12s\n",
      "Consistency Loss declined to 0.02450368664602735\n",
      "Early Stopping Counter = 0\n",
      "Epoch 10/300\n"
     ]
    },
    {
     "name": "stderr",
     "output_type": "stream",
     "text": [
      "100%|██████████| 155/155 [00:46<00:00,  3.34it/s]\n",
      "100%|██████████| 67/67 [00:20<00:00,  3.23it/s]\n",
      "100%|██████████| 18/18 [00:05<00:00,  3.39it/s]\n"
     ]
    },
    {
     "name": "stdout",
     "output_type": "stream",
     "text": [
      "Train loss: 0.21692866106187145\n",
      "Train consistency loss: 0.02730193200396068\n",
      "Validation loss: 0.3965134537882275\n",
      "1m 12s\n",
      "Early Stopping Counter = 1\n",
      "Epoch 11/300\n"
     ]
    },
    {
     "name": "stderr",
     "output_type": "stream",
     "text": [
      "100%|██████████| 155/155 [00:46<00:00,  3.36it/s]\n",
      "100%|██████████| 67/67 [00:20<00:00,  3.21it/s]\n",
      "100%|██████████| 18/18 [00:05<00:00,  3.32it/s]\n"
     ]
    },
    {
     "name": "stdout",
     "output_type": "stream",
     "text": [
      "Train loss: 0.21549200146429\n",
      "Train consistency loss: 0.020021247378647772\n",
      "Validation loss: 0.3762591828902562\n",
      "1m 13s\n",
      "Consistency Loss declined to 0.020021247378647772\n",
      "Early Stopping Counter = 0\n",
      "Epoch 12/300\n"
     ]
    },
    {
     "name": "stderr",
     "output_type": "stream",
     "text": [
      "100%|██████████| 155/155 [00:46<00:00,  3.35it/s]\n",
      "100%|██████████| 67/67 [00:20<00:00,  3.24it/s]\n",
      "100%|██████████| 18/18 [00:05<00:00,  3.23it/s]\n"
     ]
    },
    {
     "name": "stdout",
     "output_type": "stream",
     "text": [
      "Train loss: 0.2098614615778769\n",
      "Train consistency loss: 0.02466096670658731\n",
      "Validation loss: 0.41430749330255723\n",
      "1m 13s\n",
      "Early Stopping Counter = 1\n",
      "Epoch 13/300\n"
     ]
    },
    {
     "name": "stderr",
     "output_type": "stream",
     "text": [
      "100%|██████████| 155/155 [00:45<00:00,  3.38it/s]\n",
      "100%|██████████| 67/67 [00:20<00:00,  3.21it/s]\n",
      "100%|██████████| 18/18 [00:05<00:00,  3.37it/s]\n"
     ]
    },
    {
     "name": "stdout",
     "output_type": "stream",
     "text": [
      "Train loss: 0.21216785263630653\n",
      "Train consistency loss: 0.020937735840344605\n",
      "Validation loss: 0.37777040236526066\n",
      "1m 12s\n",
      "Early Stopping Counter = 2\n",
      "Epoch 14/300\n"
     ]
    },
    {
     "name": "stderr",
     "output_type": "stream",
     "text": [
      "100%|██████████| 155/155 [00:46<00:00,  3.36it/s]\n",
      "100%|██████████| 67/67 [00:20<00:00,  3.20it/s]\n",
      "100%|██████████| 18/18 [00:05<00:00,  3.31it/s]\n"
     ]
    },
    {
     "name": "stdout",
     "output_type": "stream",
     "text": [
      "Train loss: 0.20838218860087857\n",
      "Train consistency loss: 0.019528646932553444\n",
      "Validation loss: 0.3415679559111595\n",
      "1m 13s\n",
      "Consistency Loss declined to 0.019528646932553444\n",
      "Early Stopping Counter = 0\n",
      "Epoch 15/300\n"
     ]
    },
    {
     "name": "stderr",
     "output_type": "stream",
     "text": [
      "100%|██████████| 155/155 [00:46<00:00,  3.36it/s]\n",
      "100%|██████████| 67/67 [00:21<00:00,  3.18it/s]\n",
      "100%|██████████| 18/18 [00:05<00:00,  3.35it/s]\n"
     ]
    },
    {
     "name": "stdout",
     "output_type": "stream",
     "text": [
      "Train loss: 0.2046799434769538\n",
      "Train consistency loss: 0.017428610543372917\n",
      "Validation loss: 0.3635501828458574\n",
      "1m 13s\n",
      "Consistency Loss declined to 0.017428610543372917\n",
      "Early Stopping Counter = 0\n",
      "Epoch 16/300\n"
     ]
    },
    {
     "name": "stderr",
     "output_type": "stream",
     "text": [
      "100%|██████████| 155/155 [00:46<00:00,  3.35it/s]\n",
      "100%|██████████| 67/67 [00:21<00:00,  3.19it/s]\n",
      "100%|██████████| 18/18 [00:05<00:00,  3.34it/s]\n"
     ]
    },
    {
     "name": "stdout",
     "output_type": "stream",
     "text": [
      "Train loss: 0.20449421117382666\n",
      "Train consistency loss: 0.020577999262778618\n",
      "Validation loss: 0.36480267925394905\n",
      "1m 13s\n",
      "Early Stopping Counter = 1\n",
      "Epoch 17/300\n"
     ]
    },
    {
     "name": "stderr",
     "output_type": "stream",
     "text": [
      "100%|██████████| 155/155 [00:46<00:00,  3.35it/s]\n",
      "100%|██████████| 67/67 [00:20<00:00,  3.24it/s]\n",
      "100%|██████████| 18/18 [00:05<00:00,  3.35it/s]\n"
     ]
    },
    {
     "name": "stdout",
     "output_type": "stream",
     "text": [
      "Train loss: 0.20719376465966624\n",
      "Train consistency loss: 0.017448630135283985\n",
      "Validation loss: 0.3455294221639633\n",
      "1m 12s\n",
      "Early Stopping Counter = 2\n",
      "Epoch 18/300\n"
     ]
    },
    {
     "name": "stderr",
     "output_type": "stream",
     "text": [
      "100%|██████████| 155/155 [00:46<00:00,  3.36it/s]\n",
      "100%|██████████| 67/67 [00:20<00:00,  3.20it/s]\n",
      "100%|██████████| 18/18 [00:05<00:00,  3.37it/s]\n"
     ]
    },
    {
     "name": "stdout",
     "output_type": "stream",
     "text": [
      "Train loss: 0.20243890535446904\n",
      "Train consistency loss: 0.015417570769508828\n",
      "Validation loss: 0.3512023439009984\n",
      "1m 12s\n",
      "Consistency Loss declined to 0.015417570769508828\n",
      "Early Stopping Counter = 0\n",
      "Epoch 19/300\n"
     ]
    },
    {
     "name": "stderr",
     "output_type": "stream",
     "text": [
      "100%|██████████| 155/155 [00:46<00:00,  3.35it/s]\n",
      "100%|██████████| 67/67 [00:20<00:00,  3.23it/s]\n",
      "100%|██████████| 18/18 [00:05<00:00,  3.19it/s]\n"
     ]
    },
    {
     "name": "stdout",
     "output_type": "stream",
     "text": [
      "Train loss: 0.20110353625589802\n",
      "Train consistency loss: 0.016637050630107744\n",
      "Validation loss: 0.3469490243328942\n",
      "1m 13s\n",
      "Early Stopping Counter = 1\n",
      "Epoch 20/300\n"
     ]
    },
    {
     "name": "stderr",
     "output_type": "stream",
     "text": [
      "100%|██████████| 155/155 [00:46<00:00,  3.36it/s]\n",
      "100%|██████████| 67/67 [00:20<00:00,  3.24it/s]\n",
      "100%|██████████| 18/18 [00:05<00:00,  3.31it/s]\n"
     ]
    },
    {
     "name": "stdout",
     "output_type": "stream",
     "text": [
      "Train loss: 0.19740141822445778\n",
      "Train consistency loss: 0.015180984463320295\n",
      "Validation loss: 0.33061470256911385\n",
      "1m 12s\n",
      "Consistency Loss declined to 0.015180984463320295\n",
      "Early Stopping Counter = 0\n",
      "Epoch 21/300\n"
     ]
    },
    {
     "name": "stderr",
     "output_type": "stream",
     "text": [
      "100%|██████████| 155/155 [00:46<00:00,  3.34it/s]\n",
      "100%|██████████| 67/67 [00:20<00:00,  3.22it/s]\n",
      "100%|██████████| 18/18 [00:05<00:00,  3.27it/s]\n"
     ]
    },
    {
     "name": "stdout",
     "output_type": "stream",
     "text": [
      "Train loss: 0.1999724216038181\n",
      "Train consistency loss: 0.016452620174290975\n",
      "Validation loss: 0.3258370856444041\n",
      "1m 13s\n",
      "Early Stopping Counter = 1\n",
      "Epoch 22/300\n"
     ]
    },
    {
     "name": "stderr",
     "output_type": "stream",
     "text": [
      "100%|██████████| 155/155 [00:46<00:00,  3.36it/s]\n",
      "100%|██████████| 67/67 [00:20<00:00,  3.20it/s]\n",
      "100%|██████████| 18/18 [00:05<00:00,  3.35it/s]\n"
     ]
    },
    {
     "name": "stdout",
     "output_type": "stream",
     "text": [
      "Train loss: 0.1979327364313987\n",
      "Train consistency loss: 0.016892075121625147\n",
      "Validation loss: 0.3900344943006833\n",
      "1m 12s\n",
      "Early Stopping Counter = 2\n",
      "Epoch 23/300\n"
     ]
    },
    {
     "name": "stderr",
     "output_type": "stream",
     "text": [
      "100%|██████████| 155/155 [00:46<00:00,  3.36it/s]\n",
      "100%|██████████| 67/67 [00:20<00:00,  3.22it/s]\n",
      "100%|██████████| 18/18 [00:05<00:00,  3.31it/s]\n"
     ]
    },
    {
     "name": "stdout",
     "output_type": "stream",
     "text": [
      "Train loss: 0.20384743223267218\n",
      "Train consistency loss: 0.017300555816114838\n",
      "Validation loss: 0.3746616625123554\n",
      "1m 12s\n",
      "Early Stopping Counter = 3\n",
      "Epoch 24/300\n"
     ]
    },
    {
     "name": "stderr",
     "output_type": "stream",
     "text": [
      "100%|██████████| 155/155 [00:45<00:00,  3.37it/s]\n",
      "100%|██████████| 67/67 [00:20<00:00,  3.19it/s]\n",
      "100%|██████████| 18/18 [00:05<00:00,  3.28it/s]\n"
     ]
    },
    {
     "name": "stdout",
     "output_type": "stream",
     "text": [
      "Train loss: 0.20088370240503742\n",
      "Train consistency loss: 0.01507613645977716\n",
      "Validation loss: 0.3225449820359548\n",
      "1m 12s\n",
      "Consistency Loss declined to 0.01507613645977716\n",
      "Early Stopping Counter = 0\n",
      "Epoch 25/300\n"
     ]
    },
    {
     "name": "stderr",
     "output_type": "stream",
     "text": [
      "100%|██████████| 155/155 [00:46<00:00,  3.35it/s]\n",
      "100%|██████████| 67/67 [00:20<00:00,  3.23it/s]\n",
      "100%|██████████| 18/18 [00:05<00:00,  3.32it/s]\n"
     ]
    },
    {
     "name": "stdout",
     "output_type": "stream",
     "text": [
      "Train loss: 0.1967044899540563\n",
      "Train consistency loss: 0.014975111938512592\n",
      "Validation loss: 0.31629230495956207\n",
      "1m 12s\n",
      "Consistency Loss declined to 0.014975111938512592\n",
      "Early Stopping Counter = 0\n",
      "Epoch 26/300\n"
     ]
    },
    {
     "name": "stderr",
     "output_type": "stream",
     "text": [
      "100%|██████████| 155/155 [00:46<00:00,  3.34it/s]\n",
      "100%|██████████| 67/67 [00:20<00:00,  3.24it/s]\n",
      "100%|██████████| 18/18 [00:05<00:00,  3.26it/s]\n"
     ]
    },
    {
     "name": "stdout",
     "output_type": "stream",
     "text": [
      "Train loss: 0.19461184163247386\n",
      "Train consistency loss: 0.018496391676199524\n",
      "Validation loss: 0.35329460435443455\n",
      "1m 13s\n",
      "Early Stopping Counter = 1\n",
      "Epoch 27/300\n"
     ]
    },
    {
     "name": "stderr",
     "output_type": "stream",
     "text": [
      "100%|██████████| 155/155 [00:46<00:00,  3.35it/s]\n",
      "100%|██████████| 67/67 [00:20<00:00,  3.20it/s]\n",
      "100%|██████████| 18/18 [00:05<00:00,  3.28it/s]\n"
     ]
    },
    {
     "name": "stdout",
     "output_type": "stream",
     "text": [
      "Train loss: 0.20202762244209166\n",
      "Train consistency loss: 0.01457748120066835\n",
      "Validation loss: 0.3270915440387196\n",
      "1m 13s\n",
      "Consistency Loss declined to 0.01457748120066835\n",
      "Early Stopping Counter = 0\n",
      "Epoch 28/300\n"
     ]
    },
    {
     "name": "stderr",
     "output_type": "stream",
     "text": [
      "100%|██████████| 155/155 [00:46<00:00,  3.35it/s]\n",
      "100%|██████████| 67/67 [00:20<00:00,  3.23it/s]\n",
      "100%|██████████| 18/18 [00:05<00:00,  3.25it/s]\n"
     ]
    },
    {
     "name": "stdout",
     "output_type": "stream",
     "text": [
      "Train loss: 0.19307955532304702\n",
      "Train consistency loss: 0.011952038840460243\n",
      "Validation loss: 0.3269658039013545\n",
      "1m 13s\n",
      "Consistency Loss declined to 0.011952038840460243\n",
      "Early Stopping Counter = 0\n",
      "Epoch 29/300\n"
     ]
    },
    {
     "name": "stderr",
     "output_type": "stream",
     "text": [
      "100%|██████████| 155/155 [00:46<00:00,  3.34it/s]\n",
      "100%|██████████| 67/67 [00:20<00:00,  3.23it/s]\n",
      "100%|██████████| 18/18 [00:05<00:00,  3.28it/s]\n"
     ]
    },
    {
     "name": "stdout",
     "output_type": "stream",
     "text": [
      "Train loss: 0.19103158837364567\n",
      "Train consistency loss: 0.013336538538725963\n",
      "Validation loss: 0.3413761208454768\n",
      "1m 13s\n",
      "Early Stopping Counter = 1\n",
      "Epoch 30/300\n"
     ]
    },
    {
     "name": "stderr",
     "output_type": "stream",
     "text": [
      "100%|██████████| 155/155 [00:46<00:00,  3.36it/s]\n",
      "100%|██████████| 67/67 [00:20<00:00,  3.21it/s]\n",
      "100%|██████████| 18/18 [00:05<00:00,  3.36it/s]\n"
     ]
    },
    {
     "name": "stdout",
     "output_type": "stream",
     "text": [
      "Train loss: 0.19121466673189594\n",
      "Train consistency loss: 0.010209120608477005\n",
      "Validation loss: 0.31822587384117973\n",
      "1m 12s\n",
      "Consistency Loss declined to 0.010209120608477005\n",
      "Early Stopping Counter = 0\n",
      "Epoch 31/300\n"
     ]
    },
    {
     "name": "stderr",
     "output_type": "stream",
     "text": [
      "100%|██████████| 155/155 [00:46<00:00,  3.35it/s]\n",
      "100%|██████████| 67/67 [00:20<00:00,  3.23it/s]\n",
      "100%|██████████| 18/18 [00:05<00:00,  3.12it/s]\n"
     ]
    },
    {
     "name": "stdout",
     "output_type": "stream",
     "text": [
      "Train loss: 0.1897046806350831\n",
      "Train consistency loss: 0.011329306018497073\n",
      "Validation loss: 0.3235816972123252\n",
      "1m 13s\n",
      "Early Stopping Counter = 1\n",
      "Epoch 32/300\n"
     ]
    },
    {
     "name": "stderr",
     "output_type": "stream",
     "text": [
      "100%|██████████| 155/155 [00:46<00:00,  3.36it/s]\n",
      "100%|██████████| 67/67 [00:20<00:00,  3.24it/s]\n",
      "100%|██████████| 18/18 [00:05<00:00,  3.32it/s]\n"
     ]
    },
    {
     "name": "stdout",
     "output_type": "stream",
     "text": [
      "Train loss: 0.18927809211515612\n",
      "Train consistency loss: 0.011769961190423858\n",
      "Validation loss: 0.38068297174241805\n",
      "1m 12s\n",
      "Early Stopping Counter = 2\n",
      "Epoch 33/300\n"
     ]
    },
    {
     "name": "stderr",
     "output_type": "stream",
     "text": [
      "100%|██████████| 155/155 [00:46<00:00,  3.36it/s]\n",
      "100%|██████████| 67/67 [00:20<00:00,  3.23it/s]\n",
      "100%|██████████| 18/18 [00:05<00:00,  3.25it/s]\n"
     ]
    },
    {
     "name": "stdout",
     "output_type": "stream",
     "text": [
      "Train loss: 0.19377043227995597\n",
      "Train consistency loss: 0.01054135692973079\n",
      "Validation loss: 0.30963271111249924\n",
      "1m 12s\n",
      "Early Stopping Counter = 3\n",
      "Epoch 34/300\n"
     ]
    },
    {
     "name": "stderr",
     "output_type": "stream",
     "text": [
      "100%|██████████| 155/155 [00:46<00:00,  3.35it/s]\n",
      "100%|██████████| 67/67 [00:20<00:00,  3.24it/s]\n",
      "100%|██████████| 18/18 [00:05<00:00,  3.34it/s]\n"
     ]
    },
    {
     "name": "stdout",
     "output_type": "stream",
     "text": [
      "Train loss: 0.18779528054498856\n",
      "Train consistency loss: 0.00989902722510273\n",
      "Validation loss: 0.3304499462246895\n",
      "1m 12s\n",
      "Consistency Loss declined to 0.00989902722510273\n",
      "Early Stopping Counter = 0\n",
      "Epoch 35/300\n"
     ]
    },
    {
     "name": "stderr",
     "output_type": "stream",
     "text": [
      "100%|██████████| 155/155 [00:46<00:00,  3.35it/s]\n",
      "100%|██████████| 67/67 [00:20<00:00,  3.23it/s]\n",
      "100%|██████████| 18/18 [00:05<00:00,  3.22it/s]\n"
     ]
    },
    {
     "name": "stdout",
     "output_type": "stream",
     "text": [
      "Train loss: 0.18663652010502355\n",
      "Train consistency loss: 0.009530356633407412\n",
      "Validation loss: 0.3228829685184691\n",
      "1m 13s\n",
      "Consistency Loss declined to 0.009530356633407412\n",
      "Early Stopping Counter = 0\n",
      "Epoch 36/300\n"
     ]
    },
    {
     "name": "stderr",
     "output_type": "stream",
     "text": [
      "100%|██████████| 155/155 [00:46<00:00,  3.34it/s]\n",
      "100%|██████████| 67/67 [00:20<00:00,  3.23it/s]\n",
      "100%|██████████| 18/18 [00:05<00:00,  3.29it/s]\n"
     ]
    },
    {
     "name": "stdout",
     "output_type": "stream",
     "text": [
      "Train loss: 0.18682443470724167\n",
      "Train consistency loss: 0.010206278483035848\n",
      "Validation loss: 0.2981167145901256\n",
      "1m 13s\n",
      "Early Stopping Counter = 1\n",
      "Epoch 37/300\n"
     ]
    },
    {
     "name": "stderr",
     "output_type": "stream",
     "text": [
      "100%|██████████| 155/155 [00:46<00:00,  3.33it/s]\n",
      "100%|██████████| 67/67 [00:20<00:00,  3.20it/s]\n",
      "100%|██████████| 18/18 [00:05<00:00,  3.30it/s]\n"
     ]
    },
    {
     "name": "stdout",
     "output_type": "stream",
     "text": [
      "Train loss: 0.18646289302456764\n",
      "Train consistency loss: 0.010409722080343027\n",
      "Validation loss: 0.31359662115573883\n",
      "1m 13s\n",
      "Early Stopping Counter = 2\n",
      "Epoch 38/300\n"
     ]
    },
    {
     "name": "stderr",
     "output_type": "stream",
     "text": [
      "100%|██████████| 155/155 [00:46<00:00,  3.35it/s]\n",
      "100%|██████████| 67/67 [00:21<00:00,  3.18it/s]\n",
      "100%|██████████| 18/18 [00:05<00:00,  3.15it/s]\n"
     ]
    },
    {
     "name": "stdout",
     "output_type": "stream",
     "text": [
      "Train loss: 0.18916818586087997\n",
      "Train consistency loss: 0.008974518758981531\n",
      "Validation loss: 0.3318437122636371\n",
      "1m 13s\n",
      "Consistency Loss declined to 0.008974518758981531\n",
      "Early Stopping Counter = 0\n",
      "Epoch 39/300\n"
     ]
    },
    {
     "name": "stderr",
     "output_type": "stream",
     "text": [
      "100%|██████████| 155/155 [00:46<00:00,  3.35it/s]\n",
      "100%|██████████| 67/67 [00:20<00:00,  3.20it/s]\n",
      "100%|██████████| 18/18 [00:05<00:00,  3.34it/s]\n"
     ]
    },
    {
     "name": "stdout",
     "output_type": "stream",
     "text": [
      "Train loss: 0.1850850538861367\n",
      "Train consistency loss: 0.00994525637839045\n",
      "Validation loss: 0.30317120254039764\n",
      "1m 13s\n",
      "Early Stopping Counter = 1\n",
      "Epoch 40/300\n"
     ]
    },
    {
     "name": "stderr",
     "output_type": "stream",
     "text": [
      "100%|██████████| 155/155 [00:46<00:00,  3.34it/s]\n",
      "100%|██████████| 67/67 [00:20<00:00,  3.22it/s]\n",
      "100%|██████████| 18/18 [00:05<00:00,  3.30it/s]\n"
     ]
    },
    {
     "name": "stdout",
     "output_type": "stream",
     "text": [
      "Train loss: 0.18491179568152274\n",
      "Train consistency loss: 0.008697324310804702\n",
      "Validation loss: 0.2870706278416846\n",
      "1m 13s\n",
      "Consistency Loss declined to 0.008697324310804702\n",
      "Early Stopping Counter = 0\n",
      "Epoch 41/300\n"
     ]
    },
    {
     "name": "stderr",
     "output_type": "stream",
     "text": [
      "100%|██████████| 155/155 [00:46<00:00,  3.34it/s]\n",
      "100%|██████████| 67/67 [00:20<00:00,  3.22it/s]\n",
      "100%|██████████| 18/18 [00:05<00:00,  3.31it/s]\n"
     ]
    },
    {
     "name": "stdout",
     "output_type": "stream",
     "text": [
      "Train loss: 0.18345327136978026\n",
      "Train consistency loss: 0.008236363849866746\n",
      "Validation loss: 0.3160790395405557\n",
      "1m 13s\n",
      "Consistency Loss declined to 0.008236363849866746\n",
      "Early Stopping Counter = 0\n",
      "Epoch 42/300\n"
     ]
    },
    {
     "name": "stderr",
     "output_type": "stream",
     "text": [
      "100%|██████████| 155/155 [00:46<00:00,  3.34it/s]\n",
      "100%|██████████| 67/67 [00:20<00:00,  3.22it/s]\n",
      "100%|██████████| 18/18 [00:05<00:00,  3.33it/s]\n"
     ]
    },
    {
     "name": "stdout",
     "output_type": "stream",
     "text": [
      "Train loss: 0.18635009286865112\n",
      "Train consistency loss: 0.009798099537060331\n",
      "Validation loss: 0.31111809694104725\n",
      "1m 13s\n",
      "Early Stopping Counter = 1\n",
      "Epoch 43/300\n"
     ]
    },
    {
     "name": "stderr",
     "output_type": "stream",
     "text": [
      "100%|██████████| 155/155 [00:46<00:00,  3.34it/s]\n",
      "100%|██████████| 67/67 [00:21<00:00,  3.18it/s]\n",
      "100%|██████████| 18/18 [00:05<00:00,  3.25it/s]\n"
     ]
    },
    {
     "name": "stdout",
     "output_type": "stream",
     "text": [
      "Train loss: 0.1837712376348434\n",
      "Train consistency loss: 0.008276698697330569\n",
      "Validation loss: 0.296497889690929\n",
      "1m 13s\n",
      "Early Stopping Counter = 2\n",
      "Epoch 44/300\n"
     ]
    },
    {
     "name": "stderr",
     "output_type": "stream",
     "text": [
      "100%|██████████| 155/155 [00:46<00:00,  3.35it/s]\n",
      "100%|██████████| 67/67 [00:20<00:00,  3.23it/s]\n",
      "100%|██████████| 18/18 [00:05<00:00,  3.34it/s]\n"
     ]
    },
    {
     "name": "stdout",
     "output_type": "stream",
     "text": [
      "Train loss: 0.1820867003933076\n",
      "Train consistency loss: 0.008034456667226197\n",
      "Validation loss: 0.3012586484352748\n",
      "1m 12s\n",
      "Consistency Loss declined to 0.008034456667226197\n",
      "Early Stopping Counter = 0\n",
      "Epoch 45/300\n"
     ]
    },
    {
     "name": "stderr",
     "output_type": "stream",
     "text": [
      "100%|██████████| 155/155 [00:46<00:00,  3.34it/s]\n",
      "100%|██████████| 67/67 [00:20<00:00,  3.23it/s]\n",
      "100%|██████████| 18/18 [00:05<00:00,  3.22it/s]\n"
     ]
    },
    {
     "name": "stdout",
     "output_type": "stream",
     "text": [
      "Train loss: 0.18173223628151802\n",
      "Train consistency loss: 0.007403868333950861\n",
      "Validation loss: 0.3012571980555852\n",
      "1m 13s\n",
      "Consistency Loss declined to 0.007403868333950861\n",
      "Early Stopping Counter = 0\n",
      "Epoch 46/300\n"
     ]
    },
    {
     "name": "stderr",
     "output_type": "stream",
     "text": [
      "100%|██████████| 155/155 [00:46<00:00,  3.34it/s]\n",
      "100%|██████████| 67/67 [00:20<00:00,  3.23it/s]\n",
      "100%|██████████| 18/18 [00:05<00:00,  3.30it/s]\n"
     ]
    },
    {
     "name": "stdout",
     "output_type": "stream",
     "text": [
      "Train loss: 0.18160510188148868\n",
      "Train consistency loss: 0.00777578559954331\n",
      "Validation loss: 0.3129346403810713\n",
      "1m 13s\n",
      "Early Stopping Counter = 1\n",
      "Epoch 47/300\n"
     ]
    },
    {
     "name": "stderr",
     "output_type": "stream",
     "text": [
      "100%|██████████| 155/155 [00:46<00:00,  3.36it/s]\n",
      "100%|██████████| 67/67 [00:20<00:00,  3.21it/s]\n",
      "100%|██████████| 18/18 [00:05<00:00,  3.36it/s]\n"
     ]
    },
    {
     "name": "stdout",
     "output_type": "stream",
     "text": [
      "Train loss: 0.18121494948863984\n",
      "Train consistency loss: 0.008375675368831674\n",
      "Validation loss: 0.3083391727672683\n",
      "1m 12s\n",
      "Early Stopping Counter = 2\n",
      "Epoch 48/300\n"
     ]
    },
    {
     "name": "stderr",
     "output_type": "stream",
     "text": [
      "100%|██████████| 155/155 [00:46<00:00,  3.35it/s]\n",
      "100%|██████████| 67/67 [00:20<00:00,  3.19it/s]\n",
      "100%|██████████| 18/18 [00:05<00:00,  3.36it/s]\n"
     ]
    },
    {
     "name": "stdout",
     "output_type": "stream",
     "text": [
      "Train loss: 0.18006525087741113\n",
      "Train consistency loss: 0.007193026907825426\n",
      "Validation loss: 0.298095419175095\n",
      "1m 13s\n",
      "Consistency Loss declined to 0.007193026907825426\n",
      "Early Stopping Counter = 0\n",
      "Epoch 49/300\n"
     ]
    },
    {
     "name": "stderr",
     "output_type": "stream",
     "text": [
      "100%|██████████| 155/155 [00:46<00:00,  3.35it/s]\n",
      "100%|██████████| 67/67 [00:20<00:00,  3.20it/s]\n",
      "100%|██████████| 18/18 [00:05<00:00,  3.28it/s]\n"
     ]
    },
    {
     "name": "stdout",
     "output_type": "stream",
     "text": [
      "Train loss: 0.17994986695628012\n",
      "Train consistency loss: 0.008033590168872876\n",
      "Validation loss: 0.30925195415814716\n",
      "1m 13s\n",
      "Early Stopping Counter = 1\n",
      "Epoch 50/300\n"
     ]
    },
    {
     "name": "stderr",
     "output_type": "stream",
     "text": [
      "100%|██████████| 155/155 [00:46<00:00,  3.36it/s]\n",
      "100%|██████████| 67/67 [00:20<00:00,  3.23it/s]\n",
      "100%|██████████| 18/18 [00:05<00:00,  3.28it/s]\n"
     ]
    },
    {
     "name": "stdout",
     "output_type": "stream",
     "text": [
      "Train loss: 0.17984790552046992\n",
      "Train consistency loss: 0.007986208451772803\n",
      "Validation loss: 0.30790076901515323\n",
      "1m 12s\n",
      "Early Stopping Counter = 2\n",
      "Epoch 51/300\n"
     ]
    },
    {
     "name": "stderr",
     "output_type": "stream",
     "text": [
      "100%|██████████| 155/155 [00:46<00:00,  3.36it/s]\n",
      "100%|██████████| 67/67 [00:20<00:00,  3.21it/s]\n",
      "100%|██████████| 18/18 [00:05<00:00,  3.30it/s]\n"
     ]
    },
    {
     "name": "stdout",
     "output_type": "stream",
     "text": [
      "Train loss: 0.18056966518202136\n",
      "Train consistency loss: 0.007581825454983471\n",
      "Validation loss: 0.2888777446415689\n",
      "1m 13s\n",
      "Early Stopping Counter = 3\n",
      "Epoch 52/300\n"
     ]
    },
    {
     "name": "stderr",
     "output_type": "stream",
     "text": [
      "100%|██████████| 155/155 [00:46<00:00,  3.33it/s]\n",
      "100%|██████████| 67/67 [00:20<00:00,  3.23it/s]\n",
      "100%|██████████| 18/18 [00:05<00:00,  3.26it/s]\n"
     ]
    },
    {
     "name": "stdout",
     "output_type": "stream",
     "text": [
      "Train loss: 0.1776341425795709\n",
      "Train consistency loss: 0.006724985524900814\n",
      "Validation loss: 0.297220711906751\n",
      "1m 13s\n",
      "Consistency Loss declined to 0.006724985524900814\n",
      "Early Stopping Counter = 0\n",
      "Epoch 53/300\n"
     ]
    },
    {
     "name": "stderr",
     "output_type": "stream",
     "text": [
      "100%|██████████| 155/155 [00:46<00:00,  3.33it/s]\n",
      "100%|██████████| 67/67 [00:20<00:00,  3.23it/s]\n",
      "100%|██████████| 18/18 [00:05<00:00,  3.30it/s]\n"
     ]
    },
    {
     "name": "stdout",
     "output_type": "stream",
     "text": [
      "Train loss: 0.17816062040867345\n",
      "Train consistency loss: 0.009394000225297329\n",
      "Validation loss: 0.31435076230102116\n",
      "1m 13s\n",
      "Early Stopping Counter = 1\n",
      "Epoch 54/300\n"
     ]
    },
    {
     "name": "stderr",
     "output_type": "stream",
     "text": [
      "100%|██████████| 155/155 [00:46<00:00,  3.34it/s]\n",
      "100%|██████████| 67/67 [00:20<00:00,  3.20it/s]\n",
      "100%|██████████| 18/18 [00:05<00:00,  3.28it/s]\n"
     ]
    },
    {
     "name": "stdout",
     "output_type": "stream",
     "text": [
      "Train loss: 0.17903754441968855\n",
      "Train consistency loss: 0.0071891179662753844\n",
      "Validation loss: 0.3047154140141275\n",
      "1m 13s\n",
      "Early Stopping Counter = 2\n",
      "Epoch 55/300\n"
     ]
    },
    {
     "name": "stderr",
     "output_type": "stream",
     "text": [
      "100%|██████████| 155/155 [00:46<00:00,  3.33it/s]\n",
      "100%|██████████| 67/67 [00:20<00:00,  3.20it/s]\n",
      "100%|██████████| 18/18 [00:05<00:00,  3.37it/s]\n"
     ]
    },
    {
     "name": "stdout",
     "output_type": "stream",
     "text": [
      "Train loss: 0.17706097633607926\n",
      "Train consistency loss: 0.00699282287786812\n",
      "Validation loss: 0.29378365228573483\n",
      "1m 13s\n",
      "Early Stopping Counter = 3\n",
      "Epoch 56/300\n"
     ]
    },
    {
     "name": "stderr",
     "output_type": "stream",
     "text": [
      "100%|██████████| 155/155 [00:46<00:00,  3.34it/s]\n",
      "100%|██████████| 67/67 [00:20<00:00,  3.20it/s]\n",
      "100%|██████████| 18/18 [00:05<00:00,  3.27it/s]\n"
     ]
    },
    {
     "name": "stdout",
     "output_type": "stream",
     "text": [
      "Train loss: 0.17687040865421294\n",
      "Train consistency loss: 0.0063377800606079955\n",
      "Validation loss: 0.2858038122455279\n",
      "1m 13s\n",
      "Consistency Loss declined to 0.0063377800606079955\n",
      "Early Stopping Counter = 0\n",
      "Epoch 57/300\n"
     ]
    },
    {
     "name": "stderr",
     "output_type": "stream",
     "text": [
      "100%|██████████| 155/155 [00:46<00:00,  3.34it/s]\n",
      "100%|██████████| 67/67 [00:20<00:00,  3.23it/s]\n",
      "100%|██████████| 18/18 [00:05<00:00,  3.25it/s]\n"
     ]
    },
    {
     "name": "stdout",
     "output_type": "stream",
     "text": [
      "Train loss: 0.1750530151590224\n",
      "Train consistency loss: 0.007738465759486182\n",
      "Validation loss: 0.2930472642183304\n",
      "1m 13s\n",
      "Early Stopping Counter = 1\n",
      "Epoch 58/300\n"
     ]
    },
    {
     "name": "stderr",
     "output_type": "stream",
     "text": [
      "100%|██████████| 155/155 [00:46<00:00,  3.35it/s]\n",
      "100%|██████████| 67/67 [00:21<00:00,  3.14it/s]\n",
      "100%|██████████| 18/18 [00:05<00:00,  3.29it/s]\n"
     ]
    },
    {
     "name": "stdout",
     "output_type": "stream",
     "text": [
      "Train loss: 0.17652672721493629\n",
      "Train consistency loss: 0.006113242632500938\n",
      "Validation loss: 0.29980307237969506\n",
      "1m 13s\n",
      "Consistency Loss declined to 0.006113242632500938\n",
      "Early Stopping Counter = 0\n",
      "Epoch 59/300\n"
     ]
    },
    {
     "name": "stderr",
     "output_type": "stream",
     "text": [
      "100%|██████████| 155/155 [00:46<00:00,  3.34it/s]\n",
      "100%|██████████| 67/67 [00:21<00:00,  3.19it/s]\n",
      "100%|██████████| 18/18 [00:05<00:00,  3.29it/s]\n"
     ]
    },
    {
     "name": "stdout",
     "output_type": "stream",
     "text": [
      "Train loss: 0.17425042304300492\n",
      "Train consistency loss: 0.006021963842491161\n",
      "Validation loss: 0.2911037794417805\n",
      "1m 13s\n",
      "Consistency Loss declined to 0.006021963842491161\n",
      "Early Stopping Counter = 0\n",
      "Epoch 60/300\n"
     ]
    },
    {
     "name": "stderr",
     "output_type": "stream",
     "text": [
      "100%|██████████| 155/155 [00:46<00:00,  3.33it/s]\n",
      "100%|██████████| 67/67 [00:20<00:00,  3.22it/s]\n",
      "100%|██████████| 18/18 [00:05<00:00,  3.29it/s]\n"
     ]
    },
    {
     "name": "stdout",
     "output_type": "stream",
     "text": [
      "Train loss: 0.1735906744195569\n",
      "Train consistency loss: 0.00624194552899519\n",
      "Validation loss: 0.2862035632133484\n",
      "1m 13s\n",
      "Early Stopping Counter = 1\n",
      "Epoch 61/300\n"
     ]
    },
    {
     "name": "stderr",
     "output_type": "stream",
     "text": [
      "100%|██████████| 155/155 [00:46<00:00,  3.35it/s]\n",
      "100%|██████████| 67/67 [00:20<00:00,  3.23it/s]\n",
      "100%|██████████| 18/18 [00:05<00:00,  3.27it/s]\n"
     ]
    },
    {
     "name": "stdout",
     "output_type": "stream",
     "text": [
      "Train loss: 0.17327448581495591\n",
      "Train consistency loss: 0.0062244297144239515\n",
      "Validation loss: 0.3185960857404603\n",
      "1m 13s\n",
      "Early Stopping Counter = 2\n",
      "Epoch 62/300\n"
     ]
    },
    {
     "name": "stderr",
     "output_type": "stream",
     "text": [
      "100%|██████████| 155/155 [00:46<00:00,  3.35it/s]\n",
      "100%|██████████| 67/67 [00:20<00:00,  3.23it/s]\n",
      "100%|██████████| 18/18 [00:05<00:00,  3.25it/s]\n"
     ]
    },
    {
     "name": "stdout",
     "output_type": "stream",
     "text": [
      "Train loss: 0.17398270868485974\n",
      "Train consistency loss: 0.006756541611098532\n",
      "Validation loss: 0.3130319184727139\n",
      "1m 13s\n",
      "Early Stopping Counter = 3\n",
      "Epoch 63/300\n"
     ]
    },
    {
     "name": "stderr",
     "output_type": "stream",
     "text": [
      "100%|██████████| 155/155 [00:46<00:00,  3.35it/s]\n",
      "100%|██████████| 67/67 [00:20<00:00,  3.22it/s]\n",
      "100%|██████████| 18/18 [00:05<00:00,  3.37it/s]\n"
     ]
    },
    {
     "name": "stdout",
     "output_type": "stream",
     "text": [
      "Train loss: 0.1739872229676093\n",
      "Train consistency loss: 0.00581480262960905\n",
      "Validation loss: 0.2932492684986856\n",
      "1m 12s\n",
      "Consistency Loss declined to 0.00581480262960905\n",
      "Early Stopping Counter = 0\n",
      "Epoch 64/300\n"
     ]
    },
    {
     "name": "stderr",
     "output_type": "stream",
     "text": [
      "100%|██████████| 155/155 [00:46<00:00,  3.34it/s]\n",
      "100%|██████████| 67/67 [00:20<00:00,  3.23it/s]\n",
      "100%|██████████| 18/18 [00:05<00:00,  3.28it/s]\n"
     ]
    },
    {
     "name": "stdout",
     "output_type": "stream",
     "text": [
      "Train loss: 0.1722546003518566\n",
      "Train consistency loss: 0.005542815277186125\n",
      "Validation loss: 0.30235376871294445\n",
      "1m 13s\n",
      "Consistency Loss declined to 0.005542815277186125\n",
      "Early Stopping Counter = 0\n",
      "Epoch 65/300\n"
     ]
    },
    {
     "name": "stderr",
     "output_type": "stream",
     "text": [
      "100%|██████████| 155/155 [00:46<00:00,  3.34it/s]\n",
      "100%|██████████| 67/67 [00:20<00:00,  3.21it/s]\n",
      "100%|██████████| 18/18 [00:05<00:00,  3.17it/s]\n"
     ]
    },
    {
     "name": "stdout",
     "output_type": "stream",
     "text": [
      "Train loss: 0.1711841600075845\n",
      "Train consistency loss: 0.006170521862109873\n",
      "Validation loss: 0.3213264048099518\n",
      "1m 13s\n",
      "Early Stopping Counter = 1\n",
      "Epoch 66/300\n"
     ]
    },
    {
     "name": "stderr",
     "output_type": "stream",
     "text": [
      "100%|██████████| 155/155 [00:46<00:00,  3.35it/s]\n",
      "100%|██████████| 67/67 [00:21<00:00,  3.18it/s]\n",
      "100%|██████████| 18/18 [00:05<00:00,  3.13it/s]\n"
     ]
    },
    {
     "name": "stdout",
     "output_type": "stream",
     "text": [
      "Train loss: 0.1716025799512863\n",
      "Train consistency loss: 0.007983615288316315\n",
      "Validation loss: 0.3728898482190238\n",
      "1m 13s\n",
      "Early Stopping Counter = 2\n",
      "Epoch 67/300\n"
     ]
    },
    {
     "name": "stderr",
     "output_type": "stream",
     "text": [
      "100%|██████████| 155/155 [00:46<00:00,  3.33it/s]\n",
      "100%|██████████| 67/67 [00:20<00:00,  3.22it/s]\n",
      "100%|██████████| 18/18 [00:05<00:00,  3.16it/s]\n"
     ]
    },
    {
     "name": "stdout",
     "output_type": "stream",
     "text": [
      "Train loss: 0.17812362342111526\n",
      "Train consistency loss: 0.00756668075988653\n",
      "Validation loss: 0.308872493604819\n",
      "1m 13s\n",
      "Early Stopping Counter = 3\n",
      "Epoch 68/300\n"
     ]
    },
    {
     "name": "stderr",
     "output_type": "stream",
     "text": [
      "100%|██████████| 155/155 [00:46<00:00,  3.34it/s]\n",
      "100%|██████████| 67/67 [00:21<00:00,  3.17it/s]\n",
      "100%|██████████| 18/18 [00:05<00:00,  3.28it/s]\n"
     ]
    },
    {
     "name": "stdout",
     "output_type": "stream",
     "text": [
      "Train loss: 0.1718786294421842\n",
      "Train consistency loss: 0.006013005318592733\n",
      "Validation loss: 0.2869188181228108\n",
      "1m 13s\n",
      "Early Stopping Counter = 4\n",
      "Epoch 69/300\n"
     ]
    },
    {
     "name": "stderr",
     "output_type": "stream",
     "text": [
      "100%|██████████| 155/155 [00:46<00:00,  3.32it/s]\n",
      "100%|██████████| 67/67 [00:20<00:00,  3.21it/s]\n",
      "100%|██████████| 18/18 [00:05<00:00,  3.16it/s]\n"
     ]
    },
    {
     "name": "stdout",
     "output_type": "stream",
     "text": [
      "Train loss: 0.1698556343393941\n",
      "Train consistency loss: 0.005361104554343802\n",
      "Validation loss: 0.3051570165488455\n",
      "1m 13s\n",
      "Consistency Loss declined to 0.005361104554343802\n",
      "Early Stopping Counter = 0\n",
      "Epoch 70/300\n"
     ]
    },
    {
     "name": "stderr",
     "output_type": "stream",
     "text": [
      "100%|██████████| 155/155 [00:46<00:00,  3.31it/s]\n",
      "100%|██████████| 67/67 [00:21<00:00,  3.19it/s]\n",
      "100%|██████████| 18/18 [00:05<00:00,  3.16it/s]\n"
     ]
    },
    {
     "name": "stdout",
     "output_type": "stream",
     "text": [
      "Train loss: 0.1709750832088532\n",
      "Train consistency loss: 0.0059653612500084425\n",
      "Validation loss: 0.28078723491893876\n",
      "1m 14s\n",
      "Early Stopping Counter = 1\n",
      "Epoch 71/300\n"
     ]
    },
    {
     "name": "stderr",
     "output_type": "stream",
     "text": [
      "100%|██████████| 155/155 [00:46<00:00,  3.33it/s]\n",
      "100%|██████████| 67/67 [00:21<00:00,  3.17it/s]\n",
      "100%|██████████| 18/18 [00:05<00:00,  3.27it/s]\n"
     ]
    },
    {
     "name": "stdout",
     "output_type": "stream",
     "text": [
      "Train loss: 0.17110908021849972\n",
      "Train consistency loss: 0.005522468068233844\n",
      "Validation loss: 0.28623000863525605\n",
      "1m 13s\n",
      "Early Stopping Counter = 2\n",
      "Epoch 72/300\n"
     ]
    },
    {
     "name": "stderr",
     "output_type": "stream",
     "text": [
      "100%|██████████| 155/155 [00:46<00:00,  3.35it/s]\n",
      "100%|██████████| 67/67 [00:20<00:00,  3.19it/s]\n",
      "100%|██████████| 18/18 [00:05<00:00,  3.28it/s]\n"
     ]
    },
    {
     "name": "stdout",
     "output_type": "stream",
     "text": [
      "Train loss: 0.1679272347880948\n",
      "Train consistency loss: 0.004522403907169824\n",
      "Validation loss: 0.2847873477472199\n",
      "1m 13s\n",
      "Consistency Loss declined to 0.004522403907169824\n",
      "Early Stopping Counter = 0\n",
      "Epoch 73/300\n"
     ]
    },
    {
     "name": "stderr",
     "output_type": "stream",
     "text": [
      "100%|██████████| 155/155 [00:46<00:00,  3.34it/s]\n",
      "100%|██████████| 67/67 [00:20<00:00,  3.22it/s]\n",
      "100%|██████████| 18/18 [00:05<00:00,  3.27it/s]\n"
     ]
    },
    {
     "name": "stdout",
     "output_type": "stream",
     "text": [
      "Train loss: 0.1663928254958122\n",
      "Train consistency loss: 0.004673665007159336\n",
      "Validation loss: 0.29094135844045216\n",
      "1m 13s\n",
      "Early Stopping Counter = 1\n",
      "Epoch 74/300\n"
     ]
    },
    {
     "name": "stderr",
     "output_type": "stream",
     "text": [
      "100%|██████████| 155/155 [00:46<00:00,  3.34it/s]\n",
      "100%|██████████| 67/67 [00:20<00:00,  3.23it/s]\n",
      "100%|██████████| 18/18 [00:05<00:00,  3.34it/s]\n"
     ]
    },
    {
     "name": "stdout",
     "output_type": "stream",
     "text": [
      "Train loss: 0.16634144475383142\n",
      "Train consistency loss: 0.00546418840705014\n",
      "Validation loss: 0.27982160242067444\n",
      "1m 13s\n",
      "Early Stopping Counter = 2\n",
      "Epoch 75/300\n"
     ]
    },
    {
     "name": "stderr",
     "output_type": "stream",
     "text": [
      "100%|██████████| 155/155 [00:46<00:00,  3.35it/s]\n",
      "100%|██████████| 67/67 [00:20<00:00,  3.22it/s]\n",
      "100%|██████████| 18/18 [00:05<00:00,  3.30it/s]\n"
     ]
    },
    {
     "name": "stdout",
     "output_type": "stream",
     "text": [
      "Train loss: 0.16577401632262814\n",
      "Train consistency loss: 0.005383960694185833\n",
      "Validation loss: 0.3181736411319839\n",
      "1m 13s\n",
      "Early Stopping Counter = 3\n",
      "Epoch 76/300\n"
     ]
    },
    {
     "name": "stderr",
     "output_type": "stream",
     "text": [
      "100%|██████████| 155/155 [00:46<00:00,  3.34it/s]\n",
      "100%|██████████| 67/67 [00:20<00:00,  3.22it/s]\n",
      "100%|██████████| 18/18 [00:05<00:00,  3.22it/s]\n"
     ]
    },
    {
     "name": "stdout",
     "output_type": "stream",
     "text": [
      "Train loss: 0.16688977931776355\n",
      "Train consistency loss: 0.006038136158221916\n",
      "Validation loss: 0.31155478209257126\n",
      "1m 13s\n",
      "Early Stopping Counter = 4\n",
      "Epoch 77/300\n"
     ]
    },
    {
     "name": "stderr",
     "output_type": "stream",
     "text": [
      "100%|██████████| 155/155 [00:46<00:00,  3.35it/s]\n",
      "100%|██████████| 67/67 [00:20<00:00,  3.21it/s]\n",
      "100%|██████████| 18/18 [00:05<00:00,  3.30it/s]\n"
     ]
    },
    {
     "name": "stdout",
     "output_type": "stream",
     "text": [
      "Train loss: 0.16510901201155878\n",
      "Train consistency loss: 0.004737813477473918\n",
      "Validation loss: 0.31285207635826534\n",
      "1m 13s\n",
      "Early Stopping Counter = 5\n",
      "Epoch 78/300\n"
     ]
    },
    {
     "name": "stderr",
     "output_type": "stream",
     "text": [
      "100%|██████████| 155/155 [00:46<00:00,  3.34it/s]\n",
      "100%|██████████| 67/67 [00:20<00:00,  3.21it/s]\n",
      "100%|██████████| 18/18 [00:05<00:00,  3.34it/s]\n"
     ]
    },
    {
     "name": "stdout",
     "output_type": "stream",
     "text": [
      "Train loss: 0.1648267098011509\n",
      "Train consistency loss: 0.004841073030439108\n",
      "Validation loss: 0.30540066709121066\n",
      "1m 13s\n",
      "Early Stopping Counter = 6\n",
      "Epoch 79/300\n"
     ]
    },
    {
     "name": "stderr",
     "output_type": "stream",
     "text": [
      "100%|██████████| 155/155 [00:46<00:00,  3.34it/s]\n",
      "100%|██████████| 67/67 [00:20<00:00,  3.21it/s]\n",
      "100%|██████████| 18/18 [00:05<00:00,  3.33it/s]\n"
     ]
    },
    {
     "name": "stdout",
     "output_type": "stream",
     "text": [
      "Train loss: 0.16479162371927691\n",
      "Train consistency loss: 0.005163686582818627\n",
      "Validation loss: 0.2878580763936043\n",
      "1m 13s\n",
      "Early Stopping Counter = 7\n",
      "Epoch 80/300\n"
     ]
    },
    {
     "name": "stderr",
     "output_type": "stream",
     "text": [
      "100%|██████████| 155/155 [00:46<00:00,  3.35it/s]\n",
      "100%|██████████| 67/67 [00:20<00:00,  3.22it/s]\n",
      "100%|██████████| 18/18 [00:05<00:00,  3.27it/s]\n"
     ]
    },
    {
     "name": "stdout",
     "output_type": "stream",
     "text": [
      "Train loss: 0.16434585182897507\n",
      "Train consistency loss: 0.0046457665565826775\n",
      "Validation loss: 0.299628341363536\n",
      "1m 13s\n",
      "Early Stopping Counter = 8\n",
      "Epoch 81/300\n"
     ]
    },
    {
     "name": "stderr",
     "output_type": "stream",
     "text": [
      "100%|██████████| 155/155 [00:46<00:00,  3.34it/s]\n",
      "100%|██████████| 67/67 [00:20<00:00,  3.22it/s]\n",
      "100%|██████████| 18/18 [00:05<00:00,  3.29it/s]\n"
     ]
    },
    {
     "name": "stdout",
     "output_type": "stream",
     "text": [
      "Train loss: 0.16280477796831438\n",
      "Train consistency loss: 0.005231686756570837\n",
      "Validation loss: 0.2946129623386595\n",
      "1m 13s\n",
      "Early Stopping Counter = 9\n",
      "Epoch 82/300\n"
     ]
    },
    {
     "name": "stderr",
     "output_type": "stream",
     "text": [
      "100%|██████████| 155/155 [00:46<00:00,  3.34it/s]\n",
      "100%|██████████| 67/67 [00:20<00:00,  3.21it/s]\n",
      "100%|██████████| 18/18 [00:05<00:00,  3.32it/s]\n"
     ]
    },
    {
     "name": "stdout",
     "output_type": "stream",
     "text": [
      "Train loss: 0.16282575332349347\n",
      "Train consistency loss: 0.004021607210804055\n",
      "Validation loss: 0.29709869374831516\n",
      "1m 13s\n",
      "Consistency Loss declined to 0.004021607210804055\n",
      "Early Stopping Counter = 0\n",
      "Epoch 83/300\n"
     ]
    },
    {
     "name": "stderr",
     "output_type": "stream",
     "text": [
      "100%|██████████| 155/155 [00:46<00:00,  3.32it/s]\n",
      "100%|██████████| 67/67 [00:20<00:00,  3.20it/s]\n",
      "100%|██████████| 18/18 [00:05<00:00,  3.34it/s]\n"
     ]
    },
    {
     "name": "stdout",
     "output_type": "stream",
     "text": [
      "Train loss: 0.1634659850308972\n",
      "Train consistency loss: 0.004529441189048673\n",
      "Validation loss: 0.3362878155377176\n",
      "1m 13s\n",
      "Early Stopping Counter = 1\n",
      "Epoch 84/300\n"
     ]
    },
    {
     "name": "stderr",
     "output_type": "stream",
     "text": [
      "100%|██████████| 155/155 [00:46<00:00,  3.34it/s]\n",
      "100%|██████████| 67/67 [00:21<00:00,  3.17it/s]\n",
      "100%|██████████| 18/18 [00:05<00:00,  3.26it/s]\n"
     ]
    },
    {
     "name": "stdout",
     "output_type": "stream",
     "text": [
      "Train loss: 0.1634088840215437\n",
      "Train consistency loss: 0.00426157295995795\n",
      "Validation loss: 0.29775942282544243\n",
      "1m 13s\n",
      "Early Stopping Counter = 2\n",
      "Epoch 85/300\n"
     ]
    },
    {
     "name": "stderr",
     "output_type": "stream",
     "text": [
      "100%|██████████| 155/155 [00:46<00:00,  3.32it/s]\n",
      "100%|██████████| 67/67 [00:21<00:00,  3.18it/s]\n",
      "100%|██████████| 18/18 [00:05<00:00,  3.21it/s]\n"
     ]
    },
    {
     "name": "stdout",
     "output_type": "stream",
     "text": [
      "Train loss: 0.16257566655835798\n",
      "Train consistency loss: 0.004267829798731897\n",
      "Validation loss: 0.2828272150622474\n",
      "1m 13s\n",
      "Early Stopping Counter = 3\n",
      "Epoch 86/300\n"
     ]
    },
    {
     "name": "stderr",
     "output_type": "stream",
     "text": [
      "100%|██████████| 155/155 [00:46<00:00,  3.34it/s]\n",
      "100%|██████████| 67/67 [00:21<00:00,  3.16it/s]\n",
      "100%|██████████| 18/18 [00:05<00:00,  3.33it/s]\n"
     ]
    },
    {
     "name": "stdout",
     "output_type": "stream",
     "text": [
      "Train loss: 0.16141855812841846\n",
      "Train consistency loss: 0.003822095064905041\n",
      "Validation loss: 0.2987738880846236\n",
      "1m 13s\n",
      "Consistency Loss declined to 0.003822095064905041\n",
      "Early Stopping Counter = 0\n",
      "Epoch 87/300\n"
     ]
    },
    {
     "name": "stderr",
     "output_type": "stream",
     "text": [
      "100%|██████████| 155/155 [00:46<00:00,  3.33it/s]\n",
      "100%|██████████| 67/67 [00:20<00:00,  3.20it/s]\n",
      "100%|██████████| 18/18 [00:05<00:00,  3.22it/s]\n"
     ]
    },
    {
     "name": "stdout",
     "output_type": "stream",
     "text": [
      "Train loss: 0.16010798975344628\n",
      "Train consistency loss: 0.004057396373558623\n",
      "Validation loss: 0.2944846674799919\n",
      "1m 13s\n",
      "Early Stopping Counter = 1\n",
      "Epoch 88/300\n"
     ]
    },
    {
     "name": "stderr",
     "output_type": "stream",
     "text": [
      "100%|██████████| 155/155 [00:46<00:00,  3.34it/s]\n",
      "100%|██████████| 67/67 [00:20<00:00,  3.20it/s]\n",
      "100%|██████████| 18/18 [00:05<00:00,  3.28it/s]\n"
     ]
    },
    {
     "name": "stdout",
     "output_type": "stream",
     "text": [
      "Train loss: 0.16424937459730332\n",
      "Train consistency loss: 0.004122053674394404\n",
      "Validation loss: 0.29720166987842983\n",
      "1m 13s\n",
      "Early Stopping Counter = 2\n",
      "Epoch 89/300\n"
     ]
    },
    {
     "name": "stderr",
     "output_type": "stream",
     "text": [
      "100%|██████████| 155/155 [00:46<00:00,  3.35it/s]\n",
      "100%|██████████| 67/67 [00:20<00:00,  3.21it/s]\n",
      "100%|██████████| 18/18 [00:05<00:00,  3.27it/s]\n"
     ]
    },
    {
     "name": "stdout",
     "output_type": "stream",
     "text": [
      "Train loss: 0.16001088446186434\n",
      "Train consistency loss: 0.0042682097470665824\n",
      "Validation loss: 0.29615498955051106\n",
      "1m 13s\n",
      "Early Stopping Counter = 3\n",
      "Epoch 90/300\n"
     ]
    },
    {
     "name": "stderr",
     "output_type": "stream",
     "text": [
      "100%|██████████| 155/155 [00:46<00:00,  3.35it/s]\n",
      "100%|██████████| 67/67 [00:20<00:00,  3.22it/s]\n",
      "100%|██████████| 18/18 [00:05<00:00,  3.32it/s]\n"
     ]
    },
    {
     "name": "stdout",
     "output_type": "stream",
     "text": [
      "Train loss: 0.15869114860411612\n",
      "Train consistency loss: 0.0037051796732442592\n",
      "Validation loss: 0.2829078965716892\n",
      "1m 13s\n",
      "Consistency Loss declined to 0.0037051796732442592\n",
      "Early Stopping Counter = 0\n",
      "Epoch 91/300\n"
     ]
    },
    {
     "name": "stderr",
     "output_type": "stream",
     "text": [
      "100%|██████████| 155/155 [00:46<00:00,  3.33it/s]\n",
      "100%|██████████| 67/67 [00:20<00:00,  3.22it/s]\n",
      "100%|██████████| 18/18 [00:05<00:00,  3.28it/s]\n"
     ]
    },
    {
     "name": "stdout",
     "output_type": "stream",
     "text": [
      "Train loss: 0.1583207551990786\n",
      "Train consistency loss: 0.0038586084995029576\n",
      "Validation loss: 0.28309085220098495\n",
      "1m 13s\n",
      "Early Stopping Counter = 1\n",
      "Epoch 92/300\n"
     ]
    },
    {
     "name": "stderr",
     "output_type": "stream",
     "text": [
      "100%|██████████| 155/155 [00:46<00:00,  3.35it/s]\n",
      "100%|██████████| 67/67 [00:21<00:00,  3.19it/s]\n",
      "100%|██████████| 18/18 [00:05<00:00,  3.23it/s]\n"
     ]
    },
    {
     "name": "stdout",
     "output_type": "stream",
     "text": [
      "Train loss: 0.15844630252930425\n",
      "Train consistency loss: 0.004585563636092998\n",
      "Validation loss: 0.2841028653913074\n",
      "1m 13s\n",
      "Early Stopping Counter = 2\n",
      "Epoch 93/300\n"
     ]
    },
    {
     "name": "stderr",
     "output_type": "stream",
     "text": [
      "100%|██████████| 155/155 [00:46<00:00,  3.35it/s]\n",
      "100%|██████████| 67/67 [00:20<00:00,  3.21it/s]\n",
      "100%|██████████| 18/18 [00:05<00:00,  3.27it/s]\n"
     ]
    },
    {
     "name": "stdout",
     "output_type": "stream",
     "text": [
      "Train loss: 0.15816228485876513\n",
      "Train consistency loss: 0.0036614200607664993\n",
      "Validation loss: 0.2915000476770931\n",
      "1m 13s\n",
      "Consistency Loss declined to 0.0036614200607664993\n",
      "Early Stopping Counter = 0\n",
      "Epoch 94/300\n"
     ]
    },
    {
     "name": "stderr",
     "output_type": "stream",
     "text": [
      "100%|██████████| 155/155 [00:46<00:00,  3.34it/s]\n",
      "100%|██████████| 67/67 [00:20<00:00,  3.22it/s]\n",
      "100%|██████████| 18/18 [00:05<00:00,  3.28it/s]\n"
     ]
    },
    {
     "name": "stdout",
     "output_type": "stream",
     "text": [
      "Train loss: 0.1565624080358013\n",
      "Train consistency loss: 0.0037146466749428367\n",
      "Validation loss: 0.2766435692707698\n",
      "1m 13s\n",
      "Early Stopping Counter = 1\n",
      "Epoch 95/300\n"
     ]
    },
    {
     "name": "stderr",
     "output_type": "stream",
     "text": [
      "100%|██████████| 155/155 [00:46<00:00,  3.34it/s]\n",
      "100%|██████████| 67/67 [00:21<00:00,  3.19it/s]\n",
      "100%|██████████| 18/18 [00:05<00:00,  3.26it/s]\n"
     ]
    },
    {
     "name": "stdout",
     "output_type": "stream",
     "text": [
      "Train loss: 0.15573061752703882\n",
      "Train consistency loss: 0.004354717508792433\n",
      "Validation loss: 0.30292947093645733\n",
      "1m 13s\n",
      "Early Stopping Counter = 2\n",
      "Epoch 96/300\n"
     ]
    },
    {
     "name": "stderr",
     "output_type": "stream",
     "text": [
      "100%|██████████| 155/155 [00:46<00:00,  3.34it/s]\n",
      "100%|██████████| 67/67 [00:21<00:00,  3.17it/s]\n",
      "100%|██████████| 18/18 [00:05<00:00,  3.33it/s]\n"
     ]
    },
    {
     "name": "stdout",
     "output_type": "stream",
     "text": [
      "Train loss: 0.1576112532327252\n",
      "Train consistency loss: 0.003462271403465698\n",
      "Validation loss: 0.2897346657183435\n",
      "1m 13s\n",
      "Consistency Loss declined to 0.003462271403465698\n",
      "Early Stopping Counter = 0\n",
      "Epoch 97/300\n"
     ]
    },
    {
     "name": "stderr",
     "output_type": "stream",
     "text": [
      "100%|██████████| 155/155 [00:46<00:00,  3.34it/s]\n",
      "100%|██████████| 67/67 [00:20<00:00,  3.23it/s]\n",
      "100%|██████████| 18/18 [00:05<00:00,  3.33it/s]\n"
     ]
    },
    {
     "name": "stdout",
     "output_type": "stream",
     "text": [
      "Train loss: 0.15655048230002003\n",
      "Train consistency loss: 0.003698117808619542\n",
      "Validation loss: 0.27688023241029847\n",
      "1m 13s\n",
      "Early Stopping Counter = 1\n",
      "Epoch 98/300\n"
     ]
    },
    {
     "name": "stderr",
     "output_type": "stream",
     "text": [
      "100%|██████████| 155/155 [00:46<00:00,  3.35it/s]\n",
      "100%|██████████| 67/67 [00:20<00:00,  3.20it/s]\n",
      "100%|██████████| 18/18 [00:05<00:00,  3.17it/s]\n"
     ]
    },
    {
     "name": "stdout",
     "output_type": "stream",
     "text": [
      "Train loss: 0.15527396851008937\n",
      "Train consistency loss: 0.0033743313588410506\n",
      "Validation loss: 0.28283006449540454\n",
      "1m 13s\n",
      "Consistency Loss declined to 0.0033743313588410506\n",
      "Early Stopping Counter = 0\n",
      "Epoch 99/300\n"
     ]
    },
    {
     "name": "stderr",
     "output_type": "stream",
     "text": [
      "100%|██████████| 155/155 [00:46<00:00,  3.34it/s]\n",
      "100%|██████████| 67/67 [00:20<00:00,  3.22it/s]\n",
      "100%|██████████| 18/18 [00:05<00:00,  3.17it/s]\n"
     ]
    },
    {
     "name": "stdout",
     "output_type": "stream",
     "text": [
      "Train loss: 0.15529904533778469\n",
      "Train consistency loss: 0.0033440427878982763\n",
      "Validation loss: 0.3031812281244331\n",
      "1m 13s\n",
      "Consistency Loss declined to 0.0033440427878982763\n",
      "Early Stopping Counter = 0\n",
      "Epoch 100/300\n"
     ]
    },
    {
     "name": "stderr",
     "output_type": "stream",
     "text": [
      "100%|██████████| 155/155 [00:46<00:00,  3.34it/s]\n",
      "100%|██████████| 67/67 [00:20<00:00,  3.24it/s]\n",
      "100%|██████████| 18/18 [00:05<00:00,  3.27it/s]\n"
     ]
    },
    {
     "name": "stdout",
     "output_type": "stream",
     "text": [
      "Train loss: 0.1539829542559962\n",
      "Train consistency loss: 0.006804990408413891\n",
      "Validation loss: 0.3171191000276142\n",
      "1m 13s\n",
      "Early Stopping Counter = 1\n",
      "Epoch 101/300\n"
     ]
    },
    {
     "name": "stderr",
     "output_type": "stream",
     "text": [
      "100%|██████████| 155/155 [00:47<00:00,  3.23it/s]\n",
      "100%|██████████| 67/67 [00:20<00:00,  3.19it/s]\n",
      "100%|██████████| 18/18 [00:05<00:00,  3.27it/s]\n"
     ]
    },
    {
     "name": "stdout",
     "output_type": "stream",
     "text": [
      "Train loss: 0.15734455128831248\n",
      "Train consistency loss: 0.0033202183818611414\n",
      "Validation loss: 0.28231174105571377\n",
      "1m 14s\n",
      "Consistency Loss declined to 0.0033202183818611414\n",
      "Early Stopping Counter = 0\n",
      "Epoch 102/300\n"
     ]
    },
    {
     "name": "stderr",
     "output_type": "stream",
     "text": [
      "100%|██████████| 155/155 [00:46<00:00,  3.36it/s]\n",
      "100%|██████████| 67/67 [00:20<00:00,  3.22it/s]\n",
      "100%|██████████| 18/18 [00:05<00:00,  3.16it/s]\n"
     ]
    },
    {
     "name": "stdout",
     "output_type": "stream",
     "text": [
      "Train loss: 0.15357300158469908\n",
      "Train consistency loss: 0.0036632788972234104\n",
      "Validation loss: 0.276878931456142\n",
      "1m 13s\n",
      "Early Stopping Counter = 1\n",
      "Epoch 103/300\n"
     ]
    },
    {
     "name": "stderr",
     "output_type": "stream",
     "text": [
      "100%|██████████| 155/155 [00:46<00:00,  3.36it/s]\n",
      "100%|██████████| 67/67 [00:21<00:00,  3.19it/s]\n",
      "100%|██████████| 18/18 [00:05<00:00,  3.30it/s]\n"
     ]
    },
    {
     "name": "stdout",
     "output_type": "stream",
     "text": [
      "Train loss: 0.1526049603377619\n",
      "Train consistency loss: 0.003324779122372839\n",
      "Validation loss: 0.3276600357558992\n",
      "1m 13s\n",
      "Early Stopping Counter = 2\n",
      "Epoch 104/300\n"
     ]
    },
    {
     "name": "stderr",
     "output_type": "stream",
     "text": [
      "100%|██████████| 155/155 [00:46<00:00,  3.35it/s]\n",
      "100%|██████████| 67/67 [00:21<00:00,  3.19it/s]\n",
      "100%|██████████| 18/18 [00:05<00:00,  3.27it/s]\n"
     ]
    },
    {
     "name": "stdout",
     "output_type": "stream",
     "text": [
      "Train loss: 0.15214169583012982\n",
      "Train consistency loss: 0.0034545417197410075\n",
      "Validation loss: 0.2834595901270707\n",
      "1m 13s\n",
      "Early Stopping Counter = 3\n",
      "Epoch 105/300\n"
     ]
    },
    {
     "name": "stderr",
     "output_type": "stream",
     "text": [
      "100%|██████████| 155/155 [00:46<00:00,  3.35it/s]\n",
      "100%|██████████| 67/67 [00:20<00:00,  3.20it/s]\n",
      "100%|██████████| 18/18 [00:05<00:00,  3.19it/s]\n"
     ]
    },
    {
     "name": "stdout",
     "output_type": "stream",
     "text": [
      "Train loss: 0.15262164252419624\n",
      "Train consistency loss: 0.0030964525996832483\n",
      "Validation loss: 0.27548538996941513\n",
      "1m 13s\n",
      "Consistency Loss declined to 0.0030964525996832483\n",
      "Early Stopping Counter = 0\n",
      "Epoch 106/300\n"
     ]
    },
    {
     "name": "stderr",
     "output_type": "stream",
     "text": [
      "100%|██████████| 155/155 [00:46<00:00,  3.37it/s]\n",
      "100%|██████████| 67/67 [00:21<00:00,  3.18it/s]\n",
      "100%|██████████| 18/18 [00:05<00:00,  3.31it/s]\n"
     ]
    },
    {
     "name": "stdout",
     "output_type": "stream",
     "text": [
      "Train loss: 0.15119252214508672\n",
      "Train consistency loss: 0.0031872164100102745\n",
      "Validation loss: 0.2721642346845733\n",
      "1m 13s\n",
      "Early Stopping Counter = 1\n",
      "Epoch 107/300\n"
     ]
    },
    {
     "name": "stderr",
     "output_type": "stream",
     "text": [
      "100%|██████████| 155/155 [00:46<00:00,  3.35it/s]\n",
      "100%|██████████| 67/67 [00:20<00:00,  3.24it/s]\n",
      "100%|██████████| 18/18 [00:05<00:00,  3.26it/s]\n"
     ]
    },
    {
     "name": "stdout",
     "output_type": "stream",
     "text": [
      "Train loss: 0.15155866501792783\n",
      "Train consistency loss: 0.0037352248553687065\n",
      "Validation loss: 0.28036451732946766\n",
      "1m 13s\n",
      "Early Stopping Counter = 2\n",
      "Epoch 108/300\n"
     ]
    },
    {
     "name": "stderr",
     "output_type": "stream",
     "text": [
      "100%|██████████| 155/155 [00:46<00:00,  3.36it/s]\n",
      "100%|██████████| 67/67 [00:20<00:00,  3.21it/s]\n",
      "100%|██████████| 18/18 [00:05<00:00,  3.25it/s]\n"
     ]
    },
    {
     "name": "stdout",
     "output_type": "stream",
     "text": [
      "Train loss: 0.15075058446776482\n",
      "Train consistency loss: 0.00332606598255294\n",
      "Validation loss: 0.2849770072433684\n",
      "1m 12s\n",
      "Early Stopping Counter = 3\n",
      "Epoch 109/300\n"
     ]
    },
    {
     "name": "stderr",
     "output_type": "stream",
     "text": [
      "100%|██████████| 155/155 [00:46<00:00,  3.36it/s]\n",
      "100%|██████████| 67/67 [00:20<00:00,  3.24it/s]\n",
      "100%|██████████| 18/18 [00:05<00:00,  3.26it/s]\n"
     ]
    },
    {
     "name": "stdout",
     "output_type": "stream",
     "text": [
      "Train loss: 0.15208520793145702\n",
      "Train consistency loss: 0.003107977066703363\n",
      "Validation loss: 0.286918511821164\n",
      "1m 12s\n",
      "Early Stopping Counter = 4\n",
      "Epoch 110/300\n"
     ]
    },
    {
     "name": "stderr",
     "output_type": "stream",
     "text": [
      "100%|██████████| 155/155 [00:45<00:00,  3.38it/s]\n",
      "100%|██████████| 67/67 [00:20<00:00,  3.21it/s]\n",
      "100%|██████████| 18/18 [00:05<00:00,  3.25it/s]\n"
     ]
    },
    {
     "name": "stdout",
     "output_type": "stream",
     "text": [
      "Train loss: 0.14900818851686293\n",
      "Train consistency loss: 0.002868670351636499\n",
      "Validation loss: 0.29028862631983227\n",
      "1m 12s\n",
      "Consistency Loss declined to 0.002868670351636499\n",
      "Early Stopping Counter = 0\n",
      "Epoch 111/300\n"
     ]
    },
    {
     "name": "stderr",
     "output_type": "stream",
     "text": [
      "100%|██████████| 155/155 [00:46<00:00,  3.36it/s]\n",
      "100%|██████████| 67/67 [00:20<00:00,  3.24it/s]\n",
      "100%|██████████| 18/18 [00:05<00:00,  3.37it/s]\n"
     ]
    },
    {
     "name": "stdout",
     "output_type": "stream",
     "text": [
      "Train loss: 0.14907401896292163\n",
      "Train consistency loss: 0.0030805728269685338\n",
      "Validation loss: 0.2699809219274256\n",
      "1m 12s\n",
      "Early Stopping Counter = 1\n",
      "Epoch 112/300\n"
     ]
    },
    {
     "name": "stderr",
     "output_type": "stream",
     "text": [
      "100%|██████████| 155/155 [00:46<00:00,  3.35it/s]\n",
      "100%|██████████| 67/67 [00:20<00:00,  3.23it/s]\n",
      "100%|██████████| 18/18 [00:05<00:00,  3.33it/s]\n"
     ]
    },
    {
     "name": "stdout",
     "output_type": "stream",
     "text": [
      "Train loss: 0.14837525837844417\n",
      "Train consistency loss: 0.0030776359359803262\n",
      "Validation loss: 0.28345492399401134\n",
      "1m 12s\n",
      "Early Stopping Counter = 2\n",
      "Epoch 113/300\n"
     ]
    },
    {
     "name": "stderr",
     "output_type": "stream",
     "text": [
      "100%|██████████| 155/155 [00:46<00:00,  3.36it/s]\n",
      "100%|██████████| 67/67 [00:20<00:00,  3.24it/s]\n",
      "100%|██████████| 18/18 [00:05<00:00,  3.34it/s]\n"
     ]
    },
    {
     "name": "stdout",
     "output_type": "stream",
     "text": [
      "Train loss: 0.1491021068346116\n",
      "Train consistency loss: 0.003035065724945335\n",
      "Validation loss: 0.2713208095067077\n",
      "1m 12s\n",
      "Early Stopping Counter = 3\n",
      "Epoch 114/300\n"
     ]
    },
    {
     "name": "stderr",
     "output_type": "stream",
     "text": [
      "100%|██████████| 155/155 [00:46<00:00,  3.36it/s]\n",
      "100%|██████████| 67/67 [00:20<00:00,  3.24it/s]\n",
      "100%|██████████| 18/18 [00:05<00:00,  3.37it/s]\n"
     ]
    },
    {
     "name": "stdout",
     "output_type": "stream",
     "text": [
      "Train loss: 0.14807049016798696\n",
      "Train consistency loss: 0.0031946250072458007\n",
      "Validation loss: 0.2783635300066736\n",
      "1m 12s\n",
      "Early Stopping Counter = 4\n",
      "Epoch 115/300\n"
     ]
    },
    {
     "name": "stderr",
     "output_type": "stream",
     "text": [
      "100%|██████████| 155/155 [00:46<00:00,  3.36it/s]\n",
      "100%|██████████| 67/67 [00:20<00:00,  3.24it/s]\n",
      "100%|██████████| 18/18 [00:05<00:00,  3.29it/s]\n"
     ]
    },
    {
     "name": "stdout",
     "output_type": "stream",
     "text": [
      "Train loss: 0.14704076301667\n",
      "Train consistency loss: 0.002871998128787017\n",
      "Validation loss: 0.2729932309852706\n",
      "1m 12s\n",
      "Early Stopping Counter = 5\n",
      "Epoch 116/300\n"
     ]
    },
    {
     "name": "stderr",
     "output_type": "stream",
     "text": [
      "100%|██████████| 155/155 [00:46<00:00,  3.35it/s]\n",
      "100%|██████████| 67/67 [00:20<00:00,  3.22it/s]\n",
      "100%|██████████| 18/18 [00:05<00:00,  3.35it/s]\n"
     ]
    },
    {
     "name": "stdout",
     "output_type": "stream",
     "text": [
      "Train loss: 0.14752223818532884\n",
      "Train consistency loss: 0.0030044383028827943\n",
      "Validation loss: 0.27582132671442294\n",
      "1m 12s\n",
      "Early Stopping Counter = 6\n",
      "Epoch 117/300\n"
     ]
    },
    {
     "name": "stderr",
     "output_type": "stream",
     "text": [
      "100%|██████████| 155/155 [00:46<00:00,  3.36it/s]\n",
      "100%|██████████| 67/67 [00:20<00:00,  3.24it/s]\n",
      "100%|██████████| 18/18 [00:05<00:00,  3.34it/s]\n"
     ]
    },
    {
     "name": "stdout",
     "output_type": "stream",
     "text": [
      "Train loss: 0.14738300735912016\n",
      "Train consistency loss: 0.0031706215448872145\n",
      "Validation loss: 0.28891561263137394\n",
      "1m 12s\n",
      "Early Stopping Counter = 7\n",
      "Epoch 118/300\n"
     ]
    },
    {
     "name": "stderr",
     "output_type": "stream",
     "text": [
      "100%|██████████| 155/155 [00:46<00:00,  3.35it/s]\n",
      "100%|██████████| 67/67 [00:20<00:00,  3.23it/s]\n",
      "100%|██████████| 18/18 [00:05<00:00,  3.35it/s]\n"
     ]
    },
    {
     "name": "stdout",
     "output_type": "stream",
     "text": [
      "Train loss: 0.14600078420292947\n",
      "Train consistency loss: 0.0028863130432706494\n",
      "Validation loss: 0.28659362842639285\n",
      "1m 12s\n",
      "Early Stopping Counter = 8\n",
      "Epoch 119/300\n"
     ]
    },
    {
     "name": "stderr",
     "output_type": "stream",
     "text": [
      "100%|██████████| 155/155 [00:46<00:00,  3.36it/s]\n",
      "100%|██████████| 67/67 [00:20<00:00,  3.23it/s]\n",
      "100%|██████████| 18/18 [00:05<00:00,  3.34it/s]\n"
     ]
    },
    {
     "name": "stdout",
     "output_type": "stream",
     "text": [
      "Train loss: 0.14594040335186065\n",
      "Train consistency loss: 0.008345071688544616\n",
      "Validation loss: 0.371306116382281\n",
      "1m 12s\n",
      "Early Stopping Counter = 9\n",
      "Epoch 120/300\n"
     ]
    },
    {
     "name": "stderr",
     "output_type": "stream",
     "text": [
      "100%|██████████| 155/155 [00:46<00:00,  3.36it/s]\n",
      "100%|██████████| 67/67 [00:20<00:00,  3.23it/s]\n",
      "100%|██████████| 18/18 [00:05<00:00,  3.25it/s]\n"
     ]
    },
    {
     "name": "stdout",
     "output_type": "stream",
     "text": [
      "Train loss: 0.15285999582659815\n",
      "Train consistency loss: 0.0027728240151625515\n",
      "Validation loss: 0.27160622448556954\n",
      "1m 12s\n",
      "Consistency Loss declined to 0.0027728240151625515\n",
      "Early Stopping Counter = 0\n",
      "Epoch 121/300\n"
     ]
    },
    {
     "name": "stderr",
     "output_type": "stream",
     "text": [
      "100%|██████████| 155/155 [00:46<00:00,  3.35it/s]\n",
      "100%|██████████| 67/67 [00:20<00:00,  3.23it/s]\n",
      "100%|██████████| 18/18 [00:05<00:00,  3.36it/s]\n"
     ]
    },
    {
     "name": "stdout",
     "output_type": "stream",
     "text": [
      "Train loss: 0.14512732336598058\n",
      "Train consistency loss: 0.005483401145216133\n",
      "Validation loss: 0.3330049245721764\n",
      "1m 12s\n",
      "Early Stopping Counter = 1\n",
      "Epoch 122/300\n"
     ]
    },
    {
     "name": "stderr",
     "output_type": "stream",
     "text": [
      "100%|██████████| 155/155 [00:46<00:00,  3.36it/s]\n",
      "100%|██████████| 67/67 [00:20<00:00,  3.20it/s]\n",
      "100%|██████████| 18/18 [00:05<00:00,  3.24it/s]\n"
     ]
    },
    {
     "name": "stdout",
     "output_type": "stream",
     "text": [
      "Train loss: 0.1482818494881353\n",
      "Train consistency loss: 0.002664091691041171\n",
      "Validation loss: 0.2804547840108474\n",
      "1m 13s\n",
      "Consistency Loss declined to 0.002664091691041171\n",
      "Early Stopping Counter = 0\n",
      "Epoch 123/300\n"
     ]
    },
    {
     "name": "stderr",
     "output_type": "stream",
     "text": [
      "100%|██████████| 155/155 [00:46<00:00,  3.36it/s]\n",
      "100%|██████████| 67/67 [00:20<00:00,  3.23it/s]\n",
      "100%|██████████| 18/18 [00:05<00:00,  3.31it/s]\n"
     ]
    },
    {
     "name": "stdout",
     "output_type": "stream",
     "text": [
      "Train loss: 0.1440548024350597\n",
      "Train consistency loss: 0.0027356116038594227\n",
      "Validation loss: 0.2722873207595613\n",
      "1m 12s\n",
      "Early Stopping Counter = 1\n",
      "Epoch 124/300\n"
     ]
    },
    {
     "name": "stderr",
     "output_type": "stream",
     "text": [
      "100%|██████████| 155/155 [00:46<00:00,  3.36it/s]\n",
      "100%|██████████| 67/67 [00:20<00:00,  3.20it/s]\n",
      "100%|██████████| 18/18 [00:05<00:00,  3.32it/s]\n"
     ]
    },
    {
     "name": "stdout",
     "output_type": "stream",
     "text": [
      "Train loss: 0.14310673311833413\n",
      "Train consistency loss: 0.0025775324355171467\n",
      "Validation loss: 0.27319227697120774\n",
      "1m 12s\n",
      "Consistency Loss declined to 0.0025775324355171467\n",
      "Early Stopping Counter = 0\n",
      "Epoch 125/300\n"
     ]
    },
    {
     "name": "stderr",
     "output_type": "stream",
     "text": [
      "100%|██████████| 155/155 [00:46<00:00,  3.35it/s]\n",
      "100%|██████████| 67/67 [00:20<00:00,  3.23it/s]\n",
      "100%|██████████| 18/18 [00:05<00:00,  3.37it/s]\n"
     ]
    },
    {
     "name": "stdout",
     "output_type": "stream",
     "text": [
      "Train loss: 0.14358202742953455\n",
      "Train consistency loss: 0.0027999812711044145\n",
      "Validation loss: 0.28840786466995877\n",
      "1m 12s\n",
      "Early Stopping Counter = 1\n",
      "Epoch 126/300\n"
     ]
    },
    {
     "name": "stderr",
     "output_type": "stream",
     "text": [
      "100%|██████████| 155/155 [00:46<00:00,  3.34it/s]\n",
      "100%|██████████| 67/67 [00:20<00:00,  3.22it/s]\n",
      "100%|██████████| 18/18 [00:05<00:00,  3.35it/s]\n"
     ]
    },
    {
     "name": "stdout",
     "output_type": "stream",
     "text": [
      "Train loss: 0.1428504238686254\n",
      "Train consistency loss: 0.0023626252981041795\n",
      "Validation loss: 0.2805622449765603\n",
      "1m 13s\n",
      "Consistency Loss declined to 0.0023626252981041795\n",
      "Early Stopping Counter = 0\n",
      "Epoch 127/300\n"
     ]
    },
    {
     "name": "stderr",
     "output_type": "stream",
     "text": [
      "100%|██████████| 155/155 [00:46<00:00,  3.33it/s]\n",
      "100%|██████████| 67/67 [00:20<00:00,  3.21it/s]\n",
      "100%|██████████| 18/18 [00:05<00:00,  3.34it/s]\n"
     ]
    },
    {
     "name": "stdout",
     "output_type": "stream",
     "text": [
      "Train loss: 0.14185974299907683\n",
      "Train consistency loss: 0.0024133806738919064\n",
      "Validation loss: 0.2741230583439271\n",
      "1m 13s\n",
      "Early Stopping Counter = 1\n",
      "Epoch 128/300\n"
     ]
    },
    {
     "name": "stderr",
     "output_type": "stream",
     "text": [
      "100%|██████████| 155/155 [00:46<00:00,  3.35it/s]\n",
      "100%|██████████| 67/67 [00:20<00:00,  3.20it/s]\n",
      "100%|██████████| 18/18 [00:05<00:00,  3.29it/s]\n"
     ]
    },
    {
     "name": "stdout",
     "output_type": "stream",
     "text": [
      "Train loss: 0.14251683421673314\n",
      "Train consistency loss: 0.0023427972910619937\n",
      "Validation loss: 0.2746261020915376\n",
      "1m 13s\n",
      "Consistency Loss declined to 0.0023427972910619937\n",
      "Early Stopping Counter = 0\n",
      "Epoch 129/300\n"
     ]
    },
    {
     "name": "stderr",
     "output_type": "stream",
     "text": [
      "100%|██████████| 155/155 [00:46<00:00,  3.35it/s]\n",
      "100%|██████████| 67/67 [00:20<00:00,  3.23it/s]\n",
      "100%|██████████| 18/18 [00:05<00:00,  3.19it/s]\n"
     ]
    },
    {
     "name": "stdout",
     "output_type": "stream",
     "text": [
      "Train loss: 0.14084068551178902\n",
      "Train consistency loss: 0.0025759019034066752\n",
      "Validation loss: 0.2748049638337559\n",
      "1m 13s\n",
      "Early Stopping Counter = 1\n",
      "Epoch 130/300\n"
     ]
    },
    {
     "name": "stderr",
     "output_type": "stream",
     "text": [
      "100%|██████████| 155/155 [00:46<00:00,  3.36it/s]\n",
      "100%|██████████| 67/67 [00:20<00:00,  3.20it/s]\n",
      "100%|██████████| 18/18 [00:05<00:00,  3.36it/s]\n"
     ]
    },
    {
     "name": "stdout",
     "output_type": "stream",
     "text": [
      "Train loss: 0.14095438420772552\n",
      "Train consistency loss: 0.002334279551191617\n",
      "Validation loss: 0.2817909814831283\n",
      "1m 12s\n",
      "Consistency Loss declined to 0.002334279551191617\n",
      "Early Stopping Counter = 0\n",
      "Epoch 131/300\n"
     ]
    },
    {
     "name": "stderr",
     "output_type": "stream",
     "text": [
      "100%|██████████| 155/155 [00:46<00:00,  3.36it/s]\n",
      "100%|██████████| 67/67 [00:20<00:00,  3.24it/s]\n",
      "100%|██████████| 18/18 [00:05<00:00,  3.32it/s]\n"
     ]
    },
    {
     "name": "stdout",
     "output_type": "stream",
     "text": [
      "Train loss: 0.14177999078266082\n",
      "Train consistency loss: 0.002683821082142974\n",
      "Validation loss: 0.2784977126866579\n",
      "1m 12s\n",
      "Early Stopping Counter = 1\n",
      "Epoch 132/300\n"
     ]
    },
    {
     "name": "stderr",
     "output_type": "stream",
     "text": [
      "100%|██████████| 155/155 [00:46<00:00,  3.36it/s]\n",
      "100%|██████████| 67/67 [00:20<00:00,  3.24it/s]\n",
      "100%|██████████| 18/18 [00:05<00:00,  3.30it/s]\n"
     ]
    },
    {
     "name": "stdout",
     "output_type": "stream",
     "text": [
      "Train loss: 0.1411980737601557\n",
      "Train consistency loss: 0.0024142792394537646\n",
      "Validation loss: 0.2726803453018268\n",
      "1m 12s\n",
      "Early Stopping Counter = 2\n",
      "Epoch 133/300\n"
     ]
    },
    {
     "name": "stderr",
     "output_type": "stream",
     "text": [
      "100%|██████████| 155/155 [00:46<00:00,  3.36it/s]\n",
      "100%|██████████| 67/67 [00:20<00:00,  3.24it/s]\n",
      "100%|██████████| 18/18 [00:05<00:00,  3.31it/s]\n"
     ]
    },
    {
     "name": "stdout",
     "output_type": "stream",
     "text": [
      "Train loss: 0.13958398238305122\n",
      "Train consistency loss: 0.0022610766151155443\n",
      "Validation loss: 0.27820934106906253\n",
      "1m 12s\n",
      "Consistency Loss declined to 0.0022610766151155443\n",
      "Early Stopping Counter = 0\n",
      "Epoch 134/300\n"
     ]
    },
    {
     "name": "stderr",
     "output_type": "stream",
     "text": [
      "100%|██████████| 155/155 [00:46<00:00,  3.34it/s]\n",
      "100%|██████████| 67/67 [00:20<00:00,  3.23it/s]\n",
      "100%|██████████| 18/18 [00:05<00:00,  3.33it/s]\n"
     ]
    },
    {
     "name": "stdout",
     "output_type": "stream",
     "text": [
      "Train loss: 0.14008601130016388\n",
      "Train consistency loss: 0.0024801251728699277\n",
      "Validation loss: 0.29130477271974087\n",
      "1m 13s\n",
      "Early Stopping Counter = 1\n",
      "Epoch 135/300\n"
     ]
    },
    {
     "name": "stderr",
     "output_type": "stream",
     "text": [
      "100%|██████████| 155/155 [00:46<00:00,  3.36it/s]\n",
      "100%|██████████| 67/67 [00:21<00:00,  3.17it/s]\n",
      "100%|██████████| 18/18 [00:05<00:00,  3.16it/s]\n"
     ]
    },
    {
     "name": "stdout",
     "output_type": "stream",
     "text": [
      "Train loss: 0.13974110623521188\n",
      "Train consistency loss: 0.0033839059743418624\n",
      "Validation loss: 0.2990677249100473\n",
      "1m 13s\n",
      "Early Stopping Counter = 2\n",
      "Epoch 136/300\n"
     ]
    },
    {
     "name": "stderr",
     "output_type": "stream",
     "text": [
      "100%|██████████| 155/155 [00:46<00:00,  3.37it/s]\n",
      "100%|██████████| 67/67 [00:20<00:00,  3.21it/s]\n",
      "100%|██████████| 18/18 [00:05<00:00,  3.24it/s]\n"
     ]
    },
    {
     "name": "stdout",
     "output_type": "stream",
     "text": [
      "Train loss: 0.13964387803308426\n",
      "Train consistency loss: 0.0022948492568597863\n",
      "Validation loss: 0.2803639765414927\n",
      "1m 12s\n",
      "Early Stopping Counter = 3\n",
      "Epoch 137/300\n"
     ]
    },
    {
     "name": "stderr",
     "output_type": "stream",
     "text": [
      "100%|██████████| 155/155 [00:45<00:00,  3.38it/s]\n",
      "100%|██████████| 67/67 [00:20<00:00,  3.19it/s]\n",
      "100%|██████████| 18/18 [00:05<00:00,  3.28it/s]\n"
     ]
    },
    {
     "name": "stdout",
     "output_type": "stream",
     "text": [
      "Train loss: 0.1383181404202215\n",
      "Train consistency loss: 0.0031784587529307203\n",
      "Validation loss: 0.35144710209634566\n",
      "1m 12s\n",
      "Early Stopping Counter = 4\n",
      "Epoch 138/300\n"
     ]
    },
    {
     "name": "stderr",
     "output_type": "stream",
     "text": [
      "100%|██████████| 155/155 [00:46<00:00,  3.35it/s]\n",
      "100%|██████████| 67/67 [00:21<00:00,  3.19it/s]\n",
      "100%|██████████| 18/18 [00:05<00:00,  3.17it/s]\n"
     ]
    },
    {
     "name": "stdout",
     "output_type": "stream",
     "text": [
      "Train loss: 0.13951595459253557\n",
      "Train consistency loss: 0.0023936790747762617\n",
      "Validation loss: 0.27993951220479274\n",
      "1m 13s\n",
      "Early Stopping Counter = 5\n",
      "Epoch 139/300\n"
     ]
    },
    {
     "name": "stderr",
     "output_type": "stream",
     "text": [
      "100%|██████████| 155/155 [00:46<00:00,  3.33it/s]\n",
      "100%|██████████| 67/67 [00:20<00:00,  3.19it/s]\n",
      "100%|██████████| 18/18 [00:05<00:00,  3.22it/s]\n"
     ]
    },
    {
     "name": "stdout",
     "output_type": "stream",
     "text": [
      "Train loss: 0.1373636014999882\n",
      "Train consistency loss: 0.0023733512889385334\n",
      "Validation loss: 0.2744223384393586\n",
      "1m 13s\n",
      "Early Stopping Counter = 6\n",
      "Epoch 140/300\n"
     ]
    },
    {
     "name": "stderr",
     "output_type": "stream",
     "text": [
      "100%|██████████| 155/155 [00:46<00:00,  3.34it/s]\n",
      "100%|██████████| 67/67 [00:20<00:00,  3.23it/s]\n",
      "100%|██████████| 18/18 [00:05<00:00,  3.28it/s]\n"
     ]
    },
    {
     "name": "stdout",
     "output_type": "stream",
     "text": [
      "Train loss: 0.13714698125277797\n",
      "Train consistency loss: 0.0019217630910840053\n",
      "Validation loss: 0.26920516188773846\n",
      "1m 13s\n",
      "Consistency Loss declined to 0.0019217630910840053\n",
      "Early Stopping Counter = 0\n",
      "Epoch 141/300\n"
     ]
    },
    {
     "name": "stderr",
     "output_type": "stream",
     "text": [
      "100%|██████████| 155/155 [00:46<00:00,  3.34it/s]\n",
      "100%|██████████| 67/67 [00:20<00:00,  3.23it/s]\n",
      "100%|██████████| 18/18 [00:05<00:00,  3.36it/s]\n"
     ]
    },
    {
     "name": "stdout",
     "output_type": "stream",
     "text": [
      "Train loss: 0.13655422118402297\n",
      "Train consistency loss: 0.002525449697442575\n",
      "Validation loss: 0.275052472949028\n",
      "1m 12s\n",
      "Early Stopping Counter = 1\n",
      "Epoch 142/300\n"
     ]
    },
    {
     "name": "stderr",
     "output_type": "stream",
     "text": [
      "100%|██████████| 155/155 [00:46<00:00,  3.36it/s]\n",
      "100%|██████████| 67/67 [00:20<00:00,  3.20it/s]\n",
      "100%|██████████| 18/18 [00:05<00:00,  3.35it/s]\n"
     ]
    },
    {
     "name": "stdout",
     "output_type": "stream",
     "text": [
      "Train loss: 0.13665241036684284\n",
      "Train consistency loss: 0.0040274447250638655\n",
      "Validation loss: 0.2985611729737785\n",
      "1m 12s\n",
      "Early Stopping Counter = 2\n",
      "Epoch 143/300\n"
     ]
    },
    {
     "name": "stderr",
     "output_type": "stream",
     "text": [
      "100%|██████████| 155/155 [00:46<00:00,  3.36it/s]\n",
      "100%|██████████| 67/67 [00:20<00:00,  3.21it/s]\n",
      "100%|██████████| 18/18 [00:05<00:00,  3.34it/s]\n"
     ]
    },
    {
     "name": "stdout",
     "output_type": "stream",
     "text": [
      "Train loss: 0.1376966791768228\n",
      "Train consistency loss: 0.002415358330428934\n",
      "Validation loss: 0.2820546225541168\n",
      "1m 12s\n",
      "Early Stopping Counter = 3\n",
      "Epoch 144/300\n"
     ]
    },
    {
     "name": "stderr",
     "output_type": "stream",
     "text": [
      "100%|██████████| 155/155 [00:46<00:00,  3.34it/s]\n",
      "100%|██████████| 67/67 [00:20<00:00,  3.20it/s]\n",
      "100%|██████████| 18/18 [00:05<00:00,  3.33it/s]\n"
     ]
    },
    {
     "name": "stdout",
     "output_type": "stream",
     "text": [
      "Train loss: 0.13604704704015486\n",
      "Train consistency loss: 0.0025035981262630934\n",
      "Validation loss: 0.2973397233419948\n",
      "1m 13s\n",
      "Early Stopping Counter = 4\n",
      "Epoch 145/300\n"
     ]
    },
    {
     "name": "stderr",
     "output_type": "stream",
     "text": [
      "100%|██████████| 155/155 [00:46<00:00,  3.35it/s]\n",
      "100%|██████████| 67/67 [00:20<00:00,  3.24it/s]\n",
      "100%|██████████| 18/18 [00:05<00:00,  3.29it/s]\n"
     ]
    },
    {
     "name": "stdout",
     "output_type": "stream",
     "text": [
      "Train loss: 0.13640869389618596\n",
      "Train consistency loss: 0.002277878378934936\n",
      "Validation loss: 0.2790350955393579\n",
      "1m 12s\n",
      "Early Stopping Counter = 5\n",
      "Epoch 146/300\n"
     ]
    },
    {
     "name": "stderr",
     "output_type": "stream",
     "text": [
      "100%|██████████| 155/155 [00:46<00:00,  3.35it/s]\n",
      "100%|██████████| 67/67 [00:20<00:00,  3.21it/s]\n",
      "100%|██████████| 18/18 [00:05<00:00,  3.21it/s]\n"
     ]
    },
    {
     "name": "stdout",
     "output_type": "stream",
     "text": [
      "Train loss: 0.13584621990880658\n",
      "Train consistency loss: 0.002071768222654711\n",
      "Validation loss: 0.28230804204940796\n",
      "1m 13s\n",
      "Early Stopping Counter = 6\n",
      "Epoch 147/300\n"
     ]
    },
    {
     "name": "stderr",
     "output_type": "stream",
     "text": [
      "100%|██████████| 155/155 [00:46<00:00,  3.32it/s]\n",
      "100%|██████████| 67/67 [00:20<00:00,  3.22it/s]\n",
      "100%|██████████| 18/18 [00:05<00:00,  3.29it/s]\n"
     ]
    },
    {
     "name": "stdout",
     "output_type": "stream",
     "text": [
      "Train loss: 0.1341782555945458\n",
      "Train consistency loss: 0.001976464871567354\n",
      "Validation loss: 0.28532086395555073\n",
      "1m 13s\n",
      "Early Stopping Counter = 7\n",
      "Epoch 148/300\n"
     ]
    },
    {
     "name": "stderr",
     "output_type": "stream",
     "text": [
      "100%|██████████| 155/155 [00:46<00:00,  3.36it/s]\n",
      "100%|██████████| 67/67 [00:20<00:00,  3.21it/s]\n",
      "100%|██████████| 18/18 [00:05<00:00,  3.41it/s]\n"
     ]
    },
    {
     "name": "stdout",
     "output_type": "stream",
     "text": [
      "Train loss: 0.13401894180044052\n",
      "Train consistency loss: 0.002066644488958948\n",
      "Validation loss: 0.27933106819788617\n",
      "1m 12s\n",
      "Early Stopping Counter = 8\n",
      "Epoch 149/300\n"
     ]
    },
    {
     "name": "stderr",
     "output_type": "stream",
     "text": [
      "100%|██████████| 155/155 [00:46<00:00,  3.36it/s]\n",
      "100%|██████████| 67/67 [00:20<00:00,  3.23it/s]\n",
      "100%|██████████| 18/18 [00:05<00:00,  3.32it/s]\n"
     ]
    },
    {
     "name": "stdout",
     "output_type": "stream",
     "text": [
      "Train loss: 0.13357919329597104\n",
      "Train consistency loss: 0.001975020440642847\n",
      "Validation loss: 0.27903155444396865\n",
      "1m 12s\n",
      "Early Stopping Counter = 9\n",
      "Epoch 150/300\n"
     ]
    },
    {
     "name": "stderr",
     "output_type": "stream",
     "text": [
      "100%|██████████| 155/155 [00:46<00:00,  3.36it/s]\n",
      "100%|██████████| 67/67 [00:20<00:00,  3.21it/s]\n",
      "100%|██████████| 18/18 [00:05<00:00,  3.22it/s]\n"
     ]
    },
    {
     "name": "stdout",
     "output_type": "stream",
     "text": [
      "Train loss: 0.13406234085559846\n",
      "Train consistency loss: 0.0019472686638152088\n",
      "Validation loss: 0.2886012554582622\n",
      "1m 13s\n",
      "Early Stopping Counter = 10\n",
      "Epoch 151/300\n"
     ]
    },
    {
     "name": "stderr",
     "output_type": "stream",
     "text": [
      "100%|██████████| 155/155 [00:46<00:00,  3.36it/s]\n",
      "100%|██████████| 67/67 [00:20<00:00,  3.24it/s]\n",
      "100%|██████████| 18/18 [00:05<00:00,  3.29it/s]\n"
     ]
    },
    {
     "name": "stdout",
     "output_type": "stream",
     "text": [
      "Train loss: 0.13374881907816857\n",
      "Train consistency loss: 0.0018624141968703314\n",
      "Validation loss: 0.27326366181174916\n",
      "1m 12s\n",
      "Consistency Loss declined to 0.0018624141968703314\n",
      "Early Stopping Counter = 0\n",
      "Epoch 152/300\n"
     ]
    },
    {
     "name": "stderr",
     "output_type": "stream",
     "text": [
      "100%|██████████| 155/155 [00:46<00:00,  3.37it/s]\n",
      "100%|██████████| 67/67 [00:20<00:00,  3.24it/s]\n",
      "100%|██████████| 18/18 [00:05<00:00,  3.29it/s]\n"
     ]
    },
    {
     "name": "stdout",
     "output_type": "stream",
     "text": [
      "Train loss: 0.13260436279158438\n",
      "Train consistency loss: 0.0018880227120217882\n",
      "Validation loss: 0.2783621451300051\n",
      "1m 12s\n",
      "Early Stopping Counter = 1\n",
      "Epoch 153/300\n"
     ]
    },
    {
     "name": "stderr",
     "output_type": "stream",
     "text": [
      "100%|██████████| 155/155 [00:46<00:00,  3.35it/s]\n",
      "100%|██████████| 67/67 [00:20<00:00,  3.23it/s]\n",
      "100%|██████████| 18/18 [00:05<00:00,  3.30it/s]\n"
     ]
    },
    {
     "name": "stdout",
     "output_type": "stream",
     "text": [
      "Train loss: 0.1328701235594288\n",
      "Train consistency loss: 0.0020134977921635023\n",
      "Validation loss: 0.2841939628124237\n",
      "1m 12s\n",
      "Early Stopping Counter = 2\n",
      "Epoch 154/300\n"
     ]
    },
    {
     "name": "stderr",
     "output_type": "stream",
     "text": [
      "100%|██████████| 155/155 [00:46<00:00,  3.36it/s]\n",
      "100%|██████████| 67/67 [00:20<00:00,  3.22it/s]\n",
      "100%|██████████| 18/18 [00:05<00:00,  3.25it/s]\n"
     ]
    },
    {
     "name": "stdout",
     "output_type": "stream",
     "text": [
      "Train loss: 0.13211239927238033\n",
      "Train consistency loss: 0.0020819992867798834\n",
      "Validation loss: 0.2892654529876179\n",
      "1m 13s\n",
      "Early Stopping Counter = 3\n",
      "Epoch 155/300\n"
     ]
    },
    {
     "name": "stderr",
     "output_type": "stream",
     "text": [
      "100%|██████████| 155/155 [00:46<00:00,  3.37it/s]\n",
      "100%|██████████| 67/67 [00:20<00:00,  3.23it/s]\n",
      "100%|██████████| 18/18 [00:05<00:00,  3.29it/s]\n"
     ]
    },
    {
     "name": "stdout",
     "output_type": "stream",
     "text": [
      "Train loss: 0.13171869295258676\n",
      "Train consistency loss: 0.0023008019267233893\n",
      "Validation loss: 0.2893945657544666\n",
      "1m 12s\n",
      "Early Stopping Counter = 4\n",
      "Epoch 156/300\n"
     ]
    },
    {
     "name": "stderr",
     "output_type": "stream",
     "text": [
      "100%|██████████| 155/155 [00:46<00:00,  3.36it/s]\n",
      "100%|██████████| 67/67 [00:20<00:00,  3.23it/s]\n",
      "100%|██████████| 18/18 [00:05<00:00,  3.30it/s]\n"
     ]
    },
    {
     "name": "stdout",
     "output_type": "stream",
     "text": [
      "Train loss: 0.13167491252383878\n",
      "Train consistency loss: 0.001888076613184565\n",
      "Validation loss: 0.2910199446810616\n",
      "1m 12s\n",
      "Early Stopping Counter = 5\n",
      "Epoch 157/300\n"
     ]
    },
    {
     "name": "stderr",
     "output_type": "stream",
     "text": [
      "100%|██████████| 155/155 [00:46<00:00,  3.36it/s]\n",
      "100%|██████████| 67/67 [00:20<00:00,  3.24it/s]\n",
      "100%|██████████| 18/18 [00:05<00:00,  3.25it/s]\n"
     ]
    },
    {
     "name": "stdout",
     "output_type": "stream",
     "text": [
      "Train loss: 0.13103361091306132\n",
      "Train consistency loss: 0.0018590244607054698\n",
      "Validation loss: 0.2825668201678329\n",
      "1m 12s\n",
      "Consistency Loss declined to 0.0018590244607054698\n",
      "Early Stopping Counter = 0\n",
      "Epoch 158/300\n"
     ]
    },
    {
     "name": "stderr",
     "output_type": "stream",
     "text": [
      "100%|██████████| 155/155 [00:46<00:00,  3.34it/s]\n",
      "100%|██████████| 67/67 [00:20<00:00,  3.23it/s]\n",
      "100%|██████████| 18/18 [00:05<00:00,  3.29it/s]\n"
     ]
    },
    {
     "name": "stdout",
     "output_type": "stream",
     "text": [
      "Train loss: 0.13120753125798318\n",
      "Train consistency loss: 0.0017831303412094712\n",
      "Validation loss: 0.27070088249941665\n",
      "1m 13s\n",
      "Consistency Loss declined to 0.0017831303412094712\n",
      "Early Stopping Counter = 0\n",
      "Epoch 159/300\n"
     ]
    },
    {
     "name": "stderr",
     "output_type": "stream",
     "text": [
      "100%|██████████| 155/155 [00:46<00:00,  3.34it/s]\n",
      "100%|██████████| 67/67 [00:20<00:00,  3.24it/s]\n",
      "100%|██████████| 18/18 [00:05<00:00,  3.30it/s]\n"
     ]
    },
    {
     "name": "stdout",
     "output_type": "stream",
     "text": [
      "Train loss: 0.13075455605022368\n",
      "Train consistency loss: 0.002243099805426353\n",
      "Validation loss: 0.2764166749806868\n",
      "1m 13s\n",
      "Early Stopping Counter = 1\n",
      "Epoch 160/300\n"
     ]
    },
    {
     "name": "stderr",
     "output_type": "stream",
     "text": [
      "100%|██████████| 155/155 [00:46<00:00,  3.35it/s]\n",
      "100%|██████████| 67/67 [00:20<00:00,  3.19it/s]\n",
      "100%|██████████| 18/18 [00:05<00:00,  3.34it/s]\n"
     ]
    },
    {
     "name": "stdout",
     "output_type": "stream",
     "text": [
      "Train loss: 0.13065145481978693\n",
      "Train consistency loss: 0.0018796259120329104\n",
      "Validation loss: 0.27580061844653553\n",
      "1m 13s\n",
      "Early Stopping Counter = 2\n",
      "Epoch 161/300\n"
     ]
    },
    {
     "name": "stderr",
     "output_type": "stream",
     "text": [
      "100%|██████████| 155/155 [00:46<00:00,  3.35it/s]\n",
      "100%|██████████| 67/67 [00:21<00:00,  3.18it/s]\n",
      "100%|██████████| 18/18 [00:05<00:00,  3.29it/s]\n"
     ]
    },
    {
     "name": "stdout",
     "output_type": "stream",
     "text": [
      "Train loss: 0.12952128941974334\n",
      "Train consistency loss: 0.0018009919188430171\n",
      "Validation loss: 0.2892719695551528\n",
      "1m 13s\n",
      "Early Stopping Counter = 3\n",
      "Epoch 162/300\n"
     ]
    },
    {
     "name": "stderr",
     "output_type": "stream",
     "text": [
      "100%|██████████| 155/155 [00:46<00:00,  3.34it/s]\n",
      "100%|██████████| 67/67 [00:20<00:00,  3.20it/s]\n",
      "100%|██████████| 18/18 [00:05<00:00,  3.35it/s]\n"
     ]
    },
    {
     "name": "stdout",
     "output_type": "stream",
     "text": [
      "Train loss: 0.12973026277557495\n",
      "Train consistency loss: 0.0016395231542080196\n",
      "Validation loss: 0.2700593465318282\n",
      "1m 13s\n",
      "Consistency Loss declined to 0.0016395231542080196\n",
      "Early Stopping Counter = 0\n",
      "Epoch 163/300\n"
     ]
    },
    {
     "name": "stderr",
     "output_type": "stream",
     "text": [
      "100%|██████████| 155/155 [00:46<00:00,  3.35it/s]\n",
      "100%|██████████| 67/67 [00:21<00:00,  3.19it/s]\n",
      "100%|██████████| 18/18 [00:05<00:00,  3.33it/s]\n"
     ]
    },
    {
     "name": "stdout",
     "output_type": "stream",
     "text": [
      "Train loss: 0.12993471521523692\n",
      "Train consistency loss: 0.0019639913347174426\n",
      "Validation loss: 0.2788786600447363\n",
      "1m 13s\n",
      "Early Stopping Counter = 1\n",
      "Epoch 164/300\n"
     ]
    },
    {
     "name": "stderr",
     "output_type": "stream",
     "text": [
      "100%|██████████| 155/155 [00:46<00:00,  3.35it/s]\n",
      "100%|██████████| 67/67 [00:20<00:00,  3.23it/s]\n",
      "100%|██████████| 18/18 [00:05<00:00,  3.33it/s]\n"
     ]
    },
    {
     "name": "stdout",
     "output_type": "stream",
     "text": [
      "Train loss: 0.13004966714689808\n",
      "Train consistency loss: 0.005279626995290338\n",
      "Validation loss: 0.42752794755829704\n",
      "1m 12s\n",
      "Early Stopping Counter = 2\n",
      "Epoch 165/300\n"
     ]
    },
    {
     "name": "stderr",
     "output_type": "stream",
     "text": [
      "100%|██████████| 155/155 [00:46<00:00,  3.37it/s]\n",
      "100%|██████████| 67/67 [00:20<00:00,  3.23it/s]\n",
      "100%|██████████| 18/18 [00:05<00:00,  3.28it/s]\n"
     ]
    },
    {
     "name": "stdout",
     "output_type": "stream",
     "text": [
      "Train loss: 0.13379754486583895\n",
      "Train consistency loss: 0.001981464865332497\n",
      "Validation loss: 0.29236230957839227\n",
      "1m 12s\n",
      "Early Stopping Counter = 3\n",
      "Epoch 166/300\n"
     ]
    },
    {
     "name": "stderr",
     "output_type": "stream",
     "text": [
      "100%|██████████| 155/155 [00:46<00:00,  3.34it/s]\n",
      "100%|██████████| 67/67 [00:20<00:00,  3.20it/s]\n",
      "100%|██████████| 18/18 [00:05<00:00,  3.20it/s]\n"
     ]
    },
    {
     "name": "stdout",
     "output_type": "stream",
     "text": [
      "Train loss: 0.1289442478649078\n",
      "Train consistency loss: 0.0016728727140032978\n",
      "Validation loss: 0.2743470915075805\n",
      "1m 13s\n",
      "Early Stopping Counter = 4\n",
      "Epoch 167/300\n"
     ]
    },
    {
     "name": "stderr",
     "output_type": "stream",
     "text": [
      "100%|██████████| 155/155 [00:46<00:00,  3.35it/s]\n",
      "100%|██████████| 67/67 [00:20<00:00,  3.20it/s]\n",
      "100%|██████████| 18/18 [00:05<00:00,  3.14it/s]\n"
     ]
    },
    {
     "name": "stdout",
     "output_type": "stream",
     "text": [
      "Train loss: 0.12733132521952353\n",
      "Train consistency loss: 0.0017230623382588487\n",
      "Validation loss: 0.28247670663727653\n",
      "1m 13s\n",
      "Early Stopping Counter = 5\n",
      "Epoch 168/300\n"
     ]
    },
    {
     "name": "stderr",
     "output_type": "stream",
     "text": [
      "100%|██████████| 155/155 [00:46<00:00,  3.35it/s]\n",
      "100%|██████████| 67/67 [00:20<00:00,  3.23it/s]\n",
      "100%|██████████| 18/18 [00:05<00:00,  3.24it/s]\n"
     ]
    },
    {
     "name": "stdout",
     "output_type": "stream",
     "text": [
      "Train loss: 0.12750744555265672\n",
      "Train consistency loss: 0.001678143861641023\n",
      "Validation loss: 0.27954996149573064\n",
      "1m 13s\n",
      "Early Stopping Counter = 6\n",
      "Epoch 169/300\n"
     ]
    },
    {
     "name": "stderr",
     "output_type": "stream",
     "text": [
      "100%|██████████| 155/155 [00:46<00:00,  3.36it/s]\n",
      "100%|██████████| 67/67 [00:20<00:00,  3.22it/s]\n",
      "100%|██████████| 18/18 [00:05<00:00,  3.27it/s]\n"
     ]
    },
    {
     "name": "stdout",
     "output_type": "stream",
     "text": [
      "Train loss: 0.12736744279822995\n",
      "Train consistency loss: 0.0018041570542324612\n",
      "Validation loss: 0.2686076892746819\n",
      "1m 12s\n",
      "Early Stopping Counter = 7\n",
      "Epoch 170/300\n"
     ]
    },
    {
     "name": "stderr",
     "output_type": "stream",
     "text": [
      "100%|██████████| 155/155 [00:46<00:00,  3.33it/s]\n",
      "100%|██████████| 67/67 [00:20<00:00,  3.22it/s]\n",
      "100%|██████████| 18/18 [00:05<00:00,  3.27it/s]\n"
     ]
    },
    {
     "name": "stdout",
     "output_type": "stream",
     "text": [
      "Train loss: 0.12732756685826085\n",
      "Train consistency loss: 0.0018425218582000416\n",
      "Validation loss: 0.27442094269726014\n",
      "1m 13s\n",
      "Early Stopping Counter = 8\n",
      "Epoch 171/300\n"
     ]
    },
    {
     "name": "stderr",
     "output_type": "stream",
     "text": [
      "100%|██████████| 155/155 [00:46<00:00,  3.35it/s]\n",
      "100%|██████████| 67/67 [00:20<00:00,  3.23it/s]\n",
      "100%|██████████| 18/18 [00:05<00:00,  3.22it/s]\n"
     ]
    },
    {
     "name": "stdout",
     "output_type": "stream",
     "text": [
      "Train loss: 0.12681119941896007\n",
      "Train consistency loss: 0.0016514013300705423\n",
      "Validation loss: 0.2718631372683578\n",
      "1m 13s\n",
      "Early Stopping Counter = 9\n",
      "Epoch 172/300\n"
     ]
    },
    {
     "name": "stderr",
     "output_type": "stream",
     "text": [
      "100%|██████████| 155/155 [00:46<00:00,  3.36it/s]\n",
      "100%|██████████| 67/67 [00:20<00:00,  3.22it/s]\n",
      "100%|██████████| 18/18 [00:05<00:00,  3.36it/s]\n"
     ]
    },
    {
     "name": "stdout",
     "output_type": "stream",
     "text": [
      "Train loss: 0.1263179254147314\n",
      "Train consistency loss: 0.0015337478522378118\n",
      "Validation loss: 0.26797303019298446\n",
      "1m 12s\n",
      "Consistency Loss declined to 0.0015337478522378118\n",
      "Early Stopping Counter = 0\n",
      "Epoch 173/300\n"
     ]
    },
    {
     "name": "stderr",
     "output_type": "stream",
     "text": [
      "100%|██████████| 155/155 [00:46<00:00,  3.33it/s]\n",
      "100%|██████████| 67/67 [00:20<00:00,  3.22it/s]\n",
      "100%|██████████| 18/18 [00:05<00:00,  3.29it/s]\n"
     ]
    },
    {
     "name": "stdout",
     "output_type": "stream",
     "text": [
      "Train loss: 0.12604457909061062\n",
      "Train consistency loss: 0.001634979174896352\n",
      "Validation loss: 0.2785608559432957\n",
      "1m 13s\n",
      "Early Stopping Counter = 1\n",
      "Epoch 174/300\n"
     ]
    },
    {
     "name": "stderr",
     "output_type": "stream",
     "text": [
      "100%|██████████| 155/155 [00:46<00:00,  3.36it/s]\n",
      "100%|██████████| 67/67 [00:21<00:00,  3.19it/s]\n",
      "100%|██████████| 18/18 [00:05<00:00,  3.29it/s]\n"
     ]
    },
    {
     "name": "stdout",
     "output_type": "stream",
     "text": [
      "Train loss: 0.12559141656083445\n",
      "Train consistency loss: 0.0022860318978330982\n",
      "Validation loss: 0.2856861850660708\n",
      "1m 13s\n",
      "Early Stopping Counter = 2\n",
      "Epoch 175/300\n"
     ]
    },
    {
     "name": "stderr",
     "output_type": "stream",
     "text": [
      "100%|██████████| 155/155 [00:46<00:00,  3.35it/s]\n",
      "100%|██████████| 67/67 [00:21<00:00,  3.19it/s]\n",
      "100%|██████████| 18/18 [00:05<00:00,  3.30it/s]\n"
     ]
    },
    {
     "name": "stdout",
     "output_type": "stream",
     "text": [
      "Train loss: 0.1276793186703036\n",
      "Train consistency loss: 0.0019123322372116259\n",
      "Validation loss: 0.2798499996877379\n",
      "1m 13s\n",
      "Early Stopping Counter = 3\n",
      "Epoch 176/300\n"
     ]
    },
    {
     "name": "stderr",
     "output_type": "stream",
     "text": [
      "100%|██████████| 155/155 [00:46<00:00,  3.35it/s]\n",
      "100%|██████████| 67/67 [00:20<00:00,  3.23it/s]\n",
      "100%|██████████| 18/18 [00:05<00:00,  3.28it/s]\n"
     ]
    },
    {
     "name": "stdout",
     "output_type": "stream",
     "text": [
      "Train loss: 0.1253936346019468\n",
      "Train consistency loss: 0.0020489272810935754\n",
      "Validation loss: 0.2748378148923318\n",
      "1m 13s\n",
      "Early Stopping Counter = 4\n",
      "Epoch 177/300\n"
     ]
    },
    {
     "name": "stderr",
     "output_type": "stream",
     "text": [
      "100%|██████████| 155/155 [00:45<00:00,  3.37it/s]\n",
      "100%|██████████| 67/67 [00:20<00:00,  3.20it/s]\n",
      "100%|██████████| 18/18 [00:05<00:00,  3.25it/s]\n"
     ]
    },
    {
     "name": "stdout",
     "output_type": "stream",
     "text": [
      "Train loss: 0.12496138561156488\n",
      "Train consistency loss: 0.0015887298000934742\n",
      "Validation loss: 0.26838452503499055\n",
      "1m 12s\n",
      "Early Stopping Counter = 5\n",
      "Epoch 178/300\n"
     ]
    },
    {
     "name": "stderr",
     "output_type": "stream",
     "text": [
      "100%|██████████| 155/155 [00:46<00:00,  3.35it/s]\n",
      "100%|██████████| 67/67 [00:20<00:00,  3.23it/s]\n",
      "100%|██████████| 18/18 [00:05<00:00,  3.29it/s]\n"
     ]
    },
    {
     "name": "stdout",
     "output_type": "stream",
     "text": [
      "Train loss: 0.12451289257695598\n",
      "Train consistency loss: 0.001616031402346692\n",
      "Validation loss: 0.2776033684818281\n",
      "1m 13s\n",
      "Early Stopping Counter = 6\n",
      "Epoch 179/300\n"
     ]
    },
    {
     "name": "stderr",
     "output_type": "stream",
     "text": [
      "100%|██████████| 155/155 [00:46<00:00,  3.34it/s]\n",
      "100%|██████████| 67/67 [00:20<00:00,  3.19it/s]\n",
      "100%|██████████| 18/18 [00:05<00:00,  3.13it/s]\n"
     ]
    },
    {
     "name": "stdout",
     "output_type": "stream",
     "text": [
      "Train loss: 0.1241293246226926\n",
      "Train consistency loss: 0.0014144869463921371\n",
      "Validation loss: 0.2698288114948405\n",
      "1m 13s\n",
      "Consistency Loss declined to 0.0014144869463921371\n",
      "Early Stopping Counter = 0\n",
      "Epoch 180/300\n"
     ]
    },
    {
     "name": "stderr",
     "output_type": "stream",
     "text": [
      "100%|██████████| 155/155 [00:46<00:00,  3.34it/s]\n",
      "100%|██████████| 67/67 [00:21<00:00,  3.17it/s]\n",
      "100%|██████████| 18/18 [00:05<00:00,  3.38it/s]\n"
     ]
    },
    {
     "name": "stdout",
     "output_type": "stream",
     "text": [
      "Train loss: 0.1253059809246371\n",
      "Train consistency loss: 0.0016256249657442877\n",
      "Validation loss: 0.2769977634565698\n",
      "1m 13s\n",
      "Early Stopping Counter = 1\n",
      "Epoch 181/300\n"
     ]
    },
    {
     "name": "stderr",
     "output_type": "stream",
     "text": [
      "100%|██████████| 155/155 [00:46<00:00,  3.36it/s]\n",
      "100%|██████████| 67/67 [00:20<00:00,  3.22it/s]\n",
      "100%|██████████| 18/18 [00:05<00:00,  3.30it/s]\n"
     ]
    },
    {
     "name": "stdout",
     "output_type": "stream",
     "text": [
      "Train loss: 0.12413447225286114\n",
      "Train consistency loss: 0.0014992098101595445\n",
      "Validation loss: 0.26424170192331076\n",
      "1m 12s\n",
      "Early Stopping Counter = 2\n",
      "Epoch 182/300\n"
     ]
    },
    {
     "name": "stderr",
     "output_type": "stream",
     "text": [
      "100%|██████████| 155/155 [00:46<00:00,  3.36it/s]\n",
      "100%|██████████| 67/67 [00:20<00:00,  3.23it/s]\n",
      "100%|██████████| 18/18 [00:05<00:00,  3.22it/s]\n"
     ]
    },
    {
     "name": "stdout",
     "output_type": "stream",
     "text": [
      "Train loss: 0.1231475765666654\n",
      "Train consistency loss: 0.001661122392571128\n",
      "Validation loss: 0.2642662443427576\n",
      "1m 12s\n",
      "Early Stopping Counter = 3\n",
      "Epoch 183/300\n"
     ]
    },
    {
     "name": "stderr",
     "output_type": "stream",
     "text": [
      "100%|██████████| 155/155 [00:45<00:00,  3.37it/s]\n",
      "100%|██████████| 67/67 [00:20<00:00,  3.23it/s]\n",
      "100%|██████████| 18/18 [00:05<00:00,  3.32it/s]\n"
     ]
    },
    {
     "name": "stdout",
     "output_type": "stream",
     "text": [
      "Train loss: 0.1231016811824614\n",
      "Train consistency loss: 0.001589087896229727\n",
      "Validation loss: 0.27435653615329003\n",
      "1m 12s\n",
      "Early Stopping Counter = 4\n",
      "Epoch 184/300\n"
     ]
    },
    {
     "name": "stderr",
     "output_type": "stream",
     "text": [
      "100%|██████████| 155/155 [00:46<00:00,  3.36it/s]\n",
      "100%|██████████| 67/67 [00:20<00:00,  3.22it/s]\n",
      "100%|██████████| 18/18 [00:05<00:00,  3.16it/s]\n"
     ]
    },
    {
     "name": "stdout",
     "output_type": "stream",
     "text": [
      "Train loss: 0.12289335146065682\n",
      "Train consistency loss: 0.0018468007033537906\n",
      "Validation loss: 0.28062225609189934\n",
      "1m 13s\n",
      "Early Stopping Counter = 5\n",
      "Epoch 185/300\n"
     ]
    },
    {
     "name": "stderr",
     "output_type": "stream",
     "text": [
      "100%|██████████| 155/155 [00:46<00:00,  3.36it/s]\n",
      "100%|██████████| 67/67 [00:20<00:00,  3.22it/s]\n",
      "100%|██████████| 18/18 [00:05<00:00,  3.40it/s]\n"
     ]
    },
    {
     "name": "stdout",
     "output_type": "stream",
     "text": [
      "Train loss: 0.12261295582978957\n",
      "Train consistency loss: 0.0015385694047714124\n",
      "Validation loss: 0.2675789382515682\n",
      "1m 12s\n",
      "Early Stopping Counter = 6\n",
      "Epoch 186/300\n"
     ]
    },
    {
     "name": "stderr",
     "output_type": "stream",
     "text": [
      "100%|██████████| 155/155 [00:46<00:00,  3.36it/s]\n",
      "100%|██████████| 67/67 [00:20<00:00,  3.23it/s]\n",
      "100%|██████████| 18/18 [00:05<00:00,  3.23it/s]\n"
     ]
    },
    {
     "name": "stdout",
     "output_type": "stream",
     "text": [
      "Train loss: 0.12248581772850406\n",
      "Train consistency loss: 0.0016983199982778794\n",
      "Validation loss: 0.2672922198350231\n",
      "1m 12s\n",
      "Early Stopping Counter = 7\n",
      "Epoch 187/300\n"
     ]
    },
    {
     "name": "stderr",
     "output_type": "stream",
     "text": [
      "100%|██████████| 155/155 [00:46<00:00,  3.36it/s]\n",
      "100%|██████████| 67/67 [00:20<00:00,  3.23it/s]\n",
      "100%|██████████| 18/18 [00:05<00:00,  3.25it/s]\n"
     ]
    },
    {
     "name": "stdout",
     "output_type": "stream",
     "text": [
      "Train loss: 0.12237104480305026\n",
      "Train consistency loss: 0.0016354746463249868\n",
      "Validation loss: 0.26335874148127103\n",
      "1m 12s\n",
      "Early Stopping Counter = 8\n",
      "Epoch 188/300\n"
     ]
    },
    {
     "name": "stderr",
     "output_type": "stream",
     "text": [
      "100%|██████████| 155/155 [00:46<00:00,  3.36it/s]\n",
      "100%|██████████| 67/67 [00:20<00:00,  3.24it/s]\n",
      "100%|██████████| 18/18 [00:05<00:00,  3.12it/s]\n"
     ]
    },
    {
     "name": "stdout",
     "output_type": "stream",
     "text": [
      "Train loss: 0.12151470049735039\n",
      "Train consistency loss: 0.0015944461798670687\n",
      "Validation loss: 0.27850254469861585\n",
      "1m 13s\n",
      "Early Stopping Counter = 9\n",
      "Epoch 189/300\n"
     ]
    },
    {
     "name": "stderr",
     "output_type": "stream",
     "text": [
      "100%|██████████| 155/155 [00:46<00:00,  3.36it/s]\n",
      "100%|██████████| 67/67 [00:20<00:00,  3.24it/s]\n",
      "100%|██████████| 18/18 [00:05<00:00,  3.33it/s]\n"
     ]
    },
    {
     "name": "stdout",
     "output_type": "stream",
     "text": [
      "Train loss: 0.121225483859739\n",
      "Train consistency loss: 0.0015055424744026987\n",
      "Validation loss: 0.27528870819757384\n",
      "1m 12s\n",
      "Early Stopping Counter = 10\n",
      "Epoch 190/300\n"
     ]
    },
    {
     "name": "stderr",
     "output_type": "stream",
     "text": [
      "100%|██████████| 155/155 [00:46<00:00,  3.36it/s]\n",
      "100%|██████████| 67/67 [00:20<00:00,  3.24it/s]\n",
      "100%|██████████| 18/18 [00:05<00:00,  3.27it/s]\n"
     ]
    },
    {
     "name": "stdout",
     "output_type": "stream",
     "text": [
      "Train loss: 0.12178568546810457\n",
      "Train consistency loss: 0.0015639186812453527\n",
      "Validation loss: 0.27689600870427156\n",
      "1m 12s\n",
      "Early Stopping Counter = 11\n",
      "Epoch 191/300\n"
     ]
    },
    {
     "name": "stderr",
     "output_type": "stream",
     "text": [
      "100%|██████████| 155/155 [00:46<00:00,  3.35it/s]\n",
      "100%|██████████| 67/67 [00:20<00:00,  3.23it/s]\n",
      "100%|██████████| 18/18 [00:05<00:00,  3.33it/s]\n"
     ]
    },
    {
     "name": "stdout",
     "output_type": "stream",
     "text": [
      "Train loss: 0.12140749870769439\n",
      "Train consistency loss: 0.0015015053074570624\n",
      "Validation loss: 0.27696232880569166\n",
      "1m 12s\n",
      "Early Stopping Counter = 12\n",
      "Epoch 192/300\n"
     ]
    },
    {
     "name": "stderr",
     "output_type": "stream",
     "text": [
      "100%|██████████| 155/155 [00:46<00:00,  3.35it/s]\n",
      "100%|██████████| 67/67 [00:20<00:00,  3.22it/s]\n",
      "100%|██████████| 18/18 [00:05<00:00,  3.18it/s]\n"
     ]
    },
    {
     "name": "stdout",
     "output_type": "stream",
     "text": [
      "Train loss: 0.12227426003063879\n",
      "Train consistency loss: 0.00147097624417867\n",
      "Validation loss: 0.2757846907609039\n",
      "1m 13s\n",
      "Early Stopping Counter = 13\n",
      "Epoch 193/300\n"
     ]
    },
    {
     "name": "stderr",
     "output_type": "stream",
     "text": [
      "100%|██████████| 155/155 [00:46<00:00,  3.36it/s]\n",
      "100%|██████████| 67/67 [00:20<00:00,  3.22it/s]\n",
      "100%|██████████| 18/18 [00:05<00:00,  3.19it/s]\n"
     ]
    },
    {
     "name": "stdout",
     "output_type": "stream",
     "text": [
      "Train loss: 0.12135169342640907\n",
      "Train consistency loss: 0.0013760008837040792\n",
      "Validation loss: 0.27670428136156666\n",
      "1m 13s\n",
      "Consistency Loss declined to 0.0013760008837040792\n",
      "Early Stopping Counter = 0\n",
      "Epoch 194/300\n"
     ]
    },
    {
     "name": "stderr",
     "output_type": "stream",
     "text": [
      "100%|██████████| 155/155 [00:46<00:00,  3.34it/s]\n",
      "100%|██████████| 67/67 [00:20<00:00,  3.22it/s]\n",
      "100%|██████████| 18/18 [00:05<00:00,  3.29it/s]\n"
     ]
    },
    {
     "name": "stdout",
     "output_type": "stream",
     "text": [
      "Train loss: 0.12032561417548887\n",
      "Train consistency loss: 0.0016037918872255554\n",
      "Validation loss: 0.26931145342273843\n",
      "1m 13s\n",
      "Early Stopping Counter = 1\n",
      "Epoch 195/300\n"
     ]
    },
    {
     "name": "stderr",
     "output_type": "stream",
     "text": [
      "100%|██████████| 155/155 [00:46<00:00,  3.35it/s]\n",
      "100%|██████████| 67/67 [00:20<00:00,  3.19it/s]\n",
      "100%|██████████| 18/18 [00:05<00:00,  3.26it/s]\n"
     ]
    },
    {
     "name": "stdout",
     "output_type": "stream",
     "text": [
      "Train loss: 0.12109069968423536\n",
      "Train consistency loss: 0.0014025134324624356\n",
      "Validation loss: 0.2722942926403549\n",
      "1m 13s\n",
      "Early Stopping Counter = 2\n",
      "Epoch 196/300\n"
     ]
    },
    {
     "name": "stderr",
     "output_type": "stream",
     "text": [
      "100%|██████████| 155/155 [00:46<00:00,  3.35it/s]\n",
      "100%|██████████| 67/67 [00:20<00:00,  3.22it/s]\n",
      "100%|██████████| 18/18 [00:05<00:00,  3.15it/s]\n"
     ]
    },
    {
     "name": "stdout",
     "output_type": "stream",
     "text": [
      "Train loss: 0.11972637392820851\n",
      "Train consistency loss: 0.002014875815097076\n",
      "Validation loss: 0.2883884302443928\n",
      "1m 13s\n",
      "Early Stopping Counter = 3\n",
      "Epoch 197/300\n"
     ]
    },
    {
     "name": "stderr",
     "output_type": "stream",
     "text": [
      "100%|██████████| 155/155 [00:46<00:00,  3.36it/s]\n",
      "100%|██████████| 67/67 [00:21<00:00,  3.19it/s]\n",
      "100%|██████████| 18/18 [00:05<00:00,  3.15it/s]\n"
     ]
    },
    {
     "name": "stdout",
     "output_type": "stream",
     "text": [
      "Train loss: 0.12079427559529582\n",
      "Train consistency loss: 0.0015087865159235227\n",
      "Validation loss: 0.2747513937453429\n",
      "1m 13s\n",
      "Early Stopping Counter = 4\n",
      "Epoch 198/300\n"
     ]
    },
    {
     "name": "stderr",
     "output_type": "stream",
     "text": [
      "100%|██████████| 155/155 [00:46<00:00,  3.33it/s]\n",
      "100%|██████████| 67/67 [00:21<00:00,  3.17it/s]\n",
      "100%|██████████| 18/18 [00:05<00:00,  3.14it/s]\n"
     ]
    },
    {
     "name": "stdout",
     "output_type": "stream",
     "text": [
      "Train loss: 0.11942073976801287\n",
      "Train consistency loss: 0.0016894839063752443\n",
      "Validation loss: 0.2672346263296074\n",
      "1m 13s\n",
      "Early Stopping Counter = 5\n",
      "Epoch 199/300\n"
     ]
    },
    {
     "name": "stderr",
     "output_type": "stream",
     "text": [
      "100%|██████████| 155/155 [00:46<00:00,  3.32it/s]\n",
      "100%|██████████| 67/67 [00:21<00:00,  3.15it/s]\n",
      "100%|██████████| 18/18 [00:05<00:00,  3.32it/s]\n"
     ]
    },
    {
     "name": "stdout",
     "output_type": "stream",
     "text": [
      "Train loss: 0.11949407294873268\n",
      "Train consistency loss: 0.0015107693207978424\n",
      "Validation loss: 0.2725535612553358\n",
      "1m 13s\n",
      "Early Stopping Counter = 6\n",
      "Epoch 200/300\n"
     ]
    },
    {
     "name": "stderr",
     "output_type": "stream",
     "text": [
      "100%|██████████| 155/155 [00:46<00:00,  3.31it/s]\n",
      "100%|██████████| 67/67 [00:20<00:00,  3.20it/s]\n",
      "100%|██████████| 18/18 [00:05<00:00,  3.30it/s]\n"
     ]
    },
    {
     "name": "stdout",
     "output_type": "stream",
     "text": [
      "Train loss: 0.11878669194636807\n",
      "Train consistency loss: 0.002595005043497337\n",
      "Validation loss: 0.2957817419535584\n",
      "1m 13s\n",
      "Early Stopping Counter = 7\n",
      "Epoch 201/300\n"
     ]
    },
    {
     "name": "stderr",
     "output_type": "stream",
     "text": [
      "100%|██████████| 155/155 [00:46<00:00,  3.32it/s]\n",
      "100%|██████████| 67/67 [00:21<00:00,  3.17it/s]\n",
      "100%|██████████| 18/18 [00:05<00:00,  3.28it/s]\n"
     ]
    },
    {
     "name": "stdout",
     "output_type": "stream",
     "text": [
      "Train loss: 0.11985679586087504\n",
      "Train consistency loss: 0.0014546176847834973\n",
      "Validation loss: 0.26684972768028575\n",
      "1m 13s\n",
      "Early Stopping Counter = 8\n",
      "Epoch 202/300\n"
     ]
    },
    {
     "name": "stderr",
     "output_type": "stream",
     "text": [
      "100%|██████████| 155/155 [00:46<00:00,  3.32it/s]\n",
      "100%|██████████| 67/67 [00:20<00:00,  3.20it/s]\n",
      "100%|██████████| 18/18 [00:05<00:00,  3.31it/s]\n"
     ]
    },
    {
     "name": "stdout",
     "output_type": "stream",
     "text": [
      "Train loss: 0.11837287872068343\n",
      "Train consistency loss: 0.0020199693285915723\n",
      "Validation loss: 0.2958102884391944\n",
      "1m 13s\n",
      "Early Stopping Counter = 9\n",
      "Epoch 203/300\n"
     ]
    },
    {
     "name": "stderr",
     "output_type": "stream",
     "text": [
      "100%|██████████| 155/155 [00:46<00:00,  3.34it/s]\n",
      "100%|██████████| 67/67 [00:21<00:00,  3.18it/s]\n",
      "100%|██████████| 18/18 [00:05<00:00,  3.28it/s]\n"
     ]
    },
    {
     "name": "stdout",
     "output_type": "stream",
     "text": [
      "Train loss: 0.11954534169166318\n",
      "Train consistency loss: 0.00140073537781362\n",
      "Validation loss: 0.27076635840866303\n",
      "1m 13s\n",
      "Early Stopping Counter = 10\n",
      "Epoch 204/300\n"
     ]
    },
    {
     "name": "stderr",
     "output_type": "stream",
     "text": [
      "100%|██████████| 155/155 [00:46<00:00,  3.31it/s]\n",
      "100%|██████████| 67/67 [00:21<00:00,  3.16it/s]\n",
      "100%|██████████| 18/18 [00:05<00:00,  3.21it/s]\n"
     ]
    },
    {
     "name": "stdout",
     "output_type": "stream",
     "text": [
      "Train loss: 0.1178210202724703\n",
      "Train consistency loss: 0.0013084350589926896\n",
      "Validation loss: 0.2755612934836083\n",
      "1m 14s\n",
      "Consistency Loss declined to 0.0013084350589926896\n",
      "Early Stopping Counter = 0\n",
      "Epoch 205/300\n"
     ]
    },
    {
     "name": "stderr",
     "output_type": "stream",
     "text": [
      "100%|██████████| 155/155 [00:46<00:00,  3.32it/s]\n",
      "100%|██████████| 67/67 [00:21<00:00,  3.15it/s]\n",
      "100%|██████████| 18/18 [00:05<00:00,  3.20it/s]\n"
     ]
    },
    {
     "name": "stdout",
     "output_type": "stream",
     "text": [
      "Train loss: 0.11706548227417854\n",
      "Train consistency loss: 0.0012676725494188826\n",
      "Validation loss: 0.2779234927147627\n",
      "1m 14s\n",
      "Consistency Loss declined to 0.0012676725494188826\n",
      "Early Stopping Counter = 0\n",
      "Epoch 206/300\n"
     ]
    },
    {
     "name": "stderr",
     "output_type": "stream",
     "text": [
      "100%|██████████| 155/155 [00:46<00:00,  3.32it/s]\n",
      "100%|██████████| 67/67 [00:21<00:00,  3.17it/s]\n",
      "100%|██████████| 18/18 [00:05<00:00,  3.35it/s]\n"
     ]
    },
    {
     "name": "stdout",
     "output_type": "stream",
     "text": [
      "Train loss: 0.11687000297730969\n",
      "Train consistency loss: 0.0014407265068678214\n",
      "Validation loss: 0.30656663990683025\n",
      "1m 13s\n",
      "Early Stopping Counter = 1\n",
      "Epoch 207/300\n"
     ]
    },
    {
     "name": "stderr",
     "output_type": "stream",
     "text": [
      "100%|██████████| 155/155 [00:46<00:00,  3.34it/s]\n",
      "100%|██████████| 67/67 [00:20<00:00,  3.21it/s]\n",
      "100%|██████████| 18/18 [00:05<00:00,  3.29it/s]\n"
     ]
    },
    {
     "name": "stdout",
     "output_type": "stream",
     "text": [
      "Train loss: 0.11663770243044823\n",
      "Train consistency loss: 0.0012113571630915933\n",
      "Validation loss: 0.2692782022058964\n",
      "1m 13s\n",
      "Consistency Loss declined to 0.0012113571630915933\n",
      "Early Stopping Counter = 0\n",
      "Epoch 208/300\n"
     ]
    },
    {
     "name": "stderr",
     "output_type": "stream",
     "text": [
      "100%|██████████| 155/155 [00:46<00:00,  3.34it/s]\n",
      "100%|██████████| 67/67 [00:21<00:00,  3.18it/s]\n",
      "100%|██████████| 18/18 [00:05<00:00,  3.25it/s]\n"
     ]
    },
    {
     "name": "stdout",
     "output_type": "stream",
     "text": [
      "Train loss: 0.11700811515892706\n",
      "Train consistency loss: 0.0026709748051518493\n",
      "Validation loss: 0.2776394316719638\n",
      "1m 13s\n",
      "Early Stopping Counter = 1\n",
      "Epoch 209/300\n"
     ]
    },
    {
     "name": "stderr",
     "output_type": "stream",
     "text": [
      "100%|██████████| 155/155 [00:46<00:00,  3.33it/s]\n",
      "100%|██████████| 67/67 [00:20<00:00,  3.20it/s]\n",
      "100%|██████████| 18/18 [00:05<00:00,  3.24it/s]\n"
     ]
    },
    {
     "name": "stdout",
     "output_type": "stream",
     "text": [
      "Train loss: 0.11745733061144428\n",
      "Train consistency loss: 0.0012077381643258145\n",
      "Validation loss: 0.2778336593053407\n",
      "1m 13s\n",
      "Consistency Loss declined to 0.0012077381643258145\n",
      "Early Stopping Counter = 0\n",
      "Epoch 210/300\n"
     ]
    },
    {
     "name": "stderr",
     "output_type": "stream",
     "text": [
      "100%|██████████| 155/155 [00:46<00:00,  3.33it/s]\n",
      "100%|██████████| 67/67 [00:20<00:00,  3.22it/s]\n",
      "100%|██████████| 18/18 [00:05<00:00,  3.33it/s]\n"
     ]
    },
    {
     "name": "stdout",
     "output_type": "stream",
     "text": [
      "Train loss: 0.11680343434695274\n",
      "Train consistency loss: 0.0012125799583563052\n",
      "Validation loss: 0.278578267329269\n",
      "1m 13s\n",
      "Early Stopping Counter = 1\n",
      "Epoch 211/300\n"
     ]
    },
    {
     "name": "stderr",
     "output_type": "stream",
     "text": [
      "100%|██████████| 155/155 [00:46<00:00,  3.33it/s]\n",
      "100%|██████████| 67/67 [00:21<00:00,  3.17it/s]\n",
      "100%|██████████| 18/18 [00:05<00:00,  3.25it/s]\n"
     ]
    },
    {
     "name": "stdout",
     "output_type": "stream",
     "text": [
      "Train loss: 0.11648323261930096\n",
      "Train consistency loss: 0.0012875926270802965\n",
      "Validation loss: 0.2726394455466006\n",
      "1m 13s\n",
      "Early Stopping Counter = 2\n",
      "Epoch 212/300\n"
     ]
    },
    {
     "name": "stderr",
     "output_type": "stream",
     "text": [
      "100%|██████████| 155/155 [00:46<00:00,  3.34it/s]\n",
      "100%|██████████| 67/67 [00:21<00:00,  3.18it/s]\n",
      "100%|██████████| 18/18 [00:05<00:00,  3.26it/s]\n"
     ]
    },
    {
     "name": "stdout",
     "output_type": "stream",
     "text": [
      "Train loss: 0.11612015231963127\n",
      "Train consistency loss: 0.0012979984775171685\n",
      "Validation loss: 0.27904869378026986\n",
      "1m 13s\n",
      "Early Stopping Counter = 3\n",
      "Epoch 213/300\n"
     ]
    },
    {
     "name": "stderr",
     "output_type": "stream",
     "text": [
      "100%|██████████| 155/155 [00:46<00:00,  3.33it/s]\n",
      "100%|██████████| 67/67 [00:20<00:00,  3.23it/s]\n",
      "100%|██████████| 18/18 [00:05<00:00,  3.29it/s]\n"
     ]
    },
    {
     "name": "stdout",
     "output_type": "stream",
     "text": [
      "Train loss: 0.11620176054777638\n",
      "Train consistency loss: 0.0010888534650178765\n",
      "Validation loss: 0.2726031967128317\n",
      "1m 13s\n",
      "Consistency Loss declined to 0.0010888534650178765\n",
      "Early Stopping Counter = 0\n",
      "Epoch 214/300\n"
     ]
    },
    {
     "name": "stderr",
     "output_type": "stream",
     "text": [
      "100%|██████████| 155/155 [00:46<00:00,  3.33it/s]\n",
      "100%|██████████| 67/67 [00:20<00:00,  3.24it/s]\n",
      "100%|██████████| 18/18 [00:05<00:00,  3.28it/s]\n"
     ]
    },
    {
     "name": "stdout",
     "output_type": "stream",
     "text": [
      "Train loss: 0.11545099481459586\n",
      "Train consistency loss: 0.0012041588293027078\n",
      "Validation loss: 0.2752921529528167\n",
      "1m 13s\n",
      "Early Stopping Counter = 1\n",
      "Epoch 215/300\n"
     ]
    },
    {
     "name": "stderr",
     "output_type": "stream",
     "text": [
      "100%|██████████| 155/155 [00:46<00:00,  3.36it/s]\n",
      "100%|██████████| 67/67 [00:20<00:00,  3.21it/s]\n",
      "100%|██████████| 18/18 [00:05<00:00,  3.30it/s]\n"
     ]
    },
    {
     "name": "stdout",
     "output_type": "stream",
     "text": [
      "Train loss: 0.11559416065292974\n",
      "Train consistency loss: 0.0011561133572136732\n",
      "Validation loss: 0.2746738002945979\n",
      "1m 12s\n",
      "Early Stopping Counter = 2\n",
      "Epoch 216/300\n"
     ]
    },
    {
     "name": "stderr",
     "output_type": "stream",
     "text": [
      "100%|██████████| 155/155 [00:46<00:00,  3.35it/s]\n",
      "100%|██████████| 67/67 [00:20<00:00,  3.21it/s]\n",
      "100%|██████████| 18/18 [00:05<00:00,  3.25it/s]\n"
     ]
    },
    {
     "name": "stdout",
     "output_type": "stream",
     "text": [
      "Train loss: 0.11589449033621818\n",
      "Train consistency loss: 0.0012045934945761935\n",
      "Validation loss: 0.2712822086695168\n",
      "1m 13s\n",
      "Early Stopping Counter = 3\n",
      "Epoch 217/300\n"
     ]
    },
    {
     "name": "stderr",
     "output_type": "stream",
     "text": [
      "100%|██████████| 155/155 [00:46<00:00,  3.35it/s]\n",
      "100%|██████████| 67/67 [00:20<00:00,  3.20it/s]\n",
      "100%|██████████| 18/18 [00:05<00:00,  3.21it/s]\n"
     ]
    },
    {
     "name": "stdout",
     "output_type": "stream",
     "text": [
      "Train loss: 0.11475903122655808\n",
      "Train consistency loss: 0.0014714669286787733\n",
      "Validation loss: 0.2776403996265597\n",
      "1m 13s\n",
      "Early Stopping Counter = 4\n",
      "Epoch 218/300\n"
     ]
    },
    {
     "name": "stderr",
     "output_type": "stream",
     "text": [
      "100%|██████████| 155/155 [00:46<00:00,  3.33it/s]\n",
      "100%|██████████| 67/67 [00:20<00:00,  3.24it/s]\n",
      "100%|██████████| 18/18 [00:05<00:00,  3.23it/s]\n"
     ]
    },
    {
     "name": "stdout",
     "output_type": "stream",
     "text": [
      "Train loss: 0.114885423741033\n",
      "Train consistency loss: 0.0012168963465825724\n",
      "Validation loss: 0.28069984912872314\n",
      "1m 13s\n",
      "Early Stopping Counter = 5\n",
      "Epoch 219/300\n"
     ]
    },
    {
     "name": "stderr",
     "output_type": "stream",
     "text": [
      "100%|██████████| 155/155 [00:46<00:00,  3.34it/s]\n",
      "100%|██████████| 67/67 [00:20<00:00,  3.20it/s]\n",
      "100%|██████████| 18/18 [00:05<00:00,  3.28it/s]\n"
     ]
    },
    {
     "name": "stdout",
     "output_type": "stream",
     "text": [
      "Train loss: 0.11427533232396649\n",
      "Train consistency loss: 0.0013309705384777608\n",
      "Validation loss: 0.26792249807880986\n",
      "1m 13s\n",
      "Early Stopping Counter = 6\n",
      "Epoch 220/300\n"
     ]
    },
    {
     "name": "stderr",
     "output_type": "stream",
     "text": [
      "100%|██████████| 155/155 [00:46<00:00,  3.35it/s]\n",
      "100%|██████████| 67/67 [00:21<00:00,  3.18it/s]\n",
      "100%|██████████| 18/18 [00:05<00:00,  3.28it/s]\n"
     ]
    },
    {
     "name": "stdout",
     "output_type": "stream",
     "text": [
      "Train loss: 0.11467990010015426\n",
      "Train consistency loss: 0.00116083669040088\n",
      "Validation loss: 0.27121523436572814\n",
      "1m 13s\n",
      "Early Stopping Counter = 7\n",
      "Epoch 221/300\n"
     ]
    },
    {
     "name": "stderr",
     "output_type": "stream",
     "text": [
      "100%|██████████| 155/155 [00:46<00:00,  3.33it/s]\n",
      "100%|██████████| 67/67 [00:20<00:00,  3.19it/s]\n",
      "100%|██████████| 18/18 [00:05<00:00,  3.18it/s]\n"
     ]
    },
    {
     "name": "stdout",
     "output_type": "stream",
     "text": [
      "Train loss: 0.11401750493434168\n",
      "Train consistency loss: 0.0011765103927924674\n",
      "Validation loss: 0.280133078702622\n",
      "1m 13s\n",
      "Early Stopping Counter = 8\n",
      "Epoch 222/300\n"
     ]
    },
    {
     "name": "stderr",
     "output_type": "stream",
     "text": [
      "100%|██████████| 155/155 [00:46<00:00,  3.32it/s]\n",
      "100%|██████████| 67/67 [00:20<00:00,  3.22it/s]\n",
      "100%|██████████| 18/18 [00:05<00:00,  3.28it/s]\n"
     ]
    },
    {
     "name": "stdout",
     "output_type": "stream",
     "text": [
      "Train loss: 0.11387374314569658\n",
      "Train consistency loss: 0.0011588918373558615\n",
      "Validation loss: 0.27786185613109005\n",
      "1m 13s\n",
      "Early Stopping Counter = 9\n",
      "Epoch 223/300\n"
     ]
    },
    {
     "name": "stderr",
     "output_type": "stream",
     "text": [
      "100%|██████████| 155/155 [00:46<00:00,  3.35it/s]\n",
      "100%|██████████| 67/67 [00:21<00:00,  3.19it/s]\n",
      "100%|██████████| 18/18 [00:05<00:00,  3.22it/s]\n"
     ]
    },
    {
     "name": "stdout",
     "output_type": "stream",
     "text": [
      "Train loss: 0.11334611619672467\n",
      "Train consistency loss: 0.0011307786009448178\n",
      "Validation loss: 0.2817341374854247\n",
      "1m 13s\n",
      "Early Stopping Counter = 10\n",
      "Epoch 224/300\n"
     ]
    },
    {
     "name": "stderr",
     "output_type": "stream",
     "text": [
      "100%|██████████| 155/155 [00:46<00:00,  3.34it/s]\n",
      "100%|██████████| 67/67 [00:20<00:00,  3.22it/s]\n",
      "100%|██████████| 18/18 [00:05<00:00,  3.28it/s]\n"
     ]
    },
    {
     "name": "stdout",
     "output_type": "stream",
     "text": [
      "Train loss: 0.11378061103243982\n",
      "Train consistency loss: 0.0012891928130176974\n",
      "Validation loss: 0.2731972291237778\n",
      "1m 13s\n",
      "Early Stopping Counter = 11\n",
      "Epoch 225/300\n"
     ]
    },
    {
     "name": "stderr",
     "output_type": "stream",
     "text": [
      "100%|██████████| 155/155 [00:46<00:00,  3.34it/s]\n",
      "100%|██████████| 67/67 [00:21<00:00,  3.18it/s]\n",
      "100%|██████████| 18/18 [00:05<00:00,  3.33it/s]\n"
     ]
    },
    {
     "name": "stdout",
     "output_type": "stream",
     "text": [
      "Train loss: 0.11350553386634396\n",
      "Train consistency loss: 0.0012813729990739375\n",
      "Validation loss: 0.28089450527396465\n",
      "1m 13s\n",
      "Early Stopping Counter = 12\n",
      "Epoch 226/300\n"
     ]
    },
    {
     "name": "stderr",
     "output_type": "stream",
     "text": [
      "100%|██████████| 155/155 [00:46<00:00,  3.33it/s]\n",
      "100%|██████████| 67/67 [00:20<00:00,  3.22it/s]\n",
      "100%|██████████| 18/18 [00:05<00:00,  3.28it/s]\n"
     ]
    },
    {
     "name": "stdout",
     "output_type": "stream",
     "text": [
      "Train loss: 0.113473892932938\n",
      "Train consistency loss: 0.001803976337689517\n",
      "Validation loss: 0.28629679667452973\n",
      "1m 13s\n",
      "Early Stopping Counter = 13\n",
      "Epoch 227/300\n"
     ]
    },
    {
     "name": "stderr",
     "output_type": "stream",
     "text": [
      "100%|██████████| 155/155 [00:46<00:00,  3.35it/s]\n",
      "100%|██████████| 67/67 [00:21<00:00,  3.19it/s]\n",
      "100%|██████████| 18/18 [00:05<00:00,  3.27it/s]\n"
     ]
    },
    {
     "name": "stdout",
     "output_type": "stream",
     "text": [
      "Train loss: 0.1139111399169891\n",
      "Train consistency loss: 0.0012546496017516327\n",
      "Validation loss: 0.27826901545955074\n",
      "1m 13s\n",
      "Early Stopping Counter = 14\n",
      "Epoch 228/300\n"
     ]
    },
    {
     "name": "stderr",
     "output_type": "stream",
     "text": [
      "100%|██████████| 155/155 [00:46<00:00,  3.35it/s]\n",
      "100%|██████████| 67/67 [00:20<00:00,  3.22it/s]\n",
      "100%|██████████| 18/18 [00:05<00:00,  3.16it/s]\n"
     ]
    },
    {
     "name": "stdout",
     "output_type": "stream",
     "text": [
      "Train loss: 0.11284494798990988\n",
      "Train consistency loss: 0.0011949579921245242\n",
      "Validation loss: 0.27066337855325806\n",
      "1m 13s\n",
      "Early Stopping Counter = 15\n",
      "Epoch 229/300\n"
     ]
    },
    {
     "name": "stderr",
     "output_type": "stream",
     "text": [
      "100%|██████████| 155/155 [00:46<00:00,  3.37it/s]\n",
      "100%|██████████| 67/67 [00:20<00:00,  3.20it/s]\n",
      "100%|██████████| 18/18 [00:05<00:00,  3.24it/s]\n"
     ]
    },
    {
     "name": "stdout",
     "output_type": "stream",
     "text": [
      "Train loss: 0.11254530640379075\n",
      "Train consistency loss: 0.0013143085038859342\n",
      "Validation loss: 0.27738447342481876\n",
      "1m 13s\n",
      "Early Stopping Counter = 16\n",
      "Epoch 230/300\n"
     ]
    },
    {
     "name": "stderr",
     "output_type": "stream",
     "text": [
      "100%|██████████| 155/155 [00:46<00:00,  3.34it/s]\n",
      "100%|██████████| 67/67 [00:20<00:00,  3.21it/s]\n",
      "100%|██████████| 18/18 [00:05<00:00,  3.22it/s]\n"
     ]
    },
    {
     "name": "stdout",
     "output_type": "stream",
     "text": [
      "Train loss: 0.11261800662163765\n",
      "Train consistency loss: 0.0012224707457084041\n",
      "Validation loss: 0.28328156595428783\n",
      "1m 13s\n",
      "Early Stopping Counter = 17\n",
      "Epoch 231/300\n"
     ]
    },
    {
     "name": "stderr",
     "output_type": "stream",
     "text": [
      "100%|██████████| 155/155 [00:46<00:00,  3.33it/s]\n",
      "100%|██████████| 67/67 [00:20<00:00,  3.21it/s]\n",
      "100%|██████████| 18/18 [00:05<00:00,  3.31it/s]\n"
     ]
    },
    {
     "name": "stdout",
     "output_type": "stream",
     "text": [
      "Train loss: 0.1119930271660128\n",
      "Train consistency loss: 0.000962712605650634\n",
      "Validation loss: 0.2740009207692411\n",
      "1m 13s\n",
      "Consistency Loss declined to 0.000962712605650634\n",
      "Early Stopping Counter = 0\n",
      "Epoch 232/300\n"
     ]
    },
    {
     "name": "stderr",
     "output_type": "stream",
     "text": [
      "100%|██████████| 155/155 [00:46<00:00,  3.35it/s]\n",
      "100%|██████████| 67/67 [00:20<00:00,  3.23it/s]\n",
      "100%|██████████| 18/18 [00:05<00:00,  3.26it/s]\n"
     ]
    },
    {
     "name": "stdout",
     "output_type": "stream",
     "text": [
      "Train loss: 0.11128114952195076\n",
      "Train consistency loss: 0.0057685950079432394\n",
      "Validation loss: 0.3502315647072262\n",
      "1m 13s\n",
      "Early Stopping Counter = 1\n",
      "Epoch 233/300\n"
     ]
    },
    {
     "name": "stderr",
     "output_type": "stream",
     "text": [
      "100%|██████████| 155/155 [00:46<00:00,  3.36it/s]\n",
      "100%|██████████| 67/67 [00:21<00:00,  3.17it/s]\n",
      "100%|██████████| 18/18 [00:05<00:00,  3.23it/s]\n"
     ]
    },
    {
     "name": "stdout",
     "output_type": "stream",
     "text": [
      "Train loss: 0.12264657852149778\n",
      "Train consistency loss: 0.002651604514485642\n",
      "Validation loss: 0.3178971740934584\n",
      "1m 13s\n",
      "Early Stopping Counter = 2\n",
      "Epoch 234/300\n"
     ]
    },
    {
     "name": "stderr",
     "output_type": "stream",
     "text": [
      "100%|██████████| 155/155 [00:46<00:00,  3.36it/s]\n",
      "100%|██████████| 67/67 [00:20<00:00,  3.23it/s]\n",
      "100%|██████████| 18/18 [00:05<00:00,  3.27it/s]\n"
     ]
    },
    {
     "name": "stdout",
     "output_type": "stream",
     "text": [
      "Train loss: 0.11346021669526254\n",
      "Train consistency loss: 0.0014078127578206693\n",
      "Validation loss: 0.2774032045983606\n",
      "1m 12s\n",
      "Early Stopping Counter = 3\n",
      "Epoch 235/300\n"
     ]
    },
    {
     "name": "stderr",
     "output_type": "stream",
     "text": [
      "100%|██████████| 155/155 [00:46<00:00,  3.37it/s]\n",
      "100%|██████████| 67/67 [00:20<00:00,  3.21it/s]\n",
      "100%|██████████| 18/18 [00:05<00:00,  3.29it/s]\n"
     ]
    },
    {
     "name": "stdout",
     "output_type": "stream",
     "text": [
      "Train loss: 0.111735903784152\n",
      "Train consistency loss: 0.0013450356091741027\n",
      "Validation loss: 0.27262714960508877\n",
      "1m 12s\n",
      "Early Stopping Counter = 4\n",
      "Epoch 236/300\n"
     ]
    },
    {
     "name": "stderr",
     "output_type": "stream",
     "text": [
      "100%|██████████| 155/155 [00:46<00:00,  3.36it/s]\n",
      "100%|██████████| 67/67 [00:20<00:00,  3.20it/s]\n",
      "100%|██████████| 18/18 [00:05<00:00,  3.23it/s]\n"
     ]
    },
    {
     "name": "stdout",
     "output_type": "stream",
     "text": [
      "Train loss: 0.11128128810274986\n",
      "Train consistency loss: 0.0011455006658537452\n",
      "Validation loss: 0.2702610251597232\n",
      "1m 13s\n",
      "Early Stopping Counter = 5\n",
      "Epoch 237/300\n"
     ]
    },
    {
     "name": "stderr",
     "output_type": "stream",
     "text": [
      "100%|██████████| 155/155 [00:46<00:00,  3.35it/s]\n",
      "100%|██████████| 67/67 [00:21<00:00,  3.14it/s]\n",
      "100%|██████████| 18/18 [00:05<00:00,  3.17it/s]\n"
     ]
    },
    {
     "name": "stdout",
     "output_type": "stream",
     "text": [
      "Train loss: 0.1107167036302628\n",
      "Train consistency loss: 0.0010157757210232485\n",
      "Validation loss: 0.26659541204571724\n",
      "1m 13s\n",
      "Early Stopping Counter = 6\n",
      "Epoch 238/300\n"
     ]
    },
    {
     "name": "stderr",
     "output_type": "stream",
     "text": [
      "100%|██████████| 155/155 [00:46<00:00,  3.32it/s]\n",
      "100%|██████████| 67/67 [00:20<00:00,  3.21it/s]\n",
      "100%|██████████| 18/18 [00:05<00:00,  3.24it/s]\n"
     ]
    },
    {
     "name": "stdout",
     "output_type": "stream",
     "text": [
      "Train loss: 0.11057302096197683\n",
      "Train consistency loss: 0.0011395215380019439\n",
      "Validation loss: 0.2788805237246884\n",
      "1m 13s\n",
      "Early Stopping Counter = 7\n",
      "Epoch 239/300\n"
     ]
    },
    {
     "name": "stderr",
     "output_type": "stream",
     "text": [
      "100%|██████████| 155/155 [00:46<00:00,  3.34it/s]\n",
      "100%|██████████| 67/67 [00:21<00:00,  3.19it/s]\n",
      "100%|██████████| 18/18 [00:05<00:00,  3.25it/s]\n"
     ]
    },
    {
     "name": "stdout",
     "output_type": "stream",
     "text": [
      "Train loss: 0.11073416389765278\n",
      "Train consistency loss: 0.001025580613415188\n",
      "Validation loss: 0.2650755424466398\n",
      "1m 13s\n",
      "Early Stopping Counter = 8\n",
      "Epoch 240/300\n"
     ]
    },
    {
     "name": "stderr",
     "output_type": "stream",
     "text": [
      "100%|██████████| 155/155 [00:46<00:00,  3.35it/s]\n",
      "100%|██████████| 67/67 [00:21<00:00,  3.17it/s]\n",
      "100%|██████████| 18/18 [00:05<00:00,  3.15it/s]\n"
     ]
    },
    {
     "name": "stdout",
     "output_type": "stream",
     "text": [
      "Train loss: 0.11032866619286999\n",
      "Train consistency loss: 0.0012071142989599994\n",
      "Validation loss: 0.2906507263994879\n",
      "1m 13s\n",
      "Early Stopping Counter = 9\n",
      "Epoch 241/300\n"
     ]
    },
    {
     "name": "stderr",
     "output_type": "stream",
     "text": [
      "100%|██████████| 155/155 [00:46<00:00,  3.34it/s]\n",
      "100%|██████████| 67/67 [00:21<00:00,  3.19it/s]\n",
      "100%|██████████| 18/18 [00:05<00:00,  3.15it/s]\n"
     ]
    },
    {
     "name": "stdout",
     "output_type": "stream",
     "text": [
      "Train loss: 0.11063111068740968\n",
      "Train consistency loss: 0.0009912608396400934\n",
      "Validation loss: 0.2695415357334746\n",
      "1m 13s\n",
      "Early Stopping Counter = 10\n",
      "Epoch 242/300\n"
     ]
    },
    {
     "name": "stderr",
     "output_type": "stream",
     "text": [
      "100%|██████████| 155/155 [00:46<00:00,  3.32it/s]\n",
      "100%|██████████| 67/67 [00:20<00:00,  3.22it/s]\n",
      "100%|██████████| 18/18 [00:05<00:00,  3.26it/s]\n"
     ]
    },
    {
     "name": "stdout",
     "output_type": "stream",
     "text": [
      "Train loss: 0.10988858760364593\n",
      "Train consistency loss: 0.0009839081148088756\n",
      "Validation loss: 0.2812138776191407\n",
      "1m 13s\n",
      "Early Stopping Counter = 11\n",
      "Epoch 243/300\n"
     ]
    },
    {
     "name": "stderr",
     "output_type": "stream",
     "text": [
      "100%|██████████| 155/155 [00:46<00:00,  3.35it/s]\n",
      "100%|██████████| 67/67 [00:21<00:00,  3.18it/s]\n",
      "100%|██████████| 18/18 [00:05<00:00,  3.28it/s]\n"
     ]
    },
    {
     "name": "stdout",
     "output_type": "stream",
     "text": [
      "Train loss: 0.10989484094804333\n",
      "Train consistency loss: 0.0009394833264670877\n",
      "Validation loss: 0.2747061099443171\n",
      "1m 13s\n",
      "Consistency Loss declined to 0.0009394833264670877\n",
      "Early Stopping Counter = 0\n",
      "Epoch 244/300\n"
     ]
    },
    {
     "name": "stderr",
     "output_type": "stream",
     "text": [
      "100%|██████████| 155/155 [00:46<00:00,  3.35it/s]\n",
      "100%|██████████| 67/67 [00:20<00:00,  3.22it/s]\n",
      "100%|██████████| 18/18 [00:05<00:00,  3.17it/s]\n"
     ]
    },
    {
     "name": "stdout",
     "output_type": "stream",
     "text": [
      "Train loss: 0.11077665153049654\n",
      "Train consistency loss: 0.0010104094872619511\n",
      "Validation loss: 0.27078286185860634\n",
      "1m 13s\n",
      "Early Stopping Counter = 1\n",
      "Epoch 245/300\n"
     ]
    },
    {
     "name": "stderr",
     "output_type": "stream",
     "text": [
      "100%|██████████| 155/155 [00:46<00:00,  3.32it/s]\n",
      "100%|██████████| 67/67 [00:20<00:00,  3.21it/s]\n",
      "100%|██████████| 18/18 [00:05<00:00,  3.27it/s]\n"
     ]
    },
    {
     "name": "stdout",
     "output_type": "stream",
     "text": [
      "Train loss: 0.10978861100250675\n",
      "Train consistency loss: 0.0012412266006498638\n",
      "Validation loss: 0.275477627499236\n",
      "1m 13s\n",
      "Early Stopping Counter = 2\n",
      "Epoch 246/300\n"
     ]
    },
    {
     "name": "stderr",
     "output_type": "stream",
     "text": [
      "100%|██████████| 155/155 [00:46<00:00,  3.35it/s]\n",
      "100%|██████████| 67/67 [00:20<00:00,  3.23it/s]\n",
      "100%|██████████| 18/18 [00:05<00:00,  3.31it/s]\n"
     ]
    },
    {
     "name": "stdout",
     "output_type": "stream",
     "text": [
      "Train loss: 0.10931433511357154\n",
      "Train consistency loss: 0.0010157407082464378\n",
      "Validation loss: 0.2723632258259588\n",
      "1m 13s\n",
      "Early Stopping Counter = 3\n",
      "Epoch 247/300\n"
     ]
    },
    {
     "name": "stderr",
     "output_type": "stream",
     "text": [
      "100%|██████████| 155/155 [00:46<00:00,  3.35it/s]\n",
      "100%|██████████| 67/67 [00:20<00:00,  3.22it/s]\n",
      "100%|██████████| 18/18 [00:05<00:00,  3.28it/s]\n"
     ]
    },
    {
     "name": "stdout",
     "output_type": "stream",
     "text": [
      "Train loss: 0.10888960073071141\n",
      "Train consistency loss: 0.0010384798563370452\n",
      "Validation loss: 0.26860748779856497\n",
      "1m 13s\n",
      "Early Stopping Counter = 4\n",
      "Epoch 248/300\n"
     ]
    },
    {
     "name": "stderr",
     "output_type": "stream",
     "text": [
      "100%|██████████| 155/155 [00:46<00:00,  3.34it/s]\n",
      "100%|██████████| 67/67 [00:20<00:00,  3.20it/s]\n",
      "100%|██████████| 18/18 [00:05<00:00,  3.18it/s]\n"
     ]
    },
    {
     "name": "stdout",
     "output_type": "stream",
     "text": [
      "Train loss: 0.10889205971071797\n",
      "Train consistency loss: 0.0009853562301914416\n",
      "Validation loss: 0.266212433990505\n",
      "1m 13s\n",
      "Early Stopping Counter = 5\n",
      "Epoch 249/300\n"
     ]
    },
    {
     "name": "stderr",
     "output_type": "stream",
     "text": [
      "100%|██████████| 155/155 [00:46<00:00,  3.35it/s]\n",
      "100%|██████████| 67/67 [00:20<00:00,  3.21it/s]\n",
      "100%|██████████| 18/18 [00:05<00:00,  3.30it/s]\n"
     ]
    },
    {
     "name": "stdout",
     "output_type": "stream",
     "text": [
      "Train loss: 0.10885449465244047\n",
      "Train consistency loss: 0.0010454493497477483\n",
      "Validation loss: 0.27378639796127874\n",
      "1m 13s\n",
      "Early Stopping Counter = 6\n",
      "Epoch 250/300\n"
     ]
    },
    {
     "name": "stderr",
     "output_type": "stream",
     "text": [
      "100%|██████████| 155/155 [00:46<00:00,  3.35it/s]\n",
      "100%|██████████| 67/67 [00:20<00:00,  3.21it/s]\n",
      "100%|██████████| 18/18 [00:05<00:00,  3.25it/s]\n"
     ]
    },
    {
     "name": "stdout",
     "output_type": "stream",
     "text": [
      "Train loss: 0.10887488395937027\n",
      "Train consistency loss: 0.0010322709130201448\n",
      "Validation loss: 0.27013596343911356\n",
      "1m 13s\n",
      "Early Stopping Counter = 7\n",
      "Epoch 251/300\n"
     ]
    },
    {
     "name": "stderr",
     "output_type": "stream",
     "text": [
      "100%|██████████| 155/155 [00:46<00:00,  3.34it/s]\n",
      "100%|██████████| 67/67 [00:20<00:00,  3.22it/s]\n",
      "100%|██████████| 18/18 [00:05<00:00,  3.32it/s]\n"
     ]
    },
    {
     "name": "stdout",
     "output_type": "stream",
     "text": [
      "Train loss: 0.10878207544165273\n",
      "Train consistency loss: 0.0008885771076980311\n",
      "Validation loss: 0.26866545486781335\n",
      "1m 13s\n",
      "Consistency Loss declined to 0.0008885771076980311\n",
      "Early Stopping Counter = 0\n",
      "Epoch 252/300\n"
     ]
    },
    {
     "name": "stderr",
     "output_type": "stream",
     "text": [
      "100%|██████████| 155/155 [00:46<00:00,  3.34it/s]\n",
      "100%|██████████| 67/67 [00:20<00:00,  3.24it/s]\n",
      "100%|██████████| 18/18 [00:05<00:00,  3.28it/s]\n"
     ]
    },
    {
     "name": "stdout",
     "output_type": "stream",
     "text": [
      "Train loss: 0.10861744736471483\n",
      "Train consistency loss: 0.0009645332452848053\n",
      "Validation loss: 0.27073005214333534\n",
      "1m 13s\n",
      "Early Stopping Counter = 1\n",
      "Epoch 253/300\n"
     ]
    },
    {
     "name": "stderr",
     "output_type": "stream",
     "text": [
      "100%|██████████| 155/155 [00:46<00:00,  3.35it/s]\n",
      "100%|██████████| 67/67 [00:21<00:00,  3.16it/s]\n",
      "100%|██████████| 18/18 [00:05<00:00,  3.28it/s]\n"
     ]
    },
    {
     "name": "stdout",
     "output_type": "stream",
     "text": [
      "Train loss: 0.10795481714510148\n",
      "Train consistency loss: 0.0009219853156211494\n",
      "Validation loss: 0.2747974697914388\n",
      "1m 13s\n",
      "Early Stopping Counter = 2\n",
      "Epoch 254/300\n"
     ]
    },
    {
     "name": "stderr",
     "output_type": "stream",
     "text": [
      "100%|██████████| 155/155 [00:46<00:00,  3.35it/s]\n",
      "100%|██████████| 67/67 [00:20<00:00,  3.20it/s]\n",
      "100%|██████████| 18/18 [00:05<00:00,  3.32it/s]\n"
     ]
    },
    {
     "name": "stdout",
     "output_type": "stream",
     "text": [
      "Train loss: 0.10824660461756491\n",
      "Train consistency loss: 0.0010143718369471939\n",
      "Validation loss: 0.2823916519474652\n",
      "1m 13s\n",
      "Early Stopping Counter = 3\n",
      "Epoch 255/300\n"
     ]
    },
    {
     "name": "stderr",
     "output_type": "stream",
     "text": [
      "100%|██████████| 155/155 [00:46<00:00,  3.37it/s]\n",
      "100%|██████████| 67/67 [00:21<00:00,  3.17it/s]\n",
      "100%|██████████| 18/18 [00:05<00:00,  3.20it/s]\n"
     ]
    },
    {
     "name": "stdout",
     "output_type": "stream",
     "text": [
      "Train loss: 0.10850435793399811\n",
      "Train consistency loss: 0.0009661412527680452\n",
      "Validation loss: 0.27180161161555183\n",
      "1m 13s\n",
      "Early Stopping Counter = 4\n",
      "Epoch 256/300\n"
     ]
    },
    {
     "name": "stderr",
     "output_type": "stream",
     "text": [
      "100%|██████████| 155/155 [00:46<00:00,  3.36it/s]\n",
      "100%|██████████| 67/67 [00:20<00:00,  3.21it/s]\n",
      "100%|██████████| 18/18 [00:05<00:00,  3.37it/s]\n"
     ]
    },
    {
     "name": "stdout",
     "output_type": "stream",
     "text": [
      "Train loss: 0.10849701992927059\n",
      "Train consistency loss: 0.0009197318051601134\n",
      "Validation loss: 0.2672217849435078\n",
      "1m 12s\n",
      "Early Stopping Counter = 5\n",
      "Epoch 257/300\n"
     ]
    },
    {
     "name": "stderr",
     "output_type": "stream",
     "text": [
      "100%|██████████| 155/155 [00:46<00:00,  3.36it/s]\n",
      "100%|██████████| 67/67 [00:21<00:00,  3.18it/s]\n",
      "100%|██████████| 18/18 [00:05<00:00,  3.29it/s]\n"
     ]
    },
    {
     "name": "stdout",
     "output_type": "stream",
     "text": [
      "Train loss: 0.10708655017998911\n",
      "Train consistency loss: 0.000963447654164577\n",
      "Validation loss: 0.28115960355434155\n",
      "1m 13s\n",
      "Early Stopping Counter = 6\n",
      "Epoch 258/300\n"
     ]
    },
    {
     "name": "stderr",
     "output_type": "stream",
     "text": [
      "100%|██████████| 155/155 [00:46<00:00,  3.34it/s]\n",
      "100%|██████████| 67/67 [00:20<00:00,  3.23it/s]\n",
      "100%|██████████| 18/18 [00:05<00:00,  3.14it/s]\n"
     ]
    },
    {
     "name": "stdout",
     "output_type": "stream",
     "text": [
      "Train loss: 0.10744195272845607\n",
      "Train consistency loss: 0.001109442030298593\n",
      "Validation loss: 0.2741273504992326\n",
      "1m 13s\n",
      "Early Stopping Counter = 7\n",
      "Epoch 259/300\n"
     ]
    },
    {
     "name": "stderr",
     "output_type": "stream",
     "text": [
      "100%|██████████| 155/155 [00:46<00:00,  3.35it/s]\n",
      "100%|██████████| 67/67 [00:20<00:00,  3.19it/s]\n",
      "100%|██████████| 18/18 [00:05<00:00,  3.23it/s]\n"
     ]
    },
    {
     "name": "stdout",
     "output_type": "stream",
     "text": [
      "Train loss: 0.10737601283096498\n",
      "Train consistency loss: 0.0009602005589134825\n",
      "Validation loss: 0.27178402710705996\n",
      "1m 13s\n",
      "Early Stopping Counter = 8\n",
      "Epoch 260/300\n"
     ]
    },
    {
     "name": "stderr",
     "output_type": "stream",
     "text": [
      "100%|██████████| 155/155 [00:46<00:00,  3.33it/s]\n",
      "100%|██████████| 67/67 [00:20<00:00,  3.20it/s]\n",
      "100%|██████████| 18/18 [00:05<00:00,  3.31it/s]\n"
     ]
    },
    {
     "name": "stdout",
     "output_type": "stream",
     "text": [
      "Train loss: 0.10663468688726425\n",
      "Train consistency loss: 0.001113017660881907\n",
      "Validation loss: 0.2827125188584129\n",
      "1m 13s\n",
      "Early Stopping Counter = 9\n",
      "Epoch 261/300\n"
     ]
    },
    {
     "name": "stderr",
     "output_type": "stream",
     "text": [
      "100%|██████████| 155/155 [00:46<00:00,  3.37it/s]\n",
      "100%|██████████| 67/67 [00:20<00:00,  3.20it/s]\n",
      "100%|██████████| 18/18 [00:05<00:00,  3.32it/s]\n"
     ]
    },
    {
     "name": "stdout",
     "output_type": "stream",
     "text": [
      "Train loss: 0.10730642166829878\n",
      "Train consistency loss: 0.000956655388746633\n",
      "Validation loss: 0.2663423581462767\n",
      "1m 12s\n",
      "Early Stopping Counter = 10\n",
      "Epoch 262/300\n"
     ]
    },
    {
     "name": "stderr",
     "output_type": "stream",
     "text": [
      "100%|██████████| 155/155 [00:45<00:00,  3.37it/s]\n",
      "100%|██████████| 67/67 [00:20<00:00,  3.24it/s]\n",
      "100%|██████████| 18/18 [00:05<00:00,  3.32it/s]\n"
     ]
    },
    {
     "name": "stdout",
     "output_type": "stream",
     "text": [
      "Train loss: 0.10643371333999019\n",
      "Train consistency loss: 0.0009229055739619505\n",
      "Validation loss: 0.2770157791674137\n",
      "1m 12s\n",
      "Early Stopping Counter = 11\n",
      "Epoch 263/300\n"
     ]
    },
    {
     "name": "stderr",
     "output_type": "stream",
     "text": [
      "100%|██████████| 155/155 [00:46<00:00,  3.36it/s]\n",
      "100%|██████████| 67/67 [00:20<00:00,  3.21it/s]\n",
      "100%|██████████| 18/18 [00:05<00:00,  3.35it/s]\n"
     ]
    },
    {
     "name": "stdout",
     "output_type": "stream",
     "text": [
      "Train loss: 0.10643259690653893\n",
      "Train consistency loss: 0.0009983817402989283\n",
      "Validation loss: 0.27429919896854293\n",
      "1m 12s\n",
      "Early Stopping Counter = 12\n",
      "Epoch 264/300\n"
     ]
    },
    {
     "name": "stderr",
     "output_type": "stream",
     "text": [
      "100%|██████████| 155/155 [00:46<00:00,  3.34it/s]\n",
      "100%|██████████| 67/67 [00:20<00:00,  3.24it/s]\n",
      "100%|██████████| 18/18 [00:05<00:00,  3.28it/s]\n"
     ]
    },
    {
     "name": "stdout",
     "output_type": "stream",
     "text": [
      "Train loss: 0.10608849655235968\n",
      "Train consistency loss: 0.0009751875212402152\n",
      "Validation loss: 0.27603790753831464\n",
      "1m 13s\n",
      "Early Stopping Counter = 13\n",
      "Epoch 265/300\n"
     ]
    },
    {
     "name": "stderr",
     "output_type": "stream",
     "text": [
      "100%|██████████| 155/155 [00:45<00:00,  3.37it/s]\n",
      "100%|██████████| 67/67 [00:20<00:00,  3.21it/s]\n",
      "100%|██████████| 18/18 [00:05<00:00,  3.25it/s]\n"
     ]
    },
    {
     "name": "stdout",
     "output_type": "stream",
     "text": [
      "Train loss: 0.10656631367821848\n",
      "Train consistency loss: 0.0009589139602334697\n",
      "Validation loss: 0.27163523849513793\n",
      "1m 12s\n",
      "Early Stopping Counter = 14\n",
      "Epoch 266/300\n"
     ]
    },
    {
     "name": "stderr",
     "output_type": "stream",
     "text": [
      "100%|██████████| 155/155 [00:46<00:00,  3.37it/s]\n",
      "100%|██████████| 67/67 [00:21<00:00,  3.18it/s]\n",
      "100%|██████████| 18/18 [00:05<00:00,  3.28it/s]\n"
     ]
    },
    {
     "name": "stdout",
     "output_type": "stream",
     "text": [
      "Train loss: 0.1062575402279054\n",
      "Train consistency loss: 0.0010919052865981723\n",
      "Validation loss: 0.27878410803774994\n",
      "1m 13s\n",
      "Early Stopping Counter = 15\n",
      "Epoch 267/300\n"
     ]
    },
    {
     "name": "stderr",
     "output_type": "stream",
     "text": [
      "100%|██████████| 155/155 [00:46<00:00,  3.34it/s]\n",
      "100%|██████████| 67/67 [00:20<00:00,  3.23it/s]\n",
      "100%|██████████| 18/18 [00:05<00:00,  3.28it/s]\n"
     ]
    },
    {
     "name": "stdout",
     "output_type": "stream",
     "text": [
      "Train loss: 0.10597573263991264\n",
      "Train consistency loss: 0.0011350630605315318\n",
      "Validation loss: 0.27202688354170984\n",
      "1m 13s\n",
      "Early Stopping Counter = 16\n",
      "Epoch 268/300\n"
     ]
    },
    {
     "name": "stderr",
     "output_type": "stream",
     "text": [
      "100%|██████████| 155/155 [00:46<00:00,  3.36it/s]\n",
      "100%|██████████| 67/67 [00:20<00:00,  3.20it/s]\n",
      "100%|██████████| 18/18 [00:05<00:00,  3.28it/s]\n"
     ]
    },
    {
     "name": "stdout",
     "output_type": "stream",
     "text": [
      "Train loss: 0.10628557724337424\n",
      "Train consistency loss: 0.0010464957367051948\n",
      "Validation loss: 0.2798879852311479\n",
      "1m 12s\n",
      "Early Stopping Counter = 17\n",
      "Epoch 269/300\n"
     ]
    },
    {
     "name": "stderr",
     "output_type": "stream",
     "text": [
      "100%|██████████| 155/155 [00:46<00:00,  3.36it/s]\n",
      "100%|██████████| 67/67 [00:20<00:00,  3.24it/s]\n",
      "100%|██████████| 18/18 [00:05<00:00,  3.34it/s]\n"
     ]
    },
    {
     "name": "stdout",
     "output_type": "stream",
     "text": [
      "Train loss: 0.10503590597260383\n",
      "Train consistency loss: 0.0010053069628740369\n",
      "Validation loss: 0.27417003228846526\n",
      "1m 12s\n",
      "Early Stopping Counter = 18\n",
      "Epoch 270/300\n"
     ]
    },
    {
     "name": "stderr",
     "output_type": "stream",
     "text": [
      "100%|██████████| 155/155 [00:45<00:00,  3.38it/s]\n",
      "100%|██████████| 67/67 [00:20<00:00,  3.21it/s]\n",
      "100%|██████████| 18/18 [00:05<00:00,  3.41it/s]\n"
     ]
    },
    {
     "name": "stdout",
     "output_type": "stream",
     "text": [
      "Train loss: 0.10554409262634093\n",
      "Train consistency loss: 0.0008686000608088476\n",
      "Validation loss: 0.2738548793519537\n",
      "1m 12s\n",
      "Consistency Loss declined to 0.0008686000608088476\n",
      "Early Stopping Counter = 0\n",
      "Epoch 271/300\n"
     ]
    },
    {
     "name": "stderr",
     "output_type": "stream",
     "text": [
      "100%|██████████| 155/155 [00:46<00:00,  3.36it/s]\n",
      "100%|██████████| 67/67 [00:20<00:00,  3.24it/s]\n",
      "100%|██████████| 18/18 [00:05<00:00,  3.26it/s]\n"
     ]
    },
    {
     "name": "stdout",
     "output_type": "stream",
     "text": [
      "Train loss: 0.10534243713463506\n",
      "Train consistency loss: 0.0009126399744496639\n",
      "Validation loss: 0.2810072298679087\n",
      "1m 12s\n",
      "Early Stopping Counter = 1\n",
      "Epoch 272/300\n"
     ]
    },
    {
     "name": "stderr",
     "output_type": "stream",
     "text": [
      "100%|██████████| 155/155 [00:46<00:00,  3.36it/s]\n",
      "100%|██████████| 67/67 [00:20<00:00,  3.24it/s]\n",
      "100%|██████████| 18/18 [00:05<00:00,  3.29it/s]\n"
     ]
    },
    {
     "name": "stdout",
     "output_type": "stream",
     "text": [
      "Train loss: 0.10542644156563667\n",
      "Train consistency loss: 0.0009089144187416436\n",
      "Validation loss: 0.2748813128305806\n",
      "1m 12s\n",
      "Early Stopping Counter = 2\n",
      "Epoch 273/300\n"
     ]
    },
    {
     "name": "stderr",
     "output_type": "stream",
     "text": [
      "100%|██████████| 155/155 [00:46<00:00,  3.36it/s]\n",
      "100%|██████████| 67/67 [00:20<00:00,  3.21it/s]\n",
      "100%|██████████| 18/18 [00:05<00:00,  3.27it/s]\n"
     ]
    },
    {
     "name": "stdout",
     "output_type": "stream",
     "text": [
      "Train loss: 0.10571670902352179\n",
      "Train consistency loss: 0.000939805740004044\n",
      "Validation loss: 0.27243642177846694\n",
      "1m 13s\n",
      "Early Stopping Counter = 3\n",
      "Epoch 274/300\n"
     ]
    },
    {
     "name": "stderr",
     "output_type": "stream",
     "text": [
      "100%|██████████| 155/155 [00:46<00:00,  3.34it/s]\n",
      "100%|██████████| 67/67 [00:20<00:00,  3.20it/s]\n",
      "100%|██████████| 18/18 [00:05<00:00,  3.34it/s]\n"
     ]
    },
    {
     "name": "stdout",
     "output_type": "stream",
     "text": [
      "Train loss: 0.10481723657538813\n",
      "Train consistency loss: 0.0008690718347693224\n",
      "Validation loss: 0.2785354008277257\n",
      "1m 13s\n",
      "Early Stopping Counter = 4\n",
      "Epoch 275/300\n"
     ]
    },
    {
     "name": "stderr",
     "output_type": "stream",
     "text": [
      "100%|██████████| 155/155 [00:46<00:00,  3.34it/s]\n",
      "100%|██████████| 67/67 [00:20<00:00,  3.22it/s]\n",
      "100%|██████████| 18/18 [00:05<00:00,  3.31it/s]\n"
     ]
    },
    {
     "name": "stdout",
     "output_type": "stream",
     "text": [
      "Train loss: 0.10461977816397144\n",
      "Train consistency loss: 0.000898931700642457\n",
      "Validation loss: 0.28441499794522923\n",
      "1m 13s\n",
      "Early Stopping Counter = 5\n",
      "Epoch 276/300\n"
     ]
    },
    {
     "name": "stderr",
     "output_type": "stream",
     "text": [
      "100%|██████████| 155/155 [00:46<00:00,  3.35it/s]\n",
      "100%|██████████| 67/67 [00:21<00:00,  3.18it/s]\n",
      "100%|██████████| 18/18 [00:05<00:00,  3.20it/s]\n"
     ]
    },
    {
     "name": "stdout",
     "output_type": "stream",
     "text": [
      "Train loss: 0.10466082432577686\n",
      "Train consistency loss: 0.0008674405972167516\n",
      "Validation loss: 0.2737063575122092\n",
      "1m 13s\n",
      "Consistency Loss declined to 0.0008674405972167516\n",
      "Early Stopping Counter = 0\n",
      "Epoch 277/300\n"
     ]
    },
    {
     "name": "stderr",
     "output_type": "stream",
     "text": [
      "100%|██████████| 155/155 [00:46<00:00,  3.35it/s]\n",
      "100%|██████████| 67/67 [00:21<00:00,  3.18it/s]\n",
      "100%|██████████| 18/18 [00:05<00:00,  3.31it/s]\n"
     ]
    },
    {
     "name": "stdout",
     "output_type": "stream",
     "text": [
      "Train loss: 0.10397409455430123\n",
      "Train consistency loss: 0.0009135603461650881\n",
      "Validation loss: 0.27148308884352446\n",
      "1m 13s\n",
      "Early Stopping Counter = 1\n",
      "Epoch 278/300\n"
     ]
    },
    {
     "name": "stderr",
     "output_type": "stream",
     "text": [
      "100%|██████████| 155/155 [00:46<00:00,  3.36it/s]\n",
      "100%|██████████| 67/67 [00:20<00:00,  3.22it/s]\n",
      "100%|██████████| 18/18 [00:05<00:00,  3.22it/s]\n"
     ]
    },
    {
     "name": "stdout",
     "output_type": "stream",
     "text": [
      "Train loss: 0.1039363865410128\n",
      "Train consistency loss: 0.0008207724087371199\n",
      "Validation loss: 0.27749231416318154\n",
      "1m 13s\n",
      "Consistency Loss declined to 0.0008207724087371199\n",
      "Early Stopping Counter = 0\n",
      "Epoch 279/300\n"
     ]
    },
    {
     "name": "stderr",
     "output_type": "stream",
     "text": [
      "100%|██████████| 155/155 [00:46<00:00,  3.34it/s]\n",
      "100%|██████████| 67/67 [00:20<00:00,  3.22it/s]\n",
      "100%|██████████| 18/18 [00:05<00:00,  3.28it/s]\n"
     ]
    },
    {
     "name": "stdout",
     "output_type": "stream",
     "text": [
      "Train loss: 0.10425953389175477\n",
      "Train consistency loss: 0.0008673966899618451\n",
      "Validation loss: 0.2746379842153854\n",
      "1m 13s\n",
      "Early Stopping Counter = 1\n",
      "Epoch 280/300\n"
     ]
    },
    {
     "name": "stderr",
     "output_type": "stream",
     "text": [
      "100%|██████████| 155/155 [00:46<00:00,  3.36it/s]\n",
      "100%|██████████| 67/67 [00:21<00:00,  3.19it/s]\n",
      "100%|██████████| 18/18 [00:05<00:00,  3.36it/s]\n"
     ]
    },
    {
     "name": "stdout",
     "output_type": "stream",
     "text": [
      "Train loss: 0.10384467436421302\n",
      "Train consistency loss: 0.00099793713671892\n",
      "Validation loss: 0.2694652293705278\n",
      "1m 13s\n",
      "Early Stopping Counter = 2\n",
      "Epoch 281/300\n"
     ]
    },
    {
     "name": "stderr",
     "output_type": "stream",
     "text": [
      "100%|██████████| 155/155 [00:46<00:00,  3.36it/s]\n",
      "100%|██████████| 67/67 [00:20<00:00,  3.20it/s]\n",
      "100%|██████████| 18/18 [00:05<00:00,  3.26it/s]\n"
     ]
    },
    {
     "name": "stdout",
     "output_type": "stream",
     "text": [
      "Train loss: 0.10433916435126335\n",
      "Train consistency loss: 0.0010237761943882554\n",
      "Validation loss: 0.28730541105485624\n",
      "1m 13s\n",
      "Early Stopping Counter = 3\n",
      "Epoch 282/300\n"
     ]
    },
    {
     "name": "stderr",
     "output_type": "stream",
     "text": [
      "100%|██████████| 155/155 [00:46<00:00,  3.35it/s]\n",
      "100%|██████████| 67/67 [00:20<00:00,  3.20it/s]\n",
      "100%|██████████| 18/18 [00:05<00:00,  3.15it/s]\n"
     ]
    },
    {
     "name": "stdout",
     "output_type": "stream",
     "text": [
      "Train loss: 0.10379330237065593\n",
      "Train consistency loss: 0.0008345909352386509\n",
      "Validation loss: 0.27132750178376835\n",
      "1m 13s\n",
      "Early Stopping Counter = 4\n",
      "Epoch 283/300\n"
     ]
    },
    {
     "name": "stderr",
     "output_type": "stream",
     "text": [
      "100%|██████████| 155/155 [00:46<00:00,  3.34it/s]\n",
      "100%|██████████| 67/67 [00:20<00:00,  3.22it/s]\n",
      "100%|██████████| 18/18 [00:05<00:00,  3.24it/s]\n"
     ]
    },
    {
     "name": "stdout",
     "output_type": "stream",
     "text": [
      "Train loss: 0.10322023264823421\n",
      "Train consistency loss: 0.0010039133754725666\n",
      "Validation loss: 0.2758154873218801\n",
      "1m 13s\n",
      "Early Stopping Counter = 5\n",
      "Epoch 284/300\n"
     ]
    },
    {
     "name": "stderr",
     "output_type": "stream",
     "text": [
      "100%|██████████| 155/155 [00:46<00:00,  3.34it/s]\n",
      "100%|██████████| 67/67 [00:21<00:00,  3.19it/s]\n",
      "100%|██████████| 18/18 [00:05<00:00,  3.25it/s]\n"
     ]
    },
    {
     "name": "stdout",
     "output_type": "stream",
     "text": [
      "Train loss: 0.10403452145476495\n",
      "Train consistency loss: 0.000921546141860256\n",
      "Validation loss: 0.2734908101459344\n",
      "1m 13s\n",
      "Early Stopping Counter = 6\n",
      "Epoch 285/300\n"
     ]
    },
    {
     "name": "stderr",
     "output_type": "stream",
     "text": [
      "100%|██████████| 155/155 [00:46<00:00,  3.35it/s]\n",
      "100%|██████████| 67/67 [00:21<00:00,  3.16it/s]\n",
      "100%|██████████| 18/18 [00:05<00:00,  3.31it/s]\n"
     ]
    },
    {
     "name": "stdout",
     "output_type": "stream",
     "text": [
      "Train loss: 0.10297968685626983\n",
      "Train consistency loss: 0.001894739368728904\n",
      "Validation loss: 0.2900282074179914\n",
      "1m 13s\n",
      "Early Stopping Counter = 7\n",
      "Epoch 286/300\n"
     ]
    },
    {
     "name": "stderr",
     "output_type": "stream",
     "text": [
      "100%|██████████| 155/155 [00:46<00:00,  3.33it/s]\n",
      "100%|██████████| 67/67 [00:21<00:00,  3.16it/s]\n",
      "100%|██████████| 18/18 [00:05<00:00,  3.22it/s]\n"
     ]
    },
    {
     "name": "stdout",
     "output_type": "stream",
     "text": [
      "Train loss: 0.10498096481446297\n",
      "Train consistency loss: 0.0010029319083012308\n",
      "Validation loss: 0.2731574728257126\n",
      "1m 13s\n",
      "Early Stopping Counter = 8\n",
      "Epoch 287/300\n"
     ]
    },
    {
     "name": "stderr",
     "output_type": "stream",
     "text": [
      "100%|██████████| 155/155 [00:46<00:00,  3.34it/s]\n",
      "100%|██████████| 67/67 [00:21<00:00,  3.18it/s]\n",
      "100%|██████████| 18/18 [00:05<00:00,  3.31it/s]\n"
     ]
    },
    {
     "name": "stdout",
     "output_type": "stream",
     "text": [
      "Train loss: 0.10395151891054645\n",
      "Train consistency loss: 0.0009899651844561823\n",
      "Validation loss: 0.2767137984434764\n",
      "1m 13s\n",
      "Early Stopping Counter = 9\n",
      "Epoch 288/300\n"
     ]
    },
    {
     "name": "stderr",
     "output_type": "stream",
     "text": [
      "100%|██████████| 155/155 [00:46<00:00,  3.35it/s]\n",
      "100%|██████████| 67/67 [00:20<00:00,  3.21it/s]\n",
      "100%|██████████| 18/18 [00:05<00:00,  3.26it/s]\n"
     ]
    },
    {
     "name": "stdout",
     "output_type": "stream",
     "text": [
      "Train loss: 0.10308404516789221\n",
      "Train consistency loss: 0.0009053363182422108\n",
      "Validation loss: 0.27722620332820547\n",
      "1m 13s\n",
      "Early Stopping Counter = 10\n",
      "Epoch 289/300\n"
     ]
    },
    {
     "name": "stderr",
     "output_type": "stream",
     "text": [
      "100%|██████████| 155/155 [00:46<00:00,  3.34it/s]\n",
      "100%|██████████| 67/67 [00:21<00:00,  3.18it/s]\n",
      "100%|██████████| 18/18 [00:05<00:00,  3.32it/s]\n"
     ]
    },
    {
     "name": "stdout",
     "output_type": "stream",
     "text": [
      "Train loss: 0.10327393907693125\n",
      "Train consistency loss: 0.0008779909594658651\n",
      "Validation loss: 0.2756329859710402\n",
      "1m 13s\n",
      "Early Stopping Counter = 11\n",
      "Epoch 290/300\n"
     ]
    },
    {
     "name": "stderr",
     "output_type": "stream",
     "text": [
      "100%|██████████| 155/155 [00:46<00:00,  3.33it/s]\n",
      "100%|██████████| 67/67 [00:20<00:00,  3.21it/s]\n",
      "100%|██████████| 18/18 [00:05<00:00,  3.16it/s]\n"
     ]
    },
    {
     "name": "stdout",
     "output_type": "stream",
     "text": [
      "Train loss: 0.10244472286393566\n",
      "Train consistency loss: 0.0008484038438321327\n",
      "Validation loss: 0.27070638361490434\n",
      "1m 13s\n",
      "Early Stopping Counter = 12\n",
      "Epoch 291/300\n"
     ]
    },
    {
     "name": "stderr",
     "output_type": "stream",
     "text": [
      "100%|██████████| 155/155 [00:46<00:00,  3.36it/s]\n",
      "100%|██████████| 67/67 [00:21<00:00,  3.18it/s]\n",
      "100%|██████████| 18/18 [00:05<00:00,  3.23it/s]\n"
     ]
    },
    {
     "name": "stdout",
     "output_type": "stream",
     "text": [
      "Train loss: 0.10254576547491935\n",
      "Train consistency loss: 0.0008639738014933945\n",
      "Validation loss: 0.2749670829830898\n",
      "1m 13s\n",
      "Early Stopping Counter = 13\n",
      "Epoch 292/300\n"
     ]
    },
    {
     "name": "stderr",
     "output_type": "stream",
     "text": [
      "100%|██████████| 155/155 [00:46<00:00,  3.36it/s]\n",
      "100%|██████████| 67/67 [00:20<00:00,  3.23it/s]\n",
      "100%|██████████| 18/18 [00:05<00:00,  3.29it/s]\n"
     ]
    },
    {
     "name": "stdout",
     "output_type": "stream",
     "text": [
      "Train loss: 0.10225829602249208\n",
      "Train consistency loss: 0.0007651273379234402\n",
      "Validation loss: 0.26809577126469875\n",
      "1m 12s\n",
      "Consistency Loss declined to 0.0007651273379234402\n",
      "Early Stopping Counter = 0\n",
      "Epoch 293/300\n"
     ]
    },
    {
     "name": "stderr",
     "output_type": "stream",
     "text": [
      "100%|██████████| 155/155 [00:46<00:00,  3.36it/s]\n",
      "100%|██████████| 67/67 [00:20<00:00,  3.23it/s]\n",
      "100%|██████████| 18/18 [00:05<00:00,  3.35it/s]\n"
     ]
    },
    {
     "name": "stdout",
     "output_type": "stream",
     "text": [
      "Train loss: 0.10203923861826619\n",
      "Train consistency loss: 0.0008397940211797328\n",
      "Validation loss: 0.2730617877095938\n",
      "1m 12s\n",
      "Early Stopping Counter = 1\n",
      "Epoch 294/300\n"
     ]
    },
    {
     "name": "stderr",
     "output_type": "stream",
     "text": [
      "100%|██████████| 155/155 [00:46<00:00,  3.35it/s]\n",
      "100%|██████████| 67/67 [00:20<00:00,  3.20it/s]\n",
      "100%|██████████| 18/18 [00:05<00:00,  3.36it/s]\n"
     ]
    },
    {
     "name": "stdout",
     "output_type": "stream",
     "text": [
      "Train loss: 0.10228997526630279\n",
      "Train consistency loss: 0.0008089211445784808\n",
      "Validation loss: 0.2797235016607576\n",
      "1m 13s\n",
      "Early Stopping Counter = 2\n",
      "Epoch 295/300\n"
     ]
    },
    {
     "name": "stderr",
     "output_type": "stream",
     "text": [
      "100%|██████████| 155/155 [00:46<00:00,  3.36it/s]\n",
      "100%|██████████| 67/67 [00:21<00:00,  3.16it/s]\n",
      "100%|██████████| 18/18 [00:05<00:00,  3.28it/s]\n"
     ]
    },
    {
     "name": "stdout",
     "output_type": "stream",
     "text": [
      "Train loss: 0.10201703920479743\n",
      "Train consistency loss: 0.0007569085434774187\n",
      "Validation loss: 0.2732098958351546\n",
      "1m 13s\n",
      "Consistency Loss declined to 0.0007569085434774187\n",
      "Early Stopping Counter = 0\n",
      "Epoch 296/300\n"
     ]
    },
    {
     "name": "stderr",
     "output_type": "stream",
     "text": [
      "100%|██████████| 155/155 [00:46<00:00,  3.36it/s]\n",
      "100%|██████████| 67/67 [00:21<00:00,  3.17it/s]\n",
      "100%|██████████| 18/18 [00:05<00:00,  3.27it/s]\n"
     ]
    },
    {
     "name": "stdout",
     "output_type": "stream",
     "text": [
      "Train loss: 0.10141317046457721\n",
      "Train consistency loss: 0.0008295749226383476\n",
      "Validation loss: 0.26707243774500156\n",
      "1m 13s\n",
      "Early Stopping Counter = 1\n",
      "Epoch 297/300\n"
     ]
    },
    {
     "name": "stderr",
     "output_type": "stream",
     "text": [
      "100%|██████████| 155/155 [00:46<00:00,  3.37it/s]\n",
      "100%|██████████| 67/67 [00:21<00:00,  3.18it/s]\n",
      "100%|██████████| 18/18 [00:05<00:00,  3.20it/s]\n"
     ]
    },
    {
     "name": "stdout",
     "output_type": "stream",
     "text": [
      "Train loss: 0.10202905030981187\n",
      "Train consistency loss: 0.0007789398833706197\n",
      "Validation loss: 0.27447557925350136\n",
      "1m 13s\n",
      "Early Stopping Counter = 2\n",
      "Epoch 298/300\n"
     ]
    },
    {
     "name": "stderr",
     "output_type": "stream",
     "text": [
      "100%|██████████| 155/155 [00:46<00:00,  3.35it/s]\n",
      "100%|██████████| 67/67 [00:20<00:00,  3.20it/s]\n",
      "100%|██████████| 18/18 [00:05<00:00,  3.37it/s]\n"
     ]
    },
    {
     "name": "stdout",
     "output_type": "stream",
     "text": [
      "Train loss: 0.10161897578547077\n",
      "Train consistency loss: 0.0008100871385054301\n",
      "Validation loss: 0.2676303540873859\n",
      "1m 13s\n",
      "Early Stopping Counter = 3\n",
      "Epoch 299/300\n"
     ]
    },
    {
     "name": "stderr",
     "output_type": "stream",
     "text": [
      "100%|██████████| 155/155 [00:46<00:00,  3.34it/s]\n",
      "100%|██████████| 67/67 [00:21<00:00,  3.19it/s]\n",
      "100%|██████████| 18/18 [00:05<00:00,  3.36it/s]\n"
     ]
    },
    {
     "name": "stdout",
     "output_type": "stream",
     "text": [
      "Train loss: 0.1011652336966607\n",
      "Train consistency loss: 0.0015943308783097387\n",
      "Validation loss: 0.2757169934403565\n",
      "1m 13s\n",
      "Early Stopping Counter = 4\n",
      "Epoch 300/300\n"
     ]
    },
    {
     "name": "stderr",
     "output_type": "stream",
     "text": [
      "100%|██████████| 155/155 [00:46<00:00,  3.36it/s]\n",
      "100%|██████████| 67/67 [00:20<00:00,  3.19it/s]\n",
      "100%|██████████| 18/18 [00:05<00:00,  3.34it/s]\n"
     ]
    },
    {
     "name": "stdout",
     "output_type": "stream",
     "text": [
      "Train loss: 0.10322449409192608\n",
      "Train consistency loss: 0.000983085315205407\n",
      "Validation loss: 0.2782443896349933\n",
      "1m 13s\n",
      "Early Stopping Counter = 5\n"
     ]
    },
    {
     "name": "stderr",
     "output_type": "stream",
     "text": [
      "100%|██████████| 16/16 [02:04<00:00,  7.78s/it]\n"
     ]
    },
    {
     "name": "stdout",
     "output_type": "stream",
     "text": [
      "F1-Score : 0.6494201421737671\n",
      "Accuracy : 0.997791051864624\n",
      "Specificity : 0.9992483258247375\n",
      "Recall : 0.6001875400543213\n",
      "Precision : 0.7399376630783081\n"
     ]
    },
    {
     "name": "stderr",
     "output_type": "stream",
     "text": [
      " 99%|█████████▊| 67/68 [09:01<00:08,  8.08s/it]\n",
      "100%|██████████| 4292/4292 [01:39<00:00, 43.18it/s] \n"
     ]
    },
    {
     "name": "stdout",
     "output_type": "stream",
     "text": [
      "Epoch 1/300\n"
     ]
    },
    {
     "name": "stderr",
     "output_type": "stream",
     "text": [
      "100%|██████████| 155/155 [00:46<00:00,  3.35it/s]\n",
      "100%|██████████| 67/67 [00:20<00:00,  3.21it/s]\n",
      "100%|██████████| 18/18 [00:05<00:00,  3.25it/s]\n"
     ]
    },
    {
     "name": "stdout",
     "output_type": "stream",
     "text": [
      "Train loss: 0.3452397004250557\n",
      "Train consistency loss: 0.07082614980971635\n",
      "Validation loss: 0.47482504778438145\n",
      "1m 13s\n",
      "Consistency Loss declined to 0.07082614980971635\n",
      "Early Stopping Counter = 0\n",
      "Epoch 2/300\n"
     ]
    },
    {
     "name": "stderr",
     "output_type": "stream",
     "text": [
      "100%|██████████| 155/155 [00:46<00:00,  3.33it/s]\n",
      "100%|██████████| 67/67 [00:20<00:00,  3.23it/s]\n",
      "100%|██████████| 18/18 [00:05<00:00,  3.33it/s]\n"
     ]
    },
    {
     "name": "stdout",
     "output_type": "stream",
     "text": [
      "Train loss: 0.27047749411675237\n",
      "Train consistency loss: 0.05475535721921209\n",
      "Validation loss: 0.47939589785204995\n",
      "1m 13s\n",
      "Consistency Loss declined to 0.05475535721921209\n",
      "Early Stopping Counter = 0\n",
      "Epoch 3/300\n"
     ]
    },
    {
     "name": "stderr",
     "output_type": "stream",
     "text": [
      "100%|██████████| 155/155 [00:46<00:00,  3.34it/s]\n",
      "100%|██████████| 67/67 [00:20<00:00,  3.22it/s]\n",
      "100%|██████████| 18/18 [00:05<00:00,  3.15it/s]\n"
     ]
    },
    {
     "name": "stdout",
     "output_type": "stream",
     "text": [
      "Train loss: 0.2478214688839451\n",
      "Train consistency loss: 0.061133925761304685\n",
      "Validation loss: 0.47063271204630536\n",
      "1m 13s\n",
      "Early Stopping Counter = 1\n",
      "Epoch 4/300\n"
     ]
    },
    {
     "name": "stderr",
     "output_type": "stream",
     "text": [
      "100%|██████████| 155/155 [00:46<00:00,  3.36it/s]\n",
      "100%|██████████| 67/67 [00:20<00:00,  3.20it/s]\n",
      "100%|██████████| 18/18 [00:05<00:00,  3.33it/s]\n"
     ]
    },
    {
     "name": "stdout",
     "output_type": "stream",
     "text": [
      "Train loss: 0.26120062076276346\n",
      "Train consistency loss: 0.057499255568011484\n",
      "Validation loss: 0.45880099137624103\n",
      "1m 13s\n",
      "Early Stopping Counter = 2\n",
      "Epoch 5/300\n"
     ]
    },
    {
     "name": "stderr",
     "output_type": "stream",
     "text": [
      "100%|██████████| 155/155 [00:46<00:00,  3.36it/s]\n",
      "100%|██████████| 67/67 [00:20<00:00,  3.19it/s]\n",
      "100%|██████████| 18/18 [00:05<00:00,  3.33it/s]\n"
     ]
    },
    {
     "name": "stdout",
     "output_type": "stream",
     "text": [
      "Train loss: 0.24833136402791547\n",
      "Train consistency loss: 0.04960410124552784\n",
      "Validation loss: 0.4430919852521684\n",
      "1m 13s\n",
      "Consistency Loss declined to 0.04960410124552784\n",
      "Early Stopping Counter = 0\n",
      "Epoch 6/300\n"
     ]
    },
    {
     "name": "stderr",
     "output_type": "stream",
     "text": [
      "100%|██████████| 155/155 [00:46<00:00,  3.35it/s]\n",
      "100%|██████████| 67/67 [00:20<00:00,  3.20it/s]\n",
      "100%|██████████| 18/18 [00:05<00:00,  3.27it/s]\n"
     ]
    },
    {
     "name": "stdout",
     "output_type": "stream",
     "text": [
      "Train loss: 0.24026073967256853\n",
      "Train consistency loss: 0.050668269229024204\n",
      "Validation loss: 0.43850558665063644\n",
      "1m 13s\n",
      "Early Stopping Counter = 1\n",
      "Epoch 7/300\n"
     ]
    },
    {
     "name": "stderr",
     "output_type": "stream",
     "text": [
      "100%|██████████| 155/155 [00:46<00:00,  3.35it/s]\n",
      "100%|██████████| 67/67 [00:20<00:00,  3.23it/s]\n",
      "100%|██████████| 18/18 [00:05<00:00,  3.26it/s]\n"
     ]
    },
    {
     "name": "stdout",
     "output_type": "stream",
     "text": [
      "Train loss: 0.23419893826207808\n",
      "Train consistency loss: 0.041842004173059964\n",
      "Validation loss: 0.3980931772126092\n",
      "1m 13s\n",
      "Consistency Loss declined to 0.041842004173059964\n",
      "Early Stopping Counter = 0\n",
      "Epoch 8/300\n"
     ]
    },
    {
     "name": "stderr",
     "output_type": "stream",
     "text": [
      "100%|██████████| 155/155 [00:46<00:00,  3.34it/s]\n",
      "100%|██████████| 67/67 [00:20<00:00,  3.22it/s]\n",
      "100%|██████████| 18/18 [00:05<00:00,  3.27it/s]\n"
     ]
    },
    {
     "name": "stdout",
     "output_type": "stream",
     "text": [
      "Train loss: 0.22715120998121077\n",
      "Train consistency loss: 0.04587561715005049\n",
      "Validation loss: 0.4228573822312885\n",
      "1m 13s\n",
      "Early Stopping Counter = 1\n",
      "Epoch 9/300\n"
     ]
    },
    {
     "name": "stderr",
     "output_type": "stream",
     "text": [
      "100%|██████████| 155/155 [00:46<00:00,  3.36it/s]\n",
      "100%|██████████| 67/67 [00:20<00:00,  3.24it/s]\n",
      "100%|██████████| 18/18 [00:05<00:00,  3.35it/s]\n"
     ]
    },
    {
     "name": "stdout",
     "output_type": "stream",
     "text": [
      "Train loss: 0.23106893685556226\n",
      "Train consistency loss: 0.047493279981079384\n",
      "Validation loss: 0.41549556536806953\n",
      "1m 12s\n",
      "Early Stopping Counter = 2\n",
      "Epoch 10/300\n"
     ]
    },
    {
     "name": "stderr",
     "output_type": "stream",
     "text": [
      "100%|██████████| 155/155 [00:46<00:00,  3.36it/s]\n",
      "100%|██████████| 67/67 [00:20<00:00,  3.22it/s]\n",
      "100%|██████████| 18/18 [00:05<00:00,  3.30it/s]\n"
     ]
    },
    {
     "name": "stdout",
     "output_type": "stream",
     "text": [
      "Train loss: 0.22935746571710033\n",
      "Train consistency loss: 0.039594438510821825\n",
      "Validation loss: 0.4373729129632314\n",
      "1m 12s\n",
      "Consistency Loss declined to 0.039594438510821825\n",
      "Early Stopping Counter = 0\n",
      "Epoch 11/300\n"
     ]
    },
    {
     "name": "stderr",
     "output_type": "stream",
     "text": [
      "100%|██████████| 155/155 [00:46<00:00,  3.34it/s]\n",
      "100%|██████████| 67/67 [00:20<00:00,  3.23it/s]\n",
      "100%|██████████| 18/18 [00:05<00:00,  3.35it/s]\n"
     ]
    },
    {
     "name": "stdout",
     "output_type": "stream",
     "text": [
      "Train loss: 0.22604742473171605\n",
      "Train consistency loss: 0.04069091827233336\n",
      "Validation loss: 0.3801795020699501\n",
      "1m 13s\n",
      "Early Stopping Counter = 1\n",
      "Epoch 12/300\n"
     ]
    },
    {
     "name": "stderr",
     "output_type": "stream",
     "text": [
      "100%|██████████| 155/155 [00:46<00:00,  3.34it/s]\n",
      "100%|██████████| 67/67 [00:20<00:00,  3.20it/s]\n",
      "100%|██████████| 18/18 [00:05<00:00,  3.29it/s]\n"
     ]
    },
    {
     "name": "stdout",
     "output_type": "stream",
     "text": [
      "Train loss: 0.22101119948971656\n",
      "Train consistency loss: 0.03498480357785723\n",
      "Validation loss: 0.3701821540792783\n",
      "1m 13s\n",
      "Consistency Loss declined to 0.03498480357785723\n",
      "Early Stopping Counter = 0\n",
      "Epoch 13/300\n"
     ]
    },
    {
     "name": "stderr",
     "output_type": "stream",
     "text": [
      "100%|██████████| 155/155 [00:46<00:00,  3.35it/s]\n",
      "100%|██████████| 67/67 [00:20<00:00,  3.23it/s]\n",
      "100%|██████████| 18/18 [00:05<00:00,  3.36it/s]\n"
     ]
    },
    {
     "name": "stdout",
     "output_type": "stream",
     "text": [
      "Train loss: 0.21421965062618256\n",
      "Train consistency loss: 0.046597054825901096\n",
      "Validation loss: 0.4214324570364422\n",
      "1m 12s\n",
      "Early Stopping Counter = 1\n",
      "Epoch 14/300\n"
     ]
    },
    {
     "name": "stderr",
     "output_type": "stream",
     "text": [
      "100%|██████████| 155/155 [00:46<00:00,  3.34it/s]\n",
      "100%|██████████| 67/67 [00:21<00:00,  3.19it/s]\n",
      "100%|██████████| 18/18 [00:05<00:00,  3.28it/s]\n"
     ]
    },
    {
     "name": "stdout",
     "output_type": "stream",
     "text": [
      "Train loss: 0.2251834358899824\n",
      "Train consistency loss: 0.03594674025453738\n",
      "Validation loss: 0.3752645403146744\n",
      "1m 13s\n",
      "Early Stopping Counter = 2\n",
      "Epoch 15/300\n"
     ]
    },
    {
     "name": "stderr",
     "output_type": "stream",
     "text": [
      "100%|██████████| 155/155 [00:46<00:00,  3.35it/s]\n",
      "100%|██████████| 67/67 [00:20<00:00,  3.20it/s]\n",
      "100%|██████████| 18/18 [00:05<00:00,  3.29it/s]\n"
     ]
    },
    {
     "name": "stdout",
     "output_type": "stream",
     "text": [
      "Train loss: 0.2157677920595292\n",
      "Train consistency loss: 0.033615733149336344\n",
      "Validation loss: 0.38650071289804244\n",
      "1m 13s\n",
      "Consistency Loss declined to 0.033615733149336344\n",
      "Early Stopping Counter = 0\n",
      "Epoch 16/300\n"
     ]
    },
    {
     "name": "stderr",
     "output_type": "stream",
     "text": [
      "100%|██████████| 155/155 [00:46<00:00,  3.35it/s]\n",
      "100%|██████████| 67/67 [00:20<00:00,  3.20it/s]\n",
      "100%|██████████| 18/18 [00:05<00:00,  3.26it/s]\n"
     ]
    },
    {
     "name": "stdout",
     "output_type": "stream",
     "text": [
      "Train loss: 0.21526750883748455\n",
      "Train consistency loss: 0.033840328524472996\n",
      "Validation loss: 0.3912392026848263\n",
      "1m 13s\n",
      "Early Stopping Counter = 1\n",
      "Epoch 17/300\n"
     ]
    },
    {
     "name": "stderr",
     "output_type": "stream",
     "text": [
      "100%|██████████| 155/155 [00:46<00:00,  3.34it/s]\n",
      "100%|██████████| 67/67 [00:20<00:00,  3.22it/s]\n",
      "100%|██████████| 18/18 [00:05<00:00,  3.33it/s]\n"
     ]
    },
    {
     "name": "stdout",
     "output_type": "stream",
     "text": [
      "Train loss: 0.21175345057441342\n",
      "Train consistency loss: 0.029144015427289616\n",
      "Validation loss: 0.37807877858479816\n",
      "1m 13s\n",
      "Consistency Loss declined to 0.029144015427289616\n",
      "Early Stopping Counter = 0\n",
      "Epoch 18/300\n"
     ]
    },
    {
     "name": "stderr",
     "output_type": "stream",
     "text": [
      "100%|██████████| 155/155 [00:46<00:00,  3.36it/s]\n",
      "100%|██████████| 67/67 [00:20<00:00,  3.23it/s]\n",
      "100%|██████████| 18/18 [00:05<00:00,  3.25it/s]\n"
     ]
    },
    {
     "name": "stdout",
     "output_type": "stream",
     "text": [
      "Train loss: 0.20909456831793632\n",
      "Train consistency loss: 0.03295441983795878\n",
      "Validation loss: 0.35787442160977256\n",
      "1m 12s\n",
      "Early Stopping Counter = 1\n",
      "Epoch 19/300\n"
     ]
    },
    {
     "name": "stderr",
     "output_type": "stream",
     "text": [
      "100%|██████████| 155/155 [00:46<00:00,  3.36it/s]\n",
      "100%|██████████| 67/67 [00:20<00:00,  3.23it/s]\n",
      "100%|██████████| 18/18 [00:05<00:00,  3.29it/s]\n"
     ]
    },
    {
     "name": "stdout",
     "output_type": "stream",
     "text": [
      "Train loss: 0.21195649687320955\n",
      "Train consistency loss: 0.027176009171378256\n",
      "Validation loss: 0.34888370086749393\n",
      "1m 12s\n",
      "Consistency Loss declined to 0.027176009171378256\n",
      "Early Stopping Counter = 0\n",
      "Epoch 20/300\n"
     ]
    },
    {
     "name": "stderr",
     "output_type": "stream",
     "text": [
      "100%|██████████| 155/155 [00:46<00:00,  3.34it/s]\n",
      "100%|██████████| 67/67 [00:20<00:00,  3.24it/s]\n",
      "100%|██████████| 18/18 [00:05<00:00,  3.34it/s]\n"
     ]
    },
    {
     "name": "stdout",
     "output_type": "stream",
     "text": [
      "Train loss: 0.20409240789951816\n",
      "Train consistency loss: 0.026757205280461417\n",
      "Validation loss: 0.37265392310089535\n",
      "1m 13s\n",
      "Consistency Loss declined to 0.026757205280461417\n",
      "Early Stopping Counter = 0\n",
      "Epoch 21/300\n"
     ]
    },
    {
     "name": "stderr",
     "output_type": "stream",
     "text": [
      "100%|██████████| 155/155 [00:46<00:00,  3.34it/s]\n",
      "100%|██████████| 67/67 [00:20<00:00,  3.23it/s]\n",
      "100%|██████████| 18/18 [00:05<00:00,  3.36it/s]\n"
     ]
    },
    {
     "name": "stdout",
     "output_type": "stream",
     "text": [
      "Train loss: 0.20462507701689198\n",
      "Train consistency loss: 0.026248946883229176\n",
      "Validation loss: 0.3511281344625685\n",
      "1m 13s\n",
      "Consistency Loss declined to 0.026248946883229176\n",
      "Early Stopping Counter = 0\n",
      "Epoch 22/300\n"
     ]
    },
    {
     "name": "stderr",
     "output_type": "stream",
     "text": [
      "100%|██████████| 155/155 [00:46<00:00,  3.33it/s]\n",
      "100%|██████████| 67/67 [00:20<00:00,  3.23it/s]\n",
      "100%|██████████| 18/18 [00:05<00:00,  3.33it/s]\n"
     ]
    },
    {
     "name": "stdout",
     "output_type": "stream",
     "text": [
      "Train loss: 0.2046438238313121\n",
      "Train consistency loss: 0.03531004110379005\n",
      "Validation loss: 0.3766950981484519\n",
      "1m 13s\n",
      "Early Stopping Counter = 1\n",
      "Epoch 23/300\n"
     ]
    },
    {
     "name": "stderr",
     "output_type": "stream",
     "text": [
      "100%|██████████| 155/155 [00:46<00:00,  3.36it/s]\n",
      "100%|██████████| 67/67 [00:20<00:00,  3.20it/s]\n",
      "100%|██████████| 18/18 [00:05<00:00,  3.29it/s]\n"
     ]
    },
    {
     "name": "stdout",
     "output_type": "stream",
     "text": [
      "Train loss: 0.2126003885461438\n",
      "Train consistency loss: 0.030859406120074328\n",
      "Validation loss: 0.34821801549858517\n",
      "1m 13s\n",
      "Early Stopping Counter = 2\n",
      "Epoch 24/300\n"
     ]
    },
    {
     "name": "stderr",
     "output_type": "stream",
     "text": [
      "100%|██████████| 155/155 [00:46<00:00,  3.35it/s]\n",
      "100%|██████████| 67/67 [00:21<00:00,  3.18it/s]\n",
      "100%|██████████| 18/18 [00:05<00:00,  3.28it/s]\n"
     ]
    },
    {
     "name": "stdout",
     "output_type": "stream",
     "text": [
      "Train loss: 0.20331942035305883\n",
      "Train consistency loss: 0.023197815211406396\n",
      "Validation loss: 0.3251882510052787\n",
      "1m 13s\n",
      "Consistency Loss declined to 0.023197815211406396\n",
      "Early Stopping Counter = 0\n",
      "Epoch 25/300\n"
     ]
    },
    {
     "name": "stderr",
     "output_type": "stream",
     "text": [
      "100%|██████████| 155/155 [00:46<00:00,  3.34it/s]\n",
      "100%|██████████| 67/67 [00:20<00:00,  3.20it/s]\n",
      "100%|██████████| 18/18 [00:05<00:00,  3.34it/s]\n"
     ]
    },
    {
     "name": "stdout",
     "output_type": "stream",
     "text": [
      "Train loss: 0.1983457665289602\n",
      "Train consistency loss: 0.020123906252877927\n",
      "Validation loss: 0.3076862452758683\n",
      "1m 13s\n",
      "Consistency Loss declined to 0.020123906252877927\n",
      "Early Stopping Counter = 0\n",
      "Epoch 26/300\n"
     ]
    },
    {
     "name": "stderr",
     "output_type": "stream",
     "text": [
      "100%|██████████| 155/155 [00:46<00:00,  3.36it/s]\n",
      "100%|██████████| 67/67 [00:21<00:00,  3.18it/s]\n",
      "100%|██████████| 18/18 [00:05<00:00,  3.34it/s]\n"
     ]
    },
    {
     "name": "stdout",
     "output_type": "stream",
     "text": [
      "Train loss: 0.19665982857827216\n",
      "Train consistency loss: 0.02236254737059127\n",
      "Validation loss: 0.3267953685588307\n",
      "1m 13s\n",
      "Early Stopping Counter = 1\n",
      "Epoch 27/300\n"
     ]
    },
    {
     "name": "stderr",
     "output_type": "stream",
     "text": [
      "100%|██████████| 155/155 [00:46<00:00,  3.34it/s]\n",
      "100%|██████████| 67/67 [00:20<00:00,  3.23it/s]\n",
      "100%|██████████| 18/18 [00:05<00:00,  3.38it/s]\n"
     ]
    },
    {
     "name": "stdout",
     "output_type": "stream",
     "text": [
      "Train loss: 0.19510210733259878\n",
      "Train consistency loss: 0.020899702085932687\n",
      "Validation loss: 0.3197334764732255\n",
      "1m 13s\n",
      "Early Stopping Counter = 2\n",
      "Epoch 28/300\n"
     ]
    },
    {
     "name": "stderr",
     "output_type": "stream",
     "text": [
      "100%|██████████| 155/155 [00:46<00:00,  3.36it/s]\n",
      "100%|██████████| 67/67 [00:20<00:00,  3.20it/s]\n",
      "100%|██████████| 18/18 [00:05<00:00,  3.37it/s]\n"
     ]
    },
    {
     "name": "stdout",
     "output_type": "stream",
     "text": [
      "Train loss: 0.1951456412192314\n",
      "Train consistency loss: 0.02489007261595619\n",
      "Validation loss: 0.353090128964848\n",
      "1m 12s\n",
      "Early Stopping Counter = 3\n",
      "Epoch 29/300\n"
     ]
    },
    {
     "name": "stderr",
     "output_type": "stream",
     "text": [
      "100%|██████████| 155/155 [00:46<00:00,  3.36it/s]\n",
      "100%|██████████| 67/67 [00:20<00:00,  3.23it/s]\n",
      "100%|██████████| 18/18 [00:05<00:00,  3.35it/s]\n"
     ]
    },
    {
     "name": "stdout",
     "output_type": "stream",
     "text": [
      "Train loss: 0.19858104086691333\n",
      "Train consistency loss: 0.019062770294275746\n",
      "Validation loss: 0.335954536166456\n",
      "1m 12s\n",
      "Consistency Loss declined to 0.019062770294275746\n",
      "Early Stopping Counter = 0\n",
      "Epoch 30/300\n"
     ]
    },
    {
     "name": "stderr",
     "output_type": "stream",
     "text": [
      "100%|██████████| 155/155 [00:46<00:00,  3.34it/s]\n",
      "100%|██████████| 67/67 [00:20<00:00,  3.23it/s]\n",
      "100%|██████████| 18/18 [00:05<00:00,  3.34it/s]\n"
     ]
    },
    {
     "name": "stdout",
     "output_type": "stream",
     "text": [
      "Train loss: 0.1954246118184059\n",
      "Train consistency loss: 0.019664165654233588\n",
      "Validation loss: 0.3384608378012975\n",
      "1m 12s\n",
      "Early Stopping Counter = 1\n",
      "Epoch 31/300\n"
     ]
    },
    {
     "name": "stderr",
     "output_type": "stream",
     "text": [
      "100%|██████████| 155/155 [00:46<00:00,  3.36it/s]\n",
      "100%|██████████| 67/67 [00:20<00:00,  3.20it/s]\n",
      "100%|██████████| 18/18 [00:05<00:00,  3.33it/s]\n"
     ]
    },
    {
     "name": "stdout",
     "output_type": "stream",
     "text": [
      "Train loss: 0.19321236312389373\n",
      "Train consistency loss: 0.021299346377934094\n",
      "Validation loss: 0.33596449842055637\n",
      "1m 12s\n",
      "Early Stopping Counter = 2\n",
      "Epoch 32/300\n"
     ]
    },
    {
     "name": "stderr",
     "output_type": "stream",
     "text": [
      "100%|██████████| 155/155 [00:46<00:00,  3.36it/s]\n",
      "100%|██████████| 67/67 [00:20<00:00,  3.20it/s]\n",
      "100%|██████████| 18/18 [00:05<00:00,  3.33it/s]\n"
     ]
    },
    {
     "name": "stdout",
     "output_type": "stream",
     "text": [
      "Train loss: 0.19108762020064937\n",
      "Train consistency loss: 0.019088607712356903\n",
      "Validation loss: 0.344924239648713\n",
      "1m 13s\n",
      "Early Stopping Counter = 3\n",
      "Epoch 33/300\n"
     ]
    },
    {
     "name": "stderr",
     "output_type": "stream",
     "text": [
      "100%|██████████| 155/155 [00:46<00:00,  3.35it/s]\n",
      "100%|██████████| 67/67 [00:20<00:00,  3.21it/s]\n",
      "100%|██████████| 18/18 [00:05<00:00,  3.38it/s]\n"
     ]
    },
    {
     "name": "stdout",
     "output_type": "stream",
     "text": [
      "Train loss: 0.19233211874961853\n",
      "Train consistency loss: 0.019333841835162534\n",
      "Validation loss: 0.4127945734394921\n",
      "1m 13s\n",
      "Early Stopping Counter = 4\n",
      "Epoch 34/300\n"
     ]
    },
    {
     "name": "stderr",
     "output_type": "stream",
     "text": [
      "100%|██████████| 155/155 [00:46<00:00,  3.34it/s]\n",
      "100%|██████████| 67/67 [00:20<00:00,  3.24it/s]\n",
      "100%|██████████| 18/18 [00:05<00:00,  3.30it/s]\n"
     ]
    },
    {
     "name": "stdout",
     "output_type": "stream",
     "text": [
      "Train loss: 0.19150151629601755\n",
      "Train consistency loss: 0.01937951410272673\n",
      "Validation loss: 0.32623858170376885\n",
      "1m 13s\n",
      "Early Stopping Counter = 5\n",
      "Epoch 35/300\n"
     ]
    },
    {
     "name": "stderr",
     "output_type": "stream",
     "text": [
      "100%|██████████| 155/155 [00:46<00:00,  3.35it/s]\n",
      "100%|██████████| 67/67 [00:20<00:00,  3.20it/s]\n",
      "100%|██████████| 18/18 [00:05<00:00,  3.34it/s]\n"
     ]
    },
    {
     "name": "stdout",
     "output_type": "stream",
     "text": [
      "Train loss: 0.19272248312350243\n",
      "Train consistency loss: 0.01802241961374434\n",
      "Validation loss: 0.3271789633565479\n",
      "1m 13s\n",
      "Consistency Loss declined to 0.01802241961374434\n",
      "Early Stopping Counter = 0\n",
      "Epoch 36/300\n"
     ]
    },
    {
     "name": "stderr",
     "output_type": "stream",
     "text": [
      "100%|██████████| 155/155 [00:46<00:00,  3.35it/s]\n",
      "100%|██████████| 67/67 [00:20<00:00,  3.20it/s]\n",
      "100%|██████████| 18/18 [00:05<00:00,  3.27it/s]\n"
     ]
    },
    {
     "name": "stdout",
     "output_type": "stream",
     "text": [
      "Train loss: 0.1910447540783113\n",
      "Train consistency loss: 0.02015273858890382\n",
      "Validation loss: 0.30471207201480865\n",
      "1m 13s\n",
      "Early Stopping Counter = 1\n",
      "Epoch 37/300\n"
     ]
    },
    {
     "name": "stderr",
     "output_type": "stream",
     "text": [
      "100%|██████████| 155/155 [00:46<00:00,  3.33it/s]\n",
      "100%|██████████| 67/67 [00:20<00:00,  3.19it/s]\n",
      "100%|██████████| 18/18 [00:05<00:00,  3.32it/s]\n"
     ]
    },
    {
     "name": "stdout",
     "output_type": "stream",
     "text": [
      "Train loss: 0.19024709530415074\n",
      "Train consistency loss: 0.015137330583755427\n",
      "Validation loss: 0.3131217509508133\n",
      "1m 13s\n",
      "Consistency Loss declined to 0.015137330583755427\n",
      "Early Stopping Counter = 0\n",
      "Epoch 38/300\n"
     ]
    },
    {
     "name": "stderr",
     "output_type": "stream",
     "text": [
      "100%|██████████| 155/155 [00:46<00:00,  3.34it/s]\n",
      "100%|██████████| 67/67 [00:20<00:00,  3.22it/s]\n",
      "100%|██████████| 18/18 [00:05<00:00,  3.24it/s]\n"
     ]
    },
    {
     "name": "stdout",
     "output_type": "stream",
     "text": [
      "Train loss: 0.1892770763366453\n",
      "Train consistency loss: 0.016438115207450605\n",
      "Validation loss: 0.35521330270502305\n",
      "1m 13s\n",
      "Early Stopping Counter = 1\n",
      "Epoch 39/300\n"
     ]
    },
    {
     "name": "stderr",
     "output_type": "stream",
     "text": [
      "100%|██████████| 155/155 [00:46<00:00,  3.35it/s]\n",
      "100%|██████████| 67/67 [00:21<00:00,  3.19it/s]\n",
      "100%|██████████| 18/18 [00:05<00:00,  3.24it/s]\n"
     ]
    },
    {
     "name": "stdout",
     "output_type": "stream",
     "text": [
      "Train loss: 0.19046265184879302\n",
      "Train consistency loss: 0.019556934298919654\n",
      "Validation loss: 0.33038245141506195\n",
      "1m 13s\n",
      "Early Stopping Counter = 2\n",
      "Epoch 40/300\n"
     ]
    },
    {
     "name": "stderr",
     "output_type": "stream",
     "text": [
      "100%|██████████| 155/155 [00:46<00:00,  3.35it/s]\n",
      "100%|██████████| 67/67 [00:20<00:00,  3.20it/s]\n",
      "100%|██████████| 18/18 [00:05<00:00,  3.35it/s]\n"
     ]
    },
    {
     "name": "stdout",
     "output_type": "stream",
     "text": [
      "Train loss: 0.18677335516099006\n",
      "Train consistency loss: 0.014579743466604112\n",
      "Validation loss: 0.30369677642981213\n",
      "1m 13s\n",
      "Consistency Loss declined to 0.014579743466604112\n",
      "Early Stopping Counter = 0\n",
      "Epoch 41/300\n"
     ]
    },
    {
     "name": "stderr",
     "output_type": "stream",
     "text": [
      "100%|██████████| 155/155 [00:46<00:00,  3.35it/s]\n",
      "100%|██████████| 67/67 [00:20<00:00,  3.21it/s]\n",
      "100%|██████████| 18/18 [00:05<00:00,  3.35it/s]\n"
     ]
    },
    {
     "name": "stdout",
     "output_type": "stream",
     "text": [
      "Train loss: 0.18729446664933236\n",
      "Train consistency loss: 0.014942753274660946\n",
      "Validation loss: 0.3124772003955311\n",
      "1m 13s\n",
      "Early Stopping Counter = 1\n",
      "Epoch 42/300\n"
     ]
    },
    {
     "name": "stderr",
     "output_type": "stream",
     "text": [
      "100%|██████████| 155/155 [00:46<00:00,  3.34it/s]\n",
      "100%|██████████| 67/67 [00:21<00:00,  3.18it/s]\n",
      "100%|██████████| 18/18 [00:05<00:00,  3.28it/s]\n"
     ]
    },
    {
     "name": "stdout",
     "output_type": "stream",
     "text": [
      "Train loss: 0.18836041833123854\n",
      "Train consistency loss: 0.01728338979657239\n",
      "Validation loss: 0.335780235628287\n",
      "1m 13s\n",
      "Early Stopping Counter = 2\n",
      "Epoch 43/300\n"
     ]
    },
    {
     "name": "stderr",
     "output_type": "stream",
     "text": [
      "100%|██████████| 155/155 [00:46<00:00,  3.34it/s]\n",
      "100%|██████████| 67/67 [00:20<00:00,  3.21it/s]\n",
      "100%|██████████| 18/18 [00:05<00:00,  3.24it/s]\n"
     ]
    },
    {
     "name": "stdout",
     "output_type": "stream",
     "text": [
      "Train loss: 0.187168467717786\n",
      "Train consistency loss: 0.01342254646344861\n",
      "Validation loss: 0.3209703415632248\n",
      "1m 13s\n",
      "Consistency Loss declined to 0.01342254646344861\n",
      "Early Stopping Counter = 0\n",
      "Epoch 44/300\n"
     ]
    },
    {
     "name": "stderr",
     "output_type": "stream",
     "text": [
      "100%|██████████| 155/155 [00:46<00:00,  3.33it/s]\n",
      "100%|██████████| 67/67 [00:20<00:00,  3.22it/s]\n",
      "100%|██████████| 18/18 [00:05<00:00,  3.32it/s]\n"
     ]
    },
    {
     "name": "stdout",
     "output_type": "stream",
     "text": [
      "Train loss: 0.1863210310859065\n",
      "Train consistency loss: 0.013754929436732139\n",
      "Validation loss: 0.3157654520538118\n",
      "1m 13s\n",
      "Early Stopping Counter = 1\n",
      "Epoch 45/300\n"
     ]
    },
    {
     "name": "stderr",
     "output_type": "stream",
     "text": [
      "100%|██████████| 155/155 [00:46<00:00,  3.34it/s]\n",
      "100%|██████████| 67/67 [00:21<00:00,  3.19it/s]\n",
      "100%|██████████| 18/18 [00:05<00:00,  3.28it/s]\n"
     ]
    },
    {
     "name": "stdout",
     "output_type": "stream",
     "text": [
      "Train loss: 0.18537113589625204\n",
      "Train consistency loss: 0.012502612907495072\n",
      "Validation loss: 0.3307070939077271\n",
      "1m 13s\n",
      "Consistency Loss declined to 0.012502612907495072\n",
      "Early Stopping Counter = 0\n",
      "Epoch 46/300\n"
     ]
    },
    {
     "name": "stderr",
     "output_type": "stream",
     "text": [
      "100%|██████████| 155/155 [00:46<00:00,  3.34it/s]\n",
      "100%|██████████| 67/67 [00:20<00:00,  3.22it/s]\n",
      "100%|██████████| 18/18 [00:05<00:00,  3.25it/s]\n"
     ]
    },
    {
     "name": "stdout",
     "output_type": "stream",
     "text": [
      "Train loss: 0.18361376629721735\n",
      "Train consistency loss: 0.011947913171806887\n",
      "Validation loss: 0.30412829998466706\n",
      "1m 13s\n",
      "Consistency Loss declined to 0.011947913171806887\n",
      "Early Stopping Counter = 0\n",
      "Epoch 47/300\n"
     ]
    },
    {
     "name": "stderr",
     "output_type": "stream",
     "text": [
      "100%|██████████| 155/155 [00:46<00:00,  3.34it/s]\n",
      "100%|██████████| 67/67 [00:20<00:00,  3.23it/s]\n",
      "100%|██████████| 18/18 [00:05<00:00,  3.28it/s]\n"
     ]
    },
    {
     "name": "stdout",
     "output_type": "stream",
     "text": [
      "Train loss: 0.18312395003534132\n",
      "Train consistency loss: 0.014701571558782859\n",
      "Validation loss: 0.31566569540235734\n",
      "1m 13s\n",
      "Early Stopping Counter = 1\n",
      "Epoch 48/300\n"
     ]
    },
    {
     "name": "stderr",
     "output_type": "stream",
     "text": [
      "100%|██████████| 155/155 [00:46<00:00,  3.35it/s]\n",
      "100%|██████████| 67/67 [00:20<00:00,  3.20it/s]\n",
      "100%|██████████| 18/18 [00:05<00:00,  3.34it/s]\n"
     ]
    },
    {
     "name": "stdout",
     "output_type": "stream",
     "text": [
      "Train loss: 0.1864616261374566\n",
      "Train consistency loss: 0.013106093192890064\n",
      "Validation loss: 0.3197239314516385\n",
      "1m 13s\n",
      "Early Stopping Counter = 2\n",
      "Epoch 49/300\n"
     ]
    },
    {
     "name": "stderr",
     "output_type": "stream",
     "text": [
      "100%|██████████| 155/155 [00:46<00:00,  3.36it/s]\n",
      "100%|██████████| 67/67 [00:20<00:00,  3.20it/s]\n",
      "100%|██████████| 18/18 [00:05<00:00,  3.39it/s]\n"
     ]
    },
    {
     "name": "stdout",
     "output_type": "stream",
     "text": [
      "Train loss: 0.1836169204404277\n",
      "Train consistency loss: 0.01665034806772844\n",
      "Validation loss: 0.32041728165414596\n",
      "1m 12s\n",
      "Early Stopping Counter = 3\n",
      "Epoch 50/300\n"
     ]
    },
    {
     "name": "stderr",
     "output_type": "stream",
     "text": [
      "100%|██████████| 155/155 [00:46<00:00,  3.35it/s]\n",
      "100%|██████████| 67/67 [00:20<00:00,  3.20it/s]\n",
      "100%|██████████| 18/18 [00:05<00:00,  3.27it/s]\n"
     ]
    },
    {
     "name": "stdout",
     "output_type": "stream",
     "text": [
      "Train loss: 0.1826260931068851\n",
      "Train consistency loss: 0.012552037668317112\n",
      "Validation loss: 0.3071972131729126\n",
      "1m 13s\n",
      "Early Stopping Counter = 4\n",
      "Epoch 51/300\n"
     ]
    },
    {
     "name": "stderr",
     "output_type": "stream",
     "text": [
      "100%|██████████| 155/155 [00:46<00:00,  3.34it/s]\n",
      "100%|██████████| 67/67 [00:20<00:00,  3.24it/s]\n",
      "100%|██████████| 18/18 [00:05<00:00,  3.33it/s]\n"
     ]
    },
    {
     "name": "stdout",
     "output_type": "stream",
     "text": [
      "Train loss: 0.18237804010991127\n",
      "Train consistency loss: 0.011093165892273632\n",
      "Validation loss: 0.30207386281755233\n",
      "1m 12s\n",
      "Consistency Loss declined to 0.011093165892273632\n",
      "Early Stopping Counter = 0\n",
      "Epoch 52/300\n"
     ]
    },
    {
     "name": "stderr",
     "output_type": "stream",
     "text": [
      "100%|██████████| 155/155 [00:46<00:00,  3.34it/s]\n",
      "100%|██████████| 67/67 [00:20<00:00,  3.23it/s]\n",
      "100%|██████████| 18/18 [00:05<00:00,  3.29it/s]\n"
     ]
    },
    {
     "name": "stdout",
     "output_type": "stream",
     "text": [
      "Train loss: 0.1813179793857759\n",
      "Train consistency loss: 0.013675220560894083\n",
      "Validation loss: 0.3296786488758193\n",
      "1m 13s\n",
      "Early Stopping Counter = 1\n",
      "Epoch 53/300\n"
     ]
    },
    {
     "name": "stderr",
     "output_type": "stream",
     "text": [
      "100%|██████████| 155/155 [00:46<00:00,  3.36it/s]\n",
      "100%|██████████| 67/67 [00:20<00:00,  3.19it/s]\n",
      "100%|██████████| 18/18 [00:05<00:00,  3.30it/s]\n"
     ]
    },
    {
     "name": "stdout",
     "output_type": "stream",
     "text": [
      "Train loss: 0.18686107743170954\n",
      "Train consistency loss: 0.01239918651226074\n",
      "Validation loss: 0.31675701836744946\n",
      "1m 13s\n",
      "Early Stopping Counter = 2\n",
      "Epoch 54/300\n"
     ]
    },
    {
     "name": "stderr",
     "output_type": "stream",
     "text": [
      "100%|██████████| 155/155 [00:46<00:00,  3.36it/s]\n",
      "100%|██████████| 67/67 [00:20<00:00,  3.21it/s]\n",
      "100%|██████████| 18/18 [00:05<00:00,  3.33it/s]\n"
     ]
    },
    {
     "name": "stdout",
     "output_type": "stream",
     "text": [
      "Train loss: 0.18263023418764915\n",
      "Train consistency loss: 0.010594074016631538\n",
      "Validation loss: 0.30043671528498334\n",
      "1m 12s\n",
      "Consistency Loss declined to 0.010594074016631538\n",
      "Early Stopping Counter = 0\n",
      "Epoch 55/300\n"
     ]
    },
    {
     "name": "stderr",
     "output_type": "stream",
     "text": [
      "100%|██████████| 155/155 [00:46<00:00,  3.35it/s]\n",
      "100%|██████████| 67/67 [00:20<00:00,  3.23it/s]\n",
      "100%|██████████| 18/18 [00:05<00:00,  3.31it/s]\n"
     ]
    },
    {
     "name": "stdout",
     "output_type": "stream",
     "text": [
      "Train loss: 0.18009080310021677\n",
      "Train consistency loss: 0.014239201405599936\n",
      "Validation loss: 0.3229403706888358\n",
      "1m 12s\n",
      "Early Stopping Counter = 1\n",
      "Epoch 56/300\n"
     ]
    },
    {
     "name": "stderr",
     "output_type": "stream",
     "text": [
      "100%|██████████| 155/155 [00:46<00:00,  3.36it/s]\n",
      "100%|██████████| 67/67 [00:20<00:00,  3.23it/s]\n",
      "100%|██████████| 18/18 [00:05<00:00,  3.31it/s]\n"
     ]
    },
    {
     "name": "stdout",
     "output_type": "stream",
     "text": [
      "Train loss: 0.18241336586013918\n",
      "Train consistency loss: 0.01420330472373918\n",
      "Validation loss: 0.29468748056226307\n",
      "1m 12s\n",
      "Early Stopping Counter = 2\n",
      "Epoch 57/300\n"
     ]
    },
    {
     "name": "stderr",
     "output_type": "stream",
     "text": [
      "100%|██████████| 155/155 [00:46<00:00,  3.36it/s]\n",
      "100%|██████████| 67/67 [00:20<00:00,  3.23it/s]\n",
      "100%|██████████| 18/18 [00:05<00:00,  3.34it/s]\n"
     ]
    },
    {
     "name": "stdout",
     "output_type": "stream",
     "text": [
      "Train loss: 0.17980956396748943\n",
      "Train consistency loss: 0.010806066679087147\n",
      "Validation loss: 0.33131874518262017\n",
      "1m 12s\n",
      "Early Stopping Counter = 3\n",
      "Epoch 58/300\n"
     ]
    },
    {
     "name": "stderr",
     "output_type": "stream",
     "text": [
      "100%|██████████| 155/155 [00:46<00:00,  3.36it/s]\n",
      "100%|██████████| 67/67 [00:20<00:00,  3.23it/s]\n",
      "100%|██████████| 18/18 [00:05<00:00,  3.31it/s]\n"
     ]
    },
    {
     "name": "stdout",
     "output_type": "stream",
     "text": [
      "Train loss: 0.17820193488751687\n",
      "Train consistency loss: 0.012418767826548263\n",
      "Validation loss: 0.3555947401457363\n",
      "1m 12s\n",
      "Early Stopping Counter = 4\n",
      "Epoch 59/300\n"
     ]
    },
    {
     "name": "stderr",
     "output_type": "stream",
     "text": [
      "100%|██████████| 155/155 [00:46<00:00,  3.35it/s]\n",
      "100%|██████████| 67/67 [00:20<00:00,  3.23it/s]\n",
      "100%|██████████| 18/18 [00:05<00:00,  3.35it/s]\n"
     ]
    },
    {
     "name": "stdout",
     "output_type": "stream",
     "text": [
      "Train loss: 0.1819399586608333\n",
      "Train consistency loss: 0.010148123261143468\n",
      "Validation loss: 0.3117213389939732\n",
      "1m 12s\n",
      "Consistency Loss declined to 0.010148123261143468\n",
      "Early Stopping Counter = 0\n",
      "Epoch 60/300\n"
     ]
    },
    {
     "name": "stderr",
     "output_type": "stream",
     "text": [
      "100%|██████████| 155/155 [00:46<00:00,  3.33it/s]\n",
      "100%|██████████| 67/67 [00:20<00:00,  3.24it/s]\n",
      "100%|██████████| 18/18 [00:05<00:00,  3.27it/s]\n"
     ]
    },
    {
     "name": "stdout",
     "output_type": "stream",
     "text": [
      "Train loss: 0.17859713906242\n",
      "Train consistency loss: 0.010416858468149135\n",
      "Validation loss: 0.29471611148781246\n",
      "1m 13s\n",
      "Early Stopping Counter = 1\n",
      "Epoch 61/300\n"
     ]
    },
    {
     "name": "stderr",
     "output_type": "stream",
     "text": [
      "100%|██████████| 155/155 [00:46<00:00,  3.35it/s]\n",
      "100%|██████████| 67/67 [00:20<00:00,  3.20it/s]\n",
      "100%|██████████| 18/18 [00:05<00:00,  3.28it/s]\n"
     ]
    },
    {
     "name": "stdout",
     "output_type": "stream",
     "text": [
      "Train loss: 0.1778252330518538\n",
      "Train consistency loss: 0.01045652648517445\n",
      "Validation loss: 0.28896093202961814\n",
      "1m 13s\n",
      "Early Stopping Counter = 2\n",
      "Epoch 62/300\n"
     ]
    },
    {
     "name": "stderr",
     "output_type": "stream",
     "text": [
      "100%|██████████| 155/155 [00:46<00:00,  3.35it/s]\n",
      "100%|██████████| 67/67 [00:20<00:00,  3.23it/s]\n",
      "100%|██████████| 18/18 [00:05<00:00,  3.25it/s]\n"
     ]
    },
    {
     "name": "stdout",
     "output_type": "stream",
     "text": [
      "Train loss: 0.1764015522695357\n",
      "Train consistency loss: 0.01141998989841164\n",
      "Validation loss: 0.3012884755929311\n",
      "1m 13s\n",
      "Early Stopping Counter = 3\n",
      "Epoch 63/300\n"
     ]
    },
    {
     "name": "stderr",
     "output_type": "stream",
     "text": [
      "100%|██████████| 155/155 [00:46<00:00,  3.37it/s]\n",
      "100%|██████████| 67/67 [00:20<00:00,  3.20it/s]\n",
      "100%|██████████| 18/18 [00:05<00:00,  3.30it/s]\n"
     ]
    },
    {
     "name": "stdout",
     "output_type": "stream",
     "text": [
      "Train loss: 0.1762898228822216\n",
      "Train consistency loss: 0.01092268334729458\n",
      "Validation loss: 0.3032599368857013\n",
      "1m 12s\n",
      "Early Stopping Counter = 4\n",
      "Epoch 64/300\n"
     ]
    },
    {
     "name": "stderr",
     "output_type": "stream",
     "text": [
      "100%|██████████| 155/155 [00:46<00:00,  3.36it/s]\n",
      "100%|██████████| 67/67 [00:20<00:00,  3.19it/s]\n",
      "100%|██████████| 18/18 [00:05<00:00,  3.27it/s]\n"
     ]
    },
    {
     "name": "stdout",
     "output_type": "stream",
     "text": [
      "Train loss: 0.1781358758288045\n",
      "Train consistency loss: 0.01007501154776607\n",
      "Validation loss: 0.320229296055105\n",
      "1m 13s\n",
      "Consistency Loss declined to 0.01007501154776607\n",
      "Early Stopping Counter = 0\n",
      "Epoch 65/300\n"
     ]
    },
    {
     "name": "stderr",
     "output_type": "stream",
     "text": [
      "100%|██████████| 155/155 [00:46<00:00,  3.35it/s]\n",
      "100%|██████████| 67/67 [00:21<00:00,  3.13it/s]\n",
      "100%|██████████| 18/18 [00:05<00:00,  3.27it/s]\n"
     ]
    },
    {
     "name": "stdout",
     "output_type": "stream",
     "text": [
      "Train loss: 0.17747365140145824\n",
      "Train consistency loss: 0.011375082218880528\n",
      "Validation loss: 0.33648577084143955\n",
      "1m 13s\n",
      "Early Stopping Counter = 1\n",
      "Epoch 66/300\n"
     ]
    },
    {
     "name": "stderr",
     "output_type": "stream",
     "text": [
      "100%|██████████| 155/155 [00:46<00:00,  3.34it/s]\n",
      "100%|██████████| 67/67 [00:20<00:00,  3.21it/s]\n",
      "100%|██████████| 18/18 [00:05<00:00,  3.27it/s]\n"
     ]
    },
    {
     "name": "stdout",
     "output_type": "stream",
     "text": [
      "Train loss: 0.1769134529175297\n",
      "Train consistency loss: 0.00847881561868004\n",
      "Validation loss: 0.31407125211424297\n",
      "1m 13s\n",
      "Consistency Loss declined to 0.00847881561868004\n",
      "Early Stopping Counter = 0\n",
      "Epoch 67/300\n"
     ]
    },
    {
     "name": "stderr",
     "output_type": "stream",
     "text": [
      "100%|██████████| 155/155 [00:46<00:00,  3.35it/s]\n",
      "100%|██████████| 67/67 [00:20<00:00,  3.21it/s]\n",
      "100%|██████████| 18/18 [00:05<00:00,  3.24it/s]\n"
     ]
    },
    {
     "name": "stdout",
     "output_type": "stream",
     "text": [
      "Train loss: 0.1756539770672398\n",
      "Train consistency loss: 0.010533723590978936\n",
      "Validation loss: 0.3135615587234497\n",
      "1m 13s\n",
      "Early Stopping Counter = 1\n",
      "Epoch 68/300\n"
     ]
    },
    {
     "name": "stderr",
     "output_type": "stream",
     "text": [
      "100%|██████████| 155/155 [00:46<00:00,  3.35it/s]\n",
      "100%|██████████| 67/67 [00:21<00:00,  3.17it/s]\n",
      "100%|██████████| 18/18 [00:05<00:00,  3.38it/s]\n"
     ]
    },
    {
     "name": "stdout",
     "output_type": "stream",
     "text": [
      "Train loss: 0.1745618265482687\n",
      "Train consistency loss: 0.008933603760105237\n",
      "Validation loss: 0.3232974476284451\n",
      "1m 13s\n",
      "Early Stopping Counter = 2\n",
      "Epoch 69/300\n"
     ]
    },
    {
     "name": "stderr",
     "output_type": "stream",
     "text": [
      "100%|██████████| 155/155 [00:46<00:00,  3.36it/s]\n",
      "100%|██████████| 67/67 [00:20<00:00,  3.20it/s]\n",
      "100%|██████████| 18/18 [00:05<00:00,  3.28it/s]\n"
     ]
    },
    {
     "name": "stdout",
     "output_type": "stream",
     "text": [
      "Train loss: 0.17598585967094668\n",
      "Train consistency loss: 0.00940229793065297\n",
      "Validation loss: 0.2948896835247676\n",
      "1m 13s\n",
      "Early Stopping Counter = 3\n",
      "Epoch 70/300\n"
     ]
    },
    {
     "name": "stderr",
     "output_type": "stream",
     "text": [
      "100%|██████████| 155/155 [00:46<00:00,  3.35it/s]\n",
      "100%|██████████| 67/67 [00:20<00:00,  3.20it/s]\n",
      "100%|██████████| 18/18 [00:05<00:00,  3.29it/s]\n"
     ]
    },
    {
     "name": "stdout",
     "output_type": "stream",
     "text": [
      "Train loss: 0.17437898583950534\n",
      "Train consistency loss: 0.008716158304752699\n",
      "Validation loss: 0.28883009238375557\n",
      "1m 13s\n",
      "Early Stopping Counter = 4\n",
      "Epoch 71/300\n"
     ]
    },
    {
     "name": "stderr",
     "output_type": "stream",
     "text": [
      "100%|██████████| 155/155 [00:47<00:00,  3.29it/s]\n",
      "100%|██████████| 67/67 [00:20<00:00,  3.24it/s]\n",
      "100%|██████████| 18/18 [00:05<00:00,  3.32it/s]\n"
     ]
    },
    {
     "name": "stdout",
     "output_type": "stream",
     "text": [
      "Train loss: 0.17270059095275017\n",
      "Train consistency loss: 0.013267626117136496\n",
      "Validation loss: 0.3020109898514218\n",
      "1m 13s\n",
      "Early Stopping Counter = 5\n",
      "Epoch 72/300\n"
     ]
    },
    {
     "name": "stderr",
     "output_type": "stream",
     "text": [
      "100%|██████████| 155/155 [00:46<00:00,  3.34it/s]\n",
      "100%|██████████| 67/67 [00:20<00:00,  3.20it/s]\n",
      "100%|██████████| 18/18 [00:05<00:00,  3.33it/s]\n"
     ]
    },
    {
     "name": "stdout",
     "output_type": "stream",
     "text": [
      "Train loss: 0.17524117500551284\n",
      "Train consistency loss: 0.008762202531432927\n",
      "Validation loss: 0.3095484616027938\n",
      "1m 13s\n",
      "Early Stopping Counter = 6\n",
      "Epoch 73/300\n"
     ]
    },
    {
     "name": "stderr",
     "output_type": "stream",
     "text": [
      "100%|██████████| 155/155 [00:46<00:00,  3.36it/s]\n",
      "100%|██████████| 67/67 [00:21<00:00,  3.17it/s]\n",
      "100%|██████████| 18/18 [00:05<00:00,  3.23it/s]\n"
     ]
    },
    {
     "name": "stdout",
     "output_type": "stream",
     "text": [
      "Train loss: 0.17260076740095692\n",
      "Train consistency loss: 0.010469832353349497\n",
      "Validation loss: 0.3014126569032669\n",
      "1m 13s\n",
      "Early Stopping Counter = 7\n",
      "Epoch 74/300\n"
     ]
    },
    {
     "name": "stderr",
     "output_type": "stream",
     "text": [
      "100%|██████████| 155/155 [00:46<00:00,  3.34it/s]\n",
      "100%|██████████| 67/67 [00:21<00:00,  3.18it/s]\n",
      "100%|██████████| 18/18 [00:05<00:00,  3.32it/s]\n"
     ]
    },
    {
     "name": "stdout",
     "output_type": "stream",
     "text": [
      "Train loss: 0.17175202090894023\n",
      "Train consistency loss: 0.008091712318388606\n",
      "Validation loss: 0.28438134636316037\n",
      "1m 13s\n",
      "Consistency Loss declined to 0.008091712318388606\n",
      "Early Stopping Counter = 0\n",
      "Epoch 75/300\n"
     ]
    },
    {
     "name": "stderr",
     "output_type": "stream",
     "text": [
      "100%|██████████| 155/155 [00:46<00:00,  3.33it/s]\n",
      "100%|██████████| 67/67 [00:21<00:00,  3.19it/s]\n",
      "100%|██████████| 18/18 [00:05<00:00,  3.27it/s]\n"
     ]
    },
    {
     "name": "stdout",
     "output_type": "stream",
     "text": [
      "Train loss: 0.1715763044934119\n",
      "Train consistency loss: 0.0074106066300075\n",
      "Validation loss: 0.28702310886647964\n",
      "1m 13s\n",
      "Consistency Loss declined to 0.0074106066300075\n",
      "Early Stopping Counter = 0\n",
      "Epoch 76/300\n"
     ]
    },
    {
     "name": "stderr",
     "output_type": "stream",
     "text": [
      "100%|██████████| 155/155 [00:46<00:00,  3.33it/s]\n",
      "100%|██████████| 67/67 [00:21<00:00,  3.18it/s]\n",
      "100%|██████████| 18/18 [00:05<00:00,  3.33it/s]\n"
     ]
    },
    {
     "name": "stdout",
     "output_type": "stream",
     "text": [
      "Train loss: 0.16996484264250725\n",
      "Train consistency loss: 0.011001998635092334\n",
      "Validation loss: 0.32825945648882127\n",
      "1m 13s\n",
      "Early Stopping Counter = 1\n",
      "Epoch 77/300\n"
     ]
    },
    {
     "name": "stderr",
     "output_type": "stream",
     "text": [
      "100%|██████████| 155/155 [00:46<00:00,  3.36it/s]\n",
      "100%|██████████| 67/67 [00:21<00:00,  3.19it/s]\n",
      "100%|██████████| 18/18 [00:05<00:00,  3.27it/s]\n"
     ]
    },
    {
     "name": "stdout",
     "output_type": "stream",
     "text": [
      "Train loss: 0.17506668558043817\n",
      "Train consistency loss: 0.010318088188850836\n",
      "Validation loss: 0.3121819570660591\n",
      "1m 13s\n",
      "Early Stopping Counter = 2\n",
      "Epoch 78/300\n"
     ]
    },
    {
     "name": "stderr",
     "output_type": "stream",
     "text": [
      "100%|██████████| 155/155 [00:46<00:00,  3.35it/s]\n",
      "100%|██████████| 67/67 [00:20<00:00,  3.20it/s]\n",
      "100%|██████████| 18/18 [00:05<00:00,  3.17it/s]\n"
     ]
    },
    {
     "name": "stdout",
     "output_type": "stream",
     "text": [
      "Train loss: 0.1708204641457527\n",
      "Train consistency loss: 0.007537228350680488\n",
      "Validation loss: 0.30335619300603867\n",
      "1m 13s\n",
      "Early Stopping Counter = 3\n",
      "Epoch 79/300\n"
     ]
    },
    {
     "name": "stderr",
     "output_type": "stream",
     "text": [
      "100%|██████████| 155/155 [00:46<00:00,  3.32it/s]\n",
      "100%|██████████| 67/67 [00:21<00:00,  3.17it/s]\n",
      "100%|██████████| 18/18 [00:05<00:00,  3.25it/s]\n"
     ]
    },
    {
     "name": "stdout",
     "output_type": "stream",
     "text": [
      "Train loss: 0.169290435410315\n",
      "Train consistency loss: 0.008854512604815302\n",
      "Validation loss: 0.3229720965027809\n",
      "1m 13s\n",
      "Early Stopping Counter = 4\n",
      "Epoch 80/300\n"
     ]
    },
    {
     "name": "stderr",
     "output_type": "stream",
     "text": [
      "100%|██████████| 155/155 [00:46<00:00,  3.32it/s]\n",
      "100%|██████████| 67/67 [00:20<00:00,  3.22it/s]\n",
      "100%|██████████| 18/18 [00:05<00:00,  3.31it/s]\n"
     ]
    },
    {
     "name": "stdout",
     "output_type": "stream",
     "text": [
      "Train loss: 0.16965223944956256\n",
      "Train consistency loss: 0.008673155850577933\n",
      "Validation loss: 0.33101935933033627\n",
      "1m 13s\n",
      "Early Stopping Counter = 5\n",
      "Epoch 81/300\n"
     ]
    },
    {
     "name": "stderr",
     "output_type": "stream",
     "text": [
      "100%|██████████| 155/155 [00:46<00:00,  3.34it/s]\n",
      "100%|██████████| 67/67 [00:21<00:00,  3.16it/s]\n",
      "100%|██████████| 18/18 [00:05<00:00,  3.21it/s]\n"
     ]
    },
    {
     "name": "stdout",
     "output_type": "stream",
     "text": [
      "Train loss: 0.16942999237968076\n",
      "Train consistency loss: 0.00772951170454608\n",
      "Validation loss: 0.3062758934166696\n",
      "1m 13s\n",
      "Early Stopping Counter = 6\n",
      "Epoch 82/300\n"
     ]
    },
    {
     "name": "stderr",
     "output_type": "stream",
     "text": [
      "100%|██████████| 155/155 [00:46<00:00,  3.32it/s]\n",
      "100%|██████████| 67/67 [00:20<00:00,  3.21it/s]\n",
      "100%|██████████| 18/18 [00:05<00:00,  3.27it/s]\n"
     ]
    },
    {
     "name": "stdout",
     "output_type": "stream",
     "text": [
      "Train loss: 0.1683181232021701\n",
      "Train consistency loss: 0.010779910675708704\n",
      "Validation loss: 0.3513016295101907\n",
      "1m 13s\n",
      "Early Stopping Counter = 7\n",
      "Epoch 83/300\n"
     ]
    },
    {
     "name": "stderr",
     "output_type": "stream",
     "text": [
      "100%|██████████| 155/155 [00:46<00:00,  3.35it/s]\n",
      "100%|██████████| 67/67 [00:21<00:00,  3.19it/s]\n",
      "100%|██████████| 18/18 [00:05<00:00,  3.32it/s]\n"
     ]
    },
    {
     "name": "stdout",
     "output_type": "stream",
     "text": [
      "Train loss: 0.17131580998820642\n",
      "Train consistency loss: 0.007882045825192733\n",
      "Validation loss: 0.30097294184896684\n",
      "1m 13s\n",
      "Early Stopping Counter = 8\n",
      "Epoch 84/300\n"
     ]
    },
    {
     "name": "stderr",
     "output_type": "stream",
     "text": [
      "100%|██████████| 155/155 [00:46<00:00,  3.35it/s]\n",
      "100%|██████████| 67/67 [00:20<00:00,  3.22it/s]\n",
      "100%|██████████| 18/18 [00:05<00:00,  3.25it/s]\n"
     ]
    },
    {
     "name": "stdout",
     "output_type": "stream",
     "text": [
      "Train loss: 0.16840961488985245\n",
      "Train consistency loss: 0.009659021418652873\n",
      "Validation loss: 0.28642451245751643\n",
      "1m 13s\n",
      "Early Stopping Counter = 9\n",
      "Epoch 85/300\n"
     ]
    },
    {
     "name": "stderr",
     "output_type": "stream",
     "text": [
      "100%|██████████| 155/155 [00:45<00:00,  3.37it/s]\n",
      "100%|██████████| 67/67 [00:20<00:00,  3.21it/s]\n",
      "100%|██████████| 18/18 [00:05<00:00,  3.29it/s]\n"
     ]
    },
    {
     "name": "stdout",
     "output_type": "stream",
     "text": [
      "Train loss: 0.16694260970238717\n",
      "Train consistency loss: 0.007613699438411798\n",
      "Validation loss: 0.28707583703928524\n",
      "1m 12s\n",
      "Early Stopping Counter = 10\n",
      "Epoch 86/300\n"
     ]
    },
    {
     "name": "stderr",
     "output_type": "stream",
     "text": [
      "100%|██████████| 155/155 [00:46<00:00,  3.36it/s]\n",
      "100%|██████████| 67/67 [00:20<00:00,  3.20it/s]\n",
      "100%|██████████| 18/18 [00:05<00:00,  3.36it/s]\n"
     ]
    },
    {
     "name": "stdout",
     "output_type": "stream",
     "text": [
      "Train loss: 0.16643736545116672\n",
      "Train consistency loss: 0.006398732235321581\n",
      "Validation loss: 0.2895895275804732\n",
      "1m 12s\n",
      "Consistency Loss declined to 0.006398732235321581\n",
      "Early Stopping Counter = 0\n",
      "Epoch 87/300\n"
     ]
    },
    {
     "name": "stderr",
     "output_type": "stream",
     "text": [
      "100%|██████████| 155/155 [00:46<00:00,  3.35it/s]\n",
      "100%|██████████| 67/67 [00:20<00:00,  3.19it/s]\n",
      "100%|██████████| 18/18 [00:05<00:00,  3.19it/s]\n"
     ]
    },
    {
     "name": "stdout",
     "output_type": "stream",
     "text": [
      "Train loss: 0.16572029177219638\n",
      "Train consistency loss: 0.006320817343918468\n",
      "Validation loss: 0.29323167188300026\n",
      "1m 13s\n",
      "Consistency Loss declined to 0.006320817343918468\n",
      "Early Stopping Counter = 0\n",
      "Epoch 88/300\n"
     ]
    },
    {
     "name": "stderr",
     "output_type": "stream",
     "text": [
      "100%|██████████| 155/155 [00:46<00:00,  3.34it/s]\n",
      "100%|██████████| 67/67 [00:20<00:00,  3.21it/s]\n",
      "100%|██████████| 18/18 [00:05<00:00,  3.37it/s]\n"
     ]
    },
    {
     "name": "stdout",
     "output_type": "stream",
     "text": [
      "Train loss: 0.1660252712426647\n",
      "Train consistency loss: 0.007859221086211836\n",
      "Validation loss: 0.3196828237010373\n",
      "1m 13s\n",
      "Early Stopping Counter = 1\n",
      "Epoch 89/300\n"
     ]
    },
    {
     "name": "stderr",
     "output_type": "stream",
     "text": [
      "100%|██████████| 155/155 [00:46<00:00,  3.34it/s]\n",
      "100%|██████████| 67/67 [00:20<00:00,  3.20it/s]\n",
      "100%|██████████| 18/18 [00:05<00:00,  3.27it/s]\n"
     ]
    },
    {
     "name": "stdout",
     "output_type": "stream",
     "text": [
      "Train loss: 0.16586684748049704\n",
      "Train consistency loss: 0.006502627176163134\n",
      "Validation loss: 0.34052353766229415\n",
      "1m 13s\n",
      "Early Stopping Counter = 2\n",
      "Epoch 90/300\n"
     ]
    },
    {
     "name": "stderr",
     "output_type": "stream",
     "text": [
      "100%|██████████| 155/155 [00:46<00:00,  3.36it/s]\n",
      "100%|██████████| 67/67 [00:20<00:00,  3.20it/s]\n",
      "100%|██████████| 18/18 [00:05<00:00,  3.29it/s]\n"
     ]
    },
    {
     "name": "stdout",
     "output_type": "stream",
     "text": [
      "Train loss: 0.16566893987117276\n",
      "Train consistency loss: 0.006115385074057241\n",
      "Validation loss: 0.31094692399104434\n",
      "1m 13s\n",
      "Consistency Loss declined to 0.006115385074057241\n",
      "Early Stopping Counter = 0\n",
      "Epoch 91/300\n"
     ]
    },
    {
     "name": "stderr",
     "output_type": "stream",
     "text": [
      "100%|██████████| 155/155 [00:46<00:00,  3.35it/s]\n",
      "100%|██████████| 67/67 [00:20<00:00,  3.24it/s]\n",
      "100%|██████████| 18/18 [00:05<00:00,  3.23it/s]\n"
     ]
    },
    {
     "name": "stdout",
     "output_type": "stream",
     "text": [
      "Train loss: 0.1646310337128178\n",
      "Train consistency loss: 0.006159444655806048\n",
      "Validation loss: 0.30614590727620655\n",
      "1m 12s\n",
      "Early Stopping Counter = 1\n",
      "Epoch 92/300\n"
     ]
    },
    {
     "name": "stderr",
     "output_type": "stream",
     "text": [
      "100%|██████████| 155/155 [00:46<00:00,  3.36it/s]\n",
      "100%|██████████| 67/67 [00:20<00:00,  3.23it/s]\n",
      "100%|██████████| 18/18 [00:05<00:00,  3.32it/s]\n"
     ]
    },
    {
     "name": "stdout",
     "output_type": "stream",
     "text": [
      "Train loss: 0.16402823415494736\n",
      "Train consistency loss: 0.006040157969179216\n",
      "Validation loss: 0.30101123534970814\n",
      "1m 12s\n",
      "Consistency Loss declined to 0.006040157969179216\n",
      "Early Stopping Counter = 0\n",
      "Epoch 93/300\n"
     ]
    },
    {
     "name": "stderr",
     "output_type": "stream",
     "text": [
      "100%|██████████| 155/155 [00:46<00:00,  3.34it/s]\n",
      "100%|██████████| 67/67 [00:20<00:00,  3.23it/s]\n",
      "100%|██████████| 18/18 [00:05<00:00,  3.33it/s]\n"
     ]
    },
    {
     "name": "stdout",
     "output_type": "stream",
     "text": [
      "Train loss: 0.16301812039267632\n",
      "Train consistency loss: 0.007398417775533093\n",
      "Validation loss: 0.31054415967729354\n",
      "1m 13s\n",
      "Early Stopping Counter = 1\n",
      "Epoch 94/300\n"
     ]
    },
    {
     "name": "stderr",
     "output_type": "stream",
     "text": [
      "100%|██████████| 155/155 [00:46<00:00,  3.37it/s]\n",
      "100%|██████████| 67/67 [00:20<00:00,  3.20it/s]\n",
      "100%|██████████| 18/18 [00:05<00:00,  3.30it/s]\n"
     ]
    },
    {
     "name": "stdout",
     "output_type": "stream",
     "text": [
      "Train loss: 0.16407989090488803\n",
      "Train consistency loss: 0.0060375504014985775\n",
      "Validation loss: 0.29885921503106755\n",
      "1m 12s\n",
      "Consistency Loss declined to 0.0060375504014985775\n",
      "Early Stopping Counter = 0\n",
      "Epoch 95/300\n"
     ]
    },
    {
     "name": "stderr",
     "output_type": "stream",
     "text": [
      "100%|██████████| 155/155 [00:46<00:00,  3.35it/s]\n",
      "100%|██████████| 67/67 [00:20<00:00,  3.22it/s]\n",
      "100%|██████████| 18/18 [00:05<00:00,  3.38it/s]\n"
     ]
    },
    {
     "name": "stdout",
     "output_type": "stream",
     "text": [
      "Train loss: 0.1624627710350098\n",
      "Train consistency loss: 0.006249070389946895\n",
      "Validation loss: 0.3138659753733211\n",
      "1m 12s\n",
      "Early Stopping Counter = 1\n",
      "Epoch 96/300\n"
     ]
    },
    {
     "name": "stderr",
     "output_type": "stream",
     "text": [
      "100%|██████████| 155/155 [00:46<00:00,  3.36it/s]\n",
      "100%|██████████| 67/67 [00:20<00:00,  3.20it/s]\n",
      "100%|██████████| 18/18 [00:05<00:00,  3.38it/s]\n"
     ]
    },
    {
     "name": "stdout",
     "output_type": "stream",
     "text": [
      "Train loss: 0.16172404741087268\n",
      "Train consistency loss: 0.005475926101763747\n",
      "Validation loss: 0.30164731128348243\n",
      "1m 12s\n",
      "Consistency Loss declined to 0.005475926101763747\n",
      "Early Stopping Counter = 0\n",
      "Epoch 97/300\n"
     ]
    },
    {
     "name": "stderr",
     "output_type": "stream",
     "text": [
      "100%|██████████| 155/155 [00:46<00:00,  3.36it/s]\n",
      "100%|██████████| 67/67 [00:20<00:00,  3.24it/s]\n",
      "100%|██████████| 18/18 [00:05<00:00,  3.32it/s]\n"
     ]
    },
    {
     "name": "stdout",
     "output_type": "stream",
     "text": [
      "Train loss: 0.16200725532347157\n",
      "Train consistency loss: 0.005995458933705492\n",
      "Validation loss: 0.3127679257757134\n",
      "1m 12s\n",
      "Early Stopping Counter = 1\n",
      "Epoch 98/300\n"
     ]
    },
    {
     "name": "stderr",
     "output_type": "stream",
     "text": [
      "100%|██████████| 155/155 [00:46<00:00,  3.36it/s]\n",
      "100%|██████████| 67/67 [00:20<00:00,  3.24it/s]\n",
      "100%|██████████| 18/18 [00:05<00:00,  3.41it/s]\n"
     ]
    },
    {
     "name": "stdout",
     "output_type": "stream",
     "text": [
      "Train loss: 0.16174518773632665\n",
      "Train consistency loss: 0.006588698281392233\n",
      "Validation loss: 0.33735376430882347\n",
      "1m 12s\n",
      "Early Stopping Counter = 2\n",
      "Epoch 99/300\n"
     ]
    },
    {
     "name": "stderr",
     "output_type": "stream",
     "text": [
      "100%|██████████| 155/155 [00:45<00:00,  3.37it/s]\n",
      "100%|██████████| 67/67 [00:20<00:00,  3.24it/s]\n",
      "100%|██████████| 18/18 [00:05<00:00,  3.29it/s]\n"
     ]
    },
    {
     "name": "stdout",
     "output_type": "stream",
     "text": [
      "Train loss: 0.1621206400855895\n",
      "Train consistency loss: 0.005863738037757019\n",
      "Validation loss: 0.29524244409468436\n",
      "1m 12s\n",
      "Early Stopping Counter = 3\n",
      "Epoch 100/300\n"
     ]
    },
    {
     "name": "stderr",
     "output_type": "stream",
     "text": [
      "100%|██████████| 155/155 [00:46<00:00,  3.36it/s]\n",
      "100%|██████████| 67/67 [00:20<00:00,  3.24it/s]\n",
      "100%|██████████| 18/18 [00:05<00:00,  3.25it/s]\n"
     ]
    },
    {
     "name": "stdout",
     "output_type": "stream",
     "text": [
      "Train loss: 0.160005148668443\n",
      "Train consistency loss: 0.0052529482723477836\n",
      "Validation loss: 0.2979295866356956\n",
      "1m 12s\n",
      "Consistency Loss declined to 0.0052529482723477836\n",
      "Early Stopping Counter = 0\n",
      "Epoch 101/300\n"
     ]
    },
    {
     "name": "stderr",
     "output_type": "stream",
     "text": [
      "100%|██████████| 155/155 [00:46<00:00,  3.33it/s]\n",
      "100%|██████████| 67/67 [00:20<00:00,  3.23it/s]\n",
      "100%|██████████| 18/18 [00:05<00:00,  3.24it/s]\n"
     ]
    },
    {
     "name": "stdout",
     "output_type": "stream",
     "text": [
      "Train loss: 0.16209485550080577\n",
      "Train consistency loss: 0.00509444702027449\n",
      "Validation loss: 0.30997296919425327\n",
      "1m 13s\n",
      "Consistency Loss declined to 0.00509444702027449\n",
      "Early Stopping Counter = 0\n",
      "Epoch 102/300\n"
     ]
    },
    {
     "name": "stderr",
     "output_type": "stream",
     "text": [
      "100%|██████████| 155/155 [00:46<00:00,  3.35it/s]\n",
      "100%|██████████| 67/67 [00:20<00:00,  3.22it/s]\n",
      "100%|██████████| 18/18 [00:05<00:00,  3.39it/s]\n"
     ]
    },
    {
     "name": "stdout",
     "output_type": "stream",
     "text": [
      "Train loss: 0.15957929597746942\n",
      "Train consistency loss: 0.006051530415164446\n",
      "Validation loss: 0.293169020778603\n",
      "1m 12s\n",
      "Early Stopping Counter = 1\n",
      "Epoch 103/300\n"
     ]
    },
    {
     "name": "stderr",
     "output_type": "stream",
     "text": [
      "100%|██████████| 155/155 [00:46<00:00,  3.36it/s]\n",
      "100%|██████████| 67/67 [00:21<00:00,  3.18it/s]\n",
      "100%|██████████| 18/18 [00:05<00:00,  3.35it/s]\n"
     ]
    },
    {
     "name": "stdout",
     "output_type": "stream",
     "text": [
      "Train loss: 0.15945414737347632\n",
      "Train consistency loss: 0.005768676298851175\n",
      "Validation loss: 0.2876294155915578\n",
      "1m 13s\n",
      "Early Stopping Counter = 2\n",
      "Epoch 104/300\n"
     ]
    },
    {
     "name": "stderr",
     "output_type": "stream",
     "text": [
      "100%|██████████| 155/155 [00:46<00:00,  3.35it/s]\n",
      "100%|██████████| 67/67 [00:20<00:00,  3.23it/s]\n",
      "100%|██████████| 18/18 [00:05<00:00,  3.29it/s]\n"
     ]
    },
    {
     "name": "stdout",
     "output_type": "stream",
     "text": [
      "Train loss: 0.15722081584315145\n",
      "Train consistency loss: 0.005382246991146857\n",
      "Validation loss: 0.32226474665933186\n",
      "1m 13s\n",
      "Early Stopping Counter = 3\n",
      "Epoch 105/300\n"
     ]
    },
    {
     "name": "stderr",
     "output_type": "stream",
     "text": [
      "100%|██████████| 155/155 [00:46<00:00,  3.32it/s]\n",
      "100%|██████████| 67/67 [00:20<00:00,  3.20it/s]\n",
      "100%|██████████| 18/18 [00:05<00:00,  3.33it/s]\n"
     ]
    },
    {
     "name": "stdout",
     "output_type": "stream",
     "text": [
      "Train loss: 0.15896773963205277\n",
      "Train consistency loss: 0.004871889934944573\n",
      "Validation loss: 0.2911495218674342\n",
      "1m 13s\n",
      "Consistency Loss declined to 0.004871889934944573\n",
      "Early Stopping Counter = 0\n",
      "Epoch 106/300\n"
     ]
    },
    {
     "name": "stderr",
     "output_type": "stream",
     "text": [
      "100%|██████████| 155/155 [00:46<00:00,  3.35it/s]\n",
      "100%|██████████| 67/67 [00:21<00:00,  3.18it/s]\n",
      "100%|██████████| 18/18 [00:05<00:00,  3.32it/s]\n"
     ]
    },
    {
     "name": "stdout",
     "output_type": "stream",
     "text": [
      "Train loss: 0.15660006783662303\n",
      "Train consistency loss: 0.0045716275544420105\n",
      "Validation loss: 0.30966390503777397\n",
      "1m 13s\n",
      "Consistency Loss declined to 0.0045716275544420105\n",
      "Early Stopping Counter = 0\n",
      "Epoch 107/300\n"
     ]
    },
    {
     "name": "stderr",
     "output_type": "stream",
     "text": [
      "100%|██████████| 155/155 [00:46<00:00,  3.34it/s]\n",
      "100%|██████████| 67/67 [00:20<00:00,  3.20it/s]\n",
      "100%|██████████| 18/18 [00:05<00:00,  3.28it/s]\n"
     ]
    },
    {
     "name": "stdout",
     "output_type": "stream",
     "text": [
      "Train loss: 0.15906323925141366\n",
      "Train consistency loss: 0.004808074422875669\n",
      "Validation loss: 0.29960718833737904\n",
      "1m 13s\n",
      "Early Stopping Counter = 1\n",
      "Epoch 108/300\n"
     ]
    },
    {
     "name": "stderr",
     "output_type": "stream",
     "text": [
      "100%|██████████| 155/155 [00:46<00:00,  3.34it/s]\n",
      "100%|██████████| 67/67 [00:20<00:00,  3.20it/s]\n",
      "100%|██████████| 18/18 [00:05<00:00,  3.26it/s]\n"
     ]
    },
    {
     "name": "stdout",
     "output_type": "stream",
     "text": [
      "Train loss: 0.15604802422946498\n",
      "Train consistency loss: 0.005017965067692323\n",
      "Validation loss: 0.3042006277375751\n",
      "1m 13s\n",
      "Early Stopping Counter = 2\n",
      "Epoch 109/300\n"
     ]
    },
    {
     "name": "stderr",
     "output_type": "stream",
     "text": [
      "100%|██████████| 155/155 [00:46<00:00,  3.35it/s]\n",
      "100%|██████████| 67/67 [00:20<00:00,  3.22it/s]\n",
      "100%|██████████| 18/18 [00:05<00:00,  3.30it/s]\n"
     ]
    },
    {
     "name": "stdout",
     "output_type": "stream",
     "text": [
      "Train loss: 0.15637097127975957\n",
      "Train consistency loss: 0.004695542837812829\n",
      "Validation loss: 0.3131759613752365\n",
      "1m 13s\n",
      "Early Stopping Counter = 3\n",
      "Epoch 110/300\n"
     ]
    },
    {
     "name": "stderr",
     "output_type": "stream",
     "text": [
      "100%|██████████| 155/155 [00:46<00:00,  3.32it/s]\n",
      "100%|██████████| 67/67 [00:21<00:00,  3.18it/s]\n",
      "100%|██████████| 18/18 [00:05<00:00,  3.29it/s]\n"
     ]
    },
    {
     "name": "stdout",
     "output_type": "stream",
     "text": [
      "Train loss: 0.15511258215673507\n",
      "Train consistency loss: 0.005125759610795041\n",
      "Validation loss: 0.3114430287645923\n",
      "1m 13s\n",
      "Early Stopping Counter = 4\n",
      "Epoch 111/300\n"
     ]
    },
    {
     "name": "stderr",
     "output_type": "stream",
     "text": [
      "100%|██████████| 155/155 [00:46<00:00,  3.34it/s]\n",
      "100%|██████████| 67/67 [00:21<00:00,  3.18it/s]\n",
      "100%|██████████| 18/18 [00:05<00:00,  3.30it/s]\n"
     ]
    },
    {
     "name": "stdout",
     "output_type": "stream",
     "text": [
      "Train loss: 0.15530958117977264\n",
      "Train consistency loss: 0.007838431881295878\n",
      "Validation loss: 0.3330535714824994\n",
      "1m 13s\n",
      "Early Stopping Counter = 5\n",
      "Epoch 112/300\n"
     ]
    },
    {
     "name": "stderr",
     "output_type": "stream",
     "text": [
      "100%|██████████| 155/155 [00:46<00:00,  3.34it/s]\n",
      "100%|██████████| 67/67 [00:20<00:00,  3.20it/s]\n",
      "100%|██████████| 18/18 [00:05<00:00,  3.35it/s]\n"
     ]
    },
    {
     "name": "stdout",
     "output_type": "stream",
     "text": [
      "Train loss: 0.16180244035297825\n",
      "Train consistency loss: 0.006506627088468244\n",
      "Validation loss: 0.29533210810687804\n",
      "1m 13s\n",
      "Early Stopping Counter = 6\n",
      "Epoch 113/300\n"
     ]
    },
    {
     "name": "stderr",
     "output_type": "stream",
     "text": [
      "100%|██████████| 155/155 [00:46<00:00,  3.33it/s]\n",
      "100%|██████████| 67/67 [00:20<00:00,  3.20it/s]\n",
      "100%|██████████| 18/18 [00:05<00:00,  3.41it/s]\n"
     ]
    },
    {
     "name": "stdout",
     "output_type": "stream",
     "text": [
      "Train loss: 0.15593090807237933\n",
      "Train consistency loss: 0.007100670994606925\n",
      "Validation loss: 0.33085057387749356\n",
      "1m 13s\n",
      "Early Stopping Counter = 7\n",
      "Epoch 114/300\n"
     ]
    },
    {
     "name": "stderr",
     "output_type": "stream",
     "text": [
      "100%|██████████| 155/155 [00:46<00:00,  3.33it/s]\n",
      "100%|██████████| 67/67 [00:21<00:00,  3.17it/s]\n",
      "100%|██████████| 18/18 [00:05<00:00,  3.35it/s]\n"
     ]
    },
    {
     "name": "stdout",
     "output_type": "stream",
     "text": [
      "Train loss: 0.1544156386006263\n",
      "Train consistency loss: 0.005472019041971818\n",
      "Validation loss: 0.30346217565238476\n",
      "1m 13s\n",
      "Early Stopping Counter = 8\n",
      "Epoch 115/300\n"
     ]
    },
    {
     "name": "stderr",
     "output_type": "stream",
     "text": [
      "100%|██████████| 155/155 [00:46<00:00,  3.32it/s]\n",
      "100%|██████████| 67/67 [00:21<00:00,  3.18it/s]\n",
      "100%|██████████| 18/18 [00:05<00:00,  3.32it/s]\n"
     ]
    },
    {
     "name": "stdout",
     "output_type": "stream",
     "text": [
      "Train loss: 0.15361377721832645\n",
      "Train consistency loss: 0.004384890257784013\n",
      "Validation loss: 0.2972952326138814\n",
      "1m 13s\n",
      "Consistency Loss declined to 0.004384890257784013\n",
      "Early Stopping Counter = 0\n",
      "Epoch 116/300\n"
     ]
    },
    {
     "name": "stderr",
     "output_type": "stream",
     "text": [
      "100%|██████████| 155/155 [00:46<00:00,  3.32it/s]\n",
      "100%|██████████| 67/67 [00:20<00:00,  3.19it/s]\n",
      "100%|██████████| 18/18 [00:05<00:00,  3.35it/s]\n"
     ]
    },
    {
     "name": "stdout",
     "output_type": "stream",
     "text": [
      "Train loss: 0.15327278471762135\n",
      "Train consistency loss: 0.0046404331449919674\n",
      "Validation loss: 0.2886356438199679\n",
      "1m 13s\n",
      "Early Stopping Counter = 1\n",
      "Epoch 117/300\n"
     ]
    },
    {
     "name": "stderr",
     "output_type": "stream",
     "text": [
      "100%|██████████| 155/155 [00:46<00:00,  3.31it/s]\n",
      "100%|██████████| 67/67 [00:21<00:00,  3.16it/s]\n",
      "100%|██████████| 18/18 [00:05<00:00,  3.34it/s]\n"
     ]
    },
    {
     "name": "stdout",
     "output_type": "stream",
     "text": [
      "Train loss: 0.1525627300143242\n",
      "Train consistency loss: 0.005761904930417884\n",
      "Validation loss: 0.3072533268067572\n",
      "1m 13s\n",
      "Early Stopping Counter = 2\n",
      "Epoch 118/300\n"
     ]
    },
    {
     "name": "stderr",
     "output_type": "stream",
     "text": [
      "100%|██████████| 155/155 [00:46<00:00,  3.31it/s]\n",
      "100%|██████████| 67/67 [00:21<00:00,  3.17it/s]\n",
      "100%|██████████| 18/18 [00:05<00:00,  3.33it/s]\n"
     ]
    },
    {
     "name": "stdout",
     "output_type": "stream",
     "text": [
      "Train loss: 0.15319928757606013\n",
      "Train consistency loss: 0.004933939412681025\n",
      "Validation loss: 0.3124973566995727\n",
      "1m 13s\n",
      "Early Stopping Counter = 3\n",
      "Epoch 119/300\n"
     ]
    },
    {
     "name": "stderr",
     "output_type": "stream",
     "text": [
      "100%|██████████| 155/155 [00:46<00:00,  3.32it/s]\n",
      "100%|██████████| 67/67 [00:21<00:00,  3.16it/s]\n",
      "100%|██████████| 18/18 [00:05<00:00,  3.37it/s]\n"
     ]
    },
    {
     "name": "stdout",
     "output_type": "stream",
     "text": [
      "Train loss: 0.15125512620133738\n",
      "Train consistency loss: 0.004781381510295418\n",
      "Validation loss: 0.291772516651286\n",
      "1m 13s\n",
      "Early Stopping Counter = 4\n",
      "Epoch 120/300\n"
     ]
    },
    {
     "name": "stderr",
     "output_type": "stream",
     "text": [
      "100%|██████████| 155/155 [00:46<00:00,  3.33it/s]\n",
      "100%|██████████| 67/67 [00:21<00:00,  3.19it/s]\n",
      "100%|██████████| 18/18 [00:05<00:00,  3.23it/s]\n"
     ]
    },
    {
     "name": "stdout",
     "output_type": "stream",
     "text": [
      "Train loss: 0.15169673124628683\n",
      "Train consistency loss: 0.004209299834181012\n",
      "Validation loss: 0.3121975031163957\n",
      "1m 13s\n",
      "Consistency Loss declined to 0.004209299834181012\n",
      "Early Stopping Counter = 0\n",
      "Epoch 121/300\n"
     ]
    },
    {
     "name": "stderr",
     "output_type": "stream",
     "text": [
      "100%|██████████| 155/155 [00:46<00:00,  3.33it/s]\n",
      "100%|██████████| 67/67 [00:21<00:00,  3.18it/s]\n",
      "100%|██████████| 18/18 [00:05<00:00,  3.25it/s]\n"
     ]
    },
    {
     "name": "stdout",
     "output_type": "stream",
     "text": [
      "Train loss: 0.1510373380395674\n",
      "Train consistency loss: 0.0038001257509215555\n",
      "Validation loss: 0.28678323535455597\n",
      "1m 13s\n",
      "Consistency Loss declined to 0.0038001257509215555\n",
      "Early Stopping Counter = 0\n",
      "Epoch 122/300\n"
     ]
    },
    {
     "name": "stderr",
     "output_type": "stream",
     "text": [
      "100%|██████████| 155/155 [00:46<00:00,  3.33it/s]\n",
      "100%|██████████| 67/67 [00:20<00:00,  3.20it/s]\n",
      "100%|██████████| 18/18 [00:05<00:00,  3.38it/s]\n"
     ]
    },
    {
     "name": "stdout",
     "output_type": "stream",
     "text": [
      "Train loss: 0.14992178044011517\n",
      "Train consistency loss: 0.004233806178585362\n",
      "Validation loss: 0.31023215254147846\n",
      "1m 13s\n",
      "Early Stopping Counter = 1\n",
      "Epoch 123/300\n"
     ]
    },
    {
     "name": "stderr",
     "output_type": "stream",
     "text": [
      "100%|██████████| 155/155 [00:46<00:00,  3.35it/s]\n",
      "100%|██████████| 67/67 [00:21<00:00,  3.18it/s]\n",
      "100%|██████████| 18/18 [00:05<00:00,  3.15it/s]\n"
     ]
    },
    {
     "name": "stdout",
     "output_type": "stream",
     "text": [
      "Train loss: 0.14997512279979644\n",
      "Train consistency loss: 0.0043765752604092234\n",
      "Validation loss: 0.291756031413873\n",
      "1m 13s\n",
      "Early Stopping Counter = 2\n",
      "Epoch 124/300\n"
     ]
    },
    {
     "name": "stderr",
     "output_type": "stream",
     "text": [
      "100%|██████████| 155/155 [00:46<00:00,  3.36it/s]\n",
      "100%|██████████| 67/67 [00:20<00:00,  3.22it/s]\n",
      "100%|██████████| 18/18 [00:05<00:00,  3.30it/s]\n"
     ]
    },
    {
     "name": "stdout",
     "output_type": "stream",
     "text": [
      "Train loss: 0.14962171739147556\n",
      "Train consistency loss: 0.00427085975073834\n",
      "Validation loss: 0.30760691811641055\n",
      "1m 12s\n",
      "Early Stopping Counter = 3\n",
      "Epoch 125/300\n"
     ]
    },
    {
     "name": "stderr",
     "output_type": "stream",
     "text": [
      "100%|██████████| 155/155 [00:46<00:00,  3.36it/s]\n",
      "100%|██████████| 67/67 [00:21<00:00,  3.19it/s]\n",
      "100%|██████████| 18/18 [00:05<00:00,  3.26it/s]\n"
     ]
    },
    {
     "name": "stdout",
     "output_type": "stream",
     "text": [
      "Train loss: 0.15024546404038705\n",
      "Train consistency loss: 0.00452258519188904\n",
      "Validation loss: 0.32172832058535683\n",
      "1m 13s\n",
      "Early Stopping Counter = 4\n",
      "Epoch 126/300\n"
     ]
    },
    {
     "name": "stderr",
     "output_type": "stream",
     "text": [
      "100%|██████████| 155/155 [00:46<00:00,  3.36it/s]\n",
      "100%|██████████| 67/67 [00:21<00:00,  3.18it/s]\n",
      "100%|██████████| 18/18 [00:05<00:00,  3.33it/s]\n"
     ]
    },
    {
     "name": "stdout",
     "output_type": "stream",
     "text": [
      "Train loss: 0.14886940270662308\n",
      "Train consistency loss: 0.004018566989923702\n",
      "Validation loss: 0.3178553688857291\n",
      "1m 13s\n",
      "Early Stopping Counter = 5\n",
      "Epoch 127/300\n"
     ]
    },
    {
     "name": "stderr",
     "output_type": "stream",
     "text": [
      "100%|██████████| 155/155 [00:46<00:00,  3.33it/s]\n",
      "100%|██████████| 67/67 [00:21<00:00,  3.19it/s]\n",
      "100%|██████████| 18/18 [00:05<00:00,  3.25it/s]\n"
     ]
    },
    {
     "name": "stdout",
     "output_type": "stream",
     "text": [
      "Train loss: 0.14866091945478993\n",
      "Train consistency loss: 0.0041747755238980945\n",
      "Validation loss: 0.30533357792430454\n",
      "1m 13s\n",
      "Early Stopping Counter = 6\n",
      "Epoch 128/300\n"
     ]
    },
    {
     "name": "stderr",
     "output_type": "stream",
     "text": [
      "100%|██████████| 155/155 [00:46<00:00,  3.34it/s]\n",
      "100%|██████████| 67/67 [00:20<00:00,  3.22it/s]\n",
      "100%|██████████| 18/18 [00:05<00:00,  3.25it/s]\n"
     ]
    },
    {
     "name": "stdout",
     "output_type": "stream",
     "text": [
      "Train loss: 0.1495863784705439\n",
      "Train consistency loss: 0.007974359425785603\n",
      "Validation loss: 0.30961236274904674\n",
      "1m 13s\n",
      "Early Stopping Counter = 7\n",
      "Epoch 129/300\n"
     ]
    },
    {
     "name": "stderr",
     "output_type": "stream",
     "text": [
      "100%|██████████| 155/155 [00:46<00:00,  3.35it/s]\n",
      "100%|██████████| 67/67 [00:21<00:00,  3.18it/s]\n",
      "100%|██████████| 18/18 [00:05<00:00,  3.14it/s]\n"
     ]
    },
    {
     "name": "stdout",
     "output_type": "stream",
     "text": [
      "Train loss: 0.15105597328755163\n",
      "Train consistency loss: 0.004268818812917417\n",
      "Validation loss: 0.2896285591026147\n",
      "1m 13s\n",
      "Early Stopping Counter = 8\n",
      "Epoch 130/300\n"
     ]
    },
    {
     "name": "stderr",
     "output_type": "stream",
     "text": [
      "100%|██████████| 155/155 [00:46<00:00,  3.36it/s]\n",
      "100%|██████████| 67/67 [00:20<00:00,  3.19it/s]\n",
      "100%|██████████| 18/18 [00:05<00:00,  3.30it/s]\n"
     ]
    },
    {
     "name": "stdout",
     "output_type": "stream",
     "text": [
      "Train loss: 0.1466157664214411\n",
      "Train consistency loss: 0.004089509237752254\n",
      "Validation loss: 0.3040514720810784\n",
      "1m 13s\n",
      "Early Stopping Counter = 9\n",
      "Epoch 131/300\n"
     ]
    },
    {
     "name": "stderr",
     "output_type": "stream",
     "text": [
      "100%|██████████| 155/155 [00:46<00:00,  3.34it/s]\n",
      "100%|██████████| 67/67 [00:20<00:00,  3.19it/s]\n",
      "100%|██████████| 18/18 [00:05<00:00,  3.33it/s]\n"
     ]
    },
    {
     "name": "stdout",
     "output_type": "stream",
     "text": [
      "Train loss: 0.14649400677411786\n",
      "Train consistency loss: 0.003978935586385873\n",
      "Validation loss: 0.2987790846576293\n",
      "1m 13s\n",
      "Early Stopping Counter = 10\n",
      "Epoch 132/300\n"
     ]
    },
    {
     "name": "stderr",
     "output_type": "stream",
     "text": [
      "100%|██████████| 155/155 [00:46<00:00,  3.34it/s]\n",
      "100%|██████████| 67/67 [00:20<00:00,  3.20it/s]\n",
      "100%|██████████| 18/18 [00:05<00:00,  3.23it/s]\n"
     ]
    },
    {
     "name": "stdout",
     "output_type": "stream",
     "text": [
      "Train loss: 0.14576244421543613\n",
      "Train consistency loss: 0.0038823871595312412\n",
      "Validation loss: 0.29727587662637234\n",
      "1m 13s\n",
      "Early Stopping Counter = 11\n",
      "Epoch 133/300\n"
     ]
    },
    {
     "name": "stderr",
     "output_type": "stream",
     "text": [
      "100%|██████████| 155/155 [00:46<00:00,  3.36it/s]\n",
      "100%|██████████| 67/67 [00:20<00:00,  3.21it/s]\n",
      "100%|██████████| 18/18 [00:05<00:00,  3.35it/s]\n"
     ]
    },
    {
     "name": "stdout",
     "output_type": "stream",
     "text": [
      "Train loss: 0.14574340375200395\n",
      "Train consistency loss: 0.0036137163006603273\n",
      "Validation loss: 0.31072379648685455\n",
      "1m 12s\n",
      "Consistency Loss declined to 0.0036137163006603273\n",
      "Early Stopping Counter = 0\n",
      "Epoch 134/300\n"
     ]
    },
    {
     "name": "stderr",
     "output_type": "stream",
     "text": [
      "100%|██████████| 155/155 [00:46<00:00,  3.35it/s]\n",
      "100%|██████████| 67/67 [00:20<00:00,  3.24it/s]\n",
      "100%|██████████| 18/18 [00:05<00:00,  3.22it/s]\n"
     ]
    },
    {
     "name": "stdout",
     "output_type": "stream",
     "text": [
      "Train loss: 0.14499764721239766\n",
      "Train consistency loss: 0.003439426144112402\n",
      "Validation loss: 0.29669532076352173\n",
      "1m 13s\n",
      "Consistency Loss declined to 0.003439426144112402\n",
      "Early Stopping Counter = 0\n",
      "Epoch 135/300\n"
     ]
    },
    {
     "name": "stderr",
     "output_type": "stream",
     "text": [
      "100%|██████████| 155/155 [00:46<00:00,  3.34it/s]\n",
      "100%|██████████| 67/67 [00:20<00:00,  3.23it/s]\n",
      "100%|██████████| 18/18 [00:05<00:00,  3.23it/s]\n"
     ]
    },
    {
     "name": "stdout",
     "output_type": "stream",
     "text": [
      "Train loss: 0.14475300417792414\n",
      "Train consistency loss: 0.003736829421649784\n",
      "Validation loss: 0.30020361993875766\n",
      "1m 13s\n",
      "Early Stopping Counter = 1\n",
      "Epoch 136/300\n"
     ]
    },
    {
     "name": "stderr",
     "output_type": "stream",
     "text": [
      "100%|██████████| 155/155 [00:46<00:00,  3.37it/s]\n",
      "100%|██████████| 67/67 [00:20<00:00,  3.21it/s]\n",
      "100%|██████████| 18/18 [00:05<00:00,  3.35it/s]\n"
     ]
    },
    {
     "name": "stdout",
     "output_type": "stream",
     "text": [
      "Train loss: 0.14330544212172108\n",
      "Train consistency loss: 0.005024657386647009\n",
      "Validation loss: 0.2898426424298022\n",
      "1m 12s\n",
      "Early Stopping Counter = 2\n",
      "Epoch 137/300\n"
     ]
    },
    {
     "name": "stderr",
     "output_type": "stream",
     "text": [
      "100%|██████████| 155/155 [00:46<00:00,  3.37it/s]\n",
      "100%|██████████| 67/67 [00:20<00:00,  3.24it/s]\n",
      "100%|██████████| 18/18 [00:05<00:00,  3.39it/s]\n"
     ]
    },
    {
     "name": "stdout",
     "output_type": "stream",
     "text": [
      "Train loss: 0.14357713773365943\n",
      "Train consistency loss: 0.0032158709589892357\n",
      "Validation loss: 0.3030501703421275\n",
      "1m 12s\n",
      "Consistency Loss declined to 0.0032158709589892357\n",
      "Early Stopping Counter = 0\n",
      "Epoch 138/300\n"
     ]
    },
    {
     "name": "stderr",
     "output_type": "stream",
     "text": [
      "100%|██████████| 155/155 [00:46<00:00,  3.36it/s]\n",
      "100%|██████████| 67/67 [00:20<00:00,  3.23it/s]\n",
      "100%|██████████| 18/18 [00:05<00:00,  3.35it/s]\n"
     ]
    },
    {
     "name": "stdout",
     "output_type": "stream",
     "text": [
      "Train loss: 0.14390571896106966\n",
      "Train consistency loss: 0.0035397919353598087\n",
      "Validation loss: 0.3109308955156141\n",
      "1m 12s\n",
      "Early Stopping Counter = 1\n",
      "Epoch 139/300\n"
     ]
    },
    {
     "name": "stderr",
     "output_type": "stream",
     "text": [
      "100%|██████████| 155/155 [00:46<00:00,  3.36it/s]\n",
      "100%|██████████| 67/67 [00:20<00:00,  3.19it/s]\n",
      "100%|██████████| 18/18 [00:05<00:00,  3.36it/s]\n"
     ]
    },
    {
     "name": "stdout",
     "output_type": "stream",
     "text": [
      "Train loss: 0.14308269264236573\n",
      "Train consistency loss: 0.003536474642538424\n",
      "Validation loss: 0.29667026756538284\n",
      "1m 12s\n",
      "Early Stopping Counter = 2\n",
      "Epoch 140/300\n"
     ]
    },
    {
     "name": "stderr",
     "output_type": "stream",
     "text": [
      "100%|██████████| 155/155 [00:46<00:00,  3.36it/s]\n",
      "100%|██████████| 67/67 [00:20<00:00,  3.20it/s]\n",
      "100%|██████████| 18/18 [00:05<00:00,  3.25it/s]\n"
     ]
    },
    {
     "name": "stdout",
     "output_type": "stream",
     "text": [
      "Train loss: 0.1427029585646045\n",
      "Train consistency loss: 0.0036808911818705164\n",
      "Validation loss: 0.310157204253806\n",
      "1m 13s\n",
      "Early Stopping Counter = 3\n",
      "Epoch 141/300\n"
     ]
    },
    {
     "name": "stderr",
     "output_type": "stream",
     "text": [
      "100%|██████████| 155/155 [00:46<00:00,  3.35it/s]\n",
      "100%|██████████| 67/67 [00:20<00:00,  3.21it/s]\n",
      "100%|██████████| 18/18 [00:05<00:00,  3.35it/s]\n"
     ]
    },
    {
     "name": "stdout",
     "output_type": "stream",
     "text": [
      "Train loss: 0.14219848028113766\n",
      "Train consistency loss: 0.0034408239654696257\n",
      "Validation loss: 0.29886075150635505\n",
      "1m 13s\n",
      "Early Stopping Counter = 4\n",
      "Epoch 142/300\n"
     ]
    },
    {
     "name": "stderr",
     "output_type": "stream",
     "text": [
      " 68%|██████▊   | 106/155 [00:32<00:15,  3.24it/s]\n"
     ]
    },
    {
     "ename": "KeyboardInterrupt",
     "evalue": "",
     "output_type": "error",
     "traceback": [
      "\u001b[0;31m---------------------------------------------------------------------------\u001b[0m",
      "\u001b[0;31mKeyboardInterrupt\u001b[0m                         Traceback (most recent call last)",
      "\u001b[1;32m/home/ubuntu/domain-adaptation-for-crack-segmentation/main.ipynb Cell 3\u001b[0m line \u001b[0;36m1\n\u001b[1;32m     <a href='vscode-notebook-cell://ssh-remote%2Bkikuta_server/home/ubuntu/domain-adaptation-for-crack-segmentation/main.ipynb#W2sdnNjb2RlLXJlbW90ZQ%3D%3D?line=14'>15</a>\u001b[0m     \u001b[39mpass\u001b[39;00m\n\u001b[1;32m     <a href='vscode-notebook-cell://ssh-remote%2Bkikuta_server/home/ubuntu/domain-adaptation-for-crack-segmentation/main.ipynb#W2sdnNjb2RlLXJlbW90ZQ%3D%3D?line=15'>16</a>\u001b[0m \u001b[39melse\u001b[39;00m:\n\u001b[0;32m---> <a href='vscode-notebook-cell://ssh-remote%2Bkikuta_server/home/ubuntu/domain-adaptation-for-crack-segmentation/main.ipynb#W2sdnNjb2RlLXJlbW90ZQ%3D%3D?line=16'>17</a>\u001b[0m     train(former_folname\u001b[39m=\u001b[39;49mfolnames[i\u001b[39m-\u001b[39;49m\u001b[39m1\u001b[39;49m], folname\u001b[39m=\u001b[39;49mfolnames[i], first\u001b[39m=\u001b[39;49m\u001b[39mFalse\u001b[39;49;00m, net\u001b[39m=\u001b[39;49m\u001b[39m\"\u001b[39;49m\u001b[39mdeeplab\u001b[39;49m\u001b[39m\"\u001b[39;49m, epochs\u001b[39m=\u001b[39;49m\u001b[39m300\u001b[39;49m, batch_size\u001b[39m=\u001b[39;49m\u001b[39m64\u001b[39;49m, alpha\u001b[39m=\u001b[39;49m\u001b[39m10000\u001b[39;49m)\n\u001b[1;32m     <a href='vscode-notebook-cell://ssh-remote%2Bkikuta_server/home/ubuntu/domain-adaptation-for-crack-segmentation/main.ipynb#W2sdnNjb2RlLXJlbW90ZQ%3D%3D?line=17'>18</a>\u001b[0m     scores \u001b[39m=\u001b[39m inference(former_folname\u001b[39m=\u001b[39mfolnames[i\u001b[39m-\u001b[39m\u001b[39m1\u001b[39m], folname\u001b[39m=\u001b[39mfolnames[i], net\u001b[39m=\u001b[39m\u001b[39m\"\u001b[39m\u001b[39mdeeplab\u001b[39m\u001b[39m\"\u001b[39m, batch_size\u001b[39m=\u001b[39m\u001b[39m64\u001b[39m)\n\u001b[1;32m     <a href='vscode-notebook-cell://ssh-remote%2Bkikuta_server/home/ubuntu/domain-adaptation-for-crack-segmentation/main.ipynb#W2sdnNjb2RlLXJlbW90ZQ%3D%3D?line=18'>19</a>\u001b[0m     write_to_csv(i\u001b[39m+\u001b[39m\u001b[39m1\u001b[39m, scores, csv_filename)\n",
      "File \u001b[0;32m~/domain-adaptation-for-crack-segmentation/train.py:84\u001b[0m, in \u001b[0;36mtrain\u001b[0;34m(former_folname, folname, first, net, batch_size, num_workers, epochs, alpha, beta, crop_size)\u001b[0m\n\u001b[1;32m     82\u001b[0m     loss\u001b[39m.\u001b[39mbackward()\n\u001b[1;32m     83\u001b[0m     optimizer\u001b[39m.\u001b[39mstep()\n\u001b[0;32m---> 84\u001b[0m     running_train_loss\u001b[39m.\u001b[39mappend(loss\u001b[39m.\u001b[39;49mitem())\n\u001b[1;32m     86\u001b[0m \u001b[39mif\u001b[39;00m \u001b[39mnot\u001b[39;00m first:\n\u001b[1;32m     87\u001b[0m     \u001b[39mfor\u001b[39;00m image, mean, var \u001b[39min\u001b[39;00m tqdm(train_unlabeled_dataloader):\n",
      "\u001b[0;31mKeyboardInterrupt\u001b[0m: "
     ]
    }
   ],
   "source": [
    "project = \"231024\"\n",
    "folnames = [project+\"_iter1\", project+\"_iter2\", project+\"_iter3\", project+\"_iter4\", project+\"_iter5\"]\n",
    "os.makedirs('results/'+ project +'_results', exist_ok=True)\n",
    "csv_filename = 'results/'+project+'_results/results.csv'\n",
    "with open(csv_filename, mode='w', newline='') as file:\n",
    "    writer = csv.writer(file)\n",
    "    writer.writerow(['Iteration', 'F1-Score', 'Accuracy', 'Specificity', 'Recall', 'Precision'])\n",
    "\n",
    "for i in range(len(folnames)):\n",
    "    if i==0:\n",
    "        # train(former_folname=\"hoge\", folname=folnames[i], first=True, net=\"deeplab\", epochs=300, batch_size=64)\n",
    "        scores = inference(former_folname=\"hoge\", folname=folnames[i], net=\"deeplab\", batch_size=64)\n",
    "        write_to_csv(i+1, scores, csv_filename)\n",
    "        save_mask(former_folname=\"hoge\", folname=folnames[i], net=\"deeplab\", batch_size=64)\n",
    "        pass\n",
    "    else:\n",
    "        train(former_folname=folnames[i-1], folname=folnames[i], first=False, net=\"deeplab\", epochs=300, batch_size=64, alpha=10000)\n",
    "        scores = inference(former_folname=folnames[i-1], folname=folnames[i], net=\"deeplab\", batch_size=64)\n",
    "        write_to_csv(i+1, scores, csv_filename)\n",
    "        save_mask(former_folname=folnames[i-1], folname=folnames[i], net=\"deeplab\", batch_size=64)"
   ]
  },
  {
   "cell_type": "code",
   "execution_count": null,
   "metadata": {},
   "outputs": [],
   "source": []
  },
  {
   "cell_type": "code",
   "execution_count": 6,
   "metadata": {},
   "outputs": [
    {
     "name": "stdout",
     "output_type": "stream",
     "text": [
      "4292\n",
      "4292\n"
     ]
    }
   ],
   "source": [
    "meanlst = os.listdir(\"data/unlabeled_mask/231021_iter1/pred_mean_corrected/\")\n",
    "varlst = os.listdir(\"data/unlabeled_mask/231021_iter1/pred_var/\")\n",
    "print(len(meanlst))\n",
    "print(len(varlst))"
   ]
  },
  {
   "cell_type": "code",
   "execution_count": 3,
   "metadata": {},
   "outputs": [],
   "source": [
    "import numpy as np\n",
    "from PIL import Image\n",
    "meanlst = os.listdir(\"data/unlabeled_mask/231021_iter1/pred_mean_corrected/\")\n",
    "varlst = os.listdir(\"data/unlabeled_mask/231021_iter1/pred_var/\")\n",
    "\n",
    "# # 各画像を処理\n",
    "for file_name in meanlst:\n",
    "    file_path = os.path.join(\"data/unlabeled_mask/231021_iter1/pred_mean_corrected\", file_name)\n",
    "    \n",
    "    # 画像をnumpy配列に読み込む\n",
    "    img = np.array(Image.open(file_path))\n",
    "    \n",
    "    # 画像サイズが256x256でない場合、警告を表示\n",
    "    if img.shape != (256, 256):\n",
    "        print(f\"異なるサイズの画像: {file_name}, サイズ: {img.shape}\")"
   ]
  },
  {
   "cell_type": "code",
   "execution_count": 4,
   "metadata": {},
   "outputs": [],
   "source": [
    "import os\n",
    "import torch\n",
    "\n",
    "# フォルダのパス\n",
    "folder_path = \"data/unlabeled_mask/231021_iter1/pred_var/\"\n",
    "\n",
    "# フォルダ内の全ての.ptファイルをリストアップ\n",
    "pt_files = [f for f in os.listdir(folder_path) if f.endswith(\".pt\")]\n",
    "\n",
    "# 各ファイルを処理\n",
    "for file_name in pt_files:\n",
    "    file_path = os.path.join(folder_path, file_name)\n",
    "    \n",
    "    # PyTorch tensorを読み込む\n",
    "    tensor = torch.load(file_path)\n",
    "    \n",
    "    # 配列サイズが(256, 256)でない場合、警告を表示\n",
    "    if tensor.size() != torch.Size([256, 256]):\n",
    "        print(f\"異なるサイズのPyTorch tensor: {file_name}, サイズ: {tensor.size()}\")\n"
   ]
  },
  {
   "cell_type": "code",
   "execution_count": 5,
   "metadata": {},
   "outputs": [
    {
     "name": "stdout",
     "output_type": "stream",
     "text": [
      "0.00019613194298671443\n",
      "0.05264750664102345\n"
     ]
    }
   ],
   "source": [
    "import torch\n",
    "import glob\n",
    "\n",
    "fol_name = \"231021_iter1\"\n",
    "\n",
    "# pred_varを全て読み込み、torch.meanとtorch.maxの平均を計算する\n",
    "pred_var_path = sorted(glob.glob(f'data/unlabeled_mask/{fol_name}/pred_var/*'))\n",
    "mean_box = []\n",
    "max_box = []\n",
    "\n",
    "for file in pred_var_path:\n",
    "    pred_var = torch.load(file)\n",
    "    mean_box.append(torch.mean(pred_var).item())\n",
    "    max_box.append(torch.max(pred_var).item())\n",
    "\n",
    "print(sum(mean_box)/len(mean_box))\n",
    "print(sum(max_box)/len(max_box))"
   ]
  },
  {
   "cell_type": "code",
   "execution_count": null,
   "metadata": {},
   "outputs": [],
   "source": []
  }
 ],
 "metadata": {
  "kernelspec": {
   "display_name": "env",
   "language": "python",
   "name": "python3"
  },
  "language_info": {
   "codemirror_mode": {
    "name": "ipython",
    "version": 3
   },
   "file_extension": ".py",
   "mimetype": "text/x-python",
   "name": "python",
   "nbconvert_exporter": "python",
   "pygments_lexer": "ipython3",
   "version": "3.10.9"
  }
 },
 "nbformat": 4,
 "nbformat_minor": 2
}
