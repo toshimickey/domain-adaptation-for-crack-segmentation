{
 "cells": [
  {
   "cell_type": "code",
   "execution_count": null,
   "metadata": {},
   "outputs": [],
   "source": [
    "import csv, os, glob, torch, time\n",
    "from tqdm import tqdm\n",
    "from utils.module import write_to_csv\n",
    "from utils.autoencoder import VAE, vae_loss\n",
    "from dataloader.dataset import UnlabeledDataset2, UnlabeledTransform2\n",
    "import torch.utils.data as data\n",
    "from utils.module import EarlyStopping\n",
    "import matplotlib.pyplot as plt\n",
    "from torchvision import transforms\n",
    "from PIL import Image"
   ]
  },
  {
   "cell_type": "code",
   "execution_count": null,
   "metadata": {},
   "outputs": [],
   "source": [
    "from MulticoreTSNE import MulticoreTSNE as TSNE\n",
    "import cv2, random\n",
    "import numpy as np\n",
    "\n",
    "source_files = sorted(glob.glob('data/Train/images/[!Rissbilder]*'))\n",
    "print(len(source_files))\n",
    "target_files = sorted(glob.glob('data/Train/images/Rissbilder*'))\n",
    "print(len(target_files))\n",
    "\n",
    "img_file_path = source_files+target_files\n",
    "\n",
    "tsne = TSNE(n_jobs=2, perplexity=20) \n",
    "imgs = np.concatenate([cv2.resize(cv2.imread(p),(256,256)).flatten().reshape(1,-1) for p in img_file_path], axis=0)\n",
    "imgs_reduced = tsne.fit_transform(imgs)\n",
    "\n",
    "print(imgs_reduced.shape)"
   ]
  }
 ],
 "metadata": {
  "kernelspec": {
   "display_name": "env",
   "language": "python",
   "name": "python3"
  },
  "language_info": {
   "name": "python",
   "version": "3.9.10"
  }
 },
 "nbformat": 4,
 "nbformat_minor": 2
}
