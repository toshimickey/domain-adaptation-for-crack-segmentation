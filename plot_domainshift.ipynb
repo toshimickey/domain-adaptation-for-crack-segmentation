{
 "cells": [
  {
   "cell_type": "code",
   "execution_count": null,
   "metadata": {},
   "outputs": [],
   "source": [
    "import csv, os, glob, torch, time\n",
    "from tqdm import tqdm\n",
    "from utils.module import write_to_csv\n",
    "from utils.autoencoder import VAE, vae_loss\n",
    "from dataloader.dataset import UnlabeledDataset2, UnlabeledTransform2\n",
    "import torch.utils.data as data\n",
    "from utils.module import EarlyStopping"
   ]
  },
  {
   "cell_type": "code",
   "execution_count": null,
   "metadata": {},
   "outputs": [],
   "source": [
    "!nvidia-smi"
   ]
  },
  {
   "cell_type": "code",
   "execution_count": null,
   "metadata": {},
   "outputs": [],
   "source": [
    "img_file_path = sorted(glob.glob('data/Train/images/*'))\n",
    "img_file_path2 = sorted(glob.glob('data/original_split_resized/*'))\n",
    "img_list = img_file_path + img_file_path2\n",
    "\n",
    "train_dataset = UnlabeledDataset2(\n",
    "    img_list, transform=UnlabeledTransform2(crop_size=32))\n",
    "train_dataloader = data.DataLoader(\n",
    "    train_dataset, batch_size=256, shuffle=True, num_workers=2, pin_memory=True, drop_last=True)"
   ]
  },
  {
   "cell_type": "code",
   "execution_count": null,
   "metadata": {},
   "outputs": [],
   "source": [
    "# VAEモデルのインスタンス化\n",
    "model = VAE(latent_dim=2)\n",
    "model = torch.nn.DataParallel(model, device_ids=[0, 1, 2, 3])\n",
    "device = torch.device('cuda' if torch.cuda.is_available() else 'cpu')\n",
    "model = model.to(device)\n",
    "\n",
    "# オプティマイザを定義\n",
    "optimizer = torch.optim.Adam(model.parameters(), lr=0.001)\n",
    "\n",
    "# Epochs\n",
    "num_epochs = 1000"
   ]
  },
  {
   "cell_type": "code",
   "execution_count": null,
   "metadata": {},
   "outputs": [],
   "source": [
    "project = 'vae2'\n",
    "earlystopping = EarlyStopping(patience=50)\n",
    "os.makedirs('weights/'+ project, exist_ok=True)\n",
    "model.load_state_dict(torch.load('weights/vae2/best.pth'))\n",
    "model = model.to(device)\n",
    "\n",
    "for epoch in range(num_epochs):\n",
    "    start_time = time.time()\n",
    "    model.train()  # モデルをトレーニングモードに設定\n",
    "    running_loss = 0.0\n",
    "\n",
    "    for inputs in tqdm(train_dataloader):\n",
    "        inputs = inputs.to(device)\n",
    "        optimizer.zero_grad()  # 勾配をゼロに初期化\n",
    "        outputs, mu, logvar, z = model(inputs)  # フォワードパス\n",
    "        loss = vae_loss(outputs, inputs, mu, logvar)  # 損失を計算\n",
    "        loss.backward()  # 逆伝播\n",
    "        optimizer.step()  # パラメータを更新\n",
    "        running_loss += loss.item()\n",
    "    \n",
    "    epoch_train_loss = running_loss / len(train_dataloader)\n",
    "    print(f\"Epoch {epoch + 1}, Loss: {epoch_train_loss}\")\n",
    "\n",
    "    time_elapsed = time.time() - start_time\n",
    "    print('{:.0f}m {:.0f}s'.format(time_elapsed // 60, time_elapsed % 60))\n",
    "\n",
    "    with torch.no_grad():\n",
    "        # Early Stopping\n",
    "        earlystopping(epoch_train_loss)\n",
    "\n",
    "        if earlystopping.early_stop:\n",
    "            print(\"Early stopping\")\n",
    "            break\n",
    "        if earlystopping.counter == 0:\n",
    "            # download to CPU\n",
    "            torch.save(model.to('cpu').state_dict(), 'weights/'+ project + '/best.pth')\n",
    "            # upload to GPU\n",
    "            model = model.to(device)\n",
    "\n",
    "        print(f'Early Stopping Counter = {earlystopping.counter}')\n",
    "\n",
    "torch.save(model.to('cpu').state_dict(), 'weights/'+ project + '/last.pth')"
   ]
  },
  {
   "cell_type": "code",
   "execution_count": null,
   "metadata": {},
   "outputs": [],
   "source": [
    "# データセットごとに、modelから潜在変数を出力して二次元空間にプロットする\n",
    "y, mu, logvar, z = model.forward(x)"
   ]
  }
 ],
 "metadata": {
  "kernelspec": {
   "display_name": "env",
   "language": "python",
   "name": "python3"
  },
  "language_info": {
   "codemirror_mode": {
    "name": "ipython",
    "version": 3
   },
   "file_extension": ".py",
   "mimetype": "text/x-python",
   "name": "python",
   "nbconvert_exporter": "python",
   "pygments_lexer": "ipython3",
   "version": "3.10.9"
  }
 },
 "nbformat": 4,
 "nbformat_minor": 2
}
