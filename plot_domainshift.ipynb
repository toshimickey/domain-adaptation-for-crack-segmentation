{
 "cells": [
  {
   "cell_type": "code",
   "execution_count": 1,
   "metadata": {},
   "outputs": [],
   "source": [
    "import csv, os, glob, torch, time\n",
    "from tqdm import tqdm\n",
    "from utils.module import write_to_csv\n",
    "from utils.autoencoder import VAE, vae_loss\n",
    "from dataloader.dataset import UnlabeledDataset2, UnlabeledTransform2\n",
    "import torch.utils.data as data\n",
    "from utils.module import EarlyStopping\n",
    "import matplotlib.pyplot as plt\n",
    "from torchvision import transforms\n",
    "from PIL import Image"
   ]
  },
  {
   "cell_type": "code",
   "execution_count": 2,
   "metadata": {},
   "outputs": [
    {
     "name": "stdout",
     "output_type": "stream",
     "text": [
      "Thu Nov  2 01:17:30 2023       \n",
      "+---------------------------------------------------------------------------------------+\n",
      "| NVIDIA-SMI 535.54.03              Driver Version: 535.54.03    CUDA Version: 12.2     |\n",
      "|-----------------------------------------+----------------------+----------------------+\n",
      "| GPU  Name                 Persistence-M | Bus-Id        Disp.A | Volatile Uncorr. ECC |\n",
      "| Fan  Temp   Perf          Pwr:Usage/Cap |         Memory-Usage | GPU-Util  Compute M. |\n",
      "|                                         |                      |               MIG M. |\n",
      "|=========================================+======================+======================|\n",
      "|   0  Tesla M60                      On  | 00000000:00:1B.0 Off |                    0 |\n",
      "| N/A   33C    P8              14W / 150W |      0MiB /  7680MiB |      0%      Default |\n",
      "|                                         |                      |                  N/A |\n",
      "+-----------------------------------------+----------------------+----------------------+\n",
      "|   1  Tesla M60                      On  | 00000000:00:1C.0 Off |                    0 |\n",
      "| N/A   29C    P8              14W / 150W |      0MiB /  7680MiB |      0%      Default |\n",
      "|                                         |                      |                  N/A |\n",
      "+-----------------------------------------+----------------------+----------------------+\n",
      "|   2  Tesla M60                      On  | 00000000:00:1D.0 Off |                    0 |\n",
      "| N/A   33C    P8              13W / 150W |      0MiB /  7680MiB |      0%      Default |\n",
      "|                                         |                      |                  N/A |\n",
      "+-----------------------------------------+----------------------+----------------------+\n",
      "|   3  Tesla M60                      On  | 00000000:00:1E.0 Off |                    0 |\n",
      "| N/A   28C    P8              13W / 150W |      0MiB /  7680MiB |      0%      Default |\n",
      "|                                         |                      |                  N/A |\n",
      "+-----------------------------------------+----------------------+----------------------+\n",
      "                                                                                         \n",
      "+---------------------------------------------------------------------------------------+\n",
      "| Processes:                                                                            |\n",
      "|  GPU   GI   CI        PID   Type   Process name                            GPU Memory |\n",
      "|        ID   ID                                                             Usage      |\n",
      "|=======================================================================================|\n",
      "|  No running processes found                                                           |\n",
      "+---------------------------------------------------------------------------------------+\n"
     ]
    }
   ],
   "source": [
    "!nvidia-smi"
   ]
  },
  {
   "cell_type": "code",
   "execution_count": 3,
   "metadata": {},
   "outputs": [],
   "source": [
    "img_file_path = sorted(glob.glob('data/Train/images/*'))\n",
    "img_file_path2 = sorted(glob.glob('data/original_split_resized/*'))\n",
    "img_list = img_file_path + img_file_path2\n",
    "\n",
    "train_dataset = UnlabeledDataset2(\n",
    "    img_list, transform=UnlabeledTransform2(crop_size=32))\n",
    "train_dataloader = data.DataLoader(\n",
    "    train_dataset, batch_size=256, shuffle=True, num_workers=2, pin_memory=True, drop_last=True)"
   ]
  },
  {
   "cell_type": "code",
   "execution_count": 4,
   "metadata": {},
   "outputs": [
    {
     "data": {
      "image/png": "[encoded data removed]",
      "text/plain": [
       "<Figure size 640x480 with 1 Axes>"
      ]
     },
     "metadata": {},
     "output_type": "display_data"
    }
   ],
   "source": [
    "# train_dataloaderから次のバッチを取得\n",
    "data_iterator = iter(train_dataloader)\n",
    "imgs = next(data_iterator)\n",
    "\n",
    "# バッチ内の最初の画像を取得\n",
    "single_image = imgs[0]\n",
    "\n",
    "# 画像をNumPy配列に変換\n",
    "single_image = single_image.numpy()\n",
    "\n",
    "# 画像をMatplotlibで表示\n",
    "plt.imshow(single_image.transpose(1, 2, 0))  # チャンネルの次元を最後に移動\n",
    "plt.show()\n"
   ]
  },
  {
   "cell_type": "code",
   "execution_count": 5,
   "metadata": {},
   "outputs": [],
   "source": [
    "# VAEモデルのインスタンス化\n",
    "model = VAE(latent_dim=2)\n",
    "model = torch.nn.DataParallel(model, device_ids=[0, 1, 2, 3])\n",
    "device = torch.device('cuda' if torch.cuda.is_available() else 'cpu')\n",
    "model = model.to(device)\n",
    "\n",
    "# オプティマイザを定義\n",
    "optimizer = torch.optim.Adam(model.parameters(), lr=0.001)\n",
    "\n",
    "# Epochs\n",
    "num_epochs = 1000"
   ]
  },
  {
   "cell_type": "code",
   "execution_count": null,
   "metadata": {},
   "outputs": [],
   "source": [
    "project = 'vae2'\n",
    "earlystopping = EarlyStopping(patience=50)\n",
    "os.makedirs('weights/'+ project, exist_ok=True)\n",
    "model.load_state_dict(torch.load('weights/vae2/best.pth'))\n",
    "model = model.to(device)\n",
    "\n",
    "for epoch in range(num_epochs):\n",
    "    start_time = time.time()\n",
    "    model.train()  # モデルをトレーニングモードに設定\n",
    "    running_loss = 0.0\n",
    "\n",
    "    for inputs in tqdm(train_dataloader):\n",
    "        inputs = inputs.to(device)\n",
    "        optimizer.zero_grad()  # 勾配をゼロに初期化\n",
    "        outputs, mu, logvar, z = model(inputs)  # フォワードパス\n",
    "        loss = vae_loss(outputs, inputs, mu, logvar)  # 損失を計算\n",
    "        loss.backward()  # 逆伝播\n",
    "        optimizer.step()  # パラメータを更新\n",
    "        running_loss += loss.item()\n",
    "    \n",
    "    epoch_train_loss = running_loss / len(train_dataloader)\n",
    "    print(f\"Epoch {epoch + 1}, Loss: {epoch_train_loss}\")\n",
    "\n",
    "    time_elapsed = time.time() - start_time\n",
    "    print('{:.0f}m {:.0f}s'.format(time_elapsed // 60, time_elapsed % 60))\n",
    "\n",
    "    with torch.no_grad():\n",
    "        # Early Stopping\n",
    "        earlystopping(epoch_train_loss)\n",
    "\n",
    "        if earlystopping.early_stop:\n",
    "            print(\"Early stopping\")\n",
    "            break\n",
    "        if earlystopping.counter == 0:\n",
    "            # download to CPU\n",
    "            torch.save(model.to('cpu').state_dict(), 'weights/'+ project + '/best.pth')\n",
    "            # upload to GPU\n",
    "            model = model.to(device)\n",
    "\n",
    "        print(f'Early Stopping Counter = {earlystopping.counter}')\n",
    "\n",
    "torch.save(model.to('cpu').state_dict(), 'weights/'+ project + '/last.pth')"
   ]
  },
  {
   "cell_type": "code",
   "execution_count": 6,
   "metadata": {},
   "outputs": [],
   "source": [
    "def encode(img_path, model):\n",
    "    image = Image.open(img_path)\n",
    "\n",
    "    # 画像を指定された形状にリサイズ\n",
    "    transform = transforms.Compose([\n",
    "        transforms.Resize((32, 32)),\n",
    "        transforms.ToTensor()  # Tensorに変換\n",
    "    ])\n",
    "    image = transform(image)\n",
    "\n",
    "    # バッチ次元を追加\n",
    "    image = image.unsqueeze(0)\n",
    "    \n",
    "    output, _, _, z = model(image)\n",
    "    \n",
    "    return image, output, z"
   ]
  },
  {
   "cell_type": "code",
   "execution_count": 16,
   "metadata": {},
   "outputs": [
    {
     "name": "stdout",
     "output_type": "stream",
     "text": [
      "tensor([[-2.2845, -0.8192]])\n"
     ]
    },
    {
     "data": {
      "image/png": "[encoded data removed]",
      "text/plain": [
       "<Figure size 1000x500 with 2 Axes>"
      ]
     },
     "metadata": {},
     "output_type": "display_data"
    }
   ],
   "source": [
    "model = VAE(latent_dim=2)\n",
    "model = torch.nn.DataParallel(model, device_ids=[0, 1, 2, 3])\n",
    "device = torch.device('cuda' if torch.cuda.is_available() else 'cpu')\n",
    "model.load_state_dict(torch.load('weights/vae2/best.pth'))\n",
    "model = model.to(device)\n",
    "\n",
    "img_path = \"data/Train/images/Rissbilder_for_Florian_9S6A3136_91_118_3330_3239.jpg\"\n",
    "image, output, z = encode(img_path, model)\n",
    "output = output.cpu().detach()\n",
    "print(z.cpu().detach())\n",
    "\n",
    "# 1行2列のサブプロットを作成\n",
    "fig, axes = plt.subplots(1, 2, figsize=(10, 5))\n",
    "\n",
    "# imageを表示\n",
    "image = image.squeeze(0).numpy().transpose(1, 2, 0)  # バッチ次元を削除し、チャンネルの次元を最後に移動\n",
    "axes[0].imshow(image)\n",
    "axes[0].set_title(\"Image\")\n",
    "axes[0].axis('off')\n",
    "\n",
    "# outputを表示\n",
    "output = output.squeeze(0).numpy().transpose(1, 2, 0)  # バッチ次元を削除し、チャンネルの次元を最後に移動\n",
    "axes[1].imshow(output)\n",
    "axes[1].set_title(\"Output\")\n",
    "axes[1].axis('off')\n",
    "\n",
    "plt.show()"
   ]
  },
  {
   "cell_type": "code",
   "execution_count": null,
   "metadata": {},
   "outputs": [],
   "source": []
  },
  {
   "cell_type": "code",
   "execution_count": null,
   "metadata": {},
   "outputs": [],
   "source": [
    "# データセットごとに、modelから潜在変数を出力して二次元空間にプロットする\n",
    "y, mu, logvar, z = model.forward(x)"
   ]
  }
 ],
 "metadata": {
  "kernelspec": {
   "display_name": "env",
   "language": "python",
   "name": "python3"
  },
  "language_info": {
   "codemirror_mode": {
    "name": "ipython",
    "version": 3
   },
   "file_extension": ".py",
   "mimetype": "text/x-python",
   "name": "python",
   "nbconvert_exporter": "python",
   "pygments_lexer": "ipython3",
   "version": "3.10.9"
  }
 },
 "nbformat": 4,
 "nbformat_minor": 2
}
